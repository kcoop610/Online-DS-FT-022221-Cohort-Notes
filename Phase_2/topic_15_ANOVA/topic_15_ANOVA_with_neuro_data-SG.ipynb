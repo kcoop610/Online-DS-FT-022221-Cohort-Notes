{
 "cells": [
  {
   "cell_type": "markdown",
   "metadata": {
    "colab_type": "text",
    "id": "ZM6DyjYckZl2"
   },
   "source": [
    "# Topic 15: ANOVAs & Statistical Power with  Neuro Data "
   ]
  },
  {
   "cell_type": "markdown",
   "metadata": {
    "colab_type": "text",
    "id": "ZM6DyjYckZl2"
   },
   "source": [
    "- 04/01/21\n",
    "- online-ds-ft-022221"
   ]
  },
  {
   "cell_type": "markdown",
   "metadata": {},
   "source": [
    "## Learning Objectives"
   ]
  },
  {
   "cell_type": "markdown",
   "metadata": {},
   "source": [
    "- Revisit hypothesis testing using my neuroscience research data.\n",
    "- Learn about ANOVAs\n",
    "- Discuss the multiple comparison problem.\n",
    "- Discuss the multiple comparison problem and Tukey's test"
   ]
  },
  {
   "cell_type": "markdown",
   "metadata": {},
   "source": [
    "### NOTES"
   ]
  },
  {
   "cell_type": "markdown",
   "metadata": {},
   "source": [
    "- This notebook is intended to walk through preparing my binge drinking data for Hypothesis Testing\n",
    "- Specifically, in this notebook I will attempt to use the most appropriate stat tests, which are not taught in the Learn curriculum\n",
    "    -  **Two way RM ANOVA**\n",
    "    - **Repeated Measures ANOVA in Python**\n"
   ]
  },
  {
   "cell_type": "markdown",
   "metadata": {},
   "source": [
    "# REFERENCES\n"
   ]
  },
  {
   "cell_type": "markdown",
   "metadata": {},
   "source": [
    "- Hypothesis Testing Workflow:\n",
    "    - https://github.com/jirvingphd/hypothesis_testing_workflow_python"
   ]
  },
  {
   "cell_type": "markdown",
   "metadata": {},
   "source": [
    "- **Two-Way and RM ANOVA Resources**\n",
    "    - [RM ANOVA IN Python with Statsmodels](https://www.marsja.se/repeated-measures-anova-in-python-using-statsmodels/)\n",
    "    - One-way RM ANOVA (other packages): https://www.marsja.se/repeated-measures-anova-using-python/\n",
    "    - Two-Way: https://marsja.se/two-way-anova-repeated-measures-using-python/\n"
   ]
  },
  {
   "cell_type": "markdown",
   "metadata": {},
   "source": [
    "## HYPOTHESIS TESTING STEPS"
   ]
  },
  {
   "cell_type": "markdown",
   "metadata": {},
   "source": [
    "- Separate data in group vars.\n",
    "- Visualize data and calculate group n (size)\n",
    "\n",
    "    \n",
    "* Select the appropriate test based on type of comparison being made, the number of groups, the type of data.\n",
    "\n",
    "\n",
    "- For t-tests: test for the assumptions of normality and homogeneity of variance.\n",
    "\n",
    "    1. Check if sample sizes allow us to ignore assumptions, and if not:\n",
    "    2. **Test Assumption Normality**\n",
    "\n",
    "    3. **Test for Homogeneity of Variance**\n",
    "\n",
    "    4. **Choose appropriate test based upon the above** \n",
    "    \n",
    "    \n",
    "* **Perform chosen statistical test, calculate effect size, and any post-hoc tests.**\n",
    "    - To perform post-hoc pairwise comparison testing\n",
    "    - Effect size calculation\n",
    "        - Cohen's d"
   ]
  },
  {
   "cell_type": "markdown",
   "metadata": {},
   "source": [
    "## Statistical Tests Summary Table"
   ]
  },
  {
   "cell_type": "markdown",
   "metadata": {},
   "source": [
    "\n",
    "\n",
    "| Parametric tests (means) | Function | Nonparametric tests (medians) | Function |\n",
    " | --- | --- | --- | --- |\n",
    " | 1-sample t test |`scipy.stats.ttest_1samp()`|  1-sample Wilcoxon |`scipy.stats.wilcoxon`|\n",
    " | 2-sample t test |`scipy.stats.ttest_ind()` | Mann-Whitney U test |`scipy.stats.mannwhitneyu()` |\n",
    " | One-Way ANOVA | `scipy.stats.f_oneway()` | Kruskal-Wallis | `scipy.stats.kruskal` | \n",
    " \n",
    " \n",
    " | Factorial DOE with one factor and one blocking variable |Friedman test  |\n"
   ]
  },
  {
   "cell_type": "markdown",
   "metadata": {
    "ExecuteTime": {
     "end_time": "2020-01-21T22:34:50.811862Z",
     "start_time": "2020-01-21T22:34:50.809738Z"
    }
   },
   "source": [
    "# Real-World Science / Experimental Design"
   ]
  },
  {
   "cell_type": "markdown",
   "metadata": {},
   "source": [
    "> ## The Role of Stress Neurons in the Amygdala in Addiction/Binge Drinking"
   ]
  },
  {
   "cell_type": "markdown",
   "metadata": {},
   "source": [
    "- We will be talking through some of the experiments from my Postdoctoral research on the roll of stress neurons in the escalation of binge drinking.\n",
    "- [James' Neuroscience Research Poster: Society for Neuroscience 2016](https://drive.google.com/open?id=14z2dUdPB_8ei3HA7R1j3ylwEP0kVZhJq)\n",
    "\n",
    "<img src=\"https://raw.githubusercontent.com/jirvingphd/fsds_100719_cohort_notes/master/images/sect_20_neuro_data.png\">\n",
    "\n"
   ]
  },
  {
   "cell_type": "markdown",
   "metadata": {},
   "source": [
    "#### The Opponent-Process Theory of Addiction \n",
    "\n",
    "\n",
    "<img src=\"https://raw.githubusercontent.com/jirvingphd/fsds_pt_100719_cohort_notes/master/Images/robinson-berridge-fig1.jpg\">"
   ]
  },
  {
   "cell_type": "markdown",
   "metadata": {},
   "source": [
    "## Hypothesis "
   ]
  },
  {
   "cell_type": "markdown",
   "metadata": {},
   "source": [
    "- Based on prior evidence in the field, stress neurons in the amygdala are believed to be responsible for the negative emotions that promote binge consumption to relieve negative symptoms"
   ]
  },
  {
   "cell_type": "markdown",
   "metadata": {},
   "source": [
    "$ H_1$: Increasing the activity of stress neurons (CRF neurons) in the amygdala will increase the amount of alcohol consumed by binge-drinking mice.\n",
    "\n",
    "$H_0$: Stimulation of CRF neurons has no effect on the amount of alcohol consumed.\n",
    "\n",
    "<img src=\"https://raw.githubusercontent.com/jirvingphd/fsds_pt_100719_cohort_notes/master/Images/jmi_poster_preds1.png\" width=60%>"
   ]
  },
  {
   "cell_type": "markdown",
   "metadata": {},
   "source": [
    "## Experimental Design"
   ]
  },
  {
   "cell_type": "markdown",
   "metadata": {},
   "source": [
    "<img src=\"https://raw.githubusercontent.com/jirvingphd/fsds_pt_100719_cohort_notes/master/Images/opto_6steps.jpg\">"
   ]
  },
  {
   "cell_type": "markdown",
   "metadata": {},
   "source": [
    "<img src=\"https://raw.githubusercontent.com/jirvingphd/hypothesis_testing_lessons/master/images/jmi_poster_fig1_no_mouse.png\">\n",
    "\n",
    "<!---\n",
    "<img src=\"https://raw.githubusercontent.com/jirvingphd/hypothesis_testing_lessons/master/images/jmi_poster_fig1.png\">--->"
   ]
  },
  {
   "cell_type": "markdown",
   "metadata": {
    "ExecuteTime": {
     "end_time": "2020-01-21T22:44:58.893416Z",
     "start_time": "2020-01-21T22:44:58.889888Z"
    }
   },
   "source": [
    "<img src=\"https://raw.githubusercontent.com/jirvingphd/fsds_pt_100719_cohort_notes/master/Images/jmi_poster_fig2.png\">\n",
    "\n",
    "<!---\n",
    "<img src=\"https://raw.githubusercontent.com/jirvingphd/fsds_100719_cohort_notes/master/images/sect_20_neuro_data.png\">')\n",
    "--->"
   ]
  },
  {
   "cell_type": "markdown",
   "metadata": {},
   "source": [
    "## Hypothesis Testing: Mouse Data"
   ]
  },
  {
   "cell_type": "markdown",
   "metadata": {},
   "source": [
    "### Hypothesis\n",
    "> Question: does stimulation of CRF Neurons in the central amygdala increase alcohol consumption?\n",
    "\n",
    "- Metric: Average # of licks per phase.\n",
    "- Groups: Control / Experimental\n",
    "\n",
    "\n",
    "- $H_1$: Experimental Mice will drink more/less than control mice after stimulation.\n",
    "\n",
    "- $H_0$: Experimental mice and control mice drink the same amount after stimulation.\n",
    "\n",
    "$\\alpha$=0.05\n"
   ]
  },
  {
   "cell_type": "markdown",
   "metadata": {},
   "source": [
    "### Step 1: which type of test?"
   ]
  },
  {
   "cell_type": "markdown",
   "metadata": {},
   "source": [
    "- What type of data?\n",
    "    -  Numerical (# of licks)\n",
    "- How many groups?\n",
    "    -  Control vs Experimental\n",
    "    - Training Phases (BL,S,PS,R)"
   ]
  },
  {
   "cell_type": "markdown",
   "metadata": {},
   "source": [
    "#### Let's First Try to Treat this as 2-sample T-Tests (one for each phase)"
   ]
  },
  {
   "cell_type": "markdown",
   "metadata": {},
   "source": [
    "# Obtaining/Preprocessing Data"
   ]
  },
  {
   "cell_type": "code",
   "execution_count": 1,
   "metadata": {
    "ExecuteTime": {
     "end_time": "2020-08-08T01:05:54.015331Z",
     "start_time": "2020-08-08T01:05:50.546460Z"
    },
    "colab": {
     "base_uri": "https://localhost:8080/",
     "height": 221
    },
    "colab_type": "code",
    "id": "soGUgJ9RRJOp",
    "outputId": "e919e060-8aae-48d4-ed29-3b4637408f13"
   },
   "outputs": [],
   "source": [
    "import numpy as np\n",
    "import pandas as pd\n",
    "import matplotlib.pyplot as plt\n",
    "import seaborn as sns\n",
    "from scipy import stats"
   ]
  },
  {
   "cell_type": "code",
   "execution_count": 2,
   "metadata": {
    "ExecuteTime": {
     "end_time": "2020-08-08T01:05:54.018990Z",
     "start_time": "2020-08-08T01:05:54.016545Z"
    }
   },
   "outputs": [],
   "source": [
    "plt.style.use('seaborn-notebook')\n",
    "pd.set_option('display.max_columns',0)\n",
    "pd.set_option('display.precision',3)"
   ]
  },
  {
   "cell_type": "code",
   "execution_count": 3,
   "metadata": {
    "ExecuteTime": {
     "end_time": "2020-08-08T01:05:54.065275Z",
     "start_time": "2020-08-08T01:05:54.024026Z"
    }
   },
   "outputs": [
    {
     "data": {
      "text/html": [
       "<div>\n",
       "<style scoped>\n",
       "    .dataframe tbody tr th:only-of-type {\n",
       "        vertical-align: middle;\n",
       "    }\n",
       "\n",
       "    .dataframe tbody tr th {\n",
       "        vertical-align: top;\n",
       "    }\n",
       "\n",
       "    .dataframe thead th {\n",
       "        text-align: right;\n",
       "    }\n",
       "</style>\n",
       "<table border=\"1\" class=\"dataframe\">\n",
       "  <thead>\n",
       "    <tr style=\"text-align: right;\">\n",
       "      <th></th>\n",
       "      <th>Group</th>\n",
       "      <th>BL1</th>\n",
       "      <th>BL2</th>\n",
       "      <th>BL3</th>\n",
       "      <th>BL4</th>\n",
       "      <th>S1</th>\n",
       "      <th>S2</th>\n",
       "      <th>S3</th>\n",
       "      <th>S4</th>\n",
       "      <th>PS1</th>\n",
       "      <th>PS2</th>\n",
       "      <th>PS3</th>\n",
       "      <th>PS4</th>\n",
       "      <th>R1_1</th>\n",
       "      <th>R1_2</th>\n",
       "      <th>R1_3</th>\n",
       "      <th>R1_4</th>\n",
       "      <th>R2_1</th>\n",
       "      <th>R2_2</th>\n",
       "      <th>R2_3</th>\n",
       "      <th>R2_4</th>\n",
       "    </tr>\n",
       "    <tr>\n",
       "      <th>Mouse_ID</th>\n",
       "      <th></th>\n",
       "      <th></th>\n",
       "      <th></th>\n",
       "      <th></th>\n",
       "      <th></th>\n",
       "      <th></th>\n",
       "      <th></th>\n",
       "      <th></th>\n",
       "      <th></th>\n",
       "      <th></th>\n",
       "      <th></th>\n",
       "      <th></th>\n",
       "      <th></th>\n",
       "      <th></th>\n",
       "      <th></th>\n",
       "      <th></th>\n",
       "      <th></th>\n",
       "      <th></th>\n",
       "      <th></th>\n",
       "      <th></th>\n",
       "      <th></th>\n",
       "    </tr>\n",
       "  </thead>\n",
       "  <tbody>\n",
       "    <tr>\n",
       "      <th>1</th>\n",
       "      <td>Control</td>\n",
       "      <td>665</td>\n",
       "      <td>863</td>\n",
       "      <td>631</td>\n",
       "      <td>629</td>\n",
       "      <td>583</td>\n",
       "      <td>801</td>\n",
       "      <td>723</td>\n",
       "      <td>707</td>\n",
       "      <td>732</td>\n",
       "      <td>680</td>\n",
       "      <td>684</td>\n",
       "      <td>485</td>\n",
       "      <td>65</td>\n",
       "      <td>301</td>\n",
       "      <td>351</td>\n",
       "      <td>441</td>\n",
       "      <td>675</td>\n",
       "      <td>554</td>\n",
       "      <td>541</td>\n",
       "      <td>545</td>\n",
       "    </tr>\n",
       "    <tr>\n",
       "      <th>2</th>\n",
       "      <td>Control</td>\n",
       "      <td>859</td>\n",
       "      <td>849</td>\n",
       "      <td>685</td>\n",
       "      <td>731</td>\n",
       "      <td>854</td>\n",
       "      <td>1103</td>\n",
       "      <td>645</td>\n",
       "      <td>633</td>\n",
       "      <td>733</td>\n",
       "      <td>662</td>\n",
       "      <td>605</td>\n",
       "      <td>623</td>\n",
       "      <td>128</td>\n",
       "      <td>268</td>\n",
       "      <td>462</td>\n",
       "      <td>569</td>\n",
       "      <td>988</td>\n",
       "      <td>728</td>\n",
       "      <td>933</td>\n",
       "      <td>564</td>\n",
       "    </tr>\n",
       "    <tr>\n",
       "      <th>3</th>\n",
       "      <td>Control</td>\n",
       "      <td>589</td>\n",
       "      <td>507</td>\n",
       "      <td>635</td>\n",
       "      <td>902</td>\n",
       "      <td>699</td>\n",
       "      <td>743</td>\n",
       "      <td>761</td>\n",
       "      <td>949</td>\n",
       "      <td>872</td>\n",
       "      <td>952</td>\n",
       "      <td>828</td>\n",
       "      <td>806</td>\n",
       "      <td>129</td>\n",
       "      <td>311</td>\n",
       "      <td>669</td>\n",
       "      <td>666</td>\n",
       "      <td>516</td>\n",
       "      <td>579</td>\n",
       "      <td>913</td>\n",
       "      <td>736</td>\n",
       "    </tr>\n",
       "    <tr>\n",
       "      <th>4</th>\n",
       "      <td>Control</td>\n",
       "      <td>939</td>\n",
       "      <td>909</td>\n",
       "      <td>850</td>\n",
       "      <td>756</td>\n",
       "      <td>807</td>\n",
       "      <td>617</td>\n",
       "      <td>526</td>\n",
       "      <td>736</td>\n",
       "      <td>743</td>\n",
       "      <td>625</td>\n",
       "      <td>690</td>\n",
       "      <td>759</td>\n",
       "      <td>281</td>\n",
       "      <td>357</td>\n",
       "      <td>386</td>\n",
       "      <td>585</td>\n",
       "      <td>565</td>\n",
       "      <td>550</td>\n",
       "      <td>806</td>\n",
       "      <td>732</td>\n",
       "    </tr>\n",
       "    <tr>\n",
       "      <th>5</th>\n",
       "      <td>Experimental</td>\n",
       "      <td>710</td>\n",
       "      <td>505</td>\n",
       "      <td>494</td>\n",
       "      <td>596</td>\n",
       "      <td>620</td>\n",
       "      <td>589</td>\n",
       "      <td>676</td>\n",
       "      <td>537</td>\n",
       "      <td>779</td>\n",
       "      <td>537</td>\n",
       "      <td>581</td>\n",
       "      <td>515</td>\n",
       "      <td>477</td>\n",
       "      <td>659</td>\n",
       "      <td>737</td>\n",
       "      <td>606</td>\n",
       "      <td>713</td>\n",
       "      <td>682</td>\n",
       "      <td>709</td>\n",
       "      <td>759</td>\n",
       "    </tr>\n",
       "    <tr>\n",
       "      <th>6</th>\n",
       "      <td>Experimental</td>\n",
       "      <td>564</td>\n",
       "      <td>808</td>\n",
       "      <td>589</td>\n",
       "      <td>596</td>\n",
       "      <td>591</td>\n",
       "      <td>580</td>\n",
       "      <td>419</td>\n",
       "      <td>463</td>\n",
       "      <td>707</td>\n",
       "      <td>625</td>\n",
       "      <td>547</td>\n",
       "      <td>595</td>\n",
       "      <td>532</td>\n",
       "      <td>951</td>\n",
       "      <td>901</td>\n",
       "      <td>851</td>\n",
       "      <td>807</td>\n",
       "      <td>858</td>\n",
       "      <td>802</td>\n",
       "      <td>803</td>\n",
       "    </tr>\n",
       "    <tr>\n",
       "      <th>7</th>\n",
       "      <td>Experimental</td>\n",
       "      <td>722</td>\n",
       "      <td>732</td>\n",
       "      <td>783</td>\n",
       "      <td>946</td>\n",
       "      <td>882</td>\n",
       "      <td>723</td>\n",
       "      <td>764</td>\n",
       "      <td>892</td>\n",
       "      <td>621</td>\n",
       "      <td>764</td>\n",
       "      <td>720</td>\n",
       "      <td>478</td>\n",
       "      <td>297</td>\n",
       "      <td>558</td>\n",
       "      <td>803</td>\n",
       "      <td>694</td>\n",
       "      <td>855</td>\n",
       "      <td>797</td>\n",
       "      <td>938</td>\n",
       "      <td>878</td>\n",
       "    </tr>\n",
       "    <tr>\n",
       "      <th>8</th>\n",
       "      <td>Experimental</td>\n",
       "      <td>497</td>\n",
       "      <td>649</td>\n",
       "      <td>586</td>\n",
       "      <td>506</td>\n",
       "      <td>546</td>\n",
       "      <td>493</td>\n",
       "      <td>456</td>\n",
       "      <td>601</td>\n",
       "      <td>437</td>\n",
       "      <td>462</td>\n",
       "      <td>704</td>\n",
       "      <td>498</td>\n",
       "      <td>10</td>\n",
       "      <td>44</td>\n",
       "      <td>86</td>\n",
       "      <td>284</td>\n",
       "      <td>212</td>\n",
       "      <td>133</td>\n",
       "      <td>141</td>\n",
       "      <td>274</td>\n",
       "    </tr>\n",
       "    <tr>\n",
       "      <th>9</th>\n",
       "      <td>Experimental</td>\n",
       "      <td>741</td>\n",
       "      <td>668</td>\n",
       "      <td>778</td>\n",
       "      <td>638</td>\n",
       "      <td>759</td>\n",
       "      <td>791</td>\n",
       "      <td>568</td>\n",
       "      <td>664</td>\n",
       "      <td>390</td>\n",
       "      <td>346</td>\n",
       "      <td>773</td>\n",
       "      <td>682</td>\n",
       "      <td>3</td>\n",
       "      <td>212</td>\n",
       "      <td>417</td>\n",
       "      <td>443</td>\n",
       "      <td>486</td>\n",
       "      <td>444</td>\n",
       "      <td>533</td>\n",
       "      <td>578</td>\n",
       "    </tr>\n",
       "    <tr>\n",
       "      <th>10</th>\n",
       "      <td>Experimental</td>\n",
       "      <td>953</td>\n",
       "      <td>988</td>\n",
       "      <td>579</td>\n",
       "      <td>706</td>\n",
       "      <td>1106</td>\n",
       "      <td>812</td>\n",
       "      <td>902</td>\n",
       "      <td>835</td>\n",
       "      <td>829</td>\n",
       "      <td>801</td>\n",
       "      <td>1011</td>\n",
       "      <td>919</td>\n",
       "      <td>274</td>\n",
       "      <td>559</td>\n",
       "      <td>840</td>\n",
       "      <td>890</td>\n",
       "      <td>724</td>\n",
       "      <td>793</td>\n",
       "      <td>559</td>\n",
       "      <td>700</td>\n",
       "    </tr>\n",
       "    <tr>\n",
       "      <th>11</th>\n",
       "      <td>Experimental</td>\n",
       "      <td>753</td>\n",
       "      <td>613</td>\n",
       "      <td>573</td>\n",
       "      <td>642</td>\n",
       "      <td>820</td>\n",
       "      <td>752</td>\n",
       "      <td>759</td>\n",
       "      <td>564</td>\n",
       "      <td>635</td>\n",
       "      <td>641</td>\n",
       "      <td>706</td>\n",
       "      <td>763</td>\n",
       "      <td>287</td>\n",
       "      <td>526</td>\n",
       "      <td>841</td>\n",
       "      <td>838</td>\n",
       "      <td>691</td>\n",
       "      <td>657</td>\n",
       "      <td>680</td>\n",
       "      <td>781</td>\n",
       "    </tr>\n",
       "    <tr>\n",
       "      <th>12</th>\n",
       "      <td>Control</td>\n",
       "      <td>494</td>\n",
       "      <td>602</td>\n",
       "      <td>570</td>\n",
       "      <td>530</td>\n",
       "      <td>570</td>\n",
       "      <td>396</td>\n",
       "      <td>403</td>\n",
       "      <td>380</td>\n",
       "      <td>362</td>\n",
       "      <td>467</td>\n",
       "      <td>491</td>\n",
       "      <td>557</td>\n",
       "      <td>98</td>\n",
       "      <td>262</td>\n",
       "      <td>344</td>\n",
       "      <td>388</td>\n",
       "      <td>435</td>\n",
       "      <td>551</td>\n",
       "      <td>552</td>\n",
       "      <td>537</td>\n",
       "    </tr>\n",
       "    <tr>\n",
       "      <th>13</th>\n",
       "      <td>Control</td>\n",
       "      <td>587</td>\n",
       "      <td>630</td>\n",
       "      <td>564</td>\n",
       "      <td>627</td>\n",
       "      <td>572</td>\n",
       "      <td>419</td>\n",
       "      <td>369</td>\n",
       "      <td>416</td>\n",
       "      <td>403</td>\n",
       "      <td>552</td>\n",
       "      <td>575</td>\n",
       "      <td>589</td>\n",
       "      <td>172</td>\n",
       "      <td>298</td>\n",
       "      <td>422</td>\n",
       "      <td>596</td>\n",
       "      <td>447</td>\n",
       "      <td>589</td>\n",
       "      <td>463</td>\n",
       "      <td>364</td>\n",
       "    </tr>\n",
       "    <tr>\n",
       "      <th>14</th>\n",
       "      <td>Control</td>\n",
       "      <td>917</td>\n",
       "      <td>680</td>\n",
       "      <td>737</td>\n",
       "      <td>596</td>\n",
       "      <td>699</td>\n",
       "      <td>484</td>\n",
       "      <td>452</td>\n",
       "      <td>438</td>\n",
       "      <td>547</td>\n",
       "      <td>729</td>\n",
       "      <td>830</td>\n",
       "      <td>411</td>\n",
       "      <td>71</td>\n",
       "      <td>386</td>\n",
       "      <td>581</td>\n",
       "      <td>832</td>\n",
       "      <td>586</td>\n",
       "      <td>610</td>\n",
       "      <td>634</td>\n",
       "      <td>716</td>\n",
       "    </tr>\n",
       "    <tr>\n",
       "      <th>15</th>\n",
       "      <td>Control</td>\n",
       "      <td>440</td>\n",
       "      <td>767</td>\n",
       "      <td>642</td>\n",
       "      <td>623</td>\n",
       "      <td>532</td>\n",
       "      <td>663</td>\n",
       "      <td>601</td>\n",
       "      <td>553</td>\n",
       "      <td>315</td>\n",
       "      <td>434</td>\n",
       "      <td>543</td>\n",
       "      <td>619</td>\n",
       "      <td>115</td>\n",
       "      <td>101</td>\n",
       "      <td>356</td>\n",
       "      <td>457</td>\n",
       "      <td>412</td>\n",
       "      <td>582</td>\n",
       "      <td>549</td>\n",
       "      <td>696</td>\n",
       "    </tr>\n",
       "    <tr>\n",
       "      <th>16</th>\n",
       "      <td>Experimental</td>\n",
       "      <td>715</td>\n",
       "      <td>469</td>\n",
       "      <td>392</td>\n",
       "      <td>333</td>\n",
       "      <td>492</td>\n",
       "      <td>594</td>\n",
       "      <td>695</td>\n",
       "      <td>568</td>\n",
       "      <td>916</td>\n",
       "      <td>675</td>\n",
       "      <td>669</td>\n",
       "      <td>895</td>\n",
       "      <td>98</td>\n",
       "      <td>558</td>\n",
       "      <td>977</td>\n",
       "      <td>956</td>\n",
       "      <td>974</td>\n",
       "      <td>1049</td>\n",
       "      <td>1366</td>\n",
       "      <td>942</td>\n",
       "    </tr>\n",
       "    <tr>\n",
       "      <th>17</th>\n",
       "      <td>Experimental</td>\n",
       "      <td>184</td>\n",
       "      <td>250</td>\n",
       "      <td>373</td>\n",
       "      <td>457</td>\n",
       "      <td>505</td>\n",
       "      <td>475</td>\n",
       "      <td>519</td>\n",
       "      <td>578</td>\n",
       "      <td>542</td>\n",
       "      <td>477</td>\n",
       "      <td>601</td>\n",
       "      <td>390</td>\n",
       "      <td>131</td>\n",
       "      <td>656</td>\n",
       "      <td>845</td>\n",
       "      <td>699</td>\n",
       "      <td>494</td>\n",
       "      <td>920</td>\n",
       "      <td>431</td>\n",
       "      <td>521</td>\n",
       "    </tr>\n",
       "    <tr>\n",
       "      <th>18</th>\n",
       "      <td>Experimental</td>\n",
       "      <td>934</td>\n",
       "      <td>1237</td>\n",
       "      <td>354</td>\n",
       "      <td>705</td>\n",
       "      <td>646</td>\n",
       "      <td>619</td>\n",
       "      <td>885</td>\n",
       "      <td>626</td>\n",
       "      <td>496</td>\n",
       "      <td>954</td>\n",
       "      <td>718</td>\n",
       "      <td>821</td>\n",
       "      <td>170</td>\n",
       "      <td>909</td>\n",
       "      <td>1049</td>\n",
       "      <td>994</td>\n",
       "      <td>675</td>\n",
       "      <td>803</td>\n",
       "      <td>866</td>\n",
       "      <td>880</td>\n",
       "    </tr>\n",
       "    <tr>\n",
       "      <th>19</th>\n",
       "      <td>Experimental</td>\n",
       "      <td>578</td>\n",
       "      <td>548</td>\n",
       "      <td>556</td>\n",
       "      <td>479</td>\n",
       "      <td>533</td>\n",
       "      <td>721</td>\n",
       "      <td>651</td>\n",
       "      <td>546</td>\n",
       "      <td>537</td>\n",
       "      <td>564</td>\n",
       "      <td>519</td>\n",
       "      <td>446</td>\n",
       "      <td>601</td>\n",
       "      <td>565</td>\n",
       "      <td>450</td>\n",
       "      <td>684</td>\n",
       "      <td>1675</td>\n",
       "      <td>976</td>\n",
       "      <td>1249</td>\n",
       "      <td>1047</td>\n",
       "    </tr>\n",
       "    <tr>\n",
       "      <th>20</th>\n",
       "      <td>Experimental</td>\n",
       "      <td>400</td>\n",
       "      <td>193</td>\n",
       "      <td>188</td>\n",
       "      <td>350</td>\n",
       "      <td>232</td>\n",
       "      <td>34</td>\n",
       "      <td>65</td>\n",
       "      <td>158</td>\n",
       "      <td>89</td>\n",
       "      <td>175</td>\n",
       "      <td>186</td>\n",
       "      <td>319</td>\n",
       "      <td>14</td>\n",
       "      <td>60</td>\n",
       "      <td>118</td>\n",
       "      <td>149</td>\n",
       "      <td>133</td>\n",
       "      <td>270</td>\n",
       "      <td>472</td>\n",
       "      <td>293</td>\n",
       "    </tr>\n",
       "    <tr>\n",
       "      <th>21</th>\n",
       "      <td>Experimental</td>\n",
       "      <td>448</td>\n",
       "      <td>221</td>\n",
       "      <td>505</td>\n",
       "      <td>459</td>\n",
       "      <td>483</td>\n",
       "      <td>491</td>\n",
       "      <td>394</td>\n",
       "      <td>673</td>\n",
       "      <td>593</td>\n",
       "      <td>444</td>\n",
       "      <td>430</td>\n",
       "      <td>630</td>\n",
       "      <td>176</td>\n",
       "      <td>611</td>\n",
       "      <td>680</td>\n",
       "      <td>552</td>\n",
       "      <td>652</td>\n",
       "      <td>879</td>\n",
       "      <td>990</td>\n",
       "      <td>900</td>\n",
       "    </tr>\n",
       "    <tr>\n",
       "      <th>22</th>\n",
       "      <td>Control</td>\n",
       "      <td>270</td>\n",
       "      <td>132</td>\n",
       "      <td>250</td>\n",
       "      <td>192</td>\n",
       "      <td>364</td>\n",
       "      <td>229</td>\n",
       "      <td>219</td>\n",
       "      <td>329</td>\n",
       "      <td>120</td>\n",
       "      <td>147</td>\n",
       "      <td>186</td>\n",
       "      <td>337</td>\n",
       "      <td>8</td>\n",
       "      <td>70</td>\n",
       "      <td>18</td>\n",
       "      <td>175</td>\n",
       "      <td>232</td>\n",
       "      <td>238</td>\n",
       "      <td>209</td>\n",
       "      <td>200</td>\n",
       "    </tr>\n",
       "  </tbody>\n",
       "</table>\n",
       "</div>"
      ],
      "text/plain": [
       "                 Group  BL1   BL2  BL3  BL4  ...  R1_4  R2_1  R2_2  R2_3  R2_4\n",
       "Mouse_ID                                     ...                              \n",
       "1              Control  665   863  631  629  ...   441   675   554   541   545\n",
       "2              Control  859   849  685  731  ...   569   988   728   933   564\n",
       "3              Control  589   507  635  902  ...   666   516   579   913   736\n",
       "4              Control  939   909  850  756  ...   585   565   550   806   732\n",
       "5         Experimental  710   505  494  596  ...   606   713   682   709   759\n",
       "6         Experimental  564   808  589  596  ...   851   807   858   802   803\n",
       "7         Experimental  722   732  783  946  ...   694   855   797   938   878\n",
       "8         Experimental  497   649  586  506  ...   284   212   133   141   274\n",
       "9         Experimental  741   668  778  638  ...   443   486   444   533   578\n",
       "10        Experimental  953   988  579  706  ...   890   724   793   559   700\n",
       "11        Experimental  753   613  573  642  ...   838   691   657   680   781\n",
       "12             Control  494   602  570  530  ...   388   435   551   552   537\n",
       "13             Control  587   630  564  627  ...   596   447   589   463   364\n",
       "14             Control  917   680  737  596  ...   832   586   610   634   716\n",
       "15             Control  440   767  642  623  ...   457   412   582   549   696\n",
       "16        Experimental  715   469  392  333  ...   956   974  1049  1366   942\n",
       "17        Experimental  184   250  373  457  ...   699   494   920   431   521\n",
       "18        Experimental  934  1237  354  705  ...   994   675   803   866   880\n",
       "19        Experimental  578   548  556  479  ...   684  1675   976  1249  1047\n",
       "20        Experimental  400   193  188  350  ...   149   133   270   472   293\n",
       "21        Experimental  448   221  505  459  ...   552   652   879   990   900\n",
       "22             Control  270   132  250  192  ...   175   232   238   209   200\n",
       "\n",
       "[22 rows x 21 columns]"
      ]
     },
     "execution_count": 3,
     "metadata": {},
     "output_type": "execute_result"
    }
   ],
   "source": [
    "## Load in the mouse drinking data cleaned csv\n",
    "df = pd.read_csv('mouse_drinking_data_cleaned.csv',\n",
    "                 index_col=0)\n",
    "df.drop('Sex',inplace=True,axis=1)\n",
    "df "
   ]
  },
  {
   "cell_type": "markdown",
   "metadata": {},
   "source": [
    "#### Laying Out Our Approach\n",
    "We need to average all 4 session of the same phase (BL,S,R1,R2) for each mouse...\n",
    "\n",
    "1. Make a **dict/lists of the column names** that should be **averaged together** (`col_dict`)\n",
    "\n",
    "2. Make a new df of means using `col_dict`\n",
    "\n",
    "3. Make a grp dict using  `df_means.groupby('Group').groups` \n",
    "\n",
    "- Visualize the two populations\n",
    "\n",
    "- Prepare for hypothesis tests\n",
    "    - Either use `grps` dict to reference the correct columsn to pass into tests\n",
    "\n",
    "<!---\n",
    "**Variables:**\n",
    "\n",
    "- `col_dict` (dict): dict of column names to be grouped together for means\n",
    "- `df_means` (df): df of col_dict column means.\n",
    "- `grps` (dict): groupby dict where keys = 'Group' column and values = row indices\n",
    "\n",
    "- `data` (dict): Dictionary of...\n",
    "    - Series of each phase by group? --->"
   ]
  },
  {
   "cell_type": "code",
   "execution_count": 4,
   "metadata": {},
   "outputs": [
    {
     "data": {
      "text/plain": [
       "Index(['Group', 'BL1', 'BL2', 'BL3', 'BL4', 'S1', 'S2', 'S3', 'S4', 'PS1',\n",
       "       'PS2', 'PS3', 'PS4', 'R1_1', 'R1_2', 'R1_3', 'R1_4', 'R2_1', 'R2_2',\n",
       "       'R2_3', 'R2_4'],\n",
       "      dtype='object')"
      ]
     },
     "execution_count": 4,
     "metadata": {},
     "output_type": "execute_result"
    }
   ],
   "source": [
    "df.columns"
   ]
  },
  {
   "cell_type": "code",
   "execution_count": null,
   "metadata": {},
   "outputs": [],
   "source": []
  },
  {
   "cell_type": "code",
   "execution_count": 8,
   "metadata": {
    "ExecuteTime": {
     "end_time": "2020-08-08T01:05:54.071445Z",
     "start_time": "2020-08-08T01:05:54.066532Z"
    }
   },
   "outputs": [
    {
     "data": {
      "text/plain": [
       "{'BL': ['BL1', 'BL2', 'BL3', 'BL4'],\n",
       " 'S': ['S1', 'S2', 'S3', 'S4'],\n",
       " 'PS': ['PS1', 'PS2', 'PS3', 'PS4'],\n",
       " 'R1': ['R1_1', 'R1_2', 'R1_3', 'R1_4'],\n",
       " 'R2': ['R2_1', 'R2_2', 'R2_3', 'R2_4']}"
      ]
     },
     "execution_count": 8,
     "metadata": {},
     "output_type": "execute_result"
    }
   ],
   "source": [
    "## Loop through the differnet phases of the experiment\n",
    "phases = ['BL','S','PS','R1','R2']\n",
    "\n",
    "## save corresponding column names as values \n",
    "col_dict = {}\n",
    "for phase in phases:\n",
    "    col_dict[phase]= [col for col in df.columns if col.startswith(phase)]\n",
    "col_dict"
   ]
  },
  {
   "cell_type": "code",
   "execution_count": 12,
   "metadata": {
    "ExecuteTime": {
     "end_time": "2020-08-08T01:05:54.076719Z",
     "start_time": "2020-08-08T01:05:54.072691Z"
    },
    "scrolled": true
   },
   "outputs": [],
   "source": [
    "## Get then opposite of col_dict\n"
   ]
  },
  {
   "cell_type": "markdown",
   "metadata": {},
   "source": [
    "### Calculating individual mouse means by phase"
   ]
  },
  {
   "cell_type": "code",
   "execution_count": 15,
   "metadata": {},
   "outputs": [
    {
     "data": {
      "text/html": [
       "<div>\n",
       "<style scoped>\n",
       "    .dataframe tbody tr th:only-of-type {\n",
       "        vertical-align: middle;\n",
       "    }\n",
       "\n",
       "    .dataframe tbody tr th {\n",
       "        vertical-align: top;\n",
       "    }\n",
       "\n",
       "    .dataframe thead th {\n",
       "        text-align: right;\n",
       "    }\n",
       "</style>\n",
       "<table border=\"1\" class=\"dataframe\">\n",
       "  <thead>\n",
       "    <tr style=\"text-align: right;\">\n",
       "      <th></th>\n",
       "      <th>BL1</th>\n",
       "      <th>BL2</th>\n",
       "      <th>BL3</th>\n",
       "      <th>BL4</th>\n",
       "    </tr>\n",
       "    <tr>\n",
       "      <th>Mouse_ID</th>\n",
       "      <th></th>\n",
       "      <th></th>\n",
       "      <th></th>\n",
       "      <th></th>\n",
       "    </tr>\n",
       "  </thead>\n",
       "  <tbody>\n",
       "    <tr>\n",
       "      <th>1</th>\n",
       "      <td>665</td>\n",
       "      <td>863</td>\n",
       "      <td>631</td>\n",
       "      <td>629</td>\n",
       "    </tr>\n",
       "    <tr>\n",
       "      <th>2</th>\n",
       "      <td>859</td>\n",
       "      <td>849</td>\n",
       "      <td>685</td>\n",
       "      <td>731</td>\n",
       "    </tr>\n",
       "    <tr>\n",
       "      <th>3</th>\n",
       "      <td>589</td>\n",
       "      <td>507</td>\n",
       "      <td>635</td>\n",
       "      <td>902</td>\n",
       "    </tr>\n",
       "    <tr>\n",
       "      <th>4</th>\n",
       "      <td>939</td>\n",
       "      <td>909</td>\n",
       "      <td>850</td>\n",
       "      <td>756</td>\n",
       "    </tr>\n",
       "    <tr>\n",
       "      <th>5</th>\n",
       "      <td>710</td>\n",
       "      <td>505</td>\n",
       "      <td>494</td>\n",
       "      <td>596</td>\n",
       "    </tr>\n",
       "    <tr>\n",
       "      <th>6</th>\n",
       "      <td>564</td>\n",
       "      <td>808</td>\n",
       "      <td>589</td>\n",
       "      <td>596</td>\n",
       "    </tr>\n",
       "    <tr>\n",
       "      <th>7</th>\n",
       "      <td>722</td>\n",
       "      <td>732</td>\n",
       "      <td>783</td>\n",
       "      <td>946</td>\n",
       "    </tr>\n",
       "    <tr>\n",
       "      <th>8</th>\n",
       "      <td>497</td>\n",
       "      <td>649</td>\n",
       "      <td>586</td>\n",
       "      <td>506</td>\n",
       "    </tr>\n",
       "    <tr>\n",
       "      <th>9</th>\n",
       "      <td>741</td>\n",
       "      <td>668</td>\n",
       "      <td>778</td>\n",
       "      <td>638</td>\n",
       "    </tr>\n",
       "    <tr>\n",
       "      <th>10</th>\n",
       "      <td>953</td>\n",
       "      <td>988</td>\n",
       "      <td>579</td>\n",
       "      <td>706</td>\n",
       "    </tr>\n",
       "    <tr>\n",
       "      <th>11</th>\n",
       "      <td>753</td>\n",
       "      <td>613</td>\n",
       "      <td>573</td>\n",
       "      <td>642</td>\n",
       "    </tr>\n",
       "    <tr>\n",
       "      <th>12</th>\n",
       "      <td>494</td>\n",
       "      <td>602</td>\n",
       "      <td>570</td>\n",
       "      <td>530</td>\n",
       "    </tr>\n",
       "    <tr>\n",
       "      <th>13</th>\n",
       "      <td>587</td>\n",
       "      <td>630</td>\n",
       "      <td>564</td>\n",
       "      <td>627</td>\n",
       "    </tr>\n",
       "    <tr>\n",
       "      <th>14</th>\n",
       "      <td>917</td>\n",
       "      <td>680</td>\n",
       "      <td>737</td>\n",
       "      <td>596</td>\n",
       "    </tr>\n",
       "    <tr>\n",
       "      <th>15</th>\n",
       "      <td>440</td>\n",
       "      <td>767</td>\n",
       "      <td>642</td>\n",
       "      <td>623</td>\n",
       "    </tr>\n",
       "    <tr>\n",
       "      <th>16</th>\n",
       "      <td>715</td>\n",
       "      <td>469</td>\n",
       "      <td>392</td>\n",
       "      <td>333</td>\n",
       "    </tr>\n",
       "    <tr>\n",
       "      <th>17</th>\n",
       "      <td>184</td>\n",
       "      <td>250</td>\n",
       "      <td>373</td>\n",
       "      <td>457</td>\n",
       "    </tr>\n",
       "    <tr>\n",
       "      <th>18</th>\n",
       "      <td>934</td>\n",
       "      <td>1237</td>\n",
       "      <td>354</td>\n",
       "      <td>705</td>\n",
       "    </tr>\n",
       "    <tr>\n",
       "      <th>19</th>\n",
       "      <td>578</td>\n",
       "      <td>548</td>\n",
       "      <td>556</td>\n",
       "      <td>479</td>\n",
       "    </tr>\n",
       "    <tr>\n",
       "      <th>20</th>\n",
       "      <td>400</td>\n",
       "      <td>193</td>\n",
       "      <td>188</td>\n",
       "      <td>350</td>\n",
       "    </tr>\n",
       "    <tr>\n",
       "      <th>21</th>\n",
       "      <td>448</td>\n",
       "      <td>221</td>\n",
       "      <td>505</td>\n",
       "      <td>459</td>\n",
       "    </tr>\n",
       "    <tr>\n",
       "      <th>22</th>\n",
       "      <td>270</td>\n",
       "      <td>132</td>\n",
       "      <td>250</td>\n",
       "      <td>192</td>\n",
       "    </tr>\n",
       "  </tbody>\n",
       "</table>\n",
       "</div>"
      ],
      "text/plain": [
       "          BL1   BL2  BL3  BL4\n",
       "Mouse_ID                     \n",
       "1         665   863  631  629\n",
       "2         859   849  685  731\n",
       "3         589   507  635  902\n",
       "4         939   909  850  756\n",
       "5         710   505  494  596\n",
       "6         564   808  589  596\n",
       "7         722   732  783  946\n",
       "8         497   649  586  506\n",
       "9         741   668  778  638\n",
       "10        953   988  579  706\n",
       "11        753   613  573  642\n",
       "12        494   602  570  530\n",
       "13        587   630  564  627\n",
       "14        917   680  737  596\n",
       "15        440   767  642  623\n",
       "16        715   469  392  333\n",
       "17        184   250  373  457\n",
       "18        934  1237  354  705\n",
       "19        578   548  556  479\n",
       "20        400   193  188  350\n",
       "21        448   221  505  459\n",
       "22        270   132  250  192"
      ]
     },
     "execution_count": 15,
     "metadata": {},
     "output_type": "execute_result"
    }
   ],
   "source": [
    "df[col_dict['BL']]"
   ]
  },
  {
   "cell_type": "code",
   "execution_count": 14,
   "metadata": {
    "ExecuteTime": {
     "end_time": "2020-08-08T01:05:54.082756Z",
     "start_time": "2020-08-08T01:05:54.077818Z"
    }
   },
   "outputs": [
    {
     "data": {
      "text/plain": [
       "Mouse_ID\n",
       "1     697.00\n",
       "2     781.00\n",
       "3     658.25\n",
       "4     863.50\n",
       "5     576.25\n",
       "6     639.25\n",
       "7     795.75\n",
       "8     559.50\n",
       "9     706.25\n",
       "10    806.50\n",
       "11    645.25\n",
       "12    549.00\n",
       "13    602.00\n",
       "14    732.50\n",
       "15    618.00\n",
       "16    477.25\n",
       "17    316.00\n",
       "18    807.50\n",
       "19    540.25\n",
       "20    282.75\n",
       "21    408.25\n",
       "22    211.00\n",
       "dtype: float64"
      ]
     },
     "execution_count": 14,
     "metadata": {},
     "output_type": "execute_result"
    }
   ],
   "source": [
    "## calculate the mean for all BL columns for each mouse\n",
    "df[col_dict['BL']].mean(axis=1)"
   ]
  },
  {
   "cell_type": "code",
   "execution_count": 17,
   "metadata": {
    "ExecuteTime": {
     "end_time": "2020-08-08T01:10:33.211797Z",
     "start_time": "2020-08-08T01:10:33.199392Z"
    }
   },
   "outputs": [
    {
     "data": {
      "text/html": [
       "<div>\n",
       "<style scoped>\n",
       "    .dataframe tbody tr th:only-of-type {\n",
       "        vertical-align: middle;\n",
       "    }\n",
       "\n",
       "    .dataframe tbody tr th {\n",
       "        vertical-align: top;\n",
       "    }\n",
       "\n",
       "    .dataframe thead th {\n",
       "        text-align: right;\n",
       "    }\n",
       "</style>\n",
       "<table border=\"1\" class=\"dataframe\">\n",
       "  <thead>\n",
       "    <tr style=\"text-align: right;\">\n",
       "      <th></th>\n",
       "      <th>Group</th>\n",
       "    </tr>\n",
       "    <tr>\n",
       "      <th>Mouse_ID</th>\n",
       "      <th></th>\n",
       "    </tr>\n",
       "  </thead>\n",
       "  <tbody>\n",
       "    <tr>\n",
       "      <th>1</th>\n",
       "      <td>Control</td>\n",
       "    </tr>\n",
       "    <tr>\n",
       "      <th>2</th>\n",
       "      <td>Control</td>\n",
       "    </tr>\n",
       "    <tr>\n",
       "      <th>3</th>\n",
       "      <td>Control</td>\n",
       "    </tr>\n",
       "    <tr>\n",
       "      <th>4</th>\n",
       "      <td>Control</td>\n",
       "    </tr>\n",
       "    <tr>\n",
       "      <th>5</th>\n",
       "      <td>Experimental</td>\n",
       "    </tr>\n",
       "    <tr>\n",
       "      <th>6</th>\n",
       "      <td>Experimental</td>\n",
       "    </tr>\n",
       "    <tr>\n",
       "      <th>7</th>\n",
       "      <td>Experimental</td>\n",
       "    </tr>\n",
       "    <tr>\n",
       "      <th>8</th>\n",
       "      <td>Experimental</td>\n",
       "    </tr>\n",
       "    <tr>\n",
       "      <th>9</th>\n",
       "      <td>Experimental</td>\n",
       "    </tr>\n",
       "    <tr>\n",
       "      <th>10</th>\n",
       "      <td>Experimental</td>\n",
       "    </tr>\n",
       "    <tr>\n",
       "      <th>11</th>\n",
       "      <td>Experimental</td>\n",
       "    </tr>\n",
       "    <tr>\n",
       "      <th>12</th>\n",
       "      <td>Control</td>\n",
       "    </tr>\n",
       "    <tr>\n",
       "      <th>13</th>\n",
       "      <td>Control</td>\n",
       "    </tr>\n",
       "    <tr>\n",
       "      <th>14</th>\n",
       "      <td>Control</td>\n",
       "    </tr>\n",
       "    <tr>\n",
       "      <th>15</th>\n",
       "      <td>Control</td>\n",
       "    </tr>\n",
       "    <tr>\n",
       "      <th>16</th>\n",
       "      <td>Experimental</td>\n",
       "    </tr>\n",
       "    <tr>\n",
       "      <th>17</th>\n",
       "      <td>Experimental</td>\n",
       "    </tr>\n",
       "    <tr>\n",
       "      <th>18</th>\n",
       "      <td>Experimental</td>\n",
       "    </tr>\n",
       "    <tr>\n",
       "      <th>19</th>\n",
       "      <td>Experimental</td>\n",
       "    </tr>\n",
       "    <tr>\n",
       "      <th>20</th>\n",
       "      <td>Experimental</td>\n",
       "    </tr>\n",
       "    <tr>\n",
       "      <th>21</th>\n",
       "      <td>Experimental</td>\n",
       "    </tr>\n",
       "    <tr>\n",
       "      <th>22</th>\n",
       "      <td>Control</td>\n",
       "    </tr>\n",
       "  </tbody>\n",
       "</table>\n",
       "</div>"
      ],
      "text/plain": [
       "                 Group\n",
       "Mouse_ID              \n",
       "1              Control\n",
       "2              Control\n",
       "3              Control\n",
       "4              Control\n",
       "5         Experimental\n",
       "6         Experimental\n",
       "7         Experimental\n",
       "8         Experimental\n",
       "9         Experimental\n",
       "10        Experimental\n",
       "11        Experimental\n",
       "12             Control\n",
       "13             Control\n",
       "14             Control\n",
       "15             Control\n",
       "16        Experimental\n",
       "17        Experimental\n",
       "18        Experimental\n",
       "19        Experimental\n",
       "20        Experimental\n",
       "21        Experimental\n",
       "22             Control"
      ]
     },
     "execution_count": 17,
     "metadata": {},
     "output_type": "execute_result"
    }
   ],
   "source": [
    "## Make a new df_means with just the mouse id and group first\n",
    "df_means = df[['Group']].copy()\n",
    "df_means"
   ]
  },
  {
   "cell_type": "code",
   "execution_count": 18,
   "metadata": {},
   "outputs": [
    {
     "data": {
      "text/plain": [
       "{'BL': ['BL1', 'BL2', 'BL3', 'BL4'],\n",
       " 'S': ['S1', 'S2', 'S3', 'S4'],\n",
       " 'PS': ['PS1', 'PS2', 'PS3', 'PS4'],\n",
       " 'R1': ['R1_1', 'R1_2', 'R1_3', 'R1_4'],\n",
       " 'R2': ['R2_1', 'R2_2', 'R2_3', 'R2_4']}"
      ]
     },
     "execution_count": 18,
     "metadata": {},
     "output_type": "execute_result"
    }
   ],
   "source": [
    "col_dict"
   ]
  },
  {
   "cell_type": "code",
   "execution_count": 19,
   "metadata": {
    "ExecuteTime": {
     "end_time": "2020-08-08T01:10:35.282856Z",
     "start_time": "2020-08-08T01:10:35.250294Z"
    }
   },
   "outputs": [
    {
     "data": {
      "text/html": [
       "<div>\n",
       "<style scoped>\n",
       "    .dataframe tbody tr th:only-of-type {\n",
       "        vertical-align: middle;\n",
       "    }\n",
       "\n",
       "    .dataframe tbody tr th {\n",
       "        vertical-align: top;\n",
       "    }\n",
       "\n",
       "    .dataframe thead th {\n",
       "        text-align: right;\n",
       "    }\n",
       "</style>\n",
       "<table border=\"1\" class=\"dataframe\">\n",
       "  <thead>\n",
       "    <tr style=\"text-align: right;\">\n",
       "      <th></th>\n",
       "      <th>Group</th>\n",
       "      <th>BL</th>\n",
       "      <th>S</th>\n",
       "      <th>PS</th>\n",
       "      <th>R1</th>\n",
       "      <th>R2</th>\n",
       "    </tr>\n",
       "    <tr>\n",
       "      <th>Mouse_ID</th>\n",
       "      <th></th>\n",
       "      <th></th>\n",
       "      <th></th>\n",
       "      <th></th>\n",
       "      <th></th>\n",
       "      <th></th>\n",
       "    </tr>\n",
       "  </thead>\n",
       "  <tbody>\n",
       "    <tr>\n",
       "      <th>1</th>\n",
       "      <td>Control</td>\n",
       "      <td>697.00</td>\n",
       "      <td>703.50</td>\n",
       "      <td>645.25</td>\n",
       "      <td>289.50</td>\n",
       "      <td>578.75</td>\n",
       "    </tr>\n",
       "    <tr>\n",
       "      <th>2</th>\n",
       "      <td>Control</td>\n",
       "      <td>781.00</td>\n",
       "      <td>808.75</td>\n",
       "      <td>655.75</td>\n",
       "      <td>356.75</td>\n",
       "      <td>803.25</td>\n",
       "    </tr>\n",
       "    <tr>\n",
       "      <th>3</th>\n",
       "      <td>Control</td>\n",
       "      <td>658.25</td>\n",
       "      <td>788.00</td>\n",
       "      <td>864.50</td>\n",
       "      <td>443.75</td>\n",
       "      <td>686.00</td>\n",
       "    </tr>\n",
       "    <tr>\n",
       "      <th>4</th>\n",
       "      <td>Control</td>\n",
       "      <td>863.50</td>\n",
       "      <td>671.50</td>\n",
       "      <td>704.25</td>\n",
       "      <td>402.25</td>\n",
       "      <td>663.25</td>\n",
       "    </tr>\n",
       "    <tr>\n",
       "      <th>5</th>\n",
       "      <td>Experimental</td>\n",
       "      <td>576.25</td>\n",
       "      <td>605.50</td>\n",
       "      <td>603.00</td>\n",
       "      <td>619.75</td>\n",
       "      <td>715.75</td>\n",
       "    </tr>\n",
       "    <tr>\n",
       "      <th>6</th>\n",
       "      <td>Experimental</td>\n",
       "      <td>639.25</td>\n",
       "      <td>513.25</td>\n",
       "      <td>618.50</td>\n",
       "      <td>808.75</td>\n",
       "      <td>817.50</td>\n",
       "    </tr>\n",
       "    <tr>\n",
       "      <th>7</th>\n",
       "      <td>Experimental</td>\n",
       "      <td>795.75</td>\n",
       "      <td>815.25</td>\n",
       "      <td>645.75</td>\n",
       "      <td>588.00</td>\n",
       "      <td>867.00</td>\n",
       "    </tr>\n",
       "    <tr>\n",
       "      <th>8</th>\n",
       "      <td>Experimental</td>\n",
       "      <td>559.50</td>\n",
       "      <td>524.00</td>\n",
       "      <td>525.25</td>\n",
       "      <td>106.00</td>\n",
       "      <td>190.00</td>\n",
       "    </tr>\n",
       "    <tr>\n",
       "      <th>9</th>\n",
       "      <td>Experimental</td>\n",
       "      <td>706.25</td>\n",
       "      <td>695.50</td>\n",
       "      <td>547.75</td>\n",
       "      <td>268.75</td>\n",
       "      <td>510.25</td>\n",
       "    </tr>\n",
       "    <tr>\n",
       "      <th>10</th>\n",
       "      <td>Experimental</td>\n",
       "      <td>806.50</td>\n",
       "      <td>913.75</td>\n",
       "      <td>890.00</td>\n",
       "      <td>640.75</td>\n",
       "      <td>694.00</td>\n",
       "    </tr>\n",
       "    <tr>\n",
       "      <th>11</th>\n",
       "      <td>Experimental</td>\n",
       "      <td>645.25</td>\n",
       "      <td>723.75</td>\n",
       "      <td>686.25</td>\n",
       "      <td>623.00</td>\n",
       "      <td>702.25</td>\n",
       "    </tr>\n",
       "    <tr>\n",
       "      <th>12</th>\n",
       "      <td>Control</td>\n",
       "      <td>549.00</td>\n",
       "      <td>437.25</td>\n",
       "      <td>469.25</td>\n",
       "      <td>273.00</td>\n",
       "      <td>518.75</td>\n",
       "    </tr>\n",
       "    <tr>\n",
       "      <th>13</th>\n",
       "      <td>Control</td>\n",
       "      <td>602.00</td>\n",
       "      <td>444.00</td>\n",
       "      <td>529.75</td>\n",
       "      <td>372.00</td>\n",
       "      <td>465.75</td>\n",
       "    </tr>\n",
       "    <tr>\n",
       "      <th>14</th>\n",
       "      <td>Control</td>\n",
       "      <td>732.50</td>\n",
       "      <td>518.25</td>\n",
       "      <td>629.25</td>\n",
       "      <td>467.50</td>\n",
       "      <td>636.50</td>\n",
       "    </tr>\n",
       "    <tr>\n",
       "      <th>15</th>\n",
       "      <td>Control</td>\n",
       "      <td>618.00</td>\n",
       "      <td>587.25</td>\n",
       "      <td>477.75</td>\n",
       "      <td>257.25</td>\n",
       "      <td>559.75</td>\n",
       "    </tr>\n",
       "    <tr>\n",
       "      <th>16</th>\n",
       "      <td>Experimental</td>\n",
       "      <td>477.25</td>\n",
       "      <td>587.25</td>\n",
       "      <td>788.75</td>\n",
       "      <td>647.25</td>\n",
       "      <td>1082.75</td>\n",
       "    </tr>\n",
       "    <tr>\n",
       "      <th>17</th>\n",
       "      <td>Experimental</td>\n",
       "      <td>316.00</td>\n",
       "      <td>519.25</td>\n",
       "      <td>502.50</td>\n",
       "      <td>582.75</td>\n",
       "      <td>591.50</td>\n",
       "    </tr>\n",
       "    <tr>\n",
       "      <th>18</th>\n",
       "      <td>Experimental</td>\n",
       "      <td>807.50</td>\n",
       "      <td>694.00</td>\n",
       "      <td>747.25</td>\n",
       "      <td>780.50</td>\n",
       "      <td>806.00</td>\n",
       "    </tr>\n",
       "    <tr>\n",
       "      <th>19</th>\n",
       "      <td>Experimental</td>\n",
       "      <td>540.25</td>\n",
       "      <td>612.75</td>\n",
       "      <td>516.50</td>\n",
       "      <td>575.00</td>\n",
       "      <td>1236.75</td>\n",
       "    </tr>\n",
       "    <tr>\n",
       "      <th>20</th>\n",
       "      <td>Experimental</td>\n",
       "      <td>282.75</td>\n",
       "      <td>122.25</td>\n",
       "      <td>192.25</td>\n",
       "      <td>85.25</td>\n",
       "      <td>292.00</td>\n",
       "    </tr>\n",
       "    <tr>\n",
       "      <th>21</th>\n",
       "      <td>Experimental</td>\n",
       "      <td>408.25</td>\n",
       "      <td>510.25</td>\n",
       "      <td>524.25</td>\n",
       "      <td>504.75</td>\n",
       "      <td>855.25</td>\n",
       "    </tr>\n",
       "    <tr>\n",
       "      <th>22</th>\n",
       "      <td>Control</td>\n",
       "      <td>211.00</td>\n",
       "      <td>285.25</td>\n",
       "      <td>197.50</td>\n",
       "      <td>67.75</td>\n",
       "      <td>219.75</td>\n",
       "    </tr>\n",
       "  </tbody>\n",
       "</table>\n",
       "</div>"
      ],
      "text/plain": [
       "                 Group      BL       S      PS      R1       R2\n",
       "Mouse_ID                                                       \n",
       "1              Control  697.00  703.50  645.25  289.50   578.75\n",
       "2              Control  781.00  808.75  655.75  356.75   803.25\n",
       "3              Control  658.25  788.00  864.50  443.75   686.00\n",
       "4              Control  863.50  671.50  704.25  402.25   663.25\n",
       "5         Experimental  576.25  605.50  603.00  619.75   715.75\n",
       "6         Experimental  639.25  513.25  618.50  808.75   817.50\n",
       "7         Experimental  795.75  815.25  645.75  588.00   867.00\n",
       "8         Experimental  559.50  524.00  525.25  106.00   190.00\n",
       "9         Experimental  706.25  695.50  547.75  268.75   510.25\n",
       "10        Experimental  806.50  913.75  890.00  640.75   694.00\n",
       "11        Experimental  645.25  723.75  686.25  623.00   702.25\n",
       "12             Control  549.00  437.25  469.25  273.00   518.75\n",
       "13             Control  602.00  444.00  529.75  372.00   465.75\n",
       "14             Control  732.50  518.25  629.25  467.50   636.50\n",
       "15             Control  618.00  587.25  477.75  257.25   559.75\n",
       "16        Experimental  477.25  587.25  788.75  647.25  1082.75\n",
       "17        Experimental  316.00  519.25  502.50  582.75   591.50\n",
       "18        Experimental  807.50  694.00  747.25  780.50   806.00\n",
       "19        Experimental  540.25  612.75  516.50  575.00  1236.75\n",
       "20        Experimental  282.75  122.25  192.25   85.25   292.00\n",
       "21        Experimental  408.25  510.25  524.25  504.75   855.25\n",
       "22             Control  211.00  285.25  197.50   67.75   219.75"
      ]
     },
     "execution_count": 19,
     "metadata": {},
     "output_type": "execute_result"
    }
   ],
   "source": [
    "## Loop through col_dict and calcualte the means for each phase for each mouse\n",
    "for phase, cols in col_dict.items():\n",
    "    df_means[phase] = df[col_dict[phase]].mean(axis=1)\n",
    "df_means"
   ]
  },
  {
   "cell_type": "markdown",
   "metadata": {},
   "source": [
    "### Getting Group Data For EDA & Testing"
   ]
  },
  {
   "cell_type": "code",
   "execution_count": 22,
   "metadata": {
    "ExecuteTime": {
     "end_time": "2020-08-08T01:10:36.947886Z",
     "start_time": "2020-08-08T01:10:36.934471Z"
    }
   },
   "outputs": [
    {
     "data": {
      "text/plain": [
       "{'Control': [1, 2, 3, 4, 12, 13, 14, 15, 22], 'Experimental': [5, 6, 7, 8, 9, 10, 11, 16, 17, 18, 19, 20, 21]}"
      ]
     },
     "execution_count": 22,
     "metadata": {},
     "output_type": "execute_result"
    }
   ],
   "source": [
    "## Use groupby.groups\n",
    "\n",
    "grps = df_means.groupby('Group').groups\n",
    "grps"
   ]
  },
  {
   "cell_type": "code",
   "execution_count": 23,
   "metadata": {
    "ExecuteTime": {
     "end_time": "2020-08-08T01:10:36.947886Z",
     "start_time": "2020-08-08T01:10:36.934471Z"
    }
   },
   "outputs": [
    {
     "data": {
      "text/html": [
       "<style  type=\"text/css\" >\n",
       "</style><table id=\"T_689d4a74_931a_11eb_a6d0_acde48001122\" ><caption>Control</caption><thead>    <tr>        <th class=\"blank level0\" ></th>        <th class=\"col_heading level0 col0\" >Group</th>        <th class=\"col_heading level0 col1\" >BL</th>        <th class=\"col_heading level0 col2\" >S</th>        <th class=\"col_heading level0 col3\" >PS</th>        <th class=\"col_heading level0 col4\" >R1</th>        <th class=\"col_heading level0 col5\" >R2</th>    </tr>    <tr>        <th class=\"index_name level0\" >Mouse_ID</th>        <th class=\"blank\" ></th>        <th class=\"blank\" ></th>        <th class=\"blank\" ></th>        <th class=\"blank\" ></th>        <th class=\"blank\" ></th>        <th class=\"blank\" ></th>    </tr></thead><tbody>\n",
       "                <tr>\n",
       "                        <th id=\"T_689d4a74_931a_11eb_a6d0_acde48001122level0_row0\" class=\"row_heading level0 row0\" >1</th>\n",
       "                        <td id=\"T_689d4a74_931a_11eb_a6d0_acde48001122row0_col0\" class=\"data row0 col0\" >Control</td>\n",
       "                        <td id=\"T_689d4a74_931a_11eb_a6d0_acde48001122row0_col1\" class=\"data row0 col1\" >697.000</td>\n",
       "                        <td id=\"T_689d4a74_931a_11eb_a6d0_acde48001122row0_col2\" class=\"data row0 col2\" >703.500</td>\n",
       "                        <td id=\"T_689d4a74_931a_11eb_a6d0_acde48001122row0_col3\" class=\"data row0 col3\" >645.250</td>\n",
       "                        <td id=\"T_689d4a74_931a_11eb_a6d0_acde48001122row0_col4\" class=\"data row0 col4\" >289.500</td>\n",
       "                        <td id=\"T_689d4a74_931a_11eb_a6d0_acde48001122row0_col5\" class=\"data row0 col5\" >578.750</td>\n",
       "            </tr>\n",
       "            <tr>\n",
       "                        <th id=\"T_689d4a74_931a_11eb_a6d0_acde48001122level0_row1\" class=\"row_heading level0 row1\" >2</th>\n",
       "                        <td id=\"T_689d4a74_931a_11eb_a6d0_acde48001122row1_col0\" class=\"data row1 col0\" >Control</td>\n",
       "                        <td id=\"T_689d4a74_931a_11eb_a6d0_acde48001122row1_col1\" class=\"data row1 col1\" >781.000</td>\n",
       "                        <td id=\"T_689d4a74_931a_11eb_a6d0_acde48001122row1_col2\" class=\"data row1 col2\" >808.750</td>\n",
       "                        <td id=\"T_689d4a74_931a_11eb_a6d0_acde48001122row1_col3\" class=\"data row1 col3\" >655.750</td>\n",
       "                        <td id=\"T_689d4a74_931a_11eb_a6d0_acde48001122row1_col4\" class=\"data row1 col4\" >356.750</td>\n",
       "                        <td id=\"T_689d4a74_931a_11eb_a6d0_acde48001122row1_col5\" class=\"data row1 col5\" >803.250</td>\n",
       "            </tr>\n",
       "            <tr>\n",
       "                        <th id=\"T_689d4a74_931a_11eb_a6d0_acde48001122level0_row2\" class=\"row_heading level0 row2\" >3</th>\n",
       "                        <td id=\"T_689d4a74_931a_11eb_a6d0_acde48001122row2_col0\" class=\"data row2 col0\" >Control</td>\n",
       "                        <td id=\"T_689d4a74_931a_11eb_a6d0_acde48001122row2_col1\" class=\"data row2 col1\" >658.250</td>\n",
       "                        <td id=\"T_689d4a74_931a_11eb_a6d0_acde48001122row2_col2\" class=\"data row2 col2\" >788.000</td>\n",
       "                        <td id=\"T_689d4a74_931a_11eb_a6d0_acde48001122row2_col3\" class=\"data row2 col3\" >864.500</td>\n",
       "                        <td id=\"T_689d4a74_931a_11eb_a6d0_acde48001122row2_col4\" class=\"data row2 col4\" >443.750</td>\n",
       "                        <td id=\"T_689d4a74_931a_11eb_a6d0_acde48001122row2_col5\" class=\"data row2 col5\" >686.000</td>\n",
       "            </tr>\n",
       "            <tr>\n",
       "                        <th id=\"T_689d4a74_931a_11eb_a6d0_acde48001122level0_row3\" class=\"row_heading level0 row3\" >4</th>\n",
       "                        <td id=\"T_689d4a74_931a_11eb_a6d0_acde48001122row3_col0\" class=\"data row3 col0\" >Control</td>\n",
       "                        <td id=\"T_689d4a74_931a_11eb_a6d0_acde48001122row3_col1\" class=\"data row3 col1\" >863.500</td>\n",
       "                        <td id=\"T_689d4a74_931a_11eb_a6d0_acde48001122row3_col2\" class=\"data row3 col2\" >671.500</td>\n",
       "                        <td id=\"T_689d4a74_931a_11eb_a6d0_acde48001122row3_col3\" class=\"data row3 col3\" >704.250</td>\n",
       "                        <td id=\"T_689d4a74_931a_11eb_a6d0_acde48001122row3_col4\" class=\"data row3 col4\" >402.250</td>\n",
       "                        <td id=\"T_689d4a74_931a_11eb_a6d0_acde48001122row3_col5\" class=\"data row3 col5\" >663.250</td>\n",
       "            </tr>\n",
       "            <tr>\n",
       "                        <th id=\"T_689d4a74_931a_11eb_a6d0_acde48001122level0_row4\" class=\"row_heading level0 row4\" >12</th>\n",
       "                        <td id=\"T_689d4a74_931a_11eb_a6d0_acde48001122row4_col0\" class=\"data row4 col0\" >Control</td>\n",
       "                        <td id=\"T_689d4a74_931a_11eb_a6d0_acde48001122row4_col1\" class=\"data row4 col1\" >549.000</td>\n",
       "                        <td id=\"T_689d4a74_931a_11eb_a6d0_acde48001122row4_col2\" class=\"data row4 col2\" >437.250</td>\n",
       "                        <td id=\"T_689d4a74_931a_11eb_a6d0_acde48001122row4_col3\" class=\"data row4 col3\" >469.250</td>\n",
       "                        <td id=\"T_689d4a74_931a_11eb_a6d0_acde48001122row4_col4\" class=\"data row4 col4\" >273.000</td>\n",
       "                        <td id=\"T_689d4a74_931a_11eb_a6d0_acde48001122row4_col5\" class=\"data row4 col5\" >518.750</td>\n",
       "            </tr>\n",
       "    </tbody></table>"
      ],
      "text/plain": [
       "<pandas.io.formats.style.Styler at 0x7ffa84074820>"
      ]
     },
     "metadata": {},
     "output_type": "display_data"
    },
    {
     "data": {
      "text/html": [
       "<style  type=\"text/css\" >\n",
       "</style><table id=\"T_689e1940_931a_11eb_a6d0_acde48001122\" ><caption>Experimental</caption><thead>    <tr>        <th class=\"blank level0\" ></th>        <th class=\"col_heading level0 col0\" >Group</th>        <th class=\"col_heading level0 col1\" >BL</th>        <th class=\"col_heading level0 col2\" >S</th>        <th class=\"col_heading level0 col3\" >PS</th>        <th class=\"col_heading level0 col4\" >R1</th>        <th class=\"col_heading level0 col5\" >R2</th>    </tr>    <tr>        <th class=\"index_name level0\" >Mouse_ID</th>        <th class=\"blank\" ></th>        <th class=\"blank\" ></th>        <th class=\"blank\" ></th>        <th class=\"blank\" ></th>        <th class=\"blank\" ></th>        <th class=\"blank\" ></th>    </tr></thead><tbody>\n",
       "                <tr>\n",
       "                        <th id=\"T_689e1940_931a_11eb_a6d0_acde48001122level0_row0\" class=\"row_heading level0 row0\" >5</th>\n",
       "                        <td id=\"T_689e1940_931a_11eb_a6d0_acde48001122row0_col0\" class=\"data row0 col0\" >Experimental</td>\n",
       "                        <td id=\"T_689e1940_931a_11eb_a6d0_acde48001122row0_col1\" class=\"data row0 col1\" >576.250</td>\n",
       "                        <td id=\"T_689e1940_931a_11eb_a6d0_acde48001122row0_col2\" class=\"data row0 col2\" >605.500</td>\n",
       "                        <td id=\"T_689e1940_931a_11eb_a6d0_acde48001122row0_col3\" class=\"data row0 col3\" >603.000</td>\n",
       "                        <td id=\"T_689e1940_931a_11eb_a6d0_acde48001122row0_col4\" class=\"data row0 col4\" >619.750</td>\n",
       "                        <td id=\"T_689e1940_931a_11eb_a6d0_acde48001122row0_col5\" class=\"data row0 col5\" >715.750</td>\n",
       "            </tr>\n",
       "            <tr>\n",
       "                        <th id=\"T_689e1940_931a_11eb_a6d0_acde48001122level0_row1\" class=\"row_heading level0 row1\" >6</th>\n",
       "                        <td id=\"T_689e1940_931a_11eb_a6d0_acde48001122row1_col0\" class=\"data row1 col0\" >Experimental</td>\n",
       "                        <td id=\"T_689e1940_931a_11eb_a6d0_acde48001122row1_col1\" class=\"data row1 col1\" >639.250</td>\n",
       "                        <td id=\"T_689e1940_931a_11eb_a6d0_acde48001122row1_col2\" class=\"data row1 col2\" >513.250</td>\n",
       "                        <td id=\"T_689e1940_931a_11eb_a6d0_acde48001122row1_col3\" class=\"data row1 col3\" >618.500</td>\n",
       "                        <td id=\"T_689e1940_931a_11eb_a6d0_acde48001122row1_col4\" class=\"data row1 col4\" >808.750</td>\n",
       "                        <td id=\"T_689e1940_931a_11eb_a6d0_acde48001122row1_col5\" class=\"data row1 col5\" >817.500</td>\n",
       "            </tr>\n",
       "            <tr>\n",
       "                        <th id=\"T_689e1940_931a_11eb_a6d0_acde48001122level0_row2\" class=\"row_heading level0 row2\" >7</th>\n",
       "                        <td id=\"T_689e1940_931a_11eb_a6d0_acde48001122row2_col0\" class=\"data row2 col0\" >Experimental</td>\n",
       "                        <td id=\"T_689e1940_931a_11eb_a6d0_acde48001122row2_col1\" class=\"data row2 col1\" >795.750</td>\n",
       "                        <td id=\"T_689e1940_931a_11eb_a6d0_acde48001122row2_col2\" class=\"data row2 col2\" >815.250</td>\n",
       "                        <td id=\"T_689e1940_931a_11eb_a6d0_acde48001122row2_col3\" class=\"data row2 col3\" >645.750</td>\n",
       "                        <td id=\"T_689e1940_931a_11eb_a6d0_acde48001122row2_col4\" class=\"data row2 col4\" >588.000</td>\n",
       "                        <td id=\"T_689e1940_931a_11eb_a6d0_acde48001122row2_col5\" class=\"data row2 col5\" >867.000</td>\n",
       "            </tr>\n",
       "            <tr>\n",
       "                        <th id=\"T_689e1940_931a_11eb_a6d0_acde48001122level0_row3\" class=\"row_heading level0 row3\" >8</th>\n",
       "                        <td id=\"T_689e1940_931a_11eb_a6d0_acde48001122row3_col0\" class=\"data row3 col0\" >Experimental</td>\n",
       "                        <td id=\"T_689e1940_931a_11eb_a6d0_acde48001122row3_col1\" class=\"data row3 col1\" >559.500</td>\n",
       "                        <td id=\"T_689e1940_931a_11eb_a6d0_acde48001122row3_col2\" class=\"data row3 col2\" >524.000</td>\n",
       "                        <td id=\"T_689e1940_931a_11eb_a6d0_acde48001122row3_col3\" class=\"data row3 col3\" >525.250</td>\n",
       "                        <td id=\"T_689e1940_931a_11eb_a6d0_acde48001122row3_col4\" class=\"data row3 col4\" >106.000</td>\n",
       "                        <td id=\"T_689e1940_931a_11eb_a6d0_acde48001122row3_col5\" class=\"data row3 col5\" >190.000</td>\n",
       "            </tr>\n",
       "            <tr>\n",
       "                        <th id=\"T_689e1940_931a_11eb_a6d0_acde48001122level0_row4\" class=\"row_heading level0 row4\" >9</th>\n",
       "                        <td id=\"T_689e1940_931a_11eb_a6d0_acde48001122row4_col0\" class=\"data row4 col0\" >Experimental</td>\n",
       "                        <td id=\"T_689e1940_931a_11eb_a6d0_acde48001122row4_col1\" class=\"data row4 col1\" >706.250</td>\n",
       "                        <td id=\"T_689e1940_931a_11eb_a6d0_acde48001122row4_col2\" class=\"data row4 col2\" >695.500</td>\n",
       "                        <td id=\"T_689e1940_931a_11eb_a6d0_acde48001122row4_col3\" class=\"data row4 col3\" >547.750</td>\n",
       "                        <td id=\"T_689e1940_931a_11eb_a6d0_acde48001122row4_col4\" class=\"data row4 col4\" >268.750</td>\n",
       "                        <td id=\"T_689e1940_931a_11eb_a6d0_acde48001122row4_col5\" class=\"data row4 col5\" >510.250</td>\n",
       "            </tr>\n",
       "    </tbody></table>"
      ],
      "text/plain": [
       "<pandas.io.formats.style.Styler at 0x7ffa84074580>"
      ]
     },
     "metadata": {},
     "output_type": "display_data"
    }
   ],
   "source": [
    "## Make an empty data dict\n",
    "data = {}\n",
    "\n",
    "## For each group and its row numbers\n",
    "for grp,row_nums in grps.items():\n",
    "    \n",
    "    ## Save the group df as grp name \n",
    "    data[grp ] = df_means.loc[row_nums]\n",
    "    \n",
    "    # Display data\n",
    "    display(data[grp].head().style.set_caption(grp))"
   ]
  },
  {
   "cell_type": "code",
   "execution_count": 24,
   "metadata": {
    "ExecuteTime": {
     "end_time": "2020-08-08T01:10:37.401419Z",
     "start_time": "2020-08-08T01:10:37.397991Z"
    }
   },
   "outputs": [
    {
     "data": {
      "text/plain": [
       "<function seaborn.categorical.barplot(*, x=None, y=None, hue=None, data=None, order=None, hue_order=None, estimator=<function mean at 0x7ffa80389a60>, ci=95, n_boot=1000, units=None, seed=None, orient=None, color=None, palette=None, saturation=0.75, errcolor='.26', errwidth=None, capsize=None, dodge=True, ax=None, **kwargs)>"
      ]
     },
     "execution_count": 24,
     "metadata": {},
     "output_type": "execute_result"
    }
   ],
   "source": [
    "sns.barplot"
   ]
  },
  {
   "cell_type": "markdown",
   "metadata": {},
   "source": [
    "### Plotting Group Means + Standard Error of the Mean"
   ]
  },
  {
   "cell_type": "code",
   "execution_count": 25,
   "metadata": {
    "ExecuteTime": {
     "end_time": "2020-08-08T01:10:39.025986Z",
     "start_time": "2020-08-08T01:10:39.021375Z"
    }
   },
   "outputs": [],
   "source": [
    "from scipy.stats import sem\n",
    "\n",
    "## Select a phase to visualize\n",
    "phase = 'BL'\n",
    "## Create lists for saving x,y, and yerr\n",
    "x = []\n",
    "y = []\n",
    "y_err = []\n",
    "\n",
    "# For each group\n",
    "for group_name in data:\n",
    "    \n",
    "    ## grab the correct phasen col from group data\n",
    "    grp_data = data[group_name][phase]\n",
    "    \n",
    "    ## Save x,y \n",
    "    x.append(group_name)\n",
    "    y.append(grp_data.mean())\n",
    "    \n",
    "    ## Calc and save error\n",
    "    y_err.append(sem(grp_data))\n",
    "    "
   ]
  },
  {
   "cell_type": "code",
   "execution_count": null,
   "metadata": {
    "ExecuteTime": {
     "end_time": "2020-08-08T01:10:39.664437Z",
     "start_time": "2020-08-08T01:10:39.661308Z"
    }
   },
   "outputs": [],
   "source": []
  },
  {
   "cell_type": "code",
   "execution_count": 29,
   "metadata": {
    "ExecuteTime": {
     "end_time": "2020-08-08T01:10:40.226044Z",
     "start_time": "2020-08-08T01:10:40.116327Z"
    }
   },
   "outputs": [
    {
     "data": {
      "text/plain": [
       "<BarContainer object of 2 artists>"
      ]
     },
     "execution_count": 29,
     "metadata": {},
     "output_type": "execute_result"
    },
    {
     "data": {
      "image/png": "[encoded data removed]",
      "text/plain": [
       "<Figure size 144x288 with 1 Axes>"
      ]
     },
     "metadata": {
      "needs_background": "light"
     },
     "output_type": "display_data"
    }
   ],
   "source": [
    "## plot with matplotlib\n",
    "fig, ax = plt.subplots(figsize=(2,4))\n",
    "ax.bar(x,y,yerr=y_err,color=['b','g'])"
   ]
  },
  {
   "cell_type": "code",
   "execution_count": 33,
   "metadata": {
    "ExecuteTime": {
     "end_time": "2020-08-08T01:10:40.660880Z",
     "start_time": "2020-08-08T01:10:40.655894Z"
    }
   },
   "outputs": [],
   "source": [
    "## Functionize\n",
    "from scipy.stats import sem\n",
    "\n",
    "def plot_bars_yerr(data,phase = \"BL\"):\n",
    "    \"\"\"Plots the group means +/- standard error of the mean.\"\"\"\n",
    "\n",
    "    ## Save x,y, and yerr\n",
    "    x = []\n",
    "    y = []\n",
    "    y_err = []\n",
    "    \n",
    "    for group in data:\n",
    "        grp_data = data[group][phase]\n",
    "        x.append(f\"{group}\")\n",
    "        y.append(grp_data.mean())\n",
    "        y_err.append(sem(grp_data))\n",
    "        \n",
    "    fig,ax = plt.subplots(figsize=(3,5))\n",
    "    ax.bar(x,y,yerr=y_err,color=['g','b'])\n",
    "    ax.set_title(f\"Phase = {phase}\")\n",
    "    ax.set(ylabel='# of Licks')\n",
    "    \n",
    "    return fig,ax"
   ]
  },
  {
   "cell_type": "code",
   "execution_count": 34,
   "metadata": {
    "ExecuteTime": {
     "end_time": "2020-08-08T01:10:41.201017Z",
     "start_time": "2020-08-08T01:10:41.080852Z"
    }
   },
   "outputs": [
    {
     "data": {
      "text/plain": [
       "(<Figure size 216x360 with 1 Axes>,\n",
       " <AxesSubplot:title={'center':'Phase = BL'}, ylabel='# of Licks'>)"
      ]
     },
     "execution_count": 34,
     "metadata": {},
     "output_type": "execute_result"
    },
    {
     "data": {
      "image/png": "[encoded data removed]",
      "text/plain": [
       "<Figure size 216x360 with 1 Axes>"
      ]
     },
     "metadata": {
      "needs_background": "light"
     },
     "output_type": "display_data"
    }
   ],
   "source": [
    "## test function\n",
    "plot_bars_yerr(data)"
   ]
  },
  {
   "cell_type": "markdown",
   "metadata": {
    "ExecuteTime": {
     "end_time": "2020-07-01T21:46:01.331338Z",
     "start_time": "2020-07-01T21:46:01.329075Z"
    }
   },
   "source": [
    "### Run 2-sample T-Test on Baseline Days"
   ]
  },
  {
   "cell_type": "code",
   "execution_count": 32,
   "metadata": {
    "ExecuteTime": {
     "end_time": "2020-08-08T01:10:41.428091Z",
     "start_time": "2020-08-08T01:10:41.307999Z"
    }
   },
   "outputs": [
    {
     "data": {
      "image/png": "[encoded data removed]",
      "text/plain": [
       "<Figure size 216x360 with 1 Axes>"
      ]
     },
     "metadata": {
      "needs_background": "light"
     },
     "output_type": "display_data"
    }
   ],
   "source": [
    "test_phase = \"BL\"\n",
    "f,a = plot_bars_yerr(data,phase)"
   ]
  },
  {
   "cell_type": "markdown",
   "metadata": {},
   "source": [
    "#### Test Assumptions"
   ]
  },
  {
   "cell_type": "code",
   "execution_count": 36,
   "metadata": {
    "ExecuteTime": {
     "end_time": "2020-08-08T01:10:42.176349Z",
     "start_time": "2020-08-08T01:10:42.167541Z"
    }
   },
   "outputs": [
    {
     "name": "stderr",
     "output_type": "stream",
     "text": [
      "/opt/anaconda3/envs/learn-env-new/lib/python3.8/site-packages/scipy/stats/stats.py:1603: UserWarning: kurtosistest only valid for n>=20 ... continuing anyway, n=9\n",
      "  warnings.warn(\"kurtosistest only valid for n>=20 ... continuing \"\n",
      "/opt/anaconda3/envs/learn-env-new/lib/python3.8/site-packages/scipy/stats/stats.py:1603: UserWarning: kurtosistest only valid for n>=20 ... continuing anyway, n=13\n",
      "  warnings.warn(\"kurtosistest only valid for n>=20 ... continuing \"\n"
     ]
    },
    {
     "data": {
      "text/plain": [
       "[['Phase', 'Group', 'N', 'Stat Test', 'stat', 'p', 'sig?'],\n",
       " ['BL',\n",
       "  'Control',\n",
       "  9,\n",
       "  'normality',\n",
       "  8.254723372420806,\n",
       "  0.016125366526865192,\n",
       "  True],\n",
       " ['BL',\n",
       "  'Experimental',\n",
       "  13,\n",
       "  'normality',\n",
       "  0.7897193225624515,\n",
       "  0.6737745892767993,\n",
       "  False]]"
      ]
     },
     "execution_count": 36,
     "metadata": {},
     "output_type": "execute_result"
    }
   ],
   "source": [
    "from scipy import stats\n",
    "\n",
    "phase='BL'\n",
    "\n",
    "## Make list of list of headers\n",
    "results = [['Phase','Group','N','Stat Test','stat','p','sig?']]\n",
    "\n",
    "## Make an empty list for our group data\n",
    "levenes_test = []\n",
    "\n",
    "## Loop through the data dictionary \n",
    "for grp, grp_df in data.items():\n",
    "   \n",
    "    ## Grab the correct phase column from the group df\n",
    "    grp_data = grp_df[phase].copy()\n",
    "    levenes_test.append(grp_data)\n",
    "    \n",
    "    \n",
    "    ## Test for nomrality and save result \n",
    "    stat,p = stats.normaltest(grp_data)\n",
    "    ## save results \n",
    "    results.append([phase,grp, len(grp_df),'normality',stat,p, p<.05])\n",
    "results"
   ]
  },
  {
   "cell_type": "code",
   "execution_count": 37,
   "metadata": {
    "ExecuteTime": {
     "end_time": "2020-08-08T01:10:42.176349Z",
     "start_time": "2020-08-08T01:10:42.167541Z"
    }
   },
   "outputs": [
    {
     "data": {
      "text/html": [
       "<div>\n",
       "<style scoped>\n",
       "    .dataframe tbody tr th:only-of-type {\n",
       "        vertical-align: middle;\n",
       "    }\n",
       "\n",
       "    .dataframe tbody tr th {\n",
       "        vertical-align: top;\n",
       "    }\n",
       "\n",
       "    .dataframe thead th {\n",
       "        text-align: right;\n",
       "    }\n",
       "</style>\n",
       "<table border=\"1\" class=\"dataframe\">\n",
       "  <thead>\n",
       "    <tr style=\"text-align: right;\">\n",
       "      <th></th>\n",
       "      <th>Phase</th>\n",
       "      <th>Group</th>\n",
       "      <th>N</th>\n",
       "      <th>Stat Test</th>\n",
       "      <th>stat</th>\n",
       "      <th>p</th>\n",
       "      <th>sig?</th>\n",
       "    </tr>\n",
       "  </thead>\n",
       "  <tbody>\n",
       "    <tr>\n",
       "      <th>0</th>\n",
       "      <td>BL</td>\n",
       "      <td>Control</td>\n",
       "      <td>9</td>\n",
       "      <td>normality</td>\n",
       "      <td>8.255</td>\n",
       "      <td>0.016</td>\n",
       "      <td>True</td>\n",
       "    </tr>\n",
       "    <tr>\n",
       "      <th>1</th>\n",
       "      <td>BL</td>\n",
       "      <td>Experimental</td>\n",
       "      <td>13</td>\n",
       "      <td>normality</td>\n",
       "      <td>0.790</td>\n",
       "      <td>0.674</td>\n",
       "      <td>False</td>\n",
       "    </tr>\n",
       "  </tbody>\n",
       "</table>\n",
       "</div>"
      ],
      "text/plain": [
       "  Phase         Group   N  Stat Test   stat      p   sig?\n",
       "0    BL       Control   9  normality  8.255  0.016   True\n",
       "1    BL  Experimental  13  normality  0.790  0.674  False"
      ]
     },
     "execution_count": 37,
     "metadata": {},
     "output_type": "execute_result"
    }
   ],
   "source": [
    "pd.DataFrame(results[1:],columns=results[0])"
   ]
  },
  {
   "cell_type": "markdown",
   "metadata": {},
   "source": [
    "### Adding Levene's Test"
   ]
  },
  {
   "cell_type": "code",
   "execution_count": 38,
   "metadata": {
    "ExecuteTime": {
     "end_time": "2020-08-08T01:10:43.822870Z",
     "start_time": "2020-08-08T01:10:43.801427Z"
    }
   },
   "outputs": [
    {
     "name": "stderr",
     "output_type": "stream",
     "text": [
      "/opt/anaconda3/envs/learn-env-new/lib/python3.8/site-packages/scipy/stats/stats.py:1603: UserWarning: kurtosistest only valid for n>=20 ... continuing anyway, n=9\n",
      "  warnings.warn(\"kurtosistest only valid for n>=20 ... continuing \"\n",
      "/opt/anaconda3/envs/learn-env-new/lib/python3.8/site-packages/scipy/stats/stats.py:1603: UserWarning: kurtosistest only valid for n>=20 ... continuing anyway, n=13\n",
      "  warnings.warn(\"kurtosistest only valid for n>=20 ... continuing \"\n"
     ]
    },
    {
     "data": {
      "text/html": [
       "<div>\n",
       "<style scoped>\n",
       "    .dataframe tbody tr th:only-of-type {\n",
       "        vertical-align: middle;\n",
       "    }\n",
       "\n",
       "    .dataframe tbody tr th {\n",
       "        vertical-align: top;\n",
       "    }\n",
       "\n",
       "    .dataframe thead th {\n",
       "        text-align: right;\n",
       "    }\n",
       "</style>\n",
       "<table border=\"1\" class=\"dataframe\">\n",
       "  <thead>\n",
       "    <tr style=\"text-align: right;\">\n",
       "      <th></th>\n",
       "      <th>Phase</th>\n",
       "      <th>Group</th>\n",
       "      <th>N</th>\n",
       "      <th>Stat Test</th>\n",
       "      <th>stat</th>\n",
       "      <th>p</th>\n",
       "      <th>sig?</th>\n",
       "    </tr>\n",
       "  </thead>\n",
       "  <tbody>\n",
       "    <tr>\n",
       "      <th>0</th>\n",
       "      <td>BL</td>\n",
       "      <td>Control</td>\n",
       "      <td>9</td>\n",
       "      <td>normality</td>\n",
       "      <td>8.255</td>\n",
       "      <td>0.016</td>\n",
       "      <td>True</td>\n",
       "    </tr>\n",
       "    <tr>\n",
       "      <th>1</th>\n",
       "      <td>BL</td>\n",
       "      <td>Experimental</td>\n",
       "      <td>13</td>\n",
       "      <td>normality</td>\n",
       "      <td>0.790</td>\n",
       "      <td>0.674</td>\n",
       "      <td>False</td>\n",
       "    </tr>\n",
       "    <tr>\n",
       "      <th>2</th>\n",
       "      <td>BL</td>\n",
       "      <td>all</td>\n",
       "      <td>-</td>\n",
       "      <td>Equal Variance</td>\n",
       "      <td>0.131</td>\n",
       "      <td>0.721</td>\n",
       "      <td>False</td>\n",
       "    </tr>\n",
       "  </tbody>\n",
       "</table>\n",
       "</div>"
      ],
      "text/plain": [
       "  Phase         Group   N       Stat Test   stat      p   sig?\n",
       "0    BL       Control   9       normality  8.255  0.016   True\n",
       "1    BL  Experimental  13       normality  0.790  0.674  False\n",
       "2    BL           all   -  Equal Variance  0.131  0.721  False"
      ]
     },
     "execution_count": 38,
     "metadata": {},
     "output_type": "execute_result"
    }
   ],
   "source": [
    "from scipy import stats\n",
    "\n",
    "phase='BL'\n",
    "\n",
    "## Make list of list of headers\n",
    "results = [['Phase','Group','N','Stat Test','stat','p','sig?']]\n",
    "\n",
    "## Make an empty list for our group data\n",
    "levenes_test = []\n",
    "\n",
    "## Loop through the data dictionary \n",
    "for grp, grp_df in data.items():\n",
    "   \n",
    "    ## Grab the correct phase column from the group df\n",
    "    grp_data = grp_df[phase].copy()\n",
    "    levenes_test.append(grp_data)\n",
    "    \n",
    "    \n",
    "    ## Test for nomrality and save result \n",
    "    stat,p = stats.normaltest(grp_data)\n",
    "    ## save results \n",
    "    results.append([phase,grp, len(grp_df),'normality',stat,p, p<.05])\n",
    "    \n",
    "## Add LEvens' test \n",
    "stat, p = stats.levene(*levenes_test)\n",
    "results.append([phase,'all','-','Equal Variance',stat,p,p<.05])\n",
    "\n",
    "results_df =pd.DataFrame(results[1:],columns=results[0])\n",
    "results_df"
   ]
  },
  {
   "cell_type": "markdown",
   "metadata": {},
   "source": [
    "#### Run Correct Test"
   ]
  },
  {
   "cell_type": "markdown",
   "metadata": {},
   "source": [
    "- Since we failed assumption of normality, we will perform the Mann Whitney U test instead of the 2-sample t-test"
   ]
  },
  {
   "cell_type": "code",
   "execution_count": null,
   "metadata": {
    "ExecuteTime": {
     "end_time": "2020-08-08T01:10:44.479259Z",
     "start_time": "2020-08-08T01:10:44.475229Z"
    }
   },
   "outputs": [],
   "source": [
    "## visualize one more time and run the correct test\n"
   ]
  },
  {
   "cell_type": "code",
   "execution_count": 39,
   "metadata": {
    "ExecuteTime": {
     "end_time": "2020-08-08T01:10:45.298332Z",
     "start_time": "2020-08-08T01:10:45.292741Z"
    }
   },
   "outputs": [],
   "source": [
    "## Functionize code for testing other phases\n",
    "def test_assumptions(data,test_phase):#,plot=True):\n",
    "\n",
    "    ## Make list of list of headers\n",
    "    results = [['Phase','Group','n','Test Name','Test Stat','p','sig?']]\n",
    "\n",
    "    ## Make an empty list for our group data\n",
    "    test_equal_var = []\n",
    "\n",
    "    ## Loop through the data dictionary \n",
    "    for grp,grp_df in data.items():\n",
    "\n",
    "        ## Grab the correct phase column from the group df\n",
    "        grp_data = grp_df[test_phase].copy()\n",
    "        ## Append group data to list of group data\n",
    "        test_equal_var.append(grp_data)\n",
    "\n",
    "        ## Test for nomrality and save result \n",
    "        stat,p = stats.normaltest(grp_data)\n",
    "        results.append([test_phase, grp,len(grp_data),'normality',stat,p,p<.05])\n",
    "\n",
    "\n",
    "    ## Test for equal variance\n",
    "    stat, p = stats.levene(*test_equal_var)\n",
    "    results.append([test_phase,'-','-','Equal Variance',stat,p,p<.05])\n",
    "\n",
    "    results_df = pd.DataFrame(results[1:],columns=results[0])\n",
    "    return results_df"
   ]
  },
  {
   "cell_type": "code",
   "execution_count": null,
   "metadata": {},
   "outputs": [],
   "source": []
  },
  {
   "cell_type": "code",
   "execution_count": 40,
   "metadata": {
    "ExecuteTime": {
     "end_time": "2020-08-08T01:10:45.692536Z",
     "start_time": "2020-08-08T01:10:45.672575Z"
    }
   },
   "outputs": [
    {
     "name": "stderr",
     "output_type": "stream",
     "text": [
      "/opt/anaconda3/envs/learn-env-new/lib/python3.8/site-packages/scipy/stats/stats.py:1603: UserWarning: kurtosistest only valid for n>=20 ... continuing anyway, n=9\n",
      "  warnings.warn(\"kurtosistest only valid for n>=20 ... continuing \"\n",
      "/opt/anaconda3/envs/learn-env-new/lib/python3.8/site-packages/scipy/stats/stats.py:1603: UserWarning: kurtosistest only valid for n>=20 ... continuing anyway, n=13\n",
      "  warnings.warn(\"kurtosistest only valid for n>=20 ... continuing \"\n"
     ]
    },
    {
     "data": {
      "text/html": [
       "<div>\n",
       "<style scoped>\n",
       "    .dataframe tbody tr th:only-of-type {\n",
       "        vertical-align: middle;\n",
       "    }\n",
       "\n",
       "    .dataframe tbody tr th {\n",
       "        vertical-align: top;\n",
       "    }\n",
       "\n",
       "    .dataframe thead th {\n",
       "        text-align: right;\n",
       "    }\n",
       "</style>\n",
       "<table border=\"1\" class=\"dataframe\">\n",
       "  <thead>\n",
       "    <tr style=\"text-align: right;\">\n",
       "      <th></th>\n",
       "      <th>Phase</th>\n",
       "      <th>Group</th>\n",
       "      <th>n</th>\n",
       "      <th>Test Name</th>\n",
       "      <th>Test Stat</th>\n",
       "      <th>p</th>\n",
       "      <th>sig?</th>\n",
       "    </tr>\n",
       "  </thead>\n",
       "  <tbody>\n",
       "    <tr>\n",
       "      <th>0</th>\n",
       "      <td>BL</td>\n",
       "      <td>Control</td>\n",
       "      <td>9</td>\n",
       "      <td>normality</td>\n",
       "      <td>8.255</td>\n",
       "      <td>0.016</td>\n",
       "      <td>True</td>\n",
       "    </tr>\n",
       "    <tr>\n",
       "      <th>1</th>\n",
       "      <td>BL</td>\n",
       "      <td>Experimental</td>\n",
       "      <td>13</td>\n",
       "      <td>normality</td>\n",
       "      <td>0.790</td>\n",
       "      <td>0.674</td>\n",
       "      <td>False</td>\n",
       "    </tr>\n",
       "    <tr>\n",
       "      <th>2</th>\n",
       "      <td>BL</td>\n",
       "      <td>-</td>\n",
       "      <td>-</td>\n",
       "      <td>Equal Variance</td>\n",
       "      <td>0.131</td>\n",
       "      <td>0.721</td>\n",
       "      <td>False</td>\n",
       "    </tr>\n",
       "  </tbody>\n",
       "</table>\n",
       "</div>"
      ],
      "text/plain": [
       "  Phase         Group   n       Test Name  Test Stat      p   sig?\n",
       "0    BL       Control   9       normality      8.255  0.016   True\n",
       "1    BL  Experimental  13       normality      0.790  0.674  False\n",
       "2    BL             -   -  Equal Variance      0.131  0.721  False"
      ]
     },
     "execution_count": 40,
     "metadata": {},
     "output_type": "execute_result"
    },
    {
     "data": {
      "image/png": "[encoded data removed]",
      "text/plain": [
       "<Figure size 216x360 with 1 Axes>"
      ]
     },
     "metadata": {
      "needs_background": "light"
     },
     "output_type": "display_data"
    }
   ],
   "source": [
    "## Using our two functions, plot and test the asssumptions for S phase\n",
    "plot_bars_yerr(data,'BL')\n",
    "test_assumptions(data,'BL')"
   ]
  },
  {
   "cell_type": "markdown",
   "metadata": {},
   "source": [
    "#### Make a final function to use both of the above"
   ]
  },
  {
   "cell_type": "code",
   "execution_count": 42,
   "metadata": {},
   "outputs": [],
   "source": [
    "def test_and_plot_phase(data,phase):\n",
    "    res_df = test_assumptions(data,phase)\n",
    "    f,a = plot_bars_yerr(data,phase)\n",
    "    display(res_df)\n",
    "    plt.show()"
   ]
  },
  {
   "cell_type": "markdown",
   "metadata": {},
   "source": [
    "### Using our functions, evaluate each phase's assumption tests and select the correct hypothesis test"
   ]
  },
  {
   "cell_type": "code",
   "execution_count": 44,
   "metadata": {},
   "outputs": [
    {
     "name": "stderr",
     "output_type": "stream",
     "text": [
      "/opt/anaconda3/envs/learn-env-new/lib/python3.8/site-packages/scipy/stats/stats.py:1603: UserWarning: kurtosistest only valid for n>=20 ... continuing anyway, n=9\n",
      "  warnings.warn(\"kurtosistest only valid for n>=20 ... continuing \"\n",
      "/opt/anaconda3/envs/learn-env-new/lib/python3.8/site-packages/scipy/stats/stats.py:1603: UserWarning: kurtosistest only valid for n>=20 ... continuing anyway, n=13\n",
      "  warnings.warn(\"kurtosistest only valid for n>=20 ... continuing \"\n"
     ]
    },
    {
     "data": {
      "text/html": [
       "<div>\n",
       "<style scoped>\n",
       "    .dataframe tbody tr th:only-of-type {\n",
       "        vertical-align: middle;\n",
       "    }\n",
       "\n",
       "    .dataframe tbody tr th {\n",
       "        vertical-align: top;\n",
       "    }\n",
       "\n",
       "    .dataframe thead th {\n",
       "        text-align: right;\n",
       "    }\n",
       "</style>\n",
       "<table border=\"1\" class=\"dataframe\">\n",
       "  <thead>\n",
       "    <tr style=\"text-align: right;\">\n",
       "      <th></th>\n",
       "      <th>Phase</th>\n",
       "      <th>Group</th>\n",
       "      <th>n</th>\n",
       "      <th>Test Name</th>\n",
       "      <th>Test Stat</th>\n",
       "      <th>p</th>\n",
       "      <th>sig?</th>\n",
       "    </tr>\n",
       "  </thead>\n",
       "  <tbody>\n",
       "    <tr>\n",
       "      <th>0</th>\n",
       "      <td>BL</td>\n",
       "      <td>Control</td>\n",
       "      <td>9</td>\n",
       "      <td>normality</td>\n",
       "      <td>8.255</td>\n",
       "      <td>0.016</td>\n",
       "      <td>True</td>\n",
       "    </tr>\n",
       "    <tr>\n",
       "      <th>1</th>\n",
       "      <td>BL</td>\n",
       "      <td>Experimental</td>\n",
       "      <td>13</td>\n",
       "      <td>normality</td>\n",
       "      <td>0.790</td>\n",
       "      <td>0.674</td>\n",
       "      <td>False</td>\n",
       "    </tr>\n",
       "    <tr>\n",
       "      <th>2</th>\n",
       "      <td>BL</td>\n",
       "      <td>-</td>\n",
       "      <td>-</td>\n",
       "      <td>Equal Variance</td>\n",
       "      <td>0.131</td>\n",
       "      <td>0.721</td>\n",
       "      <td>False</td>\n",
       "    </tr>\n",
       "  </tbody>\n",
       "</table>\n",
       "</div>"
      ],
      "text/plain": [
       "  Phase         Group   n       Test Name  Test Stat      p   sig?\n",
       "0    BL       Control   9       normality      8.255  0.016   True\n",
       "1    BL  Experimental  13       normality      0.790  0.674  False\n",
       "2    BL             -   -  Equal Variance      0.131  0.721  False"
      ]
     },
     "metadata": {},
     "output_type": "display_data"
    },
    {
     "data": {
      "image/png": "[encoded data removed]",
      "text/plain": [
       "<Figure size 216x360 with 1 Axes>"
      ]
     },
     "metadata": {
      "needs_background": "light"
     },
     "output_type": "display_data"
    },
    {
     "data": {
      "text/plain": [
       "MannwhitneyuResult(statistic=47.0, pvalue=0.23130417364131195)"
      ]
     },
     "execution_count": 44,
     "metadata": {},
     "output_type": "execute_result"
    }
   ],
   "source": [
    "## BL \n",
    "test_and_plot_phase(data,'BL')\n",
    "stats.mannwhitneyu(data['Control']['BL'],\n",
    "                   data['Experimental']['BL'])"
   ]
  },
  {
   "cell_type": "code",
   "execution_count": 46,
   "metadata": {
    "ExecuteTime": {
     "end_time": "2020-08-08T01:10:47.892565Z",
     "start_time": "2020-08-08T01:10:47.198570Z"
    },
    "scrolled": false
   },
   "outputs": [
    {
     "name": "stderr",
     "output_type": "stream",
     "text": [
      "/opt/anaconda3/envs/learn-env-new/lib/python3.8/site-packages/scipy/stats/stats.py:1603: UserWarning: kurtosistest only valid for n>=20 ... continuing anyway, n=9\n",
      "  warnings.warn(\"kurtosistest only valid for n>=20 ... continuing \"\n",
      "/opt/anaconda3/envs/learn-env-new/lib/python3.8/site-packages/scipy/stats/stats.py:1603: UserWarning: kurtosistest only valid for n>=20 ... continuing anyway, n=13\n",
      "  warnings.warn(\"kurtosistest only valid for n>=20 ... continuing \"\n"
     ]
    },
    {
     "data": {
      "text/html": [
       "<div>\n",
       "<style scoped>\n",
       "    .dataframe tbody tr th:only-of-type {\n",
       "        vertical-align: middle;\n",
       "    }\n",
       "\n",
       "    .dataframe tbody tr th {\n",
       "        vertical-align: top;\n",
       "    }\n",
       "\n",
       "    .dataframe thead th {\n",
       "        text-align: right;\n",
       "    }\n",
       "</style>\n",
       "<table border=\"1\" class=\"dataframe\">\n",
       "  <thead>\n",
       "    <tr style=\"text-align: right;\">\n",
       "      <th></th>\n",
       "      <th>Phase</th>\n",
       "      <th>Group</th>\n",
       "      <th>n</th>\n",
       "      <th>Test Name</th>\n",
       "      <th>Test Stat</th>\n",
       "      <th>p</th>\n",
       "      <th>sig?</th>\n",
       "    </tr>\n",
       "  </thead>\n",
       "  <tbody>\n",
       "    <tr>\n",
       "      <th>0</th>\n",
       "      <td>S</td>\n",
       "      <td>Control</td>\n",
       "      <td>9</td>\n",
       "      <td>normality</td>\n",
       "      <td>0.490</td>\n",
       "      <td>0.783</td>\n",
       "      <td>False</td>\n",
       "    </tr>\n",
       "    <tr>\n",
       "      <th>1</th>\n",
       "      <td>S</td>\n",
       "      <td>Experimental</td>\n",
       "      <td>13</td>\n",
       "      <td>normality</td>\n",
       "      <td>6.533</td>\n",
       "      <td>0.038</td>\n",
       "      <td>True</td>\n",
       "    </tr>\n",
       "    <tr>\n",
       "      <th>2</th>\n",
       "      <td>S</td>\n",
       "      <td>-</td>\n",
       "      <td>-</td>\n",
       "      <td>Equal Variance</td>\n",
       "      <td>0.072</td>\n",
       "      <td>0.791</td>\n",
       "      <td>False</td>\n",
       "    </tr>\n",
       "  </tbody>\n",
       "</table>\n",
       "</div>"
      ],
      "text/plain": [
       "  Phase         Group   n       Test Name  Test Stat      p   sig?\n",
       "0     S       Control   9       normality      0.490  0.783  False\n",
       "1     S  Experimental  13       normality      6.533  0.038   True\n",
       "2     S             -   -  Equal Variance      0.072  0.791  False"
      ]
     },
     "metadata": {},
     "output_type": "display_data"
    },
    {
     "data": {
      "image/png": "[encoded data removed]",
      "text/plain": [
       "<Figure size 216x360 with 1 Axes>"
      ]
     },
     "metadata": {
      "needs_background": "light"
     },
     "output_type": "display_data"
    },
    {
     "data": {
      "text/plain": [
       "MannwhitneyuResult(statistic=51.5, pvalue=0.3320788807684706)"
      ]
     },
     "execution_count": 46,
     "metadata": {},
     "output_type": "execute_result"
    }
   ],
   "source": [
    "# S\n",
    "test_and_plot_phase(data,'S')\n",
    "stats.mannwhitneyu(data['Control']['S'],\n",
    "                   data['Experimental']['S'])"
   ]
  },
  {
   "cell_type": "code",
   "execution_count": 48,
   "metadata": {},
   "outputs": [
    {
     "name": "stderr",
     "output_type": "stream",
     "text": [
      "/opt/anaconda3/envs/learn-env-new/lib/python3.8/site-packages/scipy/stats/stats.py:1603: UserWarning: kurtosistest only valid for n>=20 ... continuing anyway, n=9\n",
      "  warnings.warn(\"kurtosistest only valid for n>=20 ... continuing \"\n",
      "/opt/anaconda3/envs/learn-env-new/lib/python3.8/site-packages/scipy/stats/stats.py:1603: UserWarning: kurtosistest only valid for n>=20 ... continuing anyway, n=13\n",
      "  warnings.warn(\"kurtosistest only valid for n>=20 ... continuing \"\n"
     ]
    },
    {
     "data": {
      "text/html": [
       "<div>\n",
       "<style scoped>\n",
       "    .dataframe tbody tr th:only-of-type {\n",
       "        vertical-align: middle;\n",
       "    }\n",
       "\n",
       "    .dataframe tbody tr th {\n",
       "        vertical-align: top;\n",
       "    }\n",
       "\n",
       "    .dataframe thead th {\n",
       "        text-align: right;\n",
       "    }\n",
       "</style>\n",
       "<table border=\"1\" class=\"dataframe\">\n",
       "  <thead>\n",
       "    <tr style=\"text-align: right;\">\n",
       "      <th></th>\n",
       "      <th>Phase</th>\n",
       "      <th>Group</th>\n",
       "      <th>n</th>\n",
       "      <th>Test Name</th>\n",
       "      <th>Test Stat</th>\n",
       "      <th>p</th>\n",
       "      <th>sig?</th>\n",
       "    </tr>\n",
       "  </thead>\n",
       "  <tbody>\n",
       "    <tr>\n",
       "      <th>0</th>\n",
       "      <td>R1</td>\n",
       "      <td>Control</td>\n",
       "      <td>9</td>\n",
       "      <td>normality</td>\n",
       "      <td>3.932</td>\n",
       "      <td>0.140</td>\n",
       "      <td>False</td>\n",
       "    </tr>\n",
       "    <tr>\n",
       "      <th>1</th>\n",
       "      <td>R1</td>\n",
       "      <td>Experimental</td>\n",
       "      <td>13</td>\n",
       "      <td>normality</td>\n",
       "      <td>3.078</td>\n",
       "      <td>0.215</td>\n",
       "      <td>False</td>\n",
       "    </tr>\n",
       "    <tr>\n",
       "      <th>2</th>\n",
       "      <td>R1</td>\n",
       "      <td>-</td>\n",
       "      <td>-</td>\n",
       "      <td>Equal Variance</td>\n",
       "      <td>1.026</td>\n",
       "      <td>0.323</td>\n",
       "      <td>False</td>\n",
       "    </tr>\n",
       "  </tbody>\n",
       "</table>\n",
       "</div>"
      ],
      "text/plain": [
       "  Phase         Group   n       Test Name  Test Stat      p   sig?\n",
       "0    R1       Control   9       normality      3.932  0.140  False\n",
       "1    R1  Experimental  13       normality      3.078  0.215  False\n",
       "2    R1             -   -  Equal Variance      1.026  0.323  False"
      ]
     },
     "metadata": {},
     "output_type": "display_data"
    },
    {
     "data": {
      "image/png": "[encoded data removed]",
      "text/plain": [
       "<Figure size 216x360 with 1 Axes>"
      ]
     },
     "metadata": {
      "needs_background": "light"
     },
     "output_type": "display_data"
    },
    {
     "data": {
      "text/plain": [
       "Ttest_indResult(statistic=-2.3712598087477406, pvalue=0.02788240296608544)"
      ]
     },
     "execution_count": 48,
     "metadata": {},
     "output_type": "execute_result"
    }
   ],
   "source": [
    "# R1\n",
    "test_and_plot_phase(data,'R1')\n",
    "stats.ttest_ind(data['Control']['R1'],\n",
    "                   data['Experimental']['R1'])\n"
   ]
  },
  {
   "cell_type": "code",
   "execution_count": 50,
   "metadata": {},
   "outputs": [
    {
     "name": "stderr",
     "output_type": "stream",
     "text": [
      "/opt/anaconda3/envs/learn-env-new/lib/python3.8/site-packages/scipy/stats/stats.py:1603: UserWarning: kurtosistest only valid for n>=20 ... continuing anyway, n=9\n",
      "  warnings.warn(\"kurtosistest only valid for n>=20 ... continuing \"\n",
      "/opt/anaconda3/envs/learn-env-new/lib/python3.8/site-packages/scipy/stats/stats.py:1603: UserWarning: kurtosistest only valid for n>=20 ... continuing anyway, n=13\n",
      "  warnings.warn(\"kurtosistest only valid for n>=20 ... continuing \"\n"
     ]
    },
    {
     "data": {
      "text/html": [
       "<div>\n",
       "<style scoped>\n",
       "    .dataframe tbody tr th:only-of-type {\n",
       "        vertical-align: middle;\n",
       "    }\n",
       "\n",
       "    .dataframe tbody tr th {\n",
       "        vertical-align: top;\n",
       "    }\n",
       "\n",
       "    .dataframe thead th {\n",
       "        text-align: right;\n",
       "    }\n",
       "</style>\n",
       "<table border=\"1\" class=\"dataframe\">\n",
       "  <thead>\n",
       "    <tr style=\"text-align: right;\">\n",
       "      <th></th>\n",
       "      <th>Phase</th>\n",
       "      <th>Group</th>\n",
       "      <th>n</th>\n",
       "      <th>Test Name</th>\n",
       "      <th>Test Stat</th>\n",
       "      <th>p</th>\n",
       "      <th>sig?</th>\n",
       "    </tr>\n",
       "  </thead>\n",
       "  <tbody>\n",
       "    <tr>\n",
       "      <th>0</th>\n",
       "      <td>R2</td>\n",
       "      <td>Control</td>\n",
       "      <td>9</td>\n",
       "      <td>normality</td>\n",
       "      <td>4.193</td>\n",
       "      <td>0.123</td>\n",
       "      <td>False</td>\n",
       "    </tr>\n",
       "    <tr>\n",
       "      <th>1</th>\n",
       "      <td>R2</td>\n",
       "      <td>Experimental</td>\n",
       "      <td>13</td>\n",
       "      <td>normality</td>\n",
       "      <td>0.325</td>\n",
       "      <td>0.850</td>\n",
       "      <td>False</td>\n",
       "    </tr>\n",
       "    <tr>\n",
       "      <th>2</th>\n",
       "      <td>R2</td>\n",
       "      <td>-</td>\n",
       "      <td>-</td>\n",
       "      <td>Equal Variance</td>\n",
       "      <td>1.730</td>\n",
       "      <td>0.203</td>\n",
       "      <td>False</td>\n",
       "    </tr>\n",
       "  </tbody>\n",
       "</table>\n",
       "</div>"
      ],
      "text/plain": [
       "  Phase         Group   n       Test Name  Test Stat      p   sig?\n",
       "0    R2       Control   9       normality      4.193  0.123  False\n",
       "1    R2  Experimental  13       normality      0.325  0.850  False\n",
       "2    R2             -   -  Equal Variance      1.730  0.203  False"
      ]
     },
     "metadata": {},
     "output_type": "display_data"
    },
    {
     "data": {
      "image/png": "[encoded data removed]",
      "text/plain": [
       "<Figure size 216x360 with 1 Axes>"
      ]
     },
     "metadata": {
      "needs_background": "light"
     },
     "output_type": "display_data"
    },
    {
     "data": {
      "text/plain": [
       "Ttest_indResult(statistic=-1.412066452609746, pvalue=0.17330114036439856)"
      ]
     },
     "execution_count": 50,
     "metadata": {},
     "output_type": "execute_result"
    }
   ],
   "source": [
    "#R2\n",
    "test_and_plot_phase(data,'R2')\n",
    "stats.ttest_ind(data['Control']['R2'],\n",
    "                   data['Experimental']['R2'])"
   ]
  },
  {
   "cell_type": "markdown",
   "metadata": {},
   "source": [
    "## ANOVA"
   ]
  },
  {
   "cell_type": "markdown",
   "metadata": {},
   "source": [
    "- Let's analyze the difference between phases for an ANOVA"
   ]
  },
  {
   "cell_type": "markdown",
   "metadata": {},
   "source": [
    "### Run One-Way ANOVAs with Scipy\n",
    "- One for Control Mice \n",
    "- One for Experimental Mice"
   ]
  },
  {
   "cell_type": "code",
   "execution_count": 54,
   "metadata": {},
   "outputs": [
    {
     "data": {
      "text/plain": [
       "Mouse_ID\n",
       "1     697.00\n",
       "2     781.00\n",
       "3     658.25\n",
       "4     863.50\n",
       "12    549.00\n",
       "13    602.00\n",
       "14    732.50\n",
       "15    618.00\n",
       "22    211.00\n",
       "Name: BL, dtype: float64"
      ]
     },
     "execution_count": 54,
     "metadata": {},
     "output_type": "execute_result"
    }
   ],
   "source": [
    "data['Control']['BL']"
   ]
  },
  {
   "cell_type": "code",
   "execution_count": 55,
   "metadata": {
    "ExecuteTime": {
     "end_time": "2020-08-08T01:10:48.652014Z",
     "start_time": "2020-08-08T01:10:48.617953Z"
    }
   },
   "outputs": [
    {
     "data": {
      "text/plain": [
       "F_onewayResult(statistic=6.376000275714917, pvalue=0.0016400902609930025)"
      ]
     },
     "execution_count": 55,
     "metadata": {},
     "output_type": "execute_result"
    }
   ],
   "source": [
    "## Run f_oneway \n",
    "stats.f_oneway(data['Control']['BL'],\n",
    "              data['Control']['S'],\n",
    "              data['Control']['R1'],\n",
    "              data['Control']['R2'])"
   ]
  },
  {
   "cell_type": "code",
   "execution_count": 59,
   "metadata": {},
   "outputs": [
    {
     "data": {
      "text/plain": [
       "<AxesSubplot:>"
      ]
     },
     "execution_count": 59,
     "metadata": {},
     "output_type": "execute_result"
    },
    {
     "data": {
      "image/png": "[encoded data removed]",
      "text/plain": [
       "<Figure size 576x396 with 1 Axes>"
      ]
     },
     "metadata": {
      "needs_background": "light"
     },
     "output_type": "display_data"
    }
   ],
   "source": [
    "data['Control'].drop(columns='Group').mean().plot(kind='bar')"
   ]
  },
  {
   "cell_type": "code",
   "execution_count": 56,
   "metadata": {},
   "outputs": [
    {
     "data": {
      "text/plain": [
       "F_onewayResult(statistic=1.7233218231284195, pvalue=0.17472593698289063)"
      ]
     },
     "execution_count": 56,
     "metadata": {},
     "output_type": "execute_result"
    }
   ],
   "source": [
    "## Run f_oneway \n",
    "stats.f_oneway(data['Experimental']['BL'],\n",
    "              data['Experimental']['S'],\n",
    "              data['Experimental']['R1'],\n",
    "              data['Experimental']['R2'])"
   ]
  },
  {
   "cell_type": "code",
   "execution_count": 62,
   "metadata": {},
   "outputs": [
    {
     "data": {
      "text/plain": [
       "<AxesSubplot:>"
      ]
     },
     "execution_count": 62,
     "metadata": {},
     "output_type": "execute_result"
    },
    {
     "data": {
      "image/png": "[encoded data removed]",
      "text/plain": [
       "<Figure size 576x396 with 1 Axes>"
      ]
     },
     "metadata": {
      "needs_background": "light"
     },
     "output_type": "display_data"
    }
   ],
   "source": [
    "data['Experimental'].drop(columns='Group').mean().plot(kind='bar')"
   ]
  },
  {
   "cell_type": "markdown",
   "metadata": {},
   "source": [
    "- compare the two p-values"
   ]
  },
  {
   "cell_type": "markdown",
   "metadata": {},
   "source": [
    "## Two-Way  ANOVA with Statsmodels"
   ]
  },
  {
   "cell_type": "markdown",
   "metadata": {},
   "source": [
    "<!-- ### RM ANOVA Melting DF -->\n",
    "\n",
    "### Melting a dataframe\n",
    "https://pandas.pydata.org/docs/reference/api/pandas.melt.html"
   ]
  },
  {
   "cell_type": "code",
   "execution_count": 67,
   "metadata": {},
   "outputs": [],
   "source": []
  },
  {
   "cell_type": "code",
   "execution_count": 66,
   "metadata": {},
   "outputs": [
    {
     "data": {
      "text/html": [
       "<div>\n",
       "<style scoped>\n",
       "    .dataframe tbody tr th:only-of-type {\n",
       "        vertical-align: middle;\n",
       "    }\n",
       "\n",
       "    .dataframe tbody tr th {\n",
       "        vertical-align: top;\n",
       "    }\n",
       "\n",
       "    .dataframe thead th {\n",
       "        text-align: right;\n",
       "    }\n",
       "</style>\n",
       "<table border=\"1\" class=\"dataframe\">\n",
       "  <thead>\n",
       "    <tr style=\"text-align: right;\">\n",
       "      <th></th>\n",
       "      <th>Mouse_ID</th>\n",
       "      <th>Group</th>\n",
       "      <th>BL1</th>\n",
       "      <th>BL2</th>\n",
       "      <th>BL3</th>\n",
       "      <th>BL4</th>\n",
       "      <th>S1</th>\n",
       "      <th>S2</th>\n",
       "      <th>S3</th>\n",
       "      <th>S4</th>\n",
       "      <th>PS1</th>\n",
       "      <th>PS2</th>\n",
       "      <th>PS3</th>\n",
       "      <th>PS4</th>\n",
       "      <th>R1_1</th>\n",
       "      <th>R1_2</th>\n",
       "      <th>R1_3</th>\n",
       "      <th>R1_4</th>\n",
       "      <th>R2_1</th>\n",
       "      <th>R2_2</th>\n",
       "      <th>R2_3</th>\n",
       "      <th>R2_4</th>\n",
       "    </tr>\n",
       "  </thead>\n",
       "  <tbody>\n",
       "    <tr>\n",
       "      <th>0</th>\n",
       "      <td>1</td>\n",
       "      <td>Control</td>\n",
       "      <td>665</td>\n",
       "      <td>863</td>\n",
       "      <td>631</td>\n",
       "      <td>629</td>\n",
       "      <td>583</td>\n",
       "      <td>801</td>\n",
       "      <td>723</td>\n",
       "      <td>707</td>\n",
       "      <td>732</td>\n",
       "      <td>680</td>\n",
       "      <td>684</td>\n",
       "      <td>485</td>\n",
       "      <td>65</td>\n",
       "      <td>301</td>\n",
       "      <td>351</td>\n",
       "      <td>441</td>\n",
       "      <td>675</td>\n",
       "      <td>554</td>\n",
       "      <td>541</td>\n",
       "      <td>545</td>\n",
       "    </tr>\n",
       "    <tr>\n",
       "      <th>1</th>\n",
       "      <td>2</td>\n",
       "      <td>Control</td>\n",
       "      <td>859</td>\n",
       "      <td>849</td>\n",
       "      <td>685</td>\n",
       "      <td>731</td>\n",
       "      <td>854</td>\n",
       "      <td>1103</td>\n",
       "      <td>645</td>\n",
       "      <td>633</td>\n",
       "      <td>733</td>\n",
       "      <td>662</td>\n",
       "      <td>605</td>\n",
       "      <td>623</td>\n",
       "      <td>128</td>\n",
       "      <td>268</td>\n",
       "      <td>462</td>\n",
       "      <td>569</td>\n",
       "      <td>988</td>\n",
       "      <td>728</td>\n",
       "      <td>933</td>\n",
       "      <td>564</td>\n",
       "    </tr>\n",
       "    <tr>\n",
       "      <th>2</th>\n",
       "      <td>3</td>\n",
       "      <td>Control</td>\n",
       "      <td>589</td>\n",
       "      <td>507</td>\n",
       "      <td>635</td>\n",
       "      <td>902</td>\n",
       "      <td>699</td>\n",
       "      <td>743</td>\n",
       "      <td>761</td>\n",
       "      <td>949</td>\n",
       "      <td>872</td>\n",
       "      <td>952</td>\n",
       "      <td>828</td>\n",
       "      <td>806</td>\n",
       "      <td>129</td>\n",
       "      <td>311</td>\n",
       "      <td>669</td>\n",
       "      <td>666</td>\n",
       "      <td>516</td>\n",
       "      <td>579</td>\n",
       "      <td>913</td>\n",
       "      <td>736</td>\n",
       "    </tr>\n",
       "    <tr>\n",
       "      <th>3</th>\n",
       "      <td>4</td>\n",
       "      <td>Control</td>\n",
       "      <td>939</td>\n",
       "      <td>909</td>\n",
       "      <td>850</td>\n",
       "      <td>756</td>\n",
       "      <td>807</td>\n",
       "      <td>617</td>\n",
       "      <td>526</td>\n",
       "      <td>736</td>\n",
       "      <td>743</td>\n",
       "      <td>625</td>\n",
       "      <td>690</td>\n",
       "      <td>759</td>\n",
       "      <td>281</td>\n",
       "      <td>357</td>\n",
       "      <td>386</td>\n",
       "      <td>585</td>\n",
       "      <td>565</td>\n",
       "      <td>550</td>\n",
       "      <td>806</td>\n",
       "      <td>732</td>\n",
       "    </tr>\n",
       "    <tr>\n",
       "      <th>4</th>\n",
       "      <td>5</td>\n",
       "      <td>Experimental</td>\n",
       "      <td>710</td>\n",
       "      <td>505</td>\n",
       "      <td>494</td>\n",
       "      <td>596</td>\n",
       "      <td>620</td>\n",
       "      <td>589</td>\n",
       "      <td>676</td>\n",
       "      <td>537</td>\n",
       "      <td>779</td>\n",
       "      <td>537</td>\n",
       "      <td>581</td>\n",
       "      <td>515</td>\n",
       "      <td>477</td>\n",
       "      <td>659</td>\n",
       "      <td>737</td>\n",
       "      <td>606</td>\n",
       "      <td>713</td>\n",
       "      <td>682</td>\n",
       "      <td>709</td>\n",
       "      <td>759</td>\n",
       "    </tr>\n",
       "    <tr>\n",
       "      <th>5</th>\n",
       "      <td>6</td>\n",
       "      <td>Experimental</td>\n",
       "      <td>564</td>\n",
       "      <td>808</td>\n",
       "      <td>589</td>\n",
       "      <td>596</td>\n",
       "      <td>591</td>\n",
       "      <td>580</td>\n",
       "      <td>419</td>\n",
       "      <td>463</td>\n",
       "      <td>707</td>\n",
       "      <td>625</td>\n",
       "      <td>547</td>\n",
       "      <td>595</td>\n",
       "      <td>532</td>\n",
       "      <td>951</td>\n",
       "      <td>901</td>\n",
       "      <td>851</td>\n",
       "      <td>807</td>\n",
       "      <td>858</td>\n",
       "      <td>802</td>\n",
       "      <td>803</td>\n",
       "    </tr>\n",
       "    <tr>\n",
       "      <th>6</th>\n",
       "      <td>7</td>\n",
       "      <td>Experimental</td>\n",
       "      <td>722</td>\n",
       "      <td>732</td>\n",
       "      <td>783</td>\n",
       "      <td>946</td>\n",
       "      <td>882</td>\n",
       "      <td>723</td>\n",
       "      <td>764</td>\n",
       "      <td>892</td>\n",
       "      <td>621</td>\n",
       "      <td>764</td>\n",
       "      <td>720</td>\n",
       "      <td>478</td>\n",
       "      <td>297</td>\n",
       "      <td>558</td>\n",
       "      <td>803</td>\n",
       "      <td>694</td>\n",
       "      <td>855</td>\n",
       "      <td>797</td>\n",
       "      <td>938</td>\n",
       "      <td>878</td>\n",
       "    </tr>\n",
       "    <tr>\n",
       "      <th>7</th>\n",
       "      <td>8</td>\n",
       "      <td>Experimental</td>\n",
       "      <td>497</td>\n",
       "      <td>649</td>\n",
       "      <td>586</td>\n",
       "      <td>506</td>\n",
       "      <td>546</td>\n",
       "      <td>493</td>\n",
       "      <td>456</td>\n",
       "      <td>601</td>\n",
       "      <td>437</td>\n",
       "      <td>462</td>\n",
       "      <td>704</td>\n",
       "      <td>498</td>\n",
       "      <td>10</td>\n",
       "      <td>44</td>\n",
       "      <td>86</td>\n",
       "      <td>284</td>\n",
       "      <td>212</td>\n",
       "      <td>133</td>\n",
       "      <td>141</td>\n",
       "      <td>274</td>\n",
       "    </tr>\n",
       "    <tr>\n",
       "      <th>8</th>\n",
       "      <td>9</td>\n",
       "      <td>Experimental</td>\n",
       "      <td>741</td>\n",
       "      <td>668</td>\n",
       "      <td>778</td>\n",
       "      <td>638</td>\n",
       "      <td>759</td>\n",
       "      <td>791</td>\n",
       "      <td>568</td>\n",
       "      <td>664</td>\n",
       "      <td>390</td>\n",
       "      <td>346</td>\n",
       "      <td>773</td>\n",
       "      <td>682</td>\n",
       "      <td>3</td>\n",
       "      <td>212</td>\n",
       "      <td>417</td>\n",
       "      <td>443</td>\n",
       "      <td>486</td>\n",
       "      <td>444</td>\n",
       "      <td>533</td>\n",
       "      <td>578</td>\n",
       "    </tr>\n",
       "    <tr>\n",
       "      <th>9</th>\n",
       "      <td>10</td>\n",
       "      <td>Experimental</td>\n",
       "      <td>953</td>\n",
       "      <td>988</td>\n",
       "      <td>579</td>\n",
       "      <td>706</td>\n",
       "      <td>1106</td>\n",
       "      <td>812</td>\n",
       "      <td>902</td>\n",
       "      <td>835</td>\n",
       "      <td>829</td>\n",
       "      <td>801</td>\n",
       "      <td>1011</td>\n",
       "      <td>919</td>\n",
       "      <td>274</td>\n",
       "      <td>559</td>\n",
       "      <td>840</td>\n",
       "      <td>890</td>\n",
       "      <td>724</td>\n",
       "      <td>793</td>\n",
       "      <td>559</td>\n",
       "      <td>700</td>\n",
       "    </tr>\n",
       "    <tr>\n",
       "      <th>10</th>\n",
       "      <td>11</td>\n",
       "      <td>Experimental</td>\n",
       "      <td>753</td>\n",
       "      <td>613</td>\n",
       "      <td>573</td>\n",
       "      <td>642</td>\n",
       "      <td>820</td>\n",
       "      <td>752</td>\n",
       "      <td>759</td>\n",
       "      <td>564</td>\n",
       "      <td>635</td>\n",
       "      <td>641</td>\n",
       "      <td>706</td>\n",
       "      <td>763</td>\n",
       "      <td>287</td>\n",
       "      <td>526</td>\n",
       "      <td>841</td>\n",
       "      <td>838</td>\n",
       "      <td>691</td>\n",
       "      <td>657</td>\n",
       "      <td>680</td>\n",
       "      <td>781</td>\n",
       "    </tr>\n",
       "    <tr>\n",
       "      <th>11</th>\n",
       "      <td>12</td>\n",
       "      <td>Control</td>\n",
       "      <td>494</td>\n",
       "      <td>602</td>\n",
       "      <td>570</td>\n",
       "      <td>530</td>\n",
       "      <td>570</td>\n",
       "      <td>396</td>\n",
       "      <td>403</td>\n",
       "      <td>380</td>\n",
       "      <td>362</td>\n",
       "      <td>467</td>\n",
       "      <td>491</td>\n",
       "      <td>557</td>\n",
       "      <td>98</td>\n",
       "      <td>262</td>\n",
       "      <td>344</td>\n",
       "      <td>388</td>\n",
       "      <td>435</td>\n",
       "      <td>551</td>\n",
       "      <td>552</td>\n",
       "      <td>537</td>\n",
       "    </tr>\n",
       "    <tr>\n",
       "      <th>12</th>\n",
       "      <td>13</td>\n",
       "      <td>Control</td>\n",
       "      <td>587</td>\n",
       "      <td>630</td>\n",
       "      <td>564</td>\n",
       "      <td>627</td>\n",
       "      <td>572</td>\n",
       "      <td>419</td>\n",
       "      <td>369</td>\n",
       "      <td>416</td>\n",
       "      <td>403</td>\n",
       "      <td>552</td>\n",
       "      <td>575</td>\n",
       "      <td>589</td>\n",
       "      <td>172</td>\n",
       "      <td>298</td>\n",
       "      <td>422</td>\n",
       "      <td>596</td>\n",
       "      <td>447</td>\n",
       "      <td>589</td>\n",
       "      <td>463</td>\n",
       "      <td>364</td>\n",
       "    </tr>\n",
       "    <tr>\n",
       "      <th>13</th>\n",
       "      <td>14</td>\n",
       "      <td>Control</td>\n",
       "      <td>917</td>\n",
       "      <td>680</td>\n",
       "      <td>737</td>\n",
       "      <td>596</td>\n",
       "      <td>699</td>\n",
       "      <td>484</td>\n",
       "      <td>452</td>\n",
       "      <td>438</td>\n",
       "      <td>547</td>\n",
       "      <td>729</td>\n",
       "      <td>830</td>\n",
       "      <td>411</td>\n",
       "      <td>71</td>\n",
       "      <td>386</td>\n",
       "      <td>581</td>\n",
       "      <td>832</td>\n",
       "      <td>586</td>\n",
       "      <td>610</td>\n",
       "      <td>634</td>\n",
       "      <td>716</td>\n",
       "    </tr>\n",
       "    <tr>\n",
       "      <th>14</th>\n",
       "      <td>15</td>\n",
       "      <td>Control</td>\n",
       "      <td>440</td>\n",
       "      <td>767</td>\n",
       "      <td>642</td>\n",
       "      <td>623</td>\n",
       "      <td>532</td>\n",
       "      <td>663</td>\n",
       "      <td>601</td>\n",
       "      <td>553</td>\n",
       "      <td>315</td>\n",
       "      <td>434</td>\n",
       "      <td>543</td>\n",
       "      <td>619</td>\n",
       "      <td>115</td>\n",
       "      <td>101</td>\n",
       "      <td>356</td>\n",
       "      <td>457</td>\n",
       "      <td>412</td>\n",
       "      <td>582</td>\n",
       "      <td>549</td>\n",
       "      <td>696</td>\n",
       "    </tr>\n",
       "    <tr>\n",
       "      <th>15</th>\n",
       "      <td>16</td>\n",
       "      <td>Experimental</td>\n",
       "      <td>715</td>\n",
       "      <td>469</td>\n",
       "      <td>392</td>\n",
       "      <td>333</td>\n",
       "      <td>492</td>\n",
       "      <td>594</td>\n",
       "      <td>695</td>\n",
       "      <td>568</td>\n",
       "      <td>916</td>\n",
       "      <td>675</td>\n",
       "      <td>669</td>\n",
       "      <td>895</td>\n",
       "      <td>98</td>\n",
       "      <td>558</td>\n",
       "      <td>977</td>\n",
       "      <td>956</td>\n",
       "      <td>974</td>\n",
       "      <td>1049</td>\n",
       "      <td>1366</td>\n",
       "      <td>942</td>\n",
       "    </tr>\n",
       "    <tr>\n",
       "      <th>16</th>\n",
       "      <td>17</td>\n",
       "      <td>Experimental</td>\n",
       "      <td>184</td>\n",
       "      <td>250</td>\n",
       "      <td>373</td>\n",
       "      <td>457</td>\n",
       "      <td>505</td>\n",
       "      <td>475</td>\n",
       "      <td>519</td>\n",
       "      <td>578</td>\n",
       "      <td>542</td>\n",
       "      <td>477</td>\n",
       "      <td>601</td>\n",
       "      <td>390</td>\n",
       "      <td>131</td>\n",
       "      <td>656</td>\n",
       "      <td>845</td>\n",
       "      <td>699</td>\n",
       "      <td>494</td>\n",
       "      <td>920</td>\n",
       "      <td>431</td>\n",
       "      <td>521</td>\n",
       "    </tr>\n",
       "    <tr>\n",
       "      <th>17</th>\n",
       "      <td>18</td>\n",
       "      <td>Experimental</td>\n",
       "      <td>934</td>\n",
       "      <td>1237</td>\n",
       "      <td>354</td>\n",
       "      <td>705</td>\n",
       "      <td>646</td>\n",
       "      <td>619</td>\n",
       "      <td>885</td>\n",
       "      <td>626</td>\n",
       "      <td>496</td>\n",
       "      <td>954</td>\n",
       "      <td>718</td>\n",
       "      <td>821</td>\n",
       "      <td>170</td>\n",
       "      <td>909</td>\n",
       "      <td>1049</td>\n",
       "      <td>994</td>\n",
       "      <td>675</td>\n",
       "      <td>803</td>\n",
       "      <td>866</td>\n",
       "      <td>880</td>\n",
       "    </tr>\n",
       "    <tr>\n",
       "      <th>18</th>\n",
       "      <td>19</td>\n",
       "      <td>Experimental</td>\n",
       "      <td>578</td>\n",
       "      <td>548</td>\n",
       "      <td>556</td>\n",
       "      <td>479</td>\n",
       "      <td>533</td>\n",
       "      <td>721</td>\n",
       "      <td>651</td>\n",
       "      <td>546</td>\n",
       "      <td>537</td>\n",
       "      <td>564</td>\n",
       "      <td>519</td>\n",
       "      <td>446</td>\n",
       "      <td>601</td>\n",
       "      <td>565</td>\n",
       "      <td>450</td>\n",
       "      <td>684</td>\n",
       "      <td>1675</td>\n",
       "      <td>976</td>\n",
       "      <td>1249</td>\n",
       "      <td>1047</td>\n",
       "    </tr>\n",
       "    <tr>\n",
       "      <th>19</th>\n",
       "      <td>20</td>\n",
       "      <td>Experimental</td>\n",
       "      <td>400</td>\n",
       "      <td>193</td>\n",
       "      <td>188</td>\n",
       "      <td>350</td>\n",
       "      <td>232</td>\n",
       "      <td>34</td>\n",
       "      <td>65</td>\n",
       "      <td>158</td>\n",
       "      <td>89</td>\n",
       "      <td>175</td>\n",
       "      <td>186</td>\n",
       "      <td>319</td>\n",
       "      <td>14</td>\n",
       "      <td>60</td>\n",
       "      <td>118</td>\n",
       "      <td>149</td>\n",
       "      <td>133</td>\n",
       "      <td>270</td>\n",
       "      <td>472</td>\n",
       "      <td>293</td>\n",
       "    </tr>\n",
       "    <tr>\n",
       "      <th>20</th>\n",
       "      <td>21</td>\n",
       "      <td>Experimental</td>\n",
       "      <td>448</td>\n",
       "      <td>221</td>\n",
       "      <td>505</td>\n",
       "      <td>459</td>\n",
       "      <td>483</td>\n",
       "      <td>491</td>\n",
       "      <td>394</td>\n",
       "      <td>673</td>\n",
       "      <td>593</td>\n",
       "      <td>444</td>\n",
       "      <td>430</td>\n",
       "      <td>630</td>\n",
       "      <td>176</td>\n",
       "      <td>611</td>\n",
       "      <td>680</td>\n",
       "      <td>552</td>\n",
       "      <td>652</td>\n",
       "      <td>879</td>\n",
       "      <td>990</td>\n",
       "      <td>900</td>\n",
       "    </tr>\n",
       "    <tr>\n",
       "      <th>21</th>\n",
       "      <td>22</td>\n",
       "      <td>Control</td>\n",
       "      <td>270</td>\n",
       "      <td>132</td>\n",
       "      <td>250</td>\n",
       "      <td>192</td>\n",
       "      <td>364</td>\n",
       "      <td>229</td>\n",
       "      <td>219</td>\n",
       "      <td>329</td>\n",
       "      <td>120</td>\n",
       "      <td>147</td>\n",
       "      <td>186</td>\n",
       "      <td>337</td>\n",
       "      <td>8</td>\n",
       "      <td>70</td>\n",
       "      <td>18</td>\n",
       "      <td>175</td>\n",
       "      <td>232</td>\n",
       "      <td>238</td>\n",
       "      <td>209</td>\n",
       "      <td>200</td>\n",
       "    </tr>\n",
       "  </tbody>\n",
       "</table>\n",
       "</div>"
      ],
      "text/plain": [
       "    Mouse_ID         Group  BL1   BL2  BL3  ...  R1_4  R2_1  R2_2  R2_3  R2_4\n",
       "0          1       Control  665   863  631  ...   441   675   554   541   545\n",
       "1          2       Control  859   849  685  ...   569   988   728   933   564\n",
       "2          3       Control  589   507  635  ...   666   516   579   913   736\n",
       "3          4       Control  939   909  850  ...   585   565   550   806   732\n",
       "4          5  Experimental  710   505  494  ...   606   713   682   709   759\n",
       "5          6  Experimental  564   808  589  ...   851   807   858   802   803\n",
       "6          7  Experimental  722   732  783  ...   694   855   797   938   878\n",
       "7          8  Experimental  497   649  586  ...   284   212   133   141   274\n",
       "8          9  Experimental  741   668  778  ...   443   486   444   533   578\n",
       "9         10  Experimental  953   988  579  ...   890   724   793   559   700\n",
       "10        11  Experimental  753   613  573  ...   838   691   657   680   781\n",
       "11        12       Control  494   602  570  ...   388   435   551   552   537\n",
       "12        13       Control  587   630  564  ...   596   447   589   463   364\n",
       "13        14       Control  917   680  737  ...   832   586   610   634   716\n",
       "14        15       Control  440   767  642  ...   457   412   582   549   696\n",
       "15        16  Experimental  715   469  392  ...   956   974  1049  1366   942\n",
       "16        17  Experimental  184   250  373  ...   699   494   920   431   521\n",
       "17        18  Experimental  934  1237  354  ...   994   675   803   866   880\n",
       "18        19  Experimental  578   548  556  ...   684  1675   976  1249  1047\n",
       "19        20  Experimental  400   193  188  ...   149   133   270   472   293\n",
       "20        21  Experimental  448   221  505  ...   552   652   879   990   900\n",
       "21        22       Control  270   132  250  ...   175   232   238   209   200\n",
       "\n",
       "[22 rows x 22 columns]"
      ]
     },
     "execution_count": 66,
     "metadata": {},
     "output_type": "execute_result"
    }
   ],
   "source": [
    "to_melt = df.reset_index().copy()\n",
    "to_melt"
   ]
  },
  {
   "cell_type": "code",
   "execution_count": 70,
   "metadata": {
    "scrolled": true
   },
   "outputs": [
    {
     "data": {
      "text/html": [
       "<div>\n",
       "<style scoped>\n",
       "    .dataframe tbody tr th:only-of-type {\n",
       "        vertical-align: middle;\n",
       "    }\n",
       "\n",
       "    .dataframe tbody tr th {\n",
       "        vertical-align: top;\n",
       "    }\n",
       "\n",
       "    .dataframe thead th {\n",
       "        text-align: right;\n",
       "    }\n",
       "</style>\n",
       "<table border=\"1\" class=\"dataframe\">\n",
       "  <thead>\n",
       "    <tr style=\"text-align: right;\">\n",
       "      <th></th>\n",
       "      <th>Mouse_ID</th>\n",
       "      <th>Group</th>\n",
       "      <th>Day</th>\n",
       "      <th>Licks</th>\n",
       "    </tr>\n",
       "  </thead>\n",
       "  <tbody>\n",
       "    <tr>\n",
       "      <th>0</th>\n",
       "      <td>1</td>\n",
       "      <td>Control</td>\n",
       "      <td>BL1</td>\n",
       "      <td>665</td>\n",
       "    </tr>\n",
       "    <tr>\n",
       "      <th>1</th>\n",
       "      <td>2</td>\n",
       "      <td>Control</td>\n",
       "      <td>BL1</td>\n",
       "      <td>859</td>\n",
       "    </tr>\n",
       "    <tr>\n",
       "      <th>2</th>\n",
       "      <td>3</td>\n",
       "      <td>Control</td>\n",
       "      <td>BL1</td>\n",
       "      <td>589</td>\n",
       "    </tr>\n",
       "    <tr>\n",
       "      <th>3</th>\n",
       "      <td>4</td>\n",
       "      <td>Control</td>\n",
       "      <td>BL1</td>\n",
       "      <td>939</td>\n",
       "    </tr>\n",
       "    <tr>\n",
       "      <th>4</th>\n",
       "      <td>5</td>\n",
       "      <td>Experimental</td>\n",
       "      <td>BL1</td>\n",
       "      <td>710</td>\n",
       "    </tr>\n",
       "    <tr>\n",
       "      <th>...</th>\n",
       "      <td>...</td>\n",
       "      <td>...</td>\n",
       "      <td>...</td>\n",
       "      <td>...</td>\n",
       "    </tr>\n",
       "    <tr>\n",
       "      <th>435</th>\n",
       "      <td>18</td>\n",
       "      <td>Experimental</td>\n",
       "      <td>R2_4</td>\n",
       "      <td>880</td>\n",
       "    </tr>\n",
       "    <tr>\n",
       "      <th>436</th>\n",
       "      <td>19</td>\n",
       "      <td>Experimental</td>\n",
       "      <td>R2_4</td>\n",
       "      <td>1047</td>\n",
       "    </tr>\n",
       "    <tr>\n",
       "      <th>437</th>\n",
       "      <td>20</td>\n",
       "      <td>Experimental</td>\n",
       "      <td>R2_4</td>\n",
       "      <td>293</td>\n",
       "    </tr>\n",
       "    <tr>\n",
       "      <th>438</th>\n",
       "      <td>21</td>\n",
       "      <td>Experimental</td>\n",
       "      <td>R2_4</td>\n",
       "      <td>900</td>\n",
       "    </tr>\n",
       "    <tr>\n",
       "      <th>439</th>\n",
       "      <td>22</td>\n",
       "      <td>Control</td>\n",
       "      <td>R2_4</td>\n",
       "      <td>200</td>\n",
       "    </tr>\n",
       "  </tbody>\n",
       "</table>\n",
       "<p>440 rows × 4 columns</p>\n",
       "</div>"
      ],
      "text/plain": [
       "     Mouse_ID         Group   Day  Licks\n",
       "0           1       Control   BL1    665\n",
       "1           2       Control   BL1    859\n",
       "2           3       Control   BL1    589\n",
       "3           4       Control   BL1    939\n",
       "4           5  Experimental   BL1    710\n",
       "..        ...           ...   ...    ...\n",
       "435        18  Experimental  R2_4    880\n",
       "436        19  Experimental  R2_4   1047\n",
       "437        20  Experimental  R2_4    293\n",
       "438        21  Experimental  R2_4    900\n",
       "439        22       Control  R2_4    200\n",
       "\n",
       "[440 rows x 4 columns]"
      ]
     },
     "execution_count": 70,
     "metadata": {},
     "output_type": "execute_result"
    }
   ],
   "source": [
    "## melt to create df2\n",
    "df2 = pd.melt(to_melt,id_vars=['Mouse_ID','Group'],var_name='Day',\n",
    "       value_name='Licks')\n",
    "df2"
   ]
  },
  {
   "cell_type": "code",
   "execution_count": 71,
   "metadata": {},
   "outputs": [
    {
     "data": {
      "text/plain": [
       "{'BL1': 'BL',\n",
       " 'BL2': 'BL',\n",
       " 'BL3': 'BL',\n",
       " 'BL4': 'BL',\n",
       " 'S1': 'S',\n",
       " 'S2': 'S',\n",
       " 'S3': 'S',\n",
       " 'S4': 'S',\n",
       " 'PS1': 'PS',\n",
       " 'PS2': 'PS',\n",
       " 'PS3': 'PS',\n",
       " 'PS4': 'PS',\n",
       " 'R1_1': 'R1',\n",
       " 'R1_2': 'R1',\n",
       " 'R1_3': 'R1',\n",
       " 'R1_4': 'R1',\n",
       " 'R2_1': 'R2',\n",
       " 'R2_2': 'R2',\n",
       " 'R2_3': 'R2',\n",
       " 'R2_4': 'R2'}"
      ]
     },
     "execution_count": 71,
     "metadata": {},
     "output_type": "execute_result"
    }
   ],
   "source": [
    "## Get then opposite of col_dict\n",
    "phase_dict = {}\n",
    "for phase,colnames in col_dict.items():\n",
    "    for col in colnames:\n",
    "        phase_dict[col] = phase\n",
    "phase_dict"
   ]
  },
  {
   "cell_type": "code",
   "execution_count": 72,
   "metadata": {
    "ExecuteTime": {
     "end_time": "2020-08-08T01:11:51.623364Z",
     "start_time": "2020-08-08T01:11:51.600111Z"
    },
    "scrolled": false
   },
   "outputs": [
    {
     "data": {
      "text/html": [
       "<div>\n",
       "<style scoped>\n",
       "    .dataframe tbody tr th:only-of-type {\n",
       "        vertical-align: middle;\n",
       "    }\n",
       "\n",
       "    .dataframe tbody tr th {\n",
       "        vertical-align: top;\n",
       "    }\n",
       "\n",
       "    .dataframe thead th {\n",
       "        text-align: right;\n",
       "    }\n",
       "</style>\n",
       "<table border=\"1\" class=\"dataframe\">\n",
       "  <thead>\n",
       "    <tr style=\"text-align: right;\">\n",
       "      <th></th>\n",
       "      <th>Mouse_ID</th>\n",
       "      <th>Group</th>\n",
       "      <th>Day</th>\n",
       "      <th>Licks</th>\n",
       "      <th>Phase</th>\n",
       "      <th>Day_of_Phase</th>\n",
       "    </tr>\n",
       "  </thead>\n",
       "  <tbody>\n",
       "    <tr>\n",
       "      <th>0</th>\n",
       "      <td>1</td>\n",
       "      <td>Control</td>\n",
       "      <td>BL1</td>\n",
       "      <td>665</td>\n",
       "      <td>BL</td>\n",
       "      <td>1</td>\n",
       "    </tr>\n",
       "    <tr>\n",
       "      <th>1</th>\n",
       "      <td>2</td>\n",
       "      <td>Control</td>\n",
       "      <td>BL1</td>\n",
       "      <td>859</td>\n",
       "      <td>BL</td>\n",
       "      <td>1</td>\n",
       "    </tr>\n",
       "    <tr>\n",
       "      <th>2</th>\n",
       "      <td>3</td>\n",
       "      <td>Control</td>\n",
       "      <td>BL1</td>\n",
       "      <td>589</td>\n",
       "      <td>BL</td>\n",
       "      <td>1</td>\n",
       "    </tr>\n",
       "    <tr>\n",
       "      <th>3</th>\n",
       "      <td>4</td>\n",
       "      <td>Control</td>\n",
       "      <td>BL1</td>\n",
       "      <td>939</td>\n",
       "      <td>BL</td>\n",
       "      <td>1</td>\n",
       "    </tr>\n",
       "    <tr>\n",
       "      <th>4</th>\n",
       "      <td>5</td>\n",
       "      <td>Experimental</td>\n",
       "      <td>BL1</td>\n",
       "      <td>710</td>\n",
       "      <td>BL</td>\n",
       "      <td>1</td>\n",
       "    </tr>\n",
       "    <tr>\n",
       "      <th>...</th>\n",
       "      <td>...</td>\n",
       "      <td>...</td>\n",
       "      <td>...</td>\n",
       "      <td>...</td>\n",
       "      <td>...</td>\n",
       "      <td>...</td>\n",
       "    </tr>\n",
       "    <tr>\n",
       "      <th>435</th>\n",
       "      <td>18</td>\n",
       "      <td>Experimental</td>\n",
       "      <td>R2_4</td>\n",
       "      <td>880</td>\n",
       "      <td>R2</td>\n",
       "      <td>4</td>\n",
       "    </tr>\n",
       "    <tr>\n",
       "      <th>436</th>\n",
       "      <td>19</td>\n",
       "      <td>Experimental</td>\n",
       "      <td>R2_4</td>\n",
       "      <td>1047</td>\n",
       "      <td>R2</td>\n",
       "      <td>4</td>\n",
       "    </tr>\n",
       "    <tr>\n",
       "      <th>437</th>\n",
       "      <td>20</td>\n",
       "      <td>Experimental</td>\n",
       "      <td>R2_4</td>\n",
       "      <td>293</td>\n",
       "      <td>R2</td>\n",
       "      <td>4</td>\n",
       "    </tr>\n",
       "    <tr>\n",
       "      <th>438</th>\n",
       "      <td>21</td>\n",
       "      <td>Experimental</td>\n",
       "      <td>R2_4</td>\n",
       "      <td>900</td>\n",
       "      <td>R2</td>\n",
       "      <td>4</td>\n",
       "    </tr>\n",
       "    <tr>\n",
       "      <th>439</th>\n",
       "      <td>22</td>\n",
       "      <td>Control</td>\n",
       "      <td>R2_4</td>\n",
       "      <td>200</td>\n",
       "      <td>R2</td>\n",
       "      <td>4</td>\n",
       "    </tr>\n",
       "  </tbody>\n",
       "</table>\n",
       "<p>440 rows × 6 columns</p>\n",
       "</div>"
      ],
      "text/plain": [
       "     Mouse_ID         Group   Day  Licks Phase Day_of_Phase\n",
       "0           1       Control   BL1    665    BL            1\n",
       "1           2       Control   BL1    859    BL            1\n",
       "2           3       Control   BL1    589    BL            1\n",
       "3           4       Control   BL1    939    BL            1\n",
       "4           5  Experimental   BL1    710    BL            1\n",
       "..        ...           ...   ...    ...   ...          ...\n",
       "435        18  Experimental  R2_4    880    R2            4\n",
       "436        19  Experimental  R2_4   1047    R2            4\n",
       "437        20  Experimental  R2_4    293    R2            4\n",
       "438        21  Experimental  R2_4    900    R2            4\n",
       "439        22       Control  R2_4    200    R2            4\n",
       "\n",
       "[440 rows x 6 columns]"
      ]
     },
     "execution_count": 72,
     "metadata": {},
     "output_type": "execute_result"
    }
   ],
   "source": [
    "## Mapping Phase from Phase Dict\n",
    "df2['Phase'] = df2['Day'].map(phase_dict)\n",
    "\n",
    "## Getting Day of Phase\n",
    "df2['Day_of_Phase'] = df2['Day'].apply(lambda x: x[-1])\n",
    "df2"
   ]
  },
  {
   "cell_type": "code",
   "execution_count": 75,
   "metadata": {
    "scrolled": false
   },
   "outputs": [
    {
     "data": {
      "text/plain": [
       "<AxesSubplot:xlabel='Phase', ylabel='Licks'>"
      ]
     },
     "execution_count": 75,
     "metadata": {},
     "output_type": "execute_result"
    },
    {
     "data": {
      "image/png": "[encoded data removed]",
      "text/plain": [
       "<Figure size 576x396 with 1 Axes>"
      ]
     },
     "metadata": {
      "needs_background": "light"
     },
     "output_type": "display_data"
    }
   ],
   "source": [
    "## Now that we melted the data, use sns.barplot!\n",
    "sns.barplot(data=df2,x='Phase',y='Licks',hue='Group',ci=68)"
   ]
  },
  {
   "cell_type": "markdown",
   "metadata": {},
   "source": [
    "### Create an OLS Model to Run an ANOVA"
   ]
  },
  {
   "cell_type": "code",
   "execution_count": 77,
   "metadata": {
    "ExecuteTime": {
     "end_time": "2020-08-08T01:10:52.326621Z",
     "start_time": "2020-08-08T01:10:52.323128Z"
    }
   },
   "outputs": [
    {
     "data": {
      "text/html": [
       "<div>\n",
       "<style scoped>\n",
       "    .dataframe tbody tr th:only-of-type {\n",
       "        vertical-align: middle;\n",
       "    }\n",
       "\n",
       "    .dataframe tbody tr th {\n",
       "        vertical-align: top;\n",
       "    }\n",
       "\n",
       "    .dataframe thead th {\n",
       "        text-align: right;\n",
       "    }\n",
       "</style>\n",
       "<table border=\"1\" class=\"dataframe\">\n",
       "  <thead>\n",
       "    <tr style=\"text-align: right;\">\n",
       "      <th></th>\n",
       "      <th>Mouse_ID</th>\n",
       "      <th>Group</th>\n",
       "      <th>Day</th>\n",
       "      <th>Licks</th>\n",
       "      <th>Phase</th>\n",
       "      <th>Day_of_Phase</th>\n",
       "    </tr>\n",
       "  </thead>\n",
       "  <tbody>\n",
       "    <tr>\n",
       "      <th>0</th>\n",
       "      <td>1</td>\n",
       "      <td>Control</td>\n",
       "      <td>BL1</td>\n",
       "      <td>665</td>\n",
       "      <td>BL</td>\n",
       "      <td>1</td>\n",
       "    </tr>\n",
       "    <tr>\n",
       "      <th>1</th>\n",
       "      <td>2</td>\n",
       "      <td>Control</td>\n",
       "      <td>BL1</td>\n",
       "      <td>859</td>\n",
       "      <td>BL</td>\n",
       "      <td>1</td>\n",
       "    </tr>\n",
       "    <tr>\n",
       "      <th>2</th>\n",
       "      <td>3</td>\n",
       "      <td>Control</td>\n",
       "      <td>BL1</td>\n",
       "      <td>589</td>\n",
       "      <td>BL</td>\n",
       "      <td>1</td>\n",
       "    </tr>\n",
       "    <tr>\n",
       "      <th>3</th>\n",
       "      <td>4</td>\n",
       "      <td>Control</td>\n",
       "      <td>BL1</td>\n",
       "      <td>939</td>\n",
       "      <td>BL</td>\n",
       "      <td>1</td>\n",
       "    </tr>\n",
       "    <tr>\n",
       "      <th>4</th>\n",
       "      <td>5</td>\n",
       "      <td>Experimental</td>\n",
       "      <td>BL1</td>\n",
       "      <td>710</td>\n",
       "      <td>BL</td>\n",
       "      <td>1</td>\n",
       "    </tr>\n",
       "  </tbody>\n",
       "</table>\n",
       "</div>"
      ],
      "text/plain": [
       "   Mouse_ID         Group  Day  Licks Phase Day_of_Phase\n",
       "0         1       Control  BL1    665    BL            1\n",
       "1         2       Control  BL1    859    BL            1\n",
       "2         3       Control  BL1    589    BL            1\n",
       "3         4       Control  BL1    939    BL            1\n",
       "4         5  Experimental  BL1    710    BL            1"
      ]
     },
     "execution_count": 77,
     "metadata": {},
     "output_type": "execute_result"
    }
   ],
   "source": [
    "import statsmodels.api as sm\n",
    "from statsmodels.formula.api import ols\n",
    "df2.head()"
   ]
  },
  {
   "cell_type": "code",
   "execution_count": 85,
   "metadata": {
    "ExecuteTime": {
     "end_time": "2020-08-08T01:10:52.491579Z",
     "start_time": "2020-08-08T01:10:52.478606Z"
    }
   },
   "outputs": [
    {
     "data": {
      "text/plain": [
       "<statsmodels.regression.linear_model.RegressionResultsWrapper at 0x7ffa6af44af0>"
      ]
     },
     "execution_count": 85,
     "metadata": {},
     "output_type": "execute_result"
    }
   ],
   "source": [
    "## define formula for model and fit\n",
    "formula = \"Licks~C(Group)+C(Phase)\"\n",
    "lm =  ols(formula, df2).fit()\n",
    "lm"
   ]
  },
  {
   "cell_type": "code",
   "execution_count": 86,
   "metadata": {
    "ExecuteTime": {
     "end_time": "2020-08-08T01:10:52.616061Z",
     "start_time": "2020-08-08T01:10:52.594765Z"
    }
   },
   "outputs": [
    {
     "data": {
      "text/html": [
       "<div>\n",
       "<style scoped>\n",
       "    .dataframe tbody tr th:only-of-type {\n",
       "        vertical-align: middle;\n",
       "    }\n",
       "\n",
       "    .dataframe tbody tr th {\n",
       "        vertical-align: top;\n",
       "    }\n",
       "\n",
       "    .dataframe thead th {\n",
       "        text-align: right;\n",
       "    }\n",
       "</style>\n",
       "<table border=\"1\" class=\"dataframe\">\n",
       "  <thead>\n",
       "    <tr style=\"text-align: right;\">\n",
       "      <th></th>\n",
       "      <th>sum_sq</th>\n",
       "      <th>df</th>\n",
       "      <th>F</th>\n",
       "      <th>PR(&gt;F)</th>\n",
       "    </tr>\n",
       "  </thead>\n",
       "  <tbody>\n",
       "    <tr>\n",
       "      <th>C(Group)</th>\n",
       "      <td>4.951e+05</td>\n",
       "      <td>1.0</td>\n",
       "      <td>8.970</td>\n",
       "      <td>0.003</td>\n",
       "    </tr>\n",
       "    <tr>\n",
       "      <th>C(Phase)</th>\n",
       "      <td>2.254e+06</td>\n",
       "      <td>4.0</td>\n",
       "      <td>10.209</td>\n",
       "      <td>0.000</td>\n",
       "    </tr>\n",
       "    <tr>\n",
       "      <th>Residual</th>\n",
       "      <td>2.396e+07</td>\n",
       "      <td>434.0</td>\n",
       "      <td>NaN</td>\n",
       "      <td>NaN</td>\n",
       "    </tr>\n",
       "  </tbody>\n",
       "</table>\n",
       "</div>"
      ],
      "text/plain": [
       "             sum_sq     df       F  PR(>F)\n",
       "C(Group)  4.951e+05    1.0   8.970   0.003\n",
       "C(Phase)  2.254e+06    4.0  10.209   0.000\n",
       "Residual  2.396e+07  434.0     NaN     NaN"
      ]
     },
     "execution_count": 86,
     "metadata": {},
     "output_type": "execute_result"
    }
   ],
   "source": [
    "## create the two way ANOVA table \n",
    "sm.stats.anova_lm(lm, typ=2).round(5)"
   ]
  },
  {
   "cell_type": "code",
   "execution_count": null,
   "metadata": {},
   "outputs": [],
   "source": []
  },
  {
   "cell_type": "markdown",
   "metadata": {},
   "source": [
    "#### Tukey's Multiple Comparison Test"
   ]
  },
  {
   "cell_type": "code",
   "execution_count": 88,
   "metadata": {
    "ExecuteTime": {
     "end_time": "2020-08-08T01:10:52.762817Z",
     "start_time": "2020-08-08T01:10:52.758997Z"
    }
   },
   "outputs": [
    {
     "data": {
      "text/plain": [
       "<function statsmodels.stats.multicomp.pairwise_tukeyhsd(endog, groups, alpha=0.05)>"
      ]
     },
     "execution_count": 88,
     "metadata": {},
     "output_type": "execute_result"
    }
   ],
   "source": [
    "## Follow up with \n",
    "from statsmodels.stats.multicomp import pairwise_tukeyhsd\n",
    "pairwise_tukeyhsd"
   ]
  },
  {
   "cell_type": "code",
   "execution_count": 89,
   "metadata": {},
   "outputs": [
    {
     "data": {
      "text/html": [
       "<div>\n",
       "<style scoped>\n",
       "    .dataframe tbody tr th:only-of-type {\n",
       "        vertical-align: middle;\n",
       "    }\n",
       "\n",
       "    .dataframe tbody tr th {\n",
       "        vertical-align: top;\n",
       "    }\n",
       "\n",
       "    .dataframe thead th {\n",
       "        text-align: right;\n",
       "    }\n",
       "</style>\n",
       "<table border=\"1\" class=\"dataframe\">\n",
       "  <thead>\n",
       "    <tr style=\"text-align: right;\">\n",
       "      <th></th>\n",
       "      <th>Mouse_ID</th>\n",
       "      <th>Group</th>\n",
       "      <th>Day</th>\n",
       "      <th>Licks</th>\n",
       "      <th>Phase</th>\n",
       "      <th>Day_of_Phase</th>\n",
       "      <th>Group-Phase</th>\n",
       "    </tr>\n",
       "  </thead>\n",
       "  <tbody>\n",
       "    <tr>\n",
       "      <th>0</th>\n",
       "      <td>1</td>\n",
       "      <td>Control</td>\n",
       "      <td>BL1</td>\n",
       "      <td>665</td>\n",
       "      <td>BL</td>\n",
       "      <td>1</td>\n",
       "      <td>Control-BL</td>\n",
       "    </tr>\n",
       "    <tr>\n",
       "      <th>1</th>\n",
       "      <td>2</td>\n",
       "      <td>Control</td>\n",
       "      <td>BL1</td>\n",
       "      <td>859</td>\n",
       "      <td>BL</td>\n",
       "      <td>1</td>\n",
       "      <td>Control-BL</td>\n",
       "    </tr>\n",
       "    <tr>\n",
       "      <th>2</th>\n",
       "      <td>3</td>\n",
       "      <td>Control</td>\n",
       "      <td>BL1</td>\n",
       "      <td>589</td>\n",
       "      <td>BL</td>\n",
       "      <td>1</td>\n",
       "      <td>Control-BL</td>\n",
       "    </tr>\n",
       "    <tr>\n",
       "      <th>3</th>\n",
       "      <td>4</td>\n",
       "      <td>Control</td>\n",
       "      <td>BL1</td>\n",
       "      <td>939</td>\n",
       "      <td>BL</td>\n",
       "      <td>1</td>\n",
       "      <td>Control-BL</td>\n",
       "    </tr>\n",
       "    <tr>\n",
       "      <th>4</th>\n",
       "      <td>5</td>\n",
       "      <td>Experimental</td>\n",
       "      <td>BL1</td>\n",
       "      <td>710</td>\n",
       "      <td>BL</td>\n",
       "      <td>1</td>\n",
       "      <td>Experimental-BL</td>\n",
       "    </tr>\n",
       "    <tr>\n",
       "      <th>...</th>\n",
       "      <td>...</td>\n",
       "      <td>...</td>\n",
       "      <td>...</td>\n",
       "      <td>...</td>\n",
       "      <td>...</td>\n",
       "      <td>...</td>\n",
       "      <td>...</td>\n",
       "    </tr>\n",
       "    <tr>\n",
       "      <th>435</th>\n",
       "      <td>18</td>\n",
       "      <td>Experimental</td>\n",
       "      <td>R2_4</td>\n",
       "      <td>880</td>\n",
       "      <td>R2</td>\n",
       "      <td>4</td>\n",
       "      <td>Experimental-R2</td>\n",
       "    </tr>\n",
       "    <tr>\n",
       "      <th>436</th>\n",
       "      <td>19</td>\n",
       "      <td>Experimental</td>\n",
       "      <td>R2_4</td>\n",
       "      <td>1047</td>\n",
       "      <td>R2</td>\n",
       "      <td>4</td>\n",
       "      <td>Experimental-R2</td>\n",
       "    </tr>\n",
       "    <tr>\n",
       "      <th>437</th>\n",
       "      <td>20</td>\n",
       "      <td>Experimental</td>\n",
       "      <td>R2_4</td>\n",
       "      <td>293</td>\n",
       "      <td>R2</td>\n",
       "      <td>4</td>\n",
       "      <td>Experimental-R2</td>\n",
       "    </tr>\n",
       "    <tr>\n",
       "      <th>438</th>\n",
       "      <td>21</td>\n",
       "      <td>Experimental</td>\n",
       "      <td>R2_4</td>\n",
       "      <td>900</td>\n",
       "      <td>R2</td>\n",
       "      <td>4</td>\n",
       "      <td>Experimental-R2</td>\n",
       "    </tr>\n",
       "    <tr>\n",
       "      <th>439</th>\n",
       "      <td>22</td>\n",
       "      <td>Control</td>\n",
       "      <td>R2_4</td>\n",
       "      <td>200</td>\n",
       "      <td>R2</td>\n",
       "      <td>4</td>\n",
       "      <td>Control-R2</td>\n",
       "    </tr>\n",
       "  </tbody>\n",
       "</table>\n",
       "<p>440 rows × 7 columns</p>\n",
       "</div>"
      ],
      "text/plain": [
       "     Mouse_ID         Group   Day  Licks Phase Day_of_Phase      Group-Phase\n",
       "0           1       Control   BL1    665    BL            1       Control-BL\n",
       "1           2       Control   BL1    859    BL            1       Control-BL\n",
       "2           3       Control   BL1    589    BL            1       Control-BL\n",
       "3           4       Control   BL1    939    BL            1       Control-BL\n",
       "4           5  Experimental   BL1    710    BL            1  Experimental-BL\n",
       "..        ...           ...   ...    ...   ...          ...              ...\n",
       "435        18  Experimental  R2_4    880    R2            4  Experimental-R2\n",
       "436        19  Experimental  R2_4   1047    R2            4  Experimental-R2\n",
       "437        20  Experimental  R2_4    293    R2            4  Experimental-R2\n",
       "438        21  Experimental  R2_4    900    R2            4  Experimental-R2\n",
       "439        22       Control  R2_4    200    R2            4       Control-R2\n",
       "\n",
       "[440 rows x 7 columns]"
      ]
     },
     "execution_count": 89,
     "metadata": {},
     "output_type": "execute_result"
    }
   ],
   "source": [
    "## create a Group-Phase column for tukey\n",
    "df2['Group-Phase'] = df2['Group'] +'-'+df2['Phase']\n",
    "df2"
   ]
  },
  {
   "cell_type": "code",
   "execution_count": 91,
   "metadata": {},
   "outputs": [
    {
     "data": {
      "text/plain": [
       "<AxesSubplot:xlabel='Phase', ylabel='Licks'>"
      ]
     },
     "execution_count": 91,
     "metadata": {},
     "output_type": "execute_result"
    },
    {
     "data": {
      "image/png": "[encoded data removed]",
      "text/plain": [
       "<Figure size 576x396 with 1 Axes>"
      ]
     },
     "metadata": {
      "needs_background": "light"
     },
     "output_type": "display_data"
    }
   ],
   "source": [
    "sns.barplot(data=df2,x='Phase',y='Licks',hue='Group',ci=68)"
   ]
  },
  {
   "cell_type": "code",
   "execution_count": 90,
   "metadata": {
    "ExecuteTime": {
     "end_time": "2020-08-08T01:10:53.350665Z",
     "start_time": "2020-08-08T01:10:53.292991Z"
    }
   },
   "outputs": [
    {
     "data": {
      "text/html": [
       "<table class=\"simpletable\">\n",
       "<caption>Multiple Comparison of Means - Tukey HSD, FWER=0.05</caption>\n",
       "<tr>\n",
       "      <th>group1</th>          <th>group2</th>      <th>meandiff</th>   <th>p-adj</th>   <th>lower</th>     <th>upper</th>  <th>reject</th>\n",
       "</tr>\n",
       "<tr>\n",
       "    <td>Control-BL</td>      <td>Control-PS</td>    <td>-59.8889</td>    <td>0.9</td>  <td>-233.4175</td> <td>113.6397</td>  <td>False</td>\n",
       "</tr>\n",
       "<tr>\n",
       "    <td>Control-BL</td>      <td>Control-R1</td>    <td>-309.1667</td>  <td>0.001</td> <td>-482.6953</td> <td>-135.638</td>  <td>True</td> \n",
       "</tr>\n",
       "<tr>\n",
       "    <td>Control-BL</td>      <td>Control-R2</td>      <td>-64.5</td>     <td>0.9</td>  <td>-238.0286</td> <td>109.0286</td>  <td>False</td>\n",
       "</tr>\n",
       "<tr>\n",
       "    <td>Control-BL</td>       <td>Control-S</td>    <td>-52.0556</td>    <td>0.9</td>  <td>-225.5842</td> <td>121.4731</td>  <td>False</td>\n",
       "</tr>\n",
       "<tr>\n",
       "    <td>Control-BL</td>    <td>Experimental-BL</td> <td>-53.0983</td>    <td>0.9</td>  <td>-212.7214</td> <td>106.5248</td>  <td>False</td>\n",
       "</tr>\n",
       "<tr>\n",
       "    <td>Control-BL</td>    <td>Experimental-PS</td> <td>-35.6175</td>    <td>0.9</td>  <td>-195.2406</td> <td>124.0056</td>  <td>False</td>\n",
       "</tr>\n",
       "<tr>\n",
       "    <td>Control-BL</td>    <td>Experimental-R1</td> <td>-109.2714</td> <td>0.4762</td> <td>-268.8945</td>  <td>50.3518</td>  <td>False</td>\n",
       "</tr>\n",
       "<tr>\n",
       "    <td>Control-BL</td>    <td>Experimental-R2</td>  <td>85.3825</td>  <td>0.7679</td> <td>-74.2406</td>  <td>245.0056</td>  <td>False</td>\n",
       "</tr>\n",
       "<tr>\n",
       "    <td>Control-BL</td>    <td>Experimental-S</td>  <td>-31.8675</td>    <td>0.9</td>  <td>-191.4906</td> <td>127.7556</td>  <td>False</td>\n",
       "</tr>\n",
       "<tr>\n",
       "    <td>Control-PS</td>      <td>Control-R1</td>    <td>-249.2778</td>  <td>0.001</td> <td>-422.8064</td> <td>-75.7491</td>  <td>True</td> \n",
       "</tr>\n",
       "<tr>\n",
       "    <td>Control-PS</td>      <td>Control-R2</td>     <td>-4.6111</td>    <td>0.9</td>  <td>-178.1397</td> <td>168.9175</td>  <td>False</td>\n",
       "</tr>\n",
       "<tr>\n",
       "    <td>Control-PS</td>       <td>Control-S</td>     <td>7.8333</td>     <td>0.9</td>  <td>-165.6953</td>  <td>181.362</td>  <td>False</td>\n",
       "</tr>\n",
       "<tr>\n",
       "    <td>Control-PS</td>    <td>Experimental-BL</td>  <td>6.7906</td>     <td>0.9</td>  <td>-152.8325</td> <td>166.4137</td>  <td>False</td>\n",
       "</tr>\n",
       "<tr>\n",
       "    <td>Control-PS</td>    <td>Experimental-PS</td>  <td>24.2714</td>    <td>0.9</td>  <td>-135.3518</td> <td>183.8945</td>  <td>False</td>\n",
       "</tr>\n",
       "<tr>\n",
       "    <td>Control-PS</td>    <td>Experimental-R1</td> <td>-49.3825</td>    <td>0.9</td>  <td>-209.0056</td> <td>110.2406</td>  <td>False</td>\n",
       "</tr>\n",
       "<tr>\n",
       "    <td>Control-PS</td>    <td>Experimental-R2</td> <td>145.2714</td>  <td>0.1105</td> <td>-14.3518</td>  <td>304.8945</td>  <td>False</td>\n",
       "</tr>\n",
       "<tr>\n",
       "    <td>Control-PS</td>    <td>Experimental-S</td>   <td>28.0214</td>    <td>0.9</td>  <td>-131.6018</td> <td>187.6445</td>  <td>False</td>\n",
       "</tr>\n",
       "<tr>\n",
       "    <td>Control-R1</td>      <td>Control-R2</td>    <td>244.6667</td>   <td>0.001</td>  <td>71.138</td>   <td>418.1953</td>  <td>True</td> \n",
       "</tr>\n",
       "<tr>\n",
       "    <td>Control-R1</td>       <td>Control-S</td>    <td>257.1111</td>   <td>0.001</td>  <td>83.5825</td>  <td>430.6397</td>  <td>True</td> \n",
       "</tr>\n",
       "<tr>\n",
       "    <td>Control-R1</td>    <td>Experimental-BL</td> <td>256.0684</td>   <td>0.001</td>  <td>96.4453</td>  <td>415.6915</td>  <td>True</td> \n",
       "</tr>\n",
       "<tr>\n",
       "    <td>Control-R1</td>    <td>Experimental-PS</td> <td>273.5491</td>   <td>0.001</td>  <td>113.926</td>  <td>433.1723</td>  <td>True</td> \n",
       "</tr>\n",
       "<tr>\n",
       "    <td>Control-R1</td>    <td>Experimental-R1</td> <td>199.8953</td>  <td>0.0032</td>  <td>40.2722</td>  <td>359.5184</td>  <td>True</td> \n",
       "</tr>\n",
       "<tr>\n",
       "    <td>Control-R1</td>    <td>Experimental-R2</td> <td>394.5491</td>   <td>0.001</td>  <td>234.926</td>  <td>554.1723</td>  <td>True</td> \n",
       "</tr>\n",
       "<tr>\n",
       "    <td>Control-R1</td>    <td>Experimental-S</td>  <td>277.2991</td>   <td>0.001</td>  <td>117.676</td>  <td>436.9223</td>  <td>True</td> \n",
       "</tr>\n",
       "<tr>\n",
       "    <td>Control-R2</td>       <td>Control-S</td>     <td>12.4444</td>    <td>0.9</td>  <td>-161.0842</td> <td>185.9731</td>  <td>False</td>\n",
       "</tr>\n",
       "<tr>\n",
       "    <td>Control-R2</td>    <td>Experimental-BL</td>  <td>11.4017</td>    <td>0.9</td>  <td>-148.2214</td> <td>171.0248</td>  <td>False</td>\n",
       "</tr>\n",
       "<tr>\n",
       "    <td>Control-R2</td>    <td>Experimental-PS</td>  <td>28.8825</td>    <td>0.9</td>  <td>-130.7406</td> <td>188.5056</td>  <td>False</td>\n",
       "</tr>\n",
       "<tr>\n",
       "    <td>Control-R2</td>    <td>Experimental-R1</td> <td>-44.7714</td>    <td>0.9</td>  <td>-204.3945</td> <td>114.8518</td>  <td>False</td>\n",
       "</tr>\n",
       "<tr>\n",
       "    <td>Control-R2</td>    <td>Experimental-R2</td> <td>149.8825</td>  <td>0.0869</td>  <td>-9.7406</td>  <td>309.5056</td>  <td>False</td>\n",
       "</tr>\n",
       "<tr>\n",
       "    <td>Control-R2</td>    <td>Experimental-S</td>   <td>32.6325</td>    <td>0.9</td>  <td>-126.9906</td> <td>192.2556</td>  <td>False</td>\n",
       "</tr>\n",
       "<tr>\n",
       "     <td>Control-S</td>    <td>Experimental-BL</td>  <td>-1.0427</td>    <td>0.9</td>  <td>-160.6659</td> <td>158.5804</td>  <td>False</td>\n",
       "</tr>\n",
       "<tr>\n",
       "     <td>Control-S</td>    <td>Experimental-PS</td>  <td>16.438</td>     <td>0.9</td>  <td>-143.1851</td> <td>176.0612</td>  <td>False</td>\n",
       "</tr>\n",
       "<tr>\n",
       "     <td>Control-S</td>    <td>Experimental-R1</td> <td>-57.2158</td>    <td>0.9</td>  <td>-216.8389</td> <td>102.4073</td>  <td>False</td>\n",
       "</tr>\n",
       "<tr>\n",
       "     <td>Control-S</td>    <td>Experimental-R2</td>  <td>137.438</td>   <td>0.162</td> <td>-22.1851</td>  <td>297.0612</td>  <td>False</td>\n",
       "</tr>\n",
       "<tr>\n",
       "     <td>Control-S</td>    <td>Experimental-S</td>   <td>20.188</td>     <td>0.9</td>  <td>-139.4351</td> <td>179.8112</td>  <td>False</td>\n",
       "</tr>\n",
       "<tr>\n",
       "  <td>Experimental-BL</td> <td>Experimental-PS</td>  <td>17.4808</td>    <td>0.9</td>  <td>-126.9038</td> <td>161.8653</td>  <td>False</td>\n",
       "</tr>\n",
       "<tr>\n",
       "  <td>Experimental-BL</td> <td>Experimental-R1</td> <td>-56.1731</td>    <td>0.9</td>  <td>-200.5576</td>  <td>88.2115</td>  <td>False</td>\n",
       "</tr>\n",
       "<tr>\n",
       "  <td>Experimental-BL</td> <td>Experimental-R2</td> <td>138.4808</td>   <td>0.073</td>  <td>-5.9038</td>  <td>282.8653</td>  <td>False</td>\n",
       "</tr>\n",
       "<tr>\n",
       "  <td>Experimental-BL</td> <td>Experimental-S</td>   <td>21.2308</td>    <td>0.9</td>  <td>-123.1538</td> <td>165.6153</td>  <td>False</td>\n",
       "</tr>\n",
       "<tr>\n",
       "  <td>Experimental-PS</td> <td>Experimental-R1</td> <td>-73.6538</td>   <td>0.816</td> <td>-218.0384</td>  <td>70.7307</td>  <td>False</td>\n",
       "</tr>\n",
       "<tr>\n",
       "  <td>Experimental-PS</td> <td>Experimental-R2</td>   <td>121.0</td>   <td>0.1912</td> <td>-23.3845</td>  <td>265.3845</td>  <td>False</td>\n",
       "</tr>\n",
       "<tr>\n",
       "  <td>Experimental-PS</td> <td>Experimental-S</td>    <td>3.75</td>      <td>0.9</td>  <td>-140.6345</td> <td>148.1345</td>  <td>False</td>\n",
       "</tr>\n",
       "<tr>\n",
       "  <td>Experimental-R1</td> <td>Experimental-R2</td> <td>194.6538</td>   <td>0.001</td>  <td>50.2693</td>  <td>339.0384</td>  <td>True</td> \n",
       "</tr>\n",
       "<tr>\n",
       "  <td>Experimental-R1</td> <td>Experimental-S</td>   <td>77.4038</td>  <td>0.7656</td> <td>-66.9807</td>  <td>221.7884</td>  <td>False</td>\n",
       "</tr>\n",
       "<tr>\n",
       "  <td>Experimental-R2</td> <td>Experimental-S</td>   <td>-117.25</td>  <td>0.2292</td> <td>-261.6345</td>  <td>27.1345</td>  <td>False</td>\n",
       "</tr>\n",
       "</table>"
      ],
      "text/plain": [
       "<class 'statsmodels.iolib.table.SimpleTable'>"
      ]
     },
     "execution_count": 90,
     "metadata": {},
     "output_type": "execute_result"
    }
   ],
   "source": [
    "res = pairwise_tukeyhsd(df2['Licks'],df2['Group-Phase'])\n",
    "res.summary()"
   ]
  },
  {
   "cell_type": "markdown",
   "metadata": {},
   "source": [
    "## The CORRECT Test: Repeated Measures ANOVA"
   ]
  },
  {
   "cell_type": "code",
   "execution_count": 92,
   "metadata": {},
   "outputs": [
    {
     "ename": "NotImplementedError",
     "evalue": "Between subject effect not yet supported!",
     "output_type": "error",
     "traceback": [
      "\u001b[0;31m---------------------------------------------------------------------------\u001b[0m",
      "\u001b[0;31mNotImplementedError\u001b[0m                       Traceback (most recent call last)",
      "\u001b[0;32m<ipython-input-92-816a2a48a30c>\u001b[0m in \u001b[0;36m<module>\u001b[0;34m\u001b[0m\n\u001b[1;32m      1\u001b[0m \u001b[0;32mfrom\u001b[0m \u001b[0mstatsmodels\u001b[0m\u001b[0;34m.\u001b[0m\u001b[0mstats\u001b[0m\u001b[0;34m.\u001b[0m\u001b[0manova\u001b[0m \u001b[0;32mimport\u001b[0m \u001b[0mAnovaRM\u001b[0m\u001b[0;34m\u001b[0m\u001b[0;34m\u001b[0m\u001b[0m\n\u001b[1;32m      2\u001b[0m \u001b[0;34m\u001b[0m\u001b[0m\n\u001b[0;32m----> 3\u001b[0;31m aovrm = AnovaRM(df2, depvar='Licks', subject='Mouse_ID', \n\u001b[0m\u001b[1;32m      4\u001b[0m                 \u001b[0mwithin\u001b[0m\u001b[0;34m=\u001b[0m\u001b[0;34m[\u001b[0m\u001b[0;34m'Phase'\u001b[0m\u001b[0;34m]\u001b[0m\u001b[0;34m,\u001b[0m\u001b[0;34m\u001b[0m\u001b[0;34m\u001b[0m\u001b[0m\n\u001b[1;32m      5\u001b[0m                 between='Groups')\n",
      "\u001b[0;32m/opt/anaconda3/envs/learn-env-new/lib/python3.8/site-packages/statsmodels/stats/anova.py\u001b[0m in \u001b[0;36m__init__\u001b[0;34m(self, data, depvar, subject, within, between, aggregate_func)\u001b[0m\n\u001b[1;32m    485\u001b[0m         \u001b[0mself\u001b[0m\u001b[0;34m.\u001b[0m\u001b[0mbetween\u001b[0m \u001b[0;34m=\u001b[0m \u001b[0mbetween\u001b[0m\u001b[0;34m\u001b[0m\u001b[0;34m\u001b[0m\u001b[0m\n\u001b[1;32m    486\u001b[0m         \u001b[0;32mif\u001b[0m \u001b[0mbetween\u001b[0m \u001b[0;32mis\u001b[0m \u001b[0;32mnot\u001b[0m \u001b[0;32mNone\u001b[0m\u001b[0;34m:\u001b[0m\u001b[0;34m\u001b[0m\u001b[0;34m\u001b[0m\u001b[0m\n\u001b[0;32m--> 487\u001b[0;31m             raise NotImplementedError('Between subject effect not '\n\u001b[0m\u001b[1;32m    488\u001b[0m                                       'yet supported!')\n\u001b[1;32m    489\u001b[0m         \u001b[0mself\u001b[0m\u001b[0;34m.\u001b[0m\u001b[0msubject\u001b[0m \u001b[0;34m=\u001b[0m \u001b[0msubject\u001b[0m\u001b[0;34m\u001b[0m\u001b[0;34m\u001b[0m\u001b[0m\n",
      "\u001b[0;31mNotImplementedError\u001b[0m: Between subject effect not yet supported!"
     ]
    }
   ],
   "source": [
    "from statsmodels.stats.anova import AnovaRM\n",
    "\n",
    "aovrm = AnovaRM(df2, depvar='Licks', subject='Mouse_ID', \n",
    "                within=['Phase'],\n",
    "                between='Groups')\n",
    "res = aovrm.fit()\n",
    "print(res)"
   ]
  },
  {
   "cell_type": "markdown",
   "metadata": {},
   "source": [
    "## CONCLUSION\n",
    "- Running the correct test according to the assumptions of normality and equal variance will ensure you can get the correct test result.\n",
    "\n",
    "- Notice how the last phase (R) did NOT come back as significant when we ran the t-test, but DID come back significant when we performed the Mann Whitney U instead. \n",
    "\n"
   ]
  },
  {
   "cell_type": "markdown",
   "metadata": {},
   "source": [
    "(https://www.statsmodels.org/stable/generated/statsmodels.stats.multicomp.pairwise_tukeyhsd.html)"
   ]
  },
  {
   "cell_type": "markdown",
   "metadata": {
    "colab": {},
    "colab_type": "code",
    "id": "bvV8Knq8JVk7"
   },
   "source": [
    "## Effect Size Visual\n",
    "- https://rpsychologist.com/d3/NHST/\n"
   ]
  }
 ],
 "metadata": {
  "colab": {
   "collapsed_sections": [],
   "name": "Sect 18+19  with Titanic.ipynb",
   "provenance": []
  },
  "kernelspec": {
   "display_name": "learn-env-new",
   "language": "python",
   "name": "learn-env-new"
  },
  "language_info": {
   "codemirror_mode": {
    "name": "ipython",
    "version": 3
   },
   "file_extension": ".py",
   "mimetype": "text/x-python",
   "name": "python",
   "nbconvert_exporter": "python",
   "pygments_lexer": "ipython3",
   "version": "3.8.5"
  },
  "toc": {
   "base_numbering": 1,
   "nav_menu": {},
   "number_sections": false,
   "sideBar": true,
   "skip_h1_title": false,
   "title_cell": "Table of Contents",
   "title_sidebar": "Contents",
   "toc_cell": false,
   "toc_position": {
    "height": "calc(100% - 180px)",
    "left": "10px",
    "top": "150px",
    "width": "320px"
   },
   "toc_section_display": true,
   "toc_window_display": true
  },
  "varInspector": {
   "cols": {
    "lenName": 16,
    "lenType": 16,
    "lenVar": 40
   },
   "kernels_config": {
    "python": {
     "delete_cmd_postfix": "",
     "delete_cmd_prefix": "del ",
     "library": "var_list.py",
     "varRefreshCmd": "print(var_dic_list())"
    },
    "r": {
     "delete_cmd_postfix": ") ",
     "delete_cmd_prefix": "rm(",
     "library": "var_list.r",
     "varRefreshCmd": "cat(var_dic_list()) "
    }
   },
   "position": {
    "height": "360.85px",
    "left": "630px",
    "right": "20px",
    "top": "38px",
    "width": "480px"
   },
   "types_to_exclude": [
    "module",
    "function",
    "builtin_function_or_method",
    "instance",
    "_Feature"
   ],
   "window_display": false
  }
 },
 "nbformat": 4,
 "nbformat_minor": 1
}
