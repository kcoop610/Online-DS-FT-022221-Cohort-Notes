{
 "cells": [
  {
   "cell_type": "markdown",
   "metadata": {},
   "source": [
    "# Topic 17: Bayesian Statistics"
   ]
  },
  {
   "cell_type": "markdown",
   "metadata": {},
   "source": [
    "- onl01-dtsc-ft-022221\n",
    "- 04/06/21 study group"
   ]
  },
  {
   "cell_type": "markdown",
   "metadata": {},
   "source": [
    "## Learning Objectives"
   ]
  },
  {
   "cell_type": "markdown",
   "metadata": {},
   "source": [
    "- Review the concept of conditional probability \n",
    "- Learn about Bayes' Theorem\n",
    "- Apply Bayes Theorem - Bayes' Theorem Lab\n",
    "- Discuss maximum likelihood estimation (MLE)\n",
    "- Apply Maximum Likelihood Estimation using a normal distribution"
   ]
  },
  {
   "cell_type": "markdown",
   "metadata": {},
   "source": [
    "## Advice on Approaching This Section\n"
   ]
  },
  {
   "cell_type": "markdown",
   "metadata": {},
   "source": [
    "- Don't let the Monty Hall Problem lab slow you down.\n",
    "- Don't fret too much about the math behind the MLE section (for now). \n",
    "    - If you understand what we do in today's class, that is a better starting point than the lessons\n",
    "    \n",
    "- When we get to calculus & gradient descent we will come back and discuss more of the math from the lessons about MLE/MAP"
   ]
  },
  {
   "cell_type": "markdown",
   "metadata": {},
   "source": [
    "## Additional References"
   ]
  },
  {
   "cell_type": "markdown",
   "metadata": {
    "ExecuteTime": {
     "end_time": "2020-02-25T21:12:25.012751Z",
     "start_time": "2020-02-25T21:12:25.008886Z"
    }
   },
   "source": [
    "- **Videos**\n",
    "    - [Bayesian Stats & MLE YouTube Playlist](https://www.youtube.com/playlist?list=PLFknVelSJiSxKhi_xJIbBUZdIn49hDajE)\n",
    "\n",
    "\n",
    "- **Blog Posts & Articles**\n",
    "    - https://towardsdatascience.com/probability-concepts-explained-maximum-likelihood-estimation-c7b4342fdbb1\n",
    "    - [Star Wars Intro To Bayesian Priors](https://www.countbayesie.com/blog/2015/2/18/hans-solo-and-bayesian-priors)\n"
   ]
  },
  {
   "cell_type": "markdown",
   "metadata": {},
   "source": [
    "## Questions?"
   ]
  },
  {
   "cell_type": "markdown",
   "metadata": {},
   "source": [
    "- \n"
   ]
  },
  {
   "cell_type": "markdown",
   "metadata": {},
   "source": [
    "# Conditional Probability - Review"
   ]
  },
  {
   "cell_type": "markdown",
   "metadata": {},
   "source": [
    "\n",
    "**Conditional probability emerges when the outcome a trial may influence the results of the upcoming trials.**\n",
    "\n",
    "The conditional probability (Probability of $A$ **given** $B$) can be written as:\n",
    "$$ P (A \\mid B) = \\dfrac{P(A \\cap B)}{P(B)}$$\n",
    "\n",
    "\n",
    "\n",
    "$P(A|B)$, is the probability A **given** that $B$ has just happened. \n"
   ]
  },
  {
   "cell_type": "markdown",
   "metadata": {},
   "source": [
    "## Laws & Theorems Based on Conditional Probability\n"
   ]
  },
  {
   "cell_type": "markdown",
   "metadata": {},
   "source": [
    "### Theorem 1: Product Rule\n",
    "\n",
    "The intersection of events $A$ and $B$ can be given by\n",
    "\n",
    "\\begin{align}\n",
    "    P(A \\cap B) = P(B) P(A \\mid B) = P(A) P(B \\mid A)\n",
    "\\end{align}\n",
    "\n"
   ]
  },
  {
   "cell_type": "markdown",
   "metadata": {},
   "source": [
    "### Theorem 2: Chain Rule AKA \"General Product Rule\"\n",
    "\n",
    "- Allows calculation of any member of the join distribution of a set of random variables using _only_ conditional probabilities.\n",
    "\n",
    "- Built on the product rule: \n",
    "$$P(A \\cap B) = P(A \\mid B) P(B)$$\n",
    "\n",
    "\n",
    "\n"
   ]
  },
  {
   "cell_type": "markdown",
   "metadata": {},
   "source": [
    "# Bayes' Theorem"
   ]
  },
  {
   "cell_type": "markdown",
   "metadata": {},
   "source": [
    "- Starts with the formula for conditional probability/likelihood:\n",
    "\n",
    "$$ P(A|B) = \\dfrac{P(A \\cap B)}{P(B)}$$\n",
    "\n",
    "- Substitute $P(B|A)P(A)$ for $P(A \\cap B)$ using the product rule and we get:\n",
    "\n",
    "\n",
    "\n",
    "#### Bayes' Theorem\n",
    "\n",
    "$$ \\large P(A|B) = \\frac{P(B|A)P(A)}{P(B)} $$\n",
    "\n",
    "\n",
    "- Note that, using Bayes theorem, you can compute conditional probabilities without explicitly needing to know $P(A \\cap B)$! "
   ]
  },
  {
   "cell_type": "markdown",
   "metadata": {},
   "source": [
    "# Activity: Bayes' Theorem - lab"
   ]
  },
  {
   "cell_type": "code",
   "execution_count": 40,
   "metadata": {
    "ExecuteTime": {
     "end_time": "2020-07-08T23:12:03.795667Z",
     "start_time": "2020-07-08T23:12:03.792881Z"
    }
   },
   "outputs": [],
   "source": [
    "def bayes(P_a, P_b, P_b_given_a):\n",
    "    # Your code here\n",
    "    P_a_given_b = (P_b_given_a*P_a)/P_b\n",
    "    return P_a_given_b"
   ]
  },
  {
   "cell_type": "markdown",
   "metadata": {},
   "source": [
    "### Skin Cancer"
   ]
  },
  {
   "cell_type": "markdown",
   "metadata": {},
   "source": [
    "After a physical exam, a doctor observes a blemish on a client's arm. The doctor is concerned that the blemish could be cancerous, but tells the patient to be calm and that it's probably benign. Of those with skin cancer, 100% have such blemishes. However, 20% of those without skin cancer also have such blemishes. If 15% of the population has skin cancer, **what's the probability that this patient has skin cancer?**\n",
    "\n",
    "> Hint: Be sure to calculate the overall rate of blemishes across the entire population."
   ]
  },
  {
   "cell_type": "markdown",
   "metadata": {},
   "source": [
    "\n",
    "$$ \\large P(A|B) = \\frac{P(B|A)P(A)}{P(B)} $$\n"
   ]
  },
  {
   "cell_type": "markdown",
   "metadata": {},
   "source": [
    "- Must apply the Law of Total Probability to get P_blemish\n"
   ]
  },
  {
   "cell_type": "code",
   "execution_count": 41,
   "metadata": {
    "ExecuteTime": {
     "end_time": "2020-07-08T23:16:31.130280Z",
     "start_time": "2020-07-08T23:16:31.125415Z"
    }
   },
   "outputs": [
    {
     "data": {
      "text/plain": [
       "0.32"
      ]
     },
     "execution_count": 41,
     "metadata": {},
     "output_type": "execute_result"
    }
   ],
   "source": [
    "# Your code here\n",
    "# A = cancer. B= blemish\n",
    "\n",
    "P_blemish_given_cancer = 1 # P(B|A)\n",
    "P_blemish_given_notcancer = 0.2 # P(B|A')\n",
    "\n",
    "P_cancer = .15 # P(A)\n",
    "P_notcancer = 1- P_cancer # P(A')\n",
    "\n",
    "P_blemish = P_blemish_given_cancer*P_cancer + P_blemish_given_notcancer*P_notcancer\n",
    "P_blemish"
   ]
  },
  {
   "cell_type": "code",
   "execution_count": 42,
   "metadata": {
    "ExecuteTime": {
     "end_time": "2020-07-08T23:16:31.130280Z",
     "start_time": "2020-07-08T23:16:31.125415Z"
    }
   },
   "outputs": [
    {
     "data": {
      "text/plain": [
       "0.46875"
      ]
     },
     "execution_count": 42,
     "metadata": {},
     "output_type": "execute_result"
    }
   ],
   "source": [
    "P_cancer_given_blemish = bayes(P_cancer,P_blemish,P_blemish_given_cancer )\n",
    "P_cancer_given_blemish"
   ]
  },
  {
   "cell_type": "markdown",
   "metadata": {},
   "source": [
    "### Children (I) \n",
    " \n",
    "A couple has two children. the younger of which is a boy. What is the probability that they have two boys?"
   ]
  },
  {
   "cell_type": "code",
   "execution_count": 43,
   "metadata": {
    "ExecuteTime": {
     "end_time": "2020-07-08T23:22:08.106330Z",
     "start_time": "2020-07-08T23:22:08.102058Z"
    }
   },
   "outputs": [
    {
     "data": {
      "text/plain": [
       "0.5"
      ]
     },
     "execution_count": 43,
     "metadata": {},
     "output_type": "execute_result"
    }
   ],
   "source": [
    "# Your solution P(2boys|younger child is a boy) #A =0.5\n",
    "\n",
    "# B = P(younger_boy)\n",
    "P_younger_boy = 0.5\n",
    "\n",
    "# A = P(2boys)\n",
    "P_2boys = 0.5*0.5\n",
    "\n",
    "# B|A = P(s)\n",
    "P_younger_boy_given_2boys = 1\n",
    "\n",
    "\n",
    "\n",
    "P_2boys_given_younger_boy = bayes(P_2boys,P_younger_boy,P_younger_boy_given_2boys)\n",
    "P_2boys_given_younger_boy"
   ]
  },
  {
   "cell_type": "markdown",
   "metadata": {},
   "source": [
    "### Children  (II)\n",
    "\n",
    "A couple has two children, one of which is a boy. What is the probability that they have two boys?"
   ]
  },
  {
   "cell_type": "code",
   "execution_count": 44,
   "metadata": {
    "ExecuteTime": {
     "end_time": "2020-07-08T23:27:11.743592Z",
     "start_time": "2020-07-08T23:27:11.738111Z"
    }
   },
   "outputs": [
    {
     "data": {
      "text/plain": [
       "0.3333333333333333"
      ]
     },
     "execution_count": 44,
     "metadata": {},
     "output_type": "execute_result"
    }
   ],
   "source": [
    "# Your solution P(2boys|1 of 2 children is a boy) #A=0.33\n",
    "## BB, BG, GG, GB\n",
    "P_2boys =.25\n",
    "P_1boy = .75\n",
    "P_1_boy_given_2boys= 1\n",
    "\n",
    "P_2boys_given_1boy = bayes(P_2boys, P_1boy, P_1_boy_given_2boys)\n",
    "P_2boys_given_1boy"
   ]
  },
  {
   "cell_type": "markdown",
   "metadata": {},
   "source": [
    "### A diagnostic test\n"
   ]
  },
  {
   "cell_type": "markdown",
   "metadata": {},
   "source": [
    "A diagnostic test is advertised as being 99% accurate \n",
    "\n",
    "* If a patient has the disease, they  will test positive 99% of the time \n",
    "\n",
    "* If they don't have the disease, they will test negative 99% of the time  \n",
    "\n",
    "* 1% of all people have this disease \n",
    "\n",
    "If a patient tests positive, what is the probability that they actually have the disease?"
   ]
  },
  {
   "cell_type": "code",
   "execution_count": 45,
   "metadata": {
    "ExecuteTime": {
     "end_time": "2020-07-08T23:34:29.315416Z",
     "start_time": "2020-07-08T23:34:29.310914Z"
    }
   },
   "outputs": [
    {
     "data": {
      "text/plain": [
       "0.5"
      ]
     },
     "execution_count": 45,
     "metadata": {},
     "output_type": "execute_result"
    }
   ],
   "source": [
    "# Your solution P(Disease | positive test) # A=0.5\n",
    "P_disease =.01\n",
    "P_no_disease = 1-P_disease\n",
    "\n",
    "\n",
    "P_positive_given_disease = .99\n",
    "P_postiive_given_no_disease = .01\n",
    "\n",
    "P_positive= P_postiive_given_no_disease*P_no_disease+ P_positive_given_disease*P_disease\n",
    "\n",
    "P_disease_given_pos = bayes(P_disease,P_positive,P_positive_given_disease)\n",
    "P_disease_given_pos"
   ]
  },
  {
   "cell_type": "markdown",
   "metadata": {},
   "source": [
    "## Optional Activity > Topic 17 Optional Practice Problems"
   ]
  },
  {
   "cell_type": "markdown",
   "metadata": {},
   "source": [
    "- in `Topic17-BayesPractice.ipynb`\n",
    "- (Unverified) solution branch added right before study group"
   ]
  },
  {
   "cell_type": "markdown",
   "metadata": {},
   "source": [
    "# Maximum Likelihood Estimation"
   ]
  },
  {
   "cell_type": "markdown",
   "metadata": {},
   "source": [
    "\n",
    "MLE primarily deals with **determining the parameters ($\\theta$'s)** that **maximize the probability/liklihood of observing the data**. "
   ]
  },
  {
   "cell_type": "markdown",
   "metadata": {
    "ExecuteTime": {
     "end_time": "2020-02-23T00:17:06.189085Z",
     "start_time": "2020-02-23T00:17:06.186800Z"
    }
   },
   "source": [
    "## Parameter Inference"
   ]
  },
  {
   "cell_type": "markdown",
   "metadata": {},
   "source": [
    "> - If we have a number of observations for a phenomenon that we do not know the probability/parameters for, we can use the probability of seeing those observations (the likelihood) for different probabilities/parameters until we find the value for the parameter that maximizes our chances of seeing the observed data.'\n"
   ]
  },
  {
   "cell_type": "markdown",
   "metadata": {},
   "source": [
    "### MLE Assumptions"
   ]
  },
  {
   "cell_type": "markdown",
   "metadata": {},
   "source": [
    "- Observations are independent \n",
    "- Observations are identically distributed\n",
    "\n",
    "\n",
    "> These assumptions are so common they have been given an abbreviation: \"the i.i.d. assumption (independent and identically distributed samples)\n",
    "\n",
    "<!---<img src =\"https://raw.githubusercontent.com/learn-co-students/dsc-mle-online-ds-pt-100719/master/images/der.png\">--->"
   ]
  },
  {
   "cell_type": "markdown",
   "metadata": {
    "ExecuteTime": {
     "end_time": "2020-02-25T21:18:55.524353Z",
     "start_time": "2020-02-25T21:18:55.522341Z"
    }
   },
   "source": [
    "# Activity: Using MLE to find the Mean and Std for Male Height"
   ]
  },
  {
   "cell_type": "markdown",
   "metadata": {},
   "source": [
    "> Use MLE to find find the mean height and standard deviation for males."
   ]
  },
  {
   "cell_type": "code",
   "execution_count": 46,
   "metadata": {
    "ExecuteTime": {
     "end_time": "2020-07-08T22:54:35.372409Z",
     "start_time": "2020-07-08T22:54:33.936796Z"
    }
   },
   "outputs": [
    {
     "data": {
      "text/html": [
       "<div>\n",
       "<style scoped>\n",
       "    .dataframe tbody tr th:only-of-type {\n",
       "        vertical-align: middle;\n",
       "    }\n",
       "\n",
       "    .dataframe tbody tr th {\n",
       "        vertical-align: top;\n",
       "    }\n",
       "\n",
       "    .dataframe thead th {\n",
       "        text-align: right;\n",
       "    }\n",
       "</style>\n",
       "<table border=\"1\" class=\"dataframe\">\n",
       "  <thead>\n",
       "    <tr style=\"text-align: right;\">\n",
       "      <th></th>\n",
       "      <th>Gender</th>\n",
       "      <th>Height</th>\n",
       "      <th>Weight</th>\n",
       "    </tr>\n",
       "  </thead>\n",
       "  <tbody>\n",
       "    <tr>\n",
       "      <th>0</th>\n",
       "      <td>Male</td>\n",
       "      <td>73.847017</td>\n",
       "      <td>241.893563</td>\n",
       "    </tr>\n",
       "    <tr>\n",
       "      <th>1</th>\n",
       "      <td>Male</td>\n",
       "      <td>68.781904</td>\n",
       "      <td>162.310473</td>\n",
       "    </tr>\n",
       "    <tr>\n",
       "      <th>2</th>\n",
       "      <td>Male</td>\n",
       "      <td>74.110105</td>\n",
       "      <td>212.740856</td>\n",
       "    </tr>\n",
       "    <tr>\n",
       "      <th>3</th>\n",
       "      <td>Male</td>\n",
       "      <td>71.730978</td>\n",
       "      <td>220.042470</td>\n",
       "    </tr>\n",
       "    <tr>\n",
       "      <th>4</th>\n",
       "      <td>Male</td>\n",
       "      <td>69.881796</td>\n",
       "      <td>206.349801</td>\n",
       "    </tr>\n",
       "    <tr>\n",
       "      <th>...</th>\n",
       "      <td>...</td>\n",
       "      <td>...</td>\n",
       "      <td>...</td>\n",
       "    </tr>\n",
       "    <tr>\n",
       "      <th>9995</th>\n",
       "      <td>Female</td>\n",
       "      <td>66.172652</td>\n",
       "      <td>136.777454</td>\n",
       "    </tr>\n",
       "    <tr>\n",
       "      <th>9996</th>\n",
       "      <td>Female</td>\n",
       "      <td>67.067155</td>\n",
       "      <td>170.867906</td>\n",
       "    </tr>\n",
       "    <tr>\n",
       "      <th>9997</th>\n",
       "      <td>Female</td>\n",
       "      <td>63.867992</td>\n",
       "      <td>128.475319</td>\n",
       "    </tr>\n",
       "    <tr>\n",
       "      <th>9998</th>\n",
       "      <td>Female</td>\n",
       "      <td>69.034243</td>\n",
       "      <td>163.852461</td>\n",
       "    </tr>\n",
       "    <tr>\n",
       "      <th>9999</th>\n",
       "      <td>Female</td>\n",
       "      <td>61.944246</td>\n",
       "      <td>113.649103</td>\n",
       "    </tr>\n",
       "  </tbody>\n",
       "</table>\n",
       "<p>10000 rows × 3 columns</p>\n",
       "</div>"
      ],
      "text/plain": [
       "      Gender     Height      Weight\n",
       "0       Male  73.847017  241.893563\n",
       "1       Male  68.781904  162.310473\n",
       "2       Male  74.110105  212.740856\n",
       "3       Male  71.730978  220.042470\n",
       "4       Male  69.881796  206.349801\n",
       "...      ...        ...         ...\n",
       "9995  Female  66.172652  136.777454\n",
       "9996  Female  67.067155  170.867906\n",
       "9997  Female  63.867992  128.475319\n",
       "9998  Female  69.034243  163.852461\n",
       "9999  Female  61.944246  113.649103\n",
       "\n",
       "[10000 rows x 3 columns]"
      ]
     },
     "execution_count": 46,
     "metadata": {},
     "output_type": "execute_result"
    }
   ],
   "source": [
    "# ! pip install -U fsds\n",
    "from fsds.imports import *\n",
    "df = fs.datasets.load_height_weight()\n",
    "df"
   ]
  },
  {
   "cell_type": "code",
   "execution_count": 47,
   "metadata": {
    "ExecuteTime": {
     "end_time": "2020-07-08T22:54:35.692865Z",
     "start_time": "2020-07-08T22:54:35.684129Z"
    }
   },
   "outputs": [
    {
     "data": {
      "text/plain": [
       "2648    69.569235\n",
       "2456    68.035724\n",
       "4557    65.102935\n",
       "4884    64.585263\n",
       "92      70.640530\n",
       "          ...    \n",
       "1182    74.758752\n",
       "1898    72.439501\n",
       "2736    68.929542\n",
       "1003    67.805312\n",
       "3022    68.914623\n",
       "Name: Height, Length: 100, dtype: float64"
      ]
     },
     "execution_count": 47,
     "metadata": {},
     "output_type": "execute_result"
    }
   ],
   "source": [
    "## Separate Out Males' height\n",
    "df_male = df.groupby('Gender').get_group(\"Male\")['Height']\n",
    "\n",
    "## Take a small sample (n=100) using random_state 123\n",
    "male_sample = df_male.sample(100, random_state=123)\n",
    "male_sample"
   ]
  },
  {
   "cell_type": "code",
   "execution_count": 48,
   "metadata": {
    "ExecuteTime": {
     "end_time": "2020-07-08T22:54:35.871132Z",
     "start_time": "2020-07-08T22:54:35.694714Z"
    }
   },
   "outputs": [
    {
     "data": {
      "text/plain": [
       "[Text(0.5, 1.0, 'Observed Male Heights'), Text(0.5, 0, 'Height (inches)')]"
      ]
     },
     "execution_count": 48,
     "metadata": {},
     "output_type": "execute_result"
    },
    {
     "data": {
      "image/png": "[encoded data removed]",
      "text/plain": [
       "<Figure size 720x216 with 1 Axes>"
      ]
     },
     "metadata": {
      "needs_background": "light"
     },
     "output_type": "display_data"
    }
   ],
   "source": [
    "## Rug Plot of Male Heights Sample\n",
    "fig,ax=plt.subplots(figsize=(10,3))\n",
    "ax = sns.rugplot(male_sample,ax=ax,height=0.3)\n",
    "ax.set(title='Observed Male Heights', \n",
    "       xlabel='Height (inches)')"
   ]
  },
  {
   "cell_type": "markdown",
   "metadata": {},
   "source": [
    "## Task: Use MLE to Determine the Most Likely Mean and Std of Male Height"
   ]
  },
  {
   "cell_type": "markdown",
   "metadata": {},
   "source": [
    "- How can we figure out the most likely population mean and std for males?"
   ]
  },
  {
   "cell_type": "code",
   "execution_count": 49,
   "metadata": {
    "ExecuteTime": {
     "end_time": "2020-07-08T23:41:31.282257Z",
     "start_time": "2020-07-08T23:41:31.279622Z"
    }
   },
   "outputs": [],
   "source": [
    "from scipy import stats\n",
    "## Make a guess of mean=70, std=4\n",
    "mu=70\n",
    "std=4"
   ]
  },
  {
   "cell_type": "code",
   "execution_count": 50,
   "metadata": {
    "ExecuteTime": {
     "end_time": "2020-07-08T23:42:02.889418Z",
     "start_time": "2020-07-08T23:42:02.884515Z"
    }
   },
   "outputs": [],
   "source": [
    "## Generate 100 data points in the range of male_height (xs)\n",
    "xs = np.linspace(male_sample.min(),male_sample.max(), 100)\n",
    "\n",
    "## Generate a normal distribution (ys) using the xs \n",
    "ys = stats.norm(loc=mu, scale=std).pdf(xs)"
   ]
  },
  {
   "cell_type": "code",
   "execution_count": 51,
   "metadata": {
    "ExecuteTime": {
     "end_time": "2020-07-08T23:42:02.889418Z",
     "start_time": "2020-07-08T23:42:02.884515Z"
    }
   },
   "outputs": [
    {
     "data": {
      "text/plain": [
       "[<matplotlib.lines.Line2D at 0x7fb4e8698340>]"
      ]
     },
     "execution_count": 51,
     "metadata": {},
     "output_type": "execute_result"
    },
    {
     "data": {
      "image/png": "[encoded data removed]",
      "text/plain": [
       "<Figure size 720x360 with 1 Axes>"
      ]
     },
     "metadata": {
      "needs_background": "light"
     },
     "output_type": "display_data"
    }
   ],
   "source": [
    "fig,ax=plt.subplots(figsize=(10,5))\n",
    "ax = sns.rugplot(male_sample,ax=ax,height=0.3)\n",
    "ax.set(title='Observed Male Heights', \n",
    "       xlabel='Height (inches)')\n",
    "ax.plot(xs, ys)"
   ]
  },
  {
   "cell_type": "code",
   "execution_count": 52,
   "metadata": {
    "ExecuteTime": {
     "end_time": "2020-07-08T23:42:20.531095Z",
     "start_time": "2020-07-08T23:42:20.242101Z"
    },
    "code_folding": []
   },
   "outputs": [],
   "source": [
    "## functionize the above process\n",
    "def plot_male_height(male_sample, mu, std):\n",
    "    \"\"\"Plot a rugplot of the male_sample \n",
    "    vs the normal distribution defined by mu and std.\"\"\"\n",
    "\n",
    "    ## Plot Male Heights\n",
    "    fig,ax=plt.subplots(figsize=(10,5))\n",
    "    ax = sns.rugplot(male_sample,ax=ax,height=0.1)\n",
    "    ax.set(title='Observed Male Heights', xlabel='Height (inches)')\n",
    "    \n",
    "    ## Generate a normal distribution (ys) using the xs \n",
    "    xs = np.linspace(male_sample.min(),male_sample.max(),100)\n",
    "    pop = stats.norm(loc=mu,scale=std).pdf(xs)\n",
    "    \n",
    "    ax.plot(xs,pop,label=f\"Generated Dist (mu={mu}, std={std})\")\n",
    "    ax.axvline(mu,c='k',ls=':',label=f\"Mean={mu}\")\n",
    "    ax.legend()\n",
    " "
   ]
  },
  {
   "cell_type": "code",
   "execution_count": 53,
   "metadata": {
    "ExecuteTime": {
     "end_time": "2020-07-08T23:42:20.531095Z",
     "start_time": "2020-07-08T23:42:20.242101Z"
    },
    "code_folding": [
     0
    ]
   },
   "outputs": [
    {
     "data": {
      "image/png": "[encoded data removed]",
      "text/plain": [
       "<Figure size 720x360 with 1 Axes>"
      ]
     },
     "metadata": {
      "needs_background": "light"
     },
     "output_type": "display_data"
    }
   ],
   "source": [
    "## test our function for mu=70, std=4\n",
    "plot_male_height(male_sample,mu,std)"
   ]
  },
  {
   "cell_type": "markdown",
   "metadata": {},
   "source": [
    "## The Probability Density Function for the Normal Distribution\n",
    "\n",
    "https://towardsdatascience.com/maximum-likelihood-estimation-explained-normal-distribution-6207b322e47f"
   ]
  },
  {
   "cell_type": "markdown",
   "metadata": {},
   "source": [
    "The probability density function equation for the normal distribution is given by the following expression:\n",
    "\n",
    "$$ \\large P(x) = \\dfrac{1}{\\sigma \\sqrt {2\\pi }}e^{-\\dfrac{(x-\\mu)^2}{2\\sigma^2}}$$\n",
    "\n",
    "Here, \n",
    "- $\\mu$ is the mean\n",
    "- $\\sigma$ is the standard deviation\n",
    "- $\\pi \\approx 3.14159 $ \n",
    "- $ e \\approx 2.71828 $\n",
    "\n",
    "> https://nbviewer.jupyter.org/github/learn-co-curriculum/dsc-normal-distribution/blob/master/index.ipynb"
   ]
  },
  {
   "cell_type": "code",
   "execution_count": 54,
   "metadata": {
    "ExecuteTime": {
     "end_time": "2020-07-08T23:48:12.876649Z",
     "start_time": "2020-07-08T23:48:12.870724Z"
    }
   },
   "outputs": [],
   "source": [
    "import math\n",
    "import numpy as np\n",
    "\n",
    "def calc_likelihood(x,mu,std):\n",
    "    \"\"\"Write a function to calculate the expected value at \n",
    "    a particular point using the equation above.\"\"\"\n",
    "   \n",
    "    e_num = math.e**((-1*(x-mu)**2)/(2*std**2))\n",
    "    denom = std * np.sqrt(math.pi*2 )\n",
    "    return 1/denom*e_num\n",
    "\n",
    "def calc_total_likelihood(xs,mu,std):\n",
    "    \"\"\"Write a function that will get the likelihood \n",
    "    for each x value so we can get the product of the total probability\"\"\"\n",
    "  \n",
    "    likelihoods = []\n",
    "    for x in xs:\n",
    "        likelihoods.append(calc_likelihood(x,mu,std))\n",
    "    likelihoods = np.array(likelihoods)\n",
    "    return likelihoods.prod()\n",
    "    \n",
    "    "
   ]
  },
  {
   "cell_type": "code",
   "execution_count": 55,
   "metadata": {},
   "outputs": [
    {
     "data": {
      "text/plain": [
       "7.123494597622488e-114"
      ]
     },
     "execution_count": 55,
     "metadata": {},
     "output_type": "execute_result"
    }
   ],
   "source": [
    "likelihoods = []\n",
    "for x in male_sample:\n",
    "    likelihoods.append(calc_likelihood(x,mu,std))\n",
    "likelihoods = np.array(likelihoods)\n",
    "likelihoods.prod()"
   ]
  },
  {
   "cell_type": "code",
   "execution_count": 56,
   "metadata": {},
   "outputs": [
    {
     "data": {
      "text/plain": [
       "7.123494597622488e-114"
      ]
     },
     "execution_count": 56,
     "metadata": {},
     "output_type": "execute_result"
    }
   ],
   "source": [
    " calc_total_likelihood(male_sample,70,4)"
   ]
  },
  {
   "cell_type": "code",
   "execution_count": 57,
   "metadata": {},
   "outputs": [
    {
     "data": {
      "text/plain": [
       "(70, 4)"
      ]
     },
     "execution_count": 57,
     "metadata": {},
     "output_type": "execute_result"
    }
   ],
   "source": [
    "## Reminder about our mu and std\n",
    "mu,std"
   ]
  },
  {
   "cell_type": "code",
   "execution_count": 58,
   "metadata": {},
   "outputs": [
    {
     "data": {
      "text/plain": [
       "7.123494597622488e-114"
      ]
     },
     "execution_count": 58,
     "metadata": {},
     "output_type": "execute_result"
    }
   ],
   "source": [
    "## Calculate total liklihood for our \n",
    "calc_total_likelihood(male_sample, mu,std)"
   ]
  },
  {
   "cell_type": "markdown",
   "metadata": {},
   "source": [
    "## Parameter Inference"
   ]
  },
  {
   "cell_type": "markdown",
   "metadata": {},
   "source": [
    "> We want to infer which of these values best matches the true Mean and Std of male height."
   ]
  },
  {
   "cell_type": "code",
   "execution_count": 59,
   "metadata": {},
   "outputs": [
    {
     "data": {
      "image/png": "[encoded data removed]",
      "text/plain": [
       "<Figure size 720x360 with 1 Axes>"
      ]
     },
     "metadata": {
      "needs_background": "light"
     },
     "output_type": "display_data"
    }
   ],
   "source": [
    "plot_male_height(male_sample,mu,std)"
   ]
  },
  {
   "cell_type": "code",
   "execution_count": 79,
   "metadata": {
    "ExecuteTime": {
     "end_time": "2020-07-08T23:50:01.359653Z",
     "start_time": "2020-07-08T23:50:01.351291Z"
    }
   },
   "outputs": [
    {
     "data": {
      "text/plain": [
       "[(40.0, 0.5),\n",
       " (40.0, 0.6),\n",
       " (40.0, 0.7),\n",
       " (40.0, 0.7999999999999999),\n",
       " (40.0, 0.8999999999999999),\n",
       " (40.0, 0.9999999999999999),\n",
       " (40.0, 1.0999999999999999),\n",
       " (40.0, 1.1999999999999997),\n",
       " (40.0, 1.2999999999999998),\n",
       " (40.0, 1.4),\n",
       " (40.0, 1.4999999999999998),\n",
       " (40.0, 1.5999999999999996),\n",
       " (40.0, 1.6999999999999997),\n",
       " (40.0, 1.7999999999999998),\n",
       " (40.0, 1.8999999999999997),\n",
       " (40.0, 1.9999999999999996),\n",
       " (40.0, 2.0999999999999996),\n",
       " (40.0, 2.1999999999999997),\n",
       " (40.0, 2.3),\n",
       " (40.0, 2.3999999999999995),\n",
       " (40.0, 2.4999999999999996),\n",
       " (40.0, 2.5999999999999996),\n",
       " (40.0, 2.6999999999999993),\n",
       " (40.0, 2.7999999999999994),\n",
       " (40.0, 2.8999999999999995),\n",
       " (40.0, 2.9999999999999996),\n",
       " (40.0, 3.0999999999999996),\n",
       " (40.0, 3.1999999999999993),\n",
       " (40.0, 3.2999999999999994),\n",
       " (40.0, 3.3999999999999995),\n",
       " (40.0, 3.499999999999999),\n",
       " (40.0, 3.599999999999999),\n",
       " (40.0, 3.6999999999999993),\n",
       " (40.0, 3.7999999999999994),\n",
       " (40.0, 3.8999999999999995),\n",
       " (40.0, 3.999999999999999),\n",
       " (40.0, 4.1),\n",
       " (40.0, 4.199999999999999),\n",
       " (40.0, 4.299999999999999),\n",
       " (40.0, 4.399999999999999),\n",
       " (40.1, 0.5),\n",
       " (40.1, 0.6),\n",
       " (40.1, 0.7),\n",
       " (40.1, 0.7999999999999999),\n",
       " (40.1, 0.8999999999999999),\n",
       " (40.1, 0.9999999999999999),\n",
       " (40.1, 1.0999999999999999),\n",
       " (40.1, 1.1999999999999997),\n",
       " (40.1, 1.2999999999999998),\n",
       " (40.1, 1.4),\n",
       " (40.1, 1.4999999999999998),\n",
       " (40.1, 1.5999999999999996),\n",
       " (40.1, 1.6999999999999997),\n",
       " (40.1, 1.7999999999999998),\n",
       " (40.1, 1.8999999999999997),\n",
       " (40.1, 1.9999999999999996),\n",
       " (40.1, 2.0999999999999996),\n",
       " (40.1, 2.1999999999999997),\n",
       " (40.1, 2.3),\n",
       " (40.1, 2.3999999999999995),\n",
       " (40.1, 2.4999999999999996),\n",
       " (40.1, 2.5999999999999996),\n",
       " (40.1, 2.6999999999999993),\n",
       " (40.1, 2.7999999999999994),\n",
       " (40.1, 2.8999999999999995),\n",
       " (40.1, 2.9999999999999996),\n",
       " (40.1, 3.0999999999999996),\n",
       " (40.1, 3.1999999999999993),\n",
       " (40.1, 3.2999999999999994),\n",
       " (40.1, 3.3999999999999995),\n",
       " (40.1, 3.499999999999999),\n",
       " (40.1, 3.599999999999999),\n",
       " (40.1, 3.6999999999999993),\n",
       " (40.1, 3.7999999999999994),\n",
       " (40.1, 3.8999999999999995),\n",
       " (40.1, 3.999999999999999),\n",
       " (40.1, 4.1),\n",
       " (40.1, 4.199999999999999),\n",
       " (40.1, 4.299999999999999),\n",
       " (40.1, 4.399999999999999),\n",
       " (40.2, 0.5),\n",
       " (40.2, 0.6),\n",
       " (40.2, 0.7),\n",
       " (40.2, 0.7999999999999999),\n",
       " (40.2, 0.8999999999999999),\n",
       " (40.2, 0.9999999999999999),\n",
       " (40.2, 1.0999999999999999),\n",
       " (40.2, 1.1999999999999997),\n",
       " (40.2, 1.2999999999999998),\n",
       " (40.2, 1.4),\n",
       " (40.2, 1.4999999999999998),\n",
       " (40.2, 1.5999999999999996),\n",
       " (40.2, 1.6999999999999997),\n",
       " (40.2, 1.7999999999999998),\n",
       " (40.2, 1.8999999999999997),\n",
       " (40.2, 1.9999999999999996),\n",
       " (40.2, 2.0999999999999996),\n",
       " (40.2, 2.1999999999999997),\n",
       " (40.2, 2.3),\n",
       " (40.2, 2.3999999999999995),\n",
       " (40.2, 2.4999999999999996),\n",
       " (40.2, 2.5999999999999996),\n",
       " (40.2, 2.6999999999999993),\n",
       " (40.2, 2.7999999999999994),\n",
       " (40.2, 2.8999999999999995),\n",
       " (40.2, 2.9999999999999996),\n",
       " (40.2, 3.0999999999999996),\n",
       " (40.2, 3.1999999999999993),\n",
       " (40.2, 3.2999999999999994),\n",
       " (40.2, 3.3999999999999995),\n",
       " (40.2, 3.499999999999999),\n",
       " (40.2, 3.599999999999999),\n",
       " (40.2, 3.6999999999999993),\n",
       " (40.2, 3.7999999999999994),\n",
       " (40.2, 3.8999999999999995),\n",
       " (40.2, 3.999999999999999),\n",
       " (40.2, 4.1),\n",
       " (40.2, 4.199999999999999),\n",
       " (40.2, 4.299999999999999),\n",
       " (40.2, 4.399999999999999),\n",
       " (40.300000000000004, 0.5),\n",
       " (40.300000000000004, 0.6),\n",
       " (40.300000000000004, 0.7),\n",
       " (40.300000000000004, 0.7999999999999999),\n",
       " (40.300000000000004, 0.8999999999999999),\n",
       " (40.300000000000004, 0.9999999999999999),\n",
       " (40.300000000000004, 1.0999999999999999),\n",
       " (40.300000000000004, 1.1999999999999997),\n",
       " (40.300000000000004, 1.2999999999999998),\n",
       " (40.300000000000004, 1.4),\n",
       " (40.300000000000004, 1.4999999999999998),\n",
       " (40.300000000000004, 1.5999999999999996),\n",
       " (40.300000000000004, 1.6999999999999997),\n",
       " (40.300000000000004, 1.7999999999999998),\n",
       " (40.300000000000004, 1.8999999999999997),\n",
       " (40.300000000000004, 1.9999999999999996),\n",
       " (40.300000000000004, 2.0999999999999996),\n",
       " (40.300000000000004, 2.1999999999999997),\n",
       " (40.300000000000004, 2.3),\n",
       " (40.300000000000004, 2.3999999999999995),\n",
       " (40.300000000000004, 2.4999999999999996),\n",
       " (40.300000000000004, 2.5999999999999996),\n",
       " (40.300000000000004, 2.6999999999999993),\n",
       " (40.300000000000004, 2.7999999999999994),\n",
       " (40.300000000000004, 2.8999999999999995),\n",
       " (40.300000000000004, 2.9999999999999996),\n",
       " (40.300000000000004, 3.0999999999999996),\n",
       " (40.300000000000004, 3.1999999999999993),\n",
       " (40.300000000000004, 3.2999999999999994),\n",
       " (40.300000000000004, 3.3999999999999995),\n",
       " (40.300000000000004, 3.499999999999999),\n",
       " (40.300000000000004, 3.599999999999999),\n",
       " (40.300000000000004, 3.6999999999999993),\n",
       " (40.300000000000004, 3.7999999999999994),\n",
       " (40.300000000000004, 3.8999999999999995),\n",
       " (40.300000000000004, 3.999999999999999),\n",
       " (40.300000000000004, 4.1),\n",
       " (40.300000000000004, 4.199999999999999),\n",
       " (40.300000000000004, 4.299999999999999),\n",
       " (40.300000000000004, 4.399999999999999),\n",
       " (40.400000000000006, 0.5),\n",
       " (40.400000000000006, 0.6),\n",
       " (40.400000000000006, 0.7),\n",
       " (40.400000000000006, 0.7999999999999999),\n",
       " (40.400000000000006, 0.8999999999999999),\n",
       " (40.400000000000006, 0.9999999999999999),\n",
       " (40.400000000000006, 1.0999999999999999),\n",
       " (40.400000000000006, 1.1999999999999997),\n",
       " (40.400000000000006, 1.2999999999999998),\n",
       " (40.400000000000006, 1.4),\n",
       " (40.400000000000006, 1.4999999999999998),\n",
       " (40.400000000000006, 1.5999999999999996),\n",
       " (40.400000000000006, 1.6999999999999997),\n",
       " (40.400000000000006, 1.7999999999999998),\n",
       " (40.400000000000006, 1.8999999999999997),\n",
       " (40.400000000000006, 1.9999999999999996),\n",
       " (40.400000000000006, 2.0999999999999996),\n",
       " (40.400000000000006, 2.1999999999999997),\n",
       " (40.400000000000006, 2.3),\n",
       " (40.400000000000006, 2.3999999999999995),\n",
       " (40.400000000000006, 2.4999999999999996),\n",
       " (40.400000000000006, 2.5999999999999996),\n",
       " (40.400000000000006, 2.6999999999999993),\n",
       " (40.400000000000006, 2.7999999999999994),\n",
       " (40.400000000000006, 2.8999999999999995),\n",
       " (40.400000000000006, 2.9999999999999996),\n",
       " (40.400000000000006, 3.0999999999999996),\n",
       " (40.400000000000006, 3.1999999999999993),\n",
       " (40.400000000000006, 3.2999999999999994),\n",
       " (40.400000000000006, 3.3999999999999995),\n",
       " (40.400000000000006, 3.499999999999999),\n",
       " (40.400000000000006, 3.599999999999999),\n",
       " (40.400000000000006, 3.6999999999999993),\n",
       " (40.400000000000006, 3.7999999999999994),\n",
       " (40.400000000000006, 3.8999999999999995),\n",
       " (40.400000000000006, 3.999999999999999),\n",
       " (40.400000000000006, 4.1),\n",
       " (40.400000000000006, 4.199999999999999),\n",
       " (40.400000000000006, 4.299999999999999),\n",
       " (40.400000000000006, 4.399999999999999),\n",
       " (40.50000000000001, 0.5),\n",
       " (40.50000000000001, 0.6),\n",
       " (40.50000000000001, 0.7),\n",
       " (40.50000000000001, 0.7999999999999999),\n",
       " (40.50000000000001, 0.8999999999999999),\n",
       " (40.50000000000001, 0.9999999999999999),\n",
       " (40.50000000000001, 1.0999999999999999),\n",
       " (40.50000000000001, 1.1999999999999997),\n",
       " (40.50000000000001, 1.2999999999999998),\n",
       " (40.50000000000001, 1.4),\n",
       " (40.50000000000001, 1.4999999999999998),\n",
       " (40.50000000000001, 1.5999999999999996),\n",
       " (40.50000000000001, 1.6999999999999997),\n",
       " (40.50000000000001, 1.7999999999999998),\n",
       " (40.50000000000001, 1.8999999999999997),\n",
       " (40.50000000000001, 1.9999999999999996),\n",
       " (40.50000000000001, 2.0999999999999996),\n",
       " (40.50000000000001, 2.1999999999999997),\n",
       " (40.50000000000001, 2.3),\n",
       " (40.50000000000001, 2.3999999999999995),\n",
       " (40.50000000000001, 2.4999999999999996),\n",
       " (40.50000000000001, 2.5999999999999996),\n",
       " (40.50000000000001, 2.6999999999999993),\n",
       " (40.50000000000001, 2.7999999999999994),\n",
       " (40.50000000000001, 2.8999999999999995),\n",
       " (40.50000000000001, 2.9999999999999996),\n",
       " (40.50000000000001, 3.0999999999999996),\n",
       " (40.50000000000001, 3.1999999999999993),\n",
       " (40.50000000000001, 3.2999999999999994),\n",
       " (40.50000000000001, 3.3999999999999995),\n",
       " (40.50000000000001, 3.499999999999999),\n",
       " (40.50000000000001, 3.599999999999999),\n",
       " (40.50000000000001, 3.6999999999999993),\n",
       " (40.50000000000001, 3.7999999999999994),\n",
       " (40.50000000000001, 3.8999999999999995),\n",
       " (40.50000000000001, 3.999999999999999),\n",
       " (40.50000000000001, 4.1),\n",
       " (40.50000000000001, 4.199999999999999),\n",
       " (40.50000000000001, 4.299999999999999),\n",
       " (40.50000000000001, 4.399999999999999),\n",
       " (40.60000000000001, 0.5),\n",
       " (40.60000000000001, 0.6),\n",
       " (40.60000000000001, 0.7),\n",
       " (40.60000000000001, 0.7999999999999999),\n",
       " (40.60000000000001, 0.8999999999999999),\n",
       " (40.60000000000001, 0.9999999999999999),\n",
       " (40.60000000000001, 1.0999999999999999),\n",
       " (40.60000000000001, 1.1999999999999997),\n",
       " (40.60000000000001, 1.2999999999999998),\n",
       " (40.60000000000001, 1.4),\n",
       " (40.60000000000001, 1.4999999999999998),\n",
       " (40.60000000000001, 1.5999999999999996),\n",
       " (40.60000000000001, 1.6999999999999997),\n",
       " (40.60000000000001, 1.7999999999999998),\n",
       " (40.60000000000001, 1.8999999999999997),\n",
       " (40.60000000000001, 1.9999999999999996),\n",
       " (40.60000000000001, 2.0999999999999996),\n",
       " (40.60000000000001, 2.1999999999999997),\n",
       " (40.60000000000001, 2.3),\n",
       " (40.60000000000001, 2.3999999999999995),\n",
       " (40.60000000000001, 2.4999999999999996),\n",
       " (40.60000000000001, 2.5999999999999996),\n",
       " (40.60000000000001, 2.6999999999999993),\n",
       " (40.60000000000001, 2.7999999999999994),\n",
       " (40.60000000000001, 2.8999999999999995),\n",
       " (40.60000000000001, 2.9999999999999996),\n",
       " (40.60000000000001, 3.0999999999999996),\n",
       " (40.60000000000001, 3.1999999999999993),\n",
       " (40.60000000000001, 3.2999999999999994),\n",
       " (40.60000000000001, 3.3999999999999995),\n",
       " (40.60000000000001, 3.499999999999999),\n",
       " (40.60000000000001, 3.599999999999999),\n",
       " (40.60000000000001, 3.6999999999999993),\n",
       " (40.60000000000001, 3.7999999999999994),\n",
       " (40.60000000000001, 3.8999999999999995),\n",
       " (40.60000000000001, 3.999999999999999),\n",
       " (40.60000000000001, 4.1),\n",
       " (40.60000000000001, 4.199999999999999),\n",
       " (40.60000000000001, 4.299999999999999),\n",
       " (40.60000000000001, 4.399999999999999),\n",
       " (40.70000000000001, 0.5),\n",
       " (40.70000000000001, 0.6),\n",
       " (40.70000000000001, 0.7),\n",
       " (40.70000000000001, 0.7999999999999999),\n",
       " (40.70000000000001, 0.8999999999999999),\n",
       " (40.70000000000001, 0.9999999999999999),\n",
       " (40.70000000000001, 1.0999999999999999),\n",
       " (40.70000000000001, 1.1999999999999997),\n",
       " (40.70000000000001, 1.2999999999999998),\n",
       " (40.70000000000001, 1.4),\n",
       " (40.70000000000001, 1.4999999999999998),\n",
       " (40.70000000000001, 1.5999999999999996),\n",
       " (40.70000000000001, 1.6999999999999997),\n",
       " (40.70000000000001, 1.7999999999999998),\n",
       " (40.70000000000001, 1.8999999999999997),\n",
       " (40.70000000000001, 1.9999999999999996),\n",
       " (40.70000000000001, 2.0999999999999996),\n",
       " (40.70000000000001, 2.1999999999999997),\n",
       " (40.70000000000001, 2.3),\n",
       " (40.70000000000001, 2.3999999999999995),\n",
       " (40.70000000000001, 2.4999999999999996),\n",
       " (40.70000000000001, 2.5999999999999996),\n",
       " (40.70000000000001, 2.6999999999999993),\n",
       " (40.70000000000001, 2.7999999999999994),\n",
       " (40.70000000000001, 2.8999999999999995),\n",
       " (40.70000000000001, 2.9999999999999996),\n",
       " (40.70000000000001, 3.0999999999999996),\n",
       " (40.70000000000001, 3.1999999999999993),\n",
       " (40.70000000000001, 3.2999999999999994),\n",
       " (40.70000000000001, 3.3999999999999995),\n",
       " (40.70000000000001, 3.499999999999999),\n",
       " (40.70000000000001, 3.599999999999999),\n",
       " (40.70000000000001, 3.6999999999999993),\n",
       " (40.70000000000001, 3.7999999999999994),\n",
       " (40.70000000000001, 3.8999999999999995),\n",
       " (40.70000000000001, 3.999999999999999),\n",
       " (40.70000000000001, 4.1),\n",
       " (40.70000000000001, 4.199999999999999),\n",
       " (40.70000000000001, 4.299999999999999),\n",
       " (40.70000000000001, 4.399999999999999),\n",
       " (40.80000000000001, 0.5),\n",
       " (40.80000000000001, 0.6),\n",
       " (40.80000000000001, 0.7),\n",
       " (40.80000000000001, 0.7999999999999999),\n",
       " (40.80000000000001, 0.8999999999999999),\n",
       " (40.80000000000001, 0.9999999999999999),\n",
       " (40.80000000000001, 1.0999999999999999),\n",
       " (40.80000000000001, 1.1999999999999997),\n",
       " (40.80000000000001, 1.2999999999999998),\n",
       " (40.80000000000001, 1.4),\n",
       " (40.80000000000001, 1.4999999999999998),\n",
       " (40.80000000000001, 1.5999999999999996),\n",
       " (40.80000000000001, 1.6999999999999997),\n",
       " (40.80000000000001, 1.7999999999999998),\n",
       " (40.80000000000001, 1.8999999999999997),\n",
       " (40.80000000000001, 1.9999999999999996),\n",
       " (40.80000000000001, 2.0999999999999996),\n",
       " (40.80000000000001, 2.1999999999999997),\n",
       " (40.80000000000001, 2.3),\n",
       " (40.80000000000001, 2.3999999999999995),\n",
       " (40.80000000000001, 2.4999999999999996),\n",
       " (40.80000000000001, 2.5999999999999996),\n",
       " (40.80000000000001, 2.6999999999999993),\n",
       " (40.80000000000001, 2.7999999999999994),\n",
       " (40.80000000000001, 2.8999999999999995),\n",
       " (40.80000000000001, 2.9999999999999996),\n",
       " (40.80000000000001, 3.0999999999999996),\n",
       " (40.80000000000001, 3.1999999999999993),\n",
       " (40.80000000000001, 3.2999999999999994),\n",
       " (40.80000000000001, 3.3999999999999995),\n",
       " (40.80000000000001, 3.499999999999999),\n",
       " (40.80000000000001, 3.599999999999999),\n",
       " (40.80000000000001, 3.6999999999999993),\n",
       " (40.80000000000001, 3.7999999999999994),\n",
       " (40.80000000000001, 3.8999999999999995),\n",
       " (40.80000000000001, 3.999999999999999),\n",
       " (40.80000000000001, 4.1),\n",
       " (40.80000000000001, 4.199999999999999),\n",
       " (40.80000000000001, 4.299999999999999),\n",
       " (40.80000000000001, 4.399999999999999),\n",
       " (40.90000000000001, 0.5),\n",
       " (40.90000000000001, 0.6),\n",
       " (40.90000000000001, 0.7),\n",
       " (40.90000000000001, 0.7999999999999999),\n",
       " (40.90000000000001, 0.8999999999999999),\n",
       " (40.90000000000001, 0.9999999999999999),\n",
       " (40.90000000000001, 1.0999999999999999),\n",
       " (40.90000000000001, 1.1999999999999997),\n",
       " (40.90000000000001, 1.2999999999999998),\n",
       " (40.90000000000001, 1.4),\n",
       " (40.90000000000001, 1.4999999999999998),\n",
       " (40.90000000000001, 1.5999999999999996),\n",
       " (40.90000000000001, 1.6999999999999997),\n",
       " (40.90000000000001, 1.7999999999999998),\n",
       " (40.90000000000001, 1.8999999999999997),\n",
       " (40.90000000000001, 1.9999999999999996),\n",
       " (40.90000000000001, 2.0999999999999996),\n",
       " (40.90000000000001, 2.1999999999999997),\n",
       " (40.90000000000001, 2.3),\n",
       " (40.90000000000001, 2.3999999999999995),\n",
       " (40.90000000000001, 2.4999999999999996),\n",
       " (40.90000000000001, 2.5999999999999996),\n",
       " (40.90000000000001, 2.6999999999999993),\n",
       " (40.90000000000001, 2.7999999999999994),\n",
       " (40.90000000000001, 2.8999999999999995),\n",
       " (40.90000000000001, 2.9999999999999996),\n",
       " (40.90000000000001, 3.0999999999999996),\n",
       " (40.90000000000001, 3.1999999999999993),\n",
       " (40.90000000000001, 3.2999999999999994),\n",
       " (40.90000000000001, 3.3999999999999995),\n",
       " (40.90000000000001, 3.499999999999999),\n",
       " (40.90000000000001, 3.599999999999999),\n",
       " (40.90000000000001, 3.6999999999999993),\n",
       " (40.90000000000001, 3.7999999999999994),\n",
       " (40.90000000000001, 3.8999999999999995),\n",
       " (40.90000000000001, 3.999999999999999),\n",
       " (40.90000000000001, 4.1),\n",
       " (40.90000000000001, 4.199999999999999),\n",
       " (40.90000000000001, 4.299999999999999),\n",
       " (40.90000000000001, 4.399999999999999),\n",
       " (41.000000000000014, 0.5),\n",
       " (41.000000000000014, 0.6),\n",
       " (41.000000000000014, 0.7),\n",
       " (41.000000000000014, 0.7999999999999999),\n",
       " (41.000000000000014, 0.8999999999999999),\n",
       " (41.000000000000014, 0.9999999999999999),\n",
       " (41.000000000000014, 1.0999999999999999),\n",
       " (41.000000000000014, 1.1999999999999997),\n",
       " (41.000000000000014, 1.2999999999999998),\n",
       " (41.000000000000014, 1.4),\n",
       " (41.000000000000014, 1.4999999999999998),\n",
       " (41.000000000000014, 1.5999999999999996),\n",
       " (41.000000000000014, 1.6999999999999997),\n",
       " (41.000000000000014, 1.7999999999999998),\n",
       " (41.000000000000014, 1.8999999999999997),\n",
       " (41.000000000000014, 1.9999999999999996),\n",
       " (41.000000000000014, 2.0999999999999996),\n",
       " (41.000000000000014, 2.1999999999999997),\n",
       " (41.000000000000014, 2.3),\n",
       " (41.000000000000014, 2.3999999999999995),\n",
       " (41.000000000000014, 2.4999999999999996),\n",
       " (41.000000000000014, 2.5999999999999996),\n",
       " (41.000000000000014, 2.6999999999999993),\n",
       " (41.000000000000014, 2.7999999999999994),\n",
       " (41.000000000000014, 2.8999999999999995),\n",
       " (41.000000000000014, 2.9999999999999996),\n",
       " (41.000000000000014, 3.0999999999999996),\n",
       " (41.000000000000014, 3.1999999999999993),\n",
       " (41.000000000000014, 3.2999999999999994),\n",
       " (41.000000000000014, 3.3999999999999995),\n",
       " (41.000000000000014, 3.499999999999999),\n",
       " (41.000000000000014, 3.599999999999999),\n",
       " (41.000000000000014, 3.6999999999999993),\n",
       " (41.000000000000014, 3.7999999999999994),\n",
       " (41.000000000000014, 3.8999999999999995),\n",
       " (41.000000000000014, 3.999999999999999),\n",
       " (41.000000000000014, 4.1),\n",
       " (41.000000000000014, 4.199999999999999),\n",
       " (41.000000000000014, 4.299999999999999),\n",
       " (41.000000000000014, 4.399999999999999),\n",
       " (41.100000000000016, 0.5),\n",
       " (41.100000000000016, 0.6),\n",
       " (41.100000000000016, 0.7),\n",
       " (41.100000000000016, 0.7999999999999999),\n",
       " (41.100000000000016, 0.8999999999999999),\n",
       " (41.100000000000016, 0.9999999999999999),\n",
       " (41.100000000000016, 1.0999999999999999),\n",
       " (41.100000000000016, 1.1999999999999997),\n",
       " (41.100000000000016, 1.2999999999999998),\n",
       " (41.100000000000016, 1.4),\n",
       " (41.100000000000016, 1.4999999999999998),\n",
       " (41.100000000000016, 1.5999999999999996),\n",
       " (41.100000000000016, 1.6999999999999997),\n",
       " (41.100000000000016, 1.7999999999999998),\n",
       " (41.100000000000016, 1.8999999999999997),\n",
       " (41.100000000000016, 1.9999999999999996),\n",
       " (41.100000000000016, 2.0999999999999996),\n",
       " (41.100000000000016, 2.1999999999999997),\n",
       " (41.100000000000016, 2.3),\n",
       " (41.100000000000016, 2.3999999999999995),\n",
       " (41.100000000000016, 2.4999999999999996),\n",
       " (41.100000000000016, 2.5999999999999996),\n",
       " (41.100000000000016, 2.6999999999999993),\n",
       " (41.100000000000016, 2.7999999999999994),\n",
       " (41.100000000000016, 2.8999999999999995),\n",
       " (41.100000000000016, 2.9999999999999996),\n",
       " (41.100000000000016, 3.0999999999999996),\n",
       " (41.100000000000016, 3.1999999999999993),\n",
       " (41.100000000000016, 3.2999999999999994),\n",
       " (41.100000000000016, 3.3999999999999995),\n",
       " (41.100000000000016, 3.499999999999999),\n",
       " (41.100000000000016, 3.599999999999999),\n",
       " (41.100000000000016, 3.6999999999999993),\n",
       " (41.100000000000016, 3.7999999999999994),\n",
       " (41.100000000000016, 3.8999999999999995),\n",
       " (41.100000000000016, 3.999999999999999),\n",
       " (41.100000000000016, 4.1),\n",
       " (41.100000000000016, 4.199999999999999),\n",
       " (41.100000000000016, 4.299999999999999),\n",
       " (41.100000000000016, 4.399999999999999),\n",
       " (41.20000000000002, 0.5),\n",
       " (41.20000000000002, 0.6),\n",
       " (41.20000000000002, 0.7),\n",
       " (41.20000000000002, 0.7999999999999999),\n",
       " (41.20000000000002, 0.8999999999999999),\n",
       " (41.20000000000002, 0.9999999999999999),\n",
       " (41.20000000000002, 1.0999999999999999),\n",
       " (41.20000000000002, 1.1999999999999997),\n",
       " (41.20000000000002, 1.2999999999999998),\n",
       " (41.20000000000002, 1.4),\n",
       " (41.20000000000002, 1.4999999999999998),\n",
       " (41.20000000000002, 1.5999999999999996),\n",
       " (41.20000000000002, 1.6999999999999997),\n",
       " (41.20000000000002, 1.7999999999999998),\n",
       " (41.20000000000002, 1.8999999999999997),\n",
       " (41.20000000000002, 1.9999999999999996),\n",
       " (41.20000000000002, 2.0999999999999996),\n",
       " (41.20000000000002, 2.1999999999999997),\n",
       " (41.20000000000002, 2.3),\n",
       " (41.20000000000002, 2.3999999999999995),\n",
       " (41.20000000000002, 2.4999999999999996),\n",
       " (41.20000000000002, 2.5999999999999996),\n",
       " (41.20000000000002, 2.6999999999999993),\n",
       " (41.20000000000002, 2.7999999999999994),\n",
       " (41.20000000000002, 2.8999999999999995),\n",
       " (41.20000000000002, 2.9999999999999996),\n",
       " (41.20000000000002, 3.0999999999999996),\n",
       " (41.20000000000002, 3.1999999999999993),\n",
       " (41.20000000000002, 3.2999999999999994),\n",
       " (41.20000000000002, 3.3999999999999995),\n",
       " (41.20000000000002, 3.499999999999999),\n",
       " (41.20000000000002, 3.599999999999999),\n",
       " (41.20000000000002, 3.6999999999999993),\n",
       " (41.20000000000002, 3.7999999999999994),\n",
       " (41.20000000000002, 3.8999999999999995),\n",
       " (41.20000000000002, 3.999999999999999),\n",
       " (41.20000000000002, 4.1),\n",
       " (41.20000000000002, 4.199999999999999),\n",
       " (41.20000000000002, 4.299999999999999),\n",
       " (41.20000000000002, 4.399999999999999),\n",
       " (41.30000000000002, 0.5),\n",
       " (41.30000000000002, 0.6),\n",
       " (41.30000000000002, 0.7),\n",
       " (41.30000000000002, 0.7999999999999999),\n",
       " (41.30000000000002, 0.8999999999999999),\n",
       " (41.30000000000002, 0.9999999999999999),\n",
       " (41.30000000000002, 1.0999999999999999),\n",
       " (41.30000000000002, 1.1999999999999997),\n",
       " (41.30000000000002, 1.2999999999999998),\n",
       " (41.30000000000002, 1.4),\n",
       " (41.30000000000002, 1.4999999999999998),\n",
       " (41.30000000000002, 1.5999999999999996),\n",
       " (41.30000000000002, 1.6999999999999997),\n",
       " (41.30000000000002, 1.7999999999999998),\n",
       " (41.30000000000002, 1.8999999999999997),\n",
       " (41.30000000000002, 1.9999999999999996),\n",
       " (41.30000000000002, 2.0999999999999996),\n",
       " (41.30000000000002, 2.1999999999999997),\n",
       " (41.30000000000002, 2.3),\n",
       " (41.30000000000002, 2.3999999999999995),\n",
       " (41.30000000000002, 2.4999999999999996),\n",
       " (41.30000000000002, 2.5999999999999996),\n",
       " (41.30000000000002, 2.6999999999999993),\n",
       " (41.30000000000002, 2.7999999999999994),\n",
       " (41.30000000000002, 2.8999999999999995),\n",
       " (41.30000000000002, 2.9999999999999996),\n",
       " (41.30000000000002, 3.0999999999999996),\n",
       " (41.30000000000002, 3.1999999999999993),\n",
       " (41.30000000000002, 3.2999999999999994),\n",
       " (41.30000000000002, 3.3999999999999995),\n",
       " (41.30000000000002, 3.499999999999999),\n",
       " (41.30000000000002, 3.599999999999999),\n",
       " (41.30000000000002, 3.6999999999999993),\n",
       " (41.30000000000002, 3.7999999999999994),\n",
       " (41.30000000000002, 3.8999999999999995),\n",
       " (41.30000000000002, 3.999999999999999),\n",
       " (41.30000000000002, 4.1),\n",
       " (41.30000000000002, 4.199999999999999),\n",
       " (41.30000000000002, 4.299999999999999),\n",
       " (41.30000000000002, 4.399999999999999),\n",
       " (41.40000000000002, 0.5),\n",
       " (41.40000000000002, 0.6),\n",
       " (41.40000000000002, 0.7),\n",
       " (41.40000000000002, 0.7999999999999999),\n",
       " (41.40000000000002, 0.8999999999999999),\n",
       " (41.40000000000002, 0.9999999999999999),\n",
       " (41.40000000000002, 1.0999999999999999),\n",
       " (41.40000000000002, 1.1999999999999997),\n",
       " (41.40000000000002, 1.2999999999999998),\n",
       " (41.40000000000002, 1.4),\n",
       " (41.40000000000002, 1.4999999999999998),\n",
       " (41.40000000000002, 1.5999999999999996),\n",
       " (41.40000000000002, 1.6999999999999997),\n",
       " (41.40000000000002, 1.7999999999999998),\n",
       " (41.40000000000002, 1.8999999999999997),\n",
       " (41.40000000000002, 1.9999999999999996),\n",
       " (41.40000000000002, 2.0999999999999996),\n",
       " (41.40000000000002, 2.1999999999999997),\n",
       " (41.40000000000002, 2.3),\n",
       " (41.40000000000002, 2.3999999999999995),\n",
       " (41.40000000000002, 2.4999999999999996),\n",
       " (41.40000000000002, 2.5999999999999996),\n",
       " (41.40000000000002, 2.6999999999999993),\n",
       " (41.40000000000002, 2.7999999999999994),\n",
       " (41.40000000000002, 2.8999999999999995),\n",
       " (41.40000000000002, 2.9999999999999996),\n",
       " (41.40000000000002, 3.0999999999999996),\n",
       " (41.40000000000002, 3.1999999999999993),\n",
       " (41.40000000000002, 3.2999999999999994),\n",
       " (41.40000000000002, 3.3999999999999995),\n",
       " (41.40000000000002, 3.499999999999999),\n",
       " (41.40000000000002, 3.599999999999999),\n",
       " (41.40000000000002, 3.6999999999999993),\n",
       " (41.40000000000002, 3.7999999999999994),\n",
       " (41.40000000000002, 3.8999999999999995),\n",
       " (41.40000000000002, 3.999999999999999),\n",
       " (41.40000000000002, 4.1),\n",
       " (41.40000000000002, 4.199999999999999),\n",
       " (41.40000000000002, 4.299999999999999),\n",
       " (41.40000000000002, 4.399999999999999),\n",
       " (41.50000000000002, 0.5),\n",
       " (41.50000000000002, 0.6),\n",
       " (41.50000000000002, 0.7),\n",
       " (41.50000000000002, 0.7999999999999999),\n",
       " (41.50000000000002, 0.8999999999999999),\n",
       " (41.50000000000002, 0.9999999999999999),\n",
       " (41.50000000000002, 1.0999999999999999),\n",
       " (41.50000000000002, 1.1999999999999997),\n",
       " (41.50000000000002, 1.2999999999999998),\n",
       " (41.50000000000002, 1.4),\n",
       " (41.50000000000002, 1.4999999999999998),\n",
       " (41.50000000000002, 1.5999999999999996),\n",
       " (41.50000000000002, 1.6999999999999997),\n",
       " (41.50000000000002, 1.7999999999999998),\n",
       " (41.50000000000002, 1.8999999999999997),\n",
       " (41.50000000000002, 1.9999999999999996),\n",
       " (41.50000000000002, 2.0999999999999996),\n",
       " (41.50000000000002, 2.1999999999999997),\n",
       " (41.50000000000002, 2.3),\n",
       " (41.50000000000002, 2.3999999999999995),\n",
       " (41.50000000000002, 2.4999999999999996),\n",
       " (41.50000000000002, 2.5999999999999996),\n",
       " (41.50000000000002, 2.6999999999999993),\n",
       " (41.50000000000002, 2.7999999999999994),\n",
       " (41.50000000000002, 2.8999999999999995),\n",
       " (41.50000000000002, 2.9999999999999996),\n",
       " (41.50000000000002, 3.0999999999999996),\n",
       " (41.50000000000002, 3.1999999999999993),\n",
       " (41.50000000000002, 3.2999999999999994),\n",
       " (41.50000000000002, 3.3999999999999995),\n",
       " (41.50000000000002, 3.499999999999999),\n",
       " (41.50000000000002, 3.599999999999999),\n",
       " (41.50000000000002, 3.6999999999999993),\n",
       " (41.50000000000002, 3.7999999999999994),\n",
       " (41.50000000000002, 3.8999999999999995),\n",
       " (41.50000000000002, 3.999999999999999),\n",
       " (41.50000000000002, 4.1),\n",
       " (41.50000000000002, 4.199999999999999),\n",
       " (41.50000000000002, 4.299999999999999),\n",
       " (41.50000000000002, 4.399999999999999),\n",
       " (41.60000000000002, 0.5),\n",
       " (41.60000000000002, 0.6),\n",
       " (41.60000000000002, 0.7),\n",
       " (41.60000000000002, 0.7999999999999999),\n",
       " (41.60000000000002, 0.8999999999999999),\n",
       " (41.60000000000002, 0.9999999999999999),\n",
       " (41.60000000000002, 1.0999999999999999),\n",
       " (41.60000000000002, 1.1999999999999997),\n",
       " (41.60000000000002, 1.2999999999999998),\n",
       " (41.60000000000002, 1.4),\n",
       " (41.60000000000002, 1.4999999999999998),\n",
       " (41.60000000000002, 1.5999999999999996),\n",
       " (41.60000000000002, 1.6999999999999997),\n",
       " (41.60000000000002, 1.7999999999999998),\n",
       " (41.60000000000002, 1.8999999999999997),\n",
       " (41.60000000000002, 1.9999999999999996),\n",
       " (41.60000000000002, 2.0999999999999996),\n",
       " (41.60000000000002, 2.1999999999999997),\n",
       " (41.60000000000002, 2.3),\n",
       " (41.60000000000002, 2.3999999999999995),\n",
       " (41.60000000000002, 2.4999999999999996),\n",
       " (41.60000000000002, 2.5999999999999996),\n",
       " (41.60000000000002, 2.6999999999999993),\n",
       " (41.60000000000002, 2.7999999999999994),\n",
       " (41.60000000000002, 2.8999999999999995),\n",
       " (41.60000000000002, 2.9999999999999996),\n",
       " (41.60000000000002, 3.0999999999999996),\n",
       " (41.60000000000002, 3.1999999999999993),\n",
       " (41.60000000000002, 3.2999999999999994),\n",
       " (41.60000000000002, 3.3999999999999995),\n",
       " (41.60000000000002, 3.499999999999999),\n",
       " (41.60000000000002, 3.599999999999999),\n",
       " (41.60000000000002, 3.6999999999999993),\n",
       " (41.60000000000002, 3.7999999999999994),\n",
       " (41.60000000000002, 3.8999999999999995),\n",
       " (41.60000000000002, 3.999999999999999),\n",
       " (41.60000000000002, 4.1),\n",
       " (41.60000000000002, 4.199999999999999),\n",
       " (41.60000000000002, 4.299999999999999),\n",
       " (41.60000000000002, 4.399999999999999),\n",
       " (41.700000000000024, 0.5),\n",
       " (41.700000000000024, 0.6),\n",
       " (41.700000000000024, 0.7),\n",
       " (41.700000000000024, 0.7999999999999999),\n",
       " (41.700000000000024, 0.8999999999999999),\n",
       " (41.700000000000024, 0.9999999999999999),\n",
       " (41.700000000000024, 1.0999999999999999),\n",
       " (41.700000000000024, 1.1999999999999997),\n",
       " (41.700000000000024, 1.2999999999999998),\n",
       " (41.700000000000024, 1.4),\n",
       " (41.700000000000024, 1.4999999999999998),\n",
       " (41.700000000000024, 1.5999999999999996),\n",
       " (41.700000000000024, 1.6999999999999997),\n",
       " (41.700000000000024, 1.7999999999999998),\n",
       " (41.700000000000024, 1.8999999999999997),\n",
       " (41.700000000000024, 1.9999999999999996),\n",
       " (41.700000000000024, 2.0999999999999996),\n",
       " (41.700000000000024, 2.1999999999999997),\n",
       " (41.700000000000024, 2.3),\n",
       " (41.700000000000024, 2.3999999999999995),\n",
       " (41.700000000000024, 2.4999999999999996),\n",
       " (41.700000000000024, 2.5999999999999996),\n",
       " (41.700000000000024, 2.6999999999999993),\n",
       " (41.700000000000024, 2.7999999999999994),\n",
       " (41.700000000000024, 2.8999999999999995),\n",
       " (41.700000000000024, 2.9999999999999996),\n",
       " (41.700000000000024, 3.0999999999999996),\n",
       " (41.700000000000024, 3.1999999999999993),\n",
       " (41.700000000000024, 3.2999999999999994),\n",
       " (41.700000000000024, 3.3999999999999995),\n",
       " (41.700000000000024, 3.499999999999999),\n",
       " (41.700000000000024, 3.599999999999999),\n",
       " (41.700000000000024, 3.6999999999999993),\n",
       " (41.700000000000024, 3.7999999999999994),\n",
       " (41.700000000000024, 3.8999999999999995),\n",
       " (41.700000000000024, 3.999999999999999),\n",
       " (41.700000000000024, 4.1),\n",
       " (41.700000000000024, 4.199999999999999),\n",
       " (41.700000000000024, 4.299999999999999),\n",
       " (41.700000000000024, 4.399999999999999),\n",
       " (41.800000000000026, 0.5),\n",
       " (41.800000000000026, 0.6),\n",
       " (41.800000000000026, 0.7),\n",
       " (41.800000000000026, 0.7999999999999999),\n",
       " (41.800000000000026, 0.8999999999999999),\n",
       " (41.800000000000026, 0.9999999999999999),\n",
       " (41.800000000000026, 1.0999999999999999),\n",
       " (41.800000000000026, 1.1999999999999997),\n",
       " (41.800000000000026, 1.2999999999999998),\n",
       " (41.800000000000026, 1.4),\n",
       " (41.800000000000026, 1.4999999999999998),\n",
       " (41.800000000000026, 1.5999999999999996),\n",
       " (41.800000000000026, 1.6999999999999997),\n",
       " (41.800000000000026, 1.7999999999999998),\n",
       " (41.800000000000026, 1.8999999999999997),\n",
       " (41.800000000000026, 1.9999999999999996),\n",
       " (41.800000000000026, 2.0999999999999996),\n",
       " (41.800000000000026, 2.1999999999999997),\n",
       " (41.800000000000026, 2.3),\n",
       " (41.800000000000026, 2.3999999999999995),\n",
       " (41.800000000000026, 2.4999999999999996),\n",
       " (41.800000000000026, 2.5999999999999996),\n",
       " (41.800000000000026, 2.6999999999999993),\n",
       " (41.800000000000026, 2.7999999999999994),\n",
       " (41.800000000000026, 2.8999999999999995),\n",
       " (41.800000000000026, 2.9999999999999996),\n",
       " (41.800000000000026, 3.0999999999999996),\n",
       " (41.800000000000026, 3.1999999999999993),\n",
       " (41.800000000000026, 3.2999999999999994),\n",
       " (41.800000000000026, 3.3999999999999995),\n",
       " (41.800000000000026, 3.499999999999999),\n",
       " (41.800000000000026, 3.599999999999999),\n",
       " (41.800000000000026, 3.6999999999999993),\n",
       " (41.800000000000026, 3.7999999999999994),\n",
       " (41.800000000000026, 3.8999999999999995),\n",
       " (41.800000000000026, 3.999999999999999),\n",
       " (41.800000000000026, 4.1),\n",
       " (41.800000000000026, 4.199999999999999),\n",
       " (41.800000000000026, 4.299999999999999),\n",
       " (41.800000000000026, 4.399999999999999),\n",
       " (41.90000000000003, 0.5),\n",
       " (41.90000000000003, 0.6),\n",
       " (41.90000000000003, 0.7),\n",
       " (41.90000000000003, 0.7999999999999999),\n",
       " (41.90000000000003, 0.8999999999999999),\n",
       " (41.90000000000003, 0.9999999999999999),\n",
       " (41.90000000000003, 1.0999999999999999),\n",
       " (41.90000000000003, 1.1999999999999997),\n",
       " (41.90000000000003, 1.2999999999999998),\n",
       " (41.90000000000003, 1.4),\n",
       " (41.90000000000003, 1.4999999999999998),\n",
       " (41.90000000000003, 1.5999999999999996),\n",
       " (41.90000000000003, 1.6999999999999997),\n",
       " (41.90000000000003, 1.7999999999999998),\n",
       " (41.90000000000003, 1.8999999999999997),\n",
       " (41.90000000000003, 1.9999999999999996),\n",
       " (41.90000000000003, 2.0999999999999996),\n",
       " (41.90000000000003, 2.1999999999999997),\n",
       " (41.90000000000003, 2.3),\n",
       " (41.90000000000003, 2.3999999999999995),\n",
       " (41.90000000000003, 2.4999999999999996),\n",
       " (41.90000000000003, 2.5999999999999996),\n",
       " (41.90000000000003, 2.6999999999999993),\n",
       " (41.90000000000003, 2.7999999999999994),\n",
       " (41.90000000000003, 2.8999999999999995),\n",
       " (41.90000000000003, 2.9999999999999996),\n",
       " (41.90000000000003, 3.0999999999999996),\n",
       " (41.90000000000003, 3.1999999999999993),\n",
       " (41.90000000000003, 3.2999999999999994),\n",
       " (41.90000000000003, 3.3999999999999995),\n",
       " (41.90000000000003, 3.499999999999999),\n",
       " (41.90000000000003, 3.599999999999999),\n",
       " (41.90000000000003, 3.6999999999999993),\n",
       " (41.90000000000003, 3.7999999999999994),\n",
       " (41.90000000000003, 3.8999999999999995),\n",
       " (41.90000000000003, 3.999999999999999),\n",
       " (41.90000000000003, 4.1),\n",
       " (41.90000000000003, 4.199999999999999),\n",
       " (41.90000000000003, 4.299999999999999),\n",
       " (41.90000000000003, 4.399999999999999),\n",
       " (42.00000000000003, 0.5),\n",
       " (42.00000000000003, 0.6),\n",
       " (42.00000000000003, 0.7),\n",
       " (42.00000000000003, 0.7999999999999999),\n",
       " (42.00000000000003, 0.8999999999999999),\n",
       " (42.00000000000003, 0.9999999999999999),\n",
       " (42.00000000000003, 1.0999999999999999),\n",
       " (42.00000000000003, 1.1999999999999997),\n",
       " (42.00000000000003, 1.2999999999999998),\n",
       " (42.00000000000003, 1.4),\n",
       " (42.00000000000003, 1.4999999999999998),\n",
       " (42.00000000000003, 1.5999999999999996),\n",
       " (42.00000000000003, 1.6999999999999997),\n",
       " (42.00000000000003, 1.7999999999999998),\n",
       " (42.00000000000003, 1.8999999999999997),\n",
       " (42.00000000000003, 1.9999999999999996),\n",
       " (42.00000000000003, 2.0999999999999996),\n",
       " (42.00000000000003, 2.1999999999999997),\n",
       " (42.00000000000003, 2.3),\n",
       " (42.00000000000003, 2.3999999999999995),\n",
       " (42.00000000000003, 2.4999999999999996),\n",
       " (42.00000000000003, 2.5999999999999996),\n",
       " (42.00000000000003, 2.6999999999999993),\n",
       " (42.00000000000003, 2.7999999999999994),\n",
       " (42.00000000000003, 2.8999999999999995),\n",
       " (42.00000000000003, 2.9999999999999996),\n",
       " (42.00000000000003, 3.0999999999999996),\n",
       " (42.00000000000003, 3.1999999999999993),\n",
       " (42.00000000000003, 3.2999999999999994),\n",
       " (42.00000000000003, 3.3999999999999995),\n",
       " (42.00000000000003, 3.499999999999999),\n",
       " (42.00000000000003, 3.599999999999999),\n",
       " (42.00000000000003, 3.6999999999999993),\n",
       " (42.00000000000003, 3.7999999999999994),\n",
       " (42.00000000000003, 3.8999999999999995),\n",
       " (42.00000000000003, 3.999999999999999),\n",
       " (42.00000000000003, 4.1),\n",
       " (42.00000000000003, 4.199999999999999),\n",
       " (42.00000000000003, 4.299999999999999),\n",
       " (42.00000000000003, 4.399999999999999),\n",
       " (42.10000000000003, 0.5),\n",
       " (42.10000000000003, 0.6),\n",
       " (42.10000000000003, 0.7),\n",
       " (42.10000000000003, 0.7999999999999999),\n",
       " (42.10000000000003, 0.8999999999999999),\n",
       " (42.10000000000003, 0.9999999999999999),\n",
       " (42.10000000000003, 1.0999999999999999),\n",
       " (42.10000000000003, 1.1999999999999997),\n",
       " (42.10000000000003, 1.2999999999999998),\n",
       " (42.10000000000003, 1.4),\n",
       " (42.10000000000003, 1.4999999999999998),\n",
       " (42.10000000000003, 1.5999999999999996),\n",
       " (42.10000000000003, 1.6999999999999997),\n",
       " (42.10000000000003, 1.7999999999999998),\n",
       " (42.10000000000003, 1.8999999999999997),\n",
       " (42.10000000000003, 1.9999999999999996),\n",
       " (42.10000000000003, 2.0999999999999996),\n",
       " (42.10000000000003, 2.1999999999999997),\n",
       " (42.10000000000003, 2.3),\n",
       " (42.10000000000003, 2.3999999999999995),\n",
       " (42.10000000000003, 2.4999999999999996),\n",
       " (42.10000000000003, 2.5999999999999996),\n",
       " (42.10000000000003, 2.6999999999999993),\n",
       " (42.10000000000003, 2.7999999999999994),\n",
       " (42.10000000000003, 2.8999999999999995),\n",
       " (42.10000000000003, 2.9999999999999996),\n",
       " (42.10000000000003, 3.0999999999999996),\n",
       " (42.10000000000003, 3.1999999999999993),\n",
       " (42.10000000000003, 3.2999999999999994),\n",
       " (42.10000000000003, 3.3999999999999995),\n",
       " (42.10000000000003, 3.499999999999999),\n",
       " (42.10000000000003, 3.599999999999999),\n",
       " (42.10000000000003, 3.6999999999999993),\n",
       " (42.10000000000003, 3.7999999999999994),\n",
       " (42.10000000000003, 3.8999999999999995),\n",
       " (42.10000000000003, 3.999999999999999),\n",
       " (42.10000000000003, 4.1),\n",
       " (42.10000000000003, 4.199999999999999),\n",
       " (42.10000000000003, 4.299999999999999),\n",
       " (42.10000000000003, 4.399999999999999),\n",
       " (42.20000000000003, 0.5),\n",
       " (42.20000000000003, 0.6),\n",
       " (42.20000000000003, 0.7),\n",
       " (42.20000000000003, 0.7999999999999999),\n",
       " (42.20000000000003, 0.8999999999999999),\n",
       " (42.20000000000003, 0.9999999999999999),\n",
       " (42.20000000000003, 1.0999999999999999),\n",
       " (42.20000000000003, 1.1999999999999997),\n",
       " (42.20000000000003, 1.2999999999999998),\n",
       " (42.20000000000003, 1.4),\n",
       " (42.20000000000003, 1.4999999999999998),\n",
       " (42.20000000000003, 1.5999999999999996),\n",
       " (42.20000000000003, 1.6999999999999997),\n",
       " (42.20000000000003, 1.7999999999999998),\n",
       " (42.20000000000003, 1.8999999999999997),\n",
       " (42.20000000000003, 1.9999999999999996),\n",
       " (42.20000000000003, 2.0999999999999996),\n",
       " (42.20000000000003, 2.1999999999999997),\n",
       " (42.20000000000003, 2.3),\n",
       " (42.20000000000003, 2.3999999999999995),\n",
       " (42.20000000000003, 2.4999999999999996),\n",
       " (42.20000000000003, 2.5999999999999996),\n",
       " (42.20000000000003, 2.6999999999999993),\n",
       " (42.20000000000003, 2.7999999999999994),\n",
       " (42.20000000000003, 2.8999999999999995),\n",
       " (42.20000000000003, 2.9999999999999996),\n",
       " (42.20000000000003, 3.0999999999999996),\n",
       " (42.20000000000003, 3.1999999999999993),\n",
       " (42.20000000000003, 3.2999999999999994),\n",
       " (42.20000000000003, 3.3999999999999995),\n",
       " (42.20000000000003, 3.499999999999999),\n",
       " (42.20000000000003, 3.599999999999999),\n",
       " (42.20000000000003, 3.6999999999999993),\n",
       " (42.20000000000003, 3.7999999999999994),\n",
       " (42.20000000000003, 3.8999999999999995),\n",
       " (42.20000000000003, 3.999999999999999),\n",
       " (42.20000000000003, 4.1),\n",
       " (42.20000000000003, 4.199999999999999),\n",
       " (42.20000000000003, 4.299999999999999),\n",
       " (42.20000000000003, 4.399999999999999),\n",
       " (42.30000000000003, 0.5),\n",
       " (42.30000000000003, 0.6),\n",
       " (42.30000000000003, 0.7),\n",
       " (42.30000000000003, 0.7999999999999999),\n",
       " (42.30000000000003, 0.8999999999999999),\n",
       " (42.30000000000003, 0.9999999999999999),\n",
       " (42.30000000000003, 1.0999999999999999),\n",
       " (42.30000000000003, 1.1999999999999997),\n",
       " (42.30000000000003, 1.2999999999999998),\n",
       " (42.30000000000003, 1.4),\n",
       " (42.30000000000003, 1.4999999999999998),\n",
       " (42.30000000000003, 1.5999999999999996),\n",
       " (42.30000000000003, 1.6999999999999997),\n",
       " (42.30000000000003, 1.7999999999999998),\n",
       " (42.30000000000003, 1.8999999999999997),\n",
       " (42.30000000000003, 1.9999999999999996),\n",
       " (42.30000000000003, 2.0999999999999996),\n",
       " (42.30000000000003, 2.1999999999999997),\n",
       " (42.30000000000003, 2.3),\n",
       " (42.30000000000003, 2.3999999999999995),\n",
       " (42.30000000000003, 2.4999999999999996),\n",
       " (42.30000000000003, 2.5999999999999996),\n",
       " (42.30000000000003, 2.6999999999999993),\n",
       " (42.30000000000003, 2.7999999999999994),\n",
       " (42.30000000000003, 2.8999999999999995),\n",
       " (42.30000000000003, 2.9999999999999996),\n",
       " (42.30000000000003, 3.0999999999999996),\n",
       " (42.30000000000003, 3.1999999999999993),\n",
       " (42.30000000000003, 3.2999999999999994),\n",
       " (42.30000000000003, 3.3999999999999995),\n",
       " (42.30000000000003, 3.499999999999999),\n",
       " (42.30000000000003, 3.599999999999999),\n",
       " (42.30000000000003, 3.6999999999999993),\n",
       " (42.30000000000003, 3.7999999999999994),\n",
       " (42.30000000000003, 3.8999999999999995),\n",
       " (42.30000000000003, 3.999999999999999),\n",
       " (42.30000000000003, 4.1),\n",
       " (42.30000000000003, 4.199999999999999),\n",
       " (42.30000000000003, 4.299999999999999),\n",
       " (42.30000000000003, 4.399999999999999),\n",
       " (42.400000000000034, 0.5),\n",
       " (42.400000000000034, 0.6),\n",
       " (42.400000000000034, 0.7),\n",
       " (42.400000000000034, 0.7999999999999999),\n",
       " (42.400000000000034, 0.8999999999999999),\n",
       " (42.400000000000034, 0.9999999999999999),\n",
       " (42.400000000000034, 1.0999999999999999),\n",
       " (42.400000000000034, 1.1999999999999997),\n",
       " (42.400000000000034, 1.2999999999999998),\n",
       " (42.400000000000034, 1.4),\n",
       " (42.400000000000034, 1.4999999999999998),\n",
       " (42.400000000000034, 1.5999999999999996),\n",
       " (42.400000000000034, 1.6999999999999997),\n",
       " (42.400000000000034, 1.7999999999999998),\n",
       " (42.400000000000034, 1.8999999999999997),\n",
       " (42.400000000000034, 1.9999999999999996),\n",
       " (42.400000000000034, 2.0999999999999996),\n",
       " (42.400000000000034, 2.1999999999999997),\n",
       " (42.400000000000034, 2.3),\n",
       " (42.400000000000034, 2.3999999999999995),\n",
       " (42.400000000000034, 2.4999999999999996),\n",
       " (42.400000000000034, 2.5999999999999996),\n",
       " (42.400000000000034, 2.6999999999999993),\n",
       " (42.400000000000034, 2.7999999999999994),\n",
       " (42.400000000000034, 2.8999999999999995),\n",
       " (42.400000000000034, 2.9999999999999996),\n",
       " (42.400000000000034, 3.0999999999999996),\n",
       " (42.400000000000034, 3.1999999999999993),\n",
       " (42.400000000000034, 3.2999999999999994),\n",
       " (42.400000000000034, 3.3999999999999995),\n",
       " (42.400000000000034, 3.499999999999999),\n",
       " (42.400000000000034, 3.599999999999999),\n",
       " (42.400000000000034, 3.6999999999999993),\n",
       " (42.400000000000034, 3.7999999999999994),\n",
       " (42.400000000000034, 3.8999999999999995),\n",
       " (42.400000000000034, 3.999999999999999),\n",
       " (42.400000000000034, 4.1),\n",
       " (42.400000000000034, 4.199999999999999),\n",
       " (42.400000000000034, 4.299999999999999),\n",
       " (42.400000000000034, 4.399999999999999),\n",
       " ...]"
      ]
     },
     "execution_count": 79,
     "metadata": {},
     "output_type": "execute_result"
    }
   ],
   "source": [
    "import itertools\n",
    "## Make a list of mus and stds to try\n",
    "# theta_mus = [40,45,50,60,62,64,66,68,70, 72,74, 80]\n",
    "theta_mus = np.arange(40,80,0.1)\n",
    "# theta_stds = [0.5,0.8, 1,1.2,1.5,2.5,3,3.5,4,4.5]\n",
    "theta_stds = np.arange(0.5, 4.5,0.1)\n",
    "\n",
    "## make all possible permutations of params\n",
    "theta_params = list(itertools.product(theta_mus, theta_stds))\n",
    "theta_params"
   ]
  },
  {
   "cell_type": "code",
   "execution_count": 80,
   "metadata": {
    "ExecuteTime": {
     "end_time": "2020-07-08T23:53:00.894079Z",
     "start_time": "2020-07-08T23:53:00.853829Z"
    }
   },
   "outputs": [
    {
     "data": {
      "text/html": [
       "<div>\n",
       "<style scoped>\n",
       "    .dataframe tbody tr th:only-of-type {\n",
       "        vertical-align: middle;\n",
       "    }\n",
       "\n",
       "    .dataframe tbody tr th {\n",
       "        vertical-align: top;\n",
       "    }\n",
       "\n",
       "    .dataframe thead th {\n",
       "        text-align: right;\n",
       "    }\n",
       "</style>\n",
       "<table border=\"1\" class=\"dataframe\">\n",
       "  <thead>\n",
       "    <tr style=\"text-align: right;\">\n",
       "      <th></th>\n",
       "      <th>Mu</th>\n",
       "      <th>Std</th>\n",
       "      <th>Likelihood</th>\n",
       "    </tr>\n",
       "  </thead>\n",
       "  <tbody>\n",
       "    <tr>\n",
       "      <th>0</th>\n",
       "      <td>40.0</td>\n",
       "      <td>0.5</td>\n",
       "      <td>0.000000e+00</td>\n",
       "    </tr>\n",
       "    <tr>\n",
       "      <th>1</th>\n",
       "      <td>40.0</td>\n",
       "      <td>0.6</td>\n",
       "      <td>0.000000e+00</td>\n",
       "    </tr>\n",
       "    <tr>\n",
       "      <th>2</th>\n",
       "      <td>40.0</td>\n",
       "      <td>0.7</td>\n",
       "      <td>0.000000e+00</td>\n",
       "    </tr>\n",
       "    <tr>\n",
       "      <th>3</th>\n",
       "      <td>40.0</td>\n",
       "      <td>0.8</td>\n",
       "      <td>0.000000e+00</td>\n",
       "    </tr>\n",
       "    <tr>\n",
       "      <th>4</th>\n",
       "      <td>40.0</td>\n",
       "      <td>0.9</td>\n",
       "      <td>0.000000e+00</td>\n",
       "    </tr>\n",
       "    <tr>\n",
       "      <th>...</th>\n",
       "      <td>...</td>\n",
       "      <td>...</td>\n",
       "      <td>...</td>\n",
       "    </tr>\n",
       "    <tr>\n",
       "      <th>15995</th>\n",
       "      <td>79.9</td>\n",
       "      <td>4.0</td>\n",
       "      <td>9.296228e-271</td>\n",
       "    </tr>\n",
       "    <tr>\n",
       "      <th>15996</th>\n",
       "      <td>79.9</td>\n",
       "      <td>4.1</td>\n",
       "      <td>1.211878e-263</td>\n",
       "    </tr>\n",
       "    <tr>\n",
       "      <th>15997</th>\n",
       "      <td>79.9</td>\n",
       "      <td>4.2</td>\n",
       "      <td>4.432218e-257</td>\n",
       "    </tr>\n",
       "    <tr>\n",
       "      <th>15998</th>\n",
       "      <td>79.9</td>\n",
       "      <td>4.3</td>\n",
       "      <td>5.125055e-251</td>\n",
       "    </tr>\n",
       "    <tr>\n",
       "      <th>15999</th>\n",
       "      <td>79.9</td>\n",
       "      <td>4.4</td>\n",
       "      <td>2.083117e-245</td>\n",
       "    </tr>\n",
       "  </tbody>\n",
       "</table>\n",
       "<p>16000 rows × 3 columns</p>\n",
       "</div>"
      ],
      "text/plain": [
       "         Mu  Std     Likelihood\n",
       "0      40.0  0.5   0.000000e+00\n",
       "1      40.0  0.6   0.000000e+00\n",
       "2      40.0  0.7   0.000000e+00\n",
       "3      40.0  0.8   0.000000e+00\n",
       "4      40.0  0.9   0.000000e+00\n",
       "...     ...  ...            ...\n",
       "15995  79.9  4.0  9.296228e-271\n",
       "15996  79.9  4.1  1.211878e-263\n",
       "15997  79.9  4.2  4.432218e-257\n",
       "15998  79.9  4.3  5.125055e-251\n",
       "15999  79.9  4.4  2.083117e-245\n",
       "\n",
       "[16000 rows x 3 columns]"
      ]
     },
     "execution_count": 80,
     "metadata": {},
     "output_type": "execute_result"
    }
   ],
   "source": [
    "## Calculate the most likely parameters for mu, std\n",
    "compare = [['Mu','Std','Likelihood']]\n",
    "## For each pair of mu,std, calculate total likelihood.\n",
    "for (theta_mu, theta_std) in theta_params:\n",
    "    res = calc_total_likelihood(male_sample,theta_mu, theta_std)\n",
    "    compare.append([theta_mu, theta_std, res])\n",
    "## Turn it into a df for convenience\n",
    "results = pd.DataFrame(compare[1:],columns=compare[0])\n",
    "results"
   ]
  },
  {
   "cell_type": "code",
   "execution_count": 81,
   "metadata": {},
   "outputs": [
    {
     "data": {
      "text/html": [
       "<div>\n",
       "<style scoped>\n",
       "    .dataframe tbody tr th:only-of-type {\n",
       "        vertical-align: middle;\n",
       "    }\n",
       "\n",
       "    .dataframe tbody tr th {\n",
       "        vertical-align: top;\n",
       "    }\n",
       "\n",
       "    .dataframe thead th {\n",
       "        text-align: right;\n",
       "    }\n",
       "</style>\n",
       "<table border=\"1\" class=\"dataframe\">\n",
       "  <thead>\n",
       "    <tr style=\"text-align: right;\">\n",
       "      <th></th>\n",
       "      <th>Mu</th>\n",
       "      <th>Std</th>\n",
       "      <th>Likelihood</th>\n",
       "    </tr>\n",
       "  </thead>\n",
       "  <tbody>\n",
       "    <tr>\n",
       "      <th>0</th>\n",
       "      <td>69.1</td>\n",
       "      <td>3.0</td>\n",
       "      <td>1.298592e-109</td>\n",
       "    </tr>\n",
       "    <tr>\n",
       "      <th>1</th>\n",
       "      <td>69.2</td>\n",
       "      <td>3.0</td>\n",
       "      <td>1.244604e-109</td>\n",
       "    </tr>\n",
       "    <tr>\n",
       "      <th>2</th>\n",
       "      <td>69.1</td>\n",
       "      <td>2.9</td>\n",
       "      <td>1.241459e-109</td>\n",
       "    </tr>\n",
       "    <tr>\n",
       "      <th>3</th>\n",
       "      <td>69.0</td>\n",
       "      <td>3.0</td>\n",
       "      <td>1.212437e-109</td>\n",
       "    </tr>\n",
       "    <tr>\n",
       "      <th>4</th>\n",
       "      <td>69.2</td>\n",
       "      <td>2.9</td>\n",
       "      <td>1.186308e-109</td>\n",
       "    </tr>\n",
       "  </tbody>\n",
       "</table>\n",
       "</div>"
      ],
      "text/plain": [
       "     Mu  Std     Likelihood\n",
       "0  69.1  3.0  1.298592e-109\n",
       "1  69.2  3.0  1.244604e-109\n",
       "2  69.1  2.9  1.241459e-109\n",
       "3  69.0  3.0  1.212437e-109\n",
       "4  69.2  2.9  1.186308e-109"
      ]
     },
     "execution_count": 81,
     "metadata": {},
     "output_type": "execute_result"
    }
   ],
   "source": [
    "results.sort_values('Likelihood',ascending=False,inplace=True)\n",
    "results=results.reset_index(drop=True)\n",
    "results.head()"
   ]
  },
  {
   "cell_type": "code",
   "execution_count": 82,
   "metadata": {},
   "outputs": [
    {
     "data": {
      "text/plain": [
       "<AxesSubplot:xlabel='Height', ylabel='Count'>"
      ]
     },
     "execution_count": 82,
     "metadata": {},
     "output_type": "execute_result"
    },
    {
     "data": {
      "image/png": "[encoded data removed]",
      "text/plain": [
       "<Figure size 432x288 with 1 Axes>"
      ]
     },
     "metadata": {
      "needs_background": "light"
     },
     "output_type": "display_data"
    }
   ],
   "source": [
    "sns.histplot(male_sample,kde=True)"
   ]
  },
  {
   "cell_type": "code",
   "execution_count": 83,
   "metadata": {
    "ExecuteTime": {
     "end_time": "2020-07-08T01:51:15.493136Z",
     "start_time": "2020-07-08T01:51:15.491074Z"
    }
   },
   "outputs": [
    {
     "data": {
      "image/png": "[encoded data removed]",
      "text/plain": [
       "<Figure size 720x360 with 1 Axes>"
      ]
     },
     "metadata": {
      "needs_background": "light"
     },
     "output_type": "display_data"
    }
   ],
   "source": [
    "## View the 5 params with the highest likelihood\n",
    "plot_male_height(male_sample,results.loc[0,'Mu'] ,results.loc[0,'Std'] )"
   ]
  },
  {
   "cell_type": "code",
   "execution_count": 84,
   "metadata": {},
   "outputs": [
    {
     "data": {
      "text/plain": [
       "mean    69.111783\n",
       "std      2.983733\n",
       "Name: Height, dtype: float64"
      ]
     },
     "execution_count": 84,
     "metadata": {},
     "output_type": "execute_result"
    }
   ],
   "source": [
    "male_sample.agg(['mean','std'])"
   ]
  },
  {
   "cell_type": "code",
   "execution_count": 85,
   "metadata": {
    "ExecuteTime": {
     "end_time": "2020-07-08T23:53:48.278667Z",
     "start_time": "2020-07-08T23:53:48.274033Z"
    }
   },
   "outputs": [
    {
     "data": {
      "text/plain": [
       "mean    69.026346\n",
       "std      2.863362\n",
       "Name: Height, dtype: float64"
      ]
     },
     "execution_count": 85,
     "metadata": {},
     "output_type": "execute_result"
    }
   ],
   "source": [
    "## Get the actual mean and std from the full population\n",
    "df_male.agg(['mean','std'])"
   ]
  },
  {
   "cell_type": "code",
   "execution_count": 76,
   "metadata": {},
   "outputs": [
    {
     "data": {
      "text/plain": [
       "(5000,)"
      ]
     },
     "execution_count": 76,
     "metadata": {},
     "output_type": "execute_result"
    }
   ],
   "source": [
    "df_male.shape"
   ]
  },
  {
   "cell_type": "code",
   "execution_count": null,
   "metadata": {},
   "outputs": [],
   "source": []
  }
 ],
 "metadata": {
  "kernelspec": {
   "display_name": "learn-env-new",
   "language": "python",
   "name": "learn-env-new"
  },
  "language_info": {
   "codemirror_mode": {
    "name": "ipython",
    "version": 3
   },
   "file_extension": ".py",
   "mimetype": "text/x-python",
   "name": "python",
   "nbconvert_exporter": "python",
   "pygments_lexer": "ipython3",
   "version": "3.8.5"
  },
  "toc": {
   "base_numbering": 1,
   "nav_menu": {},
   "number_sections": false,
   "sideBar": true,
   "skip_h1_title": false,
   "title_cell": "Table of Contents",
   "title_sidebar": "Contents",
   "toc_cell": false,
   "toc_position": {
    "height": "calc(100% - 180px)",
    "left": "10px",
    "top": "150px",
    "width": "290.906px"
   },
   "toc_section_display": true,
   "toc_window_display": false
  },
  "varInspector": {
   "cols": {
    "lenName": 16,
    "lenType": 16,
    "lenVar": 40
   },
   "kernels_config": {
    "python": {
     "delete_cmd_postfix": "",
     "delete_cmd_prefix": "del ",
     "library": "var_list.py",
     "varRefreshCmd": "print(var_dic_list())"
    },
    "r": {
     "delete_cmd_postfix": ") ",
     "delete_cmd_prefix": "rm(",
     "library": "var_list.r",
     "varRefreshCmd": "cat(var_dic_list()) "
    }
   },
   "types_to_exclude": [
    "module",
    "function",
    "builtin_function_or_method",
    "instance",
    "_Feature"
   ],
   "window_display": false
  }
 },
 "nbformat": 4,
 "nbformat_minor": 2
}
