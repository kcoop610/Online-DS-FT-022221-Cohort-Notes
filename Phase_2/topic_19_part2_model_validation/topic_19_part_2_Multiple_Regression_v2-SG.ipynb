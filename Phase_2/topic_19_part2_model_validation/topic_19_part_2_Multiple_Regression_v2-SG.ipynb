{
 "cells": [
  {
   "cell_type": "markdown",
   "metadata": {
    "colab_type": "text",
    "id": "cJtmZmtMCE55"
   },
   "source": [
    "# Topic 19 Part 2: Feature Selection & Model Validation\n"
   ]
  },
  {
   "cell_type": "markdown",
   "metadata": {},
   "source": [
    "- onl01-dtsc-ft-022221\n",
    "- 04/09/21"
   ]
  },
  {
   "cell_type": "markdown",
   "metadata": {
    "colab_type": "text",
    "id": "wi_LF1BzrcQ0"
   },
   "source": [
    "## LEARNING OBJECTIVES"
   ]
  },
  {
   "cell_type": "markdown",
   "metadata": {
    "colab_type": "text",
    "id": "wi_LF1BzrcQ0"
   },
   "source": [
    "#### Part 1 (04/08/21)\n",
    "- Learn how to expand our last lesson to include multiple independent variables.\n",
    "- Learn ways to deal with categorical variables.\n",
    "- Learn about multicollinearity of features\n",
    "- Learn about how to improve a baseline model based on results\n",
    "- Learn how to run a multiple regression using statsmodels"
   ]
  },
  {
   "cell_type": "markdown",
   "metadata": {
    "colab_type": "text",
    "id": "wi_LF1BzrcQ0"
   },
   "source": [
    "#### Part 2 (Today)\n",
    "- Feature Scaling & Normalization\n",
    "- Feature Engineering/Selection\n",
    "- Model Validation/Cross Validation"
   ]
  },
  {
   "cell_type": "markdown",
   "metadata": {},
   "source": [
    "## Announcements/Reminders"
   ]
  },
  {
   "cell_type": "markdown",
   "metadata": {},
   "source": [
    "- Today's Study Group will be ~60 min\n",
    "- We will Kick Off Phase 2 Project at 4 pm EST today, instead of Feelings Fridays."
   ]
  },
  {
   "cell_type": "markdown",
   "metadata": {},
   "source": [
    "## Resources:"
   ]
  },
  {
   "cell_type": "markdown",
   "metadata": {},
   "source": [
    "### Watch These Central Lecturer Recordings!\n",
    "- [ ] 📺[Canvas: Topic 20+: Extensions to Linear Models + Feature Engineering/Selection CL Recordings](https://learning.flatironschool.com/courses/2681/pages/topic-20+-extensions-to-linear-models-+-feature-engineering-slash-selection-cl-recordings?module_item_id=188118)\n",
    "\n",
    "\n",
    "####  OSEMN Workflow Project Repo ( will show off more fully at 4 pm)\n",
    "- ⭐️ **[Starter OSEMN Data Science Workflow Template Repo](https://drive.google.com/file/d/1Hfenab4oTNuHJak4hH2l9VeMh5M6KkhS/view?usp=sharing)**\n",
    "    - `index_OSEMN.ipynb`: also included in notes repo"
   ]
  },
  {
   "cell_type": "markdown",
   "metadata": {
    "colab_type": "text",
    "id": "GnvMyBX-re5C"
   },
   "source": [
    "## Questions?\n",
    "\n"
   ]
  },
  {
   "cell_type": "markdown",
   "metadata": {},
   "source": [
    "- "
   ]
  },
  {
   "cell_type": "markdown",
   "metadata": {},
   "source": [
    "# [New] Feature Engineering/Selection & Model Validation\n"
   ]
  },
  {
   "cell_type": "markdown",
   "metadata": {},
   "source": [
    "> Walk through the essential parts of the following notebooks (headers start with  `[022221FT]` )\n",
    "- [ ] `feature_selection_and_feature_engineering.ipynb`\n",
    "    \n",
    "    \n",
    "- [ ] `model_validation-022221FT.ipynb`"
   ]
  },
  {
   "cell_type": "markdown",
   "metadata": {},
   "source": [
    "# Activity: Multiple Linear Regression with Movies"
   ]
  },
  {
   "cell_type": "markdown",
   "metadata": {},
   "source": [
    "## OBTAIN\n"
   ]
  },
  {
   "cell_type": "markdown",
   "metadata": {},
   "source": [
    "### Imports And Functions"
   ]
  },
  {
   "cell_type": "code",
   "execution_count": 1,
   "metadata": {},
   "outputs": [],
   "source": [
    "## Importing our study group functions\n",
    "%load_ext autoreload\n",
    "%autoreload 2\n",
    "import sys\n",
    "    \n",
    "py_folder = \"../../py_files/\" # CHANGE TO REFECT YOUR NOTEBOOKS LOCATION COMPARED TO THE PY_FILES FOLDER\n",
    "sys.path.append(py_folder)\n",
    "import functions_SG as sg"
   ]
  },
  {
   "cell_type": "code",
   "execution_count": 2,
   "metadata": {
    "ExecuteTime": {
     "end_time": "2020-08-20T17:38:55.994025Z",
     "start_time": "2020-08-20T17:38:48.594054Z"
    }
   },
   "outputs": [],
   "source": [
    "import pandas as pd\n",
    "import numpy as np\n",
    "import matplotlib as mpl\n",
    "import matplotlib.pyplot as plt\n",
    "import seaborn as sns\n",
    "\n",
    "import statsmodels.api as sm\n",
    "import statsmodels.stats.api as sms\n",
    "import statsmodels.formula.api as smf\n",
    "\n",
    "from scipy import stats"
   ]
  },
  {
   "cell_type": "code",
   "execution_count": 3,
   "metadata": {
    "ExecuteTime": {
     "end_time": "2020-08-20T17:38:55.997903Z",
     "start_time": "2020-08-20T17:38:55.995372Z"
    }
   },
   "outputs": [],
   "source": [
    "plt.style.use('seaborn-notebook')\n",
    "# plt.rcParams['figure.figsize'] = [10,6]\n",
    "pd.set_option('display.float_format', lambda x: f\"{x:,}\")\n",
    "pd.set_option('display.max_columns',0)"
   ]
  },
  {
   "cell_type": "code",
   "execution_count": 4,
   "metadata": {
    "ExecuteTime": {
     "end_time": "2020-08-20T17:38:57.408568Z",
     "start_time": "2020-08-20T17:38:56.244176Z"
    }
   },
   "outputs": [],
   "source": [
    "### NEW MOVIE DATASET\n",
    "\n",
    "def load_movie_data(verbose=True,include_genre=False):\n",
    "    ## Thanks to Johnny Dryma for letting us use his data\n",
    "    movie_data_url = \"https://raw.githubusercontent.com/Drymander/dsc-phase-1-project/master/data/2012-2019%20FULL.csv\"\n",
    "    dfm = pd.read_csv(movie_data_url,index_col=0,parse_dates=['release_date'])\n",
    "\n",
    "    ## List of cols that need processsing before use\n",
    "    # cols_need_processing=['genres','production_companies',\n",
    "    #                       'belongs_to_collection']\n",
    "\n",
    "    ## Save only the columns of interest\n",
    "    df = dfm[['id','imdb_id','original_title','title','genres','mpaa_rating',\n",
    "         'release_date','runtime','budget','revenue',\n",
    "         'vote_count','vote_average','popularity','adult','original_language']].copy()\n",
    "\n",
    "    ## Keep only movies with financial data\n",
    "    df=df[(df['budget']>0) & (df['revenue']>0)]\n",
    "\n",
    "    if include_genre==True:\n",
    "        df['genre_list'] = df['genres'].map(lambda x: eval(x))\n",
    "        df['genre_list'] = df['genre_list'].map(lambda x: [g['name'] for g in x])\n",
    "    else:\n",
    "        ## Dropping genres isntead\n",
    "        df.drop(columns=['genres'],inplace=True)\n",
    "        \n",
    "    ## Feature Engineering\n",
    "    # df['profit'] = df['revenue'] - df['budget']\n",
    "    # df['ROI'] = df['profit']/df['budget']\n",
    "\n",
    "    ## Removing Extreme values for class purposes\n",
    "    # df=df[df['ROI']<1000]\n",
    "\n",
    "    ## Drop nulls & reset index\n",
    "    df.dropna(inplace=True)\n",
    "    df.set_index('id',inplace=True)\n",
    "\n",
    "    if verbose:\n",
    "        display(df.head(),df.info())\n",
    "    return df\n",
    "\n",
    "def plot_data(data,X='budget',y='revenue',fit_reg=False):\n",
    "    priceFmt = mpl.ticker.StrMethodFormatter(\"${x:,.0f}\")\n",
    "    ax = sns.regplot(x=X,y=y,data=data,fit_reg=fit_reg)\n",
    "    ax.yaxis.set_major_formatter(priceFmt)\n",
    "    fig=ax.get_figure()\n",
    "    return fig,ax"
   ]
  },
  {
   "cell_type": "markdown",
   "metadata": {},
   "source": [
    "### Load Data"
   ]
  },
  {
   "cell_type": "code",
   "execution_count": 5,
   "metadata": {
    "ExecuteTime": {
     "end_time": "2020-08-20T17:38:57.408568Z",
     "start_time": "2020-08-20T17:38:56.244176Z"
    }
   },
   "outputs": [
    {
     "data": {
      "text/html": [
       "<div>\n",
       "<style scoped>\n",
       "    .dataframe tbody tr th:only-of-type {\n",
       "        vertical-align: middle;\n",
       "    }\n",
       "\n",
       "    .dataframe tbody tr th {\n",
       "        vertical-align: top;\n",
       "    }\n",
       "\n",
       "    .dataframe thead th {\n",
       "        text-align: right;\n",
       "    }\n",
       "</style>\n",
       "<table border=\"1\" class=\"dataframe\">\n",
       "  <thead>\n",
       "    <tr style=\"text-align: right;\">\n",
       "      <th></th>\n",
       "      <th>imdb_id</th>\n",
       "      <th>original_title</th>\n",
       "      <th>title</th>\n",
       "      <th>mpaa_rating</th>\n",
       "      <th>release_date</th>\n",
       "      <th>runtime</th>\n",
       "      <th>budget</th>\n",
       "      <th>revenue</th>\n",
       "      <th>vote_count</th>\n",
       "      <th>vote_average</th>\n",
       "      <th>popularity</th>\n",
       "      <th>adult</th>\n",
       "      <th>original_language</th>\n",
       "    </tr>\n",
       "    <tr>\n",
       "      <th>id</th>\n",
       "      <th></th>\n",
       "      <th></th>\n",
       "      <th></th>\n",
       "      <th></th>\n",
       "      <th></th>\n",
       "      <th></th>\n",
       "      <th></th>\n",
       "      <th></th>\n",
       "      <th></th>\n",
       "      <th></th>\n",
       "      <th></th>\n",
       "      <th></th>\n",
       "      <th></th>\n",
       "    </tr>\n",
       "  </thead>\n",
       "  <tbody>\n",
       "    <tr>\n",
       "      <th>24428</th>\n",
       "      <td>tt0848228</td>\n",
       "      <td>The Avengers</td>\n",
       "      <td>The Avengers</td>\n",
       "      <td>PG-13</td>\n",
       "      <td>2012-04-25</td>\n",
       "      <td>143.0</td>\n",
       "      <td>220000000</td>\n",
       "      <td>1518815515</td>\n",
       "      <td>24252</td>\n",
       "      <td>7.7</td>\n",
       "      <td>151.095</td>\n",
       "      <td>False</td>\n",
       "      <td>en</td>\n",
       "    </tr>\n",
       "    <tr>\n",
       "      <th>50620</th>\n",
       "      <td>tt1673434</td>\n",
       "      <td>The Twilight Saga: Breaking Dawn - Part 2</td>\n",
       "      <td>The Twilight Saga: Breaking Dawn - Part 2</td>\n",
       "      <td>PG-13</td>\n",
       "      <td>2012-11-13</td>\n",
       "      <td>115.0</td>\n",
       "      <td>120000000</td>\n",
       "      <td>829000000</td>\n",
       "      <td>6978</td>\n",
       "      <td>6.5</td>\n",
       "      <td>73.226</td>\n",
       "      <td>False</td>\n",
       "      <td>en</td>\n",
       "    </tr>\n",
       "    <tr>\n",
       "      <th>82690</th>\n",
       "      <td>tt1772341</td>\n",
       "      <td>Wreck-It Ralph</td>\n",
       "      <td>Wreck-It Ralph</td>\n",
       "      <td>PG</td>\n",
       "      <td>2012-11-01</td>\n",
       "      <td>101.0</td>\n",
       "      <td>165000000</td>\n",
       "      <td>471222889</td>\n",
       "      <td>9690</td>\n",
       "      <td>7.3</td>\n",
       "      <td>70.21300000000001</td>\n",
       "      <td>False</td>\n",
       "      <td>en</td>\n",
       "    </tr>\n",
       "    <tr>\n",
       "      <th>57214</th>\n",
       "      <td>tt1636826</td>\n",
       "      <td>Project X</td>\n",
       "      <td>Project X</td>\n",
       "      <td>R</td>\n",
       "      <td>2012-03-01</td>\n",
       "      <td>88.0</td>\n",
       "      <td>12000000</td>\n",
       "      <td>100000000</td>\n",
       "      <td>4399</td>\n",
       "      <td>6.7</td>\n",
       "      <td>67.687</td>\n",
       "      <td>False</td>\n",
       "      <td>en</td>\n",
       "    </tr>\n",
       "    <tr>\n",
       "      <th>49051</th>\n",
       "      <td>tt0903624</td>\n",
       "      <td>The Hobbit: An Unexpected Journey</td>\n",
       "      <td>The Hobbit: An Unexpected Journey</td>\n",
       "      <td>PG-13</td>\n",
       "      <td>2012-11-26</td>\n",
       "      <td>169.0</td>\n",
       "      <td>250000000</td>\n",
       "      <td>1021103568</td>\n",
       "      <td>14539</td>\n",
       "      <td>7.3</td>\n",
       "      <td>61.052</td>\n",
       "      <td>False</td>\n",
       "      <td>en</td>\n",
       "    </tr>\n",
       "  </tbody>\n",
       "</table>\n",
       "</div>"
      ],
      "text/plain": [
       "         imdb_id                             original_title                                      title mpaa_rating  ... vote_average        popularity  adult  original_language\n",
       "id                                                                                                                  ...                                                         \n",
       "24428  tt0848228                               The Avengers                               The Avengers       PG-13  ...          7.7           151.095  False                 en\n",
       "50620  tt1673434  The Twilight Saga: Breaking Dawn - Part 2  The Twilight Saga: Breaking Dawn - Part 2       PG-13  ...          6.5            73.226  False                 en\n",
       "82690  tt1772341                             Wreck-It Ralph                             Wreck-It Ralph          PG  ...          7.3 70.21300000000001  False                 en\n",
       "57214  tt1636826                                  Project X                                  Project X           R  ...          6.7            67.687  False                 en\n",
       "49051  tt0903624          The Hobbit: An Unexpected Journey          The Hobbit: An Unexpected Journey       PG-13  ...          7.3            61.052  False                 en\n",
       "\n",
       "[5 rows x 13 columns]"
      ]
     },
     "execution_count": 5,
     "metadata": {},
     "output_type": "execute_result"
    }
   ],
   "source": [
    "df = load_movie_data(verbose=False)\n",
    "df.head()"
   ]
  },
  {
   "cell_type": "code",
   "execution_count": 6,
   "metadata": {
    "ExecuteTime": {
     "end_time": "2020-08-20T17:39:01.389474Z",
     "start_time": "2020-08-20T17:39:01.381896Z"
    }
   },
   "outputs": [
    {
     "name": "stdout",
     "output_type": "stream",
     "text": [
      "<class 'pandas.core.frame.DataFrame'>\n",
      "Int64Index: 1300 entries, 24428 to 630331\n",
      "Data columns (total 13 columns):\n",
      " #   Column             Non-Null Count  Dtype         \n",
      "---  ------             --------------  -----         \n",
      " 0   imdb_id            1300 non-null   object        \n",
      " 1   original_title     1300 non-null   object        \n",
      " 2   title              1300 non-null   object        \n",
      " 3   mpaa_rating        1300 non-null   object        \n",
      " 4   release_date       1300 non-null   datetime64[ns]\n",
      " 5   runtime            1300 non-null   float64       \n",
      " 6   budget             1300 non-null   int64         \n",
      " 7   revenue            1300 non-null   int64         \n",
      " 8   vote_count         1300 non-null   int64         \n",
      " 9   vote_average       1300 non-null   float64       \n",
      " 10  popularity         1300 non-null   float64       \n",
      " 11  adult              1300 non-null   bool          \n",
      " 12  original_language  1300 non-null   object        \n",
      "dtypes: bool(1), datetime64[ns](1), float64(3), int64(3), object(5)\n",
      "memory usage: 133.3+ KB\n"
     ]
    }
   ],
   "source": [
    "## Check dtypes,etc\n",
    "df.info()"
   ]
  },
  {
   "cell_type": "code",
   "execution_count": 7,
   "metadata": {
    "ExecuteTime": {
     "end_time": "2020-08-20T17:38:57.623802Z",
     "start_time": "2020-08-20T17:38:57.410001Z"
    }
   },
   "outputs": [],
   "source": [
    "# plot_data(X='budget',y='revenue',data=df,fit_reg=True);"
   ]
  },
  {
   "cell_type": "markdown",
   "metadata": {},
   "source": [
    "## SCRUB"
   ]
  },
  {
   "cell_type": "code",
   "execution_count": 8,
   "metadata": {},
   "outputs": [
    {
     "data": {
      "text/plain": [
       "imdb_id              0\n",
       "original_title       0\n",
       "title                0\n",
       "mpaa_rating          0\n",
       "release_date         0\n",
       "runtime              0\n",
       "budget               0\n",
       "revenue              0\n",
       "vote_count           0\n",
       "vote_average         0\n",
       "popularity           0\n",
       "adult                0\n",
       "original_language    0\n",
       "dtype: int64"
      ]
     },
     "execution_count": 8,
     "metadata": {},
     "output_type": "execute_result"
    }
   ],
   "source": [
    "## Check nulls\n",
    "df.isnull().sum()"
   ]
  },
  {
   "cell_type": "code",
   "execution_count": 9,
   "metadata": {
    "ExecuteTime": {
     "end_time": "2020-08-20T17:39:01.414524Z",
     "start_time": "2020-08-20T17:39:01.390678Z"
    }
   },
   "outputs": [
    {
     "data": {
      "text/html": [
       "<div>\n",
       "<style scoped>\n",
       "    .dataframe tbody tr th:only-of-type {\n",
       "        vertical-align: middle;\n",
       "    }\n",
       "\n",
       "    .dataframe tbody tr th {\n",
       "        vertical-align: top;\n",
       "    }\n",
       "\n",
       "    .dataframe thead th {\n",
       "        text-align: right;\n",
       "    }\n",
       "</style>\n",
       "<table border=\"1\" class=\"dataframe\">\n",
       "  <thead>\n",
       "    <tr style=\"text-align: right;\">\n",
       "      <th></th>\n",
       "      <th>runtime</th>\n",
       "      <th>budget</th>\n",
       "      <th>revenue</th>\n",
       "      <th>vote_count</th>\n",
       "      <th>vote_average</th>\n",
       "      <th>popularity</th>\n",
       "    </tr>\n",
       "  </thead>\n",
       "  <tbody>\n",
       "    <tr>\n",
       "      <th>count</th>\n",
       "      <td>1,300.0</td>\n",
       "      <td>1,300.0</td>\n",
       "      <td>1,300.0</td>\n",
       "      <td>1,300.0</td>\n",
       "      <td>1,300.0</td>\n",
       "      <td>1,300.0</td>\n",
       "    </tr>\n",
       "    <tr>\n",
       "      <th>mean</th>\n",
       "      <td>109.34153846153846</td>\n",
       "      <td>45,900,017.192307696</td>\n",
       "      <td>155,390,520.90076923</td>\n",
       "      <td>3,048.479230769231</td>\n",
       "      <td>6.407538461538461</td>\n",
       "      <td>34.06769615384615</td>\n",
       "    </tr>\n",
       "    <tr>\n",
       "      <th>std</th>\n",
       "      <td>16.982950217591988</td>\n",
       "      <td>55,641,755.675761335</td>\n",
       "      <td>267,617,277.28683838</td>\n",
       "      <td>3,757.7980193390854</td>\n",
       "      <td>0.940552522610109</td>\n",
       "      <td>37.70137389978608</td>\n",
       "    </tr>\n",
       "    <tr>\n",
       "      <th>min</th>\n",
       "      <td>78.0</td>\n",
       "      <td>10.0</td>\n",
       "      <td>1.0</td>\n",
       "      <td>0.0</td>\n",
       "      <td>0.0</td>\n",
       "      <td>0.6</td>\n",
       "    </tr>\n",
       "    <tr>\n",
       "      <th>25%</th>\n",
       "      <td>96.0</td>\n",
       "      <td>10,000,000.0</td>\n",
       "      <td>10,276,110.0</td>\n",
       "      <td>602.0</td>\n",
       "      <td>5.9</td>\n",
       "      <td>14.20425</td>\n",
       "    </tr>\n",
       "    <tr>\n",
       "      <th>50%</th>\n",
       "      <td>107.0</td>\n",
       "      <td>25,000,000.0</td>\n",
       "      <td>52,410,264.5</td>\n",
       "      <td>1,638.5</td>\n",
       "      <td>6.4</td>\n",
       "      <td>22.548499999999997</td>\n",
       "    </tr>\n",
       "    <tr>\n",
       "      <th>75%</th>\n",
       "      <td>119.0</td>\n",
       "      <td>58,850,000.0</td>\n",
       "      <td>170,262,729.25</td>\n",
       "      <td>4,059.5</td>\n",
       "      <td>7.0</td>\n",
       "      <td>38.3885</td>\n",
       "    </tr>\n",
       "    <tr>\n",
       "      <th>max</th>\n",
       "      <td>188.0</td>\n",
       "      <td>356,000,000.0</td>\n",
       "      <td>2,797,800,564.0</td>\n",
       "      <td>25,296.0</td>\n",
       "      <td>9.0</td>\n",
       "      <td>397.25699999999995</td>\n",
       "    </tr>\n",
       "  </tbody>\n",
       "</table>\n",
       "</div>"
      ],
      "text/plain": [
       "                 runtime               budget              revenue          vote_count      vote_average         popularity\n",
       "count            1,300.0              1,300.0              1,300.0             1,300.0           1,300.0            1,300.0\n",
       "mean  109.34153846153846 45,900,017.192307696 155,390,520.90076923  3,048.479230769231 6.407538461538461  34.06769615384615\n",
       "std   16.982950217591988 55,641,755.675761335 267,617,277.28683838 3,757.7980193390854 0.940552522610109  37.70137389978608\n",
       "min                 78.0                 10.0                  1.0                 0.0               0.0                0.6\n",
       "25%                 96.0         10,000,000.0         10,276,110.0               602.0               5.9           14.20425\n",
       "50%                107.0         25,000,000.0         52,410,264.5             1,638.5               6.4 22.548499999999997\n",
       "75%                119.0         58,850,000.0       170,262,729.25             4,059.5               7.0            38.3885\n",
       "max                188.0        356,000,000.0      2,797,800,564.0            25,296.0               9.0 397.25699999999995"
      ]
     },
     "execution_count": 9,
     "metadata": {},
     "output_type": "execute_result"
    }
   ],
   "source": [
    "## Inspect the numeric columns\n",
    "df.describe()"
   ]
  },
  {
   "cell_type": "code",
   "execution_count": 10,
   "metadata": {},
   "outputs": [
    {
     "data": {
      "text/plain": [
       "imdb_id              1300\n",
       "original_title       1300\n",
       "title                1300\n",
       "mpaa_rating             6\n",
       "release_date          928\n",
       "runtime                89\n",
       "budget                232\n",
       "revenue              1297\n",
       "vote_count           1154\n",
       "vote_average           50\n",
       "popularity           1283\n",
       "adult                   1\n",
       "original_language       1\n",
       "dtype: int64"
      ]
     },
     "execution_count": 10,
     "metadata": {},
     "output_type": "execute_result"
    }
   ],
   "source": [
    "df.nunique()"
   ]
  },
  {
   "cell_type": "code",
   "execution_count": 11,
   "metadata": {},
   "outputs": [
    {
     "data": {
      "text/plain": [
       "<AxesSubplot:>"
      ]
     },
     "execution_count": 11,
     "metadata": {},
     "output_type": "execute_result"
    },
    {
     "data": {
      "image/png": "[encoded data removed]",
      "text/plain": [
       "<Figure size 1800x720 with 2 Axes>"
      ]
     },
     "metadata": {
      "needs_background": "light"
     },
     "output_type": "display_data"
    }
   ],
   "source": [
    "import missingno\n",
    "missingno.matrix(df)"
   ]
  },
  {
   "cell_type": "markdown",
   "metadata": {},
   "source": [
    "## Explore"
   ]
  },
  {
   "cell_type": "markdown",
   "metadata": {},
   "source": [
    "> We kind of skipped over this phase completely yesterday"
   ]
  },
  {
   "cell_type": "code",
   "execution_count": 12,
   "metadata": {},
   "outputs": [],
   "source": [
    "def plot_column_vs_target():\n",
    "    pass"
   ]
  },
  {
   "cell_type": "markdown",
   "metadata": {},
   "source": [
    "## Feature Engineering"
   ]
  },
  {
   "cell_type": "markdown",
   "metadata": {},
   "source": [
    "### Encode Categorical Data"
   ]
  },
  {
   "cell_type": "code",
   "execution_count": 13,
   "metadata": {},
   "outputs": [],
   "source": [
    "## Remake final cat cols\n",
    "cat_cols = ['mpaa_rating']"
   ]
  },
  {
   "cell_type": "code",
   "execution_count": 14,
   "metadata": {
    "ExecuteTime": {
     "end_time": "2020-08-20T17:39:02.883263Z",
     "start_time": "2020-08-20T17:39:02.797536Z"
    }
   },
   "outputs": [
    {
     "data": {
      "text/plain": [
       "OneHotEncoder(drop='first', sparse=False)"
      ]
     },
     "execution_count": 14,
     "metadata": {},
     "output_type": "execute_result"
    }
   ],
   "source": [
    "## Create encoded vars\n",
    "from sklearn.preprocessing import OneHotEncoder\n",
    "encoder = OneHotEncoder(sparse=False, drop='first')\n",
    "encoder"
   ]
  },
  {
   "cell_type": "code",
   "execution_count": 15,
   "metadata": {
    "ExecuteTime": {
     "end_time": "2020-08-20T17:39:02.883263Z",
     "start_time": "2020-08-20T17:39:02.797536Z"
    }
   },
   "outputs": [
    {
     "data": {
      "text/html": [
       "<div>\n",
       "<style scoped>\n",
       "    .dataframe tbody tr th:only-of-type {\n",
       "        vertical-align: middle;\n",
       "    }\n",
       "\n",
       "    .dataframe tbody tr th {\n",
       "        vertical-align: top;\n",
       "    }\n",
       "\n",
       "    .dataframe thead th {\n",
       "        text-align: right;\n",
       "    }\n",
       "</style>\n",
       "<table border=\"1\" class=\"dataframe\">\n",
       "  <thead>\n",
       "    <tr style=\"text-align: right;\">\n",
       "      <th></th>\n",
       "      <th>mpaa_rating_NC-17</th>\n",
       "      <th>mpaa_rating_NR</th>\n",
       "      <th>mpaa_rating_PG</th>\n",
       "      <th>mpaa_rating_PG-13</th>\n",
       "      <th>mpaa_rating_R</th>\n",
       "    </tr>\n",
       "    <tr>\n",
       "      <th>id</th>\n",
       "      <th></th>\n",
       "      <th></th>\n",
       "      <th></th>\n",
       "      <th></th>\n",
       "      <th></th>\n",
       "    </tr>\n",
       "  </thead>\n",
       "  <tbody>\n",
       "    <tr>\n",
       "      <th>24428</th>\n",
       "      <td>0.0</td>\n",
       "      <td>0.0</td>\n",
       "      <td>0.0</td>\n",
       "      <td>1.0</td>\n",
       "      <td>0.0</td>\n",
       "    </tr>\n",
       "    <tr>\n",
       "      <th>50620</th>\n",
       "      <td>0.0</td>\n",
       "      <td>0.0</td>\n",
       "      <td>0.0</td>\n",
       "      <td>1.0</td>\n",
       "      <td>0.0</td>\n",
       "    </tr>\n",
       "    <tr>\n",
       "      <th>82690</th>\n",
       "      <td>0.0</td>\n",
       "      <td>0.0</td>\n",
       "      <td>1.0</td>\n",
       "      <td>0.0</td>\n",
       "      <td>0.0</td>\n",
       "    </tr>\n",
       "    <tr>\n",
       "      <th>57214</th>\n",
       "      <td>0.0</td>\n",
       "      <td>0.0</td>\n",
       "      <td>0.0</td>\n",
       "      <td>0.0</td>\n",
       "      <td>1.0</td>\n",
       "    </tr>\n",
       "    <tr>\n",
       "      <th>49051</th>\n",
       "      <td>0.0</td>\n",
       "      <td>0.0</td>\n",
       "      <td>0.0</td>\n",
       "      <td>1.0</td>\n",
       "      <td>0.0</td>\n",
       "    </tr>\n",
       "    <tr>\n",
       "      <th>...</th>\n",
       "      <td>...</td>\n",
       "      <td>...</td>\n",
       "      <td>...</td>\n",
       "      <td>...</td>\n",
       "      <td>...</td>\n",
       "    </tr>\n",
       "    <tr>\n",
       "      <th>403300</th>\n",
       "      <td>0.0</td>\n",
       "      <td>0.0</td>\n",
       "      <td>0.0</td>\n",
       "      <td>1.0</td>\n",
       "      <td>0.0</td>\n",
       "    </tr>\n",
       "    <tr>\n",
       "      <th>520900</th>\n",
       "      <td>0.0</td>\n",
       "      <td>0.0</td>\n",
       "      <td>1.0</td>\n",
       "      <td>0.0</td>\n",
       "      <td>0.0</td>\n",
       "    </tr>\n",
       "    <tr>\n",
       "      <th>616584</th>\n",
       "      <td>0.0</td>\n",
       "      <td>0.0</td>\n",
       "      <td>0.0</td>\n",
       "      <td>0.0</td>\n",
       "      <td>1.0</td>\n",
       "    </tr>\n",
       "    <tr>\n",
       "      <th>619265</th>\n",
       "      <td>0.0</td>\n",
       "      <td>0.0</td>\n",
       "      <td>0.0</td>\n",
       "      <td>0.0</td>\n",
       "      <td>1.0</td>\n",
       "    </tr>\n",
       "    <tr>\n",
       "      <th>630331</th>\n",
       "      <td>0.0</td>\n",
       "      <td>1.0</td>\n",
       "      <td>0.0</td>\n",
       "      <td>0.0</td>\n",
       "      <td>0.0</td>\n",
       "    </tr>\n",
       "  </tbody>\n",
       "</table>\n",
       "<p>1300 rows × 5 columns</p>\n",
       "</div>"
      ],
      "text/plain": [
       "        mpaa_rating_NC-17  mpaa_rating_NR  mpaa_rating_PG  mpaa_rating_PG-13  mpaa_rating_R\n",
       "id                                                                                         \n",
       "24428                 0.0             0.0             0.0                1.0            0.0\n",
       "50620                 0.0             0.0             0.0                1.0            0.0\n",
       "82690                 0.0             0.0             1.0                0.0            0.0\n",
       "57214                 0.0             0.0             0.0                0.0            1.0\n",
       "49051                 0.0             0.0             0.0                1.0            0.0\n",
       "...                   ...             ...             ...                ...            ...\n",
       "403300                0.0             0.0             0.0                1.0            0.0\n",
       "520900                0.0             0.0             1.0                0.0            0.0\n",
       "616584                0.0             0.0             0.0                0.0            1.0\n",
       "619265                0.0             0.0             0.0                0.0            1.0\n",
       "630331                0.0             1.0             0.0                0.0            0.0\n",
       "\n",
       "[1300 rows x 5 columns]"
      ]
     },
     "execution_count": 15,
     "metadata": {},
     "output_type": "execute_result"
    }
   ],
   "source": [
    "## make encoded vars_df\n",
    "data_ohe = encoder.fit_transform(df[cat_cols])\n",
    "df_ohe = pd.DataFrame(data_ohe,columns=encoder.get_feature_names(cat_cols),\n",
    "                     index=df.index)\n",
    "df_ohe"
   ]
  },
  {
   "cell_type": "code",
   "execution_count": 16,
   "metadata": {},
   "outputs": [
    {
     "data": {
      "text/html": [
       "<div>\n",
       "<style scoped>\n",
       "    .dataframe tbody tr th:only-of-type {\n",
       "        vertical-align: middle;\n",
       "    }\n",
       "\n",
       "    .dataframe tbody tr th {\n",
       "        vertical-align: top;\n",
       "    }\n",
       "\n",
       "    .dataframe thead th {\n",
       "        text-align: right;\n",
       "    }\n",
       "</style>\n",
       "<table border=\"1\" class=\"dataframe\">\n",
       "  <thead>\n",
       "    <tr style=\"text-align: right;\">\n",
       "      <th></th>\n",
       "      <th>imdb_id</th>\n",
       "      <th>original_title</th>\n",
       "      <th>title</th>\n",
       "      <th>release_date</th>\n",
       "      <th>runtime</th>\n",
       "      <th>budget</th>\n",
       "      <th>revenue</th>\n",
       "      <th>vote_count</th>\n",
       "      <th>vote_average</th>\n",
       "      <th>popularity</th>\n",
       "      <th>adult</th>\n",
       "      <th>original_language</th>\n",
       "      <th>mpaa_rating_NC-17</th>\n",
       "      <th>mpaa_rating_NR</th>\n",
       "      <th>mpaa_rating_PG</th>\n",
       "      <th>mpaa_rating_PG-13</th>\n",
       "      <th>mpaa_rating_R</th>\n",
       "    </tr>\n",
       "    <tr>\n",
       "      <th>id</th>\n",
       "      <th></th>\n",
       "      <th></th>\n",
       "      <th></th>\n",
       "      <th></th>\n",
       "      <th></th>\n",
       "      <th></th>\n",
       "      <th></th>\n",
       "      <th></th>\n",
       "      <th></th>\n",
       "      <th></th>\n",
       "      <th></th>\n",
       "      <th></th>\n",
       "      <th></th>\n",
       "      <th></th>\n",
       "      <th></th>\n",
       "      <th></th>\n",
       "      <th></th>\n",
       "    </tr>\n",
       "  </thead>\n",
       "  <tbody>\n",
       "    <tr>\n",
       "      <th>24428</th>\n",
       "      <td>tt0848228</td>\n",
       "      <td>The Avengers</td>\n",
       "      <td>The Avengers</td>\n",
       "      <td>2012-04-25</td>\n",
       "      <td>143.0</td>\n",
       "      <td>220000000</td>\n",
       "      <td>1518815515</td>\n",
       "      <td>24252</td>\n",
       "      <td>7.7</td>\n",
       "      <td>151.095</td>\n",
       "      <td>False</td>\n",
       "      <td>en</td>\n",
       "      <td>0.0</td>\n",
       "      <td>0.0</td>\n",
       "      <td>0.0</td>\n",
       "      <td>1.0</td>\n",
       "      <td>0.0</td>\n",
       "    </tr>\n",
       "    <tr>\n",
       "      <th>50620</th>\n",
       "      <td>tt1673434</td>\n",
       "      <td>The Twilight Saga: Breaking Dawn - Part 2</td>\n",
       "      <td>The Twilight Saga: Breaking Dawn - Part 2</td>\n",
       "      <td>2012-11-13</td>\n",
       "      <td>115.0</td>\n",
       "      <td>120000000</td>\n",
       "      <td>829000000</td>\n",
       "      <td>6978</td>\n",
       "      <td>6.5</td>\n",
       "      <td>73.226</td>\n",
       "      <td>False</td>\n",
       "      <td>en</td>\n",
       "      <td>0.0</td>\n",
       "      <td>0.0</td>\n",
       "      <td>0.0</td>\n",
       "      <td>1.0</td>\n",
       "      <td>0.0</td>\n",
       "    </tr>\n",
       "    <tr>\n",
       "      <th>82690</th>\n",
       "      <td>tt1772341</td>\n",
       "      <td>Wreck-It Ralph</td>\n",
       "      <td>Wreck-It Ralph</td>\n",
       "      <td>2012-11-01</td>\n",
       "      <td>101.0</td>\n",
       "      <td>165000000</td>\n",
       "      <td>471222889</td>\n",
       "      <td>9690</td>\n",
       "      <td>7.3</td>\n",
       "      <td>70.21300000000001</td>\n",
       "      <td>False</td>\n",
       "      <td>en</td>\n",
       "      <td>0.0</td>\n",
       "      <td>0.0</td>\n",
       "      <td>1.0</td>\n",
       "      <td>0.0</td>\n",
       "      <td>0.0</td>\n",
       "    </tr>\n",
       "    <tr>\n",
       "      <th>57214</th>\n",
       "      <td>tt1636826</td>\n",
       "      <td>Project X</td>\n",
       "      <td>Project X</td>\n",
       "      <td>2012-03-01</td>\n",
       "      <td>88.0</td>\n",
       "      <td>12000000</td>\n",
       "      <td>100000000</td>\n",
       "      <td>4399</td>\n",
       "      <td>6.7</td>\n",
       "      <td>67.687</td>\n",
       "      <td>False</td>\n",
       "      <td>en</td>\n",
       "      <td>0.0</td>\n",
       "      <td>0.0</td>\n",
       "      <td>0.0</td>\n",
       "      <td>0.0</td>\n",
       "      <td>1.0</td>\n",
       "    </tr>\n",
       "    <tr>\n",
       "      <th>49051</th>\n",
       "      <td>tt0903624</td>\n",
       "      <td>The Hobbit: An Unexpected Journey</td>\n",
       "      <td>The Hobbit: An Unexpected Journey</td>\n",
       "      <td>2012-11-26</td>\n",
       "      <td>169.0</td>\n",
       "      <td>250000000</td>\n",
       "      <td>1021103568</td>\n",
       "      <td>14539</td>\n",
       "      <td>7.3</td>\n",
       "      <td>61.052</td>\n",
       "      <td>False</td>\n",
       "      <td>en</td>\n",
       "      <td>0.0</td>\n",
       "      <td>0.0</td>\n",
       "      <td>0.0</td>\n",
       "      <td>1.0</td>\n",
       "      <td>0.0</td>\n",
       "    </tr>\n",
       "    <tr>\n",
       "      <th>...</th>\n",
       "      <td>...</td>\n",
       "      <td>...</td>\n",
       "      <td>...</td>\n",
       "      <td>...</td>\n",
       "      <td>...</td>\n",
       "      <td>...</td>\n",
       "      <td>...</td>\n",
       "      <td>...</td>\n",
       "      <td>...</td>\n",
       "      <td>...</td>\n",
       "      <td>...</td>\n",
       "      <td>...</td>\n",
       "      <td>...</td>\n",
       "      <td>...</td>\n",
       "      <td>...</td>\n",
       "      <td>...</td>\n",
       "      <td>...</td>\n",
       "    </tr>\n",
       "    <tr>\n",
       "      <th>403300</th>\n",
       "      <td>tt5827916</td>\n",
       "      <td>A Hidden Life</td>\n",
       "      <td>A Hidden Life</td>\n",
       "      <td>2019-12-11</td>\n",
       "      <td>174.0</td>\n",
       "      <td>9000000</td>\n",
       "      <td>4612788</td>\n",
       "      <td>370</td>\n",
       "      <td>7.2</td>\n",
       "      <td>15.434000000000001</td>\n",
       "      <td>False</td>\n",
       "      <td>en</td>\n",
       "      <td>0.0</td>\n",
       "      <td>0.0</td>\n",
       "      <td>0.0</td>\n",
       "      <td>1.0</td>\n",
       "      <td>0.0</td>\n",
       "    </tr>\n",
       "    <tr>\n",
       "      <th>520900</th>\n",
       "      <td>tt6439020</td>\n",
       "      <td>The Personal History of David Copperfield</td>\n",
       "      <td>The Personal History of David Copperfield</td>\n",
       "      <td>2019-11-07</td>\n",
       "      <td>119.0</td>\n",
       "      <td>15600000</td>\n",
       "      <td>11620337</td>\n",
       "      <td>211</td>\n",
       "      <td>6.7</td>\n",
       "      <td>15.075999999999999</td>\n",
       "      <td>False</td>\n",
       "      <td>en</td>\n",
       "      <td>0.0</td>\n",
       "      <td>0.0</td>\n",
       "      <td>1.0</td>\n",
       "      <td>0.0</td>\n",
       "      <td>0.0</td>\n",
       "    </tr>\n",
       "    <tr>\n",
       "      <th>616584</th>\n",
       "      <td>tt10521814</td>\n",
       "      <td>K-12</td>\n",
       "      <td>K-12</td>\n",
       "      <td>2019-09-05</td>\n",
       "      <td>92.0</td>\n",
       "      <td>50000</td>\n",
       "      <td>359377</td>\n",
       "      <td>171</td>\n",
       "      <td>7.6</td>\n",
       "      <td>14.822000000000001</td>\n",
       "      <td>False</td>\n",
       "      <td>en</td>\n",
       "      <td>0.0</td>\n",
       "      <td>0.0</td>\n",
       "      <td>0.0</td>\n",
       "      <td>0.0</td>\n",
       "      <td>1.0</td>\n",
       "    </tr>\n",
       "    <tr>\n",
       "      <th>619265</th>\n",
       "      <td>tt10555920</td>\n",
       "      <td>The Cabin House</td>\n",
       "      <td>The Cabin House</td>\n",
       "      <td>2019-10-31</td>\n",
       "      <td>120.0</td>\n",
       "      <td>13000000</td>\n",
       "      <td>13000000</td>\n",
       "      <td>0</td>\n",
       "      <td>0.0</td>\n",
       "      <td>2.0709999999999997</td>\n",
       "      <td>False</td>\n",
       "      <td>en</td>\n",
       "      <td>0.0</td>\n",
       "      <td>0.0</td>\n",
       "      <td>0.0</td>\n",
       "      <td>0.0</td>\n",
       "      <td>1.0</td>\n",
       "    </tr>\n",
       "    <tr>\n",
       "      <th>630331</th>\n",
       "      <td>tt10931434</td>\n",
       "      <td>Cin-Si Bozuk</td>\n",
       "      <td>Cin-Si Bozuk</td>\n",
       "      <td>2019-09-06</td>\n",
       "      <td>95.0</td>\n",
       "      <td>46</td>\n",
       "      <td>5</td>\n",
       "      <td>0</td>\n",
       "      <td>0.0</td>\n",
       "      <td>0.622</td>\n",
       "      <td>False</td>\n",
       "      <td>en</td>\n",
       "      <td>0.0</td>\n",
       "      <td>1.0</td>\n",
       "      <td>0.0</td>\n",
       "      <td>0.0</td>\n",
       "      <td>0.0</td>\n",
       "    </tr>\n",
       "  </tbody>\n",
       "</table>\n",
       "<p>1300 rows × 17 columns</p>\n",
       "</div>"
      ],
      "text/plain": [
       "           imdb_id                             original_title                                      title  ... mpaa_rating_PG  mpaa_rating_PG-13  mpaa_rating_R\n",
       "id                                                                                                        ...                                                 \n",
       "24428    tt0848228                               The Avengers                               The Avengers  ...            0.0                1.0            0.0\n",
       "50620    tt1673434  The Twilight Saga: Breaking Dawn - Part 2  The Twilight Saga: Breaking Dawn - Part 2  ...            0.0                1.0            0.0\n",
       "82690    tt1772341                             Wreck-It Ralph                             Wreck-It Ralph  ...            1.0                0.0            0.0\n",
       "57214    tt1636826                                  Project X                                  Project X  ...            0.0                0.0            1.0\n",
       "49051    tt0903624          The Hobbit: An Unexpected Journey          The Hobbit: An Unexpected Journey  ...            0.0                1.0            0.0\n",
       "...            ...                                        ...                                        ...  ...            ...                ...            ...\n",
       "403300   tt5827916                              A Hidden Life                              A Hidden Life  ...            0.0                1.0            0.0\n",
       "520900   tt6439020  The Personal History of David Copperfield  The Personal History of David Copperfield  ...            1.0                0.0            0.0\n",
       "616584  tt10521814                                       K-12                                       K-12  ...            0.0                0.0            1.0\n",
       "619265  tt10555920                            The Cabin House                            The Cabin House  ...            0.0                0.0            1.0\n",
       "630331  tt10931434                               Cin-Si Bozuk                               Cin-Si Bozuk  ...            0.0                0.0            0.0\n",
       "\n",
       "[1300 rows x 17 columns]"
      ]
     },
     "execution_count": 16,
     "metadata": {},
     "output_type": "execute_result"
    }
   ],
   "source": [
    "## Create df model from original df and df_ohe\n",
    "df_model = pd.concat([df.drop('mpaa_rating',axis=1),df_ohe],axis=1)\n",
    "df_model"
   ]
  },
  {
   "cell_type": "code",
   "execution_count": 17,
   "metadata": {},
   "outputs": [
    {
     "data": {
      "text/html": [
       "<div>\n",
       "<style scoped>\n",
       "    .dataframe tbody tr th:only-of-type {\n",
       "        vertical-align: middle;\n",
       "    }\n",
       "\n",
       "    .dataframe tbody tr th {\n",
       "        vertical-align: top;\n",
       "    }\n",
       "\n",
       "    .dataframe thead th {\n",
       "        text-align: right;\n",
       "    }\n",
       "</style>\n",
       "<table border=\"1\" class=\"dataframe\">\n",
       "  <thead>\n",
       "    <tr style=\"text-align: right;\">\n",
       "      <th></th>\n",
       "      <th>runtime</th>\n",
       "      <th>budget</th>\n",
       "      <th>revenue</th>\n",
       "      <th>vote_count</th>\n",
       "      <th>vote_average</th>\n",
       "      <th>popularity</th>\n",
       "      <th>mpaa_rating_NC-17</th>\n",
       "      <th>mpaa_rating_NR</th>\n",
       "      <th>mpaa_rating_PG</th>\n",
       "      <th>mpaa_rating_PG-13</th>\n",
       "      <th>mpaa_rating_R</th>\n",
       "    </tr>\n",
       "    <tr>\n",
       "      <th>id</th>\n",
       "      <th></th>\n",
       "      <th></th>\n",
       "      <th></th>\n",
       "      <th></th>\n",
       "      <th></th>\n",
       "      <th></th>\n",
       "      <th></th>\n",
       "      <th></th>\n",
       "      <th></th>\n",
       "      <th></th>\n",
       "      <th></th>\n",
       "    </tr>\n",
       "  </thead>\n",
       "  <tbody>\n",
       "    <tr>\n",
       "      <th>24428</th>\n",
       "      <td>143.0</td>\n",
       "      <td>220000000</td>\n",
       "      <td>1518815515</td>\n",
       "      <td>24252</td>\n",
       "      <td>7.7</td>\n",
       "      <td>151.095</td>\n",
       "      <td>0.0</td>\n",
       "      <td>0.0</td>\n",
       "      <td>0.0</td>\n",
       "      <td>1.0</td>\n",
       "      <td>0.0</td>\n",
       "    </tr>\n",
       "    <tr>\n",
       "      <th>50620</th>\n",
       "      <td>115.0</td>\n",
       "      <td>120000000</td>\n",
       "      <td>829000000</td>\n",
       "      <td>6978</td>\n",
       "      <td>6.5</td>\n",
       "      <td>73.226</td>\n",
       "      <td>0.0</td>\n",
       "      <td>0.0</td>\n",
       "      <td>0.0</td>\n",
       "      <td>1.0</td>\n",
       "      <td>0.0</td>\n",
       "    </tr>\n",
       "    <tr>\n",
       "      <th>82690</th>\n",
       "      <td>101.0</td>\n",
       "      <td>165000000</td>\n",
       "      <td>471222889</td>\n",
       "      <td>9690</td>\n",
       "      <td>7.3</td>\n",
       "      <td>70.21300000000001</td>\n",
       "      <td>0.0</td>\n",
       "      <td>0.0</td>\n",
       "      <td>1.0</td>\n",
       "      <td>0.0</td>\n",
       "      <td>0.0</td>\n",
       "    </tr>\n",
       "    <tr>\n",
       "      <th>57214</th>\n",
       "      <td>88.0</td>\n",
       "      <td>12000000</td>\n",
       "      <td>100000000</td>\n",
       "      <td>4399</td>\n",
       "      <td>6.7</td>\n",
       "      <td>67.687</td>\n",
       "      <td>0.0</td>\n",
       "      <td>0.0</td>\n",
       "      <td>0.0</td>\n",
       "      <td>0.0</td>\n",
       "      <td>1.0</td>\n",
       "    </tr>\n",
       "    <tr>\n",
       "      <th>49051</th>\n",
       "      <td>169.0</td>\n",
       "      <td>250000000</td>\n",
       "      <td>1021103568</td>\n",
       "      <td>14539</td>\n",
       "      <td>7.3</td>\n",
       "      <td>61.052</td>\n",
       "      <td>0.0</td>\n",
       "      <td>0.0</td>\n",
       "      <td>0.0</td>\n",
       "      <td>1.0</td>\n",
       "      <td>0.0</td>\n",
       "    </tr>\n",
       "    <tr>\n",
       "      <th>...</th>\n",
       "      <td>...</td>\n",
       "      <td>...</td>\n",
       "      <td>...</td>\n",
       "      <td>...</td>\n",
       "      <td>...</td>\n",
       "      <td>...</td>\n",
       "      <td>...</td>\n",
       "      <td>...</td>\n",
       "      <td>...</td>\n",
       "      <td>...</td>\n",
       "      <td>...</td>\n",
       "    </tr>\n",
       "    <tr>\n",
       "      <th>403300</th>\n",
       "      <td>174.0</td>\n",
       "      <td>9000000</td>\n",
       "      <td>4612788</td>\n",
       "      <td>370</td>\n",
       "      <td>7.2</td>\n",
       "      <td>15.434000000000001</td>\n",
       "      <td>0.0</td>\n",
       "      <td>0.0</td>\n",
       "      <td>0.0</td>\n",
       "      <td>1.0</td>\n",
       "      <td>0.0</td>\n",
       "    </tr>\n",
       "    <tr>\n",
       "      <th>520900</th>\n",
       "      <td>119.0</td>\n",
       "      <td>15600000</td>\n",
       "      <td>11620337</td>\n",
       "      <td>211</td>\n",
       "      <td>6.7</td>\n",
       "      <td>15.075999999999999</td>\n",
       "      <td>0.0</td>\n",
       "      <td>0.0</td>\n",
       "      <td>1.0</td>\n",
       "      <td>0.0</td>\n",
       "      <td>0.0</td>\n",
       "    </tr>\n",
       "    <tr>\n",
       "      <th>616584</th>\n",
       "      <td>92.0</td>\n",
       "      <td>50000</td>\n",
       "      <td>359377</td>\n",
       "      <td>171</td>\n",
       "      <td>7.6</td>\n",
       "      <td>14.822000000000001</td>\n",
       "      <td>0.0</td>\n",
       "      <td>0.0</td>\n",
       "      <td>0.0</td>\n",
       "      <td>0.0</td>\n",
       "      <td>1.0</td>\n",
       "    </tr>\n",
       "    <tr>\n",
       "      <th>619265</th>\n",
       "      <td>120.0</td>\n",
       "      <td>13000000</td>\n",
       "      <td>13000000</td>\n",
       "      <td>0</td>\n",
       "      <td>0.0</td>\n",
       "      <td>2.0709999999999997</td>\n",
       "      <td>0.0</td>\n",
       "      <td>0.0</td>\n",
       "      <td>0.0</td>\n",
       "      <td>0.0</td>\n",
       "      <td>1.0</td>\n",
       "    </tr>\n",
       "    <tr>\n",
       "      <th>630331</th>\n",
       "      <td>95.0</td>\n",
       "      <td>46</td>\n",
       "      <td>5</td>\n",
       "      <td>0</td>\n",
       "      <td>0.0</td>\n",
       "      <td>0.622</td>\n",
       "      <td>0.0</td>\n",
       "      <td>1.0</td>\n",
       "      <td>0.0</td>\n",
       "      <td>0.0</td>\n",
       "      <td>0.0</td>\n",
       "    </tr>\n",
       "  </tbody>\n",
       "</table>\n",
       "<p>1300 rows × 11 columns</p>\n",
       "</div>"
      ],
      "text/plain": [
       "        runtime     budget     revenue  vote_count  vote_average         popularity  mpaa_rating_NC-17  mpaa_rating_NR  mpaa_rating_PG  mpaa_rating_PG-13  mpaa_rating_R\n",
       "id                                                                                                                                                                      \n",
       "24428     143.0  220000000  1518815515       24252           7.7            151.095                0.0             0.0             0.0                1.0            0.0\n",
       "50620     115.0  120000000   829000000        6978           6.5             73.226                0.0             0.0             0.0                1.0            0.0\n",
       "82690     101.0  165000000   471222889        9690           7.3  70.21300000000001                0.0             0.0             1.0                0.0            0.0\n",
       "57214      88.0   12000000   100000000        4399           6.7             67.687                0.0             0.0             0.0                0.0            1.0\n",
       "49051     169.0  250000000  1021103568       14539           7.3             61.052                0.0             0.0             0.0                1.0            0.0\n",
       "...         ...        ...         ...         ...           ...                ...                ...             ...             ...                ...            ...\n",
       "403300    174.0    9000000     4612788         370           7.2 15.434000000000001                0.0             0.0             0.0                1.0            0.0\n",
       "520900    119.0   15600000    11620337         211           6.7 15.075999999999999                0.0             0.0             1.0                0.0            0.0\n",
       "616584     92.0      50000      359377         171           7.6 14.822000000000001                0.0             0.0             0.0                0.0            1.0\n",
       "619265    120.0   13000000    13000000           0           0.0 2.0709999999999997                0.0             0.0             0.0                0.0            1.0\n",
       "630331     95.0         46           5           0           0.0              0.622                0.0             1.0             0.0                0.0            0.0\n",
       "\n",
       "[1300 rows x 11 columns]"
      ]
     },
     "execution_count": 17,
     "metadata": {},
     "output_type": "execute_result"
    }
   ],
   "source": [
    "## Drop columns we don't want to use in the model\n",
    "drop_cols = ['title','imdb_id','original_title','release_date','adult',\n",
    "             'original_language']\n",
    "df_model.drop(columns=drop_cols,inplace=True)\n",
    "df_model"
   ]
  },
  {
   "cell_type": "code",
   "execution_count": 18,
   "metadata": {},
   "outputs": [
    {
     "data": {
      "text/html": [
       "<div>\n",
       "<style scoped>\n",
       "    .dataframe tbody tr th:only-of-type {\n",
       "        vertical-align: middle;\n",
       "    }\n",
       "\n",
       "    .dataframe tbody tr th {\n",
       "        vertical-align: top;\n",
       "    }\n",
       "\n",
       "    .dataframe thead th {\n",
       "        text-align: right;\n",
       "    }\n",
       "</style>\n",
       "<table border=\"1\" class=\"dataframe\">\n",
       "  <thead>\n",
       "    <tr style=\"text-align: right;\">\n",
       "      <th></th>\n",
       "      <th>runtime</th>\n",
       "      <th>budget</th>\n",
       "      <th>revenue</th>\n",
       "      <th>vote_count</th>\n",
       "      <th>vote_average</th>\n",
       "      <th>popularity</th>\n",
       "      <th>mpaa_rating_NC-17</th>\n",
       "      <th>mpaa_rating_NR</th>\n",
       "      <th>mpaa_rating_PG</th>\n",
       "      <th>mpaa_rating_PG-13</th>\n",
       "      <th>mpaa_rating_R</th>\n",
       "    </tr>\n",
       "  </thead>\n",
       "  <tbody>\n",
       "    <tr>\n",
       "      <th>count</th>\n",
       "      <td>1,300.0</td>\n",
       "      <td>1,300.0</td>\n",
       "      <td>1,300.0</td>\n",
       "      <td>1,300.0</td>\n",
       "      <td>1,300.0</td>\n",
       "      <td>1,300.0</td>\n",
       "      <td>1,300.0</td>\n",
       "      <td>1,300.0</td>\n",
       "      <td>1,300.0</td>\n",
       "      <td>1,300.0</td>\n",
       "      <td>1,300.0</td>\n",
       "    </tr>\n",
       "    <tr>\n",
       "      <th>mean</th>\n",
       "      <td>109.34153846153846</td>\n",
       "      <td>45,900,017.192307696</td>\n",
       "      <td>155,390,520.90076923</td>\n",
       "      <td>3,048.479230769231</td>\n",
       "      <td>6.407538461538461</td>\n",
       "      <td>34.06769615384615</td>\n",
       "      <td>0.0007692307692307692</td>\n",
       "      <td>0.016923076923076923</td>\n",
       "      <td>0.13307692307692306</td>\n",
       "      <td>0.3830769230769231</td>\n",
       "      <td>0.4592307692307692</td>\n",
       "    </tr>\n",
       "    <tr>\n",
       "      <th>std</th>\n",
       "      <td>16.982950217591988</td>\n",
       "      <td>55,641,755.675761335</td>\n",
       "      <td>267,617,277.28683838</td>\n",
       "      <td>3,757.7980193390854</td>\n",
       "      <td>0.940552522610109</td>\n",
       "      <td>37.70137389978608</td>\n",
       "      <td>0.027735009811261455</td>\n",
       "      <td>0.12903291709239778</td>\n",
       "      <td>0.33978856386766754</td>\n",
       "      <td>0.48632388956748096</td>\n",
       "      <td>0.49852687591716155</td>\n",
       "    </tr>\n",
       "    <tr>\n",
       "      <th>min</th>\n",
       "      <td>78.0</td>\n",
       "      <td>10.0</td>\n",
       "      <td>1.0</td>\n",
       "      <td>0.0</td>\n",
       "      <td>0.0</td>\n",
       "      <td>0.6</td>\n",
       "      <td>0.0</td>\n",
       "      <td>0.0</td>\n",
       "      <td>0.0</td>\n",
       "      <td>0.0</td>\n",
       "      <td>0.0</td>\n",
       "    </tr>\n",
       "    <tr>\n",
       "      <th>25%</th>\n",
       "      <td>96.0</td>\n",
       "      <td>10,000,000.0</td>\n",
       "      <td>10,276,110.0</td>\n",
       "      <td>602.0</td>\n",
       "      <td>5.9</td>\n",
       "      <td>14.20425</td>\n",
       "      <td>0.0</td>\n",
       "      <td>0.0</td>\n",
       "      <td>0.0</td>\n",
       "      <td>0.0</td>\n",
       "      <td>0.0</td>\n",
       "    </tr>\n",
       "    <tr>\n",
       "      <th>50%</th>\n",
       "      <td>107.0</td>\n",
       "      <td>25,000,000.0</td>\n",
       "      <td>52,410,264.5</td>\n",
       "      <td>1,638.5</td>\n",
       "      <td>6.4</td>\n",
       "      <td>22.548499999999997</td>\n",
       "      <td>0.0</td>\n",
       "      <td>0.0</td>\n",
       "      <td>0.0</td>\n",
       "      <td>0.0</td>\n",
       "      <td>0.0</td>\n",
       "    </tr>\n",
       "    <tr>\n",
       "      <th>75%</th>\n",
       "      <td>119.0</td>\n",
       "      <td>58,850,000.0</td>\n",
       "      <td>170,262,729.25</td>\n",
       "      <td>4,059.5</td>\n",
       "      <td>7.0</td>\n",
       "      <td>38.3885</td>\n",
       "      <td>0.0</td>\n",
       "      <td>0.0</td>\n",
       "      <td>0.0</td>\n",
       "      <td>1.0</td>\n",
       "      <td>1.0</td>\n",
       "    </tr>\n",
       "    <tr>\n",
       "      <th>max</th>\n",
       "      <td>188.0</td>\n",
       "      <td>356,000,000.0</td>\n",
       "      <td>2,797,800,564.0</td>\n",
       "      <td>25,296.0</td>\n",
       "      <td>9.0</td>\n",
       "      <td>397.25699999999995</td>\n",
       "      <td>1.0</td>\n",
       "      <td>1.0</td>\n",
       "      <td>1.0</td>\n",
       "      <td>1.0</td>\n",
       "      <td>1.0</td>\n",
       "    </tr>\n",
       "  </tbody>\n",
       "</table>\n",
       "</div>"
      ],
      "text/plain": [
       "                 runtime               budget              revenue          vote_count  ...       mpaa_rating_NR      mpaa_rating_PG   mpaa_rating_PG-13       mpaa_rating_R\n",
       "count            1,300.0              1,300.0              1,300.0             1,300.0  ...              1,300.0             1,300.0             1,300.0             1,300.0\n",
       "mean  109.34153846153846 45,900,017.192307696 155,390,520.90076923  3,048.479230769231  ... 0.016923076923076923 0.13307692307692306  0.3830769230769231  0.4592307692307692\n",
       "std   16.982950217591988 55,641,755.675761335 267,617,277.28683838 3,757.7980193390854  ...  0.12903291709239778 0.33978856386766754 0.48632388956748096 0.49852687591716155\n",
       "min                 78.0                 10.0                  1.0                 0.0  ...                  0.0                 0.0                 0.0                 0.0\n",
       "25%                 96.0         10,000,000.0         10,276,110.0               602.0  ...                  0.0                 0.0                 0.0                 0.0\n",
       "50%                107.0         25,000,000.0         52,410,264.5             1,638.5  ...                  0.0                 0.0                 0.0                 0.0\n",
       "75%                119.0         58,850,000.0       170,262,729.25             4,059.5  ...                  0.0                 0.0                 1.0                 1.0\n",
       "max                188.0        356,000,000.0      2,797,800,564.0            25,296.0  ...                  1.0                 1.0                 1.0                 1.0\n",
       "\n",
       "[8 rows x 11 columns]"
      ]
     },
     "execution_count": 18,
     "metadata": {},
     "output_type": "execute_result"
    }
   ],
   "source": [
    "df_model.describe()"
   ]
  },
  {
   "cell_type": "markdown",
   "metadata": {},
   "source": [
    "## New Assumption: No Multicollinearity"
   ]
  },
  {
   "cell_type": "markdown",
   "metadata": {
    "colab_type": "text",
    "id": "iiPVlei9bA7g"
   },
   "source": [
    "### Multicollinearity\n",
    "- An additional concern to check for.\n",
    "- Rule of thumb is if correlation between vars is >0.70 is too high\n"
   ]
  },
  {
   "cell_type": "code",
   "execution_count": 19,
   "metadata": {
    "ExecuteTime": {
     "end_time": "2020-08-20T17:39:03.605945Z",
     "start_time": "2020-08-20T17:39:03.599377Z"
    },
    "colab": {},
    "colab_type": "code",
    "id": "cA9VUoPIa8kE"
   },
   "outputs": [
    {
     "data": {
      "text/html": [
       "<div>\n",
       "<style scoped>\n",
       "    .dataframe tbody tr th:only-of-type {\n",
       "        vertical-align: middle;\n",
       "    }\n",
       "\n",
       "    .dataframe tbody tr th {\n",
       "        vertical-align: top;\n",
       "    }\n",
       "\n",
       "    .dataframe thead th {\n",
       "        text-align: right;\n",
       "    }\n",
       "</style>\n",
       "<table border=\"1\" class=\"dataframe\">\n",
       "  <thead>\n",
       "    <tr style=\"text-align: right;\">\n",
       "      <th></th>\n",
       "      <th>runtime</th>\n",
       "      <th>budget</th>\n",
       "      <th>vote_count</th>\n",
       "      <th>vote_average</th>\n",
       "      <th>popularity</th>\n",
       "      <th>mpaa_rating_NC-17</th>\n",
       "      <th>mpaa_rating_NR</th>\n",
       "      <th>mpaa_rating_PG</th>\n",
       "      <th>mpaa_rating_PG-13</th>\n",
       "      <th>mpaa_rating_R</th>\n",
       "    </tr>\n",
       "  </thead>\n",
       "  <tbody>\n",
       "    <tr>\n",
       "      <th>runtime</th>\n",
       "      <td>1.0</td>\n",
       "      <td>0.41</td>\n",
       "      <td>0.45</td>\n",
       "      <td>0.38</td>\n",
       "      <td>0.28</td>\n",
       "      <td>0.04</td>\n",
       "      <td>-0.08</td>\n",
       "      <td>-0.18</td>\n",
       "      <td>0.17</td>\n",
       "      <td>-0.02</td>\n",
       "    </tr>\n",
       "    <tr>\n",
       "      <th>budget</th>\n",
       "      <td>0.41</td>\n",
       "      <td>1.0</td>\n",
       "      <td>0.64</td>\n",
       "      <td>0.19</td>\n",
       "      <td>0.53</td>\n",
       "      <td>-0.02</td>\n",
       "      <td>-0.09</td>\n",
       "      <td>0.18</td>\n",
       "      <td>0.25</td>\n",
       "      <td>-0.36</td>\n",
       "    </tr>\n",
       "    <tr>\n",
       "      <th>vote_count</th>\n",
       "      <td>0.45</td>\n",
       "      <td>0.64</td>\n",
       "      <td>1.0</td>\n",
       "      <td>0.43</td>\n",
       "      <td>0.51</td>\n",
       "      <td>-0.01</td>\n",
       "      <td>-0.09</td>\n",
       "      <td>-0.02</td>\n",
       "      <td>0.17</td>\n",
       "      <td>-0.13</td>\n",
       "    </tr>\n",
       "    <tr>\n",
       "      <th>vote_average</th>\n",
       "      <td>0.38</td>\n",
       "      <td>0.19</td>\n",
       "      <td>0.43</td>\n",
       "      <td>1.0</td>\n",
       "      <td>0.25</td>\n",
       "      <td>-0.0</td>\n",
       "      <td>-0.12</td>\n",
       "      <td>0.08</td>\n",
       "      <td>0.04</td>\n",
       "      <td>-0.07</td>\n",
       "    </tr>\n",
       "    <tr>\n",
       "      <th>popularity</th>\n",
       "      <td>0.28</td>\n",
       "      <td>0.53</td>\n",
       "      <td>0.51</td>\n",
       "      <td>0.25</td>\n",
       "      <td>1.0</td>\n",
       "      <td>-0.02</td>\n",
       "      <td>-0.08</td>\n",
       "      <td>-0.0</td>\n",
       "      <td>0.14</td>\n",
       "      <td>-0.12</td>\n",
       "    </tr>\n",
       "    <tr>\n",
       "      <th>mpaa_rating_NC-17</th>\n",
       "      <td>0.04</td>\n",
       "      <td>-0.02</td>\n",
       "      <td>-0.01</td>\n",
       "      <td>-0.0</td>\n",
       "      <td>-0.02</td>\n",
       "      <td>1.0</td>\n",
       "      <td>-0.0</td>\n",
       "      <td>-0.01</td>\n",
       "      <td>-0.02</td>\n",
       "      <td>-0.03</td>\n",
       "    </tr>\n",
       "    <tr>\n",
       "      <th>mpaa_rating_NR</th>\n",
       "      <td>-0.08</td>\n",
       "      <td>-0.09</td>\n",
       "      <td>-0.09</td>\n",
       "      <td>-0.12</td>\n",
       "      <td>-0.08</td>\n",
       "      <td>-0.0</td>\n",
       "      <td>1.0</td>\n",
       "      <td>-0.05</td>\n",
       "      <td>-0.1</td>\n",
       "      <td>-0.12</td>\n",
       "    </tr>\n",
       "    <tr>\n",
       "      <th>mpaa_rating_PG</th>\n",
       "      <td>-0.18</td>\n",
       "      <td>0.18</td>\n",
       "      <td>-0.02</td>\n",
       "      <td>0.08</td>\n",
       "      <td>-0.0</td>\n",
       "      <td>-0.01</td>\n",
       "      <td>-0.05</td>\n",
       "      <td>1.0</td>\n",
       "      <td>-0.31</td>\n",
       "      <td>-0.36</td>\n",
       "    </tr>\n",
       "    <tr>\n",
       "      <th>mpaa_rating_PG-13</th>\n",
       "      <td>0.17</td>\n",
       "      <td>0.25</td>\n",
       "      <td>0.17</td>\n",
       "      <td>0.04</td>\n",
       "      <td>0.14</td>\n",
       "      <td>-0.02</td>\n",
       "      <td>-0.1</td>\n",
       "      <td>-0.31</td>\n",
       "      <td>1.0</td>\n",
       "      <td>-0.73</td>\n",
       "    </tr>\n",
       "    <tr>\n",
       "      <th>mpaa_rating_R</th>\n",
       "      <td>-0.02</td>\n",
       "      <td>-0.36</td>\n",
       "      <td>-0.13</td>\n",
       "      <td>-0.07</td>\n",
       "      <td>-0.12</td>\n",
       "      <td>-0.03</td>\n",
       "      <td>-0.12</td>\n",
       "      <td>-0.36</td>\n",
       "      <td>-0.73</td>\n",
       "      <td>1.0</td>\n",
       "    </tr>\n",
       "  </tbody>\n",
       "</table>\n",
       "</div>"
      ],
      "text/plain": [
       "                   runtime  budget  vote_count  vote_average  popularity  mpaa_rating_NC-17  mpaa_rating_NR  mpaa_rating_PG  mpaa_rating_PG-13  mpaa_rating_R\n",
       "runtime                1.0    0.41        0.45          0.38        0.28               0.04           -0.08           -0.18               0.17          -0.02\n",
       "budget                0.41     1.0        0.64          0.19        0.53              -0.02           -0.09            0.18               0.25          -0.36\n",
       "vote_count            0.45    0.64         1.0          0.43        0.51              -0.01           -0.09           -0.02               0.17          -0.13\n",
       "vote_average          0.38    0.19        0.43           1.0        0.25               -0.0           -0.12            0.08               0.04          -0.07\n",
       "popularity            0.28    0.53        0.51          0.25         1.0              -0.02           -0.08            -0.0               0.14          -0.12\n",
       "mpaa_rating_NC-17     0.04   -0.02       -0.01          -0.0       -0.02                1.0            -0.0           -0.01              -0.02          -0.03\n",
       "mpaa_rating_NR       -0.08   -0.09       -0.09         -0.12       -0.08               -0.0             1.0           -0.05               -0.1          -0.12\n",
       "mpaa_rating_PG       -0.18    0.18       -0.02          0.08        -0.0              -0.01           -0.05             1.0              -0.31          -0.36\n",
       "mpaa_rating_PG-13     0.17    0.25        0.17          0.04        0.14              -0.02            -0.1           -0.31                1.0          -0.73\n",
       "mpaa_rating_R        -0.02   -0.36       -0.13         -0.07       -0.12              -0.03           -0.12           -0.36              -0.73            1.0"
      ]
     },
     "execution_count": 19,
     "metadata": {},
     "output_type": "execute_result"
    }
   ],
   "source": [
    "## Get the correlation matrix for our model_df (without the target)\n",
    "corr = df_model.drop('revenue',axis=1).corr()\n",
    "corr.round(2)"
   ]
  },
  {
   "cell_type": "code",
   "execution_count": 20,
   "metadata": {
    "ExecuteTime": {
     "end_time": "2020-08-20T17:39:03.945262Z",
     "start_time": "2020-08-20T17:39:03.639246Z"
    },
    "colab": {},
    "colab_type": "code",
    "id": "cA9VUoPIa8kE"
   },
   "outputs": [
    {
     "data": {
      "text/plain": [
       "<AxesSubplot:>"
      ]
     },
     "execution_count": 20,
     "metadata": {},
     "output_type": "execute_result"
    },
    {
     "data": {
      "image/png": "[encoded data removed]",
      "text/plain": [
       "<Figure size 576x396 with 2 Axes>"
      ]
     },
     "metadata": {
      "needs_background": "light"
     },
     "output_type": "display_data"
    }
   ],
   "source": [
    "## Plot this as a heatmap\n",
    "sns.heatmap(corr,annot=True,cmap='Reds')"
   ]
  },
  {
   "cell_type": "code",
   "execution_count": 21,
   "metadata": {
    "ExecuteTime": {
     "end_time": "2020-08-20T17:39:03.605945Z",
     "start_time": "2020-08-20T17:39:03.599377Z"
    },
    "colab": {},
    "colab_type": "code",
    "id": "cA9VUoPIa8kE"
   },
   "outputs": [
    {
     "data": {
      "text/plain": [
       "array([[0., 0., 0., 0., 0., 0., 0., 0., 0., 0.],\n",
       "       [0., 0., 0., 0., 0., 0., 0., 0., 0., 0.],\n",
       "       [0., 0., 0., 0., 0., 0., 0., 0., 0., 0.],\n",
       "       [0., 0., 0., 0., 0., 0., 0., 0., 0., 0.],\n",
       "       [0., 0., 0., 0., 0., 0., 0., 0., 0., 0.],\n",
       "       [0., 0., 0., 0., 0., 0., 0., 0., 0., 0.],\n",
       "       [0., 0., 0., 0., 0., 0., 0., 0., 0., 0.],\n",
       "       [0., 0., 0., 0., 0., 0., 0., 0., 0., 0.],\n",
       "       [0., 0., 0., 0., 0., 0., 0., 0., 0., 0.],\n",
       "       [0., 0., 0., 0., 0., 0., 0., 0., 0., 0.]])"
      ]
     },
     "execution_count": 21,
     "metadata": {},
     "output_type": "execute_result"
    }
   ],
   "source": [
    "## Create a mask to make the multiplot easier to look at \n",
    "mask = np.zeros_like(corr)\n",
    "mask"
   ]
  },
  {
   "cell_type": "code",
   "execution_count": 22,
   "metadata": {
    "ExecuteTime": {
     "end_time": "2020-08-20T17:39:03.624130Z",
     "start_time": "2020-08-20T17:39:03.608451Z"
    }
   },
   "outputs": [
    {
     "data": {
      "text/plain": [
       "array([[1., 1., 1., 1., 1., 1., 1., 1., 1., 1.],\n",
       "       [0., 1., 1., 1., 1., 1., 1., 1., 1., 1.],\n",
       "       [0., 0., 1., 1., 1., 1., 1., 1., 1., 1.],\n",
       "       [0., 0., 0., 1., 1., 1., 1., 1., 1., 1.],\n",
       "       [0., 0., 0., 0., 1., 1., 1., 1., 1., 1.],\n",
       "       [0., 0., 0., 0., 0., 1., 1., 1., 1., 1.],\n",
       "       [0., 0., 0., 0., 0., 0., 1., 1., 1., 1.],\n",
       "       [0., 0., 0., 0., 0., 0., 0., 1., 1., 1.],\n",
       "       [0., 0., 0., 0., 0., 0., 0., 0., 1., 1.],\n",
       "       [0., 0., 0., 0., 0., 0., 0., 0., 0., 1.]])"
      ]
     },
     "execution_count": 22,
     "metadata": {},
     "output_type": "execute_result"
    }
   ],
   "source": [
    "## Fill in the upper right cells with True\n",
    "mask[np.triu_indices_from(mask)] = True\n",
    "mask"
   ]
  },
  {
   "cell_type": "code",
   "execution_count": 23,
   "metadata": {},
   "outputs": [
    {
     "data": {
      "text/plain": [
       "<AxesSubplot:>"
      ]
     },
     "execution_count": 23,
     "metadata": {},
     "output_type": "execute_result"
    },
    {
     "data": {
      "image/png": "[encoded data removed]",
      "text/plain": [
       "<Figure size 576x396 with 2 Axes>"
      ]
     },
     "metadata": {
      "needs_background": "light"
     },
     "output_type": "display_data"
    }
   ],
   "source": [
    "## Plot again, with the mask\n",
    "sns.heatmap(corr,annot=True,cmap='Reds',mask=mask)"
   ]
  },
  {
   "cell_type": "code",
   "execution_count": 24,
   "metadata": {
    "ExecuteTime": {
     "end_time": "2020-08-20T17:39:03.949363Z",
     "start_time": "2020-08-20T17:39:03.946916Z"
    }
   },
   "outputs": [
    {
     "data": {
      "text/plain": [
       "(<Figure size 720x720 with 2 Axes>, <AxesSubplot:>)"
      ]
     },
     "execution_count": 24,
     "metadata": {},
     "output_type": "execute_result"
    },
    {
     "data": {
      "image/png": "[encoded data removed]",
      "text/plain": [
       "<Figure size 720x720 with 2 Axes>"
      ]
     },
     "metadata": {
      "needs_background": "light"
     },
     "output_type": "display_data"
    }
   ],
   "source": [
    "# Functionize\n",
    "\n",
    "def multiplot(df_model,figsize=(10,10),cmap=\"Reds\"):\n",
    "    \n",
    "    corr = df_model.corr()\n",
    "    mask = np.zeros_like(corr)\n",
    "    mask[np.triu_indices_from(mask)] = True\n",
    "\n",
    "    fig, ax = plt.subplots(figsize=figsize)\n",
    "    sns.heatmap(corr, annot=True,cmap=\"Reds\",mask=mask)\n",
    "    return fig, ax\n",
    "\n",
    "\n",
    "multiplot(df_model.drop('revenue',axis=1))"
   ]
  },
  {
   "cell_type": "code",
   "execution_count": 27,
   "metadata": {},
   "outputs": [],
   "source": [
    "# multiplot(df_model)"
   ]
  },
  {
   "cell_type": "code",
   "execution_count": 28,
   "metadata": {},
   "outputs": [
    {
     "data": {
      "text/plain": [
       "runtime        0.36\n",
       "budget         0.79\n",
       "revenue         1.0\n",
       "vote_count     0.78\n",
       "vote_average   0.29\n",
       "popularity     0.58\n",
       "adult           nan\n",
       "Name: revenue, dtype: float64"
      ]
     },
     "execution_count": 28,
     "metadata": {},
     "output_type": "execute_result"
    }
   ],
   "source": [
    "df.corr()['revenue'].round(2)"
   ]
  },
  {
   "cell_type": "code",
   "execution_count": 29,
   "metadata": {},
   "outputs": [],
   "source": [
    "# ## Drop any multicollinear features\n",
    "# # None\n",
    "\n",
    "# ## Create a string representing the right side of the ~ in our formula\n",
    "# features = ' + '.join(df_model.drop('revenue',axis=1).columns)\n",
    "\n",
    "# ## Create the final formula and create the model\n",
    "# f  = \"revenue~\"+features\n",
    "\n",
    "# model = smf.ols(f, df_model).fit()\n",
    "# model.summary()"
   ]
  },
  {
   "cell_type": "markdown",
   "metadata": {},
   "source": [
    "> RUH ROH!"
   ]
  },
  {
   "cell_type": "markdown",
   "metadata": {},
   "source": [
    "### Fixing Statsmodels Formulas"
   ]
  },
  {
   "cell_type": "code",
   "execution_count": 30,
   "metadata": {},
   "outputs": [
    {
     "data": {
      "text/plain": [
       "Index(['imdb_id', 'original_title', 'title', 'mpaa_rating', 'release_date',\n",
       "       'runtime', 'budget', 'revenue', 'vote_count', 'vote_average',\n",
       "       'popularity', 'adult', 'original_language'],\n",
       "      dtype='object')"
      ]
     },
     "execution_count": 30,
     "metadata": {},
     "output_type": "execute_result"
    }
   ],
   "source": [
    "##Fix df column names so there are no spaces\n",
    "df.columns"
   ]
  },
  {
   "cell_type": "code",
   "execution_count": 31,
   "metadata": {},
   "outputs": [
    {
     "data": {
      "text/plain": [
       "array(['PG-13', 'PG', 'R', 'NR', 'G', 'NC-17'], dtype=object)"
      ]
     },
     "execution_count": 31,
     "metadata": {},
     "output_type": "execute_result"
    }
   ],
   "source": [
    "## Create a dict with new ratings names from the mpaa_rating col\n",
    "ratings_list = df['mpaa_rating'].unique()\n",
    "ratings_list"
   ]
  },
  {
   "cell_type": "code",
   "execution_count": 32,
   "metadata": {},
   "outputs": [
    {
     "data": {
      "text/plain": [
       "{'PG-13': 'PG_13',\n",
       " 'PG': 'PG',\n",
       " 'R': 'R',\n",
       " 'NR': 'NR',\n",
       " 'G': 'G',\n",
       " 'NC-17': 'NC_17'}"
      ]
     },
     "execution_count": 32,
     "metadata": {},
     "output_type": "execute_result"
    }
   ],
   "source": [
    "## Replace the original mpaa_rating col\n",
    "rating_map = {}\n",
    "for rating in ratings_list:\n",
    "    rating_map[rating] = rating.replace('-','_')\n",
    "rating_map"
   ]
  },
  {
   "cell_type": "code",
   "execution_count": 33,
   "metadata": {},
   "outputs": [
    {
     "data": {
      "text/plain": [
       "array(['PG_13', 'PG', 'R', 'NR', 'G', 'NC_17'], dtype=object)"
      ]
     },
     "execution_count": 33,
     "metadata": {},
     "output_type": "execute_result"
    }
   ],
   "source": [
    "df['mpaa_rating'] = df['mpaa_rating'].replace(rating_map)\n",
    "df['mpaa_rating'].unique()"
   ]
  },
  {
   "cell_type": "markdown",
   "metadata": {},
   "source": [
    "### Prepare df_model again"
   ]
  },
  {
   "cell_type": "code",
   "execution_count": 34,
   "metadata": {},
   "outputs": [
    {
     "data": {
      "text/html": [
       "<div>\n",
       "<style scoped>\n",
       "    .dataframe tbody tr th:only-of-type {\n",
       "        vertical-align: middle;\n",
       "    }\n",
       "\n",
       "    .dataframe tbody tr th {\n",
       "        vertical-align: top;\n",
       "    }\n",
       "\n",
       "    .dataframe thead th {\n",
       "        text-align: right;\n",
       "    }\n",
       "</style>\n",
       "<table border=\"1\" class=\"dataframe\">\n",
       "  <thead>\n",
       "    <tr style=\"text-align: right;\">\n",
       "      <th></th>\n",
       "      <th>runtime</th>\n",
       "      <th>budget</th>\n",
       "      <th>revenue</th>\n",
       "      <th>vote_count</th>\n",
       "      <th>vote_average</th>\n",
       "      <th>popularity</th>\n",
       "      <th>mpaa_rating_NC_17</th>\n",
       "      <th>mpaa_rating_NR</th>\n",
       "      <th>mpaa_rating_PG</th>\n",
       "      <th>mpaa_rating_PG_13</th>\n",
       "      <th>mpaa_rating_R</th>\n",
       "    </tr>\n",
       "    <tr>\n",
       "      <th>id</th>\n",
       "      <th></th>\n",
       "      <th></th>\n",
       "      <th></th>\n",
       "      <th></th>\n",
       "      <th></th>\n",
       "      <th></th>\n",
       "      <th></th>\n",
       "      <th></th>\n",
       "      <th></th>\n",
       "      <th></th>\n",
       "      <th></th>\n",
       "    </tr>\n",
       "  </thead>\n",
       "  <tbody>\n",
       "    <tr>\n",
       "      <th>24428</th>\n",
       "      <td>143.0</td>\n",
       "      <td>220000000</td>\n",
       "      <td>1518815515</td>\n",
       "      <td>24252</td>\n",
       "      <td>7.7</td>\n",
       "      <td>151.095</td>\n",
       "      <td>0.0</td>\n",
       "      <td>0.0</td>\n",
       "      <td>0.0</td>\n",
       "      <td>1.0</td>\n",
       "      <td>0.0</td>\n",
       "    </tr>\n",
       "    <tr>\n",
       "      <th>50620</th>\n",
       "      <td>115.0</td>\n",
       "      <td>120000000</td>\n",
       "      <td>829000000</td>\n",
       "      <td>6978</td>\n",
       "      <td>6.5</td>\n",
       "      <td>73.226</td>\n",
       "      <td>0.0</td>\n",
       "      <td>0.0</td>\n",
       "      <td>0.0</td>\n",
       "      <td>1.0</td>\n",
       "      <td>0.0</td>\n",
       "    </tr>\n",
       "    <tr>\n",
       "      <th>82690</th>\n",
       "      <td>101.0</td>\n",
       "      <td>165000000</td>\n",
       "      <td>471222889</td>\n",
       "      <td>9690</td>\n",
       "      <td>7.3</td>\n",
       "      <td>70.21300000000001</td>\n",
       "      <td>0.0</td>\n",
       "      <td>0.0</td>\n",
       "      <td>1.0</td>\n",
       "      <td>0.0</td>\n",
       "      <td>0.0</td>\n",
       "    </tr>\n",
       "    <tr>\n",
       "      <th>57214</th>\n",
       "      <td>88.0</td>\n",
       "      <td>12000000</td>\n",
       "      <td>100000000</td>\n",
       "      <td>4399</td>\n",
       "      <td>6.7</td>\n",
       "      <td>67.687</td>\n",
       "      <td>0.0</td>\n",
       "      <td>0.0</td>\n",
       "      <td>0.0</td>\n",
       "      <td>0.0</td>\n",
       "      <td>1.0</td>\n",
       "    </tr>\n",
       "    <tr>\n",
       "      <th>49051</th>\n",
       "      <td>169.0</td>\n",
       "      <td>250000000</td>\n",
       "      <td>1021103568</td>\n",
       "      <td>14539</td>\n",
       "      <td>7.3</td>\n",
       "      <td>61.052</td>\n",
       "      <td>0.0</td>\n",
       "      <td>0.0</td>\n",
       "      <td>0.0</td>\n",
       "      <td>1.0</td>\n",
       "      <td>0.0</td>\n",
       "    </tr>\n",
       "  </tbody>\n",
       "</table>\n",
       "</div>"
      ],
      "text/plain": [
       "       runtime     budget     revenue  vote_count  vote_average        popularity  mpaa_rating_NC_17  mpaa_rating_NR  mpaa_rating_PG  mpaa_rating_PG_13  mpaa_rating_R\n",
       "id                                                                                                                                                                    \n",
       "24428    143.0  220000000  1518815515       24252           7.7           151.095                0.0             0.0             0.0                1.0            0.0\n",
       "50620    115.0  120000000   829000000        6978           6.5            73.226                0.0             0.0             0.0                1.0            0.0\n",
       "82690    101.0  165000000   471222889        9690           7.3 70.21300000000001                0.0             0.0             1.0                0.0            0.0\n",
       "57214     88.0   12000000   100000000        4399           6.7            67.687                0.0             0.0             0.0                0.0            1.0\n",
       "49051    169.0  250000000  1021103568       14539           7.3            61.052                0.0             0.0             0.0                1.0            0.0"
      ]
     },
     "execution_count": 34,
     "metadata": {},
     "output_type": "execute_result"
    }
   ],
   "source": [
    "## Create encoded vars\n",
    "encoder = OneHotEncoder(sparse=False,drop='first')\n",
    "ohe_vars = encoder.fit_transform(df[cat_cols])\n",
    "## make encoded vars a df\n",
    "df_ohe = pd.DataFrame(ohe_vars,columns=encoder.get_feature_names(cat_cols),\n",
    "                     index=df.index)\n",
    "## Create df model from original df and df_ohe\n",
    "df_model = pd.concat([df.drop(columns=cat_cols),df_ohe],axis=1)\n",
    "\n",
    "drop_cols = ['title','imdb_id','original_title','release_date','adult',\n",
    "             'original_language']\n",
    "df_model.drop(columns=drop_cols,inplace=True)\n",
    "df_model.head()"
   ]
  },
  {
   "cell_type": "code",
   "execution_count": 35,
   "metadata": {},
   "outputs": [
    {
     "data": {
      "text/plain": [
       "(<Figure size 720x720 with 2 Axes>, <AxesSubplot:>)"
      ]
     },
     "execution_count": 35,
     "metadata": {},
     "output_type": "execute_result"
    },
    {
     "data": {
      "image/png": "[encoded data removed]",
      "text/plain": [
       "<Figure size 720x720 with 2 Axes>"
      ]
     },
     "metadata": {
      "needs_background": "light"
     },
     "output_type": "display_data"
    }
   ],
   "source": [
    "multiplot(df_model.drop('revenue',axis=1))"
   ]
  },
  {
   "cell_type": "code",
   "execution_count": 36,
   "metadata": {
    "ExecuteTime": {
     "end_time": "2020-08-20T17:39:02.897831Z",
     "start_time": "2020-08-20T17:39:02.891940Z"
    }
   },
   "outputs": [
    {
     "data": {
      "text/html": [
       "<table class=\"simpletable\">\n",
       "<caption>OLS Regression Results</caption>\n",
       "<tr>\n",
       "  <th>Dep. Variable:</th>         <td>revenue</td>     <th>  R-squared:         </th> <td>   0.768</td> \n",
       "</tr>\n",
       "<tr>\n",
       "  <th>Model:</th>                   <td>OLS</td>       <th>  Adj. R-squared:    </th> <td>   0.766</td> \n",
       "</tr>\n",
       "<tr>\n",
       "  <th>Method:</th>             <td>Least Squares</td>  <th>  F-statistic:       </th> <td>   425.6</td> \n",
       "</tr>\n",
       "<tr>\n",
       "  <th>Date:</th>             <td>Fri, 09 Apr 2021</td> <th>  Prob (F-statistic):</th>  <td>  0.00</td>  \n",
       "</tr>\n",
       "<tr>\n",
       "  <th>Time:</th>                 <td>14:08:59</td>     <th>  Log-Likelihood:    </th> <td> -26122.</td> \n",
       "</tr>\n",
       "<tr>\n",
       "  <th>No. Observations:</th>      <td>  1300</td>      <th>  AIC:               </th> <td>5.227e+04</td>\n",
       "</tr>\n",
       "<tr>\n",
       "  <th>Df Residuals:</th>          <td>  1289</td>      <th>  BIC:               </th> <td>5.232e+04</td>\n",
       "</tr>\n",
       "<tr>\n",
       "  <th>Df Model:</th>              <td>    10</td>      <th>                     </th>     <td> </td>    \n",
       "</tr>\n",
       "<tr>\n",
       "  <th>Covariance Type:</th>      <td>nonrobust</td>    <th>                     </th>     <td> </td>    \n",
       "</tr>\n",
       "</table>\n",
       "<table class=\"simpletable\">\n",
       "<tr>\n",
       "          <td></td>             <th>coef</th>     <th>std err</th>      <th>t</th>      <th>P>|t|</th>  <th>[0.025</th>    <th>0.975]</th>  \n",
       "</tr>\n",
       "<tr>\n",
       "  <th>Intercept</th>         <td> 1.103e+08</td> <td> 5.38e+07</td> <td>    2.049</td> <td> 0.041</td> <td> 4.68e+06</td> <td> 2.16e+08</td>\n",
       "</tr>\n",
       "<tr>\n",
       "  <th>runtime</th>           <td>-5.352e+05</td> <td> 2.64e+05</td> <td>   -2.027</td> <td> 0.043</td> <td>-1.05e+06</td> <td>-1.71e+04</td>\n",
       "</tr>\n",
       "<tr>\n",
       "  <th>budget</th>            <td>    1.9486</td> <td>    0.103</td> <td>   18.884</td> <td> 0.000</td> <td>    1.746</td> <td>    2.151</td>\n",
       "</tr>\n",
       "<tr>\n",
       "  <th>vote_count</th>        <td>   3.3e+04</td> <td> 1443.482</td> <td>   22.858</td> <td> 0.000</td> <td> 3.02e+04</td> <td> 3.58e+04</td>\n",
       "</tr>\n",
       "<tr>\n",
       "  <th>vote_average</th>      <td>-4.854e+06</td> <td> 4.58e+06</td> <td>   -1.060</td> <td> 0.290</td> <td>-1.38e+07</td> <td> 4.13e+06</td>\n",
       "</tr>\n",
       "<tr>\n",
       "  <th>popularity</th>        <td> 1.014e+06</td> <td> 1.18e+05</td> <td>    8.615</td> <td> 0.000</td> <td> 7.83e+05</td> <td> 1.24e+06</td>\n",
       "</tr>\n",
       "<tr>\n",
       "  <th>mpaa_rating_NC_17</th> <td>-7.915e+07</td> <td> 1.37e+08</td> <td>   -0.576</td> <td> 0.565</td> <td>-3.49e+08</td> <td>  1.9e+08</td>\n",
       "</tr>\n",
       "<tr>\n",
       "  <th>mpaa_rating_NR</th>    <td>-6.745e+07</td> <td> 5.22e+07</td> <td>   -1.291</td> <td> 0.197</td> <td> -1.7e+08</td> <td>  3.5e+07</td>\n",
       "</tr>\n",
       "<tr>\n",
       "  <th>mpaa_rating_PG</th>    <td>-2.459e+07</td> <td> 4.44e+07</td> <td>   -0.554</td> <td> 0.580</td> <td>-1.12e+08</td> <td> 6.25e+07</td>\n",
       "</tr>\n",
       "<tr>\n",
       "  <th>mpaa_rating_PG_13</th> <td>-9.351e+07</td> <td> 4.42e+07</td> <td>   -2.116</td> <td> 0.035</td> <td> -1.8e+08</td> <td>-6.81e+06</td>\n",
       "</tr>\n",
       "<tr>\n",
       "  <th>mpaa_rating_R</th>     <td>-1.079e+08</td> <td> 4.45e+07</td> <td>   -2.426</td> <td> 0.015</td> <td>-1.95e+08</td> <td>-2.07e+07</td>\n",
       "</tr>\n",
       "</table>\n",
       "<table class=\"simpletable\">\n",
       "<tr>\n",
       "  <th>Omnibus:</th>       <td>849.330</td> <th>  Durbin-Watson:     </th> <td>   1.925</td> \n",
       "</tr>\n",
       "<tr>\n",
       "  <th>Prob(Omnibus):</th> <td> 0.000</td>  <th>  Jarque-Bera (JB):  </th> <td>25908.797</td>\n",
       "</tr>\n",
       "<tr>\n",
       "  <th>Skew:</th>          <td> 2.547</td>  <th>  Prob(JB):          </th> <td>    0.00</td> \n",
       "</tr>\n",
       "<tr>\n",
       "  <th>Kurtosis:</th>      <td>24.269</td>  <th>  Cond. No.          </th> <td>2.89e+09</td> \n",
       "</tr>\n",
       "</table><br/><br/>Notes:<br/>[1] Standard Errors assume that the covariance matrix of the errors is correctly specified.<br/>[2] The condition number is large, 2.89e+09. This might indicate that there are<br/>strong multicollinearity or other numerical problems."
      ],
      "text/plain": [
       "<class 'statsmodels.iolib.summary.Summary'>\n",
       "\"\"\"\n",
       "                            OLS Regression Results                            \n",
       "==============================================================================\n",
       "Dep. Variable:                revenue   R-squared:                       0.768\n",
       "Model:                            OLS   Adj. R-squared:                  0.766\n",
       "Method:                 Least Squares   F-statistic:                     425.6\n",
       "Date:                Fri, 09 Apr 2021   Prob (F-statistic):               0.00\n",
       "Time:                        14:08:59   Log-Likelihood:                -26122.\n",
       "No. Observations:                1300   AIC:                         5.227e+04\n",
       "Df Residuals:                    1289   BIC:                         5.232e+04\n",
       "Df Model:                          10                                         \n",
       "Covariance Type:            nonrobust                                         \n",
       "=====================================================================================\n",
       "                        coef    std err          t      P>|t|      [0.025      0.975]\n",
       "-------------------------------------------------------------------------------------\n",
       "Intercept          1.103e+08   5.38e+07      2.049      0.041    4.68e+06    2.16e+08\n",
       "runtime           -5.352e+05   2.64e+05     -2.027      0.043   -1.05e+06   -1.71e+04\n",
       "budget                1.9486      0.103     18.884      0.000       1.746       2.151\n",
       "vote_count           3.3e+04   1443.482     22.858      0.000    3.02e+04    3.58e+04\n",
       "vote_average      -4.854e+06   4.58e+06     -1.060      0.290   -1.38e+07    4.13e+06\n",
       "popularity         1.014e+06   1.18e+05      8.615      0.000    7.83e+05    1.24e+06\n",
       "mpaa_rating_NC_17 -7.915e+07   1.37e+08     -0.576      0.565   -3.49e+08     1.9e+08\n",
       "mpaa_rating_NR    -6.745e+07   5.22e+07     -1.291      0.197    -1.7e+08     3.5e+07\n",
       "mpaa_rating_PG    -2.459e+07   4.44e+07     -0.554      0.580   -1.12e+08    6.25e+07\n",
       "mpaa_rating_PG_13 -9.351e+07   4.42e+07     -2.116      0.035    -1.8e+08   -6.81e+06\n",
       "mpaa_rating_R     -1.079e+08   4.45e+07     -2.426      0.015   -1.95e+08   -2.07e+07\n",
       "==============================================================================\n",
       "Omnibus:                      849.330   Durbin-Watson:                   1.925\n",
       "Prob(Omnibus):                  0.000   Jarque-Bera (JB):            25908.797\n",
       "Skew:                           2.547   Prob(JB):                         0.00\n",
       "Kurtosis:                      24.269   Cond. No.                     2.89e+09\n",
       "==============================================================================\n",
       "\n",
       "Notes:\n",
       "[1] Standard Errors assume that the covariance matrix of the errors is correctly specified.\n",
       "[2] The condition number is large, 2.89e+09. This might indicate that there are\n",
       "strong multicollinearity or other numerical problems.\n",
       "\"\"\""
      ]
     },
     "metadata": {},
     "output_type": "display_data"
    },
    {
     "data": {
      "image/png": "[encoded data removed]",
      "text/plain": [
       "<Figure size 576x396 with 1 Axes>"
      ]
     },
     "metadata": {
      "needs_background": "light"
     },
     "output_type": "display_data"
    }
   ],
   "source": [
    "## Drop any multicollinear features\n",
    "# None\n",
    "\n",
    "## Create a string representing the right side of the ~ in our formula\n",
    "features = ' + '.join(df_model.drop('revenue',axis=1).columns)\n",
    "\n",
    "## Create the final formula and create the model\n",
    "f  = \"revenue~\"+features\n",
    "\n",
    "model = smf.ols(f, df_model).fit()\n",
    "display(model.summary())\n",
    "sm.graphics.qqplot(model.resid,line='45',fit=True);"
   ]
  },
  {
   "cell_type": "code",
   "execution_count": 37,
   "metadata": {},
   "outputs": [
    {
     "data": {
      "text/plain": [
       "<matplotlib.lines.Line2D at 0x7fbc55210df0>"
      ]
     },
     "execution_count": 37,
     "metadata": {},
     "output_type": "execute_result"
    },
    {
     "data": {
      "image/png": "[encoded data removed]",
      "text/plain": [
       "<Figure size 576x396 with 1 Axes>"
      ]
     },
     "metadata": {
      "needs_background": "light"
     },
     "output_type": "display_data"
    }
   ],
   "source": [
    "plt.scatter(df_model['revenue'],model.resid)\n",
    "plt.axhline(0)"
   ]
  },
  {
   "cell_type": "code",
   "execution_count": null,
   "metadata": {},
   "outputs": [],
   "source": []
  },
  {
   "cell_type": "code",
   "execution_count": 38,
   "metadata": {},
   "outputs": [
    {
     "data": {
      "text/plain": [
       "vote_average        0.2895249109734985\n",
       "mpaa_rating_NC_17   0.5648150551068866\n",
       "mpaa_rating_NR      0.1968166996286298\n",
       "mpaa_rating_PG      0.5799786181150344\n",
       "dtype: float64"
      ]
     },
     "execution_count": 38,
     "metadata": {},
     "output_type": "execute_result"
    }
   ],
   "source": [
    "model.pvalues[model.pvalues > .05]"
   ]
  },
  {
   "cell_type": "code",
   "execution_count": 39,
   "metadata": {},
   "outputs": [
    {
     "data": {
      "text/plain": [
       "['mpaa_rating_NC_17',\n",
       " 'mpaa_rating_NR',\n",
       " 'mpaa_rating_PG',\n",
       " 'mpaa_rating_PG_13',\n",
       " 'mpaa_rating_R']"
      ]
     },
     "execution_count": 39,
     "metadata": {},
     "output_type": "execute_result"
    }
   ],
   "source": [
    "## Drop any multicollinear features\n",
    "remove_cols = [col for col in df_model.columns if col.startswith('mpaa')]\n",
    "remove_cols"
   ]
  },
  {
   "cell_type": "code",
   "execution_count": 42,
   "metadata": {},
   "outputs": [
    {
     "data": {
      "text/html": [
       "<table class=\"simpletable\">\n",
       "<caption>OLS Regression Results</caption>\n",
       "<tr>\n",
       "  <th>Dep. Variable:</th>         <td>revenue</td>     <th>  R-squared:         </th> <td>   0.672</td> \n",
       "</tr>\n",
       "<tr>\n",
       "  <th>Model:</th>                   <td>OLS</td>       <th>  Adj. R-squared:    </th> <td>   0.671</td> \n",
       "</tr>\n",
       "<tr>\n",
       "  <th>Method:</th>             <td>Least Squares</td>  <th>  F-statistic:       </th> <td>   883.1</td> \n",
       "</tr>\n",
       "<tr>\n",
       "  <th>Date:</th>             <td>Fri, 09 Apr 2021</td> <th>  Prob (F-statistic):</th> <td>1.22e-312</td>\n",
       "</tr>\n",
       "<tr>\n",
       "  <th>Time:</th>                 <td>14:18:07</td>     <th>  Log-Likelihood:    </th> <td> -26347.</td> \n",
       "</tr>\n",
       "<tr>\n",
       "  <th>No. Observations:</th>      <td>  1300</td>      <th>  AIC:               </th> <td>5.270e+04</td>\n",
       "</tr>\n",
       "<tr>\n",
       "  <th>Df Residuals:</th>          <td>  1296</td>      <th>  BIC:               </th> <td>5.272e+04</td>\n",
       "</tr>\n",
       "<tr>\n",
       "  <th>Df Model:</th>              <td>     3</td>      <th>                     </th>     <td> </td>    \n",
       "</tr>\n",
       "<tr>\n",
       "  <th>Covariance Type:</th>      <td>nonrobust</td>    <th>                     </th>     <td> </td>    \n",
       "</tr>\n",
       "</table>\n",
       "<table class=\"simpletable\">\n",
       "<tr>\n",
       "        <td></td>          <th>coef</th>     <th>std err</th>      <th>t</th>      <th>P>|t|</th>  <th>[0.025</th>    <th>0.975]</th>  \n",
       "</tr>\n",
       "<tr>\n",
       "  <th>Intercept</th>    <td>-2.462e+08</td> <td> 2.95e+07</td> <td>   -8.332</td> <td> 0.000</td> <td>-3.04e+08</td> <td>-1.88e+08</td>\n",
       "</tr>\n",
       "<tr>\n",
       "  <th>budget</th>       <td>    3.1561</td> <td>    0.091</td> <td>   34.849</td> <td> 0.000</td> <td>    2.978</td> <td>    3.334</td>\n",
       "</tr>\n",
       "<tr>\n",
       "  <th>vote_average</th> <td> 3.221e+07</td> <td> 4.69e+06</td> <td>    6.869</td> <td> 0.000</td> <td>  2.3e+07</td> <td> 4.14e+07</td>\n",
       "</tr>\n",
       "<tr>\n",
       "  <th>popularity</th>   <td> 1.477e+06</td> <td> 1.36e+05</td> <td>   10.903</td> <td> 0.000</td> <td> 1.21e+06</td> <td> 1.74e+06</td>\n",
       "</tr>\n",
       "</table>\n",
       "<table class=\"simpletable\">\n",
       "<tr>\n",
       "  <th>Omnibus:</th>       <td>667.431</td> <th>  Durbin-Watson:     </th> <td>   1.963</td> \n",
       "</tr>\n",
       "<tr>\n",
       "  <th>Prob(Omnibus):</th> <td> 0.000</td>  <th>  Jarque-Bera (JB):  </th> <td>11910.579</td>\n",
       "</tr>\n",
       "<tr>\n",
       "  <th>Skew:</th>          <td> 1.955</td>  <th>  Prob(JB):          </th> <td>    0.00</td> \n",
       "</tr>\n",
       "<tr>\n",
       "  <th>Kurtosis:</th>      <td>17.304</td>  <th>  Cond. No.          </th> <td>5.06e+08</td> \n",
       "</tr>\n",
       "</table><br/><br/>Notes:<br/>[1] Standard Errors assume that the covariance matrix of the errors is correctly specified.<br/>[2] The condition number is large, 5.06e+08. This might indicate that there are<br/>strong multicollinearity or other numerical problems."
      ],
      "text/plain": [
       "<class 'statsmodels.iolib.summary.Summary'>\n",
       "\"\"\"\n",
       "                            OLS Regression Results                            \n",
       "==============================================================================\n",
       "Dep. Variable:                revenue   R-squared:                       0.672\n",
       "Model:                            OLS   Adj. R-squared:                  0.671\n",
       "Method:                 Least Squares   F-statistic:                     883.1\n",
       "Date:                Fri, 09 Apr 2021   Prob (F-statistic):          1.22e-312\n",
       "Time:                        14:18:07   Log-Likelihood:                -26347.\n",
       "No. Observations:                1300   AIC:                         5.270e+04\n",
       "Df Residuals:                    1296   BIC:                         5.272e+04\n",
       "Df Model:                           3                                         \n",
       "Covariance Type:            nonrobust                                         \n",
       "================================================================================\n",
       "                   coef    std err          t      P>|t|      [0.025      0.975]\n",
       "--------------------------------------------------------------------------------\n",
       "Intercept    -2.462e+08   2.95e+07     -8.332      0.000   -3.04e+08   -1.88e+08\n",
       "budget           3.1561      0.091     34.849      0.000       2.978       3.334\n",
       "vote_average  3.221e+07   4.69e+06      6.869      0.000     2.3e+07    4.14e+07\n",
       "popularity    1.477e+06   1.36e+05     10.903      0.000    1.21e+06    1.74e+06\n",
       "==============================================================================\n",
       "Omnibus:                      667.431   Durbin-Watson:                   1.963\n",
       "Prob(Omnibus):                  0.000   Jarque-Bera (JB):            11910.579\n",
       "Skew:                           1.955   Prob(JB):                         0.00\n",
       "Kurtosis:                      17.304   Cond. No.                     5.06e+08\n",
       "==============================================================================\n",
       "\n",
       "Notes:\n",
       "[1] Standard Errors assume that the covariance matrix of the errors is correctly specified.\n",
       "[2] The condition number is large, 5.06e+08. This might indicate that there are\n",
       "strong multicollinearity or other numerical problems.\n",
       "\"\"\""
      ]
     },
     "metadata": {},
     "output_type": "display_data"
    },
    {
     "data": {
      "image/png": "[encoded data removed]",
      "text/plain": [
       "<Figure size 576x396 with 1 Axes>"
      ]
     },
     "metadata": {
      "needs_background": "light"
     },
     "output_type": "display_data"
    }
   ],
   "source": [
    "## Create a string representing the right side of the ~ in our formula\n",
    "features = ' + '.join(df_model.drop(['revenue',*remove_cols,\n",
    "                                     'vote_count','runtime'],axis=1).columns)\n",
    "\n",
    "## Create the final formula and create the model\n",
    "f  = \"revenue~\"+features\n",
    "\n",
    "model = smf.ols(f, df_model).fit()\n",
    "display(model.summary())\n",
    "sm.graphics.qqplot(model.resid,line='45',fit=True);"
   ]
  },
  {
   "cell_type": "code",
   "execution_count": 43,
   "metadata": {},
   "outputs": [
    {
     "data": {
      "text/plain": [
       "Intercept      -246,167,819.05\n",
       "budget                    3.16\n",
       "popularity        1,477,488.81\n",
       "vote_average     32,205,277.17\n",
       "dtype: float64"
      ]
     },
     "execution_count": 43,
     "metadata": {},
     "output_type": "execute_result"
    }
   ],
   "source": [
    "coeffs=model.params\n",
    "coeffs.sort_values().round(2)"
   ]
  },
  {
   "cell_type": "code",
   "execution_count": 44,
   "metadata": {
    "ExecuteTime": {
     "end_time": "2020-08-20T17:39:02.902827Z",
     "start_time": "2020-08-20T17:39:02.899339Z"
    }
   },
   "outputs": [
    {
     "data": {
      "text/html": [
       "<div>\n",
       "<style scoped>\n",
       "    .dataframe tbody tr th:only-of-type {\n",
       "        vertical-align: middle;\n",
       "    }\n",
       "\n",
       "    .dataframe tbody tr th {\n",
       "        vertical-align: top;\n",
       "    }\n",
       "\n",
       "    .dataframe thead th {\n",
       "        text-align: right;\n",
       "    }\n",
       "</style>\n",
       "<table border=\"1\" class=\"dataframe\">\n",
       "  <thead>\n",
       "    <tr style=\"text-align: right;\">\n",
       "      <th></th>\n",
       "      <th>imdb_id</th>\n",
       "      <th>original_title</th>\n",
       "      <th>title</th>\n",
       "      <th>mpaa_rating</th>\n",
       "      <th>release_date</th>\n",
       "      <th>runtime</th>\n",
       "      <th>budget</th>\n",
       "      <th>revenue</th>\n",
       "      <th>vote_count</th>\n",
       "      <th>vote_average</th>\n",
       "      <th>popularity</th>\n",
       "      <th>adult</th>\n",
       "      <th>original_language</th>\n",
       "    </tr>\n",
       "    <tr>\n",
       "      <th>id</th>\n",
       "      <th></th>\n",
       "      <th></th>\n",
       "      <th></th>\n",
       "      <th></th>\n",
       "      <th></th>\n",
       "      <th></th>\n",
       "      <th></th>\n",
       "      <th></th>\n",
       "      <th></th>\n",
       "      <th></th>\n",
       "      <th></th>\n",
       "      <th></th>\n",
       "      <th></th>\n",
       "    </tr>\n",
       "  </thead>\n",
       "  <tbody>\n",
       "    <tr>\n",
       "      <th>24428</th>\n",
       "      <td>tt0848228</td>\n",
       "      <td>The Avengers</td>\n",
       "      <td>The Avengers</td>\n",
       "      <td>PG_13</td>\n",
       "      <td>2012-04-25</td>\n",
       "      <td>143.0</td>\n",
       "      <td>220000000</td>\n",
       "      <td>1518815515</td>\n",
       "      <td>24252</td>\n",
       "      <td>7.7</td>\n",
       "      <td>151.095</td>\n",
       "      <td>False</td>\n",
       "      <td>en</td>\n",
       "    </tr>\n",
       "    <tr>\n",
       "      <th>50620</th>\n",
       "      <td>tt1673434</td>\n",
       "      <td>The Twilight Saga: Breaking Dawn - Part 2</td>\n",
       "      <td>The Twilight Saga: Breaking Dawn - Part 2</td>\n",
       "      <td>PG_13</td>\n",
       "      <td>2012-11-13</td>\n",
       "      <td>115.0</td>\n",
       "      <td>120000000</td>\n",
       "      <td>829000000</td>\n",
       "      <td>6978</td>\n",
       "      <td>6.5</td>\n",
       "      <td>73.226</td>\n",
       "      <td>False</td>\n",
       "      <td>en</td>\n",
       "    </tr>\n",
       "    <tr>\n",
       "      <th>82690</th>\n",
       "      <td>tt1772341</td>\n",
       "      <td>Wreck-It Ralph</td>\n",
       "      <td>Wreck-It Ralph</td>\n",
       "      <td>PG</td>\n",
       "      <td>2012-11-01</td>\n",
       "      <td>101.0</td>\n",
       "      <td>165000000</td>\n",
       "      <td>471222889</td>\n",
       "      <td>9690</td>\n",
       "      <td>7.3</td>\n",
       "      <td>70.21300000000001</td>\n",
       "      <td>False</td>\n",
       "      <td>en</td>\n",
       "    </tr>\n",
       "    <tr>\n",
       "      <th>57214</th>\n",
       "      <td>tt1636826</td>\n",
       "      <td>Project X</td>\n",
       "      <td>Project X</td>\n",
       "      <td>R</td>\n",
       "      <td>2012-03-01</td>\n",
       "      <td>88.0</td>\n",
       "      <td>12000000</td>\n",
       "      <td>100000000</td>\n",
       "      <td>4399</td>\n",
       "      <td>6.7</td>\n",
       "      <td>67.687</td>\n",
       "      <td>False</td>\n",
       "      <td>en</td>\n",
       "    </tr>\n",
       "    <tr>\n",
       "      <th>49051</th>\n",
       "      <td>tt0903624</td>\n",
       "      <td>The Hobbit: An Unexpected Journey</td>\n",
       "      <td>The Hobbit: An Unexpected Journey</td>\n",
       "      <td>PG_13</td>\n",
       "      <td>2012-11-26</td>\n",
       "      <td>169.0</td>\n",
       "      <td>250000000</td>\n",
       "      <td>1021103568</td>\n",
       "      <td>14539</td>\n",
       "      <td>7.3</td>\n",
       "      <td>61.052</td>\n",
       "      <td>False</td>\n",
       "      <td>en</td>\n",
       "    </tr>\n",
       "    <tr>\n",
       "      <th>...</th>\n",
       "      <td>...</td>\n",
       "      <td>...</td>\n",
       "      <td>...</td>\n",
       "      <td>...</td>\n",
       "      <td>...</td>\n",
       "      <td>...</td>\n",
       "      <td>...</td>\n",
       "      <td>...</td>\n",
       "      <td>...</td>\n",
       "      <td>...</td>\n",
       "      <td>...</td>\n",
       "      <td>...</td>\n",
       "      <td>...</td>\n",
       "    </tr>\n",
       "    <tr>\n",
       "      <th>403300</th>\n",
       "      <td>tt5827916</td>\n",
       "      <td>A Hidden Life</td>\n",
       "      <td>A Hidden Life</td>\n",
       "      <td>PG_13</td>\n",
       "      <td>2019-12-11</td>\n",
       "      <td>174.0</td>\n",
       "      <td>9000000</td>\n",
       "      <td>4612788</td>\n",
       "      <td>370</td>\n",
       "      <td>7.2</td>\n",
       "      <td>15.434000000000001</td>\n",
       "      <td>False</td>\n",
       "      <td>en</td>\n",
       "    </tr>\n",
       "    <tr>\n",
       "      <th>520900</th>\n",
       "      <td>tt6439020</td>\n",
       "      <td>The Personal History of David Copperfield</td>\n",
       "      <td>The Personal History of David Copperfield</td>\n",
       "      <td>PG</td>\n",
       "      <td>2019-11-07</td>\n",
       "      <td>119.0</td>\n",
       "      <td>15600000</td>\n",
       "      <td>11620337</td>\n",
       "      <td>211</td>\n",
       "      <td>6.7</td>\n",
       "      <td>15.075999999999999</td>\n",
       "      <td>False</td>\n",
       "      <td>en</td>\n",
       "    </tr>\n",
       "    <tr>\n",
       "      <th>616584</th>\n",
       "      <td>tt10521814</td>\n",
       "      <td>K-12</td>\n",
       "      <td>K-12</td>\n",
       "      <td>R</td>\n",
       "      <td>2019-09-05</td>\n",
       "      <td>92.0</td>\n",
       "      <td>50000</td>\n",
       "      <td>359377</td>\n",
       "      <td>171</td>\n",
       "      <td>7.6</td>\n",
       "      <td>14.822000000000001</td>\n",
       "      <td>False</td>\n",
       "      <td>en</td>\n",
       "    </tr>\n",
       "    <tr>\n",
       "      <th>619265</th>\n",
       "      <td>tt10555920</td>\n",
       "      <td>The Cabin House</td>\n",
       "      <td>The Cabin House</td>\n",
       "      <td>R</td>\n",
       "      <td>2019-10-31</td>\n",
       "      <td>120.0</td>\n",
       "      <td>13000000</td>\n",
       "      <td>13000000</td>\n",
       "      <td>0</td>\n",
       "      <td>0.0</td>\n",
       "      <td>2.0709999999999997</td>\n",
       "      <td>False</td>\n",
       "      <td>en</td>\n",
       "    </tr>\n",
       "    <tr>\n",
       "      <th>630331</th>\n",
       "      <td>tt10931434</td>\n",
       "      <td>Cin-Si Bozuk</td>\n",
       "      <td>Cin-Si Bozuk</td>\n",
       "      <td>NR</td>\n",
       "      <td>2019-09-06</td>\n",
       "      <td>95.0</td>\n",
       "      <td>46</td>\n",
       "      <td>5</td>\n",
       "      <td>0</td>\n",
       "      <td>0.0</td>\n",
       "      <td>0.622</td>\n",
       "      <td>False</td>\n",
       "      <td>en</td>\n",
       "    </tr>\n",
       "  </tbody>\n",
       "</table>\n",
       "<p>1300 rows × 13 columns</p>\n",
       "</div>"
      ],
      "text/plain": [
       "           imdb_id                             original_title                                      title mpaa_rating  ... vote_average         popularity  adult  original_language\n",
       "id                                                                                                                    ...                                                          \n",
       "24428    tt0848228                               The Avengers                               The Avengers       PG_13  ...          7.7            151.095  False                 en\n",
       "50620    tt1673434  The Twilight Saga: Breaking Dawn - Part 2  The Twilight Saga: Breaking Dawn - Part 2       PG_13  ...          6.5             73.226  False                 en\n",
       "82690    tt1772341                             Wreck-It Ralph                             Wreck-It Ralph          PG  ...          7.3  70.21300000000001  False                 en\n",
       "57214    tt1636826                                  Project X                                  Project X           R  ...          6.7             67.687  False                 en\n",
       "49051    tt0903624          The Hobbit: An Unexpected Journey          The Hobbit: An Unexpected Journey       PG_13  ...          7.3             61.052  False                 en\n",
       "...            ...                                        ...                                        ...         ...  ...          ...                ...    ...                ...\n",
       "403300   tt5827916                              A Hidden Life                              A Hidden Life       PG_13  ...          7.2 15.434000000000001  False                 en\n",
       "520900   tt6439020  The Personal History of David Copperfield  The Personal History of David Copperfield          PG  ...          6.7 15.075999999999999  False                 en\n",
       "616584  tt10521814                                       K-12                                       K-12           R  ...          7.6 14.822000000000001  False                 en\n",
       "619265  tt10555920                            The Cabin House                            The Cabin House           R  ...          0.0 2.0709999999999997  False                 en\n",
       "630331  tt10931434                               Cin-Si Bozuk                               Cin-Si Bozuk          NR  ...          0.0              0.622  False                 en\n",
       "\n",
       "[1300 rows x 13 columns]"
      ]
     },
     "execution_count": 44,
     "metadata": {},
     "output_type": "execute_result"
    }
   ],
   "source": [
    "## Create the final formula and create the model\n",
    "df"
   ]
  },
  {
   "cell_type": "code",
   "execution_count": 48,
   "metadata": {},
   "outputs": [
    {
     "data": {
      "text/plain": [
       "['runtime', 'budget', 'revenue', 'vote_count', 'vote_average', 'popularity']"
      ]
     },
     "execution_count": 48,
     "metadata": {},
     "output_type": "execute_result"
    }
   ],
   "source": [
    "num_cols = [col for col in df_model.columns if col.startswith('mpaa')==False]\n",
    "# num_cols.remove('revenue')\n",
    "num_cols"
   ]
  },
  {
   "cell_type": "code",
   "execution_count": 49,
   "metadata": {},
   "outputs": [
    {
     "data": {
      "text/plain": [
       "StandardScaler()"
      ]
     },
     "execution_count": 49,
     "metadata": {},
     "output_type": "execute_result"
    }
   ],
   "source": [
    "from sklearn.preprocessing import StandardScaler\n",
    "scaler = StandardScaler()\n",
    "scaler"
   ]
  },
  {
   "cell_type": "code",
   "execution_count": 50,
   "metadata": {},
   "outputs": [
    {
     "data": {
      "text/html": [
       "<div>\n",
       "<style scoped>\n",
       "    .dataframe tbody tr th:only-of-type {\n",
       "        vertical-align: middle;\n",
       "    }\n",
       "\n",
       "    .dataframe tbody tr th {\n",
       "        vertical-align: top;\n",
       "    }\n",
       "\n",
       "    .dataframe thead th {\n",
       "        text-align: right;\n",
       "    }\n",
       "</style>\n",
       "<table border=\"1\" class=\"dataframe\">\n",
       "  <thead>\n",
       "    <tr style=\"text-align: right;\">\n",
       "      <th></th>\n",
       "      <th>runtime</th>\n",
       "      <th>budget</th>\n",
       "      <th>revenue</th>\n",
       "      <th>vote_count</th>\n",
       "      <th>vote_average</th>\n",
       "      <th>popularity</th>\n",
       "      <th>mpaa_rating_NC_17</th>\n",
       "      <th>mpaa_rating_NR</th>\n",
       "      <th>mpaa_rating_PG</th>\n",
       "      <th>mpaa_rating_PG_13</th>\n",
       "      <th>mpaa_rating_R</th>\n",
       "    </tr>\n",
       "  </thead>\n",
       "  <tbody>\n",
       "    <tr>\n",
       "      <th>count</th>\n",
       "      <td>1,300.0</td>\n",
       "      <td>1,300.0</td>\n",
       "      <td>1,300.0</td>\n",
       "      <td>1,300.0</td>\n",
       "      <td>1,300.0</td>\n",
       "      <td>1,300.0</td>\n",
       "      <td>1,300.0</td>\n",
       "      <td>1,300.0</td>\n",
       "      <td>1,300.0</td>\n",
       "      <td>1,300.0</td>\n",
       "      <td>1,300.0</td>\n",
       "    </tr>\n",
       "    <tr>\n",
       "      <th>mean</th>\n",
       "      <td>-0.0</td>\n",
       "      <td>-0.0</td>\n",
       "      <td>-0.0</td>\n",
       "      <td>-0.0</td>\n",
       "      <td>0.0</td>\n",
       "      <td>0.0</td>\n",
       "      <td>0.0</td>\n",
       "      <td>0.0</td>\n",
       "      <td>0.0</td>\n",
       "      <td>0.0</td>\n",
       "      <td>0.0</td>\n",
       "    </tr>\n",
       "    <tr>\n",
       "      <th>std</th>\n",
       "      <td>1.0</td>\n",
       "      <td>1.0</td>\n",
       "      <td>1.0</td>\n",
       "      <td>1.0</td>\n",
       "      <td>1.0</td>\n",
       "      <td>1.0</td>\n",
       "      <td>0.0</td>\n",
       "      <td>0.0</td>\n",
       "      <td>0.0</td>\n",
       "      <td>0.0</td>\n",
       "      <td>0.0</td>\n",
       "    </tr>\n",
       "    <tr>\n",
       "      <th>min</th>\n",
       "      <td>-2.0</td>\n",
       "      <td>-1.0</td>\n",
       "      <td>-1.0</td>\n",
       "      <td>-1.0</td>\n",
       "      <td>-7.0</td>\n",
       "      <td>-1.0</td>\n",
       "      <td>0.0</td>\n",
       "      <td>0.0</td>\n",
       "      <td>0.0</td>\n",
       "      <td>0.0</td>\n",
       "      <td>0.0</td>\n",
       "    </tr>\n",
       "    <tr>\n",
       "      <th>25%</th>\n",
       "      <td>-1.0</td>\n",
       "      <td>-1.0</td>\n",
       "      <td>-1.0</td>\n",
       "      <td>-1.0</td>\n",
       "      <td>-1.0</td>\n",
       "      <td>-1.0</td>\n",
       "      <td>0.0</td>\n",
       "      <td>0.0</td>\n",
       "      <td>0.0</td>\n",
       "      <td>0.0</td>\n",
       "      <td>0.0</td>\n",
       "    </tr>\n",
       "    <tr>\n",
       "      <th>50%</th>\n",
       "      <td>-0.0</td>\n",
       "      <td>-0.0</td>\n",
       "      <td>-0.0</td>\n",
       "      <td>-0.0</td>\n",
       "      <td>-0.0</td>\n",
       "      <td>-0.0</td>\n",
       "      <td>0.0</td>\n",
       "      <td>0.0</td>\n",
       "      <td>0.0</td>\n",
       "      <td>0.0</td>\n",
       "      <td>0.0</td>\n",
       "    </tr>\n",
       "    <tr>\n",
       "      <th>75%</th>\n",
       "      <td>1.0</td>\n",
       "      <td>0.0</td>\n",
       "      <td>0.0</td>\n",
       "      <td>0.0</td>\n",
       "      <td>1.0</td>\n",
       "      <td>0.0</td>\n",
       "      <td>0.0</td>\n",
       "      <td>0.0</td>\n",
       "      <td>0.0</td>\n",
       "      <td>1.0</td>\n",
       "      <td>1.0</td>\n",
       "    </tr>\n",
       "    <tr>\n",
       "      <th>max</th>\n",
       "      <td>5.0</td>\n",
       "      <td>6.0</td>\n",
       "      <td>10.0</td>\n",
       "      <td>6.0</td>\n",
       "      <td>3.0</td>\n",
       "      <td>10.0</td>\n",
       "      <td>1.0</td>\n",
       "      <td>1.0</td>\n",
       "      <td>1.0</td>\n",
       "      <td>1.0</td>\n",
       "      <td>1.0</td>\n",
       "    </tr>\n",
       "  </tbody>\n",
       "</table>\n",
       "</div>"
      ],
      "text/plain": [
       "       runtime  budget  revenue  vote_count  vote_average  popularity  mpaa_rating_NC_17  mpaa_rating_NR  mpaa_rating_PG  mpaa_rating_PG_13  mpaa_rating_R\n",
       "count  1,300.0 1,300.0  1,300.0     1,300.0       1,300.0     1,300.0            1,300.0         1,300.0         1,300.0            1,300.0        1,300.0\n",
       "mean      -0.0    -0.0     -0.0        -0.0           0.0         0.0                0.0             0.0             0.0                0.0            0.0\n",
       "std        1.0     1.0      1.0         1.0           1.0         1.0                0.0             0.0             0.0                0.0            0.0\n",
       "min       -2.0    -1.0     -1.0        -1.0          -7.0        -1.0                0.0             0.0             0.0                0.0            0.0\n",
       "25%       -1.0    -1.0     -1.0        -1.0          -1.0        -1.0                0.0             0.0             0.0                0.0            0.0\n",
       "50%       -0.0    -0.0     -0.0        -0.0          -0.0        -0.0                0.0             0.0             0.0                0.0            0.0\n",
       "75%        1.0     0.0      0.0         0.0           1.0         0.0                0.0             0.0             0.0                1.0            1.0\n",
       "max        5.0     6.0     10.0         6.0           3.0        10.0                1.0             1.0             1.0                1.0            1.0"
      ]
     },
     "execution_count": 50,
     "metadata": {},
     "output_type": "execute_result"
    }
   ],
   "source": [
    "df_scaled = df_model.copy()\n",
    "df_scaled[num_cols] = scaler.fit_transform(df_scaled[num_cols])\n",
    "df_scaled.describe().round()"
   ]
  },
  {
   "cell_type": "code",
   "execution_count": 51,
   "metadata": {},
   "outputs": [
    {
     "data": {
      "text/html": [
       "<table class=\"simpletable\">\n",
       "<caption>OLS Regression Results</caption>\n",
       "<tr>\n",
       "  <th>Dep. Variable:</th>         <td>revenue</td>     <th>  R-squared:         </th> <td>   0.768</td>\n",
       "</tr>\n",
       "<tr>\n",
       "  <th>Model:</th>                   <td>OLS</td>       <th>  Adj. R-squared:    </th> <td>   0.766</td>\n",
       "</tr>\n",
       "<tr>\n",
       "  <th>Method:</th>             <td>Least Squares</td>  <th>  F-statistic:       </th> <td>   425.6</td>\n",
       "</tr>\n",
       "<tr>\n",
       "  <th>Date:</th>             <td>Fri, 09 Apr 2021</td> <th>  Prob (F-statistic):</th>  <td>  0.00</td> \n",
       "</tr>\n",
       "<tr>\n",
       "  <th>Time:</th>                 <td>14:18:56</td>     <th>  Log-Likelihood:    </th> <td> -896.20</td>\n",
       "</tr>\n",
       "<tr>\n",
       "  <th>No. Observations:</th>      <td>  1300</td>      <th>  AIC:               </th> <td>   1814.</td>\n",
       "</tr>\n",
       "<tr>\n",
       "  <th>Df Residuals:</th>          <td>  1289</td>      <th>  BIC:               </th> <td>   1871.</td>\n",
       "</tr>\n",
       "<tr>\n",
       "  <th>Df Model:</th>              <td>    10</td>      <th>                     </th>     <td> </td>   \n",
       "</tr>\n",
       "<tr>\n",
       "  <th>Covariance Type:</th>      <td>nonrobust</td>    <th>                     </th>     <td> </td>   \n",
       "</tr>\n",
       "</table>\n",
       "<table class=\"simpletable\">\n",
       "<tr>\n",
       "          <td></td>             <th>coef</th>     <th>std err</th>      <th>t</th>      <th>P>|t|</th>  <th>[0.025</th>    <th>0.975]</th>  \n",
       "</tr>\n",
       "<tr>\n",
       "  <th>Intercept</th>         <td>    0.3359</td> <td>    0.164</td> <td>    2.049</td> <td> 0.041</td> <td>    0.014</td> <td>    0.657</td>\n",
       "</tr>\n",
       "<tr>\n",
       "  <th>runtime</th>           <td>   -0.0340</td> <td>    0.017</td> <td>   -2.027</td> <td> 0.043</td> <td>   -0.067</td> <td>   -0.001</td>\n",
       "</tr>\n",
       "<tr>\n",
       "  <th>budget</th>            <td>    0.4052</td> <td>    0.021</td> <td>   18.884</td> <td> 0.000</td> <td>    0.363</td> <td>    0.447</td>\n",
       "</tr>\n",
       "<tr>\n",
       "  <th>vote_count</th>        <td>    0.4633</td> <td>    0.020</td> <td>   22.858</td> <td> 0.000</td> <td>    0.424</td> <td>    0.503</td>\n",
       "</tr>\n",
       "<tr>\n",
       "  <th>vote_average</th>      <td>   -0.0171</td> <td>    0.016</td> <td>   -1.060</td> <td> 0.290</td> <td>   -0.049</td> <td>    0.015</td>\n",
       "</tr>\n",
       "<tr>\n",
       "  <th>popularity</th>        <td>    0.1428</td> <td>    0.017</td> <td>    8.615</td> <td> 0.000</td> <td>    0.110</td> <td>    0.175</td>\n",
       "</tr>\n",
       "<tr>\n",
       "  <th>mpaa_rating_NC_17</th> <td>   -0.2959</td> <td>    0.514</td> <td>   -0.576</td> <td> 0.565</td> <td>   -1.304</td> <td>    0.712</td>\n",
       "</tr>\n",
       "<tr>\n",
       "  <th>mpaa_rating_NR</th>    <td>   -0.2522</td> <td>    0.195</td> <td>   -1.291</td> <td> 0.197</td> <td>   -0.635</td> <td>    0.131</td>\n",
       "</tr>\n",
       "<tr>\n",
       "  <th>mpaa_rating_PG</th>    <td>   -0.0919</td> <td>    0.166</td> <td>   -0.554</td> <td> 0.580</td> <td>   -0.418</td> <td>    0.234</td>\n",
       "</tr>\n",
       "<tr>\n",
       "  <th>mpaa_rating_PG_13</th> <td>   -0.3496</td> <td>    0.165</td> <td>   -2.116</td> <td> 0.035</td> <td>   -0.674</td> <td>   -0.025</td>\n",
       "</tr>\n",
       "<tr>\n",
       "  <th>mpaa_rating_R</th>     <td>   -0.4034</td> <td>    0.166</td> <td>   -2.426</td> <td> 0.015</td> <td>   -0.730</td> <td>   -0.077</td>\n",
       "</tr>\n",
       "</table>\n",
       "<table class=\"simpletable\">\n",
       "<tr>\n",
       "  <th>Omnibus:</th>       <td>849.330</td> <th>  Durbin-Watson:     </th> <td>   1.925</td> \n",
       "</tr>\n",
       "<tr>\n",
       "  <th>Prob(Omnibus):</th> <td> 0.000</td>  <th>  Jarque-Bera (JB):  </th> <td>25908.797</td>\n",
       "</tr>\n",
       "<tr>\n",
       "  <th>Skew:</th>          <td> 2.547</td>  <th>  Prob(JB):          </th> <td>    0.00</td> \n",
       "</tr>\n",
       "<tr>\n",
       "  <th>Kurtosis:</th>      <td>24.269</td>  <th>  Cond. No.          </th> <td>    65.7</td> \n",
       "</tr>\n",
       "</table><br/><br/>Notes:<br/>[1] Standard Errors assume that the covariance matrix of the errors is correctly specified."
      ],
      "text/plain": [
       "<class 'statsmodels.iolib.summary.Summary'>\n",
       "\"\"\"\n",
       "                            OLS Regression Results                            \n",
       "==============================================================================\n",
       "Dep. Variable:                revenue   R-squared:                       0.768\n",
       "Model:                            OLS   Adj. R-squared:                  0.766\n",
       "Method:                 Least Squares   F-statistic:                     425.6\n",
       "Date:                Fri, 09 Apr 2021   Prob (F-statistic):               0.00\n",
       "Time:                        14:18:56   Log-Likelihood:                -896.20\n",
       "No. Observations:                1300   AIC:                             1814.\n",
       "Df Residuals:                    1289   BIC:                             1871.\n",
       "Df Model:                          10                                         \n",
       "Covariance Type:            nonrobust                                         \n",
       "=====================================================================================\n",
       "                        coef    std err          t      P>|t|      [0.025      0.975]\n",
       "-------------------------------------------------------------------------------------\n",
       "Intercept             0.3359      0.164      2.049      0.041       0.014       0.657\n",
       "runtime              -0.0340      0.017     -2.027      0.043      -0.067      -0.001\n",
       "budget                0.4052      0.021     18.884      0.000       0.363       0.447\n",
       "vote_count            0.4633      0.020     22.858      0.000       0.424       0.503\n",
       "vote_average         -0.0171      0.016     -1.060      0.290      -0.049       0.015\n",
       "popularity            0.1428      0.017      8.615      0.000       0.110       0.175\n",
       "mpaa_rating_NC_17    -0.2959      0.514     -0.576      0.565      -1.304       0.712\n",
       "mpaa_rating_NR       -0.2522      0.195     -1.291      0.197      -0.635       0.131\n",
       "mpaa_rating_PG       -0.0919      0.166     -0.554      0.580      -0.418       0.234\n",
       "mpaa_rating_PG_13    -0.3496      0.165     -2.116      0.035      -0.674      -0.025\n",
       "mpaa_rating_R        -0.4034      0.166     -2.426      0.015      -0.730      -0.077\n",
       "==============================================================================\n",
       "Omnibus:                      849.330   Durbin-Watson:                   1.925\n",
       "Prob(Omnibus):                  0.000   Jarque-Bera (JB):            25908.797\n",
       "Skew:                           2.547   Prob(JB):                         0.00\n",
       "Kurtosis:                      24.269   Cond. No.                         65.7\n",
       "==============================================================================\n",
       "\n",
       "Notes:\n",
       "[1] Standard Errors assume that the covariance matrix of the errors is correctly specified.\n",
       "\"\"\""
      ]
     },
     "metadata": {},
     "output_type": "display_data"
    },
    {
     "data": {
      "image/png": "[encoded data removed]",
      "text/plain": [
       "<Figure size 576x396 with 1 Axes>"
      ]
     },
     "metadata": {
      "needs_background": "light"
     },
     "output_type": "display_data"
    }
   ],
   "source": [
    "## Drop any multicollinear features\n",
    "# None\n",
    "\n",
    "## Create a string representing the right side of the ~ in our formula\n",
    "features = ' + '.join(df_scaled.drop('revenue',axis=1).columns)\n",
    "\n",
    "## Create the final formula and create the model\n",
    "f  = \"revenue~\"+features\n",
    "\n",
    "model = smf.ols(f, df_scaled).fit()\n",
    "display(model.summary())\n",
    "sm.graphics.qqplot(model.resid,line='45',fit=True);"
   ]
  },
  {
   "cell_type": "code",
   "execution_count": 57,
   "metadata": {},
   "outputs": [
    {
     "data": {
      "text/html": [
       "<div>\n",
       "<style scoped>\n",
       "    .dataframe tbody tr th:only-of-type {\n",
       "        vertical-align: middle;\n",
       "    }\n",
       "\n",
       "    .dataframe tbody tr th {\n",
       "        vertical-align: top;\n",
       "    }\n",
       "\n",
       "    .dataframe thead th {\n",
       "        text-align: right;\n",
       "    }\n",
       "</style>\n",
       "<table border=\"1\" class=\"dataframe\">\n",
       "  <thead>\n",
       "    <tr style=\"text-align: right;\">\n",
       "      <th></th>\n",
       "      <th>Coeffs</th>\n",
       "      <th>Abs</th>\n",
       "    </tr>\n",
       "  </thead>\n",
       "  <tbody>\n",
       "    <tr>\n",
       "      <th>vote_count</th>\n",
       "      <td>0.46</td>\n",
       "      <td>0.46</td>\n",
       "    </tr>\n",
       "    <tr>\n",
       "      <th>budget</th>\n",
       "      <td>0.41</td>\n",
       "      <td>0.41</td>\n",
       "    </tr>\n",
       "    <tr>\n",
       "      <th>mpaa_rating_R</th>\n",
       "      <td>-0.4</td>\n",
       "      <td>0.4</td>\n",
       "    </tr>\n",
       "    <tr>\n",
       "      <th>mpaa_rating_PG_13</th>\n",
       "      <td>-0.35</td>\n",
       "      <td>0.35</td>\n",
       "    </tr>\n",
       "    <tr>\n",
       "      <th>Intercept</th>\n",
       "      <td>0.34</td>\n",
       "      <td>0.34</td>\n",
       "    </tr>\n",
       "    <tr>\n",
       "      <th>mpaa_rating_NC_17</th>\n",
       "      <td>-0.3</td>\n",
       "      <td>0.3</td>\n",
       "    </tr>\n",
       "    <tr>\n",
       "      <th>mpaa_rating_NR</th>\n",
       "      <td>-0.25</td>\n",
       "      <td>0.25</td>\n",
       "    </tr>\n",
       "    <tr>\n",
       "      <th>popularity</th>\n",
       "      <td>0.14</td>\n",
       "      <td>0.14</td>\n",
       "    </tr>\n",
       "    <tr>\n",
       "      <th>mpaa_rating_PG</th>\n",
       "      <td>-0.09</td>\n",
       "      <td>0.09</td>\n",
       "    </tr>\n",
       "    <tr>\n",
       "      <th>runtime</th>\n",
       "      <td>-0.03</td>\n",
       "      <td>0.03</td>\n",
       "    </tr>\n",
       "    <tr>\n",
       "      <th>vote_average</th>\n",
       "      <td>-0.02</td>\n",
       "      <td>0.02</td>\n",
       "    </tr>\n",
       "  </tbody>\n",
       "</table>\n",
       "</div>"
      ],
      "text/plain": [
       "                   Coeffs  Abs\n",
       "vote_count           0.46 0.46\n",
       "budget               0.41 0.41\n",
       "mpaa_rating_R        -0.4  0.4\n",
       "mpaa_rating_PG_13   -0.35 0.35\n",
       "Intercept            0.34 0.34\n",
       "mpaa_rating_NC_17    -0.3  0.3\n",
       "mpaa_rating_NR      -0.25 0.25\n",
       "popularity           0.14 0.14\n",
       "mpaa_rating_PG      -0.09 0.09\n",
       "runtime             -0.03 0.03\n",
       "vote_average        -0.02 0.02"
      ]
     },
     "execution_count": 57,
     "metadata": {},
     "output_type": "execute_result"
    }
   ],
   "source": [
    "coeffs = model.params.sort_values().to_frame('Coeffs')\n",
    "coeffs['Abs'] = coeffs['Coeffs'].abs()\n",
    "coeffs.sort_values('Abs',ascending=False,inplace=True)\n",
    "coeffs.round(2)"
   ]
  },
  {
   "cell_type": "code",
   "execution_count": 69,
   "metadata": {},
   "outputs": [],
   "source": [
    "keep_me = list(coeffs[coeffs['Abs'] > .08].index)\n",
    "keep_me.remove('Intercept')"
   ]
  },
  {
   "cell_type": "code",
   "execution_count": 70,
   "metadata": {},
   "outputs": [
    {
     "data": {
      "text/html": [
       "<table class=\"simpletable\">\n",
       "<caption>OLS Regression Results</caption>\n",
       "<tr>\n",
       "  <th>Dep. Variable:</th>         <td>revenue</td>     <th>  R-squared:         </th> <td>   0.766</td>\n",
       "</tr>\n",
       "<tr>\n",
       "  <th>Model:</th>                   <td>OLS</td>       <th>  Adj. R-squared:    </th> <td>   0.765</td>\n",
       "</tr>\n",
       "<tr>\n",
       "  <th>Method:</th>             <td>Least Squares</td>  <th>  F-statistic:       </th> <td>   529.0</td>\n",
       "</tr>\n",
       "<tr>\n",
       "  <th>Date:</th>             <td>Fri, 09 Apr 2021</td> <th>  Prob (F-statistic):</th>  <td>  0.00</td> \n",
       "</tr>\n",
       "<tr>\n",
       "  <th>Time:</th>                 <td>14:26:05</td>     <th>  Log-Likelihood:    </th> <td> -899.86</td>\n",
       "</tr>\n",
       "<tr>\n",
       "  <th>No. Observations:</th>      <td>  1300</td>      <th>  AIC:               </th> <td>   1818.</td>\n",
       "</tr>\n",
       "<tr>\n",
       "  <th>Df Residuals:</th>          <td>  1291</td>      <th>  BIC:               </th> <td>   1864.</td>\n",
       "</tr>\n",
       "<tr>\n",
       "  <th>Df Model:</th>              <td>     8</td>      <th>                     </th>     <td> </td>   \n",
       "</tr>\n",
       "<tr>\n",
       "  <th>Covariance Type:</th>      <td>nonrobust</td>    <th>                     </th>     <td> </td>   \n",
       "</tr>\n",
       "</table>\n",
       "<table class=\"simpletable\">\n",
       "<tr>\n",
       "          <td></td>             <th>coef</th>     <th>std err</th>      <th>t</th>      <th>P>|t|</th>  <th>[0.025</th>    <th>0.975]</th>  \n",
       "</tr>\n",
       "<tr>\n",
       "  <th>Intercept</th>         <td>    0.3636</td> <td>    0.163</td> <td>    2.235</td> <td> 0.026</td> <td>    0.044</td> <td>    0.683</td>\n",
       "</tr>\n",
       "<tr>\n",
       "  <th>vote_count</th>        <td>    0.4458</td> <td>    0.019</td> <td>   24.025</td> <td> 0.000</td> <td>    0.409</td> <td>    0.482</td>\n",
       "</tr>\n",
       "<tr>\n",
       "  <th>budget</th>            <td>    0.3989</td> <td>    0.020</td> <td>   19.812</td> <td> 0.000</td> <td>    0.359</td> <td>    0.438</td>\n",
       "</tr>\n",
       "<tr>\n",
       "  <th>mpaa_rating_R</th>     <td>   -0.4344</td> <td>    0.165</td> <td>   -2.638</td> <td> 0.008</td> <td>   -0.757</td> <td>   -0.111</td>\n",
       "</tr>\n",
       "<tr>\n",
       "  <th>mpaa_rating_PG_13</th> <td>   -0.3795</td> <td>    0.164</td> <td>   -2.316</td> <td> 0.021</td> <td>   -0.701</td> <td>   -0.058</td>\n",
       "</tr>\n",
       "<tr>\n",
       "  <th>mpaa_rating_NC_17</th> <td>   -0.3834</td> <td>    0.512</td> <td>   -0.748</td> <td> 0.454</td> <td>   -1.388</td> <td>    0.621</td>\n",
       "</tr>\n",
       "<tr>\n",
       "  <th>mpaa_rating_NR</th>    <td>   -0.2608</td> <td>    0.194</td> <td>   -1.347</td> <td> 0.178</td> <td>   -0.641</td> <td>    0.119</td>\n",
       "</tr>\n",
       "<tr>\n",
       "  <th>popularity</th>        <td>    0.1413</td> <td>    0.017</td> <td>    8.546</td> <td> 0.000</td> <td>    0.109</td> <td>    0.174</td>\n",
       "</tr>\n",
       "<tr>\n",
       "  <th>mpaa_rating_PG</th>    <td>   -0.1056</td> <td>    0.166</td> <td>   -0.636</td> <td> 0.525</td> <td>   -0.431</td> <td>    0.220</td>\n",
       "</tr>\n",
       "</table>\n",
       "<table class=\"simpletable\">\n",
       "<tr>\n",
       "  <th>Omnibus:</th>       <td>840.362</td> <th>  Durbin-Watson:     </th> <td>   1.935</td> \n",
       "</tr>\n",
       "<tr>\n",
       "  <th>Prob(Omnibus):</th> <td> 0.000</td>  <th>  Jarque-Bera (JB):  </th> <td>24730.681</td>\n",
       "</tr>\n",
       "<tr>\n",
       "  <th>Skew:</th>          <td> 2.520</td>  <th>  Prob(JB):          </th> <td>    0.00</td> \n",
       "</tr>\n",
       "<tr>\n",
       "  <th>Kurtosis:</th>      <td>23.765</td>  <th>  Cond. No.          </th> <td>    58.4</td> \n",
       "</tr>\n",
       "</table><br/><br/>Notes:<br/>[1] Standard Errors assume that the covariance matrix of the errors is correctly specified."
      ],
      "text/plain": [
       "<class 'statsmodels.iolib.summary.Summary'>\n",
       "\"\"\"\n",
       "                            OLS Regression Results                            \n",
       "==============================================================================\n",
       "Dep. Variable:                revenue   R-squared:                       0.766\n",
       "Model:                            OLS   Adj. R-squared:                  0.765\n",
       "Method:                 Least Squares   F-statistic:                     529.0\n",
       "Date:                Fri, 09 Apr 2021   Prob (F-statistic):               0.00\n",
       "Time:                        14:26:05   Log-Likelihood:                -899.86\n",
       "No. Observations:                1300   AIC:                             1818.\n",
       "Df Residuals:                    1291   BIC:                             1864.\n",
       "Df Model:                           8                                         \n",
       "Covariance Type:            nonrobust                                         \n",
       "=====================================================================================\n",
       "                        coef    std err          t      P>|t|      [0.025      0.975]\n",
       "-------------------------------------------------------------------------------------\n",
       "Intercept             0.3636      0.163      2.235      0.026       0.044       0.683\n",
       "vote_count            0.4458      0.019     24.025      0.000       0.409       0.482\n",
       "budget                0.3989      0.020     19.812      0.000       0.359       0.438\n",
       "mpaa_rating_R        -0.4344      0.165     -2.638      0.008      -0.757      -0.111\n",
       "mpaa_rating_PG_13    -0.3795      0.164     -2.316      0.021      -0.701      -0.058\n",
       "mpaa_rating_NC_17    -0.3834      0.512     -0.748      0.454      -1.388       0.621\n",
       "mpaa_rating_NR       -0.2608      0.194     -1.347      0.178      -0.641       0.119\n",
       "popularity            0.1413      0.017      8.546      0.000       0.109       0.174\n",
       "mpaa_rating_PG       -0.1056      0.166     -0.636      0.525      -0.431       0.220\n",
       "==============================================================================\n",
       "Omnibus:                      840.362   Durbin-Watson:                   1.935\n",
       "Prob(Omnibus):                  0.000   Jarque-Bera (JB):            24730.681\n",
       "Skew:                           2.520   Prob(JB):                         0.00\n",
       "Kurtosis:                      23.765   Cond. No.                         58.4\n",
       "==============================================================================\n",
       "\n",
       "Notes:\n",
       "[1] Standard Errors assume that the covariance matrix of the errors is correctly specified.\n",
       "\"\"\""
      ]
     },
     "metadata": {},
     "output_type": "display_data"
    },
    {
     "data": {
      "image/png": "[encoded data removed]",
      "text/plain": [
       "<Figure size 576x396 with 1 Axes>"
      ]
     },
     "metadata": {
      "needs_background": "light"
     },
     "output_type": "display_data"
    }
   ],
   "source": [
    "## Drop any multicollinear features\n",
    "# None\n",
    "\n",
    "## Create a string representing the right side of the ~ in our formula\n",
    "features = ' + '.join(keep_me) #.join(df_scaled.drop('revenue',axis=1).columns)\n",
    "\n",
    "## Create the final formula and create the model\n",
    "f  = \"revenue~\"+features\n",
    "\n",
    "model = smf.ols(f, df_scaled).fit()\n",
    "display(model.summary())\n",
    "sm.graphics.qqplot(model.resid,line='45',fit=True);"
   ]
  },
  {
   "cell_type": "markdown",
   "metadata": {},
   "source": [
    "# [New] Activity - Part 2 "
   ]
  },
  {
   "cell_type": "markdown",
   "metadata": {},
   "source": [
    "- Additional Topics to discuss tomorrow:\n",
    "    - train-test-split/cross-validation\n",
    "    - Using VIF to deal with multicollinearity\n",
    "    - Using feature selection methods\n",
    "    - Outlier removal"
   ]
  },
  {
   "cell_type": "markdown",
   "metadata": {},
   "source": [
    "## Dealing with Multicollinearity with VIF"
   ]
  },
  {
   "cell_type": "markdown",
   "metadata": {},
   "source": [
    "Definition: when 2 features are more related to each than the target.\n",
    "\n",
    "> $\\large V.I.F. = \\frac{1}{(1 - R^2)} $<br>\n",
    "- [VIF (Variance Inflation Factor)](https://etav.github.io/python/vif_factor_python.html) \n",
    "- [Wikipedia: VIF](https://en.wikipedia.org/wiki/Variance_inflation_factor)\n",
    "\n",
    "- Statsmodels:\n",
    "    - https://www.statsmodels.org/stable/generated/statsmodels.stats.outliers_influence.variance_inflation_factor.html"
   ]
  },
  {
   "cell_type": "code",
   "execution_count": null,
   "metadata": {},
   "outputs": [],
   "source": [
    "## MUST UPDATE FOR OUR TASK. For VIF\n",
    "from statsmodels.stats.outliers_influence import (OLSInfluence,\n",
    "                                                  variance_inflation_factor)\n",
    "def calculate_vif():\n",
    "    pass"
   ]
  },
  {
   "cell_type": "markdown",
   "metadata": {},
   "source": [
    "## Train Test Split / Cross Validation"
   ]
  },
  {
   "cell_type": "code",
   "execution_count": 71,
   "metadata": {},
   "outputs": [],
   "source": [
    "from sklearn.model_selection import (train_test_split, \n",
    "                                     cross_val_predict,\n",
    "                                     cross_validate,\n",
    "                                     cross_val_score)"
   ]
  },
  {
   "cell_type": "code",
   "execution_count": 73,
   "metadata": {},
   "outputs": [
    {
     "data": {
      "text/plain": [
       "((975, 11), (325, 11))"
      ]
     },
     "execution_count": 73,
     "metadata": {},
     "output_type": "execute_result"
    }
   ],
   "source": [
    "df_train, df_test = train_test_split(df_model,random_state=42)\n",
    "df_train.shape,df_test.shape"
   ]
  },
  {
   "cell_type": "code",
   "execution_count": 75,
   "metadata": {},
   "outputs": [
    {
     "data": {
      "text/plain": [
       "((975,), (325,))"
      ]
     },
     "execution_count": 75,
     "metadata": {},
     "output_type": "execute_result"
    }
   ],
   "source": [
    "y_train.shape, y_test.shape"
   ]
  },
  {
   "cell_type": "code",
   "execution_count": 77,
   "metadata": {},
   "outputs": [
    {
     "data": {
      "text/html": [
       "<table class=\"simpletable\">\n",
       "<caption>OLS Regression Results</caption>\n",
       "<tr>\n",
       "  <th>Dep. Variable:</th>         <td>revenue</td>     <th>  R-squared:         </th> <td>   0.776</td> \n",
       "</tr>\n",
       "<tr>\n",
       "  <th>Model:</th>                   <td>OLS</td>       <th>  Adj. R-squared:    </th> <td>   0.774</td> \n",
       "</tr>\n",
       "<tr>\n",
       "  <th>Method:</th>             <td>Least Squares</td>  <th>  F-statistic:       </th> <td>   334.7</td> \n",
       "</tr>\n",
       "<tr>\n",
       "  <th>Date:</th>             <td>Fri, 09 Apr 2021</td> <th>  Prob (F-statistic):</th> <td>2.32e-305</td>\n",
       "</tr>\n",
       "<tr>\n",
       "  <th>Time:</th>                 <td>14:48:58</td>     <th>  Log-Likelihood:    </th> <td> -19599.</td> \n",
       "</tr>\n",
       "<tr>\n",
       "  <th>No. Observations:</th>      <td>   975</td>      <th>  AIC:               </th> <td>3.922e+04</td>\n",
       "</tr>\n",
       "<tr>\n",
       "  <th>Df Residuals:</th>          <td>   964</td>      <th>  BIC:               </th> <td>3.927e+04</td>\n",
       "</tr>\n",
       "<tr>\n",
       "  <th>Df Model:</th>              <td>    10</td>      <th>                     </th>     <td> </td>    \n",
       "</tr>\n",
       "<tr>\n",
       "  <th>Covariance Type:</th>      <td>nonrobust</td>    <th>                     </th>     <td> </td>    \n",
       "</tr>\n",
       "</table>\n",
       "<table class=\"simpletable\">\n",
       "<tr>\n",
       "          <td></td>             <th>coef</th>     <th>std err</th>      <th>t</th>      <th>P>|t|</th>  <th>[0.025</th>    <th>0.975]</th>  \n",
       "</tr>\n",
       "<tr>\n",
       "  <th>Intercept</th>         <td> 9.389e+07</td> <td> 5.96e+07</td> <td>    1.575</td> <td> 0.116</td> <td>-2.31e+07</td> <td> 2.11e+08</td>\n",
       "</tr>\n",
       "<tr>\n",
       "  <th>runtime</th>           <td>-5.402e+05</td> <td> 3.01e+05</td> <td>   -1.792</td> <td> 0.073</td> <td>-1.13e+06</td> <td> 5.14e+04</td>\n",
       "</tr>\n",
       "<tr>\n",
       "  <th>budget</th>            <td>    2.1334</td> <td>    0.119</td> <td>   17.888</td> <td> 0.000</td> <td>    1.899</td> <td>    2.367</td>\n",
       "</tr>\n",
       "<tr>\n",
       "  <th>vote_count</th>        <td> 3.237e+04</td> <td> 1652.493</td> <td>   19.590</td> <td> 0.000</td> <td> 2.91e+04</td> <td> 3.56e+04</td>\n",
       "</tr>\n",
       "<tr>\n",
       "  <th>vote_average</th>      <td>-2.951e+06</td> <td> 5.24e+06</td> <td>   -0.563</td> <td> 0.574</td> <td>-1.32e+07</td> <td> 7.34e+06</td>\n",
       "</tr>\n",
       "<tr>\n",
       "  <th>popularity</th>        <td> 9.149e+05</td> <td> 1.31e+05</td> <td>    6.995</td> <td> 0.000</td> <td> 6.58e+05</td> <td> 1.17e+06</td>\n",
       "</tr>\n",
       "<tr>\n",
       "  <th>mpaa_rating_NC_17</th> <td>-7.237e+07</td> <td>  1.4e+08</td> <td>   -0.517</td> <td> 0.605</td> <td>-3.47e+08</td> <td> 2.02e+08</td>\n",
       "</tr>\n",
       "<tr>\n",
       "  <th>mpaa_rating_NR</th>    <td>-6.373e+07</td> <td> 5.68e+07</td> <td>   -1.122</td> <td> 0.262</td> <td>-1.75e+08</td> <td> 4.77e+07</td>\n",
       "</tr>\n",
       "<tr>\n",
       "  <th>mpaa_rating_PG</th>    <td>-2.081e+07</td> <td>  4.8e+07</td> <td>   -0.434</td> <td> 0.664</td> <td>-1.15e+08</td> <td> 7.33e+07</td>\n",
       "</tr>\n",
       "<tr>\n",
       "  <th>mpaa_rating_PG_13</th> <td>-9.616e+07</td> <td> 4.76e+07</td> <td>   -2.021</td> <td> 0.044</td> <td> -1.9e+08</td> <td>-2.78e+06</td>\n",
       "</tr>\n",
       "<tr>\n",
       "  <th>mpaa_rating_R</th>     <td>-1.032e+08</td> <td> 4.81e+07</td> <td>   -2.146</td> <td> 0.032</td> <td>-1.98e+08</td> <td>-8.84e+06</td>\n",
       "</tr>\n",
       "</table>\n",
       "<table class=\"simpletable\">\n",
       "<tr>\n",
       "  <th>Omnibus:</th>       <td>588.038</td> <th>  Durbin-Watson:     </th> <td>   1.974</td> \n",
       "</tr>\n",
       "<tr>\n",
       "  <th>Prob(Omnibus):</th> <td> 0.000</td>  <th>  Jarque-Bera (JB):  </th> <td>15828.707</td>\n",
       "</tr>\n",
       "<tr>\n",
       "  <th>Skew:</th>          <td> 2.261</td>  <th>  Prob(JB):          </th> <td>    0.00</td> \n",
       "</tr>\n",
       "<tr>\n",
       "  <th>Kurtosis:</th>      <td>22.214</td>  <th>  Cond. No.          </th> <td>2.56e+09</td> \n",
       "</tr>\n",
       "</table><br/><br/>Notes:<br/>[1] Standard Errors assume that the covariance matrix of the errors is correctly specified.<br/>[2] The condition number is large, 2.56e+09. This might indicate that there are<br/>strong multicollinearity or other numerical problems."
      ],
      "text/plain": [
       "<class 'statsmodels.iolib.summary.Summary'>\n",
       "\"\"\"\n",
       "                            OLS Regression Results                            \n",
       "==============================================================================\n",
       "Dep. Variable:                revenue   R-squared:                       0.776\n",
       "Model:                            OLS   Adj. R-squared:                  0.774\n",
       "Method:                 Least Squares   F-statistic:                     334.7\n",
       "Date:                Fri, 09 Apr 2021   Prob (F-statistic):          2.32e-305\n",
       "Time:                        14:48:58   Log-Likelihood:                -19599.\n",
       "No. Observations:                 975   AIC:                         3.922e+04\n",
       "Df Residuals:                     964   BIC:                         3.927e+04\n",
       "Df Model:                          10                                         \n",
       "Covariance Type:            nonrobust                                         \n",
       "=====================================================================================\n",
       "                        coef    std err          t      P>|t|      [0.025      0.975]\n",
       "-------------------------------------------------------------------------------------\n",
       "Intercept          9.389e+07   5.96e+07      1.575      0.116   -2.31e+07    2.11e+08\n",
       "runtime           -5.402e+05   3.01e+05     -1.792      0.073   -1.13e+06    5.14e+04\n",
       "budget                2.1334      0.119     17.888      0.000       1.899       2.367\n",
       "vote_count         3.237e+04   1652.493     19.590      0.000    2.91e+04    3.56e+04\n",
       "vote_average      -2.951e+06   5.24e+06     -0.563      0.574   -1.32e+07    7.34e+06\n",
       "popularity         9.149e+05   1.31e+05      6.995      0.000    6.58e+05    1.17e+06\n",
       "mpaa_rating_NC_17 -7.237e+07    1.4e+08     -0.517      0.605   -3.47e+08    2.02e+08\n",
       "mpaa_rating_NR    -6.373e+07   5.68e+07     -1.122      0.262   -1.75e+08    4.77e+07\n",
       "mpaa_rating_PG    -2.081e+07    4.8e+07     -0.434      0.664   -1.15e+08    7.33e+07\n",
       "mpaa_rating_PG_13 -9.616e+07   4.76e+07     -2.021      0.044    -1.9e+08   -2.78e+06\n",
       "mpaa_rating_R     -1.032e+08   4.81e+07     -2.146      0.032   -1.98e+08   -8.84e+06\n",
       "==============================================================================\n",
       "Omnibus:                      588.038   Durbin-Watson:                   1.974\n",
       "Prob(Omnibus):                  0.000   Jarque-Bera (JB):            15828.707\n",
       "Skew:                           2.261   Prob(JB):                         0.00\n",
       "Kurtosis:                      22.214   Cond. No.                     2.56e+09\n",
       "==============================================================================\n",
       "\n",
       "Notes:\n",
       "[1] Standard Errors assume that the covariance matrix of the errors is correctly specified.\n",
       "[2] The condition number is large, 2.56e+09. This might indicate that there are\n",
       "strong multicollinearity or other numerical problems.\n",
       "\"\"\""
      ]
     },
     "metadata": {},
     "output_type": "display_data"
    },
    {
     "data": {
      "image/png": "[encoded data removed]",
      "text/plain": [
       "<Figure size 576x396 with 1 Axes>"
      ]
     },
     "metadata": {
      "needs_background": "light"
     },
     "output_type": "display_data"
    }
   ],
   "source": [
    "## Drop any multicollinear features\n",
    "# None\n",
    "\n",
    "## Create a string representing the right side of the ~ in our formula\n",
    "features = ' + '.join(df_train.drop('revenue',axis=1).columns)\n",
    "\n",
    "## Create the final formula and create the model\n",
    "f  = \"revenue~\"+features\n",
    "\n",
    "model = smf.ols(f, df_train).fit()\n",
    "display(model.summary())\n",
    "sm.graphics.qqplot(model.resid,line='45',fit=True);"
   ]
  },
  {
   "cell_type": "code",
   "execution_count": 79,
   "metadata": {},
   "outputs": [],
   "source": [
    "from sklearn import metrics"
   ]
  },
  {
   "cell_type": "code",
   "execution_count": 80,
   "metadata": {},
   "outputs": [
    {
     "data": {
      "text/plain": [
       "0.7764017624239951"
      ]
     },
     "execution_count": 80,
     "metadata": {},
     "output_type": "execute_result"
    }
   ],
   "source": [
    "y_hat_train = model.predict(df_train)\n",
    "metrics.r2_score(df_train['revenue'],y_hat_train)"
   ]
  },
  {
   "cell_type": "code",
   "execution_count": 82,
   "metadata": {},
   "outputs": [
    {
     "data": {
      "text/plain": [
       "0.7293542539534115"
      ]
     },
     "execution_count": 82,
     "metadata": {},
     "output_type": "execute_result"
    }
   ],
   "source": [
    "y_hat_test = model.predict(df_test)\n",
    "metrics.r2_score(df_test['revenue'],y_hat_test)"
   ]
  },
  {
   "cell_type": "code",
   "execution_count": 83,
   "metadata": {},
   "outputs": [],
   "source": [
    "from sklearn.linear_model import LinearRegression"
   ]
  },
  {
   "cell_type": "code",
   "execution_count": 85,
   "metadata": {},
   "outputs": [
    {
     "data": {
      "text/plain": [
       "((975, 10), (325, 10))"
      ]
     },
     "execution_count": 85,
     "metadata": {},
     "output_type": "execute_result"
    }
   ],
   "source": [
    "y = df_model['revenue'].copy()\n",
    "X = df_model.drop('revenue',axis=1).copy()\n",
    "\n",
    "\n",
    "X_train, X_test, y_train, y_test = train_test_split(X,y,random_state=42)\n",
    "X_train.shape,X_test.shape"
   ]
  },
  {
   "cell_type": "code",
   "execution_count": 87,
   "metadata": {},
   "outputs": [
    {
     "data": {
      "text/plain": [
       "0.7764017624239951"
      ]
     },
     "execution_count": 87,
     "metadata": {},
     "output_type": "execute_result"
    }
   ],
   "source": [
    "reg = LinearRegression()\n",
    "reg.fit(X_train, y_train)\n",
    "reg.score(X_train,y_train)"
   ]
  },
  {
   "cell_type": "code",
   "execution_count": 88,
   "metadata": {},
   "outputs": [
    {
     "data": {
      "text/plain": [
       "0.7293542539635622"
      ]
     },
     "execution_count": 88,
     "metadata": {},
     "output_type": "execute_result"
    }
   ],
   "source": [
    "reg.score(X_test,y_test)"
   ]
  },
  {
   "cell_type": "code",
   "execution_count": 89,
   "metadata": {},
   "outputs": [
    {
     "data": {
      "text/plain": [
       "{'fit_time': array([0.00376177, 0.00349593, 0.00387406, 0.00335383, 0.00361681,\n",
       "        0.00302505, 0.00340104, 0.00409603, 0.00457406, 0.00301003]),\n",
       " 'score_time': array([0.00281501, 0.00391698, 0.00238895, 0.00225616, 0.00202394,\n",
       "        0.0029459 , 0.0021131 , 0.00241089, 0.00312018, 0.002038  ]),\n",
       " 'test_score': array([0.57128848, 0.58422893, 0.80301134, 0.87397601, 0.76983391,\n",
       "        0.73577135, 0.60631994, 0.74843037, 0.7903412 , 0.89025789])}"
      ]
     },
     "execution_count": 89,
     "metadata": {},
     "output_type": "execute_result"
    }
   ],
   "source": [
    "results = cross_validate(reg,X_train, y_train,cv=10)\n",
    "results"
   ]
  },
  {
   "cell_type": "code",
   "execution_count": 92,
   "metadata": {},
   "outputs": [
    {
     "data": {
      "text/plain": [
       "0.7373459432370459"
      ]
     },
     "execution_count": 92,
     "metadata": {},
     "output_type": "execute_result"
    }
   ],
   "source": [
    "results['test_score'].mean()"
   ]
  },
  {
   "cell_type": "code",
   "execution_count": 91,
   "metadata": {},
   "outputs": [
    {
     "data": {
      "text/plain": [
       "<AxesSubplot:>"
      ]
     },
     "execution_count": 91,
     "metadata": {},
     "output_type": "execute_result"
    },
    {
     "data": {
      "image/png": "[encoded data removed]",
      "text/plain": [
       "<Figure size 576x396 with 1 Axes>"
      ]
     },
     "metadata": {
      "needs_background": "light"
     },
     "output_type": "display_data"
    }
   ],
   "source": [
    "ax = pd.Series(results['test_score']).plot()"
   ]
  },
  {
   "cell_type": "code",
   "execution_count": 93,
   "metadata": {},
   "outputs": [
    {
     "data": {
      "text/plain": [
       "0.7650856172199471"
      ]
     },
     "execution_count": 93,
     "metadata": {},
     "output_type": "execute_result"
    }
   ],
   "source": [
    "y_hat_cross = cross_val_predict(reg, X_train, y_train,cv=10)\n",
    "metrics.r2_score(y_train,y_hat_cross)"
   ]
  },
  {
   "cell_type": "code",
   "execution_count": null,
   "metadata": {},
   "outputs": [],
   "source": []
  }
 ],
 "metadata": {
  "colab": {
   "collapsed_sections": [],
   "include_colab_link": true,
   "name": "section_08_Multiple_Regression_Part_1.ipynb",
   "provenance": []
  },
  "kernelspec": {
   "display_name": "learn-env-new",
   "language": "python",
   "name": "learn-env-new"
  },
  "language_info": {
   "codemirror_mode": {
    "name": "ipython",
    "version": 3
   },
   "file_extension": ".py",
   "mimetype": "text/x-python",
   "name": "python",
   "nbconvert_exporter": "python",
   "pygments_lexer": "ipython3",
   "version": "3.8.5"
  },
  "toc": {
   "base_numbering": 1,
   "nav_menu": {},
   "number_sections": true,
   "sideBar": true,
   "skip_h1_title": false,
   "title_cell": "Table of Contents",
   "title_sidebar": "Contents",
   "toc_cell": false,
   "toc_position": {
    "height": "calc(100% - 180px)",
    "left": "10px",
    "top": "150px",
    "width": "309px"
   },
   "toc_section_display": true,
   "toc_window_display": true
  },
  "varInspector": {
   "cols": {
    "lenName": 16,
    "lenType": 16,
    "lenVar": 40
   },
   "kernels_config": {
    "python": {
     "delete_cmd_postfix": "",
     "delete_cmd_prefix": "del ",
     "library": "var_list.py",
     "varRefreshCmd": "print(var_dic_list())"
    },
    "r": {
     "delete_cmd_postfix": ") ",
     "delete_cmd_prefix": "rm(",
     "library": "var_list.r",
     "varRefreshCmd": "cat(var_dic_list()) "
    }
   },
   "types_to_exclude": [
    "module",
    "function",
    "builtin_function_or_method",
    "instance",
    "_Feature"
   ],
   "window_display": false
  }
 },
 "nbformat": 4,
 "nbformat_minor": 1
}
