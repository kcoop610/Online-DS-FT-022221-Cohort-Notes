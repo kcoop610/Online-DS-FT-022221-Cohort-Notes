{
 "cells": [
  {
   "cell_type": "markdown",
   "metadata": {},
   "source": [
    "# Practicing AB Testing with Movies"
   ]
  },
  {
   "cell_type": "code",
   "execution_count": 7,
   "metadata": {},
   "outputs": [
    {
     "name": "stdout",
     "output_type": "stream",
     "text": [
      "The autoreload extension is already loaded. To reload it, use:\n",
      "  %reload_ext autoreload\n"
     ]
    }
   ],
   "source": [
    "## Importing our study group functions\n",
    "%load_ext autoreload\n",
    "%autoreload 2\n",
    "import sys\n",
    "py_folder = \"../../py_files/\"\n",
    "sys.path.append(py_folder)\n",
    "import functions_SG as sg"
   ]
  },
  {
   "cell_type": "code",
   "execution_count": 24,
   "metadata": {},
   "outputs": [],
   "source": [
    "import pandas as pd\n",
    "import matplotlib.pyplot as plt\n",
    "import seaborn as sns\n",
    "from scipy import stats\n",
    "plt.style.use('seaborn-talk')"
   ]
  },
  {
   "cell_type": "code",
   "execution_count": 8,
   "metadata": {},
   "outputs": [
    {
     "data": {
      "text/html": [
       "<div>\n",
       "<style scoped>\n",
       "    .dataframe tbody tr th:only-of-type {\n",
       "        vertical-align: middle;\n",
       "    }\n",
       "\n",
       "    .dataframe tbody tr th {\n",
       "        vertical-align: top;\n",
       "    }\n",
       "\n",
       "    .dataframe thead th {\n",
       "        text-align: right;\n",
       "    }\n",
       "</style>\n",
       "<table border=\"1\" class=\"dataframe\">\n",
       "  <thead>\n",
       "    <tr style=\"text-align: right;\">\n",
       "      <th></th>\n",
       "      <th>id</th>\n",
       "      <th>release_date</th>\n",
       "      <th>movie</th>\n",
       "      <th>production_budget</th>\n",
       "      <th>domestic_gross</th>\n",
       "      <th>worldwide_gross</th>\n",
       "      <th>tconst</th>\n",
       "      <th>primary_title</th>\n",
       "      <th>original_title</th>\n",
       "      <th>start_year</th>\n",
       "      <th>runtime_minutes</th>\n",
       "      <th>genres</th>\n",
       "      <th>revenue-domestic</th>\n",
       "      <th>revenue-worldwide</th>\n",
       "      <th>lost_money</th>\n",
       "      <th>roi-domestic</th>\n",
       "      <th>roi-worldwide</th>\n",
       "      <th>release_month</th>\n",
       "    </tr>\n",
       "  </thead>\n",
       "  <tbody>\n",
       "    <tr>\n",
       "      <th>0</th>\n",
       "      <td>2</td>\n",
       "      <td>2011-05-20</td>\n",
       "      <td>Pirates of the Caribbean: On Stranger Tides</td>\n",
       "      <td>410600000.0</td>\n",
       "      <td>241063875.0</td>\n",
       "      <td>1.045664e+09</td>\n",
       "      <td>tt1298650</td>\n",
       "      <td>Pirates of the Caribbean: On Stranger Tides</td>\n",
       "      <td>Pirates of the Caribbean: On Stranger Tides</td>\n",
       "      <td>2011</td>\n",
       "      <td>136.0</td>\n",
       "      <td>Action,Adventure,Fantasy</td>\n",
       "      <td>-169536125.0</td>\n",
       "      <td>6.350639e+08</td>\n",
       "      <td>True</td>\n",
       "      <td>-41.289850</td>\n",
       "      <td>154.667286</td>\n",
       "      <td>5</td>\n",
       "    </tr>\n",
       "    <tr>\n",
       "      <th>1</th>\n",
       "      <td>3</td>\n",
       "      <td>2019-06-07</td>\n",
       "      <td>Dark Phoenix</td>\n",
       "      <td>350000000.0</td>\n",
       "      <td>42762350.0</td>\n",
       "      <td>1.497624e+08</td>\n",
       "      <td>tt6565702</td>\n",
       "      <td>Dark Phoenix</td>\n",
       "      <td>Dark Phoenix</td>\n",
       "      <td>2019</td>\n",
       "      <td>113.0</td>\n",
       "      <td>Action,Adventure,Sci-Fi</td>\n",
       "      <td>-307237650.0</td>\n",
       "      <td>-2.002376e+08</td>\n",
       "      <td>True</td>\n",
       "      <td>-87.782186</td>\n",
       "      <td>-57.210757</td>\n",
       "      <td>6</td>\n",
       "    </tr>\n",
       "    <tr>\n",
       "      <th>2</th>\n",
       "      <td>4</td>\n",
       "      <td>2015-05-01</td>\n",
       "      <td>Avengers: Age of Ultron</td>\n",
       "      <td>330600000.0</td>\n",
       "      <td>459005868.0</td>\n",
       "      <td>1.403014e+09</td>\n",
       "      <td>tt2395427</td>\n",
       "      <td>Avengers: Age of Ultron</td>\n",
       "      <td>Avengers: Age of Ultron</td>\n",
       "      <td>2015</td>\n",
       "      <td>141.0</td>\n",
       "      <td>Action,Adventure,Sci-Fi</td>\n",
       "      <td>128405868.0</td>\n",
       "      <td>1.072414e+09</td>\n",
       "      <td>False</td>\n",
       "      <td>38.840250</td>\n",
       "      <td>324.384139</td>\n",
       "      <td>5</td>\n",
       "    </tr>\n",
       "    <tr>\n",
       "      <th>3</th>\n",
       "      <td>7</td>\n",
       "      <td>2018-04-27</td>\n",
       "      <td>Avengers: Infinity War</td>\n",
       "      <td>300000000.0</td>\n",
       "      <td>678815482.0</td>\n",
       "      <td>2.048134e+09</td>\n",
       "      <td>tt4154756</td>\n",
       "      <td>Avengers: Infinity War</td>\n",
       "      <td>Avengers: Infinity War</td>\n",
       "      <td>2018</td>\n",
       "      <td>149.0</td>\n",
       "      <td>Action,Adventure,Sci-Fi</td>\n",
       "      <td>378815482.0</td>\n",
       "      <td>1.748134e+09</td>\n",
       "      <td>False</td>\n",
       "      <td>126.271827</td>\n",
       "      <td>582.711400</td>\n",
       "      <td>4</td>\n",
       "    </tr>\n",
       "    <tr>\n",
       "      <th>4</th>\n",
       "      <td>9</td>\n",
       "      <td>2017-11-17</td>\n",
       "      <td>Justice League</td>\n",
       "      <td>300000000.0</td>\n",
       "      <td>229024295.0</td>\n",
       "      <td>6.559452e+08</td>\n",
       "      <td>tt0974015</td>\n",
       "      <td>Justice League</td>\n",
       "      <td>Justice League</td>\n",
       "      <td>2017</td>\n",
       "      <td>120.0</td>\n",
       "      <td>Action,Adventure,Fantasy</td>\n",
       "      <td>-70975705.0</td>\n",
       "      <td>3.559452e+08</td>\n",
       "      <td>True</td>\n",
       "      <td>-23.658568</td>\n",
       "      <td>118.648403</td>\n",
       "      <td>11</td>\n",
       "    </tr>\n",
       "  </tbody>\n",
       "</table>\n",
       "</div>"
      ],
      "text/plain": [
       "   id release_date                                        movie  \\\n",
       "0   2   2011-05-20  Pirates of the Caribbean: On Stranger Tides   \n",
       "1   3   2019-06-07                                 Dark Phoenix   \n",
       "2   4   2015-05-01                      Avengers: Age of Ultron   \n",
       "3   7   2018-04-27                       Avengers: Infinity War   \n",
       "4   9   2017-11-17                               Justice League   \n",
       "\n",
       "   production_budget  domestic_gross  worldwide_gross     tconst  \\\n",
       "0        410600000.0     241063875.0     1.045664e+09  tt1298650   \n",
       "1        350000000.0      42762350.0     1.497624e+08  tt6565702   \n",
       "2        330600000.0     459005868.0     1.403014e+09  tt2395427   \n",
       "3        300000000.0     678815482.0     2.048134e+09  tt4154756   \n",
       "4        300000000.0     229024295.0     6.559452e+08  tt0974015   \n",
       "\n",
       "                                 primary_title  \\\n",
       "0  Pirates of the Caribbean: On Stranger Tides   \n",
       "1                                 Dark Phoenix   \n",
       "2                      Avengers: Age of Ultron   \n",
       "3                       Avengers: Infinity War   \n",
       "4                               Justice League   \n",
       "\n",
       "                                original_title  start_year  runtime_minutes  \\\n",
       "0  Pirates of the Caribbean: On Stranger Tides        2011            136.0   \n",
       "1                                 Dark Phoenix        2019            113.0   \n",
       "2                      Avengers: Age of Ultron        2015            141.0   \n",
       "3                       Avengers: Infinity War        2018            149.0   \n",
       "4                               Justice League        2017            120.0   \n",
       "\n",
       "                     genres  revenue-domestic  revenue-worldwide  lost_money  \\\n",
       "0  Action,Adventure,Fantasy      -169536125.0       6.350639e+08        True   \n",
       "1   Action,Adventure,Sci-Fi      -307237650.0      -2.002376e+08        True   \n",
       "2   Action,Adventure,Sci-Fi       128405868.0       1.072414e+09       False   \n",
       "3   Action,Adventure,Sci-Fi       378815482.0       1.748134e+09       False   \n",
       "4  Action,Adventure,Fantasy       -70975705.0       3.559452e+08        True   \n",
       "\n",
       "   roi-domestic  roi-worldwide  release_month  \n",
       "0    -41.289850     154.667286              5  \n",
       "1    -87.782186     -57.210757              6  \n",
       "2     38.840250     324.384139              5  \n",
       "3    126.271827     582.711400              4  \n",
       "4    -23.658568     118.648403             11  "
      ]
     },
     "metadata": {},
     "output_type": "display_data"
    },
    {
     "name": "stdout",
     "output_type": "stream",
     "text": [
      "<class 'pandas.core.frame.DataFrame'>\n",
      "RangeIndex: 3467 entries, 0 to 3466\n",
      "Data columns (total 18 columns):\n",
      " #   Column             Non-Null Count  Dtype  \n",
      "---  ------             --------------  -----  \n",
      " 0   id                 3467 non-null   int64  \n",
      " 1   release_date       3467 non-null   object \n",
      " 2   movie              3467 non-null   object \n",
      " 3   production_budget  3467 non-null   float64\n",
      " 4   domestic_gross     3467 non-null   float64\n",
      " 5   worldwide_gross    3467 non-null   float64\n",
      " 6   tconst             3467 non-null   object \n",
      " 7   primary_title      3467 non-null   object \n",
      " 8   original_title     3467 non-null   object \n",
      " 9   start_year         3467 non-null   int64  \n",
      " 10  runtime_minutes    3056 non-null   float64\n",
      " 11  genres             3467 non-null   object \n",
      " 12  revenue-domestic   3467 non-null   float64\n",
      " 13  revenue-worldwide  3467 non-null   float64\n",
      " 14  lost_money         3467 non-null   bool   \n",
      " 15  roi-domestic       3467 non-null   float64\n",
      " 16  roi-worldwide      3467 non-null   float64\n",
      " 17  release_month      3467 non-null   int64  \n",
      "dtypes: bool(1), float64(8), int64(3), object(6)\n",
      "memory usage: 464.0+ KB\n"
     ]
    }
   ],
   "source": [
    "df = pd.read_csv('../topic_12_statistical_distributions/joined_movie_data_for_sg.csv')\n",
    "display(df.head())\n",
    "df.info()"
   ]
  },
  {
   "cell_type": "code",
   "execution_count": 11,
   "metadata": {},
   "outputs": [
    {
     "data": {
      "text/plain": [
       "id                     0\n",
       "release_date           0\n",
       "movie                  0\n",
       "production_budget      0\n",
       "domestic_gross         0\n",
       "worldwide_gross        0\n",
       "tconst                 0\n",
       "primary_title          0\n",
       "original_title         0\n",
       "start_year             0\n",
       "runtime_minutes      411\n",
       "genres                 0\n",
       "revenue-domestic       0\n",
       "revenue-worldwide      0\n",
       "lost_money             0\n",
       "roi-domestic           0\n",
       "roi-worldwide          0\n",
       "release_month          0\n",
       "dtype: int64"
      ]
     },
     "execution_count": 11,
     "metadata": {},
     "output_type": "execute_result"
    }
   ],
   "source": [
    "df.isna().sum()"
   ]
  },
  {
   "cell_type": "code",
   "execution_count": 12,
   "metadata": {},
   "outputs": [],
   "source": [
    "df.dropna(subset=['runtime_minutes'],inplace=True)"
   ]
  },
  {
   "cell_type": "markdown",
   "metadata": {},
   "source": [
    "# Q1: Do movies with longer run times generate more or less revenue than shorter run times?"
   ]
  },
  {
   "cell_type": "markdown",
   "metadata": {},
   "source": [
    "- H0: Long and Short Movies generate the same revenue. \n",
    "- H1: Long and Short Movies generate the same revenue.\n",
    "\n",
    "\n",
    "- Groups: define long/short movies\n",
    "- Measure: revenue-worldwide\n",
    "- test = two sample t-test"
   ]
  },
  {
   "cell_type": "code",
   "execution_count": 47,
   "metadata": {},
   "outputs": [
    {
     "name": "stderr",
     "output_type": "stream",
     "text": [
      "/opt/anaconda3/envs/learn-env-new/lib/python3.8/site-packages/seaborn/_decorators.py:36: FutureWarning: Pass the following variable as a keyword arg: x. From version 0.12, the only valid positional argument will be `data`, and passing other arguments without an explicit keyword will result in an error or misinterpretation.\n",
      "  warnings.warn(\n"
     ]
    },
    {
     "data": {
      "image/png": "[encoded data removed]",
      "text/plain": [
       "<Figure size 720x576 with 1 Axes>"
      ]
     },
     "metadata": {
      "needs_background": "light"
     },
     "output_type": "display_data"
    }
   ],
   "source": [
    "sg.plot_distribution(df['runtime_minutes'],boxplot=False, verbose=False);"
   ]
  },
  {
   "cell_type": "code",
   "execution_count": 44,
   "metadata": {},
   "outputs": [
    {
     "data": {
      "text/plain": [
       "count    3056.000000\n",
       "mean       97.269634\n",
       "std        27.459274\n",
       "min         1.000000\n",
       "25%        87.000000\n",
       "50%        98.000000\n",
       "75%       112.000000\n",
       "max       360.000000\n",
       "Name: runtime_minutes, dtype: float64"
      ]
     },
     "execution_count": 44,
     "metadata": {},
     "output_type": "execute_result"
    }
   ],
   "source": [
    "df['runtime_minutes'].describe()"
   ]
  },
  {
   "cell_type": "code",
   "execution_count": 16,
   "metadata": {},
   "outputs": [
    {
     "data": {
      "text/plain": [
       "Short    1575\n",
       "Long     1481\n",
       "Name: runtime_group, dtype: int64"
      ]
     },
     "execution_count": 16,
     "metadata": {},
     "output_type": "execute_result"
    }
   ],
   "source": [
    "## Create binary groups\n",
    "median = df['runtime_minutes'].median()\n",
    "df['runtime_group'] = (df['runtime_minutes'] >median ).map({True:'Long',\n",
    "                                                            False:'Short'})\n",
    "df['runtime_group'].value_counts()"
   ]
  },
  {
   "cell_type": "code",
   "execution_count": 19,
   "metadata": {},
   "outputs": [
    {
     "data": {
      "text/plain": [
       "<AxesSubplot:xlabel='runtime_group', ylabel='revenue-worldwide'>"
      ]
     },
     "execution_count": 19,
     "metadata": {},
     "output_type": "execute_result"
    },
    {
     "data": {
      "image/png": "[encoded data removed]",
      "text/plain": [
       "<Figure size 720x360 with 2 Axes>"
      ]
     },
     "metadata": {
      "needs_background": "light"
     },
     "output_type": "display_data"
    }
   ],
   "source": [
    "## Visualize Distributions and Means\n",
    "fig, axes = plt.subplots(ncols=2, figsize=(10,5),gridspec_kw={'width_ratios':[0.8,0.2]})\n",
    "\n",
    "sns.histplot(data=df,x='revenue-worldwide',hue='runtime_group' ,ax=axes[0])\n",
    "sns.barplot(data=df, y='revenue-worldwide',x='runtime_group' ,ax=axes[1],ci=68)\n"
   ]
  },
  {
   "cell_type": "code",
   "execution_count": 54,
   "metadata": {},
   "outputs": [
    {
     "name": "stderr",
     "output_type": "stream",
     "text": [
      "/opt/anaconda3/envs/learn-env-new/lib/python3.8/site-packages/seaborn/_decorators.py:36: FutureWarning: Pass the following variable as a keyword arg: x. From version 0.12, the only valid positional argument will be `data`, and passing other arguments without an explicit keyword will result in an error or misinterpretation.\n",
      "  warnings.warn(\n"
     ]
    },
    {
     "data": {
      "image/png": "[encoded data removed]",
      "text/plain": [
       "<Figure size 720x576 with 2 Axes>"
      ]
     },
     "metadata": {
      "needs_background": "light"
     },
     "output_type": "display_data"
    },
    {
     "name": "stdout",
     "output_type": "stream",
     "text": [
      "[i] Distribution Stats:\n",
      "\tSkew = 3.83\n",
      "\tKurtosis = 20.85\n",
      "\tN = 1,481\n",
      "\n",
      " NormaltestResult(statistic=1231.9903354325872, pvalue=2.9970761780432155e-268)\n",
      "\t- p<.05: The distribution is NOT normally distributed.\n"
     ]
    }
   ],
   "source": [
    "## Assumption of normality\n",
    "long = df.groupby('runtime_group').get_group('Long')\n",
    "sg.plot_distribution(long,col='revenue-worldwide');"
   ]
  },
  {
   "cell_type": "code",
   "execution_count": 55,
   "metadata": {},
   "outputs": [
    {
     "name": "stderr",
     "output_type": "stream",
     "text": [
      "/opt/anaconda3/envs/learn-env-new/lib/python3.8/site-packages/seaborn/_decorators.py:36: FutureWarning: Pass the following variable as a keyword arg: x. From version 0.12, the only valid positional argument will be `data`, and passing other arguments without an explicit keyword will result in an error or misinterpretation.\n",
      "  warnings.warn(\n"
     ]
    },
    {
     "data": {
      "image/png": "[encoded data removed]",
      "text/plain": [
       "<Figure size 720x576 with 2 Axes>"
      ]
     },
     "metadata": {
      "needs_background": "light"
     },
     "output_type": "display_data"
    },
    {
     "name": "stdout",
     "output_type": "stream",
     "text": [
      "[i] Distribution Stats:\n",
      "\tSkew = 4.63\n",
      "\tKurtosis = 27.23\n",
      "\tN = 1,575\n",
      "\n",
      " NormaltestResult(statistic=1506.7633480587187, pvalue=0.0)\n",
      "\t- p<.05: The distribution is NOT normally distributed.\n"
     ]
    }
   ],
   "source": [
    "short = df.groupby('runtime_group').get_group('Short')\n",
    "sg.plot_distribution(short,col='revenue-worldwide');"
   ]
  },
  {
   "cell_type": "code",
   "execution_count": 56,
   "metadata": {},
   "outputs": [
    {
     "data": {
      "text/plain": [
       "LeveneResult(statistic=65.80095161159777, pvalue=7.150107524254608e-16)"
      ]
     },
     "execution_count": 56,
     "metadata": {},
     "output_type": "execute_result"
    }
   ],
   "source": [
    "stats.levene(long['revenue-worldwide'],short['revenue-worldwide'])"
   ]
  },
  {
   "cell_type": "code",
   "execution_count": 57,
   "metadata": {},
   "outputs": [
    {
     "data": {
      "text/plain": [
       "MannwhitneyuResult(statistic=945753.5, pvalue=7.353809163784022e-20)"
      ]
     },
     "execution_count": 57,
     "metadata": {},
     "output_type": "execute_result"
    }
   ],
   "source": [
    "stats.mannwhitneyu(long['revenue-worldwide'],short['revenue-worldwide'])"
   ]
  },
  {
   "cell_type": "code",
   "execution_count": 58,
   "metadata": {},
   "outputs": [
    {
     "data": {
      "text/plain": [
       "Ttest_indResult(statistic=8.196467052904813, pvalue=3.929922747194687e-16)"
      ]
     },
     "execution_count": 58,
     "metadata": {},
     "output_type": "execute_result"
    }
   ],
   "source": [
    "stats.ttest_ind(long['revenue-worldwide'],short['revenue-worldwide'],equal_var=False)"
   ]
  },
  {
   "cell_type": "markdown",
   "metadata": {},
   "source": [
    "# Q2 Are short run time movies more likely to lose money?"
   ]
  },
  {
   "cell_type": "markdown",
   "metadata": {},
   "source": [
    "- Two categorical features\n",
    "- \n"
   ]
  },
  {
   "cell_type": "code",
   "execution_count": 59,
   "metadata": {},
   "outputs": [
    {
     "data": {
      "text/html": [
       "<div>\n",
       "<style scoped>\n",
       "    .dataframe tbody tr th:only-of-type {\n",
       "        vertical-align: middle;\n",
       "    }\n",
       "\n",
       "    .dataframe tbody tr th {\n",
       "        vertical-align: top;\n",
       "    }\n",
       "\n",
       "    .dataframe thead th {\n",
       "        text-align: right;\n",
       "    }\n",
       "</style>\n",
       "<table border=\"1\" class=\"dataframe\">\n",
       "  <thead>\n",
       "    <tr style=\"text-align: right;\">\n",
       "      <th>lost_money</th>\n",
       "      <th>False</th>\n",
       "      <th>True</th>\n",
       "    </tr>\n",
       "    <tr>\n",
       "      <th>runtime_group</th>\n",
       "      <th></th>\n",
       "      <th></th>\n",
       "    </tr>\n",
       "  </thead>\n",
       "  <tbody>\n",
       "    <tr>\n",
       "      <th>Long</th>\n",
       "      <td>662</td>\n",
       "      <td>819</td>\n",
       "    </tr>\n",
       "    <tr>\n",
       "      <th>Short</th>\n",
       "      <td>556</td>\n",
       "      <td>1019</td>\n",
       "    </tr>\n",
       "  </tbody>\n",
       "</table>\n",
       "</div>"
      ],
      "text/plain": [
       "lost_money     False  True \n",
       "runtime_group              \n",
       "Long             662    819\n",
       "Short            556   1019"
      ]
     },
     "execution_count": 59,
     "metadata": {},
     "output_type": "execute_result"
    }
   ],
   "source": [
    "iv_col = 'runtime_group'\n",
    "dep_col = 'lost_money'\n",
    "\n",
    "tab = pd.crosstab(df[iv_col],df[dep_col])\n",
    "tab"
   ]
  },
  {
   "cell_type": "markdown",
   "metadata": {},
   "source": [
    "### Chi-Squared"
   ]
  },
  {
   "cell_type": "code",
   "execution_count": 35,
   "metadata": {},
   "outputs": [
    {
     "data": {
      "text/plain": [
       "1.3931683245489407e-07"
      ]
     },
     "execution_count": 35,
     "metadata": {},
     "output_type": "execute_result"
    }
   ],
   "source": [
    "chi2,p,dof,expected = stats.chi2_contingency(tab)\n",
    "p"
   ]
  },
  {
   "cell_type": "code",
   "execution_count": 37,
   "metadata": {},
   "outputs": [
    {
     "data": {
      "text/html": [
       "<div>\n",
       "<style scoped>\n",
       "    .dataframe tbody tr th:only-of-type {\n",
       "        vertical-align: middle;\n",
       "    }\n",
       "\n",
       "    .dataframe tbody tr th {\n",
       "        vertical-align: top;\n",
       "    }\n",
       "\n",
       "    .dataframe thead th {\n",
       "        text-align: right;\n",
       "    }\n",
       "</style>\n",
       "<table border=\"1\" class=\"dataframe\">\n",
       "  <thead>\n",
       "    <tr style=\"text-align: right;\">\n",
       "      <th>lost_money</th>\n",
       "      <th>False</th>\n",
       "      <th>True</th>\n",
       "    </tr>\n",
       "    <tr>\n",
       "      <th>runtime_group</th>\n",
       "      <th></th>\n",
       "      <th></th>\n",
       "    </tr>\n",
       "  </thead>\n",
       "  <tbody>\n",
       "    <tr>\n",
       "      <th>Long</th>\n",
       "      <td>662</td>\n",
       "      <td>819</td>\n",
       "    </tr>\n",
       "    <tr>\n",
       "      <th>Short</th>\n",
       "      <td>556</td>\n",
       "      <td>1019</td>\n",
       "    </tr>\n",
       "  </tbody>\n",
       "</table>\n",
       "</div>"
      ],
      "text/plain": [
       "lost_money     False  True \n",
       "runtime_group              \n",
       "Long             662    819\n",
       "Short            556   1019"
      ]
     },
     "execution_count": 37,
     "metadata": {},
     "output_type": "execute_result"
    }
   ],
   "source": [
    "tab"
   ]
  },
  {
   "cell_type": "markdown",
   "metadata": {},
   "source": [
    "## Fisher's Exact"
   ]
  },
  {
   "cell_type": "code",
   "execution_count": 34,
   "metadata": {},
   "outputs": [
    {
     "data": {
      "text/plain": [
       "1.2280597507901087e-07"
      ]
     },
     "execution_count": 34,
     "metadata": {},
     "output_type": "execute_result"
    }
   ],
   "source": [
    "odds,p = stats.fisher_exact(tab)\n",
    "p"
   ]
  },
  {
   "cell_type": "code",
   "execution_count": null,
   "metadata": {},
   "outputs": [],
   "source": []
  },
  {
   "cell_type": "code",
   "execution_count": 32,
   "metadata": {},
   "outputs": [
    {
     "data": {
      "text/html": [
       "<div>\n",
       "<style scoped>\n",
       "    .dataframe tbody tr th:only-of-type {\n",
       "        vertical-align: middle;\n",
       "    }\n",
       "\n",
       "    .dataframe tbody tr th {\n",
       "        vertical-align: top;\n",
       "    }\n",
       "\n",
       "    .dataframe thead th {\n",
       "        text-align: right;\n",
       "    }\n",
       "</style>\n",
       "<table border=\"1\" class=\"dataframe\">\n",
       "  <thead>\n",
       "    <tr style=\"text-align: right;\">\n",
       "      <th>lost_money</th>\n",
       "      <th>False</th>\n",
       "      <th>True</th>\n",
       "      <th>All</th>\n",
       "    </tr>\n",
       "    <tr>\n",
       "      <th>runtime_group</th>\n",
       "      <th></th>\n",
       "      <th></th>\n",
       "      <th></th>\n",
       "    </tr>\n",
       "  </thead>\n",
       "  <tbody>\n",
       "    <tr>\n",
       "      <th>Long</th>\n",
       "      <td>0.216623</td>\n",
       "      <td>0.267997</td>\n",
       "      <td>0.48462</td>\n",
       "    </tr>\n",
       "    <tr>\n",
       "      <th>Short</th>\n",
       "      <td>0.181937</td>\n",
       "      <td>0.333442</td>\n",
       "      <td>0.51538</td>\n",
       "    </tr>\n",
       "    <tr>\n",
       "      <th>All</th>\n",
       "      <td>0.398560</td>\n",
       "      <td>0.601440</td>\n",
       "      <td>1.00000</td>\n",
       "    </tr>\n",
       "  </tbody>\n",
       "</table>\n",
       "</div>"
      ],
      "text/plain": [
       "lost_money        False      True      All\n",
       "runtime_group                             \n",
       "Long           0.216623  0.267997  0.48462\n",
       "Short          0.181937  0.333442  0.51538\n",
       "All            0.398560  0.601440  1.00000"
      ]
     },
     "execution_count": 32,
     "metadata": {},
     "output_type": "execute_result"
    }
   ],
   "source": [
    "tab_perc = pd.crosstab(df[iv_col],df[dep_col],normalize=True,margins=True)\n",
    "tab_perc"
   ]
  },
  {
   "cell_type": "markdown",
   "metadata": {},
   "source": [
    "# Do movies in some genres earn more revenue than others?"
   ]
  },
  {
   "cell_type": "code",
   "execution_count": 63,
   "metadata": {},
   "outputs": [
    {
     "data": {
      "text/html": [
       "<div>\n",
       "<style scoped>\n",
       "    .dataframe tbody tr th:only-of-type {\n",
       "        vertical-align: middle;\n",
       "    }\n",
       "\n",
       "    .dataframe tbody tr th {\n",
       "        vertical-align: top;\n",
       "    }\n",
       "\n",
       "    .dataframe thead th {\n",
       "        text-align: right;\n",
       "    }\n",
       "</style>\n",
       "<table border=\"1\" class=\"dataframe\">\n",
       "  <thead>\n",
       "    <tr style=\"text-align: right;\">\n",
       "      <th></th>\n",
       "      <th>id</th>\n",
       "      <th>release_date</th>\n",
       "      <th>movie</th>\n",
       "      <th>production_budget</th>\n",
       "      <th>domestic_gross</th>\n",
       "      <th>worldwide_gross</th>\n",
       "      <th>tconst</th>\n",
       "      <th>primary_title</th>\n",
       "      <th>original_title</th>\n",
       "      <th>start_year</th>\n",
       "      <th>runtime_minutes</th>\n",
       "      <th>genres</th>\n",
       "      <th>revenue-domestic</th>\n",
       "      <th>revenue-worldwide</th>\n",
       "      <th>lost_money</th>\n",
       "      <th>roi-domestic</th>\n",
       "      <th>roi-worldwide</th>\n",
       "      <th>release_month</th>\n",
       "      <th>runtime_group</th>\n",
       "      <th>genre_list</th>\n",
       "    </tr>\n",
       "  </thead>\n",
       "  <tbody>\n",
       "    <tr>\n",
       "      <th>0</th>\n",
       "      <td>2</td>\n",
       "      <td>2011-05-20</td>\n",
       "      <td>Pirates of the Caribbean: On Stranger Tides</td>\n",
       "      <td>410600000.0</td>\n",
       "      <td>241063875.0</td>\n",
       "      <td>1.045664e+09</td>\n",
       "      <td>tt1298650</td>\n",
       "      <td>Pirates of the Caribbean: On Stranger Tides</td>\n",
       "      <td>Pirates of the Caribbean: On Stranger Tides</td>\n",
       "      <td>2011</td>\n",
       "      <td>136.0</td>\n",
       "      <td>Action,Adventure,Fantasy</td>\n",
       "      <td>-169536125.0</td>\n",
       "      <td>635063875.0</td>\n",
       "      <td>True</td>\n",
       "      <td>-41.289850</td>\n",
       "      <td>154.667286</td>\n",
       "      <td>5</td>\n",
       "      <td>Long</td>\n",
       "      <td>Action</td>\n",
       "    </tr>\n",
       "    <tr>\n",
       "      <th>0</th>\n",
       "      <td>2</td>\n",
       "      <td>2011-05-20</td>\n",
       "      <td>Pirates of the Caribbean: On Stranger Tides</td>\n",
       "      <td>410600000.0</td>\n",
       "      <td>241063875.0</td>\n",
       "      <td>1.045664e+09</td>\n",
       "      <td>tt1298650</td>\n",
       "      <td>Pirates of the Caribbean: On Stranger Tides</td>\n",
       "      <td>Pirates of the Caribbean: On Stranger Tides</td>\n",
       "      <td>2011</td>\n",
       "      <td>136.0</td>\n",
       "      <td>Action,Adventure,Fantasy</td>\n",
       "      <td>-169536125.0</td>\n",
       "      <td>635063875.0</td>\n",
       "      <td>True</td>\n",
       "      <td>-41.289850</td>\n",
       "      <td>154.667286</td>\n",
       "      <td>5</td>\n",
       "      <td>Long</td>\n",
       "      <td>Adventure</td>\n",
       "    </tr>\n",
       "    <tr>\n",
       "      <th>0</th>\n",
       "      <td>2</td>\n",
       "      <td>2011-05-20</td>\n",
       "      <td>Pirates of the Caribbean: On Stranger Tides</td>\n",
       "      <td>410600000.0</td>\n",
       "      <td>241063875.0</td>\n",
       "      <td>1.045664e+09</td>\n",
       "      <td>tt1298650</td>\n",
       "      <td>Pirates of the Caribbean: On Stranger Tides</td>\n",
       "      <td>Pirates of the Caribbean: On Stranger Tides</td>\n",
       "      <td>2011</td>\n",
       "      <td>136.0</td>\n",
       "      <td>Action,Adventure,Fantasy</td>\n",
       "      <td>-169536125.0</td>\n",
       "      <td>635063875.0</td>\n",
       "      <td>True</td>\n",
       "      <td>-41.289850</td>\n",
       "      <td>154.667286</td>\n",
       "      <td>5</td>\n",
       "      <td>Long</td>\n",
       "      <td>Fantasy</td>\n",
       "    </tr>\n",
       "    <tr>\n",
       "      <th>1</th>\n",
       "      <td>3</td>\n",
       "      <td>2019-06-07</td>\n",
       "      <td>Dark Phoenix</td>\n",
       "      <td>350000000.0</td>\n",
       "      <td>42762350.0</td>\n",
       "      <td>1.497624e+08</td>\n",
       "      <td>tt6565702</td>\n",
       "      <td>Dark Phoenix</td>\n",
       "      <td>Dark Phoenix</td>\n",
       "      <td>2019</td>\n",
       "      <td>113.0</td>\n",
       "      <td>Action,Adventure,Sci-Fi</td>\n",
       "      <td>-307237650.0</td>\n",
       "      <td>-200237650.0</td>\n",
       "      <td>True</td>\n",
       "      <td>-87.782186</td>\n",
       "      <td>-57.210757</td>\n",
       "      <td>6</td>\n",
       "      <td>Long</td>\n",
       "      <td>Action</td>\n",
       "    </tr>\n",
       "    <tr>\n",
       "      <th>1</th>\n",
       "      <td>3</td>\n",
       "      <td>2019-06-07</td>\n",
       "      <td>Dark Phoenix</td>\n",
       "      <td>350000000.0</td>\n",
       "      <td>42762350.0</td>\n",
       "      <td>1.497624e+08</td>\n",
       "      <td>tt6565702</td>\n",
       "      <td>Dark Phoenix</td>\n",
       "      <td>Dark Phoenix</td>\n",
       "      <td>2019</td>\n",
       "      <td>113.0</td>\n",
       "      <td>Action,Adventure,Sci-Fi</td>\n",
       "      <td>-307237650.0</td>\n",
       "      <td>-200237650.0</td>\n",
       "      <td>True</td>\n",
       "      <td>-87.782186</td>\n",
       "      <td>-57.210757</td>\n",
       "      <td>6</td>\n",
       "      <td>Long</td>\n",
       "      <td>Adventure</td>\n",
       "    </tr>\n",
       "    <tr>\n",
       "      <th>...</th>\n",
       "      <td>...</td>\n",
       "      <td>...</td>\n",
       "      <td>...</td>\n",
       "      <td>...</td>\n",
       "      <td>...</td>\n",
       "      <td>...</td>\n",
       "      <td>...</td>\n",
       "      <td>...</td>\n",
       "      <td>...</td>\n",
       "      <td>...</td>\n",
       "      <td>...</td>\n",
       "      <td>...</td>\n",
       "      <td>...</td>\n",
       "      <td>...</td>\n",
       "      <td>...</td>\n",
       "      <td>...</td>\n",
       "      <td>...</td>\n",
       "      <td>...</td>\n",
       "      <td>...</td>\n",
       "      <td>...</td>\n",
       "    </tr>\n",
       "    <tr>\n",
       "      <th>3465</th>\n",
       "      <td>78</td>\n",
       "      <td>2018-12-31</td>\n",
       "      <td>Red 11</td>\n",
       "      <td>7000.0</td>\n",
       "      <td>0.0</td>\n",
       "      <td>0.000000e+00</td>\n",
       "      <td>tt7837402</td>\n",
       "      <td>Red 11</td>\n",
       "      <td>Red 11</td>\n",
       "      <td>2019</td>\n",
       "      <td>77.0</td>\n",
       "      <td>Horror,Sci-Fi,Thriller</td>\n",
       "      <td>-7000.0</td>\n",
       "      <td>-7000.0</td>\n",
       "      <td>True</td>\n",
       "      <td>-100.000000</td>\n",
       "      <td>-100.000000</td>\n",
       "      <td>12</td>\n",
       "      <td>Short</td>\n",
       "      <td>Sci-Fi</td>\n",
       "    </tr>\n",
       "    <tr>\n",
       "      <th>3465</th>\n",
       "      <td>78</td>\n",
       "      <td>2018-12-31</td>\n",
       "      <td>Red 11</td>\n",
       "      <td>7000.0</td>\n",
       "      <td>0.0</td>\n",
       "      <td>0.000000e+00</td>\n",
       "      <td>tt7837402</td>\n",
       "      <td>Red 11</td>\n",
       "      <td>Red 11</td>\n",
       "      <td>2019</td>\n",
       "      <td>77.0</td>\n",
       "      <td>Horror,Sci-Fi,Thriller</td>\n",
       "      <td>-7000.0</td>\n",
       "      <td>-7000.0</td>\n",
       "      <td>True</td>\n",
       "      <td>-100.000000</td>\n",
       "      <td>-100.000000</td>\n",
       "      <td>12</td>\n",
       "      <td>Short</td>\n",
       "      <td>Thriller</td>\n",
       "    </tr>\n",
       "    <tr>\n",
       "      <th>3466</th>\n",
       "      <td>81</td>\n",
       "      <td>2015-09-29</td>\n",
       "      <td>A Plague So Pleasant</td>\n",
       "      <td>1400.0</td>\n",
       "      <td>0.0</td>\n",
       "      <td>0.000000e+00</td>\n",
       "      <td>tt2107644</td>\n",
       "      <td>A Plague So Pleasant</td>\n",
       "      <td>A Plague So Pleasant</td>\n",
       "      <td>2013</td>\n",
       "      <td>76.0</td>\n",
       "      <td>Drama,Horror,Thriller</td>\n",
       "      <td>-1400.0</td>\n",
       "      <td>-1400.0</td>\n",
       "      <td>True</td>\n",
       "      <td>-100.000000</td>\n",
       "      <td>-100.000000</td>\n",
       "      <td>9</td>\n",
       "      <td>Short</td>\n",
       "      <td>Drama</td>\n",
       "    </tr>\n",
       "    <tr>\n",
       "      <th>3466</th>\n",
       "      <td>81</td>\n",
       "      <td>2015-09-29</td>\n",
       "      <td>A Plague So Pleasant</td>\n",
       "      <td>1400.0</td>\n",
       "      <td>0.0</td>\n",
       "      <td>0.000000e+00</td>\n",
       "      <td>tt2107644</td>\n",
       "      <td>A Plague So Pleasant</td>\n",
       "      <td>A Plague So Pleasant</td>\n",
       "      <td>2013</td>\n",
       "      <td>76.0</td>\n",
       "      <td>Drama,Horror,Thriller</td>\n",
       "      <td>-1400.0</td>\n",
       "      <td>-1400.0</td>\n",
       "      <td>True</td>\n",
       "      <td>-100.000000</td>\n",
       "      <td>-100.000000</td>\n",
       "      <td>9</td>\n",
       "      <td>Short</td>\n",
       "      <td>Horror</td>\n",
       "    </tr>\n",
       "    <tr>\n",
       "      <th>3466</th>\n",
       "      <td>81</td>\n",
       "      <td>2015-09-29</td>\n",
       "      <td>A Plague So Pleasant</td>\n",
       "      <td>1400.0</td>\n",
       "      <td>0.0</td>\n",
       "      <td>0.000000e+00</td>\n",
       "      <td>tt2107644</td>\n",
       "      <td>A Plague So Pleasant</td>\n",
       "      <td>A Plague So Pleasant</td>\n",
       "      <td>2013</td>\n",
       "      <td>76.0</td>\n",
       "      <td>Drama,Horror,Thriller</td>\n",
       "      <td>-1400.0</td>\n",
       "      <td>-1400.0</td>\n",
       "      <td>True</td>\n",
       "      <td>-100.000000</td>\n",
       "      <td>-100.000000</td>\n",
       "      <td>9</td>\n",
       "      <td>Short</td>\n",
       "      <td>Thriller</td>\n",
       "    </tr>\n",
       "  </tbody>\n",
       "</table>\n",
       "<p>6769 rows × 20 columns</p>\n",
       "</div>"
      ],
      "text/plain": [
       "      id release_date                                        movie  \\\n",
       "0      2   2011-05-20  Pirates of the Caribbean: On Stranger Tides   \n",
       "0      2   2011-05-20  Pirates of the Caribbean: On Stranger Tides   \n",
       "0      2   2011-05-20  Pirates of the Caribbean: On Stranger Tides   \n",
       "1      3   2019-06-07                                 Dark Phoenix   \n",
       "1      3   2019-06-07                                 Dark Phoenix   \n",
       "...   ..          ...                                          ...   \n",
       "3465  78   2018-12-31                                       Red 11   \n",
       "3465  78   2018-12-31                                       Red 11   \n",
       "3466  81   2015-09-29                         A Plague So Pleasant   \n",
       "3466  81   2015-09-29                         A Plague So Pleasant   \n",
       "3466  81   2015-09-29                         A Plague So Pleasant   \n",
       "\n",
       "      production_budget  domestic_gross  worldwide_gross     tconst  \\\n",
       "0           410600000.0     241063875.0     1.045664e+09  tt1298650   \n",
       "0           410600000.0     241063875.0     1.045664e+09  tt1298650   \n",
       "0           410600000.0     241063875.0     1.045664e+09  tt1298650   \n",
       "1           350000000.0      42762350.0     1.497624e+08  tt6565702   \n",
       "1           350000000.0      42762350.0     1.497624e+08  tt6565702   \n",
       "...                 ...             ...              ...        ...   \n",
       "3465             7000.0             0.0     0.000000e+00  tt7837402   \n",
       "3465             7000.0             0.0     0.000000e+00  tt7837402   \n",
       "3466             1400.0             0.0     0.000000e+00  tt2107644   \n",
       "3466             1400.0             0.0     0.000000e+00  tt2107644   \n",
       "3466             1400.0             0.0     0.000000e+00  tt2107644   \n",
       "\n",
       "                                    primary_title  \\\n",
       "0     Pirates of the Caribbean: On Stranger Tides   \n",
       "0     Pirates of the Caribbean: On Stranger Tides   \n",
       "0     Pirates of the Caribbean: On Stranger Tides   \n",
       "1                                    Dark Phoenix   \n",
       "1                                    Dark Phoenix   \n",
       "...                                           ...   \n",
       "3465                                       Red 11   \n",
       "3465                                       Red 11   \n",
       "3466                         A Plague So Pleasant   \n",
       "3466                         A Plague So Pleasant   \n",
       "3466                         A Plague So Pleasant   \n",
       "\n",
       "                                   original_title  start_year  \\\n",
       "0     Pirates of the Caribbean: On Stranger Tides        2011   \n",
       "0     Pirates of the Caribbean: On Stranger Tides        2011   \n",
       "0     Pirates of the Caribbean: On Stranger Tides        2011   \n",
       "1                                    Dark Phoenix        2019   \n",
       "1                                    Dark Phoenix        2019   \n",
       "...                                           ...         ...   \n",
       "3465                                       Red 11        2019   \n",
       "3465                                       Red 11        2019   \n",
       "3466                         A Plague So Pleasant        2013   \n",
       "3466                         A Plague So Pleasant        2013   \n",
       "3466                         A Plague So Pleasant        2013   \n",
       "\n",
       "      runtime_minutes                    genres  revenue-domestic  \\\n",
       "0               136.0  Action,Adventure,Fantasy      -169536125.0   \n",
       "0               136.0  Action,Adventure,Fantasy      -169536125.0   \n",
       "0               136.0  Action,Adventure,Fantasy      -169536125.0   \n",
       "1               113.0   Action,Adventure,Sci-Fi      -307237650.0   \n",
       "1               113.0   Action,Adventure,Sci-Fi      -307237650.0   \n",
       "...               ...                       ...               ...   \n",
       "3465             77.0    Horror,Sci-Fi,Thriller           -7000.0   \n",
       "3465             77.0    Horror,Sci-Fi,Thriller           -7000.0   \n",
       "3466             76.0     Drama,Horror,Thriller           -1400.0   \n",
       "3466             76.0     Drama,Horror,Thriller           -1400.0   \n",
       "3466             76.0     Drama,Horror,Thriller           -1400.0   \n",
       "\n",
       "      revenue-worldwide  lost_money  roi-domestic  roi-worldwide  \\\n",
       "0           635063875.0        True    -41.289850     154.667286   \n",
       "0           635063875.0        True    -41.289850     154.667286   \n",
       "0           635063875.0        True    -41.289850     154.667286   \n",
       "1          -200237650.0        True    -87.782186     -57.210757   \n",
       "1          -200237650.0        True    -87.782186     -57.210757   \n",
       "...                 ...         ...           ...            ...   \n",
       "3465            -7000.0        True   -100.000000    -100.000000   \n",
       "3465            -7000.0        True   -100.000000    -100.000000   \n",
       "3466            -1400.0        True   -100.000000    -100.000000   \n",
       "3466            -1400.0        True   -100.000000    -100.000000   \n",
       "3466            -1400.0        True   -100.000000    -100.000000   \n",
       "\n",
       "      release_month runtime_group genre_list  \n",
       "0                 5          Long     Action  \n",
       "0                 5          Long  Adventure  \n",
       "0                 5          Long    Fantasy  \n",
       "1                 6          Long     Action  \n",
       "1                 6          Long  Adventure  \n",
       "...             ...           ...        ...  \n",
       "3465             12         Short     Sci-Fi  \n",
       "3465             12         Short   Thriller  \n",
       "3466              9         Short      Drama  \n",
       "3466              9         Short     Horror  \n",
       "3466              9         Short   Thriller  \n",
       "\n",
       "[6769 rows x 20 columns]"
      ]
     },
     "execution_count": 63,
     "metadata": {},
     "output_type": "execute_result"
    }
   ],
   "source": [
    "df['genre_list'] = df['genres'].str.split(',')\n",
    "genre_df = df.explode('genre_list')\n",
    "genre_df"
   ]
  }
 ],
 "metadata": {
  "kernelspec": {
   "display_name": "learn-env-new",
   "language": "python",
   "name": "learn-env-new"
  },
  "language_info": {
   "codemirror_mode": {
    "name": "ipython",
    "version": 3
   },
   "file_extension": ".py",
   "mimetype": "text/x-python",
   "name": "python",
   "nbconvert_exporter": "python",
   "pygments_lexer": "ipython3",
   "version": "3.8.5"
  },
  "toc": {
   "base_numbering": 1,
   "nav_menu": {},
   "number_sections": true,
   "sideBar": true,
   "skip_h1_title": false,
   "title_cell": "Table of Contents",
   "title_sidebar": "Contents",
   "toc_cell": false,
   "toc_position": {},
   "toc_section_display": true,
   "toc_window_display": false
  },
  "varInspector": {
   "cols": {
    "lenName": 16,
    "lenType": 16,
    "lenVar": 40
   },
   "kernels_config": {
    "python": {
     "delete_cmd_postfix": "",
     "delete_cmd_prefix": "del ",
     "library": "var_list.py",
     "varRefreshCmd": "print(var_dic_list())"
    },
    "r": {
     "delete_cmd_postfix": ") ",
     "delete_cmd_prefix": "rm(",
     "library": "var_list.r",
     "varRefreshCmd": "cat(var_dic_list()) "
    }
   },
   "types_to_exclude": [
    "module",
    "function",
    "builtin_function_or_method",
    "instance",
    "_Feature"
   ],
   "window_display": false
  }
 },
 "nbformat": 4,
 "nbformat_minor": 4
}
