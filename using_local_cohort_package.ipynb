{
 "cells": [
  {
   "cell_type": "markdown",
   "metadata": {},
   "source": [
    "# Adding Local Package Folder to Python Path"
   ]
  },
  {
   "cell_type": "markdown",
   "metadata": {},
   "source": [
    "- 06/06/21"
   ]
  },
  {
   "cell_type": "markdown",
   "metadata": {},
   "source": [
    "## How to Add a Folder to Python Path"
   ]
  },
  {
   "cell_type": "markdown",
   "metadata": {},
   "source": [
    "- Code example from:\n",
    "    - https://stackoverflow.com/questions/3387695/add-to-python-path-mac-os-x\n",
    "\n",
    "\n",
    "- The `cohort_package` folder with the `__init__.py` file is in another repo.\n",
    "    - On my local machine the path to the parent folder is:  \"/Users/jamesirving/Documents/GitHub/_COHORT_NOTES/022221FT/Online-DS-FT-022221-Cohort-Notes/py_files/\"\n",
    "\n",
    "\n",
    "- Add the following to ~/.bash_profile, replacing the filepath \"/Users....py_files/\" with your local folder path to the PARENT FOLDER of the `cohort_package` folder.\n",
    "\n",
    "```bash\n",
    "## After activating learn-env\n",
    "conda activate learn-env\n",
    "export PYTHONPATH=\"$PYTHONPATH:/Users/jamesirving/Documents/GitHub/_COHORT_NOTES/022221FT/Online-DS-FT-022221-Cohort-Notes/py_files/\"\n",
    "\n",
    "```"
   ]
  },
  {
   "cell_type": "markdown",
   "metadata": {},
   "source": [
    "# Testing Local Cohort Package"
   ]
  },
  {
   "cell_type": "code",
   "execution_count": 1,
   "metadata": {
    "ExecuteTime": {
     "end_time": "2021-06-06T21:30:11.486522Z",
     "start_time": "2021-06-06T21:30:11.448848Z"
    }
   },
   "outputs": [],
   "source": [
    "%load_ext autoreload\n",
    "%autoreload 2\n",
    "import cohort_package as cp"
   ]
  },
  {
   "cell_type": "code",
   "execution_count": 2,
   "metadata": {
    "ExecuteTime": {
     "end_time": "2021-06-06T21:30:11.920234Z",
     "start_time": "2021-06-06T21:30:11.882048Z"
    }
   },
   "outputs": [
    {
     "name": "stdout",
     "output_type": "stream",
     "text": [
      "Help on package cohort_package:\n",
      "\n",
      "NAME\n",
      "    cohort_package - A collection of functions used in Study Groups/Project Office Hours for 022221FT\n",
      "\n",
      "PACKAGE CONTENTS\n",
      "    imports\n",
      "    linear_regression\n",
      "    phase_2_functions\n",
      "    phase_3_functions\n",
      "    utils\n",
      "\n",
      "SUBMODULES\n",
      "    phase2\n",
      "    phase3\n",
      "\n",
      "FILE\n",
      "    /Users/jamesirving/Documents/GitHub/_COHORT_NOTES/022221FT/Online-DS-FT-022221-Cohort-Notes/py_files/cohort_package/__init__.py\n",
      "\n",
      "\n"
     ]
    }
   ],
   "source": [
    "help(cp)"
   ]
  },
  {
   "cell_type": "code",
   "execution_count": 3,
   "metadata": {
    "ExecuteTime": {
     "end_time": "2021-06-06T21:30:13.051952Z",
     "start_time": "2021-06-06T21:30:13.012873Z"
    },
    "scrolled": false
   },
   "outputs": [
    {
     "name": "stdout",
     "output_type": "stream",
     "text": [
      "Help on module cohort_package.phase_2_functions in cohort_package:\n",
      "\n",
      "NAME\n",
      "    cohort_package.phase_2_functions - ## Our Function From Yesterday(modified)\n",
      "\n",
      "FUNCTIONS\n",
      "    Cohen_d(group1, group2, correction=False)\n",
      "        Compute Cohen's d\n",
      "        d = (group1.mean()-group2.mean())/pool_variance.\n",
      "        pooled_variance= (n1 * var1 + n2 * var2) / (n1 + n2)\n",
      "        \n",
      "        Args:\n",
      "            group1 (Series or NumPy array): group 1 for calculating d\n",
      "            group2 (Series or NumPy array): group 2 for calculating d\n",
      "            correction (bool): Apply equation correction if N<50. Default is False. \n",
      "                - Url with small ncorrection equation: \n",
      "                    - https://www.statisticshowto.datasciencecentral.com/cohens-d/ \n",
      "        Returns:\n",
      "            d (float): calculated d value\n",
      "             \n",
      "        INTERPRETATION OF COHEN's D: \n",
      "        > Small effect = 0.2\n",
      "        > Medium Effect = 0.5\n",
      "        > Large Effect = 0.8\n",
      "    \n",
      "    calc_vif(X_, drop=None, cutoff=5)\n",
      "        Calculates VIF scores for all columns.\n",
      "        Modified from source: https://etav.github.io/python/vif_factor_python.html\n",
      "    \n",
      "    check_null_cols(df, above_cutoff=True, percent_cutoff=5)\n",
      "        Displays null values for columns that have nulls > 0.\n",
      "        Returns index of columns\n",
      "    \n",
      "    color_above_thresh(val, thresh=0.05)\n",
      "        Takes a scalar and returns a string with\n",
      "        the css property `'color: red'` for negative\n",
      "        strings, black otherwise.\n",
      "    \n",
      "    column_report(df)\n",
      "        Returns a dataframe with the following summary information\n",
      "        for each column in df.\n",
      "        - Dtype\n",
      "        - # Unique Entries\n",
      "        - # Null Values\n",
      "        - # Non-Null Values\n",
      "        - % Null Values\n",
      "    \n",
      "    diagnose_model(model, x_data=None, y=None)\n",
      "        Plot Q-Q plot and model residuals from statsmodels ols model.\n",
      "        \n",
      "        Args:\n",
      "            model (smf.ols model): statsmodels formula ols \n",
      "        \n",
      "        Returns:\n",
      "            fig, ax: matplotlib objects\n",
      "    \n",
      "    find_outliers_IQR(data)\n",
      "        Detects outliers using the 1.5*IQR thresholds.\n",
      "        Returns a boolean Series where True=outlier\n",
      "    \n",
      "    find_outliers_z(data)\n",
      "        Detects outliers using the Z-score>3 cutoff.\n",
      "        Returns a boolean Series where True=outlier\n",
      "    \n",
      "    make_ols(X, y, show_summary=True, diagnose=True)\n",
      "        Fits a statsmodels OLS on X and y. \n",
      "        Optionally displays the .summary and runs diagnose_model\n",
      "        \n",
      "        Returns: \n",
      "            model: fit statsmodels OLS\n",
      "    \n",
      "    make_ols_f(df, target='price', col_list=None, exclude_cols=[], cat_cols=[], show_summary=True, diagnose=True, fit_intercept=True)\n",
      "        Makes statsmodels formula-based regression with options to make categorical columns.    \n",
      "        Args:\n",
      "            df (Frame): df with data\n",
      "            target (str): target column name\n",
      "            col_list (list, optional): List of predictor columns. Defaults to all except target.\n",
      "            exclude_cols (list, optional): Columns to remove from col_list. Defaults to [].\n",
      "            cat_cols (list, optional): Columns to process as categorical using f'C({col})\". Defaults to [].\n",
      "            show_summary (bool, optional): Display model.summary(). Defaults to True.\n",
      "            diagnose (bool, optional): Plot Q-Q plot & residuals. Defaults to True.\n",
      "            return_formula (bool, optional): Return formula with model. Defaults to False.\n",
      "        \n",
      "        Returns:\n",
      "            model : statsmodels ols model\n",
      "            formula : str formula from model, only if return_formula == True\n",
      "    \n",
      "    multiplot(df_model, figsize=(10, 10), cmap='Reds')\n",
      "    \n",
      "    plot_distribution(df, col=None, verbose=True, boxplot=True)\n",
      "        Plots a histogram + KDE and a boxplot of the column.\n",
      "        Also prints statistics for skew, kurtosis, and normaltest. \n",
      "        \n",
      "        Args:\n",
      "            df_ (DataFrame): DataFrame containing column to plot\n",
      "            col (str): Name of the column to plot.\n",
      "            verbose (bool, optional): If true show figure and print stats. Defaults to True.\n",
      "            boxplot (bool, optional): If true, return subplots with boxplot. Defaults to True.\n",
      "        \n",
      "        Returns:\n",
      "            fig : Matplotlib Figure\n",
      "            ax : Matplotlib Axis\n",
      "    \n",
      "    plot_hist_regplot_gs(df, column, target='price', figsize=(12, 5), style='seaborn-notebook', line_kws={'color': 'black', 'ls': ':'}, scatter_kws={'s': 3}, cat=False)\n",
      "    \n",
      "    prep_data_for_tukeys(data, data_col='data', group_col='group')\n",
      "        Accepts a dictionary with group names as the keys \n",
      "        and pandas series as the values. \n",
      "        \n",
      "        Returns a dataframe ready for tukeys test:\n",
      "        - with a 'data' column and a 'group' column for sms.stats.multicomp.pairwise_tukeyhsd \n",
      "        \n",
      "        Example Use:\n",
      "        df_tukey = prep_data_for_tukeys(grp_data)\n",
      "        tukey = sms.stats.multicomp.pairwise_tukeyhsd(df_tukey['data'], df_tukey['group'])\n",
      "        tukey.summary()\n",
      "\n",
      "FILE\n",
      "    /Users/jamesirving/Documents/GitHub/_COHORT_NOTES/022221FT/Online-DS-FT-022221-Cohort-Notes/py_files/cohort_package/phase_2_functions.py\n",
      "\n",
      "\n"
     ]
    }
   ],
   "source": [
    "help(cp.phase2)"
   ]
  },
  {
   "cell_type": "code",
   "execution_count": 4,
   "metadata": {
    "ExecuteTime": {
     "end_time": "2021-06-06T21:30:21.122476Z",
     "start_time": "2021-06-06T21:30:21.083845Z"
    }
   },
   "outputs": [
    {
     "name": "stdout",
     "output_type": "stream",
     "text": [
      "Help on module cohort_package.phase_3_functions in cohort_package:\n",
      "\n",
      "NAME\n",
      "    cohort_package.phase_3_functions\n",
      "\n",
      "FUNCTIONS\n",
      "    compare_importances(*importances, sort_index=True, sort_col=0, show_bar=False)\n",
      "        Accepts Series of feature importances to concat.\n",
      "        \n",
      "        Args:\n",
      "            *importances (Seires): seires to concat (recommended to pre-set names of Series)\n",
      "            sort_index (bool, default=True): return series sorted by index. \n",
      "                                If False, sort seires by sort_col  #\n",
      "            sort_col (int, default=0): If sort_index=False, sort df by this column #\n",
      "            show_bar (bool, default=False): If show_bar, returns a pandas styler instead of df\n",
      "                                            with the importances plotted as bar graphs\n",
      "            \n",
      "        Returns:\n",
      "            DataFrame: featutre importances\n",
      "    \n",
      "    evaluate_classification(model, X_test, y_test, normalize='true')\n",
      "        Plot Confusion Matrix and display classification report\n",
      "    \n",
      "    evaluate_grid(grid, X_test, y_test, X_train=None, y_train=None)\n",
      "    \n",
      "    fit_and_time_model(model, X_train, y_train, X_test, y_test, fit_kws={}, scoring='accuracy', normalize='true', fmt='%m/%d/%y-%T', verbose=True)\n",
      "        [Fits the provided model and evaluates using provided data.\n",
      "        \n",
      "        Args:\n",
      "            model (classifier]): Initialized Model to fit and evaluate\n",
      "            X_train (df/matrix): [description]\n",
      "            y_train (series/array): [description]\n",
      "            X_test (df/matrix): [description]\n",
      "            y_test (series/array): [description]\n",
      "            fit_kws (dict, optional): Kwargs for .fit. Defaults to {}.\n",
      "            scoring (str, optional): Scoring metric to use. Defaults to \"accuracy\".\n",
      "            normalize (str, optional): Normalize confusion matrix. Defaults to 'true'.\n",
      "            fmt (str, optional): Time format. Defaults to \"%m/%d/%y-%T\".\n",
      "            verbose (bool, optional): [description]. Defaults to True.\n",
      "        \n",
      "        Raises:\n",
      "            Exception: [description]\n",
      "    \n",
      "    get_coefficients(model, X_train, units='log-odds')\n",
      "        Returns model coefficients. \n",
      "        \n",
      "        Args:\n",
      "            model: sklearn model with the .coef_ attribute. \n",
      "            X_train: dataframe with the feature names as the .columns\n",
      "            units (str): Can be ['log-odds','odds','prob']\n",
      "    \n",
      "    get_importance(tree, X_train_df, top_n=20, figsize=(10, 10), plot=True)\n",
      "    \n",
      "    get_report(model, X_test, y_test, as_df=False, label='TEST DATA')\n",
      "        Get classification report from sklearn and converts to DataFrame\n",
      "    \n",
      "    get_time(verbose=False)\n",
      "        Helper function to return current time.\n",
      "        Uses tzlocal to display time in local tz, if available.\n",
      "    \n",
      "    show_tree(clf, X_train_df, figsize=(60, 25), class_names=['Died', 'Survived'], savefig=False, fname='titanic_tree.pdf', max_depth=None)\n",
      "\n",
      "FILE\n",
      "    /Users/jamesirving/Documents/GitHub/_COHORT_NOTES/022221FT/Online-DS-FT-022221-Cohort-Notes/py_files/cohort_package/phase_3_functions.py\n",
      "\n",
      "\n"
     ]
    }
   ],
   "source": [
    "help(cp.phase3)"
   ]
  },
  {
   "cell_type": "markdown",
   "metadata": {},
   "source": []
  },
  {
   "cell_type": "code",
   "execution_count": 5,
   "metadata": {},
   "outputs": [
    {
     "data": {
      "text/plain": "Out            232\nIn             128\nsys             72\nos              72\ncp              72\nget_ipython     64\nexit            48\nquit            48\ndtype: int64"
     },
     "execution_count": 5,
     "metadata": {},
     "output_type": "execute_result"
    }
   ],
   "source": [
    "cp.utils.check_var_size(locals())"
   ]
  },
  {
   "cell_type": "code",
   "execution_count": null,
   "metadata": {},
   "outputs": [],
   "source": []
  }
 ],
 "metadata": {
  "kernelspec": {
   "display_name": "Python 3.8.5 64-bit ('learn-env-new': conda)",
   "name": "learn-env-new"
  },
  "language_info": {
   "codemirror_mode": {
    "name": "ipython",
    "version": 3
   },
   "file_extension": ".py",
   "mimetype": "text/x-python",
   "name": "python",
   "nbconvert_exporter": "python",
   "pygments_lexer": "ipython3",
   "version": "3.8.5"
  },
  "orig_nbformat": 3
 },
 "nbformat": 4,
 "nbformat_minor": 2
}