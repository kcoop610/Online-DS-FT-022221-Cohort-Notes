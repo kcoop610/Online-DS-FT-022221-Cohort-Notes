{
 "cells": [
  {
   "cell_type": "markdown",
   "metadata": {
    "slideshow": {
     "slide_type": "slide"
    }
   },
   "source": [
    "# Tensorflow and Keras"
   ]
  },
  {
   "cell_type": "code",
   "execution_count": 1,
   "metadata": {
    "ExecuteTime": {
     "end_time": "2021-06-08T14:53:17.275978Z",
     "start_time": "2021-06-08T14:53:15.938034Z"
    }
   },
   "outputs": [],
   "source": [
    "from sklearn.datasets import load_sample_images\n",
    "from sklearn.datasets import load_digits\n",
    "from sklearn.model_selection import train_test_split, cross_val_score\n",
    "from sklearn.preprocessing import OneHotEncoder\n",
    "from sklearn.metrics import accuracy_score, confusion_matrix\n",
    "import matplotlib.pyplot as plt\n",
    "import matplotlib.image as mpimg\n",
    "import numpy as np\n",
    "import seaborn as sns\n",
    "\n",
    "import os\n",
    "import sys\n",
    "module_path = os.path.abspath(os.path.join(os.pardir, os.pardir))\n",
    "if module_path not in sys.path:\n",
    "    sys.path.append(module_path)\n",
    "    \n",
    "%load_ext autoreload\n",
    "%autoreload 2"
   ]
  },
  {
   "cell_type": "markdown",
   "metadata": {},
   "source": [
    "## Agenda\n",
    "\n",
    "SWBAT:\n",
    "\n",
    "- use `keras` to code up a neural network model;\n",
    "- explain dropout and early stopping as distinctive forms of regularization in neural networks;\n",
    "- use wrappers inside `keras` to make models that can jibe with `sklearn`."
   ]
  },
  {
   "cell_type": "markdown",
   "metadata": {
    "colab_type": "text",
    "id": "T8EQBfbRRV7w"
   },
   "source": [
    "## Modeling\n",
    "\n",
    "Before we dive in, let's remind ourselves that the basic components of good modeling practice, and even the methods themselves, are _the same_ with Neural Nets as they are with _sklearn_ or _statsmodels_."
   ]
  },
  {
   "cell_type": "code",
   "execution_count": 2,
   "metadata": {
    "ExecuteTime": {
     "end_time": "2021-06-08T14:53:17.304558Z",
     "start_time": "2021-06-08T14:53:17.278394Z"
    }
   },
   "outputs": [],
   "source": [
    "# We can also import `keras` directly.\n",
    "\n",
    "# import keras"
   ]
  },
  {
   "cell_type": "markdown",
   "metadata": {},
   "source": [
    "Wait a second, what is that warning? \n",
    "`Using TensorFlow backend.`"
   ]
  },
  {
   "cell_type": "markdown",
   "metadata": {},
   "source": [
    "<img align =left src=\"../img/keras.png\"><br>\n",
    "### Keras is an API\n",
    "\n",
    "It can be layered on top of many different back-end processing systems.\n",
    "\n",
    "![kerasback](../img/keras_tf_theano.png)\n",
    "\n",
    "While each of these systems has its own coding methods, `keras` abstracts from that in the streamlined Pythonic manner we are used to seeing in other Python modeling libraries.\n",
    "\n",
    "Keras development is backed primarily by Google, and the Keras API comes packaged in TensorFlow as tf.keras. Additionally, Microsoft maintains the CNTK Keras backend. Amazon AWS is maintaining the Keras fork with MXNet support. Other contributing companies include NVIDIA, Uber, and Apple (with CoreML).\n",
    "\n",
    "Theano has been discontinued.  The last release was 2017, but can still be used.\n",
    "\n",
    "We will use TensorFlow, as it is the most popular. TensorFlow became the most used Keras backend, and  eventually integrated Keras in via its tf.keras submodule."
   ]
  },
  {
   "cell_type": "code",
   "execution_count": 3,
   "metadata": {
    "ExecuteTime": {
     "end_time": "2021-06-08T14:53:19.881874Z",
     "start_time": "2021-06-08T14:53:17.308019Z"
    }
   },
   "outputs": [],
   "source": [
    "from tensorflow.keras.models import Sequential\n",
    "from tensorflow.keras.layers import Dense, Dropout\n",
    "from tensorflow.keras.regularizers import l2\n",
    "from tensorflow.keras.optimizers import SGD\n",
    "from tensorflow.keras.wrappers import scikit_learn\n",
    "from tensorflow.keras.callbacks import EarlyStopping"
   ]
  },
  {
   "cell_type": "markdown",
   "metadata": {},
   "source": [
    "## Building a Binary Classifier NN"
   ]
  },
  {
   "cell_type": "code",
   "execution_count": 4,
   "metadata": {
    "ExecuteTime": {
     "end_time": "2021-06-08T14:53:20.035121Z",
     "start_time": "2021-06-08T14:53:19.883950Z"
    }
   },
   "outputs": [],
   "source": [
    "digits = load_digits()\n",
    "X = digits.data\n",
    "y = digits.target"
   ]
  },
  {
   "cell_type": "markdown",
   "metadata": {},
   "source": [
    "We will start with a binary classification, and predict whether the number will be even or odd."
   ]
  },
  {
   "cell_type": "code",
   "execution_count": 5,
   "metadata": {
    "ExecuteTime": {
     "end_time": "2021-06-08T14:53:20.115470Z",
     "start_time": "2021-06-08T14:53:20.037735Z"
    }
   },
   "outputs": [
    {
     "data": {
      "text/plain": [
       "array([0, 1, 0, ..., 0, 1, 0])"
      ]
     },
     "execution_count": 5,
     "metadata": {},
     "output_type": "execute_result"
    }
   ],
   "source": [
    "y_binary = y % 2\n",
    "y_binary"
   ]
  },
  {
   "cell_type": "code",
   "execution_count": 6,
   "metadata": {
    "ExecuteTime": {
     "end_time": "2021-06-08T14:53:20.342816Z",
     "start_time": "2021-06-08T14:53:20.120161Z"
    }
   },
   "outputs": [],
   "source": [
    "model = Sequential()\n",
    "model.add(Dense(12, activation='relu', input_dim=64))\n",
    "model.add(Dense(8, activation='relu'))\n",
    "model.add(Dense(1, activation='sigmoid'))"
   ]
  },
  {
   "cell_type": "code",
   "execution_count": 7,
   "metadata": {
    "ExecuteTime": {
     "end_time": "2021-06-08T14:53:28.925737Z",
     "start_time": "2021-06-08T14:53:20.345626Z"
    }
   },
   "outputs": [
    {
     "name": "stdout",
     "output_type": "stream",
     "text": [
      "Epoch 1/50\n",
      "180/180 [==============================] - 1s 1ms/step - loss: 2.3532 - accuracy: 0.5391\n",
      "Epoch 2/50\n",
      "180/180 [==============================] - 0s 999us/step - loss: 0.4429 - accuracy: 0.7801\n",
      "Epoch 3/50\n",
      "180/180 [==============================] - 0s 991us/step - loss: 0.3397 - accuracy: 0.8462\n",
      "Epoch 4/50\n",
      "180/180 [==============================] - 0s 1ms/step - loss: 0.2341 - accuracy: 0.8960\n",
      "Epoch 5/50\n",
      "180/180 [==============================] - 0s 971us/step - loss: 0.1948 - accuracy: 0.9248\n",
      "Epoch 6/50\n",
      "180/180 [==============================] - 0s 797us/step - loss: 0.1798 - accuracy: 0.9209\n",
      "Epoch 7/50\n",
      "180/180 [==============================] - 0s 888us/step - loss: 0.1380 - accuracy: 0.9445\n",
      "Epoch 8/50\n",
      "180/180 [==============================] - 0s 864us/step - loss: 0.1515 - accuracy: 0.9328\n",
      "Epoch 9/50\n",
      "180/180 [==============================] - 0s 894us/step - loss: 0.1057 - accuracy: 0.9482\n",
      "Epoch 10/50\n",
      "180/180 [==============================] - 0s 822us/step - loss: 0.1017 - accuracy: 0.9580\n",
      "Epoch 11/50\n",
      "180/180 [==============================] - 0s 790us/step - loss: 0.0853 - accuracy: 0.9647\n",
      "Epoch 12/50\n",
      "180/180 [==============================] - 0s 806us/step - loss: 0.0808 - accuracy: 0.9690\n",
      "Epoch 13/50\n",
      "180/180 [==============================] - 0s 811us/step - loss: 0.0703 - accuracy: 0.9726\n",
      "Epoch 14/50\n",
      "180/180 [==============================] - 0s 816us/step - loss: 0.0745 - accuracy: 0.9700\n",
      "Epoch 15/50\n",
      "180/180 [==============================] - 0s 878us/step - loss: 0.0862 - accuracy: 0.9629\n",
      "Epoch 16/50\n",
      "180/180 [==============================] - 0s 832us/step - loss: 0.0683 - accuracy: 0.9745\n",
      "Epoch 17/50\n",
      "180/180 [==============================] - 0s 776us/step - loss: 0.0567 - accuracy: 0.9797\n",
      "Epoch 18/50\n",
      "180/180 [==============================] - 0s 730us/step - loss: 0.0594 - accuracy: 0.9750\n",
      "Epoch 19/50\n",
      "180/180 [==============================] - 0s 735us/step - loss: 0.0638 - accuracy: 0.9711\n",
      "Epoch 20/50\n",
      "180/180 [==============================] - 0s 701us/step - loss: 0.0517 - accuracy: 0.9792\n",
      "Epoch 21/50\n",
      "180/180 [==============================] - 0s 693us/step - loss: 0.0529 - accuracy: 0.9835\n",
      "Epoch 22/50\n",
      "180/180 [==============================] - 0s 777us/step - loss: 0.0486 - accuracy: 0.9809\n",
      "Epoch 23/50\n",
      "180/180 [==============================] - 0s 956us/step - loss: 0.0465 - accuracy: 0.9820\n",
      "Epoch 24/50\n",
      "180/180 [==============================] - 0s 748us/step - loss: 0.0491 - accuracy: 0.9774\n",
      "Epoch 25/50\n",
      "180/180 [==============================] - 0s 705us/step - loss: 0.0501 - accuracy: 0.9797\n",
      "Epoch 26/50\n",
      "180/180 [==============================] - 0s 901us/step - loss: 0.0475 - accuracy: 0.9805\n",
      "Epoch 27/50\n",
      "180/180 [==============================] - 0s 805us/step - loss: 0.0374 - accuracy: 0.9849\n",
      "Epoch 28/50\n",
      "180/180 [==============================] - 0s 968us/step - loss: 0.0358 - accuracy: 0.9887\n",
      "Epoch 29/50\n",
      "180/180 [==============================] - 0s 857us/step - loss: 0.0364 - accuracy: 0.9866\n",
      "Epoch 30/50\n",
      "180/180 [==============================] - 0s 719us/step - loss: 0.0373 - accuracy: 0.9849\n",
      "Epoch 31/50\n",
      "180/180 [==============================] - 0s 934us/step - loss: 0.0312 - accuracy: 0.9903\n",
      "Epoch 32/50\n",
      "180/180 [==============================] - 0s 1ms/step - loss: 0.0283 - accuracy: 0.9878\n",
      "Epoch 33/50\n",
      "180/180 [==============================] - 0s 966us/step - loss: 0.0311 - accuracy: 0.9890\n",
      "Epoch 34/50\n",
      "180/180 [==============================] - 0s 988us/step - loss: 0.0304 - accuracy: 0.9919\n",
      "Epoch 35/50\n",
      "180/180 [==============================] - 0s 1ms/step - loss: 0.0203 - accuracy: 0.9935\n",
      "Epoch 36/50\n",
      "180/180 [==============================] - 0s 1ms/step - loss: 0.0273 - accuracy: 0.9889\n",
      "Epoch 37/50\n",
      "180/180 [==============================] - 0s 688us/step - loss: 0.0190 - accuracy: 0.9930\n",
      "Epoch 38/50\n",
      "180/180 [==============================] - 0s 603us/step - loss: 0.0179 - accuracy: 0.9927\n",
      "Epoch 39/50\n",
      "180/180 [==============================] - 0s 671us/step - loss: 0.0155 - accuracy: 0.9970\n",
      "Epoch 40/50\n",
      "180/180 [==============================] - 0s 673us/step - loss: 0.0140 - accuracy: 0.9962\n",
      "Epoch 41/50\n",
      "180/180 [==============================] - 0s 724us/step - loss: 0.0152 - accuracy: 0.9957\n",
      "Epoch 42/50\n",
      "180/180 [==============================] - 0s 734us/step - loss: 0.0146 - accuracy: 0.9957\n",
      "Epoch 43/50\n",
      "180/180 [==============================] - 0s 920us/step - loss: 0.0112 - accuracy: 0.9974\n",
      "Epoch 44/50\n",
      "180/180 [==============================] - 0s 878us/step - loss: 0.0145 - accuracy: 0.9939\n",
      "Epoch 45/50\n",
      "180/180 [==============================] - 0s 970us/step - loss: 0.0088 - accuracy: 0.9964\n",
      "Epoch 46/50\n",
      "180/180 [==============================] - 0s 864us/step - loss: 0.0162 - accuracy: 0.9949\n",
      "Epoch 47/50\n",
      "180/180 [==============================] - 0s 902us/step - loss: 0.0165 - accuracy: 0.9927\n",
      "Epoch 48/50\n",
      "180/180 [==============================] - 0s 955us/step - loss: 0.0092 - accuracy: 0.9962\n",
      "Epoch 49/50\n",
      "180/180 [==============================] - 0s 915us/step - loss: 0.0102 - accuracy: 0.9966\n",
      "Epoch 50/50\n",
      "180/180 [==============================] - 0s 913us/step - loss: 0.0080 - accuracy: 0.9980\n"
     ]
    },
    {
     "data": {
      "text/plain": [
       "<tensorflow.python.keras.callbacks.History at 0x7fea1f2641f0>"
      ]
     },
     "execution_count": 7,
     "metadata": {},
     "output_type": "execute_result"
    }
   ],
   "source": [
    "model.compile(optimizer='rmsprop',\n",
    "              loss='binary_crossentropy',\n",
    "              metrics=['accuracy'])\n",
    "model.fit(X, y_binary, epochs=50, batch_size=10)"
   ]
  },
  {
   "cell_type": "markdown",
   "metadata": {},
   "source": [
    "### Things to know:\n",
    "\n",
    "- The data and labels in `fit()` need to be numpy arrays, not `pandas` dfs.\n",
    "- Scaling your data will have a large impact on your model.\n",
    "   > For our traditional input features, we would use a scaler object. For images, as long as the minimum value is 0, we can simply divide through by the maximum pixel intensity."
   ]
  },
  {
   "cell_type": "markdown",
   "metadata": {},
   "source": [
    "#### Getting data ready for modeling\n",
    "**Preprocessing**:\n",
    "\n",
    "- use train_test_split to create X_train, y_train, X_test, and y_test\n",
    "- Split training data into pure_train and validation sets.\n",
    "- Scale the pixel intensity to a value between 0 and 1."
   ]
  },
  {
   "cell_type": "markdown",
   "metadata": {},
   "source": [
    "Scaling our input variables will help speed up our neural network.\n",
    "\n",
    "Since our minimum intensity is 0, we can normalize the inputs by dividing each value by the max value (16)."
   ]
  },
  {
   "cell_type": "code",
   "execution_count": 8,
   "metadata": {
    "ExecuteTime": {
     "end_time": "2021-06-08T14:53:28.998783Z",
     "start_time": "2021-06-08T14:53:28.928283Z"
    }
   },
   "outputs": [],
   "source": [
    "X_train, X_test, y_train, y_test =\\\n",
    "    train_test_split(X, y_binary, random_state=42, test_size=0.2)\n",
    "\n",
    "X_pure_train, X_val, y_pure_train, y_val =\\\n",
    "    train_test_split(X_train, y_train, random_state=42, test_size=0.2)\n",
    "\n",
    "X_pure_train, X_val, X_test = X_pure_train/16, X_val/16, X_test/16"
   ]
  },
  {
   "cell_type": "markdown",
   "metadata": {},
   "source": [
    "For activation, let's start with the familiar sigmoid function, and see how it performs."
   ]
  },
  {
   "cell_type": "code",
   "execution_count": 9,
   "metadata": {
    "ExecuteTime": {
     "end_time": "2021-06-08T14:53:29.677552Z",
     "start_time": "2021-06-08T14:53:29.000634Z"
    }
   },
   "outputs": [
    {
     "name": "stdout",
     "output_type": "stream",
     "text": [
      "Epoch 1/10\n",
      "12/12 [==============================] - 0s 1ms/step - loss: 0.7227 - accuracy: 0.5010\n",
      "Epoch 2/10\n",
      "12/12 [==============================] - 0s 1ms/step - loss: 0.7251 - accuracy: 0.4837\n",
      "Epoch 3/10\n",
      "12/12 [==============================] - 0s 1ms/step - loss: 0.7173 - accuracy: 0.4882\n",
      "Epoch 4/10\n",
      "12/12 [==============================] - 0s 1ms/step - loss: 0.7145 - accuracy: 0.4851\n",
      "Epoch 5/10\n",
      "12/12 [==============================] - 0s 1ms/step - loss: 0.7077 - accuracy: 0.4938\n",
      "Epoch 6/10\n",
      "12/12 [==============================] - 0s 1ms/step - loss: 0.6977 - accuracy: 0.5170\n",
      "Epoch 7/10\n",
      "12/12 [==============================] - 0s 1ms/step - loss: 0.6984 - accuracy: 0.5087\n",
      "Epoch 8/10\n",
      "12/12 [==============================] - 0s 1ms/step - loss: 0.7024 - accuracy: 0.4851\n",
      "Epoch 9/10\n",
      "12/12 [==============================] - 0s 1ms/step - loss: 0.6969 - accuracy: 0.5020\n",
      "Epoch 10/10\n",
      "12/12 [==============================] - 0s 1ms/step - loss: 0.6937 - accuracy: 0.5101\n"
     ]
    }
   ],
   "source": [
    "model = Sequential()\n",
    "# We will start with our trusty sigmoid function.\n",
    "# What does input dimension correspond to?\n",
    "model.add(Dense(12, activation='sigmoid', input_dim=64))\n",
    "model.add(Dense(8, activation='sigmoid'))\n",
    "model.add(Dense(1, activation='sigmoid'))\n",
    "\n",
    "model.compile(optimizer='SGD' ,\n",
    "              # We use binary_crossentropy for a binary loss function\n",
    "              loss='binary_crossentropy',\n",
    "              metrics=['accuracy'])\n",
    "\n",
    "# Assign the variable history to store the results,\n",
    "# and set verbose=1 so we can see the output. To see\n",
    "# only the epoch count, set verbose=2.\n",
    "results = model.fit(X_pure_train, y_pure_train, epochs=10, batch_size=100, verbose=1)"
   ]
  },
  {
   "cell_type": "markdown",
   "metadata": {},
   "source": [
    "We can access the history of our model via `results.history`.\n",
    "Use __dict__ to take a tour."
   ]
  },
  {
   "cell_type": "code",
   "execution_count": 10,
   "metadata": {
    "ExecuteTime": {
     "end_time": "2021-06-08T14:53:29.761267Z",
     "start_time": "2021-06-08T14:53:29.680920Z"
    }
   },
   "outputs": [
    {
     "data": {
      "text/plain": [
       "{'validation_data': None,\n",
       " 'model': <tensorflow.python.keras.engine.sequential.Sequential at 0x7fe9fffe2880>,\n",
       " '_chief_worker_only': None,\n",
       " '_supports_tf_logs': False,\n",
       " 'history': {'loss': [0.7198230028152466,\n",
       "   0.7145865559577942,\n",
       "   0.7102043628692627,\n",
       "   0.7067216038703918,\n",
       "   0.7036917209625244,\n",
       "   0.7011711001396179,\n",
       "   0.6991418600082397,\n",
       "   0.6975697875022888,\n",
       "   0.6962380409240723,\n",
       "   0.695183515548706],\n",
       "  'accuracy': [0.5039164423942566,\n",
       "   0.5039164423942566,\n",
       "   0.5039164423942566,\n",
       "   0.5039164423942566,\n",
       "   0.5039164423942566,\n",
       "   0.5039164423942566,\n",
       "   0.5039164423942566,\n",
       "   0.5039164423942566,\n",
       "   0.5039164423942566,\n",
       "   0.5039164423942566]},\n",
       " 'params': {'verbose': 1, 'epochs': 10, 'steps': 12},\n",
       " 'epoch': [0, 1, 2, 3, 4, 5, 6, 7, 8, 9]}"
      ]
     },
     "execution_count": 10,
     "metadata": {},
     "output_type": "execute_result"
    }
   ],
   "source": [
    "results.__dict__"
   ]
  },
  {
   "cell_type": "code",
   "execution_count": 11,
   "metadata": {
    "ExecuteTime": {
     "end_time": "2021-06-08T14:53:30.181038Z",
     "start_time": "2021-06-08T14:53:29.764099Z"
    }
   },
   "outputs": [
    {
     "name": "stderr",
     "output_type": "stream",
     "text": [
      "/opt/anaconda3/envs/learn-env-new/lib/python3.8/site-packages/seaborn/_decorators.py:36: FutureWarning: Pass the following variables as keyword args: x, y. From version 0.12, the only valid positional argument will be `data`, and passing other arguments without an explicit keyword will result in an error or misinterpretation.\n",
      "  warnings.warn(\n",
      "/opt/anaconda3/envs/learn-env-new/lib/python3.8/site-packages/seaborn/_decorators.py:36: FutureWarning: Pass the following variables as keyword args: x, y. From version 0.12, the only valid positional argument will be `data`, and passing other arguments without an explicit keyword will result in an error or misinterpretation.\n",
      "  warnings.warn(\n"
     ]
    },
    {
     "data": {
      "image/png": "[encoded data removed]",
      "text/plain": [
       "<Figure size 720x360 with 2 Axes>"
      ]
     },
     "metadata": {
      "needs_background": "light"
     },
     "output_type": "display_data"
    }
   ],
   "source": [
    "sigmoid_loss = results.history['loss']\n",
    "sigmoid_accuracy = results.history['accuracy']\n",
    "\n",
    "fig, (ax1, ax2) = plt.subplots(1, 2, figsize=(10, 5))\n",
    "sns.lineplot(results.epoch, results.history['loss'], ax=ax1, label='loss')\n",
    "sns.lineplot(results.epoch, results.history['accuracy'], ax=ax2, label='accuracy');"
   ]
  },
  {
   "cell_type": "markdown",
   "metadata": {},
   "source": [
    "We have two plots above both relating to the quality fo our model.  The left-hand plot is our loss. It uses the probabilities associated with our predictions to judge how well our prediction fits reality. We want it to decrease as far as possible.\n",
    "\n",
    "The accuracy judges how well the predictions are after applying the threshold at the output layer.  We want accuracy to increase."
   ]
  },
  {
   "cell_type": "markdown",
   "metadata": {},
   "source": [
    "If we look at our loss, it is still decreasing. That is a signal that our model is **still learning**. If our model is still learning, we can allow it to get better by turning a few dials.\n",
    "\n",
    "Let's:\n",
    "- increase the number of epochs;\n",
    "- change sigmoid activation in the hidden layers to ReLU;\n",
    "- decrease the batch size; and\n",
    "- try an 'adam' optimizer instead of 'SGD'."
   ]
  },
  {
   "cell_type": "code",
   "execution_count": 12,
   "metadata": {
    "ExecuteTime": {
     "end_time": "2021-06-08T14:53:33.877773Z",
     "start_time": "2021-06-08T14:53:30.184083Z"
    }
   },
   "outputs": [
    {
     "name": "stdout",
     "output_type": "stream",
     "text": [
      "Epoch 1/100\n",
      "36/36 [==============================] - 0s 990us/step - loss: 0.6947 - accuracy: 0.5564\n",
      "Epoch 2/100\n",
      "36/36 [==============================] - 0s 1ms/step - loss: 0.6275 - accuracy: 0.8134\n",
      "Epoch 3/100\n",
      "36/36 [==============================] - 0s 991us/step - loss: 0.5573 - accuracy: 0.8586\n",
      "Epoch 4/100\n",
      "36/36 [==============================] - 0s 912us/step - loss: 0.4626 - accuracy: 0.8752\n",
      "Epoch 5/100\n",
      "36/36 [==============================] - 0s 932us/step - loss: 0.3742 - accuracy: 0.8701\n",
      "Epoch 6/100\n",
      "36/36 [==============================] - 0s 961us/step - loss: 0.3198 - accuracy: 0.8900\n",
      "Epoch 7/100\n",
      "36/36 [==============================] - 0s 1ms/step - loss: 0.2802 - accuracy: 0.9038\n",
      "Epoch 8/100\n",
      "36/36 [==============================] - 0s 822us/step - loss: 0.2655 - accuracy: 0.8924\n",
      "Epoch 9/100\n",
      "36/36 [==============================] - 0s 722us/step - loss: 0.2685 - accuracy: 0.8832\n",
      "Epoch 10/100\n",
      "36/36 [==============================] - 0s 903us/step - loss: 0.2484 - accuracy: 0.8912\n",
      "Epoch 11/100\n",
      "36/36 [==============================] - 0s 680us/step - loss: 0.2201 - accuracy: 0.9050\n",
      "Epoch 12/100\n",
      "36/36 [==============================] - 0s 655us/step - loss: 0.1969 - accuracy: 0.9213\n",
      "Epoch 13/100\n",
      "36/36 [==============================] - 0s 610us/step - loss: 0.1838 - accuracy: 0.9169\n",
      "Epoch 14/100\n",
      "36/36 [==============================] - 0s 756us/step - loss: 0.2003 - accuracy: 0.9099\n",
      "Epoch 15/100\n",
      "36/36 [==============================] - 0s 796us/step - loss: 0.1633 - accuracy: 0.9299\n",
      "Epoch 16/100\n",
      "36/36 [==============================] - 0s 766us/step - loss: 0.1784 - accuracy: 0.9145\n",
      "Epoch 17/100\n",
      "36/36 [==============================] - 0s 869us/step - loss: 0.1550 - accuracy: 0.9323\n",
      "Epoch 18/100\n",
      "36/36 [==============================] - 0s 832us/step - loss: 0.1515 - accuracy: 0.9254\n",
      "Epoch 19/100\n",
      "36/36 [==============================] - 0s 861us/step - loss: 0.1464 - accuracy: 0.9378\n",
      "Epoch 20/100\n",
      "36/36 [==============================] - 0s 1ms/step - loss: 0.1507 - accuracy: 0.9345\n",
      "Epoch 21/100\n",
      "36/36 [==============================] - 0s 1ms/step - loss: 0.1235 - accuracy: 0.9456\n",
      "Epoch 22/100\n",
      "36/36 [==============================] - 0s 1ms/step - loss: 0.1303 - accuracy: 0.9470\n",
      "Epoch 23/100\n",
      "36/36 [==============================] - 0s 1ms/step - loss: 0.1142 - accuracy: 0.9523\n",
      "Epoch 24/100\n",
      "36/36 [==============================] - 0s 1ms/step - loss: 0.1102 - accuracy: 0.9528\n",
      "Epoch 25/100\n",
      "36/36 [==============================] - 0s 1ms/step - loss: 0.1173 - accuracy: 0.9477\n",
      "Epoch 26/100\n",
      "36/36 [==============================] - 0s 986us/step - loss: 0.1079 - accuracy: 0.9553\n",
      "Epoch 27/100\n",
      "36/36 [==============================] - 0s 888us/step - loss: 0.1060 - accuracy: 0.9475\n",
      "Epoch 28/100\n",
      "36/36 [==============================] - 0s 914us/step - loss: 0.1054 - accuracy: 0.9567\n",
      "Epoch 29/100\n",
      "36/36 [==============================] - 0s 884us/step - loss: 0.0913 - accuracy: 0.9622\n",
      "Epoch 30/100\n",
      "36/36 [==============================] - 0s 905us/step - loss: 0.0987 - accuracy: 0.9599\n",
      "Epoch 31/100\n",
      "36/36 [==============================] - 0s 817us/step - loss: 0.0991 - accuracy: 0.9606\n",
      "Epoch 32/100\n",
      "36/36 [==============================] - 0s 703us/step - loss: 0.0798 - accuracy: 0.9718\n",
      "Epoch 33/100\n",
      "36/36 [==============================] - 0s 634us/step - loss: 0.0868 - accuracy: 0.9698\n",
      "Epoch 34/100\n",
      "36/36 [==============================] - 0s 667us/step - loss: 0.0859 - accuracy: 0.9604\n",
      "Epoch 35/100\n",
      "36/36 [==============================] - 0s 679us/step - loss: 0.0767 - accuracy: 0.9753\n",
      "Epoch 36/100\n",
      "36/36 [==============================] - 0s 713us/step - loss: 0.0838 - accuracy: 0.9602\n",
      "Epoch 37/100\n",
      "36/36 [==============================] - 0s 752us/step - loss: 0.0775 - accuracy: 0.9681\n",
      "Epoch 38/100\n",
      "36/36 [==============================] - 0s 836us/step - loss: 0.0655 - accuracy: 0.9777\n",
      "Epoch 39/100\n",
      "36/36 [==============================] - 0s 1ms/step - loss: 0.0656 - accuracy: 0.9800\n",
      "Epoch 40/100\n",
      "36/36 [==============================] - 0s 985us/step - loss: 0.0690 - accuracy: 0.9743\n",
      "Epoch 41/100\n",
      "36/36 [==============================] - 0s 939us/step - loss: 0.0675 - accuracy: 0.9753\n",
      "Epoch 42/100\n",
      "36/36 [==============================] - 0s 1ms/step - loss: 0.0653 - accuracy: 0.9730\n",
      "Epoch 43/100\n",
      "36/36 [==============================] - 0s 823us/step - loss: 0.0673 - accuracy: 0.9761\n",
      "Epoch 44/100\n",
      "36/36 [==============================] - 0s 782us/step - loss: 0.0507 - accuracy: 0.9849\n",
      "Epoch 45/100\n",
      "36/36 [==============================] - 0s 916us/step - loss: 0.0617 - accuracy: 0.9752\n",
      "Epoch 46/100\n",
      "36/36 [==============================] - 0s 718us/step - loss: 0.0483 - accuracy: 0.9847\n",
      "Epoch 47/100\n",
      "36/36 [==============================] - 0s 703us/step - loss: 0.0533 - accuracy: 0.9806\n",
      "Epoch 48/100\n",
      "36/36 [==============================] - 0s 662us/step - loss: 0.0501 - accuracy: 0.9808\n",
      "Epoch 49/100\n",
      "36/36 [==============================] - 0s 715us/step - loss: 0.0427 - accuracy: 0.9868\n",
      "Epoch 50/100\n",
      "36/36 [==============================] - 0s 785us/step - loss: 0.0379 - accuracy: 0.9915\n",
      "Epoch 51/100\n",
      "36/36 [==============================] - 0s 746us/step - loss: 0.0454 - accuracy: 0.9906\n",
      "Epoch 52/100\n",
      "36/36 [==============================] - 0s 723us/step - loss: 0.0371 - accuracy: 0.9883\n",
      "Epoch 53/100\n",
      "36/36 [==============================] - 0s 1ms/step - loss: 0.0448 - accuracy: 0.9830\n",
      "Epoch 54/100\n",
      "36/36 [==============================] - 0s 1ms/step - loss: 0.0373 - accuracy: 0.9906\n",
      "Epoch 55/100\n",
      "36/36 [==============================] - 0s 1ms/step - loss: 0.0388 - accuracy: 0.9839\n",
      "Epoch 56/100\n",
      "36/36 [==============================] - 0s 1ms/step - loss: 0.0356 - accuracy: 0.9927\n",
      "Epoch 57/100\n",
      "36/36 [==============================] - 0s 915us/step - loss: 0.0458 - accuracy: 0.9831\n",
      "Epoch 58/100\n",
      "36/36 [==============================] - 0s 901us/step - loss: 0.0305 - accuracy: 0.9916\n",
      "Epoch 59/100\n",
      "36/36 [==============================] - 0s 890us/step - loss: 0.0326 - accuracy: 0.9937\n",
      "Epoch 60/100\n",
      "36/36 [==============================] - 0s 871us/step - loss: 0.0355 - accuracy: 0.9901\n",
      "Epoch 61/100\n",
      "36/36 [==============================] - 0s 852us/step - loss: 0.0279 - accuracy: 0.9932\n",
      "Epoch 62/100\n",
      "36/36 [==============================] - 0s 867us/step - loss: 0.0274 - accuracy: 0.9952\n",
      "Epoch 63/100\n",
      "36/36 [==============================] - 0s 1ms/step - loss: 0.0302 - accuracy: 0.9944\n",
      "Epoch 64/100\n",
      "36/36 [==============================] - 0s 2ms/step - loss: 0.0255 - accuracy: 0.9939\n",
      "Epoch 65/100\n",
      "36/36 [==============================] - 0s 1ms/step - loss: 0.0285 - accuracy: 0.9935\n",
      "Epoch 66/100\n",
      "36/36 [==============================] - 0s 839us/step - loss: 0.0261 - accuracy: 0.9945\n",
      "Epoch 67/100\n",
      "36/36 [==============================] - 0s 755us/step - loss: 0.0221 - accuracy: 0.9979\n",
      "Epoch 68/100\n",
      "36/36 [==============================] - 0s 717us/step - loss: 0.0250 - accuracy: 0.9969\n",
      "Epoch 69/100\n",
      "36/36 [==============================] - 0s 894us/step - loss: 0.0262 - accuracy: 0.9970\n",
      "Epoch 70/100\n",
      "36/36 [==============================] - 0s 679us/step - loss: 0.0271 - accuracy: 0.9928\n",
      "Epoch 71/100\n",
      "36/36 [==============================] - 0s 712us/step - loss: 0.0227 - accuracy: 0.9994\n",
      "Epoch 72/100\n",
      "36/36 [==============================] - 0s 870us/step - loss: 0.0244 - accuracy: 0.9949\n",
      "Epoch 73/100\n",
      "36/36 [==============================] - 0s 920us/step - loss: 0.0205 - accuracy: 0.9970\n",
      "Epoch 74/100\n",
      "36/36 [==============================] - 0s 876us/step - loss: 0.0191 - accuracy: 0.9959\n",
      "Epoch 75/100\n",
      "36/36 [==============================] - 0s 681us/step - loss: 0.0219 - accuracy: 0.9983\n",
      "Epoch 76/100\n",
      "36/36 [==============================] - 0s 727us/step - loss: 0.0175 - accuracy: 0.9985\n",
      "Epoch 77/100\n",
      "36/36 [==============================] - 0s 904us/step - loss: 0.0157 - accuracy: 0.9980\n",
      "Epoch 78/100\n",
      "36/36 [==============================] - 0s 831us/step - loss: 0.0168 - accuracy: 0.9977\n",
      "Epoch 79/100\n",
      "36/36 [==============================] - 0s 908us/step - loss: 0.0156 - accuracy: 0.9991\n",
      "Epoch 80/100\n",
      "36/36 [==============================] - 0s 862us/step - loss: 0.0142 - accuracy: 0.9978\n",
      "Epoch 81/100\n"
     ]
    },
    {
     "name": "stdout",
     "output_type": "stream",
     "text": [
      "36/36 [==============================] - 0s 803us/step - loss: 0.0176 - accuracy: 0.9979\n",
      "Epoch 82/100\n",
      "36/36 [==============================] - 0s 694us/step - loss: 0.0153 - accuracy: 0.9985\n",
      "Epoch 83/100\n",
      "36/36 [==============================] - 0s 600us/step - loss: 0.0164 - accuracy: 0.9991\n",
      "Epoch 84/100\n",
      "36/36 [==============================] - 0s 651us/step - loss: 0.0167 - accuracy: 0.9994\n",
      "Epoch 85/100\n",
      "36/36 [==============================] - 0s 648us/step - loss: 0.0137 - accuracy: 0.9987\n",
      "Epoch 86/100\n",
      "36/36 [==============================] - 0s 712us/step - loss: 0.0127 - accuracy: 0.9992\n",
      "Epoch 87/100\n",
      "36/36 [==============================] - 0s 743us/step - loss: 0.0135 - accuracy: 0.9991\n",
      "Epoch 88/100\n",
      "36/36 [==============================] - 0s 695us/step - loss: 0.0125 - accuracy: 0.9992\n",
      "Epoch 89/100\n",
      "36/36 [==============================] - 0s 724us/step - loss: 0.0143 - accuracy: 0.9986\n",
      "Epoch 90/100\n",
      "36/36 [==============================] - 0s 720us/step - loss: 0.0122 - accuracy: 0.9982\n",
      "Epoch 91/100\n",
      "36/36 [==============================] - 0s 773us/step - loss: 0.0116 - accuracy: 0.9998\n",
      "Epoch 92/100\n",
      "36/36 [==============================] - 0s 709us/step - loss: 0.0124 - accuracy: 0.9990\n",
      "Epoch 93/100\n",
      "36/36 [==============================] - 0s 633us/step - loss: 0.0142 - accuracy: 0.9993\n",
      "Epoch 94/100\n",
      "36/36 [==============================] - 0s 717us/step - loss: 0.0115 - accuracy: 0.9985\n",
      "Epoch 95/100\n",
      "36/36 [==============================] - 0s 655us/step - loss: 0.0095 - accuracy: 1.0000\n",
      "Epoch 96/100\n",
      "36/36 [==============================] - 0s 630us/step - loss: 0.0104 - accuracy: 0.9996\n",
      "Epoch 97/100\n",
      "36/36 [==============================] - 0s 745us/step - loss: 0.0082 - accuracy: 0.9996\n",
      "Epoch 98/100\n",
      "36/36 [==============================] - 0s 611us/step - loss: 0.0104 - accuracy: 0.9999\n",
      "Epoch 99/100\n",
      "36/36 [==============================] - 0s 658us/step - loss: 0.0099 - accuracy: 1.0000\n",
      "Epoch 100/100\n",
      "36/36 [==============================] - 0s 648us/step - loss: 0.0093 - accuracy: 1.0000\n"
     ]
    }
   ],
   "source": [
    "model = Sequential()\n",
    "model.add(Dense(12, activation='relu', input_dim=64))\n",
    "model.add(Dense(8, activation='relu'))\n",
    "model.add(Dense(1, activation='sigmoid'))\n",
    "\n",
    "model.compile(optimizer='adam',\n",
    "              loss='binary_crossentropy',\n",
    "              metrics=['accuracy'])\n",
    "\n",
    "# Assign the variable history to store the results,\n",
    "# and set verbose=1 so we can see the output.\n",
    "results = model.fit(X_pure_train, y_pure_train, epochs=100, batch_size=32, verbose=1)"
   ]
  },
  {
   "cell_type": "code",
   "execution_count": 13,
   "metadata": {
    "ExecuteTime": {
     "end_time": "2021-06-08T14:53:34.169867Z",
     "start_time": "2021-06-08T14:53:33.879562Z"
    }
   },
   "outputs": [
    {
     "name": "stderr",
     "output_type": "stream",
     "text": [
      "/opt/anaconda3/envs/learn-env-new/lib/python3.8/site-packages/seaborn/_decorators.py:36: FutureWarning: Pass the following variables as keyword args: x, y. From version 0.12, the only valid positional argument will be `data`, and passing other arguments without an explicit keyword will result in an error or misinterpretation.\n",
      "  warnings.warn(\n",
      "/opt/anaconda3/envs/learn-env-new/lib/python3.8/site-packages/seaborn/_decorators.py:36: FutureWarning: Pass the following variables as keyword args: x, y. From version 0.12, the only valid positional argument will be `data`, and passing other arguments without an explicit keyword will result in an error or misinterpretation.\n",
      "  warnings.warn(\n"
     ]
    },
    {
     "data": {
      "image/png": "[encoded data removed]",
      "text/plain": [
       "<Figure size 720x360 with 2 Axes>"
      ]
     },
     "metadata": {
      "needs_background": "light"
     },
     "output_type": "display_data"
    }
   ],
   "source": [
    "sigmoid_loss = results.history['loss']\n",
    "sigmoid_accuracy = results.history['accuracy']\n",
    "\n",
    "fig, (ax1, ax2) = plt.subplots(1,2, figsize=(10,5))\n",
    "sns.lineplot(results.epoch, sigmoid_loss, ax=ax1, label='loss')\n",
    "sns.lineplot(results.epoch, sigmoid_accuracy, ax=ax2, label='accuracy');"
   ]
  },
  {
   "cell_type": "markdown",
   "metadata": {},
   "source": [
    "If we increase the learning rate to a very high number, we see that our model overshoots the minimum, and starts bouncing all around."
   ]
  },
  {
   "cell_type": "code",
   "execution_count": 14,
   "metadata": {
    "ExecuteTime": {
     "end_time": "2021-06-08T14:53:36.984740Z",
     "start_time": "2021-06-08T14:53:34.172094Z"
    }
   },
   "outputs": [
    {
     "name": "stdout",
     "output_type": "stream",
     "text": [
      "Epoch 1/30\n",
      "115/115 [==============================] - 0s 649us/step - loss: 342.6265 - accuracy: 0.4689\n",
      "Epoch 2/30\n",
      "115/115 [==============================] - 0s 633us/step - loss: 0.9633 - accuracy: 0.4875\n",
      "Epoch 3/30\n",
      "115/115 [==============================] - 0s 682us/step - loss: 1.0653 - accuracy: 0.4862\n",
      "Epoch 4/30\n",
      "115/115 [==============================] - 0s 798us/step - loss: 1.0428 - accuracy: 0.4858\n",
      "Epoch 5/30\n",
      "115/115 [==============================] - 0s 647us/step - loss: 0.9439 - accuracy: 0.5136\n",
      "Epoch 6/30\n",
      "115/115 [==============================] - 0s 660us/step - loss: 1.0574 - accuracy: 0.4760\n",
      "Epoch 7/30\n",
      "115/115 [==============================] - 0s 574us/step - loss: 1.0234 - accuracy: 0.5245\n",
      "Epoch 8/30\n",
      "115/115 [==============================] - 0s 589us/step - loss: 1.0812 - accuracy: 0.4768\n",
      "Epoch 9/30\n",
      "115/115 [==============================] - 0s 575us/step - loss: 0.9818 - accuracy: 0.5072\n",
      "Epoch 10/30\n",
      "115/115 [==============================] - 0s 579us/step - loss: 1.0777 - accuracy: 0.4775\n",
      "Epoch 11/30\n",
      "115/115 [==============================] - 0s 602us/step - loss: 0.9390 - accuracy: 0.5008\n",
      "Epoch 12/30\n",
      "115/115 [==============================] - 0s 591us/step - loss: 1.1070 - accuracy: 0.4766\n",
      "Epoch 13/30\n",
      "115/115 [==============================] - 0s 613us/step - loss: 0.9476 - accuracy: 0.5044\n",
      "Epoch 14/30\n",
      "115/115 [==============================] - 0s 576us/step - loss: 0.9183 - accuracy: 0.5392\n",
      "Epoch 15/30\n",
      "115/115 [==============================] - 0s 577us/step - loss: 0.9458 - accuracy: 0.5008\n",
      "Epoch 16/30\n",
      "115/115 [==============================] - 0s 577us/step - loss: 0.9881 - accuracy: 0.5145\n",
      "Epoch 17/30\n",
      "115/115 [==============================] - 0s 666us/step - loss: 0.9813 - accuracy: 0.4825\n",
      "Epoch 18/30\n",
      "115/115 [==============================] - 0s 614us/step - loss: 0.9301 - accuracy: 0.5191\n",
      "Epoch 19/30\n",
      "115/115 [==============================] - 0s 611us/step - loss: 1.0463 - accuracy: 0.4786\n",
      "Epoch 20/30\n",
      "115/115 [==============================] - 0s 655us/step - loss: 0.9899 - accuracy: 0.4836\n",
      "Epoch 21/30\n",
      "115/115 [==============================] - 0s 583us/step - loss: 1.1203 - accuracy: 0.4559\n",
      "Epoch 22/30\n",
      "115/115 [==============================] - 0s 664us/step - loss: 1.1258 - accuracy: 0.4968\n",
      "Epoch 23/30\n",
      "115/115 [==============================] - 0s 587us/step - loss: 1.0303 - accuracy: 0.4805\n",
      "Epoch 24/30\n",
      "115/115 [==============================] - 0s 642us/step - loss: 0.9564 - accuracy: 0.5118\n",
      "Epoch 25/30\n",
      "115/115 [==============================] - 0s 673us/step - loss: 0.9892 - accuracy: 0.5138\n",
      "Epoch 26/30\n",
      "115/115 [==============================] - 0s 643us/step - loss: 1.0624 - accuracy: 0.4833\n",
      "Epoch 27/30\n",
      "115/115 [==============================] - 0s 668us/step - loss: 0.9852 - accuracy: 0.5038\n",
      "Epoch 28/30\n",
      "115/115 [==============================] - 0s 627us/step - loss: 1.0583 - accuracy: 0.4946\n",
      "Epoch 29/30\n",
      "115/115 [==============================] - 0s 593us/step - loss: 0.9765 - accuracy: 0.5004\n",
      "Epoch 30/30\n",
      "115/115 [==============================] - 0s 678us/step - loss: 1.0646 - accuracy: 0.5017\n"
     ]
    },
    {
     "name": "stderr",
     "output_type": "stream",
     "text": [
      "/opt/anaconda3/envs/learn-env-new/lib/python3.8/site-packages/seaborn/_decorators.py:36: FutureWarning: Pass the following variables as keyword args: x, y. From version 0.12, the only valid positional argument will be `data`, and passing other arguments without an explicit keyword will result in an error or misinterpretation.\n",
      "  warnings.warn(\n",
      "/opt/anaconda3/envs/learn-env-new/lib/python3.8/site-packages/seaborn/_decorators.py:36: FutureWarning: Pass the following variables as keyword args: x, y. From version 0.12, the only valid positional argument will be `data`, and passing other arguments without an explicit keyword will result in an error or misinterpretation.\n",
      "  warnings.warn(\n"
     ]
    },
    {
     "data": {
      "image/png": "[encoded data removed]",
      "text/plain": [
       "<Figure size 720x360 with 2 Axes>"
      ]
     },
     "metadata": {
      "needs_background": "light"
     },
     "output_type": "display_data"
    }
   ],
   "source": [
    "model = Sequential()\n",
    "\n",
    "sgd = SGD(lr=9)\n",
    "model.add(Dense(12, activation='relu', input_dim=64))\n",
    "model.add(Dense(8, activation='relu'))\n",
    "model.add(Dense(1, activation='sigmoid'))\n",
    "\n",
    "model.compile(optimizer=sgd,\n",
    "              loss='binary_crossentropy',\n",
    "              metrics=['accuracy'])\n",
    "\n",
    "results = model.fit(X_pure_train, y_pure_train,\n",
    "                    epochs=30, batch_size=10, verbose=1)\n",
    "\n",
    "relu_loss = results.history['loss']\n",
    "relu_accuracy = results.history['accuracy']\n",
    "\n",
    "fig, (ax1, ax2) = plt.subplots(1,2, figsize=(10,5))\n",
    "sns.lineplot(results.epoch, relu_loss, ax=ax1, label='loss')\n",
    "sns.lineplot(results.epoch, relu_accuracy, ax=ax2, label='accuracy');"
   ]
  },
  {
   "cell_type": "markdown",
   "metadata": {},
   "source": [
    "We have been looking only at our training set. Let's add in our validation set to the picture."
   ]
  },
  {
   "cell_type": "code",
   "execution_count": 15,
   "metadata": {
    "ExecuteTime": {
     "end_time": "2021-06-08T14:53:43.470985Z",
     "start_time": "2021-06-08T14:53:36.986537Z"
    }
   },
   "outputs": [
    {
     "name": "stderr",
     "output_type": "stream",
     "text": [
      "/opt/anaconda3/envs/learn-env-new/lib/python3.8/site-packages/seaborn/_decorators.py:36: FutureWarning: Pass the following variables as keyword args: x, y. From version 0.12, the only valid positional argument will be `data`, and passing other arguments without an explicit keyword will result in an error or misinterpretation.\n",
      "  warnings.warn(\n",
      "/opt/anaconda3/envs/learn-env-new/lib/python3.8/site-packages/seaborn/_decorators.py:36: FutureWarning: Pass the following variables as keyword args: x, y. From version 0.12, the only valid positional argument will be `data`, and passing other arguments without an explicit keyword will result in an error or misinterpretation.\n",
      "  warnings.warn(\n",
      "/opt/anaconda3/envs/learn-env-new/lib/python3.8/site-packages/seaborn/_decorators.py:36: FutureWarning: Pass the following variables as keyword args: x, y. From version 0.12, the only valid positional argument will be `data`, and passing other arguments without an explicit keyword will result in an error or misinterpretation.\n",
      "  warnings.warn(\n",
      "/opt/anaconda3/envs/learn-env-new/lib/python3.8/site-packages/seaborn/_decorators.py:36: FutureWarning: Pass the following variables as keyword args: x, y. From version 0.12, the only valid positional argument will be `data`, and passing other arguments without an explicit keyword will result in an error or misinterpretation.\n",
      "  warnings.warn(\n"
     ]
    },
    {
     "data": {
      "image/png": "[encoded data removed]",
      "text/plain": [
       "<Figure size 720x360 with 2 Axes>"
      ]
     },
     "metadata": {
      "needs_background": "light"
     },
     "output_type": "display_data"
    }
   ],
   "source": [
    "model = Sequential()\n",
    "model.add(Dense(12, activation='relu', input_dim=64))\n",
    "model.add(Dense(8, activation='relu'))\n",
    "model.add(Dense(4, activation='relu'))\n",
    "model.add(Dense(1, activation='sigmoid'))\n",
    "\n",
    "model.compile(optimizer='adam',\n",
    "              loss='binary_crossentropy',\n",
    "              metrics=['accuracy'])\n",
    "\n",
    "results = model.fit(X_pure_train, y_pure_train,\n",
    "                    epochs=100, batch_size=32, verbose=0,\n",
    "                    validation_data=(X_val, y_val))\n",
    "\n",
    "train_loss = results.history['loss']\n",
    "train_acc = results.history['accuracy']\n",
    "val_loss = results.history['val_loss']\n",
    "val_acc = results.history['val_accuracy']\n",
    "\n",
    "fig, (ax1, ax2) = plt.subplots(1, 2, figsize=(10, 5))\n",
    "sns.lineplot(results.epoch, train_loss, ax=ax1, label='train_loss')\n",
    "sns.lineplot(results.epoch, train_acc, ax=ax2, label='train_accuracy')\n",
    "\n",
    "sns.lineplot(results.epoch, val_loss, ax=ax1, label='val_loss')\n",
    "sns.lineplot(results.epoch, val_acc, ax=ax2, label='val_accuracy');"
   ]
  },
  {
   "cell_type": "code",
   "execution_count": 16,
   "metadata": {
    "ExecuteTime": {
     "end_time": "2021-06-08T14:53:43.522343Z",
     "start_time": "2021-06-08T14:53:43.472643Z"
    }
   },
   "outputs": [
    {
     "data": {
      "text/plain": [
       "0.9791666865348816"
      ]
     },
     "execution_count": 16,
     "metadata": {},
     "output_type": "execute_result"
    }
   ],
   "source": [
    "results.history['val_accuracy'][-1]"
   ]
  },
  {
   "cell_type": "markdown",
   "metadata": {},
   "source": [
    "## Connecting with `sklearn`\n",
    "\n",
    "The `keras.wrappers` submodule means that we can turn `keras` models into estimators that `sklearn` tools will recognize."
   ]
  },
  {
   "cell_type": "code",
   "execution_count": 17,
   "metadata": {
    "ExecuteTime": {
     "end_time": "2021-06-08T14:53:43.587140Z",
     "start_time": "2021-06-08T14:53:43.523930Z"
    }
   },
   "outputs": [
    {
     "ename": "TypeError",
     "evalue": "If no scoring is specified, the estimator passed should have a 'score' method. The estimator <tensorflow.python.keras.engine.sequential.Sequential object at 0x7fea02bfb820> does not.",
     "output_type": "error",
     "traceback": [
      "\u001b[0;31m---------------------------------------------------------------------------\u001b[0m",
      "\u001b[0;31mTypeError\u001b[0m                                 Traceback (most recent call last)",
      "\u001b[0;32m<ipython-input-17-37bcc55654e8>\u001b[0m in \u001b[0;36m<module>\u001b[0;34m\u001b[0m\n\u001b[0;32m----> 1\u001b[0;31m \u001b[0mcross_val_score\u001b[0m\u001b[0;34m(\u001b[0m\u001b[0mmodel\u001b[0m\u001b[0;34m,\u001b[0m \u001b[0mX_pure_train\u001b[0m\u001b[0;34m,\u001b[0m \u001b[0my_pure_train\u001b[0m\u001b[0;34m)\u001b[0m\u001b[0;34m\u001b[0m\u001b[0;34m\u001b[0m\u001b[0m\n\u001b[0m",
      "\u001b[0;32m/opt/anaconda3/envs/learn-env-new/lib/python3.8/site-packages/sklearn/utils/validation.py\u001b[0m in \u001b[0;36minner_f\u001b[0;34m(*args, **kwargs)\u001b[0m\n\u001b[1;32m     70\u001b[0m                           FutureWarning)\n\u001b[1;32m     71\u001b[0m         \u001b[0mkwargs\u001b[0m\u001b[0;34m.\u001b[0m\u001b[0mupdate\u001b[0m\u001b[0;34m(\u001b[0m\u001b[0;34m{\u001b[0m\u001b[0mk\u001b[0m\u001b[0;34m:\u001b[0m \u001b[0marg\u001b[0m \u001b[0;32mfor\u001b[0m \u001b[0mk\u001b[0m\u001b[0;34m,\u001b[0m \u001b[0marg\u001b[0m \u001b[0;32min\u001b[0m \u001b[0mzip\u001b[0m\u001b[0;34m(\u001b[0m\u001b[0msig\u001b[0m\u001b[0;34m.\u001b[0m\u001b[0mparameters\u001b[0m\u001b[0;34m,\u001b[0m \u001b[0margs\u001b[0m\u001b[0;34m)\u001b[0m\u001b[0;34m}\u001b[0m\u001b[0;34m)\u001b[0m\u001b[0;34m\u001b[0m\u001b[0;34m\u001b[0m\u001b[0m\n\u001b[0;32m---> 72\u001b[0;31m         \u001b[0;32mreturn\u001b[0m \u001b[0mf\u001b[0m\u001b[0;34m(\u001b[0m\u001b[0;34m**\u001b[0m\u001b[0mkwargs\u001b[0m\u001b[0;34m)\u001b[0m\u001b[0;34m\u001b[0m\u001b[0;34m\u001b[0m\u001b[0m\n\u001b[0m\u001b[1;32m     73\u001b[0m     \u001b[0;32mreturn\u001b[0m \u001b[0minner_f\u001b[0m\u001b[0;34m\u001b[0m\u001b[0;34m\u001b[0m\u001b[0m\n\u001b[1;32m     74\u001b[0m \u001b[0;34m\u001b[0m\u001b[0m\n",
      "\u001b[0;32m/opt/anaconda3/envs/learn-env-new/lib/python3.8/site-packages/sklearn/model_selection/_validation.py\u001b[0m in \u001b[0;36mcross_val_score\u001b[0;34m(estimator, X, y, groups, scoring, cv, n_jobs, verbose, fit_params, pre_dispatch, error_score)\u001b[0m\n\u001b[1;32m    397\u001b[0m     \"\"\"\n\u001b[1;32m    398\u001b[0m     \u001b[0;31m# To ensure multimetric format is not supported\u001b[0m\u001b[0;34m\u001b[0m\u001b[0;34m\u001b[0m\u001b[0;34m\u001b[0m\u001b[0m\n\u001b[0;32m--> 399\u001b[0;31m     \u001b[0mscorer\u001b[0m \u001b[0;34m=\u001b[0m \u001b[0mcheck_scoring\u001b[0m\u001b[0;34m(\u001b[0m\u001b[0mestimator\u001b[0m\u001b[0;34m,\u001b[0m \u001b[0mscoring\u001b[0m\u001b[0;34m=\u001b[0m\u001b[0mscoring\u001b[0m\u001b[0;34m)\u001b[0m\u001b[0;34m\u001b[0m\u001b[0;34m\u001b[0m\u001b[0m\n\u001b[0m\u001b[1;32m    400\u001b[0m \u001b[0;34m\u001b[0m\u001b[0m\n\u001b[1;32m    401\u001b[0m     cv_results = cross_validate(estimator=estimator, X=X, y=y, groups=groups,\n",
      "\u001b[0;32m/opt/anaconda3/envs/learn-env-new/lib/python3.8/site-packages/sklearn/utils/validation.py\u001b[0m in \u001b[0;36minner_f\u001b[0;34m(*args, **kwargs)\u001b[0m\n\u001b[1;32m     70\u001b[0m                           FutureWarning)\n\u001b[1;32m     71\u001b[0m         \u001b[0mkwargs\u001b[0m\u001b[0;34m.\u001b[0m\u001b[0mupdate\u001b[0m\u001b[0;34m(\u001b[0m\u001b[0;34m{\u001b[0m\u001b[0mk\u001b[0m\u001b[0;34m:\u001b[0m \u001b[0marg\u001b[0m \u001b[0;32mfor\u001b[0m \u001b[0mk\u001b[0m\u001b[0;34m,\u001b[0m \u001b[0marg\u001b[0m \u001b[0;32min\u001b[0m \u001b[0mzip\u001b[0m\u001b[0;34m(\u001b[0m\u001b[0msig\u001b[0m\u001b[0;34m.\u001b[0m\u001b[0mparameters\u001b[0m\u001b[0;34m,\u001b[0m \u001b[0margs\u001b[0m\u001b[0;34m)\u001b[0m\u001b[0;34m}\u001b[0m\u001b[0;34m)\u001b[0m\u001b[0;34m\u001b[0m\u001b[0;34m\u001b[0m\u001b[0m\n\u001b[0;32m---> 72\u001b[0;31m         \u001b[0;32mreturn\u001b[0m \u001b[0mf\u001b[0m\u001b[0;34m(\u001b[0m\u001b[0;34m**\u001b[0m\u001b[0mkwargs\u001b[0m\u001b[0;34m)\u001b[0m\u001b[0;34m\u001b[0m\u001b[0;34m\u001b[0m\u001b[0m\n\u001b[0m\u001b[1;32m     73\u001b[0m     \u001b[0;32mreturn\u001b[0m \u001b[0minner_f\u001b[0m\u001b[0;34m\u001b[0m\u001b[0;34m\u001b[0m\u001b[0m\n\u001b[1;32m     74\u001b[0m \u001b[0;34m\u001b[0m\u001b[0m\n",
      "\u001b[0;32m/opt/anaconda3/envs/learn-env-new/lib/python3.8/site-packages/sklearn/metrics/_scorer.py\u001b[0m in \u001b[0;36mcheck_scoring\u001b[0;34m(estimator, scoring, allow_none)\u001b[0m\n\u001b[1;32m    423\u001b[0m             \u001b[0;32mreturn\u001b[0m \u001b[0;32mNone\u001b[0m\u001b[0;34m\u001b[0m\u001b[0;34m\u001b[0m\u001b[0m\n\u001b[1;32m    424\u001b[0m         \u001b[0;32melse\u001b[0m\u001b[0;34m:\u001b[0m\u001b[0;34m\u001b[0m\u001b[0;34m\u001b[0m\u001b[0m\n\u001b[0;32m--> 425\u001b[0;31m             raise TypeError(\n\u001b[0m\u001b[1;32m    426\u001b[0m                 \u001b[0;34m\"If no scoring is specified, the estimator passed should \"\u001b[0m\u001b[0;34m\u001b[0m\u001b[0;34m\u001b[0m\u001b[0m\n\u001b[1;32m    427\u001b[0m                 \u001b[0;34m\"have a 'score' method. The estimator %r does not.\"\u001b[0m\u001b[0;34m\u001b[0m\u001b[0;34m\u001b[0m\u001b[0m\n",
      "\u001b[0;31mTypeError\u001b[0m: If no scoring is specified, the estimator passed should have a 'score' method. The estimator <tensorflow.python.keras.engine.sequential.Sequential object at 0x7fea02bfb820> does not."
     ]
    }
   ],
   "source": [
    "cross_val_score(model, X_pure_train, y_pure_train)"
   ]
  },
  {
   "cell_type": "code",
   "execution_count": 18,
   "metadata": {
    "ExecuteTime": {
     "end_time": "2021-06-08T14:54:26.351817Z",
     "start_time": "2021-06-08T14:54:26.248571Z"
    }
   },
   "outputs": [],
   "source": [
    "def build_model():\n",
    "    model = Sequential()\n",
    "    model.add(Dense(12, activation='relu', input_dim=64))\n",
    "    model.add(Dense(8, activation='relu'))\n",
    "    model.add(Dense(4, activation='relu'))\n",
    "    model.add(Dense(1, activation = 'sigmoid'))\n",
    "\n",
    "    model.compile(optimizer='adam',\n",
    "                  loss='binary_crossentropy',\n",
    "                  metrics=['accuracy'])\n",
    "    return model"
   ]
  },
  {
   "cell_type": "code",
   "execution_count": 19,
   "metadata": {
    "ExecuteTime": {
     "end_time": "2021-06-08T14:54:26.908582Z",
     "start_time": "2021-06-08T14:54:26.848001Z"
    }
   },
   "outputs": [],
   "source": [
    "keras_model = scikit_learn.KerasClassifier(build_model,\n",
    "                                          epochs=50,\n",
    "                                          batch_size=32,\n",
    "                                          verbose=2)"
   ]
  },
  {
   "cell_type": "code",
   "execution_count": 20,
   "metadata": {
    "ExecuteTime": {
     "end_time": "2021-06-08T14:54:27.722523Z",
     "start_time": "2021-06-08T14:54:27.655359Z"
    }
   },
   "outputs": [
    {
     "data": {
      "text/plain": [
       "tensorflow.python.keras.wrappers.scikit_learn.KerasClassifier"
      ]
     },
     "execution_count": 20,
     "metadata": {},
     "output_type": "execute_result"
    }
   ],
   "source": [
    "type(keras_model)"
   ]
  },
  {
   "cell_type": "code",
   "execution_count": 21,
   "metadata": {
    "ExecuteTime": {
     "end_time": "2021-06-08T14:54:37.367699Z",
     "start_time": "2021-06-08T14:54:27.919321Z"
    }
   },
   "outputs": [
    {
     "name": "stdout",
     "output_type": "stream",
     "text": [
      "Epoch 1/50\n",
      "29/29 - 0s - loss: 0.6694 - accuracy: 0.6148\n",
      "Epoch 2/50\n",
      "29/29 - 0s - loss: 0.6276 - accuracy: 0.7269\n",
      "Epoch 3/50\n",
      "29/29 - 0s - loss: 0.5644 - accuracy: 0.7693\n",
      "Epoch 4/50\n",
      "29/29 - 0s - loss: 0.4844 - accuracy: 0.8270\n",
      "Epoch 5/50\n",
      "29/29 - 0s - loss: 0.4120 - accuracy: 0.8553\n",
      "Epoch 6/50\n",
      "29/29 - 0s - loss: 0.3490 - accuracy: 0.8705\n",
      "Epoch 7/50\n",
      "29/29 - 0s - loss: 0.2966 - accuracy: 0.8814\n",
      "Epoch 8/50\n",
      "29/29 - 0s - loss: 0.2571 - accuracy: 0.9086\n",
      "Epoch 9/50\n",
      "29/29 - 0s - loss: 0.2287 - accuracy: 0.9162\n",
      "Epoch 10/50\n",
      "29/29 - 0s - loss: 0.2036 - accuracy: 0.9249\n",
      "Epoch 11/50\n",
      "29/29 - 0s - loss: 0.1856 - accuracy: 0.9293\n",
      "Epoch 12/50\n",
      "29/29 - 0s - loss: 0.1731 - accuracy: 0.9380\n",
      "Epoch 13/50\n",
      "29/29 - 0s - loss: 0.1609 - accuracy: 0.9412\n",
      "Epoch 14/50\n",
      "29/29 - 0s - loss: 0.1509 - accuracy: 0.9456\n",
      "Epoch 15/50\n",
      "29/29 - 0s - loss: 0.1430 - accuracy: 0.9499\n",
      "Epoch 16/50\n",
      "29/29 - 0s - loss: 0.1353 - accuracy: 0.9554\n",
      "Epoch 17/50\n",
      "29/29 - 0s - loss: 0.1264 - accuracy: 0.9532\n",
      "Epoch 18/50\n",
      "29/29 - 0s - loss: 0.1196 - accuracy: 0.9554\n",
      "Epoch 19/50\n",
      "29/29 - 0s - loss: 0.1140 - accuracy: 0.9641\n",
      "Epoch 20/50\n",
      "29/29 - 0s - loss: 0.1079 - accuracy: 0.9663\n",
      "Epoch 21/50\n",
      "29/29 - 0s - loss: 0.1038 - accuracy: 0.9641\n",
      "Epoch 22/50\n",
      "29/29 - 0s - loss: 0.0977 - accuracy: 0.9695\n",
      "Epoch 23/50\n",
      "29/29 - 0s - loss: 0.0914 - accuracy: 0.9695\n",
      "Epoch 24/50\n",
      "29/29 - 0s - loss: 0.0890 - accuracy: 0.9750\n",
      "Epoch 25/50\n",
      "29/29 - 0s - loss: 0.0829 - accuracy: 0.9706\n",
      "Epoch 26/50\n",
      "29/29 - 0s - loss: 0.0819 - accuracy: 0.9750\n",
      "Epoch 27/50\n",
      "29/29 - 0s - loss: 0.0772 - accuracy: 0.9782\n",
      "Epoch 28/50\n",
      "29/29 - 0s - loss: 0.0731 - accuracy: 0.9761\n",
      "Epoch 29/50\n",
      "29/29 - 0s - loss: 0.0706 - accuracy: 0.9750\n",
      "Epoch 30/50\n",
      "29/29 - 0s - loss: 0.0655 - accuracy: 0.9815\n",
      "Epoch 31/50\n",
      "29/29 - 0s - loss: 0.0629 - accuracy: 0.9815\n",
      "Epoch 32/50\n",
      "29/29 - 0s - loss: 0.0594 - accuracy: 0.9826\n",
      "Epoch 33/50\n",
      "29/29 - 0s - loss: 0.0603 - accuracy: 0.9815\n",
      "Epoch 34/50\n",
      "29/29 - 0s - loss: 0.0580 - accuracy: 0.9815\n",
      "Epoch 35/50\n",
      "29/29 - 0s - loss: 0.0538 - accuracy: 0.9848\n",
      "Epoch 36/50\n",
      "29/29 - 0s - loss: 0.0512 - accuracy: 0.9859\n",
      "Epoch 37/50\n",
      "29/29 - 0s - loss: 0.0489 - accuracy: 0.9859\n",
      "Epoch 38/50\n",
      "29/29 - 0s - loss: 0.0491 - accuracy: 0.9859\n",
      "Epoch 39/50\n",
      "29/29 - 0s - loss: 0.0483 - accuracy: 0.9837\n",
      "Epoch 40/50\n",
      "29/29 - 0s - loss: 0.0463 - accuracy: 0.9869\n",
      "Epoch 41/50\n",
      "29/29 - 0s - loss: 0.0433 - accuracy: 0.9891\n",
      "Epoch 42/50\n",
      "29/29 - 0s - loss: 0.0408 - accuracy: 0.9869\n",
      "Epoch 43/50\n",
      "29/29 - 0s - loss: 0.0424 - accuracy: 0.9859\n",
      "Epoch 44/50\n",
      "29/29 - 0s - loss: 0.0382 - accuracy: 0.9902\n",
      "Epoch 45/50\n",
      "29/29 - 0s - loss: 0.0381 - accuracy: 0.9880\n",
      "Epoch 46/50\n",
      "29/29 - 0s - loss: 0.0345 - accuracy: 0.9902\n",
      "Epoch 47/50\n",
      "29/29 - 0s - loss: 0.0332 - accuracy: 0.9924\n",
      "Epoch 48/50\n",
      "29/29 - 0s - loss: 0.0334 - accuracy: 0.9891\n",
      "Epoch 49/50\n",
      "29/29 - 0s - loss: 0.0304 - accuracy: 0.9880\n",
      "Epoch 50/50\n",
      "29/29 - 0s - loss: 0.0313 - accuracy: 0.9880\n",
      "8/8 - 0s - loss: 0.1297 - accuracy: 0.9609\n",
      "Epoch 1/50\n",
      "29/29 - 0s - loss: 0.7011 - accuracy: 0.5321\n",
      "Epoch 2/50\n",
      "29/29 - 0s - loss: 0.6647 - accuracy: 0.6355\n",
      "Epoch 3/50\n",
      "29/29 - 0s - loss: 0.6233 - accuracy: 0.6986\n",
      "Epoch 4/50\n",
      "29/29 - 0s - loss: 0.5691 - accuracy: 0.7563\n",
      "Epoch 5/50\n",
      "29/29 - 0s - loss: 0.5197 - accuracy: 0.8205\n",
      "Epoch 6/50\n",
      "29/29 - 0s - loss: 0.4685 - accuracy: 0.8585\n",
      "Epoch 7/50\n",
      "29/29 - 0s - loss: 0.4138 - accuracy: 0.8912\n",
      "Epoch 8/50\n",
      "29/29 - 0s - loss: 0.3533 - accuracy: 0.9021\n",
      "Epoch 9/50\n",
      "29/29 - 0s - loss: 0.2972 - accuracy: 0.9129\n",
      "Epoch 10/50\n",
      "29/29 - 0s - loss: 0.2498 - accuracy: 0.9217\n",
      "Epoch 11/50\n",
      "29/29 - 0s - loss: 0.2144 - accuracy: 0.9304\n",
      "Epoch 12/50\n",
      "29/29 - 0s - loss: 0.1882 - accuracy: 0.9391\n",
      "Epoch 13/50\n",
      "29/29 - 0s - loss: 0.1697 - accuracy: 0.9445\n",
      "Epoch 14/50\n",
      "29/29 - 0s - loss: 0.1559 - accuracy: 0.9499\n",
      "Epoch 15/50\n",
      "29/29 - 0s - loss: 0.1497 - accuracy: 0.9499\n",
      "Epoch 16/50\n",
      "29/29 - 0s - loss: 0.1356 - accuracy: 0.9587\n",
      "Epoch 17/50\n",
      "29/29 - 0s - loss: 0.1275 - accuracy: 0.9597\n",
      "Epoch 18/50\n",
      "29/29 - 0s - loss: 0.1199 - accuracy: 0.9597\n",
      "Epoch 19/50\n",
      "29/29 - 0s - loss: 0.1125 - accuracy: 0.9641\n",
      "Epoch 20/50\n",
      "29/29 - 0s - loss: 0.1073 - accuracy: 0.9663\n",
      "Epoch 21/50\n",
      "29/29 - 0s - loss: 0.1020 - accuracy: 0.9695\n",
      "Epoch 22/50\n",
      "29/29 - 0s - loss: 0.0977 - accuracy: 0.9684\n",
      "Epoch 23/50\n",
      "29/29 - 0s - loss: 0.0948 - accuracy: 0.9706\n",
      "Epoch 24/50\n",
      "29/29 - 0s - loss: 0.0926 - accuracy: 0.9706\n",
      "Epoch 25/50\n",
      "29/29 - 0s - loss: 0.0914 - accuracy: 0.9739\n",
      "Epoch 26/50\n",
      "29/29 - 0s - loss: 0.0882 - accuracy: 0.9728\n",
      "Epoch 27/50\n",
      "29/29 - 0s - loss: 0.0810 - accuracy: 0.9761\n",
      "Epoch 28/50\n",
      "29/29 - 0s - loss: 0.0794 - accuracy: 0.9761\n",
      "Epoch 29/50\n",
      "29/29 - 0s - loss: 0.0751 - accuracy: 0.9761\n",
      "Epoch 30/50\n",
      "29/29 - 0s - loss: 0.0778 - accuracy: 0.9739\n",
      "Epoch 31/50\n",
      "29/29 - 0s - loss: 0.0707 - accuracy: 0.9815\n",
      "Epoch 32/50\n",
      "29/29 - 0s - loss: 0.0709 - accuracy: 0.9750\n",
      "Epoch 33/50\n",
      "29/29 - 0s - loss: 0.0655 - accuracy: 0.9826\n",
      "Epoch 34/50\n",
      "29/29 - 0s - loss: 0.0624 - accuracy: 0.9804\n",
      "Epoch 35/50\n",
      "29/29 - 0s - loss: 0.0628 - accuracy: 0.9837\n",
      "Epoch 36/50\n",
      "29/29 - 0s - loss: 0.0602 - accuracy: 0.9815\n",
      "Epoch 37/50\n",
      "29/29 - 0s - loss: 0.0582 - accuracy: 0.9837\n",
      "Epoch 38/50\n",
      "29/29 - 0s - loss: 0.0595 - accuracy: 0.9771\n",
      "Epoch 39/50\n",
      "29/29 - 0s - loss: 0.0533 - accuracy: 0.9848\n",
      "Epoch 40/50\n",
      "29/29 - 0s - loss: 0.0526 - accuracy: 0.9826\n",
      "Epoch 41/50\n",
      "29/29 - 0s - loss: 0.0523 - accuracy: 0.9859\n",
      "Epoch 42/50\n",
      "29/29 - 0s - loss: 0.0490 - accuracy: 0.9913\n",
      "Epoch 43/50\n",
      "29/29 - 0s - loss: 0.0482 - accuracy: 0.9880\n",
      "Epoch 44/50\n",
      "29/29 - 0s - loss: 0.0461 - accuracy: 0.9891\n",
      "Epoch 45/50\n",
      "29/29 - 0s - loss: 0.0439 - accuracy: 0.9902\n",
      "Epoch 46/50\n",
      "29/29 - 0s - loss: 0.0453 - accuracy: 0.9869\n",
      "Epoch 47/50\n",
      "29/29 - 0s - loss: 0.0423 - accuracy: 0.9891\n",
      "Epoch 48/50\n",
      "29/29 - 0s - loss: 0.0409 - accuracy: 0.9902\n",
      "Epoch 49/50\n",
      "29/29 - 0s - loss: 0.0391 - accuracy: 0.9880\n",
      "Epoch 50/50\n",
      "29/29 - 0s - loss: 0.0387 - accuracy: 0.9891\n",
      "8/8 - 0s - loss: 0.1078 - accuracy: 0.9478\n",
      "Epoch 1/50\n",
      "29/29 - 0s - loss: 0.6551 - accuracy: 0.6050\n",
      "Epoch 2/50\n",
      "29/29 - 0s - loss: 0.6054 - accuracy: 0.6942\n",
      "Epoch 3/50\n",
      "29/29 - 0s - loss: 0.5596 - accuracy: 0.7802\n",
      "Epoch 4/50\n",
      "29/29 - 0s - loss: 0.5211 - accuracy: 0.8139\n",
      "Epoch 5/50\n",
      "29/29 - 0s - loss: 0.4904 - accuracy: 0.8607\n",
      "Epoch 6/50\n",
      "29/29 - 0s - loss: 0.4679 - accuracy: 0.8564\n",
      "Epoch 7/50\n",
      "29/29 - 0s - loss: 0.4464 - accuracy: 0.8792\n",
      "Epoch 8/50\n",
      "29/29 - 0s - loss: 0.4273 - accuracy: 0.8879\n",
      "Epoch 9/50\n",
      "29/29 - 0s - loss: 0.4085 - accuracy: 0.9010\n",
      "Epoch 10/50\n",
      "29/29 - 0s - loss: 0.3982 - accuracy: 0.9097\n",
      "Epoch 11/50\n",
      "29/29 - 0s - loss: 0.3831 - accuracy: 0.9108\n",
      "Epoch 12/50\n",
      "29/29 - 0s - loss: 0.3712 - accuracy: 0.9271\n",
      "Epoch 13/50\n",
      "29/29 - 0s - loss: 0.3593 - accuracy: 0.9238\n",
      "Epoch 14/50\n",
      "29/29 - 0s - loss: 0.3492 - accuracy: 0.9336\n",
      "Epoch 15/50\n",
      "29/29 - 0s - loss: 0.3405 - accuracy: 0.9347\n",
      "Epoch 16/50\n",
      "29/29 - 0s - loss: 0.3308 - accuracy: 0.9402\n",
      "Epoch 17/50\n",
      "29/29 - 0s - loss: 0.3214 - accuracy: 0.9423\n",
      "Epoch 18/50\n",
      "29/29 - 0s - loss: 0.3130 - accuracy: 0.9478\n",
      "Epoch 19/50\n",
      "29/29 - 0s - loss: 0.3064 - accuracy: 0.9412\n",
      "Epoch 20/50\n",
      "29/29 - 0s - loss: 0.2994 - accuracy: 0.9499\n",
      "Epoch 21/50\n",
      "29/29 - 0s - loss: 0.2924 - accuracy: 0.9532\n",
      "Epoch 22/50\n",
      "29/29 - 0s - loss: 0.2841 - accuracy: 0.9587\n",
      "Epoch 23/50\n",
      "29/29 - 0s - loss: 0.2760 - accuracy: 0.9576\n",
      "Epoch 24/50\n",
      "29/29 - 0s - loss: 0.2686 - accuracy: 0.9608\n",
      "Epoch 25/50\n",
      "29/29 - 0s - loss: 0.2643 - accuracy: 0.9587\n",
      "Epoch 26/50\n",
      "29/29 - 0s - loss: 0.2571 - accuracy: 0.9663\n",
      "Epoch 27/50\n",
      "29/29 - 0s - loss: 0.2499 - accuracy: 0.9717\n",
      "Epoch 28/50\n",
      "29/29 - 0s - loss: 0.2451 - accuracy: 0.9663\n",
      "Epoch 29/50\n",
      "29/29 - 0s - loss: 0.2384 - accuracy: 0.9695\n",
      "Epoch 30/50\n",
      "29/29 - 0s - loss: 0.2327 - accuracy: 0.9739\n",
      "Epoch 31/50\n",
      "29/29 - 0s - loss: 0.2276 - accuracy: 0.9706\n",
      "Epoch 32/50\n",
      "29/29 - 0s - loss: 0.2245 - accuracy: 0.9782\n",
      "Epoch 33/50\n",
      "29/29 - 0s - loss: 0.2175 - accuracy: 0.9771\n",
      "Epoch 34/50\n",
      "29/29 - 0s - loss: 0.2127 - accuracy: 0.9750\n",
      "Epoch 35/50\n",
      "29/29 - 0s - loss: 0.2075 - accuracy: 0.9826\n",
      "Epoch 36/50\n",
      "29/29 - 0s - loss: 0.2026 - accuracy: 0.9815\n",
      "Epoch 37/50\n",
      "29/29 - 0s - loss: 0.1978 - accuracy: 0.9804\n",
      "Epoch 38/50\n",
      "29/29 - 0s - loss: 0.1963 - accuracy: 0.9771\n",
      "Epoch 39/50\n",
      "29/29 - 0s - loss: 0.1900 - accuracy: 0.9815\n",
      "Epoch 40/50\n",
      "29/29 - 0s - loss: 0.1857 - accuracy: 0.9826\n",
      "Epoch 41/50\n",
      "29/29 - 0s - loss: 0.1792 - accuracy: 0.9837\n",
      "Epoch 42/50\n",
      "29/29 - 0s - loss: 0.1758 - accuracy: 0.9859\n",
      "Epoch 43/50\n",
      "29/29 - 0s - loss: 0.1702 - accuracy: 0.9891\n"
     ]
    },
    {
     "name": "stdout",
     "output_type": "stream",
     "text": [
      "Epoch 44/50\n",
      "29/29 - 0s - loss: 0.1680 - accuracy: 0.9869\n",
      "Epoch 45/50\n",
      "29/29 - 0s - loss: 0.1629 - accuracy: 0.9913\n",
      "Epoch 46/50\n",
      "29/29 - 0s - loss: 0.1594 - accuracy: 0.9913\n",
      "Epoch 47/50\n",
      "29/29 - 0s - loss: 0.1552 - accuracy: 0.9924\n",
      "Epoch 48/50\n",
      "29/29 - 0s - loss: 0.1524 - accuracy: 0.9924\n",
      "Epoch 49/50\n",
      "29/29 - 0s - loss: 0.1482 - accuracy: 0.9913\n",
      "Epoch 50/50\n",
      "29/29 - 0s - loss: 0.1458 - accuracy: 0.9924\n",
      "8/8 - 0s - loss: 0.1750 - accuracy: 0.9652\n",
      "Epoch 1/50\n",
      "29/29 - 0s - loss: 0.6893 - accuracy: 0.5038\n",
      "Epoch 2/50\n",
      "29/29 - 0s - loss: 0.6664 - accuracy: 0.5158\n",
      "Epoch 3/50\n",
      "29/29 - 0s - loss: 0.6283 - accuracy: 0.5767\n",
      "Epoch 4/50\n",
      "29/29 - 0s - loss: 0.5752 - accuracy: 0.6975\n",
      "Epoch 5/50\n",
      "29/29 - 0s - loss: 0.5261 - accuracy: 0.8074\n",
      "Epoch 6/50\n",
      "29/29 - 0s - loss: 0.4931 - accuracy: 0.8248\n",
      "Epoch 7/50\n",
      "29/29 - 0s - loss: 0.4699 - accuracy: 0.8640\n",
      "Epoch 8/50\n",
      "29/29 - 0s - loss: 0.4504 - accuracy: 0.8705\n",
      "Epoch 9/50\n",
      "29/29 - 0s - loss: 0.4333 - accuracy: 0.8836\n",
      "Epoch 10/50\n",
      "29/29 - 0s - loss: 0.4185 - accuracy: 0.8966\n",
      "Epoch 11/50\n",
      "29/29 - 0s - loss: 0.4036 - accuracy: 0.9032\n",
      "Epoch 12/50\n",
      "29/29 - 0s - loss: 0.3904 - accuracy: 0.9064\n",
      "Epoch 13/50\n",
      "29/29 - 0s - loss: 0.3778 - accuracy: 0.9053\n",
      "Epoch 14/50\n",
      "29/29 - 0s - loss: 0.3669 - accuracy: 0.9097\n",
      "Epoch 15/50\n",
      "29/29 - 0s - loss: 0.3545 - accuracy: 0.9151\n",
      "Epoch 16/50\n",
      "29/29 - 0s - loss: 0.3460 - accuracy: 0.9184\n",
      "Epoch 17/50\n",
      "29/29 - 0s - loss: 0.3344 - accuracy: 0.9184\n",
      "Epoch 18/50\n",
      "29/29 - 0s - loss: 0.3274 - accuracy: 0.9293\n",
      "Epoch 19/50\n",
      "29/29 - 0s - loss: 0.3163 - accuracy: 0.9282\n",
      "Epoch 20/50\n",
      "29/29 - 0s - loss: 0.3081 - accuracy: 0.9325\n",
      "Epoch 21/50\n",
      "29/29 - 0s - loss: 0.2982 - accuracy: 0.9478\n",
      "Epoch 22/50\n",
      "29/29 - 0s - loss: 0.2915 - accuracy: 0.9380\n",
      "Epoch 23/50\n",
      "29/29 - 0s - loss: 0.2835 - accuracy: 0.9499\n",
      "Epoch 24/50\n",
      "29/29 - 0s - loss: 0.2746 - accuracy: 0.9554\n",
      "Epoch 25/50\n",
      "29/29 - 0s - loss: 0.2674 - accuracy: 0.9587\n",
      "Epoch 26/50\n",
      "29/29 - 0s - loss: 0.2608 - accuracy: 0.9597\n",
      "Epoch 27/50\n",
      "29/29 - 0s - loss: 0.2546 - accuracy: 0.9619\n",
      "Epoch 28/50\n",
      "29/29 - 0s - loss: 0.2496 - accuracy: 0.9641\n",
      "Epoch 29/50\n",
      "29/29 - 0s - loss: 0.2417 - accuracy: 0.9728\n",
      "Epoch 30/50\n",
      "29/29 - 0s - loss: 0.2376 - accuracy: 0.9706\n",
      "Epoch 31/50\n",
      "29/29 - 0s - loss: 0.2296 - accuracy: 0.9739\n",
      "Epoch 32/50\n",
      "29/29 - 0s - loss: 0.2254 - accuracy: 0.9717\n",
      "Epoch 33/50\n",
      "29/29 - 0s - loss: 0.2191 - accuracy: 0.9793\n",
      "Epoch 34/50\n",
      "29/29 - 0s - loss: 0.2136 - accuracy: 0.9771\n",
      "Epoch 35/50\n",
      "29/29 - 0s - loss: 0.2104 - accuracy: 0.9750\n",
      "Epoch 36/50\n",
      "29/29 - 0s - loss: 0.2057 - accuracy: 0.9782\n",
      "Epoch 37/50\n",
      "29/29 - 0s - loss: 0.1984 - accuracy: 0.9815\n",
      "Epoch 38/50\n",
      "29/29 - 0s - loss: 0.1940 - accuracy: 0.9826\n",
      "Epoch 39/50\n",
      "29/29 - 0s - loss: 0.1887 - accuracy: 0.9804\n",
      "Epoch 40/50\n",
      "29/29 - 0s - loss: 0.1835 - accuracy: 0.9837\n",
      "Epoch 41/50\n",
      "29/29 - 0s - loss: 0.1799 - accuracy: 0.9859\n",
      "Epoch 42/50\n",
      "29/29 - 0s - loss: 0.1767 - accuracy: 0.9848\n",
      "Epoch 43/50\n",
      "29/29 - 0s - loss: 0.1726 - accuracy: 0.9869\n",
      "Epoch 44/50\n",
      "29/29 - 0s - loss: 0.1674 - accuracy: 0.9869\n",
      "Epoch 45/50\n",
      "29/29 - 0s - loss: 0.1628 - accuracy: 0.9880\n",
      "Epoch 46/50\n",
      "29/29 - 0s - loss: 0.1610 - accuracy: 0.9869\n",
      "Epoch 47/50\n",
      "29/29 - 0s - loss: 0.1579 - accuracy: 0.9880\n",
      "Epoch 48/50\n",
      "29/29 - 0s - loss: 0.1566 - accuracy: 0.9869\n",
      "Epoch 49/50\n",
      "29/29 - 0s - loss: 0.1495 - accuracy: 0.9902\n",
      "Epoch 50/50\n",
      "29/29 - 0s - loss: 0.1450 - accuracy: 0.9913\n",
      "8/8 - 0s - loss: 0.1780 - accuracy: 0.9696\n",
      "Epoch 1/50\n",
      "29/29 - 0s - loss: 0.6875 - accuracy: 0.5543\n",
      "Epoch 2/50\n",
      "29/29 - 0s - loss: 0.6673 - accuracy: 0.5891\n",
      "Epoch 3/50\n",
      "29/29 - 0s - loss: 0.6186 - accuracy: 0.6880\n",
      "Epoch 4/50\n",
      "29/29 - 0s - loss: 0.5476 - accuracy: 0.7848\n",
      "Epoch 5/50\n",
      "29/29 - 0s - loss: 0.4808 - accuracy: 0.8413\n",
      "Epoch 6/50\n",
      "29/29 - 0s - loss: 0.4217 - accuracy: 0.8674\n",
      "Epoch 7/50\n",
      "29/29 - 0s - loss: 0.3719 - accuracy: 0.8685\n",
      "Epoch 8/50\n",
      "29/29 - 0s - loss: 0.3202 - accuracy: 0.8902\n",
      "Epoch 9/50\n",
      "29/29 - 0s - loss: 0.2793 - accuracy: 0.9000\n",
      "Epoch 10/50\n",
      "29/29 - 0s - loss: 0.2530 - accuracy: 0.9087\n",
      "Epoch 11/50\n",
      "29/29 - 0s - loss: 0.2290 - accuracy: 0.9120\n",
      "Epoch 12/50\n",
      "29/29 - 0s - loss: 0.2135 - accuracy: 0.9217\n",
      "Epoch 13/50\n",
      "29/29 - 0s - loss: 0.1980 - accuracy: 0.9196\n",
      "Epoch 14/50\n",
      "29/29 - 0s - loss: 0.1918 - accuracy: 0.9250\n",
      "Epoch 15/50\n",
      "29/29 - 0s - loss: 0.1819 - accuracy: 0.9239\n",
      "Epoch 16/50\n",
      "29/29 - 0s - loss: 0.1721 - accuracy: 0.9272\n",
      "Epoch 17/50\n",
      "29/29 - 0s - loss: 0.1652 - accuracy: 0.9293\n",
      "Epoch 18/50\n",
      "29/29 - 0s - loss: 0.1649 - accuracy: 0.9359\n",
      "Epoch 19/50\n",
      "29/29 - 0s - loss: 0.1524 - accuracy: 0.9370\n",
      "Epoch 20/50\n",
      "29/29 - 0s - loss: 0.1454 - accuracy: 0.9359\n",
      "Epoch 21/50\n",
      "29/29 - 0s - loss: 0.1417 - accuracy: 0.9478\n",
      "Epoch 22/50\n",
      "29/29 - 0s - loss: 0.1346 - accuracy: 0.9457\n",
      "Epoch 23/50\n",
      "29/29 - 0s - loss: 0.1270 - accuracy: 0.9500\n",
      "Epoch 24/50\n",
      "29/29 - 0s - loss: 0.1240 - accuracy: 0.9489\n",
      "Epoch 25/50\n",
      "29/29 - 0s - loss: 0.1197 - accuracy: 0.9533\n",
      "Epoch 26/50\n",
      "29/29 - 0s - loss: 0.1143 - accuracy: 0.9543\n",
      "Epoch 27/50\n",
      "29/29 - 0s - loss: 0.1106 - accuracy: 0.9587\n",
      "Epoch 28/50\n",
      "29/29 - 0s - loss: 0.1058 - accuracy: 0.9587\n",
      "Epoch 29/50\n",
      "29/29 - 0s - loss: 0.1036 - accuracy: 0.9663\n",
      "Epoch 30/50\n",
      "29/29 - 0s - loss: 0.0983 - accuracy: 0.9630\n",
      "Epoch 31/50\n",
      "29/29 - 0s - loss: 0.0948 - accuracy: 0.9620\n",
      "Epoch 32/50\n",
      "29/29 - 0s - loss: 0.0918 - accuracy: 0.9696\n",
      "Epoch 33/50\n",
      "29/29 - 0s - loss: 0.0872 - accuracy: 0.9707\n",
      "Epoch 34/50\n",
      "29/29 - 0s - loss: 0.0874 - accuracy: 0.9663\n",
      "Epoch 35/50\n",
      "29/29 - 0s - loss: 0.0825 - accuracy: 0.9707\n",
      "Epoch 36/50\n",
      "29/29 - 0s - loss: 0.0819 - accuracy: 0.9707\n",
      "Epoch 37/50\n",
      "29/29 - 0s - loss: 0.0799 - accuracy: 0.9761\n",
      "Epoch 38/50\n",
      "29/29 - 0s - loss: 0.0748 - accuracy: 0.9728\n",
      "Epoch 39/50\n",
      "29/29 - 0s - loss: 0.0722 - accuracy: 0.9761\n",
      "Epoch 40/50\n",
      "29/29 - 0s - loss: 0.0758 - accuracy: 0.9739\n",
      "Epoch 41/50\n",
      "29/29 - 0s - loss: 0.0682 - accuracy: 0.9750\n",
      "Epoch 42/50\n",
      "29/29 - 0s - loss: 0.0660 - accuracy: 0.9772\n",
      "Epoch 43/50\n",
      "29/29 - 0s - loss: 0.0641 - accuracy: 0.9793\n",
      "Epoch 44/50\n",
      "29/29 - 0s - loss: 0.0617 - accuracy: 0.9815\n",
      "Epoch 45/50\n",
      "29/29 - 0s - loss: 0.0603 - accuracy: 0.9815\n",
      "Epoch 46/50\n",
      "29/29 - 0s - loss: 0.0619 - accuracy: 0.9804\n",
      "Epoch 47/50\n",
      "29/29 - 0s - loss: 0.0626 - accuracy: 0.9793\n",
      "Epoch 48/50\n",
      "29/29 - 0s - loss: 0.0566 - accuracy: 0.9815\n",
      "Epoch 49/50\n",
      "29/29 - 0s - loss: 0.0547 - accuracy: 0.9815\n",
      "Epoch 50/50\n",
      "29/29 - 0s - loss: 0.0532 - accuracy: 0.9815\n",
      "8/8 - 0s - loss: 0.1981 - accuracy: 0.9083\n"
     ]
    },
    {
     "data": {
      "text/plain": [
       "array([0.96086955, 0.94782609, 0.96521741, 0.96956521, 0.90829694])"
      ]
     },
     "execution_count": 21,
     "metadata": {},
     "output_type": "execute_result"
    }
   ],
   "source": [
    "cross_val_score(keras_model, X_pure_train, y_pure_train)"
   ]
  },
  {
   "cell_type": "markdown",
   "metadata": {},
   "source": [
    "## Regularization"
   ]
  },
  {
   "cell_type": "markdown",
   "metadata": {},
   "source": [
    "Does regularization make sense in the context of neural networks? <br/>\n",
    "\n",
    "Yes! We still have all of the salient ingredients: a loss function, overfitting vs. underfitting, and coefficients (weights) that could get too large.\n",
    "\n",
    "But there are now a few different flavors besides L1 and L2 regularization. (Note that L1 regularization is not common in the context of  neural networks.)\n",
    "\n",
    "We'll add a few more layers to give regularization a better chance of making a difference!"
   ]
  },
  {
   "cell_type": "code",
   "execution_count": 22,
   "metadata": {
    "ExecuteTime": {
     "end_time": "2021-06-08T14:54:41.210182Z",
     "start_time": "2021-06-08T14:54:37.369779Z"
    }
   },
   "outputs": [
    {
     "name": "stderr",
     "output_type": "stream",
     "text": [
      "/opt/anaconda3/envs/learn-env-new/lib/python3.8/site-packages/seaborn/_decorators.py:36: FutureWarning: Pass the following variables as keyword args: x, y. From version 0.12, the only valid positional argument will be `data`, and passing other arguments without an explicit keyword will result in an error or misinterpretation.\n",
      "  warnings.warn(\n",
      "/opt/anaconda3/envs/learn-env-new/lib/python3.8/site-packages/seaborn/_decorators.py:36: FutureWarning: Pass the following variables as keyword args: x, y. From version 0.12, the only valid positional argument will be `data`, and passing other arguments without an explicit keyword will result in an error or misinterpretation.\n",
      "  warnings.warn(\n",
      "/opt/anaconda3/envs/learn-env-new/lib/python3.8/site-packages/seaborn/_decorators.py:36: FutureWarning: Pass the following variables as keyword args: x, y. From version 0.12, the only valid positional argument will be `data`, and passing other arguments without an explicit keyword will result in an error or misinterpretation.\n",
      "  warnings.warn(\n",
      "/opt/anaconda3/envs/learn-env-new/lib/python3.8/site-packages/seaborn/_decorators.py:36: FutureWarning: Pass the following variables as keyword args: x, y. From version 0.12, the only valid positional argument will be `data`, and passing other arguments without an explicit keyword will result in an error or misinterpretation.\n",
      "  warnings.warn(\n"
     ]
    },
    {
     "data": {
      "image/png": "[encoded data removed]",
      "text/plain": [
       "<Figure size 720x360 with 2 Axes>"
      ]
     },
     "metadata": {
      "needs_background": "light"
     },
     "output_type": "display_data"
    }
   ],
   "source": [
    "model = Sequential()\n",
    "model.add(Dense(30, activation='relu', input_dim=64))\n",
    "model.add(Dense(20, activation='relu',\n",
    "                kernel_regularizer=l2(l2=0.05)))\n",
    "\n",
    "# Note that there is also a bias_regularizer,\n",
    "# but this tends to have less effect.\n",
    "\n",
    "model.add(Dense(12, activation='relu'))\n",
    "model.add(Dense(12, activation='relu'))\n",
    "model.add(Dense(12, activation='relu'))\n",
    "model.add(Dense(8, activation='relu'))\n",
    "model.add(Dense(4, activation='relu'))\n",
    "model.add(Dense(1, activation ='sigmoid'))\n",
    "\n",
    "model.compile(optimizer='adam',\n",
    "              loss='binary_crossentropy',\n",
    "              metrics=['accuracy'])\n",
    "\n",
    "results = model.fit(X_pure_train, y_pure_train, epochs=20, batch_size=32,\n",
    "                    verbose=0, validation_data=(X_val, y_val))\n",
    "\n",
    "train_loss = results.history['loss']\n",
    "train_acc = results.history['accuracy']\n",
    "val_loss = results.history['val_loss']\n",
    "val_acc = results.history['val_accuracy']\n",
    "\n",
    "\n",
    "fig, (ax1, ax2) = plt.subplots(1, 2, figsize=(10, 5))\n",
    "sns.lineplot(results.epoch, train_loss, ax=ax1, label='train_loss')\n",
    "sns.lineplot(results.epoch, train_acc, ax=ax2, label='train_accuracy')\n",
    "\n",
    "sns.lineplot(results.epoch, val_loss, ax=ax1, label='val_loss')\n",
    "sns.lineplot(results.epoch, val_acc, ax=ax2, label='val_accuracy');"
   ]
  },
  {
   "cell_type": "markdown",
   "metadata": {},
   "source": [
    "Adding L2 to multiple layers:"
   ]
  },
  {
   "cell_type": "code",
   "execution_count": 23,
   "metadata": {
    "ExecuteTime": {
     "end_time": "2021-06-08T14:54:46.092662Z",
     "start_time": "2021-06-08T14:54:41.215133Z"
    }
   },
   "outputs": [
    {
     "name": "stderr",
     "output_type": "stream",
     "text": [
      "/opt/anaconda3/envs/learn-env-new/lib/python3.8/site-packages/seaborn/_decorators.py:36: FutureWarning: Pass the following variables as keyword args: x, y. From version 0.12, the only valid positional argument will be `data`, and passing other arguments without an explicit keyword will result in an error or misinterpretation.\n",
      "  warnings.warn(\n",
      "/opt/anaconda3/envs/learn-env-new/lib/python3.8/site-packages/seaborn/_decorators.py:36: FutureWarning: Pass the following variables as keyword args: x, y. From version 0.12, the only valid positional argument will be `data`, and passing other arguments without an explicit keyword will result in an error or misinterpretation.\n",
      "  warnings.warn(\n",
      "/opt/anaconda3/envs/learn-env-new/lib/python3.8/site-packages/seaborn/_decorators.py:36: FutureWarning: Pass the following variables as keyword args: x, y. From version 0.12, the only valid positional argument will be `data`, and passing other arguments without an explicit keyword will result in an error or misinterpretation.\n",
      "  warnings.warn(\n",
      "/opt/anaconda3/envs/learn-env-new/lib/python3.8/site-packages/seaborn/_decorators.py:36: FutureWarning: Pass the following variables as keyword args: x, y. From version 0.12, the only valid positional argument will be `data`, and passing other arguments without an explicit keyword will result in an error or misinterpretation.\n",
      "  warnings.warn(\n"
     ]
    },
    {
     "data": {
      "image/png": "[encoded data removed]",
      "text/plain": [
       "<Figure size 720x360 with 2 Axes>"
      ]
     },
     "metadata": {
      "needs_background": "light"
     },
     "output_type": "display_data"
    }
   ],
   "source": [
    "model = Sequential()\n",
    "model.add(Dense(30, activation='relu',\n",
    "                input_dim=64))\n",
    "model.add(Dense(20, activation='relu',\n",
    "                kernel_regularizer=l2(l2=0.01)))\n",
    "\n",
    "model.add(Dense(12, activation='relu',\n",
    "                kernel_regularizer=l2(l2=0.01)))\n",
    "model.add(Dense(12, activation='relu',\n",
    "                kernel_regularizer=l2(l2=0.01)))\n",
    "model.add(Dense(12, activation='relu',\n",
    "                kernel_regularizer=l2(l2=0.01)))\n",
    "model.add(Dense(8, activation='relu',\n",
    "                kernel_regularizer=l2(l2=0.01)))\n",
    "model.add(Dense(4, activation='relu',\n",
    "                kernel_regularizer=l2(l2=0.01)))\n",
    "model.add(Dense(1, activation='sigmoid'))\n",
    "\n",
    "model.compile(optimizer='adam',\n",
    "              loss='binary_crossentropy',\n",
    "              metrics=['accuracy'])\n",
    "\n",
    "results = model.fit(X_pure_train, y_pure_train, epochs=20, batch_size=32,\n",
    "                    verbose=0, validation_data=(X_val, y_val))\n",
    "\n",
    "train_loss = results.history['loss']\n",
    "train_acc = results.history['accuracy']\n",
    "val_loss = results.history['val_loss']\n",
    "val_acc = results.history['val_accuracy']\n",
    "\n",
    "\n",
    "fig, (ax1, ax2) = plt.subplots(1, 2, figsize=(10, 5))\n",
    "sns.lineplot(results.epoch, train_loss, ax=ax1, label='train_loss')\n",
    "sns.lineplot(results.epoch, train_acc, ax=ax2, label='train_accuracy')\n",
    "\n",
    "sns.lineplot(results.epoch, val_loss, ax=ax1, label='val_loss')\n",
    "sns.lineplot(results.epoch, val_acc, ax=ax2, label='val_accuracy');"
   ]
  },
  {
   "cell_type": "markdown",
   "metadata": {},
   "source": [
    "Adding more epochs:"
   ]
  },
  {
   "cell_type": "code",
   "execution_count": 24,
   "metadata": {
    "ExecuteTime": {
     "end_time": "2021-06-08T14:54:54.040750Z",
     "start_time": "2021-06-08T14:54:46.095329Z"
    }
   },
   "outputs": [
    {
     "name": "stderr",
     "output_type": "stream",
     "text": [
      "/opt/anaconda3/envs/learn-env-new/lib/python3.8/site-packages/seaborn/_decorators.py:36: FutureWarning: Pass the following variables as keyword args: x, y. From version 0.12, the only valid positional argument will be `data`, and passing other arguments without an explicit keyword will result in an error or misinterpretation.\n",
      "  warnings.warn(\n",
      "/opt/anaconda3/envs/learn-env-new/lib/python3.8/site-packages/seaborn/_decorators.py:36: FutureWarning: Pass the following variables as keyword args: x, y. From version 0.12, the only valid positional argument will be `data`, and passing other arguments without an explicit keyword will result in an error or misinterpretation.\n",
      "  warnings.warn(\n",
      "/opt/anaconda3/envs/learn-env-new/lib/python3.8/site-packages/seaborn/_decorators.py:36: FutureWarning: Pass the following variables as keyword args: x, y. From version 0.12, the only valid positional argument will be `data`, and passing other arguments without an explicit keyword will result in an error or misinterpretation.\n",
      "  warnings.warn(\n",
      "/opt/anaconda3/envs/learn-env-new/lib/python3.8/site-packages/seaborn/_decorators.py:36: FutureWarning: Pass the following variables as keyword args: x, y. From version 0.12, the only valid positional argument will be `data`, and passing other arguments without an explicit keyword will result in an error or misinterpretation.\n",
      "  warnings.warn(\n"
     ]
    },
    {
     "data": {
      "image/png": "[encoded data removed]",
      "text/plain": [
       "<Figure size 720x360 with 2 Axes>"
      ]
     },
     "metadata": {
      "needs_background": "light"
     },
     "output_type": "display_data"
    }
   ],
   "source": [
    "model.compile(optimizer='adam',\n",
    "              loss='binary_crossentropy',\n",
    "              metrics=['accuracy'])\n",
    "\n",
    "results = model.fit(X_pure_train, y_pure_train, epochs=50, batch_size=32,\n",
    "                    verbose=0, validation_data=(X_val, y_val))\n",
    "\n",
    "train_loss = results.history['loss']\n",
    "train_acc = results.history['accuracy']\n",
    "val_loss = results.history['val_loss']\n",
    "val_acc = results.history['val_accuracy']\n",
    "\n",
    "\n",
    "fig, (ax1, ax2) = plt.subplots(1, 2, figsize=(10, 5))\n",
    "sns.lineplot(results.epoch, train_loss, ax=ax1, label='train_loss')\n",
    "sns.lineplot(results.epoch, train_acc, ax=ax2, label='train_accuracy')\n",
    "\n",
    "sns.lineplot(results.epoch, val_loss, ax=ax1, label='val_loss')\n",
    "sns.lineplot(results.epoch, val_acc, ax=ax2, label='val_accuracy');"
   ]
  },
  {
   "cell_type": "markdown",
   "metadata": {},
   "source": [
    "### Dropout\n",
    "\n",
    "We can also specify a dropout layer in keras, which randomly shuts off different nodes during training.\n",
    "\n",
    "![drop_out](../img/drop_out.png)"
   ]
  },
  {
   "cell_type": "code",
   "execution_count": null,
   "metadata": {
    "ExecuteTime": {
     "end_time": "2021-06-08T14:53:43.597311Z",
     "start_time": "2021-06-08T14:53:16.022Z"
    }
   },
   "outputs": [],
   "source": [
    "model = Sequential()\n",
    "model.add(Dense(30, activation='relu', input_dim=64))\n",
    "model.add(Dense(20, activation='relu'))\n",
    "\n",
    "# This will apply to the previous layer\n",
    "model.add(Dropout(0.5))\n",
    "\n",
    "model.add(Dense(12, activation='relu'))\n",
    "model.add(Dense(12, activation='relu'))\n",
    "model.add(Dense(12, activation='relu'))\n",
    "model.add(Dense(8, activation='relu'))\n",
    "model.add(Dense(4, activation='relu'))\n",
    "model.add(Dense(1, activation ='sigmoid'))\n",
    "\n",
    "model.compile(optimizer='adam',\n",
    "              loss='binary_crossentropy',\n",
    "              metrics=['accuracy'])\n",
    "\n",
    "results = model.fit(X_pure_train, y_pure_train, epochs=50,\n",
    "                    batch_size= 32, verbose=0,\n",
    "                    validation_data=(X_val, y_val))\n",
    "\n",
    "train_loss = results.history['loss']\n",
    "train_acc = results.history['accuracy']\n",
    "val_loss = results.history['val_loss']\n",
    "val_acc = results.history['val_accuracy']\n",
    "\n",
    "\n",
    "fig, (ax1, ax2) = plt.subplots(1, 2, figsize=(10, 5))\n",
    "sns.lineplot(results.epoch, train_loss, ax=ax1, label='train_loss')\n",
    "sns.lineplot(results.epoch, train_acc, ax=ax2, label='train_accuracy')\n",
    "\n",
    "sns.lineplot(results.epoch, val_loss, ax=ax1, label='val_loss')\n",
    "sns.lineplot(results.epoch, val_acc, ax=ax2, label='val_accuracy');"
   ]
  },
  {
   "cell_type": "markdown",
   "metadata": {},
   "source": [
    "### Early Stopping"
   ]
  },
  {
   "cell_type": "markdown",
   "metadata": {},
   "source": [
    "We can also tell our neural network to stop once it stops realizing any gain.\n",
    "\n",
    "This is the model with no regularization:"
   ]
  },
  {
   "cell_type": "code",
   "execution_count": null,
   "metadata": {
    "ExecuteTime": {
     "end_time": "2021-06-08T14:53:43.598454Z",
     "start_time": "2021-06-08T14:53:16.025Z"
    }
   },
   "outputs": [],
   "source": [
    "model = Sequential()\n",
    "model.add(Dense(30, activation='relu', input_dim=64))\n",
    "model.add(Dense(20, activation='relu'))\n",
    "model.add(Dense(12, activation='relu'))\n",
    "model.add(Dense(12, activation='relu'))\n",
    "model.add(Dense(12, activation='relu'))\n",
    "model.add(Dense(8, activation='relu'))\n",
    "model.add(Dense(4, activation='relu'))\n",
    "model.add(Dense(1, activation ='sigmoid'))\n",
    "\n",
    "model.compile(optimizer='adam',\n",
    "              loss='binary_crossentropy',\n",
    "              metrics=['accuracy'])\n",
    "\n",
    "results = model.fit(X_pure_train, y_pure_train, epochs=20,\n",
    "                    batch_size=32, verbose=0, validation_data=(X_val, y_val))\n",
    "\n",
    "train_loss = results.history['loss']\n",
    "train_acc = results.history['accuracy']\n",
    "val_loss = results.history['val_loss']\n",
    "val_acc = results.history['val_accuracy']\n",
    "\n",
    "\n",
    "fig, (ax1, ax2) = plt.subplots(1, 2, figsize=(10, 5))\n",
    "sns.lineplot(results.epoch, train_loss, ax=ax1, label='train_loss')\n",
    "sns.lineplot(results.epoch, train_acc, ax=ax2, label='train_accuracy')\n",
    "\n",
    "sns.lineplot(results.epoch, val_loss, ax=ax1, label='val_loss')\n",
    "sns.lineplot(results.epoch, val_acc, ax=ax2, label='val_accuracy');"
   ]
  },
  {
   "cell_type": "markdown",
   "metadata": {},
   "source": [
    "Here we tell it to stop once the a very small positive change in the validation loss occurs:"
   ]
  },
  {
   "cell_type": "code",
   "execution_count": null,
   "metadata": {
    "ExecuteTime": {
     "end_time": "2021-06-08T14:53:43.599704Z",
     "start_time": "2021-06-08T14:53:16.027Z"
    }
   },
   "outputs": [],
   "source": [
    "model = Sequential()\n",
    "model.add(Dense(30, activation='relu', input_dim=64))\n",
    "model.add(Dense(20, activation='relu'))\n",
    "model.add(Dropout(0.5))\n",
    "model.add(Dense(12, activation='relu'))\n",
    "model.add(Dense(12, activation='relu'))\n",
    "model.add(Dense(12, activation='relu'))\n",
    "model.add(Dense(8, activation='relu'))\n",
    "model.add(Dense(4, activation='relu'))\n",
    "model.add(Dense(1, activation ='sigmoid'))\n",
    "\n",
    "model.compile(optimizer='adam',\n",
    "              loss='binary_crossentropy',\n",
    "              metrics=['accuracy'])\n",
    "\n",
    "# Define the EarlyStopping object\n",
    "early_stop = EarlyStopping(monitor='val_loss', min_delta=1e-8,\n",
    "                           patience=0, verbose=1,\n",
    "                           mode='min')\n",
    "\n",
    "# Place this in a list as the value of the `callbacks` parameter\n",
    "# in the `.fit()` method.\n",
    "results = model.fit(X_pure_train, y_pure_train,\n",
    "                    epochs=20, batch_size=32,\n",
    "                    verbose=0, validation_data=(X_val, y_val),\n",
    "                    callbacks=[early_stop])\n",
    "\n",
    "train_loss = results.history['loss']\n",
    "train_acc = results.history['accuracy']\n",
    "val_loss = results.history['val_loss']\n",
    "val_acc = results.history['val_accuracy']\n",
    "\n",
    "\n",
    "fig, (ax1, ax2) = plt.subplots(1, 2, figsize=(10, 5))\n",
    "sns.lineplot(results.epoch, train_loss, ax=ax1, label='train_loss')\n",
    "sns.lineplot(results.epoch, train_acc, ax=ax2, label='train_accuracy')\n",
    "\n",
    "sns.lineplot(results.epoch, val_loss, ax=ax1, label='val_loss')\n",
    "sns.lineplot(results.epoch, val_acc, ax=ax2, label='val_accuracy');"
   ]
  },
  {
   "cell_type": "markdown",
   "metadata": {},
   "source": [
    "That probably stopped too early. We can specify the number of epochs in which it doesn't see decrease in the loss with the `patience` parameter."
   ]
  },
  {
   "cell_type": "code",
   "execution_count": null,
   "metadata": {
    "ExecuteTime": {
     "end_time": "2021-06-08T14:53:43.600963Z",
     "start_time": "2021-06-08T14:53:16.030Z"
    }
   },
   "outputs": [],
   "source": [
    "model = Sequential()\n",
    "model.add(Dense(30, activation='relu', input_dim=64))\n",
    "model.add(Dense(20, activation='relu'))\n",
    "model.add(Dropout(0.5))\n",
    "model.add(Dense(12, activation='relu'))\n",
    "model.add(Dense(12, activation='relu'))\n",
    "model.add(Dense(12, activation='relu'))\n",
    "model.add(Dense(8, activation='relu'))\n",
    "model.add(Dense(4, activation='relu'))\n",
    "model.add(Dense(1, activation ='sigmoid'))\n",
    "\n",
    "model.compile(optimizer='adam',\n",
    "              loss='binary_crossentropy',\n",
    "              metrics=['accuracy'])\n",
    "\n",
    "# Define the EarlyStopping object\n",
    "early_stop = EarlyStopping(monitor='val_loss', min_delta=1e-8,\n",
    "                           patience=5, verbose=1,\n",
    "                           mode='min')\n",
    "\n",
    "# Place this in a list as the value of the `callbacks` parameter\n",
    "# in the `.fit()` method.\n",
    "results = model.fit(X_pure_train, y_pure_train,\n",
    "                    epochs=50, batch_size= 32,\n",
    "                    verbose=0, validation_data=(X_val, y_val),\n",
    "                    callbacks=[early_stop])\n",
    "\n",
    "train_loss = results.history['loss']\n",
    "train_acc = results.history['accuracy']\n",
    "val_loss = results.history['val_loss']\n",
    "val_acc = results.history['val_accuracy']\n",
    "\n",
    "\n",
    "fig, (ax1, ax2) = plt.subplots(1, 2, figsize=(10, 5))\n",
    "sns.lineplot(results.epoch, train_loss, ax=ax1, label='train_loss')\n",
    "sns.lineplot(results.epoch, train_acc, ax=ax2, label='train_accuracy')\n",
    "\n",
    "sns.lineplot(results.epoch, val_loss, ax=ax1, label='val_loss')\n",
    "sns.lineplot(results.epoch, val_acc, ax=ax2, label='val_accuracy');"
   ]
  },
  {
   "cell_type": "markdown",
   "metadata": {},
   "source": [
    "## Multiclass Classification and Softmax"
   ]
  },
  {
   "cell_type": "markdown",
   "metadata": {},
   "source": [
    "Now let's return to the problem of predicting digits 0 through 9."
   ]
  },
  {
   "cell_type": "code",
   "execution_count": null,
   "metadata": {
    "ExecuteTime": {
     "end_time": "2021-06-08T14:53:43.602079Z",
     "start_time": "2021-06-08T14:53:16.034Z"
    }
   },
   "outputs": [],
   "source": [
    "digits = load_digits()\n",
    "X = digits.data\n",
    "y = digits.target"
   ]
  },
  {
   "cell_type": "code",
   "execution_count": null,
   "metadata": {
    "ExecuteTime": {
     "end_time": "2021-06-08T14:53:43.603019Z",
     "start_time": "2021-06-08T14:53:16.037Z"
    }
   },
   "outputs": [],
   "source": [
    "X_train, X_test, y_train, y_test = train_test_split(X, y,\n",
    "                                                    random_state=42,\n",
    "                                                    test_size=0.2)\n",
    "X_pure_train, X_val, y_pure_train, y_val =\\\n",
    "    train_test_split(X_train, y_train,\n",
    "                     random_state=42, test_size=0.2)\n",
    "X_pure_train, X_val, X_test = X_pure_train/16, X_val/16, X_test/16"
   ]
  },
  {
   "cell_type": "markdown",
   "metadata": {},
   "source": [
    "For a multiclass output, our neural net expects our target to be in a certain form."
   ]
  },
  {
   "cell_type": "code",
   "execution_count": null,
   "metadata": {
    "ExecuteTime": {
     "end_time": "2021-06-08T14:53:43.603992Z",
     "start_time": "2021-06-08T14:53:16.040Z"
    }
   },
   "outputs": [],
   "source": [
    "ohe = OneHotEncoder(sparse=False)\n",
    "y_pure_train = ohe.fit_transform(y_pure_train.reshape(-1,1))\n",
    "y_val = ohe.transform(y_val.reshape(-1,1))\n",
    "y_test = ohe.transform(y_test.reshape(-1,1))"
   ]
  },
  {
   "cell_type": "code",
   "execution_count": null,
   "metadata": {
    "ExecuteTime": {
     "end_time": "2021-06-08T14:53:43.605071Z",
     "start_time": "2021-06-08T14:53:16.042Z"
    }
   },
   "outputs": [],
   "source": [
    "y_test"
   ]
  },
  {
   "cell_type": "code",
   "execution_count": null,
   "metadata": {
    "ExecuteTime": {
     "end_time": "2021-06-08T14:53:43.606065Z",
     "start_time": "2021-06-08T14:53:16.044Z"
    }
   },
   "outputs": [],
   "source": [
    "# Model from above:\n",
    "\n",
    "model = Sequential()\n",
    "model.add(Dense(12, activation='relu', input_dim=64))\n",
    "model.add(Dense(8, activation='relu'))\n",
    "model.add(Dense(10, activation='softmax'))\n",
    "\n",
    "model.compile(optimizer='adam',\n",
    "              loss='categorical_crossentropy',\n",
    "              metrics=['accuracy'])\n",
    "\n",
    "results = model.fit(X_pure_train, y_pure_train,\n",
    "                   epochs=50, batch_size=10,\n",
    "                   validation_data=(X_val, y_val))"
   ]
  },
  {
   "cell_type": "markdown",
   "metadata": {},
   "source": [
    "$$\\large \\text{Softmax}(x_{i}) = \\frac{\\exp(x_i)}{\\sum_j \\exp(x_j)}$$\n",
    "\n",
    "The sofmax function outputs a number between 0 and 1 for each of our classes.  All of the probabilities of the classes sum up to 1.\n",
    "\n",
    "The number of nodes in our output layer equals the number of categories in our dataset.\n",
    "\n",
    "We also need a new loss function: **categorical crossentropy**, which calculates a separate loss for each label and then sums the results."
   ]
  },
  {
   "cell_type": "code",
   "execution_count": null,
   "metadata": {
    "ExecuteTime": {
     "end_time": "2021-06-08T14:53:43.607157Z",
     "start_time": "2021-06-08T14:53:16.047Z"
    }
   },
   "outputs": [],
   "source": [
    "history = results.history\n",
    "training_loss = history['loss']\n",
    "val_loss = history['val_loss']\n",
    "training_accuracy = history['accuracy']\n",
    "val_accuracy = history['val_accuracy']"
   ]
  },
  {
   "cell_type": "code",
   "execution_count": null,
   "metadata": {
    "ExecuteTime": {
     "end_time": "2021-06-08T14:53:43.608251Z",
     "start_time": "2021-06-08T14:53:16.050Z"
    }
   },
   "outputs": [],
   "source": [
    "fig, (ax1,ax2) = plt.subplots(1,2,figsize=(15,5))\n",
    "\n",
    "\n",
    "sns.lineplot(list(range(len(training_loss))),\n",
    "             training_loss, color='r', label='training', ax=ax1)\n",
    "sns.lineplot(list(range(len(val_loss))),\n",
    "             val_loss, color='b', label='validation', ax=ax1)\n",
    "sns.lineplot(list(range(len(training_loss))),\n",
    "             training_accuracy, color='r', label='training',ax=ax2)\n",
    "sns.lineplot(list(range(len(val_loss))),\n",
    "             val_accuracy, color='b', label='validation',ax=ax2)\n",
    "ax1.legend();"
   ]
  },
  {
   "cell_type": "code",
   "execution_count": null,
   "metadata": {
    "ExecuteTime": {
     "end_time": "2021-06-08T14:53:43.609181Z",
     "start_time": "2021-06-08T14:53:16.052Z"
    }
   },
   "outputs": [],
   "source": [
    "y_hat_test = np.argmax(model.predict(X_test), axis=-1)"
   ]
  },
  {
   "cell_type": "code",
   "execution_count": null,
   "metadata": {
    "ExecuteTime": {
     "end_time": "2021-06-08T14:53:43.610241Z",
     "start_time": "2021-06-08T14:53:16.054Z"
    }
   },
   "outputs": [],
   "source": [
    "y_test_restore = ohe.inverse_transform(y_test)\n",
    "confusion_matrix(y_test_restore, y_hat_test)"
   ]
  },
  {
   "cell_type": "markdown",
   "metadata": {},
   "source": [
    "Wow, look at that performance!  \n",
    "\n",
    "That is great, but remember, we were dealing with simple black and white images.  With color, our basic neural net will have less success.\n",
    "\n",
    "We will explore more advanced tools in the coming days.\n"
   ]
  },
  {
   "cell_type": "markdown",
   "metadata": {
    "colab_type": "text",
    "id": "EdZDyJfARV8l"
   },
   "source": [
    "## Appendix: More on Tensorflow Vs. Keras\n",
    "\n",
    "\n",
    "### Let's start with tensors\n",
    "\n",
    "Tensors are multidimensional matrices.\n",
    "\n",
    "![tensor](../img/tensors.png)\n",
    "\n",
    "### TensorFlow manages the flow of matrix math\n",
    "\n",
    "That makes neural network processing possible.\n",
    "\n",
    "![cat](../img/cat-tensors.gif)\n",
    "\n",
    "For our numbers dataset, our tensors from the `sklearn` dataset were originally tensors of the shape 8x8, i.e. 64-bit pictures. Remember, that was with black and white images.\n",
    "\n",
    "For image processing, we are often dealing with color."
   ]
  },
  {
   "cell_type": "code",
   "execution_count": null,
   "metadata": {
    "ExecuteTime": {
     "end_time": "2021-06-08T14:53:43.611194Z",
     "start_time": "2021-06-08T14:53:16.058Z"
    },
    "colab_type": "text",
    "id": "EdZDyJfARV8l"
   },
   "outputs": [],
   "source": [
    "image = load_sample_images()['images'][0]\n",
    "\n",
    "imgplot = plt.imshow(image)"
   ]
  },
  {
   "cell_type": "code",
   "execution_count": null,
   "metadata": {
    "ExecuteTime": {
     "end_time": "2021-06-08T14:53:43.612294Z",
     "start_time": "2021-06-08T14:53:16.062Z"
    },
    "colab_type": "text",
    "id": "EdZDyJfARV8l"
   },
   "outputs": [],
   "source": [
    "image.shape"
   ]
  },
  {
   "cell_type": "markdown",
   "metadata": {
    "colab_type": "text",
    "id": "EdZDyJfARV8l"
   },
   "source": [
    "What do the dimensions of our image above represent?\n",
    "\n",
    "Tensors with higher numbers of dimensions have a higher **rank**.\n",
    "\n",
    "A matrix with rows and columns only, like the black and white numbers, has **rank 2**.\n",
    "\n",
    "A matrix with a third dimension, like the color pictures above, has **rank 3**.\n",
    "\n",
    "When we flatten an image by stacking the rows in a column, we are decreasing the rank. "
   ]
  },
  {
   "cell_type": "code",
   "execution_count": null,
   "metadata": {
    "ExecuteTime": {
     "end_time": "2021-06-08T14:53:43.613536Z",
     "start_time": "2021-06-08T14:53:16.064Z"
    },
    "colab_type": "text",
    "id": "EdZDyJfARV8l"
   },
   "outputs": [],
   "source": [
    "flat_image = image.reshape(-1, 1)\n",
    "\n",
    "flat_image.shape"
   ]
  },
  {
   "cell_type": "code",
   "execution_count": null,
   "metadata": {
    "ExecuteTime": {
     "end_time": "2021-06-08T14:53:43.614943Z",
     "start_time": "2021-06-08T14:53:16.067Z"
    },
    "colab_type": "text",
    "id": "EdZDyJfARV8l"
   },
   "outputs": [],
   "source": [
    "427*640*3"
   ]
  },
  {
   "cell_type": "markdown",
   "metadata": {
    "colab_type": "text",
    "id": "EdZDyJfARV8l"
   },
   "source": [
    "## TensorFlow has more levers and buttons, but Keras is more user friendly\n",
    "\n",
    "Coding directly in **Tensorflow** allows you to tweak more parameters to optimize performance. The **Keras** wrapper makes the code more accessible for developers prototyping models.\n",
    "\n",
    "![levers](../img/levers.jpeg)\n",
    "\n",
    "### Keras, an API with an intentional UX\n",
    "\n",
    "- Deliberately design end-to-end user workflows\n",
    "- Reduce cognitive load for your users\n",
    "- Provide helpful feedback to your users\n",
    "\n",
    "[full article here](https://blog.keras.io/user-experience-design-for-apis.html)<br>\n",
    "[full list of why to use Keras](https://keras.io/why-use-keras/)\n",
    "\n",
    "### A few comparisons\n",
    "\n",
    "While you **can leverage both**, here are a few comparisons.\n",
    "\n",
    "| Comparison | Keras | Tensorflow|\n",
    "|------------|-------|-----------|\n",
    "| **Level of API** | high-level API | High and low-level APIs |\n",
    "| **Speed** |  can *seem* slower |  is a bit faster |\n",
    "| **Language architecture** | simple architecture, more readable and concise | straight tensorflow is a bit more complex |\n",
    "| **Debugging** | less frequent need to debug | difficult to debug |\n",
    "| **Datasets** | usually used for small datasets | high performance models and large datasets that require fast execution|\n",
    "\n",
    "This is also a _**non-issue**_ - as you can leverage `tensorflow` commands within `keras` and vice versa. If Keras ever seems slower, it's because the developer's time is more expensive than the GPUs'. Keras is designed with the developer in mind. \n",
    "\n",
    "[reference link](https://www.edureka.co/blog/keras-vs-tensorflow-vs-pytorch/)"
   ]
  },
  {
   "cell_type": "code",
   "execution_count": null,
   "metadata": {},
   "outputs": [],
   "source": []
  }
 ],
 "metadata": {
  "celltoolbar": "Raw Cell Format",
  "colab": {
   "collapsed_sections": [],
   "name": "intro-to-keras.ipynb",
   "provenance": []
  },
  "kernelspec": {
   "display_name": "Python 3",
   "language": "python",
   "name": "python3"
  },
  "language_info": {
   "codemirror_mode": {
    "name": "ipython",
    "version": 3
   },
   "file_extension": ".py",
   "mimetype": "text/x-python",
   "name": "python",
   "nbconvert_exporter": "python",
   "pygments_lexer": "ipython3",
   "version": "3.8.5"
  },
  "toc": {
   "base_numbering": 1,
   "nav_menu": {},
   "number_sections": true,
   "sideBar": true,
   "skip_h1_title": false,
   "title_cell": "Table of Contents",
   "title_sidebar": "Contents",
   "toc_cell": false,
   "toc_position": {},
   "toc_section_display": true,
   "toc_window_display": false
  }
 },
 "nbformat": 4,
 "nbformat_minor": 4
}
