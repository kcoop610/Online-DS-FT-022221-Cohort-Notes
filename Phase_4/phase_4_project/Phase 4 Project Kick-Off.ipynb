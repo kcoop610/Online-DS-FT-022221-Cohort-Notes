{
 "cells": [
  {
   "cell_type": "markdown",
   "metadata": {},
   "source": [
    "# Phase 4 Project Kick-Off\n"
   ]
  },
  {
   "cell_type": "markdown",
   "metadata": {},
   "source": [
    "- 06/11/21\n",
    "- onl01-dtsc-022221FT"
   ]
  },
  {
   "cell_type": "markdown",
   "metadata": {},
   "source": [
    "## Announcements"
   ]
  },
  {
   "cell_type": "markdown",
   "metadata": {},
   "source": [
    "#### Schedule for Next Week\n",
    "- **Flatiron is closed next Friday 06/18/21**\n",
    "    - Therefore we will have a special **Monday Office Hours on Monday 06/14/21 at 2-3:30pm EST**\n",
    "    \n",
    " \n",
    "#### Resources\n",
    "- [Neural Network Tuning Colab Notebooks](https://drive.google.com/drive/folders/1ui9-wflC2cUqjWdu7d-bswyhvcEFmuom?usp=sharing) are linked on Homeroom Page. \n",
    "    - Includes the housing regression, deep NLP, and computer vision notebooks.\n",
    "    \n",
    "- Reminder re other Instructor Video Recordings in our Cohort Folder (linked at top of homeroom):\n",
    "    - [New Student Resources Spreadsheet](https://docs.google.com/spreadsheets/d/1mdvxw0nZsPScAxyopVvPNPbUF34dzK6otIRgQvQN_Bc/edit?usp=sharing)\n",
    "    - More instructor recordings, primarily by Victor. "
   ]
  },
  {
   "cell_type": "markdown",
   "metadata": {},
   "source": [
    "### Office Hours Material"
   ]
  },
  {
   "cell_type": "markdown",
   "metadata": {},
   "source": [
    "- Whenever possible, please add questions to the [questions gdoc](https://docs.google.com/document/d/1TFMucUZQPhGX6eGvhUpSlrByKHswgC30SUfybcuu6Hw/edit?usp=sharing)\n",
    " \n",
    "\n",
    "\n",
    "- **We will be covering/revisiting additional topics during Project Office Hours (06/14 - 06/17).** What we cover/revisit will depend on which task students choose for the project.\n",
    "\n",
    ">- Potential Topics Include:\n",
    "    - Making your own local package (instead of a simple module). \n",
    "    - EDA for Natural Language Processing \n",
    "    - Convolutional Neural Networks [Computer Vision]\n",
    "    - Tuning Neural Networks for [Computer vision/deep nlp]\n",
    "    - Using Neural Networks for Time Series\n",
    "    - Plotly/Plotly Express (as pre-work for covering Dash/dashboarding during capstone)\n",
    "    - etc."
   ]
  },
  {
   "cell_type": "markdown",
   "metadata": {},
   "source": [
    "# Phase 4 Project"
   ]
  },
  {
   "cell_type": "markdown",
   "metadata": {},
   "source": [
    "- [ ] [Review Canvas Overview Lesson with Deadlines](https://learning.flatironschool.com/courses/2683/pages/phase-4-project-overview-and-deadlines?module_item_id=260089)\n",
    "- [ ] [Review Phase 4 Project Repo](https://github.com/learn-co-curriculum/dsc-phase-4-project)"
   ]
  },
  {
   "cell_type": "markdown",
   "metadata": {},
   "source": [
    "# Choosing a Project Option (James' Advice)"
   ]
  },
  {
   "cell_type": "markdown",
   "metadata": {},
   "source": [
    "## **Approaches to choosing a project:**"
   ]
  },
  {
   "cell_type": "markdown",
   "metadata": {},
   "source": [
    "- **Consider what types of jobs** you may want to apply for/focus on.\n",
    "\n",
    "    - **If you want to work in...**\n",
    "        - If you want to work in finance:\n",
    "            - Time Series option is highly recommended.\n",
    "\n",
    "        - If you want the broadest skilset used in more areas:\n",
    "            - NLP Option\n",
    "\n",
    "        - If you want to work for Amazon/Netflix, etc.\n",
    "            - Recommendation System option \n",
    "            - Maybe NLP option\n",
    "        - If you want to work on self-driving cars:\n",
    "            - Computer Vision option\n",
    "        - If you want to work in health care:\n",
    "            - Computer Vision with preapproved dataset\n",
    "            - NLP\n",
    "            - Time Series (not with financial)\n",
    "\n",
    "    - **If you have no idea what type of job:**\n",
    "        - check job listings for data scientist and data analyst positions in your area to see what is in demand.\n",
    "\n",
    "\n",
    "- **Think ahead to your capstone and what you may want to do for it.**\n",
    "    - Phase 4 project is a great time to practice a difficult skill set that you to use in your capstone project.\n",
    "\n",
    "- **Pick something you find interesting**"
   ]
  },
  {
   "cell_type": "markdown",
   "metadata": {
    "heading_collapsed": true
   },
   "source": [
    "# Project-Task-Specific Tips"
   ]
  },
  {
   "cell_type": "markdown",
   "metadata": {
    "hidden": true
   },
   "source": [
    "## Time Series Project"
   ]
  },
  {
   "cell_type": "markdown",
   "metadata": {
    "hidden": true
   },
   "source": [
    "1. Make sure to use the starter notebook provided in the project repo's `time-series` folder.\n",
    "\n",
    "2. I recommend updating the provided function as follows:\n",
    "\n",
    "```python\n",
    "def melt_data(df):\n",
    "    melted = pd.melt(df, id_vars=['RegionName', 'City', 'State', 'Metro', 'CountyName'], var_name='time')\n",
    "    melted['time'] = pd.to_datetime(melted['time'], infer_datetime_format=True)\n",
    "    melted = melted.dropna(subset=['value'])\n",
    "    return melted#melted.groupby('time').aggregate({'value':'mean'})\n",
    "```\n",
    "\n",
    "3. Do NOT use the entire dataset as a starting point.\n",
    "    - Reduce the dataset to one geographic region (state or metro area) OR some other rationale/grouping\n",
    "\n",
    "\n",
    "4. Workflow Suggestions:\n",
    "    - Use dictionaries using the zipcodes of interest as the keys.\n",
    "    \n",
    "    \n",
    "5. Your Top 5 Zipcodes to Invest In should be based on forecasts into the future (beyond the dataset)\n",
    "\n",
    "- Consider installing `pmdarima` [Docs](https://alkaline-ml.com/pmdarima/setup.html#setup) and using the [auto_arima function](https://alkaline-ml.com/pmdarima/modules/generated/pmdarima.arima.auto_arima.html)."
   ]
  },
  {
   "cell_type": "markdown",
   "metadata": {
    "hidden": true
   },
   "source": [
    "## Computer Vision Project"
   ]
  },
  {
   "cell_type": "markdown",
   "metadata": {
    "hidden": true
   },
   "source": [
    "- Consider using Google Colab if you local machine has limited resources.\n",
    "    - Example Notebook demonstrating using computer vision in colab with the Dogs vs Cats dataset:\n",
    "        - [Link](https://colab.research.google.com/drive/1qZ4uPq94ZV0UcONdhepiTFV6HIUCsvpq?usp=sharing)\n",
    "    - Consider paying for Colab Pro for a month ($9.99/mo)\n",
    "    \n",
    "- **Do the Convolutional Neural Networks section in the appendix.**\n",
    "- Try smaller image sizes:\n",
    "    - I've seen students get great results using 32 x 32 pixels - 64 x 64 pixels\n",
    "    \n"
   ]
  },
  {
   "cell_type": "markdown",
   "metadata": {
    "hidden": true
   },
   "source": [
    "## NLP Project"
   ]
  },
  {
   "cell_type": "markdown",
   "metadata": {
    "hidden": true
   },
   "source": [
    "- You have the choice of regular and/or Deep NLP\n",
    "- **If using the provided dataset, should focus on predicting the sentiment of the provided dataset, not the products.**\n",
    "    - You could absolutely do some EDA exploring the different products, but the model should be classifying for sentiment. "
   ]
  },
  {
   "cell_type": "markdown",
   "metadata": {
    "hidden": true
   },
   "source": [
    "## Recommendation System Project"
   ]
  },
  {
   "cell_type": "markdown",
   "metadata": {
    "hidden": true
   },
   "source": [
    "- You can use `surprise` or PySpark or something else. You are not required to use any particular approach/package.\n",
    "- Consider finding your own dataset\n",
    "    - The pre-approved one is very common. There are definitely others out there. \n",
    "    \n",
    "    \n",
    "- For non-technical audiences  mean absolute error (MAE) is more intuitive than rootmean squared error (RMSE)"
   ]
  },
  {
   "cell_type": "markdown",
   "metadata": {},
   "source": [
    "# Thinking of Stakeholder Recommendations "
   ]
  },
  {
   "cell_type": "markdown",
   "metadata": {},
   "source": [
    "- If you're having trouble thinking of recommendations for the powerpoint and in your notebook:\n",
    "    - Consider making model-based recommendations.\n",
    "        - Assume your audience wants to make their own model. What would you advise them to do or to avoid?\n",
    "        - what if your model wasn't available, what rules of thumb could you give to stakeholders?\n",
    "        "
   ]
  },
  {
   "cell_type": "code",
   "execution_count": null,
   "metadata": {},
   "outputs": [],
   "source": []
  }
 ],
 "metadata": {
  "kernelspec": {
   "display_name": "learn-env-new",
   "language": "python",
   "name": "learn-env-new"
  },
  "language_info": {
   "codemirror_mode": {
    "name": "ipython",
    "version": 3
   },
   "file_extension": ".py",
   "mimetype": "text/x-python",
   "name": "python",
   "nbconvert_exporter": "python",
   "pygments_lexer": "ipython3",
   "version": "3.8.5"
  },
  "toc": {
   "base_numbering": 1,
   "nav_menu": {},
   "number_sections": true,
   "sideBar": true,
   "skip_h1_title": false,
   "title_cell": "Table of Contents",
   "title_sidebar": "Contents",
   "toc_cell": false,
   "toc_position": {},
   "toc_section_display": true,
   "toc_window_display": true
  }
 },
 "nbformat": 4,
 "nbformat_minor": 4
}
