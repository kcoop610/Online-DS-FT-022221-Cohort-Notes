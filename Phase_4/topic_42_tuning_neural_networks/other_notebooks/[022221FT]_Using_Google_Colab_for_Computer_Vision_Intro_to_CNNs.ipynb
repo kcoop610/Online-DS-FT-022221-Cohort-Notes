{
 "cells": [
  {
   "cell_type": "markdown",
   "metadata": {
    "id": "Wc-h0y78n3ML"
   },
   "source": [
    ">### NOTE: You are NOT allowed to use the functions from this notbeook in your own project.\n"
   ]
  },
  {
   "cell_type": "markdown",
   "metadata": {
    "id": "hWg-71RznbO3"
   },
   "source": [
    "[![Open In Colab](https://colab.research.google.com/assets/colab-badge.svg)](https://colab.research.google.com/drive/1cOq1ebvfli6jQASo0TO5oWJY8T09HVXB?usp=sharing)\n"
   ]
  },
  {
   "cell_type": "markdown",
   "metadata": {
    "id": "I3ook5nmTi2T"
   },
   "source": [
    "# USING GOOGLE COLAB FOR NEURAL NETWORKS/COMPUTER VISION"
   ]
  },
  {
   "cell_type": "markdown",
   "metadata": {
    "id": "28h_NKJy7Yby"
   },
   "source": [
    "- From Study Group on: 12/08/20\n",
    "\n",
    "- Author:\n",
    "    - James M. Irving, Ph.D.\n",
    "    - james.irving@flatironschool.com\n",
    "    - james.irving.phd@gmail.com"
   ]
  },
  {
   "cell_type": "markdown",
   "metadata": {
    "id": "zqLBiwwB6I2k"
   },
   "source": [
    "## Google Colab Overview"
   ]
  },
  {
   "cell_type": "markdown",
   "metadata": {
    "id": "bn_zdpwZ6IfO"
   },
   "source": [
    "**Google Colab Quick - Notes**\n",
    " 1. **Open the sidebar!**\n",
    "    - Use `Table of Contents` to Jump between the 3 major sections.\n",
    "    - Mount your google drive via the `Files `\n",
    "    - Note: **to make a section appear in the Table of Contents, create a NEW text cell for the *header only*.** This will also let you collapse all of the cells in the section to reduce clutter.\n",
    "\n",
    "2. **Google Colab already has most common python packages.**\n",
    "    - You can pip install anything by prepending an exclamation point\n",
    "    - You can use the `IPython.display` function `clear_output` to programmatically clean up the displays from pip installation.\n",
    "    ``` python\n",
    "    !pip install fsds_100719\n",
    "    !pip install fake_useragent\n",
    "    !pip install lxml\n",
    "    from IPython.display import clear_output\n",
    "    clear_output()\n",
    "\n",
    "    %codnda install ....\n",
    "    ```\n",
    "    \n",
    "\n",
    "\n",
    "3. **Using GPUs/TPUs**\n",
    "    - `Runtime > Change Runtime Type > Hardware Acceleration`\n",
    "\n",
    "4. **Run-Before and Run-After**\n",
    "    - Go to `Runtime` and select `Run before` to run all cells up to the currently active cell\n",
    "    - Go to `Runtime` and select `Run after` to run all cells that follow the currently active cell \n",
    "\n",
    "5. **Cloud Files with Colab**\n",
    "    - **Open .csv's stored in a github repo directly with Pandas**:\n",
    "        - Go to the repo on GitHub, click on the csv file, then click on `Download` or `Raw` which will then change to show you the raw text. Copy and paste the link in your address bar (should start with www.rawgithubusercontent).\n",
    "        - In your notebook, do `df=pd.read_csv(url)` to load in the data.\n",
    "    - **Google Drive: Open sidebar > Files> click Mount Drive**\n",
    "        - or use this function (also available from file sidebar): \n",
    "        ```python \n",
    "        ## Mount Google Drive\n",
    "        from google.colab import drive\n",
    "        drive.mount('/gdrive',force_remount=True)\n",
    "        ```\n",
    "        - Then access files by file path like usual.\n",
    "        \n",
    "    - Dropbox Files: (like images or csv)\n",
    "        - Copy and paste the share link.\n",
    "        - Change the end of the link from `dl=0`to `dl=1`\n",
    "    - Note: for some data types (like.sqlite) the only option is to store them in google drive and then mount google drive using the Files tab of the sidebar.\n",
    "\n"
   ]
  },
  {
   "cell_type": "markdown",
   "metadata": {
    "id": "aZKUPRM0V6op"
   },
   "source": [
    "\n",
    "\n",
    "6. **Keyboard Shortcuts**\n",
    "    - A lot of the keyboard shortcuts for Colab are different.\n",
    "        - Auto-Complete is Control+Space\n",
    "        - Control+Shift+Space for docstrings.\n",
    "    - Most keyboard shortcuts can be changed\n",
    "        - go to `Tools`>`Keyboard Shortcuts`\n",
    "\n",
    "    - Some of the keyboard shortcuts are the same BUT you first have to type `Command/Cntrl + M` and THEN the keyboard shortcut. \n",
    "        - e.g. `Cmd/Cntrl+M  Y` will change a cell to a code cell\n",
    "        -  `Cmd/Cntrl+M  M` will change a code cell to a Markdown cell.\n",
    "\n",
    "\n",
    "7. **GitHub Integration**\n",
    "    \n",
    "    3. Open a notebook from github or save to github using `File > Upload Notebook` and `File> Save a copy in github`, respectively\n",
    "        - Notebooks saved to Github can optionally have a \"Open in Colab\" link inserted at the top of the notebook. \n",
    "    - You can open notebooks contained in GitHub repositories use the File menu.\n",
    "        - `File`>`Open`> `GitHub tab`\n",
    "    - You can save a copy of notebooks in GitHub repositories \n",
    "        - `File`> `Save a copy in GitHub`\n",
    "    - When you are done working for the day/want to back up the current state of your notebook:\n",
    "        - `File` > `Save and Pin Revision`\n",
    "        - This will save a revision that you could revert back to later (like a commit)\n",
    "    - **See the following example notebook from Google:**\n",
    "        - https://colab.research.google.com/github/googlecolab/colabtools/blob/master/notebooks/colab-github-demo.ipynb \n",
    "\n",
    "    \n",
    "\n",
    "8. **You cannot easily clone an entire repository.**\n",
    "    - It is possible, but you have to do it from WITHIN a Colab notebook. \n",
    "    - **See the following resources for additional info on using Colab + GitHub**:\n",
    "        - https://towardsdatascience.com/google-drive-google-colab-github-dont-just-read-do-it-5554d5824228 \n",
    "\n",
    "                    \n",
    "9. **Load in images stored in a GitHub Repo for Markdown cells:**\n",
    "    - Go to Repo on GitHub.com, click on image file name.\n",
    "    - On the next page for the file, there should be a `Download` button. Click this. \n",
    "    - A new tab should open up with the raw image and the url should now read `raw.githubusercontent.com`. \n",
    "    - Copy this url, it can be used with Markdown cells using img tags. \n",
    "\n",
    "10. **Consider paying for Colab Pro if you need faster processing and more RAM**"
   ]
  },
  {
   "cell_type": "markdown",
   "metadata": {
    "id": "hFGQDHDqhFl8"
   },
   "source": [
    "## Advantages/Disadvantages to Using Google Colab for Computer Vision"
   ]
  },
  {
   "cell_type": "markdown",
   "metadata": {
    "id": "migFrkv07ejg"
   },
   "source": [
    "### Advantages"
   ]
  },
  {
   "cell_type": "markdown",
   "metadata": {
    "id": "AGznlqM2t7gu"
   },
   "source": [
    "- Your notebooks are stored in your Google Drive account and can be run anywhere.\n",
    "\n",
    "- You can use GPUs or TPUs for free with little to no additional effort.\n",
    "    - `Runtime`>`Change Runtime type`\n",
    "\n",
    "- You are not limited by your local computer's resources.\n",
    "\n",
    "\n",
    "- You can access files stored on Google Drive\n"
   ]
  },
  {
   "cell_type": "markdown",
   "metadata": {
    "id": "tzmMg25Mgr6N"
   },
   "source": [
    "### Disadvantages/Drawbacks to Using Google Colab for Computer vision\n"
   ]
  },
  {
   "cell_type": "markdown",
   "metadata": {
    "id": "IO0F6c3vuYRc"
   },
   "source": [
    "- **Your Kernel (and any data/variables stored within)  are temporary**\n",
    "    - Your kernel will be shut downif it remains idle for too long (30 minutes)\n",
    "\n",
    "    - Your kernel will automatically shut down after the maximum 12 hours.\n",
    "\n",
    "    - NOTE: Colab Pro extends these timeouts to 90 mins and 24 hours, respectively. \n",
    "    - There ARE workarounds for the idle timeout...\n",
    "        - https://medium.com/@shivamrawat_756/how-to-prevent-google-colab-from-disconnecting-717b88a128c0\n",
    "\n",
    "\n",
    "- **The connection between Google Colab and Google Drive has a long latency.**\n",
    "\n",
    "    - This means that trying to load in image files on the fly with Keras' `ImageDataGenerator`'s  `.flow_from _directory()` method is actually SLOWER than your local machine. \n",
    "\n",
    "    - **See the following resource for how to get around this latency.**\n",
    "    - https://medium.com/datadriveninvestor/speed-up-your-image-training-on-google-colab-dc95ea1491cf\n",
    "\n",
    "- **It ain't Jupyter**\n",
    "    - No extensions \n",
    "    - Markdown doesn't always display the same "
   ]
  },
  {
   "cell_type": "markdown",
   "metadata": {
    "id": "a2p6PImNTCTf"
   },
   "source": [
    "## Using Colab Pro "
   ]
  },
  {
   "cell_type": "markdown",
   "metadata": {
    "id": "bZ2BC-N-TFhj"
   },
   "source": [
    "- For $10/mo you can subscribe to Colab Pro which has several benefits\n",
    "    - The Virual Machine's RAM is increased to ~28 GB\n",
    "    - You have access to additional GPUs\n",
    "    - There is a much longer timeout for inactive kernels\n",
    "\n",
    "- The follow 2 code cells come from https://colab.research.google.com/notebooks/pro.ipynb and are meant to test if you are indeed using the extra resources."
   ]
  },
  {
   "cell_type": "code",
   "execution_count": 1,
   "metadata": {
    "colab": {
     "base_uri": "https://localhost:8080/"
    },
    "id": "vGmRFADmTCTl",
    "outputId": "1e7c809c-d108-4f80-acd2-5c2fa6d80202"
   },
   "outputs": [
    {
     "name": "stdout",
     "output_type": "stream",
     "text": [
      "Fri Jun  4 21:38:42 2021       \n",
      "+-----------------------------------------------------------------------------+\n",
      "| NVIDIA-SMI 465.27       Driver Version: 460.32.03    CUDA Version: 11.2     |\n",
      "|-------------------------------+----------------------+----------------------+\n",
      "| GPU  Name        Persistence-M| Bus-Id        Disp.A | Volatile Uncorr. ECC |\n",
      "| Fan  Temp  Perf  Pwr:Usage/Cap|         Memory-Usage | GPU-Util  Compute M. |\n",
      "|                               |                      |               MIG M. |\n",
      "|===============================+======================+======================|\n",
      "|   0  Tesla P100-PCIE...  Off  | 00000000:00:04.0 Off |                    0 |\n",
      "| N/A   41C    P0    28W / 250W |      0MiB / 16280MiB |      0%      Default |\n",
      "|                               |                      |                  N/A |\n",
      "+-------------------------------+----------------------+----------------------+\n",
      "                                                                               \n",
      "+-----------------------------------------------------------------------------+\n",
      "| Processes:                                                                  |\n",
      "|  GPU   GI   CI        PID   Type   Process name                  GPU Memory |\n",
      "|        ID   ID                                                   Usage      |\n",
      "|=============================================================================|\n",
      "|  No running processes found                                                 |\n",
      "+-----------------------------------------------------------------------------+\n"
     ]
    }
   ],
   "source": [
    "#https://colab.research.google.com/notebooks/pro.ipynb\n",
    "gpu_info = !nvidia-smi\n",
    "gpu_info = '\\n'.join(gpu_info)\n",
    "if gpu_info.find('failed') >= 0:\n",
    "  print('Select the Runtime → \"Change runtime type\" menu to enable a GPU accelerator, ')\n",
    "  print('and then re-execute this cell.')\n",
    "else:\n",
    "  print(gpu_info)"
   ]
  },
  {
   "cell_type": "code",
   "execution_count": 2,
   "metadata": {
    "colab": {
     "base_uri": "https://localhost:8080/"
    },
    "id": "FS2LI4E9TCTp",
    "outputId": "f6c069b0-a4f9-4592-96d2-697ee8c737f1"
   },
   "outputs": [
    {
     "name": "stdout",
     "output_type": "stream",
     "text": [
      "Your runtime has 27.3 gigabytes of available RAM\n",
      "\n",
      "You are using a high-RAM runtime!\n"
     ]
    }
   ],
   "source": [
    "from psutil import virtual_memory\n",
    "ram_gb = virtual_memory().total / 1e9\n",
    "print('Your runtime has {:.1f} gigabytes of available RAM\\n'.format(ram_gb))\n",
    "\n",
    "if ram_gb < 20:\n",
    "  print('To enable a high-RAM runtime, select the Runtime → \"Change runtime type\"')\n",
    "  print('menu, and then select High-RAM in the Runtime shape dropdown. Then, ')\n",
    "  print('re-execute this cell.')\n",
    "else:\n",
    "  print('You are using a high-RAM runtime!')"
   ]
  },
  {
   "cell_type": "markdown",
   "metadata": {
    "id": "85SsyWcn7pCU"
   },
   "source": [
    "___"
   ]
  },
  {
   "cell_type": "markdown",
   "metadata": {
    "id": "Trd6RcQwP-m8"
   },
   "source": [
    "# CONVOLUTIONAL NEURAL NETWORKS [Link](https://github.com/jirvingphd/dsc-convolutional-neural-networks)"
   ]
  },
  {
   "cell_type": "markdown",
   "metadata": {
    "id": "9xi6_g9a7YTB"
   },
   "source": [
    "## STUDY GROUP RESOURCES"
   ]
  },
  {
   "cell_type": "markdown",
   "metadata": {
    "id": "Gp_2zRYT7YAz"
   },
   "source": [
    "- [DATASET USED: Zip File for Dog vs Cats](https://drive.google.com/open?id=1WQ0fdJrNs5qVinJ_6rmVIIinOJD3p-n4)\n",
    "\n"
   ]
  },
  {
   "cell_type": "markdown",
   "metadata": {
    "id": "fH6TT60aTgM8"
   },
   "source": [
    "## LEARNING OBJECTIVES\n"
   ]
  },
  {
   "cell_type": "markdown",
   "metadata": {
    "id": "pon77kz7oL0P"
   },
   "source": [
    "\n",
    "- Learn about the retina /human visual system\n",
    "- Relate human to CNNS\n",
    "- Discuss using colab/colab pro \n",
    "- Fitting, evaluating, saving CNNs\n",
    "- Transfer Learning & Pre-trained Networks "
   ]
  },
  {
   "cell_type": "markdown",
   "metadata": {
    "id": "8qbS0lSrghaO"
   },
   "source": [
    "## Installs & Imports"
   ]
  },
  {
   "cell_type": "code",
   "execution_count": 3,
   "metadata": {
    "id": "pEVGr51Nyvui"
   },
   "outputs": [],
   "source": [
    "import numpy as np\n",
    "import tensorflow as tf\n",
    "\n",
    "np.random.seed(321)\n",
    "tf.random.set_seed(321)"
   ]
  },
  {
   "cell_type": "code",
   "execution_count": 4,
   "metadata": {
    "ExecuteTime": {
     "end_time": "2020-02-13T16:03:21.650842Z",
     "start_time": "2020-02-13T16:03:14.745924Z"
    },
    "id": "KHc94KpTlbRj"
   },
   "outputs": [],
   "source": [
    "import pandas as pd\n",
    "import seaborn as sns\n",
    "import matplotlib.pyplot as plt\n",
    "import matplotlib as mpl\n",
    "import os, sys, glob\n",
    "\n",
    "\n",
    "import datetime as dt\n",
    "from sklearn import metrics\n",
    "from tzlocal import get_localzone"
   ]
  },
  {
   "cell_type": "code",
   "execution_count": 5,
   "metadata": {
    "ExecuteTime": {
     "end_time": "2020-02-13T16:03:22.790837Z",
     "start_time": "2020-02-13T16:03:21.652166Z"
    },
    "id": "2yML_wHNlbRn"
   },
   "outputs": [],
   "source": [
    "from tensorflow.keras.preprocessing.image import ImageDataGenerator\n",
    "from tensorflow.keras.preprocessing.image import array_to_img, img_to_array, load_img\n",
    "\n",
    "# Importing the Keras libraries and packages\n",
    "from tensorflow.keras.models import Sequential\n",
    "from tensorflow.keras.layers import Conv2D\n",
    "from tensorflow.keras.layers import MaxPooling2D\n",
    "from tensorflow.keras.layers import Flatten\n",
    "from tensorflow.keras.layers import Dense\n",
    "from tensorflow.keras import callbacks, models, layers, optimizers, regularizers\n",
    "\n",
    "# import tensorflow.compat.v1 as tf\n",
    "# tf.disable_v2_behavior()"
   ]
  },
  {
   "cell_type": "markdown",
   "metadata": {
    "id": "E7D1Ks2mhJim"
   },
   "source": [
    "# Loading in the data"
   ]
  },
  {
   "cell_type": "markdown",
   "metadata": {
    "id": "MqhwVmwksJmu"
   },
   "source": [
    "- [Google Drive Link to zip file](https://drive.google.com/open?id=1WQ0fdJrNs5qVinJ_6rmVIIinOJD3p-n4)\n",
    "- [Blog Post on Using Colab for ANNs](https://medium.com/datadriveninvestor/speed-up-your-image-training-on-google-colab-dc95ea1491cf)\n"
   ]
  },
  {
   "cell_type": "code",
   "execution_count": 6,
   "metadata": {
    "colab": {
     "base_uri": "https://localhost:8080/"
    },
    "id": "OEV1zYBb9q9R",
    "outputId": "9c9b1248-e491-410b-d621-adeeffc1e5ad"
   },
   "outputs": [
    {
     "name": "stdout",
     "output_type": "stream",
     "text": [
      "Mounted at /gdrive\n"
     ]
    }
   ],
   "source": [
    "## Mount Google Drive\n",
    "from google.colab import drive\n",
    "drive.mount('/gdrive',force_remount=True)"
   ]
  },
  {
   "cell_type": "code",
   "execution_count": 7,
   "metadata": {
    "id": "lCkBAOo65iJD"
   },
   "outputs": [],
   "source": [
    "# pwd"
   ]
  },
  {
   "cell_type": "code",
   "execution_count": 8,
   "metadata": {
    "colab": {
     "base_uri": "https://localhost:8080/"
    },
    "id": "aoq7RmtgUuZT",
    "outputId": "4363df3f-6606-4b15-e78c-789d0e53a9b2"
   },
   "outputs": [
    {
     "name": "stdout",
     "output_type": "stream",
     "text": [
      "/content\n",
      "['.config', 'sample_data']\n"
     ]
    }
   ],
   "source": [
    "import os\n",
    "\n",
    "## Get current directory\n",
    "print(os.getcwd())\n",
    "\n",
    "## Get Contents of Directory\n",
    "print(os.listdir())\n"
   ]
  },
  {
   "cell_type": "code",
   "execution_count": 9,
   "metadata": {
    "colab": {
     "base_uri": "https://localhost:8080/"
    },
    "id": "Bp5DI43iVM9b",
    "outputId": "1a386bae-e84c-4b98-ab52-a1a07c75118a"
   },
   "outputs": [
    {
     "name": "stdout",
     "output_type": "stream",
     "text": [
      "/\n",
      "['mnt', 'media', 'proc', 'var', 'opt', 'etc', 'bin', 'tmp', 'usr', 'lib', 'home', 'sbin', 'dev', 'boot', 'sys', 'srv', 'lib64', 'run', 'root', 'gdrive', '.dockerenv', 'datalab', 'tools', 'tensorflow-1.15.2', 'content', 'lib32']\n"
     ]
    }
   ],
   "source": [
    "## Change Directory to Parent Folder\n",
    "os.chdir('../')\n",
    "\n",
    "## Get current directory\n",
    "print(os.getcwd())\n",
    "## Get Contents of Directory\n",
    "print(os.listdir())"
   ]
  },
  {
   "cell_type": "code",
   "execution_count": 10,
   "metadata": {
    "colab": {
     "base_uri": "https://localhost:8080/"
    },
    "id": "PMR1zxSfHs73",
    "outputId": "e0948a4b-4c83-4292-89ee-8c576cd4ef52"
   },
   "outputs": [
    {
     "name": "stdout",
     "output_type": "stream",
     "text": [
      "Current Directory =  /\n"
     ]
    }
   ],
   "source": [
    "\n",
    "def print_path(return_=False):\n",
    "    \"\"\"Prints the current working directory\"\"\"\n",
    "    path = os.path.abspath(os.curdir)\n",
    "    print(\"Current Directory = \",path)\n",
    "    if return_:\n",
    "        return path\n",
    "        \n",
    "print_path()"
   ]
  },
  {
   "cell_type": "code",
   "execution_count": 11,
   "metadata": {
    "colab": {
     "base_uri": "https://localhost:8080/"
    },
    "id": "LZ5YIuJtmTsL",
    "outputId": "99b7fa0f-b51a-4bb0-b809-0a72d67d94e0"
   },
   "outputs": [
    {
     "name": "stdout",
     "output_type": "stream",
     "text": [
      "/root\n",
      "/\n",
      "Current Directory =  /\n"
     ]
    }
   ],
   "source": [
    "## cd to root directory and then cd to above folder\n",
    "%cd ~\n",
    "%cd ..\n",
    "print_path()"
   ]
  },
  {
   "cell_type": "code",
   "execution_count": 12,
   "metadata": {
    "id": "jpxsftugIJ7t"
   },
   "outputs": [],
   "source": [
    "def print_dir_contents(fpath=None):\n",
    "    \"\"\"Function to print the contents of the filepath provided.\n",
    "    Defaults to the current directory\"\"\"\n",
    "    if fpath is None:\n",
    "        fpath = os.path.abspath(os.curdir)\n",
    "\n",
    "    print(f\"CONTENTS OF FOLDER: '{fpath}':\")\n",
    "    files = sorted(os.listdir(fpath))\n",
    "    tab = '\\n\\t'\n",
    "    print(\"\\t\"+tab.join(files))"
   ]
  },
  {
   "cell_type": "code",
   "execution_count": 13,
   "metadata": {
    "colab": {
     "base_uri": "https://localhost:8080/"
    },
    "id": "NEkCfU3EIRJY",
    "outputId": "6bd5df84-fa6c-4393-9bd4-ba84c5e166b5"
   },
   "outputs": [
    {
     "name": "stdout",
     "output_type": "stream",
     "text": [
      "CONTENTS OF FOLDER: '/':\n",
      "\t.dockerenv\n",
      "\tbin\n",
      "\tboot\n",
      "\tcontent\n",
      "\tdatalab\n",
      "\tdev\n",
      "\tetc\n",
      "\tgdrive\n",
      "\thome\n",
      "\tlib\n",
      "\tlib32\n",
      "\tlib64\n",
      "\tmedia\n",
      "\tmnt\n",
      "\topt\n",
      "\tproc\n",
      "\troot\n",
      "\trun\n",
      "\tsbin\n",
      "\tsrv\n",
      "\tsys\n",
      "\ttensorflow-1.15.2\n",
      "\ttmp\n",
      "\ttools\n",
      "\tusr\n",
      "\tvar\n"
     ]
    }
   ],
   "source": [
    "print_dir_contents()"
   ]
  },
  {
   "cell_type": "code",
   "execution_count": 14,
   "metadata": {
    "colab": {
     "base_uri": "https://localhost:8080/"
    },
    "id": "TrorJlm_Ddq3",
    "outputId": "83bac517-7275-4870-8a01-0dfd2ea2ce85"
   },
   "outputs": [
    {
     "name": "stdout",
     "output_type": "stream",
     "text": [
      "CONTENTS OF FOLDER: '/gdrive/My Drive/Datasets/':\n",
      "\tBaltimore Data\n",
      "\tCOVID19\n",
      "\tDisasterDeclarationsSummaries (1).csv\n",
      "\tDisasterDeclarationsSummaries.csv\n",
      "\tModels\n",
      "\tNeuroscience\n",
      "\tSTUDENTS\n",
      "\tarrivals.xlsx\n",
      "\tbdd100k_labels_release.zip\n",
      "\tchest-xray-pneumonia.zip\n",
      "\tcompetitions\n",
      "\tdata.sqlite\n",
      "\tdogs-vs-cats\n",
      "\tdogs-vs-cats-sorted\n",
      "\tdogs-vs-cats-sorted.zip\n",
      "\tdogs-vs-catsexample_save.jpg\n",
      "\tfsds\n",
      "\tmodels\n",
      "\tpets_database.db\n",
      "\tplanets.db\n",
      "\ttitanic\n"
     ]
    }
   ],
   "source": [
    "## From the top-level directory, \n",
    "## LOCATION OF ZIP FILE\n",
    "source_folder = r'/gdrive/My Drive/Datasets/'\n",
    "print_dir_contents(source_folder)"
   ]
  },
  {
   "cell_type": "code",
   "execution_count": 15,
   "metadata": {
    "id": "uXNPOdk1J24A"
   },
   "outputs": [],
   "source": [
    "def find_zipfile(source_folder,ZIPFILE_STR = '*.zip'):\n",
    "    \"\"\"Modify the ZIPFILE_STR to change the search pattern for glob (default is '*.zip')\"\"\"\n",
    "    files = glob.glob(source_folder+ ZIPFILE_STR,\n",
    "                    recursive=True)\n",
    "    \n",
    "\n",
    "    if len(files)>1:\n",
    "        print(\"[!] More than 1 file found:\")\n",
    "        for i,file in enumerate(files):\n",
    "            print(f\"{file} \\t= File {i}\")\n",
    "\n",
    "        print('[!] Must set fpath = output[i] (where i is the file of interest)')\n",
    "    else:\n",
    "        # fpath = files[0]\n",
    "        print('[i] Found 1 matching file:')\n",
    "        print('\\tMust set fpath = output[0]')\n",
    "    return files"
   ]
  },
  {
   "cell_type": "code",
   "execution_count": 16,
   "metadata": {
    "colab": {
     "base_uri": "https://localhost:8080/"
    },
    "id": "Tzlu4rAgMI6e",
    "outputId": "d4d6c644-4481-41fe-81f0-20d8b9cda126"
   },
   "outputs": [
    {
     "name": "stdout",
     "output_type": "stream",
     "text": [
      "[i] Found 1 matching file:\n",
      "\tMust set fpath = output[0]\n",
      "/gdrive/My Drive/Datasets/dogs-vs-cats-sorted.zip\n"
     ]
    }
   ],
   "source": [
    "## Modify the ZIPFILE_STR to change the search pattern for glob (default is '*.zip')\n",
    "ZIPFILE_STR = '*sorted.zip'\n",
    "\n",
    "files = find_zipfile(source_folder,ZIPFILE_STR)\n",
    "source_file = files[0]\n",
    "print(source_file)"
   ]
  },
  {
   "cell_type": "code",
   "execution_count": 17,
   "metadata": {
    "id": "r25YDOzSMNQK"
   },
   "outputs": [],
   "source": [
    "zip_path = '/gdrive/My Drive/Datasets/dogs-vs-cats-sorted.zip'\n",
    "fname = 'dogs-vs-cats-sorted.zip'"
   ]
  },
  {
   "cell_type": "markdown",
   "metadata": {
    "id": "EMJda-GqUkLS"
   },
   "source": [
    "\n",
    "#### The following cells are very important.\n",
    "- It will copy the zip file to the virtual machines root directory, unzip it, and then remove the zip file. "
   ]
  },
  {
   "cell_type": "code",
   "execution_count": 18,
   "metadata": {
    "id": "MnW9nB5yJ2W3"
   },
   "outputs": [],
   "source": [
    "## Get the name of the zipfile without folder\n",
    "# zip_path = source_file\n",
    "# # fname = zip_path.split('/')[-1]\n",
    "\n",
    "!cp \"{zip_path}\" .\n",
    "\n",
    "!unzip -q \"{fname}\" \n",
    "!rm \"{fname}\" "
   ]
  },
  {
   "cell_type": "markdown",
   "metadata": {
    "id": "eroQhhhx_hcH"
   },
   "source": []
  },
  {
   "cell_type": "code",
   "execution_count": 19,
   "metadata": {
    "colab": {
     "base_uri": "https://localhost:8080/"
    },
    "id": "U_HgT1oPKRFH",
    "outputId": "f3c282c6-38ec-4aba-d35b-8eba53be8342"
   },
   "outputs": [
    {
     "name": "stdout",
     "output_type": "stream",
     "text": [
      "CONTENTS OF FOLDER: '/':\n",
      "\t.dockerenv\n",
      "\t__MACOSX\n",
      "\tbin\n",
      "\tboot\n",
      "\tcontent\n",
      "\tdatalab\n",
      "\tdev\n",
      "\tdogs-vs-cats-sorted\n",
      "\tetc\n",
      "\tgdrive\n",
      "\thome\n",
      "\tlib\n",
      "\tlib32\n",
      "\tlib64\n",
      "\tmedia\n",
      "\tmnt\n",
      "\topt\n",
      "\tproc\n",
      "\troot\n",
      "\trun\n",
      "\tsbin\n",
      "\tsrv\n",
      "\tsys\n",
      "\ttensorflow-1.15.2\n",
      "\ttmp\n",
      "\ttools\n",
      "\tusr\n",
      "\tvar\n"
     ]
    }
   ],
   "source": [
    "print_dir_contents()#'dogs-vs-cats-sorted')"
   ]
  },
  {
   "cell_type": "markdown",
   "metadata": {
    "id": "EmAH1aUT8g8X"
   },
   "source": [
    "## Preparing the Data with ImageDataGenerator & Flow From Directory"
   ]
  },
  {
   "cell_type": "markdown",
   "metadata": {
    "id": "AFAlTuXB8I4U"
   },
   "source": [
    "### Defining Folder Structure"
   ]
  },
  {
   "cell_type": "code",
   "execution_count": 20,
   "metadata": {
    "colab": {
     "base_uri": "https://localhost:8080/"
    },
    "id": "JrhiTSWlzXdG",
    "outputId": "f47c02ca-7a26-482f-a1e4-5ba25d7ce171"
   },
   "outputs": [
    {
     "name": "stdout",
     "output_type": "stream",
     "text": [
      "CONTENTS OF FOLDER: 'dogs-vs-cats-sorted/':\n",
      "\t.DS_Store\n",
      "\tsingle_prediction\n",
      "\ttest_set\n",
      "\ttraining_set\n"
     ]
    }
   ],
   "source": [
    "# change dataset_folder to match where you stored the files\n",
    "base_folder =\"dogs-vs-cats-sorted/\" \n",
    "\n",
    "## Check contents of base folder\n",
    "print_dir_contents(base_folder)"
   ]
  },
  {
   "cell_type": "code",
   "execution_count": 21,
   "metadata": {
    "colab": {
     "base_uri": "https://localhost:8080/"
    },
    "id": "FfUOYXwVzdqs",
    "outputId": "f8f47b43-d7be-4cd4-aa74-7f6a738073b2"
   },
   "outputs": [
    {
     "name": "stdout",
     "output_type": "stream",
     "text": [
      "CONTENTS OF FOLDER: 'dogs-vs-cats-sorted/training_set/':\n",
      "\t.DS_Store\n",
      "\tcats\n",
      "\tdogs\n"
     ]
    }
   ],
   "source": [
    "## Define train_folder and test_folder\n",
    "train_folder = base_folder+\"training_set/\"\n",
    "test_folder =  base_folder+\"test_set/\"\n",
    "\n",
    "## Check contents of train_folder\n",
    "print_dir_contents(train_folder)"
   ]
  },
  {
   "cell_type": "code",
   "execution_count": 22,
   "metadata": {
    "colab": {
     "base_uri": "https://localhost:8080/"
    },
    "id": "OcjDJDjVzgse",
    "outputId": "4f81448c-860a-45a7-db6b-846d3e7750b7"
   },
   "outputs": [
    {
     "name": "stdout",
     "output_type": "stream",
     "text": [
      "- There are 4001 images in dogs folder.\n",
      "- There are 4001 images in cats folder.\n",
      "- There are 1001 images in dogs folder.\n",
      "- There are 1001 images in cats folder.\n"
     ]
    }
   ],
   "source": [
    "## IF WE WANT TO USE A DENSE-LAYERS-ONLY MODEL, will need batch sizes as number of images\n",
    "def get_num_images(train_folder,folders=['dogs','cats'],verbose=False):\n",
    "    \"\"\"Gets the total number of images from all folders listed\"\"\"\n",
    "    num_images = 0\n",
    "    for folder in folders:\n",
    "        num_in_folder = len(os.listdir(train_folder+folder))\n",
    "        \n",
    "        if verbose:\n",
    "            print(f\"- There are {num_in_folder} images in {folder} folder.\")\n",
    "        num_images+=num_in_folder\n",
    "    return num_images\n",
    "\n",
    "### WE WANT TO GENERATE ENTIRE DATASET WITH the I.D.Gs.\n",
    "## SO HERE WE CALCULATE HOW MANY IMAGES SHOULD BE IN EACH BATCH SIZE FOR THE GENERATOR\n",
    "## Get the Number of total images for batch size \n",
    "NUM_TRAIN_IMGS = get_num_images(train_folder,verbose=True)\n",
    "NUM_VAL_TEST_IMGS = get_num_images(test_folder,verbose=True)"
   ]
  },
  {
   "cell_type": "code",
   "execution_count": 23,
   "metadata": {
    "colab": {
     "base_uri": "https://localhost:8080/"
    },
    "id": "XeptJ9Ml8CxA",
    "outputId": "e55ce0dd-3e59-4f1c-a319-95d3b8490800"
   },
   "outputs": [
    {
     "name": "stdout",
     "output_type": "stream",
     "text": [
      "Training images: 8002\n",
      "Test images: 1602\n",
      "Val images: 400\n"
     ]
    },
    {
     "data": {
      "text/plain": [
       "(8002, 1602, 400)"
      ]
     },
     "execution_count": 23,
     "metadata": {
      "tags": []
     },
     "output_type": "execute_result"
    }
   ],
   "source": [
    "## Make validation split\n",
    "VAL_SPLIT = 0.2\n",
    "\n",
    "NUM_VAL_IMGS = round(NUM_VAL_TEST_IMGS*VAL_SPLIT)\n",
    "NUM_TEST_IMGS = round(NUM_VAL_TEST_IMGS*(1-VAL_SPLIT))\n",
    "\n",
    "print(f\"Training images: {NUM_TRAIN_IMGS}\")\n",
    "print(f\"Test images: {NUM_TEST_IMGS}\")\n",
    "print(f\"Val images: {NUM_VAL_IMGS}\")\n",
    "NUM_TRAIN_IMGS,NUM_TEST_IMGS,NUM_VAL_IMGS"
   ]
  },
  {
   "cell_type": "code",
   "execution_count": 24,
   "metadata": {
    "id": "pbsI5rigzuET"
   },
   "outputs": [],
   "source": [
    "## MAKING IMAGE DATA GENERATORS FOR TRAIN TEST VAL\n",
    "IMG_SIZE = (64,64)\n",
    "# BATCH_SIZE = 528\n",
    "\n",
    "## Create ImageDataGenerators\n",
    "train_datagen = ImageDataGenerator(rescale=1./255)#,\n",
    "                                #    shear_range = 0.2, zoom_range = 0.2,\n",
    "                                #    horizontal_flip = True)\n",
    "\n",
    "test_val_datagen = ImageDataGenerator(rescale=1./255,\n",
    "                                      validation_split=VAL_SPLIT)"
   ]
  },
  {
   "cell_type": "code",
   "execution_count": 25,
   "metadata": {
    "colab": {
     "base_uri": "https://localhost:8080/"
    },
    "id": "7JXMkouJ0n1y",
    "outputId": "daa13787-209e-47d4-ca0f-d2806d662efd"
   },
   "outputs": [
    {
     "name": "stdout",
     "output_type": "stream",
     "text": [
      "Found 8000 images belonging to 2 classes.\n",
      "Found 1600 images belonging to 2 classes.\n",
      "Found 400 images belonging to 2 classes.\n"
     ]
    }
   ],
   "source": [
    "## Make Training Sets With All Images\n",
    "training_set = train_datagen.flow_from_directory(train_folder,\n",
    "                                                      target_size=IMG_SIZE,\n",
    "                                                     class_mode='binary',\n",
    "                                                     batch_size=NUM_TRAIN_IMGS)#BATCH_SIZE)                                          \n",
    "                                                      \n",
    "\n",
    "test_set = test_val_datagen.flow_from_directory(test_folder,\n",
    "                                                      target_size=IMG_SIZE,\n",
    "                                                     class_mode='binary',\n",
    "                                                     batch_size=NUM_TEST_IMGS,#BATCH_SIZE,\n",
    "                                                    subset='training')  \n",
    "\n",
    "val_set = test_val_datagen.flow_from_directory(test_folder,\n",
    "                                                      target_size=IMG_SIZE,\n",
    "                                                     class_mode='binary',\n",
    "                                                     batch_size=NUM_VAL_IMGS,\n",
    "                                                    subset='validation')  "
   ]
  },
  {
   "cell_type": "code",
   "execution_count": 26,
   "metadata": {
    "colab": {
     "base_uri": "https://localhost:8080/"
    },
    "id": "Wmc0tVxV8Jd3",
    "outputId": "7c4c859e-4945-45b0-9e08-9160790e836e"
   },
   "outputs": [
    {
     "name": "stdout",
     "output_type": "stream",
     "text": [
      "(8000,)\n",
      "(1600,)\n",
      "(400,)\n"
     ]
    },
    {
     "data": {
      "text/plain": [
       "[None, None, None]"
      ]
     },
     "execution_count": 26,
     "metadata": {
      "tags": []
     },
     "output_type": "execute_result"
    }
   ],
   "source": [
    "X_train,y_train = next(training_set)\n",
    "X_test,y_test = next(test_set)\n",
    "X_val,y_val = next(val_set)\n",
    "\n",
    "[print(y.shape) for y in [y_train,y_test,y_val]]"
   ]
  },
  {
   "cell_type": "code",
   "execution_count": 27,
   "metadata": {
    "colab": {
     "base_uri": "https://localhost:8080/"
    },
    "id": "A1TIvKQSKyU2",
    "outputId": "1093b637-cc4f-4f50-8c29-7b11fcc92464"
   },
   "outputs": [
    {
     "name": "stdout",
     "output_type": "stream",
     "text": [
      "Found 8000 images belonging to 2 classes.\n"
     ]
    }
   ],
   "source": [
    "## Make Training Sets With All Images\n",
    "example_set = train_datagen.flow_from_directory(train_folder,\n",
    "                                                      target_size=IMG_SIZE,\n",
    "                                                     class_mode='binary',\n",
    "                                                     batch_size=32)"
   ]
  },
  {
   "cell_type": "code",
   "execution_count": 28,
   "metadata": {
    "colab": {
     "base_uri": "https://localhost:8080/"
    },
    "id": "gfEfO2TmK6Mk",
    "outputId": "e0455f93-100e-468e-9694-f37d3e2a1223"
   },
   "outputs": [
    {
     "data": {
      "text/plain": [
       "(32,)"
      ]
     },
     "execution_count": 28,
     "metadata": {
      "tags": []
     },
     "output_type": "execute_result"
    }
   ],
   "source": [
    "X_ex,y_ex = next(example_set)\n",
    "y_ex.shape"
   ]
  },
  {
   "cell_type": "code",
   "execution_count": 29,
   "metadata": {
    "colab": {
     "base_uri": "https://localhost:8080/"
    },
    "id": "KzaCnJpGBf7L",
    "outputId": "ceb24db1-2383-48ce-d6cc-e3b82d842e76"
   },
   "outputs": [
    {
     "data": {
      "text/plain": [
       "{'cats': 0, 'dogs': 1}"
      ]
     },
     "execution_count": 29,
     "metadata": {
      "tags": []
     },
     "output_type": "execute_result"
    }
   ],
   "source": [
    "training_set.class_indices"
   ]
  },
  {
   "cell_type": "code",
   "execution_count": 30,
   "metadata": {
    "colab": {
     "base_uri": "https://localhost:8080/",
     "height": 98
    },
    "id": "pdxR2hN6QlWR",
    "outputId": "272887ce-d950-4e9c-e0b4-a76d71e6c7f1"
   },
   "outputs": [
    {
     "name": "stdout",
     "output_type": "stream",
     "text": [
      "Label=1.0\n"
     ]
    },
    {
     "data": {
      "image/png": "[encoded data removed]",
      "text/plain": [
       "<PIL.Image.Image image mode=RGB size=64x64 at 0x7FAD0DC46390>"
      ]
     },
     "execution_count": 30,
     "metadata": {
      "tags": []
     },
     "output_type": "execute_result"
    }
   ],
   "source": [
    "i = np.random.choice(len(y_train))\n",
    "print(f\"Label={y_train[i]}\")\n",
    "array_to_img(X_train[i])"
   ]
  },
  {
   "cell_type": "markdown",
   "metadata": {
    "id": "P1-7hb_lhVdU"
   },
   "source": [
    "# Using CNNs"
   ]
  },
  {
   "cell_type": "markdown",
   "metadata": {
    "id": "GQ1kiVMSRVHK"
   },
   "source": [
    "## Modeling Functions"
   ]
  },
  {
   "cell_type": "code",
   "execution_count": 31,
   "metadata": {
    "id": "3aXl-11Am-jR"
   },
   "outputs": [],
   "source": [
    "def plot_history(history, metric_list=['loss','acc']):\n",
    "    \"\"\"Plots keras training history\"\"\"\n",
    "    ## Get History  as adf\n",
    "    history_df = pd.DataFrame(history.history)\n",
    "    ## PLotn all fo the metrics in history\n",
    "   \n",
    "    for metric in metric_list:\n",
    "        history_df[[col for col in history_df.columns if metric in col]].plot(\n",
    "        marker='o',ls=':')\n",
    "        \n",
    "    plt.suptitle('Training History')\n",
    "    plt.show()\n",
    "\n",
    "    return plt.gcf()\n",
    "\n",
    "\n",
    "def make_fit_plot_model(build_fn,X_train,y_train,X_val,y_val, \n",
    "                        epochs=5,fit_kws={},binary=True,evaluate=True):\n",
    "    \"\"\"Builds, fits, and (optionally) evaluate a neural network created\n",
    "    from the build_fn\"\"\"\n",
    "\n",
    "    ## Print Start Time\n",
    "    start = dt.datetime.now(tz=get_localzone())\n",
    "    fmt= \"%m/%d/%y - %T %p\"\n",
    "\n",
    "    print('---'*20)    \n",
    "    print(f'[i] MODEL CREATED AT {start.strftime(fmt)}')\n",
    "    print('---'*20)\n",
    "    print()\n",
    "    \n",
    "    ## Use new functions to make model and plot history\n",
    "    model = build_fn()\n",
    "    history = model.fit(X_train,y_train, epochs=epochs,**fit_kws,\n",
    "                          validation_data=(X_val,y_val))\n",
    "    \n",
    "    ## Print Total Time\n",
    "    end = dt.datetime.now(tz=get_localzone())\n",
    "    print(f'\\n[!] Training Completed AT {end.strftime(fmt)}')\n",
    "    # print()\n",
    "    print(f\"\\n[i] Total Training Time: {end-start}\")\n",
    "\n",
    "    if evaluate:\n",
    "        evaluate_model(model,history,X_test,y_test,binary=binary)\n",
    "\n",
    "    return model,history\n",
    "    \n",
    "\n",
    "## Making a function for just evaluting not fitting\n",
    "def evaluate_model(model,history,X_test,y_test,binary=True):\n",
    "\n",
    "    ## Get Model history and plot\n",
    "    # history = model.history\n",
    "    try:\n",
    "        plot_history(history)\n",
    "    except:\n",
    "        pass\n",
    "    \n",
    "    ## Get predictions\n",
    "    y_hat_test = model.predict(X_test)\n",
    "\n",
    "    if binary:\n",
    "        y_hat_test = y_hat_test.round()\n",
    "    else:\n",
    "        y_hat_test = y_hat_test.argmax(axis=1)\n",
    "\n",
    "\n",
    "    ## Print classification report\n",
    "    print('---'*20)  \n",
    "    print('---'*20)  \n",
    "    print('[i] Classification Report')\n",
    "    print(metrics.classification_report(y_test,y_hat_test))\n",
    "    print('---'*20)  \n",
    "\n",
    "\n",
    "    ## Get and PLot the confusion matrix\n",
    "    cm = metrics.confusion_matrix(y_test, y_hat_test,\n",
    "                                normalize='true')\n",
    "\n",
    "    ax = sns.heatmap(cm, cmap='Blues',annot=True,square=True)\n",
    "    ax.set(xlabel='Predicted Class',ylabel='True Class')"
   ]
  },
  {
   "cell_type": "markdown",
   "metadata": {
    "id": "s3_BRyfOQ8fR"
   },
   "source": [
    "## Model 1"
   ]
  },
  {
   "cell_type": "code",
   "execution_count": 32,
   "metadata": {
    "colab": {
     "base_uri": "https://localhost:8080/"
    },
    "id": "b07M7sqG1r7I",
    "outputId": "270719a7-bf90-4678-e967-4b9b7cced0a3"
   },
   "outputs": [
    {
     "data": {
      "text/plain": [
       "(64, 64, 3)"
      ]
     },
     "execution_count": 32,
     "metadata": {
      "tags": []
     },
     "output_type": "execute_result"
    }
   ],
   "source": [
    "(*IMG_SIZE,3)"
   ]
  },
  {
   "cell_type": "code",
   "execution_count": 33,
   "metadata": {
    "ExecuteTime": {
     "end_time": "2020-02-13T16:28:18.120169Z",
     "start_time": "2020-02-13T16:28:17.985574Z"
    },
    "id": "5ZbaFM3xlbSa"
   },
   "outputs": [],
   "source": [
    "# Part 1 - Building the CNN\n",
    "def make_cnn1():\n",
    "    # Initialising the CNN\n",
    "    classifier = Sequential()\n",
    "\n",
    "    # Step 1 - Convolution\n",
    "    classifier.add(Conv2D(64, (3, 3),\n",
    "                                input_shape = ((*IMG_SIZE,3)),\n",
    "                                activation = 'relu'))\n",
    "\n",
    "    classifier.add(Conv2D(64, (3, 3),\n",
    "                        activation = 'relu'))\n",
    "    # Step 2 - Pooling\n",
    "    classifier.add(MaxPooling2D(pool_size = (2, 2)))\n",
    "\n",
    "    # Adding a second convolutional layer\n",
    "    classifier.add(Conv2D(32, (3, 3),\n",
    "                        activation = 'relu'))\n",
    "    classifier.add(MaxPooling2D(pool_size = (2, 2)))\n",
    "\n",
    "    # Step 3 - Flattening\n",
    "    classifier.add(Flatten())\n",
    "\n",
    "    # Step 4 - Full connection\n",
    "    classifier.add(Dense(units = 64, activation = 'relu'))\n",
    "\n",
    "    classifier.add(Dense(units = 1, activation = 'sigmoid'))\n",
    "\n",
    "    # Compiling the CNN\n",
    "    classifier.compile(optimizer = 'adam', \n",
    "                    loss = 'binary_crossentropy',\n",
    "                    metrics = ['accuracy'])\n",
    "    print()\n",
    "    display(classifier.summary())\n",
    "    return classifier\n"
   ]
  },
  {
   "cell_type": "code",
   "execution_count": 34,
   "metadata": {
    "colab": {
     "base_uri": "https://localhost:8080/",
     "height": 1000
    },
    "id": "z9q0LbSzo6p2",
    "outputId": "e5449d03-09ad-4c7c-a7b1-c5beab49f8b4"
   },
   "outputs": [
    {
     "name": "stdout",
     "output_type": "stream",
     "text": [
      "------------------------------------------------------------\n",
      "[i] MODEL CREATED AT 06/04/21 - 21:39:42 PM\n",
      "------------------------------------------------------------\n",
      "\n",
      "\n",
      "Model: \"sequential\"\n",
      "_________________________________________________________________\n",
      "Layer (type)                 Output Shape              Param #   \n",
      "=================================================================\n",
      "conv2d (Conv2D)              (None, 62, 62, 64)        1792      \n",
      "_________________________________________________________________\n",
      "conv2d_1 (Conv2D)            (None, 60, 60, 64)        36928     \n",
      "_________________________________________________________________\n",
      "max_pooling2d (MaxPooling2D) (None, 30, 30, 64)        0         \n",
      "_________________________________________________________________\n",
      "conv2d_2 (Conv2D)            (None, 28, 28, 32)        18464     \n",
      "_________________________________________________________________\n",
      "max_pooling2d_1 (MaxPooling2 (None, 14, 14, 32)        0         \n",
      "_________________________________________________________________\n",
      "flatten (Flatten)            (None, 6272)              0         \n",
      "_________________________________________________________________\n",
      "dense (Dense)                (None, 64)                401472    \n",
      "_________________________________________________________________\n",
      "dense_1 (Dense)              (None, 1)                 65        \n",
      "=================================================================\n",
      "Total params: 458,721\n",
      "Trainable params: 458,721\n",
      "Non-trainable params: 0\n",
      "_________________________________________________________________\n"
     ]
    },
    {
     "data": {
      "text/plain": [
       "None"
      ]
     },
     "metadata": {
      "tags": []
     },
     "output_type": "display_data"
    },
    {
     "name": "stdout",
     "output_type": "stream",
     "text": [
      "Epoch 1/5\n",
      "250/250 [==============================] - 18s 9ms/step - loss: 0.6914 - accuracy: 0.5213 - val_loss: 0.6851 - val_accuracy: 0.5525\n",
      "Epoch 2/5\n",
      "250/250 [==============================] - 2s 8ms/step - loss: 0.6725 - accuracy: 0.5742 - val_loss: 0.6813 - val_accuracy: 0.5975\n",
      "Epoch 3/5\n",
      "250/250 [==============================] - 2s 8ms/step - loss: 0.6366 - accuracy: 0.6371 - val_loss: 0.6382 - val_accuracy: 0.6650\n",
      "Epoch 4/5\n",
      "250/250 [==============================] - 2s 8ms/step - loss: 0.5832 - accuracy: 0.6939 - val_loss: 0.6111 - val_accuracy: 0.6650\n",
      "Epoch 5/5\n",
      "250/250 [==============================] - 2s 8ms/step - loss: 0.5182 - accuracy: 0.7446 - val_loss: 0.5931 - val_accuracy: 0.7325\n",
      "\n",
      "[!] Training Completed AT 06/04/21 - 21:40:10 PM\n",
      "\n",
      "[i] Total Training Time: 0:00:28.771161\n"
     ]
    },
    {
     "data": {
      "image/png": "[encoded data removed]",
      "text/plain": [
       "<Figure size 432x288 with 1 Axes>"
      ]
     },
     "metadata": {
      "needs_background": "light",
      "tags": []
     },
     "output_type": "display_data"
    },
    {
     "data": {
      "image/png": "[encoded data removed]",
      "text/plain": [
       "<Figure size 432x288 with 1 Axes>"
      ]
     },
     "metadata": {
      "needs_background": "light",
      "tags": []
     },
     "output_type": "display_data"
    },
    {
     "name": "stdout",
     "output_type": "stream",
     "text": [
      "------------------------------------------------------------\n",
      "------------------------------------------------------------\n",
      "[i] Classification Report\n",
      "              precision    recall  f1-score   support\n",
      "\n",
      "         0.0       0.74      0.58      0.65       800\n",
      "         1.0       0.66      0.80      0.72       800\n",
      "\n",
      "    accuracy                           0.69      1600\n",
      "   macro avg       0.70      0.69      0.69      1600\n",
      "weighted avg       0.70      0.69      0.69      1600\n",
      "\n",
      "------------------------------------------------------------\n"
     ]
    },
    {
     "data": {
      "image/png": "[encoded data removed]",
      "text/plain": [
       "<Figure size 432x288 with 2 Axes>"
      ]
     },
     "metadata": {
      "needs_background": "light",
      "tags": []
     },
     "output_type": "display_data"
    }
   ],
   "source": [
    "# # Part 2 - Fitting the CNN to the images\n",
    "cnn1,hist = make_fit_plot_model(make_cnn1,X_train,y_train,X_val,y_val)"
   ]
  },
  {
   "cell_type": "markdown",
   "metadata": {
    "id": "2r14qGFIVrfO"
   },
   "source": [
    "# Keras Callbacks\n",
    "\n"
   ]
  },
  {
   "cell_type": "markdown",
   "metadata": {
    "id": "JtTKy31agUb6"
   },
   "source": [
    "- [Official Callback documentation](https://keras.io/callbacks/)\n",
    "- CallBacks You'll Definitely Want to Use\n",
    " - `keras.callbacks.ModelCheckpoint`\n",
    " - `keras.callbacks.EarlyStopping`\n",
    "\n",
    "- Callbacks worth further exploration\n",
    " - `keras.callbacks.callbacks.LearningRateScheduler`\n",
    " - `keras.callbacks`"
   ]
  },
  {
   "cell_type": "code",
   "execution_count": 35,
   "metadata": {
    "colab": {
     "base_uri": "https://localhost:8080/"
    },
    "id": "xeaRqzEh9ntA",
    "outputId": "65970361-4b70-4044-b59f-0bf964be2344"
   },
   "outputs": [
    {
     "name": "stdout",
     "output_type": "stream",
     "text": [
      "CONTENTS OF FOLDER: '/gdrive/My Drive/Modeling':\n",
      "\tcats_vs_dogs\n",
      "\tchest_xrays\n"
     ]
    }
   ],
   "source": [
    "print_dir_contents('/gdrive/My Drive/Modeling')"
   ]
  },
  {
   "cell_type": "markdown",
   "metadata": {
    "id": "-EDI9EcwGUKl"
   },
   "source": [
    "### Adding callbacks"
   ]
  },
  {
   "cell_type": "code",
   "execution_count": 36,
   "metadata": {
    "colab": {
     "base_uri": "https://localhost:8080/"
    },
    "id": "TKzrIvPVOTys",
    "outputId": "25338ec1-bbf6-42d7-b33c-058d036dfb11"
   },
   "outputs": [
    {
     "name": "stdout",
     "output_type": "stream",
     "text": [
      "CONTENTS OF FOLDER: '/gdrive/My Drive/Modeling/cats_vs_dogs/':\n",
      "\tCNN1_model.json\n",
      "\tCNN1_weights.h5\n",
      "\texample.hdf5\n",
      "\texample_cnn.hdf\n",
      "\tmodel.json\n",
      "\tpretrained_cnn_model.hd5\n",
      "\tpretrained_cnn_model.json\n",
      "\tpretrained_cnn_model_weights.h5\n",
      "\tweights-improvement-01-0.03.hdf5\n",
      "\tweights-improvement-01-0.04.hdf5\n",
      "\tweights-improvement-01-0.05.hdf5\n",
      "\tweights-improvement-01-0.50.hdf5\n",
      "\tweights-improvement-01-0.51.hdf5\n",
      "\tweights-improvement-01-0.62.hdf5\n",
      "\tweights-improvement-01-0.63.hdf5\n",
      "\tweights-improvement-01-0.65.hdf5\n",
      "\tweights-improvement-01-0.66.hdf5\n",
      "\tweights-improvement-01-0.68.hdf5\n",
      "\tweights-improvement-01-0.69.hdf5\n",
      "\tweights-improvement-01-0.70.hdf5\n",
      "\tweights-improvement-02-0.03.hdf5\n",
      "\tweights-improvement-02-0.04.hdf5\n",
      "\tweights-improvement-02-0.54.hdf5\n",
      "\tweights-improvement-02-0.55.hdf5\n",
      "\tweights-improvement-02-0.56.hdf5\n",
      "\tweights-improvement-02-0.58.hdf5\n",
      "\tweights-improvement-02-0.59.hdf5\n",
      "\tweights-improvement-02-0.60.hdf5\n",
      "\tweights-improvement-02-0.61.hdf5\n",
      "\tweights-improvement-02-0.62.hdf5\n",
      "\tweights-improvement-02-0.63.hdf5\n",
      "\tweights-improvement-02-0.64.hdf5\n",
      "\tweights-improvement-02-0.65.hdf5\n",
      "\tweights-improvement-02-0.66.hdf5\n",
      "\tweights-improvement-02-0.67.hdf5\n",
      "\tweights-improvement-02-0.68.hdf5\n",
      "\tweights-improvement-02-0.69.hdf5\n",
      "\tweights-improvement-03-0.50.hdf5\n",
      "\tweights-improvement-03-0.51.hdf5\n",
      "\tweights-improvement-03-0.54.hdf5\n",
      "\tweights-improvement-03-0.55.hdf5\n",
      "\tweights-improvement-03-0.56.hdf5\n",
      "\tweights-improvement-03-0.59.hdf5\n",
      "\tweights-improvement-03-0.60.hdf5\n",
      "\tweights-improvement-03-0.61.hdf5\n",
      "\tweights-improvement-03-0.62.hdf5\n",
      "\tweights-improvement-03-0.63.hdf5\n",
      "\tweights-improvement-03-0.64.hdf5\n",
      "\tweights-improvement-03-0.65.hdf5\n",
      "\tweights-improvement-03-0.66.hdf5\n",
      "\tweights-improvement-03-0.67.hdf5\n",
      "\tweights-improvement-03-0.68.hdf5\n",
      "\tweights-improvement-03-0.69.hdf5\n",
      "\tweights-improvement-03-0.71.hdf5\n",
      "\tweights-improvement-04-0.52.hdf5\n",
      "\tweights-improvement-04-0.53.hdf5\n",
      "\tweights-improvement-04-0.56.hdf5\n",
      "\tweights-improvement-04-0.57.hdf5\n",
      "\tweights-improvement-04-0.58.hdf5\n",
      "\tweights-improvement-04-0.59.hdf5\n",
      "\tweights-improvement-04-0.60.hdf5\n",
      "\tweights-improvement-04-0.62.hdf5\n",
      "\tweights-improvement-04-0.63.hdf5\n",
      "\tweights-improvement-04-0.64.hdf5\n",
      "\tweights-improvement-04-0.65.hdf5\n",
      "\tweights-improvement-04-0.66.hdf5\n",
      "\tweights-improvement-04-0.67.hdf5\n",
      "\tweights-improvement-04-0.68.hdf5\n",
      "\tweights-improvement-04-0.69.hdf5\n",
      "\tweights-improvement-05-0.48.hdf5\n",
      "\tweights-improvement-05-0.49.hdf5\n",
      "\tweights-improvement-05-0.50.hdf5\n",
      "\tweights-improvement-05-0.51.hdf5\n",
      "\tweights-improvement-05-0.53.hdf5\n",
      "\tweights-improvement-05-0.55.hdf5\n",
      "\tweights-improvement-05-0.56.hdf5\n",
      "\tweights-improvement-05-0.57.hdf5\n",
      "\tweights-improvement-05-0.59.hdf5\n",
      "\tweights-improvement-05-0.64.hdf5\n",
      "\tweights-improvement-05-0.67.hdf5\n",
      "\tweights-improvement-06-0.46.hdf5\n",
      "\tweights-improvement-06-0.49.hdf5\n",
      "\tweights-improvement-06-0.50.hdf5\n",
      "\tweights-improvement-06-0.51.hdf5\n",
      "\tweights-improvement-06-0.52.hdf5\n",
      "\tweights-improvement-06-0.53.hdf5\n",
      "\tweights-improvement-06-0.54.hdf5\n",
      "\tweights-improvement-06-0.56.hdf5\n",
      "\tweights-improvement-06-0.63.hdf5\n",
      "\tweights-improvement-06-0.66.hdf5\n",
      "\tweights-improvement-07-0.44.hdf5\n",
      "\tweights-improvement-07-0.49.hdf5\n",
      "\tweights-improvement-07-0.50.hdf5\n",
      "\tweights-improvement-07-0.51.hdf5\n",
      "\tweights-improvement-07-0.53.hdf5\n",
      "\tweights-improvement-07-0.61.hdf5\n",
      "\tweights-improvement-07-0.62.hdf5\n",
      "\tweights-improvement-07-0.66.hdf5\n",
      "\tweights-improvement-08-0.49.hdf5\n",
      "\tweights-improvement-08-0.52.hdf5\n",
      "\tweights-improvement-08-0.60.hdf5\n",
      "\tweights-improvement-08-0.65.hdf5\n",
      "\tweights-improvement-09-0.46.hdf5\n",
      "\tweights-improvement-09-0.48.hdf5\n",
      "\tweights-improvement-09-0.49.hdf5\n",
      "\tweights-improvement-09-0.58.hdf5\n",
      "\tweights-improvement-09-0.59.hdf5\n",
      "\tweights-improvement-09-0.64.hdf5\n",
      "\tweights-improvement-10-0.44.hdf5\n",
      "\tweights-improvement-10-0.48.hdf5\n",
      "\tweights-improvement-10-0.57.hdf5\n",
      "\tweights-improvement-10-0.63.hdf5\n",
      "\tweights-improvement-11-0.55.hdf5\n",
      "\tweights-improvement-11-0.56.hdf5\n",
      "\tweights-improvement-11-0.63.hdf5\n",
      "\tweights-improvement-12-0.44.hdf5\n",
      "\tweights-improvement-12-0.46.hdf5\n",
      "\tweights-improvement-12-0.53.hdf5\n",
      "\tweights-improvement-12-0.54.hdf5\n",
      "\tweights-improvement-12-0.62.hdf5\n",
      "\tweights-improvement-13-0.43.hdf5\n",
      "\tweights-improvement-13-0.52.hdf5\n",
      "\tweights-improvement-13-0.61.hdf5\n",
      "\tweights-improvement-14-0.50.hdf5\n",
      "\tweights-improvement-14-0.51.hdf5\n",
      "\tweights-improvement-14-0.59.hdf5\n",
      "\tweights-improvement-15-0.48.hdf5\n",
      "\tweights-improvement-15-0.49.hdf5\n",
      "\tweights-improvement-15-0.58.hdf5\n",
      "\tweights-improvement-16-0.40.hdf5\n",
      "\tweights-improvement-16-0.46.hdf5\n",
      "\tweights-improvement-16-0.47.hdf5\n",
      "\tweights-improvement-16-0.57.hdf5\n",
      "\tweights-improvement-17-0.39.hdf5\n",
      "\tweights-improvement-17-0.45.hdf5\n",
      "\tweights-improvement-17-0.46.hdf5\n",
      "\tweights-improvement-17-0.56.hdf5\n",
      "\tweights-improvement-18-0.43.hdf5\n",
      "\tweights-improvement-18-0.44.hdf5\n",
      "\tweights-improvement-18-0.55.hdf5\n",
      "\tweights-improvement-19-0.41.hdf5\n",
      "\tweights-improvement-19-0.42.hdf5\n",
      "\tweights-improvement-19-0.54.hdf5\n",
      "\tweights-improvement-20-0.40.hdf5\n",
      "\tweights-improvement-20-0.41.hdf5\n",
      "\tweights-improvement-20-0.53.hdf5\n",
      "\tweights-improvement-21-0.38.hdf5\n",
      "\tweights-improvement-21-0.39.hdf5\n",
      "\tweights-improvement-22-0.36.hdf5\n",
      "\tweights-improvement-22-0.37.hdf5\n",
      "\tweights-improvement-23-0.35.hdf5\n",
      "\tweights-improvement-23-0.36.hdf5\n",
      "\tweights-improvement-24-0.33.hdf5\n",
      "\tweights-improvement-24-0.34.hdf5\n",
      "\tweights-improvement-25-0.32.hdf5\n",
      "\tweights-improvement-25-0.33.hdf5\n",
      "\tweights-improvement-26-0.30.hdf5\n",
      "\tweights-improvement-27-0.29.hdf5\n",
      "\tweights-improvement-28-0.28.hdf5\n",
      "\tweights-improvement-29-0.26.hdf5\n",
      "\tweights-improvement-30-0.25.hdf5\n",
      "\tweights-improvement-31-0.24.hdf5\n",
      "\tweights-improvement-32-0.23.hdf5\n",
      "\tweights-improvement-33-0.22.hdf5\n",
      "\tweights-improvement-34-0.21.hdf5\n",
      "\tweights-improvement-35-0.20.hdf5\n",
      "\tweights-improvement-36-0.19.hdf5\n",
      "\tweights-improvement-37-0.18.hdf5\n",
      "\tweights-improvement-38-0.17.hdf5\n",
      "\tweights-improvement-39-0.17.hdf5\n",
      "\tweights-improvement-40-0.16.hdf5\n",
      "\tweights-improvement-41-0.15.hdf5\n",
      "\tweights-improvement-42-0.15.hdf5\n",
      "\tweights-improvement-43-0.14.hdf5\n",
      "\tweights-improvement-44-0.13.hdf5\n",
      "\tweights-improvement-45-0.13.hdf5\n",
      "\tweights-improvement-46-0.12.hdf5\n",
      "\tweights-improvement-47-0.12.hdf5\n",
      "\tweights-improvement-48-0.12.hdf5\n",
      "\tweights-improvement-49-0.11.hdf5\n",
      "\tweights-improvement-50-0.11.hdf5\n"
     ]
    }
   ],
   "source": [
    "MODEL_FPATH = r'/gdrive/My Drive/Modeling/cats_vs_dogs/'\n",
    "os.makedirs(MODEL_FPATH,exist_ok=True)\n",
    "print_dir_contents(MODEL_FPATH)"
   ]
  },
  {
   "cell_type": "code",
   "execution_count": 37,
   "metadata": {
    "colab": {
     "base_uri": "https://localhost:8080/"
    },
    "id": "Fr9qe6-VGWQU",
    "outputId": "788006c9-171c-4168-da0e-d0dacedf074f"
   },
   "outputs": [
    {
     "data": {
      "text/plain": [
       "[<tensorflow.python.keras.callbacks.ModelCheckpoint at 0x7fad0baed2d0>,\n",
       " <tensorflow.python.keras.callbacks.EarlyStopping at 0x7fad0baedf10>]"
      ]
     },
     "execution_count": 37,
     "metadata": {
      "tags": []
     },
     "output_type": "execute_result"
    }
   ],
   "source": [
    "# checkpoint\n",
    "from tensorflow.keras.callbacks import ModelCheckpoint, EarlyStopping, CSVLogger\n",
    "\n",
    "def create_checkpoint(monitor='val_accuracy',model_subfolder=MODEL_FPATH):\n",
    "    \"\"\"Creates a ModelCheckpoint callback\n",
    "   filepath =  model_subfolder+ \"weights-improvement-{epoch:02d}-{\" + monitor + \":.2f}.hdf5\"\n",
    "    \"\"\"\n",
    "    filepath=model_subfolder+\"weights-improvement-{epoch:02d}-{\"+monitor+\":.2f}.hdf5\"\n",
    "\n",
    "    checkpoint = ModelCheckpoint(filepath, monitor=monitor, verbose=1,\n",
    "                                 save_best_only=True, mode='auto')\n",
    "    return checkpoint\n",
    "\n",
    "\n",
    "def create_early_stopping(monitor = 'val_accuracy',min_delta = 0.01, patience = 3,\n",
    "                          verbose = 1, restore_best_weights = True):\n",
    "    \"\"\"Creates an EarlyStopping callback\"\"\"\n",
    "    args = locals()\n",
    "    return EarlyStopping(**args)\n",
    "\n",
    "def create_csvlogger(filename):\n",
    "    return CSVLogger(filename, separator=',', append=False)\n",
    "\n",
    "\n",
    "def get_callbacks(checkpoints=True, early_stopping=True, modeling_folder=MODEL_FPATH,\n",
    "                  monitor_checkpoint='val_loss',monitor_stopping='val_loss',\n",
    "                  min_delta = 0.01, patience = 3, verbose = 1, restore_best_weights = True):\n",
    "    \"\"\"Returns a list of callbacks containing ModelCheckpoint (if checkpoints==True),\n",
    "    EarlyStopping (if early_stopping==True)\"\"\"\n",
    "    callbacks = []\n",
    "    if checkpoints:\n",
    "        callbacks.append( create_checkpoint(monitor=monitor_checkpoint,\n",
    "                                            model_subfolder=modeling_folder))\n",
    "    \n",
    "    if early_stopping:\n",
    "        callbacks.append( create_early_stopping(monitor=monitor_stopping, min_delta=min_delta,\n",
    "                                                patience=patience,verbose=verbose,\n",
    "                                                restore_best_weights=restore_best_weights))\n",
    "    return callbacks\n",
    "\n",
    "get_callbacks()"
   ]
  },
  {
   "cell_type": "markdown",
   "metadata": {
    "id": "392eHJbeFPNl"
   },
   "source": [
    "## Model 1 + Callbacks\n",
    "\n"
   ]
  },
  {
   "cell_type": "code",
   "execution_count": 38,
   "metadata": {
    "colab": {
     "base_uri": "https://localhost:8080/"
    },
    "id": "XoL5daY7WSnJ",
    "outputId": "cee3e97e-a6b3-4336-9d22-258464fcd812"
   },
   "outputs": [
    {
     "data": {
      "text/plain": [
       "[<tensorflow.python.keras.callbacks.ModelCheckpoint at 0x7fad0bd92850>,\n",
       " <tensorflow.python.keras.callbacks.EarlyStopping at 0x7fad0bd36d50>]"
      ]
     },
     "execution_count": 38,
     "metadata": {
      "tags": []
     },
     "output_type": "execute_result"
    }
   ],
   "source": [
    "\n",
    "callbacks_list = get_callbacks(monitor_checkpoint='val_loss',\n",
    "                               monitor_stopping='val_loss')\n",
    "callbacks_list \n"
   ]
  },
  {
   "cell_type": "code",
   "execution_count": 39,
   "metadata": {
    "colab": {
     "base_uri": "https://localhost:8080/",
     "height": 1000
    },
    "id": "BP9N-YmC8FQS",
    "outputId": "dde1902d-9f79-4bc9-c1bc-f1e6d7a1012c"
   },
   "outputs": [
    {
     "name": "stdout",
     "output_type": "stream",
     "text": [
      "------------------------------------------------------------\n",
      "[i] MODEL CREATED AT 06/04/21 - 21:40:14 PM\n",
      "------------------------------------------------------------\n",
      "\n",
      "\n",
      "Model: \"sequential_1\"\n",
      "_________________________________________________________________\n",
      "Layer (type)                 Output Shape              Param #   \n",
      "=================================================================\n",
      "conv2d_3 (Conv2D)            (None, 62, 62, 64)        1792      \n",
      "_________________________________________________________________\n",
      "conv2d_4 (Conv2D)            (None, 60, 60, 64)        36928     \n",
      "_________________________________________________________________\n",
      "max_pooling2d_2 (MaxPooling2 (None, 30, 30, 64)        0         \n",
      "_________________________________________________________________\n",
      "conv2d_5 (Conv2D)            (None, 28, 28, 32)        18464     \n",
      "_________________________________________________________________\n",
      "max_pooling2d_3 (MaxPooling2 (None, 14, 14, 32)        0         \n",
      "_________________________________________________________________\n",
      "flatten_1 (Flatten)          (None, 6272)              0         \n",
      "_________________________________________________________________\n",
      "dense_2 (Dense)              (None, 64)                401472    \n",
      "_________________________________________________________________\n",
      "dense_3 (Dense)              (None, 1)                 65        \n",
      "=================================================================\n",
      "Total params: 458,721\n",
      "Trainable params: 458,721\n",
      "Non-trainable params: 0\n",
      "_________________________________________________________________\n"
     ]
    },
    {
     "data": {
      "text/plain": [
       "None"
      ]
     },
     "metadata": {
      "tags": []
     },
     "output_type": "display_data"
    },
    {
     "name": "stdout",
     "output_type": "stream",
     "text": [
      "Epoch 1/20\n",
      "250/250 [==============================] - 3s 9ms/step - loss: 0.6890 - accuracy: 0.5410 - val_loss: 0.6835 - val_accuracy: 0.5400\n",
      "\n",
      "Epoch 00001: val_loss improved from inf to 0.68348, saving model to /gdrive/My Drive/Modeling/cats_vs_dogs/weights-improvement-01-0.68.hdf5\n",
      "Epoch 2/20\n",
      "250/250 [==============================] - 2s 8ms/step - loss: 0.6602 - accuracy: 0.6064 - val_loss: 0.6418 - val_accuracy: 0.6319\n",
      "\n",
      "Epoch 00002: val_loss improved from 0.68348 to 0.64185, saving model to /gdrive/My Drive/Modeling/cats_vs_dogs/weights-improvement-02-0.64.hdf5\n",
      "Epoch 3/20\n",
      "250/250 [==============================] - 2s 8ms/step - loss: 0.6218 - accuracy: 0.6530 - val_loss: 0.6267 - val_accuracy: 0.6631\n",
      "\n",
      "Epoch 00003: val_loss improved from 0.64185 to 0.62675, saving model to /gdrive/My Drive/Modeling/cats_vs_dogs/weights-improvement-03-0.63.hdf5\n",
      "Epoch 4/20\n",
      "250/250 [==============================] - 2s 8ms/step - loss: 0.5882 - accuracy: 0.6910 - val_loss: 0.6242 - val_accuracy: 0.6538\n",
      "\n",
      "Epoch 00004: val_loss improved from 0.62675 to 0.62417, saving model to /gdrive/My Drive/Modeling/cats_vs_dogs/weights-improvement-04-0.62.hdf5\n",
      "Epoch 5/20\n",
      "250/250 [==============================] - 2s 8ms/step - loss: 0.5291 - accuracy: 0.7351 - val_loss: 0.5872 - val_accuracy: 0.6931\n",
      "\n",
      "Epoch 00005: val_loss improved from 0.62417 to 0.58724, saving model to /gdrive/My Drive/Modeling/cats_vs_dogs/weights-improvement-05-0.59.hdf5\n",
      "Epoch 6/20\n",
      "250/250 [==============================] - 2s 8ms/step - loss: 0.4498 - accuracy: 0.7865 - val_loss: 0.5824 - val_accuracy: 0.7312\n",
      "\n",
      "Epoch 00006: val_loss improved from 0.58724 to 0.58238, saving model to /gdrive/My Drive/Modeling/cats_vs_dogs/weights-improvement-06-0.58.hdf5\n",
      "Epoch 7/20\n",
      "250/250 [==============================] - 2s 8ms/step - loss: 0.3741 - accuracy: 0.8278 - val_loss: 0.6065 - val_accuracy: 0.7262\n",
      "\n",
      "Epoch 00007: val_loss did not improve from 0.58238\n",
      "Epoch 8/20\n",
      "250/250 [==============================] - 2s 8ms/step - loss: 0.2767 - accuracy: 0.8811 - val_loss: 0.7231 - val_accuracy: 0.7006\n",
      "\n",
      "Epoch 00008: val_loss did not improve from 0.58238\n",
      "Restoring model weights from the end of the best epoch.\n",
      "Epoch 00008: early stopping\n",
      "\n",
      "[!] Training Completed AT 06/04/21 - 21:40:38 PM\n",
      "\n",
      "[i] Total Training Time: 0:00:23.971861\n"
     ]
    },
    {
     "data": {
      "image/png": "[encoded data removed]",
      "text/plain": [
       "<Figure size 432x288 with 1 Axes>"
      ]
     },
     "metadata": {
      "needs_background": "light",
      "tags": []
     },
     "output_type": "display_data"
    },
    {
     "data": {
      "image/png": "[encoded data removed]",
      "text/plain": [
       "<Figure size 432x288 with 1 Axes>"
      ]
     },
     "metadata": {
      "needs_background": "light",
      "tags": []
     },
     "output_type": "display_data"
    },
    {
     "name": "stdout",
     "output_type": "stream",
     "text": [
      "------------------------------------------------------------\n",
      "------------------------------------------------------------\n",
      "[i] Classification Report\n",
      "              precision    recall  f1-score   support\n",
      "\n",
      "         0.0       0.79      0.53      0.63       800\n",
      "         1.0       0.65      0.86      0.74       800\n",
      "\n",
      "    accuracy                           0.69      1600\n",
      "   macro avg       0.72      0.69      0.68      1600\n",
      "weighted avg       0.72      0.69      0.68      1600\n",
      "\n",
      "------------------------------------------------------------\n"
     ]
    },
    {
     "data": {
      "image/png": "[encoded data removed]",
      "text/plain": [
       "<Figure size 432x288 with 2 Axes>"
      ]
     },
     "metadata": {
      "needs_background": "light",
      "tags": []
     },
     "output_type": "display_data"
    }
   ],
   "source": [
    "cnn1,hist = make_fit_plot_model(make_cnn1,X_train,y_train,\n",
    "                                X_test,y_test,epochs=20,\n",
    "                                fit_kws=dict(callbacks=get_callbacks()))"
   ]
  },
  {
   "cell_type": "markdown",
   "metadata": {
    "id": "cQRgUjYrURGU"
   },
   "source": [
    "## Model 3: Adding CNN from Student Capstone\n",
    "- [Devin Belden](https://colab.research.google.com/drive/1YvckYAeV2Qtwk5vz0zlmHX7wO3d-uS7o?usp=sharing)"
   ]
  },
  {
   "cell_type": "code",
   "execution_count": 40,
   "metadata": {
    "id": "pM5yqXtiUYJp"
   },
   "outputs": [],
   "source": [
    "# def make_cnn_devin():\n",
    "#     model = models.Sequential()\n",
    "#     model.add(layers.Conv2D(32, (3, 3), activation='relu',\n",
    "#                             input_shape=(*IMG_SIZE,3)))\n",
    "#     model.add(layers.MaxPooling2D((2, 2)))\n",
    "#     model.add(layers.Dropout(0.3))\n",
    "\n",
    "#     model.add(layers.Conv2D(64, (5, 5), activation='relu'))\n",
    "#     model.add(layers.MaxPooling2D((2, 2)))\n",
    "#     model.add(layers.Dropout(0.3))\n",
    "\n",
    "#     model.add(layers.Conv2D(128, (3, 3), activation='relu'))\n",
    "#     model.add(layers.MaxPooling2D((2, 2)))\n",
    "#     model.add(layers.Dropout(0.3))\n",
    "\n",
    "#     # model.add(layers.Conv2D(256, (3, 3), activation='relu'))\n",
    "#     # model.add(layers.MaxPooling2D((2, 2)))\n",
    "#     # model.add(layers.Dropout(0.3))\n",
    "\n",
    "#     model.add(layers.Flatten())\n",
    "#     model.add(layers.Dense(64, activation='relu'))\n",
    "    \n",
    "#     # JMI\n",
    "#     model.add(layers.Dropout(0.2))\n",
    "#     model.add(layers.Dense(128, activation='relu'))\n",
    "#     # model.add(layers.Dense(256, activation='relu'))\n",
    "#     # model.add(layers.Dense(512, activation='relu'))\n",
    "#     model.add(layers.Dense(1, activation='sigmoid'))\n",
    "    \n",
    "#     model.compile(loss='binary_crossentropy',\n",
    "#                 optimizer=\"adam\",\n",
    "#                 metrics=['acc'])\n",
    "#     display(model.summary())\n",
    "#     return model\n",
    "\n",
    "\n",
    "# cnn2,hist2 = make_fit_plot_model(make_cnn_devin,X_train,y_train,X_val,y_val,\n",
    "#                                 epochs=30,fit_kws=dict(\n",
    "#                                     callbacks=get_callbacks()\n",
    "#                                 ))"
   ]
  },
  {
   "cell_type": "markdown",
   "metadata": {
    "id": "WMb1_uczEPqA"
   },
   "source": [
    "# LIME"
   ]
  },
  {
   "cell_type": "markdown",
   "metadata": {
    "id": "q9n-JX7ZoHSS"
   },
   "source": [
    "## Lime Resources\n",
    "- Package Repo: \n",
    "    - https://github.com/marcotcr/lime\n",
    "- Blog Post: \n",
    "    - https://towardsdatascience.com/interpretable-machine-learning-for-image-classification-with-lime-ea947e82ca13\n",
    "- Example: \n",
    "    - https://github.com/expectopatronum/code-snippets-blog/blob/master/python/201808_catdog_classifier_lime/analyse-cat-dog-classifier.ipynb"
   ]
  },
  {
   "cell_type": "code",
   "execution_count": 41,
   "metadata": {
    "colab": {
     "base_uri": "https://localhost:8080/"
    },
    "id": "qrU__u6nFaxM",
    "outputId": "1d259227-d1b2-4217-e60c-715349423280"
   },
   "outputs": [
    {
     "data": {
      "text/plain": [
       "{0: 'cats', 1: 'dogs'}"
      ]
     },
     "execution_count": 41,
     "metadata": {
      "tags": []
     },
     "output_type": "execute_result"
    }
   ],
   "source": [
    "class_lookup = {v:k for k,v in training_set.class_indices.items()}\n",
    "class_lookup"
   ]
  },
  {
   "cell_type": "code",
   "execution_count": 42,
   "metadata": {
    "colab": {
     "base_uri": "https://localhost:8080/"
    },
    "id": "d9TQLN4voJMX",
    "outputId": "411270d8-00c3-4e9e-cad9-ce550cf73df7"
   },
   "outputs": [
    {
     "name": "stdout",
     "output_type": "stream",
     "text": [
      "Collecting lime\n",
      "\u001b[?25l  Downloading https://files.pythonhosted.org/packages/f5/86/91a13127d83d793ecb50eb75e716f76e6eda809b6803c5a4ff462339789e/lime-0.2.0.1.tar.gz (275kB)\n",
      "\u001b[K     |████████████████████████████████| 276kB 5.3MB/s \n",
      "\u001b[?25hRequirement already satisfied: matplotlib in /usr/local/lib/python3.7/dist-packages (from lime) (3.2.2)\n",
      "Requirement already satisfied: numpy in /usr/local/lib/python3.7/dist-packages (from lime) (1.19.5)\n",
      "Requirement already satisfied: scipy in /usr/local/lib/python3.7/dist-packages (from lime) (1.4.1)\n",
      "Requirement already satisfied: tqdm in /usr/local/lib/python3.7/dist-packages (from lime) (4.41.1)\n",
      "Requirement already satisfied: scikit-learn>=0.18 in /usr/local/lib/python3.7/dist-packages (from lime) (0.22.2.post1)\n",
      "Requirement already satisfied: scikit-image>=0.12 in /usr/local/lib/python3.7/dist-packages (from lime) (0.16.2)\n",
      "Requirement already satisfied: kiwisolver>=1.0.1 in /usr/local/lib/python3.7/dist-packages (from matplotlib->lime) (1.3.1)\n",
      "Requirement already satisfied: pyparsing!=2.0.4,!=2.1.2,!=2.1.6,>=2.0.1 in /usr/local/lib/python3.7/dist-packages (from matplotlib->lime) (2.4.7)\n",
      "Requirement already satisfied: cycler>=0.10 in /usr/local/lib/python3.7/dist-packages (from matplotlib->lime) (0.10.0)\n",
      "Requirement already satisfied: python-dateutil>=2.1 in /usr/local/lib/python3.7/dist-packages (from matplotlib->lime) (2.8.1)\n",
      "Requirement already satisfied: joblib>=0.11 in /usr/local/lib/python3.7/dist-packages (from scikit-learn>=0.18->lime) (1.0.1)\n",
      "Requirement already satisfied: networkx>=2.0 in /usr/local/lib/python3.7/dist-packages (from scikit-image>=0.12->lime) (2.5.1)\n",
      "Requirement already satisfied: PyWavelets>=0.4.0 in /usr/local/lib/python3.7/dist-packages (from scikit-image>=0.12->lime) (1.1.1)\n",
      "Requirement already satisfied: pillow>=4.3.0 in /usr/local/lib/python3.7/dist-packages (from scikit-image>=0.12->lime) (7.1.2)\n",
      "Requirement already satisfied: imageio>=2.3.0 in /usr/local/lib/python3.7/dist-packages (from scikit-image>=0.12->lime) (2.4.1)\n",
      "Requirement already satisfied: six in /usr/local/lib/python3.7/dist-packages (from cycler>=0.10->matplotlib->lime) (1.15.0)\n",
      "Requirement already satisfied: decorator<5,>=4.3 in /usr/local/lib/python3.7/dist-packages (from networkx>=2.0->scikit-image>=0.12->lime) (4.4.2)\n",
      "Building wheels for collected packages: lime\n",
      "  Building wheel for lime (setup.py) ... \u001b[?25l\u001b[?25hdone\n",
      "  Created wheel for lime: filename=lime-0.2.0.1-cp37-none-any.whl size=283858 sha256=418e7601ab925fa518812398464c36d6aaf44b0c6a17220074cbdc14b40b68dc\n",
      "  Stored in directory: /root/.cache/pip/wheels/4c/4f/a5/0bc765457bd41378bf3ce8d17d7495369d6e7ca3b712c60c89\n",
      "Successfully built lime\n",
      "Installing collected packages: lime\n",
      "Successfully installed lime-0.2.0.1\n"
     ]
    }
   ],
   "source": [
    "!pip install lime"
   ]
  },
  {
   "cell_type": "code",
   "execution_count": 43,
   "metadata": {
    "colab": {
     "base_uri": "https://localhost:8080/"
    },
    "id": "zGfqKJVhEnEj",
    "outputId": "f994fac2-31d7-456e-d1d9-72cdcff98bdb"
   },
   "outputs": [
    {
     "data": {
      "text/plain": [
       "lime.lime_image.LimeImageExplainer"
      ]
     },
     "execution_count": 43,
     "metadata": {
      "tags": []
     },
     "output_type": "execute_result"
    }
   ],
   "source": [
    "import lime\n",
    "from lime import lime_image\n",
    "from lime import lime_base\n",
    "\n",
    "from lime.wrappers.scikit_image import SegmentationAlgorithm\n",
    "from skimage.segmentation import mark_boundaries\n",
    "lime_image.LimeImageExplainer"
   ]
  },
  {
   "cell_type": "code",
   "execution_count": 44,
   "metadata": {
    "colab": {
     "base_uri": "https://localhost:8080/",
     "height": 115
    },
    "id": "aH1BTOSSEZjV",
    "outputId": "30406324-a098-44b1-c34b-5df133fe7818"
   },
   "outputs": [
    {
     "name": "stdout",
     "output_type": "stream",
     "text": [
      "Image 7416 = dogs\n",
      "- Model Predicted dogs\n"
     ]
    },
    {
     "data": {
      "image/png": "[encoded data removed]",
      "text/plain": [
       "<PIL.Image.Image image mode=RGB size=64x64 at 0x7FAC4E068490>"
      ]
     },
     "execution_count": 44,
     "metadata": {
      "tags": []
     },
     "output_type": "execute_result"
    }
   ],
   "source": [
    "## Grabbing a random training image and label\n",
    "i = np.random.choice(range(len(y_train)))\n",
    "label = y_train[i]\n",
    "img = X_train[i]\n",
    "\n",
    "## Getting model prediction \n",
    "pred = cnn1.predict(np.array([img]))\n",
    "pred_class = int(pred.round())\n",
    "\n",
    "\n",
    "## Printing the true class, predicted class, and show image\n",
    "print(f\"Image {i} = {class_lookup[int(label)]}\")\n",
    "print(f\"- Model Predicted {class_lookup[pred_class]}\")\n",
    "array_to_img(img)"
   ]
  },
  {
   "cell_type": "code",
   "execution_count": 45,
   "metadata": {
    "colab": {
     "base_uri": "https://localhost:8080/",
     "height": 66,
     "referenced_widgets": [
      "c69ca76bc6ac4034a08dcd05968b4cb0",
      "b4e0175278174b13bb6e00799ef7dfc0",
      "90e2d935e72f4aaaa9a4b4a2f49ee602",
      "83beaddcd3f94f92a5325a3f17e4bac3",
      "85d8132c75a64dce801d362f7bf6d6d0",
      "5179f7278d7e4364865bfdcbeee00214",
      "a3853e340ec34f10b7a1a08eb7a568e8",
      "2d7c2d413546402794d420d163bbcd6d"
     ]
    },
    "id": "ojfJpD5yfHod",
    "outputId": "0c48cee1-1bb1-4347-bae4-c3649a3c460b"
   },
   "outputs": [
    {
     "data": {
      "application/vnd.jupyter.widget-view+json": {
       "model_id": "c69ca76bc6ac4034a08dcd05968b4cb0",
       "version_major": 2,
       "version_minor": 0
      },
      "text/plain": [
       "HBox(children=(FloatProgress(value=0.0, max=2000.0), HTML(value='')))"
      ]
     },
     "metadata": {
      "tags": []
     },
     "output_type": "display_data"
    },
    {
     "name": "stdout",
     "output_type": "stream",
     "text": [
      "\n"
     ]
    }
   ],
   "source": [
    "## Make an explainer\n",
    "explainer = lime_image.LimeImageExplainer()\n",
    "\n",
    "explanation = explainer.explain_instance(img, cnn1.predict, top_labels=2,\n",
    "                                         hide_color=None, num_samples=2000)"
   ]
  },
  {
   "cell_type": "code",
   "execution_count": 46,
   "metadata": {
    "colab": {
     "base_uri": "https://localhost:8080/",
     "height": 285
    },
    "id": "knw9UQz5FCHg",
    "outputId": "20d81ebb-040e-4cbb-93ba-20c3da20d31c"
   },
   "outputs": [
    {
     "data": {
      "text/plain": [
       "<matplotlib.image.AxesImage at 0x7fac17bd3e90>"
      ]
     },
     "execution_count": 46,
     "metadata": {
      "tags": []
     },
     "output_type": "execute_result"
    },
    {
     "data": {
      "image/png": "[encoded data removed]",
      "text/plain": [
       "<Figure size 432x288 with 1 Axes>"
      ]
     },
     "metadata": {
      "needs_background": "light",
      "tags": []
     },
     "output_type": "display_data"
    }
   ],
   "source": [
    "temp, mask = explanation.get_image_and_mask(explanation.top_labels[0], \n",
    "                                            positive_only=False,\n",
    "                                            num_features=5)\n",
    "                                            # hide_rest=True)\n",
    "plt.imshow(mark_boundaries(temp / 2 + 0.5, mask))\n"
   ]
  },
  {
   "cell_type": "markdown",
   "metadata": {
    "id": "dszu4vFoS2Mp"
   },
   "source": [
    "# Transfer Learning\n",
    "\n",
    "https://www.kaggle.com/risingdeveloper/transfer-learning-in-keras-on-dogs-vs-cats"
   ]
  },
  {
   "cell_type": "markdown",
   "metadata": {
    "id": "_0qlJUxlTXL0"
   },
   "source": [
    "\n",
    "\n",
    "- Pretrained networks have already been trained on large pools of data, and have their weights frozen.\n",
    "    - They enable deep learning on fairly small image datasets\n",
    "    - a 'small' dataset is less than tens of thousands or hundreds of thousands of images\n",
    "\n",
    "- Pretrained networks can be used in whole or only specific parts, depending on your need/data.\n",
    "    - The shallower the layer of neurons, the more generic its features are. \n",
    "        - Therefore even if you data is very different, you can still use the lower layers for basic feature extraction.\n",
    "    - The deeper the layer, the more abstract its features are.\n",
    "        - so you may want to unfreeze the deeper/higher order classificaiton layers and re-train the network on your images. \n",
    "<br><br>\n",
    "### Where to find the pre-trained networks\n",
    "- **Pretrained Networks are available in [Keras.applications](https://keras.io/applications/)**\n",
    "    - This list of pretained models are for image classification. \n",
    "        - DenseNet\n",
    "        - InceptionResNetV2\n",
    "        - InceptionV3\n",
    "        - MobileNet\n",
    "        - NASNet\n",
    "        - ResNet50\n",
    "        - VGG16\n",
    "        - *VGG19* - used in labs\n",
    "        - Xception\n",
    "\n",
    "    - You can import these networks and use it as a function with 2 arguments:\n",
    "        1. `weights`\n",
    "            - Determines which data source's training data weights to use.\n",
    "            - ex:  `weights='imagenet'\n",
    "        2. `include_top`\n",
    "            - determines whetehr or not to include the fully-connected layer at the top of the network\n",
    "```python\n",
    "from keras.applications import MobileNet\n",
    "conv_base = MobileNet(weights='imagenet', include_top=True)\n",
    "```\n",
    "\n",
    "### How to use pretrained networks for feature extraction or for fine-tuning\n",
    "\n",
    "**You'll learn about two ways to use pre-trained networks:**\n",
    "- **Feature extraction**: here, you use the representations learned by a previous network to extract interesting features from new samples. \n",
    "    - Method 1) Use the convolutional base layers and run your data to detect the basic features, and save the output data, which is then run a new dense classifier, which is trained from scratch.  \n",
    "        - (+) It is fast\n",
    "        - (-) but cant use data augmentation. \n",
    "        - Note:  If your images are very different from the pretraining datasets, you may want to only use _part_ of the convolutional base but a _new_ densely connected classifier\n",
    "    - Method 2) Extend the conv_base by adding dense layers on top, running everything together. \n",
    "        - (+) allows for data sugmentation\n",
    "        - (-) extremely time-consuming and requires GPU\n",
    "  \n",
    "- **Fine-tuning**: when finetuning, you'll \"unfreeze\" a few top layers from the convolutional base of the model and train them again together with the densely connected classifier layers of the model. \n",
    "    - Note that you are changing the parts of the convolutional layers here that were used to detect the more abstract features.\n",
    "    - By doing this, you can make your model more relevant for the classification problem at hand.\n",
    "\n",
    "## Additional Resources\n",
    "\n",
    "* http://cs231n.stanford.edu/syllabus.html\n",
    "* https://www.dlology.com/blog/gentle-guide-on-how-yolo-object-localization-works-with-keras/\n",
    "* https://www.dlology.com/blog/gentle-guide-on-how-yolo-object-localization-works-with-keras-part-2/\n"
   ]
  },
  {
   "cell_type": "code",
   "execution_count": 46,
   "metadata": {
    "id": "8D-8EifI_1Lr"
   },
   "outputs": [],
   "source": []
  },
  {
   "cell_type": "code",
   "execution_count": 47,
   "metadata": {
    "colab": {
     "base_uri": "https://localhost:8080/"
    },
    "id": "TjBhwBGtTXL0",
    "outputId": "1fb76df3-920a-468d-b9a9-9aff4ef1f892"
   },
   "outputs": [
    {
     "name": "stdout",
     "output_type": "stream",
     "text": [
      "Downloading data from https://storage.googleapis.com/tensorflow/keras-applications/mobilenet/mobilenet_1_0_224_tf.h5\n",
      "17227776/17225924 [==============================] - 0s 0us/step\n",
      "Model: \"mobilenet_1.00_224\"\n",
      "_________________________________________________________________\n",
      "Layer (type)                 Output Shape              Param #   \n",
      "=================================================================\n",
      "input_1 (InputLayer)         [(None, 224, 224, 3)]     0         \n",
      "_________________________________________________________________\n",
      "conv1 (Conv2D)               (None, 112, 112, 32)      864       \n",
      "_________________________________________________________________\n",
      "conv1_bn (BatchNormalization (None, 112, 112, 32)      128       \n",
      "_________________________________________________________________\n",
      "conv1_relu (ReLU)            (None, 112, 112, 32)      0         \n",
      "_________________________________________________________________\n",
      "conv_dw_1 (DepthwiseConv2D)  (None, 112, 112, 32)      288       \n",
      "_________________________________________________________________\n",
      "conv_dw_1_bn (BatchNormaliza (None, 112, 112, 32)      128       \n",
      "_________________________________________________________________\n",
      "conv_dw_1_relu (ReLU)        (None, 112, 112, 32)      0         \n",
      "_________________________________________________________________\n",
      "conv_pw_1 (Conv2D)           (None, 112, 112, 64)      2048      \n",
      "_________________________________________________________________\n",
      "conv_pw_1_bn (BatchNormaliza (None, 112, 112, 64)      256       \n",
      "_________________________________________________________________\n",
      "conv_pw_1_relu (ReLU)        (None, 112, 112, 64)      0         \n",
      "_________________________________________________________________\n",
      "conv_pad_2 (ZeroPadding2D)   (None, 113, 113, 64)      0         \n",
      "_________________________________________________________________\n",
      "conv_dw_2 (DepthwiseConv2D)  (None, 56, 56, 64)        576       \n",
      "_________________________________________________________________\n",
      "conv_dw_2_bn (BatchNormaliza (None, 56, 56, 64)        256       \n",
      "_________________________________________________________________\n",
      "conv_dw_2_relu (ReLU)        (None, 56, 56, 64)        0         \n",
      "_________________________________________________________________\n",
      "conv_pw_2 (Conv2D)           (None, 56, 56, 128)       8192      \n",
      "_________________________________________________________________\n",
      "conv_pw_2_bn (BatchNormaliza (None, 56, 56, 128)       512       \n",
      "_________________________________________________________________\n",
      "conv_pw_2_relu (ReLU)        (None, 56, 56, 128)       0         \n",
      "_________________________________________________________________\n",
      "conv_dw_3 (DepthwiseConv2D)  (None, 56, 56, 128)       1152      \n",
      "_________________________________________________________________\n",
      "conv_dw_3_bn (BatchNormaliza (None, 56, 56, 128)       512       \n",
      "_________________________________________________________________\n",
      "conv_dw_3_relu (ReLU)        (None, 56, 56, 128)       0         \n",
      "_________________________________________________________________\n",
      "conv_pw_3 (Conv2D)           (None, 56, 56, 128)       16384     \n",
      "_________________________________________________________________\n",
      "conv_pw_3_bn (BatchNormaliza (None, 56, 56, 128)       512       \n",
      "_________________________________________________________________\n",
      "conv_pw_3_relu (ReLU)        (None, 56, 56, 128)       0         \n",
      "_________________________________________________________________\n",
      "conv_pad_4 (ZeroPadding2D)   (None, 57, 57, 128)       0         \n",
      "_________________________________________________________________\n",
      "conv_dw_4 (DepthwiseConv2D)  (None, 28, 28, 128)       1152      \n",
      "_________________________________________________________________\n",
      "conv_dw_4_bn (BatchNormaliza (None, 28, 28, 128)       512       \n",
      "_________________________________________________________________\n",
      "conv_dw_4_relu (ReLU)        (None, 28, 28, 128)       0         \n",
      "_________________________________________________________________\n",
      "conv_pw_4 (Conv2D)           (None, 28, 28, 256)       32768     \n",
      "_________________________________________________________________\n",
      "conv_pw_4_bn (BatchNormaliza (None, 28, 28, 256)       1024      \n",
      "_________________________________________________________________\n",
      "conv_pw_4_relu (ReLU)        (None, 28, 28, 256)       0         \n",
      "_________________________________________________________________\n",
      "conv_dw_5 (DepthwiseConv2D)  (None, 28, 28, 256)       2304      \n",
      "_________________________________________________________________\n",
      "conv_dw_5_bn (BatchNormaliza (None, 28, 28, 256)       1024      \n",
      "_________________________________________________________________\n",
      "conv_dw_5_relu (ReLU)        (None, 28, 28, 256)       0         \n",
      "_________________________________________________________________\n",
      "conv_pw_5 (Conv2D)           (None, 28, 28, 256)       65536     \n",
      "_________________________________________________________________\n",
      "conv_pw_5_bn (BatchNormaliza (None, 28, 28, 256)       1024      \n",
      "_________________________________________________________________\n",
      "conv_pw_5_relu (ReLU)        (None, 28, 28, 256)       0         \n",
      "_________________________________________________________________\n",
      "conv_pad_6 (ZeroPadding2D)   (None, 29, 29, 256)       0         \n",
      "_________________________________________________________________\n",
      "conv_dw_6 (DepthwiseConv2D)  (None, 14, 14, 256)       2304      \n",
      "_________________________________________________________________\n",
      "conv_dw_6_bn (BatchNormaliza (None, 14, 14, 256)       1024      \n",
      "_________________________________________________________________\n",
      "conv_dw_6_relu (ReLU)        (None, 14, 14, 256)       0         \n",
      "_________________________________________________________________\n",
      "conv_pw_6 (Conv2D)           (None, 14, 14, 512)       131072    \n",
      "_________________________________________________________________\n",
      "conv_pw_6_bn (BatchNormaliza (None, 14, 14, 512)       2048      \n",
      "_________________________________________________________________\n",
      "conv_pw_6_relu (ReLU)        (None, 14, 14, 512)       0         \n",
      "_________________________________________________________________\n",
      "conv_dw_7 (DepthwiseConv2D)  (None, 14, 14, 512)       4608      \n",
      "_________________________________________________________________\n",
      "conv_dw_7_bn (BatchNormaliza (None, 14, 14, 512)       2048      \n",
      "_________________________________________________________________\n",
      "conv_dw_7_relu (ReLU)        (None, 14, 14, 512)       0         \n",
      "_________________________________________________________________\n",
      "conv_pw_7 (Conv2D)           (None, 14, 14, 512)       262144    \n",
      "_________________________________________________________________\n",
      "conv_pw_7_bn (BatchNormaliza (None, 14, 14, 512)       2048      \n",
      "_________________________________________________________________\n",
      "conv_pw_7_relu (ReLU)        (None, 14, 14, 512)       0         \n",
      "_________________________________________________________________\n",
      "conv_dw_8 (DepthwiseConv2D)  (None, 14, 14, 512)       4608      \n",
      "_________________________________________________________________\n",
      "conv_dw_8_bn (BatchNormaliza (None, 14, 14, 512)       2048      \n",
      "_________________________________________________________________\n",
      "conv_dw_8_relu (ReLU)        (None, 14, 14, 512)       0         \n",
      "_________________________________________________________________\n",
      "conv_pw_8 (Conv2D)           (None, 14, 14, 512)       262144    \n",
      "_________________________________________________________________\n",
      "conv_pw_8_bn (BatchNormaliza (None, 14, 14, 512)       2048      \n",
      "_________________________________________________________________\n",
      "conv_pw_8_relu (ReLU)        (None, 14, 14, 512)       0         \n",
      "_________________________________________________________________\n",
      "conv_dw_9 (DepthwiseConv2D)  (None, 14, 14, 512)       4608      \n",
      "_________________________________________________________________\n",
      "conv_dw_9_bn (BatchNormaliza (None, 14, 14, 512)       2048      \n",
      "_________________________________________________________________\n",
      "conv_dw_9_relu (ReLU)        (None, 14, 14, 512)       0         \n",
      "_________________________________________________________________\n",
      "conv_pw_9 (Conv2D)           (None, 14, 14, 512)       262144    \n",
      "_________________________________________________________________\n",
      "conv_pw_9_bn (BatchNormaliza (None, 14, 14, 512)       2048      \n",
      "_________________________________________________________________\n",
      "conv_pw_9_relu (ReLU)        (None, 14, 14, 512)       0         \n",
      "_________________________________________________________________\n",
      "conv_dw_10 (DepthwiseConv2D) (None, 14, 14, 512)       4608      \n",
      "_________________________________________________________________\n",
      "conv_dw_10_bn (BatchNormaliz (None, 14, 14, 512)       2048      \n",
      "_________________________________________________________________\n",
      "conv_dw_10_relu (ReLU)       (None, 14, 14, 512)       0         \n",
      "_________________________________________________________________\n",
      "conv_pw_10 (Conv2D)          (None, 14, 14, 512)       262144    \n",
      "_________________________________________________________________\n",
      "conv_pw_10_bn (BatchNormaliz (None, 14, 14, 512)       2048      \n",
      "_________________________________________________________________\n",
      "conv_pw_10_relu (ReLU)       (None, 14, 14, 512)       0         \n",
      "_________________________________________________________________\n",
      "conv_dw_11 (DepthwiseConv2D) (None, 14, 14, 512)       4608      \n",
      "_________________________________________________________________\n",
      "conv_dw_11_bn (BatchNormaliz (None, 14, 14, 512)       2048      \n",
      "_________________________________________________________________\n",
      "conv_dw_11_relu (ReLU)       (None, 14, 14, 512)       0         \n",
      "_________________________________________________________________\n",
      "conv_pw_11 (Conv2D)          (None, 14, 14, 512)       262144    \n",
      "_________________________________________________________________\n",
      "conv_pw_11_bn (BatchNormaliz (None, 14, 14, 512)       2048      \n",
      "_________________________________________________________________\n",
      "conv_pw_11_relu (ReLU)       (None, 14, 14, 512)       0         \n",
      "_________________________________________________________________\n",
      "conv_pad_12 (ZeroPadding2D)  (None, 15, 15, 512)       0         \n",
      "_________________________________________________________________\n",
      "conv_dw_12 (DepthwiseConv2D) (None, 7, 7, 512)         4608      \n",
      "_________________________________________________________________\n",
      "conv_dw_12_bn (BatchNormaliz (None, 7, 7, 512)         2048      \n",
      "_________________________________________________________________\n",
      "conv_dw_12_relu (ReLU)       (None, 7, 7, 512)         0         \n",
      "_________________________________________________________________\n",
      "conv_pw_12 (Conv2D)          (None, 7, 7, 1024)        524288    \n",
      "_________________________________________________________________\n",
      "conv_pw_12_bn (BatchNormaliz (None, 7, 7, 1024)        4096      \n",
      "_________________________________________________________________\n",
      "conv_pw_12_relu (ReLU)       (None, 7, 7, 1024)        0         \n",
      "_________________________________________________________________\n",
      "conv_dw_13 (DepthwiseConv2D) (None, 7, 7, 1024)        9216      \n",
      "_________________________________________________________________\n",
      "conv_dw_13_bn (BatchNormaliz (None, 7, 7, 1024)        4096      \n",
      "_________________________________________________________________\n",
      "conv_dw_13_relu (ReLU)       (None, 7, 7, 1024)        0         \n",
      "_________________________________________________________________\n",
      "conv_pw_13 (Conv2D)          (None, 7, 7, 1024)        1048576   \n",
      "_________________________________________________________________\n",
      "conv_pw_13_bn (BatchNormaliz (None, 7, 7, 1024)        4096      \n",
      "_________________________________________________________________\n",
      "conv_pw_13_relu (ReLU)       (None, 7, 7, 1024)        0         \n",
      "_________________________________________________________________\n",
      "global_average_pooling2d (Gl (None, 1024)              0         \n",
      "_________________________________________________________________\n",
      "reshape_1 (Reshape)          (None, 1, 1, 1024)        0         \n",
      "_________________________________________________________________\n",
      "dropout (Dropout)            (None, 1, 1, 1024)        0         \n",
      "_________________________________________________________________\n",
      "conv_preds (Conv2D)          (None, 1, 1, 1000)        1025000   \n",
      "_________________________________________________________________\n",
      "reshape_2 (Reshape)          (None, 1000)              0         \n",
      "_________________________________________________________________\n",
      "predictions (Activation)     (None, 1000)              0         \n",
      "=================================================================\n",
      "Total params: 4,253,864\n",
      "Trainable params: 4,231,976\n",
      "Non-trainable params: 21,888\n",
      "_________________________________________________________________\n"
     ]
    }
   ],
   "source": [
    "from tensorflow.keras.applications import MobileNet\n",
    "conv_base = MobileNet(weights='imagenet',\n",
    "                  include_top = True)\n",
    "conv_base.summary()"
   ]
  },
  {
   "cell_type": "code",
   "execution_count": 47,
   "metadata": {
    "id": "vEPEEqMLs-sV"
   },
   "outputs": [],
   "source": []
  },
  {
   "cell_type": "code",
   "execution_count": 48,
   "metadata": {
    "colab": {
     "base_uri": "https://localhost:8080/"
    },
    "id": "WVcgqQefmBgY",
    "outputId": "45b63299-682c-4494-8648-95990565f5b7"
   },
   "outputs": [
    {
     "name": "stdout",
     "output_type": "stream",
     "text": [
      "WARNING:tensorflow:`input_shape` is undefined or non-square, or `rows` is not in [128, 160, 192, 224]. Weights for input shape (224, 224) will be loaded as the default.\n",
      "Downloading data from https://storage.googleapis.com/tensorflow/keras-applications/mobilenet/mobilenet_1_0_224_tf_no_top.h5\n",
      "17227776/17225924 [==============================] - 0s 0us/step\n"
     ]
    }
   ],
   "source": [
    "## Making a Sequential model on top of the conv_base\n",
    "model = models.Sequential()\n",
    "conv_base = MobileNet(input_shape=(*IMG_SIZE,3),weights='imagenet',\n",
    "                include_top = False)\n",
    "model.add(conv_base)\n",
    "model.add(layers.Flatten())\n",
    "model.add(layers.Dense(32, activation='relu'))#256\n",
    "model.add(layers.Dense(1, activation='sigmoid'))  #Sigmoid function at the end because we have just two classes"
   ]
  },
  {
   "cell_type": "code",
   "execution_count": 49,
   "metadata": {
    "ExecuteTime": {
     "end_time": "2020-02-13T16:28:48.798283Z",
     "start_time": "2020-02-13T16:28:48.794242Z"
    },
    "colab": {
     "base_uri": "https://localhost:8080/"
    },
    "id": "ave6CZillbSm",
    "outputId": "e5777c60-5b12-42f7-f695-cd98a190e608"
   },
   "outputs": [
    {
     "name": "stdout",
     "output_type": "stream",
     "text": [
      "Number of trainable weights before freezing the conv base: 85\n",
      "Number of trainable weights after freezing the conv base: 4\n"
     ]
    }
   ],
   "source": [
    "print('Number of trainable weights before freezing the conv base:', len(model.trainable_weights))\n",
    "conv_base.trainable = False\n",
    "print('Number of trainable weights after freezing the conv base:', len(model.trainable_weights))"
   ]
  },
  {
   "cell_type": "code",
   "execution_count": 57,
   "metadata": {
    "ExecuteTime": {
     "end_time": "2020-02-13T16:28:48.792947Z",
     "start_time": "2020-02-13T16:28:41.304826Z"
    },
    "id": "TKkdHFLxlbSj"
   },
   "outputs": [],
   "source": [
    "from tensorflow.keras import layers\n",
    "from tensorflow.keras import models\n",
    "from tensorflow.keras import optimizers\n",
    "\n",
    "def make_transfer_learning():\n",
    "    model = models.Sequential()\n",
    "    conv_base = MobileNet(weights='imagenet',input_shape=(*IMG_SIZE,3),\n",
    "                    include_top = False)\n",
    "    conv_base.trainable = False\n",
    "    model.add(conv_base)\n",
    "    model.add(layers.Flatten())\n",
    "    model.add(layers.Dense(64, activation='relu'))#256\n",
    "    model.add(layers.Dense(1, activation='sigmoid'))  #Sigmoid function at the end because we have just two classes\n",
    "    model.compile(loss='binary_crossentropy', optimizer=optimizers.RMSprop(lr=2e-5), metrics=['accuracy'])\n",
    "    return model\n"
   ]
  },
  {
   "cell_type": "code",
   "execution_count": 58,
   "metadata": {
    "colab": {
     "base_uri": "https://localhost:8080/",
     "height": 1000
    },
    "id": "yTpkLW8ziJVL",
    "outputId": "709a66c3-f96f-4fac-f547-a3c3ff834c3f"
   },
   "outputs": [
    {
     "name": "stdout",
     "output_type": "stream",
     "text": [
      "------------------------------------------------------------\n",
      "[i] MODEL CREATED AT 06/04/21 - 21:43:42 PM\n",
      "------------------------------------------------------------\n",
      "\n",
      "WARNING:tensorflow:`input_shape` is undefined or non-square, or `rows` is not in [128, 160, 192, 224]. Weights for input shape (224, 224) will be loaded as the default.\n"
     ]
    },
    {
     "name": "stderr",
     "output_type": "stream",
     "text": [
      "/usr/local/lib/python3.7/dist-packages/tensorflow/python/keras/optimizer_v2/optimizer_v2.py:375: UserWarning: The `lr` argument is deprecated, use `learning_rate` instead.\n",
      "  \"The `lr` argument is deprecated, use `learning_rate` instead.\")\n"
     ]
    },
    {
     "name": "stdout",
     "output_type": "stream",
     "text": [
      "Epoch 1/25\n",
      "250/250 [==============================] - 4s 10ms/step - loss: 0.5958 - accuracy: 0.6995 - val_loss: 0.4525 - val_accuracy: 0.7987\n",
      "\n",
      "Epoch 00001: val_loss improved from inf to 0.45245, saving model to /gdrive/My Drive/Modeling/cats_vs_dogs/weights-improvement-01-0.45.hdf5\n",
      "Epoch 2/25\n",
      "250/250 [==============================] - 2s 8ms/step - loss: 0.4212 - accuracy: 0.8008 - val_loss: 0.4103 - val_accuracy: 0.8094\n",
      "\n",
      "Epoch 00002: val_loss improved from 0.45245 to 0.41028, saving model to /gdrive/My Drive/Modeling/cats_vs_dogs/weights-improvement-02-0.41.hdf5\n",
      "Epoch 3/25\n",
      "250/250 [==============================] - 2s 8ms/step - loss: 0.3708 - accuracy: 0.8306 - val_loss: 0.3912 - val_accuracy: 0.8281\n",
      "\n",
      "Epoch 00003: val_loss improved from 0.41028 to 0.39124, saving model to /gdrive/My Drive/Modeling/cats_vs_dogs/weights-improvement-03-0.39.hdf5\n",
      "Epoch 4/25\n",
      "250/250 [==============================] - 2s 8ms/step - loss: 0.3371 - accuracy: 0.8495 - val_loss: 0.3809 - val_accuracy: 0.8344\n",
      "\n",
      "Epoch 00004: val_loss improved from 0.39124 to 0.38087, saving model to /gdrive/My Drive/Modeling/cats_vs_dogs/weights-improvement-04-0.38.hdf5\n",
      "Epoch 5/25\n",
      "250/250 [==============================] - 2s 8ms/step - loss: 0.3094 - accuracy: 0.8660 - val_loss: 0.3746 - val_accuracy: 0.8400\n",
      "\n",
      "Epoch 00005: val_loss improved from 0.38087 to 0.37460, saving model to /gdrive/My Drive/Modeling/cats_vs_dogs/weights-improvement-05-0.37.hdf5\n",
      "Epoch 6/25\n",
      "250/250 [==============================] - 2s 8ms/step - loss: 0.2866 - accuracy: 0.8764 - val_loss: 0.3700 - val_accuracy: 0.8413\n",
      "\n",
      "Epoch 00006: val_loss improved from 0.37460 to 0.37003, saving model to /gdrive/My Drive/Modeling/cats_vs_dogs/weights-improvement-06-0.37.hdf5\n",
      "Epoch 7/25\n",
      "250/250 [==============================] - 2s 8ms/step - loss: 0.2669 - accuracy: 0.8869 - val_loss: 0.3655 - val_accuracy: 0.8394\n",
      "\n",
      "Epoch 00007: val_loss improved from 0.37003 to 0.36551, saving model to /gdrive/My Drive/Modeling/cats_vs_dogs/weights-improvement-07-0.37.hdf5\n",
      "Epoch 8/25\n",
      "250/250 [==============================] - 2s 8ms/step - loss: 0.2500 - accuracy: 0.8967 - val_loss: 0.3690 - val_accuracy: 0.8413\n",
      "\n",
      "Epoch 00008: val_loss did not improve from 0.36551\n",
      "Epoch 9/25\n",
      "250/250 [==============================] - 2s 8ms/step - loss: 0.2344 - accuracy: 0.9056 - val_loss: 0.3661 - val_accuracy: 0.8456\n",
      "\n",
      "Epoch 00009: val_loss did not improve from 0.36551\n",
      "Restoring model weights from the end of the best epoch.\n",
      "Epoch 00009: early stopping\n",
      "\n",
      "[!] Training Completed AT 06/04/21 - 21:44:05 PM\n",
      "\n",
      "[i] Total Training Time: 0:00:23.478029\n"
     ]
    },
    {
     "data": {
      "image/png": "[encoded data removed]",
      "text/plain": [
       "<Figure size 432x288 with 1 Axes>"
      ]
     },
     "metadata": {
      "needs_background": "light",
      "tags": []
     },
     "output_type": "display_data"
    },
    {
     "data": {
      "image/png": "[encoded data removed]",
      "text/plain": [
       "<Figure size 432x288 with 1 Axes>"
      ]
     },
     "metadata": {
      "needs_background": "light",
      "tags": []
     },
     "output_type": "display_data"
    },
    {
     "name": "stdout",
     "output_type": "stream",
     "text": [
      "------------------------------------------------------------\n",
      "------------------------------------------------------------\n",
      "[i] Classification Report\n",
      "              precision    recall  f1-score   support\n",
      "\n",
      "         0.0       0.84      0.84      0.84       800\n",
      "         1.0       0.84      0.84      0.84       800\n",
      "\n",
      "    accuracy                           0.84      1600\n",
      "   macro avg       0.84      0.84      0.84      1600\n",
      "weighted avg       0.84      0.84      0.84      1600\n",
      "\n",
      "------------------------------------------------------------\n"
     ]
    },
    {
     "data": {
      "image/png": "[encoded data removed]",
      "text/plain": [
       "<Figure size 432x288 with 2 Axes>"
      ]
     },
     "metadata": {
      "needs_background": "light",
      "tags": []
     },
     "output_type": "display_data"
    }
   ],
   "source": [
    "cnn_transfer,hist_transfer = make_fit_plot_model(make_transfer_learning,X_train,y_train,\n",
    "                                X_test,y_test,epochs=25,\n",
    "                                fit_kws=dict(callbacks=get_callbacks()))"
   ]
  },
  {
   "cell_type": "markdown",
   "metadata": {
    "id": "x9JNoGslqyRB"
   },
   "source": [
    "# SAVING AND LOADING MODELS"
   ]
  },
  {
   "cell_type": "code",
   "execution_count": 59,
   "metadata": {
    "colab": {
     "base_uri": "https://localhost:8080/",
     "height": 35
    },
    "id": "X-S7-cdxTMO6",
    "outputId": "ba93015d-b325-4030-db4e-fe302ae9a828"
   },
   "outputs": [
    {
     "data": {
      "application/vnd.google.colaboratory.intrinsic+json": {
       "type": "string"
      },
      "text/plain": [
       "'/gdrive/My Drive/Modeling/cats_vs_dogs/pretrained_cnn_model.hd5'"
      ]
     },
     "execution_count": 59,
     "metadata": {
      "tags": []
     },
     "output_type": "execute_result"
    }
   ],
   "source": [
    "# ## SAVING THE FULL MODEL\n",
    "cnn_fpath = MODEL_FPATH+'pretrained_cnn_model.hd5'\n",
    "cnn_fpath"
   ]
  },
  {
   "cell_type": "code",
   "execution_count": 60,
   "metadata": {
    "colab": {
     "base_uri": "https://localhost:8080/"
    },
    "id": "VEbL0RXlJRUs",
    "outputId": "4126b720-dcd1-497e-e759-343ba0be7d9f"
   },
   "outputs": [
    {
     "name": "stderr",
     "output_type": "stream",
     "text": [
      "WARNING:absl:Function `_wrapped_model` contains input name(s) mobilenet_1.00_224_input with unsupported characters which will be renamed to mobilenet_1_00_224_input in the SavedModel.\n"
     ]
    },
    {
     "name": "stdout",
     "output_type": "stream",
     "text": [
      "INFO:tensorflow:Assets written to: /gdrive/My Drive/Modeling/cats_vs_dogs/pretrained_cnn_model.hd5/assets\n"
     ]
    },
    {
     "name": "stderr",
     "output_type": "stream",
     "text": [
      "INFO:tensorflow:Assets written to: /gdrive/My Drive/Modeling/cats_vs_dogs/pretrained_cnn_model.hd5/assets\n"
     ]
    }
   ],
   "source": [
    "## Saving the model\n",
    "cnn_transfer.save(cnn_fpath)#MODEL_FPATH+'pretrained_cnn_model.hd5')"
   ]
  },
  {
   "cell_type": "code",
   "execution_count": 61,
   "metadata": {
    "colab": {
     "base_uri": "https://localhost:8080/"
    },
    "id": "WocpRBOtVm5f",
    "outputId": "bf171646-340b-4ae8-afc6-34818fc7df19"
   },
   "outputs": [
    {
     "data": {
      "text/plain": [
       "array([[0.02757827],\n",
       "       [0.96034986],\n",
       "       [0.41734257],\n",
       "       ...,\n",
       "       [0.23932709],\n",
       "       [0.01479258],\n",
       "       [0.00474696]], dtype=float32)"
      ]
     },
     "execution_count": 61,
     "metadata": {
      "tags": []
     },
     "output_type": "execute_result"
    }
   ],
   "source": [
    "from tensorflow.keras.models import load_model\n",
    "cnn_loaded = load_model(cnn_fpath)#MODEL_FPATH+'pretrained_cnn_model.hdf')\n",
    "y_hat_test_loaded = cnn_loaded.predict(X_test)\n",
    "y_hat_test_loaded"
   ]
  },
  {
   "cell_type": "code",
   "execution_count": 62,
   "metadata": {
    "colab": {
     "base_uri": "https://localhost:8080/",
     "height": 500
    },
    "id": "iPYxyJSOWvZJ",
    "outputId": "5952b94c-6a4b-406c-85a5-3e9806a23965"
   },
   "outputs": [
    {
     "name": "stdout",
     "output_type": "stream",
     "text": [
      "------------------------------------------------------------\n",
      "------------------------------------------------------------\n",
      "[i] Classification Report\n",
      "              precision    recall  f1-score   support\n",
      "\n",
      "         0.0       0.84      0.84      0.84       800\n",
      "         1.0       0.84      0.84      0.84       800\n",
      "\n",
      "    accuracy                           0.84      1600\n",
      "   macro avg       0.84      0.84      0.84      1600\n",
      "weighted avg       0.84      0.84      0.84      1600\n",
      "\n",
      "------------------------------------------------------------\n"
     ]
    },
    {
     "data": {
      "image/png": "[encoded data removed]",
      "text/plain": [
       "<Figure size 432x288 with 2 Axes>"
      ]
     },
     "metadata": {
      "needs_background": "light",
      "tags": []
     },
     "output_type": "display_data"
    }
   ],
   "source": [
    "evaluate_model(cnn_loaded,None,X_test,y_test)"
   ]
  },
  {
   "cell_type": "code",
   "execution_count": 63,
   "metadata": {
    "id": "20sfhtKK-1v1"
   },
   "outputs": [],
   "source": [
    "# ## Saving the Model Weights\n",
    "model_name = 'pretrained_cnn_model'\n",
    "weights_fname = MODEL_FPATH + f\"{model_name}_weights.h5\"\n",
    "\n",
    "## Save Weights\n",
    "cnn_transfer.save_weights(weights_fname)"
   ]
  },
  {
   "cell_type": "code",
   "execution_count": 64,
   "metadata": {
    "colab": {
     "base_uri": "https://localhost:8080/"
    },
    "id": "SV5u1Jl2e_TR",
    "outputId": "49e7c8bf-b993-4086-f669-f0eacddc66b7"
   },
   "outputs": [
    {
     "name": "stdout",
     "output_type": "stream",
     "text": [
      "{\"class_name\": \"Sequential\", \"config\": {\"name\": \"sequential_6\", \"layers\": [{\"class_name\": \"InputLaye\n"
     ]
    }
   ],
   "source": [
    "## SAVING THE NETWORK ARCHITECTURE AS JSON\n",
    "cnn_json = cnn_transfer.to_json()\n",
    "print(cnn_json[:100])\n",
    "\n",
    "\n",
    "## Save json var to file\n",
    "json_fpath=f\"{MODEL_FPATH}{model_name}.json\"\n",
    "with open(json_fpath,'w') as f:\n",
    "    f.write(cnn_json)"
   ]
  },
  {
   "cell_type": "code",
   "execution_count": 65,
   "metadata": {
    "colab": {
     "base_uri": "https://localhost:8080/",
     "height": 789
    },
    "id": "xKj6aXxpBaFc",
    "outputId": "5b5d3bca-044a-4330-a37a-e911929ae9b7"
   },
   "outputs": [
    {
     "name": "stdout",
     "output_type": "stream",
     "text": [
      "Model: \"sequential_6\"\n",
      "_________________________________________________________________\n",
      "Layer (type)                 Output Shape              Param #   \n",
      "=================================================================\n",
      "mobilenet_1.00_224 (Function (None, 2, 2, 1024)        3228864   \n",
      "_________________________________________________________________\n",
      "flatten_5 (Flatten)          (None, 4096)              0         \n",
      "_________________________________________________________________\n",
      "dense_10 (Dense)             (None, 64)                262208    \n",
      "_________________________________________________________________\n",
      "dense_11 (Dense)             (None, 1)                 65        \n",
      "=================================================================\n",
      "Total params: 3,491,137\n",
      "Trainable params: 262,273\n",
      "Non-trainable params: 3,228,864\n",
      "_________________________________________________________________\n",
      "None\n",
      "------------------------------------------------------------\n",
      "------------------------------------------------------------\n",
      "[i] Classification Report\n",
      "              precision    recall  f1-score   support\n",
      "\n",
      "         0.0       0.84      0.84      0.84       800\n",
      "         1.0       0.84      0.84      0.84       800\n",
      "\n",
      "    accuracy                           0.84      1600\n",
      "   macro avg       0.84      0.84      0.84      1600\n",
      "weighted avg       0.84      0.84      0.84      1600\n",
      "\n",
      "------------------------------------------------------------\n"
     ]
    },
    {
     "data": {
      "image/png": "[encoded data removed]",
      "text/plain": [
       "<Figure size 432x288 with 2 Axes>"
      ]
     },
     "metadata": {
      "needs_background": "light",
      "tags": []
     },
     "output_type": "display_data"
    }
   ],
   "source": [
    "from tensorflow.keras.models import model_from_json\n",
    "\n",
    "\n",
    "# Model reconstruction from JSON file\n",
    "with open(json_fpath, 'r',encoding=\"utf8\") as f:\n",
    "    model_json = model_from_json(f.read())\n",
    "\n",
    "print(model_json.summary())\n",
    "\n",
    "# # Load weights into the new model\n",
    "model_json.load_weights(weights_fname)\n",
    "\n",
    "evaluate_model(model_json,None,X_test,y_test)"
   ]
  },
  {
   "cell_type": "markdown",
   "metadata": {
    "id": "UAX_z81IreYq"
   },
   "source": [
    "## Lime with Transfer Learning Model\n"
   ]
  },
  {
   "cell_type": "code",
   "execution_count": 66,
   "metadata": {
    "colab": {
     "base_uri": "https://localhost:8080/"
    },
    "id": "GTYfXbtFXfUl",
    "outputId": "3f8cf6a2-084f-46b0-8e94-9d4b12c8da70"
   },
   "outputs": [
    {
     "data": {
      "text/plain": [
       "{0: 'cats', 1: 'dogs'}"
      ]
     },
     "execution_count": 66,
     "metadata": {
      "tags": []
     },
     "output_type": "execute_result"
    }
   ],
   "source": [
    "class_lookup = {v:k for k,v in training_set.class_indices.items()}\n",
    "class_lookup"
   ]
  },
  {
   "cell_type": "code",
   "execution_count": 67,
   "metadata": {
    "colab": {
     "base_uri": "https://localhost:8080/",
     "height": 115
    },
    "id": "ZsHfQgoniJX3",
    "outputId": "521b18e2-73e8-4671-b935-ae4634c8c340"
   },
   "outputs": [
    {
     "name": "stdout",
     "output_type": "stream",
     "text": [
      "Image 3240 = cats\n",
      "- Model Predicted cats\n"
     ]
    },
    {
     "data": {
      "image/png": "[encoded data removed]",
      "text/plain": [
       "<PIL.Image.Image image mode=RGB size=64x64 at 0x7FAA43FB6610>"
      ]
     },
     "execution_count": 67,
     "metadata": {
      "tags": []
     },
     "output_type": "execute_result"
    }
   ],
   "source": [
    "## Grabbing a random training image and label\n",
    "i = np.random.choice(range(len(y_train)))\n",
    "label = y_train[i]\n",
    "img = X_train[i]\n",
    "\n",
    "## Getting model prediction \n",
    "pred = cnn_loaded.predict(np.array([img]))\n",
    "pred_class = int(pred.round())\n",
    "\n",
    "\n",
    "## Printing the true class, predicted class, and show image\n",
    "print(f\"Image {i} = {class_lookup[int(label)]}\")\n",
    "print(f\"- Model Predicted {class_lookup[pred_class]}\")\n",
    "array_to_img(img)"
   ]
  },
  {
   "cell_type": "code",
   "execution_count": 68,
   "metadata": {
    "colab": {
     "base_uri": "https://localhost:8080/",
     "height": 66,
     "referenced_widgets": [
      "faf0b2b0b8b84bb3bd7bc0712bbbfec9",
      "7bdc6a4554404e60bac354ff87afb58e",
      "2adb766b0f1d45c389495c0c6dd540fc",
      "cf8d65849e5e45fb929cabe6d4d4074b",
      "95f45bef4bdd47dd9c832f92261f39ce",
      "c7d8adef66d0428fa4d71f3128070277",
      "4f912bace8ca4574a4b727344b5105fe",
      "d4397f66992e42ebaded3900cfe2ee43"
     ]
    },
    "id": "Q794mJrhrnW8",
    "outputId": "66ef2ce2-0ea4-43d9-8ad7-b99801916d93"
   },
   "outputs": [
    {
     "data": {
      "application/vnd.jupyter.widget-view+json": {
       "model_id": "faf0b2b0b8b84bb3bd7bc0712bbbfec9",
       "version_major": 2,
       "version_minor": 0
      },
      "text/plain": [
       "HBox(children=(FloatProgress(value=0.0, max=2000.0), HTML(value='')))"
      ]
     },
     "metadata": {
      "tags": []
     },
     "output_type": "display_data"
    },
    {
     "name": "stdout",
     "output_type": "stream",
     "text": [
      "\n"
     ]
    }
   ],
   "source": [
    "## Make an explainer\n",
    "explainer = lime_image.LimeImageExplainer()\n",
    "\n",
    "explanation = explainer.explain_instance(img, cnn_loaded.predict, top_labels=2,\n",
    "                                         hide_color=None, num_samples=2000)"
   ]
  },
  {
   "cell_type": "code",
   "execution_count": 69,
   "metadata": {
    "colab": {
     "base_uri": "https://localhost:8080/",
     "height": 285
    },
    "id": "ru4l2svrrnW_",
    "outputId": "e5131137-eb76-4062-c9d7-20a425137259"
   },
   "outputs": [
    {
     "data": {
      "text/plain": [
       "<matplotlib.image.AxesImage at 0x7faa43e93dd0>"
      ]
     },
     "execution_count": 69,
     "metadata": {
      "tags": []
     },
     "output_type": "execute_result"
    },
    {
     "data": {
      "image/png": "[encoded data removed]",
      "text/plain": [
       "<Figure size 432x288 with 1 Axes>"
      ]
     },
     "metadata": {
      "needs_background": "light",
      "tags": []
     },
     "output_type": "display_data"
    }
   ],
   "source": [
    "temp, mask = explanation.get_image_and_mask(explanation.top_labels[0], \n",
    "                                            positive_only=False,\n",
    "                                            num_features=5)\n",
    "                                            # hide_rest=True)\n",
    "plt.imshow(mark_boundaries(temp / 2 + 0.5, mask))\n"
   ]
  },
  {
   "cell_type": "code",
   "execution_count": 69,
   "metadata": {
    "id": "FGkChindYLiw"
   },
   "outputs": [],
   "source": []
  },
  {
   "cell_type": "code",
   "execution_count": 69,
   "metadata": {
    "id": "IWqPtnAjn1RM"
   },
   "outputs": [],
   "source": []
  },
  {
   "cell_type": "code",
   "execution_count": 69,
   "metadata": {
    "id": "EjFPeHAr3NaP"
   },
   "outputs": [],
   "source": []
  }
 ],
 "metadata": {
  "accelerator": "GPU",
  "colab": {
   "collapsed_sections": [],
   "machine_shape": "hm",
   "name": "[022221FT] Using_Google_Colab_for_Computer_Vision_Intro_to_CNNs.ipynb",
   "provenance": []
  },
  "kernelspec": {
   "display_name": "Python 3",
   "language": "python",
   "name": "python3"
  },
  "language_info": {
   "codemirror_mode": {
    "name": "ipython",
    "version": 3
   },
   "file_extension": ".py",
   "mimetype": "text/x-python",
   "name": "python",
   "nbconvert_exporter": "python",
   "pygments_lexer": "ipython3",
   "version": "3.8.5"
  },
  "toc": {
   "base_numbering": 1,
   "nav_menu": {},
   "number_sections": false,
   "sideBar": true,
   "skip_h1_title": false,
   "title_cell": "Table of Contents",
   "title_sidebar": "Contents",
   "toc_cell": false,
   "toc_position": {
    "height": "calc(100% - 180px)",
    "left": "10px",
    "top": "150px",
    "width": "325px"
   },
   "toc_section_display": true,
   "toc_window_display": true
  },
  "widgets": {
   "application/vnd.jupyter.widget-state+json": {
    "2adb766b0f1d45c389495c0c6dd540fc": {
     "model_module": "@jupyter-widgets/controls",
     "model_name": "FloatProgressModel",
     "state": {
      "_dom_classes": [],
      "_model_module": "@jupyter-widgets/controls",
      "_model_module_version": "1.5.0",
      "_model_name": "FloatProgressModel",
      "_view_count": null,
      "_view_module": "@jupyter-widgets/controls",
      "_view_module_version": "1.5.0",
      "_view_name": "ProgressView",
      "bar_style": "success",
      "description": "100%",
      "description_tooltip": null,
      "layout": "IPY_MODEL_c7d8adef66d0428fa4d71f3128070277",
      "max": 2000,
      "min": 0,
      "orientation": "horizontal",
      "style": "IPY_MODEL_95f45bef4bdd47dd9c832f92261f39ce",
      "value": 2000
     }
    },
    "2d7c2d413546402794d420d163bbcd6d": {
     "model_module": "@jupyter-widgets/base",
     "model_name": "LayoutModel",
     "state": {
      "_model_module": "@jupyter-widgets/base",
      "_model_module_version": "1.2.0",
      "_model_name": "LayoutModel",
      "_view_count": null,
      "_view_module": "@jupyter-widgets/base",
      "_view_module_version": "1.2.0",
      "_view_name": "LayoutView",
      "align_content": null,
      "align_items": null,
      "align_self": null,
      "border": null,
      "bottom": null,
      "display": null,
      "flex": null,
      "flex_flow": null,
      "grid_area": null,
      "grid_auto_columns": null,
      "grid_auto_flow": null,
      "grid_auto_rows": null,
      "grid_column": null,
      "grid_gap": null,
      "grid_row": null,
      "grid_template_areas": null,
      "grid_template_columns": null,
      "grid_template_rows": null,
      "height": null,
      "justify_content": null,
      "justify_items": null,
      "left": null,
      "margin": null,
      "max_height": null,
      "max_width": null,
      "min_height": null,
      "min_width": null,
      "object_fit": null,
      "object_position": null,
      "order": null,
      "overflow": null,
      "overflow_x": null,
      "overflow_y": null,
      "padding": null,
      "right": null,
      "top": null,
      "visibility": null,
      "width": null
     }
    },
    "4f912bace8ca4574a4b727344b5105fe": {
     "model_module": "@jupyter-widgets/controls",
     "model_name": "DescriptionStyleModel",
     "state": {
      "_model_module": "@jupyter-widgets/controls",
      "_model_module_version": "1.5.0",
      "_model_name": "DescriptionStyleModel",
      "_view_count": null,
      "_view_module": "@jupyter-widgets/base",
      "_view_module_version": "1.2.0",
      "_view_name": "StyleView",
      "description_width": ""
     }
    },
    "5179f7278d7e4364865bfdcbeee00214": {
     "model_module": "@jupyter-widgets/base",
     "model_name": "LayoutModel",
     "state": {
      "_model_module": "@jupyter-widgets/base",
      "_model_module_version": "1.2.0",
      "_model_name": "LayoutModel",
      "_view_count": null,
      "_view_module": "@jupyter-widgets/base",
      "_view_module_version": "1.2.0",
      "_view_name": "LayoutView",
      "align_content": null,
      "align_items": null,
      "align_self": null,
      "border": null,
      "bottom": null,
      "display": null,
      "flex": null,
      "flex_flow": null,
      "grid_area": null,
      "grid_auto_columns": null,
      "grid_auto_flow": null,
      "grid_auto_rows": null,
      "grid_column": null,
      "grid_gap": null,
      "grid_row": null,
      "grid_template_areas": null,
      "grid_template_columns": null,
      "grid_template_rows": null,
      "height": null,
      "justify_content": null,
      "justify_items": null,
      "left": null,
      "margin": null,
      "max_height": null,
      "max_width": null,
      "min_height": null,
      "min_width": null,
      "object_fit": null,
      "object_position": null,
      "order": null,
      "overflow": null,
      "overflow_x": null,
      "overflow_y": null,
      "padding": null,
      "right": null,
      "top": null,
      "visibility": null,
      "width": null
     }
    },
    "7bdc6a4554404e60bac354ff87afb58e": {
     "model_module": "@jupyter-widgets/base",
     "model_name": "LayoutModel",
     "state": {
      "_model_module": "@jupyter-widgets/base",
      "_model_module_version": "1.2.0",
      "_model_name": "LayoutModel",
      "_view_count": null,
      "_view_module": "@jupyter-widgets/base",
      "_view_module_version": "1.2.0",
      "_view_name": "LayoutView",
      "align_content": null,
      "align_items": null,
      "align_self": null,
      "border": null,
      "bottom": null,
      "display": null,
      "flex": null,
      "flex_flow": null,
      "grid_area": null,
      "grid_auto_columns": null,
      "grid_auto_flow": null,
      "grid_auto_rows": null,
      "grid_column": null,
      "grid_gap": null,
      "grid_row": null,
      "grid_template_areas": null,
      "grid_template_columns": null,
      "grid_template_rows": null,
      "height": null,
      "justify_content": null,
      "justify_items": null,
      "left": null,
      "margin": null,
      "max_height": null,
      "max_width": null,
      "min_height": null,
      "min_width": null,
      "object_fit": null,
      "object_position": null,
      "order": null,
      "overflow": null,
      "overflow_x": null,
      "overflow_y": null,
      "padding": null,
      "right": null,
      "top": null,
      "visibility": null,
      "width": null
     }
    },
    "83beaddcd3f94f92a5325a3f17e4bac3": {
     "model_module": "@jupyter-widgets/controls",
     "model_name": "HTMLModel",
     "state": {
      "_dom_classes": [],
      "_model_module": "@jupyter-widgets/controls",
      "_model_module_version": "1.5.0",
      "_model_name": "HTMLModel",
      "_view_count": null,
      "_view_module": "@jupyter-widgets/controls",
      "_view_module_version": "1.5.0",
      "_view_name": "HTMLView",
      "description": "",
      "description_tooltip": null,
      "layout": "IPY_MODEL_2d7c2d413546402794d420d163bbcd6d",
      "placeholder": "​",
      "style": "IPY_MODEL_a3853e340ec34f10b7a1a08eb7a568e8",
      "value": " 2000/2000 [00:11&lt;00:00, 171.32it/s]"
     }
    },
    "85d8132c75a64dce801d362f7bf6d6d0": {
     "model_module": "@jupyter-widgets/controls",
     "model_name": "ProgressStyleModel",
     "state": {
      "_model_module": "@jupyter-widgets/controls",
      "_model_module_version": "1.5.0",
      "_model_name": "ProgressStyleModel",
      "_view_count": null,
      "_view_module": "@jupyter-widgets/base",
      "_view_module_version": "1.2.0",
      "_view_name": "StyleView",
      "bar_color": null,
      "description_width": "initial"
     }
    },
    "90e2d935e72f4aaaa9a4b4a2f49ee602": {
     "model_module": "@jupyter-widgets/controls",
     "model_name": "FloatProgressModel",
     "state": {
      "_dom_classes": [],
      "_model_module": "@jupyter-widgets/controls",
      "_model_module_version": "1.5.0",
      "_model_name": "FloatProgressModel",
      "_view_count": null,
      "_view_module": "@jupyter-widgets/controls",
      "_view_module_version": "1.5.0",
      "_view_name": "ProgressView",
      "bar_style": "success",
      "description": "100%",
      "description_tooltip": null,
      "layout": "IPY_MODEL_5179f7278d7e4364865bfdcbeee00214",
      "max": 2000,
      "min": 0,
      "orientation": "horizontal",
      "style": "IPY_MODEL_85d8132c75a64dce801d362f7bf6d6d0",
      "value": 2000
     }
    },
    "95f45bef4bdd47dd9c832f92261f39ce": {
     "model_module": "@jupyter-widgets/controls",
     "model_name": "ProgressStyleModel",
     "state": {
      "_model_module": "@jupyter-widgets/controls",
      "_model_module_version": "1.5.0",
      "_model_name": "ProgressStyleModel",
      "_view_count": null,
      "_view_module": "@jupyter-widgets/base",
      "_view_module_version": "1.2.0",
      "_view_name": "StyleView",
      "bar_color": null,
      "description_width": "initial"
     }
    },
    "a3853e340ec34f10b7a1a08eb7a568e8": {
     "model_module": "@jupyter-widgets/controls",
     "model_name": "DescriptionStyleModel",
     "state": {
      "_model_module": "@jupyter-widgets/controls",
      "_model_module_version": "1.5.0",
      "_model_name": "DescriptionStyleModel",
      "_view_count": null,
      "_view_module": "@jupyter-widgets/base",
      "_view_module_version": "1.2.0",
      "_view_name": "StyleView",
      "description_width": ""
     }
    },
    "b4e0175278174b13bb6e00799ef7dfc0": {
     "model_module": "@jupyter-widgets/base",
     "model_name": "LayoutModel",
     "state": {
      "_model_module": "@jupyter-widgets/base",
      "_model_module_version": "1.2.0",
      "_model_name": "LayoutModel",
      "_view_count": null,
      "_view_module": "@jupyter-widgets/base",
      "_view_module_version": "1.2.0",
      "_view_name": "LayoutView",
      "align_content": null,
      "align_items": null,
      "align_self": null,
      "border": null,
      "bottom": null,
      "display": null,
      "flex": null,
      "flex_flow": null,
      "grid_area": null,
      "grid_auto_columns": null,
      "grid_auto_flow": null,
      "grid_auto_rows": null,
      "grid_column": null,
      "grid_gap": null,
      "grid_row": null,
      "grid_template_areas": null,
      "grid_template_columns": null,
      "grid_template_rows": null,
      "height": null,
      "justify_content": null,
      "justify_items": null,
      "left": null,
      "margin": null,
      "max_height": null,
      "max_width": null,
      "min_height": null,
      "min_width": null,
      "object_fit": null,
      "object_position": null,
      "order": null,
      "overflow": null,
      "overflow_x": null,
      "overflow_y": null,
      "padding": null,
      "right": null,
      "top": null,
      "visibility": null,
      "width": null
     }
    },
    "c69ca76bc6ac4034a08dcd05968b4cb0": {
     "model_module": "@jupyter-widgets/controls",
     "model_name": "HBoxModel",
     "state": {
      "_dom_classes": [],
      "_model_module": "@jupyter-widgets/controls",
      "_model_module_version": "1.5.0",
      "_model_name": "HBoxModel",
      "_view_count": null,
      "_view_module": "@jupyter-widgets/controls",
      "_view_module_version": "1.5.0",
      "_view_name": "HBoxView",
      "box_style": "",
      "children": [
       "IPY_MODEL_90e2d935e72f4aaaa9a4b4a2f49ee602",
       "IPY_MODEL_83beaddcd3f94f92a5325a3f17e4bac3"
      ],
      "layout": "IPY_MODEL_b4e0175278174b13bb6e00799ef7dfc0"
     }
    },
    "c7d8adef66d0428fa4d71f3128070277": {
     "model_module": "@jupyter-widgets/base",
     "model_name": "LayoutModel",
     "state": {
      "_model_module": "@jupyter-widgets/base",
      "_model_module_version": "1.2.0",
      "_model_name": "LayoutModel",
      "_view_count": null,
      "_view_module": "@jupyter-widgets/base",
      "_view_module_version": "1.2.0",
      "_view_name": "LayoutView",
      "align_content": null,
      "align_items": null,
      "align_self": null,
      "border": null,
      "bottom": null,
      "display": null,
      "flex": null,
      "flex_flow": null,
      "grid_area": null,
      "grid_auto_columns": null,
      "grid_auto_flow": null,
      "grid_auto_rows": null,
      "grid_column": null,
      "grid_gap": null,
      "grid_row": null,
      "grid_template_areas": null,
      "grid_template_columns": null,
      "grid_template_rows": null,
      "height": null,
      "justify_content": null,
      "justify_items": null,
      "left": null,
      "margin": null,
      "max_height": null,
      "max_width": null,
      "min_height": null,
      "min_width": null,
      "object_fit": null,
      "object_position": null,
      "order": null,
      "overflow": null,
      "overflow_x": null,
      "overflow_y": null,
      "padding": null,
      "right": null,
      "top": null,
      "visibility": null,
      "width": null
     }
    },
    "cf8d65849e5e45fb929cabe6d4d4074b": {
     "model_module": "@jupyter-widgets/controls",
     "model_name": "HTMLModel",
     "state": {
      "_dom_classes": [],
      "_model_module": "@jupyter-widgets/controls",
      "_model_module_version": "1.5.0",
      "_model_name": "HTMLModel",
      "_view_count": null,
      "_view_module": "@jupyter-widgets/controls",
      "_view_module_version": "1.5.0",
      "_view_name": "HTMLView",
      "description": "",
      "description_tooltip": null,
      "layout": "IPY_MODEL_d4397f66992e42ebaded3900cfe2ee43",
      "placeholder": "​",
      "style": "IPY_MODEL_4f912bace8ca4574a4b727344b5105fe",
      "value": " 2000/2000 [00:09&lt;00:00, 200.58it/s]"
     }
    },
    "d4397f66992e42ebaded3900cfe2ee43": {
     "model_module": "@jupyter-widgets/base",
     "model_name": "LayoutModel",
     "state": {
      "_model_module": "@jupyter-widgets/base",
      "_model_module_version": "1.2.0",
      "_model_name": "LayoutModel",
      "_view_count": null,
      "_view_module": "@jupyter-widgets/base",
      "_view_module_version": "1.2.0",
      "_view_name": "LayoutView",
      "align_content": null,
      "align_items": null,
      "align_self": null,
      "border": null,
      "bottom": null,
      "display": null,
      "flex": null,
      "flex_flow": null,
      "grid_area": null,
      "grid_auto_columns": null,
      "grid_auto_flow": null,
      "grid_auto_rows": null,
      "grid_column": null,
      "grid_gap": null,
      "grid_row": null,
      "grid_template_areas": null,
      "grid_template_columns": null,
      "grid_template_rows": null,
      "height": null,
      "justify_content": null,
      "justify_items": null,
      "left": null,
      "margin": null,
      "max_height": null,
      "max_width": null,
      "min_height": null,
      "min_width": null,
      "object_fit": null,
      "object_position": null,
      "order": null,
      "overflow": null,
      "overflow_x": null,
      "overflow_y": null,
      "padding": null,
      "right": null,
      "top": null,
      "visibility": null,
      "width": null
     }
    },
    "faf0b2b0b8b84bb3bd7bc0712bbbfec9": {
     "model_module": "@jupyter-widgets/controls",
     "model_name": "HBoxModel",
     "state": {
      "_dom_classes": [],
      "_model_module": "@jupyter-widgets/controls",
      "_model_module_version": "1.5.0",
      "_model_name": "HBoxModel",
      "_view_count": null,
      "_view_module": "@jupyter-widgets/controls",
      "_view_module_version": "1.5.0",
      "_view_name": "HBoxView",
      "box_style": "",
      "children": [
       "IPY_MODEL_2adb766b0f1d45c389495c0c6dd540fc",
       "IPY_MODEL_cf8d65849e5e45fb929cabe6d4d4074b"
      ],
      "layout": "IPY_MODEL_7bdc6a4554404e60bac354ff87afb58e"
     }
    }
   }
  }
 },
 "nbformat": 4,
 "nbformat_minor": 1
}
