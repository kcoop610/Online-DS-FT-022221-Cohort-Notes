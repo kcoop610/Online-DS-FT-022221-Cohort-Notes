{
 "cells": [
  {
   "cell_type": "markdown",
   "metadata": {
    "colab_type": "text",
    "id": "GKw2nWdMDKR6"
   },
   "source": [
    "# Topic 42: Tuning Neural Networks"
   ]
  },
  {
   "cell_type": "markdown",
   "metadata": {},
   "source": [
    "- 06/08/21\n",
    "- onl01-dtsc-ft-022221"
   ]
  },
  {
   "cell_type": "markdown",
   "metadata": {},
   "source": [
    "> NOTE: YOU MAY **NOT** USE THE FUNCTIONS FROM THIS NOTEBOOK IN YOUR PROJECTS"
   ]
  },
  {
   "cell_type": "markdown",
   "metadata": {},
   "source": [
    "## Learning Objectives"
   ]
  },
  {
   "cell_type": "markdown",
   "metadata": {},
   "source": [
    "- Discuss the different options available for tuning neural networks\n",
    "- Discuss some rules of thumb for tuning Neural Networks\n",
    "\n",
    "- **ACTIVITY: Use a computer vision task to walk-through hyperparameter tuning (cats vs dogs)**\n",
    "    - [Zip File on Google Drive](https://drive.google.com/open?id=1WQ0fdJrNs5qVinJ_6rmVIIinOJD3p-n4)\n",
    "\n",
    "- **Learn how to use GridSearchCV with Keras neural neural networks.**\n",
    "\n",
    "    - Learn how to examine the other parameter results from a GridSearchCV object.\n",
    "\n",
    "    - Learn how to create your own custom scorer for sklearn (and why you'd want to)\n",
    "- Learn how to set up email notifications via Python (for gridsearch results)\n"
   ]
  },
  {
   "cell_type": "markdown",
   "metadata": {},
   "source": [
    "## Questions/Comments?\n",
    "-"
   ]
  },
  {
   "cell_type": "markdown",
   "metadata": {},
   "source": [
    "# Overview  - Neural Network Tuning "
   ]
  },
  {
   "cell_type": "markdown",
   "metadata": {},
   "source": [
    "## Helpful Resources"
   ]
  },
  {
   "cell_type": "markdown",
   "metadata": {},
   "source": [
    "- [Medium: Simple Guide to Hyperparameter Tuning in Neural Networks](https://towardsdatascience.com/simple-guide-to-hyperparameter-tuning-in-neural-networks-3fe03dad8594)\n",
    "- [Medium: A guide to an efficient way to build neural network architectures- Part I:](https://towardsdatascience.com/a-guide-to-an-efficient-way-to-build-neural-network-architectures-part-i-hyper-parameter-8129009f131b)\n",
    "- [Medium: Optimizers for Neural Networks](https://medium.com/@sdoshi579/optimizers-for-training-neural-network-59450d71caf6)"
   ]
  },
  {
   "cell_type": "markdown",
   "metadata": {},
   "source": [
    "## Rules of Thumb for Training Neural Networks"
   ]
  },
  {
   "cell_type": "markdown",
   "metadata": {},
   "source": [
    "- **Always use a train-test-validation split.**\n",
    "    - **Train-test-val splits:**\n",
    "        - Training set: for training the algorithm\n",
    "        - Validation set: used during training\n",
    "        - Testing set: after choosing the final model, use the test set for an unbiased estimate of performance.\n",
    "    - **Set sizes:**\n",
    "        - With big data, your val and test sets don't necessarily need to be 20-30% of all the data. \n",
    "        - You can choose test and hold-out sets that are of size 1-5%. \n",
    "            - eg. 96% train, 2% hold-out, 2% test set.\n",
    "            \n",
    "            \n",
    "- Consider using a `np.random.seed` for reproducibility/comparing models\n",
    "\n",
    "\n",
    "- **Use cross validation of some sort to compare Networks**\n",
    "\n",
    "\n",
    "- Normalize/Standardize features\n",
    "    \n",
    "    \n",
    "- **Add EarlyStopping and ModelCheckpoint [callbacks](https://keras.io/api/callbacks/)**\n",
    "\n",
    "    "
   ]
  },
  {
   "cell_type": "markdown",
   "metadata": {
    "colab_type": "text",
    "id": "lbzweQKTDPTl"
   },
   "source": [
    "#### Dealing with Bias/Variance\n",
    "\n",
    "- Balancing Bias/Variance:\n",
    "    - High Bias models are **underfit**\n",
    "    - High Variance models are **overfit**\n",
    "\n",
    "\n",
    "\n",
    "- **Rules of thumb re: bias/variance trade-off:**\n",
    "\n",
    "| High Bias? (training performance) | high variance? (validation performance)  |\n",
    "|---------------|-------------|\n",
    "| Use a bigger network|    More data     |\n",
    "| Train longer | Regularization   |\n",
    "| Look for other existing NN architextures |Look for other existing NN architextures |\n"
   ]
  },
  {
   "cell_type": "markdown",
   "metadata": {},
   "source": [
    "## Rules of Thumb - Hyperparameters to Tune \n"
   ]
  },
  {
   "cell_type": "markdown",
   "metadata": {},
   "source": [
    "- This section is roughly laid out in order of importance/what-to-tune-first\n",
    "    - [Blog Post](https://towardsdatascience.com/a-guide-to-an-efficient-way-to-build-neural-network-architectures-part-i-hyper-parameter-8129009f131b)"
   ]
  },
  {
   "cell_type": "markdown",
   "metadata": {},
   "source": [
    "### Hyperparameters (For Dense layers)"
   ]
  },
  {
   "cell_type": "markdown",
   "metadata": {},
   "source": [
    "1. Number of layers (depends on the size of training data)\n",
    "\n",
    "\n",
    "2. Number of neurons(depends on the size of training data)\n",
    "\n",
    "\n",
    "3. Activation functions\n",
    "    - Popular choices:\n",
    "        - relu / leaky-relu\n",
    "        - sigmoid / tanh (for shallow networks)\n",
    "        \n",
    "        \n",
    "4. Optimizer:\n",
    "    - Popular choices:\n",
    "        - SGD (works well for shallow but gets stuck in local minima/saddle-points - if so use RMSProp)\n",
    "        - RMSProp\n",
    "        - Adam (general favorite)\n",
    "        \n",
    "        \n",
    "5. Learning Rate\n",
    "    - Try in powers of 10 (0.001,0.01,.1,1.0)\n",
    "    - Which optimizer changes which l.r. is best (but try the others too).\n",
    "        - SGD: 0.1\n",
    "        - Adam: 0.001/0.01\n",
    "    - Can use the `decay` parameter to reduce learning (though it is better to use adaptive optimizer than to adjust this)/.\n",
    "    \n",
    "    \n",
    "6. Initialization\n",
    "    - Not as important as defaults (glorot-uniform) work well, but:\n",
    "        - Use He-normal/uniform initialization when using ReLu\n",
    "        - Use Glorot-normal/uniform when using Sigmoid\n",
    "    - Avoid using all zeros or any constant for all neurons\n",
    "\n",
    "\n",
    "7. Batch Size\n",
    "    - Finding the \"right\" size is important\n",
    "        - Too small = weights update too quickly and convergence is difficult\n",
    "        - Too large = weights update too slowly (plus PC RAM issues)\n",
    "    - Try batch sizes that are powers of 2 (for memory optimization)\n",
    "    - Larger is better than smaller.\n",
    "    \n",
    "    \n",
    "8. Number of Epochs:\n",
    "    - Important parameter to tune\n",
    "    - Use EarlyStopping callback to prevent overfitting\n",
    "    \n",
    "\n",
    "9. Adding Dropout\n",
    "    - Usually use dropout rate of 0.2 to 0.5\n",
    "    \n",
    "    \n",
    "\n",
    "10. Adding regularization (L1,L2)\n",
    "    - Use when the model continues to over-fit even after adding Dropout"
   ]
  },
  {
   "cell_type": "markdown",
   "metadata": {},
   "source": [
    "### Hyperparameter Details"
   ]
  },
  {
   "cell_type": "markdown",
   "metadata": {},
   "source": [
    "#### Kernel Initialization\n",
    "- Kernel Initializers\n",
    "```python\n",
    "# define the grid search parameters\n",
    "init_mode = ['uniform', 'lecun_uniform', 'normal', 'zero', \n",
    "             'glorot_normal', 'glorot_uniform', 'he_normal', 'he_uniform']```\n",
    "\n",
    "\n",
    "#### Loss Functions\n",
    "- MSE (regression)\n",
    "- categorical cross-entropy (classification with 2D labels )\n",
    "    - sparse categorical cross entropy (classification with 1D labels)\n",
    "- binary cross-entropy (classification)\n",
    "    - 2 categories\n",
    "- **can also uses custom scoring functions**"
   ]
  },
  {
   "cell_type": "markdown",
   "metadata": {},
   "source": [
    "## Using Regularization"
   ]
  },
  {
   "cell_type": "markdown",
   "metadata": {},
   "source": [
    "### L1 & L2 Regularlization\n",
    "- These methods of regularizaiton do so by penalizing coefficients(regression) or weights(neural networks),\n",
    "    - L1 & L2 exist in regression models as well. There, L1='Lasso Regressions' , L2='Ridge regression'\n",
    "    \n",
    "    \n",
    "\n",
    "- **L1 & L2 regularization add a term to the cost function.**\n",
    "\n",
    "$$Cost function = Loss (say, binary cross entropy) + Regularization term$$\n",
    "\n",
    "$$ J (w^{[1]},b^{[1]},...,w^{[L]},b^{[L]}) = \\dfrac{1}{m} \\sum^m_{i=1}\\mathcal{L}(\\hat y^{(i)}, y^{(i)})+ \\dfrac{\\lambda}{2m}\\sum^L_{l=1}||w^{[l]}||^2$$\n",
    "- where $\\lambda$ is the regularization parameter. \n",
    "\n",
    "- **The difference between  L1 vs L2 is that L1 is just the sum of the weights whereas L2 is the sum of the _square_of the weights.**  \n",
    "\n",
    "\n",
    "<br><br>\n",
    "- **L1 Regularization:**\n",
    "    $$ Cost function = Loss + \\frac{\\lambda}{2m} * \\sum ||w||$$\n",
    "    - Uses the absolute value of weights and may reduce the weights down to 0. \n",
    "    \n",
    "        \n",
    "- **L2 Regularization:**:\n",
    "    $$ Cost function = Loss + \\frac{\\lambda}{2m} * \\sum ||w||^2$$\n",
    "    - Also known as weight decay, as it forces weights to decay towards zero, but never exactly 0.. "
   ]
  },
  {
   "cell_type": "markdown",
   "metadata": {},
   "source": [
    "#### L1/L2 Regularization\n",
    "\n",
    "- **CHOOSING L1 OR L2:**\n",
    "    - L1 is very useful when trying to compress a model. (since weights can decreae to 0)\n",
    "    - L2 is generally preferred otherwise.\n",
    "    \n",
    "    \n",
    "- **USING L1/L2 IN KERAS:**\n",
    "    - Add a kernel_regulaizer to a  layer.\n",
    "```python \n",
    "from keras import regularizers\n",
    "model.add(Dense(64, input_dim=64, kernel_regularizer=regularizers.l2(0.01))\n",
    "```\n",
    "    - here 0.01 = $\\lambda$"
   ]
  },
  {
   "cell_type": "markdown",
   "metadata": {},
   "source": [
    "### Additional Options"
   ]
  },
  {
   "cell_type": "markdown",
   "metadata": {},
   "source": [
    "#### Dropout "
   ]
  },
  {
   "cell_type": "markdown",
   "metadata": {
    "colab_type": "text",
    "id": "BlPs5Wd8GrNg"
   },
   "source": [
    "#### Early Stopping"
   ]
  },
  {
   "cell_type": "markdown",
   "metadata": {
    "colab_type": "text",
    "id": "BlPs5Wd8GrNg"
   },
   "source": [
    "- Monitor performance for decrease or plateau in performance, terminate process when given criteria is reached.\n",
    "\n",
    "- **In Keras:**\n",
    "    - Can be applied using the [callbacks function](https://keras.io/callbacks/)\n",
    "```python    \n",
    "from keras.callbacks import EarlyStopping\n",
    "EarlyStopping(monitor='val_err', patience=5)\n",
    "```\n",
    "    - 'Monitor' denotes quanitity to check\n",
    "    - 'val_err' denotes validation error\n",
    "    - 'pateience' denotes # of epochs without improvement before stopping.\n",
    "        - Be careful, as sometimes models _will_ continue to improve after a stagnant period\n"
   ]
  },
  {
   "cell_type": "markdown",
   "metadata": {},
   "source": [
    "# Activity: Dogs vs Cats"
   ]
  },
  {
   "cell_type": "markdown",
   "metadata": {},
   "source": [
    "- Build an image classification model to classify images of cats vs dogs"
   ]
  },
  {
   "cell_type": "markdown",
   "metadata": {
    "colab_type": "text",
    "id": "8qbS0lSrghaO"
   },
   "source": [
    "## Installs, Imports, & Functions"
   ]
  },
  {
   "cell_type": "code",
   "execution_count": 1,
   "metadata": {
    "ExecuteTime": {
     "end_time": "2021-06-05T00:50:38.327355Z",
     "start_time": "2021-06-05T00:50:34.605029Z"
    }
   },
   "outputs": [
    {
     "data": {
      "text/plain": [
       "'2.4.0'"
      ]
     },
     "execution_count": 1,
     "metadata": {},
     "output_type": "execute_result"
    }
   ],
   "source": [
    "# !pip install -U tensorflow\n",
    "from tensorflow.random import set_seed\n",
    "set_seed(321)\n",
    "\n",
    "import numpy as np\n",
    "np.random.seed(321)\n",
    "\n",
    "import tensorflow as tf\n",
    "from tensorflow import keras\n",
    "tf.__version__"
   ]
  },
  {
   "cell_type": "code",
   "execution_count": 1,
   "metadata": {
    "ExecuteTime": {
     "end_time": "2021-06-06T21:34:58.389336Z",
     "start_time": "2021-06-06T21:34:57.185228Z"
    },
    "colab": {
     "base_uri": "https://localhost:8080/",
     "height": 238
    },
    "colab_type": "code",
    "id": "KHc94KpTlbRj",
    "outputId": "f71ccce3-f23d-4b8e-d4f7-c4736cbe1e76",
    "scrolled": true
   },
   "outputs": [],
   "source": [
    "## Import the usual suspects (notice the mpl import)\n",
    "import matplotlib as mpl\n",
    "import matplotlib.pyplot as plt\n",
    "import seaborn as sns\n",
    "import pandas as pd\n",
    "from sklearn import metrics\n",
    "import os,glob,sys\n",
    "# print(os.path.abspath(os.curdir))\n"
   ]
  },
  {
   "cell_type": "markdown",
   "metadata": {
    "colab_type": "text",
    "id": "E7D1Ks2mhJim"
   },
   "source": [
    "## (Down)Loading the data"
   ]
  },
  {
   "cell_type": "markdown",
   "metadata": {},
   "source": [
    "- Download the zip file of cat vs dog images. \n",
    "    - [DATASET: Zip File for Dog vs Cats](https://drive.google.com/open?id=1WQ0fdJrNs5qVinJ_6rmVIIinOJD3p-n4)\n",
    "- Extract zip file contents to the a folder on your computer.\n",
    "    - I am using my user folder > Datasets > cats-vs-dogs\n",
    "    - **Change the `BASE_FOLDER` variable below to match the location of the unzipped folder on your local machine**"
   ]
  },
  {
   "cell_type": "code",
   "execution_count": 4,
   "metadata": {
    "ExecuteTime": {
     "end_time": "2021-06-05T00:50:38.991006Z",
     "start_time": "2021-06-05T00:50:38.986249Z"
    }
   },
   "outputs": [
    {
     "data": {
      "text/plain": [
       "['single_prediction', '.DS_Store', 'Models', 'training_set', 'test_set']"
      ]
     },
     "execution_count": 4,
     "metadata": {},
     "output_type": "execute_result"
    }
   ],
   "source": [
    "# change dataset_folder to match where you stored the files\n",
    "BASE_FOLDER = \"/Users/jamesirving/Datasets/dogs-vs-cats-sorted/\"\n",
    "os.makedirs(BASE_FOLDER,exist_ok=True)\n",
    "os.listdir(BASE_FOLDER)"
   ]
  },
  {
   "cell_type": "code",
   "execution_count": 5,
   "metadata": {
    "ExecuteTime": {
     "end_time": "2021-06-05T00:50:38.996416Z",
     "start_time": "2021-06-05T00:50:38.993037Z"
    }
   },
   "outputs": [
    {
     "name": "stdout",
     "output_type": "stream",
     "text": [
      "['dogs', 'cats', '.DS_Store']\n"
     ]
    }
   ],
   "source": [
    "## Specify the names of the training folder and test folder\n",
    "train_folder = BASE_FOLDER+\"training_set/\"\n",
    "test_folder = BASE_FOLDER+\"test_set/\"\n",
    "# val_folder = BASE_FOLDER+\"val/\"\n",
    "print(os.listdir(train_folder))"
   ]
  },
  {
   "cell_type": "markdown",
   "metadata": {},
   "source": [
    "## Using ImageDataGenerator.flow_from_directory"
   ]
  },
  {
   "cell_type": "code",
   "execution_count": 6,
   "metadata": {
    "ExecuteTime": {
     "end_time": "2021-06-05T00:50:39.002695Z",
     "start_time": "2021-06-05T00:50:38.998744Z"
    }
   },
   "outputs": [],
   "source": [
    "from tensorflow.keras.preprocessing import image\n",
    "from tensorflow.keras.preprocessing.image import ImageDataGenerator, array_to_img, img_to_array, load_img\n",
    "from tensorflow.keras.utils import to_categorical\n",
    "import tensorflow as tf"
   ]
  },
  {
   "cell_type": "markdown",
   "metadata": {},
   "source": [
    "> Train-Test-Val Split: https://medium.com/@olagokeibrahim165/split-train-data-into-training-and-validation-when-using-imagedatagenerator-in-keras-ffdc88bbf6f3"
   ]
  },
  {
   "cell_type": "markdown",
   "metadata": {},
   "source": [
    "# BOOKMARK 06/06: Change workflow to use normal batch sizes, but with a loop"
   ]
  },
  {
   "cell_type": "code",
   "execution_count": 4,
   "metadata": {
    "ExecuteTime": {
     "end_time": "2021-06-06T21:37:37.936527Z",
     "start_time": "2021-06-06T21:37:37.934481Z"
    }
   },
   "outputs": [],
   "source": [
    "# ## get num images\n",
    "# import os,glob\n",
    "# def get_num_images(train_folder, folders=['dogs','cats'],verbose=True):\n",
    "#     \"\"\"Gets the total number of images from all folders listed\"\"\"\n",
    "#     num_images = 0\n",
    "#     for folder in folders:\n",
    "#         num_in_folder = len(os.listdir(train_folder+folder))\n",
    "        \n",
    "#         if verbose:\n",
    "#             print(f\"- There are {num_in_folder} images in {folder} folder.\")\n",
    "#         num_images+=num_in_folder\n",
    "#     return num_images"
   ]
  },
  {
   "cell_type": "code",
   "execution_count": 3,
   "metadata": {
    "ExecuteTime": {
     "end_time": "2021-06-06T21:37:35.537790Z",
     "start_time": "2021-06-06T21:37:35.535679Z"
    }
   },
   "outputs": [],
   "source": [
    "# import os,glob\n",
    "\n",
    "# ## Using glob to get the number of training images in the dogs and cats folders\n",
    "# train_filepaths = glob.glob(f\"{train_folder}/*/*jpg\")\n",
    "# BATCH_SIZE_TRAIN = len(train_filepaths)\n",
    "# print(f\"There are {BATCH_SIZE_TRAIN} # of images in {train_folder}.\")\n",
    "\n",
    "# test_filepaths = glob.glob(f\"{test_folder}/*/*jpg\")\n",
    "# BATCH_SIZE_TEST_VAL = len(test_filepaths)\n",
    "# print(f\"There are {BATCH_SIZE_TEST_VAL} # of images in {test_folder}.\")"
   ]
  },
  {
   "cell_type": "code",
   "execution_count": 16,
   "metadata": {
    "ExecuteTime": {
     "end_time": "2021-06-05T00:52:51.516702Z",
     "start_time": "2021-06-05T00:52:51.514708Z"
    }
   },
   "outputs": [],
   "source": [
    "# # ## Get the Number of total images for batch size \n",
    "# BATCH_SIZE_TRAIN = get_num_images(train_folder,verbose=0)\n",
    "# BATCH_SIZE_TEST_VAL = get_num_images(test_folder,verbose=0)\n",
    "# print(f\"Training images: {BATCH_SIZE_TRAIN}\")\n",
    "# print(f\"Test & Val images: {BATCH_SIZE_TEST_VAL}\")"
   ]
  },
  {
   "cell_type": "code",
   "execution_count": 2,
   "metadata": {
    "ExecuteTime": {
     "end_time": "2021-06-06T21:37:30.932220Z",
     "start_time": "2021-06-06T21:37:30.929784Z"
    }
   },
   "outputs": [],
   "source": [
    "# #### INEFFICIENT USE OF IMAGEDATAGENERATOR - LOADS ENTIRE DATASET AT ONCE \n",
    "# ### We are only doing this to be able to get a version of our dataset for Dense layers\n",
    "\n",
    "# ## Calculate validation split size - to make \n",
    "# VAL_SPLIT = 0.2\n",
    "# IMG_SIZE = (128,128)\n",
    "\n",
    "# ## Calculate the number of images after a validation split\n",
    "# BATCH_SIZE_VAL = round(BATCH_SIZE_TEST_VAL*VAL_SPLIT)\n",
    "# BATCH_SIZE_TEST = round(BATCH_SIZE_TEST_VAL*(1-VAL_SPLIT))\n",
    "\n",
    "# ## MAKING IMAGE DATA GENERATORS FOR TRAIN TEST VAL\n",
    "\n",
    "# ## Create ImageDataGenerator for training data\n",
    "# train_datagen_full = ImageDataGenerator(rescale = 1./255)#,\n",
    "# #                                    shear_range = 0.2, zoom_range = 0.2,\n",
    "# #                                    horizontal_flip = True)\n",
    "\n",
    "# ## Create ImageDataaGenerator for validation and test data\n",
    "# test_val_datagen_full = ImageDataGenerator(rescale = 1./255,\n",
    "#                                       validation_split=VAL_SPLIT)\n",
    "\n",
    "\n",
    "\n",
    "# ## Make Training Sets With All Images\n",
    "# training_set_full = train_datagen_full.flow_from_directory(train_folder,\n",
    "#                                                  target_size=IMG_SIZE,\n",
    "#                                                    batch_size=BATCH_SIZE_TRAIN,\n",
    "# #                                                       class_mode='binary'\n",
    "#                                                           )                                                  \n",
    "                                                      \n",
    "# ## Makng a Test Set and validation set from the same folder.\n",
    "# test_set_full = test_val_datagen_full.flow_from_directory(test_folder,\n",
    "#                                                      target_size=IMG_SIZE,\n",
    "#                                                      subset='training',\n",
    "#                                                      batch_size=BATCH_SIZE_TEST,\n",
    "# #                                                     class_mode='binary'\n",
    "#                                                          )\n",
    "\n",
    "\n",
    "# val_set_full = test_val_datagen_full.flow_from_directory(test_folder,target_size=IMG_SIZE,\n",
    "#                                                    subset='validation',\n",
    "#                                                     batch_size=BATCH_SIZE_VAL,\n",
    "# #                                                    class_mode='binary'\n",
    "#                                                         )\n",
    "\n"
   ]
  },
  {
   "cell_type": "code",
   "execution_count": 19,
   "metadata": {
    "ExecuteTime": {
     "end_time": "2021-06-05T00:53:38.063135Z",
     "start_time": "2021-06-05T00:53:23.796911Z"
    }
   },
   "outputs": [
    {
     "data": {
      "text/plain": [
       "((8000, 2), (8000, 128, 128, 3))"
      ]
     },
     "execution_count": 19,
     "metadata": {},
     "output_type": "execute_result"
    }
   ],
   "source": [
    "## MAKE X and YS FROM GENERATORS\n",
    "X_train, y_train=next(training_set_full)\n",
    "y_train.shape,X_train.shape"
   ]
  },
  {
   "cell_type": "code",
   "execution_count": 20,
   "metadata": {
    "ExecuteTime": {
     "end_time": "2021-06-05T00:53:42.129583Z",
     "start_time": "2021-06-05T00:53:38.065029Z"
    }
   },
   "outputs": [],
   "source": [
    "# TEST AND VAL SETS\n",
    "X_test, y_test=next(test_set_full)\n",
    "X_val,y_val = next(val_set_full)"
   ]
  },
  {
   "cell_type": "code",
   "execution_count": 21,
   "metadata": {
    "ExecuteTime": {
     "end_time": "2021-06-05T00:53:42.136069Z",
     "start_time": "2021-06-05T00:53:42.132134Z"
    }
   },
   "outputs": [
    {
     "data": {
      "text/plain": [
       "(8000, 49152)"
      ]
     },
     "execution_count": 21,
     "metadata": {},
     "output_type": "execute_result"
    }
   ],
   "source": [
    "## UNROW IMAGES FOR SEQUENTIAL MODEL\n",
    "X_train_unrow = X_train.reshape(X_train.shape[0],-1)\n",
    "X_test_unrow = X_test.reshape(X_test.shape[0],-1)\n",
    "X_val_unrow = X_val.reshape(X_val.shape[0],-1)\n",
    "X_train_unrow.shape"
   ]
  },
  {
   "cell_type": "code",
   "execution_count": 22,
   "metadata": {
    "ExecuteTime": {
     "end_time": "2021-06-05T00:53:42.139902Z",
     "start_time": "2021-06-05T00:53:42.138137Z"
    }
   },
   "outputs": [],
   "source": [
    "## Delete non-unrowed X vars for memory\n",
    "del X_train, X_test, X_val"
   ]
  },
  {
   "cell_type": "code",
   "execution_count": 23,
   "metadata": {
    "ExecuteTime": {
     "end_time": "2021-06-05T00:53:42.145314Z",
     "start_time": "2021-06-05T00:53:42.141702Z"
    }
   },
   "outputs": [
    {
     "data": {
      "text/plain": [
       "(128, 128, 3)"
      ]
     },
     "execution_count": 23,
     "metadata": {},
     "output_type": "execute_result"
    }
   ],
   "source": [
    "## Can reshape an individual image\n",
    "ex_reshaped_X = X_train_unrow[0].reshape((*IMG_SIZE,3))\n",
    "ex_reshaped_X.shape"
   ]
  },
  {
   "cell_type": "code",
   "execution_count": 24,
   "metadata": {
    "ExecuteTime": {
     "end_time": "2021-06-05T00:53:42.158772Z",
     "start_time": "2021-06-05T00:53:42.146923Z"
    }
   },
   "outputs": [
    {
     "data": {
      "text/plain": [
       "array([0., 1.], dtype=float32)"
      ]
     },
     "metadata": {},
     "output_type": "display_data"
    },
    {
     "data": {
      "image/png": "[encoded data removed]",
      "text/plain": [
       "<PIL.Image.Image image mode=RGB size=128x128 at 0x7FE9A6822880>"
      ]
     },
     "execution_count": 24,
     "metadata": {},
     "output_type": "execute_result"
    }
   ],
   "source": [
    "## Display a random \n",
    "i = np.random.choice(range(len(y_train)))\n",
    "\n",
    "display(y_train[i])\n",
    "array_to_img(X_train_unrow[i].reshape((*IMG_SIZE,3)))"
   ]
  },
  {
   "cell_type": "markdown",
   "metadata": {},
   "source": [
    "# Using Dense Networks"
   ]
  },
  {
   "cell_type": "code",
   "execution_count": 25,
   "metadata": {
    "ExecuteTime": {
     "end_time": "2021-06-05T00:53:42.177562Z",
     "start_time": "2021-06-05T00:53:42.160890Z"
    }
   },
   "outputs": [],
   "source": [
    "from tensorflow.keras.models import Sequential\n",
    "from tensorflow.keras.layers import Dense\n",
    "from tensorflow.keras import optimizers,regularizers\n",
    "from tensorflow.keras import models,layers,optimizers,regularizers,activations\n",
    "from tensorflow.keras.layers import Conv2D, MaxPooling2D,Flatten,Dense,Dropout\n",
    "\n",
    "\n",
    "def evaluate_network(model, X_test,y_test,history=None,\n",
    "                     X_train = None, y_train = None,\n",
    "                     cmap='Greens', normalize='true',\n",
    "                     classes=None,cm_figsize=(8,8), \n",
    "                     metrics_list=['acc','loss']):\n",
    "    \"\"\"Evaluates a scikit-learn binary classification model.\n",
    "\n",
    "    Args:\n",
    "        model (classifier): a fit keras classification model.\n",
    "        X_test (tensor/array): X data\n",
    "        y_test (Tensor/Array): y data\n",
    "        history (History object): model history from .fit\n",
    "        cmap (str, optional): Colormap for confusion matrix. Defaults to 'Greens'.\n",
    "        normalize (str, optional): normalize argument for plot_confusion_matrix. \n",
    "                                    Defaults to 'true'.\n",
    "        classes (list, optional): List of class names for display. Defaults to None.\n",
    "        figsize (tuple, optional): figure size Defaults to (8,4).\n",
    "        \n",
    "        X_train (Frame or Array, optional): If provided, compare model.score \n",
    "                                for train and test. Defaults to None.\n",
    "        y_train (Series or Array, optional): If provided, compare model.score \n",
    "                                for train and test. Defaults to None.\n",
    "    \"\"\"\n",
    "    \n",
    "    header =  '==='*24\n",
    "    ## First, Plot History, if provided.\n",
    "    if history is not None:\n",
    "        print(header,'\\t[i] MODEL HISTORY',header,sep='\\n')\n",
    "\n",
    "        ## Make a dataframe out of history\n",
    "        res_df = pd.DataFrame(history.history)#.plot()\n",
    "\n",
    "        ## Plot Losses\n",
    "        plot_kws = dict(marker='o',ls=':')\n",
    "        \n",
    "        ## Plot all metrics\n",
    "        metrics_list = model.metrics_names\n",
    "        for metric in metrics_list:\n",
    "            ax = res_df[[col for col in res_df.columns if metric in col]].plot(**plot_kws)\n",
    "            ax.set(xlabel='Epoch',ylabel=metric,title=metric)\n",
    "            ax.grid()\n",
    "            ax.xaxis.set_major_locator(mpl.ticker.MaxNLocator(integer=True))\n",
    "            plt.show()\n",
    "           \n",
    "        \n",
    "    ## Evaluate Network for loss/acc scores\n",
    "    try:\n",
    "        print(header,\"\\t[i] EVALUATING MODEL\",header,sep='\\n')\n",
    "        if X_train is not None:\n",
    "            train_loss, train_acc  = model.evaluate(X_train,y_train)#score()\n",
    "     \n",
    "        ## Get Test Accuracy\n",
    "        test_loss,test_acc = model.evaluate(X_test,y_test)\n",
    "        \n",
    "        if X_train is not None:\n",
    "            print(f\"\\tTraining Accuracy: {train_acc:.3f}\")\n",
    "        print(f\"\\tTest Accuracy: {test_acc:.3f}\")\n",
    "        print()\n",
    "        \n",
    "    except Exception as e:\n",
    "        print(\"Error evaluating for accuracy:\")\n",
    "        print(e)\n",
    "        \n",
    "        \n",
    "\n",
    "    \n",
    "     ## Evaluate training data with sklearn\n",
    "    if X_train is not None:\n",
    "        \n",
    "        ## Print report header, get preds, get class report, and conf matrix\n",
    "        print(header,\"\\t[i] CLASSIFICATION REPORT - TRAINING DATA\",\n",
    "              header,sep='\\n')\n",
    "        y_hat_train = model.predict(X_train)\n",
    "        y_train_class =y_train.argmax(axis=1)\n",
    "        y_hat_train_class = y_hat_train.argmax(axis=1)\n",
    "        print(metrics.classification_report(y_train_class,y_hat_train_class))\n",
    "        print()\n",
    "        cm = metrics.confusion_matrix(y_train_class, y_hat_train_class,\n",
    "                                      normalize='true')\n",
    "\n",
    "        ## Plot the confusion Matrix\n",
    "        fig,ax = plt.subplots(figsize=cm_figsize)\n",
    "        sns.heatmap(cm, cmap='Greens',annot=True,square=True,ax=ax)\n",
    "        ax.set(ylabel='True Class',xlabel='Predicted Class',\n",
    "               title='Confusion Matrix - Training Data')    \n",
    "        plt.show()\n",
    "        \n",
    "        print('\\n'*2)\n",
    "        \n",
    "    ## Test Data - Print report header, get preds, get class report, and conf matrix\n",
    "    y_test_class =y_test.argmax(axis=1)\n",
    "    y_hat_test = model.predict(X_test)\n",
    "    y_hat_test_class = y_hat_test.argmax(axis=1)\n",
    "    \n",
    "    print(header,\"\\t[i] CLASSIFICATION REPORT -  TEST DATA\",header,sep='\\n')\n",
    "    print(metrics.classification_report(y_test_class,y_hat_test_class))\n",
    "\n",
    "     ## Get the confusion matrix \n",
    "    print()\n",
    "    cm = metrics.confusion_matrix(y_test_class, y_hat_test_class,normalize='true')\n",
    "    ## Plot the confusion Matrix\n",
    "    fig,ax = plt.subplots(figsize=cm_figsize)\n",
    "    sns.heatmap(cm, cmap='Greens',annot=True,square=True,ax=ax)\n",
    "    ax.set(ylabel='True Class',xlabel='Predicted Class',\n",
    "           title='Confusion Matrix - Test Data') \n",
    "    plt.show()"
   ]
  },
  {
   "cell_type": "code",
   "execution_count": 30,
   "metadata": {
    "ExecuteTime": {
     "end_time": "2021-06-05T00:54:38.365016Z",
     "start_time": "2021-06-05T00:54:38.362895Z"
    }
   },
   "outputs": [],
   "source": [
    "# res_df = pd.DataFrame(history.history)\n",
    "# res_df"
   ]
  },
  {
   "cell_type": "code",
   "execution_count": null,
   "metadata": {
    "ExecuteTime": {
     "end_time": "2021-06-05T00:50:39.612800Z",
     "start_time": "2021-06-05T00:50:34.673Z"
    }
   },
   "outputs": [],
   "source": [
    "# ## calculate how many axes to delete in the last row\n",
    "# num_to_del = num_metrics%nrows\n",
    "\n",
    "# for i in range(0,num_to_del):\n",
    "#     print(i)"
   ]
  },
  {
   "cell_type": "code",
   "execution_count": 27,
   "metadata": {
    "ExecuteTime": {
     "end_time": "2021-06-05T00:53:53.561414Z",
     "start_time": "2021-06-05T00:53:53.558009Z"
    }
   },
   "outputs": [
    {
     "name": "stdout",
     "output_type": "stream",
     "text": [
      "Single image shape: (49152,)\n",
      "# of columns in target: 2\n"
     ]
    }
   ],
   "source": [
    "## get needed shape info\n",
    "input_img_shape = X_train_unrow[0].shape\n",
    "print(f\"Single image shape: {input_img_shape}\")\n",
    "\n",
    "## get n_classes\n",
    "n_classes = y_train.shape[1]\n",
    "print(f\"# of columns in target: {n_classes}\")"
   ]
  },
  {
   "cell_type": "code",
   "execution_count": 28,
   "metadata": {
    "ExecuteTime": {
     "end_time": "2021-06-05T00:53:53.829985Z",
     "start_time": "2021-06-05T00:53:53.826137Z"
    }
   },
   "outputs": [],
   "source": [
    "def build_model():\n",
    "    ## Make a Sequential Model\n",
    "    model = models.Sequential()\n",
    "    ## Hidden layer of 10 units with relu activation function\n",
    "    model.add(layers.Dense(64,activation='relu', input_shape=input_img_shape))\n",
    "    model.add(layers.Dense(32,activation='relu'))#, input_shape=train_images_unrow[0].shape))\n",
    "\n",
    "    ## Add final layer with n_classes # of neurons and activation='softmax'\n",
    "    model.add(layers.Dense(n_classes, activation='softmax'))\n",
    "\n",
    "    ## Compile with optimer as adam, loss as categorical_crossentropy, and accuracy as metric\n",
    "\n",
    "    model.compile(optimizer='adam', \n",
    "                  loss='categorical_crossentropy',\n",
    "                  metrics=['accuracy',tf.keras.metrics.Recall(name='recall')])\n",
    "\n",
    "    ## Display model summary\n",
    "    display(model.summary())\n",
    "    return model"
   ]
  },
  {
   "cell_type": "code",
   "execution_count": 43,
   "metadata": {
    "ExecuteTime": {
     "end_time": "2021-06-05T00:57:43.315993Z",
     "start_time": "2021-06-05T00:57:09.065303Z"
    },
    "scrolled": false
   },
   "outputs": [
    {
     "name": "stdout",
     "output_type": "stream",
     "text": [
      "Model: \"sequential_2\"\n",
      "_________________________________________________________________\n",
      "Layer (type)                 Output Shape              Param #   \n",
      "=================================================================\n",
      "dense_6 (Dense)              (None, 64)                3145792   \n",
      "_________________________________________________________________\n",
      "dense_7 (Dense)              (None, 32)                2080      \n",
      "_________________________________________________________________\n",
      "dense_8 (Dense)              (None, 2)                 66        \n",
      "=================================================================\n",
      "Total params: 3,147,938\n",
      "Trainable params: 3,147,938\n",
      "Non-trainable params: 0\n",
      "_________________________________________________________________\n"
     ]
    },
    {
     "data": {
      "text/plain": [
       "None"
      ]
     },
     "metadata": {},
     "output_type": "display_data"
    },
    {
     "name": "stdout",
     "output_type": "stream",
     "text": [
      "Epoch 1/10\n",
      "250/250 [==============================] - 4s 14ms/step - loss: 1.8732 - accuracy: 0.5350 - recall: 0.5350 - val_loss: 0.7339 - val_accuracy: 0.5600 - val_recall: 0.5600\n",
      "Epoch 2/10\n",
      "250/250 [==============================] - 3s 12ms/step - loss: 0.8281 - accuracy: 0.5676 - recall: 0.5676 - val_loss: 1.3085 - val_accuracy: 0.5025 - val_recall: 0.5025\n",
      "Epoch 3/10\n",
      "250/250 [==============================] - 3s 12ms/step - loss: 0.7623 - accuracy: 0.5743 - recall: 0.5743 - val_loss: 0.7633 - val_accuracy: 0.5275 - val_recall: 0.5275\n",
      "Epoch 4/10\n",
      "250/250 [==============================] - 3s 12ms/step - loss: 0.6554 - accuracy: 0.6268 - recall: 0.6268 - val_loss: 0.8919 - val_accuracy: 0.5125 - val_recall: 0.5125\n",
      "Epoch 5/10\n",
      "250/250 [==============================] - 3s 12ms/step - loss: 0.6702 - accuracy: 0.6099 - recall: 0.6099 - val_loss: 0.6742 - val_accuracy: 0.5900 - val_recall: 0.5900\n",
      "Epoch 6/10\n",
      "250/250 [==============================] - 3s 12ms/step - loss: 0.6580 - accuracy: 0.6185 - recall: 0.6185 - val_loss: 0.6712 - val_accuracy: 0.5900 - val_recall: 0.5900\n",
      "Epoch 7/10\n",
      "250/250 [==============================] - 3s 12ms/step - loss: 0.6387 - accuracy: 0.6411 - recall: 0.6411 - val_loss: 0.8809 - val_accuracy: 0.5225 - val_recall: 0.5225\n",
      "Epoch 8/10\n",
      "250/250 [==============================] - 3s 12ms/step - loss: 0.6477 - accuracy: 0.6297 - recall: 0.6297 - val_loss: 0.6644 - val_accuracy: 0.6075 - val_recall: 0.6075\n",
      "Epoch 9/10\n",
      "250/250 [==============================] - 3s 12ms/step - loss: 0.6487 - accuracy: 0.6190 - recall: 0.6190 - val_loss: 0.6598 - val_accuracy: 0.6325 - val_recall: 0.6325\n",
      "Epoch 10/10\n",
      "250/250 [==============================] - 3s 12ms/step - loss: 0.6271 - accuracy: 0.6496 - recall: 0.6496 - val_loss: 0.7005 - val_accuracy: 0.5500 - val_recall: 0.5500\n",
      "========================================================================\n",
      "\t[i] MODEL HISTORY\n",
      "========================================================================\n"
     ]
    },
    {
     "data": {
      "image/png": "[encoded data removed]",
      "text/plain": [
       "<Figure size 432x288 with 1 Axes>"
      ]
     },
     "metadata": {
      "needs_background": "light"
     },
     "output_type": "display_data"
    },
    {
     "data": {
      "image/png": "[encoded data removed]",
      "text/plain": [
       "<Figure size 432x288 with 1 Axes>"
      ]
     },
     "metadata": {
      "needs_background": "light"
     },
     "output_type": "display_data"
    },
    {
     "data": {
      "image/png": "[encoded data removed]",
      "text/plain": [
       "<Figure size 432x288 with 1 Axes>"
      ]
     },
     "metadata": {
      "needs_background": "light"
     },
     "output_type": "display_data"
    },
    {
     "name": "stdout",
     "output_type": "stream",
     "text": [
      "========================================================================\n",
      "\t[i] EVALUATING MODEL\n",
      "========================================================================\n",
      "250/250 [==============================] - 1s 4ms/step - loss: 0.6526 - accuracy: 0.6046 - recall: 0.6046\n",
      "Error evaluating for accuracy:\n",
      "too many values to unpack (expected 2)\n",
      "========================================================================\n",
      "\t[i] CLASSIFICATION REPORT - TRAINING DATA\n",
      "========================================================================\n",
      "              precision    recall  f1-score   support\n",
      "\n",
      "           0       0.79      0.29      0.42      4000\n",
      "           1       0.56      0.92      0.70      4000\n",
      "\n",
      "    accuracy                           0.60      8000\n",
      "   macro avg       0.68      0.60      0.56      8000\n",
      "weighted avg       0.68      0.60      0.56      8000\n",
      "\n",
      "\n"
     ]
    },
    {
     "data": {
      "image/png": "[encoded data removed]",
      "text/plain": [
       "<Figure size 576x576 with 2 Axes>"
      ]
     },
     "metadata": {
      "needs_background": "light"
     },
     "output_type": "display_data"
    },
    {
     "name": "stdout",
     "output_type": "stream",
     "text": [
      "\n",
      "\n",
      "\n",
      "========================================================================\n",
      "\t[i] CLASSIFICATION REPORT -  TEST DATA\n",
      "========================================================================\n",
      "              precision    recall  f1-score   support\n",
      "\n",
      "           0       0.74      0.29      0.42       800\n",
      "           1       0.56      0.90      0.69       800\n",
      "\n",
      "    accuracy                           0.60      1600\n",
      "   macro avg       0.65      0.60      0.55      1600\n",
      "weighted avg       0.65      0.60      0.55      1600\n",
      "\n",
      "\n"
     ]
    },
    {
     "data": {
      "image/png": "[encoded data removed]",
      "text/plain": [
       "<Figure size 576x576 with 2 Axes>"
      ]
     },
     "metadata": {
      "needs_background": "light"
     },
     "output_type": "display_data"
    }
   ],
   "source": [
    "## Fit an initial model\n",
    "model_1 = build_model()\n",
    "\n",
    "history = model_1.fit(X_train_unrow,y_train, epochs=10,\n",
    "                      validation_data=(X_val_unrow,y_val))\n",
    "\n",
    "evaluate_network(model_1, X_test_unrow,y_test,history=history,\n",
    "                 X_train = X_train_unrow, y_train = y_train )"
   ]
  },
  {
   "cell_type": "code",
   "execution_count": 131,
   "metadata": {
    "ExecuteTime": {
     "end_time": "2021-06-05T01:38:02.620028Z",
     "start_time": "2021-06-05T01:38:02.607114Z"
    }
   },
   "outputs": [],
   "source": [
    "### BREAKING OUR BIG FUNCTION UP INTO HELPER FUNCTIONS\n",
    "def plot_history(history,model,figsize=(8,4)):\n",
    "    \"\"\"Takes a keras history and model and plots \n",
    "    all metrics in separate plots for each metric\"\"\"\n",
    "#     print(header,'\\t[i] MODEL HISTORY',header,sep='\\n')\n",
    "\n",
    "    ## Make a dataframe out of history\n",
    "    res_df = pd.DataFrame(history.history)#.plot()\n",
    "\n",
    "    ## Plot Losses\n",
    "    plot_kws = dict(marker='o',ls=':',lw=2,figsize=figsize)\n",
    "\n",
    "    ## Plot all metrics\n",
    "    metrics_list = model.metrics_names\n",
    "\n",
    "    for metric in metrics_list:\n",
    "        ax = res_df[[col for col in res_df.columns if metric in col]].plot(**plot_kws)\n",
    "        ax.set(xlabel='Epoch',ylabel=metric,title=metric)\n",
    "        ax.grid()\n",
    "        ax.xaxis.set_major_locator(mpl.ticker.MaxNLocator(integer=True))\n",
    "        plt.show()\n",
    "\n",
    "        \n",
    "def evaluate_scores(model,X_train,y_train,label='Training',verbose=0):\n",
    "    \"\"\"Evaluates a keras model and prints the scores using the provided label.\"\"\"\n",
    "    train_scores  = model.evaluate(X_train,y_train,verbose=verbose)#score()\n",
    "    for i,metric in enumerate(model.metrics_names):\n",
    "        print(f\"\\t{label} {metric}: {train_scores[i]:.3f}\")\n",
    "        \n",
    "    \n",
    "def classification_report_cm(model, X_train,y_train,label='TRAINING DATA',\n",
    "                            cm_figsize=(6,6),normalize='true',cmap='Greens'):\n",
    "    \"\"\"Gets predictions from a Keras neural network and get \n",
    "    classification report and confusion matrix.\"\"\"\n",
    "    ## Print report header, get preds, get class report, and conf matrix\n",
    "    header =  '==='*24\n",
    "    print(header,f\"\\t[i] CLASSIFICATION REPORT - {label}\",header,sep='\\n')\n",
    "    print()\n",
    "    \n",
    "    ## Get predictions\n",
    "    y_hat_train = model.predict(X_train)\n",
    "    \n",
    "    ## convert to 1D targets\n",
    "    y_train_class =y_train.argmax(axis=1)\n",
    "    y_hat_train_class = y_hat_train.argmax(axis=1)\n",
    "    \n",
    "    \n",
    "    ## Get classification report \n",
    "    print(metrics.classification_report(y_train_class,y_hat_train_class))\n",
    "    print()\n",
    "    \n",
    "    \n",
    "    ## Plot the confusion Matrix\n",
    "    cm = metrics.confusion_matrix(y_train_class, y_hat_train_class,\n",
    "                                  normalize=normalize)\n",
    "    \n",
    "    fig,ax = plt.subplots(figsize=cm_figsize)\n",
    "    sns.heatmap(cm, cmap=cmap, annot=True,square=True,ax=ax)\n",
    "    ax.set(ylabel='True Class',xlabel='Predicted Class',\n",
    "           title='Confusion Matrix - Training Data')    \n",
    "    plt.show()\n",
    "\n",
    "    \n",
    "    \n",
    "def evaluate_network_v2(model, X_test, y_test, history=None, \n",
    "                        X_train = None, y_train = None,\n",
    "                        history_figsize = (8,4), cm_figsize=(8,8),\n",
    "                        cmap='Greens', normalize='true',\n",
    "                        classes=None, ):\n",
    "    \"\"\"Evaluates a scikit-learn binary classification model.\n",
    "\n",
    "    Args:\n",
    "        model (classifier): a fit keras classification model.\n",
    "        X_test (tensor/array): X data\n",
    "        y_test (tensor/array): y data\n",
    "        history (History object): model history from .fit\n",
    "        X_train (tensor/array): If provided, compare model.score \n",
    "                                for train and test. Defaults to None.\n",
    "        y_train (Series or Array, optional): If provided, compare model.score \n",
    "                                for train and test. Defaults to None.\n",
    "                                \n",
    "        history_figsize (tuple): figsize for each metric's history plot.\n",
    "        cm_figsize (tuple): figsize for confusion matrix plot\n",
    "      \n",
    "        cmap (str, optional): Colormap for confusion matrix. Defaults to 'Greens'.\n",
    "        normalize (str, optional): normalize argument for plot_confusion_matrix. \n",
    "                                    Defaults to 'true'.  \n",
    "        classes (list, optional): List of class names for display. Defaults to None.\n",
    "    \"\"\"\n",
    "    \n",
    "    header =  '==='*24\n",
    "    \n",
    "    ## First, Plot History, if provided.\n",
    "    if history is not None:\n",
    "        print(header,'\\t[i] MODEL HISTORY',header,sep='\\n')\n",
    "        plot_history(history,model,figsize=history_figsize)\n",
    "        \n",
    "    ## Evaluate Network for loss/acc scores\n",
    "    print(header,\"\\t[i] EVALUATING MODEL\",header,sep='\\n')\n",
    "    print()\n",
    "    \n",
    "    try:\n",
    "        evaluate_scores(model,X_train,y_train,label='Training')\n",
    "        print()\n",
    "        \n",
    "    except Exception as e:\n",
    "        print(\"Error evaluating for accuracy:\")\n",
    "        print(e)\n",
    "        \n",
    "    finally:\n",
    "        ## Evaluate test data\n",
    "        evaluate_scores(model,X_test,y_test,label='Test')\n",
    "        print(\"\\n\")\n",
    "        \n",
    "    \n",
    "    ## Evaluate training and test data with sklearn\n",
    "    if X_train is not None:\n",
    "        classification_report_cm(model, X_train, y_train, cmap=cmap,\n",
    "                                 normalize=normalize,\n",
    "                                 label='TRAINING DATA',cm_figsize=cm_figsize)       \n",
    "        print('\\n'*2)\n",
    "    classification_report_cm(model,X_test,y_test, cmap=cmap,\n",
    "                             normalize=normalize,\n",
    "                             label='TEST DATA',cm_figsize=cm_figsize)\n",
    "    "
   ]
  },
  {
   "cell_type": "code",
   "execution_count": 132,
   "metadata": {
    "ExecuteTime": {
     "end_time": "2021-06-05T01:38:05.942859Z",
     "start_time": "2021-06-05T01:38:02.885932Z"
    },
    "scrolled": false
   },
   "outputs": [
    {
     "name": "stdout",
     "output_type": "stream",
     "text": [
      "========================================================================\n",
      "\t[i] MODEL HISTORY\n",
      "========================================================================\n"
     ]
    },
    {
     "data": {
      "image/png": "[encoded data removed]",
      "text/plain": [
       "<Figure size 432x216 with 1 Axes>"
      ]
     },
     "metadata": {
      "needs_background": "light"
     },
     "output_type": "display_data"
    },
    {
     "data": {
      "image/png": "[encoded data removed]",
      "text/plain": [
       "<Figure size 432x216 with 1 Axes>"
      ]
     },
     "metadata": {
      "needs_background": "light"
     },
     "output_type": "display_data"
    },
    {
     "data": {
      "image/png": "[encoded data removed]",
      "text/plain": [
       "<Figure size 432x216 with 1 Axes>"
      ]
     },
     "metadata": {
      "needs_background": "light"
     },
     "output_type": "display_data"
    },
    {
     "name": "stdout",
     "output_type": "stream",
     "text": [
      "========================================================================\n",
      "\t[i] EVALUATING MODEL\n",
      "========================================================================\n",
      "\n",
      "\tTraining loss: 0.653\n",
      "\tTraining accuracy: 0.605\n",
      "\tTraining recall: 0.605\n",
      "\n",
      "\tTest loss: 0.665\n",
      "\tTest accuracy: 0.596\n",
      "\tTest recall: 0.596\n",
      "\n",
      "\n",
      "========================================================================\n",
      "\t[i] CLASSIFICATION REPORT - TRAINING DATA\n",
      "========================================================================\n",
      "\n",
      "              precision    recall  f1-score   support\n",
      "\n",
      "           0       0.79      0.29      0.42      4000\n",
      "           1       0.56      0.92      0.70      4000\n",
      "\n",
      "    accuracy                           0.60      8000\n",
      "   macro avg       0.68      0.60      0.56      8000\n",
      "weighted avg       0.68      0.60      0.56      8000\n",
      "\n",
      "\n"
     ]
    },
    {
     "data": {
      "image/png": "[encoded data removed]",
      "text/plain": [
       "<Figure size 288x288 with 2 Axes>"
      ]
     },
     "metadata": {
      "needs_background": "light"
     },
     "output_type": "display_data"
    },
    {
     "name": "stdout",
     "output_type": "stream",
     "text": [
      "\n",
      "\n",
      "\n",
      "========================================================================\n",
      "\t[i] CLASSIFICATION REPORT - TEST DATA\n",
      "========================================================================\n",
      "\n",
      "              precision    recall  f1-score   support\n",
      "\n",
      "           0       0.74      0.29      0.42       800\n",
      "           1       0.56      0.90      0.69       800\n",
      "\n",
      "    accuracy                           0.60      1600\n",
      "   macro avg       0.65      0.60      0.55      1600\n",
      "weighted avg       0.65      0.60      0.55      1600\n",
      "\n",
      "\n"
     ]
    },
    {
     "data": {
      "image/png": "[encoded data removed]",
      "text/plain": [
       "<Figure size 288x288 with 2 Axes>"
      ]
     },
     "metadata": {
      "needs_background": "light"
     },
     "output_type": "display_data"
    }
   ],
   "source": [
    "# evaluate_scores(model_1,X_train_unrow,y_train)\n",
    "# classification_report_cm(model_1,X_train_unrow,y_train)\n",
    "\n",
    "evaluate_network_v2(model_1, X_test_unrow,y_test,cm_figsize=(4,4),\n",
    "                    history=history,history_figsize=(6,3),normalize=None,\n",
    "                 X_train = X_train_unrow, y_train = y_train,cmap='Purples')"
   ]
  },
  {
   "cell_type": "code",
   "execution_count": 134,
   "metadata": {
    "ExecuteTime": {
     "end_time": "2021-06-05T01:38:08.777233Z",
     "start_time": "2021-06-05T01:38:08.775187Z"
    }
   },
   "outputs": [],
   "source": [
    "# plot_history(history,model_1)"
   ]
  },
  {
   "cell_type": "code",
   "execution_count": null,
   "metadata": {},
   "outputs": [],
   "source": []
  },
  {
   "cell_type": "markdown",
   "metadata": {},
   "source": [
    "### Combine the Whole Process Into One Func"
   ]
  },
  {
   "cell_type": "code",
   "execution_count": null,
   "metadata": {
    "ExecuteTime": {
     "end_time": "2021-06-05T00:50:39.619772Z",
     "start_time": "2021-06-05T00:50:34.690Z"
    }
   },
   "outputs": [],
   "source": [
    "def make_fit_plot_model(build_fn=make_model, epochs=10,\n",
    "                        fit_kws={'batch_size':32}):\n",
    "    model_1 = build_fn()\n",
    "    \n",
    "    history = model_1.fit(X_train_unrow,y_train,epochs=epochs,**fit_kws,\n",
    "                          validation_data=(X_val_unrow,y_val),\n",
    "                         )\n",
    "    plot_history(history)\n",
    "    plt.show()\n",
    "    \n",
    "    y_hat_test = model_1.predict(X_test_unrow).round()\n",
    "    print(metrics.classification_report(y_test,y_hat_test))\n",
    "    \n",
    "    ## Get and PLot the confusion matrix\n",
    "    cm = metrics.confusion_matrix(y_test, y_hat_test,\n",
    "                                normalize='true')\n",
    "\n",
    "    ax = sns.heatmap(cm, cmap='Blues',annot=True,square=True)\n",
    "    ax.set(xlabel='Predicted Class',ylabel='True Class')    \n",
    "    return model_1\n"
   ]
  },
  {
   "cell_type": "code",
   "execution_count": null,
   "metadata": {
    "ExecuteTime": {
     "end_time": "2021-06-05T00:50:39.621879Z",
     "start_time": "2021-06-05T00:50:34.694Z"
    },
    "scrolled": false
   },
   "outputs": [],
   "source": [
    "# def make_model():\n",
    "    \n",
    "#     model_1 = Sequential()\n",
    "#     model_1.add(Dense(64,activation='relu',\n",
    "#                       input_shape=(X_train_unrow.shape[1],)))\n",
    "    \n",
    "#     model_1.add(Dense(32,activation='relu'))\n",
    "    \n",
    "#     model_1.add(Dense(1,activation='sigmoid'))\n",
    "#     model_1.compile(optimizer='adam',loss='binary_crossentropy',\n",
    "#                     metrics=['accuracy'])#,tf.keras.metrics.Recall()])\n",
    "#     display(model_1.summary())\n",
    "#     return model_1\n",
    "\n",
    "\n",
    "model = make_fit_plot_model(make_model,epochs=20)"
   ]
  },
  {
   "cell_type": "code",
   "execution_count": null,
   "metadata": {
    "ExecuteTime": {
     "end_time": "2021-06-05T00:50:39.623387Z",
     "start_time": "2021-06-05T00:50:34.697Z"
    }
   },
   "outputs": [],
   "source": [
    "pd.Series(y_train).value_counts(1)"
   ]
  },
  {
   "cell_type": "markdown",
   "metadata": {},
   "source": [
    "> Combining all required params for this cell"
   ]
  },
  {
   "cell_type": "markdown",
   "metadata": {},
   "source": [
    "## Activity: Ok...so now what??"
   ]
  },
  {
   "cell_type": "markdown",
   "metadata": {},
   "source": [
    "> Using the rules of thumb and your own knowledge/research, attempt several methods to improve the results of the model. "
   ]
  },
  {
   "cell_type": "code",
   "execution_count": null,
   "metadata": {
    "ExecuteTime": {
     "end_time": "2021-06-05T00:04:27.270823Z",
     "start_time": "2021-06-05T00:04:05.897Z"
    },
    "scrolled": false
   },
   "outputs": [],
   "source": [
    "def make_model():\n",
    "    model_1 = Sequential()\n",
    "    model_1.add(Dense(64,activation='relu',\n",
    "                      input_shape=(X_train_unrow.shape[1],)))\n",
    "    model_1.add(Dense(32,activation='relu'))\n",
    "    model_1.add(layers.Dense(16,activation='relu'))\n",
    "    model_1.add(layers.Dropout(0.3))\n",
    "\n",
    "    model_1.add(Dense(1,activation='sigmoid'))\n",
    "    model_1.compile(optimizer='rmsprop',loss='binary_crossentropy',\n",
    "                    metrics=['accuracy'])#,tf.keras.metrics.Recall()])\n",
    "    display(model_1.summary())\n",
    "    return model_1\n",
    "\n",
    "model_3 = make_fit_plot_model(make_model,epochs=20)"
   ]
  },
  {
   "cell_type": "markdown",
   "metadata": {},
   "source": [
    "## Loading Data with ImageDataGenerator [Using 2D images]\n"
   ]
  },
  {
   "cell_type": "code",
   "execution_count": null,
   "metadata": {
    "ExecuteTime": {
     "end_time": "2021-06-05T00:04:27.271939Z",
     "start_time": "2021-06-05T00:04:05.902Z"
    }
   },
   "outputs": [],
   "source": [
    "#### EFFICIENT USE OF IMAGEDATAGENERATOR - LOADS DATA AS NEEDED\n",
    "## Image Dataset Settings\n",
    "VAL_SPLIT = 0.2 \n",
    "IMG_SIZE = (128,128)\n",
    "BATCH_SIZE = 32\n",
    "\n",
    "## Image Folderpaths\n",
    "BASE_FOLDER = \"/Users/jamesirving/Datasets/dogs-vs-cats-sorted/\"\n",
    "train_folder = BASE_FOLDER+\"training_set/\"\n",
    "test_folder = BASE_FOLDER+\"test_set/\"\n",
    "\n",
    "\n",
    "\n",
    "## Create ImageDataGenerator for training data - can add augmentation\n",
    "train_datagen = ImageDataGenerator(rescale = 1./255)#,\n",
    "#                                    shear_range = 0.2, zoom_range = 0.2,\n",
    "#                                    horizontal_flip = True)\n",
    "\n",
    "\n",
    "\n",
    "### Use generators flow_from_directory train_set\n",
    "train_set = train_datagen.flow_from_directory(train_folder,\n",
    "                                                 target_size=IMG_SIZE,\n",
    "                                                   batch_size=BATCH_SIZE\n",
    "#                                                       class_mode='binary'\n",
    "                                             )                                                  \n",
    "\n",
    "\n",
    "## Create ImageDataaGenerator for validation and test data - NO AUGMENTATION!\n",
    "test_val_datagen = ImageDataGenerator(rescale = 1./255,\n",
    "                                      validation_split=VAL_SPLIT)\n",
    "\n",
    "\n",
    "## Makng a Test Set and validation set from the same folder.\n",
    "test_set = test_val_datagen.flow_from_directory(test_folder,\n",
    "                                                     target_size=IMG_SIZE,\n",
    "                                                     subset='training',\n",
    "                                                     batch_size=BATCH_SIZE,\n",
    "#                                                     class_mode='binary'\n",
    "                                               )\n",
    "\n",
    "val_set = test_val_datagen.flow_from_directory(test_folder,target_size=IMG_SIZE,\n",
    "                                                   subset='validation',\n",
    "                                                    batch_size=BATCH_SIZE,\n",
    "#                                                    class_mode='binary'\n",
    "                                              )"
   ]
  },
  {
   "cell_type": "code",
   "execution_count": null,
   "metadata": {
    "ExecuteTime": {
     "end_time": "2021-06-05T00:04:48.121460Z",
     "start_time": "2021-06-05T00:04:48.119326Z"
    }
   },
   "outputs": [],
   "source": [
    "# ## Check Classes\n",
    "# print(train_set.class_indices)\n",
    "# train_set.labels"
   ]
  },
  {
   "cell_type": "code",
   "execution_count": null,
   "metadata": {
    "ExecuteTime": {
     "end_time": "2021-06-05T00:04:53.171340Z",
     "start_time": "2021-06-05T00:04:53.169296Z"
    }
   },
   "outputs": [],
   "source": [
    "# train_set.target_size"
   ]
  },
  {
   "cell_type": "code",
   "execution_count": null,
   "metadata": {
    "ExecuteTime": {
     "end_time": "2021-06-05T00:04:27.254782Z",
     "start_time": "2021-06-05T00:04:05.831Z"
    }
   },
   "outputs": [],
   "source": [
    "# ## Get number of classes for final layer\n",
    "# ex_X, ex_y = next(train_set)\n",
    "# print(ex_y.shape)\n",
    "\n",
    "# nclasses = ex_y.shape[1]\n",
    "# n_classes"
   ]
  },
  {
   "cell_type": "code",
   "execution_count": null,
   "metadata": {
    "ExecuteTime": {
     "end_time": "2021-06-05T00:07:29.545718Z",
     "start_time": "2021-06-05T00:07:29.543624Z"
    }
   },
   "outputs": [],
   "source": [
    "# def make_model(activation='relu'):#tf.keras.layers.LeakyReLU()):\n",
    "#     model_1 = Sequential()\n",
    "#     model_1.add(Dense(64,activation=activation,\n",
    "#                       input_shape=(X_train_unrow.shape[1],)))\n",
    "#     model_1.add(Dense(32,activation=activation))\n",
    "# #     model_1.add(layers.Dropout(0.3))\n",
    "\n",
    "#     model_1.add(layers.Dense(16,activation=activation))\n",
    "\n",
    "#     model_1.add(Dense(1,activation='sigmoid'))\n",
    "#     model_1.compile(optimizer='adam',loss='binary_crossentropy',\n",
    "#                     metrics=['accuracy'])#,tf.keras.metrics.Recall()])\n",
    "#     display(model_1.summary())\n",
    "#     return model_1\n",
    "\n",
    "# model_3 = make_fit_plot_model(make_model,epochs=20)"
   ]
  },
  {
   "cell_type": "markdown",
   "metadata": {},
   "source": [
    "# APPENDIX/FOR TOMORROW"
   ]
  },
  {
   "cell_type": "markdown",
   "metadata": {
    "heading_collapsed": true
   },
   "source": [
    "## HyperParameter Tuning with GridSearchCV & Keras"
   ]
  },
  {
   "cell_type": "markdown",
   "metadata": {
    "hidden": true
   },
   "source": [
    "Original Source: https://chrisalbon.com/deep_learning/keras/tuning_neural_network_hyperparameters/\n",
    "<br><br>\n",
    "\n",
    "- To use `GridSearchCV` or other similar functions in scikit-learn with a Keras neural network, we need to wrap our keras model in `keras.wrappers.scikit_learn`'s `KerasClassifier` and `KerasRegressor`.\n",
    "\n",
    "1. To do this, we need to write a build function(`build_fn`) that creates our model such as `create_model`.\n",
    "    - This function must accept whatever parameters you wish to tune. \n",
    "    - It also must have a default argument for each parameter.\n",
    "    - This function must Return the model (and only the model)\n",
    "    \n",
    "\n",
    "```python\n",
    "\n",
    "## Define the build function\n",
    "def create_model(n_units=(50,25,7), activation='relu',final_activation='softmax',\n",
    "                optimizer='adam'):\n",
    "    \n",
    "    ## Pro tip:save the local variables now so you can print out the parameters used to create the model.\n",
    "    params_used = locals()\n",
    "    print('Parameters for model:\\n',params_used)\n",
    "    \n",
    "   \n",
    "    from keras.models import Sequential\n",
    "    from keras import layers\n",
    "    \n",
    "    model=Sequential()\n",
    "    model.add(layers.Dense(n_units[0], activation=activation, input_shape=(2000,)))\n",
    "    model.add(layers.Dense(n_units[1], activation=activation))\n",
    "    model.add(layers.Dense(n_units[2], activation=final_activation))\n",
    "    model.compile(optimizer=optimizer, loss='categorical_crossentropy',metrics=['accuracy'])\n",
    "    \n",
    "    display(model.summary())\n",
    "    return model \n",
    "```    \n",
    "\n",
    "2. We then create out model using the Keras wrapper:\n",
    "\n",
    "```python\n",
    "from keras.wrappers.scikit_learn import KerasClassifier\n",
    "neural_network =  KerasClassifier(build_fn=create_model,verbose=1)\n",
    "```\n",
    "\n",
    "3. Now, set up the hyperparameter space for grid search. (Remember, your `create_model` function must accept the parameter you want to tune)\n",
    "\n",
    "```python\n",
    "params_to_test = {'n_units':[(50,25,7),(100,50,7)],\n",
    "                  'optimizer':['adam','rmsprop','adadelta'],\n",
    "                  'activation':['linear','relu','tanh'],\n",
    "                  'final_activation':['softmax']}\n",
    "```\n",
    "\n",
    "4. Now instantiate your GridSearch function\n",
    "\n",
    "```python\n",
    "from sklearn.model_selection import GridSearchCV\n",
    "\n",
    "grid = GridSearchCV(estimator=neural_network,param_grid=params_to_test)\n",
    "grid_result = grid.fit(X_train, y_train)\n",
    "best_params = grid_result.best_params_\n",
    "```\n",
    "5. And thats it!"
   ]
  },
  {
   "cell_type": "code",
   "execution_count": null,
   "metadata": {
    "ExecuteTime": {
     "end_time": "2021-06-05T00:04:27.275024Z",
     "start_time": "2021-06-05T00:04:05.915Z"
    },
    "hidden": true
   },
   "outputs": [],
   "source": [
    "# class Timer():\n",
    "#     ## def init\n",
    "#     def __init__(self,format_=\"%m/%d/%y - %I:%M %p\"):\n",
    "#         import tzlocal\n",
    "#         self.tz = tzlocal.get_localzone()\n",
    "#         self.fmt = format_\n",
    "        \n",
    "#         self.created_at = self.get_time()# get time\n",
    "        \n",
    "    \n",
    "#     ## def get time method\n",
    "#     def get_time(self):\n",
    "#         import datetime as dt\n",
    "#         return dt.datetime.now(self.tz)\n",
    "\n",
    "#     ## def start\n",
    "#     def start(self):\n",
    "#         time = self.get_time()\n",
    "#         self.start = time\n",
    "#         print(f\"[i] Timer started at{self.start.strftime(self.fmt)}\")\n",
    "\n",
    "        \n",
    "\n",
    "#     ## def stop\n",
    "#     def stop(self):\n",
    "#         time = self.get_time()\n",
    "#         self.end = time\n",
    "#         print(f\"[i] Timer ended at {self.end.strftime(self.fmt)}\")\n",
    "#         print(f\"- Total time = {self.end-self.start}\")\n",
    "\n",
    "        \n",
    "        \n",
    "def plot_confusion_matrix(conf_matrix, classes = None, normalize=True,\n",
    "                          title='Confusion Matrix', cmap=\"Blues\",\n",
    "                          print_raw_matrix=False,\n",
    "                          fig_size=(4,4)):\n",
    "    \"\"\"Check if Normalization Option is Set to True. \n",
    "    If so, normalize the raw confusion matrix before visualizing\n",
    "    #Other code should be equivalent to your previous function.\n",
    "    Note: Taken from bs_ds and modified\n",
    "    - Can pass a tuple of (y_true,y_pred) instead of conf matrix.\n",
    "    \"\"\"\n",
    "    import itertools\n",
    "    import numpy as np\n",
    "    import matplotlib.pyplot as plt\n",
    "    import sklearn.metrics as metrics\n",
    "    \n",
    "    ## make confusion matrix if given tuple of y_true,y_pred\n",
    "    if isinstance(conf_matrix, tuple):\n",
    "        y_true = conf_matrix[0].copy()\n",
    "        y_pred = conf_matrix[1].copy()\n",
    "        \n",
    "        if y_true.ndim>1:\n",
    "            y_true = y_true.argmax(axis=1)\n",
    "        if y_pred.ndim>1:\n",
    "            y_pred = y_pred.argmax(axis=1)\n",
    "        cm = metrics.confusion_matrix(y_true,y_pred)\n",
    "    else:\n",
    "        cm = conf_matrix\n",
    "        \n",
    "    ## Generate integer labels for classes\n",
    "    if classes is None:\n",
    "        classes = list(range(len(cm)))  \n",
    "        \n",
    "    ## Normalize data\n",
    "    if normalize:\n",
    "        cm = cm.astype('float') / cm.sum(axis=1)[:, np.newaxis]\n",
    "        fmt='.2f'\n",
    "    else:\n",
    "        fmt= 'd'\n",
    "        \n",
    "        \n",
    "    fontDict = {\n",
    "        'title':{\n",
    "            'fontsize':16,\n",
    "            'fontweight':'semibold',\n",
    "            'ha':'center',\n",
    "            },\n",
    "        'xlabel':{\n",
    "            'fontsize':14,\n",
    "            'fontweight':'normal',\n",
    "            },\n",
    "        'ylabel':{\n",
    "            'fontsize':14,\n",
    "            'fontweight':'normal',\n",
    "            },\n",
    "        'xtick_labels':{\n",
    "            'fontsize':10,\n",
    "            'fontweight':'normal',\n",
    "    #             'rotation':45,\n",
    "            'ha':'right',\n",
    "            },\n",
    "        'ytick_labels':{\n",
    "            'fontsize':10,\n",
    "            'fontweight':'normal',\n",
    "            'rotation':0,\n",
    "            'ha':'right',\n",
    "            },\n",
    "        'data_labels':{\n",
    "            'ha':'center',\n",
    "            'fontweight':'semibold',\n",
    "\n",
    "        }\n",
    "    }\n",
    "\n",
    "    # Create plot\n",
    "    fig,ax = plt.subplots(figsize=fig_size)\n",
    "\n",
    "    plt.imshow(cm, interpolation='nearest', cmap=cmap)\n",
    "    plt.title(title,**fontDict['title'])\n",
    "    plt.colorbar()\n",
    "\n",
    "    tick_marks = classes#np.arange(len(classes))\n",
    "\n",
    "\n",
    "    plt.xticks(tick_marks, classes, **fontDict['xtick_labels'])\n",
    "    plt.yticks(tick_marks, classes,**fontDict['ytick_labels'])\n",
    "\n",
    "    # Determine threshold for b/w text\n",
    "    thresh = cm.max() / 2.\n",
    "\n",
    "    # fig,ax = plt.subplots()\n",
    "    for i, j in itertools.product(range(cm.shape[0]), range(cm.shape[1])):\n",
    "        plt.text(j, i, format(cm[i, j], fmt),\n",
    "                 color='darkgray',**fontDict['data_labels']) #color=\"white\" if cm[i, j] > thresh else \"black\"\n",
    "\n",
    "    plt.tight_layout()\n",
    "    plt.ylabel('True label',**fontDict['ylabel'])\n",
    "    plt.xlabel('Predicted label',**fontDict['xlabel'])\n",
    "\n",
    "    if print_raw_matrix:\n",
    "        print_title = 'Raw Confusion Matrix Counts:'\n",
    "        print('\\n',print_title)\n",
    "        print(conf_matrix)\n",
    "\n",
    "\n",
    "    fig = plt.gcf()\n",
    "    return fig\n",
    "\n",
    "\n",
    "\n",
    "def plot_keras_history(history,figsize_1=(6,4),\n",
    "    figsize_2=(8,6)):\n",
    "    \"\"\"Plots keras history and returns fig\"\"\"\n",
    "    ## Make a df from history\n",
    "    plot_df = pd.DataFrame(history.history)\n",
    "    plot_df['Epoch'] = range(1,len(plot_df)+1)\n",
    "    plot_df.set_index('Epoch',inplace=True)\n",
    "    ## Get cols for acc vs loss\n",
    "    acc_cols = list(filter(lambda x: 'acc' in x, plot_df.columns))\n",
    "    loss_cols = list(filter(lambda x: 'loss' in x, plot_df.columns))   \n",
    "    \n",
    "    ## Set figsizes based on number of keys\n",
    "    if len(acc_cols)>1:\n",
    "        figsize=figsize_2\n",
    "    else:\n",
    "        figsize=figsize_1\n",
    "\n",
    "    ## Make figure and axes\n",
    "    fig,ax = plt.subplots(nrows=2,figsize=figsize,sharex=True)\n",
    "    \n",
    "    ## Plot Accuracy cols in plot 1\n",
    "    plot_df[acc_cols].plot(ax=ax[0])\n",
    "    ax[0].set(ylabel='Accuracy')\n",
    "    ax[0].set_title('Training Results')\n",
    "\n",
    "    ## Plot loss cols in plot 2\n",
    "    plot_df[loss_cols].plot(ax=ax[1])\n",
    "    ax[1].set(ylabel='Loss')\n",
    "    ax[1].set_xlabel('Epoch #')\n",
    "\n",
    "\n",
    "    ## Change xaxis locators \n",
    "    [a.xaxis.set_major_locator(mpl.ticker.MaxNLocator(len(plot_df),integer=True)) for a in ax]\n",
    "    [a.set_xlim((1,len(plot_df)+1)) for a in ax]\n",
    "    plt.tight_layout()\n",
    "    \n",
    "    return fig"
   ]
  },
  {
   "cell_type": "code",
   "execution_count": null,
   "metadata": {
    "ExecuteTime": {
     "end_time": "2021-06-05T00:04:27.275976Z",
     "start_time": "2021-06-05T00:04:05.918Z"
    },
    "hidden": true
   },
   "outputs": [],
   "source": [
    "from keras.models import Sequential\n",
    "from keras.layers import Dense"
   ]
  },
  {
   "cell_type": "code",
   "execution_count": null,
   "metadata": {
    "ExecuteTime": {
     "end_time": "2021-06-05T00:04:27.277035Z",
     "start_time": "2021-06-05T00:04:05.923Z"
    },
    "hidden": true
   },
   "outputs": [],
   "source": [
    "X_train_img[0].shape"
   ]
  },
  {
   "cell_type": "code",
   "execution_count": null,
   "metadata": {
    "ExecuteTime": {
     "end_time": "2021-06-05T00:04:27.278058Z",
     "start_time": "2021-06-05T00:04:05.926Z"
    },
    "hidden": true
   },
   "outputs": [],
   "source": [
    "X_train_img.shape, y_train.shape"
   ]
  },
  {
   "cell_type": "code",
   "execution_count": null,
   "metadata": {
    "ExecuteTime": {
     "end_time": "2021-06-05T00:04:27.279039Z",
     "start_time": "2021-06-05T00:04:05.929Z"
    },
    "hidden": true
   },
   "outputs": [],
   "source": [
    "from keras.wrappers.scikit_learn import KerasClassifier"
   ]
  },
  {
   "cell_type": "code",
   "execution_count": null,
   "metadata": {
    "ExecuteTime": {
     "end_time": "2021-06-05T00:04:27.280054Z",
     "start_time": "2021-06-05T00:04:05.933Z"
    },
    "hidden": true
   },
   "outputs": [],
   "source": [
    "from keras.callbacks import ModelCheckpoint, EarlyStopping, CSVLogger\n",
    "\n",
    "def create_checkpoint(monitor,model_subfolder=\"\"):#='Datasets/Models/cat_vs_dog/'):\n",
    "    filepath=model_subfolder+\"weights-improvement-{epoch:02d}-{\"+monitor+\":.2f}.hdf5\"\n",
    "    checkpoint = ModelCheckpoint(filepath, monitor=monitor, verbose=1, save_best_only=True, mode='max')\n",
    "    return checkpoint\n",
    "\n",
    "def create_early_stopping(monitor = 'val_accuracy',min_delta = 0.05, patience = 3,\n",
    "                          verbose = 1, restore_best_weights = True):\n",
    "\n",
    "    args = locals()\n",
    "    earlystop = EarlyStopping(**args)\n",
    "    return earlystop\n",
    "\n",
    "\n",
    "def get_callbacks(early_stop_kws={}, checkpoint_kws={}):\n",
    "    model_subfolder=BASE_FOLDER+'Models/'\n",
    "    os.makedirs(model_subfolder,exist_ok=True)\n",
    "\n",
    "    callbacks_list = [create_checkpoint('val_accuracy',\n",
    "                                        model_subfolder=model_subfolder,**checkpoint_kws),\n",
    "                      create_early_stopping(**early_stop_kws)]\n",
    "    return callbacks_list"
   ]
  },
  {
   "cell_type": "code",
   "execution_count": null,
   "metadata": {
    "hidden": true
   },
   "outputs": [],
   "source": []
  },
  {
   "cell_type": "code",
   "execution_count": null,
   "metadata": {
    "ExecuteTime": {
     "end_time": "2021-06-05T00:04:27.281053Z",
     "start_time": "2021-06-05T00:04:05.938Z"
    },
    "hidden": true
   },
   "outputs": [],
   "source": [
    "def make_model():\n",
    "    model = Sequential()\n",
    "    model.add(Dense(64,activation='relu',input_shape=(X_train_img.shape[1],)))\n",
    "    model.add(Dense(2, activation='softmax'))\n",
    "    model.compile(loss='binary_crossentropy', optimizer='sgd', metrics=['accuracy'])\n",
    "    return model"
   ]
  },
  {
   "cell_type": "code",
   "execution_count": null,
   "metadata": {
    "ExecuteTime": {
     "end_time": "2021-06-05T00:04:27.281994Z",
     "start_time": "2021-06-05T00:04:05.942Z"
    },
    "hidden": true,
    "scrolled": true
   },
   "outputs": [],
   "source": [
    "model = KerasClassifier(make_model)\n",
    "model"
   ]
  },
  {
   "cell_type": "code",
   "execution_count": null,
   "metadata": {
    "ExecuteTime": {
     "end_time": "2021-06-05T00:04:27.283023Z",
     "start_time": "2021-06-05T00:04:05.945Z"
    },
    "hidden": true,
    "scrolled": true
   },
   "outputs": [],
   "source": [
    "## Fit baseline model\n",
    "timer = Timer()\n",
    "\n",
    "timer.start()\n",
    "history = model.fit(X_train_img, y_train, epochs=100, batch_size=64, \n",
    "                      validation_data=(X_val_img, y_val))\n",
    "timer.stop()"
   ]
  },
  {
   "cell_type": "code",
   "execution_count": null,
   "metadata": {
    "ExecuteTime": {
     "end_time": "2021-06-05T00:04:27.284011Z",
     "start_time": "2021-06-05T00:04:05.948Z"
    },
    "hidden": true
   },
   "outputs": [],
   "source": [
    "history"
   ]
  },
  {
   "cell_type": "code",
   "execution_count": null,
   "metadata": {
    "hidden": true
   },
   "outputs": [],
   "source": []
  },
  {
   "cell_type": "code",
   "execution_count": null,
   "metadata": {
    "ExecuteTime": {
     "end_time": "2021-06-05T00:04:27.284999Z",
     "start_time": "2021-06-05T00:04:05.953Z"
    },
    "hidden": true
   },
   "outputs": [],
   "source": [
    "        \n",
    "def evaluate_model(y_true, y_pred,history=None):\n",
    "    \"\"\"Evaluates neural network using sklearn metrics\"\"\"\n",
    "    from sklearn import metrics\n",
    "    if y_true.ndim>1:\n",
    "        y_true = y_true.argmax(axis=1)\n",
    "    if y_pred.ndim>1:\n",
    "        y_pred = y_pred.argmax(axis=1)   \n",
    "#     try:    \n",
    "    if history is not None:\n",
    "        plot_keras_history(history)\n",
    "#     except:\n",
    "#         pass\n",
    "    \n",
    "    num_dashes=20\n",
    "    print('\\n')\n",
    "    print('---'*num_dashes)\n",
    "    print('\\tCLASSIFICATION REPORT:')\n",
    "    print('---'*num_dashes)\n",
    "    try:\n",
    "        print(metrics.classification_report(y_true,y_pred))\n",
    "        \n",
    "        fig = plot_confusion_matrix((y_true,y_pred))\n",
    "        plt.show()\n",
    "    except Exception as e:\n",
    "        print(f\"[!] Error during model evaluation:\\n\\t{e}\")\n",
    "\n",
    "        \n",
    "        "
   ]
  },
  {
   "cell_type": "code",
   "execution_count": null,
   "metadata": {
    "ExecuteTime": {
     "end_time": "2021-06-05T00:04:27.285974Z",
     "start_time": "2021-06-05T00:04:05.956Z"
    },
    "hidden": true
   },
   "outputs": [],
   "source": [
    "y_hat_test = model.predict(X_test_img)\n",
    "\n",
    "evaluate_model(y_test,y_hat_test,history)"
   ]
  },
  {
   "cell_type": "code",
   "execution_count": null,
   "metadata": {
    "ExecuteTime": {
     "end_time": "2021-06-05T00:04:27.286998Z",
     "start_time": "2021-06-05T00:04:05.960Z"
    },
    "hidden": true
   },
   "outputs": [],
   "source": [
    "def make_fit_evaluate_model(build_fn, fit_params = dict(epochs=100,\n",
    "                                                        batch_size=64)):\n",
    "    model = build_fn()\n",
    "    \n",
    "    timer = Timer()\n",
    "    model.summary()\n",
    "    timer.start()\n",
    "    \n",
    "    history = model.fit(X_train_img, y_train,**fit_params,\n",
    "                          validation_data=(X_val_img, y_val))\n",
    "    timer.stop()\n",
    "    \n",
    "    y_hat_test = model.predict(X_test_img)\n",
    "    evaluate_model(y_test,y_hat_test,history)\n",
    "    return model,y_hat_test"
   ]
  },
  {
   "cell_type": "code",
   "execution_count": null,
   "metadata": {
    "ExecuteTime": {
     "end_time": "2021-06-05T00:04:27.287969Z",
     "start_time": "2021-06-05T00:04:05.963Z"
    },
    "hidden": true,
    "scrolled": true
   },
   "outputs": [],
   "source": [
    "fit_model,model_preds = make_fit_evaluate_model(make_model)"
   ]
  },
  {
   "cell_type": "markdown",
   "metadata": {
    "heading_collapsed": true
   },
   "source": [
    "## APPENDIX/HOW-TOs:"
   ]
  },
  {
   "cell_type": "markdown",
   "metadata": {},
   "source": [
    "## How to Make a Custom Scoring Function"
   ]
  },
  {
   "cell_type": "markdown",
   "metadata": {},
   "source": [
    "1. **Why would you do this?**\n",
    "    1. You may want to use a metric that isn't available in sklearn. \n",
    "        - In the included `my_custom_scorer` function, I take the accuracy of each class's predictions from the diagonal of a normalized confusion matrix. \n",
    "        - I then calculate the mean of those 3 class accuracies, which is the `score` that is returned to the gridsearch. \n",
    "        \n",
    "    2. You may want to add a printout or display to the scoring function so you can see the results as the search is going.\n",
    "<br><br>\n",
    "2. **How do you do write your own?**\n",
    "    1. Define your custom scoring function.\n",
    "        - It must accept `y_true`,`y_pred`\n",
    "        - It must return a value to maximize. (like accuracy)\n",
    "    2. You can add print or display commands to have the scoring function report the current results as the gridsearch is still going.\n",
    "        - If you combine this with the example `create_model` function above that includes the `vars=locals(); print(vars)` command, then gridsearch will display:\n",
    "            1. the parameters of each model (each time the `create_model` function is called.\n",
    "            2. The score of each model, including a confusion matrix figure (each time it calls `my_custom_scorer`).\n",
    "        \n",
    "```python\n",
    "def my_custom_scorer(y_true,y_pred):\n",
    "    \"\"\"My custom score function to use with sklearn's GridSearchCV\n",
    "    Maximizes the average accuracy per class using a normalized confusion matrix\"\"\"\n",
    "    from sklearn.metrics import confusion_matrix\n",
    "    import numpy as np\n",
    "    import functions_combined_BEST as ji    \n",
    "\n",
    "    ## Flatten one-hot encoded target columns into 1 column for sklearn functions\n",
    "    if y_true.ndim>1 or y_pred.ndim>1:\n",
    "        \n",
    "        ## reduce dimensions of y_train and y_test\n",
    "        if y_true.ndim>1:            \n",
    "            y_true = y_true.argmax(axis=1)\n",
    "        \n",
    "        if y_pred.ndim>1:\n",
    "            y_pred = y_pred.argmax(axis=1)\n",
    "\n",
    "    \n",
    "     # Get confusion matrx\n",
    "    cm = confusion_matrix(y_true, y_pred)\n",
    "\n",
    "    # Normalize confusion matrix\n",
    "    cm_norm = cm.astype('float')/cm.sum(axis=1)[:,np.newaxis]\n",
    "\n",
    "    ## Get diagonals for class accuracy\n",
    "    diag = cm_norm.diagonal()\n",
    "    \n",
    "    # Get the mean of the diagonal values\n",
    "    score = np.mean(diag)\n",
    "    \n",
    "    ## Display Results for the User\n",
    "    print(f'Mean Class Accuracy = {score}')\n",
    "    print(f'Class Accuracy Values:')\n",
    "    print(diag)    \n",
    "\n",
    "    ## Plot the confusion matrix.\n",
    "    ji.plot_confusion_matrix(cm,normalize=True)\n",
    "\n",
    "    # return the score \n",
    "    return score\n",
    "```        \n",
    "        \n",
    "        \n",
    "3. **How do you use it?**\n",
    "    - When instantiating GridSearchCV pass your function as the `scoring=` parameter, wrapped in the  `sklearn.metrics.make_scorer` function.\n",
    "  \n",
    "\n",
    "```python\n",
    "## Using custom scoring function\n",
    "from sklearn.metrics import make_scorer\n",
    "\n",
    "grid = GridSearchCV(estimator=neural_network, \n",
    "                    param_grid=params_to_test,\n",
    "                   scoring=make_scorer(my_custom_scorer))\n",
    "                    \n",
    "grid_result = grid.fit(X_train, y_train)\n",
    "```"
   ]
  },
  {
   "cell_type": "markdown",
   "metadata": {},
   "source": [
    "### PROGRAMMATICALLTY MAKING SUBPLOTS (WIP)\n"
   ]
  },
  {
   "cell_type": "code",
   "execution_count": null,
   "metadata": {
    "ExecuteTime": {
     "end_time": "2021-06-05T00:50:39.618301Z",
     "start_time": "2021-06-05T00:50:34.686Z"
    }
   },
   "outputs": [],
   "source": [
    "### PROGRAMMATICALLTY MAKING SUBPLOTS\n",
    "num_metrics = len(model_1.metrics_names)\n",
    "\n",
    "## Calculating subplot arrangmenet\n",
    "ncols = 2\n",
    "\n",
    "if num_metrics%ncols>0:\n",
    "    nrows = num_metrics//ncols+1\n",
    "else:\n",
    "    nrows = num_metrics//ncols\n",
    "    \n",
    "fig,axes = plt.subplots(figsize=(ncols*5,nrows*4),nrows=nrows,ncols=ncols)\n",
    "axes = axes.flatten()\n",
    "\n",
    "for metric,ax in zip(mode1_1.metrics_names,axes):\n",
    "    res_df[[col for col in res_df.columns if metric in col]].plot(**plot_kws,ax=ax)\n",
    "    ax.set(xlabel='Epoch',ylabel=metric,title=metric)\n",
    "    ax.grid()\n",
    "    ax.xaxis.set_major_locator(mpl.ticker.MaxNLocator(integer=True))\n",
    "#     plt.show()"
   ]
  },
  {
   "cell_type": "code",
   "execution_count": null,
   "metadata": {},
   "outputs": [],
   "source": []
  }
 ],
 "metadata": {
  "colab": {
   "collapsed_sections": [],
   "name": "Copy of James' Study Group Notes - Section 41-42 (condensed version).ipynb",
   "provenance": []
  },
  "kernelspec": {
   "display_name": "learn-env-new",
   "language": "python",
   "name": "learn-env-new"
  },
  "language_info": {
   "codemirror_mode": {
    "name": "ipython",
    "version": 3
   },
   "file_extension": ".py",
   "mimetype": "text/x-python",
   "name": "python",
   "nbconvert_exporter": "python",
   "pygments_lexer": "ipython3",
   "version": "3.8.5"
  },
  "toc": {
   "base_numbering": 1,
   "nav_menu": {},
   "number_sections": true,
   "sideBar": true,
   "skip_h1_title": false,
   "title_cell": "Table of Contents",
   "title_sidebar": "Contents",
   "toc_cell": false,
   "toc_position": {
    "height": "calc(100% - 180px)",
    "left": "10px",
    "top": "150px",
    "width": "256px"
   },
   "toc_section_display": true,
   "toc_window_display": true
  }
 },
 "nbformat": 4,
 "nbformat_minor": 1
}
