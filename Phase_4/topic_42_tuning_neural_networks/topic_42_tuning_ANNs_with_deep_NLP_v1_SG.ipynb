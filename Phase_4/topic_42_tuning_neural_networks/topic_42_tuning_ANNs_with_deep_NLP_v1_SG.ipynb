{
 "cells": [
  {
   "cell_type": "markdown",
   "metadata": {},
   "source": [
    "# Topic 42 - Tuning Neural Networks + Deep NLP"
   ]
  },
  {
   "cell_type": "markdown",
   "metadata": {},
   "source": [
    "- 06/08/21\n",
    "- onl01-dtsc-ft-022221"
   ]
  },
  {
   "cell_type": "markdown",
   "metadata": {},
   "source": [
    "## Learning Objectives"
   ]
  },
  {
   "cell_type": "markdown",
   "metadata": {},
   "source": [
    "- Learn about Word Embeddings.\n",
    "    - Discuss word Embeddings and their advantages\n",
    "    - Training Word2Vec models\n",
    "    - ~~Using pretrained word embeddings~~ [Another time]\n",
    "    \n",
    "- Learn about Sequence Models and Recurrent Neural Networks\n",
    "    - LSTMs with word embeddings. \n",
    "    \n",
    "    \n",
    "- Activity: Predicting Stack Overflow post quality. \n",
    "\n",
    "- Learn about Tuning Neural Networks\n",
    "    - Discuss the different options available for tuning neural networks\n",
    "\n",
    "    - Discuss some rules of thumb for tuning Neural Networks\n",
    "\n",
    "    - Learn how to use GridSearchCV with Keras neural neural networks.\n",
    "\n",
    "    - ~~Learn how to create your own custom scorer for sklearn (and why you'd want to)~~"
   ]
  },
  {
   "cell_type": "markdown",
   "metadata": {},
   "source": [
    "## Questions"
   ]
  },
  {
   "cell_type": "markdown",
   "metadata": {},
   "source": [
    "- What is an exploding Gradient?\n",
    "- Do we have the ability to set max weights?\n"
   ]
  },
  {
   "cell_type": "markdown",
   "metadata": {},
   "source": [
    "# Appendix Topic: Deep Natural Language Processing"
   ]
  },
  {
   "cell_type": "markdown",
   "metadata": {},
   "source": [
    "## Review: NLP & Word Vectorization"
   ]
  },
  {
   "cell_type": "markdown",
   "metadata": {},
   "source": [
    "> - As a reminder, machine learning models needed text to be converted to numbers (\"vectorization\") before training the model. \n",
    "    - We used frequency counts or tf-idf values to produce numeric values for each word. \n",
    "    - We trained the models to look for the presence/absence of words to classify texts."
   ]
  },
  {
   "cell_type": "markdown",
   "metadata": {},
   "source": [
    "# Word Embeddings"
   ]
  },
  {
   "cell_type": "markdown",
   "metadata": {},
   "source": [
    "- Word embeddings are vectorized words representing their **semantic meaning**.\n",
    "- They are created with an arbitrary length (typically 100 points).\n",
    "\n",
    "\n",
    "- Convert words into a vector space\n",
    "    - Each word gets its own unique vector. \n",
    "    - Vectors capture how similar various words are.\n",
    "   "
   ]
  },
  {
   "cell_type": "markdown",
   "metadata": {},
   "source": [
    "<img src=\"https://raw.githubusercontent.com/jirvingphd/dsc-word-embeddings-online-ds-ft-100719/master/images/vectors.png\">"
   ]
  },
  {
   "cell_type": "markdown",
   "metadata": {},
   "source": [
    ">- Once we have word embeddings, we can actually identify related words based on meaning. \n",
    "\n",
    "<img src=\"https://raw.githubusercontent.com/jirvingphd/dsc-word-embeddings-online-ds-ft-100719/master/images/embeddings.png\">"
   ]
  },
  {
   "cell_type": "markdown",
   "metadata": {},
   "source": [
    "## Resources"
   ]
  },
  {
   "cell_type": "markdown",
   "metadata": {},
   "source": [
    "- [How Embeddings are Created](https://calvinfeng.gitbook.io/machine-learning-notebook/supervised-learning/natural-language-processing/word2vec)\n",
    "- [Creating Word Embeddings: Coding the Word2Vec Algorithm in Python using Deep Learning](https://towardsdatascience.com/creating-word-embeddings-coding-the-word2vec-algorithm-in-python-using-deep-learning-b337d0ba17a8)\n",
    "- Kaggle Tutorial:  https://www.kaggle.com/learn/embeddings\n",
    "- Google Embedding Crash Course: https://developers.google.com/machine-learning/crash-course/embeddings"
   ]
  },
  {
   "cell_type": "markdown",
   "metadata": {},
   "source": [
    "## Word2Vec"
   ]
  },
  {
   "cell_type": "markdown",
   "metadata": {},
   "source": [
    "<img src=\"https://raw.githubusercontent.com/jirvingphd/dsc-using-word2vec-online-ds-ft-100719/master/images/training_data.png\">"
   ]
  },
  {
   "cell_type": "markdown",
   "metadata": {},
   "source": []
  },
  {
   "cell_type": "markdown",
   "metadata": {},
   "source": [
    "### Skip-Gram Model"
   ]
  },
  {
   "cell_type": "markdown",
   "metadata": {},
   "source": [
    "- Train the MLP to find the best weights (context) to map word-to-word\n",
    "- But since words close to another usually contain context, we're _really_ teaching it context in those weights\n",
    "- Gut check: similar contexted words can be exchanged\n",
    "    + EX: \"A fluffy **dog** is a great pet\" <--> \"A fluffy **cat** is a great pet\"\n",
    "\n",
    "- By training a text-generation model, we wind up with a lookup table where each word has its own vector "
   ]
  },
  {
   "cell_type": "markdown",
   "metadata": {},
   "source": [
    "- Resource: \n",
    "    - [skip-gram vs CBOW methods](https://towardsdatascience.com/nlp-101-word2vec-skip-gram-and-cbow-93512ee24314)"
   ]
  },
  {
   "cell_type": "markdown",
   "metadata": {},
   "source": [
    "#### How to create an emebding:\n",
    "- Resources:\n",
    "    - [How Embeddings are Created](https://calvinfeng.gitbook.io/machine-learning-notebook/supervised-learning/natural-language-processing/word2vec)\n",
    "    - [Creating Word Embeddings: Coding the Word2Vec Algorithm in Python using Deep Learning](https://towardsdatascience.com/creating-word-embeddings-coding-the-word2vec-algorithm-in-python-using-deep-learning-b337d0ba17a8)\n",
    "\n",
    "\n",
    "- To create a word embedding, we train a shallow neural network for a fake task. \n",
    "\n",
    "    - The fake task is to use one-hot-encoded text data to then predict the probability of seeing every other word in the corpus within the same context as the one-hot-encoded word.\n",
    "    \n",
    "\n",
    "<img src=\"https://raw.githubusercontent.com/jirvingphd/dsc-using-word2vec-online-ds-ft-100719/master/images/new_skip_gram_net_arch.png\">\n",
    "\n",
    "\n",
    "<img src=\"https://raw.githubusercontent.com/learn-co-students/dsc-using-word2vec-online-ds-ft-100719/master/images/new_word2vec_weight_matrix_lookup_table.png\">"
   ]
  },
  {
   "cell_type": "markdown",
   "metadata": {},
   "source": [
    "## GloVe - Global Vectors for Word Representation"
   ]
  },
  {
   "cell_type": "markdown",
   "metadata": {},
   "source": [
    "### Transfer Learning"
   ]
  },
  {
   "cell_type": "markdown",
   "metadata": {},
   "source": [
    "- Usually embeddings are hundreds of dimensions\n",
    "- Just use the word embeddings already learned from before!\n",
    "    + Unless very specific terminology, context will likely carry within language\n",
    "- Comparable to CNN transfer learning"
   ]
  },
  {
   "cell_type": "markdown",
   "metadata": {},
   "source": [
    "# Activity: Creating our own word embeddings"
   ]
  },
  {
   "cell_type": "markdown",
   "metadata": {},
   "source": [
    "### Data: Stack Overflow Questions"
   ]
  },
  {
   "cell_type": "markdown",
   "metadata": {},
   "source": [
    "- Stack Overflow Answers: https://www.kaggle.com/imoore/60k-stack-overflow-questions-with-quality-rate\n",
    "\n",
    "\n",
    "- Kaggle Description:\n",
    "    - We collected 60,000 Stack Overflow questions from 2016-2020 and classified them into three categories:\n",
    "\n",
    "        - HQ: High-quality posts with a total of 30+ score and without a single edit.\n",
    "        - LQ_EDIT: Low-quality posts with a negative score, and multiple community edits. However, they still remain open after those changes.\n",
    "        - LQ_CLOSE: Low-quality posts that were closed by the community without a single edit."
   ]
  },
  {
   "cell_type": "code",
   "execution_count": 1,
   "metadata": {
    "ExecuteTime": {
     "end_time": "2021-06-09T00:15:07.613970Z",
     "start_time": "2021-06-09T00:15:02.055916Z"
    }
   },
   "outputs": [
    {
     "name": "stdout",
     "output_type": "stream",
     "text": [
      "2.4.0\n"
     ]
    }
   ],
   "source": [
    "from tensorflow.random import set_seed\n",
    "set_seed(321)\n",
    "\n",
    "import tensorflow as tf\n",
    "print(tf.__version__)\n",
    "\n",
    "import numpy as np \n",
    "np.random.seed(321)\n",
    "\n",
    "import matplotlib as mpl\n",
    "import matplotlib.pyplot as plt\n",
    "import seaborn as sns\n",
    "import pandas as pd\n",
    "import os,sys\n",
    "\n",
    "plt.rcParams['figure.figsize'] = [8,4]"
   ]
  },
  {
   "cell_type": "code",
   "execution_count": 2,
   "metadata": {
    "ExecuteTime": {
     "end_time": "2021-06-09T00:15:08.419487Z",
     "start_time": "2021-06-09T00:15:07.616029Z"
    }
   },
   "outputs": [
    {
     "data": {
      "text/html": [
       "<div>\n",
       "<style scoped>\n",
       "    .dataframe tbody tr th:only-of-type {\n",
       "        vertical-align: middle;\n",
       "    }\n",
       "\n",
       "    .dataframe tbody tr th {\n",
       "        vertical-align: top;\n",
       "    }\n",
       "\n",
       "    .dataframe thead th {\n",
       "        text-align: right;\n",
       "    }\n",
       "</style>\n",
       "<table border=\"1\" class=\"dataframe\">\n",
       "  <thead>\n",
       "    <tr style=\"text-align: right;\">\n",
       "      <th></th>\n",
       "      <th>Id</th>\n",
       "      <th>Title</th>\n",
       "      <th>Body</th>\n",
       "      <th>Tags</th>\n",
       "      <th>CreationDate</th>\n",
       "      <th>Y</th>\n",
       "    </tr>\n",
       "  </thead>\n",
       "  <tbody>\n",
       "    <tr>\n",
       "      <th>0</th>\n",
       "      <td>34552656</td>\n",
       "      <td>Java: Repeat Task Every Random Seconds</td>\n",
       "      <td>&lt;p&gt;I'm already familiar with repeating tasks e...</td>\n",
       "      <td>&lt;java&gt;&lt;repeat&gt;</td>\n",
       "      <td>2016-01-01 00:21:59</td>\n",
       "      <td>LQ_CLOSE</td>\n",
       "    </tr>\n",
       "    <tr>\n",
       "      <th>1</th>\n",
       "      <td>34553034</td>\n",
       "      <td>Why are Java Optionals immutable?</td>\n",
       "      <td>&lt;p&gt;I'd like to understand why Java 8 Optionals...</td>\n",
       "      <td>&lt;java&gt;&lt;optional&gt;</td>\n",
       "      <td>2016-01-01 02:03:20</td>\n",
       "      <td>HQ</td>\n",
       "    </tr>\n",
       "    <tr>\n",
       "      <th>2</th>\n",
       "      <td>34553174</td>\n",
       "      <td>Text Overlay Image with Darkened Opacity React...</td>\n",
       "      <td>&lt;p&gt;I am attempting to overlay a title over an ...</td>\n",
       "      <td>&lt;javascript&gt;&lt;image&gt;&lt;overlay&gt;&lt;react-native&gt;&lt;opa...</td>\n",
       "      <td>2016-01-01 02:48:24</td>\n",
       "      <td>HQ</td>\n",
       "    </tr>\n",
       "    <tr>\n",
       "      <th>3</th>\n",
       "      <td>34553318</td>\n",
       "      <td>Why ternary operator in swift is so picky?</td>\n",
       "      <td>&lt;p&gt;The question is very simple, but I just cou...</td>\n",
       "      <td>&lt;swift&gt;&lt;operators&gt;&lt;whitespace&gt;&lt;ternary-operato...</td>\n",
       "      <td>2016-01-01 03:30:17</td>\n",
       "      <td>HQ</td>\n",
       "    </tr>\n",
       "    <tr>\n",
       "      <th>4</th>\n",
       "      <td>34553755</td>\n",
       "      <td>hide/show fab with scale animation</td>\n",
       "      <td>&lt;p&gt;I'm using custom floatingactionmenu. I need...</td>\n",
       "      <td>&lt;android&gt;&lt;material-design&gt;&lt;floating-action-but...</td>\n",
       "      <td>2016-01-01 05:21:48</td>\n",
       "      <td>HQ</td>\n",
       "    </tr>\n",
       "    <tr>\n",
       "      <th>...</th>\n",
       "      <td>...</td>\n",
       "      <td>...</td>\n",
       "      <td>...</td>\n",
       "      <td>...</td>\n",
       "      <td>...</td>\n",
       "      <td>...</td>\n",
       "    </tr>\n",
       "    <tr>\n",
       "      <th>44995</th>\n",
       "      <td>60461435</td>\n",
       "      <td>Convert List&lt;String&gt; to string C# - asp.net - ...</td>\n",
       "      <td>&lt;p&gt;I am new to this and I am asking for help t...</td>\n",
       "      <td>&lt;c#&gt;&lt;asp.net&gt;&lt;sql-server&gt;</td>\n",
       "      <td>2020-02-29 02:22:18</td>\n",
       "      <td>LQ_CLOSE</td>\n",
       "    </tr>\n",
       "    <tr>\n",
       "      <th>44996</th>\n",
       "      <td>60461754</td>\n",
       "      <td>Does Python execute code from the top or botto...</td>\n",
       "      <td>&lt;p&gt;I am working on learning Python and was won...</td>\n",
       "      <td>&lt;python&gt;</td>\n",
       "      <td>2020-02-29 03:33:59</td>\n",
       "      <td>LQ_CLOSE</td>\n",
       "    </tr>\n",
       "    <tr>\n",
       "      <th>44997</th>\n",
       "      <td>60462001</td>\n",
       "      <td>how to change payment date in Azure?</td>\n",
       "      <td>&lt;p&gt;It looks like it costs 8 days per month in ...</td>\n",
       "      <td>&lt;azure&gt;&lt;billing&gt;</td>\n",
       "      <td>2020-02-29 04:34:16</td>\n",
       "      <td>LQ_CLOSE</td>\n",
       "    </tr>\n",
       "    <tr>\n",
       "      <th>44998</th>\n",
       "      <td>60465318</td>\n",
       "      <td>how to implement fill in the blank in Swift</td>\n",
       "      <td>&lt;p&gt;\"I _____ any questions.\"&lt;/p&gt;\\n\\n&lt;p&gt;I want t...</td>\n",
       "      <td>&lt;ios&gt;&lt;swift&gt;</td>\n",
       "      <td>2020-02-29 12:50:43</td>\n",
       "      <td>LQ_CLOSE</td>\n",
       "    </tr>\n",
       "    <tr>\n",
       "      <th>44999</th>\n",
       "      <td>60468018</td>\n",
       "      <td>How can I make a c# application outside of vis...</td>\n",
       "      <td>&lt;p&gt;I'm very new to programming and I'm teachin...</td>\n",
       "      <td>&lt;c#&gt;&lt;visual-studio&gt;</td>\n",
       "      <td>2020-02-29 17:55:56</td>\n",
       "      <td>LQ_CLOSE</td>\n",
       "    </tr>\n",
       "  </tbody>\n",
       "</table>\n",
       "<p>45000 rows × 6 columns</p>\n",
       "</div>"
      ],
      "text/plain": [
       "             Id                                              Title  \\\n",
       "0      34552656             Java: Repeat Task Every Random Seconds   \n",
       "1      34553034                  Why are Java Optionals immutable?   \n",
       "2      34553174  Text Overlay Image with Darkened Opacity React...   \n",
       "3      34553318         Why ternary operator in swift is so picky?   \n",
       "4      34553755                 hide/show fab with scale animation   \n",
       "...         ...                                                ...   \n",
       "44995  60461435  Convert List<String> to string C# - asp.net - ...   \n",
       "44996  60461754  Does Python execute code from the top or botto...   \n",
       "44997  60462001               how to change payment date in Azure?   \n",
       "44998  60465318        how to implement fill in the blank in Swift   \n",
       "44999  60468018  How can I make a c# application outside of vis...   \n",
       "\n",
       "                                                    Body  \\\n",
       "0      <p>I'm already familiar with repeating tasks e...   \n",
       "1      <p>I'd like to understand why Java 8 Optionals...   \n",
       "2      <p>I am attempting to overlay a title over an ...   \n",
       "3      <p>The question is very simple, but I just cou...   \n",
       "4      <p>I'm using custom floatingactionmenu. I need...   \n",
       "...                                                  ...   \n",
       "44995  <p>I am new to this and I am asking for help t...   \n",
       "44996  <p>I am working on learning Python and was won...   \n",
       "44997  <p>It looks like it costs 8 days per month in ...   \n",
       "44998  <p>\"I _____ any questions.\"</p>\\n\\n<p>I want t...   \n",
       "44999  <p>I'm very new to programming and I'm teachin...   \n",
       "\n",
       "                                                    Tags         CreationDate  \\\n",
       "0                                         <java><repeat>  2016-01-01 00:21:59   \n",
       "1                                       <java><optional>  2016-01-01 02:03:20   \n",
       "2      <javascript><image><overlay><react-native><opa...  2016-01-01 02:48:24   \n",
       "3      <swift><operators><whitespace><ternary-operato...  2016-01-01 03:30:17   \n",
       "4      <android><material-design><floating-action-but...  2016-01-01 05:21:48   \n",
       "...                                                  ...                  ...   \n",
       "44995                          <c#><asp.net><sql-server>  2020-02-29 02:22:18   \n",
       "44996                                           <python>  2020-02-29 03:33:59   \n",
       "44997                                   <azure><billing>  2020-02-29 04:34:16   \n",
       "44998                                       <ios><swift>  2020-02-29 12:50:43   \n",
       "44999                                <c#><visual-studio>  2020-02-29 17:55:56   \n",
       "\n",
       "              Y  \n",
       "0      LQ_CLOSE  \n",
       "1            HQ  \n",
       "2            HQ  \n",
       "3            HQ  \n",
       "4            HQ  \n",
       "...         ...  \n",
       "44995  LQ_CLOSE  \n",
       "44996  LQ_CLOSE  \n",
       "44997  LQ_CLOSE  \n",
       "44998  LQ_CLOSE  \n",
       "44999  LQ_CLOSE  \n",
       "\n",
       "[45000 rows x 6 columns]"
      ]
     },
     "execution_count": 2,
     "metadata": {},
     "output_type": "execute_result"
    }
   ],
   "source": [
    "df = pd.read_csv('data/stack_overflow.csv.gz')\n",
    "df"
   ]
  },
  {
   "cell_type": "code",
   "execution_count": 3,
   "metadata": {
    "ExecuteTime": {
     "end_time": "2021-06-09T00:15:08.431985Z",
     "start_time": "2021-06-09T00:15:08.422351Z"
    }
   },
   "outputs": [
    {
     "data": {
      "text/plain": [
       "LQ_CLOSE    15000\n",
       "LQ_EDIT     15000\n",
       "HQ          15000\n",
       "Name: Y, dtype: int64"
      ]
     },
     "execution_count": 3,
     "metadata": {},
     "output_type": "execute_result"
    }
   ],
   "source": [
    "df['Y'].value_counts()"
   ]
  },
  {
   "cell_type": "markdown",
   "metadata": {},
   "source": [
    "### Dealing with HTML Tags"
   ]
  },
  {
   "cell_type": "markdown",
   "metadata": {},
   "source": [
    "- First, should we remove them?\n",
    "- If yes, use beautiful soup?"
   ]
  },
  {
   "cell_type": "code",
   "execution_count": 4,
   "metadata": {
    "ExecuteTime": {
     "end_time": "2021-06-09T00:15:08.438724Z",
     "start_time": "2021-06-09T00:15:08.434160Z"
    }
   },
   "outputs": [
    {
     "data": {
      "text/plain": [
       "'<p>I\\'m using custom floatingactionmenu. I need to implement scale animation on show/hide menu button like here\\n<a href=\"https://material-design.storage.googleapis.com/publish/material_v_4/material_ext_publish/0B6Okdz75tqQsZU1kZWhRYWZpUDg/components-buttons-fab-behavior_01_xhdpi_012.mp4\" rel=\"noreferrer\">floating action button behaviour</a></p>\\n\\n<p>Is there any way to do this ?</p>\\n'"
      ]
     },
     "execution_count": 4,
     "metadata": {},
     "output_type": "execute_result"
    }
   ],
   "source": [
    "## Getting text example for dealing with html tags\n",
    "test_body = df.loc[4,'Body']\n",
    "test_body"
   ]
  },
  {
   "cell_type": "code",
   "execution_count": 5,
   "metadata": {
    "ExecuteTime": {
     "end_time": "2021-06-09T00:15:08.580346Z",
     "start_time": "2021-06-09T00:15:08.440725Z"
    }
   },
   "outputs": [
    {
     "data": {
      "text/plain": [
       "\"I'm using custom floatingactionmenu. I need to implement scale animation on show/hide menu button like here\\nfloating action button behaviour\\nIs there any way to do this ?\\n\""
      ]
     },
     "execution_count": 5,
     "metadata": {},
     "output_type": "execute_result"
    }
   ],
   "source": [
    "from bs4 import BeautifulSoup\n",
    "test_soup = BeautifulSoup(test_body)\n",
    "test_soup.text"
   ]
  },
  {
   "cell_type": "code",
   "execution_count": 6,
   "metadata": {
    "ExecuteTime": {
     "end_time": "2021-06-09T00:15:24.200890Z",
     "start_time": "2021-06-09T00:15:08.582054Z"
    }
   },
   "outputs": [
    {
     "data": {
      "text/html": [
       "<div>\n",
       "<style scoped>\n",
       "    .dataframe tbody tr th:only-of-type {\n",
       "        vertical-align: middle;\n",
       "    }\n",
       "\n",
       "    .dataframe tbody tr th {\n",
       "        vertical-align: top;\n",
       "    }\n",
       "\n",
       "    .dataframe thead th {\n",
       "        text-align: right;\n",
       "    }\n",
       "</style>\n",
       "<table border=\"1\" class=\"dataframe\">\n",
       "  <thead>\n",
       "    <tr style=\"text-align: right;\">\n",
       "      <th></th>\n",
       "      <th>Id</th>\n",
       "      <th>Title</th>\n",
       "      <th>Body</th>\n",
       "      <th>Tags</th>\n",
       "      <th>CreationDate</th>\n",
       "      <th>Y</th>\n",
       "      <th>soups</th>\n",
       "    </tr>\n",
       "  </thead>\n",
       "  <tbody>\n",
       "    <tr>\n",
       "      <th>0</th>\n",
       "      <td>34552656</td>\n",
       "      <td>Java: Repeat Task Every Random Seconds</td>\n",
       "      <td>&lt;p&gt;I'm already familiar with repeating tasks e...</td>\n",
       "      <td>&lt;java&gt;&lt;repeat&gt;</td>\n",
       "      <td>2016-01-01 00:21:59</td>\n",
       "      <td>LQ_CLOSE</td>\n",
       "      <td>I'm already familiar with repeating tasks ever...</td>\n",
       "    </tr>\n",
       "    <tr>\n",
       "      <th>1</th>\n",
       "      <td>34553034</td>\n",
       "      <td>Why are Java Optionals immutable?</td>\n",
       "      <td>&lt;p&gt;I'd like to understand why Java 8 Optionals...</td>\n",
       "      <td>&lt;java&gt;&lt;optional&gt;</td>\n",
       "      <td>2016-01-01 02:03:20</td>\n",
       "      <td>HQ</td>\n",
       "      <td>I'd like to understand why Java 8 Optionals we...</td>\n",
       "    </tr>\n",
       "    <tr>\n",
       "      <th>2</th>\n",
       "      <td>34553174</td>\n",
       "      <td>Text Overlay Image with Darkened Opacity React...</td>\n",
       "      <td>&lt;p&gt;I am attempting to overlay a title over an ...</td>\n",
       "      <td>&lt;javascript&gt;&lt;image&gt;&lt;overlay&gt;&lt;react-native&gt;&lt;opa...</td>\n",
       "      <td>2016-01-01 02:48:24</td>\n",
       "      <td>HQ</td>\n",
       "      <td>I am attempting to overlay a title over an ima...</td>\n",
       "    </tr>\n",
       "    <tr>\n",
       "      <th>3</th>\n",
       "      <td>34553318</td>\n",
       "      <td>Why ternary operator in swift is so picky?</td>\n",
       "      <td>&lt;p&gt;The question is very simple, but I just cou...</td>\n",
       "      <td>&lt;swift&gt;&lt;operators&gt;&lt;whitespace&gt;&lt;ternary-operato...</td>\n",
       "      <td>2016-01-01 03:30:17</td>\n",
       "      <td>HQ</td>\n",
       "      <td>The question is very simple, but I just could ...</td>\n",
       "    </tr>\n",
       "    <tr>\n",
       "      <th>4</th>\n",
       "      <td>34553755</td>\n",
       "      <td>hide/show fab with scale animation</td>\n",
       "      <td>&lt;p&gt;I'm using custom floatingactionmenu. I need...</td>\n",
       "      <td>&lt;android&gt;&lt;material-design&gt;&lt;floating-action-but...</td>\n",
       "      <td>2016-01-01 05:21:48</td>\n",
       "      <td>HQ</td>\n",
       "      <td>I'm using custom floatingactionmenu. I need to...</td>\n",
       "    </tr>\n",
       "    <tr>\n",
       "      <th>...</th>\n",
       "      <td>...</td>\n",
       "      <td>...</td>\n",
       "      <td>...</td>\n",
       "      <td>...</td>\n",
       "      <td>...</td>\n",
       "      <td>...</td>\n",
       "      <td>...</td>\n",
       "    </tr>\n",
       "    <tr>\n",
       "      <th>44995</th>\n",
       "      <td>60461435</td>\n",
       "      <td>Convert List&lt;String&gt; to string C# - asp.net - ...</td>\n",
       "      <td>&lt;p&gt;I am new to this and I am asking for help t...</td>\n",
       "      <td>&lt;c#&gt;&lt;asp.net&gt;&lt;sql-server&gt;</td>\n",
       "      <td>2020-02-29 02:22:18</td>\n",
       "      <td>LQ_CLOSE</td>\n",
       "      <td>I am new to this and I am asking for help to c...</td>\n",
       "    </tr>\n",
       "    <tr>\n",
       "      <th>44996</th>\n",
       "      <td>60461754</td>\n",
       "      <td>Does Python execute code from the top or botto...</td>\n",
       "      <td>&lt;p&gt;I am working on learning Python and was won...</td>\n",
       "      <td>&lt;python&gt;</td>\n",
       "      <td>2020-02-29 03:33:59</td>\n",
       "      <td>LQ_CLOSE</td>\n",
       "      <td>I am working on learning Python and was wonder...</td>\n",
       "    </tr>\n",
       "    <tr>\n",
       "      <th>44997</th>\n",
       "      <td>60462001</td>\n",
       "      <td>how to change payment date in Azure?</td>\n",
       "      <td>&lt;p&gt;It looks like it costs 8 days per month in ...</td>\n",
       "      <td>&lt;azure&gt;&lt;billing&gt;</td>\n",
       "      <td>2020-02-29 04:34:16</td>\n",
       "      <td>LQ_CLOSE</td>\n",
       "      <td>It looks like it costs 8 days per month in Azu...</td>\n",
       "    </tr>\n",
       "    <tr>\n",
       "      <th>44998</th>\n",
       "      <td>60465318</td>\n",
       "      <td>how to implement fill in the blank in Swift</td>\n",
       "      <td>&lt;p&gt;\"I _____ any questions.\"&lt;/p&gt;\\n\\n&lt;p&gt;I want t...</td>\n",
       "      <td>&lt;ios&gt;&lt;swift&gt;</td>\n",
       "      <td>2020-02-29 12:50:43</td>\n",
       "      <td>LQ_CLOSE</td>\n",
       "      <td>\"I _____ any questions.\"\\nI want to implement ...</td>\n",
       "    </tr>\n",
       "    <tr>\n",
       "      <th>44999</th>\n",
       "      <td>60468018</td>\n",
       "      <td>How can I make a c# application outside of vis...</td>\n",
       "      <td>&lt;p&gt;I'm very new to programming and I'm teachin...</td>\n",
       "      <td>&lt;c#&gt;&lt;visual-studio&gt;</td>\n",
       "      <td>2020-02-29 17:55:56</td>\n",
       "      <td>LQ_CLOSE</td>\n",
       "      <td>I'm very new to programming and I'm teaching m...</td>\n",
       "    </tr>\n",
       "  </tbody>\n",
       "</table>\n",
       "<p>45000 rows × 7 columns</p>\n",
       "</div>"
      ],
      "text/plain": [
       "             Id                                              Title  \\\n",
       "0      34552656             Java: Repeat Task Every Random Seconds   \n",
       "1      34553034                  Why are Java Optionals immutable?   \n",
       "2      34553174  Text Overlay Image with Darkened Opacity React...   \n",
       "3      34553318         Why ternary operator in swift is so picky?   \n",
       "4      34553755                 hide/show fab with scale animation   \n",
       "...         ...                                                ...   \n",
       "44995  60461435  Convert List<String> to string C# - asp.net - ...   \n",
       "44996  60461754  Does Python execute code from the top or botto...   \n",
       "44997  60462001               how to change payment date in Azure?   \n",
       "44998  60465318        how to implement fill in the blank in Swift   \n",
       "44999  60468018  How can I make a c# application outside of vis...   \n",
       "\n",
       "                                                    Body  \\\n",
       "0      <p>I'm already familiar with repeating tasks e...   \n",
       "1      <p>I'd like to understand why Java 8 Optionals...   \n",
       "2      <p>I am attempting to overlay a title over an ...   \n",
       "3      <p>The question is very simple, but I just cou...   \n",
       "4      <p>I'm using custom floatingactionmenu. I need...   \n",
       "...                                                  ...   \n",
       "44995  <p>I am new to this and I am asking for help t...   \n",
       "44996  <p>I am working on learning Python and was won...   \n",
       "44997  <p>It looks like it costs 8 days per month in ...   \n",
       "44998  <p>\"I _____ any questions.\"</p>\\n\\n<p>I want t...   \n",
       "44999  <p>I'm very new to programming and I'm teachin...   \n",
       "\n",
       "                                                    Tags         CreationDate  \\\n",
       "0                                         <java><repeat>  2016-01-01 00:21:59   \n",
       "1                                       <java><optional>  2016-01-01 02:03:20   \n",
       "2      <javascript><image><overlay><react-native><opa...  2016-01-01 02:48:24   \n",
       "3      <swift><operators><whitespace><ternary-operato...  2016-01-01 03:30:17   \n",
       "4      <android><material-design><floating-action-but...  2016-01-01 05:21:48   \n",
       "...                                                  ...                  ...   \n",
       "44995                          <c#><asp.net><sql-server>  2020-02-29 02:22:18   \n",
       "44996                                           <python>  2020-02-29 03:33:59   \n",
       "44997                                   <azure><billing>  2020-02-29 04:34:16   \n",
       "44998                                       <ios><swift>  2020-02-29 12:50:43   \n",
       "44999                                <c#><visual-studio>  2020-02-29 17:55:56   \n",
       "\n",
       "              Y                                              soups  \n",
       "0      LQ_CLOSE  I'm already familiar with repeating tasks ever...  \n",
       "1            HQ  I'd like to understand why Java 8 Optionals we...  \n",
       "2            HQ  I am attempting to overlay a title over an ima...  \n",
       "3            HQ  The question is very simple, but I just could ...  \n",
       "4            HQ  I'm using custom floatingactionmenu. I need to...  \n",
       "...         ...                                                ...  \n",
       "44995  LQ_CLOSE  I am new to this and I am asking for help to c...  \n",
       "44996  LQ_CLOSE  I am working on learning Python and was wonder...  \n",
       "44997  LQ_CLOSE  It looks like it costs 8 days per month in Azu...  \n",
       "44998  LQ_CLOSE  \"I _____ any questions.\"\\nI want to implement ...  \n",
       "44999  LQ_CLOSE  I'm very new to programming and I'm teaching m...  \n",
       "\n",
       "[45000 rows x 7 columns]"
      ]
     },
     "execution_count": 6,
     "metadata": {},
     "output_type": "execute_result"
    }
   ],
   "source": [
    "\n",
    "df['soups'] = df['Body'].map(lambda x:BeautifulSoup(x).text )\n",
    "df"
   ]
  },
  {
   "cell_type": "code",
   "execution_count": 7,
   "metadata": {
    "ExecuteTime": {
     "end_time": "2021-06-09T00:15:24.260423Z",
     "start_time": "2021-06-09T00:15:24.202488Z"
    }
   },
   "outputs": [
    {
     "data": {
      "text/html": [
       "<div>\n",
       "<style scoped>\n",
       "    .dataframe tbody tr th:only-of-type {\n",
       "        vertical-align: middle;\n",
       "    }\n",
       "\n",
       "    .dataframe tbody tr th {\n",
       "        vertical-align: top;\n",
       "    }\n",
       "\n",
       "    .dataframe thead th {\n",
       "        text-align: right;\n",
       "    }\n",
       "</style>\n",
       "<table border=\"1\" class=\"dataframe\">\n",
       "  <thead>\n",
       "    <tr style=\"text-align: right;\">\n",
       "      <th></th>\n",
       "      <th>Id</th>\n",
       "      <th>Title</th>\n",
       "      <th>Body</th>\n",
       "      <th>Tags</th>\n",
       "      <th>CreationDate</th>\n",
       "      <th>Y</th>\n",
       "      <th>soups</th>\n",
       "      <th>text</th>\n",
       "    </tr>\n",
       "  </thead>\n",
       "  <tbody>\n",
       "    <tr>\n",
       "      <th>0</th>\n",
       "      <td>34552656</td>\n",
       "      <td>Java: Repeat Task Every Random Seconds</td>\n",
       "      <td>&lt;p&gt;I'm already familiar with repeating tasks e...</td>\n",
       "      <td>&lt;java&gt;&lt;repeat&gt;</td>\n",
       "      <td>2016-01-01 00:21:59</td>\n",
       "      <td>LQ_CLOSE</td>\n",
       "      <td>I'm already familiar with repeating tasks ever...</td>\n",
       "      <td>Java: Repeat Task Every Random Seconds; I'm al...</td>\n",
       "    </tr>\n",
       "    <tr>\n",
       "      <th>1</th>\n",
       "      <td>34553034</td>\n",
       "      <td>Why are Java Optionals immutable?</td>\n",
       "      <td>&lt;p&gt;I'd like to understand why Java 8 Optionals...</td>\n",
       "      <td>&lt;java&gt;&lt;optional&gt;</td>\n",
       "      <td>2016-01-01 02:03:20</td>\n",
       "      <td>HQ</td>\n",
       "      <td>I'd like to understand why Java 8 Optionals we...</td>\n",
       "      <td>Why are Java Optionals immutable?; I'd like to...</td>\n",
       "    </tr>\n",
       "    <tr>\n",
       "      <th>2</th>\n",
       "      <td>34553174</td>\n",
       "      <td>Text Overlay Image with Darkened Opacity React...</td>\n",
       "      <td>&lt;p&gt;I am attempting to overlay a title over an ...</td>\n",
       "      <td>&lt;javascript&gt;&lt;image&gt;&lt;overlay&gt;&lt;react-native&gt;&lt;opa...</td>\n",
       "      <td>2016-01-01 02:48:24</td>\n",
       "      <td>HQ</td>\n",
       "      <td>I am attempting to overlay a title over an ima...</td>\n",
       "      <td>Text Overlay Image with Darkened Opacity React...</td>\n",
       "    </tr>\n",
       "    <tr>\n",
       "      <th>3</th>\n",
       "      <td>34553318</td>\n",
       "      <td>Why ternary operator in swift is so picky?</td>\n",
       "      <td>&lt;p&gt;The question is very simple, but I just cou...</td>\n",
       "      <td>&lt;swift&gt;&lt;operators&gt;&lt;whitespace&gt;&lt;ternary-operato...</td>\n",
       "      <td>2016-01-01 03:30:17</td>\n",
       "      <td>HQ</td>\n",
       "      <td>The question is very simple, but I just could ...</td>\n",
       "      <td>Why ternary operator in swift is so picky?; Th...</td>\n",
       "    </tr>\n",
       "    <tr>\n",
       "      <th>4</th>\n",
       "      <td>34553755</td>\n",
       "      <td>hide/show fab with scale animation</td>\n",
       "      <td>&lt;p&gt;I'm using custom floatingactionmenu. I need...</td>\n",
       "      <td>&lt;android&gt;&lt;material-design&gt;&lt;floating-action-but...</td>\n",
       "      <td>2016-01-01 05:21:48</td>\n",
       "      <td>HQ</td>\n",
       "      <td>I'm using custom floatingactionmenu. I need to...</td>\n",
       "      <td>hide/show fab with scale animation; I'm using ...</td>\n",
       "    </tr>\n",
       "    <tr>\n",
       "      <th>...</th>\n",
       "      <td>...</td>\n",
       "      <td>...</td>\n",
       "      <td>...</td>\n",
       "      <td>...</td>\n",
       "      <td>...</td>\n",
       "      <td>...</td>\n",
       "      <td>...</td>\n",
       "      <td>...</td>\n",
       "    </tr>\n",
       "    <tr>\n",
       "      <th>44995</th>\n",
       "      <td>60461435</td>\n",
       "      <td>Convert List&lt;String&gt; to string C# - asp.net - ...</td>\n",
       "      <td>&lt;p&gt;I am new to this and I am asking for help t...</td>\n",
       "      <td>&lt;c#&gt;&lt;asp.net&gt;&lt;sql-server&gt;</td>\n",
       "      <td>2020-02-29 02:22:18</td>\n",
       "      <td>LQ_CLOSE</td>\n",
       "      <td>I am new to this and I am asking for help to c...</td>\n",
       "      <td>Convert List&lt;String&gt; to string C# - asp.net - ...</td>\n",
       "    </tr>\n",
       "    <tr>\n",
       "      <th>44996</th>\n",
       "      <td>60461754</td>\n",
       "      <td>Does Python execute code from the top or botto...</td>\n",
       "      <td>&lt;p&gt;I am working on learning Python and was won...</td>\n",
       "      <td>&lt;python&gt;</td>\n",
       "      <td>2020-02-29 03:33:59</td>\n",
       "      <td>LQ_CLOSE</td>\n",
       "      <td>I am working on learning Python and was wonder...</td>\n",
       "      <td>Does Python execute code from the top or botto...</td>\n",
       "    </tr>\n",
       "    <tr>\n",
       "      <th>44997</th>\n",
       "      <td>60462001</td>\n",
       "      <td>how to change payment date in Azure?</td>\n",
       "      <td>&lt;p&gt;It looks like it costs 8 days per month in ...</td>\n",
       "      <td>&lt;azure&gt;&lt;billing&gt;</td>\n",
       "      <td>2020-02-29 04:34:16</td>\n",
       "      <td>LQ_CLOSE</td>\n",
       "      <td>It looks like it costs 8 days per month in Azu...</td>\n",
       "      <td>how to change payment date in Azure?; It looks...</td>\n",
       "    </tr>\n",
       "    <tr>\n",
       "      <th>44998</th>\n",
       "      <td>60465318</td>\n",
       "      <td>how to implement fill in the blank in Swift</td>\n",
       "      <td>&lt;p&gt;\"I _____ any questions.\"&lt;/p&gt;\\n\\n&lt;p&gt;I want t...</td>\n",
       "      <td>&lt;ios&gt;&lt;swift&gt;</td>\n",
       "      <td>2020-02-29 12:50:43</td>\n",
       "      <td>LQ_CLOSE</td>\n",
       "      <td>\"I _____ any questions.\"\\nI want to implement ...</td>\n",
       "      <td>how to implement fill in the blank in Swift; \"...</td>\n",
       "    </tr>\n",
       "    <tr>\n",
       "      <th>44999</th>\n",
       "      <td>60468018</td>\n",
       "      <td>How can I make a c# application outside of vis...</td>\n",
       "      <td>&lt;p&gt;I'm very new to programming and I'm teachin...</td>\n",
       "      <td>&lt;c#&gt;&lt;visual-studio&gt;</td>\n",
       "      <td>2020-02-29 17:55:56</td>\n",
       "      <td>LQ_CLOSE</td>\n",
       "      <td>I'm very new to programming and I'm teaching m...</td>\n",
       "      <td>How can I make a c# application outside of vis...</td>\n",
       "    </tr>\n",
       "  </tbody>\n",
       "</table>\n",
       "<p>45000 rows × 8 columns</p>\n",
       "</div>"
      ],
      "text/plain": [
       "             Id                                              Title  \\\n",
       "0      34552656             Java: Repeat Task Every Random Seconds   \n",
       "1      34553034                  Why are Java Optionals immutable?   \n",
       "2      34553174  Text Overlay Image with Darkened Opacity React...   \n",
       "3      34553318         Why ternary operator in swift is so picky?   \n",
       "4      34553755                 hide/show fab with scale animation   \n",
       "...         ...                                                ...   \n",
       "44995  60461435  Convert List<String> to string C# - asp.net - ...   \n",
       "44996  60461754  Does Python execute code from the top or botto...   \n",
       "44997  60462001               how to change payment date in Azure?   \n",
       "44998  60465318        how to implement fill in the blank in Swift   \n",
       "44999  60468018  How can I make a c# application outside of vis...   \n",
       "\n",
       "                                                    Body  \\\n",
       "0      <p>I'm already familiar with repeating tasks e...   \n",
       "1      <p>I'd like to understand why Java 8 Optionals...   \n",
       "2      <p>I am attempting to overlay a title over an ...   \n",
       "3      <p>The question is very simple, but I just cou...   \n",
       "4      <p>I'm using custom floatingactionmenu. I need...   \n",
       "...                                                  ...   \n",
       "44995  <p>I am new to this and I am asking for help t...   \n",
       "44996  <p>I am working on learning Python and was won...   \n",
       "44997  <p>It looks like it costs 8 days per month in ...   \n",
       "44998  <p>\"I _____ any questions.\"</p>\\n\\n<p>I want t...   \n",
       "44999  <p>I'm very new to programming and I'm teachin...   \n",
       "\n",
       "                                                    Tags         CreationDate  \\\n",
       "0                                         <java><repeat>  2016-01-01 00:21:59   \n",
       "1                                       <java><optional>  2016-01-01 02:03:20   \n",
       "2      <javascript><image><overlay><react-native><opa...  2016-01-01 02:48:24   \n",
       "3      <swift><operators><whitespace><ternary-operato...  2016-01-01 03:30:17   \n",
       "4      <android><material-design><floating-action-but...  2016-01-01 05:21:48   \n",
       "...                                                  ...                  ...   \n",
       "44995                          <c#><asp.net><sql-server>  2020-02-29 02:22:18   \n",
       "44996                                           <python>  2020-02-29 03:33:59   \n",
       "44997                                   <azure><billing>  2020-02-29 04:34:16   \n",
       "44998                                       <ios><swift>  2020-02-29 12:50:43   \n",
       "44999                                <c#><visual-studio>  2020-02-29 17:55:56   \n",
       "\n",
       "              Y                                              soups  \\\n",
       "0      LQ_CLOSE  I'm already familiar with repeating tasks ever...   \n",
       "1            HQ  I'd like to understand why Java 8 Optionals we...   \n",
       "2            HQ  I am attempting to overlay a title over an ima...   \n",
       "3            HQ  The question is very simple, but I just could ...   \n",
       "4            HQ  I'm using custom floatingactionmenu. I need to...   \n",
       "...         ...                                                ...   \n",
       "44995  LQ_CLOSE  I am new to this and I am asking for help to c...   \n",
       "44996  LQ_CLOSE  I am working on learning Python and was wonder...   \n",
       "44997  LQ_CLOSE  It looks like it costs 8 days per month in Azu...   \n",
       "44998  LQ_CLOSE  \"I _____ any questions.\"\\nI want to implement ...   \n",
       "44999  LQ_CLOSE  I'm very new to programming and I'm teaching m...   \n",
       "\n",
       "                                                    text  \n",
       "0      Java: Repeat Task Every Random Seconds; I'm al...  \n",
       "1      Why are Java Optionals immutable?; I'd like to...  \n",
       "2      Text Overlay Image with Darkened Opacity React...  \n",
       "3      Why ternary operator in swift is so picky?; Th...  \n",
       "4      hide/show fab with scale animation; I'm using ...  \n",
       "...                                                  ...  \n",
       "44995  Convert List<String> to string C# - asp.net - ...  \n",
       "44996  Does Python execute code from the top or botto...  \n",
       "44997  how to change payment date in Azure?; It looks...  \n",
       "44998  how to implement fill in the blank in Swift; \"...  \n",
       "44999  How can I make a c# application outside of vis...  \n",
       "\n",
       "[45000 rows x 8 columns]"
      ]
     },
     "execution_count": 7,
     "metadata": {},
     "output_type": "execute_result"
    }
   ],
   "source": [
    "## join together title and body. \n",
    "df['text'] = df['Title']+'; '+df['soups']\n",
    "df"
   ]
  },
  {
   "cell_type": "markdown",
   "metadata": {},
   "source": [
    "## Creating Word Embeddings with `Word2Vec`"
   ]
  },
  {
   "cell_type": "markdown",
   "metadata": {},
   "source": [
    "### Resources:\n",
    "\n",
    "- Two Part Word2Vec Tutorial  (linked from Canvas)\n",
    "    - [Part 1: The Skip-Gram Model](http://mccormickml.com/2016/04/19/word2vec-tutorial-the-skip-gram-model/)\n",
    "    - [Part 2: Negative Sampling](http://mccormickml.com/2017/01/11/word2vec-tutorial-part-2-negative-sampling/)\n",
    "    \n",
    "- White Paper on word2vec (downloads file):\n",
    "    - https://papers.nips.cc/paper/5021-distributed-representations-of-words-and-phrases-and-their-compositionality.pdf\n"
   ]
  },
  {
   "cell_type": "markdown",
   "metadata": {},
   "source": [
    "- `sentences`: dataset to train on\n",
    "- `size`: how big of a word vector do we want\n",
    "- `window`: how many words around the target word to train with\n",
    "- `min_count`: how many times the word shows up in corpus; we don't want words that are rarely used\n",
    "- `workers`: number of threads (individual task \"workers\")\n",
    "\n",
    "```python\n",
    "from gensim.models import Word2Vec\n",
    "\n",
    "model = Word2Vec(data, size=100, window=5, min_count=1, workers=4)\n",
    "\n",
    "model.train(data, total_examples=model.corpus_count)\n",
    "\n",
    "```\n",
    "\n",
    "<!-- \n",
    "#### Word2Vec params\n",
    "\n",
    "```python\n",
    "## For initializing model\n",
    "sentences=None,\n",
    "    size=100,\n",
    "    alpha=0.025,\n",
    "    window=5,\n",
    "    min_count=5,\n",
    "    max_vocab_size=None,\n",
    "    sample=0.001,\n",
    "    seed=1,\n",
    "    workers=3,\n",
    "    min_alpha=0.0001,\n",
    "    sg=0,\n",
    "    hs=0,\n",
    "    negative=5,\n",
    "    cbow_mean=1,\n",
    "    hashfxn=<built-in function hash>,\n",
    "    iter=5,\n",
    "    null_word=0,\n",
    "    trim_rule=None,\n",
    "    sorted_vocab=1,\n",
    "    batch_words=10000,\n",
    "    compute_loss=False,\n",
    "    callbacks=(),\n",
    "    \n",
    "    \n",
    "## For training \n",
    "    sentences,\n",
    "    total_examples=None,\n",
    "    total_words=None,\n",
    "    epochs=None,\n",
    "    start_alpha=None,\n",
    "    end_alpha=None,\n",
    "    word_count=0,\n",
    "    queue_factor=2,\n",
    "    report_delay=1.0,\n",
    "    compute_loss=False,\n",
    "    callbacks=(),\n",
    "``` -->"
   ]
  },
  {
   "cell_type": "code",
   "execution_count": 8,
   "metadata": {
    "ExecuteTime": {
     "end_time": "2021-06-09T00:15:25.154091Z",
     "start_time": "2021-06-09T00:15:24.264351Z"
    }
   },
   "outputs": [
    {
     "name": "stdout",
     "output_type": "stream",
     "text": [
      "3.8.3\n"
     ]
    }
   ],
   "source": [
    "## NLP imports\n",
    "from nltk import word_tokenize, TweetTokenizer, regexp_tokenize\n",
    "from gensim.utils import simple_preprocess\n",
    "from gensim.models import Word2Vec\n",
    "import gensim\n",
    "print(gensim.__version__)\n",
    "\n",
    "from sklearn.model_selection import train_test_split"
   ]
  },
  {
   "cell_type": "code",
   "execution_count": 9,
   "metadata": {
    "ExecuteTime": {
     "end_time": "2021-06-09T00:15:39.723915Z",
     "start_time": "2021-06-09T00:15:25.157410Z"
    }
   },
   "outputs": [
    {
     "data": {
      "text/html": [
       "<div>\n",
       "<style scoped>\n",
       "    .dataframe tbody tr th:only-of-type {\n",
       "        vertical-align: middle;\n",
       "    }\n",
       "\n",
       "    .dataframe tbody tr th {\n",
       "        vertical-align: top;\n",
       "    }\n",
       "\n",
       "    .dataframe thead th {\n",
       "        text-align: right;\n",
       "    }\n",
       "</style>\n",
       "<table border=\"1\" class=\"dataframe\">\n",
       "  <thead>\n",
       "    <tr style=\"text-align: right;\">\n",
       "      <th></th>\n",
       "      <th>Id</th>\n",
       "      <th>Title</th>\n",
       "      <th>Body</th>\n",
       "      <th>Tags</th>\n",
       "      <th>CreationDate</th>\n",
       "      <th>Y</th>\n",
       "      <th>soups</th>\n",
       "      <th>text</th>\n",
       "      <th>cleaned-text</th>\n",
       "    </tr>\n",
       "  </thead>\n",
       "  <tbody>\n",
       "    <tr>\n",
       "      <th>0</th>\n",
       "      <td>34552656</td>\n",
       "      <td>Java: Repeat Task Every Random Seconds</td>\n",
       "      <td>&lt;p&gt;I'm already familiar with repeating tasks e...</td>\n",
       "      <td>&lt;java&gt;&lt;repeat&gt;</td>\n",
       "      <td>2016-01-01 00:21:59</td>\n",
       "      <td>LQ_CLOSE</td>\n",
       "      <td>I'm already familiar with repeating tasks ever...</td>\n",
       "      <td>Java: Repeat Task Every Random Seconds; I'm al...</td>\n",
       "      <td>[java, repeat, task, every, random, seconds, a...</td>\n",
       "    </tr>\n",
       "    <tr>\n",
       "      <th>1</th>\n",
       "      <td>34553034</td>\n",
       "      <td>Why are Java Optionals immutable?</td>\n",
       "      <td>&lt;p&gt;I'd like to understand why Java 8 Optionals...</td>\n",
       "      <td>&lt;java&gt;&lt;optional&gt;</td>\n",
       "      <td>2016-01-01 02:03:20</td>\n",
       "      <td>HQ</td>\n",
       "      <td>I'd like to understand why Java 8 Optionals we...</td>\n",
       "      <td>Why are Java Optionals immutable?; I'd like to...</td>\n",
       "      <td>[why, are, java, optionals, immutable, like, t...</td>\n",
       "    </tr>\n",
       "    <tr>\n",
       "      <th>2</th>\n",
       "      <td>34553174</td>\n",
       "      <td>Text Overlay Image with Darkened Opacity React...</td>\n",
       "      <td>&lt;p&gt;I am attempting to overlay a title over an ...</td>\n",
       "      <td>&lt;javascript&gt;&lt;image&gt;&lt;overlay&gt;&lt;react-native&gt;&lt;opa...</td>\n",
       "      <td>2016-01-01 02:48:24</td>\n",
       "      <td>HQ</td>\n",
       "      <td>I am attempting to overlay a title over an ima...</td>\n",
       "      <td>Text Overlay Image with Darkened Opacity React...</td>\n",
       "      <td>[text, overlay, image, with, darkened, opacity...</td>\n",
       "    </tr>\n",
       "    <tr>\n",
       "      <th>3</th>\n",
       "      <td>34553318</td>\n",
       "      <td>Why ternary operator in swift is so picky?</td>\n",
       "      <td>&lt;p&gt;The question is very simple, but I just cou...</td>\n",
       "      <td>&lt;swift&gt;&lt;operators&gt;&lt;whitespace&gt;&lt;ternary-operato...</td>\n",
       "      <td>2016-01-01 03:30:17</td>\n",
       "      <td>HQ</td>\n",
       "      <td>The question is very simple, but I just could ...</td>\n",
       "      <td>Why ternary operator in swift is so picky?; Th...</td>\n",
       "      <td>[why, ternary, operator, in, swift, is, so, pi...</td>\n",
       "    </tr>\n",
       "    <tr>\n",
       "      <th>4</th>\n",
       "      <td>34553755</td>\n",
       "      <td>hide/show fab with scale animation</td>\n",
       "      <td>&lt;p&gt;I'm using custom floatingactionmenu. I need...</td>\n",
       "      <td>&lt;android&gt;&lt;material-design&gt;&lt;floating-action-but...</td>\n",
       "      <td>2016-01-01 05:21:48</td>\n",
       "      <td>HQ</td>\n",
       "      <td>I'm using custom floatingactionmenu. I need to...</td>\n",
       "      <td>hide/show fab with scale animation; I'm using ...</td>\n",
       "      <td>[hide, show, fab, with, scale, animation, usin...</td>\n",
       "    </tr>\n",
       "    <tr>\n",
       "      <th>...</th>\n",
       "      <td>...</td>\n",
       "      <td>...</td>\n",
       "      <td>...</td>\n",
       "      <td>...</td>\n",
       "      <td>...</td>\n",
       "      <td>...</td>\n",
       "      <td>...</td>\n",
       "      <td>...</td>\n",
       "      <td>...</td>\n",
       "    </tr>\n",
       "    <tr>\n",
       "      <th>44995</th>\n",
       "      <td>60461435</td>\n",
       "      <td>Convert List&lt;String&gt; to string C# - asp.net - ...</td>\n",
       "      <td>&lt;p&gt;I am new to this and I am asking for help t...</td>\n",
       "      <td>&lt;c#&gt;&lt;asp.net&gt;&lt;sql-server&gt;</td>\n",
       "      <td>2020-02-29 02:22:18</td>\n",
       "      <td>LQ_CLOSE</td>\n",
       "      <td>I am new to this and I am asking for help to c...</td>\n",
       "      <td>Convert List&lt;String&gt; to string C# - asp.net - ...</td>\n",
       "      <td>[convert, list, string, to, string, asp, net, ...</td>\n",
       "    </tr>\n",
       "    <tr>\n",
       "      <th>44996</th>\n",
       "      <td>60461754</td>\n",
       "      <td>Does Python execute code from the top or botto...</td>\n",
       "      <td>&lt;p&gt;I am working on learning Python and was won...</td>\n",
       "      <td>&lt;python&gt;</td>\n",
       "      <td>2020-02-29 03:33:59</td>\n",
       "      <td>LQ_CLOSE</td>\n",
       "      <td>I am working on learning Python and was wonder...</td>\n",
       "      <td>Does Python execute code from the top or botto...</td>\n",
       "      <td>[does, python, execute, code, from, the, top, ...</td>\n",
       "    </tr>\n",
       "    <tr>\n",
       "      <th>44997</th>\n",
       "      <td>60462001</td>\n",
       "      <td>how to change payment date in Azure?</td>\n",
       "      <td>&lt;p&gt;It looks like it costs 8 days per month in ...</td>\n",
       "      <td>&lt;azure&gt;&lt;billing&gt;</td>\n",
       "      <td>2020-02-29 04:34:16</td>\n",
       "      <td>LQ_CLOSE</td>\n",
       "      <td>It looks like it costs 8 days per month in Azu...</td>\n",
       "      <td>how to change payment date in Azure?; It looks...</td>\n",
       "      <td>[how, to, change, payment, date, in, azure, it...</td>\n",
       "    </tr>\n",
       "    <tr>\n",
       "      <th>44998</th>\n",
       "      <td>60465318</td>\n",
       "      <td>how to implement fill in the blank in Swift</td>\n",
       "      <td>&lt;p&gt;\"I _____ any questions.\"&lt;/p&gt;\\n\\n&lt;p&gt;I want t...</td>\n",
       "      <td>&lt;ios&gt;&lt;swift&gt;</td>\n",
       "      <td>2020-02-29 12:50:43</td>\n",
       "      <td>LQ_CLOSE</td>\n",
       "      <td>\"I _____ any questions.\"\\nI want to implement ...</td>\n",
       "      <td>how to implement fill in the blank in Swift; \"...</td>\n",
       "      <td>[how, to, implement, fill, in, the, blank, in,...</td>\n",
       "    </tr>\n",
       "    <tr>\n",
       "      <th>44999</th>\n",
       "      <td>60468018</td>\n",
       "      <td>How can I make a c# application outside of vis...</td>\n",
       "      <td>&lt;p&gt;I'm very new to programming and I'm teachin...</td>\n",
       "      <td>&lt;c#&gt;&lt;visual-studio&gt;</td>\n",
       "      <td>2020-02-29 17:55:56</td>\n",
       "      <td>LQ_CLOSE</td>\n",
       "      <td>I'm very new to programming and I'm teaching m...</td>\n",
       "      <td>How can I make a c# application outside of vis...</td>\n",
       "      <td>[how, can, make, application, outside, of, vis...</td>\n",
       "    </tr>\n",
       "  </tbody>\n",
       "</table>\n",
       "<p>45000 rows × 9 columns</p>\n",
       "</div>"
      ],
      "text/plain": [
       "             Id                                              Title  \\\n",
       "0      34552656             Java: Repeat Task Every Random Seconds   \n",
       "1      34553034                  Why are Java Optionals immutable?   \n",
       "2      34553174  Text Overlay Image with Darkened Opacity React...   \n",
       "3      34553318         Why ternary operator in swift is so picky?   \n",
       "4      34553755                 hide/show fab with scale animation   \n",
       "...         ...                                                ...   \n",
       "44995  60461435  Convert List<String> to string C# - asp.net - ...   \n",
       "44996  60461754  Does Python execute code from the top or botto...   \n",
       "44997  60462001               how to change payment date in Azure?   \n",
       "44998  60465318        how to implement fill in the blank in Swift   \n",
       "44999  60468018  How can I make a c# application outside of vis...   \n",
       "\n",
       "                                                    Body  \\\n",
       "0      <p>I'm already familiar with repeating tasks e...   \n",
       "1      <p>I'd like to understand why Java 8 Optionals...   \n",
       "2      <p>I am attempting to overlay a title over an ...   \n",
       "3      <p>The question is very simple, but I just cou...   \n",
       "4      <p>I'm using custom floatingactionmenu. I need...   \n",
       "...                                                  ...   \n",
       "44995  <p>I am new to this and I am asking for help t...   \n",
       "44996  <p>I am working on learning Python and was won...   \n",
       "44997  <p>It looks like it costs 8 days per month in ...   \n",
       "44998  <p>\"I _____ any questions.\"</p>\\n\\n<p>I want t...   \n",
       "44999  <p>I'm very new to programming and I'm teachin...   \n",
       "\n",
       "                                                    Tags         CreationDate  \\\n",
       "0                                         <java><repeat>  2016-01-01 00:21:59   \n",
       "1                                       <java><optional>  2016-01-01 02:03:20   \n",
       "2      <javascript><image><overlay><react-native><opa...  2016-01-01 02:48:24   \n",
       "3      <swift><operators><whitespace><ternary-operato...  2016-01-01 03:30:17   \n",
       "4      <android><material-design><floating-action-but...  2016-01-01 05:21:48   \n",
       "...                                                  ...                  ...   \n",
       "44995                          <c#><asp.net><sql-server>  2020-02-29 02:22:18   \n",
       "44996                                           <python>  2020-02-29 03:33:59   \n",
       "44997                                   <azure><billing>  2020-02-29 04:34:16   \n",
       "44998                                       <ios><swift>  2020-02-29 12:50:43   \n",
       "44999                                <c#><visual-studio>  2020-02-29 17:55:56   \n",
       "\n",
       "              Y                                              soups  \\\n",
       "0      LQ_CLOSE  I'm already familiar with repeating tasks ever...   \n",
       "1            HQ  I'd like to understand why Java 8 Optionals we...   \n",
       "2            HQ  I am attempting to overlay a title over an ima...   \n",
       "3            HQ  The question is very simple, but I just could ...   \n",
       "4            HQ  I'm using custom floatingactionmenu. I need to...   \n",
       "...         ...                                                ...   \n",
       "44995  LQ_CLOSE  I am new to this and I am asking for help to c...   \n",
       "44996  LQ_CLOSE  I am working on learning Python and was wonder...   \n",
       "44997  LQ_CLOSE  It looks like it costs 8 days per month in Azu...   \n",
       "44998  LQ_CLOSE  \"I _____ any questions.\"\\nI want to implement ...   \n",
       "44999  LQ_CLOSE  I'm very new to programming and I'm teaching m...   \n",
       "\n",
       "                                                    text  \\\n",
       "0      Java: Repeat Task Every Random Seconds; I'm al...   \n",
       "1      Why are Java Optionals immutable?; I'd like to...   \n",
       "2      Text Overlay Image with Darkened Opacity React...   \n",
       "3      Why ternary operator in swift is so picky?; Th...   \n",
       "4      hide/show fab with scale animation; I'm using ...   \n",
       "...                                                  ...   \n",
       "44995  Convert List<String> to string C# - asp.net - ...   \n",
       "44996  Does Python execute code from the top or botto...   \n",
       "44997  how to change payment date in Azure?; It looks...   \n",
       "44998  how to implement fill in the blank in Swift; \"...   \n",
       "44999  How can I make a c# application outside of vis...   \n",
       "\n",
       "                                            cleaned-text  \n",
       "0      [java, repeat, task, every, random, seconds, a...  \n",
       "1      [why, are, java, optionals, immutable, like, t...  \n",
       "2      [text, overlay, image, with, darkened, opacity...  \n",
       "3      [why, ternary, operator, in, swift, is, so, pi...  \n",
       "4      [hide, show, fab, with, scale, animation, usin...  \n",
       "...                                                  ...  \n",
       "44995  [convert, list, string, to, string, asp, net, ...  \n",
       "44996  [does, python, execute, code, from, the, top, ...  \n",
       "44997  [how, to, change, payment, date, in, azure, it...  \n",
       "44998  [how, to, implement, fill, in, the, blank, in,...  \n",
       "44999  [how, can, make, application, outside, of, vis...  \n",
       "\n",
       "[45000 rows x 9 columns]"
      ]
     },
     "execution_count": 9,
     "metadata": {},
     "output_type": "execute_result"
    }
   ],
   "source": [
    "## use gensim's simple preprocess\n",
    "df['cleaned-text'] = df['text'].map(lambda x: simple_preprocess(x, deacc=True))\n",
    "df"
   ]
  },
  {
   "cell_type": "code",
   "execution_count": null,
   "metadata": {},
   "outputs": [],
   "source": []
  },
  {
   "cell_type": "code",
   "execution_count": 10,
   "metadata": {
    "ExecuteTime": {
     "end_time": "2021-06-09T00:16:01.536236Z",
     "start_time": "2021-06-09T00:15:39.725978Z"
    }
   },
   "outputs": [
    {
     "data": {
      "text/plain": [
       "45000"
      ]
     },
     "execution_count": 10,
     "metadata": {},
     "output_type": "execute_result"
    }
   ],
   "source": [
    "## set the embedding size (normally I'd do 100, but doing 50 for time)\n",
    "EMBEDDING_SIZE = 50\n",
    "## intiitalize the w2v odel\n",
    "w2v_model = Word2Vec(df['cleaned-text'], size=EMBEDDING_SIZE, window=5,\n",
    "                     min_count=3, workers=4, seed=321)\n",
    "\n",
    "w2v_model.corpus_count"
   ]
  },
  {
   "cell_type": "code",
   "execution_count": 11,
   "metadata": {
    "ExecuteTime": {
     "end_time": "2021-06-09T00:16:12.007700Z",
     "start_time": "2021-06-09T00:16:01.538775Z"
    }
   },
   "outputs": [
    {
     "data": {
      "text/plain": [
       "(20452493, 24621055)"
      ]
     },
     "execution_count": 11,
     "metadata": {},
     "output_type": "execute_result"
    }
   ],
   "source": [
    "## Train w2v model\n",
    "w2v_model.train(df['cleaned-text'],total_words=w2v_model.corpus_total_words,\n",
    "                epochs=w2v_model.epochs)"
   ]
  },
  {
   "cell_type": "code",
   "execution_count": 12,
   "metadata": {
    "ExecuteTime": {
     "end_time": "2021-06-09T00:16:12.025727Z",
     "start_time": "2021-06-09T00:16:12.009408Z"
    }
   },
   "outputs": [
    {
     "data": {
      "text/plain": [
       "['the',\n",
       " 'to',\n",
       " 'in',\n",
       " 'is',\n",
       " 'and',\n",
       " 'this',\n",
       " 'of',\n",
       " 'it',\n",
       " 'for',\n",
       " 'if',\n",
       " 'that',\n",
       " 'my',\n",
       " 'how',\n",
       " 'with',\n",
       " 'have',\n",
       " 'but',\n",
       " 'not',\n",
       " 'on',\n",
       " 'can',\n",
       " 'from',\n",
       " 'string',\n",
       " 'code',\n",
       " 'new',\n",
       " 'as',\n",
       " 'int',\n",
       " 'android',\n",
       " 'be',\n",
       " 'error',\n",
       " 'using',\n",
       " 'an',\n",
       " 'at',\n",
       " 'class',\n",
       " 'java',\n",
       " 'am',\n",
       " 'get',\n",
       " 'do',\n",
       " 'file',\n",
       " 'data',\n",
       " 'when',\n",
       " 'or',\n",
       " 'like',\n",
       " 'name',\n",
       " 'what',\n",
       " 'public',\n",
       " 'want',\n",
       " 'return',\n",
       " 'function',\n",
       " 'com',\n",
       " 'id',\n",
       " 'so',\n",
       " 'value',\n",
       " 'use',\n",
       " 'app',\n",
       " 'any',\n",
       " 'there',\n",
       " 'you',\n",
       " 'are',\n",
       " 'text',\n",
       " 'me',\n",
       " 'import',\n",
       " 'which',\n",
       " 'here',\n",
       " 'all',\n",
       " 'array',\n",
       " 'out',\n",
       " 'type',\n",
       " 'list',\n",
       " 'void',\n",
       " 'by',\n",
       " 'help',\n",
       " 'one',\n",
       " 'would',\n",
       " 'user',\n",
       " 'need',\n",
       " 'system',\n",
       " 'var',\n",
       " 'some',\n",
       " 'input',\n",
       " 'print',\n",
       " 'true',\n",
       " 'line',\n",
       " 'will',\n",
       " 'null',\n",
       " 'way',\n",
       " 'python',\n",
       " 'add',\n",
       " 'trying',\n",
       " 'then',\n",
       " 'run',\n",
       " 'no',\n",
       " 'test',\n",
       " 'number',\n",
       " 'view',\n",
       " 'set',\n",
       " 'div',\n",
       " 'main',\n",
       " 'object',\n",
       " 'please',\n",
       " 'example',\n",
       " 'else',\n",
       " 'know',\n",
       " 'create',\n",
       " 'only',\n",
       " 'time',\n",
       " 'method',\n",
       " 'should',\n",
       " 'does',\n",
       " 'button',\n",
       " 'php',\n",
       " 'js',\n",
       " 'where',\n",
       " 'following',\n",
       " 'image',\n",
       " 'org',\n",
       " 'into',\n",
       " 'https',\n",
       " 'has',\n",
       " 'why',\n",
       " 'find',\n",
       " 'html',\n",
       " 'table',\n",
       " 'make',\n",
       " 'http',\n",
       " 'work',\n",
       " 'just',\n",
       " 'false',\n",
       " 'tried',\n",
       " 'first',\n",
       " 'problem',\n",
       " 'private',\n",
       " 'same',\n",
       " 'thanks',\n",
       " 'result',\n",
       " 'output',\n",
       " 'was',\n",
       " 'json',\n",
       " 'date',\n",
       " 'server',\n",
       " 'values',\n",
       " 'application',\n",
       " 'build',\n",
       " 'we',\n",
       " 'while',\n",
       " 'two',\n",
       " 'project',\n",
       " 'console',\n",
       " 'self',\n",
       " 'now',\n",
       " 'after',\n",
       " 'other',\n",
       " 'working',\n",
       " 'don',\n",
       " 'version',\n",
       " 've',\n",
       " 'form',\n",
       " 'each',\n",
       " 'log',\n",
       " 'include',\n",
       " 'static',\n",
       " 'select',\n",
       " 'page',\n",
       " 'key',\n",
       " 'end',\n",
       " 'api',\n",
       " 'try',\n",
       " 'also',\n",
       " 'something',\n",
       " 'script',\n",
       " 'below',\n",
       " 'files',\n",
       " 'react',\n",
       " 'index',\n",
       " 'program',\n",
       " 'size',\n",
       " 'could',\n",
       " 'url',\n",
       " 'up',\n",
       " 'enter',\n",
       " 'case',\n",
       " 'row',\n",
       " 'let',\n",
       " 'database',\n",
       " 'users',\n",
       " 'see',\n",
       " 'google',\n",
       " 'message',\n",
       " 'show',\n",
       " 'item',\n",
       " 'getting',\n",
       " 'change',\n",
       " 'question',\n",
       " 'write',\n",
       " 'found',\n",
       " 'println',\n",
       " 'variable',\n",
       " 'about',\n",
       " 'std',\n",
       " 'column',\n",
       " 'query',\n",
       " 'your',\n",
       " 'content',\n",
       " 'call',\n",
       " 'node',\n",
       " 'request',\n",
       " 'char',\n",
       " 'angular',\n",
       " 'start',\n",
       " 'javascript',\n",
       " 'path',\n",
       " 'const',\n",
       " 'px',\n",
       " 'read',\n",
       " 'right',\n",
       " 'component',\n",
       " 'more',\n",
       " 'used',\n",
       " 'stack',\n",
       " 'color',\n",
       " 'different',\n",
       " 'default',\n",
       " 'without',\n",
       " 'override',\n",
       " 'them',\n",
       " 'sql',\n",
       " 'works',\n",
       " 'command',\n",
       " 'another',\n",
       " 'web',\n",
       " 'doesn',\n",
       " 'check',\n",
       " 'password',\n",
       " 'length',\n",
       " 'net',\n",
       " 'possible',\n",
       " 'td',\n",
       " 'however',\n",
       " 'loop',\n",
       " 'count',\n",
       " 'cout',\n",
       " 'double',\n",
       " 'lib',\n",
       " 'between',\n",
       " 'title',\n",
       " 'core',\n",
       " 'email',\n",
       " 'cannot',\n",
       " 'click',\n",
       " 'these',\n",
       " 'module',\n",
       " 'echo',\n",
       " 'they',\n",
       " 'response',\n",
       " 'open',\n",
       " 'because',\n",
       " 'context',\n",
       " 'py',\n",
       " 'css',\n",
       " 'support',\n",
       " 'db',\n",
       " 'been',\n",
       " 'next',\n",
       " 'running',\n",
       " 'wrong',\n",
       " 'map',\n",
       " 'its',\n",
       " 'display',\n",
       " 'access',\n",
       " 'model',\n",
       " 'convert',\n",
       " 'anyone',\n",
       " 'go',\n",
       " 'simple',\n",
       " 'width',\n",
       " 'def',\n",
       " 'printf',\n",
       " 'png',\n",
       " 'element',\n",
       " 'state',\n",
       " 'format',\n",
       " 'able',\n",
       " 'link',\n",
       " 'update',\n",
       " 'option',\n",
       " 'exception',\n",
       " 'post',\n",
       " 'put',\n",
       " 'inside',\n",
       " 'info',\n",
       " 'studio',\n",
       " 'understand',\n",
       " 'service',\n",
       " 'library',\n",
       " 'style',\n",
       " 'package',\n",
       " 'install',\n",
       " 'src',\n",
       " 'client',\n",
       " 'issue',\n",
       " 'multiple',\n",
       " 'than',\n",
       " 'document',\n",
       " 'os',\n",
       " 'order',\n",
       " 'integer',\n",
       " 'local',\n",
       " 'second',\n",
       " 'source',\n",
       " 'height',\n",
       " 'created',\n",
       " 'username',\n",
       " 'imgur',\n",
       " 'doing',\n",
       " 'docker',\n",
       " 'even',\n",
       " 'numbers',\n",
       " 'before',\n",
       " 'solution',\n",
       " 'windows',\n",
       " 'gradle',\n",
       " 'label',\n",
       " 'position',\n",
       " 'str',\n",
       " 'through',\n",
       " 'insert',\n",
       " 'failed',\n",
       " 'every',\n",
       " 'internal',\n",
       " 'very',\n",
       " 'background',\n",
       " 'seems',\n",
       " 'remove',\n",
       " 'still',\n",
       " 'body',\n",
       " 'thank',\n",
       " 'description',\n",
       " 'left',\n",
       " 'current',\n",
       " 'search',\n",
       " 'word',\n",
       " 'long',\n",
       " 'last',\n",
       " 'break',\n",
       " 'both',\n",
       " 'got',\n",
       " 'answer',\n",
       " 'login',\n",
       " 'random',\n",
       " 'event',\n",
       " 'above',\n",
       " 'container',\n",
       " 'home',\n",
       " 'final',\n",
       " 'sure',\n",
       " 'many',\n",
       " 'foo',\n",
       " 'native',\n",
       " 'instead',\n",
       " 'intent',\n",
       " 'txt',\n",
       " 'such',\n",
       " 'store',\n",
       " 'root',\n",
       " 'having',\n",
       " 'location',\n",
       " 'execute',\n",
       " 'fine',\n",
       " 'someone',\n",
       " 'lang',\n",
       " 'load',\n",
       " 'field',\n",
       " 'status',\n",
       " 'already',\n",
       " 'tostring',\n",
       " 'advance',\n",
       " 'hello',\n",
       " 'config',\n",
       " 'pass',\n",
       " 'compile',\n",
       " 'folder',\n",
       " 'spring',\n",
       " 'sum',\n",
       " 'correct',\n",
       " 'task',\n",
       " 'none',\n",
       " 'called',\n",
       " 'www',\n",
       " 'results',\n",
       " 'float',\n",
       " 'npm',\n",
       " 'jquery',\n",
       " 'activity',\n",
       " 'send',\n",
       " 'site',\n",
       " 'given',\n",
       " 'mysql',\n",
       " 'specific',\n",
       " 'errors',\n",
       " 'process',\n",
       " 'xml',\n",
       " 'top',\n",
       " 'statement',\n",
       " 'based',\n",
       " 'directory',\n",
       " 'close',\n",
       " 'property',\n",
       " 'bundle',\n",
       " 'range',\n",
       " 'part',\n",
       " 'website',\n",
       " 'returns',\n",
       " 'window',\n",
       " 'delete',\n",
       " 'findviewbyid',\n",
       " 'layout',\n",
       " 'template',\n",
       " 'args',\n",
       " 'bar',\n",
       " 'group',\n",
       " 'fix',\n",
       " 'endl',\n",
       " 'items',\n",
       " 'contains',\n",
       " 'num',\n",
       " 'apache',\n",
       " 'action',\n",
       " 'err',\n",
       " 'idea',\n",
       " 'val',\n",
       " 'single',\n",
       " 'must',\n",
       " 'rows',\n",
       " 'information',\n",
       " 'etc',\n",
       " 'connection',\n",
       " 'objects',\n",
       " 'jar',\n",
       " 'address',\n",
       " 'point',\n",
       " 'header',\n",
       " 'catch',\n",
       " 'done',\n",
       " 'really',\n",
       " 'difference',\n",
       " 'parent',\n",
       " 'expected',\n",
       " 'looks',\n",
       " 'release',\n",
       " 'images',\n",
       " 'elements',\n",
       " 'widget',\n",
       " 'options',\n",
       " 'packages',\n",
       " 'vector',\n",
       " 'extends',\n",
       " 'textview',\n",
       " 'debug',\n",
       " 'functions',\n",
       " 'required',\n",
       " 'columns',\n",
       " 'struct',\n",
       " 'reference',\n",
       " 'best',\n",
       " 'base',\n",
       " 'git',\n",
       " 'font',\n",
       " 'replace',\n",
       " 'col',\n",
       " 'super',\n",
       " 'temp',\n",
       " 'instance',\n",
       " 'total',\n",
       " 'creating',\n",
       " 'did',\n",
       " 'ios',\n",
       " 'li',\n",
       " 'util',\n",
       " 'arraylist',\n",
       " 'save',\n",
       " 'give',\n",
       " 'io',\n",
       " 'empty',\n",
       " 'thread',\n",
       " 'over',\n",
       " 'variables',\n",
       " 'back',\n",
       " 'func',\n",
       " 'being',\n",
       " 'res',\n",
       " 'child',\n",
       " 'custom',\n",
       " 'screen',\n",
       " 'currently',\n",
       " 'syntax',\n",
       " 'well',\n",
       " 'appreciated',\n",
       " 'say',\n",
       " 'since',\n",
       " 'looking',\n",
       " 'much',\n",
       " 'figure',\n",
       " 'github',\n",
       " 'export',\n",
       " 'good',\n",
       " 'visual',\n",
       " 'menu',\n",
       " 'microsoft',\n",
       " 'always',\n",
       " 'springframework',\n",
       " 'constructor',\n",
       " 'missing',\n",
       " 'seem',\n",
       " 'activitythread',\n",
       " 'target',\n",
       " 'swift',\n",
       " 'node_modules',\n",
       " 'jpg',\n",
       " 'arr',\n",
       " 'ts',\n",
       " 'boolean',\n",
       " 'require',\n",
       " 'think',\n",
       " 'append',\n",
       " 'df',\n",
       " 'usr',\n",
       " 'again',\n",
       " 'tag',\n",
       " 'lines',\n",
       " 'max',\n",
       " 'split',\n",
       " 'connect',\n",
       " 'href',\n",
       " 'match',\n",
       " 'take',\n",
       " 'most',\n",
       " 'copy',\n",
       " 'their',\n",
       " 'auto',\n",
       " 'firebase',\n",
       " 'mean',\n",
       " 'types',\n",
       " 'br',\n",
       " 'block',\n",
       " 'memory',\n",
       " 'sort',\n",
       " 'im',\n",
       " 'frame',\n",
       " 'head',\n",
       " 'localhost',\n",
       " 'configuration',\n",
       " 'within',\n",
       " 'box',\n",
       " 'browser',\n",
       " 'warning',\n",
       " 'token',\n",
       " 'look',\n",
       " 'installed',\n",
       " 'may',\n",
       " 'solve',\n",
       " 'span',\n",
       " 'methods',\n",
       " 'added',\n",
       " 'plugin',\n",
       " 'names',\n",
       " 'product',\n",
       " 'character',\n",
       " 'parameters',\n",
       " 'parameter',\n",
       " 'anything',\n",
       " 'defined',\n",
       " 'define',\n",
       " 'join',\n",
       " 'vs',\n",
       " 'center',\n",
       " 'ruby',\n",
       " 'shows',\n",
       " 'via',\n",
       " 'tell',\n",
       " 'nothing',\n",
       " 'tr',\n",
       " 'min',\n",
       " 'bin',\n",
       " 'parse',\n",
       " 'strings',\n",
       " 'filter',\n",
       " 'scanner',\n",
       " 'push',\n",
       " 'regex',\n",
       " 'csv',\n",
       " 'day',\n",
       " 'words',\n",
       " 'times',\n",
       " 'thing',\n",
       " 'namespace',\n",
       " 'keep',\n",
       " 'cell',\n",
       " 'those',\n",
       " 'webpack',\n",
       " 'price',\n",
       " 'far',\n",
       " 'questions',\n",
       " 'controller',\n",
       " 'tools',\n",
       " 'framework',\n",
       " 'everything',\n",
       " 'documentation',\n",
       " 'invalid',\n",
       " 'device',\n",
       " 'gives',\n",
       " 'control',\n",
       " 'better',\n",
       " 'lot',\n",
       " 'year',\n",
       " 'switch',\n",
       " 'bit',\n",
       " 'xcode',\n",
       " 'services',\n",
       " 'classes',\n",
       " 'implement',\n",
       " 'similar',\n",
       " 'oncreate',\n",
       " 're',\n",
       " 'going',\n",
       " 'protected',\n",
       " 'too',\n",
       " 'undefined',\n",
       " 'age',\n",
       " 'player',\n",
       " 'sub',\n",
       " 'explain',\n",
       " 'bool',\n",
       " 'made',\n",
       " 'game',\n",
       " 'chrome',\n",
       " 'boot',\n",
       " 'note',\n",
       " 'unable',\n",
       " 'dev',\n",
       " 'grid',\n",
       " 'img',\n",
       " 'ok',\n",
       " 'interface',\n",
       " 'available',\n",
       " 'implementation',\n",
       " 'reason',\n",
       " 'down',\n",
       " 'alert',\n",
       " 'three',\n",
       " 'filename',\n",
       " 'bootstrap',\n",
       " 'host',\n",
       " 'expression',\n",
       " 'resolve',\n",
       " 'pointer',\n",
       " 'onclick',\n",
       " 'language',\n",
       " 'exit',\n",
       " 'our',\n",
       " 'changes',\n",
       " 'adding',\n",
       " 'once',\n",
       " 'properties',\n",
       " 'non',\n",
       " 'linux',\n",
       " 'level',\n",
       " 'environment',\n",
       " 'invoke',\n",
       " 'obj',\n",
       " 'account',\n",
       " 'session',\n",
       " 'props',\n",
       " 'datetime',\n",
       " 'handler',\n",
       " 'math',\n",
       " 'dependencies',\n",
       " 'fields',\n",
       " 'setup',\n",
       " 'ui',\n",
       " 'django',\n",
       " 'router',\n",
       " 'generate',\n",
       " 'operator',\n",
       " 'foreach',\n",
       " 'structure',\n",
       " 'either',\n",
       " 'np',\n",
       " 'making',\n",
       " 'characters',\n",
       " 'submit',\n",
       " 'entry',\n",
       " 'sample',\n",
       " 'step',\n",
       " 'fragment',\n",
       " 'aws',\n",
       " 'arrays',\n",
       " 'started',\n",
       " 'yes',\n",
       " 'amount',\n",
       " 'selected',\n",
       " 'icon',\n",
       " 'had',\n",
       " 'says',\n",
       " 'details',\n",
       " 'achieve',\n",
       " 'toast',\n",
       " 'valid',\n",
       " 'didn',\n",
       " 'around',\n",
       " 'argument',\n",
       " 'month',\n",
       " 'writeline',\n",
       " 'components',\n",
       " 'render',\n",
       " 'things',\n",
       " 'play',\n",
       " 'apply',\n",
       " 'docs',\n",
       " 'space',\n",
       " 'dataframe',\n",
       " 'move',\n",
       " 'side',\n",
       " 'admin',\n",
       " 'full',\n",
       " 'border',\n",
       " 'drawable',\n",
       " 'generated',\n",
       " 'th',\n",
       " 'typescript',\n",
       " 'phone',\n",
       " 'place',\n",
       " 'success',\n",
       " 'asp',\n",
       " 'uses',\n",
       " 'loader',\n",
       " 'gets',\n",
       " 'compiler',\n",
       " 'own',\n",
       " 'student',\n",
       " 'route',\n",
       " 'actually',\n",
       " 'setting',\n",
       " 'dictionary',\n",
       " 'init',\n",
       " 'exist',\n",
       " 'gems',\n",
       " 'global',\n",
       " 'tests',\n",
       " 'execution',\n",
       " 'ms',\n",
       " 'excel',\n",
       " 'cmd',\n",
       " 'person',\n",
       " 'bottom',\n",
       " 'download',\n",
       " 'few',\n",
       " 'video',\n",
       " 'condition',\n",
       " 'async',\n",
       " 'security',\n",
       " 'isn',\n",
       " 'basic',\n",
       " 'clear',\n",
       " 'cache',\n",
       " 'len',\n",
       " 'testing',\n",
       " 'pattern',\n",
       " 'showing',\n",
       " 'sdk',\n",
       " 'tab',\n",
       " 'cpp',\n",
       " 'edit',\n",
       " 'programming',\n",
       " 'vue',\n",
       " 'margin',\n",
       " 'headers',\n",
       " 'settext',\n",
       " 'common',\n",
       " 'red',\n",
       " 'writing',\n",
       " 'settings',\n",
       " 'cursor',\n",
       " 'models',\n",
       " 'attribute',\n",
       " 'dependency',\n",
       " 'section',\n",
       " 'abc',\n",
       " 'auth',\n",
       " 'rest',\n",
       " 'fetch',\n",
       " 'flutter',\n",
       " 'category',\n",
       " 'handle',\n",
       " 'driver',\n",
       " 'learning',\n",
       " 'edittext',\n",
       " 'ajax',\n",
       " 'exists',\n",
       " 'takes',\n",
       " 'port',\n",
       " 'cin',\n",
       " 'utf',\n",
       " 'ip',\n",
       " 'padding',\n",
       " 'resource',\n",
       " 'developer',\n",
       " 'off',\n",
       " 'white',\n",
       " 'correctly',\n",
       " 'es',\n",
       " 'allow',\n",
       " 'network',\n",
       " 'stream',\n",
       " 'checked',\n",
       " 'hi',\n",
       " 'throws',\n",
       " 'mode',\n",
       " 'keys',\n",
       " 'written',\n",
       " 'development',\n",
       " 'machine',\n",
       " 'unknown',\n",
       " 'dont',\n",
       " 'rb',\n",
       " 'cli',\n",
       " 'changed',\n",
       " 'book',\n",
       " 'score',\n",
       " 'nil',\n",
       " 'kind',\n",
       " 'wondering',\n",
       " 'reading',\n",
       " 'apps',\n",
       " 'getelementbyid',\n",
       " 'scope',\n",
       " 'maybe',\n",
       " 'na',\n",
       " 'sender',\n",
       " 'builder',\n",
       " 'varchar',\n",
       " 'building',\n",
       " 'stop',\n",
       " 'small',\n",
       " 'starting',\n",
       " 'master',\n",
       " 'spark',\n",
       " 'dp',\n",
       " 'counter',\n",
       " 'until',\n",
       " 'matrix',\n",
       " 'projects',\n",
       " 'days',\n",
       " 'env',\n",
       " 'sizeof',\n",
       " 'de',\n",
       " 'begin',\n",
       " 'equals',\n",
       " 'tables',\n",
       " 'seconds',\n",
       " 'points',\n",
       " 'kotlin',\n",
       " 'active',\n",
       " 'named',\n",
       " 'btn',\n",
       " 'reflect',\n",
       " 'provide',\n",
       " 'us',\n",
       " 'contain',\n",
       " 'mainactivity',\n",
       " 'might',\n",
       " 'rails',\n",
       " 'design',\n",
       " 'recyclerview',\n",
       " 'tmp',\n",
       " 'getstring',\n",
       " 'automatically',\n",
       " 'requests',\n",
       " 'exactly',\n",
       " 'certain',\n",
       " 'needs',\n",
       " 'ideas',\n",
       " 'tasks',\n",
       " 'record',\n",
       " 'means',\n",
       " 'mm',\n",
       " 'approach',\n",
       " 'stored',\n",
       " 'properly',\n",
       " 'pandas',\n",
       " 'textbox',\n",
       " 'calling',\n",
       " 'upload',\n",
       " 'mobile',\n",
       " 'extract',\n",
       " 'standard',\n",
       " 'per',\n",
       " 'domain',\n",
       " 'latest',\n",
       " 'previous',\n",
       " 'whole',\n",
       " 'conn',\n",
       " 'under',\n",
       " 'laravel',\n",
       " 'lambda',\n",
       " 'dynamic',\n",
       " 'tf',\n",
       " 'tensorflow',\n",
       " 'old',\n",
       " 'cant',\n",
       " 'runtime',\n",
       " 'dd',\n",
       " 'nested',\n",
       " 'were',\n",
       " 'learn',\n",
       " 'though',\n",
       " 'world',\n",
       " 'beans',\n",
       " 'calculate',\n",
       " 'gettext',\n",
       " 'byte',\n",
       " 'listview',\n",
       " 'compare',\n",
       " 'apple',\n",
       " 'resources',\n",
       " 'params',\n",
       " 'layout_width',\n",
       " 'zygoteinit',\n",
       " 'arguments',\n",
       " 'loading',\n",
       " 'people',\n",
       " 'layout_height',\n",
       " 'desktop',\n",
       " 'platform',\n",
       " 'feature',\n",
       " 'successfully',\n",
       " 'repository',\n",
       " 'wrap_content',\n",
       " 'card',\n",
       " 'normal',\n",
       " 'primary',\n",
       " 'ex',\n",
       " 'extension',\n",
       " 'complete',\n",
       " 'cloud',\n",
       " 'layoutinflater',\n",
       " 'updated',\n",
       " 'examples',\n",
       " 'collection',\n",
       " 'job',\n",
       " 'facebook',\n",
       " 'ask',\n",
       " 'expect',\n",
       " 'basically',\n",
       " 'con',\n",
       " 'whether',\n",
       " 'permission',\n",
       " 'ng',\n",
       " 'wanted',\n",
       " 'runs',\n",
       " 'pip',\n",
       " 'navigation',\n",
       " 'choice',\n",
       " 'modules',\n",
       " 'country',\n",
       " 'member',\n",
       " 'letter',\n",
       " 'thought',\n",
       " 'versions',\n",
       " 'fill',\n",
       " 'scala',\n",
       " 'changing',\n",
       " 'simply',\n",
       " 'employee',\n",
       " 'ubuntu',\n",
       " 'unique',\n",
       " 'never',\n",
       " 'unit',\n",
       " 'operation',\n",
       " 'remote',\n",
       " 'exe',\n",
       " 'symbol',\n",
       " 'couldn',\n",
       " 'tree',\n",
       " 'imageview',\n",
       " 'separate',\n",
       " 'hash',\n",
       " 'contact',\n",
       " 'maven',\n",
       " 'equal',\n",
       " 'follows',\n",
       " 'register',\n",
       " 'disable',\n",
       " 'binary',\n",
       " 'present',\n",
       " 'factory',\n",
       " 'several',\n",
       " 'en',\n",
       " 'loaded',\n",
       " 'buttons',\n",
       " 'city',\n",
       " 'original',\n",
       " 'yet',\n",
       " ...]"
      ]
     },
     "execution_count": 12,
     "metadata": {},
     "output_type": "execute_result"
    }
   ],
   "source": [
    "## w2v saves word vectors as .wv\n",
    "wv = w2v_model.wv\n",
    "wv.index2word"
   ]
  },
  {
   "cell_type": "code",
   "execution_count": 13,
   "metadata": {
    "ExecuteTime": {
     "end_time": "2021-06-09T00:16:12.032488Z",
     "start_time": "2021-06-09T00:16:12.028424Z"
    }
   },
   "outputs": [
    {
     "data": {
      "text/plain": [
       "gensim.models.keyedvectors.Word2VecKeyedVectors"
      ]
     },
     "execution_count": 13,
     "metadata": {},
     "output_type": "execute_result"
    }
   ],
   "source": [
    "type(wv)"
   ]
  },
  {
   "cell_type": "code",
   "execution_count": 15,
   "metadata": {
    "ExecuteTime": {
     "end_time": "2021-06-09T00:25:18.765113Z",
     "start_time": "2021-06-09T00:25:18.763272Z"
    }
   },
   "outputs": [],
   "source": [
    "## wv's vocab contains all words it learned\n",
    "# wv.keys()"
   ]
  },
  {
   "cell_type": "code",
   "execution_count": 16,
   "metadata": {
    "ExecuteTime": {
     "end_time": "2021-06-09T00:25:21.948328Z",
     "start_time": "2021-06-09T00:25:21.944319Z"
    }
   },
   "outputs": [
    {
     "data": {
      "text/plain": [
       "array([ 1.8878449 , -0.30791554, -0.5363081 ,  3.1440172 ,  2.7245743 ,\n",
       "        1.7750976 , -0.67193955, -1.1327797 ,  1.8977826 , -0.42540377,\n",
       "        0.48877266,  2.6887076 , -4.3051896 , -2.5447662 , -3.164391  ,\n",
       "       -0.41723368, -0.45258236,  1.139629  ,  0.5198684 ,  1.269917  ,\n",
       "        1.5443127 ,  1.8752527 , -2.9164438 , -2.8719823 , -0.05793811,\n",
       "        1.3814029 ,  1.460172  , -0.45194697, -5.1255293 , -1.2069011 ,\n",
       "       -4.8432436 ,  0.91241044, -1.177208  ,  2.7045934 ,  1.154171  ,\n",
       "       -0.7646628 , -0.62438637,  1.5491252 , -1.6020803 , -3.3004146 ,\n",
       "        2.9849288 ,  2.4577882 ,  0.8662479 , -0.16857049,  0.67487633,\n",
       "       -0.7505273 ,  0.1687618 ,  1.6843115 , -0.58546   ,  2.3597898 ],\n",
       "      dtype=float32)"
      ]
     },
     "execution_count": 16,
     "metadata": {},
     "output_type": "execute_result"
    }
   ],
   "source": [
    "## wv can be used as a dictionary to extract word vectors\n",
    "wv['python']"
   ]
  },
  {
   "cell_type": "code",
   "execution_count": 17,
   "metadata": {
    "ExecuteTime": {
     "end_time": "2021-06-09T00:25:22.291997Z",
     "start_time": "2021-06-09T00:25:22.268910Z"
    }
   },
   "outputs": [
    {
     "data": {
      "text/plain": [
       "[('anaconda', 0.6529664397239685),\n",
       " ('perl', 0.6389933228492737),\n",
       " ('pycharm', 0.6367455124855042),\n",
       " ('interpreter', 0.6176669001579285),\n",
       " ('matlab', 0.6136234998703003),\n",
       " ('pandas', 0.6044897437095642),\n",
       " ('tensorflow', 0.6039512157440186),\n",
       " ('numpy', 0.6027913689613342),\n",
       " ('bash', 0.5833792686462402),\n",
       " ('jupyter', 0.5716077089309692),\n",
       " ('dictionary', 0.5597060918807983),\n",
       " ('virtualenv', 0.558582067489624),\n",
       " ('pip', 0.5578752160072327),\n",
       " ('shell', 0.5500363111495972),\n",
       " ('flask', 0.5478650331497192),\n",
       " ('rstudio', 0.5422171950340271),\n",
       " ('spyder', 0.5420556664466858),\n",
       " ('notebook', 0.5387975573539734),\n",
       " ('django', 0.5354998707771301),\n",
       " ('smt', 0.5346893072128296)]"
      ]
     },
     "execution_count": 17,
     "metadata": {},
     "output_type": "execute_result"
    }
   ],
   "source": [
    "## Saving the keyed vectors as their own var\n",
    "wv.most_similar('python', topn=20)"
   ]
  },
  {
   "cell_type": "code",
   "execution_count": 18,
   "metadata": {
    "ExecuteTime": {
     "end_time": "2021-06-09T00:25:22.743542Z",
     "start_time": "2021-06-09T00:25:22.737154Z"
    }
   },
   "outputs": [
    {
     "data": {
      "text/plain": [
       "[('gensim', 0.6364898681640625),\n",
       " ('forest', 0.547258198261261),\n",
       " ('corpus', 0.5290353298187256),\n",
       " ('comprehension', 0.5261486172676086),\n",
       " ('docx', 0.5015192031860352),\n",
       " ('tfidf', 0.49925175309181213),\n",
       " ('split', 0.493964821100235),\n",
       " ('classify', 0.4768691658973694),\n",
       " ('vsto', 0.47581368684768677),\n",
       " ('wordcloud', 0.47022637724876404),\n",
       " ('cyrillic', 0.4691597521305084),\n",
       " ('normalization', 0.4685552716255188),\n",
       " ('hangman', 0.461437463760376),\n",
       " ('googlenews', 0.46073275804519653),\n",
       " ('understands', 0.4593532383441925),\n",
       " ('batch', 0.45883074402809143),\n",
       " ('latex', 0.4582090377807617),\n",
       " ('natural', 0.45747244358062744),\n",
       " ('reverse', 0.45726877450942993),\n",
       " ('pytorch', 0.45368126034736633)]"
      ]
     },
     "execution_count": 18,
     "metadata": {},
     "output_type": "execute_result"
    }
   ],
   "source": [
    "## Can get words that are similiar or dissimilar to specific word\n",
    "# +python, -error, top 20\n",
    "wv.most_similar(positive=['python'], \n",
    "                negative=['error'],topn=20)"
   ]
  },
  {
   "cell_type": "code",
   "execution_count": 19,
   "metadata": {
    "ExecuteTime": {
     "end_time": "2021-06-09T00:25:23.207978Z",
     "start_time": "2021-06-09T00:25:23.203623Z"
    }
   },
   "outputs": [
    {
     "data": {
      "text/plain": [
       "array([ 3.4341798e+00, -9.8775291e-01, -2.8198509e+00, -2.5584121e+00,\n",
       "       -3.0945547e+00,  2.6596627e+00,  4.3768163e+00, -6.1586358e-02,\n",
       "       -1.8878086e+00,  3.0963019e-01, -8.0211359e-01, -5.4550588e-01,\n",
       "        2.3722282e-01, -2.3261600e+00, -3.3337383e+00,  2.9063029e+00,\n",
       "        2.1429360e-03, -1.3055475e+00, -6.9852507e-01,  2.0069554e+00,\n",
       "        1.6037211e+00,  3.8031609e+00,  3.5431832e-01,  1.4333731e+00,\n",
       "        1.3701904e+00, -1.5157127e-01, -6.5813005e-02,  1.4762623e+00,\n",
       "        2.2678471e-01, -3.4516332e+00, -4.0371060e+00, -6.0789490e+00,\n",
       "        1.0483321e+00,  4.3370008e-02, -1.2748504e+00, -1.3772180e+00,\n",
       "       -2.8506017e+00,  1.9109141e+00, -3.6548340e-01, -3.6071653e+00,\n",
       "        1.0114254e+00,  1.0393372e+00, -4.0136700e+00,  2.7248411e+00,\n",
       "       -1.5030285e+00,  1.4800366e+00, -2.2158027e-01, -2.1555649e-01,\n",
       "       -3.1619453e-01,  1.7832522e+00], dtype=float32)"
      ]
     },
     "execution_count": 19,
     "metadata": {},
     "output_type": "execute_result"
    }
   ],
   "source": [
    "##  can also do math on vectors \n",
    "# creating \"frustrating error\" from frustrating and error\n",
    "frustrating_error = wv['frustrating'] + wv['error']\n",
    "frustrating_error"
   ]
  },
  {
   "cell_type": "code",
   "execution_count": 20,
   "metadata": {
    "ExecuteTime": {
     "end_time": "2021-06-09T00:25:23.565798Z",
     "start_time": "2021-06-09T00:25:23.560355Z"
    }
   },
   "outputs": [
    {
     "data": {
      "text/plain": [
       "[('error', 0.9854642748832703),\n",
       " ('warning', 0.7671231031417847),\n",
       " ('errors', 0.7594471573829651),\n",
       " ('exception', 0.7551248073577881),\n",
       " ('saying', 0.6696151494979858),\n",
       " ('message', 0.6618965864181519),\n",
       " ('compilation', 0.6488339304924011),\n",
       " ('unexpected', 0.6350641846656799),\n",
       " ('invalid', 0.623159646987915),\n",
       " ('syntaxerror', 0.6225751638412476)]"
      ]
     },
     "execution_count": 20,
     "metadata": {},
     "output_type": "execute_result"
    }
   ],
   "source": [
    "## Can also get most_similar to word vector\n",
    "# get the most simular words to our calculated frustrating_error\n",
    "\n",
    "wv.most_similar([frustrating_error])"
   ]
  },
  {
   "cell_type": "code",
   "execution_count": 21,
   "metadata": {
    "ExecuteTime": {
     "end_time": "2021-06-09T00:25:23.897577Z",
     "start_time": "2021-06-09T00:25:23.895765Z"
    }
   },
   "outputs": [],
   "source": [
    "# del w2v_model, df"
   ]
  },
  {
   "cell_type": "markdown",
   "metadata": {},
   "source": [
    "___"
   ]
  },
  {
   "cell_type": "markdown",
   "metadata": {},
   "source": [
    "## Using Embeddings in Classification"
   ]
  },
  {
   "cell_type": "markdown",
   "metadata": {},
   "source": [
    "### Embedding Layers\n",
    "You should make note of a couple caveats that come with using embedding layers in your neural network -- namely:\n",
    "\n",
    "* The embedding layer must always be the first layer of the network, meaning that it should immediately follow the `Input()` layer \n",
    "* All words in the text should be integer-encoded, with each unique word encoded as it's own unique integer  \n",
    "* The size of the embedding layer must always be greater than the total vocabulary size of the dataset! The first parameter denotes the vocabulary size, while the second denotes the size of the actual word vectors\n",
    "* The size of the sequences passed in as data must be set when creating the layer (all data will be converted to padded sequences of the same size during the preprocessing step) \n",
    "\n",
    "\n",
    "[Keras Documentation for Embedding Layers](https://keras.io/layers/embeddings/)."
   ]
  },
  {
   "cell_type": "markdown",
   "metadata": {},
   "source": [
    "# Sequence Models - Recurrent Neural Networks"
   ]
  },
  {
   "cell_type": "markdown",
   "metadata": {},
   "source": [
    "- One of the main disadvantages of machine learning NLP is that the models are assesing the presence or absence of words. \n",
    "- They are not analyzing the words in the context of the sentence."
   ]
  },
  {
   "cell_type": "markdown",
   "metadata": {},
   "source": [
    "<img src=\"https://raw.githubusercontent.com/jirvingphd/dsc-understanding-recurrent-neural-networks-online-ds-ft-100719/master/images/unrolled.gif\">"
   ]
  },
  {
   "cell_type": "markdown",
   "metadata": {},
   "source": [
    "<img src=\"https://raw.githubusercontent.com/jirvingphd/dsc-sequence-model-use-cases-online-ds-ft-100719/master/images/rnn.gif\">"
   ]
  },
  {
   "cell_type": "markdown",
   "metadata": {},
   "source": [
    "## LSTMs & GRUs"
   ]
  },
  {
   "cell_type": "markdown",
   "metadata": {},
   "source": [
    "- GRU (Gated Recurrent Units (GRUs)\n",
    "    - Reset Gate\n",
    "    - Update Gate\n",
    "    \n",
    "- LSTM (Long Short Term Memory Cells)\n",
    "   - Input Gate\n",
    "   - Forget Gate\n",
    "   - Output Gate"
   ]
  },
  {
   "cell_type": "markdown",
   "metadata": {},
   "source": [
    "<img src=\"https://raw.githubusercontent.com/jirvingphd/dsc-sequence-model-use-cases-online-ds-ft-100719/master/images/RNN-unrolled.png\">"
   ]
  },
  {
   "cell_type": "markdown",
   "metadata": {},
   "source": [
    "Each word will have a vector of contexts: the embeddings!"
   ]
  },
  {
   "cell_type": "markdown",
   "metadata": {},
   "source": [
    "# **Activity Part 2: Text Classification with Embeddings & Sequences**"
   ]
  },
  {
   "cell_type": "markdown",
   "metadata": {},
   "source": [
    "### Defining The Target"
   ]
  },
  {
   "cell_type": "code",
   "execution_count": 22,
   "metadata": {
    "ExecuteTime": {
     "end_time": "2021-06-09T00:25:27.227469Z",
     "start_time": "2021-06-09T00:25:27.219416Z"
    }
   },
   "outputs": [
    {
     "data": {
      "text/plain": [
       "LQ_CLOSE    15000\n",
       "LQ_EDIT     15000\n",
       "HQ          15000\n",
       "Name: Y, dtype: int64"
      ]
     },
     "execution_count": 22,
     "metadata": {},
     "output_type": "execute_result"
    }
   ],
   "source": [
    "## What is the distribution of classes in our target?\n",
    "df['Y'].value_counts()"
   ]
  },
  {
   "cell_type": "code",
   "execution_count": 23,
   "metadata": {
    "ExecuteTime": {
     "end_time": "2021-06-09T00:25:27.564141Z",
     "start_time": "2021-06-09T00:25:27.561660Z"
    }
   },
   "outputs": [],
   "source": [
    "## Remapping target\n",
    "target_map = {\"LQ_CLOSE\":0, \n",
    "              'LQ_EDIT': 1,\n",
    "              \"HQ\":2}"
   ]
  },
  {
   "cell_type": "code",
   "execution_count": 24,
   "metadata": {
    "ExecuteTime": {
     "end_time": "2021-06-09T00:25:27.793057Z",
     "start_time": "2021-06-09T00:25:27.769285Z"
    }
   },
   "outputs": [
    {
     "data": {
      "text/plain": [
       "2    15000\n",
       "1    15000\n",
       "0    15000\n",
       "Name: target, dtype: int64"
      ]
     },
     "execution_count": 24,
     "metadata": {},
     "output_type": "execute_result"
    }
   ],
   "source": [
    "## map targets\n",
    "df['target'] = df['Y'].replace(target_map)\n",
    "df['target'].value_counts()"
   ]
  },
  {
   "cell_type": "markdown",
   "metadata": {},
   "source": [
    "#### *About that multi-classification*...\n",
    "- After a couple hours or fighting to improve the metrics for the 3-class task, I decided to create a Hot-Dog/ Not-Hot-Dog classifier. \n",
    "\n",
    "<img src=\"images/hot_dog_not_hot_dog.png\" width=30%>"
   ]
  },
  {
   "cell_type": "code",
   "execution_count": 25,
   "metadata": {
    "ExecuteTime": {
     "end_time": "2021-06-09T00:25:28.174048Z",
     "start_time": "2021-06-09T00:25:28.152902Z"
    },
    "scrolled": true
   },
   "outputs": [
    {
     "data": {
      "text/plain": [
       "0    30000\n",
       "1    15000\n",
       "Name: target_binary, dtype: int64"
      ]
     },
     "execution_count": 25,
     "metadata": {},
     "output_type": "execute_result"
    }
   ],
   "source": [
    "## Making our hot-dog/not-dog target\n",
    "target_map_binary = {\"LQ_CLOSE\":0, \n",
    "                      'LQ_EDIT': 0,\n",
    "                      \"HQ\":1}\n",
    "df['target_binary'] = df['Y'].replace(target_map_binary)\n",
    "\n",
    "df['target_binary'].value_counts()"
   ]
  },
  {
   "cell_type": "code",
   "execution_count": 26,
   "metadata": {
    "ExecuteTime": {
     "end_time": "2021-06-09T00:25:28.456002Z",
     "start_time": "2021-06-09T00:25:28.452663Z"
    }
   },
   "outputs": [],
   "source": [
    "from tensorflow.keras import layers,optimizers,callbacks, models\n",
    "from tensorflow.keras.utils import to_categorical\n",
    "from tensorflow.keras.preprocessing import text,sequence\n",
    "\n",
    "# from keras.preprocessing import text,sequence\n",
    "from sklearn.model_selection import train_test_split\n",
    "from nltk import word_tokenize\n",
    "from gensim.utils import simple_preprocess\n",
    "from sklearn import metrics"
   ]
  },
  {
   "cell_type": "markdown",
   "metadata": {},
   "source": [
    "### Defining X,y + train test split"
   ]
  },
  {
   "cell_type": "code",
   "execution_count": 27,
   "metadata": {
    "ExecuteTime": {
     "end_time": "2021-06-09T00:25:29.434870Z",
     "start_time": "2021-06-09T00:25:29.429328Z"
    }
   },
   "outputs": [
    {
     "data": {
      "text/plain": [
       "array([[1., 0.],\n",
       "       [0., 1.],\n",
       "       [0., 1.],\n",
       "       ...,\n",
       "       [1., 0.],\n",
       "       [1., 0.],\n",
       "       [1., 0.]], dtype=float32)"
      ]
     },
     "execution_count": 27,
     "metadata": {},
     "output_type": "execute_result"
    }
   ],
   "source": [
    "## Make X and y_t\n",
    "X = df['cleaned-text'].copy()\n",
    "\n",
    "# y_t = to_categorical(df['target'])\n",
    "y_t = to_categorical(df['target_binary'])\n",
    "\n",
    "y_t"
   ]
  },
  {
   "cell_type": "code",
   "execution_count": 28,
   "metadata": {
    "ExecuteTime": {
     "end_time": "2021-06-09T00:25:29.666283Z",
     "start_time": "2021-06-09T00:25:29.650101Z"
    }
   },
   "outputs": [
    {
     "name": "stdout",
     "output_type": "stream",
     "text": [
      "(31500,) (13500, 2)\n"
     ]
    },
    {
     "data": {
      "text/plain": [
       "12250    [angular, get, activatedroute, url, want, to, ...\n",
       "27836    [how, do, put, condition, on, one, of, the, co...\n",
       "5393     [where, can, upload, json, file, and, get, jso...\n",
       "44722    [why, is, the, select, not, visible, entirely,...\n",
       "36573    [solve, equation, dependency, variables, by, t...\n",
       "                               ...                        \n",
       "15396    [how, to, convert, video, to, gif, image, with...\n",
       "43712    [portfolio, gallery, without, all, filter, cur...\n",
       "42048    [ssis, package, to, update, sql, table, have, ...\n",
       "33397    [python, none, object, could, you, please, exp...\n",
       "10147    [java, join, concept, see, my, code, in, with,...\n",
       "Name: cleaned-text, Length: 13500, dtype: object"
      ]
     },
     "execution_count": 28,
     "metadata": {},
     "output_type": "execute_result"
    }
   ],
   "source": [
    "X_train, X_test, y_train, y_test =train_test_split(X,y_t,test_size=0.3,\n",
    "                                                   random_state=123) \n",
    "print(X_train.shape,y_test.shape)\n",
    "X_test"
   ]
  },
  {
   "cell_type": "markdown",
   "metadata": {},
   "source": [
    "### Tokenizing with Keras"
   ]
  },
  {
   "cell_type": "code",
   "execution_count": 29,
   "metadata": {
    "ExecuteTime": {
     "end_time": "2021-06-09T00:25:32.320403Z",
     "start_time": "2021-06-09T00:25:30.556336Z"
    }
   },
   "outputs": [],
   "source": [
    "## Keras has its own Tokenizer\n",
    "tokenizer = text.Tokenizer(num_words=50000)\n",
    "tokenizer.fit_on_texts(X_train)"
   ]
  },
  {
   "cell_type": "code",
   "execution_count": 30,
   "metadata": {
    "ExecuteTime": {
     "end_time": "2021-06-09T00:25:32.347155Z",
     "start_time": "2021-06-09T00:25:32.322501Z"
    }
   },
   "outputs": [
    {
     "data": {
      "text/plain": [
       "{'the': 1,\n",
       " 'to': 2,\n",
       " 'in': 3,\n",
       " 'is': 4,\n",
       " 'and': 5,\n",
       " 'this': 6,\n",
       " 'of': 7,\n",
       " 'it': 8,\n",
       " 'for': 9,\n",
       " 'if': 10,\n",
       " 'that': 11,\n",
       " 'how': 12,\n",
       " 'my': 13,\n",
       " 'with': 14,\n",
       " 'have': 15,\n",
       " 'but': 16,\n",
       " 'not': 17,\n",
       " 'on': 18,\n",
       " 'can': 19,\n",
       " 'from': 20,\n",
       " 'string': 21,\n",
       " 'code': 22,\n",
       " 'as': 23,\n",
       " 'new': 24,\n",
       " 'int': 25,\n",
       " 'be': 26,\n",
       " 'error': 27,\n",
       " 'using': 28,\n",
       " 'android': 29,\n",
       " 'an': 30,\n",
       " 'at': 31,\n",
       " 'class': 32,\n",
       " 'am': 33,\n",
       " 'java': 34,\n",
       " 'get': 35,\n",
       " 'file': 36,\n",
       " 'data': 37,\n",
       " 'do': 38,\n",
       " 'when': 39,\n",
       " 'name': 40,\n",
       " 'or': 41,\n",
       " 'like': 42,\n",
       " 'what': 43,\n",
       " 'public': 44,\n",
       " 'want': 45,\n",
       " 'return': 46,\n",
       " 'com': 47,\n",
       " 'so': 48,\n",
       " 'function': 49,\n",
       " 'id': 50,\n",
       " 'value': 51,\n",
       " 'use': 52,\n",
       " 'app': 53,\n",
       " 'any': 54,\n",
       " 'there': 55,\n",
       " 'you': 56,\n",
       " 'are': 57,\n",
       " 'me': 58,\n",
       " 'text': 59,\n",
       " 'import': 60,\n",
       " 'which': 61,\n",
       " 'all': 62,\n",
       " 'here': 63,\n",
       " 'array': 64,\n",
       " 'out': 65,\n",
       " 'type': 66,\n",
       " 'list': 67,\n",
       " 'by': 68,\n",
       " 'void': 69,\n",
       " 'one': 70,\n",
       " 'help': 71,\n",
       " 'system': 72,\n",
       " 'would': 73,\n",
       " 'need': 74,\n",
       " 'user': 75,\n",
       " 'var': 76,\n",
       " 'some': 77,\n",
       " 'true': 78,\n",
       " 'print': 79,\n",
       " 'input': 80,\n",
       " 'null': 81,\n",
       " 'way': 82,\n",
       " 'will': 83,\n",
       " 'add': 84,\n",
       " 'python': 85,\n",
       " 'line': 86,\n",
       " 'trying': 87,\n",
       " 'test': 88,\n",
       " 'run': 89,\n",
       " 'then': 90,\n",
       " 'no': 91,\n",
       " 'number': 92,\n",
       " 'set': 93,\n",
       " 'else': 94,\n",
       " 'div': 95,\n",
       " 'example': 96,\n",
       " 'main': 97,\n",
       " 'know': 98,\n",
       " 'time': 99,\n",
       " 'view': 100,\n",
       " 'object': 101,\n",
       " 'php': 102,\n",
       " 'only': 103,\n",
       " 'create': 104,\n",
       " 'please': 105,\n",
       " 'does': 106,\n",
       " 'button': 107,\n",
       " 'should': 108,\n",
       " 'method': 109,\n",
       " 'where': 110,\n",
       " 'following': 111,\n",
       " 'image': 112,\n",
       " 'js': 113,\n",
       " 'into': 114,\n",
       " 'https': 115,\n",
       " 'org': 116,\n",
       " 'table': 117,\n",
       " 'why': 118,\n",
       " 'has': 119,\n",
       " 'html': 120,\n",
       " 'find': 121,\n",
       " 'http': 122,\n",
       " 'make': 123,\n",
       " 'work': 124,\n",
       " 'false': 125,\n",
       " 'just': 126,\n",
       " 'tried': 127,\n",
       " 'first': 128,\n",
       " 'same': 129,\n",
       " 'problem': 130,\n",
       " 'thanks': 131,\n",
       " 'result': 132,\n",
       " 'private': 133,\n",
       " 'output': 134,\n",
       " 'values': 135,\n",
       " 'json': 136,\n",
       " 'was': 137,\n",
       " 'date': 138,\n",
       " 'build': 139,\n",
       " 'server': 140,\n",
       " 'we': 141,\n",
       " 'project': 142,\n",
       " 'application': 143,\n",
       " 'two': 144,\n",
       " 'now': 145,\n",
       " 'while': 146,\n",
       " 'other': 147,\n",
       " 'don': 148,\n",
       " 'working': 149,\n",
       " 'console': 150,\n",
       " 'after': 151,\n",
       " 'self': 152,\n",
       " 've': 153,\n",
       " 'page': 154,\n",
       " 'each': 155,\n",
       " 'select': 156,\n",
       " 'form': 157,\n",
       " 'key': 158,\n",
       " 'log': 159,\n",
       " 'version': 160,\n",
       " 'react': 161,\n",
       " 'static': 162,\n",
       " 'also': 163,\n",
       " 'end': 164,\n",
       " 'include': 165,\n",
       " 'try': 166,\n",
       " 'api': 167,\n",
       " 'something': 168,\n",
       " 'index': 169,\n",
       " 'script': 170,\n",
       " 'url': 171,\n",
       " 'below': 172,\n",
       " 'row': 173,\n",
       " 'size': 174,\n",
       " 'case': 175,\n",
       " 'could': 176,\n",
       " 'users': 177,\n",
       " 'files': 178,\n",
       " 'database': 179,\n",
       " 'up': 180,\n",
       " 'program': 181,\n",
       " 'enter': 182,\n",
       " 'google': 183,\n",
       " 'getting': 184,\n",
       " 'found': 185,\n",
       " 'println': 186,\n",
       " 'item': 187,\n",
       " 'let': 188,\n",
       " 'show': 189,\n",
       " 'see': 190,\n",
       " 'change': 191,\n",
       " 'column': 192,\n",
       " 'td': 193,\n",
       " 'message': 194,\n",
       " 'write': 195,\n",
       " 'about': 196,\n",
       " 'question': 197,\n",
       " 'variable': 198,\n",
       " 'query': 199,\n",
       " 'your': 200,\n",
       " 'path': 201,\n",
       " 'call': 202,\n",
       " 'request': 203,\n",
       " 'right': 204,\n",
       " 'javascript': 205,\n",
       " 'angular': 206,\n",
       " 'read': 207,\n",
       " 'content': 208,\n",
       " 'const': 209,\n",
       " 'start': 210,\n",
       " 'component': 211,\n",
       " 'used': 212,\n",
       " 'node': 213,\n",
       " 'works': 214,\n",
       " 'more': 215,\n",
       " 'color': 216,\n",
       " 'char': 217,\n",
       " 'without': 218,\n",
       " 'them': 219,\n",
       " 'different': 220,\n",
       " 'command': 221,\n",
       " 'stack': 222,\n",
       " 'web': 223,\n",
       " 'another': 224,\n",
       " 'check': 225,\n",
       " 'std': 226,\n",
       " 'sql': 227,\n",
       " 'possible': 228,\n",
       " 'net': 229,\n",
       " 'override': 230,\n",
       " 'default': 231,\n",
       " 'px': 232,\n",
       " 'echo': 233,\n",
       " 'loop': 234,\n",
       " 'doesn': 235,\n",
       " 'however': 236,\n",
       " 'count': 237,\n",
       " 'password': 238,\n",
       " 'cout': 239,\n",
       " 'length': 240,\n",
       " 'double': 241,\n",
       " 'between': 242,\n",
       " 'cannot': 243,\n",
       " 'core': 244,\n",
       " 'email': 245,\n",
       " 'module': 246,\n",
       " 'these': 247,\n",
       " 'they': 248,\n",
       " 'title': 249,\n",
       " 'response': 250,\n",
       " 'click': 251,\n",
       " 'because': 252,\n",
       " 'css': 253,\n",
       " 'lib': 254,\n",
       " 'db': 255,\n",
       " 'open': 256,\n",
       " 'display': 257,\n",
       " 'model': 258,\n",
       " 'convert': 259,\n",
       " 'running': 260,\n",
       " 'go': 261,\n",
       " 'py': 262,\n",
       " 'access': 263,\n",
       " 'context': 264,\n",
       " 'its': 265,\n",
       " 'support': 266,\n",
       " 'wrong': 267,\n",
       " 'been': 268,\n",
       " 'anyone': 269,\n",
       " 'next': 270,\n",
       " 'simple': 271,\n",
       " 'map': 272,\n",
       " 'printf': 273,\n",
       " 'put': 274,\n",
       " 'update': 275,\n",
       " 'def': 276,\n",
       " 'link': 277,\n",
       " 'format': 278,\n",
       " 'able': 279,\n",
       " 'state': 280,\n",
       " 'library': 281,\n",
       " 'exception': 282,\n",
       " 'element': 283,\n",
       " 'option': 284,\n",
       " 'understand': 285,\n",
       " 'post': 286,\n",
       " 'width': 287,\n",
       " 'service': 288,\n",
       " 'png': 289,\n",
       " 'package': 290,\n",
       " 'src': 291,\n",
       " 'multiple': 292,\n",
       " 'integer': 293,\n",
       " 'inside': 294,\n",
       " 'studio': 295,\n",
       " 'client': 296,\n",
       " 'document': 297,\n",
       " 'docker': 298,\n",
       " 'install': 299,\n",
       " 'second': 300,\n",
       " 'issue': 301,\n",
       " 'than': 302,\n",
       " 'doing': 303,\n",
       " 'created': 304,\n",
       " 'even': 305,\n",
       " 'insert': 306,\n",
       " 'style': 307,\n",
       " 'order': 308,\n",
       " 'local': 309,\n",
       " 'str': 310,\n",
       " 'imgur': 311,\n",
       " 'numbers': 312,\n",
       " 'solution': 313,\n",
       " 'background': 314,\n",
       " 'info': 315,\n",
       " 'os': 316,\n",
       " 'very': 317,\n",
       " 'gradle': 318,\n",
       " 'source': 319,\n",
       " 'username': 320,\n",
       " 'windows': 321,\n",
       " 'before': 322,\n",
       " 'through': 323,\n",
       " 'label': 324,\n",
       " 'long': 325,\n",
       " 'still': 326,\n",
       " 'height': 327,\n",
       " 'every': 328,\n",
       " 'seems': 329,\n",
       " 'failed': 330,\n",
       " 'answer': 331,\n",
       " 'internal': 332,\n",
       " 'left': 333,\n",
       " 'intent': 334,\n",
       " 'remove': 335,\n",
       " 'thank': 336,\n",
       " 'position': 337,\n",
       " 'break': 338,\n",
       " 'body': 339,\n",
       " 'above': 340,\n",
       " 'both': 341,\n",
       " 'current': 342,\n",
       " 'final': 343,\n",
       " 'last': 344,\n",
       " 'search': 345,\n",
       " 'container': 346,\n",
       " 'home': 347,\n",
       " 'description': 348,\n",
       " 'login': 349,\n",
       " 'got': 350,\n",
       " 'random': 351,\n",
       " 'sure': 352,\n",
       " 'event': 353,\n",
       " 'txt': 354,\n",
       " 'native': 355,\n",
       " 'many': 356,\n",
       " 'root': 357,\n",
       " 'instead': 358,\n",
       " 'such': 359,\n",
       " 'word': 360,\n",
       " 'someone': 361,\n",
       " 'folder': 362,\n",
       " 'load': 363,\n",
       " 'already': 364,\n",
       " 'having': 365,\n",
       " 'store': 366,\n",
       " 'field': 367,\n",
       " 'fine': 368,\n",
       " 'config': 369,\n",
       " 'status': 370,\n",
       " 'spring': 371,\n",
       " 'pass': 372,\n",
       " 'correct': 373,\n",
       " 'advance': 374,\n",
       " 'sum': 375,\n",
       " 'hello': 376,\n",
       " 'foo': 377,\n",
       " 'location': 378,\n",
       " 'tostring': 379,\n",
       " 'float': 380,\n",
       " 'execute': 381,\n",
       " 'called': 382,\n",
       " 'mysql': 383,\n",
       " 'www': 384,\n",
       " 'site': 385,\n",
       " 'part': 386,\n",
       " 'task': 387,\n",
       " 'results': 388,\n",
       " 'activity': 389,\n",
       " 'errors': 390,\n",
       " 'num': 391,\n",
       " 'property': 392,\n",
       " 'directory': 393,\n",
       " 'given': 394,\n",
       " 'jquery': 395,\n",
       " 'compile': 396,\n",
       " 'lang': 397,\n",
       " 'args': 398,\n",
       " 'send': 399,\n",
       " 'delete': 400,\n",
       " 'xml': 401,\n",
       " 'rows': 402,\n",
       " 'must': 403,\n",
       " 'release': 404,\n",
       " 'website': 405,\n",
       " 'debug': 406,\n",
       " 'jar': 407,\n",
       " 'objects': 408,\n",
       " 'specific': 409,\n",
       " 'process': 410,\n",
       " 'based': 411,\n",
       " 'top': 412,\n",
       " 'items': 413,\n",
       " 'single': 414,\n",
       " 'action': 415,\n",
       " 'range': 416,\n",
       " 'returns': 417,\n",
       " 'layout': 418,\n",
       " 'statement': 419,\n",
       " 'template': 420,\n",
       " 'address': 421,\n",
       " 'close': 422,\n",
       " 'apache': 423,\n",
       " 'options': 424,\n",
       " 'findviewbyid': 425,\n",
       " 'etc': 426,\n",
       " 'information': 427,\n",
       " 'val': 428,\n",
       " 'connection': 429,\n",
       " 'none': 430,\n",
       " 'window': 431,\n",
       " 'contains': 432,\n",
       " 'endl': 433,\n",
       " 'idea': 434,\n",
       " 'group': 435,\n",
       " 'struct': 436,\n",
       " 'vector': 437,\n",
       " 'columns': 438,\n",
       " 'images': 439,\n",
       " 'header': 440,\n",
       " 'bundle': 441,\n",
       " 'looks': 442,\n",
       " 'err': 443,\n",
       " 'catch': 444,\n",
       " 'bar': 445,\n",
       " 'required': 446,\n",
       " 'parent': 447,\n",
       " 'elements': 448,\n",
       " 'really': 449,\n",
       " 'extends': 450,\n",
       " 'difference': 451,\n",
       " 'replace': 452,\n",
       " 'instance': 453,\n",
       " 'base': 454,\n",
       " 'ios': 455,\n",
       " 'child': 456,\n",
       " 'thread': 457,\n",
       " 'fix': 458,\n",
       " 'expected': 459,\n",
       " 'point': 460,\n",
       " 'best': 461,\n",
       " 'did': 462,\n",
       " 'springframework': 463,\n",
       " 'npm': 464,\n",
       " 'li': 465,\n",
       " 'git': 466,\n",
       " 'save': 467,\n",
       " 'functions': 468,\n",
       " 'creating': 469,\n",
       " 'done': 470,\n",
       " 'empty': 471,\n",
       " 'temp': 472,\n",
       " 'reference': 473,\n",
       " 'arraylist': 474,\n",
       " 'io': 475,\n",
       " 'total': 476,\n",
       " 'over': 477,\n",
       " 'variables': 478,\n",
       " 'super': 479,\n",
       " 'back': 480,\n",
       " 'packages': 481,\n",
       " 'widget': 482,\n",
       " 'custom': 483,\n",
       " 'syntax': 484,\n",
       " 'util': 485,\n",
       " 'textview': 486,\n",
       " 'since': 487,\n",
       " 'currently': 488,\n",
       " 'give': 489,\n",
       " 'br': 490,\n",
       " 'being': 491,\n",
       " 'col': 492,\n",
       " 'microsoft': 493,\n",
       " 'github': 494,\n",
       " 'arr': 495,\n",
       " 'looking': 496,\n",
       " 'well': 497,\n",
       " 'font': 498,\n",
       " 'much': 499,\n",
       " 'say': 500,\n",
       " 'append': 501,\n",
       " 'func': 502,\n",
       " 'export': 503,\n",
       " 'appreciated': 504,\n",
       " 'swift': 505,\n",
       " 'seem': 506,\n",
       " 'figure': 507,\n",
       " 'df': 508,\n",
       " 'match': 509,\n",
       " 'good': 510,\n",
       " 'missing': 511,\n",
       " 'boolean': 512,\n",
       " 'target': 513,\n",
       " 'take': 514,\n",
       " 'href': 515,\n",
       " 'ts': 516,\n",
       " 'always': 517,\n",
       " 'constructor': 518,\n",
       " 'max': 519,\n",
       " 'screen': 520,\n",
       " 'lines': 521,\n",
       " 'types': 522,\n",
       " 'connect': 523,\n",
       " 'res': 524,\n",
       " 'think': 525,\n",
       " 'again': 526,\n",
       " 'tag': 527,\n",
       " 'menu': 528,\n",
       " 'jpg': 529,\n",
       " 'visual': 530,\n",
       " 'require': 531,\n",
       " 'memory': 532,\n",
       " 'firebase': 533,\n",
       " 'split': 534,\n",
       " 'copy': 535,\n",
       " 'character': 536,\n",
       " 'plugin': 537,\n",
       " 'auto': 538,\n",
       " 'names': 539,\n",
       " 'localhost': 540,\n",
       " 'usr': 541,\n",
       " 'node_modules': 542,\n",
       " 'tr': 543,\n",
       " 'activitythread': 544,\n",
       " 'mean': 545,\n",
       " 'their': 546,\n",
       " 'most': 547,\n",
       " 'added': 548,\n",
       " 'define': 549,\n",
       " 'token': 550,\n",
       " 'configuration': 551,\n",
       " 'im': 552,\n",
       " 'solve': 553,\n",
       " 'within': 554,\n",
       " 'may': 555,\n",
       " 'warning': 556,\n",
       " 'ruby': 557,\n",
       " 'look': 558,\n",
       " 'browser': 559,\n",
       " 'sort': 560,\n",
       " 'parameter': 561,\n",
       " 'price': 562,\n",
       " 'filter': 563,\n",
       " 'push': 564,\n",
       " 'parse': 565,\n",
       " 'block': 566,\n",
       " 'defined': 567,\n",
       " 'join': 568,\n",
       " 'xcode': 569,\n",
       " 'webpack': 570,\n",
       " 'vs': 571,\n",
       " 'shows': 572,\n",
       " 'regex': 573,\n",
       " 'span': 574,\n",
       " 'product': 575,\n",
       " 'anything': 576,\n",
       " 'times': 577,\n",
       " 'nothing': 578,\n",
       " 'head': 579,\n",
       " 'scanner': 580,\n",
       " 'methods': 581,\n",
       " 'framework': 582,\n",
       " 'center': 583,\n",
       " 'csv': 584,\n",
       " 'installed': 585,\n",
       " 'via': 586,\n",
       " 'frame': 587,\n",
       " 'strings': 588,\n",
       " 'box': 589,\n",
       " 'parameters': 590,\n",
       " 'cell': 591,\n",
       " 'bin': 592,\n",
       " 'invalid': 593,\n",
       " 'tell': 594,\n",
       " 'thing': 595,\n",
       " 'keep': 596,\n",
       " 'those': 597,\n",
       " 'namespace': 598,\n",
       " 'everything': 599,\n",
       " 'device': 600,\n",
       " 'boot': 601,\n",
       " 'grid': 602,\n",
       " 're': 603,\n",
       " 'implementation': 604,\n",
       " 'lot': 605,\n",
       " 'control': 606,\n",
       " 'classes': 607,\n",
       " 'min': 608,\n",
       " 'far': 609,\n",
       " 'day': 610,\n",
       " 'words': 611,\n",
       " 'gives': 612,\n",
       " 'documentation': 613,\n",
       " 'better': 614,\n",
       " 'switch': 615,\n",
       " 'ok': 616,\n",
       " 'oncreate': 617,\n",
       " 'questions': 618,\n",
       " 'too': 619,\n",
       " 'tools': 620,\n",
       " 'exit': 621,\n",
       " 'year': 622,\n",
       " 'note': 623,\n",
       " 'filename': 624,\n",
       " 'obj': 625,\n",
       " 'bit': 626,\n",
       " 'services': 627,\n",
       " 'similar': 628,\n",
       " 'host': 629,\n",
       " 'protected': 630,\n",
       " 'made': 631,\n",
       " 'available': 632,\n",
       " 'implement': 633,\n",
       " 'controller': 634,\n",
       " 'chrome': 635,\n",
       " 'age': 636,\n",
       " 'sub': 637,\n",
       " 'down': 638,\n",
       " 'undefined': 639,\n",
       " 'math': 640,\n",
       " 'bool': 641,\n",
       " 'np': 642,\n",
       " 'reason': 643,\n",
       " 'interface': 644,\n",
       " 'going': 645,\n",
       " 'sample': 646,\n",
       " 'unable': 647,\n",
       " 'explain': 648,\n",
       " 'expression': 649,\n",
       " 'submit': 650,\n",
       " 'generate': 651,\n",
       " 'non': 652,\n",
       " 'onclick': 653,\n",
       " 'ui': 654,\n",
       " 'three': 655,\n",
       " 'our': 656,\n",
       " 'session': 657,\n",
       " 'level': 658,\n",
       " 'operator': 659,\n",
       " 'fields': 660,\n",
       " 'environment': 661,\n",
       " 'step': 662,\n",
       " 'properties': 663,\n",
       " 'once': 664,\n",
       " 'foreach': 665,\n",
       " 'resolve': 666,\n",
       " 'components': 667,\n",
       " 'game': 668,\n",
       " 'props': 669,\n",
       " 'adding': 670,\n",
       " 'linux': 671,\n",
       " 'bootstrap': 672,\n",
       " 'entry': 673,\n",
       " 'router': 674,\n",
       " 'setup': 675,\n",
       " 'making': 676,\n",
       " 'achieve': 677,\n",
       " 'dependencies': 678,\n",
       " 'dev': 679,\n",
       " 'changes': 680,\n",
       " 'fragment': 681,\n",
       " 'loader': 682,\n",
       " 'structure': 683,\n",
       " 'route': 684,\n",
       " 'security': 685,\n",
       " 'had': 686,\n",
       " 'th': 687,\n",
       " 'characters': 688,\n",
       " 'setting': 689,\n",
       " 'compiler': 690,\n",
       " 'language': 691,\n",
       " 'account': 692,\n",
       " 'valid': 693,\n",
       " 'either': 694,\n",
       " 'space': 695,\n",
       " 'yes': 696,\n",
       " 'alert': 697,\n",
       " 'arrays': 698,\n",
       " 'started': 699,\n",
       " 'datetime': 700,\n",
       " 'amount': 701,\n",
       " 'dataframe': 702,\n",
       " 'didn': 703,\n",
       " 'asp': 704,\n",
       " 'apply': 705,\n",
       " 'argument': 706,\n",
       " 'img': 707,\n",
       " 'invoke': 708,\n",
       " 'icon': 709,\n",
       " 'says': 710,\n",
       " 'uses': 711,\n",
       " 'success': 712,\n",
       " 'render': 713,\n",
       " 'pointer': 714,\n",
       " 'docs': 715,\n",
       " 'aws': 716,\n",
       " 'selected': 717,\n",
       " 'full': 718,\n",
       " 'side': 719,\n",
       " 'things': 720,\n",
       " 'developer': 721,\n",
       " 'handler': 722,\n",
       " 'actually': 723,\n",
       " 'tests': 724,\n",
       " 'month': 725,\n",
       " 'django': 726,\n",
       " 'phone': 727,\n",
       " 'typescript': 728,\n",
       " 'dictionary': 729,\n",
       " 'own': 730,\n",
       " 'global': 731,\n",
       " 'generated': 732,\n",
       " 'admin': 733,\n",
       " 'category': 734,\n",
       " 'details': 735,\n",
       " 'init': 736,\n",
       " 'isn': 737,\n",
       " 'excel': 738,\n",
       " 'around': 739,\n",
       " 'play': 740,\n",
       " 'beans': 741,\n",
       " 'async': 742,\n",
       " 'basic': 743,\n",
       " 'testing': 744,\n",
       " 'download': 745,\n",
       " 'student': 746,\n",
       " 'throws': 747,\n",
       " 'toast': 748,\n",
       " 'score': 749,\n",
       " 'exist': 750,\n",
       " 'red': 751,\n",
       " 'player': 752,\n",
       " 'cache': 753,\n",
       " 'fetch': 754,\n",
       " 'gets': 755,\n",
       " 'writeline': 756,\n",
       " 'abc': 757,\n",
       " 'varchar': 758,\n",
       " 'move': 759,\n",
       " 'port': 760,\n",
       " 'attribute': 761,\n",
       " 'pattern': 762,\n",
       " 'programming': 763,\n",
       " 'video': 764,\n",
       " 'counter': 765,\n",
       " 'person': 766,\n",
       " 'edittext': 767,\n",
       " 'few': 768,\n",
       " 'headers': 769,\n",
       " 'tab': 770,\n",
       " 'condition': 771,\n",
       " 'es': 772,\n",
       " 'sdk': 773,\n",
       " 'vue': 774,\n",
       " 'cmd': 775,\n",
       " 'writing': 776,\n",
       " 'clear': 777,\n",
       " 'takes': 778,\n",
       " 'allow': 779,\n",
       " 'gems': 780,\n",
       " 'learning': 781,\n",
       " 'correctly': 782,\n",
       " 'exists': 783,\n",
       " 'ms': 784,\n",
       " 'checked': 785,\n",
       " 'cin': 786,\n",
       " 'resource': 787,\n",
       " 'building': 788,\n",
       " 'showing': 789,\n",
       " 'tf': 790,\n",
       " 'bottom': 791,\n",
       " 'section': 792,\n",
       " 'auth': 793,\n",
       " 'common': 794,\n",
       " 'recyclerview': 795,\n",
       " 'handle': 796,\n",
       " 'written': 797,\n",
       " 'rest': 798,\n",
       " 'ajax': 799,\n",
       " 'len': 800,\n",
       " 'margin': 801,\n",
       " 'edit': 802,\n",
       " 'dont': 803,\n",
       " 'utf': 804,\n",
       " 'machine': 805,\n",
       " 'keys': 806,\n",
       " 'flutter': 807,\n",
       " 'network': 808,\n",
       " 'apps': 809,\n",
       " 'projects': 810,\n",
       " 'matrix': 811,\n",
       " 'getelementbyid': 812,\n",
       " 'until': 813,\n",
       " 'dependency': 814,\n",
       " 'ip': 815,\n",
       " 'wondering': 816,\n",
       " 'master': 817,\n",
       " 'nil': 818,\n",
       " 'settext': 819,\n",
       " 'off': 820,\n",
       " 'hi': 821,\n",
       " 'book': 822,\n",
       " 'contain': 823,\n",
       " 'mode': 824,\n",
       " 'env': 825,\n",
       " 'begin': 826,\n",
       " 'sizeof': 827,\n",
       " 'driver': 828,\n",
       " 'equals': 829,\n",
       " 'settings': 830,\n",
       " 'kotlin': 831,\n",
       " 'kind': 832,\n",
       " 'models': 833,\n",
       " 'white': 834,\n",
       " 'changed': 835,\n",
       " 'dp': 836,\n",
       " 'tables': 837,\n",
       " 'cli': 838,\n",
       " 'place': 839,\n",
       " 'textbox': 840,\n",
       " 'maybe': 841,\n",
       " 'small': 842,\n",
       " 'builder': 843,\n",
       " 'reading': 844,\n",
       " 'cursor': 845,\n",
       " 'sender': 846,\n",
       " 'execution': 847,\n",
       " 'stream': 848,\n",
       " 'border': 849,\n",
       " 'hash': 850,\n",
       " 'starting': 851,\n",
       " 'provide': 852,\n",
       " 'points': 853,\n",
       " 'mainactivity': 854,\n",
       " 'requests': 855,\n",
       " 'scope': 856,\n",
       " 'runtime': 857,\n",
       " 'previous': 858,\n",
       " 'rb': 859,\n",
       " 'stop': 860,\n",
       " 'cpp': 861,\n",
       " 'exactly': 862,\n",
       " 'padding': 863,\n",
       " 'automatically': 864,\n",
       " 'unknown': 865,\n",
       " 'active': 866,\n",
       " 'ideas': 867,\n",
       " 'certain': 868,\n",
       " 'approach': 869,\n",
       " 'us': 870,\n",
       " 'domain': 871,\n",
       " 'named': 872,\n",
       " 'conn': 873,\n",
       " 'spark': 874,\n",
       " 'de': 875,\n",
       " 'days': 876,\n",
       " 'mm': 877,\n",
       " 'na': 878,\n",
       " 'apple': 879,\n",
       " 'cloud': 880,\n",
       " 'might': 881,\n",
       " 'whole': 882,\n",
       " 'design': 883,\n",
       " 'factory': 884,\n",
       " 'btn': 885,\n",
       " 'properly': 886,\n",
       " 'drawable': 887,\n",
       " 'standard': 888,\n",
       " 'record': 889,\n",
       " 'seconds': 890,\n",
       " 'laravel': 891,\n",
       " 'per': 892,\n",
       " 'upload': 893,\n",
       " 'nested': 894,\n",
       " 'tensorflow': 895,\n",
       " 'under': 896,\n",
       " 'loading': 897,\n",
       " 'needs': 898,\n",
       " 'mobile': 899,\n",
       " 'primary': 900,\n",
       " 'means': 901,\n",
       " 'latest': 902,\n",
       " 'repository': 903,\n",
       " 'pip': 904,\n",
       " 'calculate': 905,\n",
       " 'symbol': 906,\n",
       " 'calling': 907,\n",
       " 'job': 908,\n",
       " 'scala': 909,\n",
       " 'byte': 910,\n",
       " 'extract': 911,\n",
       " 'though': 912,\n",
       " 'versions': 913,\n",
       " 'successfully': 914,\n",
       " 'gettext': 915,\n",
       " 'params': 916,\n",
       " 'feature': 917,\n",
       " 'pandas': 918,\n",
       " 'reflect': 919,\n",
       " 'stored': 920,\n",
       " 'desktop': 921,\n",
       " 'tree': 922,\n",
       " 'navigation': 923,\n",
       " 'con': 924,\n",
       " 'expect': 925,\n",
       " 'modules': 926,\n",
       " 'examples': 927,\n",
       " 'complete': 928,\n",
       " 'platform': 929,\n",
       " 'old': 930,\n",
       " 'were': 931,\n",
       " 'cant': 932,\n",
       " 'ex': 933,\n",
       " 'compare': 934,\n",
       " 'employee': 935,\n",
       " 'getstring': 936,\n",
       " 'listview': 937,\n",
       " 'world': 938,\n",
       " 'development': 939,\n",
       " 'letter': 940,\n",
       " 'choice': 941,\n",
       " 'ask': 942,\n",
       " 'people': 943,\n",
       " 'exe': 944,\n",
       " 'lambda': 945,\n",
       " 'extension': 946,\n",
       " 'elif': 947,\n",
       " 'card': 948,\n",
       " 'normal': 949,\n",
       " 'wanted': 950,\n",
       " 'dll': 951,\n",
       " 'member': 952,\n",
       " 'basically': 953,\n",
       " 'storage': 954,\n",
       " 'whether': 955,\n",
       " 'arguments': 956,\n",
       " 'simply': 957,\n",
       " 'loaded': 958,\n",
       " 'dynamic': 959,\n",
       " 'tasks': 960,\n",
       " 'zygoteinit': 961,\n",
       " 'ng': 962,\n",
       " 'equal': 963,\n",
       " 'maven': 964,\n",
       " 'updated': 965,\n",
       " 'unit': 966,\n",
       " 'dd': 967,\n",
       " 'layout_width': 968,\n",
       " 'thought': 969,\n",
       " 'md': 970,\n",
       " 'layout_height': 971,\n",
       " 'wrap_content': 972,\n",
       " 'fff': 973,\n",
       " 'runs': 974,\n",
       " 'mat': 975,\n",
       " 'children': 976,\n",
       " 'register': 977,\n",
       " 'resources': 978,\n",
       " 'follows': 979,\n",
       " 'changing': 980,\n",
       " 'pdf': 981,\n",
       " 'present': 982,\n",
       " 'hide': 983,\n",
       " 'tutorial': 984,\n",
       " 'several': 985,\n",
       " 'checkbox': 986,\n",
       " 'msg': 987,\n",
       " 'contact': 988,\n",
       " 'rails': 989,\n",
       " 'collection': 990,\n",
       " 'except': 991,\n",
       " 'never': 992,\n",
       " 'won': 993,\n",
       " 'assign': 994,\n",
       " 'yet': 995,\n",
       " 'param': 996,\n",
       " 'commit': 997,\n",
       " 'sheet': 998,\n",
       " 'junit': 999,\n",
       " 'virtual': 1000,\n",
       " ...}"
      ]
     },
     "execution_count": 30,
     "metadata": {},
     "output_type": "execute_result"
    }
   ],
   "source": [
    "## tokenizer has assigned integer lookup value for each word\n",
    "tokenizer.word_index"
   ]
  },
  {
   "cell_type": "code",
   "execution_count": 31,
   "metadata": {
    "ExecuteTime": {
     "end_time": "2021-06-09T00:25:32.373360Z",
     "start_time": "2021-06-09T00:25:32.349493Z"
    }
   },
   "outputs": [
    {
     "data": {
      "text/plain": [
       "{1: 'the',\n",
       " 2: 'to',\n",
       " 3: 'in',\n",
       " 4: 'is',\n",
       " 5: 'and',\n",
       " 6: 'this',\n",
       " 7: 'of',\n",
       " 8: 'it',\n",
       " 9: 'for',\n",
       " 10: 'if',\n",
       " 11: 'that',\n",
       " 12: 'how',\n",
       " 13: 'my',\n",
       " 14: 'with',\n",
       " 15: 'have',\n",
       " 16: 'but',\n",
       " 17: 'not',\n",
       " 18: 'on',\n",
       " 19: 'can',\n",
       " 20: 'from',\n",
       " 21: 'string',\n",
       " 22: 'code',\n",
       " 23: 'as',\n",
       " 24: 'new',\n",
       " 25: 'int',\n",
       " 26: 'be',\n",
       " 27: 'error',\n",
       " 28: 'using',\n",
       " 29: 'android',\n",
       " 30: 'an',\n",
       " 31: 'at',\n",
       " 32: 'class',\n",
       " 33: 'am',\n",
       " 34: 'java',\n",
       " 35: 'get',\n",
       " 36: 'file',\n",
       " 37: 'data',\n",
       " 38: 'do',\n",
       " 39: 'when',\n",
       " 40: 'name',\n",
       " 41: 'or',\n",
       " 42: 'like',\n",
       " 43: 'what',\n",
       " 44: 'public',\n",
       " 45: 'want',\n",
       " 46: 'return',\n",
       " 47: 'com',\n",
       " 48: 'so',\n",
       " 49: 'function',\n",
       " 50: 'id',\n",
       " 51: 'value',\n",
       " 52: 'use',\n",
       " 53: 'app',\n",
       " 54: 'any',\n",
       " 55: 'there',\n",
       " 56: 'you',\n",
       " 57: 'are',\n",
       " 58: 'me',\n",
       " 59: 'text',\n",
       " 60: 'import',\n",
       " 61: 'which',\n",
       " 62: 'all',\n",
       " 63: 'here',\n",
       " 64: 'array',\n",
       " 65: 'out',\n",
       " 66: 'type',\n",
       " 67: 'list',\n",
       " 68: 'by',\n",
       " 69: 'void',\n",
       " 70: 'one',\n",
       " 71: 'help',\n",
       " 72: 'system',\n",
       " 73: 'would',\n",
       " 74: 'need',\n",
       " 75: 'user',\n",
       " 76: 'var',\n",
       " 77: 'some',\n",
       " 78: 'true',\n",
       " 79: 'print',\n",
       " 80: 'input',\n",
       " 81: 'null',\n",
       " 82: 'way',\n",
       " 83: 'will',\n",
       " 84: 'add',\n",
       " 85: 'python',\n",
       " 86: 'line',\n",
       " 87: 'trying',\n",
       " 88: 'test',\n",
       " 89: 'run',\n",
       " 90: 'then',\n",
       " 91: 'no',\n",
       " 92: 'number',\n",
       " 93: 'set',\n",
       " 94: 'else',\n",
       " 95: 'div',\n",
       " 96: 'example',\n",
       " 97: 'main',\n",
       " 98: 'know',\n",
       " 99: 'time',\n",
       " 100: 'view',\n",
       " 101: 'object',\n",
       " 102: 'php',\n",
       " 103: 'only',\n",
       " 104: 'create',\n",
       " 105: 'please',\n",
       " 106: 'does',\n",
       " 107: 'button',\n",
       " 108: 'should',\n",
       " 109: 'method',\n",
       " 110: 'where',\n",
       " 111: 'following',\n",
       " 112: 'image',\n",
       " 113: 'js',\n",
       " 114: 'into',\n",
       " 115: 'https',\n",
       " 116: 'org',\n",
       " 117: 'table',\n",
       " 118: 'why',\n",
       " 119: 'has',\n",
       " 120: 'html',\n",
       " 121: 'find',\n",
       " 122: 'http',\n",
       " 123: 'make',\n",
       " 124: 'work',\n",
       " 125: 'false',\n",
       " 126: 'just',\n",
       " 127: 'tried',\n",
       " 128: 'first',\n",
       " 129: 'same',\n",
       " 130: 'problem',\n",
       " 131: 'thanks',\n",
       " 132: 'result',\n",
       " 133: 'private',\n",
       " 134: 'output',\n",
       " 135: 'values',\n",
       " 136: 'json',\n",
       " 137: 'was',\n",
       " 138: 'date',\n",
       " 139: 'build',\n",
       " 140: 'server',\n",
       " 141: 'we',\n",
       " 142: 'project',\n",
       " 143: 'application',\n",
       " 144: 'two',\n",
       " 145: 'now',\n",
       " 146: 'while',\n",
       " 147: 'other',\n",
       " 148: 'don',\n",
       " 149: 'working',\n",
       " 150: 'console',\n",
       " 151: 'after',\n",
       " 152: 'self',\n",
       " 153: 've',\n",
       " 154: 'page',\n",
       " 155: 'each',\n",
       " 156: 'select',\n",
       " 157: 'form',\n",
       " 158: 'key',\n",
       " 159: 'log',\n",
       " 160: 'version',\n",
       " 161: 'react',\n",
       " 162: 'static',\n",
       " 163: 'also',\n",
       " 164: 'end',\n",
       " 165: 'include',\n",
       " 166: 'try',\n",
       " 167: 'api',\n",
       " 168: 'something',\n",
       " 169: 'index',\n",
       " 170: 'script',\n",
       " 171: 'url',\n",
       " 172: 'below',\n",
       " 173: 'row',\n",
       " 174: 'size',\n",
       " 175: 'case',\n",
       " 176: 'could',\n",
       " 177: 'users',\n",
       " 178: 'files',\n",
       " 179: 'database',\n",
       " 180: 'up',\n",
       " 181: 'program',\n",
       " 182: 'enter',\n",
       " 183: 'google',\n",
       " 184: 'getting',\n",
       " 185: 'found',\n",
       " 186: 'println',\n",
       " 187: 'item',\n",
       " 188: 'let',\n",
       " 189: 'show',\n",
       " 190: 'see',\n",
       " 191: 'change',\n",
       " 192: 'column',\n",
       " 193: 'td',\n",
       " 194: 'message',\n",
       " 195: 'write',\n",
       " 196: 'about',\n",
       " 197: 'question',\n",
       " 198: 'variable',\n",
       " 199: 'query',\n",
       " 200: 'your',\n",
       " 201: 'path',\n",
       " 202: 'call',\n",
       " 203: 'request',\n",
       " 204: 'right',\n",
       " 205: 'javascript',\n",
       " 206: 'angular',\n",
       " 207: 'read',\n",
       " 208: 'content',\n",
       " 209: 'const',\n",
       " 210: 'start',\n",
       " 211: 'component',\n",
       " 212: 'used',\n",
       " 213: 'node',\n",
       " 214: 'works',\n",
       " 215: 'more',\n",
       " 216: 'color',\n",
       " 217: 'char',\n",
       " 218: 'without',\n",
       " 219: 'them',\n",
       " 220: 'different',\n",
       " 221: 'command',\n",
       " 222: 'stack',\n",
       " 223: 'web',\n",
       " 224: 'another',\n",
       " 225: 'check',\n",
       " 226: 'std',\n",
       " 227: 'sql',\n",
       " 228: 'possible',\n",
       " 229: 'net',\n",
       " 230: 'override',\n",
       " 231: 'default',\n",
       " 232: 'px',\n",
       " 233: 'echo',\n",
       " 234: 'loop',\n",
       " 235: 'doesn',\n",
       " 236: 'however',\n",
       " 237: 'count',\n",
       " 238: 'password',\n",
       " 239: 'cout',\n",
       " 240: 'length',\n",
       " 241: 'double',\n",
       " 242: 'between',\n",
       " 243: 'cannot',\n",
       " 244: 'core',\n",
       " 245: 'email',\n",
       " 246: 'module',\n",
       " 247: 'these',\n",
       " 248: 'they',\n",
       " 249: 'title',\n",
       " 250: 'response',\n",
       " 251: 'click',\n",
       " 252: 'because',\n",
       " 253: 'css',\n",
       " 254: 'lib',\n",
       " 255: 'db',\n",
       " 256: 'open',\n",
       " 257: 'display',\n",
       " 258: 'model',\n",
       " 259: 'convert',\n",
       " 260: 'running',\n",
       " 261: 'go',\n",
       " 262: 'py',\n",
       " 263: 'access',\n",
       " 264: 'context',\n",
       " 265: 'its',\n",
       " 266: 'support',\n",
       " 267: 'wrong',\n",
       " 268: 'been',\n",
       " 269: 'anyone',\n",
       " 270: 'next',\n",
       " 271: 'simple',\n",
       " 272: 'map',\n",
       " 273: 'printf',\n",
       " 274: 'put',\n",
       " 275: 'update',\n",
       " 276: 'def',\n",
       " 277: 'link',\n",
       " 278: 'format',\n",
       " 279: 'able',\n",
       " 280: 'state',\n",
       " 281: 'library',\n",
       " 282: 'exception',\n",
       " 283: 'element',\n",
       " 284: 'option',\n",
       " 285: 'understand',\n",
       " 286: 'post',\n",
       " 287: 'width',\n",
       " 288: 'service',\n",
       " 289: 'png',\n",
       " 290: 'package',\n",
       " 291: 'src',\n",
       " 292: 'multiple',\n",
       " 293: 'integer',\n",
       " 294: 'inside',\n",
       " 295: 'studio',\n",
       " 296: 'client',\n",
       " 297: 'document',\n",
       " 298: 'docker',\n",
       " 299: 'install',\n",
       " 300: 'second',\n",
       " 301: 'issue',\n",
       " 302: 'than',\n",
       " 303: 'doing',\n",
       " 304: 'created',\n",
       " 305: 'even',\n",
       " 306: 'insert',\n",
       " 307: 'style',\n",
       " 308: 'order',\n",
       " 309: 'local',\n",
       " 310: 'str',\n",
       " 311: 'imgur',\n",
       " 312: 'numbers',\n",
       " 313: 'solution',\n",
       " 314: 'background',\n",
       " 315: 'info',\n",
       " 316: 'os',\n",
       " 317: 'very',\n",
       " 318: 'gradle',\n",
       " 319: 'source',\n",
       " 320: 'username',\n",
       " 321: 'windows',\n",
       " 322: 'before',\n",
       " 323: 'through',\n",
       " 324: 'label',\n",
       " 325: 'long',\n",
       " 326: 'still',\n",
       " 327: 'height',\n",
       " 328: 'every',\n",
       " 329: 'seems',\n",
       " 330: 'failed',\n",
       " 331: 'answer',\n",
       " 332: 'internal',\n",
       " 333: 'left',\n",
       " 334: 'intent',\n",
       " 335: 'remove',\n",
       " 336: 'thank',\n",
       " 337: 'position',\n",
       " 338: 'break',\n",
       " 339: 'body',\n",
       " 340: 'above',\n",
       " 341: 'both',\n",
       " 342: 'current',\n",
       " 343: 'final',\n",
       " 344: 'last',\n",
       " 345: 'search',\n",
       " 346: 'container',\n",
       " 347: 'home',\n",
       " 348: 'description',\n",
       " 349: 'login',\n",
       " 350: 'got',\n",
       " 351: 'random',\n",
       " 352: 'sure',\n",
       " 353: 'event',\n",
       " 354: 'txt',\n",
       " 355: 'native',\n",
       " 356: 'many',\n",
       " 357: 'root',\n",
       " 358: 'instead',\n",
       " 359: 'such',\n",
       " 360: 'word',\n",
       " 361: 'someone',\n",
       " 362: 'folder',\n",
       " 363: 'load',\n",
       " 364: 'already',\n",
       " 365: 'having',\n",
       " 366: 'store',\n",
       " 367: 'field',\n",
       " 368: 'fine',\n",
       " 369: 'config',\n",
       " 370: 'status',\n",
       " 371: 'spring',\n",
       " 372: 'pass',\n",
       " 373: 'correct',\n",
       " 374: 'advance',\n",
       " 375: 'sum',\n",
       " 376: 'hello',\n",
       " 377: 'foo',\n",
       " 378: 'location',\n",
       " 379: 'tostring',\n",
       " 380: 'float',\n",
       " 381: 'execute',\n",
       " 382: 'called',\n",
       " 383: 'mysql',\n",
       " 384: 'www',\n",
       " 385: 'site',\n",
       " 386: 'part',\n",
       " 387: 'task',\n",
       " 388: 'results',\n",
       " 389: 'activity',\n",
       " 390: 'errors',\n",
       " 391: 'num',\n",
       " 392: 'property',\n",
       " 393: 'directory',\n",
       " 394: 'given',\n",
       " 395: 'jquery',\n",
       " 396: 'compile',\n",
       " 397: 'lang',\n",
       " 398: 'args',\n",
       " 399: 'send',\n",
       " 400: 'delete',\n",
       " 401: 'xml',\n",
       " 402: 'rows',\n",
       " 403: 'must',\n",
       " 404: 'release',\n",
       " 405: 'website',\n",
       " 406: 'debug',\n",
       " 407: 'jar',\n",
       " 408: 'objects',\n",
       " 409: 'specific',\n",
       " 410: 'process',\n",
       " 411: 'based',\n",
       " 412: 'top',\n",
       " 413: 'items',\n",
       " 414: 'single',\n",
       " 415: 'action',\n",
       " 416: 'range',\n",
       " 417: 'returns',\n",
       " 418: 'layout',\n",
       " 419: 'statement',\n",
       " 420: 'template',\n",
       " 421: 'address',\n",
       " 422: 'close',\n",
       " 423: 'apache',\n",
       " 424: 'options',\n",
       " 425: 'findviewbyid',\n",
       " 426: 'etc',\n",
       " 427: 'information',\n",
       " 428: 'val',\n",
       " 429: 'connection',\n",
       " 430: 'none',\n",
       " 431: 'window',\n",
       " 432: 'contains',\n",
       " 433: 'endl',\n",
       " 434: 'idea',\n",
       " 435: 'group',\n",
       " 436: 'struct',\n",
       " 437: 'vector',\n",
       " 438: 'columns',\n",
       " 439: 'images',\n",
       " 440: 'header',\n",
       " 441: 'bundle',\n",
       " 442: 'looks',\n",
       " 443: 'err',\n",
       " 444: 'catch',\n",
       " 445: 'bar',\n",
       " 446: 'required',\n",
       " 447: 'parent',\n",
       " 448: 'elements',\n",
       " 449: 'really',\n",
       " 450: 'extends',\n",
       " 451: 'difference',\n",
       " 452: 'replace',\n",
       " 453: 'instance',\n",
       " 454: 'base',\n",
       " 455: 'ios',\n",
       " 456: 'child',\n",
       " 457: 'thread',\n",
       " 458: 'fix',\n",
       " 459: 'expected',\n",
       " 460: 'point',\n",
       " 461: 'best',\n",
       " 462: 'did',\n",
       " 463: 'springframework',\n",
       " 464: 'npm',\n",
       " 465: 'li',\n",
       " 466: 'git',\n",
       " 467: 'save',\n",
       " 468: 'functions',\n",
       " 469: 'creating',\n",
       " 470: 'done',\n",
       " 471: 'empty',\n",
       " 472: 'temp',\n",
       " 473: 'reference',\n",
       " 474: 'arraylist',\n",
       " 475: 'io',\n",
       " 476: 'total',\n",
       " 477: 'over',\n",
       " 478: 'variables',\n",
       " 479: 'super',\n",
       " 480: 'back',\n",
       " 481: 'packages',\n",
       " 482: 'widget',\n",
       " 483: 'custom',\n",
       " 484: 'syntax',\n",
       " 485: 'util',\n",
       " 486: 'textview',\n",
       " 487: 'since',\n",
       " 488: 'currently',\n",
       " 489: 'give',\n",
       " 490: 'br',\n",
       " 491: 'being',\n",
       " 492: 'col',\n",
       " 493: 'microsoft',\n",
       " 494: 'github',\n",
       " 495: 'arr',\n",
       " 496: 'looking',\n",
       " 497: 'well',\n",
       " 498: 'font',\n",
       " 499: 'much',\n",
       " 500: 'say',\n",
       " 501: 'append',\n",
       " 502: 'func',\n",
       " 503: 'export',\n",
       " 504: 'appreciated',\n",
       " 505: 'swift',\n",
       " 506: 'seem',\n",
       " 507: 'figure',\n",
       " 508: 'df',\n",
       " 509: 'match',\n",
       " 510: 'good',\n",
       " 511: 'missing',\n",
       " 512: 'boolean',\n",
       " 513: 'target',\n",
       " 514: 'take',\n",
       " 515: 'href',\n",
       " 516: 'ts',\n",
       " 517: 'always',\n",
       " 518: 'constructor',\n",
       " 519: 'max',\n",
       " 520: 'screen',\n",
       " 521: 'lines',\n",
       " 522: 'types',\n",
       " 523: 'connect',\n",
       " 524: 'res',\n",
       " 525: 'think',\n",
       " 526: 'again',\n",
       " 527: 'tag',\n",
       " 528: 'menu',\n",
       " 529: 'jpg',\n",
       " 530: 'visual',\n",
       " 531: 'require',\n",
       " 532: 'memory',\n",
       " 533: 'firebase',\n",
       " 534: 'split',\n",
       " 535: 'copy',\n",
       " 536: 'character',\n",
       " 537: 'plugin',\n",
       " 538: 'auto',\n",
       " 539: 'names',\n",
       " 540: 'localhost',\n",
       " 541: 'usr',\n",
       " 542: 'node_modules',\n",
       " 543: 'tr',\n",
       " 544: 'activitythread',\n",
       " 545: 'mean',\n",
       " 546: 'their',\n",
       " 547: 'most',\n",
       " 548: 'added',\n",
       " 549: 'define',\n",
       " 550: 'token',\n",
       " 551: 'configuration',\n",
       " 552: 'im',\n",
       " 553: 'solve',\n",
       " 554: 'within',\n",
       " 555: 'may',\n",
       " 556: 'warning',\n",
       " 557: 'ruby',\n",
       " 558: 'look',\n",
       " 559: 'browser',\n",
       " 560: 'sort',\n",
       " 561: 'parameter',\n",
       " 562: 'price',\n",
       " 563: 'filter',\n",
       " 564: 'push',\n",
       " 565: 'parse',\n",
       " 566: 'block',\n",
       " 567: 'defined',\n",
       " 568: 'join',\n",
       " 569: 'xcode',\n",
       " 570: 'webpack',\n",
       " 571: 'vs',\n",
       " 572: 'shows',\n",
       " 573: 'regex',\n",
       " 574: 'span',\n",
       " 575: 'product',\n",
       " 576: 'anything',\n",
       " 577: 'times',\n",
       " 578: 'nothing',\n",
       " 579: 'head',\n",
       " 580: 'scanner',\n",
       " 581: 'methods',\n",
       " 582: 'framework',\n",
       " 583: 'center',\n",
       " 584: 'csv',\n",
       " 585: 'installed',\n",
       " 586: 'via',\n",
       " 587: 'frame',\n",
       " 588: 'strings',\n",
       " 589: 'box',\n",
       " 590: 'parameters',\n",
       " 591: 'cell',\n",
       " 592: 'bin',\n",
       " 593: 'invalid',\n",
       " 594: 'tell',\n",
       " 595: 'thing',\n",
       " 596: 'keep',\n",
       " 597: 'those',\n",
       " 598: 'namespace',\n",
       " 599: 'everything',\n",
       " 600: 'device',\n",
       " 601: 'boot',\n",
       " 602: 'grid',\n",
       " 603: 're',\n",
       " 604: 'implementation',\n",
       " 605: 'lot',\n",
       " 606: 'control',\n",
       " 607: 'classes',\n",
       " 608: 'min',\n",
       " 609: 'far',\n",
       " 610: 'day',\n",
       " 611: 'words',\n",
       " 612: 'gives',\n",
       " 613: 'documentation',\n",
       " 614: 'better',\n",
       " 615: 'switch',\n",
       " 616: 'ok',\n",
       " 617: 'oncreate',\n",
       " 618: 'questions',\n",
       " 619: 'too',\n",
       " 620: 'tools',\n",
       " 621: 'exit',\n",
       " 622: 'year',\n",
       " 623: 'note',\n",
       " 624: 'filename',\n",
       " 625: 'obj',\n",
       " 626: 'bit',\n",
       " 627: 'services',\n",
       " 628: 'similar',\n",
       " 629: 'host',\n",
       " 630: 'protected',\n",
       " 631: 'made',\n",
       " 632: 'available',\n",
       " 633: 'implement',\n",
       " 634: 'controller',\n",
       " 635: 'chrome',\n",
       " 636: 'age',\n",
       " 637: 'sub',\n",
       " 638: 'down',\n",
       " 639: 'undefined',\n",
       " 640: 'math',\n",
       " 641: 'bool',\n",
       " 642: 'np',\n",
       " 643: 'reason',\n",
       " 644: 'interface',\n",
       " 645: 'going',\n",
       " 646: 'sample',\n",
       " 647: 'unable',\n",
       " 648: 'explain',\n",
       " 649: 'expression',\n",
       " 650: 'submit',\n",
       " 651: 'generate',\n",
       " 652: 'non',\n",
       " 653: 'onclick',\n",
       " 654: 'ui',\n",
       " 655: 'three',\n",
       " 656: 'our',\n",
       " 657: 'session',\n",
       " 658: 'level',\n",
       " 659: 'operator',\n",
       " 660: 'fields',\n",
       " 661: 'environment',\n",
       " 662: 'step',\n",
       " 663: 'properties',\n",
       " 664: 'once',\n",
       " 665: 'foreach',\n",
       " 666: 'resolve',\n",
       " 667: 'components',\n",
       " 668: 'game',\n",
       " 669: 'props',\n",
       " 670: 'adding',\n",
       " 671: 'linux',\n",
       " 672: 'bootstrap',\n",
       " 673: 'entry',\n",
       " 674: 'router',\n",
       " 675: 'setup',\n",
       " 676: 'making',\n",
       " 677: 'achieve',\n",
       " 678: 'dependencies',\n",
       " 679: 'dev',\n",
       " 680: 'changes',\n",
       " 681: 'fragment',\n",
       " 682: 'loader',\n",
       " 683: 'structure',\n",
       " 684: 'route',\n",
       " 685: 'security',\n",
       " 686: 'had',\n",
       " 687: 'th',\n",
       " 688: 'characters',\n",
       " 689: 'setting',\n",
       " 690: 'compiler',\n",
       " 691: 'language',\n",
       " 692: 'account',\n",
       " 693: 'valid',\n",
       " 694: 'either',\n",
       " 695: 'space',\n",
       " 696: 'yes',\n",
       " 697: 'alert',\n",
       " 698: 'arrays',\n",
       " 699: 'started',\n",
       " 700: 'datetime',\n",
       " 701: 'amount',\n",
       " 702: 'dataframe',\n",
       " 703: 'didn',\n",
       " 704: 'asp',\n",
       " 705: 'apply',\n",
       " 706: 'argument',\n",
       " 707: 'img',\n",
       " 708: 'invoke',\n",
       " 709: 'icon',\n",
       " 710: 'says',\n",
       " 711: 'uses',\n",
       " 712: 'success',\n",
       " 713: 'render',\n",
       " 714: 'pointer',\n",
       " 715: 'docs',\n",
       " 716: 'aws',\n",
       " 717: 'selected',\n",
       " 718: 'full',\n",
       " 719: 'side',\n",
       " 720: 'things',\n",
       " 721: 'developer',\n",
       " 722: 'handler',\n",
       " 723: 'actually',\n",
       " 724: 'tests',\n",
       " 725: 'month',\n",
       " 726: 'django',\n",
       " 727: 'phone',\n",
       " 728: 'typescript',\n",
       " 729: 'dictionary',\n",
       " 730: 'own',\n",
       " 731: 'global',\n",
       " 732: 'generated',\n",
       " 733: 'admin',\n",
       " 734: 'category',\n",
       " 735: 'details',\n",
       " 736: 'init',\n",
       " 737: 'isn',\n",
       " 738: 'excel',\n",
       " 739: 'around',\n",
       " 740: 'play',\n",
       " 741: 'beans',\n",
       " 742: 'async',\n",
       " 743: 'basic',\n",
       " 744: 'testing',\n",
       " 745: 'download',\n",
       " 746: 'student',\n",
       " 747: 'throws',\n",
       " 748: 'toast',\n",
       " 749: 'score',\n",
       " 750: 'exist',\n",
       " 751: 'red',\n",
       " 752: 'player',\n",
       " 753: 'cache',\n",
       " 754: 'fetch',\n",
       " 755: 'gets',\n",
       " 756: 'writeline',\n",
       " 757: 'abc',\n",
       " 758: 'varchar',\n",
       " 759: 'move',\n",
       " 760: 'port',\n",
       " 761: 'attribute',\n",
       " 762: 'pattern',\n",
       " 763: 'programming',\n",
       " 764: 'video',\n",
       " 765: 'counter',\n",
       " 766: 'person',\n",
       " 767: 'edittext',\n",
       " 768: 'few',\n",
       " 769: 'headers',\n",
       " 770: 'tab',\n",
       " 771: 'condition',\n",
       " 772: 'es',\n",
       " 773: 'sdk',\n",
       " 774: 'vue',\n",
       " 775: 'cmd',\n",
       " 776: 'writing',\n",
       " 777: 'clear',\n",
       " 778: 'takes',\n",
       " 779: 'allow',\n",
       " 780: 'gems',\n",
       " 781: 'learning',\n",
       " 782: 'correctly',\n",
       " 783: 'exists',\n",
       " 784: 'ms',\n",
       " 785: 'checked',\n",
       " 786: 'cin',\n",
       " 787: 'resource',\n",
       " 788: 'building',\n",
       " 789: 'showing',\n",
       " 790: 'tf',\n",
       " 791: 'bottom',\n",
       " 792: 'section',\n",
       " 793: 'auth',\n",
       " 794: 'common',\n",
       " 795: 'recyclerview',\n",
       " 796: 'handle',\n",
       " 797: 'written',\n",
       " 798: 'rest',\n",
       " 799: 'ajax',\n",
       " 800: 'len',\n",
       " 801: 'margin',\n",
       " 802: 'edit',\n",
       " 803: 'dont',\n",
       " 804: 'utf',\n",
       " 805: 'machine',\n",
       " 806: 'keys',\n",
       " 807: 'flutter',\n",
       " 808: 'network',\n",
       " 809: 'apps',\n",
       " 810: 'projects',\n",
       " 811: 'matrix',\n",
       " 812: 'getelementbyid',\n",
       " 813: 'until',\n",
       " 814: 'dependency',\n",
       " 815: 'ip',\n",
       " 816: 'wondering',\n",
       " 817: 'master',\n",
       " 818: 'nil',\n",
       " 819: 'settext',\n",
       " 820: 'off',\n",
       " 821: 'hi',\n",
       " 822: 'book',\n",
       " 823: 'contain',\n",
       " 824: 'mode',\n",
       " 825: 'env',\n",
       " 826: 'begin',\n",
       " 827: 'sizeof',\n",
       " 828: 'driver',\n",
       " 829: 'equals',\n",
       " 830: 'settings',\n",
       " 831: 'kotlin',\n",
       " 832: 'kind',\n",
       " 833: 'models',\n",
       " 834: 'white',\n",
       " 835: 'changed',\n",
       " 836: 'dp',\n",
       " 837: 'tables',\n",
       " 838: 'cli',\n",
       " 839: 'place',\n",
       " 840: 'textbox',\n",
       " 841: 'maybe',\n",
       " 842: 'small',\n",
       " 843: 'builder',\n",
       " 844: 'reading',\n",
       " 845: 'cursor',\n",
       " 846: 'sender',\n",
       " 847: 'execution',\n",
       " 848: 'stream',\n",
       " 849: 'border',\n",
       " 850: 'hash',\n",
       " 851: 'starting',\n",
       " 852: 'provide',\n",
       " 853: 'points',\n",
       " 854: 'mainactivity',\n",
       " 855: 'requests',\n",
       " 856: 'scope',\n",
       " 857: 'runtime',\n",
       " 858: 'previous',\n",
       " 859: 'rb',\n",
       " 860: 'stop',\n",
       " 861: 'cpp',\n",
       " 862: 'exactly',\n",
       " 863: 'padding',\n",
       " 864: 'automatically',\n",
       " 865: 'unknown',\n",
       " 866: 'active',\n",
       " 867: 'ideas',\n",
       " 868: 'certain',\n",
       " 869: 'approach',\n",
       " 870: 'us',\n",
       " 871: 'domain',\n",
       " 872: 'named',\n",
       " 873: 'conn',\n",
       " 874: 'spark',\n",
       " 875: 'de',\n",
       " 876: 'days',\n",
       " 877: 'mm',\n",
       " 878: 'na',\n",
       " 879: 'apple',\n",
       " 880: 'cloud',\n",
       " 881: 'might',\n",
       " 882: 'whole',\n",
       " 883: 'design',\n",
       " 884: 'factory',\n",
       " 885: 'btn',\n",
       " 886: 'properly',\n",
       " 887: 'drawable',\n",
       " 888: 'standard',\n",
       " 889: 'record',\n",
       " 890: 'seconds',\n",
       " 891: 'laravel',\n",
       " 892: 'per',\n",
       " 893: 'upload',\n",
       " 894: 'nested',\n",
       " 895: 'tensorflow',\n",
       " 896: 'under',\n",
       " 897: 'loading',\n",
       " 898: 'needs',\n",
       " 899: 'mobile',\n",
       " 900: 'primary',\n",
       " 901: 'means',\n",
       " 902: 'latest',\n",
       " 903: 'repository',\n",
       " 904: 'pip',\n",
       " 905: 'calculate',\n",
       " 906: 'symbol',\n",
       " 907: 'calling',\n",
       " 908: 'job',\n",
       " 909: 'scala',\n",
       " 910: 'byte',\n",
       " 911: 'extract',\n",
       " 912: 'though',\n",
       " 913: 'versions',\n",
       " 914: 'successfully',\n",
       " 915: 'gettext',\n",
       " 916: 'params',\n",
       " 917: 'feature',\n",
       " 918: 'pandas',\n",
       " 919: 'reflect',\n",
       " 920: 'stored',\n",
       " 921: 'desktop',\n",
       " 922: 'tree',\n",
       " 923: 'navigation',\n",
       " 924: 'con',\n",
       " 925: 'expect',\n",
       " 926: 'modules',\n",
       " 927: 'examples',\n",
       " 928: 'complete',\n",
       " 929: 'platform',\n",
       " 930: 'old',\n",
       " 931: 'were',\n",
       " 932: 'cant',\n",
       " 933: 'ex',\n",
       " 934: 'compare',\n",
       " 935: 'employee',\n",
       " 936: 'getstring',\n",
       " 937: 'listview',\n",
       " 938: 'world',\n",
       " 939: 'development',\n",
       " 940: 'letter',\n",
       " 941: 'choice',\n",
       " 942: 'ask',\n",
       " 943: 'people',\n",
       " 944: 'exe',\n",
       " 945: 'lambda',\n",
       " 946: 'extension',\n",
       " 947: 'elif',\n",
       " 948: 'card',\n",
       " 949: 'normal',\n",
       " 950: 'wanted',\n",
       " 951: 'dll',\n",
       " 952: 'member',\n",
       " 953: 'basically',\n",
       " 954: 'storage',\n",
       " 955: 'whether',\n",
       " 956: 'arguments',\n",
       " 957: 'simply',\n",
       " 958: 'loaded',\n",
       " 959: 'dynamic',\n",
       " 960: 'tasks',\n",
       " 961: 'zygoteinit',\n",
       " 962: 'ng',\n",
       " 963: 'equal',\n",
       " 964: 'maven',\n",
       " 965: 'updated',\n",
       " 966: 'unit',\n",
       " 967: 'dd',\n",
       " 968: 'layout_width',\n",
       " 969: 'thought',\n",
       " 970: 'md',\n",
       " 971: 'layout_height',\n",
       " 972: 'wrap_content',\n",
       " 973: 'fff',\n",
       " 974: 'runs',\n",
       " 975: 'mat',\n",
       " 976: 'children',\n",
       " 977: 'register',\n",
       " 978: 'resources',\n",
       " 979: 'follows',\n",
       " 980: 'changing',\n",
       " 981: 'pdf',\n",
       " 982: 'present',\n",
       " 983: 'hide',\n",
       " 984: 'tutorial',\n",
       " 985: 'several',\n",
       " 986: 'checkbox',\n",
       " 987: 'msg',\n",
       " 988: 'contact',\n",
       " 989: 'rails',\n",
       " 990: 'collection',\n",
       " 991: 'except',\n",
       " 992: 'never',\n",
       " 993: 'won',\n",
       " 994: 'assign',\n",
       " 995: 'yet',\n",
       " 996: 'param',\n",
       " 997: 'commit',\n",
       " 998: 'sheet',\n",
       " 999: 'junit',\n",
       " 1000: 'virtual',\n",
       " ...}"
      ]
     },
     "execution_count": 31,
     "metadata": {},
     "output_type": "execute_result"
    }
   ],
   "source": [
    "# lookup the words using their integer\n",
    "tokenizer.index_word"
   ]
  },
  {
   "cell_type": "code",
   "execution_count": 32,
   "metadata": {
    "ExecuteTime": {
     "end_time": "2021-06-09T00:25:34.109266Z",
     "start_time": "2021-06-09T00:25:32.375779Z"
    }
   },
   "outputs": [
    {
     "name": "stdout",
     "output_type": "stream",
     "text": [
      "[33, 365, 1172, 184, 6, 234, 2, 124, 19, 269, 71, 58, 19, 269, 285, 118, 6, 2368, 1311, 10, 4481, 4104, 276, 234, 79, 105, 182, 200, 40, 5056, 80, 79, 376, 5056, 79, 73, 56, 2380, 2116, 10, 1, 4, 256, 41, 1767, 39514, 80, 10, 39514, 234]\n"
     ]
    }
   ],
   "source": [
    "## Use tokenizer to convert texts to sequences\n",
    "X_train_seq = tokenizer.texts_to_sequences(X_train)\n",
    "X_test_seq = tokenizer.texts_to_sequences(X_test)\n",
    "\n",
    "## whatn does 1 sequence look like?\n",
    "print(X_train_seq[0])"
   ]
  },
  {
   "cell_type": "code",
   "execution_count": 33,
   "metadata": {
    "ExecuteTime": {
     "end_time": "2021-06-09T00:25:34.113690Z",
     "start_time": "2021-06-09T00:25:34.111145Z"
    }
   },
   "outputs": [
    {
     "name": "stdout",
     "output_type": "stream",
     "text": [
      "am having trouble getting this loop to work can anyone help me can anyone understand why this wont reset if answered incorrectly def loop print please enter your name myname input print hello myname print would you kindly confirm if the is open or closed hacthstatus input if hacthstatus loop\n"
     ]
    }
   ],
   "source": [
    "## can lookup the words via the tokenizer's index_word \n",
    "print(' '.join([tokenizer.index_word[w] for w in X_train_seq[0]]))"
   ]
  },
  {
   "cell_type": "code",
   "execution_count": 34,
   "metadata": {
    "ExecuteTime": {
     "end_time": "2021-06-09T00:25:34.120350Z",
     "start_time": "2021-06-09T00:25:34.115627Z"
    }
   },
   "outputs": [
    {
     "data": {
      "text/plain": [
       "[40, 68, 39, 53, 56]"
      ]
     },
     "execution_count": 34,
     "metadata": {},
     "output_type": "execute_result"
    }
   ],
   "source": [
    "## We need to get all sequences as same length\n",
    "# what is the len of each sequence?\n",
    "seq_lens = [len(x) for x in X_test_seq]\n",
    "seq_lens[:5]"
   ]
  },
  {
   "cell_type": "code",
   "execution_count": 35,
   "metadata": {
    "ExecuteTime": {
     "end_time": "2021-06-09T00:25:34.124431Z",
     "start_time": "2021-06-09T00:25:34.121698Z"
    }
   },
   "outputs": [
    {
     "data": {
      "text/plain": [
       "2090"
      ]
     },
     "execution_count": 35,
     "metadata": {},
     "output_type": "execute_result"
    }
   ],
   "source": [
    "## what is the longest sequence?\n",
    "max(seq_lens)"
   ]
  },
  {
   "cell_type": "code",
   "execution_count": 36,
   "metadata": {
    "ExecuteTime": {
     "end_time": "2021-06-09T00:25:34.991795Z",
     "start_time": "2021-06-09T00:25:34.402745Z"
    }
   },
   "outputs": [
    {
     "data": {
      "text/plain": [
       "<AxesSubplot:ylabel='Count'>"
      ]
     },
     "execution_count": 36,
     "metadata": {},
     "output_type": "execute_result"
    },
    {
     "data": {
      "image/png": "[encoded data removed]",
      "text/plain": [
       "<Figure size 576x288 with 1 Axes>"
      ]
     },
     "metadata": {
      "needs_background": "light"
     },
     "output_type": "display_data"
    }
   ],
   "source": [
    "## visualize distribution of lengthsw\n",
    "sns.histplot(seq_lens\n",
    "        )"
   ]
  },
  {
   "cell_type": "code",
   "execution_count": 37,
   "metadata": {
    "ExecuteTime": {
     "end_time": "2021-06-09T00:25:35.175598Z",
     "start_time": "2021-06-09T00:25:35.086169Z"
    }
   },
   "outputs": [
    {
     "name": "stderr",
     "output_type": "stream",
     "text": [
      "/opt/anaconda3/envs/learn-env-new/lib/python3.8/site-packages/seaborn/_decorators.py:36: FutureWarning: Pass the following variable as a keyword arg: x. From version 0.12, the only valid positional argument will be `data`, and passing other arguments without an explicit keyword will result in an error or misinterpretation.\n",
      "  warnings.warn(\n"
     ]
    },
    {
     "data": {
      "text/plain": [
       "<AxesSubplot:>"
      ]
     },
     "execution_count": 37,
     "metadata": {},
     "output_type": "execute_result"
    },
    {
     "data": {
      "image/png": "[encoded data removed]",
      "text/plain": [
       "<Figure size 576x288 with 1 Axes>"
      ]
     },
     "metadata": {
      "needs_background": "light"
     },
     "output_type": "display_data"
    }
   ],
   "source": [
    "## What would be an approx cutoff for outliers?\n",
    "sns.boxplot(seq_lens)"
   ]
  },
  {
   "cell_type": "code",
   "execution_count": 38,
   "metadata": {
    "ExecuteTime": {
     "end_time": "2021-06-09T00:25:35.594655Z",
     "start_time": "2021-06-09T00:25:35.591382Z"
    }
   },
   "outputs": [
    {
     "data": {
      "text/plain": [
       "100"
      ]
     },
     "execution_count": 38,
     "metadata": {},
     "output_type": "execute_result"
    }
   ],
   "source": [
    "## Defining a max sequence length\n",
    "MAX_SEQUENCE_LENGTH = 100\n",
    "MAX_SEQUENCE_LENGTH"
   ]
  },
  {
   "cell_type": "code",
   "execution_count": 39,
   "metadata": {
    "ExecuteTime": {
     "end_time": "2021-06-09T00:25:36.966231Z",
     "start_time": "2021-06-09T00:25:36.185055Z"
    }
   },
   "outputs": [
    {
     "data": {
      "text/plain": [
       "<matplotlib.lines.Line2D at 0x7feedbe32130>"
      ]
     },
     "execution_count": 39,
     "metadata": {},
     "output_type": "execute_result"
    },
    {
     "data": {
      "image/png": "[encoded data removed]",
      "text/plain": [
       "<Figure size 576x288 with 1 Axes>"
      ]
     },
     "metadata": {
      "needs_background": "light"
     },
     "output_type": "display_data"
    }
   ],
   "source": [
    "## Plot our cutoff\n",
    "## visualize distribution of lengthsw\n",
    "ax = sns.histplot(seq_lens)\n",
    "ax.axvline(MAX_SEQUENCE_LENGTH)"
   ]
  },
  {
   "cell_type": "code",
   "execution_count": 40,
   "metadata": {
    "ExecuteTime": {
     "end_time": "2021-06-09T00:25:37.365985Z",
     "start_time": "2021-06-09T00:25:36.968296Z"
    }
   },
   "outputs": [],
   "source": [
    "## pad X_train_seq and X_test_seq\n",
    "X_train_pad = sequence.pad_sequences(X_train_seq,MAX_SEQUENCE_LENGTH)\n",
    "X_test_pad = sequence.pad_sequences(X_test_seq, MAX_SEQUENCE_LENGTH)"
   ]
  },
  {
   "cell_type": "code",
   "execution_count": 41,
   "metadata": {
    "ExecuteTime": {
     "end_time": "2021-06-09T00:25:38.087426Z",
     "start_time": "2021-06-09T00:25:38.080534Z"
    }
   },
   "outputs": [
    {
     "data": {
      "text/plain": [
       "[100, 100, 100, 100, 100, 100, 100, 100, 100, 100]"
      ]
     },
     "execution_count": 41,
     "metadata": {},
     "output_type": "execute_result"
    }
   ],
   "source": [
    "seq_lens = [len(x) for x in X_test_pad]\n",
    "seq_lens[:10]"
   ]
  },
  {
   "cell_type": "markdown",
   "metadata": {},
   "source": [
    "#### Making Our Neural Networks"
   ]
  },
  {
   "cell_type": "code",
   "execution_count": 42,
   "metadata": {
    "ExecuteTime": {
     "end_time": "2021-06-09T00:25:39.679106Z",
     "start_time": "2021-06-09T00:25:39.675623Z"
    }
   },
   "outputs": [
    {
     "data": {
      "text/plain": [
       "100277"
      ]
     },
     "execution_count": 42,
     "metadata": {},
     "output_type": "execute_result"
    }
   ],
   "source": [
    "## Set the max words equal to tokenizer's word index\n",
    "MAX_WORDS = len(tokenizer.word_index)\n",
    "MAX_WORDS"
   ]
  },
  {
   "cell_type": "code",
   "execution_count": 43,
   "metadata": {
    "ExecuteTime": {
     "end_time": "2021-06-09T00:25:40.408519Z",
     "start_time": "2021-06-09T00:25:40.405120Z"
    }
   },
   "outputs": [
    {
     "data": {
      "text/plain": [
       "2"
      ]
     },
     "execution_count": 43,
     "metadata": {},
     "output_type": "execute_result"
    }
   ],
   "source": [
    "## Save num classes for final layer\n",
    "n_classes = y_train.shape[1]\n",
    "n_classes"
   ]
  },
  {
   "cell_type": "markdown",
   "metadata": {},
   "source": [
    "## Fitting Our First Model"
   ]
  },
  {
   "cell_type": "code",
   "execution_count": 44,
   "metadata": {
    "ExecuteTime": {
     "end_time": "2021-06-09T00:25:42.499617Z",
     "start_time": "2021-06-09T00:25:42.496578Z"
    }
   },
   "outputs": [
    {
     "data": {
      "text/plain": [
       "50"
      ]
     },
     "execution_count": 44,
     "metadata": {},
     "output_type": "execute_result"
    }
   ],
   "source": [
    "EMBEDDING_SIZE"
   ]
  },
  {
   "cell_type": "code",
   "execution_count": 45,
   "metadata": {
    "ExecuteTime": {
     "end_time": "2021-06-09T00:25:43.236748Z",
     "start_time": "2021-06-09T00:25:43.233382Z"
    }
   },
   "outputs": [],
   "source": [
    "def make_model():\n",
    "    \"\"\"Make a neural network with a new emebdding layer, \n",
    "    an LSTM layer with 25 unit, and a final Dense layer appropriate for the task\"\"\"\n",
    "    model = models.Sequential()\n",
    "    model.add(layers.Embedding(MAX_WORDS+1, EMBEDDING_SIZE))\n",
    "    model.add(layers.LSTM(25, return_sequences=False))\n",
    "    model.add(layers.Dense(n_classes, activation='softmax'))\n",
    "    \n",
    "    model.compile(loss='categorical_crossentropy', optimizer='adam',\n",
    "                 metrics=['accuracy', tf.keras.metrics.Recall(name='recall')])\n",
    "    display(model.summary())\n",
    "    return model"
   ]
  },
  {
   "cell_type": "code",
   "execution_count": 46,
   "metadata": {
    "ExecuteTime": {
     "end_time": "2021-06-09T00:26:19.442853Z",
     "start_time": "2021-06-09T00:25:44.272544Z"
    }
   },
   "outputs": [
    {
     "name": "stdout",
     "output_type": "stream",
     "text": [
      "Model: \"sequential\"\n",
      "_________________________________________________________________\n",
      "Layer (type)                 Output Shape              Param #   \n",
      "=================================================================\n",
      "embedding (Embedding)        (None, None, 50)          5013900   \n",
      "_________________________________________________________________\n",
      "lstm (LSTM)                  (None, 25)                7600      \n",
      "_________________________________________________________________\n",
      "dense (Dense)                (None, 2)                 52        \n",
      "=================================================================\n",
      "Total params: 5,021,552\n",
      "Trainable params: 5,021,552\n",
      "Non-trainable params: 0\n",
      "_________________________________________________________________\n"
     ]
    },
    {
     "data": {
      "text/plain": [
       "None"
      ]
     },
     "metadata": {},
     "output_type": "display_data"
    },
    {
     "name": "stdout",
     "output_type": "stream",
     "text": [
      "Epoch 1/3\n",
      "99/99 [==============================] - 14s 120ms/step - loss: 0.6079 - accuracy: 0.6764 - recall: 0.6764 - val_loss: 0.3846 - val_accuracy: 0.8327 - val_recall: 0.8327\n",
      "Epoch 2/3\n",
      "99/99 [==============================] - 11s 108ms/step - loss: 0.3057 - accuracy: 0.8772 - recall: 0.8772 - val_loss: 0.3631 - val_accuracy: 0.8478 - val_recall: 0.8478\n",
      "Epoch 3/3\n",
      "99/99 [==============================] - 10s 106ms/step - loss: 0.2006 - accuracy: 0.9276 - recall: 0.9276 - val_loss: 0.3768 - val_accuracy: 0.8429 - val_recall: 0.8429\n",
      "CPU times: user 1min 48s, sys: 50.3 s, total: 2min 38s\n",
      "Wall time: 35.2 s\n"
     ]
    }
   ],
   "source": [
    "%%time\n",
    "## make model and fit \n",
    "model= make_model()\n",
    "history = model.fit(X_train_pad, y_train, batch_size=256, epochs=3,validation_split=0.2,\n",
    "         workers=-1)"
   ]
  },
  {
   "cell_type": "markdown",
   "metadata": {},
   "source": [
    "### Model Evaluation Functions"
   ]
  },
  {
   "cell_type": "markdown",
   "metadata": {},
   "source": [
    ">- Below I broke down the larger evaluation function introduced in study group last week. \n",
    "    - I've created several helper functions to simplify the code for the evaluation function.\n",
    "    - Additionally, we can now use those smaller functions when we don't need a full model evaluation"
   ]
  },
  {
   "cell_type": "code",
   "execution_count": 69,
   "metadata": {
    "ExecuteTime": {
     "end_time": "2021-06-08T17:08:05.742487Z",
     "start_time": "2021-06-08T17:08:04.460591Z"
    }
   },
   "outputs": [
    {
     "data": {
      "image/png": "[encoded data removed]",
      "text/plain": [
       "<Figure size 576x288 with 1 Axes>"
      ]
     },
     "metadata": {
      "needs_background": "light"
     },
     "output_type": "display_data"
    },
    {
     "data": {
      "image/png": "[encoded data removed]",
      "text/plain": [
       "<Figure size 576x288 with 1 Axes>"
      ]
     },
     "metadata": {
      "needs_background": "light"
     },
     "output_type": "display_data"
    },
    {
     "data": {
      "image/png": "[encoded data removed]",
      "text/plain": [
       "<Figure size 576x288 with 1 Axes>"
      ]
     },
     "metadata": {
      "needs_background": "light"
     },
     "output_type": "display_data"
    }
   ],
   "source": [
    "### BREAKING OUR BIG FUNCTION UP INTO HELPER FUNCTIONS\n",
    "def plot_history(history,model,figsize=(8,4)):\n",
    "    \"\"\"Takes a keras history and model and plots \n",
    "    all metrics in separate plots for each metric\"\"\"\n",
    "#     print(header,'\\t[i] MODEL HISTORY',header,sep='\\n')\n",
    "\n",
    "    ## Make a dataframe out of history\n",
    "    res_df = pd.DataFrame(history.history)#.plot()\n",
    "\n",
    "    ## Plot Losses\n",
    "    plot_kws = dict(marker='o',ls=':',lw=2,figsize=figsize)\n",
    "\n",
    "    ## Plot all metrics\n",
    "    metrics_list = model.metrics_names\n",
    "\n",
    "    for metric in metrics_list:\n",
    "        ax = res_df[[col for col in res_df.columns if metric in col]].plot(**plot_kws)\n",
    "        ax.set(xlabel='Epoch',ylabel=metric,title=metric)\n",
    "        ax.grid()\n",
    "        ax.xaxis.set_major_locator(mpl.ticker.MaxNLocator(integer=True))\n",
    "        plt.show()\n",
    "\n",
    "\n",
    "## testing function\n",
    "plot_history(history, model)"
   ]
  },
  {
   "cell_type": "code",
   "execution_count": 70,
   "metadata": {
    "ExecuteTime": {
     "end_time": "2021-06-08T17:08:20.394222Z",
     "start_time": "2021-06-08T17:08:05.745772Z"
    }
   },
   "outputs": [
    {
     "name": "stdout",
     "output_type": "stream",
     "text": [
      "985/985 [==============================] - 9s 9ms/step - loss: 0.1964 - accuracy: 0.9315 - recall: 0.9315\n",
      "\tTraining loss: 0.196\n",
      "\tTraining accuracy: 0.931\n",
      "\tTraining recall: 0.931\n",
      "422/422 [==============================] - 6s 13ms/step - loss: 0.3750 - accuracy: 0.8501 - recall: 0.8501\n",
      "\tTest loss: 0.375\n",
      "\tTest accuracy: 0.850\n",
      "\tTest recall: 0.850\n"
     ]
    }
   ],
   "source": [
    "def evaluate_scores(model,X_train,y_train,label='Training',verbose=0):\n",
    "    \"\"\"Evaluates a keras model and prints the scores using the provided label.\"\"\"\n",
    "    train_scores  = model.evaluate(X_train,y_train,verbose=verbose)#score()\n",
    "    for i,metric in enumerate(model.metrics_names):\n",
    "        print(f\"\\t{label} {metric}: {train_scores[i]:.3f}\")\n",
    "\n",
    "evaluate_scores(model, X_train_pad,y_train,verbose=1)\n",
    "evaluate_scores(model, X_test_pad,y_test,verbose=1,label='Test')"
   ]
  },
  {
   "cell_type": "code",
   "execution_count": 71,
   "metadata": {
    "ExecuteTime": {
     "end_time": "2021-06-08T17:08:28.203298Z",
     "start_time": "2021-06-08T17:08:20.400184Z"
    }
   },
   "outputs": [
    {
     "name": "stdout",
     "output_type": "stream",
     "text": [
      "========================================================================\n",
      "\t[i] CLASSIFICATION REPORT - TEST DATA\n",
      "========================================================================\n",
      "\n",
      "              precision    recall  f1-score   support\n",
      "\n",
      "           0       0.90      0.88      0.89      9098\n",
      "           1       0.76      0.80      0.78      4402\n",
      "\n",
      "    accuracy                           0.85     13500\n",
      "   macro avg       0.83      0.84      0.83     13500\n",
      "weighted avg       0.85      0.85      0.85     13500\n",
      "\n",
      "\n"
     ]
    },
    {
     "data": {
      "image/png": "[encoded data removed]",
      "text/plain": [
       "<Figure size 432x432 with 2 Axes>"
      ]
     },
     "metadata": {
      "needs_background": "light"
     },
     "output_type": "display_data"
    }
   ],
   "source": [
    "  def classification_report_cm(model, X_train,y_train,label='TRAINING DATA',\n",
    "                            cm_figsize=(6,6),normalize='true',cmap='Greens'):\n",
    "    \"\"\"Gets predictions from a Keras neural network and get \n",
    "    classification report and confusion matrix.\"\"\"\n",
    "    ## Print report header, get preds, get class report, and conf matrix\n",
    "    header =  '==='*24\n",
    "    print(header,f\"\\t[i] CLASSIFICATION REPORT - {label}\",header,sep='\\n')\n",
    "    print()\n",
    "    \n",
    "    ## Get predictions\n",
    "    y_hat_train = model.predict(X_train)\n",
    "    \n",
    "    ## convert to 1D targets\n",
    "    y_train_class =y_train.argmax(axis=1)\n",
    "    y_hat_train_class = y_hat_train.argmax(axis=1)\n",
    "    \n",
    "    \n",
    "    ## Get classification report \n",
    "    print(metrics.classification_report(y_train_class,y_hat_train_class))\n",
    "    print()\n",
    "    \n",
    "    \n",
    "    ## Plot the confusion Matrix\n",
    "    cm = metrics.confusion_matrix(y_train_class, y_hat_train_class,\n",
    "                                  normalize=normalize)\n",
    "    \n",
    "    fig,ax = plt.subplots(figsize=cm_figsize)\n",
    "    sns.heatmap(cm, cmap=cmap, annot=True,square=True,ax=ax)\n",
    "    ax.set(ylabel='True Class',xlabel='Predicted Class',\n",
    "           title='Confusion Matrix - Training Data')    \n",
    "    plt.show()\n",
    "\n",
    "    \n",
    "classification_report_cm(model,X_test_pad, y_test, label='TEST DATA')   "
   ]
  },
  {
   "cell_type": "code",
   "execution_count": 72,
   "metadata": {
    "ExecuteTime": {
     "end_time": "2021-06-08T17:08:28.225421Z",
     "start_time": "2021-06-08T17:08:28.208811Z"
    }
   },
   "outputs": [],
   "source": [
    "def evaluate_network(model, X_test, y_test, history=None, \n",
    "                        X_train = None, y_train = None,\n",
    "                        history_figsize = (8,4), cm_figsize=(8,8),\n",
    "                        cmap='Greens', normalize='true'):\n",
    "    \"\"\"Gets predictions and evaluates a classification model using\n",
    "    sklearn.\n",
    "\n",
    "    Args:\n",
    "        model (classifier): a fit keras classification model.\n",
    "        X_test (tensor/array): X data\n",
    "        y_test (tensor/array): y data\n",
    "        history (History object): model history from .fit\n",
    "        X_train (tensor/array): If provided, compare model.score \n",
    "                                for train and test. Defaults to None.\n",
    "        y_train (Series or Array, optional): If provided, compare model.score \n",
    "                                for train and test. Defaults to None.\n",
    "                                \n",
    "        history_figsize (tuple): figsize for each metric's history plot.\n",
    "        cm_figsize (tuple): figsize for confusion matrix plot\n",
    "      \n",
    "        cmap (str, optional): Colormap for confusion matrix. Defaults to 'Greens'.\n",
    "        normalize (str, optional): normalize argument for plot_confusion_matrix. \n",
    "                                    Defaults to 'true'.  \n",
    "    \"\"\"\n",
    "    \n",
    "    header =  '==='*24\n",
    "    \n",
    "    ## First, Plot History, if provided.\n",
    "    if history is not None:\n",
    "        print(header,'\\t[i] MODEL HISTORY',header,sep='\\n')\n",
    "        plot_history(history,model,figsize=history_figsize)\n",
    "        \n",
    "        \n",
    "    ## Evaluate Network for loss/acc scores\n",
    "    print(header,\"\\t[i] EVALUATING MODEL\",header,sep='\\n')\n",
    "    print()\n",
    "    if X_train is not None:\n",
    "        try:\n",
    "            evaluate_scores(model,X_train,y_train,label='Training')\n",
    "            print()\n",
    "\n",
    "        except Exception as e:\n",
    "            print(\"Error evaluating for accuracy for training data:\")\n",
    "            print(e)\n",
    "        \n",
    "\n",
    "    ## Evaluate test data\n",
    "    evaluate_scores(model,X_test,y_test,label='Test')\n",
    "    print(\"\\n\")\n",
    "\n",
    "    \n",
    "    ## Report for training data\n",
    "    if X_train is not None:\n",
    "        classification_report_cm(model, X_train, y_train, cmap=cmap,\n",
    "                                 normalize=normalize,\n",
    "                                 label='TRAINING DATA',cm_figsize=cm_figsize)       \n",
    "        print('\\n'*2)\n",
    "    ## Report for test data\n",
    "    classification_report_cm(model,X_test,y_test, cmap=cmap,\n",
    "                             normalize=normalize,\n",
    "                             label='TEST DATA',cm_figsize=cm_figsize)\n",
    "\n",
    "    "
   ]
  },
  {
   "cell_type": "code",
   "execution_count": 73,
   "metadata": {
    "ExecuteTime": {
     "end_time": "2021-06-08T17:10:18.773145Z",
     "start_time": "2021-06-08T17:08:28.230730Z"
    },
    "scrolled": false
   },
   "outputs": [
    {
     "name": "stdout",
     "output_type": "stream",
     "text": [
      "Model: \"sequential_4\"\n",
      "_________________________________________________________________\n",
      "Layer (type)                 Output Shape              Param #   \n",
      "=================================================================\n",
      "embedding_4 (Embedding)      (None, None, 50)          5013900   \n",
      "_________________________________________________________________\n",
      "lstm_4 (LSTM)                (None, 25)                7600      \n",
      "_________________________________________________________________\n",
      "dense_4 (Dense)              (None, 2)                 52        \n",
      "=================================================================\n",
      "Total params: 5,021,552\n",
      "Trainable params: 5,021,552\n",
      "Non-trainable params: 0\n",
      "_________________________________________________________________\n"
     ]
    },
    {
     "data": {
      "text/plain": [
       "None"
      ]
     },
     "metadata": {},
     "output_type": "display_data"
    },
    {
     "name": "stdout",
     "output_type": "stream",
     "text": [
      "Epoch 1/3\n",
      "197/197 [==============================] - 37s 167ms/step - loss: 0.5427 - accuracy: 0.7214 - recall: 0.7214 - val_loss: 0.3641 - val_accuracy: 0.8437 - val_recall: 0.8437\n",
      "Epoch 2/3\n",
      "197/197 [==============================] - 24s 121ms/step - loss: 0.2621 - accuracy: 0.8991 - recall: 0.8991 - val_loss: 0.3638 - val_accuracy: 0.8451 - val_recall: 0.8451\n",
      "Epoch 3/3\n",
      "197/197 [==============================] - 23s 118ms/step - loss: 0.1754 - accuracy: 0.9372 - recall: 0.9372 - val_loss: 0.3837 - val_accuracy: 0.8384 - val_recall: 0.8384\n",
      "========================================================================\n",
      "\t[i] MODEL HISTORY\n",
      "========================================================================\n"
     ]
    },
    {
     "data": {
      "image/png": "[encoded data removed]",
      "text/plain": [
       "<Figure size 576x288 with 1 Axes>"
      ]
     },
     "metadata": {
      "needs_background": "light"
     },
     "output_type": "display_data"
    },
    {
     "data": {
      "image/png": "[encoded data removed]",
      "text/plain": [
       "<Figure size 576x288 with 1 Axes>"
      ]
     },
     "metadata": {
      "needs_background": "light"
     },
     "output_type": "display_data"
    },
    {
     "data": {
      "image/png": "[encoded data removed]",
      "text/plain": [
       "<Figure size 576x288 with 1 Axes>"
      ]
     },
     "metadata": {
      "needs_background": "light"
     },
     "output_type": "display_data"
    },
    {
     "name": "stdout",
     "output_type": "stream",
     "text": [
      "========================================================================\n",
      "\t[i] EVALUATING MODEL\n",
      "========================================================================\n",
      "\n",
      "\tTraining loss: 0.184\n",
      "\tTraining accuracy: 0.939\n",
      "\tTraining recall: 0.939\n",
      "\n",
      "\tTest loss: 0.374\n",
      "\tTest accuracy: 0.847\n",
      "\tTest recall: 0.847\n",
      "\n",
      "\n",
      "========================================================================\n",
      "\t[i] CLASSIFICATION REPORT - TRAINING DATA\n",
      "========================================================================\n",
      "\n",
      "              precision    recall  f1-score   support\n",
      "\n",
      "           0       0.95      0.96      0.95     20902\n",
      "           1       0.91      0.90      0.91     10598\n",
      "\n",
      "    accuracy                           0.94     31500\n",
      "   macro avg       0.93      0.93      0.93     31500\n",
      "weighted avg       0.94      0.94      0.94     31500\n",
      "\n",
      "\n"
     ]
    },
    {
     "data": {
      "image/png": "[encoded data removed]",
      "text/plain": [
       "<Figure size 576x576 with 2 Axes>"
      ]
     },
     "metadata": {
      "needs_background": "light"
     },
     "output_type": "display_data"
    },
    {
     "name": "stdout",
     "output_type": "stream",
     "text": [
      "\n",
      "\n",
      "\n",
      "========================================================================\n",
      "\t[i] CLASSIFICATION REPORT - TEST DATA\n",
      "========================================================================\n",
      "\n",
      "              precision    recall  f1-score   support\n",
      "\n",
      "           0       0.88      0.89      0.89      9098\n",
      "           1       0.77      0.75      0.76      4402\n",
      "\n",
      "    accuracy                           0.85     13500\n",
      "   macro avg       0.83      0.82      0.82     13500\n",
      "weighted avg       0.85      0.85      0.85     13500\n",
      "\n",
      "\n"
     ]
    },
    {
     "data": {
      "image/png": "[encoded data removed]",
      "text/plain": [
       "<Figure size 576x576 with 2 Axes>"
      ]
     },
     "metadata": {
      "needs_background": "light"
     },
     "output_type": "display_data"
    }
   ],
   "source": [
    "## make,fit model and evlaute\n",
    "model = make_model()\n",
    "history = model.fit(X_train_pad, y_train, epochs=3,\n",
    "                    batch_size=128, validation_split=0.2,\n",
    "                   workers=-1)\n",
    "evaluate_network(model,X_test_pad,y_test,history,\n",
    "                X_train = X_train_pad,y_train=y_train)"
   ]
  },
  {
   "cell_type": "markdown",
   "metadata": {},
   "source": [
    ">- **Q: Whats one thing we haven't addressed, as part of classification-modeling workflow?**\n",
    "    - Dealing with class imbalance/"
   ]
  },
  {
   "cell_type": "markdown",
   "metadata": {},
   "source": [
    "### Compute Class Weights"
   ]
  },
  {
   "cell_type": "code",
   "execution_count": 74,
   "metadata": {
    "ExecuteTime": {
     "end_time": "2021-06-08T17:11:16.623050Z",
     "start_time": "2021-06-08T17:11:16.617097Z"
    }
   },
   "outputs": [
    {
     "data": {
      "text/plain": [
       "0    0.663556\n",
       "1    0.336444\n",
       "dtype: float64"
      ]
     },
     "execution_count": 74,
     "metadata": {},
     "output_type": "execute_result"
    }
   ],
   "source": [
    "## check class balance\n",
    "y_tr_classes = pd.Series(y_train.argmax(axis=1))\n",
    "y_tr_classes.value_counts(1)"
   ]
  },
  {
   "cell_type": "markdown",
   "metadata": {},
   "source": [
    "> Neural networks accept class weights, but cannot calculate them like sklearn models that accept `class_weight=\"balanced\"`.\n",
    "    - We can use sklearn's function to calculate the class weights to use in our neural netowork"
   ]
  },
  {
   "cell_type": "code",
   "execution_count": 75,
   "metadata": {
    "ExecuteTime": {
     "end_time": "2021-06-08T17:11:49.814216Z",
     "start_time": "2021-06-08T17:11:49.801052Z"
    }
   },
   "outputs": [
    {
     "name": "stderr",
     "output_type": "stream",
     "text": [
      "/opt/anaconda3/envs/learn-env-new/lib/python3.8/site-packages/sklearn/utils/validation.py:67: FutureWarning: Pass classes=[0 1], y=0        0\n",
      "1        1\n",
      "2        0\n",
      "3        1\n",
      "4        0\n",
      "        ..\n",
      "31495    0\n",
      "31496    0\n",
      "31497    0\n",
      "31498    0\n",
      "31499    1\n",
      "Length: 31500, dtype: int64 as keyword args. From version 0.25 passing these as positional arguments will result in an error\n",
      "  warnings.warn(\"Pass {} as keyword args. From version 0.25 \"\n"
     ]
    },
    {
     "data": {
      "text/plain": [
       "array([0.75351641, 1.48612946])"
      ]
     },
     "execution_count": 75,
     "metadata": {},
     "output_type": "execute_result"
    }
   ],
   "source": [
    "from sklearn.utils.class_weight import compute_class_weight\n",
    "\n",
    "## Get the array of weights for each unique class\n",
    "weights= compute_class_weight(\n",
    "           'balanced',\n",
    "            np.unique(y_tr_classes),\n",
    "            y_tr_classes)\n",
    "weights"
   ]
  },
  {
   "cell_type": "code",
   "execution_count": 76,
   "metadata": {
    "ExecuteTime": {
     "end_time": "2021-06-08T17:12:01.129125Z",
     "start_time": "2021-06-08T17:12:01.124338Z"
    },
    "scrolled": true
   },
   "outputs": [
    {
     "data": {
      "text/plain": [
       "{0: 0.753516409912927, 1: 1.486129458388375}"
      ]
     },
     "execution_count": 76,
     "metadata": {},
     "output_type": "execute_result"
    }
   ],
   "source": [
    "## Turn the weights into a dict with the class name as the key\n",
    "weights_dict = dict(zip( np.unique(y_tr_classes),weights))\n",
    "weights_dict"
   ]
  },
  {
   "cell_type": "code",
   "execution_count": 77,
   "metadata": {
    "ExecuteTime": {
     "end_time": "2021-06-08T17:14:26.933598Z",
     "start_time": "2021-06-08T17:12:24.907642Z"
    },
    "scrolled": false
   },
   "outputs": [
    {
     "name": "stdout",
     "output_type": "stream",
     "text": [
      "Model: \"sequential_5\"\n",
      "_________________________________________________________________\n",
      "Layer (type)                 Output Shape              Param #   \n",
      "=================================================================\n",
      "embedding_5 (Embedding)      (None, None, 50)          5013900   \n",
      "_________________________________________________________________\n",
      "lstm_5 (LSTM)                (None, 25)                7600      \n",
      "_________________________________________________________________\n",
      "dense_5 (Dense)              (None, 2)                 52        \n",
      "=================================================================\n",
      "Total params: 5,021,552\n",
      "Trainable params: 5,021,552\n",
      "Non-trainable params: 0\n",
      "_________________________________________________________________\n"
     ]
    },
    {
     "data": {
      "text/plain": [
       "None"
      ]
     },
     "metadata": {},
     "output_type": "display_data"
    },
    {
     "name": "stdout",
     "output_type": "stream",
     "text": [
      "Epoch 1/3\n",
      "197/197 [==============================] - 25s 118ms/step - loss: 0.5641 - accuracy: 0.7246 - recall: 0.7246 - val_loss: 0.4056 - val_accuracy: 0.8257 - val_recall: 0.8257\n",
      "Epoch 2/3\n",
      "197/197 [==============================] - 22s 113ms/step - loss: 0.2676 - accuracy: 0.8947 - recall: 0.8947 - val_loss: 0.3905 - val_accuracy: 0.8289 - val_recall: 0.8289\n",
      "Epoch 3/3\n",
      "197/197 [==============================] - 31s 160ms/step - loss: 0.1778 - accuracy: 0.9336 - recall: 0.9336 - val_loss: 0.4019 - val_accuracy: 0.8335 - val_recall: 0.8335\n",
      "========================================================================\n",
      "\t[i] MODEL HISTORY\n",
      "========================================================================\n"
     ]
    },
    {
     "data": {
      "image/png": "[encoded data removed]",
      "text/plain": [
       "<Figure size 576x288 with 1 Axes>"
      ]
     },
     "metadata": {
      "needs_background": "light"
     },
     "output_type": "display_data"
    },
    {
     "data": {
      "image/png": "[encoded data removed]",
      "text/plain": [
       "<Figure size 576x288 with 1 Axes>"
      ]
     },
     "metadata": {
      "needs_background": "light"
     },
     "output_type": "display_data"
    },
    {
     "data": {
      "image/png": "[encoded data removed]",
      "text/plain": [
       "<Figure size 576x288 with 1 Axes>"
      ]
     },
     "metadata": {
      "needs_background": "light"
     },
     "output_type": "display_data"
    },
    {
     "name": "stdout",
     "output_type": "stream",
     "text": [
      "========================================================================\n",
      "\t[i] EVALUATING MODEL\n",
      "========================================================================\n",
      "\n",
      "\tTraining loss: 0.191\n",
      "\tTraining accuracy: 0.936\n",
      "\tTraining recall: 0.936\n",
      "\n",
      "\tTest loss: 0.393\n",
      "\tTest accuracy: 0.842\n",
      "\tTest recall: 0.842\n",
      "\n",
      "\n",
      "========================================================================\n",
      "\t[i] CLASSIFICATION REPORT - TRAINING DATA\n",
      "========================================================================\n",
      "\n",
      "              precision    recall  f1-score   support\n",
      "\n",
      "           0       0.97      0.94      0.95     20902\n",
      "           1       0.88      0.93      0.91     10598\n",
      "\n",
      "    accuracy                           0.94     31500\n",
      "   macro avg       0.92      0.93      0.93     31500\n",
      "weighted avg       0.94      0.94      0.94     31500\n",
      "\n",
      "\n"
     ]
    },
    {
     "data": {
      "image/png": "[encoded data removed]",
      "text/plain": [
       "<Figure size 576x576 with 2 Axes>"
      ]
     },
     "metadata": {
      "needs_background": "light"
     },
     "output_type": "display_data"
    },
    {
     "name": "stdout",
     "output_type": "stream",
     "text": [
      "\n",
      "\n",
      "\n",
      "========================================================================\n",
      "\t[i] CLASSIFICATION REPORT - TEST DATA\n",
      "========================================================================\n",
      "\n",
      "              precision    recall  f1-score   support\n",
      "\n",
      "           0       0.90      0.86      0.88      9098\n",
      "           1       0.73      0.81      0.77      4402\n",
      "\n",
      "    accuracy                           0.84     13500\n",
      "   macro avg       0.82      0.83      0.82     13500\n",
      "weighted avg       0.85      0.84      0.84     13500\n",
      "\n",
      "\n"
     ]
    },
    {
     "data": {
      "image/png": "[encoded data removed]",
      "text/plain": [
       "<Figure size 576x576 with 2 Axes>"
      ]
     },
     "metadata": {
      "needs_background": "light"
     },
     "output_type": "display_data"
    }
   ],
   "source": [
    "## make,fit model and evlaute\n",
    "model = make_model()\n",
    "history = model.fit(X_train_pad, y_train, epochs=3,\n",
    "                    batch_size=128, validation_split=0.2,\n",
    "                   workers=-1,class_weight=weights_dict)\n",
    "evaluate_network(model,X_test_pad,y_test,history,\n",
    "                X_train = X_train_pad,y_train=y_train)"
   ]
  },
  {
   "cell_type": "markdown",
   "metadata": {},
   "source": [
    "## Using our Previously Trained Word2Vec Embeddings in an Embedding Layer\n",
    "- https://ppasumarthi-69210.medium.com/word-embeddings-in-keras-be6bb3092831"
   ]
  },
  {
   "cell_type": "code",
   "execution_count": 78,
   "metadata": {
    "ExecuteTime": {
     "end_time": "2021-06-08T17:15:18.405765Z",
     "start_time": "2021-06-08T17:15:18.401711Z"
    }
   },
   "outputs": [
    {
     "data": {
      "text/plain": [
       "(100277, 50)"
      ]
     },
     "execution_count": 78,
     "metadata": {},
     "output_type": "execute_result"
    }
   ],
   "source": [
    "## Saving the total number of words as vocab size\n",
    "vocab_size = len(tokenizer.index_word)\n",
    "\n",
    "## Doubel check current embedding size and vocab size\n",
    "vocab_size, EMBEDDING_SIZE"
   ]
  },
  {
   "cell_type": "code",
   "execution_count": 79,
   "metadata": {
    "ExecuteTime": {
     "end_time": "2021-06-08T17:16:32.951983Z",
     "start_time": "2021-06-08T17:16:32.766883Z"
    }
   },
   "outputs": [
    {
     "data": {
      "text/plain": [
       "array([[ 0.        ,  0.        ,  0.        , ...,  0.        ,\n",
       "         0.        ,  0.        ],\n",
       "       [ 0.0074465 , -0.54462332, -0.33963847, ...,  1.31179988,\n",
       "        -1.46309865, -0.22636278],\n",
       "       [ 1.27100956, -1.35800886, -0.30397868, ...,  0.41900718,\n",
       "        -2.12314725,  0.54606313],\n",
       "       ...,\n",
       "       [ 0.        ,  0.        ,  0.        , ...,  0.        ,\n",
       "         0.        ,  0.        ],\n",
       "       [ 0.        ,  0.        ,  0.        , ...,  0.        ,\n",
       "         0.        ,  0.        ],\n",
       "       [ 0.        ,  0.        ,  0.        , ...,  0.        ,\n",
       "         0.        ,  0.        ]])"
      ]
     },
     "execution_count": 79,
     "metadata": {},
     "output_type": "execute_result"
    }
   ],
   "source": [
    "### make a metrix of embedding weights\n",
    "embedding_matrix = np.zeros((vocab_size+1, EMBEDDING_SIZE))\n",
    "\n",
    "## for each item in the word index\n",
    "for word, i in tokenizer.word_index.items():\n",
    "\n",
    "    ## if word in w2vec model, fill in the embedding matrix\n",
    "     if word in wv:\n",
    "        embedding_vector = wv[word]\n",
    "        embedding_matrix[i] = embedding_vector\n",
    "embedding_matrix"
   ]
  },
  {
   "cell_type": "code",
   "execution_count": 81,
   "metadata": {
    "ExecuteTime": {
     "end_time": "2021-06-08T17:18:11.768685Z",
     "start_time": "2021-06-08T17:18:11.764996Z"
    }
   },
   "outputs": [],
   "source": [
    "## Make a keras embedding layer with emebdding_matrix\n",
    "embedding_layer = layers.Embedding(vocab_size+1,EMBEDDING_SIZE,\n",
    "                                  weights=[embedding_matrix],\n",
    "                                  input_length=MAX_SEQUENCE_LENGTH,\n",
    "                                  trainable=False)"
   ]
  },
  {
   "cell_type": "code",
   "execution_count": 82,
   "metadata": {
    "ExecuteTime": {
     "end_time": "2021-06-08T17:19:03.046251Z",
     "start_time": "2021-06-08T17:19:03.041536Z"
    }
   },
   "outputs": [],
   "source": [
    "## update our make_model_w2v func wth embedding layer\n",
    "def make_w2v_model():\n",
    "    \"\"\"Make a neural network with a new emebdding layer, \n",
    "    an LSTM layer with 25 unit, and a final Dense layer appropriate for the task\"\"\"\n",
    "    model = models.Sequential()\n",
    "    embedding_layer = layers.Embedding(vocab_size+1,EMBEDDING_SIZE,\n",
    "                                  weights=[embedding_matrix],\n",
    "                                  input_length=MAX_SEQUENCE_LENGTH,\n",
    "                                  trainable=False)\n",
    "    model.add(embedding_layer)\n",
    "#     model.add(layers.Embedding(MAX_WORDS+1, EMBEDDING_SIZE))\n",
    "    model.add(layers.LSTM(25, return_sequences=False))\n",
    "    model.add(layers.Dense(n_classes, activation='softmax'))\n",
    "    \n",
    "    model.compile(loss='categorical_crossentropy', optimizer='adam',\n",
    "                 metrics=['accuracy', tf.keras.metrics.Recall(name='recall')])\n",
    "    display(model.summary())\n",
    "    return model\n",
    "\n",
    "## make,fit model and evlaute\n",
    "model = make_w2v_model()\n",
    "history = model.fit(X_train_pad, y_train, epochs=3,\n",
    "                    batch_size=128, validation_split=0.2,\n",
    "                   workers=-1,class_weight=weights_dict)\n",
    "evaluate_network(model,X_test_pad,y_test,history,\n",
    "                X_train = X_train_pad,y_train=y_train)"
   ]
  },
  {
   "cell_type": "markdown",
   "metadata": {},
   "source": [
    "# Overview  - Neural Network Tuning "
   ]
  },
  {
   "cell_type": "markdown",
   "metadata": {},
   "source": [
    "## Helpful Resources"
   ]
  },
  {
   "cell_type": "markdown",
   "metadata": {},
   "source": [
    "- [Medium: Simple Guide to Hyperparameter Tuning in Neural Networks](https://towardsdatascience.com/simple-guide-to-hyperparameter-tuning-in-neural-networks-3fe03dad8594)\n",
    "- [Medium: A guide to an efficient way to build neural network architectures- Part I:](https://towardsdatascience.com/a-guide-to-an-efficient-way-to-build-neural-network-architectures-part-i-hyper-parameter-8129009f131b)\n",
    "- [Medium: Optimizers for Neural Networks](https://medium.com/@sdoshi579/optimizers-for-training-neural-network-59450d71caf6)"
   ]
  },
  {
   "cell_type": "markdown",
   "metadata": {},
   "source": [
    "## Rules of Thumb for Training Neural Networks"
   ]
  },
  {
   "cell_type": "markdown",
   "metadata": {},
   "source": [
    "- **Always use a train-test-validation split.**\n",
    "    - **Train-test-val splits:**\n",
    "        - Training set: for training the algorithm\n",
    "        - Validation set: used during training\n",
    "        - Testing set: after choosing the final model, use the test set for an unbiased estimate of performance.\n",
    "    - **Set sizes:**\n",
    "        - With big data, your val and test sets don't necessarily need to be 20-30% of all the data. \n",
    "        - You can choose test and hold-out sets that are of size 1-5%. \n",
    "            - eg. 96% train, 2% hold-out, 2% test set.\n",
    "            \n",
    "            \n",
    "- Consider using a `np.random.seed` for reproducibility/comparing models\n",
    "\n",
    "\n",
    "- **Use cross validation of some sort to compare Networks**\n",
    "\n",
    "\n",
    "- Normalize/Standardize features\n",
    "    \n",
    "    \n",
    "- **Add EarlyStopping and ModelCheckpoint [callbacks](https://keras.io/api/callbacks/)**\n",
    "\n",
    "    "
   ]
  },
  {
   "cell_type": "markdown",
   "metadata": {
    "colab_type": "text",
    "id": "lbzweQKTDPTl"
   },
   "source": [
    "#### Dealing with Bias/Variance\n",
    "\n",
    "- Balancing Bias/Variance:\n",
    "    - High Bias models are **underfit**\n",
    "    - High Variance models are **overfit**\n",
    "\n",
    "\n",
    "\n",
    "- **Rules of thumb re: bias/variance trade-off:**\n",
    "\n",
    "| High Bias? (training performance) | high variance? (validation performance)  |\n",
    "|---------------|-------------|\n",
    "| Use a bigger network|    More data     |\n",
    "| Train longer | Regularization   |\n",
    "| Look for other existing NN architextures |Look for other existing NN architextures |\n"
   ]
  },
  {
   "cell_type": "markdown",
   "metadata": {},
   "source": [
    "## Rules of Thumb - Hyperparameters to Tune \n"
   ]
  },
  {
   "cell_type": "markdown",
   "metadata": {},
   "source": [
    "- This section is partially based on the blog post below. \n",
    "- However, I ordered the steps with my recommended order of importance/what-to-tune-first\n",
    "- [Blog Post](https://towardsdatascience.com/a-guide-to-an-efficient-way-to-build-neural-network-architectures-part-i-hyper-parameter-8129009f131b)"
   ]
  },
  {
   "cell_type": "markdown",
   "metadata": {},
   "source": [
    "### Hyperparameters "
   ]
  },
  {
   "cell_type": "markdown",
   "metadata": {},
   "source": [
    "- Note: outline below is meant for Dense layers but will also generally be true for other layer types."
   ]
  },
  {
   "cell_type": "markdown",
   "metadata": {},
   "source": [
    "1. Number of layers (depends on the size of training data)\n",
    "\n",
    "\n",
    "2. Number of neurons(depends on the size of training data)\n",
    "\n",
    "\n",
    "3. Activation functions\n",
    "    - Popular choices:\n",
    "        - relu / leaky-relu\n",
    "        - sigmoid / tanh (for shallow networks)\n",
    "        \n",
    "        \n",
    "4. Optimizer:\n",
    "    - Popular choices:\n",
    "        - SGD (works well for shallow but gets stuck in local minima/saddle-points - if so use RMSProp)\n",
    "        - RMSProp\n",
    "        - Adam (general favorite)\n",
    "        \n",
    "        \n",
    "5. Learning Rate\n",
    "    - Try in powers of 10 (0.001,0.01,.1,1.0)\n",
    "    - Which optimizer changes which l.r. is best (but try the others too).\n",
    "        - SGD: 0.1\n",
    "        - Adam: 0.001/0.01\n",
    "    - Can use the `decay` parameter to reduce learning (though it is better to use adaptive optimizer than to adjust this)/.\n",
    "\n",
    "7. Batch Size\n",
    "    - Finding the \"right\" size is important\n",
    "        - Too small = weights update too quickly and convergence is difficult\n",
    "        - Too large = weights update too slowly (plus PC RAM issues)\n",
    "    - Try batch sizes that are powers of 2 (for memory optimization)\n",
    "    - Larger is better than smaller.\n",
    "    \n",
    "    \n",
    "8. Number of Epochs:\n",
    "    - Important parameter to tune\n",
    "    - Use EarlyStopping callback to prevent overfitting\n",
    "    \n",
    "\n",
    "9. Adding Dropout\n",
    "    - Usually use dropout rate of 0.2 to 0.5\n",
    "    \n",
    "    \n",
    "\n",
    "10. Adding regularization (L1,L2)\n",
    "    - Use when the model continues to over-fit even after adding Dropout\n",
    "    \n",
    "    \n",
    "6. Initialization\n",
    "    - Not as important as defaults (glorot-uniform) work well, but:\n",
    "        - Use He-normal/uniform initialization when using ReLu\n",
    "        - Use Glorot-normal/uniform when using Sigmoid\n",
    "    - Avoid using all zeros or any constant for all neurons\n",
    "\n"
   ]
  },
  {
   "cell_type": "markdown",
   "metadata": {},
   "source": [
    "### Easy-to-Add options to fight overfitting"
   ]
  },
  {
   "cell_type": "markdown",
   "metadata": {},
   "source": [
    "#### Dropout \n",
    "<img src=\"https://raw.githubusercontent.com/flatiron-school/Online-DS-FT-022221-Cohort-Notes/master/Phase_4/topic_40-41_neural_networks/CL%20Repos/ds-neural_network_architecture-video/img/drop_out.png\">"
   ]
  },
  {
   "cell_type": "markdown",
   "metadata": {
    "colab_type": "text",
    "id": "BlPs5Wd8GrNg"
   },
   "source": [
    "#### Early Stopping\n",
    "\n",
    "- Monitor performance for decrease or plateau in performance, terminate process when given criteria is reached.\n",
    "\n",
    "- **In Keras:**\n",
    "    - Can be applied using the [callbacks function](https://keras.io/callbacks/)\n",
    "```python    \n",
    "from keras.callbacks import EarlyStopping\n",
    "EarlyStopping(monitor='val_err', patience=5)\n",
    "```\n",
    "    - 'Monitor' denotes quanitity to check\n",
    "    - 'val_err' denotes validation error\n",
    "    - 'pateience' denotes # of epochs without improvement before stopping.\n",
    "        - Be careful, as sometimes models _will_ continue to improve after a stagnant period\n"
   ]
  },
  {
   "cell_type": "markdown",
   "metadata": {},
   "source": [
    "### Hyperparameter Details"
   ]
  },
  {
   "cell_type": "markdown",
   "metadata": {},
   "source": [
    "#### Kernel Initialization\n",
    "- Kernel Initializers\n",
    "```python\n",
    "# define the grid search parameters\n",
    "init_mode = ['uniform', 'lecun_uniform', 'normal', 'zero', \n",
    "             'glorot_normal', 'glorot_uniform', 'he_normal', 'he_uniform']```\n",
    "\n",
    "\n",
    "#### Loss Functions\n",
    "- MSE (regression)\n",
    "- categorical cross-entropy (classification with 2D labels )\n",
    "    - sparse categorical cross entropy (classification with 1D labels)\n",
    "- binary cross-entropy (classification)\n",
    "    - 2 categories\n",
    "- **can also uses custom scoring functions**"
   ]
  },
  {
   "cell_type": "markdown",
   "metadata": {},
   "source": [
    "## Using Regularization"
   ]
  },
  {
   "cell_type": "markdown",
   "metadata": {},
   "source": [
    "### L1 & L2 Regularlization\n",
    "- These methods of regularizaiton do so by penalizing coefficients(regression) or weights(neural networks),\n",
    "    - L1 & L2 exist in regression models as well. There, L1='Lasso Regressions' , L2='Ridge regression'\n",
    "    \n",
    "<!--     \n",
    "\n",
    "- **L1 & L2 regularization add a term to the cost function.**\n",
    "\n",
    "$$Cost function = Loss (say, binary cross entropy) + Regularization term$$\n",
    "\n",
    "$$ J (w^{[1]},b^{[1]},...,w^{[L]},b^{[L]}) = \\dfrac{1}{m} \\sum^m_{i=1}\\mathcal{L}(\\hat y^{(i)}, y^{(i)})+ \\dfrac{\\lambda}{2m}\\sum^L_{l=1}||w^{[l]}||^2$$\n",
    "- where $\\lambda$ is the regularization parameter. \n",
    "\n",
    "- **The difference between  L1 vs L2 is that L1 is just the sum of the weights whereas L2 is the sum of the _square_of the weights.**  \n",
    " -->\n",
    "\n",
    "<br><br>\n",
    "- **L1 Regularization:**\n",
    "    $$ Cost function = Loss + \\frac{\\lambda}{2m} * \\sum ||w||$$\n",
    "    - Uses the absolute value of weights and may reduce the weights down to 0. \n",
    "    \n",
    "        \n",
    "- **L2 Regularization:**:\n",
    "    $$ Cost function = Loss + \\frac{\\lambda}{2m} * \\sum ||w||^2$$\n",
    "    - Also known as weight decay, as it forces weights to decay towards zero, but never exactly 0.. \n",
    "\n",
    "#### L1/L2 Regularization\n",
    "\n",
    "- **CHOOSING L1 OR L2:**\n",
    "    - L1 is very useful when trying to compress a model. (since weights can decreae to 0)\n",
    "    - L2 is generally preferred otherwise.\n",
    "    \n",
    "    \n",
    "- **USING L1/L2 IN KERAS:**\n",
    "    - Add a kernel_regulaizer to a  layer.\n",
    "```python \n",
    "from keras import regularizers\n",
    "model.add(Dense(64, input_dim=64, kernel_regularizer=regularizers.l2(0.01))\n",
    "```\n",
    "    - here 0.01 = $\\lambda$"
   ]
  },
  {
   "cell_type": "markdown",
   "metadata": {},
   "source": [
    "# Activity Part 2: Tuning Our Neural Network"
   ]
  },
  {
   "cell_type": "markdown",
   "metadata": {},
   "source": [
    "## Adding Callbacks"
   ]
  },
  {
   "cell_type": "markdown",
   "metadata": {
    "id": "2r14qGFIVrfO"
   },
   "source": [
    "### Keras Callbacks\n",
    "\n"
   ]
  },
  {
   "cell_type": "markdown",
   "metadata": {
    "id": "JtTKy31agUb6"
   },
   "source": [
    "- [Official Callback documentation](https://keras.io/callbacks/)\n",
    "- CallBacks You'll Definitely Want to Use\n",
    " - `tensorflow.keras.callbacks.EarlyStopping`[ALWAYS!]\n",
    "  - `tensorflow.keras.callbacks.ModelCheckpoint` [Always, if on Colab]\n",
    "\n",
    "- Callbacks worth further exploration\n",
    " - `tensorflow.keras.callbacks.callbacks.LearningRateScheduler`\n",
    "     - May be outdated in tf 2.x"
   ]
  },
  {
   "cell_type": "code",
   "execution_count": 84,
   "metadata": {
    "ExecuteTime": {
     "end_time": "2021-06-08T17:26:06.884887Z",
     "start_time": "2021-06-08T17:26:06.882182Z"
    }
   },
   "outputs": [],
   "source": [
    "## import callbacks\n",
    "from tensorflow.keras.callbacks import ModelCheckpoint, EarlyStopping, CSVLogger"
   ]
  },
  {
   "cell_type": "code",
   "execution_count": 85,
   "metadata": {
    "ExecuteTime": {
     "end_time": "2021-06-08T17:26:07.119701Z",
     "start_time": "2021-06-08T17:26:07.113135Z"
    }
   },
   "outputs": [
    {
     "data": {
      "text/plain": [
       "['variables', 'saved_model.pb', 'assets']"
      ]
     },
     "execution_count": 85,
     "metadata": {},
     "output_type": "execute_result"
    }
   ],
   "source": [
    "## Make folder for models\n",
    "model_folder = './models/'\n",
    "os.makedirs(model_folder,exist_ok=True)\n",
    "os.listdir(model_folder)"
   ]
  },
  {
   "cell_type": "code",
   "execution_count": 88,
   "metadata": {
    "ExecuteTime": {
     "end_time": "2021-06-08T17:28:17.176400Z",
     "start_time": "2021-06-08T17:28:17.173489Z"
    }
   },
   "outputs": [],
   "source": [
    "## make checkpoints - early stopping and modelcheckpoint\n",
    "early_stop = EarlyStopping(monitor='val_accuracy',patience=2,verbose=1,\n",
    "                          restore_best_weights=False)\n",
    "\n",
    "checkpoint = ModelCheckpoint(model_folder,verbose=0,save_best_only=True)"
   ]
  },
  {
   "cell_type": "code",
   "execution_count": null,
   "metadata": {},
   "outputs": [],
   "source": []
  },
  {
   "cell_type": "code",
   "execution_count": null,
   "metadata": {
    "ExecuteTime": {
     "end_time": "2021-06-08T15:44:52.103640Z",
     "start_time": "2021-06-08T15:44:52.101770Z"
    }
   },
   "outputs": [],
   "source": [
    "### You can use {} to insert values in your checkpoint names\n",
    "# filepath=folder+\"weights-improvement-{epoch:02d}-{val_loss:.2f}.hdf5\"\n",
    "# checkpoint = ModelCheckpoint(filepath,verbose=1,save_best_only=True,\n",
    "#                             save_weights_only=True)"
   ]
  },
  {
   "cell_type": "code",
   "execution_count": 90,
   "metadata": {
    "ExecuteTime": {
     "end_time": "2021-06-08T17:29:54.821840Z",
     "start_time": "2021-06-08T17:28:42.539158Z"
    },
    "scrolled": false
   },
   "outputs": [
    {
     "name": "stdout",
     "output_type": "stream",
     "text": [
      "Model: \"sequential_8\"\n",
      "_________________________________________________________________\n",
      "Layer (type)                 Output Shape              Param #   \n",
      "=================================================================\n",
      "embedding_10 (Embedding)     (None, 100, 50)           5013900   \n",
      "_________________________________________________________________\n",
      "lstm_8 (LSTM)                (None, 25)                7600      \n",
      "_________________________________________________________________\n",
      "dense_8 (Dense)              (None, 2)                 52        \n",
      "=================================================================\n",
      "Total params: 5,021,552\n",
      "Trainable params: 7,652\n",
      "Non-trainable params: 5,013,900\n",
      "_________________________________________________________________\n"
     ]
    },
    {
     "data": {
      "text/plain": [
       "None"
      ]
     },
     "metadata": {},
     "output_type": "display_data"
    },
    {
     "name": "stdout",
     "output_type": "stream",
     "text": [
      "Epoch 1/5\n",
      "197/197 [==============================] - 11s 46ms/step - loss: 0.6275 - accuracy: 0.6136 - recall: 0.6136 - val_loss: 0.4232 - val_accuracy: 0.8130 - val_recall: 0.8130\n",
      "Epoch 2/5\n",
      "197/197 [==============================] - 9s 44ms/step - loss: 0.4277 - accuracy: 0.8136 - recall: 0.8136 - val_loss: 0.4101 - val_accuracy: 0.8205 - val_recall: 0.8205\n",
      "Epoch 3/5\n",
      "197/197 [==============================] - 8s 42ms/step - loss: 0.3866 - accuracy: 0.8353 - recall: 0.8353 - val_loss: 0.3929 - val_accuracy: 0.8310 - val_recall: 0.8310\n",
      "Epoch 4/5\n",
      "197/197 [==============================] - 9s 45ms/step - loss: 0.3715 - accuracy: 0.8412 - recall: 0.8412 - val_loss: 0.4274 - val_accuracy: 0.8086 - val_recall: 0.8086\n",
      "Epoch 5/5\n",
      "197/197 [==============================] - 9s 45ms/step - loss: 0.3504 - accuracy: 0.8478 - recall: 0.8478 - val_loss: 0.3830 - val_accuracy: 0.8346 - val_recall: 0.8346\n",
      "========================================================================\n",
      "\t[i] MODEL HISTORY\n",
      "========================================================================\n"
     ]
    },
    {
     "data": {
      "image/png": "[encoded data removed]",
      "text/plain": [
       "<Figure size 576x288 with 1 Axes>"
      ]
     },
     "metadata": {
      "needs_background": "light"
     },
     "output_type": "display_data"
    },
    {
     "data": {
      "image/png": "[encoded data removed]",
      "text/plain": [
       "<Figure size 576x288 with 1 Axes>"
      ]
     },
     "metadata": {
      "needs_background": "light"
     },
     "output_type": "display_data"
    },
    {
     "data": {
      "image/png": "[encoded data removed]",
      "text/plain": [
       "<Figure size 576x288 with 1 Axes>"
      ]
     },
     "metadata": {
      "needs_background": "light"
     },
     "output_type": "display_data"
    },
    {
     "name": "stdout",
     "output_type": "stream",
     "text": [
      "========================================================================\n",
      "\t[i] EVALUATING MODEL\n",
      "========================================================================\n",
      "\n",
      "\tTraining loss: 0.352\n",
      "\tTraining accuracy: 0.850\n",
      "\tTraining recall: 0.850\n",
      "\n",
      "\tTest loss: 0.380\n",
      "\tTest accuracy: 0.836\n",
      "\tTest recall: 0.836\n",
      "\n",
      "\n",
      "========================================================================\n",
      "\t[i] CLASSIFICATION REPORT - TRAINING DATA\n",
      "========================================================================\n",
      "\n",
      "              precision    recall  f1-score   support\n",
      "\n",
      "           0       0.93      0.83      0.88     20902\n",
      "           1       0.73      0.88      0.80     10598\n",
      "\n",
      "    accuracy                           0.85     31500\n",
      "   macro avg       0.83      0.86      0.84     31500\n",
      "weighted avg       0.86      0.85      0.85     31500\n",
      "\n",
      "\n"
     ]
    },
    {
     "data": {
      "image/png": "[encoded data removed]",
      "text/plain": [
       "<Figure size 576x576 with 2 Axes>"
      ]
     },
     "metadata": {
      "needs_background": "light"
     },
     "output_type": "display_data"
    },
    {
     "name": "stdout",
     "output_type": "stream",
     "text": [
      "\n",
      "\n",
      "\n",
      "========================================================================\n",
      "\t[i] CLASSIFICATION REPORT - TEST DATA\n",
      "========================================================================\n",
      "\n",
      "              precision    recall  f1-score   support\n",
      "\n",
      "           0       0.92      0.82      0.87      9098\n",
      "           1       0.70      0.86      0.77      4402\n",
      "\n",
      "    accuracy                           0.84     13500\n",
      "   macro avg       0.81      0.84      0.82     13500\n",
      "weighted avg       0.85      0.84      0.84     13500\n",
      "\n",
      "\n"
     ]
    },
    {
     "data": {
      "image/png": "[encoded data removed]",
      "text/plain": [
       "<Figure size 576x576 with 2 Axes>"
      ]
     },
     "metadata": {
      "needs_background": "light"
     },
     "output_type": "display_data"
    }
   ],
   "source": [
    "## paste in our prior model function and fitting/eval code, but add callbacks\n",
    "\n",
    "## update our make_model_w2v func wth embedding layer\n",
    "def make_w2v_model():\n",
    "    \"\"\"Make a neural network with a new emebdding layer, \n",
    "    an LSTM layer with 25 unit, and a final Dense layer appropriate for the task\"\"\"\n",
    "    model = models.Sequential()\n",
    "    embedding_layer = layers.Embedding(vocab_size+1,EMBEDDING_SIZE,\n",
    "                                  weights=[embedding_matrix],\n",
    "                                  input_length=MAX_SEQUENCE_LENGTH,\n",
    "                                  trainable=False)\n",
    "    model.add(embedding_layer)\n",
    "    model.add(layers.LSTM(25, return_sequences=False))\n",
    "    model.add(layers.Dense(n_classes, activation='softmax'))\n",
    "    \n",
    "    model.compile(loss='categorical_crossentropy', optimizer='adam',\n",
    "                 metrics=['accuracy', tf.keras.metrics.Recall(name='recall')])\n",
    "    display(model.summary())\n",
    "    return model\n",
    "\n",
    "## make,fit model and evlaute\n",
    "model = make_w2v_model()\n",
    "history = model.fit(X_train_pad, y_train, epochs=5,\n",
    "                    batch_size=128, validation_split=0.2,\n",
    "                   workers=-1,class_weight=weights_dict,callbacks=[early_stop])\n",
    "evaluate_network(model,X_test_pad,y_test,history,\n",
    "                X_train = X_train_pad,y_train=y_train)"
   ]
  },
  {
   "cell_type": "markdown",
   "metadata": {},
   "source": [
    "# Gridsearching with Keras & Scikit-Learn"
   ]
  },
  {
   "cell_type": "markdown",
   "metadata": {},
   "source": [
    "## HyperParameter Tuning with GridSearchCV & Keras"
   ]
  },
  {
   "cell_type": "markdown",
   "metadata": {},
   "source": [
    "Original Source: https://chrisalbon.com/deep_learning/keras/tuning_neural_network_hyperparameters/\n",
    "<br><br>\n",
    "\n",
    "- To use `GridSearchCV` or other similar functions in scikit-learn with a Keras neural network, we need to wrap our keras model in `keras.wrappers.scikit_learn`'s `KerasClassifier` and `KerasRegressor`.\n",
    "\n",
    "1. To do this, we need to write a build function(`build_fn`) that creates our model such as `create_model`.\n",
    "    - This function must accept whatever parameters you wish to tune. \n",
    "    - It also must have a default argument for each parameter.\n",
    "    - This function must Return the model (and only the model)\n",
    "    \n",
    "<!-- \n",
    "```python\n",
    "\n",
    "## Define the build function\n",
    "def create_model(n_units=(50,25,7), activation='relu',final_activation='softmax',\n",
    "                optimizer='adam'):\n",
    "    \n",
    "    ## Pro tip:save the local variables now so you can print out the parameters used to create the model.\n",
    "    params_used = locals()\n",
    "    print('Parameters for model:\\n',params_used)\n",
    "    \n",
    "   \n",
    "    from keras.models import Sequential\n",
    "    from keras import layers\n",
    "    \n",
    "    model=Sequential()\n",
    "    model.add(layers.Dense(n_units[0], activation=activation, input_shape=(2000,)))\n",
    "    model.add(layers.Dense(n_units[1], activation=activation))\n",
    "    model.add(layers.Dense(n_units[2], activation=final_activation))\n",
    "    model.compile(optimizer=optimizer, loss='categorical_crossentropy',metrics=['accuracy'])\n",
    "    \n",
    "    display(model.summary())\n",
    "    return model \n",
    "```     -->\n",
    "\n",
    "2. We then create out model using the Keras wrapper:\n",
    "\n",
    "```python\n",
    "from tensorflow.keras.wrappers.scikit_learn import KerasClassifier\n",
    "neural_network =  KerasClassifier(build_fn=create_model,verbose=1)\n",
    "```\n",
    "\n",
    "3. Now, set up the hyperparameter space for grid search. (Remember, your `create_model` function must accept the parameter you want to tune)\n",
    "\n",
    "```python\n",
    "params_to_test = {'n_units':[(50,25,7),(100,50,7)],\n",
    "                  'optimizer':['adam','rmsprop','adadelta'],\n",
    "                  'activation':['linear','relu','tanh'],\n",
    "                  'final_activation':['softmax']}\n",
    "```\n",
    "\n",
    "4. Now instantiate your GridSearch function\n",
    "\n",
    "```python\n",
    "from sklearn.model_selection import GridSearchCV\n",
    "\n",
    "grid = GridSearchCV(estimator=neural_network,param_grid=params_to_test)\n",
    "grid_result = grid.fit(X_train, y_train)\n",
    "best_params = grid_result.best_params_\n",
    "```\n",
    "5. And thats it!"
   ]
  },
  {
   "cell_type": "code",
   "execution_count": 92,
   "metadata": {
    "ExecuteTime": {
     "end_time": "2021-06-08T17:31:41.153663Z",
     "start_time": "2021-06-08T17:31:41.151209Z"
    }
   },
   "outputs": [],
   "source": [
    "from tensorflow.keras.wrappers.scikit_learn import KerasClassifier\n",
    "from sklearn.model_selection import GridSearchCV"
   ]
  },
  {
   "cell_type": "code",
   "execution_count": 91,
   "metadata": {
    "ExecuteTime": {
     "end_time": "2021-06-08T17:31:28.523533Z",
     "start_time": "2021-06-08T17:31:28.519181Z"
    }
   },
   "outputs": [],
   "source": [
    "# make a new make_tune_model function to tune the # of units\n",
    "# and if embeddings are trainable\n",
    "def make_tune_model(n_units_lstm=25, trainable=False):\n",
    "    \"\"\"Make a neural network with a new emebdding layer, \n",
    "    an LSTM layer with 25 unit, and a final Dense layer appropriate for the task\"\"\"\n",
    "    model = models.Sequential()\n",
    "    embedding_layer = layers.Embedding(vocab_size+1,EMBEDDING_SIZE,\n",
    "                                  weights=[embedding_matrix],\n",
    "                                  input_length=MAX_SEQUENCE_LENGTH,\n",
    "                                  trainable=trainable)\n",
    "    model.add(embedding_layer)\n",
    "    model.add(layers.LSTM(n_units_lstm, return_sequences=False))\n",
    "    model.add(layers.Dense(n_classes, activation='softmax'))\n",
    "    \n",
    "    model.compile(loss='categorical_crossentropy', optimizer='adam',\n",
    "                 metrics=['accuracy', tf.keras.metrics.Recall(name='recall')])\n",
    "    display(model.summary())\n",
    "    return model\n"
   ]
  },
  {
   "cell_type": "code",
   "execution_count": 94,
   "metadata": {
    "ExecuteTime": {
     "end_time": "2021-06-08T17:32:08.743734Z",
     "start_time": "2021-06-08T17:32:08.741344Z"
    }
   },
   "outputs": [],
   "source": [
    "# ## make a model with sklearn wrapper\n",
    "# wrapped_model = KerasClassifier(make_tune_model)\n",
    "# wrapped_model.fit(X_train_pad,y_train, \n",
    "#                   epochs=3, validation_split=0.2)"
   ]
  },
  {
   "cell_type": "code",
   "execution_count": 95,
   "metadata": {
    "ExecuteTime": {
     "end_time": "2021-06-08T17:32:22.103429Z",
     "start_time": "2021-06-08T17:32:22.099936Z"
    }
   },
   "outputs": [],
   "source": [
    "## make anew early stopping with shorter patience, do not restore best weights\n",
    "early_stop = EarlyStopping(monitor='val_accuracy',patience=0,verbose=1,\n",
    "                          restore_best_weights=False)"
   ]
  },
  {
   "cell_type": "code",
   "execution_count": 98,
   "metadata": {
    "ExecuteTime": {
     "end_time": "2021-06-08T17:37:51.491456Z",
     "start_time": "2021-06-08T17:33:13.666800Z"
    }
   },
   "outputs": [
    {
     "name": "stdout",
     "output_type": "stream",
     "text": [
      "Fitting 2 folds for each of 4 candidates, totalling 8 fits\n"
     ]
    },
    {
     "name": "stderr",
     "output_type": "stream",
     "text": [
      "[Parallel(n_jobs=-1)]: Using backend LokyBackend with 12 concurrent workers.\n",
      "[Parallel(n_jobs=-1)]: Done   3 out of   8 | elapsed:   10.5s remaining:   17.5s\n",
      "[Parallel(n_jobs=-1)]: Done   8 out of   8 | elapsed:   10.5s finished\n"
     ]
    },
    {
     "name": "stdout",
     "output_type": "stream",
     "text": [
      "Model: \"sequential_10\"\n",
      "_________________________________________________________________\n",
      "Layer (type)                 Output Shape              Param #   \n",
      "=================================================================\n",
      "embedding_12 (Embedding)     (None, 100, 50)           5013900   \n",
      "_________________________________________________________________\n",
      "lstm_10 (LSTM)               (None, 25)                7600      \n",
      "_________________________________________________________________\n",
      "dense_10 (Dense)             (None, 2)                 52        \n",
      "=================================================================\n",
      "Total params: 5,021,552\n",
      "Trainable params: 5,021,552\n",
      "Non-trainable params: 0\n",
      "_________________________________________________________________\n"
     ]
    },
    {
     "data": {
      "text/plain": [
       "None"
      ]
     },
     "metadata": {},
     "output_type": "display_data"
    },
    {
     "name": "stdout",
     "output_type": "stream",
     "text": [
      "Epoch 1/3\n",
      "788/788 [==============================] - 81s 97ms/step - loss: 0.5023 - accuracy: 0.7508 - recall: 0.7508 - val_loss: 0.3913 - val_accuracy: 0.8268 - val_recall: 0.8268\n",
      "Epoch 2/3\n",
      "788/788 [==============================] - 91s 116ms/step - loss: 0.3369 - accuracy: 0.8619 - recall: 0.8619 - val_loss: 0.3685 - val_accuracy: 0.8363 - val_recall: 0.8363\n",
      "Epoch 3/3\n",
      "788/788 [==============================] - 94s 119ms/step - loss: 0.2771 - accuracy: 0.8889 - recall: 0.8889 - val_loss: 0.3547 - val_accuracy: 0.8527 - val_recall: 0.8527\n"
     ]
    },
    {
     "data": {
      "text/plain": [
       "{'n_units_lstm': 25, 'trainable': True}"
      ]
     },
     "execution_count": 98,
     "metadata": {},
     "output_type": "execute_result"
    }
   ],
   "source": [
    "## Set up params grid for 25,509 units and trianable true/false\n",
    "\n",
    "## Set up params grid for 25,509 units and trianable true/false\n",
    "params = {'n_units_lstm':[25,50],\n",
    "         'trainable':[True,False]}\n",
    "\n",
    "\n",
    "## Make and fit grid, check best params\n",
    "grid = GridSearchCV(KerasClassifier(make_tune_model), \n",
    "                    params,cv=2,n_jobs=-1,verbose=1)\n",
    "\n",
    "grid.fit(X_train_pad,y_train, epochs=3, \n",
    "         callbacks=[early_stop],\n",
    "         validation_split=0.2)\n",
    "\n",
    "grid.best_params_"
   ]
  },
  {
   "cell_type": "code",
   "execution_count": null,
   "metadata": {
    "ExecuteTime": {
     "end_time": "2021-06-08T17:48:42.493171Z",
     "start_time": "2021-06-08T17:45:21.996168Z"
    }
   },
   "outputs": [],
   "source": [
    "## whats the best score?\n",
    "best_ann = grid.best_estimator_\n",
    "history = best_ann.fit(X_train_pad,y_train, epochs=3, \n",
    "         callbacks=[early_stop],\n",
    "         validation_split=0.2)"
   ]
  },
  {
   "cell_type": "code",
   "execution_count": 102,
   "metadata": {
    "ExecuteTime": {
     "end_time": "2021-06-08T17:49:07.272805Z",
     "start_time": "2021-06-08T17:49:07.268810Z"
    }
   },
   "outputs": [
    {
     "data": {
      "text/plain": [
       "<tensorflow.python.keras.engine.sequential.Sequential at 0x7f91d3b76df0>"
      ]
     },
     "execution_count": 102,
     "metadata": {},
     "output_type": "execute_result"
    }
   ],
   "source": [
    "best_ann.model"
   ]
  },
  {
   "cell_type": "code",
   "execution_count": 103,
   "metadata": {
    "ExecuteTime": {
     "end_time": "2021-06-08T17:49:35.705430Z",
     "start_time": "2021-06-08T17:49:12.344251Z"
    },
    "scrolled": false
   },
   "outputs": [
    {
     "name": "stdout",
     "output_type": "stream",
     "text": [
      "========================================================================\n",
      "\t[i] MODEL HISTORY\n",
      "========================================================================\n"
     ]
    },
    {
     "data": {
      "image/png": "[encoded data removed]",
      "text/plain": [
       "<Figure size 576x288 with 1 Axes>"
      ]
     },
     "metadata": {
      "needs_background": "light"
     },
     "output_type": "display_data"
    },
    {
     "data": {
      "image/png": "[encoded data removed]",
      "text/plain": [
       "<Figure size 576x288 with 1 Axes>"
      ]
     },
     "metadata": {
      "needs_background": "light"
     },
     "output_type": "display_data"
    },
    {
     "data": {
      "image/png": "[encoded data removed]",
      "text/plain": [
       "<Figure size 576x288 with 1 Axes>"
      ]
     },
     "metadata": {
      "needs_background": "light"
     },
     "output_type": "display_data"
    },
    {
     "name": "stdout",
     "output_type": "stream",
     "text": [
      "========================================================================\n",
      "\t[i] EVALUATING MODEL\n",
      "========================================================================\n",
      "\n",
      "\tTraining loss: 0.251\n",
      "\tTraining accuracy: 0.903\n",
      "\tTraining recall: 0.903\n",
      "\n",
      "\tTest loss: 0.344\n",
      "\tTest accuracy: 0.854\n",
      "\tTest recall: 0.854\n",
      "\n",
      "\n",
      "========================================================================\n",
      "\t[i] CLASSIFICATION REPORT - TRAINING DATA\n",
      "========================================================================\n",
      "\n",
      "              precision    recall  f1-score   support\n",
      "\n",
      "           0       0.91      0.95      0.93     20902\n",
      "           1       0.89      0.81      0.85     10598\n",
      "\n",
      "    accuracy                           0.90     31500\n",
      "   macro avg       0.90      0.88      0.89     31500\n",
      "weighted avg       0.90      0.90      0.90     31500\n",
      "\n",
      "\n"
     ]
    },
    {
     "data": {
      "image/png": "[encoded data removed]",
      "text/plain": [
       "<Figure size 576x576 with 2 Axes>"
      ]
     },
     "metadata": {
      "needs_background": "light"
     },
     "output_type": "display_data"
    },
    {
     "name": "stdout",
     "output_type": "stream",
     "text": [
      "\n",
      "\n",
      "\n",
      "========================================================================\n",
      "\t[i] CLASSIFICATION REPORT - TEST DATA\n",
      "========================================================================\n",
      "\n",
      "              precision    recall  f1-score   support\n",
      "\n",
      "           0       0.87      0.92      0.89      9098\n",
      "           1       0.81      0.72      0.76      4402\n",
      "\n",
      "    accuracy                           0.85     13500\n",
      "   macro avg       0.84      0.82      0.83     13500\n",
      "weighted avg       0.85      0.85      0.85     13500\n",
      "\n",
      "\n"
     ]
    },
    {
     "data": {
      "image/png": "[encoded data removed]",
      "text/plain": [
       "<Figure size 576x576 with 2 Axes>"
      ]
     },
     "metadata": {
      "needs_background": "light"
     },
     "output_type": "display_data"
    }
   ],
   "source": [
    "evaluate_network(best_ann.model,X_test_pad,y_test,history=history,\n",
    "                 X_train=X_train_pad,y_train = y_train)"
   ]
  },
  {
   "cell_type": "code",
   "execution_count": null,
   "metadata": {
    "ExecuteTime": {
     "end_time": "2021-06-08T15:32:31.233714Z",
     "start_time": "2021-06-08T15:27:33.823Z"
    }
   },
   "outputs": [],
   "source": [
    "raise Exception('The following cells are not guaranteed to run!')"
   ]
  },
  {
   "cell_type": "markdown",
   "metadata": {},
   "source": [
    "# APPENDIX"
   ]
  },
  {
   "cell_type": "markdown",
   "metadata": {},
   "source": [
    "## Tensorboard Callback\n",
    "- https://www.tensorflow.org/tensorboard/tensorboard_in_notebooks"
   ]
  },
  {
   "cell_type": "markdown",
   "metadata": {},
   "source": [
    "> Add tensorboard callback"
   ]
  },
  {
   "cell_type": "code",
   "execution_count": null,
   "metadata": {
    "ExecuteTime": {
     "end_time": "2021-06-08T15:32:31.235923Z",
     "start_time": "2021-06-08T15:27:33.828Z"
    }
   },
   "outputs": [],
   "source": [
    "%load_ext tensorboard\n",
    "logdir = './logs/'\n",
    "os.makedirs(logdir,exist_ok=True)\n",
    "tensorboard_callback = tf.keras.callbacks.TensorBoard(logdir, histogram_freq=1)\n"
   ]
  },
  {
   "cell_type": "code",
   "execution_count": null,
   "metadata": {
    "ExecuteTime": {
     "end_time": "2021-06-08T15:32:31.238603Z",
     "start_time": "2021-06-08T15:27:33.833Z"
    },
    "scrolled": false
   },
   "outputs": [],
   "source": [
    "## Test using function to train and evaluate\n",
    "model = make_model()\n",
    "history = model.fit(X_train_pad, y_train, epochs=3,\n",
    "                    batch_size=64, validation_split=0.2,\n",
    "                   workers=-1,callbacks=[tensorboard_callback])\n",
    "evaluate_network(model,X_test_pad,y_test,history,\n",
    "                X_train = X_train_pad,y_train=y_train)"
   ]
  },
  {
   "cell_type": "code",
   "execution_count": null,
   "metadata": {
    "ExecuteTime": {
     "end_time": "2021-06-08T15:32:31.240933Z",
     "start_time": "2021-06-08T15:27:33.837Z"
    }
   },
   "outputs": [],
   "source": [
    "# %tensorboard --logdir logs"
   ]
  },
  {
   "cell_type": "markdown",
   "metadata": {
    "ExecuteTime": {
     "end_time": "2020-02-17T00:18:01.708621Z",
     "start_time": "2020-02-17T00:18:00.772373Z"
    }
   },
   "source": [
    "## LSTM vs GRU"
   ]
  },
  {
   "cell_type": "code",
   "execution_count": null,
   "metadata": {
    "ExecuteTime": {
     "end_time": "2021-06-08T15:32:31.242995Z",
     "start_time": "2021-06-08T15:27:33.842Z"
    }
   },
   "outputs": [],
   "source": [
    "## GRU Model\n",
    "from keras import models, layers, optimizers, regularizers\n",
    "modelG = models.Sequential()\n",
    "\n",
    "## Get and add embedding_layer\n",
    "# embedding_layer = ji.make_keras_embedding_layer(wv, X_train)\n",
    "modelG.add(Embedding(MAX_WORDS, EMBEDDING_SIZE))\n",
    "\n",
    "# modelG.add(layers.SpatialDropout1D(0.5))\n",
    "# modelG.add(layers.Bidirectional(layers.GRU(units=100, dropout=0.5, recurrent_dropout=0.2,return_sequences=True)))\n",
    "modelG.add(layers.Bidirectional(layers.GRU(units=100, dropout=0.5, recurrent_dropout=0.2)))\n",
    "modelG.add(layers.Dense(2, activation='softmax'))\n",
    "\n",
    "modelG.compile(loss='categorical_crossentropy',optimizer=\"adam\",metrics=['acc'])#,'val_acc'])#, callbacks=callbacks)\n",
    "modelG.summary()"
   ]
  },
  {
   "cell_type": "code",
   "execution_count": null,
   "metadata": {
    "ExecuteTime": {
     "end_time": "2021-06-08T15:32:31.245008Z",
     "start_time": "2021-06-08T15:27:33.846Z"
    }
   },
   "outputs": [],
   "source": [
    "\n",
    "history = modelG.fit(X_train, y_train, epochs=10, batch_size=32, validation_split=0.2)\n",
    "\n",
    "y_hat_test = modelG.predict_classes(X_test)\n",
    "kg.evaluate_model(y_test,y_hat_test,history)"
   ]
  },
  {
   "cell_type": "markdown",
   "metadata": {},
   "source": [
    "## Using Pre-Trained Vectors"
   ]
  },
  {
   "cell_type": "code",
   "execution_count": null,
   "metadata": {
    "ExecuteTime": {
     "end_time": "2021-06-08T15:32:31.247707Z",
     "start_time": "2021-06-08T15:27:33.851Z"
    }
   },
   "outputs": [],
   "source": [
    "import os\n",
    "folder = '/Users/jamesirving/Datasets/'#glove.twitter.27B/'\n",
    "# print(os.listdir(folder))\n",
    "glove_file = folder+'glove.6B/glove.6B.50d.txt'#'glove.twitter.27B.50d.txt'\n",
    "glove_twitter_file = folder+'glove.twitter.27B/glove.twitter.27B.50d.txt'\n",
    "print(glove_file)\n",
    "print(glove_twitter_file)"
   ]
  },
  {
   "cell_type": "markdown",
   "metadata": {},
   "source": [
    "#### Keeping only the vectors needed"
   ]
  },
  {
   "cell_type": "code",
   "execution_count": null,
   "metadata": {
    "ExecuteTime": {
     "end_time": "2021-06-08T15:32:31.250269Z",
     "start_time": "2021-06-08T15:27:33.856Z"
    }
   },
   "outputs": [],
   "source": [
    "# ## This line of code for getting all words bugs me\n",
    "# total_vocabulary = set(word for tweet in data_lower for word in tweet)\n",
    "# len(total_vocabulary)"
   ]
  },
  {
   "cell_type": "code",
   "execution_count": null,
   "metadata": {
    "ExecuteTime": {
     "end_time": "2021-06-08T15:32:31.252282Z",
     "start_time": "2021-06-08T15:27:33.860Z"
    },
    "code_folding": []
   },
   "outputs": [],
   "source": [
    "# glove = {}\n",
    "# with open(glove_file,'rb') as f:#'glove.6B.50d.txt', 'rb') as f:\n",
    "#     for line in f:\n",
    "#         parts = line.split()\n",
    "#         word = parts[0].decode('utf-8')\n",
    "#         if word in total_vocabulary:\n",
    "#             vector = np.array(parts[1:], dtype=np.float32)\n",
    "#             glove[word] = vector"
   ]
  },
  {
   "cell_type": "code",
   "execution_count": null,
   "metadata": {
    "ExecuteTime": {
     "end_time": "2021-06-08T15:32:31.254186Z",
     "start_time": "2021-06-08T15:27:33.864Z"
    }
   },
   "outputs": [],
   "source": [
    "# glove['republican']"
   ]
  },
  {
   "cell_type": "markdown",
   "metadata": {},
   "source": [
    "### Converting Glove to Word2Vec format"
   ]
  },
  {
   "cell_type": "markdown",
   "metadata": {},
   "source": [
    "- Getting glove into w2vec format:\n",
    "    - https://radimrehurek.com/gensim/scripts/glove2word2vec.html"
   ]
  },
  {
   "cell_type": "code",
   "execution_count": null,
   "metadata": {
    "ExecuteTime": {
     "end_time": "2021-06-08T15:32:31.256277Z",
     "start_time": "2021-06-08T15:27:33.870Z"
    }
   },
   "outputs": [],
   "source": [
    "glove_folder = folder+'glove.twitter.27B'\n",
    "os.listdir(glove_folder)"
   ]
  },
  {
   "cell_type": "code",
   "execution_count": null,
   "metadata": {
    "ExecuteTime": {
     "end_time": "2021-06-08T15:32:31.258512Z",
     "start_time": "2021-06-08T15:27:33.874Z"
    }
   },
   "outputs": [],
   "source": [
    "from gensim.test.utils import datapath, get_tmpfile\n",
    "from gensim.models import KeyedVectors\n",
    "from gensim.scripts.glove2word2vec import glove2word2vec\n",
    "\n",
    "glove_file = datapath(glove_twitter_file)\n",
    "tmp_file = get_tmpfile(glove_folder+'glove_to_w2vec.txt')\n",
    "_ = glove2word2vec(glove_file, tmp_file)\n",
    "model_glove = KeyedVectors.load_word2vec_format(tmp_file)"
   ]
  },
  {
   "cell_type": "code",
   "execution_count": null,
   "metadata": {
    "ExecuteTime": {
     "end_time": "2021-06-08T15:32:31.260982Z",
     "start_time": "2021-06-08T15:27:33.879Z"
    }
   },
   "outputs": [],
   "source": [
    "model_glove.wv"
   ]
  },
  {
   "cell_type": "markdown",
   "metadata": {},
   "source": [
    "## Using Embeddings in Classification Models - sci-kit learn"
   ]
  },
  {
   "cell_type": "markdown",
   "metadata": {},
   "source": [
    "- Embeddings can be used in Artificial Neural Networks as an input Embedding Layer\n",
    "- Embeddings can be used in sci-kit learn models by taking the mean vector of a text/document and using the mean vector as the input into the model. "
   ]
  },
  {
   "cell_type": "markdown",
   "metadata": {},
   "source": [
    "### Creating Mean Embeddings"
   ]
  },
  {
   "cell_type": "code",
   "execution_count": null,
   "metadata": {
    "ExecuteTime": {
     "end_time": "2021-06-08T15:32:31.262738Z",
     "start_time": "2021-06-08T15:27:33.886Z"
    }
   },
   "outputs": [],
   "source": [
    "## This line of code for getting all words bugs me\n",
    "total_vocabulary = set(word for tweet in data_lower for word in tweet)\n",
    "len(total_vocabulary)"
   ]
  },
  {
   "cell_type": "code",
   "execution_count": null,
   "metadata": {
    "ExecuteTime": {
     "end_time": "2021-06-08T15:32:31.264529Z",
     "start_time": "2021-06-08T15:27:33.890Z"
    },
    "code_folding": []
   },
   "outputs": [],
   "source": [
    "glove = {}\n",
    "with open(glove_file,'rb') as f:#'glove.6B.50d.txt', 'rb') as f:\n",
    "    for line in f:\n",
    "        parts = line.split()\n",
    "        word = parts[0].decode('utf-8')\n",
    "        if word in total_vocabulary:\n",
    "            vector = np.array(parts[1:], dtype=np.float32)\n",
    "            glove[word] = vector"
   ]
  },
  {
   "cell_type": "code",
   "execution_count": null,
   "metadata": {
    "ExecuteTime": {
     "end_time": "2021-06-08T15:32:31.266202Z",
     "start_time": "2021-06-08T15:27:33.894Z"
    }
   },
   "outputs": [],
   "source": [
    "from sklearn.model_selection import train_test_split\n",
    "from nltk import word_tokenize\n",
    "\n",
    "y = pd.get_dummies(df['is_trump'],drop_first=True).values\n",
    "X = df['text'].str.lower().map(word_tokenize)\n",
    "\n",
    "X_idx = list(range(len(X)))\n",
    "train_idx,test_idx = train_test_split(X_idx,random_state=123)\n",
    "\n",
    "X[train_idx]"
   ]
  },
  {
   "cell_type": "code",
   "execution_count": null,
   "metadata": {
    "ExecuteTime": {
     "end_time": "2021-06-08T15:32:31.268347Z",
     "start_time": "2021-06-08T15:27:33.898Z"
    }
   },
   "outputs": [],
   "source": [
    "def train_test_split_idx(X, y, train_idx,test_idx):\n",
    "    # try count vectorized first\n",
    "    X_train = X[train_idx].copy()\n",
    "    y_train = y[train_idx].copy()\n",
    "    X_test = X[train_idx].copy()\n",
    "    y_test = y[train_idx].copy()\n",
    "    return X_train, X_test,y_train, y_test\n",
    "\n",
    "X_train, X_test,y_train, y_test = train_test_split_idx(X,y,train_idx,test_idx)"
   ]
  },
  {
   "cell_type": "code",
   "execution_count": null,
   "metadata": {
    "ExecuteTime": {
     "end_time": "2021-06-08T15:32:31.270707Z",
     "start_time": "2021-06-08T15:27:33.901Z"
    }
   },
   "outputs": [],
   "source": [
    "# df['combined_text'] = df['headline'] + ' ' + df['short_description']\n",
    "# data = df['combined_text'].map(word_tokenize).values"
   ]
  },
  {
   "cell_type": "code",
   "execution_count": null,
   "metadata": {
    "ExecuteTime": {
     "end_time": "2021-06-08T15:32:31.272800Z",
     "start_time": "2021-06-08T15:27:33.906Z"
    }
   },
   "outputs": [],
   "source": [
    "class W2vVectorizer(object):\n",
    "    \n",
    "    def __init__(self, w2v):\n",
    "        # Takes in a dictionary of words and vectors as input\n",
    "        self.w2v = w2v\n",
    "        if len(w2v) == 0:\n",
    "            self.dimensions = 0\n",
    "        else:\n",
    "            self.dimensions = len(w2v[next(iter(glove))])\n",
    "    \n",
    "    # Note: Even though it doesn't do anything, it's required that this object implement a fit method or else\n",
    "    # it can't be used in a scikit-learn pipeline  \n",
    "    def fit(self, X, y):\n",
    "        return self\n",
    "            \n",
    "    def transform(self, X):\n",
    "        return np.array([\n",
    "            np.mean([self.w2v[w] for w in words if w in self.w2v]\n",
    "                   or [np.zeros(self.dimensions)], axis=0) for words in X])"
   ]
  },
  {
   "cell_type": "markdown",
   "metadata": {},
   "source": [
    "## NLP Task Option 2"
   ]
  },
  {
   "cell_type": "markdown",
   "metadata": {},
   "source": [
    "2. Coronavirus Tweet Sentiment https://www.kaggle.com/datatattle/covid-19-nlp-text-classification"
   ]
  },
  {
   "cell_type": "code",
   "execution_count": null,
   "metadata": {
    "ExecuteTime": {
     "end_time": "2021-06-08T15:32:31.222926Z",
     "start_time": "2021-06-08T15:27:33.802Z"
    }
   },
   "outputs": [],
   "source": [
    "# os.listdir(\"/Users/jamesirving/Downloads/archive (1)/\")"
   ]
  },
  {
   "cell_type": "code",
   "execution_count": null,
   "metadata": {
    "ExecuteTime": {
     "end_time": "2021-06-08T15:32:31.225204Z",
     "start_time": "2021-06-08T15:27:33.806Z"
    }
   },
   "outputs": [],
   "source": [
    "# ### Saving smaller gz file\n",
    "# corona_df = pd.read_csv('/Users/jamesirving/Downloads/archive (1)/Corona_NLP_train.csv',\n",
    "#                        encoding='latin-1')\n",
    "# corona_df"
   ]
  },
  {
   "cell_type": "code",
   "execution_count": null,
   "metadata": {
    "ExecuteTime": {
     "end_time": "2021-06-08T15:32:31.227643Z",
     "start_time": "2021-06-08T15:27:33.810Z"
    }
   },
   "outputs": [],
   "source": [
    "# os.makedirs('./data/',exist_ok=True)\n",
    "# corona_df.to_csv('data/cornavirus_tweets.csv.gz',compression='gzip',index=False)"
   ]
  },
  {
   "cell_type": "code",
   "execution_count": null,
   "metadata": {
    "ExecuteTime": {
     "end_time": "2021-06-08T15:32:31.229716Z",
     "start_time": "2021-06-08T15:27:33.813Z"
    }
   },
   "outputs": [],
   "source": [
    "# corona_df = pd.read_csv('data/cornavirus_tweets.csv.gz',\n",
    "#                        encoding='latin-1')\n",
    "# corona_df"
   ]
  },
  {
   "cell_type": "code",
   "execution_count": null,
   "metadata": {
    "ExecuteTime": {
     "end_time": "2021-06-08T15:32:31.231758Z",
     "start_time": "2021-06-08T15:27:33.818Z"
    }
   },
   "outputs": [],
   "source": [
    "# corona_df['Sentiment'].value_counts(1)"
   ]
  }
 ],
 "metadata": {
  "kernelspec": {
   "display_name": "learn-env-new",
   "language": "python",
   "name": "learn-env-new"
  },
  "language_info": {
   "codemirror_mode": {
    "name": "ipython",
    "version": 3
   },
   "file_extension": ".py",
   "mimetype": "text/x-python",
   "name": "python",
   "nbconvert_exporter": "python",
   "pygments_lexer": "ipython3",
   "version": "3.8.5"
  },
  "toc": {
   "base_numbering": 1,
   "nav_menu": {},
   "number_sections": false,
   "sideBar": true,
   "skip_h1_title": false,
   "title_cell": "Table of Contents",
   "title_sidebar": "Contents",
   "toc_cell": false,
   "toc_position": {
    "height": "508px",
    "left": "869.328px",
    "top": "273px",
    "width": "166.424px"
   },
   "toc_section_display": true,
   "toc_window_display": true
  }
 },
 "nbformat": 4,
 "nbformat_minor": 2
}
