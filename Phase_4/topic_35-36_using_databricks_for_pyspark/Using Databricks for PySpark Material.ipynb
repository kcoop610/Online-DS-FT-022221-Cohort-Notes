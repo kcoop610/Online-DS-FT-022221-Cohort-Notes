{
 "cells": [
  {
   "cell_type": "markdown",
   "metadata": {},
   "source": [
    "# How to Use Databricks for PySpark Canvas Material"
   ]
  },
  {
   "cell_type": "markdown",
   "metadata": {},
   "source": [
    "- 06/10/21"
   ]
  },
  {
   "cell_type": "markdown",
   "metadata": {},
   "source": [
    "## Overview"
   ]
  },
  {
   "cell_type": "markdown",
   "metadata": {},
   "source": [
    "- All of Topic 35 and the last lab in Topic 36 use PySpark. \n",
    "\n",
    "\n",
    "- PySpark is mean to run in the cloud and cannot run natively on your local machine without virtualization software, such as Docker. \n",
    "\n",
    "\n",
    "\n",
    "- Since there is currently a problem with the official Docker pyspark container, you should use the **DataBricks platform used in the Central Lecturer Recording**\n"
   ]
  },
  {
   "cell_type": "markdown",
   "metadata": {},
   "source": [
    "## How to Use DataBricks"
   ]
  },
  {
   "cell_type": "markdown",
   "metadata": {},
   "source": [
    "1. Create a DataBricks account: \n",
    "    - [Create a Free Trial Account](https://databricks.com/try-databricks)\n",
    "    - [Use the Community Edition Login Page](https://community.cloud.databricks.com/login.html)\n",
    "\n",
    "\n",
    "\n",
    "2. Log into The Community Edition homepage at https://community.cloud.databricks.com/\n",
    "    - Consider Checking Out the QuickStart Tutorial\n",
    "    - Create and start a PySpark cluster.\n",
    "        - I used `8.3 ML (includes Apache Spark 3.1.1, Scala 2.12)`\n",
    "\n",
    "\n",
    "3. Fork the lab to work on and click on the index.ipynb on GitHUb.com to get the link for the notebook. \n",
    "    - [Demo Lab - Topic 35: Machine Lerning with Spark Lab](https://github.com/learn-co-curriculum/dsc-machine-learning-with-spark-lab)\n",
    "\n",
    "\n",
    "\n",
    "4. Import the Jupyter notebook:\n",
    "    - https://docs.databricks.com/notebooks/notebooks-manage.html#import-a-notebook\n",
    "\n",
    "    \n",
    "5. Download the datasets (if any) from GitHub.com to your local machine (can clone or simply download from G.H.).\n",
    "\n",
    "\n",
    "4. Manually upload the data to DataBricks\n",
    "    - https://docs.databricks.com/data/data.html#import-data-1\n",
    "    \n",
    "    \n",
    "5. Attach the lab's notebook to your cluster.\n",
    "\n",
    "6. You're good to go! You should be able to run the labs without issue."
   ]
  },
  {
   "cell_type": "code",
   "execution_count": null,
   "metadata": {},
   "outputs": [],
   "source": []
  }
 ],
 "metadata": {
  "kernelspec": {
   "display_name": "learn-env-new",
   "language": "python",
   "name": "learn-env-new"
  },
  "language_info": {
   "codemirror_mode": {
    "name": "ipython",
    "version": 3
   },
   "file_extension": ".py",
   "mimetype": "text/x-python",
   "name": "python",
   "nbconvert_exporter": "python",
   "pygments_lexer": "ipython3",
   "version": "3.8.5"
  },
  "toc": {
   "base_numbering": 1,
   "nav_menu": {},
   "number_sections": true,
   "sideBar": true,
   "skip_h1_title": false,
   "title_cell": "Table of Contents",
   "title_sidebar": "Contents",
   "toc_cell": false,
   "toc_position": {},
   "toc_section_display": true,
   "toc_window_display": false
  }
 },
 "nbformat": 4,
 "nbformat_minor": 4
}
