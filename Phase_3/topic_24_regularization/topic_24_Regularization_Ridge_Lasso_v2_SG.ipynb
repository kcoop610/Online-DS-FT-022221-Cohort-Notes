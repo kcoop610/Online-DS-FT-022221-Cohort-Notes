{
 "cells": [
  {
   "cell_type": "markdown",
   "metadata": {},
   "source": [
    "# Topic 24: Feature Selection & Regularization (Ridge and Lasso Regression)"
   ]
  },
  {
   "cell_type": "markdown",
   "metadata": {},
   "source": [
    "- onl01-dtsc-ft-022221\n",
    "- 05/05/21"
   ]
  },
  {
   "cell_type": "markdown",
   "metadata": {},
   "source": [
    "## Questions"
   ]
  },
  {
   "cell_type": "markdown",
   "metadata": {},
   "source": [
    "- Conceptually, what is fit_transform doing? Is it fitting a line to the data points? Then is transform examining the error between the fitted line and the actual data points? \n",
    "- What are the differences between “MinMaxScaler”, “scale” and “StandardScaler” and what are their use cases?\n",
    "- When using lasso.score( ) is it running a linear regression analysis behind the scenes?\n",
    "- At what point on the train/test cost curve would optimal alpha represent? The minimum?\n"
   ]
  },
  {
   "cell_type": "markdown",
   "metadata": {},
   "source": [
    "## Objectives"
   ]
  },
  {
   "cell_type": "markdown",
   "metadata": {},
   "source": [
    "**DISCUSSION:**\n",
    "- Discuss Regularization Techniques\n",
    "    - Ridge Regression (L2 normalization)\n",
    "    - Lasso Regression (L1 normalization)\n",
    "- **Activity: Practice turning repetitive and rigid code into flexible/reusable code.**\n",
    "\n",
    "- Discuss using AIC/BIC \n",
    "\n",
    "- **Activity: Modeling the Phase 2 Project Data Set with regularization and proper train-test-split/model validation.**\n",
    "\n",
    "- Compare Feature Selection methods (If there's time)\n",
    "    - Will revisit during project week.\n",
    "\n",
    "\n",
    "\n"
   ]
  },
  {
   "cell_type": "markdown",
   "metadata": {},
   "source": [
    "# Addressing Overfit Models with Regularization"
   ]
  },
  {
   "cell_type": "markdown",
   "metadata": {},
   "source": [
    "## Regularization techniques"
   ]
  },
  {
   "cell_type": "markdown",
   "metadata": {},
   "source": [
    "- We can apply \"regularization techniques\" to prevent out models from being overly dominated by a small number of features that leads to overfitting. \n",
    "    - \"Regularization: is a general term used when one tries to battle overfitting.\n",
    "    -  Lasso and Ridge are two commonly used so-called **regularization techniques**. \n",
    "\n",
    "\n",
    "- There are multiple advantages to using these methods:\n",
    "    - They reduce model complexity\n",
    "    - The may prevent from overfitting\n",
    "    - Some of them may perform feature selection at the same time (when coefficients are set to 0)\n",
    "    - They can be used to counter multicollinearity"
   ]
  },
  {
   "cell_type": "markdown",
   "metadata": {},
   "source": [
    "# Penalized Estimation"
   ]
  },
  {
   "cell_type": "markdown",
   "metadata": {},
   "source": [
    "> ***You've seen that when the number of predictors increases, your model complexity increases, with a higher chance of overfitting as a result.***  \n",
    "We can reduce the values of the coefficients to make them less sensitive to noise in the data. \n",
    "\n",
    "> This is called **penalized estimation**.\n",
    "\n",
    "> - **Ridge and Lasso regression** are two examples of penalized estimation.\n",
    "    - They both use a similar technique of adding an additional element to the cost function calculation. \n",
    "    - The difference between ridge and lasso is based on the term that they add to the cost function. "
   ]
  },
  {
   "cell_type": "markdown",
   "metadata": {},
   "source": [
    "## Linear Regression Cost Function Previously Used (RSS)"
   ]
  },
  {
   "cell_type": "markdown",
   "metadata": {},
   "source": [
    "- #### For a single predictor (X)\n",
    "$$ \\large \\text{cost_function}= \\sum_{i=1}^n(y_i - \\hat{y})^2 = \\sum_{i=1}^n(y_i - (mx_i + b))^2$$\n"
   ]
  },
  {
   "cell_type": "markdown",
   "metadata": {},
   "source": [
    "- ####  multiple predictors, the equation becomes:\n",
    "$$ \\large \\text{cost_function}= \\sum_{i=1}^n(y_i - \\hat{y})^2 = \\sum_{i=1}^n(y_i - \\sum_{j=1}^k(m_jx_{ij} ) -b )^2$$\n",
    "- where $k$ is the number of predictors\n",
    "- and $j$ is each individual predictor."
   ]
  },
  {
   "cell_type": "markdown",
   "metadata": {},
   "source": [
    "## Ridge Regression - L2 Norm Regularization"
   ]
  },
  {
   "cell_type": "markdown",
   "metadata": {},
   "source": [
    "Define a penalty ***hyperparameter*** $\\lambda$ for extra terms (large $m$)"
   ]
  },
  {
   "cell_type": "markdown",
   "metadata": {},
   "source": [
    "- **Error term added to cost function** \n",
    "    - $\\large ...  +   \\lambda \\sum_{i=1}^n m_i^2$\n",
    "    - Notice that  $m_i^2$ is squared, hence \"L***2*** norm regularization\"\n",
    "    \n",
    "    "
   ]
  },
  {
   "cell_type": "markdown",
   "metadata": {},
   "source": [
    "<!-- $$ =\\sum_{i=1}^n(y_i - \\hat{y})^2= \\sum_{i=1}^n(y_i - \\sum_{j=1}^k(m_jx_{ij} + b))^2 + \\lambda \\sum_{i=1}^n m_i^2$$/-->\n",
    "\n",
    "$$\\large J_{\\text{ridge}}=\\sum_{i=1}^n(y_i - \\hat{y})^2 = \\sum_{i=1}^n(y_i - \\sum_{j=1}^k(m_jx_{ij})-b)^2 + \\lambda \\sum_{j=1}^p m_j^2$$\n",
    "\n",
    "- **By adding the penalty term $\\lambda$, ridge regression puts a constraint on the coefficients $m$.**\n",
    "- Therefore, large coefficients will penalize the optimization function. \n",
    "    - This shrinks the coefficients and helps to reduce model complexity and multicollinearity."
   ]
  },
  {
   "cell_type": "markdown",
   "metadata": {},
   "source": [
    "- With two predictors there is a penalty term m for each predictor.\n",
    "$$\\large J_\\text{ridge}= \\sum_{i=1}^n(y_i - \\hat{y})^2 = $$\n",
    "\n",
    "$$\\large  \\sum_{i=1}^n(y_i - ((m_1x_{1i})-b)^2 + \\lambda m_1^2 + (m_2x_{2i})-b)^2 + \\lambda m_2^2)$$"
   ]
  },
  {
   "cell_type": "markdown",
   "metadata": {},
   "source": [
    "### Uses"
   ]
  },
  {
   "cell_type": "markdown",
   "metadata": {},
   "source": [
    "- Used mostly to prevent overfitting (but since includes all features it can be computationally expensive (for many variables))"
   ]
  },
  {
   "cell_type": "markdown",
   "metadata": {},
   "source": [
    "## Lasso Regression - L1 Norm Regularization\n",
    "\n",
    "\"Least Absolute Shrinkage and Selection Operator\""
   ]
  },
  {
   "cell_type": "markdown",
   "metadata": {},
   "source": [
    "- **Error term added to cost function** \n",
    "    - $ \\large ... + \\lambda \\sum_{j=1}^p \\mid m_j \\mid$\n",
    "    - Notice that  $m$ has no exponent (meaning its actually $m^1$, hence \"L***1*** norm regularization\"\n",
    "\n"
   ]
  },
  {
   "cell_type": "markdown",
   "metadata": {},
   "source": [
    "$$\\large J_\\text{lasso}= \\sum_{i=1}^n(y_i - \\hat{y})^2 = \\sum_{i=1}^n(y_i - \\sum_{j=1}^k(m_jx_{ij})-b)^2 + \\lambda \\sum_{j=1}^p \\mid m_j \\mid$$"
   ]
  },
  {
   "cell_type": "markdown",
   "metadata": {},
   "source": [
    "If you have two predictors the full equation would look like this (notice that there is a penalty term `m` for each predictor in the model - in this case, two): \n",
    "$$ \\text{cost_function_lasso}= \\sum_{i=1}^n(y_i - \\hat{y})^2 = $$\n",
    "\n",
    "$$\\sum_{i=1}^n(y_i - ((m_1x_{1i})-b)^2 + \\lambda \\mid m_1 \\mid) + ((m_2x_{2i})-b)^2 + \\lambda \\mid m_2 \\mid) $$"
   ]
  },
  {
   "cell_type": "markdown",
   "metadata": {},
   "source": [
    "### Uses"
   ]
  },
  {
   "cell_type": "markdown",
   "metadata": {},
   "source": [
    "- Lasso also helps with over fitting \n",
    "- **Lasso shrinks the less important features' coefficients to zero**, removing them altogether. \n",
    "    - Therefore, Lasso regression can be used for **feature selection**"
   ]
  },
  {
   "cell_type": "markdown",
   "metadata": {},
   "source": [
    "## Using Regularization"
   ]
  },
  {
   "cell_type": "markdown",
   "metadata": {},
   "source": [
    "- ***Make sure to standardize the data before performing ridge or lasso regression***, otherwise features with large values/units will be unfairly penalized.\n",
    "- **Fit-transform the training data, only transform the test data**\n",
    "\n",
    "```python\n",
    "from sklearn.preprocessing import MinMaxScaler\n",
    "from sklearn.linear_model import Lasso, Ridge, LinearRegression\n",
    "```"
   ]
  },
  {
   "cell_type": "markdown",
   "metadata": {},
   "source": [
    "## Ridge & Lasson Regression Summary:"
   ]
  },
  {
   "cell_type": "markdown",
   "metadata": {},
   "source": [
    "In Ridge regression, the cost function is changed by adding a penalty term to the square of the magnitude of the coefficients.\n",
    "\n",
    "$$ \\text{cost_function_ridge}= \\sum_{i=1}^n(y_i - \\hat{y})^2 = \\sum_{i=1}^n(y_i - \\sum_{j=1}^k(m_jx_{ij})-b)^2 + \\lambda \\sum_{j=1}^p m_j^2$$\n",
    "\n",
    "Lasso regression is very similar to Ridge regression, except that the magnitude of the coefficients are not squared in the penalty term.\n",
    "\n",
    "$$ \\text{cost_function_lasso}= \\sum_{i=1}^n(y_i - \\hat{y})^2 = \\sum_{i=1}^n(y_i - \\sum_{j=1}^k(m_jx_{ij})-b)^2 + \\lambda \\sum_{j=1}^p \\mid m_j \\mid$$\n"
   ]
  },
  {
   "cell_type": "markdown",
   "metadata": {},
   "source": [
    "# Applying Ridge and Lasso Regression with Scikit-Learn:"
   ]
  },
  {
   "cell_type": "markdown",
   "metadata": {},
   "source": [
    "## Examining The Canvas Ridge and Lasso Regression Lesson Code"
   ]
  },
  {
   "cell_type": "markdown",
   "metadata": {},
   "source": [
    "- First, let's examine the code used in the [Ridge and Lasso Regression Lesson](https://github.com/learn-co-curriculum/dsc-ridge-and-lasso-regression)"
   ]
  },
  {
   "cell_type": "code",
   "execution_count": 5,
   "metadata": {
    "ExecuteTime": {
     "end_time": "2021-05-05T16:33:22.332273Z",
     "start_time": "2021-05-05T16:33:22.329183Z"
    }
   },
   "outputs": [],
   "source": [
    "import pandas as pd\n",
    "import numpy as np\n",
    "import matplotlib.pyplot as plt\n",
    "import seaborn as sns\n",
    "plt.style.use('seaborn-poster')"
   ]
  },
  {
   "cell_type": "code",
   "execution_count": 6,
   "metadata": {
    "ExecuteTime": {
     "end_time": "2021-05-05T16:33:22.476632Z",
     "start_time": "2021-05-05T16:33:22.337280Z"
    }
   },
   "outputs": [
    {
     "data": {
      "text/plain": [
       "[(274, 6), (118, 6), (274, 1), (118, 1)]"
      ]
     },
     "execution_count": 6,
     "metadata": {},
     "output_type": "execute_result"
    }
   ],
   "source": [
    "from sklearn.preprocessing import MinMaxScaler\n",
    "from sklearn.linear_model import Lasso, Ridge, LinearRegression\n",
    "from sklearn.model_selection import train_test_split\n",
    "\n",
    "## Load the data\n",
    "df = pd.read_csv('https://raw.githubusercontent.com/learn-co-curriculum/dsc-ridge-and-lasso-regression/master/auto-mpg.csv')\n",
    "\n",
    "y = df[['mpg']]\n",
    "X = df.drop(['mpg', 'car name', 'origin'], axis=1)\n",
    "\n",
    "# Perform test train split\n",
    "X_train , X_test, y_train, y_test = train_test_split(X, y, test_size=0.3,\n",
    "                                                     random_state=12)\n",
    "[var.shape for var in [X_train , X_test, y_train, y_test]]"
   ]
  },
  {
   "cell_type": "code",
   "execution_count": 7,
   "metadata": {
    "ExecuteTime": {
     "end_time": "2021-05-05T16:33:22.494548Z",
     "start_time": "2021-05-05T16:33:22.479481Z"
    }
   },
   "outputs": [],
   "source": [
    "scale = MinMaxScaler()\n",
    "X_train_tf = scale.fit_transform(X_train)\n",
    "X_test_tf = scale.transform(X_test)"
   ]
  },
  {
   "cell_type": "code",
   "execution_count": 8,
   "metadata": {
    "ExecuteTime": {
     "end_time": "2021-05-05T16:33:22.514723Z",
     "start_time": "2021-05-05T16:33:22.498671Z"
    }
   },
   "outputs": [
    {
     "data": {
      "text/plain": [
       "LinearRegression()"
      ]
     },
     "execution_count": 8,
     "metadata": {},
     "output_type": "execute_result"
    }
   ],
   "source": [
    "# Build a Ridge, Lasso and regular linear regression model  \n",
    "# Note that in scikit-learn, the regularization parameter is denoted by alpha (and not lambda)\n",
    "ridge = Ridge(alpha=0.5)\n",
    "ridge.fit(X_train_tf, y_train)\n",
    "\n",
    "lasso = Lasso(alpha=0.5)\n",
    "lasso.fit(X_train_tf, y_train)\n",
    "\n",
    "lin = LinearRegression()\n",
    "lin.fit(X_train_tf, y_train)"
   ]
  },
  {
   "cell_type": "code",
   "execution_count": 10,
   "metadata": {
    "ExecuteTime": {
     "end_time": "2021-05-05T16:33:27.876863Z",
     "start_time": "2021-05-05T16:33:27.872558Z"
    }
   },
   "outputs": [],
   "source": [
    "# Generate preditions for training and test sets\n",
    "y_h_ridge_train = ridge.predict(X_train_tf)\n",
    "y_h_ridge_test = ridge.predict(X_test_tf)\n",
    "\n",
    "y_h_lasso_train = np.reshape(lasso.predict(X_train_transformed), (274, 1))\n",
    "y_h_lasso_test = np.reshape(lasso.predict(X_test_transformed), (118, 1))\n",
    "\n",
    "y_h_lin_train = lin.predict(X_train_tf)\n",
    "y_h_lin_test = lin.predict(X_test_tf)"
   ]
  },
  {
   "cell_type": "code",
   "execution_count": 11,
   "metadata": {
    "ExecuteTime": {
     "end_time": "2021-05-05T16:33:46.760949Z",
     "start_time": "2021-05-05T16:33:46.740050Z"
    },
    "scrolled": true
   },
   "outputs": [
    {
     "name": "stdout",
     "output_type": "stream",
     "text": [
      "Train Error Ridge Model mpg    2684.673787\n",
      "dtype: float64\n",
      "Test Error Ridge Model mpg    2067.795707\n",
      "dtype: float64\n",
      "\n",
      "\n",
      "Train Error Lasso Model mpg    4450.979518\n",
      "dtype: float64\n",
      "Test Error Lasso Model mpg    3544.087085\n",
      "dtype: float64\n",
      "\n",
      "\n",
      "Train Error Unpenalized Linear Model mpg    2658.043444\n",
      "dtype: float64\n",
      "Test Error Unpenalized Linear Model mpg    1976.266987\n",
      "dtype: float64\n",
      "\n",
      "\n",
      "\n",
      "\n",
      "Ridge parameter coefficients:\n",
      " [[ -2.06904445  -2.88593443  -1.81801505 -15.23785349  -1.45594148\n",
      "    8.1440177 ]]\n",
      "Lasso parameter coefficients:\n",
      " [-9.09743525 -0.         -0.         -4.02703963  0.          3.92348219]\n",
      "Linear model parameter coefficients:\n",
      " [[ -1.33790698  -1.05300843  -0.08661412 -19.26724989  -0.37043697\n",
      "    8.56051229]]\n"
     ]
    }
   ],
   "source": [
    "print('Train Error Ridge Model', np.sum((y_train - y_h_ridge_train)**2))\n",
    "print('Test Error Ridge Model', np.sum((y_test - y_h_ridge_test)**2))\n",
    "print('\\n')\n",
    "\n",
    "print('Train Error Lasso Model', np.sum((y_train - y_h_lasso_train)**2))\n",
    "print('Test Error Lasso Model', np.sum((y_test - y_h_lasso_test)**2))\n",
    "print('\\n')\n",
    "\n",
    "print('Train Error Unpenalized Linear Model', np.sum((y_train - lin.predict(X_train_tf))**2))\n",
    "print('Test Error Unpenalized Linear Model', np.sum((y_test - lin.predict(X_test_tf))**2))\n",
    "print('\\n'*3)\n",
    "print('Ridge parameter coefficients:\\n', ridge.coef_)\n",
    "print('Lasso parameter coefficients:\\n', lasso.coef_)\n",
    "print('Linear model parameter coefficients:\\n', lin.coef_)"
   ]
  },
  {
   "cell_type": "markdown",
   "metadata": {},
   "source": [
    "### Examining the code above..."
   ]
  },
  {
   "cell_type": "markdown",
   "metadata": {},
   "source": [
    "#### Q1: What are the issues/limitations of the way we tested/compared the 3 different types of models? "
   ]
  },
  {
   "cell_type": "markdown",
   "metadata": {
    "heading_collapsed": true
   },
   "source": [
    "#### A1:"
   ]
  },
  {
   "cell_type": "markdown",
   "metadata": {
    "hidden": true
   },
   "source": [
    "If we wanted to add another model type, we'd have to copy a lot and edit a lot."
   ]
  },
  {
   "cell_type": "markdown",
   "metadata": {},
   "source": [
    "#### Q2: What other limitation does the above code have? (what is inflexible?)"
   ]
  },
  {
   "cell_type": "markdown",
   "metadata": {
    "heading_collapsed": true
   },
   "source": [
    "#### A2: "
   ]
  },
  {
   "cell_type": "markdown",
   "metadata": {
    "hidden": true
   },
   "source": [
    "hard coded values for data shapes"
   ]
  },
  {
   "cell_type": "markdown",
   "metadata": {},
   "source": [
    "#### Q3: Whats the solution?"
   ]
  },
  {
   "cell_type": "markdown",
   "metadata": {
    "heading_collapsed": true
   },
   "source": [
    "#### A3: "
   ]
  },
  {
   "cell_type": "markdown",
   "metadata": {
    "hidden": true
   },
   "source": [
    "- Functions, and loops, and dictionaries!"
   ]
  },
  {
   "cell_type": "markdown",
   "metadata": {
    "hidden": true
   },
   "source": []
  },
  {
   "cell_type": "markdown",
   "metadata": {},
   "source": [
    "### Updating the Official Lesson's Code:"
   ]
  },
  {
   "cell_type": "code",
   "execution_count": 18,
   "metadata": {
    "ExecuteTime": {
     "end_time": "2021-05-05T16:50:53.624753Z",
     "start_time": "2021-05-05T16:50:53.619273Z"
    }
   },
   "outputs": [],
   "source": [
    "from sklearn.metrics import r2_score, mean_squared_error\n",
    "def fit_model(model,X_train, X_test,y_train,y_test):\n",
    "\n",
    "    model.fit(X_train, y_train)\n",
    "    # Generate preditions for training and test sets\n",
    "    y_hat_train = model.predict(X_train)\n",
    "    y_hat_test = model.predict(X_test)\n",
    "    \n",
    "    rmse_train = mean_squared_error(y_train, y_hat_train,squared=False)\n",
    "    rmse_test = mean_squared_error(y_test, y_hat_test,squared=False)\n",
    "    \n",
    "    r2_train = r2_score(y_train,y_hat_train)\n",
    "    r2_test = r2_score(y_test,y_hat_test)\n",
    "    \n",
    "    res = [['Data','R2','RMSE']]\n",
    "    res.append(['Train',r2_train,rmse_train])\n",
    "    res.append(['Test',r2_test,rmse_test])\n",
    "    res_df = pd.DataFrame(res[1:],columns =res[0]).round(3)\n",
    "    return res_df, model\n",
    "    \n"
   ]
  },
  {
   "cell_type": "code",
   "execution_count": 19,
   "metadata": {
    "ExecuteTime": {
     "end_time": "2021-05-05T16:50:54.003250Z",
     "start_time": "2021-05-05T16:50:53.982756Z"
    }
   },
   "outputs": [
    {
     "data": {
      "text/html": [
       "<div>\n",
       "<style scoped>\n",
       "    .dataframe tbody tr th:only-of-type {\n",
       "        vertical-align: middle;\n",
       "    }\n",
       "\n",
       "    .dataframe tbody tr th {\n",
       "        vertical-align: top;\n",
       "    }\n",
       "\n",
       "    .dataframe thead th {\n",
       "        text-align: right;\n",
       "    }\n",
       "</style>\n",
       "<table border=\"1\" class=\"dataframe\">\n",
       "  <thead>\n",
       "    <tr style=\"text-align: right;\">\n",
       "      <th></th>\n",
       "      <th>Data</th>\n",
       "      <th>R2</th>\n",
       "      <th>RMSE</th>\n",
       "    </tr>\n",
       "  </thead>\n",
       "  <tbody>\n",
       "    <tr>\n",
       "      <th>0</th>\n",
       "      <td>Train</td>\n",
       "      <td>0.820</td>\n",
       "      <td>3.115</td>\n",
       "    </tr>\n",
       "    <tr>\n",
       "      <th>1</th>\n",
       "      <td>Test</td>\n",
       "      <td>0.773</td>\n",
       "      <td>4.092</td>\n",
       "    </tr>\n",
       "  </tbody>\n",
       "</table>\n",
       "</div>"
      ],
      "text/plain": [
       "    Data     R2   RMSE\n",
       "0  Train  0.820  3.115\n",
       "1   Test  0.773  4.092"
      ]
     },
     "execution_count": 19,
     "metadata": {},
     "output_type": "execute_result"
    }
   ],
   "source": [
    "## Test our function\n",
    "res_df, linreg = fit_model(LinearRegression(),X_train_tf, X_test_tf,y_train,y_test)\n",
    "res_df"
   ]
  },
  {
   "cell_type": "markdown",
   "metadata": {},
   "source": [
    "#### Adding Extracting Model Coefficents"
   ]
  },
  {
   "cell_type": "code",
   "execution_count": 27,
   "metadata": {
    "ExecuteTime": {
     "end_time": "2021-05-05T16:54:43.318408Z",
     "start_time": "2021-05-05T16:54:43.313819Z"
    }
   },
   "outputs": [
    {
     "name": "stdout",
     "output_type": "stream",
     "text": [
      "(1, 6)\n"
     ]
    },
    {
     "data": {
      "text/plain": [
       "array([ -1.33790698,  -1.05300843,  -0.08661412, -19.26724989,\n",
       "        -0.37043697,   8.56051229])"
      ]
     },
     "execution_count": 27,
     "metadata": {},
     "output_type": "execute_result"
    }
   ],
   "source": [
    "## Getting the model's coeffs and intercept\n",
    "print(linreg.coef_.shape)\n",
    "linreg.coef_[0]"
   ]
  },
  {
   "cell_type": "code",
   "execution_count": 28,
   "metadata": {
    "ExecuteTime": {
     "end_time": "2021-05-05T16:54:59.062674Z",
     "start_time": "2021-05-05T16:54:59.058376Z"
    }
   },
   "outputs": [
    {
     "data": {
      "text/plain": [
       "array([27.8810372])"
      ]
     },
     "execution_count": 28,
     "metadata": {},
     "output_type": "execute_result"
    }
   ],
   "source": [
    "linreg.intercept_"
   ]
  },
  {
   "cell_type": "code",
   "execution_count": 29,
   "metadata": {
    "ExecuteTime": {
     "end_time": "2021-05-05T16:55:24.837280Z",
     "start_time": "2021-05-05T16:55:24.831761Z"
    }
   },
   "outputs": [
    {
     "data": {
      "text/plain": [
       "cylinders       -1.337907\n",
       "displacement    -1.053008\n",
       "horsepower      -0.086614\n",
       "weight         -19.267250\n",
       "acceleration    -0.370437\n",
       "model year       8.560512\n",
       "intercept       27.881037\n",
       "dtype: float64"
      ]
     },
     "execution_count": 29,
     "metadata": {},
     "output_type": "execute_result"
    }
   ],
   "source": [
    "## Make a series of coefficients (including intercept)\n",
    "coeffs = pd.Series(linreg.coef_.flatten(), index=X_train.columns)\n",
    "coeffs['intercept'] = linreg.intercept_[0]\n",
    "coeffs"
   ]
  },
  {
   "cell_type": "code",
   "execution_count": 31,
   "metadata": {
    "ExecuteTime": {
     "end_time": "2021-05-05T16:56:27.767462Z",
     "start_time": "2021-05-05T16:56:27.759252Z"
    }
   },
   "outputs": [
    {
     "data": {
      "text/plain": [
       "cylinders       -1.337907\n",
       "displacement    -1.053008\n",
       "horsepower      -0.086614\n",
       "weight         -19.267250\n",
       "acceleration    -0.370437\n",
       "model year       8.560512\n",
       "intercept       27.881037\n",
       "dtype: float64"
      ]
     },
     "execution_count": 31,
     "metadata": {},
     "output_type": "execute_result"
    }
   ],
   "source": [
    "## Turn get_coefficients into function\n",
    "def get_coefficients(model,X_train):\n",
    "    coeffs = pd.Series(model.coef_.flatten(), index=X_train.columns)\n",
    "    coeffs['intercept'] = model.intercept_[0]\n",
    "    return coeffs\n",
    "\n",
    "## Test our function\n",
    "coeffs = get_coefficients(linreg,X_train)\n",
    "coeffs\n"
   ]
  },
  {
   "cell_type": "markdown",
   "metadata": {},
   "source": [
    "### Since we know we want to apply the same process to 3 Models..."
   ]
  },
  {
   "cell_type": "code",
   "execution_count": 33,
   "metadata": {
    "ExecuteTime": {
     "end_time": "2021-05-05T16:58:07.638475Z",
     "start_time": "2021-05-05T16:58:07.635729Z"
    }
   },
   "outputs": [],
   "source": [
    "## Use a dictionary to store our models\n",
    "models_to_make = dict( ridge = Ridge(alpha=0.5), \n",
    "                      lasso = Lasso(alpha=0.5),\n",
    "                      lin = LinearRegression())\n"
   ]
  },
  {
   "cell_type": "code",
   "execution_count": 34,
   "metadata": {
    "ExecuteTime": {
     "end_time": "2021-05-05T16:58:08.648112Z",
     "start_time": "2021-05-05T16:58:08.643305Z"
    }
   },
   "outputs": [
    {
     "data": {
      "text/plain": [
       "{'ridge': Ridge(alpha=0.5),\n",
       " 'lasso': Lasso(alpha=0.5),\n",
       " 'lin': LinearRegression()}"
      ]
     },
     "execution_count": 34,
     "metadata": {},
     "output_type": "execute_result"
    }
   ],
   "source": [
    "models_to_make"
   ]
  },
  {
   "cell_type": "code",
   "execution_count": 36,
   "metadata": {
    "ExecuteTime": {
     "end_time": "2021-05-05T16:58:23.105376Z",
     "start_time": "2021-05-05T16:58:23.101390Z"
    }
   },
   "outputs": [
    {
     "data": {
      "text/plain": [
       "Lasso(alpha=0.5)"
      ]
     },
     "execution_count": 36,
     "metadata": {},
     "output_type": "execute_result"
    }
   ],
   "source": [
    "## Test our dictionary's entry for lasso \n",
    "models_to_make['lasso']"
   ]
  },
  {
   "cell_type": "markdown",
   "metadata": {},
   "source": [
    "> Now, loop through models_to_make and save all results"
   ]
  },
  {
   "cell_type": "code",
   "execution_count": 40,
   "metadata": {
    "ExecuteTime": {
     "end_time": "2021-05-05T17:03:45.952311Z",
     "start_time": "2021-05-05T17:03:45.901784Z"
    }
   },
   "outputs": [
    {
     "data": {
      "text/html": [
       "<div>\n",
       "<style scoped>\n",
       "    .dataframe tbody tr th:only-of-type {\n",
       "        vertical-align: middle;\n",
       "    }\n",
       "\n",
       "    .dataframe tbody tr th {\n",
       "        vertical-align: top;\n",
       "    }\n",
       "\n",
       "    .dataframe thead th {\n",
       "        text-align: right;\n",
       "    }\n",
       "</style>\n",
       "<table border=\"1\" class=\"dataframe\">\n",
       "  <thead>\n",
       "    <tr style=\"text-align: right;\">\n",
       "      <th></th>\n",
       "      <th></th>\n",
       "      <th>R2</th>\n",
       "      <th>RMSE</th>\n",
       "    </tr>\n",
       "    <tr>\n",
       "      <th>Model Type</th>\n",
       "      <th>Data</th>\n",
       "      <th></th>\n",
       "      <th></th>\n",
       "    </tr>\n",
       "  </thead>\n",
       "  <tbody>\n",
       "    <tr>\n",
       "      <th rowspan=\"2\" valign=\"top\">ridge</th>\n",
       "      <th>Train</th>\n",
       "      <td>0.819</td>\n",
       "      <td>3.130</td>\n",
       "    </tr>\n",
       "    <tr>\n",
       "      <th>Test</th>\n",
       "      <td>0.763</td>\n",
       "      <td>4.186</td>\n",
       "    </tr>\n",
       "    <tr>\n",
       "      <th rowspan=\"2\" valign=\"top\">lasso</th>\n",
       "      <th>Train</th>\n",
       "      <td>0.699</td>\n",
       "      <td>4.030</td>\n",
       "    </tr>\n",
       "    <tr>\n",
       "      <th>Test</th>\n",
       "      <td>0.594</td>\n",
       "      <td>5.480</td>\n",
       "    </tr>\n",
       "    <tr>\n",
       "      <th rowspan=\"2\" valign=\"top\">lin</th>\n",
       "      <th>Train</th>\n",
       "      <td>0.820</td>\n",
       "      <td>3.115</td>\n",
       "    </tr>\n",
       "    <tr>\n",
       "      <th>Test</th>\n",
       "      <td>0.773</td>\n",
       "      <td>4.092</td>\n",
       "    </tr>\n",
       "  </tbody>\n",
       "</table>\n",
       "</div>"
      ],
      "text/plain": [
       "                     R2   RMSE\n",
       "Model Type Data               \n",
       "ridge      Train  0.819  3.130\n",
       "           Test   0.763  4.186\n",
       "lasso      Train  0.699  4.030\n",
       "           Test   0.594  5.480\n",
       "lin        Train  0.820  3.115\n",
       "           Test   0.773  4.092"
      ]
     },
     "execution_count": 40,
     "metadata": {},
     "output_type": "execute_result"
    }
   ],
   "source": [
    "## Loop through models_to_make and save all results\n",
    "\n",
    "## Create an empty list to store result dfs\n",
    "results = []\n",
    "\n",
    "## Create an empty dict to store fit models\n",
    "fit_models={}\n",
    "\n",
    "\n",
    "## Loop through the model_type and model from models_to_make\n",
    "for model_type,model in models_to_make.items():\n",
    "\n",
    "    ## get model results and fit model using make_model\n",
    "    res_df, f_model = fit_model(model,X_train_tf, X_test_tf,y_train,y_test)\n",
    "\n",
    "\n",
    "    ## Add model type as column to res\n",
    "    res_df['Model Type'] = model_type\n",
    "\n",
    "    ## Save df to list \n",
    "    results.append(res_df)\n",
    "    \n",
    "    ## Save fit model to models dict \n",
    "    fit_models[model_type] = f_model\n",
    "    \n",
    "\n",
    "    \n",
    "## Concatenate results and set Type/data as index\n",
    "df_res = pd.concat(results)\n",
    "df_res = df_res.set_index(['Model Type','Data'])\n",
    "df_res"
   ]
  },
  {
   "cell_type": "code",
   "execution_count": 41,
   "metadata": {
    "ExecuteTime": {
     "end_time": "2021-05-05T17:04:04.765466Z",
     "start_time": "2021-05-05T17:04:04.691096Z"
    }
   },
   "outputs": [
    {
     "data": {
      "text/html": [
       "<style  type=\"text/css\" >\n",
       "#T_e59fae72_adc3_11eb_862c_acde48001122row0_col0{\n",
       "            background-color:  #02395a;\n",
       "            color:  #f1f1f1;\n",
       "        }#T_e59fae72_adc3_11eb_862c_acde48001122row1_col0{\n",
       "            background-color:  #0570b0;\n",
       "            color:  #f1f1f1;\n",
       "        }#T_e59fae72_adc3_11eb_862c_acde48001122row2_col0{\n",
       "            background-color:  #83afd3;\n",
       "            color:  #000000;\n",
       "        }#T_e59fae72_adc3_11eb_862c_acde48001122row3_col0{\n",
       "            background-color:  #fff7fb;\n",
       "            color:  #000000;\n",
       "        }#T_e59fae72_adc3_11eb_862c_acde48001122row4_col0{\n",
       "            background-color:  #023858;\n",
       "            color:  #f1f1f1;\n",
       "        }#T_e59fae72_adc3_11eb_862c_acde48001122row5_col0{\n",
       "            background-color:  #0569a4;\n",
       "            color:  #f1f1f1;\n",
       "        }</style><table id=\"T_e59fae72_adc3_11eb_862c_acde48001122\" ><thead>    <tr>        <th class=\"blank\" ></th>        <th class=\"blank level0\" ></th>        <th class=\"col_heading level0 col0\" >R2</th>        <th class=\"col_heading level0 col1\" >RMSE</th>    </tr>    <tr>        <th class=\"index_name level0\" >Model Type</th>        <th class=\"index_name level1\" >Data</th>        <th class=\"blank\" ></th>        <th class=\"blank\" ></th>    </tr></thead><tbody>\n",
       "                <tr>\n",
       "                        <th id=\"T_e59fae72_adc3_11eb_862c_acde48001122level0_row0\" class=\"row_heading level0 row0\" rowspan=2>ridge</th>\n",
       "                        <th id=\"T_e59fae72_adc3_11eb_862c_acde48001122level1_row0\" class=\"row_heading level1 row0\" >Train</th>\n",
       "                        <td id=\"T_e59fae72_adc3_11eb_862c_acde48001122row0_col0\" class=\"data row0 col0\" >0.819000</td>\n",
       "                        <td id=\"T_e59fae72_adc3_11eb_862c_acde48001122row0_col1\" class=\"data row0 col1\" >3.130000</td>\n",
       "            </tr>\n",
       "            <tr>\n",
       "                                <th id=\"T_e59fae72_adc3_11eb_862c_acde48001122level1_row1\" class=\"row_heading level1 row1\" >Test</th>\n",
       "                        <td id=\"T_e59fae72_adc3_11eb_862c_acde48001122row1_col0\" class=\"data row1 col0\" >0.763000</td>\n",
       "                        <td id=\"T_e59fae72_adc3_11eb_862c_acde48001122row1_col1\" class=\"data row1 col1\" >4.186000</td>\n",
       "            </tr>\n",
       "            <tr>\n",
       "                        <th id=\"T_e59fae72_adc3_11eb_862c_acde48001122level0_row2\" class=\"row_heading level0 row2\" rowspan=2>lasso</th>\n",
       "                        <th id=\"T_e59fae72_adc3_11eb_862c_acde48001122level1_row2\" class=\"row_heading level1 row2\" >Train</th>\n",
       "                        <td id=\"T_e59fae72_adc3_11eb_862c_acde48001122row2_col0\" class=\"data row2 col0\" >0.699000</td>\n",
       "                        <td id=\"T_e59fae72_adc3_11eb_862c_acde48001122row2_col1\" class=\"data row2 col1\" >4.030000</td>\n",
       "            </tr>\n",
       "            <tr>\n",
       "                                <th id=\"T_e59fae72_adc3_11eb_862c_acde48001122level1_row3\" class=\"row_heading level1 row3\" >Test</th>\n",
       "                        <td id=\"T_e59fae72_adc3_11eb_862c_acde48001122row3_col0\" class=\"data row3 col0\" >0.594000</td>\n",
       "                        <td id=\"T_e59fae72_adc3_11eb_862c_acde48001122row3_col1\" class=\"data row3 col1\" >5.480000</td>\n",
       "            </tr>\n",
       "            <tr>\n",
       "                        <th id=\"T_e59fae72_adc3_11eb_862c_acde48001122level0_row4\" class=\"row_heading level0 row4\" rowspan=2>lin</th>\n",
       "                        <th id=\"T_e59fae72_adc3_11eb_862c_acde48001122level1_row4\" class=\"row_heading level1 row4\" >Train</th>\n",
       "                        <td id=\"T_e59fae72_adc3_11eb_862c_acde48001122row4_col0\" class=\"data row4 col0\" >0.820000</td>\n",
       "                        <td id=\"T_e59fae72_adc3_11eb_862c_acde48001122row4_col1\" class=\"data row4 col1\" >3.115000</td>\n",
       "            </tr>\n",
       "            <tr>\n",
       "                                <th id=\"T_e59fae72_adc3_11eb_862c_acde48001122level1_row5\" class=\"row_heading level1 row5\" >Test</th>\n",
       "                        <td id=\"T_e59fae72_adc3_11eb_862c_acde48001122row5_col0\" class=\"data row5 col0\" >0.773000</td>\n",
       "                        <td id=\"T_e59fae72_adc3_11eb_862c_acde48001122row5_col1\" class=\"data row5 col1\" >4.092000</td>\n",
       "            </tr>\n",
       "    </tbody></table>"
      ],
      "text/plain": [
       "<pandas.io.formats.style.Styler at 0x7f9127363520>"
      ]
     },
     "execution_count": 41,
     "metadata": {},
     "output_type": "execute_result"
    }
   ],
   "source": [
    "## Use styling to make it easier to find the best scores.\n",
    "df_res.style.background_gradient(subset=['R2'])"
   ]
  },
  {
   "cell_type": "markdown",
   "metadata": {},
   "source": [
    "> #### Sidebar: You've heard of List Comprehensions but did you that there are Dictionary Comprehensions too?"
   ]
  },
  {
   "cell_type": "code",
   "execution_count": 42,
   "metadata": {
    "ExecuteTime": {
     "end_time": "2021-05-05T17:05:42.003134Z",
     "start_time": "2021-05-05T17:05:41.998980Z"
    }
   },
   "outputs": [
    {
     "data": {
      "text/plain": [
       "<function __main__.get_coefficients(model, X_train)>"
      ]
     },
     "execution_count": 42,
     "metadata": {},
     "output_type": "execute_result"
    }
   ],
   "source": [
    "get_coefficients"
   ]
  },
  {
   "cell_type": "code",
   "execution_count": 43,
   "metadata": {
    "ExecuteTime": {
     "end_time": "2021-05-05T17:07:03.035585Z",
     "start_time": "2021-05-05T17:07:03.027953Z"
    }
   },
   "outputs": [
    {
     "data": {
      "text/plain": [
       "{'ridge': cylinders       -2.069044\n",
       " displacement    -2.885934\n",
       " horsepower      -1.818015\n",
       " weight         -15.237853\n",
       " acceleration    -1.455941\n",
       " model year       8.144018\n",
       " intercept       28.488448\n",
       " dtype: float64,\n",
       " 'lasso': cylinders       -9.097435\n",
       " displacement    -0.000000\n",
       " horsepower      -0.000000\n",
       " weight          -4.027040\n",
       " acceleration     0.000000\n",
       " model year       3.923482\n",
       " intercept       27.192308\n",
       " dtype: float64,\n",
       " 'lin': cylinders       -1.337907\n",
       " displacement    -1.053008\n",
       " horsepower      -0.086614\n",
       " weight         -19.267250\n",
       " acceleration    -0.370437\n",
       " model year       8.560512\n",
       " intercept       27.881037\n",
       " dtype: float64}"
      ]
     },
     "execution_count": 43,
     "metadata": {},
     "output_type": "execute_result"
    }
   ],
   "source": [
    "## Get the coefficients of every model in a dictionary using a dict comprehension\n",
    "\n",
    "coeffs_dict = {name:get_coefficients(mod,X_train) for name, mod in fit_models.items()}\n",
    "coeffs_dict"
   ]
  },
  {
   "cell_type": "code",
   "execution_count": 47,
   "metadata": {
    "ExecuteTime": {
     "end_time": "2021-05-05T17:07:55.362054Z",
     "start_time": "2021-05-05T17:07:55.223511Z"
    }
   },
   "outputs": [
    {
     "data": {
      "text/html": [
       "<style  type=\"text/css\" >\n",
       "#T_6f11cb86_adc4_11eb_862c_acde48001122row0_col0{\n",
       "            background-color:  #045280;\n",
       "            color:  #f1f1f1;\n",
       "        }#T_6f11cb86_adc4_11eb_862c_acde48001122row0_col1,#T_6f11cb86_adc4_11eb_862c_acde48001122row0_col2,#T_6f11cb86_adc4_11eb_862c_acde48001122row0_col4,#T_6f11cb86_adc4_11eb_862c_acde48001122row1_col0,#T_6f11cb86_adc4_11eb_862c_acde48001122row1_col5,#T_6f11cb86_adc4_11eb_862c_acde48001122row1_col6,#T_6f11cb86_adc4_11eb_862c_acde48001122row2_col3{\n",
       "            background-color:  #fff7fb;\n",
       "            color:  #000000;\n",
       "        }#T_6f11cb86_adc4_11eb_862c_acde48001122row0_col3{\n",
       "            background-color:  #cccfe5;\n",
       "            color:  #000000;\n",
       "        }#T_6f11cb86_adc4_11eb_862c_acde48001122row0_col5{\n",
       "            background-color:  #03517e;\n",
       "            color:  #f1f1f1;\n",
       "        }#T_6f11cb86_adc4_11eb_862c_acde48001122row0_col6,#T_6f11cb86_adc4_11eb_862c_acde48001122row1_col1,#T_6f11cb86_adc4_11eb_862c_acde48001122row1_col2,#T_6f11cb86_adc4_11eb_862c_acde48001122row1_col3,#T_6f11cb86_adc4_11eb_862c_acde48001122row1_col4,#T_6f11cb86_adc4_11eb_862c_acde48001122row2_col0,#T_6f11cb86_adc4_11eb_862c_acde48001122row2_col5{\n",
       "            background-color:  #023858;\n",
       "            color:  #f1f1f1;\n",
       "        }#T_6f11cb86_adc4_11eb_862c_acde48001122row2_col1{\n",
       "            background-color:  #328dbf;\n",
       "            color:  #000000;\n",
       "        }#T_6f11cb86_adc4_11eb_862c_acde48001122row2_col2{\n",
       "            background-color:  #03456c;\n",
       "            color:  #f1f1f1;\n",
       "        }#T_6f11cb86_adc4_11eb_862c_acde48001122row2_col4{\n",
       "            background-color:  #0771b1;\n",
       "            color:  #f1f1f1;\n",
       "        }#T_6f11cb86_adc4_11eb_862c_acde48001122row2_col6{\n",
       "            background-color:  #63a2cb;\n",
       "            color:  #000000;\n",
       "        }</style><table id=\"T_6f11cb86_adc4_11eb_862c_acde48001122\" ><thead>    <tr>        <th class=\"blank level0\" ></th>        <th class=\"col_heading level0 col0\" >cylinders</th>        <th class=\"col_heading level0 col1\" >displacement</th>        <th class=\"col_heading level0 col2\" >horsepower</th>        <th class=\"col_heading level0 col3\" >weight</th>        <th class=\"col_heading level0 col4\" >acceleration</th>        <th class=\"col_heading level0 col5\" >model year</th>        <th class=\"col_heading level0 col6\" >intercept</th>    </tr></thead><tbody>\n",
       "                <tr>\n",
       "                        <th id=\"T_6f11cb86_adc4_11eb_862c_acde48001122level0_row0\" class=\"row_heading level0 row0\" >ridge</th>\n",
       "                        <td id=\"T_6f11cb86_adc4_11eb_862c_acde48001122row0_col0\" class=\"data row0 col0\" >-2.069000</td>\n",
       "                        <td id=\"T_6f11cb86_adc4_11eb_862c_acde48001122row0_col1\" class=\"data row0 col1\" >-2.886000</td>\n",
       "                        <td id=\"T_6f11cb86_adc4_11eb_862c_acde48001122row0_col2\" class=\"data row0 col2\" >-1.818000</td>\n",
       "                        <td id=\"T_6f11cb86_adc4_11eb_862c_acde48001122row0_col3\" class=\"data row0 col3\" >-15.238000</td>\n",
       "                        <td id=\"T_6f11cb86_adc4_11eb_862c_acde48001122row0_col4\" class=\"data row0 col4\" >-1.456000</td>\n",
       "                        <td id=\"T_6f11cb86_adc4_11eb_862c_acde48001122row0_col5\" class=\"data row0 col5\" >8.144000</td>\n",
       "                        <td id=\"T_6f11cb86_adc4_11eb_862c_acde48001122row0_col6\" class=\"data row0 col6\" >28.488000</td>\n",
       "            </tr>\n",
       "            <tr>\n",
       "                        <th id=\"T_6f11cb86_adc4_11eb_862c_acde48001122level0_row1\" class=\"row_heading level0 row1\" >lasso</th>\n",
       "                        <td id=\"T_6f11cb86_adc4_11eb_862c_acde48001122row1_col0\" class=\"data row1 col0\" >-9.097000</td>\n",
       "                        <td id=\"T_6f11cb86_adc4_11eb_862c_acde48001122row1_col1\" class=\"data row1 col1\" >-0.000000</td>\n",
       "                        <td id=\"T_6f11cb86_adc4_11eb_862c_acde48001122row1_col2\" class=\"data row1 col2\" >-0.000000</td>\n",
       "                        <td id=\"T_6f11cb86_adc4_11eb_862c_acde48001122row1_col3\" class=\"data row1 col3\" >-4.027000</td>\n",
       "                        <td id=\"T_6f11cb86_adc4_11eb_862c_acde48001122row1_col4\" class=\"data row1 col4\" >0.000000</td>\n",
       "                        <td id=\"T_6f11cb86_adc4_11eb_862c_acde48001122row1_col5\" class=\"data row1 col5\" >3.923000</td>\n",
       "                        <td id=\"T_6f11cb86_adc4_11eb_862c_acde48001122row1_col6\" class=\"data row1 col6\" >27.192000</td>\n",
       "            </tr>\n",
       "            <tr>\n",
       "                        <th id=\"T_6f11cb86_adc4_11eb_862c_acde48001122level0_row2\" class=\"row_heading level0 row2\" >lin</th>\n",
       "                        <td id=\"T_6f11cb86_adc4_11eb_862c_acde48001122row2_col0\" class=\"data row2 col0\" >-1.338000</td>\n",
       "                        <td id=\"T_6f11cb86_adc4_11eb_862c_acde48001122row2_col1\" class=\"data row2 col1\" >-1.053000</td>\n",
       "                        <td id=\"T_6f11cb86_adc4_11eb_862c_acde48001122row2_col2\" class=\"data row2 col2\" >-0.087000</td>\n",
       "                        <td id=\"T_6f11cb86_adc4_11eb_862c_acde48001122row2_col3\" class=\"data row2 col3\" >-19.267000</td>\n",
       "                        <td id=\"T_6f11cb86_adc4_11eb_862c_acde48001122row2_col4\" class=\"data row2 col4\" >-0.370000</td>\n",
       "                        <td id=\"T_6f11cb86_adc4_11eb_862c_acde48001122row2_col5\" class=\"data row2 col5\" >8.561000</td>\n",
       "                        <td id=\"T_6f11cb86_adc4_11eb_862c_acde48001122row2_col6\" class=\"data row2 col6\" >27.881000</td>\n",
       "            </tr>\n",
       "    </tbody></table>"
      ],
      "text/plain": [
       "<pandas.io.formats.style.Styler at 0x7f912744a2b0>"
      ]
     },
     "execution_count": 47,
     "metadata": {},
     "output_type": "execute_result"
    }
   ],
   "source": [
    "## Make into a dataframe and transpose to compare coeffs.\n",
    "coeffs_df = pd.DataFrame(coeffs_dict).T.round(3)\n",
    "coeffs_df.style.background_gradient()"
   ]
  },
  {
   "cell_type": "code",
   "execution_count": 54,
   "metadata": {
    "ExecuteTime": {
     "end_time": "2021-05-05T17:10:04.183254Z",
     "start_time": "2021-05-05T17:10:04.178711Z"
    }
   },
   "outputs": [
    {
     "data": {
      "text/plain": [
       "Index(['displacement', 'horsepower', 'acceleration'], dtype='object')"
      ]
     },
     "execution_count": 54,
     "metadata": {},
     "output_type": "execute_result"
    }
   ],
   "source": [
    "coeffs = coeffs_dict['lasso']\n",
    "removed_features = coeffs[coeffs==0].index\n",
    "removed_features"
   ]
  },
  {
   "cell_type": "markdown",
   "metadata": {},
   "source": [
    "### Discussion: what was the result of the different regressions on the coefficients?"
   ]
  },
  {
   "cell_type": "markdown",
   "metadata": {},
   "source": [
    "-  lasso regression shrunk some of the coefficients down to 0"
   ]
  },
  {
   "cell_type": "markdown",
   "metadata": {},
   "source": [
    "# Akaike Information Criterion (AIC) and Bayesian Information Criterion (BIC)"
   ]
  },
  {
   "cell_type": "markdown",
   "metadata": {},
   "source": [
    "## Uses of AIC and BIC"
   ]
  },
  {
   "cell_type": "markdown",
   "metadata": {},
   "source": [
    "- Performing feature selection: comparing models with only a few variables and more variables, computing the AIC/BIC and select the features that generated the lowest AIC or BIC\n",
    "- Similarly, selecting or not selecting interactions/polynomial features depending on whether or not the AIC/BIC decreases when adding them in\n",
    "- Computing the AIC and BIC for several values of the regularization parameter in Ridge/Lasso models and selecting the best regularization parameter, and many more! "
   ]
  },
  {
   "cell_type": "markdown",
   "metadata": {},
   "source": [
    "### Akaike's Information Criterion (AIC)\n"
   ]
  },
  {
   "cell_type": "markdown",
   "metadata": {},
   "source": [
    "The formula for the AIC, invented by Hirotugu Akaike in 1973 and short for \"Akaike's Information Criterion\" is given by:\n",
    "\n",
    "$$ \\large \\text{AIC} = -2\\ln(\\hat{L}) + 2k $$\n",
    "\n",
    "Where:\n",
    "* $k$ : length of the parameter space (i.e. the number of features)\n",
    "* $\\hat{L}$ : the maximum value of the likelihood function for the model\n",
    "\n",
    "Another way to phrase the equation is:\n",
    "\n",
    "$$ \n",
    "\\large \\text{AIC(model)} =  - 2 * \\text{log-likelihood(model)} + 2 * \\text{length of the parameter space} $$\n",
    "\n",
    "\n",
    "- AIC used to **compare** models with unbounded units not independently interpretable\n",
    "\n",
    "- If model uses Maximum Likelihood Estimation, log-likelihood is automatically computed, so AIC is easy to calculate.\n",
    "- AIC acts like penalized log-likelihood criterion, balancing good fit and complexity\n",
    "\n",
    "- In Python, the AIC is built into `statsmodels` and in `sklearn` (such as `LassoLarsIC`, which you'll use in the upcoming lab). "
   ]
  },
  {
   "cell_type": "markdown",
   "metadata": {},
   "source": [
    "### Bayesian Information Criterion (BIC)"
   ]
  },
  {
   "cell_type": "markdown",
   "metadata": {},
   "source": [
    "- Bayesian alternative to AIC, used the same way.\n",
    "\n",
    " $$\\large \\text{BIC} = -2\\ln(\\hat L) + \\ln(n)*k $$\n",
    "\n",
    "\n",
    "where:\n",
    "\n",
    "* $\\hat{L}$ and $k$ are the same as in AIC\n",
    "* $n$ : the number of data points (the sample size)\n",
    "\n",
    "Another way to phrase the equation is:\n",
    "\n",
    "$$ \\text{BIC(model)} = -2 * \\text{log-likelihood(model)} + \\text{log(number of observations)} * \\text{(length of the parameter space)} $$"
   ]
  },
  {
   "cell_type": "code",
   "execution_count": 55,
   "metadata": {
    "ExecuteTime": {
     "end_time": "2021-05-05T17:15:35.595404Z",
     "start_time": "2021-05-05T17:15:35.592392Z"
    }
   },
   "outputs": [],
   "source": [
    "from sklearn.linear_model import LassoCV, LassoLarsCV, LassoLarsIC\n",
    "# alphas = np.arange(0.1,100,0.1)"
   ]
  },
  {
   "cell_type": "code",
   "execution_count": 58,
   "metadata": {
    "ExecuteTime": {
     "end_time": "2021-05-05T17:16:11.632448Z",
     "start_time": "2021-05-05T17:16:11.623620Z"
    }
   },
   "outputs": [
    {
     "name": "stderr",
     "output_type": "stream",
     "text": [
      "/opt/anaconda3/envs/learn-env-new/lib/python3.8/site-packages/sklearn/utils/validation.py:72: DataConversionWarning: A column-vector y was passed when a 1d array was expected. Please change the shape of y to (n_samples, ), for example using ravel().\n",
      "  return f(**kwargs)\n"
     ]
    },
    {
     "data": {
      "text/plain": [
       "0.0014054034490563368"
      ]
     },
     "execution_count": 58,
     "metadata": {},
     "output_type": "execute_result"
    }
   ],
   "source": [
    "lasso_cvA = LassoLarsIC(criterion='aic')\n",
    "lasso_cvA.fit(X_train_tf,y_train);\n",
    "lasso_cvA.alpha_"
   ]
  },
  {
   "cell_type": "code",
   "execution_count": 61,
   "metadata": {
    "ExecuteTime": {
     "end_time": "2021-05-05T17:18:03.576554Z",
     "start_time": "2021-05-05T17:18:03.559085Z"
    }
   },
   "outputs": [
    {
     "data": {
      "text/html": [
       "<div>\n",
       "<style scoped>\n",
       "    .dataframe tbody tr th:only-of-type {\n",
       "        vertical-align: middle;\n",
       "    }\n",
       "\n",
       "    .dataframe tbody tr th {\n",
       "        vertical-align: top;\n",
       "    }\n",
       "\n",
       "    .dataframe thead th {\n",
       "        text-align: right;\n",
       "    }\n",
       "</style>\n",
       "<table border=\"1\" class=\"dataframe\">\n",
       "  <thead>\n",
       "    <tr style=\"text-align: right;\">\n",
       "      <th></th>\n",
       "      <th>Data</th>\n",
       "      <th>R2</th>\n",
       "      <th>RMSE</th>\n",
       "    </tr>\n",
       "  </thead>\n",
       "  <tbody>\n",
       "    <tr>\n",
       "      <th>0</th>\n",
       "      <td>Train</td>\n",
       "      <td>0.820</td>\n",
       "      <td>3.115</td>\n",
       "    </tr>\n",
       "    <tr>\n",
       "      <th>1</th>\n",
       "      <td>Test</td>\n",
       "      <td>0.774</td>\n",
       "      <td>4.091</td>\n",
       "    </tr>\n",
       "  </tbody>\n",
       "</table>\n",
       "</div>"
      ],
      "text/plain": [
       "    Data     R2   RMSE\n",
       "0  Train  0.820  3.115\n",
       "1   Test  0.774  4.091"
      ]
     },
     "execution_count": 61,
     "metadata": {},
     "output_type": "execute_result"
    }
   ],
   "source": [
    "lasso = Lasso(alpha=lasso_cvA.alpha_)\n",
    "res_df, model = fit_model(lasso,X_train_tf,X_test_tf, y_train,y_test)\n",
    "res_df"
   ]
  },
  {
   "cell_type": "code",
   "execution_count": 67,
   "metadata": {
    "ExecuteTime": {
     "end_time": "2021-05-05T17:20:44.346714Z",
     "start_time": "2021-05-05T17:20:44.271875Z"
    }
   },
   "outputs": [
    {
     "name": "stderr",
     "output_type": "stream",
     "text": [
      "/opt/anaconda3/envs/learn-env-new/lib/python3.8/site-packages/sklearn/utils/validation.py:72: DataConversionWarning: A column-vector y was passed when a 1d array was expected. Please change the shape of y to (n_samples, ), for example using ravel().\n",
      "  return f(**kwargs)\n"
     ]
    },
    {
     "data": {
      "text/plain": [
       "0.049573168606133394"
      ]
     },
     "execution_count": 67,
     "metadata": {},
     "output_type": "execute_result"
    }
   ],
   "source": [
    "res_df, lassocv = fit_model(LassoCV(),X_train_tf,X_test_tf, y_train,y_test)\n",
    "lassocv.alpha_"
   ]
  },
  {
   "cell_type": "code",
   "execution_count": 64,
   "metadata": {
    "ExecuteTime": {
     "end_time": "2021-05-05T17:19:04.112076Z",
     "start_time": "2021-05-05T17:19:04.094213Z"
    }
   },
   "outputs": [
    {
     "data": {
      "text/html": [
       "<div>\n",
       "<style scoped>\n",
       "    .dataframe tbody tr th:only-of-type {\n",
       "        vertical-align: middle;\n",
       "    }\n",
       "\n",
       "    .dataframe tbody tr th {\n",
       "        vertical-align: top;\n",
       "    }\n",
       "\n",
       "    .dataframe thead th {\n",
       "        text-align: right;\n",
       "    }\n",
       "</style>\n",
       "<table border=\"1\" class=\"dataframe\">\n",
       "  <thead>\n",
       "    <tr style=\"text-align: right;\">\n",
       "      <th></th>\n",
       "      <th>cylinders</th>\n",
       "      <th>displacement</th>\n",
       "      <th>horsepower</th>\n",
       "      <th>weight</th>\n",
       "      <th>acceleration</th>\n",
       "      <th>model year</th>\n",
       "      <th>intercept</th>\n",
       "    </tr>\n",
       "  </thead>\n",
       "  <tbody>\n",
       "    <tr>\n",
       "      <th>ridge</th>\n",
       "      <td>-2.069000</td>\n",
       "      <td>-2.886000</td>\n",
       "      <td>-1.818</td>\n",
       "      <td>-15.238000</td>\n",
       "      <td>-1.456000</td>\n",
       "      <td>8.144000</td>\n",
       "      <td>28.488000</td>\n",
       "    </tr>\n",
       "    <tr>\n",
       "      <th>lasso</th>\n",
       "      <td>-9.097000</td>\n",
       "      <td>-0.000000</td>\n",
       "      <td>-0.000</td>\n",
       "      <td>-4.027000</td>\n",
       "      <td>0.000000</td>\n",
       "      <td>3.923000</td>\n",
       "      <td>27.192000</td>\n",
       "    </tr>\n",
       "    <tr>\n",
       "      <th>lin</th>\n",
       "      <td>-1.338000</td>\n",
       "      <td>-1.053000</td>\n",
       "      <td>-0.087</td>\n",
       "      <td>-19.267000</td>\n",
       "      <td>-0.370000</td>\n",
       "      <td>8.561000</td>\n",
       "      <td>27.881000</td>\n",
       "    </tr>\n",
       "    <tr>\n",
       "      <th>LassoCV</th>\n",
       "      <td>-1.373098</td>\n",
       "      <td>-0.960136</td>\n",
       "      <td>-0.000</td>\n",
       "      <td>-19.320186</td>\n",
       "      <td>-0.228123</td>\n",
       "      <td>8.553073</td>\n",
       "      <td>27.797187</td>\n",
       "    </tr>\n",
       "  </tbody>\n",
       "</table>\n",
       "</div>"
      ],
      "text/plain": [
       "         cylinders  displacement  horsepower     weight  acceleration  \\\n",
       "ridge    -2.069000     -2.886000      -1.818 -15.238000     -1.456000   \n",
       "lasso    -9.097000     -0.000000      -0.000  -4.027000      0.000000   \n",
       "lin      -1.338000     -1.053000      -0.087 -19.267000     -0.370000   \n",
       "LassoCV  -1.373098     -0.960136      -0.000 -19.320186     -0.228123   \n",
       "\n",
       "         model year  intercept  \n",
       "ridge      8.144000  28.488000  \n",
       "lasso      3.923000  27.192000  \n",
       "lin        8.561000  27.881000  \n",
       "LassoCV    8.553073  27.797187  "
      ]
     },
     "execution_count": 64,
     "metadata": {},
     "output_type": "execute_result"
    }
   ],
   "source": [
    "coeffs_df.loc['LassoCV'] = get_coefficients(lasso, X_train)\n",
    "coeffs_df"
   ]
  },
  {
   "cell_type": "code",
   "execution_count": 62,
   "metadata": {
    "ExecuteTime": {
     "end_time": "2021-05-05T17:18:29.619405Z",
     "start_time": "2021-05-05T17:18:29.612951Z"
    }
   },
   "outputs": [
    {
     "data": {
      "text/plain": [
       "cylinders       -1.373098\n",
       "displacement    -0.960136\n",
       "horsepower      -0.000000\n",
       "weight         -19.320186\n",
       "acceleration    -0.228123\n",
       "model year       8.553073\n",
       "intercept       27.797187\n",
       "dtype: float64"
      ]
     },
     "execution_count": 62,
     "metadata": {},
     "output_type": "execute_result"
    }
   ],
   "source": [
    "get_coefficients(lasso, X_train)"
   ]
  },
  {
   "cell_type": "code",
   "execution_count": 59,
   "metadata": {
    "ExecuteTime": {
     "end_time": "2021-05-05T17:16:11.842728Z",
     "start_time": "2021-05-05T17:16:11.832455Z"
    }
   },
   "outputs": [
    {
     "name": "stderr",
     "output_type": "stream",
     "text": [
      "/opt/anaconda3/envs/learn-env-new/lib/python3.8/site-packages/sklearn/utils/validation.py:72: DataConversionWarning: A column-vector y was passed when a 1d array was expected. Please change the shape of y to (n_samples, ), for example using ravel().\n",
      "  return f(**kwargs)\n"
     ]
    },
    {
     "data": {
      "text/plain": [
       "0.0014054034490563368"
      ]
     },
     "execution_count": 59,
     "metadata": {},
     "output_type": "execute_result"
    }
   ],
   "source": [
    "lasso_cvB = LassoLarsIC(criterion='bic')\n",
    "lasso_cvB.fit(X_train_tf,y_train);\n",
    "lasso_cvB.alpha_"
   ]
  },
  {
   "cell_type": "code",
   "execution_count": 75,
   "metadata": {
    "ExecuteTime": {
     "end_time": "2021-05-05T17:26:41.515559Z",
     "start_time": "2021-05-05T17:26:41.321787Z"
    }
   },
   "outputs": [
    {
     "data": {
      "text/plain": [
       "array([[0.2       , 0.05684755, 0.1576087 , 0.15130024, 0.41401274,\n",
       "        0.33333333],\n",
       "       [0.2       , 0.0749354 , 0.17391304, 0.17050827, 0.38853503,\n",
       "        0.58333333],\n",
       "       [0.2       , 0.13436693, 0.27717391, 0.26388889, 0.41401274,\n",
       "        0.16666667],\n",
       "       [1.        , 0.72868217, 0.64673913, 0.61465721, 0.22292994,\n",
       "        0.        ],\n",
       "       [0.2       , 0.03359173, 0.07608696, 0.04343972, 0.51592357,\n",
       "        0.91666667],\n",
       "       [0.2       , 0.0749354 , 0.13586957, 0.06264775, 0.26751592,\n",
       "        0.5       ],\n",
       "       [0.2       , 0.1369509 , 0.2826087 , 0.39361702, 0.41401274,\n",
       "        0.41666667],\n",
       "       [0.2       , 0.17054264, 0.26630435, 0.26654846, 0.43312102,\n",
       "        0.66666667],\n",
       "       [0.2       , 0.09560724, 0.0923913 , 0.17789598, 0.43949045,\n",
       "        0.91666667],\n",
       "       [0.2       , 0.02842377, 0.11413043, 0.09958629, 0.70063694,\n",
       "        0.33333333],\n",
       "       [1.        , 0.60981912, 0.56521739, 0.60845154, 0.22292994,\n",
       "        0.25      ],\n",
       "       [1.        , 0.60465116, 0.45108696, 0.62411348, 0.34394904,\n",
       "        0.75      ],\n",
       "       [0.2       , 0.10077519, 0.23913043, 0.24143026, 0.41401274,\n",
       "        0.        ],\n",
       "       [0.6       , 0.47028424, 0.32065217, 0.5141844 , 0.41401274,\n",
       "        0.5       ],\n",
       "       [1.        , 0.60465116, 0.51086957, 0.89391253, 0.50955414,\n",
       "        0.33333333],\n",
       "       [0.6       , 0.50129199, 0.21195652, 0.4143026 , 0.57324841,\n",
       "        1.        ],\n",
       "       [0.2       , 0.02583979, 0.0326087 , 0.10992908, 0.72611465,\n",
       "        0.66666667],\n",
       "       [0.2       , 0.17312661, 0.20652174, 0.20153664, 0.22929936,\n",
       "        1.        ],\n",
       "       [1.        , 0.85788114, 0.7826087 , 0.83008274, 0.2866242 ,\n",
       "        0.16666667],\n",
       "       [0.2       , 0.18604651, 0.22826087, 0.37736407, 0.59235669,\n",
       "        0.75      ],\n",
       "       [0.2       , 0.13178295, 0.27717391, 0.23404255, 0.43949045,\n",
       "        0.66666667],\n",
       "       [1.        , 0.85788114, 0.56521739, 0.84249409, 0.25477707,\n",
       "        0.25      ],\n",
       "       [0.6       , 0.42118863, 0.34782609, 0.53250591, 0.49681529,\n",
       "        0.91666667],\n",
       "       [0.2       , 0.10335917, 0.1576087 , 0.2177896 , 0.56050955,\n",
       "        0.91666667],\n",
       "       [0.2       , 0.02842377, 0.11413043, 0.1034279 , 0.47770701,\n",
       "        0.33333333],\n",
       "       [0.2       , 0.18604651, 0.20108696, 0.30319149, 0.57324841,\n",
       "        0.41666667],\n",
       "       [0.2       , 0.00775194, 0.10326087, 0.04728132, 0.70063694,\n",
       "        0.08333333],\n",
       "       [0.6       , 0.47028424, 0.32065217, 0.6749409 , 0.66878981,\n",
       "        0.41666667],\n",
       "       [0.6       , 0.33591731, 0.26630435, 0.44001182, 0.54140127,\n",
       "        0.33333333],\n",
       "       [1.        , 0.99741602, 0.94565217, 0.80998818, 0.06369427,\n",
       "        0.        ],\n",
       "       [0.6       , 0.34108527, 0.19021739, 0.41341608, 0.61146497,\n",
       "        0.5       ],\n",
       "       [0.2       , 0.18863049, 0.18478261, 0.47783688, 0.78980892,\n",
       "        0.91666667],\n",
       "       [0.6       , 0.47028424, 0.34782609, 0.60047281, 0.52229299,\n",
       "        0.5       ],\n",
       "       [0.6       , 0.42377261, 0.23913043, 0.48817967, 0.64968153,\n",
       "        0.75      ],\n",
       "       [1.        , 0.61757106, 0.45652174, 0.55880615, 0.25477707,\n",
       "        0.        ],\n",
       "       [0.6       , 0.27131783, 0.34782609, 0.3286052 , 0.29299363,\n",
       "        0.91666667],\n",
       "       [0.2       , 0.04651163, 0.10326087, 0.14686761, 0.63057325,\n",
       "        0.83333333],\n",
       "       [0.2       , 0.11369509, 0.21195652, 0.28427896, 0.52229299,\n",
       "        1.        ],\n",
       "       [1.        , 0.85788114, 0.56521739, 0.63475177, 0.0955414 ,\n",
       "        0.        ],\n",
       "       [0.6       , 0.27131783, 0.375     , 0.29018913, 0.21019108,\n",
       "        0.75      ],\n",
       "       [0.2       , 0.04392765, 0.10326087, 0.12027187, 0.7133758 ,\n",
       "        0.75      ],\n",
       "       [0.2       , 0.11627907, 0.26630435, 0.22429078, 0.44585987,\n",
       "        0.        ],\n",
       "       [0.2       , 0.05426357, 0.07608696, 0.10490544, 0.68789809,\n",
       "        0.83333333],\n",
       "       [0.2       , 0.0749354 , 0.11413043, 0.1572104 , 0.63694268,\n",
       "        0.83333333],\n",
       "       [0.2       , 0.21447028, 0.21195652, 0.36702128, 0.61146497,\n",
       "        0.66666667],\n",
       "       [0.2       , 0.21447028, 0.23913043, 0.39509456, 0.59235669,\n",
       "        1.        ],\n",
       "       [0.2       , 0.07751938, 0.11956522, 0.12765957, 0.66878981,\n",
       "        0.58333333],\n",
       "       [0.2       , 0.13436693, 0.22826087, 0.48965721, 0.88535032,\n",
       "        0.5       ],\n",
       "       [1.        , 0.73126615, 0.57608696, 0.76891253, 0.30573248,\n",
       "        0.5       ],\n",
       "       [0.2       , 0.13953488, 0.21195652, 0.20596927, 0.66878981,\n",
       "        0.25      ],\n",
       "       [1.        , 0.72868217, 0.32065217, 0.62411348, 0.70063694,\n",
       "        0.91666667],\n",
       "       [0.2       , 0.07235142, 0.125     , 0.17021277, 0.63694268,\n",
       "        0.16666667],\n",
       "       [0.6       , 0.40568475, 0.21195652, 0.54728132, 0.5477707 ,\n",
       "        0.91666667],\n",
       "       [0.6       , 0.22739018, 0.41304348, 0.35283688, 0.35031847,\n",
       "        0.25      ],\n",
       "       [0.2       , 0.04392765, 0.13043478, 0.11140662, 0.57324841,\n",
       "        0.5       ],\n",
       "       [0.2       , 0.05684755, 0.01086957, 0.13947991, 0.87261146,\n",
       "        0.83333333],\n",
       "       [0.2       , 0.05943152, 0.11413043, 0.07003546, 0.36942675,\n",
       "        0.83333333],\n",
       "       [0.2       , 0.02842377, 0.13043478, 0.13622931, 0.73248408,\n",
       "        0.08333333],\n",
       "       [0.2       , 0.10335917, 0.13043478, 0.18676123, 0.56687898,\n",
       "        1.        ],\n",
       "       [0.2       , 0.02842377, 0.06521739, 0.04196217, 0.56687898,\n",
       "        0.91666667],\n",
       "       [0.6       , 0.42377261, 0.29347826, 0.38061466, 0.50955414,\n",
       "        0.33333333],\n",
       "       [1.        , 0.72868217, 0.72826087, 0.81767139, 0.2611465 ,\n",
       "        0.5       ],\n",
       "       [0.6       , 0.47028424, 0.2826087 , 0.56501182, 0.70063694,\n",
       "        0.58333333],\n",
       "       [1.        , 0.85788114, 0.67391304, 0.92582742, 0.25477707,\n",
       "        0.08333333],\n",
       "       [0.2       , 0.07751938, 0.20108696, 0.17907801, 0.54140127,\n",
       "        0.33333333],\n",
       "       [0.6       , 0.42377261, 0.23913043, 0.47192671, 0.58598726,\n",
       "        0.66666667],\n",
       "       [0.6       , 0.24547804, 0.42934783, 0.45124113, 0.3566879 ,\n",
       "        0.66666667],\n",
       "       [0.2       , 0.13436693, 0.1576087 , 0.27452719, 0.60509554,\n",
       "        0.83333333],\n",
       "       [1.        , 0.72868217, 0.67391304, 0.75413712, 0.21656051,\n",
       "        0.58333333],\n",
       "       [0.2       , 0.04651163, 0.10326087, 0.106974  , 0.45859873,\n",
       "        0.75      ],\n",
       "       [1.        , 0.49612403, 0.34782609, 0.72310875, 0.70063694,\n",
       "        0.58333333],\n",
       "       [1.        , 0.60465116, 0.49456522, 0.7177896 , 0.41401274,\n",
       "        0.25      ],\n",
       "       [0.2       , 0.18863049, 0.13586957, 0.46601655, 1.07006369,\n",
       "        0.75      ],\n",
       "       [0.2       , 0.05943152, 0.11413043, 0.10401891, 0.49044586,\n",
       "        1.        ],\n",
       "       [1.        , 0.60981912, 0.56521739, 0.67346336, 0.2866242 ,\n",
       "        0.16666667],\n",
       "       [0.2       , 0.13436693, 0.22826087, 0.16164303, 0.41401274,\n",
       "        1.        ],\n",
       "       [1.        , 0.85788114, 0.70108696, 1.04225768, 0.25477707,\n",
       "        0.08333333],\n",
       "       [1.        , 0.49612403, 0.23913043, 0.53398345, 0.9044586 ,\n",
       "        0.75      ],\n",
       "       [0.6       , 0.49095607, 0.26630435, 0.46690307, 0.62420382,\n",
       "        0.5       ],\n",
       "       [1.        , 0.73126615, 0.58152174, 0.74349882, 0.31847134,\n",
       "        0.16666667],\n",
       "       [0.2       , 0.04392765, 0.0326087 , 0.12470449, 0.9044586 ,\n",
       "        0.5       ],\n",
       "       [0.6       , 0.47028424, 0.29347826, 0.64066194, 0.57324841,\n",
       "        0.33333333],\n",
       "       [1.        , 0.64599483, 0.48369565, 0.65514184, 0.45859873,\n",
       "        0.75      ],\n",
       "       [0.2       , 0.07751938, 0.18478261, 0.0892435 , 0.40764331,\n",
       "        0.75      ],\n",
       "       [1.        , 0.72868217, 0.53804348, 0.70183215, 0.31847134,\n",
       "        0.25      ],\n",
       "       [0.2       , 0.0749354 , 0.0326087 , 0.15277778, 1.05732484,\n",
       "        1.        ],\n",
       "       [0.2       , 0.07751938, 0.10869565, 0.05526005, 0.40764331,\n",
       "        0.66666667],\n",
       "       [0.2       , 0.13436693, 0.22826087, 0.39716312, 0.57324841,\n",
       "        0.41666667],\n",
       "       [0.2       , 0.04651163, 0.10326087, 0.11997636, 0.53503185,\n",
       "        0.83333333],\n",
       "       [0.2       , 0.05426357, 0.13586957, 0.11140662, 0.43949045,\n",
       "        0.66666667],\n",
       "       [1.        , 0.72868217, 0.56521739, 0.91193853, 0.41401274,\n",
       "        0.33333333],\n",
       "       [0.2       , 0.10077519, 0.14130435, 0.2000591 , 0.57324841,\n",
       "        0.83333333],\n",
       "       [1.        , 0.81395349, 0.72826087, 0.98758865, 0.22292994,\n",
       "        0.08333333],\n",
       "       [0.2       , 0.02842377, 0.11413043, 0.1143617 , 0.50955414,\n",
       "        0.33333333],\n",
       "       [0.6       , 0.33850129, 0.27717391, 0.34308511, 0.47770701,\n",
       "        0.        ],\n",
       "       [1.        , 0.64599483, 0.56521739, 0.77541371, 0.41401274,\n",
       "        0.25      ],\n",
       "       [0.2       , 0.11369509, 0.22826087, 0.29314421, 0.7388535 ,\n",
       "        1.        ],\n",
       "       [1.        , 0.72868217, 0.5923913 , 0.8537234 , 0.35031847,\n",
       "        0.16666667],\n",
       "       [0.2       , 0.05684755, 0.01086957, 0.10992908, 0.85987261,\n",
       "        0.66666667],\n",
       "       [0.6       , 0.25839793, 0.4673913 , 0.38327423, 0.21656051,\n",
       "        0.83333333],\n",
       "       [0.2       , 0.21447028, 0.23913043, 0.31235225, 0.50955414,\n",
       "        0.75      ],\n",
       "       [1.        , 0.64599483, 0.56521739, 0.68764775, 0.33121019,\n",
       "        0.5       ],\n",
       "       [0.2       , 0.17312661, 0.20652174, 0.26950355, 0.50955414,\n",
       "        1.        ],\n",
       "       [0.2       , 0.07751938, 0.11956522, 0.16016548, 0.54140127,\n",
       "        0.66666667],\n",
       "       [0.6       , 0.29198966, 0.34782609, 0.39361702, 0.53503185,\n",
       "        1.        ],\n",
       "       [0.2       , 0.0749354 , 0.        , 0.09958629, 0.82802548,\n",
       "        0.25      ],\n",
       "       [0.2       , 0.0749354 , 0.22826087, 0.15277778, 0.41401274,\n",
       "        0.08333333],\n",
       "       [0.2       , 0.0749354 , 0.17391304, 0.16991726, 0.49681529,\n",
       "        0.83333333],\n",
       "       [0.2       , 0.07751938, 0.16304348, 0.15691489, 0.42675159,\n",
       "        0.83333333],\n",
       "       [0.2       , 0.13953488, 0.2173913 , 0.17937352, 0.38216561,\n",
       "        0.08333333],\n",
       "       [0.2       , 0.16020672, 0.30434783, 0.45419622, 0.49044586,\n",
       "        0.5       ],\n",
       "       [1.        , 0.60465116, 0.50543478, 0.47044917, 0.20382166,\n",
       "        0.66666667],\n",
       "       [0.6       , 0.24547804, 0.47282609, 0.53102837, 0.49681529,\n",
       "        0.66666667],\n",
       "       [1.        , 0.85788114, 0.72826087, 0.77039007, 0.19745223,\n",
       "        0.58333333],\n",
       "       [0.2       , 0.1369509 , 0.35869565, 0.39007092, 0.41401274,\n",
       "        0.16666667],\n",
       "       [1.        , 0.96124031, 0.91847826, 0.79757683, 0.03184713,\n",
       "        0.        ],\n",
       "       [0.6       , 0.42377261, 0.29347826, 0.34751773, 0.44585987,\n",
       "        0.25      ],\n",
       "       [0.2       , 0.07751938, 0.10326087, 0.22665485, 0.8089172 ,\n",
       "        0.91666667]])"
      ]
     },
     "execution_count": 75,
     "metadata": {},
     "output_type": "execute_result"
    }
   ],
   "source": [
    "from sklearn.preprocessing import MinMaxScaler, StandardScaler,scale\n",
    "scaler = MinMaxScaler()\n",
    "X_train_tf = scaler.fit_transform(X_train)\n",
    "X_test_tf = scaler.transform(X_test)\n",
    "X_test_tf"
   ]
  },
  {
   "cell_type": "code",
   "execution_count": 68,
   "metadata": {
    "ExecuteTime": {
     "end_time": "2021-05-05T17:23:35.802102Z",
     "start_time": "2021-05-05T17:23:35.798158Z"
    }
   },
   "outputs": [
    {
     "data": {
      "text/plain": [
       "MinMaxScaler()"
      ]
     },
     "execution_count": 68,
     "metadata": {},
     "output_type": "execute_result"
    }
   ],
   "source": [
    "StandardScaler()"
   ]
  },
  {
   "cell_type": "code",
   "execution_count": 55,
   "metadata": {
    "ExecuteTime": {
     "end_time": "2021-05-05T15:18:14.369490Z",
     "start_time": "2021-05-05T15:18:13.726866Z"
    },
    "scrolled": true
   },
   "outputs": [
    {
     "data": {
      "text/plain": [
       "<matplotlib.legend.Legend at 0x7fead4561310>"
      ]
     },
     "execution_count": 55,
     "metadata": {},
     "output_type": "execute_result"
    },
    {
     "data": {
      "image/png": "[encoded data removed]",
      "text/plain": [
       "<Figure size 921.6x633.6 with 1 Axes>"
      ]
     },
     "metadata": {
      "needs_background": "light"
     },
     "output_type": "display_data"
    }
   ],
   "source": [
    "def plot_ic_criterion(model, name, color):\n",
    "    \"\"\"Taken from:\n",
    "    https://scikit-learn.org/stable/auto_examples/linear_model/plot_lasso_model_selection.html\"\"\"\n",
    "    # This is to avoid division by zero while doing np.log10\n",
    "    EPSILON = 1e-4\n",
    "    alpha_ = model.alpha_ + EPSILON\n",
    "    alphas_ = model.alphas_ + EPSILON\n",
    "    criterion_ = model.criterion_\n",
    "    plt.plot(-np.log10(alphas_), criterion_, '--', color=color,\n",
    "             linewidth=3, label='%s criterion' % name)\n",
    "    \n",
    "    plt.axvline(-np.log10(alpha_), color=color, linewidth=3,\n",
    "                label=f'alpha: {name} estimate (alpha={round(alpha_,5)})')\n",
    "    plt.xlabel('-log(alpha)')\n",
    "    plt.ylabel('criterion')\n",
    "\n",
    "plot_ic_criterion(lasso_cvA,'AIC','blue')\n",
    "plot_ic_criterion(lasso_cvB,'BIC','green')#,'BIC' )\n",
    "plt.legend(bbox_to_anchor=[1,1],loc='upper left')"
   ]
  },
  {
   "cell_type": "markdown",
   "metadata": {},
   "source": [
    "# Activity: King's County Housing Data Revisited"
   ]
  },
  {
   "cell_type": "code",
   "execution_count": 19,
   "metadata": {
    "ExecuteTime": {
     "end_time": "2021-05-05T15:14:44.255171Z",
     "start_time": "2021-05-05T15:14:44.252210Z"
    }
   },
   "outputs": [],
   "source": [
    "import pandas as pd\n",
    "import numpy as np\n",
    "import matplotlib.pyplot as plt\n",
    "import seaborn as sns\n",
    "plt.style.use('seaborn-poster')"
   ]
  },
  {
   "cell_type": "code",
   "execution_count": 20,
   "metadata": {
    "ExecuteTime": {
     "end_time": "2021-05-05T15:14:44.314232Z",
     "start_time": "2021-05-05T15:14:44.257092Z"
    }
   },
   "outputs": [],
   "source": [
    "from sklearn.preprocessing import MinMaxScaler,StandardScaler,OneHotEncoder\n",
    "from sklearn.impute import SimpleImputer\n",
    "\n",
    "from sklearn.linear_model import Lasso, Ridge, LinearRegression\n",
    "from sklearn.linear_model import LassoCV, RidgeCV\n",
    "from sklearn.model_selection import train_test_split"
   ]
  },
  {
   "cell_type": "code",
   "execution_count": 21,
   "metadata": {
    "ExecuteTime": {
     "end_time": "2021-05-05T15:14:45.423786Z",
     "start_time": "2021-05-05T15:14:44.316692Z"
    }
   },
   "outputs": [
    {
     "data": {
      "text/html": [
       "<div>\n",
       "<style scoped>\n",
       "    .dataframe tbody tr th:only-of-type {\n",
       "        vertical-align: middle;\n",
       "    }\n",
       "\n",
       "    .dataframe tbody tr th {\n",
       "        vertical-align: top;\n",
       "    }\n",
       "\n",
       "    .dataframe thead th {\n",
       "        text-align: right;\n",
       "    }\n",
       "</style>\n",
       "<table border=\"1\" class=\"dataframe\">\n",
       "  <thead>\n",
       "    <tr style=\"text-align: right;\">\n",
       "      <th></th>\n",
       "      <th>price</th>\n",
       "      <th>bedrooms</th>\n",
       "      <th>bathrooms</th>\n",
       "      <th>sqft_living</th>\n",
       "      <th>sqft_lot</th>\n",
       "      <th>floors</th>\n",
       "      <th>waterfront</th>\n",
       "      <th>view</th>\n",
       "      <th>condition</th>\n",
       "      <th>grade</th>\n",
       "      <th>sqft_above</th>\n",
       "      <th>sqft_basement</th>\n",
       "      <th>zipcode</th>\n",
       "      <th>sqft_living15</th>\n",
       "      <th>sqft_lot15</th>\n",
       "    </tr>\n",
       "  </thead>\n",
       "  <tbody>\n",
       "    <tr>\n",
       "      <th>0</th>\n",
       "      <td>221900.0</td>\n",
       "      <td>3</td>\n",
       "      <td>1.00</td>\n",
       "      <td>1180</td>\n",
       "      <td>5650</td>\n",
       "      <td>1.0</td>\n",
       "      <td>NaN</td>\n",
       "      <td>0.0</td>\n",
       "      <td>3</td>\n",
       "      <td>7</td>\n",
       "      <td>1180</td>\n",
       "      <td>0.0</td>\n",
       "      <td>98178</td>\n",
       "      <td>1340</td>\n",
       "      <td>5650</td>\n",
       "    </tr>\n",
       "    <tr>\n",
       "      <th>1</th>\n",
       "      <td>538000.0</td>\n",
       "      <td>3</td>\n",
       "      <td>2.25</td>\n",
       "      <td>2570</td>\n",
       "      <td>7242</td>\n",
       "      <td>2.0</td>\n",
       "      <td>0.0</td>\n",
       "      <td>0.0</td>\n",
       "      <td>3</td>\n",
       "      <td>7</td>\n",
       "      <td>2170</td>\n",
       "      <td>400.0</td>\n",
       "      <td>98125</td>\n",
       "      <td>1690</td>\n",
       "      <td>7639</td>\n",
       "    </tr>\n",
       "    <tr>\n",
       "      <th>2</th>\n",
       "      <td>180000.0</td>\n",
       "      <td>2</td>\n",
       "      <td>1.00</td>\n",
       "      <td>770</td>\n",
       "      <td>10000</td>\n",
       "      <td>1.0</td>\n",
       "      <td>0.0</td>\n",
       "      <td>0.0</td>\n",
       "      <td>3</td>\n",
       "      <td>6</td>\n",
       "      <td>770</td>\n",
       "      <td>0.0</td>\n",
       "      <td>98028</td>\n",
       "      <td>2720</td>\n",
       "      <td>8062</td>\n",
       "    </tr>\n",
       "    <tr>\n",
       "      <th>3</th>\n",
       "      <td>604000.0</td>\n",
       "      <td>4</td>\n",
       "      <td>3.00</td>\n",
       "      <td>1960</td>\n",
       "      <td>5000</td>\n",
       "      <td>1.0</td>\n",
       "      <td>0.0</td>\n",
       "      <td>0.0</td>\n",
       "      <td>5</td>\n",
       "      <td>7</td>\n",
       "      <td>1050</td>\n",
       "      <td>910.0</td>\n",
       "      <td>98136</td>\n",
       "      <td>1360</td>\n",
       "      <td>5000</td>\n",
       "    </tr>\n",
       "    <tr>\n",
       "      <th>4</th>\n",
       "      <td>510000.0</td>\n",
       "      <td>3</td>\n",
       "      <td>2.00</td>\n",
       "      <td>1680</td>\n",
       "      <td>8080</td>\n",
       "      <td>1.0</td>\n",
       "      <td>0.0</td>\n",
       "      <td>0.0</td>\n",
       "      <td>3</td>\n",
       "      <td>8</td>\n",
       "      <td>1680</td>\n",
       "      <td>0.0</td>\n",
       "      <td>98074</td>\n",
       "      <td>1800</td>\n",
       "      <td>7503</td>\n",
       "    </tr>\n",
       "    <tr>\n",
       "      <th>...</th>\n",
       "      <td>...</td>\n",
       "      <td>...</td>\n",
       "      <td>...</td>\n",
       "      <td>...</td>\n",
       "      <td>...</td>\n",
       "      <td>...</td>\n",
       "      <td>...</td>\n",
       "      <td>...</td>\n",
       "      <td>...</td>\n",
       "      <td>...</td>\n",
       "      <td>...</td>\n",
       "      <td>...</td>\n",
       "      <td>...</td>\n",
       "      <td>...</td>\n",
       "      <td>...</td>\n",
       "    </tr>\n",
       "    <tr>\n",
       "      <th>21592</th>\n",
       "      <td>360000.0</td>\n",
       "      <td>3</td>\n",
       "      <td>2.50</td>\n",
       "      <td>1530</td>\n",
       "      <td>1131</td>\n",
       "      <td>3.0</td>\n",
       "      <td>0.0</td>\n",
       "      <td>0.0</td>\n",
       "      <td>3</td>\n",
       "      <td>8</td>\n",
       "      <td>1530</td>\n",
       "      <td>0.0</td>\n",
       "      <td>98103</td>\n",
       "      <td>1530</td>\n",
       "      <td>1509</td>\n",
       "    </tr>\n",
       "    <tr>\n",
       "      <th>21593</th>\n",
       "      <td>400000.0</td>\n",
       "      <td>4</td>\n",
       "      <td>2.50</td>\n",
       "      <td>2310</td>\n",
       "      <td>5813</td>\n",
       "      <td>2.0</td>\n",
       "      <td>0.0</td>\n",
       "      <td>0.0</td>\n",
       "      <td>3</td>\n",
       "      <td>8</td>\n",
       "      <td>2310</td>\n",
       "      <td>0.0</td>\n",
       "      <td>98146</td>\n",
       "      <td>1830</td>\n",
       "      <td>7200</td>\n",
       "    </tr>\n",
       "    <tr>\n",
       "      <th>21594</th>\n",
       "      <td>402101.0</td>\n",
       "      <td>2</td>\n",
       "      <td>0.75</td>\n",
       "      <td>1020</td>\n",
       "      <td>1350</td>\n",
       "      <td>2.0</td>\n",
       "      <td>0.0</td>\n",
       "      <td>0.0</td>\n",
       "      <td>3</td>\n",
       "      <td>7</td>\n",
       "      <td>1020</td>\n",
       "      <td>0.0</td>\n",
       "      <td>98144</td>\n",
       "      <td>1020</td>\n",
       "      <td>2007</td>\n",
       "    </tr>\n",
       "    <tr>\n",
       "      <th>21595</th>\n",
       "      <td>400000.0</td>\n",
       "      <td>3</td>\n",
       "      <td>2.50</td>\n",
       "      <td>1600</td>\n",
       "      <td>2388</td>\n",
       "      <td>2.0</td>\n",
       "      <td>NaN</td>\n",
       "      <td>0.0</td>\n",
       "      <td>3</td>\n",
       "      <td>8</td>\n",
       "      <td>1600</td>\n",
       "      <td>0.0</td>\n",
       "      <td>98027</td>\n",
       "      <td>1410</td>\n",
       "      <td>1287</td>\n",
       "    </tr>\n",
       "    <tr>\n",
       "      <th>21596</th>\n",
       "      <td>325000.0</td>\n",
       "      <td>2</td>\n",
       "      <td>0.75</td>\n",
       "      <td>1020</td>\n",
       "      <td>1076</td>\n",
       "      <td>2.0</td>\n",
       "      <td>0.0</td>\n",
       "      <td>0.0</td>\n",
       "      <td>3</td>\n",
       "      <td>7</td>\n",
       "      <td>1020</td>\n",
       "      <td>0.0</td>\n",
       "      <td>98144</td>\n",
       "      <td>1020</td>\n",
       "      <td>1357</td>\n",
       "    </tr>\n",
       "  </tbody>\n",
       "</table>\n",
       "<p>21597 rows × 15 columns</p>\n",
       "</div>"
      ],
      "text/plain": [
       "          price  bedrooms  bathrooms  sqft_living  sqft_lot  floors  \\\n",
       "0      221900.0         3       1.00         1180      5650     1.0   \n",
       "1      538000.0         3       2.25         2570      7242     2.0   \n",
       "2      180000.0         2       1.00          770     10000     1.0   \n",
       "3      604000.0         4       3.00         1960      5000     1.0   \n",
       "4      510000.0         3       2.00         1680      8080     1.0   \n",
       "...         ...       ...        ...          ...       ...     ...   \n",
       "21592  360000.0         3       2.50         1530      1131     3.0   \n",
       "21593  400000.0         4       2.50         2310      5813     2.0   \n",
       "21594  402101.0         2       0.75         1020      1350     2.0   \n",
       "21595  400000.0         3       2.50         1600      2388     2.0   \n",
       "21596  325000.0         2       0.75         1020      1076     2.0   \n",
       "\n",
       "       waterfront  view  condition  grade  sqft_above  sqft_basement  zipcode  \\\n",
       "0             NaN   0.0          3      7        1180            0.0    98178   \n",
       "1             0.0   0.0          3      7        2170          400.0    98125   \n",
       "2             0.0   0.0          3      6         770            0.0    98028   \n",
       "3             0.0   0.0          5      7        1050          910.0    98136   \n",
       "4             0.0   0.0          3      8        1680            0.0    98074   \n",
       "...           ...   ...        ...    ...         ...            ...      ...   \n",
       "21592         0.0   0.0          3      8        1530            0.0    98103   \n",
       "21593         0.0   0.0          3      8        2310            0.0    98146   \n",
       "21594         0.0   0.0          3      7        1020            0.0    98144   \n",
       "21595         NaN   0.0          3      8        1600            0.0    98027   \n",
       "21596         0.0   0.0          3      7        1020            0.0    98144   \n",
       "\n",
       "       sqft_living15  sqft_lot15  \n",
       "0               1340        5650  \n",
       "1               1690        7639  \n",
       "2               2720        8062  \n",
       "3               1360        5000  \n",
       "4               1800        7503  \n",
       "...              ...         ...  \n",
       "21592           1530        1509  \n",
       "21593           1830        7200  \n",
       "21594           1020        2007  \n",
       "21595           1410        1287  \n",
       "21596           1020        1357  \n",
       "\n",
       "[21597 rows x 15 columns]"
      ]
     },
     "execution_count": 21,
     "metadata": {},
     "output_type": "execute_result"
    }
   ],
   "source": [
    "## load_project data \n",
    "usecols = ['price', 'bedrooms', 'bathrooms', 'sqft_living',\n",
    "       'sqft_lot', 'floors', 'waterfront', 'view', 'condition', 'grade',\n",
    "       'sqft_above', 'sqft_basement', 'zipcode',\n",
    "       'sqft_living15', 'sqft_lot15']\n",
    "\n",
    "kc_data= 'https://raw.githubusercontent.com/learn-co-curriculum/dsc-phase-2-project/main/data/kc_house_data.csv'\n",
    "df = pd.read_csv(kc_data,usecols=usecols,na_values=['?'])\n",
    "df"
   ]
  },
  {
   "cell_type": "code",
   "execution_count": 22,
   "metadata": {
    "ExecuteTime": {
     "end_time": "2021-05-05T15:14:45.436314Z",
     "start_time": "2021-05-05T15:14:45.426104Z"
    }
   },
   "outputs": [
    {
     "name": "stdout",
     "output_type": "stream",
     "text": [
      "<class 'pandas.core.frame.DataFrame'>\n",
      "RangeIndex: 21597 entries, 0 to 21596\n",
      "Data columns (total 15 columns):\n",
      " #   Column         Non-Null Count  Dtype  \n",
      "---  ------         --------------  -----  \n",
      " 0   price          21597 non-null  float64\n",
      " 1   bedrooms       21597 non-null  int64  \n",
      " 2   bathrooms      21597 non-null  float64\n",
      " 3   sqft_living    21597 non-null  int64  \n",
      " 4   sqft_lot       21597 non-null  int64  \n",
      " 5   floors         21597 non-null  float64\n",
      " 6   waterfront     19221 non-null  float64\n",
      " 7   view           21534 non-null  float64\n",
      " 8   condition      21597 non-null  int64  \n",
      " 9   grade          21597 non-null  int64  \n",
      " 10  sqft_above     21597 non-null  int64  \n",
      " 11  sqft_basement  21143 non-null  float64\n",
      " 12  zipcode        21597 non-null  int64  \n",
      " 13  sqft_living15  21597 non-null  int64  \n",
      " 14  sqft_lot15     21597 non-null  int64  \n",
      "dtypes: float64(6), int64(9)\n",
      "memory usage: 2.5 MB\n"
     ]
    }
   ],
   "source": [
    "df.info()"
   ]
  },
  {
   "cell_type": "code",
   "execution_count": 23,
   "metadata": {
    "ExecuteTime": {
     "end_time": "2021-05-05T15:14:45.456778Z",
     "start_time": "2021-05-05T15:14:45.444715Z"
    }
   },
   "outputs": [
    {
     "data": {
      "text/plain": [
       "[(15117, 14), (6480, 14), (15117,), (6480,)]"
      ]
     },
     "execution_count": 23,
     "metadata": {},
     "output_type": "execute_result"
    }
   ],
   "source": [
    "## train test split\n",
    "target = 'price'\n",
    "\n",
    "y = df[target]\n",
    "X = df.drop(target, axis=1)\n",
    "\n",
    "# Perform test train split\n",
    "X_train , X_test, y_train, y_test = train_test_split(X, y, test_size=0.3,)\n",
    "#                                                      random_state=12)\n",
    "[var.shape for var in [X_train , X_test, y_train, y_test]]"
   ]
  },
  {
   "cell_type": "code",
   "execution_count": 24,
   "metadata": {
    "ExecuteTime": {
     "end_time": "2021-05-05T15:14:45.467501Z",
     "start_time": "2021-05-05T15:14:45.461611Z"
    }
   },
   "outputs": [
    {
     "data": {
      "text/plain": [
       "bedrooms            0\n",
       "bathrooms           0\n",
       "sqft_living         0\n",
       "sqft_lot            0\n",
       "floors              0\n",
       "waterfront       1648\n",
       "view               39\n",
       "condition           0\n",
       "grade               0\n",
       "sqft_above          0\n",
       "sqft_basement     336\n",
       "zipcode             0\n",
       "sqft_living15       0\n",
       "sqft_lot15          0\n",
       "dtype: int64"
      ]
     },
     "execution_count": 24,
     "metadata": {},
     "output_type": "execute_result"
    }
   ],
   "source": [
    "## Check for nulls in training set\n",
    "X_train.isna().sum()"
   ]
  },
  {
   "cell_type": "code",
   "execution_count": 25,
   "metadata": {
    "ExecuteTime": {
     "end_time": "2021-05-05T15:14:45.471628Z",
     "start_time": "2021-05-05T15:14:45.469338Z"
    }
   },
   "outputs": [],
   "source": [
    "## Specify which values to impute with which method\n",
    "\n",
    "## Most frequent\n",
    "mode_cols = ['waterfront','view']\n",
    "## Fill with 0's\n",
    "zero_cols = ['sqft_basement']"
   ]
  },
  {
   "cell_type": "code",
   "execution_count": 26,
   "metadata": {
    "ExecuteTime": {
     "end_time": "2021-05-05T15:14:45.477742Z",
     "start_time": "2021-05-05T15:14:45.473746Z"
    }
   },
   "outputs": [],
   "source": [
    "## Copying X_train and X_test as start of X_train_tf,X_test_tf\n",
    "X_train_tf = X_train.copy()\n",
    "X_test_tf = X_test.copy()"
   ]
  },
  {
   "cell_type": "code",
   "execution_count": 27,
   "metadata": {
    "ExecuteTime": {
     "end_time": "2021-05-05T15:14:45.503969Z",
     "start_time": "2021-05-05T15:14:45.479868Z"
    }
   },
   "outputs": [
    {
     "data": {
      "text/plain": [
       "bedrooms           0\n",
       "bathrooms          0\n",
       "sqft_living        0\n",
       "sqft_lot           0\n",
       "floors             0\n",
       "waterfront         0\n",
       "view               0\n",
       "condition          0\n",
       "grade              0\n",
       "sqft_above         0\n",
       "sqft_basement    336\n",
       "zipcode            0\n",
       "sqft_living15      0\n",
       "sqft_lot15         0\n",
       "dtype: int64"
      ]
     },
     "execution_count": 27,
     "metadata": {},
     "output_type": "execute_result"
    }
   ],
   "source": [
    "## Impute the columns with most-frequent value\n",
    "imputer_mode = SimpleImputer(strategy='most_frequent')\n",
    "\n",
    "X_train_tf[mode_cols] = imputer_mode.fit_transform(X_train_tf[mode_cols].copy())\n",
    "X_test_tf[mode_cols] = imputer_mode.transform(X_test_tf[mode_cols].copy())\n",
    "\n",
    "## Verify it worked\n",
    "X_train_tf.isna().sum()"
   ]
  },
  {
   "cell_type": "code",
   "execution_count": 28,
   "metadata": {
    "ExecuteTime": {
     "end_time": "2021-05-05T15:14:45.528459Z",
     "start_time": "2021-05-05T15:14:45.506300Z"
    }
   },
   "outputs": [
    {
     "name": "stdout",
     "output_type": "stream",
     "text": [
      "bedrooms         0\n",
      "bathrooms        0\n",
      "sqft_living      0\n",
      "sqft_lot         0\n",
      "floors           0\n",
      "waterfront       0\n",
      "view             0\n",
      "condition        0\n",
      "grade            0\n",
      "sqft_above       0\n",
      "sqft_basement    0\n",
      "zipcode          0\n",
      "sqft_living15    0\n",
      "sqft_lot15       0\n",
      "dtype: int64\n"
     ]
    },
    {
     "data": {
      "text/plain": [
       "bedrooms         0\n",
       "bathrooms        0\n",
       "sqft_living      0\n",
       "sqft_lot         0\n",
       "floors           0\n",
       "waterfront       0\n",
       "view             0\n",
       "condition        0\n",
       "grade            0\n",
       "sqft_above       0\n",
       "sqft_basement    0\n",
       "zipcode          0\n",
       "sqft_living15    0\n",
       "sqft_lot15       0\n",
       "dtype: int64"
      ]
     },
     "execution_count": 28,
     "metadata": {},
     "output_type": "execute_result"
    }
   ],
   "source": [
    "## Impute cols with 0s\n",
    "imputer_zero = SimpleImputer(strategy='constant',fill_value=0)\n",
    "\n",
    "X_train_tf[zero_cols] = imputer_zero.fit_transform(X_train_tf[zero_cols])\n",
    "X_test_tf[zero_cols] = imputer_zero.transform(X_test_tf[zero_cols])\n",
    "\n",
    "## Verify it worked\n",
    "print(X_train_tf.isna().sum())\n",
    "X_test_tf.isna().sum()"
   ]
  },
  {
   "cell_type": "code",
   "execution_count": 29,
   "metadata": {
    "ExecuteTime": {
     "end_time": "2021-05-05T15:14:45.537991Z",
     "start_time": "2021-05-05T15:14:45.530883Z"
    }
   },
   "outputs": [
    {
     "data": {
      "text/plain": [
       "Index(['bedrooms', 'bathrooms', 'sqft_living', 'sqft_lot', 'floors',\n",
       "       'waterfront', 'view', 'condition', 'grade', 'sqft_above',\n",
       "       'sqft_basement', 'sqft_living15', 'sqft_lot15'],\n",
       "      dtype='object')"
      ]
     },
     "execution_count": 29,
     "metadata": {},
     "output_type": "execute_result"
    }
   ],
   "source": [
    "## Specifing which cols to encode and which to scale. \n",
    "cat_cols = ['zipcode'] \n",
    "num_cols = df.drop(columns=[target,*cat_cols]).columns\n",
    "num_cols"
   ]
  },
  {
   "cell_type": "code",
   "execution_count": 30,
   "metadata": {
    "ExecuteTime": {
     "end_time": "2021-05-05T15:14:45.592769Z",
     "start_time": "2021-05-05T15:14:45.540319Z"
    }
   },
   "outputs": [
    {
     "data": {
      "text/html": [
       "<div>\n",
       "<style scoped>\n",
       "    .dataframe tbody tr th:only-of-type {\n",
       "        vertical-align: middle;\n",
       "    }\n",
       "\n",
       "    .dataframe tbody tr th {\n",
       "        vertical-align: top;\n",
       "    }\n",
       "\n",
       "    .dataframe thead th {\n",
       "        text-align: right;\n",
       "    }\n",
       "</style>\n",
       "<table border=\"1\" class=\"dataframe\">\n",
       "  <thead>\n",
       "    <tr style=\"text-align: right;\">\n",
       "      <th></th>\n",
       "      <th>zipcode_98001</th>\n",
       "      <th>zipcode_98002</th>\n",
       "      <th>zipcode_98003</th>\n",
       "      <th>zipcode_98004</th>\n",
       "      <th>zipcode_98005</th>\n",
       "      <th>zipcode_98006</th>\n",
       "      <th>zipcode_98007</th>\n",
       "      <th>zipcode_98008</th>\n",
       "      <th>zipcode_98010</th>\n",
       "      <th>zipcode_98011</th>\n",
       "      <th>...</th>\n",
       "      <th>zipcode_98146</th>\n",
       "      <th>zipcode_98148</th>\n",
       "      <th>zipcode_98155</th>\n",
       "      <th>zipcode_98166</th>\n",
       "      <th>zipcode_98168</th>\n",
       "      <th>zipcode_98177</th>\n",
       "      <th>zipcode_98178</th>\n",
       "      <th>zipcode_98188</th>\n",
       "      <th>zipcode_98198</th>\n",
       "      <th>zipcode_98199</th>\n",
       "    </tr>\n",
       "  </thead>\n",
       "  <tbody>\n",
       "    <tr>\n",
       "      <th>10685</th>\n",
       "      <td>0.0</td>\n",
       "      <td>0.0</td>\n",
       "      <td>0.0</td>\n",
       "      <td>0.0</td>\n",
       "      <td>0.0</td>\n",
       "      <td>0.0</td>\n",
       "      <td>0.0</td>\n",
       "      <td>0.0</td>\n",
       "      <td>0.0</td>\n",
       "      <td>0.0</td>\n",
       "      <td>...</td>\n",
       "      <td>0.0</td>\n",
       "      <td>0.0</td>\n",
       "      <td>0.0</td>\n",
       "      <td>0.0</td>\n",
       "      <td>0.0</td>\n",
       "      <td>0.0</td>\n",
       "      <td>0.0</td>\n",
       "      <td>0.0</td>\n",
       "      <td>0.0</td>\n",
       "      <td>0.0</td>\n",
       "    </tr>\n",
       "    <tr>\n",
       "      <th>13626</th>\n",
       "      <td>0.0</td>\n",
       "      <td>0.0</td>\n",
       "      <td>0.0</td>\n",
       "      <td>0.0</td>\n",
       "      <td>0.0</td>\n",
       "      <td>0.0</td>\n",
       "      <td>0.0</td>\n",
       "      <td>0.0</td>\n",
       "      <td>0.0</td>\n",
       "      <td>0.0</td>\n",
       "      <td>...</td>\n",
       "      <td>0.0</td>\n",
       "      <td>0.0</td>\n",
       "      <td>0.0</td>\n",
       "      <td>0.0</td>\n",
       "      <td>0.0</td>\n",
       "      <td>0.0</td>\n",
       "      <td>0.0</td>\n",
       "      <td>0.0</td>\n",
       "      <td>0.0</td>\n",
       "      <td>0.0</td>\n",
       "    </tr>\n",
       "    <tr>\n",
       "      <th>6363</th>\n",
       "      <td>0.0</td>\n",
       "      <td>0.0</td>\n",
       "      <td>0.0</td>\n",
       "      <td>0.0</td>\n",
       "      <td>0.0</td>\n",
       "      <td>0.0</td>\n",
       "      <td>0.0</td>\n",
       "      <td>0.0</td>\n",
       "      <td>0.0</td>\n",
       "      <td>0.0</td>\n",
       "      <td>...</td>\n",
       "      <td>0.0</td>\n",
       "      <td>0.0</td>\n",
       "      <td>0.0</td>\n",
       "      <td>0.0</td>\n",
       "      <td>0.0</td>\n",
       "      <td>0.0</td>\n",
       "      <td>0.0</td>\n",
       "      <td>0.0</td>\n",
       "      <td>0.0</td>\n",
       "      <td>0.0</td>\n",
       "    </tr>\n",
       "    <tr>\n",
       "      <th>20531</th>\n",
       "      <td>0.0</td>\n",
       "      <td>0.0</td>\n",
       "      <td>0.0</td>\n",
       "      <td>0.0</td>\n",
       "      <td>0.0</td>\n",
       "      <td>0.0</td>\n",
       "      <td>0.0</td>\n",
       "      <td>0.0</td>\n",
       "      <td>0.0</td>\n",
       "      <td>0.0</td>\n",
       "      <td>...</td>\n",
       "      <td>0.0</td>\n",
       "      <td>0.0</td>\n",
       "      <td>0.0</td>\n",
       "      <td>0.0</td>\n",
       "      <td>0.0</td>\n",
       "      <td>0.0</td>\n",
       "      <td>0.0</td>\n",
       "      <td>0.0</td>\n",
       "      <td>0.0</td>\n",
       "      <td>0.0</td>\n",
       "    </tr>\n",
       "    <tr>\n",
       "      <th>6198</th>\n",
       "      <td>0.0</td>\n",
       "      <td>0.0</td>\n",
       "      <td>0.0</td>\n",
       "      <td>0.0</td>\n",
       "      <td>0.0</td>\n",
       "      <td>0.0</td>\n",
       "      <td>0.0</td>\n",
       "      <td>0.0</td>\n",
       "      <td>0.0</td>\n",
       "      <td>0.0</td>\n",
       "      <td>...</td>\n",
       "      <td>0.0</td>\n",
       "      <td>0.0</td>\n",
       "      <td>0.0</td>\n",
       "      <td>0.0</td>\n",
       "      <td>0.0</td>\n",
       "      <td>0.0</td>\n",
       "      <td>0.0</td>\n",
       "      <td>0.0</td>\n",
       "      <td>0.0</td>\n",
       "      <td>0.0</td>\n",
       "    </tr>\n",
       "    <tr>\n",
       "      <th>...</th>\n",
       "      <td>...</td>\n",
       "      <td>...</td>\n",
       "      <td>...</td>\n",
       "      <td>...</td>\n",
       "      <td>...</td>\n",
       "      <td>...</td>\n",
       "      <td>...</td>\n",
       "      <td>...</td>\n",
       "      <td>...</td>\n",
       "      <td>...</td>\n",
       "      <td>...</td>\n",
       "      <td>...</td>\n",
       "      <td>...</td>\n",
       "      <td>...</td>\n",
       "      <td>...</td>\n",
       "      <td>...</td>\n",
       "      <td>...</td>\n",
       "      <td>...</td>\n",
       "      <td>...</td>\n",
       "      <td>...</td>\n",
       "      <td>...</td>\n",
       "    </tr>\n",
       "    <tr>\n",
       "      <th>3180</th>\n",
       "      <td>0.0</td>\n",
       "      <td>0.0</td>\n",
       "      <td>0.0</td>\n",
       "      <td>0.0</td>\n",
       "      <td>0.0</td>\n",
       "      <td>0.0</td>\n",
       "      <td>0.0</td>\n",
       "      <td>0.0</td>\n",
       "      <td>0.0</td>\n",
       "      <td>0.0</td>\n",
       "      <td>...</td>\n",
       "      <td>0.0</td>\n",
       "      <td>0.0</td>\n",
       "      <td>0.0</td>\n",
       "      <td>0.0</td>\n",
       "      <td>0.0</td>\n",
       "      <td>0.0</td>\n",
       "      <td>0.0</td>\n",
       "      <td>0.0</td>\n",
       "      <td>0.0</td>\n",
       "      <td>0.0</td>\n",
       "    </tr>\n",
       "    <tr>\n",
       "      <th>1316</th>\n",
       "      <td>0.0</td>\n",
       "      <td>0.0</td>\n",
       "      <td>0.0</td>\n",
       "      <td>0.0</td>\n",
       "      <td>0.0</td>\n",
       "      <td>0.0</td>\n",
       "      <td>0.0</td>\n",
       "      <td>0.0</td>\n",
       "      <td>0.0</td>\n",
       "      <td>0.0</td>\n",
       "      <td>...</td>\n",
       "      <td>0.0</td>\n",
       "      <td>0.0</td>\n",
       "      <td>0.0</td>\n",
       "      <td>0.0</td>\n",
       "      <td>0.0</td>\n",
       "      <td>0.0</td>\n",
       "      <td>0.0</td>\n",
       "      <td>0.0</td>\n",
       "      <td>0.0</td>\n",
       "      <td>0.0</td>\n",
       "    </tr>\n",
       "    <tr>\n",
       "      <th>20685</th>\n",
       "      <td>0.0</td>\n",
       "      <td>0.0</td>\n",
       "      <td>0.0</td>\n",
       "      <td>0.0</td>\n",
       "      <td>0.0</td>\n",
       "      <td>0.0</td>\n",
       "      <td>0.0</td>\n",
       "      <td>0.0</td>\n",
       "      <td>0.0</td>\n",
       "      <td>0.0</td>\n",
       "      <td>...</td>\n",
       "      <td>0.0</td>\n",
       "      <td>0.0</td>\n",
       "      <td>0.0</td>\n",
       "      <td>0.0</td>\n",
       "      <td>0.0</td>\n",
       "      <td>0.0</td>\n",
       "      <td>0.0</td>\n",
       "      <td>0.0</td>\n",
       "      <td>0.0</td>\n",
       "      <td>0.0</td>\n",
       "    </tr>\n",
       "    <tr>\n",
       "      <th>13216</th>\n",
       "      <td>0.0</td>\n",
       "      <td>0.0</td>\n",
       "      <td>0.0</td>\n",
       "      <td>0.0</td>\n",
       "      <td>0.0</td>\n",
       "      <td>0.0</td>\n",
       "      <td>0.0</td>\n",
       "      <td>0.0</td>\n",
       "      <td>0.0</td>\n",
       "      <td>0.0</td>\n",
       "      <td>...</td>\n",
       "      <td>0.0</td>\n",
       "      <td>0.0</td>\n",
       "      <td>0.0</td>\n",
       "      <td>0.0</td>\n",
       "      <td>0.0</td>\n",
       "      <td>0.0</td>\n",
       "      <td>0.0</td>\n",
       "      <td>0.0</td>\n",
       "      <td>0.0</td>\n",
       "      <td>0.0</td>\n",
       "    </tr>\n",
       "    <tr>\n",
       "      <th>4503</th>\n",
       "      <td>0.0</td>\n",
       "      <td>0.0</td>\n",
       "      <td>0.0</td>\n",
       "      <td>0.0</td>\n",
       "      <td>0.0</td>\n",
       "      <td>0.0</td>\n",
       "      <td>0.0</td>\n",
       "      <td>0.0</td>\n",
       "      <td>0.0</td>\n",
       "      <td>0.0</td>\n",
       "      <td>...</td>\n",
       "      <td>0.0</td>\n",
       "      <td>0.0</td>\n",
       "      <td>0.0</td>\n",
       "      <td>0.0</td>\n",
       "      <td>0.0</td>\n",
       "      <td>0.0</td>\n",
       "      <td>0.0</td>\n",
       "      <td>0.0</td>\n",
       "      <td>0.0</td>\n",
       "      <td>0.0</td>\n",
       "    </tr>\n",
       "  </tbody>\n",
       "</table>\n",
       "<p>15117 rows × 70 columns</p>\n",
       "</div>"
      ],
      "text/plain": [
       "       zipcode_98001  zipcode_98002  zipcode_98003  zipcode_98004  \\\n",
       "10685            0.0            0.0            0.0            0.0   \n",
       "13626            0.0            0.0            0.0            0.0   \n",
       "6363             0.0            0.0            0.0            0.0   \n",
       "20531            0.0            0.0            0.0            0.0   \n",
       "6198             0.0            0.0            0.0            0.0   \n",
       "...              ...            ...            ...            ...   \n",
       "3180             0.0            0.0            0.0            0.0   \n",
       "1316             0.0            0.0            0.0            0.0   \n",
       "20685            0.0            0.0            0.0            0.0   \n",
       "13216            0.0            0.0            0.0            0.0   \n",
       "4503             0.0            0.0            0.0            0.0   \n",
       "\n",
       "       zipcode_98005  zipcode_98006  zipcode_98007  zipcode_98008  \\\n",
       "10685            0.0            0.0            0.0            0.0   \n",
       "13626            0.0            0.0            0.0            0.0   \n",
       "6363             0.0            0.0            0.0            0.0   \n",
       "20531            0.0            0.0            0.0            0.0   \n",
       "6198             0.0            0.0            0.0            0.0   \n",
       "...              ...            ...            ...            ...   \n",
       "3180             0.0            0.0            0.0            0.0   \n",
       "1316             0.0            0.0            0.0            0.0   \n",
       "20685            0.0            0.0            0.0            0.0   \n",
       "13216            0.0            0.0            0.0            0.0   \n",
       "4503             0.0            0.0            0.0            0.0   \n",
       "\n",
       "       zipcode_98010  zipcode_98011  ...  zipcode_98146  zipcode_98148  \\\n",
       "10685            0.0            0.0  ...            0.0            0.0   \n",
       "13626            0.0            0.0  ...            0.0            0.0   \n",
       "6363             0.0            0.0  ...            0.0            0.0   \n",
       "20531            0.0            0.0  ...            0.0            0.0   \n",
       "6198             0.0            0.0  ...            0.0            0.0   \n",
       "...              ...            ...  ...            ...            ...   \n",
       "3180             0.0            0.0  ...            0.0            0.0   \n",
       "1316             0.0            0.0  ...            0.0            0.0   \n",
       "20685            0.0            0.0  ...            0.0            0.0   \n",
       "13216            0.0            0.0  ...            0.0            0.0   \n",
       "4503             0.0            0.0  ...            0.0            0.0   \n",
       "\n",
       "       zipcode_98155  zipcode_98166  zipcode_98168  zipcode_98177  \\\n",
       "10685            0.0            0.0            0.0            0.0   \n",
       "13626            0.0            0.0            0.0            0.0   \n",
       "6363             0.0            0.0            0.0            0.0   \n",
       "20531            0.0            0.0            0.0            0.0   \n",
       "6198             0.0            0.0            0.0            0.0   \n",
       "...              ...            ...            ...            ...   \n",
       "3180             0.0            0.0            0.0            0.0   \n",
       "1316             0.0            0.0            0.0            0.0   \n",
       "20685            0.0            0.0            0.0            0.0   \n",
       "13216            0.0            0.0            0.0            0.0   \n",
       "4503             0.0            0.0            0.0            0.0   \n",
       "\n",
       "       zipcode_98178  zipcode_98188  zipcode_98198  zipcode_98199  \n",
       "10685            0.0            0.0            0.0            0.0  \n",
       "13626            0.0            0.0            0.0            0.0  \n",
       "6363             0.0            0.0            0.0            0.0  \n",
       "20531            0.0            0.0            0.0            0.0  \n",
       "6198             0.0            0.0            0.0            0.0  \n",
       "...              ...            ...            ...            ...  \n",
       "3180             0.0            0.0            0.0            0.0  \n",
       "1316             0.0            0.0            0.0            0.0  \n",
       "20685            0.0            0.0            0.0            0.0  \n",
       "13216            0.0            0.0            0.0            0.0  \n",
       "4503             0.0            0.0            0.0            0.0  \n",
       "\n",
       "[15117 rows x 70 columns]"
      ]
     },
     "execution_count": 30,
     "metadata": {},
     "output_type": "execute_result"
    }
   ],
   "source": [
    "## Encode cat_cols\n",
    "encoder = OneHotEncoder(sparse=False, handle_unknown='ignore', drop=None)\n",
    "encoder.fit(X_train_tf[cat_cols])\n",
    "\n",
    "train_cat_cols = pd.DataFrame(encoder.transform(X_train_tf[cat_cols]),\n",
    "                              columns=encoder.get_feature_names(cat_cols),\n",
    "                              index=X_train_tf.index)\n",
    "\n",
    "test_cat_cols = pd.DataFrame(encoder.transform(X_test_tf[cat_cols]),\n",
    "                              columns=encoder.get_feature_names(cat_cols),\n",
    "                              index=X_test_tf.index)\n",
    "\n",
    "train_cat_cols"
   ]
  },
  {
   "cell_type": "code",
   "execution_count": 31,
   "metadata": {
    "ExecuteTime": {
     "end_time": "2021-05-05T15:14:45.597812Z",
     "start_time": "2021-05-05T15:14:45.594973Z"
    }
   },
   "outputs": [],
   "source": [
    "## Scaling Num_cols\n",
    "scaler = MinMaxScaler()"
   ]
  },
  {
   "cell_type": "code",
   "execution_count": 32,
   "metadata": {
    "ExecuteTime": {
     "end_time": "2021-05-05T15:14:45.636054Z",
     "start_time": "2021-05-05T15:14:45.599933Z"
    }
   },
   "outputs": [
    {
     "data": {
      "text/html": [
       "<div>\n",
       "<style scoped>\n",
       "    .dataframe tbody tr th:only-of-type {\n",
       "        vertical-align: middle;\n",
       "    }\n",
       "\n",
       "    .dataframe tbody tr th {\n",
       "        vertical-align: top;\n",
       "    }\n",
       "\n",
       "    .dataframe thead th {\n",
       "        text-align: right;\n",
       "    }\n",
       "</style>\n",
       "<table border=\"1\" class=\"dataframe\">\n",
       "  <thead>\n",
       "    <tr style=\"text-align: right;\">\n",
       "      <th></th>\n",
       "      <th>bedrooms</th>\n",
       "      <th>bathrooms</th>\n",
       "      <th>sqft_living</th>\n",
       "      <th>sqft_lot</th>\n",
       "      <th>floors</th>\n",
       "      <th>waterfront</th>\n",
       "      <th>view</th>\n",
       "      <th>condition</th>\n",
       "      <th>grade</th>\n",
       "      <th>sqft_above</th>\n",
       "      <th>sqft_basement</th>\n",
       "      <th>sqft_living15</th>\n",
       "      <th>sqft_lot15</th>\n",
       "    </tr>\n",
       "  </thead>\n",
       "  <tbody>\n",
       "    <tr>\n",
       "      <th>10685</th>\n",
       "      <td>0.09375</td>\n",
       "      <td>0.333333</td>\n",
       "      <td>0.227790</td>\n",
       "      <td>0.004434</td>\n",
       "      <td>0.0</td>\n",
       "      <td>0.0</td>\n",
       "      <td>0.75</td>\n",
       "      <td>0.50</td>\n",
       "      <td>0.7</td>\n",
       "      <td>0.164823</td>\n",
       "      <td>0.000000</td>\n",
       "      <td>0.377460</td>\n",
       "      <td>0.007730</td>\n",
       "    </tr>\n",
       "    <tr>\n",
       "      <th>13626</th>\n",
       "      <td>0.06250</td>\n",
       "      <td>0.266667</td>\n",
       "      <td>0.144267</td>\n",
       "      <td>0.002301</td>\n",
       "      <td>0.4</td>\n",
       "      <td>0.0</td>\n",
       "      <td>0.00</td>\n",
       "      <td>0.50</td>\n",
       "      <td>0.4</td>\n",
       "      <td>0.210177</td>\n",
       "      <td>0.000000</td>\n",
       "      <td>0.257603</td>\n",
       "      <td>0.004305</td>\n",
       "    </tr>\n",
       "    <tr>\n",
       "      <th>6363</th>\n",
       "      <td>0.03125</td>\n",
       "      <td>0.066667</td>\n",
       "      <td>0.040243</td>\n",
       "      <td>0.002363</td>\n",
       "      <td>0.0</td>\n",
       "      <td>0.0</td>\n",
       "      <td>0.00</td>\n",
       "      <td>0.50</td>\n",
       "      <td>0.4</td>\n",
       "      <td>0.058628</td>\n",
       "      <td>0.000000</td>\n",
       "      <td>0.099284</td>\n",
       "      <td>0.005363</td>\n",
       "    </tr>\n",
       "    <tr>\n",
       "      <th>20531</th>\n",
       "      <td>0.06250</td>\n",
       "      <td>0.400000</td>\n",
       "      <td>0.101746</td>\n",
       "      <td>0.000977</td>\n",
       "      <td>0.4</td>\n",
       "      <td>0.0</td>\n",
       "      <td>0.00</td>\n",
       "      <td>0.50</td>\n",
       "      <td>0.4</td>\n",
       "      <td>0.113938</td>\n",
       "      <td>0.064315</td>\n",
       "      <td>0.171735</td>\n",
       "      <td>0.001793</td>\n",
       "    </tr>\n",
       "    <tr>\n",
       "      <th>6198</th>\n",
       "      <td>0.06250</td>\n",
       "      <td>0.166667</td>\n",
       "      <td>0.094913</td>\n",
       "      <td>0.005452</td>\n",
       "      <td>0.0</td>\n",
       "      <td>0.0</td>\n",
       "      <td>0.00</td>\n",
       "      <td>0.75</td>\n",
       "      <td>0.4</td>\n",
       "      <td>0.138274</td>\n",
       "      <td>0.000000</td>\n",
       "      <td>0.186047</td>\n",
       "      <td>0.010969</td>\n",
       "    </tr>\n",
       "    <tr>\n",
       "      <th>...</th>\n",
       "      <td>...</td>\n",
       "      <td>...</td>\n",
       "      <td>...</td>\n",
       "      <td>...</td>\n",
       "      <td>...</td>\n",
       "      <td>...</td>\n",
       "      <td>...</td>\n",
       "      <td>...</td>\n",
       "      <td>...</td>\n",
       "      <td>...</td>\n",
       "      <td>...</td>\n",
       "      <td>...</td>\n",
       "      <td>...</td>\n",
       "    </tr>\n",
       "    <tr>\n",
       "      <th>3180</th>\n",
       "      <td>0.06250</td>\n",
       "      <td>0.200000</td>\n",
       "      <td>0.089598</td>\n",
       "      <td>0.001091</td>\n",
       "      <td>0.4</td>\n",
       "      <td>0.0</td>\n",
       "      <td>0.00</td>\n",
       "      <td>0.50</td>\n",
       "      <td>0.4</td>\n",
       "      <td>0.130531</td>\n",
       "      <td>0.000000</td>\n",
       "      <td>0.166369</td>\n",
       "      <td>0.003211</td>\n",
       "    </tr>\n",
       "    <tr>\n",
       "      <th>1316</th>\n",
       "      <td>0.06250</td>\n",
       "      <td>0.166667</td>\n",
       "      <td>0.097191</td>\n",
       "      <td>0.004527</td>\n",
       "      <td>0.0</td>\n",
       "      <td>0.0</td>\n",
       "      <td>0.00</td>\n",
       "      <td>0.50</td>\n",
       "      <td>0.4</td>\n",
       "      <td>0.080752</td>\n",
       "      <td>0.114108</td>\n",
       "      <td>0.118068</td>\n",
       "      <td>0.008526</td>\n",
       "    </tr>\n",
       "    <tr>\n",
       "      <th>20685</th>\n",
       "      <td>0.03125</td>\n",
       "      <td>0.100000</td>\n",
       "      <td>0.066059</td>\n",
       "      <td>0.000939</td>\n",
       "      <td>0.4</td>\n",
       "      <td>0.0</td>\n",
       "      <td>0.00</td>\n",
       "      <td>0.50</td>\n",
       "      <td>0.5</td>\n",
       "      <td>0.096239</td>\n",
       "      <td>0.000000</td>\n",
       "      <td>0.128801</td>\n",
       "      <td>0.005328</td>\n",
       "    </tr>\n",
       "    <tr>\n",
       "      <th>13216</th>\n",
       "      <td>0.06250</td>\n",
       "      <td>0.133333</td>\n",
       "      <td>0.110099</td>\n",
       "      <td>0.003123</td>\n",
       "      <td>0.2</td>\n",
       "      <td>0.0</td>\n",
       "      <td>0.00</td>\n",
       "      <td>0.50</td>\n",
       "      <td>0.4</td>\n",
       "      <td>0.140487</td>\n",
       "      <td>0.037344</td>\n",
       "      <td>0.203936</td>\n",
       "      <td>0.006339</td>\n",
       "    </tr>\n",
       "    <tr>\n",
       "      <th>4503</th>\n",
       "      <td>0.09375</td>\n",
       "      <td>0.266667</td>\n",
       "      <td>0.138952</td>\n",
       "      <td>0.004522</td>\n",
       "      <td>0.4</td>\n",
       "      <td>0.0</td>\n",
       "      <td>0.00</td>\n",
       "      <td>0.50</td>\n",
       "      <td>0.4</td>\n",
       "      <td>0.202434</td>\n",
       "      <td>0.000000</td>\n",
       "      <td>0.361538</td>\n",
       "      <td>0.009056</td>\n",
       "    </tr>\n",
       "  </tbody>\n",
       "</table>\n",
       "<p>15117 rows × 13 columns</p>\n",
       "</div>"
      ],
      "text/plain": [
       "       bedrooms  bathrooms  sqft_living  sqft_lot  floors  waterfront  view  \\\n",
       "10685   0.09375   0.333333     0.227790  0.004434     0.0         0.0  0.75   \n",
       "13626   0.06250   0.266667     0.144267  0.002301     0.4         0.0  0.00   \n",
       "6363    0.03125   0.066667     0.040243  0.002363     0.0         0.0  0.00   \n",
       "20531   0.06250   0.400000     0.101746  0.000977     0.4         0.0  0.00   \n",
       "6198    0.06250   0.166667     0.094913  0.005452     0.0         0.0  0.00   \n",
       "...         ...        ...          ...       ...     ...         ...   ...   \n",
       "3180    0.06250   0.200000     0.089598  0.001091     0.4         0.0  0.00   \n",
       "1316    0.06250   0.166667     0.097191  0.004527     0.0         0.0  0.00   \n",
       "20685   0.03125   0.100000     0.066059  0.000939     0.4         0.0  0.00   \n",
       "13216   0.06250   0.133333     0.110099  0.003123     0.2         0.0  0.00   \n",
       "4503    0.09375   0.266667     0.138952  0.004522     0.4         0.0  0.00   \n",
       "\n",
       "       condition  grade  sqft_above  sqft_basement  sqft_living15  sqft_lot15  \n",
       "10685       0.50    0.7    0.164823       0.000000       0.377460    0.007730  \n",
       "13626       0.50    0.4    0.210177       0.000000       0.257603    0.004305  \n",
       "6363        0.50    0.4    0.058628       0.000000       0.099284    0.005363  \n",
       "20531       0.50    0.4    0.113938       0.064315       0.171735    0.001793  \n",
       "6198        0.75    0.4    0.138274       0.000000       0.186047    0.010969  \n",
       "...          ...    ...         ...            ...            ...         ...  \n",
       "3180        0.50    0.4    0.130531       0.000000       0.166369    0.003211  \n",
       "1316        0.50    0.4    0.080752       0.114108       0.118068    0.008526  \n",
       "20685       0.50    0.5    0.096239       0.000000       0.128801    0.005328  \n",
       "13216       0.50    0.4    0.140487       0.037344       0.203936    0.006339  \n",
       "4503        0.50    0.4    0.202434       0.000000       0.361538    0.009056  \n",
       "\n",
       "[15117 rows x 13 columns]"
      ]
     },
     "execution_count": 32,
     "metadata": {},
     "output_type": "execute_result"
    }
   ],
   "source": [
    "train_num_cols = pd.DataFrame(scaler.fit_transform(X_train_tf[num_cols]),\n",
    "                              columns=num_cols,index=X_train_tf.index)\n",
    "\n",
    "test_num_cols = pd.DataFrame(scaler.transform(X_test_tf[num_cols]),\n",
    "                             columns=num_cols, index=X_test_tf.index)\n",
    "train_num_cols"
   ]
  },
  {
   "cell_type": "code",
   "execution_count": 33,
   "metadata": {
    "ExecuteTime": {
     "end_time": "2021-05-05T15:14:45.686854Z",
     "start_time": "2021-05-05T15:14:45.638957Z"
    }
   },
   "outputs": [
    {
     "data": {
      "text/html": [
       "<div>\n",
       "<style scoped>\n",
       "    .dataframe tbody tr th:only-of-type {\n",
       "        vertical-align: middle;\n",
       "    }\n",
       "\n",
       "    .dataframe tbody tr th {\n",
       "        vertical-align: top;\n",
       "    }\n",
       "\n",
       "    .dataframe thead th {\n",
       "        text-align: right;\n",
       "    }\n",
       "</style>\n",
       "<table border=\"1\" class=\"dataframe\">\n",
       "  <thead>\n",
       "    <tr style=\"text-align: right;\">\n",
       "      <th></th>\n",
       "      <th>bedrooms</th>\n",
       "      <th>bathrooms</th>\n",
       "      <th>sqft_living</th>\n",
       "      <th>sqft_lot</th>\n",
       "      <th>floors</th>\n",
       "      <th>waterfront</th>\n",
       "      <th>view</th>\n",
       "      <th>condition</th>\n",
       "      <th>grade</th>\n",
       "      <th>sqft_above</th>\n",
       "      <th>...</th>\n",
       "      <th>zipcode_98146</th>\n",
       "      <th>zipcode_98148</th>\n",
       "      <th>zipcode_98155</th>\n",
       "      <th>zipcode_98166</th>\n",
       "      <th>zipcode_98168</th>\n",
       "      <th>zipcode_98177</th>\n",
       "      <th>zipcode_98178</th>\n",
       "      <th>zipcode_98188</th>\n",
       "      <th>zipcode_98198</th>\n",
       "      <th>zipcode_98199</th>\n",
       "    </tr>\n",
       "  </thead>\n",
       "  <tbody>\n",
       "    <tr>\n",
       "      <th>10685</th>\n",
       "      <td>0.09375</td>\n",
       "      <td>0.333333</td>\n",
       "      <td>0.227790</td>\n",
       "      <td>0.004434</td>\n",
       "      <td>0.0</td>\n",
       "      <td>0.0</td>\n",
       "      <td>0.75</td>\n",
       "      <td>0.50</td>\n",
       "      <td>0.7</td>\n",
       "      <td>0.164823</td>\n",
       "      <td>...</td>\n",
       "      <td>0.0</td>\n",
       "      <td>0.0</td>\n",
       "      <td>0.0</td>\n",
       "      <td>0.0</td>\n",
       "      <td>0.0</td>\n",
       "      <td>0.0</td>\n",
       "      <td>0.0</td>\n",
       "      <td>0.0</td>\n",
       "      <td>0.0</td>\n",
       "      <td>0.0</td>\n",
       "    </tr>\n",
       "    <tr>\n",
       "      <th>13626</th>\n",
       "      <td>0.06250</td>\n",
       "      <td>0.266667</td>\n",
       "      <td>0.144267</td>\n",
       "      <td>0.002301</td>\n",
       "      <td>0.4</td>\n",
       "      <td>0.0</td>\n",
       "      <td>0.00</td>\n",
       "      <td>0.50</td>\n",
       "      <td>0.4</td>\n",
       "      <td>0.210177</td>\n",
       "      <td>...</td>\n",
       "      <td>0.0</td>\n",
       "      <td>0.0</td>\n",
       "      <td>0.0</td>\n",
       "      <td>0.0</td>\n",
       "      <td>0.0</td>\n",
       "      <td>0.0</td>\n",
       "      <td>0.0</td>\n",
       "      <td>0.0</td>\n",
       "      <td>0.0</td>\n",
       "      <td>0.0</td>\n",
       "    </tr>\n",
       "    <tr>\n",
       "      <th>6363</th>\n",
       "      <td>0.03125</td>\n",
       "      <td>0.066667</td>\n",
       "      <td>0.040243</td>\n",
       "      <td>0.002363</td>\n",
       "      <td>0.0</td>\n",
       "      <td>0.0</td>\n",
       "      <td>0.00</td>\n",
       "      <td>0.50</td>\n",
       "      <td>0.4</td>\n",
       "      <td>0.058628</td>\n",
       "      <td>...</td>\n",
       "      <td>0.0</td>\n",
       "      <td>0.0</td>\n",
       "      <td>0.0</td>\n",
       "      <td>0.0</td>\n",
       "      <td>0.0</td>\n",
       "      <td>0.0</td>\n",
       "      <td>0.0</td>\n",
       "      <td>0.0</td>\n",
       "      <td>0.0</td>\n",
       "      <td>0.0</td>\n",
       "    </tr>\n",
       "    <tr>\n",
       "      <th>20531</th>\n",
       "      <td>0.06250</td>\n",
       "      <td>0.400000</td>\n",
       "      <td>0.101746</td>\n",
       "      <td>0.000977</td>\n",
       "      <td>0.4</td>\n",
       "      <td>0.0</td>\n",
       "      <td>0.00</td>\n",
       "      <td>0.50</td>\n",
       "      <td>0.4</td>\n",
       "      <td>0.113938</td>\n",
       "      <td>...</td>\n",
       "      <td>0.0</td>\n",
       "      <td>0.0</td>\n",
       "      <td>0.0</td>\n",
       "      <td>0.0</td>\n",
       "      <td>0.0</td>\n",
       "      <td>0.0</td>\n",
       "      <td>0.0</td>\n",
       "      <td>0.0</td>\n",
       "      <td>0.0</td>\n",
       "      <td>0.0</td>\n",
       "    </tr>\n",
       "    <tr>\n",
       "      <th>6198</th>\n",
       "      <td>0.06250</td>\n",
       "      <td>0.166667</td>\n",
       "      <td>0.094913</td>\n",
       "      <td>0.005452</td>\n",
       "      <td>0.0</td>\n",
       "      <td>0.0</td>\n",
       "      <td>0.00</td>\n",
       "      <td>0.75</td>\n",
       "      <td>0.4</td>\n",
       "      <td>0.138274</td>\n",
       "      <td>...</td>\n",
       "      <td>0.0</td>\n",
       "      <td>0.0</td>\n",
       "      <td>0.0</td>\n",
       "      <td>0.0</td>\n",
       "      <td>0.0</td>\n",
       "      <td>0.0</td>\n",
       "      <td>0.0</td>\n",
       "      <td>0.0</td>\n",
       "      <td>0.0</td>\n",
       "      <td>0.0</td>\n",
       "    </tr>\n",
       "    <tr>\n",
       "      <th>...</th>\n",
       "      <td>...</td>\n",
       "      <td>...</td>\n",
       "      <td>...</td>\n",
       "      <td>...</td>\n",
       "      <td>...</td>\n",
       "      <td>...</td>\n",
       "      <td>...</td>\n",
       "      <td>...</td>\n",
       "      <td>...</td>\n",
       "      <td>...</td>\n",
       "      <td>...</td>\n",
       "      <td>...</td>\n",
       "      <td>...</td>\n",
       "      <td>...</td>\n",
       "      <td>...</td>\n",
       "      <td>...</td>\n",
       "      <td>...</td>\n",
       "      <td>...</td>\n",
       "      <td>...</td>\n",
       "      <td>...</td>\n",
       "      <td>...</td>\n",
       "    </tr>\n",
       "    <tr>\n",
       "      <th>3180</th>\n",
       "      <td>0.06250</td>\n",
       "      <td>0.200000</td>\n",
       "      <td>0.089598</td>\n",
       "      <td>0.001091</td>\n",
       "      <td>0.4</td>\n",
       "      <td>0.0</td>\n",
       "      <td>0.00</td>\n",
       "      <td>0.50</td>\n",
       "      <td>0.4</td>\n",
       "      <td>0.130531</td>\n",
       "      <td>...</td>\n",
       "      <td>0.0</td>\n",
       "      <td>0.0</td>\n",
       "      <td>0.0</td>\n",
       "      <td>0.0</td>\n",
       "      <td>0.0</td>\n",
       "      <td>0.0</td>\n",
       "      <td>0.0</td>\n",
       "      <td>0.0</td>\n",
       "      <td>0.0</td>\n",
       "      <td>0.0</td>\n",
       "    </tr>\n",
       "    <tr>\n",
       "      <th>1316</th>\n",
       "      <td>0.06250</td>\n",
       "      <td>0.166667</td>\n",
       "      <td>0.097191</td>\n",
       "      <td>0.004527</td>\n",
       "      <td>0.0</td>\n",
       "      <td>0.0</td>\n",
       "      <td>0.00</td>\n",
       "      <td>0.50</td>\n",
       "      <td>0.4</td>\n",
       "      <td>0.080752</td>\n",
       "      <td>...</td>\n",
       "      <td>0.0</td>\n",
       "      <td>0.0</td>\n",
       "      <td>0.0</td>\n",
       "      <td>0.0</td>\n",
       "      <td>0.0</td>\n",
       "      <td>0.0</td>\n",
       "      <td>0.0</td>\n",
       "      <td>0.0</td>\n",
       "      <td>0.0</td>\n",
       "      <td>0.0</td>\n",
       "    </tr>\n",
       "    <tr>\n",
       "      <th>20685</th>\n",
       "      <td>0.03125</td>\n",
       "      <td>0.100000</td>\n",
       "      <td>0.066059</td>\n",
       "      <td>0.000939</td>\n",
       "      <td>0.4</td>\n",
       "      <td>0.0</td>\n",
       "      <td>0.00</td>\n",
       "      <td>0.50</td>\n",
       "      <td>0.5</td>\n",
       "      <td>0.096239</td>\n",
       "      <td>...</td>\n",
       "      <td>0.0</td>\n",
       "      <td>0.0</td>\n",
       "      <td>0.0</td>\n",
       "      <td>0.0</td>\n",
       "      <td>0.0</td>\n",
       "      <td>0.0</td>\n",
       "      <td>0.0</td>\n",
       "      <td>0.0</td>\n",
       "      <td>0.0</td>\n",
       "      <td>0.0</td>\n",
       "    </tr>\n",
       "    <tr>\n",
       "      <th>13216</th>\n",
       "      <td>0.06250</td>\n",
       "      <td>0.133333</td>\n",
       "      <td>0.110099</td>\n",
       "      <td>0.003123</td>\n",
       "      <td>0.2</td>\n",
       "      <td>0.0</td>\n",
       "      <td>0.00</td>\n",
       "      <td>0.50</td>\n",
       "      <td>0.4</td>\n",
       "      <td>0.140487</td>\n",
       "      <td>...</td>\n",
       "      <td>0.0</td>\n",
       "      <td>0.0</td>\n",
       "      <td>0.0</td>\n",
       "      <td>0.0</td>\n",
       "      <td>0.0</td>\n",
       "      <td>0.0</td>\n",
       "      <td>0.0</td>\n",
       "      <td>0.0</td>\n",
       "      <td>0.0</td>\n",
       "      <td>0.0</td>\n",
       "    </tr>\n",
       "    <tr>\n",
       "      <th>4503</th>\n",
       "      <td>0.09375</td>\n",
       "      <td>0.266667</td>\n",
       "      <td>0.138952</td>\n",
       "      <td>0.004522</td>\n",
       "      <td>0.4</td>\n",
       "      <td>0.0</td>\n",
       "      <td>0.00</td>\n",
       "      <td>0.50</td>\n",
       "      <td>0.4</td>\n",
       "      <td>0.202434</td>\n",
       "      <td>...</td>\n",
       "      <td>0.0</td>\n",
       "      <td>0.0</td>\n",
       "      <td>0.0</td>\n",
       "      <td>0.0</td>\n",
       "      <td>0.0</td>\n",
       "      <td>0.0</td>\n",
       "      <td>0.0</td>\n",
       "      <td>0.0</td>\n",
       "      <td>0.0</td>\n",
       "      <td>0.0</td>\n",
       "    </tr>\n",
       "  </tbody>\n",
       "</table>\n",
       "<p>15117 rows × 83 columns</p>\n",
       "</div>"
      ],
      "text/plain": [
       "       bedrooms  bathrooms  sqft_living  sqft_lot  floors  waterfront  view  \\\n",
       "10685   0.09375   0.333333     0.227790  0.004434     0.0         0.0  0.75   \n",
       "13626   0.06250   0.266667     0.144267  0.002301     0.4         0.0  0.00   \n",
       "6363    0.03125   0.066667     0.040243  0.002363     0.0         0.0  0.00   \n",
       "20531   0.06250   0.400000     0.101746  0.000977     0.4         0.0  0.00   \n",
       "6198    0.06250   0.166667     0.094913  0.005452     0.0         0.0  0.00   \n",
       "...         ...        ...          ...       ...     ...         ...   ...   \n",
       "3180    0.06250   0.200000     0.089598  0.001091     0.4         0.0  0.00   \n",
       "1316    0.06250   0.166667     0.097191  0.004527     0.0         0.0  0.00   \n",
       "20685   0.03125   0.100000     0.066059  0.000939     0.4         0.0  0.00   \n",
       "13216   0.06250   0.133333     0.110099  0.003123     0.2         0.0  0.00   \n",
       "4503    0.09375   0.266667     0.138952  0.004522     0.4         0.0  0.00   \n",
       "\n",
       "       condition  grade  sqft_above  ...  zipcode_98146  zipcode_98148  \\\n",
       "10685       0.50    0.7    0.164823  ...            0.0            0.0   \n",
       "13626       0.50    0.4    0.210177  ...            0.0            0.0   \n",
       "6363        0.50    0.4    0.058628  ...            0.0            0.0   \n",
       "20531       0.50    0.4    0.113938  ...            0.0            0.0   \n",
       "6198        0.75    0.4    0.138274  ...            0.0            0.0   \n",
       "...          ...    ...         ...  ...            ...            ...   \n",
       "3180        0.50    0.4    0.130531  ...            0.0            0.0   \n",
       "1316        0.50    0.4    0.080752  ...            0.0            0.0   \n",
       "20685       0.50    0.5    0.096239  ...            0.0            0.0   \n",
       "13216       0.50    0.4    0.140487  ...            0.0            0.0   \n",
       "4503        0.50    0.4    0.202434  ...            0.0            0.0   \n",
       "\n",
       "       zipcode_98155  zipcode_98166  zipcode_98168  zipcode_98177  \\\n",
       "10685            0.0            0.0            0.0            0.0   \n",
       "13626            0.0            0.0            0.0            0.0   \n",
       "6363             0.0            0.0            0.0            0.0   \n",
       "20531            0.0            0.0            0.0            0.0   \n",
       "6198             0.0            0.0            0.0            0.0   \n",
       "...              ...            ...            ...            ...   \n",
       "3180             0.0            0.0            0.0            0.0   \n",
       "1316             0.0            0.0            0.0            0.0   \n",
       "20685            0.0            0.0            0.0            0.0   \n",
       "13216            0.0            0.0            0.0            0.0   \n",
       "4503             0.0            0.0            0.0            0.0   \n",
       "\n",
       "       zipcode_98178  zipcode_98188  zipcode_98198  zipcode_98199  \n",
       "10685            0.0            0.0            0.0            0.0  \n",
       "13626            0.0            0.0            0.0            0.0  \n",
       "6363             0.0            0.0            0.0            0.0  \n",
       "20531            0.0            0.0            0.0            0.0  \n",
       "6198             0.0            0.0            0.0            0.0  \n",
       "...              ...            ...            ...            ...  \n",
       "3180             0.0            0.0            0.0            0.0  \n",
       "1316             0.0            0.0            0.0            0.0  \n",
       "20685            0.0            0.0            0.0            0.0  \n",
       "13216            0.0            0.0            0.0            0.0  \n",
       "4503             0.0            0.0            0.0            0.0  \n",
       "\n",
       "[15117 rows x 83 columns]"
      ]
     },
     "execution_count": 33,
     "metadata": {},
     "output_type": "execute_result"
    }
   ],
   "source": [
    "## Combine Num and Cat Cols\n",
    "\n",
    "X_train_tf = pd.concat([train_num_cols,train_cat_cols],axis=1)\n",
    "X_test_tf = pd.concat([test_num_cols,test_cat_cols],axis=1)\n",
    "\n",
    "X_train_tf"
   ]
  },
  {
   "cell_type": "code",
   "execution_count": 34,
   "metadata": {
    "ExecuteTime": {
     "end_time": "2021-05-05T15:14:45.729576Z",
     "start_time": "2021-05-05T15:14:45.688950Z"
    }
   },
   "outputs": [
    {
     "name": "stdout",
     "output_type": "stream",
     "text": [
      "1.0\n",
      "0.0\n"
     ]
    }
   ],
   "source": [
    "## confirming no values above 1\n",
    "print(X_train_tf.max().max())\n",
    "print(X_train_tf.min().min())"
   ]
  },
  {
   "cell_type": "code",
   "execution_count": 35,
   "metadata": {
    "ExecuteTime": {
     "end_time": "2021-05-05T15:14:45.737919Z",
     "start_time": "2021-05-05T15:14:45.732398Z"
    }
   },
   "outputs": [
    {
     "data": {
      "text/plain": [
       "{'linear': LinearRegression(),\n",
       " 'ridge': Ridge(alpha=0.5),\n",
       " 'lasso': Lasso(alpha=0.5)}"
      ]
     },
     "execution_count": 35,
     "metadata": {},
     "output_type": "execute_result"
    }
   ],
   "source": [
    "## Use a dictionary to store our models\n",
    "models_to_make = dict( linear=LinearRegression(),\n",
    "                     ridge=Ridge(alpha=0.5),\n",
    "                     lasso = Lasso(alpha=0.5))\n",
    "\n",
    "models_to_make"
   ]
  },
  {
   "cell_type": "code",
   "execution_count": 36,
   "metadata": {
    "ExecuteTime": {
     "end_time": "2021-05-05T15:14:48.676453Z",
     "start_time": "2021-05-05T15:14:45.740189Z"
    }
   },
   "outputs": [
    {
     "name": "stderr",
     "output_type": "stream",
     "text": [
      "/opt/anaconda3/envs/learn-env-new/lib/python3.8/site-packages/sklearn/linear_model/_coordinate_descent.py:529: ConvergenceWarning: Objective did not converge. You might want to increase the number of iterations. Duality gap: 28254540388600.125, tolerance: 200558392471.43268\n",
      "  model = cd_fast.enet_coordinate_descent(\n"
     ]
    },
    {
     "data": {
      "text/html": [
       "<div>\n",
       "<style scoped>\n",
       "    .dataframe tbody tr th:only-of-type {\n",
       "        vertical-align: middle;\n",
       "    }\n",
       "\n",
       "    .dataframe tbody tr th {\n",
       "        vertical-align: top;\n",
       "    }\n",
       "\n",
       "    .dataframe thead th {\n",
       "        text-align: right;\n",
       "    }\n",
       "</style>\n",
       "<table border=\"1\" class=\"dataframe\">\n",
       "  <thead>\n",
       "    <tr style=\"text-align: right;\">\n",
       "      <th></th>\n",
       "      <th></th>\n",
       "      <th>R2</th>\n",
       "      <th>RMSE</th>\n",
       "    </tr>\n",
       "    <tr>\n",
       "      <th>Type</th>\n",
       "      <th>Data</th>\n",
       "      <th></th>\n",
       "      <th></th>\n",
       "    </tr>\n",
       "  </thead>\n",
       "  <tbody>\n",
       "    <tr>\n",
       "      <th rowspan=\"2\" valign=\"top\">linear</th>\n",
       "      <th>Train</th>\n",
       "      <td>0.806</td>\n",
       "      <td>160461.816</td>\n",
       "    </tr>\n",
       "    <tr>\n",
       "      <th>Test</th>\n",
       "      <td>0.801</td>\n",
       "      <td>167141.101</td>\n",
       "    </tr>\n",
       "    <tr>\n",
       "      <th rowspan=\"2\" valign=\"top\">ridge</th>\n",
       "      <th>Train</th>\n",
       "      <td>0.806</td>\n",
       "      <td>160478.429</td>\n",
       "    </tr>\n",
       "    <tr>\n",
       "      <th>Test</th>\n",
       "      <td>0.801</td>\n",
       "      <td>167171.294</td>\n",
       "    </tr>\n",
       "    <tr>\n",
       "      <th rowspan=\"2\" valign=\"top\">lasso</th>\n",
       "      <th>Train</th>\n",
       "      <td>0.806</td>\n",
       "      <td>160461.746</td>\n",
       "    </tr>\n",
       "    <tr>\n",
       "      <th>Test</th>\n",
       "      <td>0.801</td>\n",
       "      <td>167138.863</td>\n",
       "    </tr>\n",
       "  </tbody>\n",
       "</table>\n",
       "</div>"
      ],
      "text/plain": [
       "                 R2        RMSE\n",
       "Type   Data                    \n",
       "linear Train  0.806  160461.816\n",
       "       Test   0.801  167141.101\n",
       "ridge  Train  0.806  160478.429\n",
       "       Test   0.801  167171.294\n",
       "lasso  Train  0.806  160461.746\n",
       "       Test   0.801  167138.863"
      ]
     },
     "execution_count": 36,
     "metadata": {},
     "output_type": "execute_result"
    }
   ],
   "source": [
    "## Loop through models_to_make and save all results\n",
    "\n",
    "## Create an empty list to store result dfs\n",
    "results = []\n",
    "## Create an empty dict to store fit models\n",
    "fit_models={}\n",
    "\n",
    "for model_type,mod in models_to_make.items():\n",
    "\n",
    "    ## get model results and fit model using make_model\n",
    "    res, mod = make_model(mod, X_train_tf , X_test_tf, y_train, y_test)\n",
    "    ## Add model type as column to res\n",
    "    res['Type'] = model_type\n",
    "    \n",
    "    ## Save df to list \n",
    "    results.append(res)\n",
    "    \n",
    "    ## Save fit model to models dict \n",
    "    fit_models[model_type] = mod\n",
    "\n",
    "    \n",
    "## Concatenate results \n",
    "df_res = pd.concat(results)\n",
    "df_res.set_index(['Type',\"Data\"],inplace=True)\n",
    "df_res"
   ]
  },
  {
   "cell_type": "code",
   "execution_count": 37,
   "metadata": {
    "ExecuteTime": {
     "end_time": "2021-05-05T15:14:48.686176Z",
     "start_time": "2021-05-05T15:14:48.678177Z"
    }
   },
   "outputs": [
    {
     "data": {
      "text/html": [
       "<style  type=\"text/css\" >\n",
       "#T_a1e582e2_adb4_11eb_9c77_acde48001122row0_col0,#T_a1e582e2_adb4_11eb_9c77_acde48001122row2_col0,#T_a1e582e2_adb4_11eb_9c77_acde48001122row4_col0{\n",
       "            background-color:  #023858;\n",
       "            color:  #f1f1f1;\n",
       "        }#T_a1e582e2_adb4_11eb_9c77_acde48001122row1_col0,#T_a1e582e2_adb4_11eb_9c77_acde48001122row3_col0,#T_a1e582e2_adb4_11eb_9c77_acde48001122row5_col0{\n",
       "            background-color:  #fff7fb;\n",
       "            color:  #000000;\n",
       "        }</style><table id=\"T_a1e582e2_adb4_11eb_9c77_acde48001122\" ><thead>    <tr>        <th class=\"blank\" ></th>        <th class=\"blank level0\" ></th>        <th class=\"col_heading level0 col0\" >R2</th>        <th class=\"col_heading level0 col1\" >RMSE</th>    </tr>    <tr>        <th class=\"index_name level0\" >Type</th>        <th class=\"index_name level1\" >Data</th>        <th class=\"blank\" ></th>        <th class=\"blank\" ></th>    </tr></thead><tbody>\n",
       "                <tr>\n",
       "                        <th id=\"T_a1e582e2_adb4_11eb_9c77_acde48001122level0_row0\" class=\"row_heading level0 row0\" rowspan=2>linear</th>\n",
       "                        <th id=\"T_a1e582e2_adb4_11eb_9c77_acde48001122level1_row0\" class=\"row_heading level1 row0\" >Train</th>\n",
       "                        <td id=\"T_a1e582e2_adb4_11eb_9c77_acde48001122row0_col0\" class=\"data row0 col0\" >0.806000</td>\n",
       "                        <td id=\"T_a1e582e2_adb4_11eb_9c77_acde48001122row0_col1\" class=\"data row0 col1\" >160461.816000</td>\n",
       "            </tr>\n",
       "            <tr>\n",
       "                                <th id=\"T_a1e582e2_adb4_11eb_9c77_acde48001122level1_row1\" class=\"row_heading level1 row1\" >Test</th>\n",
       "                        <td id=\"T_a1e582e2_adb4_11eb_9c77_acde48001122row1_col0\" class=\"data row1 col0\" >0.801000</td>\n",
       "                        <td id=\"T_a1e582e2_adb4_11eb_9c77_acde48001122row1_col1\" class=\"data row1 col1\" >167141.101000</td>\n",
       "            </tr>\n",
       "            <tr>\n",
       "                        <th id=\"T_a1e582e2_adb4_11eb_9c77_acde48001122level0_row2\" class=\"row_heading level0 row2\" rowspan=2>ridge</th>\n",
       "                        <th id=\"T_a1e582e2_adb4_11eb_9c77_acde48001122level1_row2\" class=\"row_heading level1 row2\" >Train</th>\n",
       "                        <td id=\"T_a1e582e2_adb4_11eb_9c77_acde48001122row2_col0\" class=\"data row2 col0\" >0.806000</td>\n",
       "                        <td id=\"T_a1e582e2_adb4_11eb_9c77_acde48001122row2_col1\" class=\"data row2 col1\" >160478.429000</td>\n",
       "            </tr>\n",
       "            <tr>\n",
       "                                <th id=\"T_a1e582e2_adb4_11eb_9c77_acde48001122level1_row3\" class=\"row_heading level1 row3\" >Test</th>\n",
       "                        <td id=\"T_a1e582e2_adb4_11eb_9c77_acde48001122row3_col0\" class=\"data row3 col0\" >0.801000</td>\n",
       "                        <td id=\"T_a1e582e2_adb4_11eb_9c77_acde48001122row3_col1\" class=\"data row3 col1\" >167171.294000</td>\n",
       "            </tr>\n",
       "            <tr>\n",
       "                        <th id=\"T_a1e582e2_adb4_11eb_9c77_acde48001122level0_row4\" class=\"row_heading level0 row4\" rowspan=2>lasso</th>\n",
       "                        <th id=\"T_a1e582e2_adb4_11eb_9c77_acde48001122level1_row4\" class=\"row_heading level1 row4\" >Train</th>\n",
       "                        <td id=\"T_a1e582e2_adb4_11eb_9c77_acde48001122row4_col0\" class=\"data row4 col0\" >0.806000</td>\n",
       "                        <td id=\"T_a1e582e2_adb4_11eb_9c77_acde48001122row4_col1\" class=\"data row4 col1\" >160461.746000</td>\n",
       "            </tr>\n",
       "            <tr>\n",
       "                                <th id=\"T_a1e582e2_adb4_11eb_9c77_acde48001122level1_row5\" class=\"row_heading level1 row5\" >Test</th>\n",
       "                        <td id=\"T_a1e582e2_adb4_11eb_9c77_acde48001122row5_col0\" class=\"data row5 col0\" >0.801000</td>\n",
       "                        <td id=\"T_a1e582e2_adb4_11eb_9c77_acde48001122row5_col1\" class=\"data row5 col1\" >167138.863000</td>\n",
       "            </tr>\n",
       "    </tbody></table>"
      ],
      "text/plain": [
       "<pandas.io.formats.style.Styler at 0x7fead486ba00>"
      ]
     },
     "execution_count": 37,
     "metadata": {},
     "output_type": "execute_result"
    }
   ],
   "source": [
    "## Use styling to make it easier to find the best scores.\n",
    "df_res.style.background_gradient(subset=['R2'])#.highlight_max('R2')"
   ]
  },
  {
   "cell_type": "code",
   "execution_count": 38,
   "metadata": {
    "ExecuteTime": {
     "end_time": "2021-05-05T15:14:48.690765Z",
     "start_time": "2021-05-05T15:14:48.687757Z"
    }
   },
   "outputs": [
    {
     "data": {
      "text/plain": [
       "(15117, 83)"
      ]
     },
     "execution_count": 38,
     "metadata": {},
     "output_type": "execute_result"
    }
   ],
   "source": [
    "X_train_tf.shape"
   ]
  },
  {
   "cell_type": "code",
   "execution_count": 39,
   "metadata": {
    "ExecuteTime": {
     "end_time": "2021-05-05T15:14:48.696092Z",
     "start_time": "2021-05-05T15:14:48.692532Z"
    }
   },
   "outputs": [],
   "source": [
    "res_df = pd.Series(fit_models['lasso'].coef_.flatten(),index=X_train_tf.columns)\n",
    "res_df = get_coefficients(fit_models['lasso'],X_train_tf)\n"
   ]
  },
  {
   "cell_type": "code",
   "execution_count": 44,
   "metadata": {
    "ExecuteTime": {
     "end_time": "2021-05-05T15:15:40.052428Z",
     "start_time": "2021-05-05T15:15:40.039523Z"
    }
   },
   "outputs": [
    {
     "data": {
      "text/html": [
       "<div>\n",
       "<style scoped>\n",
       "    .dataframe tbody tr th:only-of-type {\n",
       "        vertical-align: middle;\n",
       "    }\n",
       "\n",
       "    .dataframe tbody tr th {\n",
       "        vertical-align: top;\n",
       "    }\n",
       "\n",
       "    .dataframe thead th {\n",
       "        text-align: right;\n",
       "    }\n",
       "</style>\n",
       "<table border=\"1\" class=\"dataframe\">\n",
       "  <thead>\n",
       "    <tr style=\"text-align: right;\">\n",
       "      <th></th>\n",
       "      <th>linear</th>\n",
       "      <th>ridge</th>\n",
       "      <th>lasso</th>\n",
       "    </tr>\n",
       "  </thead>\n",
       "  <tbody>\n",
       "    <tr>\n",
       "      <th>bedrooms</th>\n",
       "      <td>-7.956250e+05</td>\n",
       "      <td>-7.334832e+05</td>\n",
       "      <td>-7.940385e+05</td>\n",
       "    </tr>\n",
       "    <tr>\n",
       "      <th>bathrooms</th>\n",
       "      <td>1.318492e+05</td>\n",
       "      <td>1.346298e+05</td>\n",
       "      <td>1.315271e+05</td>\n",
       "    </tr>\n",
       "    <tr>\n",
       "      <th>sqft_living</th>\n",
       "      <td>1.299377e+06</td>\n",
       "      <td>1.078052e+06</td>\n",
       "      <td>1.303846e+06</td>\n",
       "    </tr>\n",
       "    <tr>\n",
       "      <th>sqft_lot</th>\n",
       "      <td>3.346482e+05</td>\n",
       "      <td>3.038742e+05</td>\n",
       "      <td>3.321891e+05</td>\n",
       "    </tr>\n",
       "    <tr>\n",
       "      <th>floors</th>\n",
       "      <td>-1.458666e+05</td>\n",
       "      <td>-1.446727e+05</td>\n",
       "      <td>-1.456011e+05</td>\n",
       "    </tr>\n",
       "    <tr>\n",
       "      <th>...</th>\n",
       "      <td>...</td>\n",
       "      <td>...</td>\n",
       "      <td>...</td>\n",
       "    </tr>\n",
       "    <tr>\n",
       "      <th>zipcode_98178</th>\n",
       "      <td>-1.236087e+17</td>\n",
       "      <td>-1.569376e+05</td>\n",
       "      <td>-1.424535e+05</td>\n",
       "    </tr>\n",
       "    <tr>\n",
       "      <th>zipcode_98188</th>\n",
       "      <td>-1.236087e+17</td>\n",
       "      <td>-1.617583e+05</td>\n",
       "      <td>-1.474004e+05</td>\n",
       "    </tr>\n",
       "    <tr>\n",
       "      <th>zipcode_98198</th>\n",
       "      <td>-1.236087e+17</td>\n",
       "      <td>-2.004729e+05</td>\n",
       "      <td>-1.862134e+05</td>\n",
       "    </tr>\n",
       "    <tr>\n",
       "      <th>zipcode_98199</th>\n",
       "      <td>-1.236087e+17</td>\n",
       "      <td>2.001900e+05</td>\n",
       "      <td>2.156767e+05</td>\n",
       "    </tr>\n",
       "    <tr>\n",
       "      <th>intercept</th>\n",
       "      <td>1.236087e+17</td>\n",
       "      <td>-8.034372e+04</td>\n",
       "      <td>-9.034109e+04</td>\n",
       "    </tr>\n",
       "  </tbody>\n",
       "</table>\n",
       "<p>84 rows × 3 columns</p>\n",
       "</div>"
      ],
      "text/plain": [
       "                     linear         ridge         lasso\n",
       "bedrooms      -7.956250e+05 -7.334832e+05 -7.940385e+05\n",
       "bathrooms      1.318492e+05  1.346298e+05  1.315271e+05\n",
       "sqft_living    1.299377e+06  1.078052e+06  1.303846e+06\n",
       "sqft_lot       3.346482e+05  3.038742e+05  3.321891e+05\n",
       "floors        -1.458666e+05 -1.446727e+05 -1.456011e+05\n",
       "...                     ...           ...           ...\n",
       "zipcode_98178 -1.236087e+17 -1.569376e+05 -1.424535e+05\n",
       "zipcode_98188 -1.236087e+17 -1.617583e+05 -1.474004e+05\n",
       "zipcode_98198 -1.236087e+17 -2.004729e+05 -1.862134e+05\n",
       "zipcode_98199 -1.236087e+17  2.001900e+05  2.156767e+05\n",
       "intercept      1.236087e+17 -8.034372e+04 -9.034109e+04\n",
       "\n",
       "[84 rows x 3 columns]"
      ]
     },
     "execution_count": 44,
     "metadata": {},
     "output_type": "execute_result"
    }
   ],
   "source": [
    "## Get coefficients\n",
    "dict_comp= {k:get_coefficients(mod,X_train_tf,k) for k,mod in fit_models.items() }\n",
    "coeffs_df = pd.DataFrame(dict_comp)\n",
    "coeffs_df#.style.background_gradient()"
   ]
  },
  {
   "cell_type": "code",
   "execution_count": 46,
   "metadata": {
    "ExecuteTime": {
     "end_time": "2021-05-05T15:16:14.054440Z",
     "start_time": "2021-05-05T15:16:14.019610Z"
    }
   },
   "outputs": [
    {
     "data": {
      "text/html": [
       "<div>\n",
       "<style scoped>\n",
       "    .dataframe tbody tr th:only-of-type {\n",
       "        vertical-align: middle;\n",
       "    }\n",
       "\n",
       "    .dataframe tbody tr th {\n",
       "        vertical-align: top;\n",
       "    }\n",
       "\n",
       "    .dataframe thead th {\n",
       "        text-align: right;\n",
       "    }\n",
       "</style>\n",
       "<table border=\"1\" class=\"dataframe\">\n",
       "  <thead>\n",
       "    <tr style=\"text-align: right;\">\n",
       "      <th></th>\n",
       "      <th>bedrooms</th>\n",
       "      <th>bathrooms</th>\n",
       "      <th>sqft_living</th>\n",
       "      <th>sqft_lot</th>\n",
       "      <th>floors</th>\n",
       "      <th>waterfront</th>\n",
       "      <th>view</th>\n",
       "      <th>condition</th>\n",
       "      <th>grade</th>\n",
       "      <th>sqft_above</th>\n",
       "      <th>...</th>\n",
       "      <th>zipcode_98148</th>\n",
       "      <th>zipcode_98155</th>\n",
       "      <th>zipcode_98166</th>\n",
       "      <th>zipcode_98168</th>\n",
       "      <th>zipcode_98177</th>\n",
       "      <th>zipcode_98178</th>\n",
       "      <th>zipcode_98188</th>\n",
       "      <th>zipcode_98198</th>\n",
       "      <th>zipcode_98199</th>\n",
       "      <th>intercept</th>\n",
       "    </tr>\n",
       "  </thead>\n",
       "  <tbody>\n",
       "    <tr>\n",
       "      <th>linear</th>\n",
       "      <td>-795625.00</td>\n",
       "      <td>131849.17</td>\n",
       "      <td>1299377.30</td>\n",
       "      <td>334648.19</td>\n",
       "      <td>-145866.65</td>\n",
       "      <td>572244.08</td>\n",
       "      <td>252137.20</td>\n",
       "      <td>126050.11</td>\n",
       "      <td>511412.02</td>\n",
       "      <td>1065201.87</td>\n",
       "      <td>...</td>\n",
       "      <td>-1.236087e+17</td>\n",
       "      <td>-1.236087e+17</td>\n",
       "      <td>-1.236087e+17</td>\n",
       "      <td>-1.236087e+17</td>\n",
       "      <td>-1.236087e+17</td>\n",
       "      <td>-1.236087e+17</td>\n",
       "      <td>-1.236087e+17</td>\n",
       "      <td>-1.236087e+17</td>\n",
       "      <td>-1.236087e+17</td>\n",
       "      <td>1.236087e+17</td>\n",
       "    </tr>\n",
       "    <tr>\n",
       "      <th>ridge</th>\n",
       "      <td>-733483.18</td>\n",
       "      <td>134629.82</td>\n",
       "      <td>1078052.15</td>\n",
       "      <td>303874.24</td>\n",
       "      <td>-144672.68</td>\n",
       "      <td>569620.31</td>\n",
       "      <td>253252.52</td>\n",
       "      <td>126465.36</td>\n",
       "      <td>518286.95</td>\n",
       "      <td>1185687.51</td>\n",
       "      <td>...</td>\n",
       "      <td>-1.413800e+05</td>\n",
       "      <td>-5.481978e+04</td>\n",
       "      <td>-1.343540e+05</td>\n",
       "      <td>-1.151511e+05</td>\n",
       "      <td>3.315447e+04</td>\n",
       "      <td>-1.569376e+05</td>\n",
       "      <td>-1.617583e+05</td>\n",
       "      <td>-2.004729e+05</td>\n",
       "      <td>2.001900e+05</td>\n",
       "      <td>-8.034372e+04</td>\n",
       "    </tr>\n",
       "    <tr>\n",
       "      <th>lasso</th>\n",
       "      <td>-794038.52</td>\n",
       "      <td>131527.11</td>\n",
       "      <td>1303846.30</td>\n",
       "      <td>332189.15</td>\n",
       "      <td>-145601.15</td>\n",
       "      <td>572207.77</td>\n",
       "      <td>252082.68</td>\n",
       "      <td>126176.99</td>\n",
       "      <td>511412.92</td>\n",
       "      <td>1061783.87</td>\n",
       "      <td>...</td>\n",
       "      <td>-1.281783e+05</td>\n",
       "      <td>-3.986892e+04</td>\n",
       "      <td>-1.202758e+05</td>\n",
       "      <td>-1.010501e+05</td>\n",
       "      <td>4.819537e+04</td>\n",
       "      <td>-1.424535e+05</td>\n",
       "      <td>-1.474004e+05</td>\n",
       "      <td>-1.862134e+05</td>\n",
       "      <td>2.156767e+05</td>\n",
       "      <td>-9.034109e+04</td>\n",
       "    </tr>\n",
       "  </tbody>\n",
       "</table>\n",
       "<p>3 rows × 84 columns</p>\n",
       "</div>"
      ],
      "text/plain": [
       "         bedrooms  bathrooms  sqft_living   sqft_lot     floors  waterfront  \\\n",
       "linear -795625.00  131849.17   1299377.30  334648.19 -145866.65   572244.08   \n",
       "ridge  -733483.18  134629.82   1078052.15  303874.24 -144672.68   569620.31   \n",
       "lasso  -794038.52  131527.11   1303846.30  332189.15 -145601.15   572207.77   \n",
       "\n",
       "             view  condition      grade  sqft_above  ...  zipcode_98148  \\\n",
       "linear  252137.20  126050.11  511412.02  1065201.87  ...  -1.236087e+17   \n",
       "ridge   253252.52  126465.36  518286.95  1185687.51  ...  -1.413800e+05   \n",
       "lasso   252082.68  126176.99  511412.92  1061783.87  ...  -1.281783e+05   \n",
       "\n",
       "        zipcode_98155  zipcode_98166  zipcode_98168  zipcode_98177  \\\n",
       "linear  -1.236087e+17  -1.236087e+17  -1.236087e+17  -1.236087e+17   \n",
       "ridge   -5.481978e+04  -1.343540e+05  -1.151511e+05   3.315447e+04   \n",
       "lasso   -3.986892e+04  -1.202758e+05  -1.010501e+05   4.819537e+04   \n",
       "\n",
       "        zipcode_98178  zipcode_98188  zipcode_98198  zipcode_98199  \\\n",
       "linear  -1.236087e+17  -1.236087e+17  -1.236087e+17  -1.236087e+17   \n",
       "ridge   -1.569376e+05  -1.617583e+05  -2.004729e+05   2.001900e+05   \n",
       "lasso   -1.424535e+05  -1.474004e+05  -1.862134e+05   2.156767e+05   \n",
       "\n",
       "           intercept  \n",
       "linear  1.236087e+17  \n",
       "ridge  -8.034372e+04  \n",
       "lasso  -9.034109e+04  \n",
       "\n",
       "[3 rows x 84 columns]"
      ]
     },
     "execution_count": 46,
     "metadata": {},
     "output_type": "execute_result"
    }
   ],
   "source": [
    "## Tanspose df and round\n",
    "coeffs_df.T.round(2)"
   ]
  },
  {
   "cell_type": "code",
   "execution_count": 52,
   "metadata": {
    "ExecuteTime": {
     "end_time": "2021-05-05T15:17:47.456550Z",
     "start_time": "2021-05-05T15:17:47.452005Z"
    }
   },
   "outputs": [
    {
     "data": {
      "text/plain": [
       "Series([], Name: lasso, dtype: float64)"
      ]
     },
     "execution_count": 52,
     "metadata": {},
     "output_type": "execute_result"
    }
   ],
   "source": [
    "lasso_coeffs = coeffs_df['lasso']\n",
    "lasso_coeffs[lasso_coeffs.round(2) == 0.0]"
   ]
  },
  {
   "cell_type": "markdown",
   "metadata": {},
   "source": [
    "# APPENDIX - Feature Selection"
   ]
  },
  {
   "cell_type": "markdown",
   "metadata": {},
   "source": [
    "\n",
    "[Lesson](https://github.com/learn-co-curriculum/dsc-feature-selection-methods)"
   ]
  },
  {
   "cell_type": "markdown",
   "metadata": {},
   "source": [
    "- If we don't get to it today, we will revisit feature selection during Phase 3 Project week."
   ]
  },
  {
   "cell_type": "markdown",
   "metadata": {},
   "source": [
    "## Types of Feature Selection "
   ]
  },
  {
   "cell_type": "markdown",
   "metadata": {},
   "source": [
    "* Domain knowledge\n",
    "* Wrapper methods\n",
    "* Filter methods\n",
    "* Embedded methods\n",
    "\n",
    "> ### Wrapper Methods\n",
    "<img src=\"https://raw.githubusercontent.com/jirvingphd/dsc-feature-selection-methods-online-ds-pt-100719/master/images/new_wrapper.png\">\n",
    "\n",
    "\n",
    "> ### Filter Methods\n",
    "<img src=\"https://raw.githubusercontent.com/jirvingphd/dsc-feature-selection-methods-online-ds-pt-100719/master/images/new_filter.png\">\n",
    "\n",
    "\n",
    "> ### Embed Methods\n",
    "<img src=\"https://raw.githubusercontent.com/jirvingphd/dsc-feature-selection-methods-online-ds-pt-100719/master/images/new_embedded.png\">"
   ]
  },
  {
   "cell_type": "markdown",
   "metadata": {},
   "source": [
    "## ACTIVITY"
   ]
  },
  {
   "cell_type": "markdown",
   "metadata": {},
   "source": [
    "[**Rewrite Feature Selection Methods Lesson to easily capture and compare results across methods.**](https://github.com/learn-co-curriculum/dsc-feature-selection-methods)\n"
   ]
  },
  {
   "cell_type": "code",
   "execution_count": 56,
   "metadata": {
    "ExecuteTime": {
     "end_time": "2021-05-05T15:18:21.381261Z",
     "start_time": "2021-05-05T15:18:21.197561Z"
    }
   },
   "outputs": [],
   "source": [
    "## Feature Selection Dataset\n",
    "data= \"https://raw.githubusercontent.com/learn-co-students/dsc-feature-selection-methods-online-ds-pt-100719/master/diabetes.tab.txt\"\n",
    "df = pd.read_csv(data,sep='\\t')"
   ]
  },
  {
   "cell_type": "code",
   "execution_count": 57,
   "metadata": {
    "ExecuteTime": {
     "end_time": "2021-05-05T15:18:21.387793Z",
     "start_time": "2021-05-05T15:18:21.383317Z"
    }
   },
   "outputs": [],
   "source": [
    "## Make a new version of make_model that also adds a note column to results\n",
    "def run_model(model,X_train,X_test,y_train,y_test,note=''):\n",
    "    \"\"\"Takes a sklearn model and train/test data to fit model, \n",
    "    get R2 and RMSE for both the training and test data.\n",
    "    \n",
    "    Returns:\n",
    "        DataFrame: results as a df\n",
    "        model: fit scikit-learn model itself\"\"\"\n",
    "    \n",
    "    res= [['Data','R2','RMSE']]\n",
    "    model.fit(X_train, y_train)\n",
    "    # Generate preditions for training and test sets\n",
    "    y_hat_train = model.predict(X_train)\n",
    "    y_hat_test = model.predict(X_test)\n",
    "    \n",
    "    r2_train = r2_score(y_train,y_hat_train)\n",
    "    r2_test = r2_score(y_test,y_hat_test)\n",
    "    \n",
    "    rmse_train = np.sqrt(mean_squared_error(y_train,y_hat_train))\n",
    "    rmse_test = np.sqrt(mean_squared_error(y_test,y_hat_test))\n",
    "    res.append(['Train', r2_train, rmse_train] )\n",
    "    res.append(['Test', r2_test, rmse_test] )\n",
    "    \n",
    "    res_df = pd.DataFrame(res[1:], columns=res[0]).round(4)\n",
    "    res_df['Note'] = note\n",
    "    return res_df#, model\n",
    "    "
   ]
  },
  {
   "cell_type": "code",
   "execution_count": 58,
   "metadata": {
    "ExecuteTime": {
     "end_time": "2021-05-05T15:18:22.029028Z",
     "start_time": "2021-05-05T15:18:22.014645Z"
    }
   },
   "outputs": [
    {
     "data": {
      "text/html": [
       "<div>\n",
       "<style scoped>\n",
       "    .dataframe tbody tr th:only-of-type {\n",
       "        vertical-align: middle;\n",
       "    }\n",
       "\n",
       "    .dataframe tbody tr th {\n",
       "        vertical-align: top;\n",
       "    }\n",
       "\n",
       "    .dataframe thead th {\n",
       "        text-align: right;\n",
       "    }\n",
       "</style>\n",
       "<table border=\"1\" class=\"dataframe\">\n",
       "  <thead>\n",
       "    <tr style=\"text-align: right;\">\n",
       "      <th></th>\n",
       "      <th>AGE</th>\n",
       "      <th>BMI</th>\n",
       "      <th>BP</th>\n",
       "      <th>S1</th>\n",
       "      <th>S2</th>\n",
       "      <th>S3</th>\n",
       "      <th>S4</th>\n",
       "      <th>S5</th>\n",
       "      <th>S6</th>\n",
       "      <th>female</th>\n",
       "    </tr>\n",
       "  </thead>\n",
       "  <tbody>\n",
       "    <tr>\n",
       "      <th>0</th>\n",
       "      <td>59</td>\n",
       "      <td>32.1</td>\n",
       "      <td>101.0</td>\n",
       "      <td>157</td>\n",
       "      <td>93.2</td>\n",
       "      <td>38.0</td>\n",
       "      <td>4.0</td>\n",
       "      <td>4.8598</td>\n",
       "      <td>87</td>\n",
       "      <td>1</td>\n",
       "    </tr>\n",
       "    <tr>\n",
       "      <th>1</th>\n",
       "      <td>48</td>\n",
       "      <td>21.6</td>\n",
       "      <td>87.0</td>\n",
       "      <td>183</td>\n",
       "      <td>103.2</td>\n",
       "      <td>70.0</td>\n",
       "      <td>3.0</td>\n",
       "      <td>3.8918</td>\n",
       "      <td>69</td>\n",
       "      <td>0</td>\n",
       "    </tr>\n",
       "    <tr>\n",
       "      <th>2</th>\n",
       "      <td>72</td>\n",
       "      <td>30.5</td>\n",
       "      <td>93.0</td>\n",
       "      <td>156</td>\n",
       "      <td>93.6</td>\n",
       "      <td>41.0</td>\n",
       "      <td>4.0</td>\n",
       "      <td>4.6728</td>\n",
       "      <td>85</td>\n",
       "      <td>1</td>\n",
       "    </tr>\n",
       "    <tr>\n",
       "      <th>3</th>\n",
       "      <td>24</td>\n",
       "      <td>25.3</td>\n",
       "      <td>84.0</td>\n",
       "      <td>198</td>\n",
       "      <td>131.4</td>\n",
       "      <td>40.0</td>\n",
       "      <td>5.0</td>\n",
       "      <td>4.8903</td>\n",
       "      <td>89</td>\n",
       "      <td>0</td>\n",
       "    </tr>\n",
       "    <tr>\n",
       "      <th>4</th>\n",
       "      <td>50</td>\n",
       "      <td>23.0</td>\n",
       "      <td>101.0</td>\n",
       "      <td>192</td>\n",
       "      <td>125.4</td>\n",
       "      <td>52.0</td>\n",
       "      <td>4.0</td>\n",
       "      <td>4.2905</td>\n",
       "      <td>80</td>\n",
       "      <td>0</td>\n",
       "    </tr>\n",
       "  </tbody>\n",
       "</table>\n",
       "</div>"
      ],
      "text/plain": [
       "   AGE   BMI     BP   S1     S2    S3   S4      S5  S6  female\n",
       "0   59  32.1  101.0  157   93.2  38.0  4.0  4.8598  87       1\n",
       "1   48  21.6   87.0  183  103.2  70.0  3.0  3.8918  69       0\n",
       "2   72  30.5   93.0  156   93.6  41.0  4.0  4.6728  85       1\n",
       "3   24  25.3   84.0  198  131.4  40.0  5.0  4.8903  89       0\n",
       "4   50  23.0  101.0  192  125.4  52.0  4.0  4.2905  80       0"
      ]
     },
     "execution_count": 58,
     "metadata": {},
     "output_type": "execute_result"
    }
   ],
   "source": [
    "from sklearn.model_selection import train_test_split\n",
    "from sklearn import metrics\n",
    "from sklearn.linear_model import LinearRegression\n",
    "\n",
    "# Obtain the target and features from the DataFrame\n",
    "target = df['Y']\n",
    "features = df.drop(columns='Y')\n",
    "\n",
    "# Create dummy variable for sex\n",
    "features['female'] = pd.get_dummies(features['SEX'], drop_first=True)\n",
    "features.drop(columns=['SEX'], inplace=True)\n",
    "features.head()"
   ]
  },
  {
   "cell_type": "code",
   "execution_count": 59,
   "metadata": {
    "ExecuteTime": {
     "end_time": "2021-05-05T15:18:22.461573Z",
     "start_time": "2021-05-05T15:18:22.442795Z"
    }
   },
   "outputs": [
    {
     "data": {
      "text/html": [
       "<div>\n",
       "<style scoped>\n",
       "    .dataframe tbody tr th:only-of-type {\n",
       "        vertical-align: middle;\n",
       "    }\n",
       "\n",
       "    .dataframe tbody tr th {\n",
       "        vertical-align: top;\n",
       "    }\n",
       "\n",
       "    .dataframe thead th {\n",
       "        text-align: right;\n",
       "    }\n",
       "</style>\n",
       "<table border=\"1\" class=\"dataframe\">\n",
       "  <thead>\n",
       "    <tr style=\"text-align: right;\">\n",
       "      <th></th>\n",
       "      <th>AGE</th>\n",
       "      <th>BMI</th>\n",
       "      <th>BP</th>\n",
       "      <th>S1</th>\n",
       "      <th>S2</th>\n",
       "      <th>S3</th>\n",
       "      <th>S4</th>\n",
       "      <th>S5</th>\n",
       "      <th>S6</th>\n",
       "      <th>female</th>\n",
       "    </tr>\n",
       "  </thead>\n",
       "  <tbody>\n",
       "    <tr>\n",
       "      <th>171</th>\n",
       "      <td>43</td>\n",
       "      <td>22.1</td>\n",
       "      <td>66.0</td>\n",
       "      <td>134</td>\n",
       "      <td>77.2</td>\n",
       "      <td>45.0</td>\n",
       "      <td>3.0</td>\n",
       "      <td>4.0775</td>\n",
       "      <td>80</td>\n",
       "      <td>0</td>\n",
       "    </tr>\n",
       "    <tr>\n",
       "      <th>388</th>\n",
       "      <td>63</td>\n",
       "      <td>24.1</td>\n",
       "      <td>111.0</td>\n",
       "      <td>184</td>\n",
       "      <td>112.2</td>\n",
       "      <td>44.0</td>\n",
       "      <td>4.0</td>\n",
       "      <td>4.9345</td>\n",
       "      <td>82</td>\n",
       "      <td>1</td>\n",
       "    </tr>\n",
       "    <tr>\n",
       "      <th>268</th>\n",
       "      <td>66</td>\n",
       "      <td>34.6</td>\n",
       "      <td>115.0</td>\n",
       "      <td>204</td>\n",
       "      <td>139.4</td>\n",
       "      <td>36.0</td>\n",
       "      <td>6.0</td>\n",
       "      <td>4.9628</td>\n",
       "      <td>109</td>\n",
       "      <td>1</td>\n",
       "    </tr>\n",
       "    <tr>\n",
       "      <th>31</th>\n",
       "      <td>42</td>\n",
       "      <td>20.3</td>\n",
       "      <td>71.0</td>\n",
       "      <td>161</td>\n",
       "      <td>81.2</td>\n",
       "      <td>66.0</td>\n",
       "      <td>2.0</td>\n",
       "      <td>4.2341</td>\n",
       "      <td>81</td>\n",
       "      <td>0</td>\n",
       "    </tr>\n",
       "    <tr>\n",
       "      <th>427</th>\n",
       "      <td>39</td>\n",
       "      <td>26.9</td>\n",
       "      <td>93.0</td>\n",
       "      <td>136</td>\n",
       "      <td>75.4</td>\n",
       "      <td>48.0</td>\n",
       "      <td>3.0</td>\n",
       "      <td>4.1431</td>\n",
       "      <td>99</td>\n",
       "      <td>1</td>\n",
       "    </tr>\n",
       "    <tr>\n",
       "      <th>...</th>\n",
       "      <td>...</td>\n",
       "      <td>...</td>\n",
       "      <td>...</td>\n",
       "      <td>...</td>\n",
       "      <td>...</td>\n",
       "      <td>...</td>\n",
       "      <td>...</td>\n",
       "      <td>...</td>\n",
       "      <td>...</td>\n",
       "      <td>...</td>\n",
       "    </tr>\n",
       "    <tr>\n",
       "      <th>218</th>\n",
       "      <td>37</td>\n",
       "      <td>20.3</td>\n",
       "      <td>83.0</td>\n",
       "      <td>185</td>\n",
       "      <td>124.6</td>\n",
       "      <td>38.0</td>\n",
       "      <td>5.0</td>\n",
       "      <td>4.7185</td>\n",
       "      <td>88</td>\n",
       "      <td>0</td>\n",
       "    </tr>\n",
       "    <tr>\n",
       "      <th>412</th>\n",
       "      <td>69</td>\n",
       "      <td>34.3</td>\n",
       "      <td>113.0</td>\n",
       "      <td>200</td>\n",
       "      <td>123.8</td>\n",
       "      <td>54.0</td>\n",
       "      <td>4.0</td>\n",
       "      <td>4.7095</td>\n",
       "      <td>112</td>\n",
       "      <td>0</td>\n",
       "    </tr>\n",
       "    <tr>\n",
       "      <th>223</th>\n",
       "      <td>21</td>\n",
       "      <td>24.2</td>\n",
       "      <td>76.0</td>\n",
       "      <td>147</td>\n",
       "      <td>77.0</td>\n",
       "      <td>53.0</td>\n",
       "      <td>3.0</td>\n",
       "      <td>4.4427</td>\n",
       "      <td>79</td>\n",
       "      <td>0</td>\n",
       "    </tr>\n",
       "    <tr>\n",
       "      <th>271</th>\n",
       "      <td>59</td>\n",
       "      <td>27.2</td>\n",
       "      <td>107.0</td>\n",
       "      <td>158</td>\n",
       "      <td>102.0</td>\n",
       "      <td>39.0</td>\n",
       "      <td>4.0</td>\n",
       "      <td>4.4427</td>\n",
       "      <td>93</td>\n",
       "      <td>1</td>\n",
       "    </tr>\n",
       "    <tr>\n",
       "      <th>355</th>\n",
       "      <td>28</td>\n",
       "      <td>25.5</td>\n",
       "      <td>99.0</td>\n",
       "      <td>162</td>\n",
       "      <td>101.6</td>\n",
       "      <td>46.0</td>\n",
       "      <td>4.0</td>\n",
       "      <td>4.2767</td>\n",
       "      <td>94</td>\n",
       "      <td>1</td>\n",
       "    </tr>\n",
       "  </tbody>\n",
       "</table>\n",
       "<p>353 rows × 10 columns</p>\n",
       "</div>"
      ],
      "text/plain": [
       "     AGE   BMI     BP   S1     S2    S3   S4      S5   S6  female\n",
       "171   43  22.1   66.0  134   77.2  45.0  3.0  4.0775   80       0\n",
       "388   63  24.1  111.0  184  112.2  44.0  4.0  4.9345   82       1\n",
       "268   66  34.6  115.0  204  139.4  36.0  6.0  4.9628  109       1\n",
       "31    42  20.3   71.0  161   81.2  66.0  2.0  4.2341   81       0\n",
       "427   39  26.9   93.0  136   75.4  48.0  3.0  4.1431   99       1\n",
       "..   ...   ...    ...  ...    ...   ...  ...     ...  ...     ...\n",
       "218   37  20.3   83.0  185  124.6  38.0  5.0  4.7185   88       0\n",
       "412   69  34.3  113.0  200  123.8  54.0  4.0  4.7095  112       0\n",
       "223   21  24.2   76.0  147   77.0  53.0  3.0  4.4427   79       0\n",
       "271   59  27.2  107.0  158  102.0  39.0  4.0  4.4427   93       1\n",
       "355   28  25.5   99.0  162  101.6  46.0  4.0  4.2767   94       1\n",
       "\n",
       "[353 rows x 10 columns]"
      ]
     },
     "execution_count": 59,
     "metadata": {},
     "output_type": "execute_result"
    }
   ],
   "source": [
    "from sklearn.preprocessing import StandardScaler\n",
    "\n",
    "# Split the data\n",
    "X_train, X_test, y_train, y_test = train_test_split(features, target, random_state=20, test_size=0.2)\n",
    "X_train"
   ]
  },
  {
   "cell_type": "code",
   "execution_count": 60,
   "metadata": {
    "ExecuteTime": {
     "end_time": "2021-05-05T15:18:23.027872Z",
     "start_time": "2021-05-05T15:18:23.022923Z"
    }
   },
   "outputs": [
    {
     "data": {
      "text/plain": [
       "Index(['AGE', 'BMI', 'BP', 'S1', 'S2', 'S3', 'S4', 'S5', 'S6'], dtype='object')"
      ]
     },
     "execution_count": 60,
     "metadata": {},
     "output_type": "execute_result"
    }
   ],
   "source": [
    "# Initialize the scaler\n",
    "scaler = StandardScaler()\n",
    "# Scale every feature except the binary column - female\n",
    "scale_cols = X_train.drop('female',axis=1).columns\n",
    "scale_cols"
   ]
  },
  {
   "cell_type": "code",
   "execution_count": 61,
   "metadata": {
    "ExecuteTime": {
     "end_time": "2021-05-05T15:18:23.483096Z",
     "start_time": "2021-05-05T15:18:23.466195Z"
    }
   },
   "outputs": [
    {
     "name": "stderr",
     "output_type": "stream",
     "text": [
      "<ipython-input-61-3af75fc7958f>:1: SettingWithCopyWarning: \n",
      "A value is trying to be set on a copy of a slice from a DataFrame.\n",
      "Try using .loc[row_indexer,col_indexer] = value instead\n",
      "\n",
      "See the caveats in the documentation: https://pandas.pydata.org/pandas-docs/stable/user_guide/indexing.html#returning-a-view-versus-a-copy\n",
      "  X_train[scale_cols] = scaler.fit_transform(X_train[scale_cols])\n",
      "/opt/anaconda3/envs/learn-env-new/lib/python3.8/site-packages/pandas/core/indexing.py:1736: SettingWithCopyWarning: \n",
      "A value is trying to be set on a copy of a slice from a DataFrame.\n",
      "Try using .loc[row_indexer,col_indexer] = value instead\n",
      "\n",
      "See the caveats in the documentation: https://pandas.pydata.org/pandas-docs/stable/user_guide/indexing.html#returning-a-view-versus-a-copy\n",
      "  isetter(loc, value[:, i].tolist())\n",
      "<ipython-input-61-3af75fc7958f>:2: SettingWithCopyWarning: \n",
      "A value is trying to be set on a copy of a slice from a DataFrame.\n",
      "Try using .loc[row_indexer,col_indexer] = value instead\n",
      "\n",
      "See the caveats in the documentation: https://pandas.pydata.org/pandas-docs/stable/user_guide/indexing.html#returning-a-view-versus-a-copy\n",
      "  X_test[scale_cols] = scaler.transform(X_test[scale_cols])\n",
      "/opt/anaconda3/envs/learn-env-new/lib/python3.8/site-packages/pandas/core/indexing.py:1736: SettingWithCopyWarning: \n",
      "A value is trying to be set on a copy of a slice from a DataFrame.\n",
      "Try using .loc[row_indexer,col_indexer] = value instead\n",
      "\n",
      "See the caveats in the documentation: https://pandas.pydata.org/pandas-docs/stable/user_guide/indexing.html#returning-a-view-versus-a-copy\n",
      "  isetter(loc, value[:, i].tolist())\n"
     ]
    }
   ],
   "source": [
    "X_train[scale_cols] = scaler.fit_transform(X_train[scale_cols])\n",
    "X_test[scale_cols] = scaler.transform(X_test[scale_cols])"
   ]
  },
  {
   "cell_type": "code",
   "execution_count": 62,
   "metadata": {
    "ExecuteTime": {
     "end_time": "2021-05-05T15:18:23.816332Z",
     "start_time": "2021-05-05T15:18:23.803371Z"
    }
   },
   "outputs": [],
   "source": [
    "## Make an empty RESULTS list\n",
    "RESULTS = []\n",
    "## Run our baseline regression and append to RESULTS\n",
    "RESULTS.append(run_model(LinearRegression(),\n",
    "                         X_train,X_test,y_train,y_test,'Baseline'))"
   ]
  },
  {
   "cell_type": "code",
   "execution_count": 63,
   "metadata": {
    "ExecuteTime": {
     "end_time": "2021-05-05T15:18:23.997085Z",
     "start_time": "2021-05-05T15:18:23.985883Z"
    }
   },
   "outputs": [
    {
     "data": {
      "text/html": [
       "<style  type=\"text/css\" >\n",
       "#T_223b6c68_adb5_11eb_9c77_acde48001122row0_col1{\n",
       "            background-color:  #fff7fb;\n",
       "            color:  #000000;\n",
       "        }</style><table id=\"T_223b6c68_adb5_11eb_9c77_acde48001122\" ><thead>    <tr>        <th class=\"blank level0\" ></th>        <th class=\"col_heading level0 col0\" >Data</th>        <th class=\"col_heading level0 col1\" >R2</th>        <th class=\"col_heading level0 col2\" >RMSE</th>    </tr>    <tr>        <th class=\"index_name level0\" >Note</th>        <th class=\"blank\" ></th>        <th class=\"blank\" ></th>        <th class=\"blank\" ></th>    </tr></thead><tbody>\n",
       "                <tr>\n",
       "                        <th id=\"T_223b6c68_adb5_11eb_9c77_acde48001122level0_row0\" class=\"row_heading level0 row0\" >Baseline</th>\n",
       "                        <td id=\"T_223b6c68_adb5_11eb_9c77_acde48001122row0_col0\" class=\"data row0 col0\" >Test</td>\n",
       "                        <td id=\"T_223b6c68_adb5_11eb_9c77_acde48001122row0_col1\" class=\"data row0 col1\" >0.418000</td>\n",
       "                        <td id=\"T_223b6c68_adb5_11eb_9c77_acde48001122row0_col2\" class=\"data row0 col2\" >58.835900</td>\n",
       "            </tr>\n",
       "    </tbody></table>"
      ],
      "text/plain": [
       "<pandas.io.formats.style.Styler at 0x7feacfba0250>"
      ]
     },
     "metadata": {},
     "output_type": "display_data"
    }
   ],
   "source": [
    "def show_results(RESULTS,style_kws={'subset':['R2']}):\n",
    "    res = pd.concat(RESULTS).set_index('Note').groupby(\"Data\").get_group('Test')   \n",
    "    try:\n",
    "        display(res.style.background_gradient(**style_kws))\n",
    "    except:\n",
    "        display(res)\n",
    "show_results(RESULTS)"
   ]
  },
  {
   "cell_type": "code",
   "execution_count": 66,
   "metadata": {
    "ExecuteTime": {
     "end_time": "2021-05-05T15:18:33.501036Z",
     "start_time": "2021-05-05T15:18:33.473914Z"
    }
   },
   "outputs": [
    {
     "data": {
      "text/html": [
       "<div>\n",
       "<style scoped>\n",
       "    .dataframe tbody tr th:only-of-type {\n",
       "        vertical-align: middle;\n",
       "    }\n",
       "\n",
       "    .dataframe tbody tr th {\n",
       "        vertical-align: top;\n",
       "    }\n",
       "\n",
       "    .dataframe thead th {\n",
       "        text-align: right;\n",
       "    }\n",
       "</style>\n",
       "<table border=\"1\" class=\"dataframe\">\n",
       "  <thead>\n",
       "    <tr style=\"text-align: right;\">\n",
       "      <th></th>\n",
       "      <th>AGE</th>\n",
       "      <th>BMI</th>\n",
       "      <th>BP</th>\n",
       "      <th>S1</th>\n",
       "      <th>S2</th>\n",
       "      <th>S3</th>\n",
       "      <th>S4</th>\n",
       "      <th>S5</th>\n",
       "      <th>S6</th>\n",
       "      <th>female</th>\n",
       "      <th>...</th>\n",
       "      <th>S4^2</th>\n",
       "      <th>S4 S5</th>\n",
       "      <th>S4 S6</th>\n",
       "      <th>S4 female</th>\n",
       "      <th>S5^2</th>\n",
       "      <th>S5 S6</th>\n",
       "      <th>S5 female</th>\n",
       "      <th>S6^2</th>\n",
       "      <th>S6 female</th>\n",
       "      <th>female^2</th>\n",
       "    </tr>\n",
       "  </thead>\n",
       "  <tbody>\n",
       "    <tr>\n",
       "      <th>0</th>\n",
       "      <td>-0.433522</td>\n",
       "      <td>-0.967597</td>\n",
       "      <td>-2.067847</td>\n",
       "      <td>-1.623215</td>\n",
       "      <td>-1.280312</td>\n",
       "      <td>-0.347527</td>\n",
       "      <td>-0.852832</td>\n",
       "      <td>-1.095555</td>\n",
       "      <td>-1.006077</td>\n",
       "      <td>0.0</td>\n",
       "      <td>...</td>\n",
       "      <td>0.727322</td>\n",
       "      <td>0.934324</td>\n",
       "      <td>0.858015</td>\n",
       "      <td>-0.000000</td>\n",
       "      <td>1.200240</td>\n",
       "      <td>1.102213</td>\n",
       "      <td>-0.000000</td>\n",
       "      <td>1.012192</td>\n",
       "      <td>-0.000000</td>\n",
       "      <td>0.0</td>\n",
       "    </tr>\n",
       "    <tr>\n",
       "      <th>1</th>\n",
       "      <td>1.117754</td>\n",
       "      <td>-0.516691</td>\n",
       "      <td>1.142458</td>\n",
       "      <td>-0.168101</td>\n",
       "      <td>-0.129601</td>\n",
       "      <td>-0.424950</td>\n",
       "      <td>-0.083651</td>\n",
       "      <td>0.543382</td>\n",
       "      <td>-0.831901</td>\n",
       "      <td>1.0</td>\n",
       "      <td>...</td>\n",
       "      <td>0.006998</td>\n",
       "      <td>-0.045455</td>\n",
       "      <td>0.069589</td>\n",
       "      <td>-0.083651</td>\n",
       "      <td>0.295264</td>\n",
       "      <td>-0.452040</td>\n",
       "      <td>0.543382</td>\n",
       "      <td>0.692060</td>\n",
       "      <td>-0.831901</td>\n",
       "      <td>1.0</td>\n",
       "    </tr>\n",
       "    <tr>\n",
       "      <th>2</th>\n",
       "      <td>1.350445</td>\n",
       "      <td>1.850570</td>\n",
       "      <td>1.427819</td>\n",
       "      <td>0.413945</td>\n",
       "      <td>0.764667</td>\n",
       "      <td>-1.044334</td>\n",
       "      <td>1.454710</td>\n",
       "      <td>0.597504</td>\n",
       "      <td>1.519478</td>\n",
       "      <td>1.0</td>\n",
       "      <td>...</td>\n",
       "      <td>2.116182</td>\n",
       "      <td>0.869195</td>\n",
       "      <td>2.210400</td>\n",
       "      <td>1.454710</td>\n",
       "      <td>0.357011</td>\n",
       "      <td>0.907894</td>\n",
       "      <td>0.597504</td>\n",
       "      <td>2.308813</td>\n",
       "      <td>1.519478</td>\n",
       "      <td>1.0</td>\n",
       "    </tr>\n",
       "    <tr>\n",
       "      <th>3</th>\n",
       "      <td>-0.511086</td>\n",
       "      <td>-1.373413</td>\n",
       "      <td>-1.711146</td>\n",
       "      <td>-0.837453</td>\n",
       "      <td>-1.148802</td>\n",
       "      <td>1.278358</td>\n",
       "      <td>-1.622013</td>\n",
       "      <td>-0.796071</td>\n",
       "      <td>-0.918989</td>\n",
       "      <td>0.0</td>\n",
       "      <td>...</td>\n",
       "      <td>2.630925</td>\n",
       "      <td>1.291237</td>\n",
       "      <td>1.490612</td>\n",
       "      <td>-0.000000</td>\n",
       "      <td>0.633729</td>\n",
       "      <td>0.731581</td>\n",
       "      <td>-0.000000</td>\n",
       "      <td>0.844541</td>\n",
       "      <td>-0.000000</td>\n",
       "      <td>0.0</td>\n",
       "    </tr>\n",
       "    <tr>\n",
       "      <th>4</th>\n",
       "      <td>-0.743778</td>\n",
       "      <td>0.114579</td>\n",
       "      <td>-0.141664</td>\n",
       "      <td>-1.565010</td>\n",
       "      <td>-1.339491</td>\n",
       "      <td>-0.115257</td>\n",
       "      <td>-0.852832</td>\n",
       "      <td>-0.970101</td>\n",
       "      <td>0.648597</td>\n",
       "      <td>1.0</td>\n",
       "      <td>...</td>\n",
       "      <td>0.727322</td>\n",
       "      <td>0.827333</td>\n",
       "      <td>-0.553144</td>\n",
       "      <td>-0.852832</td>\n",
       "      <td>0.941095</td>\n",
       "      <td>-0.629204</td>\n",
       "      <td>-0.970101</td>\n",
       "      <td>0.420678</td>\n",
       "      <td>0.648597</td>\n",
       "      <td>1.0</td>\n",
       "    </tr>\n",
       "  </tbody>\n",
       "</table>\n",
       "<p>5 rows × 65 columns</p>\n",
       "</div>"
      ],
      "text/plain": [
       "        AGE       BMI        BP        S1        S2        S3        S4  \\\n",
       "0 -0.433522 -0.967597 -2.067847 -1.623215 -1.280312 -0.347527 -0.852832   \n",
       "1  1.117754 -0.516691  1.142458 -0.168101 -0.129601 -0.424950 -0.083651   \n",
       "2  1.350445  1.850570  1.427819  0.413945  0.764667 -1.044334  1.454710   \n",
       "3 -0.511086 -1.373413 -1.711146 -0.837453 -1.148802  1.278358 -1.622013   \n",
       "4 -0.743778  0.114579 -0.141664 -1.565010 -1.339491 -0.115257 -0.852832   \n",
       "\n",
       "         S5        S6  female  ...      S4^2     S4 S5     S4 S6  S4 female  \\\n",
       "0 -1.095555 -1.006077     0.0  ...  0.727322  0.934324  0.858015  -0.000000   \n",
       "1  0.543382 -0.831901     1.0  ...  0.006998 -0.045455  0.069589  -0.083651   \n",
       "2  0.597504  1.519478     1.0  ...  2.116182  0.869195  2.210400   1.454710   \n",
       "3 -0.796071 -0.918989     0.0  ...  2.630925  1.291237  1.490612  -0.000000   \n",
       "4 -0.970101  0.648597     1.0  ...  0.727322  0.827333 -0.553144  -0.852832   \n",
       "\n",
       "       S5^2     S5 S6  S5 female      S6^2  S6 female  female^2  \n",
       "0  1.200240  1.102213  -0.000000  1.012192  -0.000000       0.0  \n",
       "1  0.295264 -0.452040   0.543382  0.692060  -0.831901       1.0  \n",
       "2  0.357011  0.907894   0.597504  2.308813   1.519478       1.0  \n",
       "3  0.633729  0.731581  -0.000000  0.844541  -0.000000       0.0  \n",
       "4  0.941095 -0.629204  -0.970101  0.420678   0.648597       1.0  \n",
       "\n",
       "[5 rows x 65 columns]"
      ]
     },
     "execution_count": 66,
     "metadata": {},
     "output_type": "execute_result"
    }
   ],
   "source": [
    "from sklearn.preprocessing import PolynomialFeatures\n",
    "poly = PolynomialFeatures(degree=2, interaction_only=False, include_bias=False)\n",
    "\n",
    "X_poly_train = pd.DataFrame(poly.fit_transform(X_train),\n",
    "                            columns=poly.get_feature_names(features.columns))\n",
    "\n",
    "X_poly_test = pd.DataFrame(poly.transform(X_test),\n",
    "                           columns=poly.get_feature_names(features.columns))\n",
    "\n",
    "X_poly_train.head()"
   ]
  },
  {
   "cell_type": "code",
   "execution_count": 67,
   "metadata": {
    "ExecuteTime": {
     "end_time": "2021-05-05T15:18:34.261710Z",
     "start_time": "2021-05-05T15:18:34.224961Z"
    }
   },
   "outputs": [
    {
     "data": {
      "text/html": [
       "<style  type=\"text/css\" >\n",
       "#T_28599444_adb5_11eb_9c77_acde48001122row0_col1{\n",
       "            background-color:  #023858;\n",
       "            color:  #f1f1f1;\n",
       "        }#T_28599444_adb5_11eb_9c77_acde48001122row1_col1{\n",
       "            background-color:  #fff7fb;\n",
       "            color:  #000000;\n",
       "        }</style><table id=\"T_28599444_adb5_11eb_9c77_acde48001122\" ><thead>    <tr>        <th class=\"blank level0\" ></th>        <th class=\"col_heading level0 col0\" >Data</th>        <th class=\"col_heading level0 col1\" >R2</th>        <th class=\"col_heading level0 col2\" >RMSE</th>    </tr>    <tr>        <th class=\"index_name level0\" >Note</th>        <th class=\"blank\" ></th>        <th class=\"blank\" ></th>        <th class=\"blank\" ></th>    </tr></thead><tbody>\n",
       "                <tr>\n",
       "                        <th id=\"T_28599444_adb5_11eb_9c77_acde48001122level0_row0\" class=\"row_heading level0 row0\" >Baseline</th>\n",
       "                        <td id=\"T_28599444_adb5_11eb_9c77_acde48001122row0_col0\" class=\"data row0 col0\" >Test</td>\n",
       "                        <td id=\"T_28599444_adb5_11eb_9c77_acde48001122row0_col1\" class=\"data row0 col1\" >0.418000</td>\n",
       "                        <td id=\"T_28599444_adb5_11eb_9c77_acde48001122row0_col2\" class=\"data row0 col2\" >58.835900</td>\n",
       "            </tr>\n",
       "            <tr>\n",
       "                        <th id=\"T_28599444_adb5_11eb_9c77_acde48001122level0_row1\" class=\"row_heading level0 row1\" >Poly</th>\n",
       "                        <td id=\"T_28599444_adb5_11eb_9c77_acde48001122row1_col0\" class=\"data row1 col0\" >Test</td>\n",
       "                        <td id=\"T_28599444_adb5_11eb_9c77_acde48001122row1_col1\" class=\"data row1 col1\" >0.368900</td>\n",
       "                        <td id=\"T_28599444_adb5_11eb_9c77_acde48001122row1_col2\" class=\"data row1 col2\" >61.267800</td>\n",
       "            </tr>\n",
       "    </tbody></table>"
      ],
      "text/plain": [
       "<pandas.io.formats.style.Styler at 0x7fead4779940>"
      ]
     },
     "metadata": {},
     "output_type": "display_data"
    }
   ],
   "source": [
    "## Make a linear regression with our X_poly data and append to RESULTS\n",
    "RESULTS.append(run_model(LinearRegression(),\n",
    "                         X_poly_train,X_poly_test,y_train,y_test,'Poly'))\n",
    "\n",
    "## Show resuls\n",
    "show_results(RESULTS)"
   ]
  },
  {
   "cell_type": "markdown",
   "metadata": {},
   "source": [
    "### Filter Methods"
   ]
  },
  {
   "cell_type": "markdown",
   "metadata": {},
   "source": [
    ">\"The benefit of filter methods is that they can provide us with some useful visualizations for helping us gain an understanding about the characteristics of our data. To begin with, let's use a simple variance threshold to eliminate the features with low variance.\""
   ]
  },
  {
   "cell_type": "code",
   "execution_count": 68,
   "metadata": {
    "ExecuteTime": {
     "end_time": "2021-05-05T15:18:36.054663Z",
     "start_time": "2021-05-05T15:18:35.866855Z"
    }
   },
   "outputs": [
    {
     "data": {
      "text/html": [
       "<style  type=\"text/css\" >\n",
       "#T_296b1ff6_adb5_11eb_9c77_acde48001122row0_col1{\n",
       "            background-color:  #023858;\n",
       "            color:  #f1f1f1;\n",
       "        }#T_296b1ff6_adb5_11eb_9c77_acde48001122row1_col1,#T_296b1ff6_adb5_11eb_9c77_acde48001122row2_col1{\n",
       "            background-color:  #045a8d;\n",
       "            color:  #f1f1f1;\n",
       "        }#T_296b1ff6_adb5_11eb_9c77_acde48001122row3_col1{\n",
       "            background-color:  #046096;\n",
       "            color:  #f1f1f1;\n",
       "        }#T_296b1ff6_adb5_11eb_9c77_acde48001122row4_col1{\n",
       "            background-color:  #045d92;\n",
       "            color:  #f1f1f1;\n",
       "        }#T_296b1ff6_adb5_11eb_9c77_acde48001122row5_col1{\n",
       "            background-color:  #fff7fb;\n",
       "            color:  #000000;\n",
       "        }#T_296b1ff6_adb5_11eb_9c77_acde48001122row6_col1{\n",
       "            background-color:  #e7e3f0;\n",
       "            color:  #000000;\n",
       "        }#T_296b1ff6_adb5_11eb_9c77_acde48001122row7_col1{\n",
       "            background-color:  #fdf5fa;\n",
       "            color:  #000000;\n",
       "        }</style><table id=\"T_296b1ff6_adb5_11eb_9c77_acde48001122\" ><thead>    <tr>        <th class=\"blank level0\" ></th>        <th class=\"col_heading level0 col0\" >Data</th>        <th class=\"col_heading level0 col1\" >R2</th>        <th class=\"col_heading level0 col2\" >RMSE</th>    </tr>    <tr>        <th class=\"index_name level0\" >Note</th>        <th class=\"blank\" ></th>        <th class=\"blank\" ></th>        <th class=\"blank\" ></th>    </tr></thead><tbody>\n",
       "                <tr>\n",
       "                        <th id=\"T_296b1ff6_adb5_11eb_9c77_acde48001122level0_row0\" class=\"row_heading level0 row0\" >Baseline</th>\n",
       "                        <td id=\"T_296b1ff6_adb5_11eb_9c77_acde48001122row0_col0\" class=\"data row0 col0\" >Test</td>\n",
       "                        <td id=\"T_296b1ff6_adb5_11eb_9c77_acde48001122row0_col1\" class=\"data row0 col1\" >0.418000</td>\n",
       "                        <td id=\"T_296b1ff6_adb5_11eb_9c77_acde48001122row0_col2\" class=\"data row0 col2\" >58.835900</td>\n",
       "            </tr>\n",
       "            <tr>\n",
       "                        <th id=\"T_296b1ff6_adb5_11eb_9c77_acde48001122level0_row1\" class=\"row_heading level0 row1\" >Poly</th>\n",
       "                        <td id=\"T_296b1ff6_adb5_11eb_9c77_acde48001122row1_col0\" class=\"data row1 col0\" >Test</td>\n",
       "                        <td id=\"T_296b1ff6_adb5_11eb_9c77_acde48001122row1_col1\" class=\"data row1 col1\" >0.368900</td>\n",
       "                        <td id=\"T_296b1ff6_adb5_11eb_9c77_acde48001122row1_col2\" class=\"data row1 col2\" >61.267800</td>\n",
       "            </tr>\n",
       "            <tr>\n",
       "                        <th id=\"T_296b1ff6_adb5_11eb_9c77_acde48001122level0_row2\" class=\"row_heading level0 row2\" >VarThresh=0.0</th>\n",
       "                        <td id=\"T_296b1ff6_adb5_11eb_9c77_acde48001122row2_col0\" class=\"data row2 col0\" >Test</td>\n",
       "                        <td id=\"T_296b1ff6_adb5_11eb_9c77_acde48001122row2_col1\" class=\"data row2 col1\" >0.368900</td>\n",
       "                        <td id=\"T_296b1ff6_adb5_11eb_9c77_acde48001122row2_col2\" class=\"data row2 col2\" >61.267800</td>\n",
       "            </tr>\n",
       "            <tr>\n",
       "                        <th id=\"T_296b1ff6_adb5_11eb_9c77_acde48001122level0_row3\" class=\"row_heading level0 row3\" >VarThresh=0.4</th>\n",
       "                        <td id=\"T_296b1ff6_adb5_11eb_9c77_acde48001122row3_col0\" class=\"data row3 col0\" >Test</td>\n",
       "                        <td id=\"T_296b1ff6_adb5_11eb_9c77_acde48001122row3_col1\" class=\"data row3 col1\" >0.358100</td>\n",
       "                        <td id=\"T_296b1ff6_adb5_11eb_9c77_acde48001122row3_col2\" class=\"data row3 col2\" >61.789200</td>\n",
       "            </tr>\n",
       "            <tr>\n",
       "                        <th id=\"T_296b1ff6_adb5_11eb_9c77_acde48001122level0_row4\" class=\"row_heading level0 row4\" >VarThresh=0.8</th>\n",
       "                        <td id=\"T_296b1ff6_adb5_11eb_9c77_acde48001122row4_col0\" class=\"data row4 col0\" >Test</td>\n",
       "                        <td id=\"T_296b1ff6_adb5_11eb_9c77_acde48001122row4_col1\" class=\"data row4 col1\" >0.364000</td>\n",
       "                        <td id=\"T_296b1ff6_adb5_11eb_9c77_acde48001122row4_col2\" class=\"data row4 col2\" >61.502900</td>\n",
       "            </tr>\n",
       "            <tr>\n",
       "                        <th id=\"T_296b1ff6_adb5_11eb_9c77_acde48001122level0_row5\" class=\"row_heading level0 row5\" >VarThresh=1.2</th>\n",
       "                        <td id=\"T_296b1ff6_adb5_11eb_9c77_acde48001122row5_col0\" class=\"data row5 col0\" >Test</td>\n",
       "                        <td id=\"T_296b1ff6_adb5_11eb_9c77_acde48001122row5_col1\" class=\"data row5 col1\" >0.036300</td>\n",
       "                        <td id=\"T_296b1ff6_adb5_11eb_9c77_acde48001122row5_col2\" class=\"data row5 col2\" >75.710100</td>\n",
       "            </tr>\n",
       "            <tr>\n",
       "                        <th id=\"T_296b1ff6_adb5_11eb_9c77_acde48001122level0_row6\" class=\"row_heading level0 row6\" >VarThresh=1.6</th>\n",
       "                        <td id=\"T_296b1ff6_adb5_11eb_9c77_acde48001122row6_col0\" class=\"data row6 col0\" >Test</td>\n",
       "                        <td id=\"T_296b1ff6_adb5_11eb_9c77_acde48001122row6_col1\" class=\"data row6 col1\" >0.092700</td>\n",
       "                        <td id=\"T_296b1ff6_adb5_11eb_9c77_acde48001122row6_col2\" class=\"data row6 col2\" >73.459300</td>\n",
       "            </tr>\n",
       "            <tr>\n",
       "                        <th id=\"T_296b1ff6_adb5_11eb_9c77_acde48001122level0_row7\" class=\"row_heading level0 row7\" >VarThresh=2.0</th>\n",
       "                        <td id=\"T_296b1ff6_adb5_11eb_9c77_acde48001122row7_col0\" class=\"data row7 col0\" >Test</td>\n",
       "                        <td id=\"T_296b1ff6_adb5_11eb_9c77_acde48001122row7_col1\" class=\"data row7 col1\" >0.042000</td>\n",
       "                        <td id=\"T_296b1ff6_adb5_11eb_9c77_acde48001122row7_col2\" class=\"data row7 col2\" >75.483900</td>\n",
       "            </tr>\n",
       "    </tbody></table>"
      ],
      "text/plain": [
       "<pandas.io.formats.style.Styler at 0x7feababff700>"
      ]
     },
     "metadata": {},
     "output_type": "display_data"
    }
   ],
   "source": [
    "## Filter Methods\n",
    "from sklearn.feature_selection import VarianceThreshold\n",
    "\n",
    "threshold_ranges = np.linspace(0, 2, num=6)\n",
    "\n",
    "results = []\n",
    "for thresh in threshold_ranges:\n",
    "#     print(thresh)\n",
    "    selector = VarianceThreshold(thresh)\n",
    "    reduced_feature_train = selector.fit_transform(X_poly_train)\n",
    "    reduced_feature_test = selector.transform(X_poly_test)\n",
    "    lr = LinearRegression()\n",
    "    lr.fit(reduced_feature_train, y_train)\n",
    "    res = run_model(lr, reduced_feature_train, reduced_feature_test,\n",
    "                    y_train, y_test,f\"VarThresh={round(thresh,3)}\")\n",
    "    \n",
    "    results.append(res)\n",
    "\n",
    "res_df = pd.concat(results)\n",
    "RESULTS.append(res_df)\n",
    "show_results(RESULTS)"
   ]
  },
  {
   "cell_type": "markdown",
   "metadata": {},
   "source": [
    "> Well, that did not seem to eliminate the features very well. It only does a little better than the base polynomial. "
   ]
  },
  {
   "cell_type": "code",
   "execution_count": 69,
   "metadata": {
    "ExecuteTime": {
     "end_time": "2021-05-05T15:18:37.116357Z",
     "start_time": "2021-05-05T15:18:37.098797Z"
    }
   },
   "outputs": [],
   "source": [
    "from sklearn.feature_selection import f_regression, mutual_info_regression, SelectKBest\n",
    "selector = SelectKBest(score_func=f_regression)\n",
    "X_k_best_train = selector.fit_transform(X_poly_train, y_train)\n",
    "X_k_best_test= selector.transform(X_poly_test)\n",
    "lr = LinearRegression()\n",
    "lr.fit(X_k_best_train ,y_train)\n",
    "RESULTS.append(run_model(lr,X_k_best_train,X_k_best_test,y_train,y_test,'KBest-f_regr'))"
   ]
  },
  {
   "cell_type": "code",
   "execution_count": 70,
   "metadata": {
    "ExecuteTime": {
     "end_time": "2021-05-05T15:18:38.036302Z",
     "start_time": "2021-05-05T15:18:37.714570Z"
    }
   },
   "outputs": [],
   "source": [
    "selector = SelectKBest(score_func=mutual_info_regression)\n",
    "X_k_best_train = selector.fit_transform(X_poly_train, y_train)\n",
    "X_k_best_test= selector.transform(X_poly_test)\n",
    "lr = LinearRegression()\n",
    "lr.fit(X_k_best_train ,y_train)\n",
    "RESULTS.append(run_model(lr,X_k_best_train,X_k_best_test,y_train,y_test,'KBest-mutual_info'))"
   ]
  },
  {
   "cell_type": "code",
   "execution_count": 71,
   "metadata": {
    "ExecuteTime": {
     "end_time": "2021-05-05T15:18:38.104893Z",
     "start_time": "2021-05-05T15:18:38.091358Z"
    }
   },
   "outputs": [
    {
     "data": {
      "text/html": [
       "<style  type=\"text/css\" >\n",
       "#T_2aa3d8a4_adb5_11eb_9c77_acde48001122row0_col1{\n",
       "            background-color:  #023c5f;\n",
       "            color:  #f1f1f1;\n",
       "        }#T_2aa3d8a4_adb5_11eb_9c77_acde48001122row1_col1,#T_2aa3d8a4_adb5_11eb_9c77_acde48001122row2_col1{\n",
       "            background-color:  #045d92;\n",
       "            color:  #f1f1f1;\n",
       "        }#T_2aa3d8a4_adb5_11eb_9c77_acde48001122row3_col1{\n",
       "            background-color:  #04629a;\n",
       "            color:  #f1f1f1;\n",
       "        }#T_2aa3d8a4_adb5_11eb_9c77_acde48001122row4_col1{\n",
       "            background-color:  #046096;\n",
       "            color:  #f1f1f1;\n",
       "        }#T_2aa3d8a4_adb5_11eb_9c77_acde48001122row5_col1{\n",
       "            background-color:  #fff7fb;\n",
       "            color:  #000000;\n",
       "        }#T_2aa3d8a4_adb5_11eb_9c77_acde48001122row6_col1{\n",
       "            background-color:  #e7e3f0;\n",
       "            color:  #000000;\n",
       "        }#T_2aa3d8a4_adb5_11eb_9c77_acde48001122row7_col1{\n",
       "            background-color:  #fdf5fa;\n",
       "            color:  #000000;\n",
       "        }#T_2aa3d8a4_adb5_11eb_9c77_acde48001122row8_col1{\n",
       "            background-color:  #023858;\n",
       "            color:  #f1f1f1;\n",
       "        }#T_2aa3d8a4_adb5_11eb_9c77_acde48001122row9_col1{\n",
       "            background-color:  #034165;\n",
       "            color:  #f1f1f1;\n",
       "        }</style><table id=\"T_2aa3d8a4_adb5_11eb_9c77_acde48001122\" ><thead>    <tr>        <th class=\"blank level0\" ></th>        <th class=\"col_heading level0 col0\" >Data</th>        <th class=\"col_heading level0 col1\" >R2</th>        <th class=\"col_heading level0 col2\" >RMSE</th>    </tr>    <tr>        <th class=\"index_name level0\" >Note</th>        <th class=\"blank\" ></th>        <th class=\"blank\" ></th>        <th class=\"blank\" ></th>    </tr></thead><tbody>\n",
       "                <tr>\n",
       "                        <th id=\"T_2aa3d8a4_adb5_11eb_9c77_acde48001122level0_row0\" class=\"row_heading level0 row0\" >Baseline</th>\n",
       "                        <td id=\"T_2aa3d8a4_adb5_11eb_9c77_acde48001122row0_col0\" class=\"data row0 col0\" >Test</td>\n",
       "                        <td id=\"T_2aa3d8a4_adb5_11eb_9c77_acde48001122row0_col1\" class=\"data row0 col1\" >0.418000</td>\n",
       "                        <td id=\"T_2aa3d8a4_adb5_11eb_9c77_acde48001122row0_col2\" class=\"data row0 col2\" >58.835900</td>\n",
       "            </tr>\n",
       "            <tr>\n",
       "                        <th id=\"T_2aa3d8a4_adb5_11eb_9c77_acde48001122level0_row1\" class=\"row_heading level0 row1\" >Poly</th>\n",
       "                        <td id=\"T_2aa3d8a4_adb5_11eb_9c77_acde48001122row1_col0\" class=\"data row1 col0\" >Test</td>\n",
       "                        <td id=\"T_2aa3d8a4_adb5_11eb_9c77_acde48001122row1_col1\" class=\"data row1 col1\" >0.368900</td>\n",
       "                        <td id=\"T_2aa3d8a4_adb5_11eb_9c77_acde48001122row1_col2\" class=\"data row1 col2\" >61.267800</td>\n",
       "            </tr>\n",
       "            <tr>\n",
       "                        <th id=\"T_2aa3d8a4_adb5_11eb_9c77_acde48001122level0_row2\" class=\"row_heading level0 row2\" >VarThresh=0.0</th>\n",
       "                        <td id=\"T_2aa3d8a4_adb5_11eb_9c77_acde48001122row2_col0\" class=\"data row2 col0\" >Test</td>\n",
       "                        <td id=\"T_2aa3d8a4_adb5_11eb_9c77_acde48001122row2_col1\" class=\"data row2 col1\" >0.368900</td>\n",
       "                        <td id=\"T_2aa3d8a4_adb5_11eb_9c77_acde48001122row2_col2\" class=\"data row2 col2\" >61.267800</td>\n",
       "            </tr>\n",
       "            <tr>\n",
       "                        <th id=\"T_2aa3d8a4_adb5_11eb_9c77_acde48001122level0_row3\" class=\"row_heading level0 row3\" >VarThresh=0.4</th>\n",
       "                        <td id=\"T_2aa3d8a4_adb5_11eb_9c77_acde48001122row3_col0\" class=\"data row3 col0\" >Test</td>\n",
       "                        <td id=\"T_2aa3d8a4_adb5_11eb_9c77_acde48001122row3_col1\" class=\"data row3 col1\" >0.358100</td>\n",
       "                        <td id=\"T_2aa3d8a4_adb5_11eb_9c77_acde48001122row3_col2\" class=\"data row3 col2\" >61.789200</td>\n",
       "            </tr>\n",
       "            <tr>\n",
       "                        <th id=\"T_2aa3d8a4_adb5_11eb_9c77_acde48001122level0_row4\" class=\"row_heading level0 row4\" >VarThresh=0.8</th>\n",
       "                        <td id=\"T_2aa3d8a4_adb5_11eb_9c77_acde48001122row4_col0\" class=\"data row4 col0\" >Test</td>\n",
       "                        <td id=\"T_2aa3d8a4_adb5_11eb_9c77_acde48001122row4_col1\" class=\"data row4 col1\" >0.364000</td>\n",
       "                        <td id=\"T_2aa3d8a4_adb5_11eb_9c77_acde48001122row4_col2\" class=\"data row4 col2\" >61.502900</td>\n",
       "            </tr>\n",
       "            <tr>\n",
       "                        <th id=\"T_2aa3d8a4_adb5_11eb_9c77_acde48001122level0_row5\" class=\"row_heading level0 row5\" >VarThresh=1.2</th>\n",
       "                        <td id=\"T_2aa3d8a4_adb5_11eb_9c77_acde48001122row5_col0\" class=\"data row5 col0\" >Test</td>\n",
       "                        <td id=\"T_2aa3d8a4_adb5_11eb_9c77_acde48001122row5_col1\" class=\"data row5 col1\" >0.036300</td>\n",
       "                        <td id=\"T_2aa3d8a4_adb5_11eb_9c77_acde48001122row5_col2\" class=\"data row5 col2\" >75.710100</td>\n",
       "            </tr>\n",
       "            <tr>\n",
       "                        <th id=\"T_2aa3d8a4_adb5_11eb_9c77_acde48001122level0_row6\" class=\"row_heading level0 row6\" >VarThresh=1.6</th>\n",
       "                        <td id=\"T_2aa3d8a4_adb5_11eb_9c77_acde48001122row6_col0\" class=\"data row6 col0\" >Test</td>\n",
       "                        <td id=\"T_2aa3d8a4_adb5_11eb_9c77_acde48001122row6_col1\" class=\"data row6 col1\" >0.092700</td>\n",
       "                        <td id=\"T_2aa3d8a4_adb5_11eb_9c77_acde48001122row6_col2\" class=\"data row6 col2\" >73.459300</td>\n",
       "            </tr>\n",
       "            <tr>\n",
       "                        <th id=\"T_2aa3d8a4_adb5_11eb_9c77_acde48001122level0_row7\" class=\"row_heading level0 row7\" >VarThresh=2.0</th>\n",
       "                        <td id=\"T_2aa3d8a4_adb5_11eb_9c77_acde48001122row7_col0\" class=\"data row7 col0\" >Test</td>\n",
       "                        <td id=\"T_2aa3d8a4_adb5_11eb_9c77_acde48001122row7_col1\" class=\"data row7 col1\" >0.042000</td>\n",
       "                        <td id=\"T_2aa3d8a4_adb5_11eb_9c77_acde48001122row7_col2\" class=\"data row7 col2\" >75.483900</td>\n",
       "            </tr>\n",
       "            <tr>\n",
       "                        <th id=\"T_2aa3d8a4_adb5_11eb_9c77_acde48001122level0_row8\" class=\"row_heading level0 row8\" >KBest-f_regr</th>\n",
       "                        <td id=\"T_2aa3d8a4_adb5_11eb_9c77_acde48001122row8_col0\" class=\"data row8 col0\" >Test</td>\n",
       "                        <td id=\"T_2aa3d8a4_adb5_11eb_9c77_acde48001122row8_col1\" class=\"data row8 col1\" >0.425000</td>\n",
       "                        <td id=\"T_2aa3d8a4_adb5_11eb_9c77_acde48001122row8_col2\" class=\"data row8 col2\" >58.479900</td>\n",
       "            </tr>\n",
       "            <tr>\n",
       "                        <th id=\"T_2aa3d8a4_adb5_11eb_9c77_acde48001122level0_row9\" class=\"row_heading level0 row9\" >KBest-mutual_info</th>\n",
       "                        <td id=\"T_2aa3d8a4_adb5_11eb_9c77_acde48001122row9_col0\" class=\"data row9 col0\" >Test</td>\n",
       "                        <td id=\"T_2aa3d8a4_adb5_11eb_9c77_acde48001122row9_col1\" class=\"data row9 col1\" >0.411600</td>\n",
       "                        <td id=\"T_2aa3d8a4_adb5_11eb_9c77_acde48001122row9_col2\" class=\"data row9 col2\" >59.158700</td>\n",
       "            </tr>\n",
       "    </tbody></table>"
      ],
      "text/plain": [
       "<pandas.io.formats.style.Styler at 0x7feabaeec1f0>"
      ]
     },
     "metadata": {},
     "output_type": "display_data"
    }
   ],
   "source": [
    "show_results(RESULTS)"
   ]
  },
  {
   "cell_type": "markdown",
   "metadata": {},
   "source": [
    "> Well, that did not seem to eliminate the features very well. It only does a little better than the base polynomial. "
   ]
  },
  {
   "cell_type": "markdown",
   "metadata": {},
   "source": [
    "### Wrapper methods\n",
    "\n",
    "> Now let's use Recursive Feature elimination (RFE) to try out a wrapper method. You'll notice that scikit-learn has a built in `RFECV()` function, which automatically determines the optimal number of features to keep when it is run based off the estimator that is passed into it. Here it is in action: "
   ]
  },
  {
   "cell_type": "code",
   "execution_count": 72,
   "metadata": {
    "ExecuteTime": {
     "end_time": "2021-05-05T15:18:40.737595Z",
     "start_time": "2021-05-05T15:18:39.744244Z"
    }
   },
   "outputs": [],
   "source": [
    "from sklearn.feature_selection import RFE, RFECV\n",
    "from sklearn.linear_model import LinearRegression\n",
    "\n",
    "rfe = RFECV(LinearRegression(),cv=5)\n",
    "X_rfe_train = rfe.fit_transform(X_poly_train, y_train)\n",
    "X_rfe_test = rfe.transform(X_poly_test)\n",
    "lm = LinearRegression().fit(X_rfe_train, y_train)\n",
    "RESULTS.append(run_model(lm, X_rfe_train, X_rfe_test, y_train, y_test,f'RFE w. {rfe.n_features_} feats'))\n",
    "# print ('The optimal number of features is: ', rfe.n_features_)"
   ]
  },
  {
   "cell_type": "markdown",
   "metadata": {},
   "source": [
    "## Embedded methods  \n",
    "> To compare to our other methods, we will use Lasso as the embedded method of feature selection. Luckily for us, sklearn has a built-in method to help us find the optimal features! It performs cross validation to determine the correct regularization parameter (how much to penalize our function)."
   ]
  },
  {
   "cell_type": "code",
   "execution_count": 73,
   "metadata": {
    "ExecuteTime": {
     "end_time": "2021-05-05T15:18:40.877878Z",
     "start_time": "2021-05-05T15:18:40.739734Z"
    }
   },
   "outputs": [],
   "source": [
    "from sklearn.linear_model import LassoCV\n",
    "lasso = LassoCV(max_iter=100000, cv=5)\n",
    "lasso.fit(X_train, y_train)\n",
    "RESULTS.append(run_model(lasso,X_train, X_test, y_train, y_test,f'Lasso - X data'))\n",
    "# print('The optimal alpha for the Lasso Regression is: ', lasso.alpha_)"
   ]
  },
  {
   "cell_type": "markdown",
   "metadata": {},
   "source": [
    "> Let's compare this to a model with all of the polynomial features included."
   ]
  },
  {
   "cell_type": "code",
   "execution_count": 74,
   "metadata": {
    "ExecuteTime": {
     "end_time": "2021-05-05T15:18:41.637606Z",
     "start_time": "2021-05-05T15:18:40.880253Z"
    }
   },
   "outputs": [],
   "source": [
    "lasso2 = LassoCV(max_iter=100000, cv=5)\n",
    "lasso2.fit(X_poly_train, y_train)\n",
    "\n",
    "RESULTS.append(run_model(lasso2, X_poly_train, X_poly_test, y_train, y_test,f'Lasso Poly '))\n",
    "# print('The optimal alpha for the Lasso Regression is: ', lasso2.alpha_)"
   ]
  },
  {
   "cell_type": "code",
   "execution_count": 75,
   "metadata": {
    "ExecuteTime": {
     "end_time": "2021-05-05T15:18:41.654433Z",
     "start_time": "2021-05-05T15:18:41.639619Z"
    }
   },
   "outputs": [
    {
     "data": {
      "text/html": [
       "<style  type=\"text/css\" >\n",
       "#T_2cc167e6_adb5_11eb_9c77_acde48001122row12_col1{\n",
       "            background-color:  yellow;\n",
       "        }</style><table id=\"T_2cc167e6_adb5_11eb_9c77_acde48001122\" ><thead>    <tr>        <th class=\"blank level0\" ></th>        <th class=\"col_heading level0 col0\" >Data</th>        <th class=\"col_heading level0 col1\" >R2</th>        <th class=\"col_heading level0 col2\" >RMSE</th>    </tr>    <tr>        <th class=\"index_name level0\" >Note</th>        <th class=\"blank\" ></th>        <th class=\"blank\" ></th>        <th class=\"blank\" ></th>    </tr></thead><tbody>\n",
       "                <tr>\n",
       "                        <th id=\"T_2cc167e6_adb5_11eb_9c77_acde48001122level0_row0\" class=\"row_heading level0 row0\" >Baseline</th>\n",
       "                        <td id=\"T_2cc167e6_adb5_11eb_9c77_acde48001122row0_col0\" class=\"data row0 col0\" >Test</td>\n",
       "                        <td id=\"T_2cc167e6_adb5_11eb_9c77_acde48001122row0_col1\" class=\"data row0 col1\" >0.418000</td>\n",
       "                        <td id=\"T_2cc167e6_adb5_11eb_9c77_acde48001122row0_col2\" class=\"data row0 col2\" >58.835900</td>\n",
       "            </tr>\n",
       "            <tr>\n",
       "                        <th id=\"T_2cc167e6_adb5_11eb_9c77_acde48001122level0_row1\" class=\"row_heading level0 row1\" >Poly</th>\n",
       "                        <td id=\"T_2cc167e6_adb5_11eb_9c77_acde48001122row1_col0\" class=\"data row1 col0\" >Test</td>\n",
       "                        <td id=\"T_2cc167e6_adb5_11eb_9c77_acde48001122row1_col1\" class=\"data row1 col1\" >0.368900</td>\n",
       "                        <td id=\"T_2cc167e6_adb5_11eb_9c77_acde48001122row1_col2\" class=\"data row1 col2\" >61.267800</td>\n",
       "            </tr>\n",
       "            <tr>\n",
       "                        <th id=\"T_2cc167e6_adb5_11eb_9c77_acde48001122level0_row2\" class=\"row_heading level0 row2\" >VarThresh=0.0</th>\n",
       "                        <td id=\"T_2cc167e6_adb5_11eb_9c77_acde48001122row2_col0\" class=\"data row2 col0\" >Test</td>\n",
       "                        <td id=\"T_2cc167e6_adb5_11eb_9c77_acde48001122row2_col1\" class=\"data row2 col1\" >0.368900</td>\n",
       "                        <td id=\"T_2cc167e6_adb5_11eb_9c77_acde48001122row2_col2\" class=\"data row2 col2\" >61.267800</td>\n",
       "            </tr>\n",
       "            <tr>\n",
       "                        <th id=\"T_2cc167e6_adb5_11eb_9c77_acde48001122level0_row3\" class=\"row_heading level0 row3\" >VarThresh=0.4</th>\n",
       "                        <td id=\"T_2cc167e6_adb5_11eb_9c77_acde48001122row3_col0\" class=\"data row3 col0\" >Test</td>\n",
       "                        <td id=\"T_2cc167e6_adb5_11eb_9c77_acde48001122row3_col1\" class=\"data row3 col1\" >0.358100</td>\n",
       "                        <td id=\"T_2cc167e6_adb5_11eb_9c77_acde48001122row3_col2\" class=\"data row3 col2\" >61.789200</td>\n",
       "            </tr>\n",
       "            <tr>\n",
       "                        <th id=\"T_2cc167e6_adb5_11eb_9c77_acde48001122level0_row4\" class=\"row_heading level0 row4\" >VarThresh=0.8</th>\n",
       "                        <td id=\"T_2cc167e6_adb5_11eb_9c77_acde48001122row4_col0\" class=\"data row4 col0\" >Test</td>\n",
       "                        <td id=\"T_2cc167e6_adb5_11eb_9c77_acde48001122row4_col1\" class=\"data row4 col1\" >0.364000</td>\n",
       "                        <td id=\"T_2cc167e6_adb5_11eb_9c77_acde48001122row4_col2\" class=\"data row4 col2\" >61.502900</td>\n",
       "            </tr>\n",
       "            <tr>\n",
       "                        <th id=\"T_2cc167e6_adb5_11eb_9c77_acde48001122level0_row5\" class=\"row_heading level0 row5\" >VarThresh=1.2</th>\n",
       "                        <td id=\"T_2cc167e6_adb5_11eb_9c77_acde48001122row5_col0\" class=\"data row5 col0\" >Test</td>\n",
       "                        <td id=\"T_2cc167e6_adb5_11eb_9c77_acde48001122row5_col1\" class=\"data row5 col1\" >0.036300</td>\n",
       "                        <td id=\"T_2cc167e6_adb5_11eb_9c77_acde48001122row5_col2\" class=\"data row5 col2\" >75.710100</td>\n",
       "            </tr>\n",
       "            <tr>\n",
       "                        <th id=\"T_2cc167e6_adb5_11eb_9c77_acde48001122level0_row6\" class=\"row_heading level0 row6\" >VarThresh=1.6</th>\n",
       "                        <td id=\"T_2cc167e6_adb5_11eb_9c77_acde48001122row6_col0\" class=\"data row6 col0\" >Test</td>\n",
       "                        <td id=\"T_2cc167e6_adb5_11eb_9c77_acde48001122row6_col1\" class=\"data row6 col1\" >0.092700</td>\n",
       "                        <td id=\"T_2cc167e6_adb5_11eb_9c77_acde48001122row6_col2\" class=\"data row6 col2\" >73.459300</td>\n",
       "            </tr>\n",
       "            <tr>\n",
       "                        <th id=\"T_2cc167e6_adb5_11eb_9c77_acde48001122level0_row7\" class=\"row_heading level0 row7\" >VarThresh=2.0</th>\n",
       "                        <td id=\"T_2cc167e6_adb5_11eb_9c77_acde48001122row7_col0\" class=\"data row7 col0\" >Test</td>\n",
       "                        <td id=\"T_2cc167e6_adb5_11eb_9c77_acde48001122row7_col1\" class=\"data row7 col1\" >0.042000</td>\n",
       "                        <td id=\"T_2cc167e6_adb5_11eb_9c77_acde48001122row7_col2\" class=\"data row7 col2\" >75.483900</td>\n",
       "            </tr>\n",
       "            <tr>\n",
       "                        <th id=\"T_2cc167e6_adb5_11eb_9c77_acde48001122level0_row8\" class=\"row_heading level0 row8\" >KBest-f_regr</th>\n",
       "                        <td id=\"T_2cc167e6_adb5_11eb_9c77_acde48001122row8_col0\" class=\"data row8 col0\" >Test</td>\n",
       "                        <td id=\"T_2cc167e6_adb5_11eb_9c77_acde48001122row8_col1\" class=\"data row8 col1\" >0.425000</td>\n",
       "                        <td id=\"T_2cc167e6_adb5_11eb_9c77_acde48001122row8_col2\" class=\"data row8 col2\" >58.479900</td>\n",
       "            </tr>\n",
       "            <tr>\n",
       "                        <th id=\"T_2cc167e6_adb5_11eb_9c77_acde48001122level0_row9\" class=\"row_heading level0 row9\" >KBest-mutual_info</th>\n",
       "                        <td id=\"T_2cc167e6_adb5_11eb_9c77_acde48001122row9_col0\" class=\"data row9 col0\" >Test</td>\n",
       "                        <td id=\"T_2cc167e6_adb5_11eb_9c77_acde48001122row9_col1\" class=\"data row9 col1\" >0.411600</td>\n",
       "                        <td id=\"T_2cc167e6_adb5_11eb_9c77_acde48001122row9_col2\" class=\"data row9 col2\" >59.158700</td>\n",
       "            </tr>\n",
       "            <tr>\n",
       "                        <th id=\"T_2cc167e6_adb5_11eb_9c77_acde48001122level0_row10\" class=\"row_heading level0 row10\" >RFE w. 10 feats</th>\n",
       "                        <td id=\"T_2cc167e6_adb5_11eb_9c77_acde48001122row10_col0\" class=\"data row10 col0\" >Test</td>\n",
       "                        <td id=\"T_2cc167e6_adb5_11eb_9c77_acde48001122row10_col1\" class=\"data row10 col1\" >0.374200</td>\n",
       "                        <td id=\"T_2cc167e6_adb5_11eb_9c77_acde48001122row10_col2\" class=\"data row10 col2\" >61.009600</td>\n",
       "            </tr>\n",
       "            <tr>\n",
       "                        <th id=\"T_2cc167e6_adb5_11eb_9c77_acde48001122level0_row11\" class=\"row_heading level0 row11\" >Lasso - X data</th>\n",
       "                        <td id=\"T_2cc167e6_adb5_11eb_9c77_acde48001122row11_col0\" class=\"data row11 col0\" >Test</td>\n",
       "                        <td id=\"T_2cc167e6_adb5_11eb_9c77_acde48001122row11_col1\" class=\"data row11 col1\" >0.426700</td>\n",
       "                        <td id=\"T_2cc167e6_adb5_11eb_9c77_acde48001122row11_col2\" class=\"data row11 col2\" >58.393100</td>\n",
       "            </tr>\n",
       "            <tr>\n",
       "                        <th id=\"T_2cc167e6_adb5_11eb_9c77_acde48001122level0_row12\" class=\"row_heading level0 row12\" >Lasso Poly </th>\n",
       "                        <td id=\"T_2cc167e6_adb5_11eb_9c77_acde48001122row12_col0\" class=\"data row12 col0\" >Test</td>\n",
       "                        <td id=\"T_2cc167e6_adb5_11eb_9c77_acde48001122row12_col1\" class=\"data row12 col1\" >0.430700</td>\n",
       "                        <td id=\"T_2cc167e6_adb5_11eb_9c77_acde48001122row12_col2\" class=\"data row12 col2\" >58.191400</td>\n",
       "            </tr>\n",
       "    </tbody></table>"
      ],
      "text/plain": [
       "<pandas.io.formats.style.Styler at 0x7feabaeec3a0>"
      ]
     },
     "execution_count": 75,
     "metadata": {},
     "output_type": "execute_result"
    }
   ],
   "source": [
    "res_df = pd.concat(RESULTS)\n",
    "test_res = res_df.groupby('Data').get_group('Test')\n",
    "test_res.set_index(['Note']).style.highlight_max('R2')#.sort_values('MSE',ascending=True)#.groupby('Data').get_group('Test')\n"
   ]
  },
  {
   "cell_type": "code",
   "execution_count": 76,
   "metadata": {
    "ExecuteTime": {
     "end_time": "2021-05-05T15:18:41.674075Z",
     "start_time": "2021-05-05T15:18:41.657141Z"
    }
   },
   "outputs": [
    {
     "data": {
      "text/html": [
       "<style  type=\"text/css\" >\n",
       "#T_2cc45f0a_adb5_11eb_9c77_acde48001122row0_col2{\n",
       "            background-color:  #005020;\n",
       "            color:  #f1f1f1;\n",
       "        }#T_2cc45f0a_adb5_11eb_9c77_acde48001122row1_col2,#T_2cc45f0a_adb5_11eb_9c77_acde48001122row2_col2{\n",
       "            background-color:  #0d7836;\n",
       "            color:  #f1f1f1;\n",
       "        }#T_2cc45f0a_adb5_11eb_9c77_acde48001122row3_col2{\n",
       "            background-color:  #16803c;\n",
       "            color:  #f1f1f1;\n",
       "        }#T_2cc45f0a_adb5_11eb_9c77_acde48001122row4_col2{\n",
       "            background-color:  #127c39;\n",
       "            color:  #f1f1f1;\n",
       "        }#T_2cc45f0a_adb5_11eb_9c77_acde48001122row5_col2{\n",
       "            background-color:  #f7fcf5;\n",
       "            color:  #000000;\n",
       "        }#T_2cc45f0a_adb5_11eb_9c77_acde48001122row6_col2{\n",
       "            background-color:  #e5f5e0;\n",
       "            color:  #000000;\n",
       "        }#T_2cc45f0a_adb5_11eb_9c77_acde48001122row7_col2{\n",
       "            background-color:  #f5fbf3;\n",
       "            color:  #000000;\n",
       "        }#T_2cc45f0a_adb5_11eb_9c77_acde48001122row8_col2{\n",
       "            background-color:  #00491d;\n",
       "            color:  #f1f1f1;\n",
       "        }#T_2cc45f0a_adb5_11eb_9c77_acde48001122row9_col2{\n",
       "            background-color:  #005622;\n",
       "            color:  #f1f1f1;\n",
       "        }#T_2cc45f0a_adb5_11eb_9c77_acde48001122row10_col2{\n",
       "            background-color:  #0a7633;\n",
       "            color:  #f1f1f1;\n",
       "        }#T_2cc45f0a_adb5_11eb_9c77_acde48001122row11_col2{\n",
       "            background-color:  #00471c;\n",
       "            color:  #f1f1f1;\n",
       "        }#T_2cc45f0a_adb5_11eb_9c77_acde48001122row12_col2{\n",
       "            background-color:  #00441b;\n",
       "            color:  #f1f1f1;\n",
       "        }</style><table id=\"T_2cc45f0a_adb5_11eb_9c77_acde48001122\" ><thead>    <tr>        <th class=\"blank level0\" ></th>        <th class=\"col_heading level0 col0\" >Data</th>        <th class=\"col_heading level0 col1\" >R2</th>        <th class=\"col_heading level0 col2\" >RMSE</th>    </tr>    <tr>        <th class=\"index_name level0\" >Note</th>        <th class=\"blank\" ></th>        <th class=\"blank\" ></th>        <th class=\"blank\" ></th>    </tr></thead><tbody>\n",
       "                <tr>\n",
       "                        <th id=\"T_2cc45f0a_adb5_11eb_9c77_acde48001122level0_row0\" class=\"row_heading level0 row0\" >Baseline</th>\n",
       "                        <td id=\"T_2cc45f0a_adb5_11eb_9c77_acde48001122row0_col0\" class=\"data row0 col0\" >Test</td>\n",
       "                        <td id=\"T_2cc45f0a_adb5_11eb_9c77_acde48001122row0_col1\" class=\"data row0 col1\" >0.418000</td>\n",
       "                        <td id=\"T_2cc45f0a_adb5_11eb_9c77_acde48001122row0_col2\" class=\"data row0 col2\" >58.835900</td>\n",
       "            </tr>\n",
       "            <tr>\n",
       "                        <th id=\"T_2cc45f0a_adb5_11eb_9c77_acde48001122level0_row1\" class=\"row_heading level0 row1\" >Poly</th>\n",
       "                        <td id=\"T_2cc45f0a_adb5_11eb_9c77_acde48001122row1_col0\" class=\"data row1 col0\" >Test</td>\n",
       "                        <td id=\"T_2cc45f0a_adb5_11eb_9c77_acde48001122row1_col1\" class=\"data row1 col1\" >0.368900</td>\n",
       "                        <td id=\"T_2cc45f0a_adb5_11eb_9c77_acde48001122row1_col2\" class=\"data row1 col2\" >61.267800</td>\n",
       "            </tr>\n",
       "            <tr>\n",
       "                        <th id=\"T_2cc45f0a_adb5_11eb_9c77_acde48001122level0_row2\" class=\"row_heading level0 row2\" >VarThresh=0.0</th>\n",
       "                        <td id=\"T_2cc45f0a_adb5_11eb_9c77_acde48001122row2_col0\" class=\"data row2 col0\" >Test</td>\n",
       "                        <td id=\"T_2cc45f0a_adb5_11eb_9c77_acde48001122row2_col1\" class=\"data row2 col1\" >0.368900</td>\n",
       "                        <td id=\"T_2cc45f0a_adb5_11eb_9c77_acde48001122row2_col2\" class=\"data row2 col2\" >61.267800</td>\n",
       "            </tr>\n",
       "            <tr>\n",
       "                        <th id=\"T_2cc45f0a_adb5_11eb_9c77_acde48001122level0_row3\" class=\"row_heading level0 row3\" >VarThresh=0.4</th>\n",
       "                        <td id=\"T_2cc45f0a_adb5_11eb_9c77_acde48001122row3_col0\" class=\"data row3 col0\" >Test</td>\n",
       "                        <td id=\"T_2cc45f0a_adb5_11eb_9c77_acde48001122row3_col1\" class=\"data row3 col1\" >0.358100</td>\n",
       "                        <td id=\"T_2cc45f0a_adb5_11eb_9c77_acde48001122row3_col2\" class=\"data row3 col2\" >61.789200</td>\n",
       "            </tr>\n",
       "            <tr>\n",
       "                        <th id=\"T_2cc45f0a_adb5_11eb_9c77_acde48001122level0_row4\" class=\"row_heading level0 row4\" >VarThresh=0.8</th>\n",
       "                        <td id=\"T_2cc45f0a_adb5_11eb_9c77_acde48001122row4_col0\" class=\"data row4 col0\" >Test</td>\n",
       "                        <td id=\"T_2cc45f0a_adb5_11eb_9c77_acde48001122row4_col1\" class=\"data row4 col1\" >0.364000</td>\n",
       "                        <td id=\"T_2cc45f0a_adb5_11eb_9c77_acde48001122row4_col2\" class=\"data row4 col2\" >61.502900</td>\n",
       "            </tr>\n",
       "            <tr>\n",
       "                        <th id=\"T_2cc45f0a_adb5_11eb_9c77_acde48001122level0_row5\" class=\"row_heading level0 row5\" >VarThresh=1.2</th>\n",
       "                        <td id=\"T_2cc45f0a_adb5_11eb_9c77_acde48001122row5_col0\" class=\"data row5 col0\" >Test</td>\n",
       "                        <td id=\"T_2cc45f0a_adb5_11eb_9c77_acde48001122row5_col1\" class=\"data row5 col1\" >0.036300</td>\n",
       "                        <td id=\"T_2cc45f0a_adb5_11eb_9c77_acde48001122row5_col2\" class=\"data row5 col2\" >75.710100</td>\n",
       "            </tr>\n",
       "            <tr>\n",
       "                        <th id=\"T_2cc45f0a_adb5_11eb_9c77_acde48001122level0_row6\" class=\"row_heading level0 row6\" >VarThresh=1.6</th>\n",
       "                        <td id=\"T_2cc45f0a_adb5_11eb_9c77_acde48001122row6_col0\" class=\"data row6 col0\" >Test</td>\n",
       "                        <td id=\"T_2cc45f0a_adb5_11eb_9c77_acde48001122row6_col1\" class=\"data row6 col1\" >0.092700</td>\n",
       "                        <td id=\"T_2cc45f0a_adb5_11eb_9c77_acde48001122row6_col2\" class=\"data row6 col2\" >73.459300</td>\n",
       "            </tr>\n",
       "            <tr>\n",
       "                        <th id=\"T_2cc45f0a_adb5_11eb_9c77_acde48001122level0_row7\" class=\"row_heading level0 row7\" >VarThresh=2.0</th>\n",
       "                        <td id=\"T_2cc45f0a_adb5_11eb_9c77_acde48001122row7_col0\" class=\"data row7 col0\" >Test</td>\n",
       "                        <td id=\"T_2cc45f0a_adb5_11eb_9c77_acde48001122row7_col1\" class=\"data row7 col1\" >0.042000</td>\n",
       "                        <td id=\"T_2cc45f0a_adb5_11eb_9c77_acde48001122row7_col2\" class=\"data row7 col2\" >75.483900</td>\n",
       "            </tr>\n",
       "            <tr>\n",
       "                        <th id=\"T_2cc45f0a_adb5_11eb_9c77_acde48001122level0_row8\" class=\"row_heading level0 row8\" >KBest-f_regr</th>\n",
       "                        <td id=\"T_2cc45f0a_adb5_11eb_9c77_acde48001122row8_col0\" class=\"data row8 col0\" >Test</td>\n",
       "                        <td id=\"T_2cc45f0a_adb5_11eb_9c77_acde48001122row8_col1\" class=\"data row8 col1\" >0.425000</td>\n",
       "                        <td id=\"T_2cc45f0a_adb5_11eb_9c77_acde48001122row8_col2\" class=\"data row8 col2\" >58.479900</td>\n",
       "            </tr>\n",
       "            <tr>\n",
       "                        <th id=\"T_2cc45f0a_adb5_11eb_9c77_acde48001122level0_row9\" class=\"row_heading level0 row9\" >KBest-mutual_info</th>\n",
       "                        <td id=\"T_2cc45f0a_adb5_11eb_9c77_acde48001122row9_col0\" class=\"data row9 col0\" >Test</td>\n",
       "                        <td id=\"T_2cc45f0a_adb5_11eb_9c77_acde48001122row9_col1\" class=\"data row9 col1\" >0.411600</td>\n",
       "                        <td id=\"T_2cc45f0a_adb5_11eb_9c77_acde48001122row9_col2\" class=\"data row9 col2\" >59.158700</td>\n",
       "            </tr>\n",
       "            <tr>\n",
       "                        <th id=\"T_2cc45f0a_adb5_11eb_9c77_acde48001122level0_row10\" class=\"row_heading level0 row10\" >RFE w. 10 feats</th>\n",
       "                        <td id=\"T_2cc45f0a_adb5_11eb_9c77_acde48001122row10_col0\" class=\"data row10 col0\" >Test</td>\n",
       "                        <td id=\"T_2cc45f0a_adb5_11eb_9c77_acde48001122row10_col1\" class=\"data row10 col1\" >0.374200</td>\n",
       "                        <td id=\"T_2cc45f0a_adb5_11eb_9c77_acde48001122row10_col2\" class=\"data row10 col2\" >61.009600</td>\n",
       "            </tr>\n",
       "            <tr>\n",
       "                        <th id=\"T_2cc45f0a_adb5_11eb_9c77_acde48001122level0_row11\" class=\"row_heading level0 row11\" >Lasso - X data</th>\n",
       "                        <td id=\"T_2cc45f0a_adb5_11eb_9c77_acde48001122row11_col0\" class=\"data row11 col0\" >Test</td>\n",
       "                        <td id=\"T_2cc45f0a_adb5_11eb_9c77_acde48001122row11_col1\" class=\"data row11 col1\" >0.426700</td>\n",
       "                        <td id=\"T_2cc45f0a_adb5_11eb_9c77_acde48001122row11_col2\" class=\"data row11 col2\" >58.393100</td>\n",
       "            </tr>\n",
       "            <tr>\n",
       "                        <th id=\"T_2cc45f0a_adb5_11eb_9c77_acde48001122level0_row12\" class=\"row_heading level0 row12\" >Lasso Poly </th>\n",
       "                        <td id=\"T_2cc45f0a_adb5_11eb_9c77_acde48001122row12_col0\" class=\"data row12 col0\" >Test</td>\n",
       "                        <td id=\"T_2cc45f0a_adb5_11eb_9c77_acde48001122row12_col1\" class=\"data row12 col1\" >0.430700</td>\n",
       "                        <td id=\"T_2cc45f0a_adb5_11eb_9c77_acde48001122row12_col2\" class=\"data row12 col2\" >58.191400</td>\n",
       "            </tr>\n",
       "    </tbody></table>"
      ],
      "text/plain": [
       "<pandas.io.formats.style.Styler at 0x7feabad19ca0>"
      ]
     },
     "metadata": {},
     "output_type": "display_data"
    }
   ],
   "source": [
    "show_results(RESULTS,style_kws=dict(subset=['RMSE'],\n",
    "                                   cmap = plt.cm.get_cmap('Greens').reversed()))"
   ]
  },
  {
   "cell_type": "markdown",
   "metadata": {},
   "source": [
    "> As we can see, the regularization had minimal effect on the performance of the model, but it did improve the RMSE for the test set ever so slightly! There are no set steps someone should take in order to determine the optimal feature set. In fact, now there are automated machine learning pipelines that will determine the optimal subset of features for a given problem. One of the most important and often overlooked methods of feature selection is using domain knowledge about a given area to either eliminate features or create new ones."
   ]
  }
 ],
 "metadata": {
  "kernelspec": {
   "display_name": "learn-env-new",
   "language": "python",
   "name": "learn-env-new"
  },
  "language_info": {
   "codemirror_mode": {
    "name": "ipython",
    "version": 3
   },
   "file_extension": ".py",
   "mimetype": "text/x-python",
   "name": "python",
   "nbconvert_exporter": "python",
   "pygments_lexer": "ipython3",
   "version": "3.8.5"
  },
  "toc": {
   "base_numbering": 1,
   "nav_menu": {},
   "number_sections": true,
   "sideBar": true,
   "skip_h1_title": false,
   "title_cell": "Table of Contents",
   "title_sidebar": "Contents",
   "toc_cell": false,
   "toc_position": {
    "height": "calc(100% - 180px)",
    "left": "10px",
    "top": "150px",
    "width": "320px"
   },
   "toc_section_display": true,
   "toc_window_display": true
  },
  "varInspector": {
   "cols": {
    "lenName": 16,
    "lenType": 16,
    "lenVar": 40
   },
   "kernels_config": {
    "python": {
     "delete_cmd_postfix": "",
     "delete_cmd_prefix": "del ",
     "library": "var_list.py",
     "varRefreshCmd": "print(var_dic_list())"
    },
    "r": {
     "delete_cmd_postfix": ") ",
     "delete_cmd_prefix": "rm(",
     "library": "var_list.r",
     "varRefreshCmd": "cat(var_dic_list()) "
    }
   },
   "types_to_exclude": [
    "module",
    "function",
    "builtin_function_or_method",
    "instance",
    "_Feature"
   ],
   "window_display": false
  }
 },
 "nbformat": 4,
 "nbformat_minor": 2
}
