{
 "cells": [
  {
   "cell_type": "markdown",
   "metadata": {},
   "source": [
    "# Topic 24: Feature Selection & Regularization (Ridge and Lasso Regression)"
   ]
  },
  {
   "cell_type": "markdown",
   "metadata": {},
   "source": [
    "- onl01-dtsc-ft-022221\n",
    "- 05/05/21"
   ]
  },
  {
   "cell_type": "markdown",
   "metadata": {},
   "source": [
    "## Questions"
   ]
  },
  {
   "cell_type": "markdown",
   "metadata": {},
   "source": [
    "-"
   ]
  },
  {
   "cell_type": "markdown",
   "metadata": {},
   "source": [
    "## Objectives"
   ]
  },
  {
   "cell_type": "markdown",
   "metadata": {},
   "source": [
    "**DISCUSSION:**\n",
    "- Discuss Regularization Techniques\n",
    "    - Ridge Regression (L2 normalization)\n",
    "    - Lasso Regression (L1 normalization)\n",
    "- **Activity: Practice turning repetitive and rigid code into flexible/reusable code.**\n",
    "\n",
    "- Discuss using AIC/BIC \n",
    "\n",
    "- **Activity: Modeling the Phase 2 Project Data Set with regularization and proper train-test-split/model validation.**\n",
    "\n",
    "- Compare Feature Selection methods (If there's time)\n",
    "    - Will revisit during project week.\n",
    "\n",
    "\n",
    "\n"
   ]
  },
  {
   "cell_type": "markdown",
   "metadata": {},
   "source": [
    "# Addressing Overfit Models with Regularization"
   ]
  },
  {
   "cell_type": "markdown",
   "metadata": {},
   "source": [
    "## Regularization techniques"
   ]
  },
  {
   "cell_type": "markdown",
   "metadata": {},
   "source": [
    "- We can apply \"regularization techniques\" to prevent out models from being overly dominated by a small number of features that leads to overfitting. \n",
    "    - \"Regularization: is a general term used when one tries to battle overfitting.\n",
    "    -  Lasso and Ridge are two commonly used so-called **regularization techniques**. \n",
    "\n",
    "\n",
    "- There are multiple advantages to using these methods:\n",
    "    - They reduce model complexity\n",
    "    - The may prevent from overfitting\n",
    "    - Some of them may perform feature selection at the same time (when coefficients are set to 0)\n",
    "    - They can be used to counter multicollinearity"
   ]
  },
  {
   "cell_type": "markdown",
   "metadata": {},
   "source": [
    "# Penalized Estimation"
   ]
  },
  {
   "cell_type": "markdown",
   "metadata": {},
   "source": [
    "> ***You've seen that when the number of predictors increases, your model complexity increases, with a higher chance of overfitting as a result.***  \n",
    "We can reduce the values of the coefficients to make them less sensitive to noise in the data. \n",
    "\n",
    "> This is called **penalized estimation**.\n",
    "\n",
    "> - **Ridge and Lasso regression** are two examples of penalized estimation.\n",
    "    - They both use a similar technique of adding an additional element to the cost function calculation. \n",
    "    - The difference between ridge and lasso is based on the term that they add to the cost function. "
   ]
  },
  {
   "cell_type": "markdown",
   "metadata": {},
   "source": [
    "## Linear Regression Cost Function Previously Used (RSS)"
   ]
  },
  {
   "cell_type": "markdown",
   "metadata": {},
   "source": [
    "- #### For a single predictor (X)\n",
    "$$ \\large \\text{cost_function}= \\sum_{i=1}^n(y_i - \\hat{y})^2 = \\sum_{i=1}^n(y_i - (mx_i + b))^2$$\n"
   ]
  },
  {
   "cell_type": "markdown",
   "metadata": {},
   "source": [
    "- ####  multiple predictors, the equation becomes:\n",
    "$$ \\large \\text{cost_function}= \\sum_{i=1}^n(y_i - \\hat{y})^2 = \\sum_{i=1}^n(y_i - \\sum_{j=1}^k(m_jx_{ij} ) -b )^2$$\n",
    "- where $k$ is the number of predictors\n",
    "- and $j$ is each individual predictor."
   ]
  },
  {
   "cell_type": "markdown",
   "metadata": {},
   "source": [
    "## Ridge Regression - L2 Norm Regularization"
   ]
  },
  {
   "cell_type": "markdown",
   "metadata": {},
   "source": [
    "Define a penalty ***hyperparameter*** $\\lambda$ for extra terms (large $m$)"
   ]
  },
  {
   "cell_type": "markdown",
   "metadata": {},
   "source": [
    "- **Error term added to cost function** \n",
    "    - $\\large ...  +   \\lambda \\sum_{i=1}^n m_i^2$\n",
    "    - Notice that  $m_i^2$ is squared, hence \"L***2*** norm regularization\"\n",
    "    \n",
    "    "
   ]
  },
  {
   "cell_type": "markdown",
   "metadata": {},
   "source": [
    "<!-- $$ =\\sum_{i=1}^n(y_i - \\hat{y})^2= \\sum_{i=1}^n(y_i - \\sum_{j=1}^k(m_jx_{ij} + b))^2 + \\lambda \\sum_{i=1}^n m_i^2$$/-->\n",
    "\n",
    "$$\\large J_{\\text{ridge}}=\\sum_{i=1}^n(y_i - \\hat{y})^2 = \\sum_{i=1}^n(y_i - \\sum_{j=1}^k(m_jx_{ij})-b)^2 + \\lambda \\sum_{j=1}^p m_j^2$$\n",
    "\n",
    "- **By adding the penalty term $\\lambda$, ridge regression puts a constraint on the coefficients $m$.**\n",
    "- Therefore, large coefficients will penalize the optimization function. \n",
    "    - This shrinks the coefficients and helps to reduce model complexity and multicollinearity."
   ]
  },
  {
   "cell_type": "markdown",
   "metadata": {},
   "source": [
    "- With two predictors there is a penalty term m for each predictor.\n",
    "$$\\large J_\\text{ridge}= \\sum_{i=1}^n(y_i - \\hat{y})^2 = $$\n",
    "\n",
    "$$\\large  \\sum_{i=1}^n(y_i - ((m_1x_{1i})-b)^2 + \\lambda m_1^2 + (m_2x_{2i})-b)^2 + \\lambda m_2^2)$$"
   ]
  },
  {
   "cell_type": "markdown",
   "metadata": {},
   "source": [
    "### Uses"
   ]
  },
  {
   "cell_type": "markdown",
   "metadata": {},
   "source": [
    "- Used mostly to prevent overfitting (but since includes all features it can be computationally expensive (for many variables))"
   ]
  },
  {
   "cell_type": "markdown",
   "metadata": {},
   "source": [
    "## Lasso Regression - L1 Norm Regularization\n",
    "\n",
    "\"Least Absolute Shrinkage and Selection Operator\""
   ]
  },
  {
   "cell_type": "markdown",
   "metadata": {},
   "source": [
    "- **Error term added to cost function** \n",
    "    - $ \\large ... + \\lambda \\sum_{j=1}^p \\mid m_j \\mid$\n",
    "    - Notice that  $m$ has no exponent (meaning its actually $m^1$, hence \"L***1*** norm regularization\"\n",
    "\n"
   ]
  },
  {
   "cell_type": "markdown",
   "metadata": {},
   "source": [
    "$$\\large J_\\text{lasso}= \\sum_{i=1}^n(y_i - \\hat{y})^2 = \\sum_{i=1}^n(y_i - \\sum_{j=1}^k(m_jx_{ij})-b)^2 + \\lambda \\sum_{j=1}^p \\mid m_j \\mid$$"
   ]
  },
  {
   "cell_type": "markdown",
   "metadata": {},
   "source": [
    "If you have two predictors the full equation would look like this (notice that there is a penalty term `m` for each predictor in the model - in this case, two): \n",
    "$$ \\text{cost_function_lasso}= \\sum_{i=1}^n(y_i - \\hat{y})^2 = $$\n",
    "\n",
    "$$\\sum_{i=1}^n(y_i - ((m_1x_{1i})-b)^2 + \\lambda \\mid m_1 \\mid) + ((m_2x_{2i})-b)^2 + \\lambda \\mid m_2 \\mid) $$"
   ]
  },
  {
   "cell_type": "markdown",
   "metadata": {},
   "source": [
    "### Uses"
   ]
  },
  {
   "cell_type": "markdown",
   "metadata": {},
   "source": [
    "- Lasso also helps with over fitting \n",
    "- **Lasso shrinks the less important features' coefficients to zero**, removing them altogether. \n",
    "    - Therefore, Lasso regression can be used for **feature selection**"
   ]
  },
  {
   "cell_type": "markdown",
   "metadata": {},
   "source": [
    "## Using Regularization"
   ]
  },
  {
   "cell_type": "markdown",
   "metadata": {},
   "source": [
    "- ***Make sure to standardize the data before performing ridge or lasso regression***, otherwise features with large values/units will be unfairly penalized.\n",
    "- **Fit-transform the training data, only transform the test data**\n",
    "\n",
    "```python\n",
    "from sklearn.preprocessing import MinMaxScaler\n",
    "from sklearn.linear_model import Lasso, Ridge, LinearRegression\n",
    "```"
   ]
  },
  {
   "cell_type": "markdown",
   "metadata": {},
   "source": [
    "## Ridge & Lasson Regression Summary:"
   ]
  },
  {
   "cell_type": "markdown",
   "metadata": {},
   "source": [
    "In Ridge regression, the cost function is changed by adding a penalty term to the square of the magnitude of the coefficients.\n",
    "\n",
    "$$ \\text{cost_function_ridge}= \\sum_{i=1}^n(y_i - \\hat{y})^2 = \\sum_{i=1}^n(y_i - \\sum_{j=1}^k(m_jx_{ij})-b)^2 + \\lambda \\sum_{j=1}^p m_j^2$$\n",
    "\n",
    "Lasso regression is very similar to Ridge regression, except that the magnitude of the coefficients are not squared in the penalty term.\n",
    "\n",
    "$$ \\text{cost_function_lasso}= \\sum_{i=1}^n(y_i - \\hat{y})^2 = \\sum_{i=1}^n(y_i - \\sum_{j=1}^k(m_jx_{ij})-b)^2 + \\lambda \\sum_{j=1}^p \\mid m_j \\mid$$\n"
   ]
  },
  {
   "cell_type": "markdown",
   "metadata": {},
   "source": [
    "# Applying Ridge and Lasso Regression with Scikit-Learn:"
   ]
  },
  {
   "cell_type": "markdown",
   "metadata": {},
   "source": [
    "## Examining The Canvas Ridge and Lasso Regression Lesson Code"
   ]
  },
  {
   "cell_type": "markdown",
   "metadata": {},
   "source": [
    "- First, let's examine the code used in the [Ridge and Lasso Regression Lesson](https://github.com/learn-co-curriculum/dsc-ridge-and-lasso-regression)"
   ]
  },
  {
   "cell_type": "code",
   "execution_count": 1,
   "metadata": {
    "ExecuteTime": {
     "end_time": "2021-05-05T15:59:09.039579Z",
     "start_time": "2021-05-05T15:59:07.353164Z"
    }
   },
   "outputs": [],
   "source": [
    "import pandas as pd\n",
    "import numpy as np\n",
    "import matplotlib.pyplot as plt\n",
    "import seaborn as sns\n",
    "plt.style.use('seaborn-poster')"
   ]
  },
  {
   "cell_type": "code",
   "execution_count": 2,
   "metadata": {
    "ExecuteTime": {
     "end_time": "2021-05-05T15:59:10.057918Z",
     "start_time": "2021-05-05T15:59:09.042968Z"
    }
   },
   "outputs": [
    {
     "data": {
      "text/plain": [
       "[(274, 6), (118, 6), (274, 1), (118, 1)]"
      ]
     },
     "execution_count": 2,
     "metadata": {},
     "output_type": "execute_result"
    }
   ],
   "source": [
    "from sklearn.preprocessing import MinMaxScaler\n",
    "from sklearn.linear_model import Lasso, Ridge, LinearRegression\n",
    "from sklearn.model_selection import train_test_split\n",
    "\n",
    "## Load the data\n",
    "df = pd.read_csv('https://raw.githubusercontent.com/learn-co-curriculum/dsc-ridge-and-lasso-regression/master/auto-mpg.csv')\n",
    "\n",
    "y = df[['mpg']]\n",
    "X = df.drop(['mpg', 'car name', 'origin'], axis=1)\n",
    "\n",
    "# Perform test train split\n",
    "X_train , X_test, y_train, y_test = train_test_split(X, y, test_size=0.3,\n",
    "                                                     random_state=12)\n",
    "[var.shape for var in [X_train , X_test, y_train, y_test]]"
   ]
  },
  {
   "cell_type": "code",
   "execution_count": 3,
   "metadata": {
    "ExecuteTime": {
     "end_time": "2021-05-05T15:59:10.069797Z",
     "start_time": "2021-05-05T15:59:10.060633Z"
    }
   },
   "outputs": [],
   "source": [
    "scale = MinMaxScaler()\n",
    "X_train_tf = scale.fit_transform(X_train)\n",
    "X_test_tf = scale.transform(X_test)"
   ]
  },
  {
   "cell_type": "code",
   "execution_count": 4,
   "metadata": {
    "ExecuteTime": {
     "end_time": "2021-05-05T15:59:10.085979Z",
     "start_time": "2021-05-05T15:59:10.072495Z"
    }
   },
   "outputs": [
    {
     "data": {
      "text/plain": [
       "LinearRegression()"
      ]
     },
     "execution_count": 4,
     "metadata": {},
     "output_type": "execute_result"
    }
   ],
   "source": [
    "# Build a Ridge, Lasso and regular linear regression model  \n",
    "# Note that in scikit-learn, the regularization parameter is denoted by alpha (and not lambda)\n",
    "ridge = Ridge(alpha=0.5)\n",
    "ridge.fit(X_train_tf, y_train)\n",
    "\n",
    "lasso = Lasso(alpha=0.5)\n",
    "lasso.fit(X_train_tf, y_train)\n",
    "\n",
    "lin = LinearRegression()\n",
    "lin.fit(X_train_tf, y_train)"
   ]
  },
  {
   "cell_type": "code",
   "execution_count": 5,
   "metadata": {
    "ExecuteTime": {
     "end_time": "2021-05-05T15:59:10.092738Z",
     "start_time": "2021-05-05T15:59:10.088429Z"
    }
   },
   "outputs": [],
   "source": [
    "# Generate preditions for training and test sets\n",
    "y_h_ridge_train = ridge.predict(X_train_tf)\n",
    "y_h_ridge_test = ridge.predict(X_test_tf)\n",
    "\n",
    "y_h_lasso_train = np.reshape(lasso.predict(X_train_tf), y_train.shape)\n",
    "y_h_lasso_test = np.reshape(lasso.predict(X_test_tf),  y_test.shape)\n",
    "\n",
    "y_h_lin_train = lin.predict(X_train_tf)\n",
    "y_h_lin_test = lin.predict(X_test_tf)"
   ]
  },
  {
   "cell_type": "code",
   "execution_count": 6,
   "metadata": {
    "ExecuteTime": {
     "end_time": "2021-05-05T15:59:10.115231Z",
     "start_time": "2021-05-05T15:59:10.094800Z"
    },
    "scrolled": true
   },
   "outputs": [
    {
     "name": "stdout",
     "output_type": "stream",
     "text": [
      "Train Error Ridge Model mpg    2684.673787\n",
      "dtype: float64\n",
      "Test Error Ridge Model mpg    2067.795707\n",
      "dtype: float64\n",
      "\n",
      "\n",
      "Train Error Lasso Model mpg    4450.979518\n",
      "dtype: float64\n",
      "Test Error Lasso Model mpg    3544.087085\n",
      "dtype: float64\n",
      "\n",
      "\n",
      "Train Error Unpenalized Linear Model mpg    2658.043444\n",
      "dtype: float64\n",
      "Test Error Unpenalized Linear Model mpg    1976.266987\n",
      "dtype: float64\n",
      "\n",
      "\n",
      "\n",
      "\n",
      "Ridge parameter coefficients:\n",
      " [[ -2.06904445  -2.88593443  -1.81801505 -15.23785349  -1.45594148\n",
      "    8.1440177 ]]\n",
      "Lasso parameter coefficients:\n",
      " [-9.09743525 -0.         -0.         -4.02703963  0.          3.92348219]\n",
      "Linear model parameter coefficients:\n",
      " [[ -1.33790698  -1.05300843  -0.08661412 -19.26724989  -0.37043697\n",
      "    8.56051229]]\n"
     ]
    }
   ],
   "source": [
    "print('Train Error Ridge Model', np.sum((y_train - y_h_ridge_train)**2))\n",
    "print('Test Error Ridge Model', np.sum((y_test - y_h_ridge_test)**2))\n",
    "print('\\n')\n",
    "\n",
    "print('Train Error Lasso Model', np.sum((y_train - y_h_lasso_train)**2))\n",
    "print('Test Error Lasso Model', np.sum((y_test - y_h_lasso_test)**2))\n",
    "print('\\n')\n",
    "\n",
    "print('Train Error Unpenalized Linear Model', np.sum((y_train - lin.predict(X_train_tf))**2))\n",
    "print('Test Error Unpenalized Linear Model', np.sum((y_test - lin.predict(X_test_tf))**2))\n",
    "print('\\n'*3)\n",
    "print('Ridge parameter coefficients:\\n', ridge.coef_)\n",
    "print('Lasso parameter coefficients:\\n', lasso.coef_)\n",
    "print('Linear model parameter coefficients:\\n', lin.coef_)"
   ]
  },
  {
   "cell_type": "markdown",
   "metadata": {},
   "source": [
    "### Examining the code above..."
   ]
  },
  {
   "cell_type": "markdown",
   "metadata": {},
   "source": [
    "#### Q1: What are the issues/limitations of the way we tested/compared the 3 different types of models? "
   ]
  },
  {
   "cell_type": "markdown",
   "metadata": {},
   "source": [
    "#### A1:"
   ]
  },
  {
   "cell_type": "markdown",
   "metadata": {},
   "source": [
    "If we wanted to add another model type, we'd have to copy a lot and edit a lot."
   ]
  },
  {
   "cell_type": "markdown",
   "metadata": {},
   "source": [
    "#### Q2: What other limitation does the above code have? (what is inflexible?)"
   ]
  },
  {
   "cell_type": "markdown",
   "metadata": {},
   "source": [
    "#### A2: "
   ]
  },
  {
   "cell_type": "markdown",
   "metadata": {},
   "source": [
    "hard coded values for data shapes"
   ]
  },
  {
   "cell_type": "markdown",
   "metadata": {},
   "source": [
    "#### Q3: Whats the solution?"
   ]
  },
  {
   "cell_type": "markdown",
   "metadata": {},
   "source": [
    "#### A3: "
   ]
  },
  {
   "cell_type": "markdown",
   "metadata": {},
   "source": [
    "- Functions, and loops, and dictionaries!"
   ]
  },
  {
   "cell_type": "markdown",
   "metadata": {},
   "source": []
  },
  {
   "cell_type": "markdown",
   "metadata": {},
   "source": [
    "### Updating the Official Lesson's Code:"
   ]
  },
  {
   "cell_type": "code",
   "execution_count": 7,
   "metadata": {
    "ExecuteTime": {
     "end_time": "2021-05-05T15:59:10.122054Z",
     "start_time": "2021-05-05T15:59:10.117106Z"
    }
   },
   "outputs": [],
   "source": [
    "from sklearn.metrics import r2_score, mean_squared_error\n",
    "def make_model(model, X_train , X_test, y_train, y_test ):\n",
    "    \"\"\"Takes a sklearn model and train/test data to fit model, \n",
    "    get R2 and RMSE for both the training and test data.\n",
    "    \n",
    "    Returns:\n",
    "        DataFrame: results as a df\n",
    "        model: fit scikit-learn model itself\"\"\"\n",
    "    \n",
    "  \n",
    "    model.fit(X_train, y_train)\n",
    "    # Generate preditions for training and test sets\n",
    "    y_hat_train = model.predict(X_train)\n",
    "    y_hat_test = model.predict(X_test)\n",
    "    \n",
    "    r2_train = r2_score(y_train,y_hat_train)\n",
    "    r2_test = r2_score(y_test,y_hat_test)\n",
    "    \n",
    "    rmse_train = np.sqrt(mean_squared_error(y_train,y_hat_train))\n",
    "    rmse_test = np.sqrt(mean_squared_error(y_test,y_hat_test))\n",
    "    \n",
    "    ## Making the df of results. \n",
    "    res= [['Data','R2','RMSE']]\n",
    "    res.append(['Train', r2_train, rmse_train] )\n",
    "    res.append(['Test', r2_test, rmse_test] )\n",
    "    \n",
    "    res_df = pd.DataFrame(res[1:], columns=res[0]).round(3)\n",
    "    \n",
    "    return res_df, model\n",
    "    "
   ]
  },
  {
   "cell_type": "code",
   "execution_count": 8,
   "metadata": {
    "ExecuteTime": {
     "end_time": "2021-05-05T15:59:10.151599Z",
     "start_time": "2021-05-05T15:59:10.126711Z"
    }
   },
   "outputs": [
    {
     "data": {
      "text/html": [
       "<div>\n",
       "<style scoped>\n",
       "    .dataframe tbody tr th:only-of-type {\n",
       "        vertical-align: middle;\n",
       "    }\n",
       "\n",
       "    .dataframe tbody tr th {\n",
       "        vertical-align: top;\n",
       "    }\n",
       "\n",
       "    .dataframe thead th {\n",
       "        text-align: right;\n",
       "    }\n",
       "</style>\n",
       "<table border=\"1\" class=\"dataframe\">\n",
       "  <thead>\n",
       "    <tr style=\"text-align: right;\">\n",
       "      <th></th>\n",
       "      <th>Data</th>\n",
       "      <th>R2</th>\n",
       "      <th>RMSE</th>\n",
       "    </tr>\n",
       "  </thead>\n",
       "  <tbody>\n",
       "    <tr>\n",
       "      <th>0</th>\n",
       "      <td>Train</td>\n",
       "      <td>0.820</td>\n",
       "      <td>3.115</td>\n",
       "    </tr>\n",
       "    <tr>\n",
       "      <th>1</th>\n",
       "      <td>Test</td>\n",
       "      <td>0.773</td>\n",
       "      <td>4.092</td>\n",
       "    </tr>\n",
       "  </tbody>\n",
       "</table>\n",
       "</div>"
      ],
      "text/plain": [
       "    Data     R2   RMSE\n",
       "0  Train  0.820  3.115\n",
       "1   Test  0.773  4.092"
      ]
     },
     "execution_count": 8,
     "metadata": {},
     "output_type": "execute_result"
    }
   ],
   "source": [
    "## Test our function\n",
    "df_res, model = make_model(LinearRegression(),\n",
    "                           X_train_tf, X_test_tf, y_train, y_test  )\n",
    "df_res"
   ]
  },
  {
   "cell_type": "markdown",
   "metadata": {},
   "source": [
    "#### Adding Extracting Model Coefficents"
   ]
  },
  {
   "cell_type": "code",
   "execution_count": 9,
   "metadata": {
    "ExecuteTime": {
     "end_time": "2021-05-05T15:59:10.158486Z",
     "start_time": "2021-05-05T15:59:10.154901Z"
    }
   },
   "outputs": [
    {
     "name": "stdout",
     "output_type": "stream",
     "text": [
      "[ -1.33790698  -1.05300843  -0.08661412 -19.26724989  -0.37043697\n",
      "   8.56051229]\n",
      "[27.8810372]\n"
     ]
    }
   ],
   "source": [
    "## Getting the model's coeffs and intercept\n",
    "print(model.coef_.flatten())\n",
    "print(model.intercept_)"
   ]
  },
  {
   "cell_type": "code",
   "execution_count": 10,
   "metadata": {
    "ExecuteTime": {
     "end_time": "2021-05-05T15:59:10.166115Z",
     "start_time": "2021-05-05T15:59:10.160383Z"
    }
   },
   "outputs": [
    {
     "data": {
      "text/plain": [
       "cylinders       -1.337907\n",
       "displacement    -1.053008\n",
       "horsepower      -0.086614\n",
       "weight         -19.267250\n",
       "acceleration    -0.370437\n",
       "model year       8.560512\n",
       "intercept       27.881037\n",
       "Name: LingReg Coeffs, dtype: float64"
      ]
     },
     "execution_count": 10,
     "metadata": {},
     "output_type": "execute_result"
    }
   ],
   "source": [
    "## Make a series of coefficients (including intercept)\n",
    "coeffs = pd.Series(model.coef_.flatten(), index=X_train.columns,\n",
    "                  name='LingReg Coeffs')\n",
    "coeffs['intercept'] = model.intercept_[0]\n",
    "coeffs"
   ]
  },
  {
   "cell_type": "code",
   "execution_count": 11,
   "metadata": {
    "ExecuteTime": {
     "end_time": "2021-05-05T15:59:10.175319Z",
     "start_time": "2021-05-05T15:59:10.168113Z"
    }
   },
   "outputs": [
    {
     "data": {
      "text/plain": [
       "cylinders       -1.337907\n",
       "displacement    -1.053008\n",
       "horsepower      -0.086614\n",
       "weight         -19.267250\n",
       "acceleration    -0.370437\n",
       "model year       8.560512\n",
       "intercept       27.881037\n",
       "Name: LingReg Coeffs, dtype: float64"
      ]
     },
     "execution_count": 11,
     "metadata": {},
     "output_type": "execute_result"
    }
   ],
   "source": [
    "## Turn get_coefficients into function\n",
    "def get_coefficients(model, X_train, name='Coeffs'):\n",
    "    ## Make a series of coefficients (including intercept)\n",
    "    coeffs = pd.Series(model.coef_.flatten(), index=X_train.columns,\n",
    "                      name='LingReg Coeffs')\n",
    "    \n",
    "    # Version 1 - SHow students this first.\n",
    "    coeffs['intercept'] = model.intercept_[0]\n",
    "    \n",
    "    ## Version 2 - Update after seeing that the shape of coeffs_ \n",
    "    ## is different for lasso coeffs\n",
    "    try:\n",
    "        coeffs['intercept'] = model.intercept_[0]\n",
    "    except:\n",
    "        coeffs['intercept'] = model.intercept_\n",
    "        \n",
    "    return coeffs\n",
    "\n",
    "## Test our function\n",
    "\n",
    "coeffs_func = get_coefficients(model,X_train, name='Linear Reg')\n",
    "coeffs_func"
   ]
  },
  {
   "cell_type": "markdown",
   "metadata": {},
   "source": [
    "### Since we know we want to apply the same process to 3 Models..."
   ]
  },
  {
   "cell_type": "code",
   "execution_count": 12,
   "metadata": {
    "ExecuteTime": {
     "end_time": "2021-05-05T15:59:10.179497Z",
     "start_time": "2021-05-05T15:59:10.177048Z"
    }
   },
   "outputs": [],
   "source": [
    "## Use a dictionary to store our models\n",
    "models_to_make = dict( linear=LinearRegression(),\n",
    "                     ridge=Ridge(alpha=0.5),\n",
    "                     lasso = Lasso(alpha=0.5))"
   ]
  },
  {
   "cell_type": "code",
   "execution_count": 13,
   "metadata": {
    "ExecuteTime": {
     "end_time": "2021-05-05T15:59:10.184956Z",
     "start_time": "2021-05-05T15:59:10.181253Z"
    }
   },
   "outputs": [
    {
     "data": {
      "text/plain": [
       "{'linear': LinearRegression(),\n",
       " 'ridge': Ridge(alpha=0.5),\n",
       " 'lasso': Lasso(alpha=0.5)}"
      ]
     },
     "execution_count": 13,
     "metadata": {},
     "output_type": "execute_result"
    }
   ],
   "source": [
    "models_to_make"
   ]
  },
  {
   "cell_type": "code",
   "execution_count": 14,
   "metadata": {
    "ExecuteTime": {
     "end_time": "2021-05-05T15:59:10.191022Z",
     "start_time": "2021-05-05T15:59:10.187020Z"
    }
   },
   "outputs": [
    {
     "data": {
      "text/plain": [
       "Lasso(alpha=0.5)"
      ]
     },
     "execution_count": 14,
     "metadata": {},
     "output_type": "execute_result"
    }
   ],
   "source": [
    "## Test our dictionary \n",
    "models_to_make['lasso']"
   ]
  },
  {
   "cell_type": "markdown",
   "metadata": {},
   "source": [
    "> Now, loop through models_to_make and save all results"
   ]
  },
  {
   "cell_type": "code",
   "execution_count": 15,
   "metadata": {
    "ExecuteTime": {
     "end_time": "2021-05-05T15:59:10.234765Z",
     "start_time": "2021-05-05T15:59:10.193097Z"
    }
   },
   "outputs": [
    {
     "data": {
      "text/html": [
       "<div>\n",
       "<style scoped>\n",
       "    .dataframe tbody tr th:only-of-type {\n",
       "        vertical-align: middle;\n",
       "    }\n",
       "\n",
       "    .dataframe tbody tr th {\n",
       "        vertical-align: top;\n",
       "    }\n",
       "\n",
       "    .dataframe thead th {\n",
       "        text-align: right;\n",
       "    }\n",
       "</style>\n",
       "<table border=\"1\" class=\"dataframe\">\n",
       "  <thead>\n",
       "    <tr style=\"text-align: right;\">\n",
       "      <th></th>\n",
       "      <th></th>\n",
       "      <th>R2</th>\n",
       "      <th>RMSE</th>\n",
       "    </tr>\n",
       "    <tr>\n",
       "      <th>Type</th>\n",
       "      <th>Data</th>\n",
       "      <th></th>\n",
       "      <th></th>\n",
       "    </tr>\n",
       "  </thead>\n",
       "  <tbody>\n",
       "    <tr>\n",
       "      <th rowspan=\"2\" valign=\"top\">linear</th>\n",
       "      <th>Train</th>\n",
       "      <td>0.820</td>\n",
       "      <td>3.115</td>\n",
       "    </tr>\n",
       "    <tr>\n",
       "      <th>Test</th>\n",
       "      <td>0.773</td>\n",
       "      <td>4.092</td>\n",
       "    </tr>\n",
       "    <tr>\n",
       "      <th rowspan=\"2\" valign=\"top\">ridge</th>\n",
       "      <th>Train</th>\n",
       "      <td>0.819</td>\n",
       "      <td>3.130</td>\n",
       "    </tr>\n",
       "    <tr>\n",
       "      <th>Test</th>\n",
       "      <td>0.763</td>\n",
       "      <td>4.186</td>\n",
       "    </tr>\n",
       "    <tr>\n",
       "      <th rowspan=\"2\" valign=\"top\">lasso</th>\n",
       "      <th>Train</th>\n",
       "      <td>0.699</td>\n",
       "      <td>4.030</td>\n",
       "    </tr>\n",
       "    <tr>\n",
       "      <th>Test</th>\n",
       "      <td>0.594</td>\n",
       "      <td>5.480</td>\n",
       "    </tr>\n",
       "  </tbody>\n",
       "</table>\n",
       "</div>"
      ],
      "text/plain": [
       "                 R2   RMSE\n",
       "Type   Data               \n",
       "linear Train  0.820  3.115\n",
       "       Test   0.773  4.092\n",
       "ridge  Train  0.819  3.130\n",
       "       Test   0.763  4.186\n",
       "lasso  Train  0.699  4.030\n",
       "       Test   0.594  5.480"
      ]
     },
     "execution_count": 15,
     "metadata": {},
     "output_type": "execute_result"
    }
   ],
   "source": [
    "## Loop through models_to_make and save all results\n",
    "\n",
    "## Create an empty list to store result dfs\n",
    "results = []\n",
    "## Create an empty dict to store fit models\n",
    "fit_models={}\n",
    "\n",
    "for model_type, mod in models_to_make.items():\n",
    "\n",
    "    ## get model results and fit model using make_model\n",
    "    res, mod = make_model(mod, X_train_tf , X_test_tf, y_train, y_test)\n",
    "\n",
    "    ## Add model type as column to res\n",
    "    res['Type'] = model_type\n",
    "    ## Save df to list \n",
    "    results.append(res)\n",
    "    \n",
    "    ## Save fit model to models dict \n",
    "    fit_models[model_type] = mod\n",
    "    \n",
    "\n",
    "    \n",
    "## Concatenate results \n",
    "df_res = pd.concat(results)\n",
    "df_res.set_index(['Type',\"Data\"],inplace=True)\n",
    "df_res"
   ]
  },
  {
   "cell_type": "code",
   "execution_count": 16,
   "metadata": {
    "ExecuteTime": {
     "end_time": "2021-05-05T15:59:10.299705Z",
     "start_time": "2021-05-05T15:59:10.236415Z"
    }
   },
   "outputs": [
    {
     "data": {
      "text/html": [
       "<style  type=\"text/css\" >\n",
       "#T_d45781de_adba_11eb_8028_acde48001122row0_col0{\n",
       "            background-color:  #023858;\n",
       "            color:  #f1f1f1;\n",
       "        }#T_d45781de_adba_11eb_8028_acde48001122row1_col0{\n",
       "            background-color:  #0569a4;\n",
       "            color:  #f1f1f1;\n",
       "        }#T_d45781de_adba_11eb_8028_acde48001122row2_col0{\n",
       "            background-color:  #02395a;\n",
       "            color:  #f1f1f1;\n",
       "        }#T_d45781de_adba_11eb_8028_acde48001122row3_col0{\n",
       "            background-color:  #0570b0;\n",
       "            color:  #f1f1f1;\n",
       "        }#T_d45781de_adba_11eb_8028_acde48001122row4_col0{\n",
       "            background-color:  #83afd3;\n",
       "            color:  #000000;\n",
       "        }#T_d45781de_adba_11eb_8028_acde48001122row5_col0{\n",
       "            background-color:  #fff7fb;\n",
       "            color:  #000000;\n",
       "        }</style><table id=\"T_d45781de_adba_11eb_8028_acde48001122\" ><thead>    <tr>        <th class=\"blank\" ></th>        <th class=\"blank level0\" ></th>        <th class=\"col_heading level0 col0\" >R2</th>        <th class=\"col_heading level0 col1\" >RMSE</th>    </tr>    <tr>        <th class=\"index_name level0\" >Type</th>        <th class=\"index_name level1\" >Data</th>        <th class=\"blank\" ></th>        <th class=\"blank\" ></th>    </tr></thead><tbody>\n",
       "                <tr>\n",
       "                        <th id=\"T_d45781de_adba_11eb_8028_acde48001122level0_row0\" class=\"row_heading level0 row0\" rowspan=2>linear</th>\n",
       "                        <th id=\"T_d45781de_adba_11eb_8028_acde48001122level1_row0\" class=\"row_heading level1 row0\" >Train</th>\n",
       "                        <td id=\"T_d45781de_adba_11eb_8028_acde48001122row0_col0\" class=\"data row0 col0\" >0.820000</td>\n",
       "                        <td id=\"T_d45781de_adba_11eb_8028_acde48001122row0_col1\" class=\"data row0 col1\" >3.115000</td>\n",
       "            </tr>\n",
       "            <tr>\n",
       "                                <th id=\"T_d45781de_adba_11eb_8028_acde48001122level1_row1\" class=\"row_heading level1 row1\" >Test</th>\n",
       "                        <td id=\"T_d45781de_adba_11eb_8028_acde48001122row1_col0\" class=\"data row1 col0\" >0.773000</td>\n",
       "                        <td id=\"T_d45781de_adba_11eb_8028_acde48001122row1_col1\" class=\"data row1 col1\" >4.092000</td>\n",
       "            </tr>\n",
       "            <tr>\n",
       "                        <th id=\"T_d45781de_adba_11eb_8028_acde48001122level0_row2\" class=\"row_heading level0 row2\" rowspan=2>ridge</th>\n",
       "                        <th id=\"T_d45781de_adba_11eb_8028_acde48001122level1_row2\" class=\"row_heading level1 row2\" >Train</th>\n",
       "                        <td id=\"T_d45781de_adba_11eb_8028_acde48001122row2_col0\" class=\"data row2 col0\" >0.819000</td>\n",
       "                        <td id=\"T_d45781de_adba_11eb_8028_acde48001122row2_col1\" class=\"data row2 col1\" >3.130000</td>\n",
       "            </tr>\n",
       "            <tr>\n",
       "                                <th id=\"T_d45781de_adba_11eb_8028_acde48001122level1_row3\" class=\"row_heading level1 row3\" >Test</th>\n",
       "                        <td id=\"T_d45781de_adba_11eb_8028_acde48001122row3_col0\" class=\"data row3 col0\" >0.763000</td>\n",
       "                        <td id=\"T_d45781de_adba_11eb_8028_acde48001122row3_col1\" class=\"data row3 col1\" >4.186000</td>\n",
       "            </tr>\n",
       "            <tr>\n",
       "                        <th id=\"T_d45781de_adba_11eb_8028_acde48001122level0_row4\" class=\"row_heading level0 row4\" rowspan=2>lasso</th>\n",
       "                        <th id=\"T_d45781de_adba_11eb_8028_acde48001122level1_row4\" class=\"row_heading level1 row4\" >Train</th>\n",
       "                        <td id=\"T_d45781de_adba_11eb_8028_acde48001122row4_col0\" class=\"data row4 col0\" >0.699000</td>\n",
       "                        <td id=\"T_d45781de_adba_11eb_8028_acde48001122row4_col1\" class=\"data row4 col1\" >4.030000</td>\n",
       "            </tr>\n",
       "            <tr>\n",
       "                                <th id=\"T_d45781de_adba_11eb_8028_acde48001122level1_row5\" class=\"row_heading level1 row5\" >Test</th>\n",
       "                        <td id=\"T_d45781de_adba_11eb_8028_acde48001122row5_col0\" class=\"data row5 col0\" >0.594000</td>\n",
       "                        <td id=\"T_d45781de_adba_11eb_8028_acde48001122row5_col1\" class=\"data row5 col1\" >5.480000</td>\n",
       "            </tr>\n",
       "    </tbody></table>"
      ],
      "text/plain": [
       "<pandas.io.formats.style.Styler at 0x7fb7876439a0>"
      ]
     },
     "execution_count": 16,
     "metadata": {},
     "output_type": "execute_result"
    }
   ],
   "source": [
    "## Use styling to make it easier to find the best scores.\n",
    "df_res.style.background_gradient(subset=['R2'])#.highlight_max('R2')"
   ]
  },
  {
   "cell_type": "markdown",
   "metadata": {},
   "source": [
    "> #### Sidebar: You've heard of List Comprehensions but did you that there are Dictionary Comprehensions too?"
   ]
  },
  {
   "cell_type": "code",
   "execution_count": 17,
   "metadata": {
    "ExecuteTime": {
     "end_time": "2021-05-05T15:59:10.309278Z",
     "start_time": "2021-05-05T15:59:10.301476Z"
    }
   },
   "outputs": [
    {
     "data": {
      "text/plain": [
       "{'linear': cylinders       -1.337907\n",
       " displacement    -1.053008\n",
       " horsepower      -0.086614\n",
       " weight         -19.267250\n",
       " acceleration    -0.370437\n",
       " model year       8.560512\n",
       " intercept       27.881037\n",
       " Name: LingReg Coeffs, dtype: float64,\n",
       " 'ridge': cylinders       -2.069044\n",
       " displacement    -2.885934\n",
       " horsepower      -1.818015\n",
       " weight         -15.237853\n",
       " acceleration    -1.455941\n",
       " model year       8.144018\n",
       " intercept       28.488448\n",
       " Name: LingReg Coeffs, dtype: float64,\n",
       " 'lasso': cylinders       -9.097435\n",
       " displacement    -0.000000\n",
       " horsepower      -0.000000\n",
       " weight          -4.027040\n",
       " acceleration     0.000000\n",
       " model year       3.923482\n",
       " intercept       27.192308\n",
       " Name: LingReg Coeffs, dtype: float64}"
      ]
     },
     "execution_count": 17,
     "metadata": {},
     "output_type": "execute_result"
    }
   ],
   "source": [
    "## Get the coefficients of every model in a dictionary using a dict comprehension\n",
    "dict_comp= {k:get_coefficients(mod,X_train,k) for k,mod in fit_models.items() }\n",
    "dict_comp"
   ]
  },
  {
   "cell_type": "code",
   "execution_count": 18,
   "metadata": {
    "ExecuteTime": {
     "end_time": "2021-05-05T15:59:10.333447Z",
     "start_time": "2021-05-05T15:59:10.311324Z"
    }
   },
   "outputs": [
    {
     "data": {
      "text/html": [
       "<style  type=\"text/css\" >\n",
       "#T_d45c8350_adba_11eb_8028_acde48001122row0_col0,#T_d45c8350_adba_11eb_8028_acde48001122row0_col5,#T_d45c8350_adba_11eb_8028_acde48001122row1_col6,#T_d45c8350_adba_11eb_8028_acde48001122row2_col1,#T_d45c8350_adba_11eb_8028_acde48001122row2_col2,#T_d45c8350_adba_11eb_8028_acde48001122row2_col3,#T_d45c8350_adba_11eb_8028_acde48001122row2_col4{\n",
       "            background-color:  #023858;\n",
       "            color:  #f1f1f1;\n",
       "        }#T_d45c8350_adba_11eb_8028_acde48001122row0_col1{\n",
       "            background-color:  #328dbf;\n",
       "            color:  #000000;\n",
       "        }#T_d45c8350_adba_11eb_8028_acde48001122row0_col2{\n",
       "            background-color:  #03456c;\n",
       "            color:  #f1f1f1;\n",
       "        }#T_d45c8350_adba_11eb_8028_acde48001122row0_col3,#T_d45c8350_adba_11eb_8028_acde48001122row1_col1,#T_d45c8350_adba_11eb_8028_acde48001122row1_col2,#T_d45c8350_adba_11eb_8028_acde48001122row1_col4,#T_d45c8350_adba_11eb_8028_acde48001122row2_col0,#T_d45c8350_adba_11eb_8028_acde48001122row2_col5,#T_d45c8350_adba_11eb_8028_acde48001122row2_col6{\n",
       "            background-color:  #fff7fb;\n",
       "            color:  #000000;\n",
       "        }#T_d45c8350_adba_11eb_8028_acde48001122row0_col4{\n",
       "            background-color:  #0771b1;\n",
       "            color:  #f1f1f1;\n",
       "        }#T_d45c8350_adba_11eb_8028_acde48001122row0_col6{\n",
       "            background-color:  #63a2cb;\n",
       "            color:  #000000;\n",
       "        }#T_d45c8350_adba_11eb_8028_acde48001122row1_col0{\n",
       "            background-color:  #045280;\n",
       "            color:  #f1f1f1;\n",
       "        }#T_d45c8350_adba_11eb_8028_acde48001122row1_col3{\n",
       "            background-color:  #cccfe5;\n",
       "            color:  #000000;\n",
       "        }#T_d45c8350_adba_11eb_8028_acde48001122row1_col5{\n",
       "            background-color:  #03517e;\n",
       "            color:  #f1f1f1;\n",
       "        }</style><table id=\"T_d45c8350_adba_11eb_8028_acde48001122\" ><thead>    <tr>        <th class=\"blank level0\" ></th>        <th class=\"col_heading level0 col0\" >cylinders</th>        <th class=\"col_heading level0 col1\" >displacement</th>        <th class=\"col_heading level0 col2\" >horsepower</th>        <th class=\"col_heading level0 col3\" >weight</th>        <th class=\"col_heading level0 col4\" >acceleration</th>        <th class=\"col_heading level0 col5\" >model year</th>        <th class=\"col_heading level0 col6\" >intercept</th>    </tr></thead><tbody>\n",
       "                <tr>\n",
       "                        <th id=\"T_d45c8350_adba_11eb_8028_acde48001122level0_row0\" class=\"row_heading level0 row0\" >linear</th>\n",
       "                        <td id=\"T_d45c8350_adba_11eb_8028_acde48001122row0_col0\" class=\"data row0 col0\" >-1.338000</td>\n",
       "                        <td id=\"T_d45c8350_adba_11eb_8028_acde48001122row0_col1\" class=\"data row0 col1\" >-1.053000</td>\n",
       "                        <td id=\"T_d45c8350_adba_11eb_8028_acde48001122row0_col2\" class=\"data row0 col2\" >-0.087000</td>\n",
       "                        <td id=\"T_d45c8350_adba_11eb_8028_acde48001122row0_col3\" class=\"data row0 col3\" >-19.267000</td>\n",
       "                        <td id=\"T_d45c8350_adba_11eb_8028_acde48001122row0_col4\" class=\"data row0 col4\" >-0.370000</td>\n",
       "                        <td id=\"T_d45c8350_adba_11eb_8028_acde48001122row0_col5\" class=\"data row0 col5\" >8.561000</td>\n",
       "                        <td id=\"T_d45c8350_adba_11eb_8028_acde48001122row0_col6\" class=\"data row0 col6\" >27.881000</td>\n",
       "            </tr>\n",
       "            <tr>\n",
       "                        <th id=\"T_d45c8350_adba_11eb_8028_acde48001122level0_row1\" class=\"row_heading level0 row1\" >ridge</th>\n",
       "                        <td id=\"T_d45c8350_adba_11eb_8028_acde48001122row1_col0\" class=\"data row1 col0\" >-2.069000</td>\n",
       "                        <td id=\"T_d45c8350_adba_11eb_8028_acde48001122row1_col1\" class=\"data row1 col1\" >-2.886000</td>\n",
       "                        <td id=\"T_d45c8350_adba_11eb_8028_acde48001122row1_col2\" class=\"data row1 col2\" >-1.818000</td>\n",
       "                        <td id=\"T_d45c8350_adba_11eb_8028_acde48001122row1_col3\" class=\"data row1 col3\" >-15.238000</td>\n",
       "                        <td id=\"T_d45c8350_adba_11eb_8028_acde48001122row1_col4\" class=\"data row1 col4\" >-1.456000</td>\n",
       "                        <td id=\"T_d45c8350_adba_11eb_8028_acde48001122row1_col5\" class=\"data row1 col5\" >8.144000</td>\n",
       "                        <td id=\"T_d45c8350_adba_11eb_8028_acde48001122row1_col6\" class=\"data row1 col6\" >28.488000</td>\n",
       "            </tr>\n",
       "            <tr>\n",
       "                        <th id=\"T_d45c8350_adba_11eb_8028_acde48001122level0_row2\" class=\"row_heading level0 row2\" >lasso</th>\n",
       "                        <td id=\"T_d45c8350_adba_11eb_8028_acde48001122row2_col0\" class=\"data row2 col0\" >-9.097000</td>\n",
       "                        <td id=\"T_d45c8350_adba_11eb_8028_acde48001122row2_col1\" class=\"data row2 col1\" >-0.000000</td>\n",
       "                        <td id=\"T_d45c8350_adba_11eb_8028_acde48001122row2_col2\" class=\"data row2 col2\" >-0.000000</td>\n",
       "                        <td id=\"T_d45c8350_adba_11eb_8028_acde48001122row2_col3\" class=\"data row2 col3\" >-4.027000</td>\n",
       "                        <td id=\"T_d45c8350_adba_11eb_8028_acde48001122row2_col4\" class=\"data row2 col4\" >0.000000</td>\n",
       "                        <td id=\"T_d45c8350_adba_11eb_8028_acde48001122row2_col5\" class=\"data row2 col5\" >3.923000</td>\n",
       "                        <td id=\"T_d45c8350_adba_11eb_8028_acde48001122row2_col6\" class=\"data row2 col6\" >27.192000</td>\n",
       "            </tr>\n",
       "    </tbody></table>"
      ],
      "text/plain": [
       "<pandas.io.formats.style.Styler at 0x7fb787729370>"
      ]
     },
     "execution_count": 18,
     "metadata": {},
     "output_type": "execute_result"
    }
   ],
   "source": [
    "coeffs_df = pd.DataFrame(dict_comp).T.round(3)\n",
    "coeffs_df.style.background_gradient()"
   ]
  },
  {
   "cell_type": "markdown",
   "metadata": {},
   "source": [
    "### Discussion: what was the result of the different regressions on the coefficients?"
   ]
  },
  {
   "cell_type": "markdown",
   "metadata": {},
   "source": [
    "-  lasso regression shrunk some of the coefficients down to 0"
   ]
  },
  {
   "cell_type": "markdown",
   "metadata": {},
   "source": [
    "# Akaike Information Criterion (AIC) and Bayesian Information Criterion (BIC)"
   ]
  },
  {
   "cell_type": "markdown",
   "metadata": {},
   "source": [
    "## Uses of AIC and BIC"
   ]
  },
  {
   "cell_type": "markdown",
   "metadata": {},
   "source": [
    "- Performing feature selection: comparing models with only a few variables and more variables, computing the AIC/BIC and select the features that generated the lowest AIC or BIC\n",
    "- Similarly, selecting or not selecting interactions/polynomial features depending on whether or not the AIC/BIC decreases when adding them in\n",
    "- Computing the AIC and BIC for several values of the regularization parameter in Ridge/Lasso models and selecting the best regularization parameter, and many more! "
   ]
  },
  {
   "cell_type": "markdown",
   "metadata": {},
   "source": [
    "### Akaike's Information Criterion (AIC)\n"
   ]
  },
  {
   "cell_type": "markdown",
   "metadata": {},
   "source": [
    "The formula for the AIC, invented by Hirotugu Akaike in 1973 and short for \"Akaike's Information Criterion\" is given by:\n",
    "\n",
    "$$ \\large \\text{AIC} = -2\\ln(\\hat{L}) + 2k $$\n",
    "\n",
    "Where:\n",
    "* $k$ : length of the parameter space (i.e. the number of features)\n",
    "* $\\hat{L}$ : the maximum value of the likelihood function for the model\n",
    "\n",
    "Another way to phrase the equation is:\n",
    "\n",
    "$$ \n",
    "\\large \\text{AIC(model)} =  - 2 * \\text{log-likelihood(model)} + 2 * \\text{length of the parameter space} $$\n",
    "\n",
    "\n",
    "- AIC used to **compare** models with unbounded units not independently interpretable\n",
    "\n",
    "- If model uses Maximum Likelihood Estimation, log-likelihood is automatically computed, so AIC is easy to calculate.\n",
    "- AIC acts like penalized log-likelihood criterion, balancing good fit and complexity\n",
    "\n",
    "- In Python, the AIC is built into `statsmodels` and in `sklearn` (such as `LassoLarsIC`, which you'll use in the upcoming lab). "
   ]
  },
  {
   "cell_type": "markdown",
   "metadata": {},
   "source": [
    "### Bayesian Information Criterion (BIC)"
   ]
  },
  {
   "cell_type": "markdown",
   "metadata": {},
   "source": [
    "- Bayesian alternative to AIC, used the same way.\n",
    "\n",
    " $$\\large \\text{BIC} = -2\\ln(\\hat L) + \\ln(n)*k $$\n",
    "\n",
    "\n",
    "where:\n",
    "\n",
    "* $\\hat{L}$ and $k$ are the same as in AIC\n",
    "* $n$ : the number of data points (the sample size)\n",
    "\n",
    "Another way to phrase the equation is:\n",
    "\n",
    "$$ \\text{BIC(model)} = -2 * \\text{log-likelihood(model)} + \\text{log(number of observations)} * \\text{(length of the parameter space)} $$"
   ]
  },
  {
   "cell_type": "code",
   "execution_count": 19,
   "metadata": {
    "ExecuteTime": {
     "end_time": "2021-05-05T15:59:10.344157Z",
     "start_time": "2021-05-05T15:59:10.335570Z"
    }
   },
   "outputs": [
    {
     "name": "stderr",
     "output_type": "stream",
     "text": [
      "/opt/anaconda3/envs/learn-env-new/lib/python3.8/site-packages/sklearn/utils/validation.py:72: DataConversionWarning: A column-vector y was passed when a 1d array was expected. Please change the shape of y to (n_samples, ), for example using ravel().\n",
      "  return f(**kwargs)\n"
     ]
    },
    {
     "data": {
      "text/plain": [
       "0.0014054034490563368"
      ]
     },
     "execution_count": 19,
     "metadata": {},
     "output_type": "execute_result"
    }
   ],
   "source": [
    "from sklearn.linear_model import LassoCV, LassoLarsCV, LassoLarsIC\n",
    "# alphas = np.arange(0.1,100,0.1)\n",
    "\n",
    "lasso_cvA = LassoLarsIC(criterion='aic')\n",
    "lasso_cvA.fit(X_train_tf,y_train);\n",
    "lasso_cvA.alpha_"
   ]
  },
  {
   "cell_type": "code",
   "execution_count": 20,
   "metadata": {
    "ExecuteTime": {
     "end_time": "2021-05-05T15:59:10.352537Z",
     "start_time": "2021-05-05T15:59:10.346101Z"
    }
   },
   "outputs": [
    {
     "name": "stderr",
     "output_type": "stream",
     "text": [
      "/opt/anaconda3/envs/learn-env-new/lib/python3.8/site-packages/sklearn/utils/validation.py:72: DataConversionWarning: A column-vector y was passed when a 1d array was expected. Please change the shape of y to (n_samples, ), for example using ravel().\n",
      "  return f(**kwargs)\n"
     ]
    },
    {
     "data": {
      "text/plain": [
       "0.0014054034490563368"
      ]
     },
     "execution_count": 20,
     "metadata": {},
     "output_type": "execute_result"
    }
   ],
   "source": [
    "lasso_cvB = LassoLarsIC(criterion='bic')\n",
    "lasso_cvB.fit(X_train_tf,y_train);\n",
    "lasso_cvB.alpha_"
   ]
  },
  {
   "cell_type": "code",
   "execution_count": 21,
   "metadata": {
    "ExecuteTime": {
     "end_time": "2021-05-05T15:59:10.642811Z",
     "start_time": "2021-05-05T15:59:10.354190Z"
    },
    "scrolled": true
   },
   "outputs": [
    {
     "data": {
      "text/plain": [
       "<matplotlib.legend.Legend at 0x7fb78777afd0>"
      ]
     },
     "execution_count": 21,
     "metadata": {},
     "output_type": "execute_result"
    },
    {
     "data": {
      "image/png": "[encoded data removed]",
      "text/plain": [
       "<Figure size 921.6x633.6 with 1 Axes>"
      ]
     },
     "metadata": {
      "needs_background": "light"
     },
     "output_type": "display_data"
    }
   ],
   "source": [
    "def plot_ic_criterion(model, name, color):\n",
    "    \"\"\"Taken from:\n",
    "    https://scikit-learn.org/stable/auto_examples/linear_model/plot_lasso_model_selection.html\"\"\"\n",
    "    # This is to avoid division by zero while doing np.log10\n",
    "    EPSILON = 1e-4\n",
    "    alpha_ = model.alpha_ + EPSILON\n",
    "    alphas_ = model.alphas_ + EPSILON\n",
    "    criterion_ = model.criterion_\n",
    "    plt.plot(-np.log10(alphas_), criterion_, '--', color=color,\n",
    "             linewidth=3, label='%s criterion' % name)\n",
    "    \n",
    "    plt.axvline(-np.log10(alpha_), color=color, linewidth=3,\n",
    "                label=f'alpha: {name} estimate (alpha={round(alpha_,5)})')\n",
    "    plt.xlabel('-log(alpha)')\n",
    "    plt.ylabel('criterion')\n",
    "\n",
    "plot_ic_criterion(lasso_cvA,'AIC','blue')\n",
    "plot_ic_criterion(lasso_cvB,'BIC','green')#,'BIC' )\n",
    "plt.legend(bbox_to_anchor=[1,1],loc='upper left')"
   ]
  },
  {
   "cell_type": "markdown",
   "metadata": {},
   "source": [
    "# Activity: King's County Housing Data Revisited"
   ]
  },
  {
   "cell_type": "code",
   "execution_count": 22,
   "metadata": {
    "ExecuteTime": {
     "end_time": "2021-05-05T15:59:10.647659Z",
     "start_time": "2021-05-05T15:59:10.644881Z"
    }
   },
   "outputs": [],
   "source": [
    "import pandas as pd\n",
    "import numpy as np\n",
    "import matplotlib.pyplot as plt\n",
    "import seaborn as sns\n",
    "plt.style.use('seaborn-poster')"
   ]
  },
  {
   "cell_type": "code",
   "execution_count": 23,
   "metadata": {
    "ExecuteTime": {
     "end_time": "2021-05-05T15:59:10.710102Z",
     "start_time": "2021-05-05T15:59:10.655422Z"
    }
   },
   "outputs": [],
   "source": [
    "from sklearn.preprocessing import MinMaxScaler,StandardScaler,OneHotEncoder\n",
    "from sklearn.impute import SimpleImputer\n",
    "\n",
    "from sklearn.linear_model import Lasso, Ridge, LinearRegression\n",
    "from sklearn.linear_model import LassoCV, RidgeCV\n",
    "from sklearn.model_selection import train_test_split"
   ]
  },
  {
   "cell_type": "code",
   "execution_count": 24,
   "metadata": {
    "ExecuteTime": {
     "end_time": "2021-05-05T15:59:11.892362Z",
     "start_time": "2021-05-05T15:59:10.714366Z"
    }
   },
   "outputs": [
    {
     "data": {
      "text/html": [
       "<div>\n",
       "<style scoped>\n",
       "    .dataframe tbody tr th:only-of-type {\n",
       "        vertical-align: middle;\n",
       "    }\n",
       "\n",
       "    .dataframe tbody tr th {\n",
       "        vertical-align: top;\n",
       "    }\n",
       "\n",
       "    .dataframe thead th {\n",
       "        text-align: right;\n",
       "    }\n",
       "</style>\n",
       "<table border=\"1\" class=\"dataframe\">\n",
       "  <thead>\n",
       "    <tr style=\"text-align: right;\">\n",
       "      <th></th>\n",
       "      <th>price</th>\n",
       "      <th>bedrooms</th>\n",
       "      <th>bathrooms</th>\n",
       "      <th>sqft_living</th>\n",
       "      <th>sqft_lot</th>\n",
       "      <th>floors</th>\n",
       "      <th>waterfront</th>\n",
       "      <th>view</th>\n",
       "      <th>condition</th>\n",
       "      <th>grade</th>\n",
       "      <th>sqft_above</th>\n",
       "      <th>sqft_basement</th>\n",
       "      <th>zipcode</th>\n",
       "      <th>sqft_living15</th>\n",
       "      <th>sqft_lot15</th>\n",
       "    </tr>\n",
       "  </thead>\n",
       "  <tbody>\n",
       "    <tr>\n",
       "      <th>0</th>\n",
       "      <td>221900.0</td>\n",
       "      <td>3</td>\n",
       "      <td>1.00</td>\n",
       "      <td>1180</td>\n",
       "      <td>5650</td>\n",
       "      <td>1.0</td>\n",
       "      <td>NaN</td>\n",
       "      <td>0.0</td>\n",
       "      <td>3</td>\n",
       "      <td>7</td>\n",
       "      <td>1180</td>\n",
       "      <td>0.0</td>\n",
       "      <td>98178</td>\n",
       "      <td>1340</td>\n",
       "      <td>5650</td>\n",
       "    </tr>\n",
       "    <tr>\n",
       "      <th>1</th>\n",
       "      <td>538000.0</td>\n",
       "      <td>3</td>\n",
       "      <td>2.25</td>\n",
       "      <td>2570</td>\n",
       "      <td>7242</td>\n",
       "      <td>2.0</td>\n",
       "      <td>0.0</td>\n",
       "      <td>0.0</td>\n",
       "      <td>3</td>\n",
       "      <td>7</td>\n",
       "      <td>2170</td>\n",
       "      <td>400.0</td>\n",
       "      <td>98125</td>\n",
       "      <td>1690</td>\n",
       "      <td>7639</td>\n",
       "    </tr>\n",
       "    <tr>\n",
       "      <th>2</th>\n",
       "      <td>180000.0</td>\n",
       "      <td>2</td>\n",
       "      <td>1.00</td>\n",
       "      <td>770</td>\n",
       "      <td>10000</td>\n",
       "      <td>1.0</td>\n",
       "      <td>0.0</td>\n",
       "      <td>0.0</td>\n",
       "      <td>3</td>\n",
       "      <td>6</td>\n",
       "      <td>770</td>\n",
       "      <td>0.0</td>\n",
       "      <td>98028</td>\n",
       "      <td>2720</td>\n",
       "      <td>8062</td>\n",
       "    </tr>\n",
       "    <tr>\n",
       "      <th>3</th>\n",
       "      <td>604000.0</td>\n",
       "      <td>4</td>\n",
       "      <td>3.00</td>\n",
       "      <td>1960</td>\n",
       "      <td>5000</td>\n",
       "      <td>1.0</td>\n",
       "      <td>0.0</td>\n",
       "      <td>0.0</td>\n",
       "      <td>5</td>\n",
       "      <td>7</td>\n",
       "      <td>1050</td>\n",
       "      <td>910.0</td>\n",
       "      <td>98136</td>\n",
       "      <td>1360</td>\n",
       "      <td>5000</td>\n",
       "    </tr>\n",
       "    <tr>\n",
       "      <th>4</th>\n",
       "      <td>510000.0</td>\n",
       "      <td>3</td>\n",
       "      <td>2.00</td>\n",
       "      <td>1680</td>\n",
       "      <td>8080</td>\n",
       "      <td>1.0</td>\n",
       "      <td>0.0</td>\n",
       "      <td>0.0</td>\n",
       "      <td>3</td>\n",
       "      <td>8</td>\n",
       "      <td>1680</td>\n",
       "      <td>0.0</td>\n",
       "      <td>98074</td>\n",
       "      <td>1800</td>\n",
       "      <td>7503</td>\n",
       "    </tr>\n",
       "    <tr>\n",
       "      <th>...</th>\n",
       "      <td>...</td>\n",
       "      <td>...</td>\n",
       "      <td>...</td>\n",
       "      <td>...</td>\n",
       "      <td>...</td>\n",
       "      <td>...</td>\n",
       "      <td>...</td>\n",
       "      <td>...</td>\n",
       "      <td>...</td>\n",
       "      <td>...</td>\n",
       "      <td>...</td>\n",
       "      <td>...</td>\n",
       "      <td>...</td>\n",
       "      <td>...</td>\n",
       "      <td>...</td>\n",
       "    </tr>\n",
       "    <tr>\n",
       "      <th>21592</th>\n",
       "      <td>360000.0</td>\n",
       "      <td>3</td>\n",
       "      <td>2.50</td>\n",
       "      <td>1530</td>\n",
       "      <td>1131</td>\n",
       "      <td>3.0</td>\n",
       "      <td>0.0</td>\n",
       "      <td>0.0</td>\n",
       "      <td>3</td>\n",
       "      <td>8</td>\n",
       "      <td>1530</td>\n",
       "      <td>0.0</td>\n",
       "      <td>98103</td>\n",
       "      <td>1530</td>\n",
       "      <td>1509</td>\n",
       "    </tr>\n",
       "    <tr>\n",
       "      <th>21593</th>\n",
       "      <td>400000.0</td>\n",
       "      <td>4</td>\n",
       "      <td>2.50</td>\n",
       "      <td>2310</td>\n",
       "      <td>5813</td>\n",
       "      <td>2.0</td>\n",
       "      <td>0.0</td>\n",
       "      <td>0.0</td>\n",
       "      <td>3</td>\n",
       "      <td>8</td>\n",
       "      <td>2310</td>\n",
       "      <td>0.0</td>\n",
       "      <td>98146</td>\n",
       "      <td>1830</td>\n",
       "      <td>7200</td>\n",
       "    </tr>\n",
       "    <tr>\n",
       "      <th>21594</th>\n",
       "      <td>402101.0</td>\n",
       "      <td>2</td>\n",
       "      <td>0.75</td>\n",
       "      <td>1020</td>\n",
       "      <td>1350</td>\n",
       "      <td>2.0</td>\n",
       "      <td>0.0</td>\n",
       "      <td>0.0</td>\n",
       "      <td>3</td>\n",
       "      <td>7</td>\n",
       "      <td>1020</td>\n",
       "      <td>0.0</td>\n",
       "      <td>98144</td>\n",
       "      <td>1020</td>\n",
       "      <td>2007</td>\n",
       "    </tr>\n",
       "    <tr>\n",
       "      <th>21595</th>\n",
       "      <td>400000.0</td>\n",
       "      <td>3</td>\n",
       "      <td>2.50</td>\n",
       "      <td>1600</td>\n",
       "      <td>2388</td>\n",
       "      <td>2.0</td>\n",
       "      <td>NaN</td>\n",
       "      <td>0.0</td>\n",
       "      <td>3</td>\n",
       "      <td>8</td>\n",
       "      <td>1600</td>\n",
       "      <td>0.0</td>\n",
       "      <td>98027</td>\n",
       "      <td>1410</td>\n",
       "      <td>1287</td>\n",
       "    </tr>\n",
       "    <tr>\n",
       "      <th>21596</th>\n",
       "      <td>325000.0</td>\n",
       "      <td>2</td>\n",
       "      <td>0.75</td>\n",
       "      <td>1020</td>\n",
       "      <td>1076</td>\n",
       "      <td>2.0</td>\n",
       "      <td>0.0</td>\n",
       "      <td>0.0</td>\n",
       "      <td>3</td>\n",
       "      <td>7</td>\n",
       "      <td>1020</td>\n",
       "      <td>0.0</td>\n",
       "      <td>98144</td>\n",
       "      <td>1020</td>\n",
       "      <td>1357</td>\n",
       "    </tr>\n",
       "  </tbody>\n",
       "</table>\n",
       "<p>21597 rows × 15 columns</p>\n",
       "</div>"
      ],
      "text/plain": [
       "          price  bedrooms  bathrooms  sqft_living  sqft_lot  floors  \\\n",
       "0      221900.0         3       1.00         1180      5650     1.0   \n",
       "1      538000.0         3       2.25         2570      7242     2.0   \n",
       "2      180000.0         2       1.00          770     10000     1.0   \n",
       "3      604000.0         4       3.00         1960      5000     1.0   \n",
       "4      510000.0         3       2.00         1680      8080     1.0   \n",
       "...         ...       ...        ...          ...       ...     ...   \n",
       "21592  360000.0         3       2.50         1530      1131     3.0   \n",
       "21593  400000.0         4       2.50         2310      5813     2.0   \n",
       "21594  402101.0         2       0.75         1020      1350     2.0   \n",
       "21595  400000.0         3       2.50         1600      2388     2.0   \n",
       "21596  325000.0         2       0.75         1020      1076     2.0   \n",
       "\n",
       "       waterfront  view  condition  grade  sqft_above  sqft_basement  zipcode  \\\n",
       "0             NaN   0.0          3      7        1180            0.0    98178   \n",
       "1             0.0   0.0          3      7        2170          400.0    98125   \n",
       "2             0.0   0.0          3      6         770            0.0    98028   \n",
       "3             0.0   0.0          5      7        1050          910.0    98136   \n",
       "4             0.0   0.0          3      8        1680            0.0    98074   \n",
       "...           ...   ...        ...    ...         ...            ...      ...   \n",
       "21592         0.0   0.0          3      8        1530            0.0    98103   \n",
       "21593         0.0   0.0          3      8        2310            0.0    98146   \n",
       "21594         0.0   0.0          3      7        1020            0.0    98144   \n",
       "21595         NaN   0.0          3      8        1600            0.0    98027   \n",
       "21596         0.0   0.0          3      7        1020            0.0    98144   \n",
       "\n",
       "       sqft_living15  sqft_lot15  \n",
       "0               1340        5650  \n",
       "1               1690        7639  \n",
       "2               2720        8062  \n",
       "3               1360        5000  \n",
       "4               1800        7503  \n",
       "...              ...         ...  \n",
       "21592           1530        1509  \n",
       "21593           1830        7200  \n",
       "21594           1020        2007  \n",
       "21595           1410        1287  \n",
       "21596           1020        1357  \n",
       "\n",
       "[21597 rows x 15 columns]"
      ]
     },
     "execution_count": 24,
     "metadata": {},
     "output_type": "execute_result"
    }
   ],
   "source": [
    "## load_project data \n",
    "usecols = ['price', 'bedrooms', 'bathrooms', 'sqft_living',\n",
    "       'sqft_lot', 'floors', 'waterfront', 'view', 'condition', 'grade',\n",
    "       'sqft_above', 'sqft_basement', 'zipcode',\n",
    "       'sqft_living15', 'sqft_lot15']\n",
    "\n",
    "kc_data= 'https://raw.githubusercontent.com/learn-co-curriculum/dsc-phase-2-project/main/data/kc_house_data.csv'\n",
    "df = pd.read_csv(kc_data,usecols=usecols,na_values=['?'])\n",
    "df"
   ]
  },
  {
   "cell_type": "code",
   "execution_count": 25,
   "metadata": {
    "ExecuteTime": {
     "end_time": "2021-05-05T15:59:11.905818Z",
     "start_time": "2021-05-05T15:59:11.894865Z"
    }
   },
   "outputs": [
    {
     "name": "stdout",
     "output_type": "stream",
     "text": [
      "<class 'pandas.core.frame.DataFrame'>\n",
      "RangeIndex: 21597 entries, 0 to 21596\n",
      "Data columns (total 15 columns):\n",
      " #   Column         Non-Null Count  Dtype  \n",
      "---  ------         --------------  -----  \n",
      " 0   price          21597 non-null  float64\n",
      " 1   bedrooms       21597 non-null  int64  \n",
      " 2   bathrooms      21597 non-null  float64\n",
      " 3   sqft_living    21597 non-null  int64  \n",
      " 4   sqft_lot       21597 non-null  int64  \n",
      " 5   floors         21597 non-null  float64\n",
      " 6   waterfront     19221 non-null  float64\n",
      " 7   view           21534 non-null  float64\n",
      " 8   condition      21597 non-null  int64  \n",
      " 9   grade          21597 non-null  int64  \n",
      " 10  sqft_above     21597 non-null  int64  \n",
      " 11  sqft_basement  21143 non-null  float64\n",
      " 12  zipcode        21597 non-null  int64  \n",
      " 13  sqft_living15  21597 non-null  int64  \n",
      " 14  sqft_lot15     21597 non-null  int64  \n",
      "dtypes: float64(6), int64(9)\n",
      "memory usage: 2.5 MB\n"
     ]
    }
   ],
   "source": [
    "df.info()"
   ]
  },
  {
   "cell_type": "code",
   "execution_count": 26,
   "metadata": {
    "ExecuteTime": {
     "end_time": "2021-05-05T15:59:11.920392Z",
     "start_time": "2021-05-05T15:59:11.908112Z"
    }
   },
   "outputs": [
    {
     "data": {
      "text/plain": [
       "[(15117, 14), (6480, 14), (15117,), (6480,)]"
      ]
     },
     "execution_count": 26,
     "metadata": {},
     "output_type": "execute_result"
    }
   ],
   "source": [
    "## train test split\n",
    "target = 'price'\n",
    "\n",
    "y = df[target]\n",
    "X = df.drop(target, axis=1)\n",
    "\n",
    "# Perform test train split\n",
    "X_train , X_test, y_train, y_test = train_test_split(X, y, test_size=0.3,)\n",
    "#                                                      random_state=12)\n",
    "[var.shape for var in [X_train , X_test, y_train, y_test]]"
   ]
  },
  {
   "cell_type": "code",
   "execution_count": 27,
   "metadata": {
    "ExecuteTime": {
     "end_time": "2021-05-05T15:59:11.928542Z",
     "start_time": "2021-05-05T15:59:11.922859Z"
    }
   },
   "outputs": [
    {
     "data": {
      "text/plain": [
       "bedrooms            0\n",
       "bathrooms           0\n",
       "sqft_living         0\n",
       "sqft_lot            0\n",
       "floors              0\n",
       "waterfront       1626\n",
       "view               46\n",
       "condition           0\n",
       "grade               0\n",
       "sqft_above          0\n",
       "sqft_basement     337\n",
       "zipcode             0\n",
       "sqft_living15       0\n",
       "sqft_lot15          0\n",
       "dtype: int64"
      ]
     },
     "execution_count": 27,
     "metadata": {},
     "output_type": "execute_result"
    }
   ],
   "source": [
    "## Check for nulls in training set\n",
    "X_train.isna().sum()"
   ]
  },
  {
   "cell_type": "code",
   "execution_count": 28,
   "metadata": {
    "ExecuteTime": {
     "end_time": "2021-05-05T15:59:11.933055Z",
     "start_time": "2021-05-05T15:59:11.930482Z"
    }
   },
   "outputs": [],
   "source": [
    "## Specify which values to impute with which method\n",
    "\n",
    "## Most frequent\n",
    "mode_cols = ['waterfront','view']\n",
    "## Fill with 0's\n",
    "zero_cols = ['sqft_basement']"
   ]
  },
  {
   "cell_type": "code",
   "execution_count": 29,
   "metadata": {
    "ExecuteTime": {
     "end_time": "2021-05-05T15:59:11.939884Z",
     "start_time": "2021-05-05T15:59:11.935175Z"
    }
   },
   "outputs": [],
   "source": [
    "## Copying X_train and X_test as start of X_train_tf,X_test_tf\n",
    "X_train_tf = X_train.copy()\n",
    "X_test_tf = X_test.copy()"
   ]
  },
  {
   "cell_type": "code",
   "execution_count": 30,
   "metadata": {
    "ExecuteTime": {
     "end_time": "2021-05-05T15:59:11.966145Z",
     "start_time": "2021-05-05T15:59:11.942631Z"
    }
   },
   "outputs": [
    {
     "data": {
      "text/plain": [
       "bedrooms           0\n",
       "bathrooms          0\n",
       "sqft_living        0\n",
       "sqft_lot           0\n",
       "floors             0\n",
       "waterfront         0\n",
       "view               0\n",
       "condition          0\n",
       "grade              0\n",
       "sqft_above         0\n",
       "sqft_basement    337\n",
       "zipcode            0\n",
       "sqft_living15      0\n",
       "sqft_lot15         0\n",
       "dtype: int64"
      ]
     },
     "execution_count": 30,
     "metadata": {},
     "output_type": "execute_result"
    }
   ],
   "source": [
    "## Impute the columns with most-frequent value\n",
    "imputer_mode = SimpleImputer(strategy='most_frequent')\n",
    "\n",
    "X_train_tf[mode_cols] = imputer_mode.fit_transform(X_train_tf[mode_cols].copy())\n",
    "X_test_tf[mode_cols] = imputer_mode.transform(X_test_tf[mode_cols].copy())\n",
    "\n",
    "## Verify it worked\n",
    "X_train_tf.isna().sum()"
   ]
  },
  {
   "cell_type": "code",
   "execution_count": 31,
   "metadata": {
    "ExecuteTime": {
     "end_time": "2021-05-05T15:59:11.988394Z",
     "start_time": "2021-05-05T15:59:11.968135Z"
    }
   },
   "outputs": [
    {
     "name": "stdout",
     "output_type": "stream",
     "text": [
      "bedrooms         0\n",
      "bathrooms        0\n",
      "sqft_living      0\n",
      "sqft_lot         0\n",
      "floors           0\n",
      "waterfront       0\n",
      "view             0\n",
      "condition        0\n",
      "grade            0\n",
      "sqft_above       0\n",
      "sqft_basement    0\n",
      "zipcode          0\n",
      "sqft_living15    0\n",
      "sqft_lot15       0\n",
      "dtype: int64\n"
     ]
    },
    {
     "data": {
      "text/plain": [
       "bedrooms         0\n",
       "bathrooms        0\n",
       "sqft_living      0\n",
       "sqft_lot         0\n",
       "floors           0\n",
       "waterfront       0\n",
       "view             0\n",
       "condition        0\n",
       "grade            0\n",
       "sqft_above       0\n",
       "sqft_basement    0\n",
       "zipcode          0\n",
       "sqft_living15    0\n",
       "sqft_lot15       0\n",
       "dtype: int64"
      ]
     },
     "execution_count": 31,
     "metadata": {},
     "output_type": "execute_result"
    }
   ],
   "source": [
    "## Impute cols with 0s\n",
    "imputer_zero = SimpleImputer(strategy='constant',fill_value=0)\n",
    "\n",
    "X_train_tf[zero_cols] = imputer_zero.fit_transform(X_train_tf[zero_cols])\n",
    "X_test_tf[zero_cols] = imputer_zero.transform(X_test_tf[zero_cols])\n",
    "\n",
    "## Verify it worked\n",
    "print(X_train_tf.isna().sum())\n",
    "X_test_tf.isna().sum()"
   ]
  },
  {
   "cell_type": "code",
   "execution_count": 32,
   "metadata": {
    "ExecuteTime": {
     "end_time": "2021-05-05T15:59:11.997281Z",
     "start_time": "2021-05-05T15:59:11.991164Z"
    }
   },
   "outputs": [
    {
     "data": {
      "text/plain": [
       "Index(['bedrooms', 'bathrooms', 'sqft_living', 'sqft_lot', 'floors',\n",
       "       'waterfront', 'view', 'condition', 'grade', 'sqft_above',\n",
       "       'sqft_basement', 'sqft_living15', 'sqft_lot15'],\n",
       "      dtype='object')"
      ]
     },
     "execution_count": 32,
     "metadata": {},
     "output_type": "execute_result"
    }
   ],
   "source": [
    "## Specifing which cols to encode and which to scale. \n",
    "cat_cols = ['zipcode'] \n",
    "num_cols = df.drop(columns=[target,*cat_cols]).columns\n",
    "num_cols"
   ]
  },
  {
   "cell_type": "code",
   "execution_count": 33,
   "metadata": {
    "ExecuteTime": {
     "end_time": "2021-05-05T15:59:12.045354Z",
     "start_time": "2021-05-05T15:59:11.999331Z"
    }
   },
   "outputs": [
    {
     "data": {
      "text/html": [
       "<div>\n",
       "<style scoped>\n",
       "    .dataframe tbody tr th:only-of-type {\n",
       "        vertical-align: middle;\n",
       "    }\n",
       "\n",
       "    .dataframe tbody tr th {\n",
       "        vertical-align: top;\n",
       "    }\n",
       "\n",
       "    .dataframe thead th {\n",
       "        text-align: right;\n",
       "    }\n",
       "</style>\n",
       "<table border=\"1\" class=\"dataframe\">\n",
       "  <thead>\n",
       "    <tr style=\"text-align: right;\">\n",
       "      <th></th>\n",
       "      <th>zipcode_98001</th>\n",
       "      <th>zipcode_98002</th>\n",
       "      <th>zipcode_98003</th>\n",
       "      <th>zipcode_98004</th>\n",
       "      <th>zipcode_98005</th>\n",
       "      <th>zipcode_98006</th>\n",
       "      <th>zipcode_98007</th>\n",
       "      <th>zipcode_98008</th>\n",
       "      <th>zipcode_98010</th>\n",
       "      <th>zipcode_98011</th>\n",
       "      <th>...</th>\n",
       "      <th>zipcode_98146</th>\n",
       "      <th>zipcode_98148</th>\n",
       "      <th>zipcode_98155</th>\n",
       "      <th>zipcode_98166</th>\n",
       "      <th>zipcode_98168</th>\n",
       "      <th>zipcode_98177</th>\n",
       "      <th>zipcode_98178</th>\n",
       "      <th>zipcode_98188</th>\n",
       "      <th>zipcode_98198</th>\n",
       "      <th>zipcode_98199</th>\n",
       "    </tr>\n",
       "  </thead>\n",
       "  <tbody>\n",
       "    <tr>\n",
       "      <th>3913</th>\n",
       "      <td>0.0</td>\n",
       "      <td>0.0</td>\n",
       "      <td>0.0</td>\n",
       "      <td>0.0</td>\n",
       "      <td>0.0</td>\n",
       "      <td>0.0</td>\n",
       "      <td>0.0</td>\n",
       "      <td>0.0</td>\n",
       "      <td>0.0</td>\n",
       "      <td>0.0</td>\n",
       "      <td>...</td>\n",
       "      <td>0.0</td>\n",
       "      <td>0.0</td>\n",
       "      <td>0.0</td>\n",
       "      <td>0.0</td>\n",
       "      <td>0.0</td>\n",
       "      <td>0.0</td>\n",
       "      <td>0.0</td>\n",
       "      <td>0.0</td>\n",
       "      <td>0.0</td>\n",
       "      <td>0.0</td>\n",
       "    </tr>\n",
       "    <tr>\n",
       "      <th>2548</th>\n",
       "      <td>0.0</td>\n",
       "      <td>0.0</td>\n",
       "      <td>1.0</td>\n",
       "      <td>0.0</td>\n",
       "      <td>0.0</td>\n",
       "      <td>0.0</td>\n",
       "      <td>0.0</td>\n",
       "      <td>0.0</td>\n",
       "      <td>0.0</td>\n",
       "      <td>0.0</td>\n",
       "      <td>...</td>\n",
       "      <td>0.0</td>\n",
       "      <td>0.0</td>\n",
       "      <td>0.0</td>\n",
       "      <td>0.0</td>\n",
       "      <td>0.0</td>\n",
       "      <td>0.0</td>\n",
       "      <td>0.0</td>\n",
       "      <td>0.0</td>\n",
       "      <td>0.0</td>\n",
       "      <td>0.0</td>\n",
       "    </tr>\n",
       "    <tr>\n",
       "      <th>3770</th>\n",
       "      <td>0.0</td>\n",
       "      <td>0.0</td>\n",
       "      <td>0.0</td>\n",
       "      <td>0.0</td>\n",
       "      <td>0.0</td>\n",
       "      <td>0.0</td>\n",
       "      <td>0.0</td>\n",
       "      <td>0.0</td>\n",
       "      <td>0.0</td>\n",
       "      <td>0.0</td>\n",
       "      <td>...</td>\n",
       "      <td>0.0</td>\n",
       "      <td>0.0</td>\n",
       "      <td>0.0</td>\n",
       "      <td>0.0</td>\n",
       "      <td>0.0</td>\n",
       "      <td>0.0</td>\n",
       "      <td>0.0</td>\n",
       "      <td>0.0</td>\n",
       "      <td>0.0</td>\n",
       "      <td>0.0</td>\n",
       "    </tr>\n",
       "    <tr>\n",
       "      <th>5170</th>\n",
       "      <td>0.0</td>\n",
       "      <td>0.0</td>\n",
       "      <td>0.0</td>\n",
       "      <td>0.0</td>\n",
       "      <td>0.0</td>\n",
       "      <td>0.0</td>\n",
       "      <td>0.0</td>\n",
       "      <td>0.0</td>\n",
       "      <td>0.0</td>\n",
       "      <td>0.0</td>\n",
       "      <td>...</td>\n",
       "      <td>0.0</td>\n",
       "      <td>0.0</td>\n",
       "      <td>0.0</td>\n",
       "      <td>0.0</td>\n",
       "      <td>0.0</td>\n",
       "      <td>0.0</td>\n",
       "      <td>0.0</td>\n",
       "      <td>0.0</td>\n",
       "      <td>0.0</td>\n",
       "      <td>0.0</td>\n",
       "    </tr>\n",
       "    <tr>\n",
       "      <th>13285</th>\n",
       "      <td>0.0</td>\n",
       "      <td>0.0</td>\n",
       "      <td>0.0</td>\n",
       "      <td>0.0</td>\n",
       "      <td>0.0</td>\n",
       "      <td>0.0</td>\n",
       "      <td>0.0</td>\n",
       "      <td>0.0</td>\n",
       "      <td>1.0</td>\n",
       "      <td>0.0</td>\n",
       "      <td>...</td>\n",
       "      <td>0.0</td>\n",
       "      <td>0.0</td>\n",
       "      <td>0.0</td>\n",
       "      <td>0.0</td>\n",
       "      <td>0.0</td>\n",
       "      <td>0.0</td>\n",
       "      <td>0.0</td>\n",
       "      <td>0.0</td>\n",
       "      <td>0.0</td>\n",
       "      <td>0.0</td>\n",
       "    </tr>\n",
       "    <tr>\n",
       "      <th>...</th>\n",
       "      <td>...</td>\n",
       "      <td>...</td>\n",
       "      <td>...</td>\n",
       "      <td>...</td>\n",
       "      <td>...</td>\n",
       "      <td>...</td>\n",
       "      <td>...</td>\n",
       "      <td>...</td>\n",
       "      <td>...</td>\n",
       "      <td>...</td>\n",
       "      <td>...</td>\n",
       "      <td>...</td>\n",
       "      <td>...</td>\n",
       "      <td>...</td>\n",
       "      <td>...</td>\n",
       "      <td>...</td>\n",
       "      <td>...</td>\n",
       "      <td>...</td>\n",
       "      <td>...</td>\n",
       "      <td>...</td>\n",
       "      <td>...</td>\n",
       "    </tr>\n",
       "    <tr>\n",
       "      <th>6203</th>\n",
       "      <td>0.0</td>\n",
       "      <td>0.0</td>\n",
       "      <td>0.0</td>\n",
       "      <td>0.0</td>\n",
       "      <td>0.0</td>\n",
       "      <td>0.0</td>\n",
       "      <td>0.0</td>\n",
       "      <td>0.0</td>\n",
       "      <td>0.0</td>\n",
       "      <td>0.0</td>\n",
       "      <td>...</td>\n",
       "      <td>0.0</td>\n",
       "      <td>0.0</td>\n",
       "      <td>0.0</td>\n",
       "      <td>0.0</td>\n",
       "      <td>0.0</td>\n",
       "      <td>0.0</td>\n",
       "      <td>0.0</td>\n",
       "      <td>0.0</td>\n",
       "      <td>0.0</td>\n",
       "      <td>0.0</td>\n",
       "    </tr>\n",
       "    <tr>\n",
       "      <th>8404</th>\n",
       "      <td>0.0</td>\n",
       "      <td>0.0</td>\n",
       "      <td>0.0</td>\n",
       "      <td>0.0</td>\n",
       "      <td>0.0</td>\n",
       "      <td>0.0</td>\n",
       "      <td>0.0</td>\n",
       "      <td>0.0</td>\n",
       "      <td>0.0</td>\n",
       "      <td>0.0</td>\n",
       "      <td>...</td>\n",
       "      <td>0.0</td>\n",
       "      <td>0.0</td>\n",
       "      <td>0.0</td>\n",
       "      <td>1.0</td>\n",
       "      <td>0.0</td>\n",
       "      <td>0.0</td>\n",
       "      <td>0.0</td>\n",
       "      <td>0.0</td>\n",
       "      <td>0.0</td>\n",
       "      <td>0.0</td>\n",
       "    </tr>\n",
       "    <tr>\n",
       "      <th>13185</th>\n",
       "      <td>0.0</td>\n",
       "      <td>0.0</td>\n",
       "      <td>0.0</td>\n",
       "      <td>0.0</td>\n",
       "      <td>0.0</td>\n",
       "      <td>0.0</td>\n",
       "      <td>0.0</td>\n",
       "      <td>0.0</td>\n",
       "      <td>0.0</td>\n",
       "      <td>0.0</td>\n",
       "      <td>...</td>\n",
       "      <td>0.0</td>\n",
       "      <td>0.0</td>\n",
       "      <td>0.0</td>\n",
       "      <td>0.0</td>\n",
       "      <td>0.0</td>\n",
       "      <td>0.0</td>\n",
       "      <td>0.0</td>\n",
       "      <td>0.0</td>\n",
       "      <td>0.0</td>\n",
       "      <td>0.0</td>\n",
       "    </tr>\n",
       "    <tr>\n",
       "      <th>3992</th>\n",
       "      <td>0.0</td>\n",
       "      <td>0.0</td>\n",
       "      <td>1.0</td>\n",
       "      <td>0.0</td>\n",
       "      <td>0.0</td>\n",
       "      <td>0.0</td>\n",
       "      <td>0.0</td>\n",
       "      <td>0.0</td>\n",
       "      <td>0.0</td>\n",
       "      <td>0.0</td>\n",
       "      <td>...</td>\n",
       "      <td>0.0</td>\n",
       "      <td>0.0</td>\n",
       "      <td>0.0</td>\n",
       "      <td>0.0</td>\n",
       "      <td>0.0</td>\n",
       "      <td>0.0</td>\n",
       "      <td>0.0</td>\n",
       "      <td>0.0</td>\n",
       "      <td>0.0</td>\n",
       "      <td>0.0</td>\n",
       "    </tr>\n",
       "    <tr>\n",
       "      <th>8422</th>\n",
       "      <td>0.0</td>\n",
       "      <td>0.0</td>\n",
       "      <td>0.0</td>\n",
       "      <td>0.0</td>\n",
       "      <td>0.0</td>\n",
       "      <td>0.0</td>\n",
       "      <td>0.0</td>\n",
       "      <td>0.0</td>\n",
       "      <td>0.0</td>\n",
       "      <td>0.0</td>\n",
       "      <td>...</td>\n",
       "      <td>0.0</td>\n",
       "      <td>0.0</td>\n",
       "      <td>0.0</td>\n",
       "      <td>0.0</td>\n",
       "      <td>0.0</td>\n",
       "      <td>0.0</td>\n",
       "      <td>0.0</td>\n",
       "      <td>0.0</td>\n",
       "      <td>0.0</td>\n",
       "      <td>0.0</td>\n",
       "    </tr>\n",
       "  </tbody>\n",
       "</table>\n",
       "<p>15117 rows × 70 columns</p>\n",
       "</div>"
      ],
      "text/plain": [
       "       zipcode_98001  zipcode_98002  zipcode_98003  zipcode_98004  \\\n",
       "3913             0.0            0.0            0.0            0.0   \n",
       "2548             0.0            0.0            1.0            0.0   \n",
       "3770             0.0            0.0            0.0            0.0   \n",
       "5170             0.0            0.0            0.0            0.0   \n",
       "13285            0.0            0.0            0.0            0.0   \n",
       "...              ...            ...            ...            ...   \n",
       "6203             0.0            0.0            0.0            0.0   \n",
       "8404             0.0            0.0            0.0            0.0   \n",
       "13185            0.0            0.0            0.0            0.0   \n",
       "3992             0.0            0.0            1.0            0.0   \n",
       "8422             0.0            0.0            0.0            0.0   \n",
       "\n",
       "       zipcode_98005  zipcode_98006  zipcode_98007  zipcode_98008  \\\n",
       "3913             0.0            0.0            0.0            0.0   \n",
       "2548             0.0            0.0            0.0            0.0   \n",
       "3770             0.0            0.0            0.0            0.0   \n",
       "5170             0.0            0.0            0.0            0.0   \n",
       "13285            0.0            0.0            0.0            0.0   \n",
       "...              ...            ...            ...            ...   \n",
       "6203             0.0            0.0            0.0            0.0   \n",
       "8404             0.0            0.0            0.0            0.0   \n",
       "13185            0.0            0.0            0.0            0.0   \n",
       "3992             0.0            0.0            0.0            0.0   \n",
       "8422             0.0            0.0            0.0            0.0   \n",
       "\n",
       "       zipcode_98010  zipcode_98011  ...  zipcode_98146  zipcode_98148  \\\n",
       "3913             0.0            0.0  ...            0.0            0.0   \n",
       "2548             0.0            0.0  ...            0.0            0.0   \n",
       "3770             0.0            0.0  ...            0.0            0.0   \n",
       "5170             0.0            0.0  ...            0.0            0.0   \n",
       "13285            1.0            0.0  ...            0.0            0.0   \n",
       "...              ...            ...  ...            ...            ...   \n",
       "6203             0.0            0.0  ...            0.0            0.0   \n",
       "8404             0.0            0.0  ...            0.0            0.0   \n",
       "13185            0.0            0.0  ...            0.0            0.0   \n",
       "3992             0.0            0.0  ...            0.0            0.0   \n",
       "8422             0.0            0.0  ...            0.0            0.0   \n",
       "\n",
       "       zipcode_98155  zipcode_98166  zipcode_98168  zipcode_98177  \\\n",
       "3913             0.0            0.0            0.0            0.0   \n",
       "2548             0.0            0.0            0.0            0.0   \n",
       "3770             0.0            0.0            0.0            0.0   \n",
       "5170             0.0            0.0            0.0            0.0   \n",
       "13285            0.0            0.0            0.0            0.0   \n",
       "...              ...            ...            ...            ...   \n",
       "6203             0.0            0.0            0.0            0.0   \n",
       "8404             0.0            1.0            0.0            0.0   \n",
       "13185            0.0            0.0            0.0            0.0   \n",
       "3992             0.0            0.0            0.0            0.0   \n",
       "8422             0.0            0.0            0.0            0.0   \n",
       "\n",
       "       zipcode_98178  zipcode_98188  zipcode_98198  zipcode_98199  \n",
       "3913             0.0            0.0            0.0            0.0  \n",
       "2548             0.0            0.0            0.0            0.0  \n",
       "3770             0.0            0.0            0.0            0.0  \n",
       "5170             0.0            0.0            0.0            0.0  \n",
       "13285            0.0            0.0            0.0            0.0  \n",
       "...              ...            ...            ...            ...  \n",
       "6203             0.0            0.0            0.0            0.0  \n",
       "8404             0.0            0.0            0.0            0.0  \n",
       "13185            0.0            0.0            0.0            0.0  \n",
       "3992             0.0            0.0            0.0            0.0  \n",
       "8422             0.0            0.0            0.0            0.0  \n",
       "\n",
       "[15117 rows x 70 columns]"
      ]
     },
     "execution_count": 33,
     "metadata": {},
     "output_type": "execute_result"
    }
   ],
   "source": [
    "## Encode cat_cols\n",
    "encoder = OneHotEncoder(sparse=False, handle_unknown='ignore', drop=None)\n",
    "encoder.fit(X_train_tf[cat_cols])\n",
    "\n",
    "train_cat_cols = pd.DataFrame(encoder.transform(X_train_tf[cat_cols]),\n",
    "                              columns=encoder.get_feature_names(cat_cols),\n",
    "                              index=X_train_tf.index)\n",
    "\n",
    "test_cat_cols = pd.DataFrame(encoder.transform(X_test_tf[cat_cols]),\n",
    "                              columns=encoder.get_feature_names(cat_cols),\n",
    "                              index=X_test_tf.index)\n",
    "\n",
    "train_cat_cols"
   ]
  },
  {
   "cell_type": "code",
   "execution_count": 34,
   "metadata": {
    "ExecuteTime": {
     "end_time": "2021-05-05T15:59:12.049882Z",
     "start_time": "2021-05-05T15:59:12.047487Z"
    }
   },
   "outputs": [],
   "source": [
    "## Scaling Num_cols\n",
    "scaler = MinMaxScaler()"
   ]
  },
  {
   "cell_type": "code",
   "execution_count": 35,
   "metadata": {
    "ExecuteTime": {
     "end_time": "2021-05-05T15:59:12.082482Z",
     "start_time": "2021-05-05T15:59:12.051914Z"
    }
   },
   "outputs": [
    {
     "data": {
      "text/html": [
       "<div>\n",
       "<style scoped>\n",
       "    .dataframe tbody tr th:only-of-type {\n",
       "        vertical-align: middle;\n",
       "    }\n",
       "\n",
       "    .dataframe tbody tr th {\n",
       "        vertical-align: top;\n",
       "    }\n",
       "\n",
       "    .dataframe thead th {\n",
       "        text-align: right;\n",
       "    }\n",
       "</style>\n",
       "<table border=\"1\" class=\"dataframe\">\n",
       "  <thead>\n",
       "    <tr style=\"text-align: right;\">\n",
       "      <th></th>\n",
       "      <th>bedrooms</th>\n",
       "      <th>bathrooms</th>\n",
       "      <th>sqft_living</th>\n",
       "      <th>sqft_lot</th>\n",
       "      <th>floors</th>\n",
       "      <th>waterfront</th>\n",
       "      <th>view</th>\n",
       "      <th>condition</th>\n",
       "      <th>grade</th>\n",
       "      <th>sqft_above</th>\n",
       "      <th>sqft_basement</th>\n",
       "      <th>sqft_living15</th>\n",
       "      <th>sqft_lot15</th>\n",
       "    </tr>\n",
       "  </thead>\n",
       "  <tbody>\n",
       "    <tr>\n",
       "      <th>3913</th>\n",
       "      <td>0.06250</td>\n",
       "      <td>0.066667</td>\n",
       "      <td>0.052226</td>\n",
       "      <td>0.005684</td>\n",
       "      <td>0.0</td>\n",
       "      <td>0.0</td>\n",
       "      <td>0.0</td>\n",
       "      <td>0.75</td>\n",
       "      <td>0.4</td>\n",
       "      <td>0.071849</td>\n",
       "      <td>0.000000</td>\n",
       "      <td>0.246257</td>\n",
       "      <td>0.010619</td>\n",
       "    </tr>\n",
       "    <tr>\n",
       "      <th>2548</th>\n",
       "      <td>0.09375</td>\n",
       "      <td>0.133333</td>\n",
       "      <td>0.117295</td>\n",
       "      <td>0.007395</td>\n",
       "      <td>0.0</td>\n",
       "      <td>0.0</td>\n",
       "      <td>0.0</td>\n",
       "      <td>0.75</td>\n",
       "      <td>0.4</td>\n",
       "      <td>0.095406</td>\n",
       "      <td>0.116183</td>\n",
       "      <td>0.246257</td>\n",
       "      <td>0.012022</td>\n",
       "    </tr>\n",
       "    <tr>\n",
       "      <th>3770</th>\n",
       "      <td>0.06250</td>\n",
       "      <td>0.266667</td>\n",
       "      <td>0.091610</td>\n",
       "      <td>0.004119</td>\n",
       "      <td>0.0</td>\n",
       "      <td>0.0</td>\n",
       "      <td>0.0</td>\n",
       "      <td>1.00</td>\n",
       "      <td>0.4</td>\n",
       "      <td>0.126031</td>\n",
       "      <td>0.000000</td>\n",
       "      <td>0.130959</td>\n",
       "      <td>0.007216</td>\n",
       "    </tr>\n",
       "    <tr>\n",
       "      <th>5170</th>\n",
       "      <td>0.06250</td>\n",
       "      <td>0.166667</td>\n",
       "      <td>0.099315</td>\n",
       "      <td>0.005016</td>\n",
       "      <td>0.0</td>\n",
       "      <td>0.0</td>\n",
       "      <td>0.0</td>\n",
       "      <td>0.75</td>\n",
       "      <td>0.4</td>\n",
       "      <td>0.078916</td>\n",
       "      <td>0.101660</td>\n",
       "      <td>0.194631</td>\n",
       "      <td>0.009225</td>\n",
       "    </tr>\n",
       "    <tr>\n",
       "      <th>13285</th>\n",
       "      <td>0.09375</td>\n",
       "      <td>0.333333</td>\n",
       "      <td>0.255137</td>\n",
       "      <td>0.120383</td>\n",
       "      <td>0.4</td>\n",
       "      <td>0.0</td>\n",
       "      <td>0.0</td>\n",
       "      <td>0.50</td>\n",
       "      <td>0.7</td>\n",
       "      <td>0.351001</td>\n",
       "      <td>0.000000</td>\n",
       "      <td>0.507830</td>\n",
       "      <td>0.210488</td>\n",
       "    </tr>\n",
       "    <tr>\n",
       "      <th>...</th>\n",
       "      <td>...</td>\n",
       "      <td>...</td>\n",
       "      <td>...</td>\n",
       "      <td>...</td>\n",
       "      <td>...</td>\n",
       "      <td>...</td>\n",
       "      <td>...</td>\n",
       "      <td>...</td>\n",
       "      <td>...</td>\n",
       "      <td>...</td>\n",
       "      <td>...</td>\n",
       "      <td>...</td>\n",
       "      <td>...</td>\n",
       "    </tr>\n",
       "    <tr>\n",
       "      <th>6203</th>\n",
       "      <td>0.06250</td>\n",
       "      <td>0.266667</td>\n",
       "      <td>0.257705</td>\n",
       "      <td>0.003970</td>\n",
       "      <td>0.4</td>\n",
       "      <td>0.0</td>\n",
       "      <td>0.0</td>\n",
       "      <td>0.50</td>\n",
       "      <td>0.5</td>\n",
       "      <td>0.215548</td>\n",
       "      <td>0.244813</td>\n",
       "      <td>0.285837</td>\n",
       "      <td>0.006765</td>\n",
       "    </tr>\n",
       "    <tr>\n",
       "      <th>8404</th>\n",
       "      <td>0.06250</td>\n",
       "      <td>0.066667</td>\n",
       "      <td>0.093322</td>\n",
       "      <td>0.025732</td>\n",
       "      <td>0.0</td>\n",
       "      <td>0.0</td>\n",
       "      <td>0.0</td>\n",
       "      <td>0.50</td>\n",
       "      <td>0.4</td>\n",
       "      <td>0.128386</td>\n",
       "      <td>0.000000</td>\n",
       "      <td>0.318534</td>\n",
       "      <td>0.022244</td>\n",
       "    </tr>\n",
       "    <tr>\n",
       "      <th>13185</th>\n",
       "      <td>0.03125</td>\n",
       "      <td>0.066667</td>\n",
       "      <td>0.055651</td>\n",
       "      <td>0.004799</td>\n",
       "      <td>0.0</td>\n",
       "      <td>0.0</td>\n",
       "      <td>1.0</td>\n",
       "      <td>0.75</td>\n",
       "      <td>0.4</td>\n",
       "      <td>0.064782</td>\n",
       "      <td>0.020747</td>\n",
       "      <td>0.370160</td>\n",
       "      <td>0.011101</td>\n",
       "    </tr>\n",
       "    <tr>\n",
       "      <th>3992</th>\n",
       "      <td>0.09375</td>\n",
       "      <td>0.266667</td>\n",
       "      <td>0.205479</td>\n",
       "      <td>0.011265</td>\n",
       "      <td>0.0</td>\n",
       "      <td>0.0</td>\n",
       "      <td>0.0</td>\n",
       "      <td>0.75</td>\n",
       "      <td>0.5</td>\n",
       "      <td>0.144876</td>\n",
       "      <td>0.242739</td>\n",
       "      <td>0.401136</td>\n",
       "      <td>0.020413</td>\n",
       "    </tr>\n",
       "    <tr>\n",
       "      <th>8422</th>\n",
       "      <td>0.09375</td>\n",
       "      <td>0.300000</td>\n",
       "      <td>0.175514</td>\n",
       "      <td>0.004796</td>\n",
       "      <td>0.4</td>\n",
       "      <td>0.0</td>\n",
       "      <td>0.0</td>\n",
       "      <td>0.50</td>\n",
       "      <td>0.5</td>\n",
       "      <td>0.241461</td>\n",
       "      <td>0.000000</td>\n",
       "      <td>0.347789</td>\n",
       "      <td>0.009099</td>\n",
       "    </tr>\n",
       "  </tbody>\n",
       "</table>\n",
       "<p>15117 rows × 13 columns</p>\n",
       "</div>"
      ],
      "text/plain": [
       "       bedrooms  bathrooms  sqft_living  sqft_lot  floors  waterfront  view  \\\n",
       "3913    0.06250   0.066667     0.052226  0.005684     0.0         0.0   0.0   \n",
       "2548    0.09375   0.133333     0.117295  0.007395     0.0         0.0   0.0   \n",
       "3770    0.06250   0.266667     0.091610  0.004119     0.0         0.0   0.0   \n",
       "5170    0.06250   0.166667     0.099315  0.005016     0.0         0.0   0.0   \n",
       "13285   0.09375   0.333333     0.255137  0.120383     0.4         0.0   0.0   \n",
       "...         ...        ...          ...       ...     ...         ...   ...   \n",
       "6203    0.06250   0.266667     0.257705  0.003970     0.4         0.0   0.0   \n",
       "8404    0.06250   0.066667     0.093322  0.025732     0.0         0.0   0.0   \n",
       "13185   0.03125   0.066667     0.055651  0.004799     0.0         0.0   1.0   \n",
       "3992    0.09375   0.266667     0.205479  0.011265     0.0         0.0   0.0   \n",
       "8422    0.09375   0.300000     0.175514  0.004796     0.4         0.0   0.0   \n",
       "\n",
       "       condition  grade  sqft_above  sqft_basement  sqft_living15  sqft_lot15  \n",
       "3913        0.75    0.4    0.071849       0.000000       0.246257    0.010619  \n",
       "2548        0.75    0.4    0.095406       0.116183       0.246257    0.012022  \n",
       "3770        1.00    0.4    0.126031       0.000000       0.130959    0.007216  \n",
       "5170        0.75    0.4    0.078916       0.101660       0.194631    0.009225  \n",
       "13285       0.50    0.7    0.351001       0.000000       0.507830    0.210488  \n",
       "...          ...    ...         ...            ...            ...         ...  \n",
       "6203        0.50    0.5    0.215548       0.244813       0.285837    0.006765  \n",
       "8404        0.50    0.4    0.128386       0.000000       0.318534    0.022244  \n",
       "13185       0.75    0.4    0.064782       0.020747       0.370160    0.011101  \n",
       "3992        0.75    0.5    0.144876       0.242739       0.401136    0.020413  \n",
       "8422        0.50    0.5    0.241461       0.000000       0.347789    0.009099  \n",
       "\n",
       "[15117 rows x 13 columns]"
      ]
     },
     "execution_count": 35,
     "metadata": {},
     "output_type": "execute_result"
    }
   ],
   "source": [
    "train_num_cols = pd.DataFrame(scaler.fit_transform(X_train_tf[num_cols]),\n",
    "                              columns=num_cols,index=X_train_tf.index)\n",
    "\n",
    "test_num_cols = pd.DataFrame(scaler.transform(X_test_tf[num_cols]),\n",
    "                             columns=num_cols, index=X_test_tf.index)\n",
    "train_num_cols"
   ]
  },
  {
   "cell_type": "code",
   "execution_count": 36,
   "metadata": {
    "ExecuteTime": {
     "end_time": "2021-05-05T15:59:12.130581Z",
     "start_time": "2021-05-05T15:59:12.084466Z"
    }
   },
   "outputs": [
    {
     "data": {
      "text/html": [
       "<div>\n",
       "<style scoped>\n",
       "    .dataframe tbody tr th:only-of-type {\n",
       "        vertical-align: middle;\n",
       "    }\n",
       "\n",
       "    .dataframe tbody tr th {\n",
       "        vertical-align: top;\n",
       "    }\n",
       "\n",
       "    .dataframe thead th {\n",
       "        text-align: right;\n",
       "    }\n",
       "</style>\n",
       "<table border=\"1\" class=\"dataframe\">\n",
       "  <thead>\n",
       "    <tr style=\"text-align: right;\">\n",
       "      <th></th>\n",
       "      <th>bedrooms</th>\n",
       "      <th>bathrooms</th>\n",
       "      <th>sqft_living</th>\n",
       "      <th>sqft_lot</th>\n",
       "      <th>floors</th>\n",
       "      <th>waterfront</th>\n",
       "      <th>view</th>\n",
       "      <th>condition</th>\n",
       "      <th>grade</th>\n",
       "      <th>sqft_above</th>\n",
       "      <th>...</th>\n",
       "      <th>zipcode_98146</th>\n",
       "      <th>zipcode_98148</th>\n",
       "      <th>zipcode_98155</th>\n",
       "      <th>zipcode_98166</th>\n",
       "      <th>zipcode_98168</th>\n",
       "      <th>zipcode_98177</th>\n",
       "      <th>zipcode_98178</th>\n",
       "      <th>zipcode_98188</th>\n",
       "      <th>zipcode_98198</th>\n",
       "      <th>zipcode_98199</th>\n",
       "    </tr>\n",
       "  </thead>\n",
       "  <tbody>\n",
       "    <tr>\n",
       "      <th>3913</th>\n",
       "      <td>0.06250</td>\n",
       "      <td>0.066667</td>\n",
       "      <td>0.052226</td>\n",
       "      <td>0.005684</td>\n",
       "      <td>0.0</td>\n",
       "      <td>0.0</td>\n",
       "      <td>0.0</td>\n",
       "      <td>0.75</td>\n",
       "      <td>0.4</td>\n",
       "      <td>0.071849</td>\n",
       "      <td>...</td>\n",
       "      <td>0.0</td>\n",
       "      <td>0.0</td>\n",
       "      <td>0.0</td>\n",
       "      <td>0.0</td>\n",
       "      <td>0.0</td>\n",
       "      <td>0.0</td>\n",
       "      <td>0.0</td>\n",
       "      <td>0.0</td>\n",
       "      <td>0.0</td>\n",
       "      <td>0.0</td>\n",
       "    </tr>\n",
       "    <tr>\n",
       "      <th>2548</th>\n",
       "      <td>0.09375</td>\n",
       "      <td>0.133333</td>\n",
       "      <td>0.117295</td>\n",
       "      <td>0.007395</td>\n",
       "      <td>0.0</td>\n",
       "      <td>0.0</td>\n",
       "      <td>0.0</td>\n",
       "      <td>0.75</td>\n",
       "      <td>0.4</td>\n",
       "      <td>0.095406</td>\n",
       "      <td>...</td>\n",
       "      <td>0.0</td>\n",
       "      <td>0.0</td>\n",
       "      <td>0.0</td>\n",
       "      <td>0.0</td>\n",
       "      <td>0.0</td>\n",
       "      <td>0.0</td>\n",
       "      <td>0.0</td>\n",
       "      <td>0.0</td>\n",
       "      <td>0.0</td>\n",
       "      <td>0.0</td>\n",
       "    </tr>\n",
       "    <tr>\n",
       "      <th>3770</th>\n",
       "      <td>0.06250</td>\n",
       "      <td>0.266667</td>\n",
       "      <td>0.091610</td>\n",
       "      <td>0.004119</td>\n",
       "      <td>0.0</td>\n",
       "      <td>0.0</td>\n",
       "      <td>0.0</td>\n",
       "      <td>1.00</td>\n",
       "      <td>0.4</td>\n",
       "      <td>0.126031</td>\n",
       "      <td>...</td>\n",
       "      <td>0.0</td>\n",
       "      <td>0.0</td>\n",
       "      <td>0.0</td>\n",
       "      <td>0.0</td>\n",
       "      <td>0.0</td>\n",
       "      <td>0.0</td>\n",
       "      <td>0.0</td>\n",
       "      <td>0.0</td>\n",
       "      <td>0.0</td>\n",
       "      <td>0.0</td>\n",
       "    </tr>\n",
       "    <tr>\n",
       "      <th>5170</th>\n",
       "      <td>0.06250</td>\n",
       "      <td>0.166667</td>\n",
       "      <td>0.099315</td>\n",
       "      <td>0.005016</td>\n",
       "      <td>0.0</td>\n",
       "      <td>0.0</td>\n",
       "      <td>0.0</td>\n",
       "      <td>0.75</td>\n",
       "      <td>0.4</td>\n",
       "      <td>0.078916</td>\n",
       "      <td>...</td>\n",
       "      <td>0.0</td>\n",
       "      <td>0.0</td>\n",
       "      <td>0.0</td>\n",
       "      <td>0.0</td>\n",
       "      <td>0.0</td>\n",
       "      <td>0.0</td>\n",
       "      <td>0.0</td>\n",
       "      <td>0.0</td>\n",
       "      <td>0.0</td>\n",
       "      <td>0.0</td>\n",
       "    </tr>\n",
       "    <tr>\n",
       "      <th>13285</th>\n",
       "      <td>0.09375</td>\n",
       "      <td>0.333333</td>\n",
       "      <td>0.255137</td>\n",
       "      <td>0.120383</td>\n",
       "      <td>0.4</td>\n",
       "      <td>0.0</td>\n",
       "      <td>0.0</td>\n",
       "      <td>0.50</td>\n",
       "      <td>0.7</td>\n",
       "      <td>0.351001</td>\n",
       "      <td>...</td>\n",
       "      <td>0.0</td>\n",
       "      <td>0.0</td>\n",
       "      <td>0.0</td>\n",
       "      <td>0.0</td>\n",
       "      <td>0.0</td>\n",
       "      <td>0.0</td>\n",
       "      <td>0.0</td>\n",
       "      <td>0.0</td>\n",
       "      <td>0.0</td>\n",
       "      <td>0.0</td>\n",
       "    </tr>\n",
       "    <tr>\n",
       "      <th>...</th>\n",
       "      <td>...</td>\n",
       "      <td>...</td>\n",
       "      <td>...</td>\n",
       "      <td>...</td>\n",
       "      <td>...</td>\n",
       "      <td>...</td>\n",
       "      <td>...</td>\n",
       "      <td>...</td>\n",
       "      <td>...</td>\n",
       "      <td>...</td>\n",
       "      <td>...</td>\n",
       "      <td>...</td>\n",
       "      <td>...</td>\n",
       "      <td>...</td>\n",
       "      <td>...</td>\n",
       "      <td>...</td>\n",
       "      <td>...</td>\n",
       "      <td>...</td>\n",
       "      <td>...</td>\n",
       "      <td>...</td>\n",
       "      <td>...</td>\n",
       "    </tr>\n",
       "    <tr>\n",
       "      <th>6203</th>\n",
       "      <td>0.06250</td>\n",
       "      <td>0.266667</td>\n",
       "      <td>0.257705</td>\n",
       "      <td>0.003970</td>\n",
       "      <td>0.4</td>\n",
       "      <td>0.0</td>\n",
       "      <td>0.0</td>\n",
       "      <td>0.50</td>\n",
       "      <td>0.5</td>\n",
       "      <td>0.215548</td>\n",
       "      <td>...</td>\n",
       "      <td>0.0</td>\n",
       "      <td>0.0</td>\n",
       "      <td>0.0</td>\n",
       "      <td>0.0</td>\n",
       "      <td>0.0</td>\n",
       "      <td>0.0</td>\n",
       "      <td>0.0</td>\n",
       "      <td>0.0</td>\n",
       "      <td>0.0</td>\n",
       "      <td>0.0</td>\n",
       "    </tr>\n",
       "    <tr>\n",
       "      <th>8404</th>\n",
       "      <td>0.06250</td>\n",
       "      <td>0.066667</td>\n",
       "      <td>0.093322</td>\n",
       "      <td>0.025732</td>\n",
       "      <td>0.0</td>\n",
       "      <td>0.0</td>\n",
       "      <td>0.0</td>\n",
       "      <td>0.50</td>\n",
       "      <td>0.4</td>\n",
       "      <td>0.128386</td>\n",
       "      <td>...</td>\n",
       "      <td>0.0</td>\n",
       "      <td>0.0</td>\n",
       "      <td>0.0</td>\n",
       "      <td>1.0</td>\n",
       "      <td>0.0</td>\n",
       "      <td>0.0</td>\n",
       "      <td>0.0</td>\n",
       "      <td>0.0</td>\n",
       "      <td>0.0</td>\n",
       "      <td>0.0</td>\n",
       "    </tr>\n",
       "    <tr>\n",
       "      <th>13185</th>\n",
       "      <td>0.03125</td>\n",
       "      <td>0.066667</td>\n",
       "      <td>0.055651</td>\n",
       "      <td>0.004799</td>\n",
       "      <td>0.0</td>\n",
       "      <td>0.0</td>\n",
       "      <td>1.0</td>\n",
       "      <td>0.75</td>\n",
       "      <td>0.4</td>\n",
       "      <td>0.064782</td>\n",
       "      <td>...</td>\n",
       "      <td>0.0</td>\n",
       "      <td>0.0</td>\n",
       "      <td>0.0</td>\n",
       "      <td>0.0</td>\n",
       "      <td>0.0</td>\n",
       "      <td>0.0</td>\n",
       "      <td>0.0</td>\n",
       "      <td>0.0</td>\n",
       "      <td>0.0</td>\n",
       "      <td>0.0</td>\n",
       "    </tr>\n",
       "    <tr>\n",
       "      <th>3992</th>\n",
       "      <td>0.09375</td>\n",
       "      <td>0.266667</td>\n",
       "      <td>0.205479</td>\n",
       "      <td>0.011265</td>\n",
       "      <td>0.0</td>\n",
       "      <td>0.0</td>\n",
       "      <td>0.0</td>\n",
       "      <td>0.75</td>\n",
       "      <td>0.5</td>\n",
       "      <td>0.144876</td>\n",
       "      <td>...</td>\n",
       "      <td>0.0</td>\n",
       "      <td>0.0</td>\n",
       "      <td>0.0</td>\n",
       "      <td>0.0</td>\n",
       "      <td>0.0</td>\n",
       "      <td>0.0</td>\n",
       "      <td>0.0</td>\n",
       "      <td>0.0</td>\n",
       "      <td>0.0</td>\n",
       "      <td>0.0</td>\n",
       "    </tr>\n",
       "    <tr>\n",
       "      <th>8422</th>\n",
       "      <td>0.09375</td>\n",
       "      <td>0.300000</td>\n",
       "      <td>0.175514</td>\n",
       "      <td>0.004796</td>\n",
       "      <td>0.4</td>\n",
       "      <td>0.0</td>\n",
       "      <td>0.0</td>\n",
       "      <td>0.50</td>\n",
       "      <td>0.5</td>\n",
       "      <td>0.241461</td>\n",
       "      <td>...</td>\n",
       "      <td>0.0</td>\n",
       "      <td>0.0</td>\n",
       "      <td>0.0</td>\n",
       "      <td>0.0</td>\n",
       "      <td>0.0</td>\n",
       "      <td>0.0</td>\n",
       "      <td>0.0</td>\n",
       "      <td>0.0</td>\n",
       "      <td>0.0</td>\n",
       "      <td>0.0</td>\n",
       "    </tr>\n",
       "  </tbody>\n",
       "</table>\n",
       "<p>15117 rows × 83 columns</p>\n",
       "</div>"
      ],
      "text/plain": [
       "       bedrooms  bathrooms  sqft_living  sqft_lot  floors  waterfront  view  \\\n",
       "3913    0.06250   0.066667     0.052226  0.005684     0.0         0.0   0.0   \n",
       "2548    0.09375   0.133333     0.117295  0.007395     0.0         0.0   0.0   \n",
       "3770    0.06250   0.266667     0.091610  0.004119     0.0         0.0   0.0   \n",
       "5170    0.06250   0.166667     0.099315  0.005016     0.0         0.0   0.0   \n",
       "13285   0.09375   0.333333     0.255137  0.120383     0.4         0.0   0.0   \n",
       "...         ...        ...          ...       ...     ...         ...   ...   \n",
       "6203    0.06250   0.266667     0.257705  0.003970     0.4         0.0   0.0   \n",
       "8404    0.06250   0.066667     0.093322  0.025732     0.0         0.0   0.0   \n",
       "13185   0.03125   0.066667     0.055651  0.004799     0.0         0.0   1.0   \n",
       "3992    0.09375   0.266667     0.205479  0.011265     0.0         0.0   0.0   \n",
       "8422    0.09375   0.300000     0.175514  0.004796     0.4         0.0   0.0   \n",
       "\n",
       "       condition  grade  sqft_above  ...  zipcode_98146  zipcode_98148  \\\n",
       "3913        0.75    0.4    0.071849  ...            0.0            0.0   \n",
       "2548        0.75    0.4    0.095406  ...            0.0            0.0   \n",
       "3770        1.00    0.4    0.126031  ...            0.0            0.0   \n",
       "5170        0.75    0.4    0.078916  ...            0.0            0.0   \n",
       "13285       0.50    0.7    0.351001  ...            0.0            0.0   \n",
       "...          ...    ...         ...  ...            ...            ...   \n",
       "6203        0.50    0.5    0.215548  ...            0.0            0.0   \n",
       "8404        0.50    0.4    0.128386  ...            0.0            0.0   \n",
       "13185       0.75    0.4    0.064782  ...            0.0            0.0   \n",
       "3992        0.75    0.5    0.144876  ...            0.0            0.0   \n",
       "8422        0.50    0.5    0.241461  ...            0.0            0.0   \n",
       "\n",
       "       zipcode_98155  zipcode_98166  zipcode_98168  zipcode_98177  \\\n",
       "3913             0.0            0.0            0.0            0.0   \n",
       "2548             0.0            0.0            0.0            0.0   \n",
       "3770             0.0            0.0            0.0            0.0   \n",
       "5170             0.0            0.0            0.0            0.0   \n",
       "13285            0.0            0.0            0.0            0.0   \n",
       "...              ...            ...            ...            ...   \n",
       "6203             0.0            0.0            0.0            0.0   \n",
       "8404             0.0            1.0            0.0            0.0   \n",
       "13185            0.0            0.0            0.0            0.0   \n",
       "3992             0.0            0.0            0.0            0.0   \n",
       "8422             0.0            0.0            0.0            0.0   \n",
       "\n",
       "       zipcode_98178  zipcode_98188  zipcode_98198  zipcode_98199  \n",
       "3913             0.0            0.0            0.0            0.0  \n",
       "2548             0.0            0.0            0.0            0.0  \n",
       "3770             0.0            0.0            0.0            0.0  \n",
       "5170             0.0            0.0            0.0            0.0  \n",
       "13285            0.0            0.0            0.0            0.0  \n",
       "...              ...            ...            ...            ...  \n",
       "6203             0.0            0.0            0.0            0.0  \n",
       "8404             0.0            0.0            0.0            0.0  \n",
       "13185            0.0            0.0            0.0            0.0  \n",
       "3992             0.0            0.0            0.0            0.0  \n",
       "8422             0.0            0.0            0.0            0.0  \n",
       "\n",
       "[15117 rows x 83 columns]"
      ]
     },
     "execution_count": 36,
     "metadata": {},
     "output_type": "execute_result"
    }
   ],
   "source": [
    "## Combine Num and Cat Cols\n",
    "\n",
    "X_train_tf = pd.concat([train_num_cols,train_cat_cols],axis=1)\n",
    "X_test_tf = pd.concat([test_num_cols,test_cat_cols],axis=1)\n",
    "\n",
    "X_train_tf"
   ]
  },
  {
   "cell_type": "code",
   "execution_count": 37,
   "metadata": {
    "ExecuteTime": {
     "end_time": "2021-05-05T15:59:12.172715Z",
     "start_time": "2021-05-05T15:59:12.132857Z"
    }
   },
   "outputs": [
    {
     "name": "stdout",
     "output_type": "stream",
     "text": [
      "1.0\n",
      "0.0\n"
     ]
    }
   ],
   "source": [
    "## confirming no values above 1\n",
    "print(X_train_tf.max().max())\n",
    "print(X_train_tf.min().min())"
   ]
  },
  {
   "cell_type": "code",
   "execution_count": 38,
   "metadata": {
    "ExecuteTime": {
     "end_time": "2021-05-05T15:59:12.182154Z",
     "start_time": "2021-05-05T15:59:12.175393Z"
    }
   },
   "outputs": [
    {
     "data": {
      "text/plain": [
       "{'linear': LinearRegression(),\n",
       " 'ridge': Ridge(alpha=0.5),\n",
       " 'lasso': Lasso(alpha=0.5)}"
      ]
     },
     "execution_count": 38,
     "metadata": {},
     "output_type": "execute_result"
    }
   ],
   "source": [
    "## Use a dictionary to store our models\n",
    "models_to_make = dict( linear=LinearRegression(),\n",
    "                     ridge=Ridge(alpha=0.5),\n",
    "                     lasso = Lasso(alpha=0.5))\n",
    "\n",
    "models_to_make"
   ]
  },
  {
   "cell_type": "code",
   "execution_count": 39,
   "metadata": {
    "ExecuteTime": {
     "end_time": "2021-05-05T15:59:16.772625Z",
     "start_time": "2021-05-05T15:59:12.184962Z"
    }
   },
   "outputs": [
    {
     "name": "stderr",
     "output_type": "stream",
     "text": [
      "/opt/anaconda3/envs/learn-env-new/lib/python3.8/site-packages/sklearn/linear_model/_coordinate_descent.py:529: ConvergenceWarning: Objective did not converge. You might want to increase the number of iterations. Duality gap: 28909230157719.5, tolerance: 207362431630.14435\n",
      "  model = cd_fast.enet_coordinate_descent(\n"
     ]
    },
    {
     "data": {
      "text/html": [
       "<div>\n",
       "<style scoped>\n",
       "    .dataframe tbody tr th:only-of-type {\n",
       "        vertical-align: middle;\n",
       "    }\n",
       "\n",
       "    .dataframe tbody tr th {\n",
       "        vertical-align: top;\n",
       "    }\n",
       "\n",
       "    .dataframe thead th {\n",
       "        text-align: right;\n",
       "    }\n",
       "</style>\n",
       "<table border=\"1\" class=\"dataframe\">\n",
       "  <thead>\n",
       "    <tr style=\"text-align: right;\">\n",
       "      <th></th>\n",
       "      <th></th>\n",
       "      <th>R2</th>\n",
       "      <th>RMSE</th>\n",
       "    </tr>\n",
       "    <tr>\n",
       "      <th>Type</th>\n",
       "      <th>Data</th>\n",
       "      <th></th>\n",
       "      <th></th>\n",
       "    </tr>\n",
       "  </thead>\n",
       "  <tbody>\n",
       "    <tr>\n",
       "      <th rowspan=\"2\" valign=\"top\">linear</th>\n",
       "      <th>Train</th>\n",
       "      <td>0.806</td>\n",
       "      <td>163243.616</td>\n",
       "    </tr>\n",
       "    <tr>\n",
       "      <th>Test</th>\n",
       "      <td>0.803</td>\n",
       "      <td>159765.824</td>\n",
       "    </tr>\n",
       "    <tr>\n",
       "      <th rowspan=\"2\" valign=\"top\">ridge</th>\n",
       "      <th>Train</th>\n",
       "      <td>0.806</td>\n",
       "      <td>163258.441</td>\n",
       "    </tr>\n",
       "    <tr>\n",
       "      <th>Test</th>\n",
       "      <td>0.803</td>\n",
       "      <td>159690.611</td>\n",
       "    </tr>\n",
       "    <tr>\n",
       "      <th rowspan=\"2\" valign=\"top\">lasso</th>\n",
       "      <th>Train</th>\n",
       "      <td>0.806</td>\n",
       "      <td>163243.632</td>\n",
       "    </tr>\n",
       "    <tr>\n",
       "      <th>Test</th>\n",
       "      <td>0.803</td>\n",
       "      <td>159765.580</td>\n",
       "    </tr>\n",
       "  </tbody>\n",
       "</table>\n",
       "</div>"
      ],
      "text/plain": [
       "                 R2        RMSE\n",
       "Type   Data                    \n",
       "linear Train  0.806  163243.616\n",
       "       Test   0.803  159765.824\n",
       "ridge  Train  0.806  163258.441\n",
       "       Test   0.803  159690.611\n",
       "lasso  Train  0.806  163243.632\n",
       "       Test   0.803  159765.580"
      ]
     },
     "execution_count": 39,
     "metadata": {},
     "output_type": "execute_result"
    }
   ],
   "source": [
    "## Loop through models_to_make and save all results\n",
    "\n",
    "## Create an empty list to store result dfs\n",
    "results = []\n",
    "## Create an empty dict to store fit models\n",
    "fit_models={}\n",
    "\n",
    "for model_type,mod in models_to_make.items():\n",
    "\n",
    "    ## get model results and fit model using make_model\n",
    "    res, mod = make_model(mod, X_train_tf , X_test_tf, y_train, y_test)\n",
    "    ## Add model type as column to res\n",
    "    res['Type'] = model_type\n",
    "    \n",
    "    ## Save df to list \n",
    "    results.append(res)\n",
    "    \n",
    "    ## Save fit model to models dict \n",
    "    fit_models[model_type] = mod\n",
    "\n",
    "    \n",
    "## Concatenate results \n",
    "df_res = pd.concat(results)\n",
    "df_res.set_index(['Type',\"Data\"],inplace=True)\n",
    "df_res"
   ]
  },
  {
   "cell_type": "code",
   "execution_count": 40,
   "metadata": {
    "ExecuteTime": {
     "end_time": "2021-05-05T15:59:16.784823Z",
     "start_time": "2021-05-05T15:59:16.774563Z"
    }
   },
   "outputs": [
    {
     "data": {
      "text/html": [
       "<style  type=\"text/css\" >\n",
       "#T_d834dc84_adba_11eb_8028_acde48001122row0_col0,#T_d834dc84_adba_11eb_8028_acde48001122row2_col0,#T_d834dc84_adba_11eb_8028_acde48001122row4_col0{\n",
       "            background-color:  #023858;\n",
       "            color:  #f1f1f1;\n",
       "        }#T_d834dc84_adba_11eb_8028_acde48001122row1_col0,#T_d834dc84_adba_11eb_8028_acde48001122row3_col0,#T_d834dc84_adba_11eb_8028_acde48001122row5_col0{\n",
       "            background-color:  #fff7fb;\n",
       "            color:  #000000;\n",
       "        }</style><table id=\"T_d834dc84_adba_11eb_8028_acde48001122\" ><thead>    <tr>        <th class=\"blank\" ></th>        <th class=\"blank level0\" ></th>        <th class=\"col_heading level0 col0\" >R2</th>        <th class=\"col_heading level0 col1\" >RMSE</th>    </tr>    <tr>        <th class=\"index_name level0\" >Type</th>        <th class=\"index_name level1\" >Data</th>        <th class=\"blank\" ></th>        <th class=\"blank\" ></th>    </tr></thead><tbody>\n",
       "                <tr>\n",
       "                        <th id=\"T_d834dc84_adba_11eb_8028_acde48001122level0_row0\" class=\"row_heading level0 row0\" rowspan=2>linear</th>\n",
       "                        <th id=\"T_d834dc84_adba_11eb_8028_acde48001122level1_row0\" class=\"row_heading level1 row0\" >Train</th>\n",
       "                        <td id=\"T_d834dc84_adba_11eb_8028_acde48001122row0_col0\" class=\"data row0 col0\" >0.806000</td>\n",
       "                        <td id=\"T_d834dc84_adba_11eb_8028_acde48001122row0_col1\" class=\"data row0 col1\" >163243.616000</td>\n",
       "            </tr>\n",
       "            <tr>\n",
       "                                <th id=\"T_d834dc84_adba_11eb_8028_acde48001122level1_row1\" class=\"row_heading level1 row1\" >Test</th>\n",
       "                        <td id=\"T_d834dc84_adba_11eb_8028_acde48001122row1_col0\" class=\"data row1 col0\" >0.803000</td>\n",
       "                        <td id=\"T_d834dc84_adba_11eb_8028_acde48001122row1_col1\" class=\"data row1 col1\" >159765.824000</td>\n",
       "            </tr>\n",
       "            <tr>\n",
       "                        <th id=\"T_d834dc84_adba_11eb_8028_acde48001122level0_row2\" class=\"row_heading level0 row2\" rowspan=2>ridge</th>\n",
       "                        <th id=\"T_d834dc84_adba_11eb_8028_acde48001122level1_row2\" class=\"row_heading level1 row2\" >Train</th>\n",
       "                        <td id=\"T_d834dc84_adba_11eb_8028_acde48001122row2_col0\" class=\"data row2 col0\" >0.806000</td>\n",
       "                        <td id=\"T_d834dc84_adba_11eb_8028_acde48001122row2_col1\" class=\"data row2 col1\" >163258.441000</td>\n",
       "            </tr>\n",
       "            <tr>\n",
       "                                <th id=\"T_d834dc84_adba_11eb_8028_acde48001122level1_row3\" class=\"row_heading level1 row3\" >Test</th>\n",
       "                        <td id=\"T_d834dc84_adba_11eb_8028_acde48001122row3_col0\" class=\"data row3 col0\" >0.803000</td>\n",
       "                        <td id=\"T_d834dc84_adba_11eb_8028_acde48001122row3_col1\" class=\"data row3 col1\" >159690.611000</td>\n",
       "            </tr>\n",
       "            <tr>\n",
       "                        <th id=\"T_d834dc84_adba_11eb_8028_acde48001122level0_row4\" class=\"row_heading level0 row4\" rowspan=2>lasso</th>\n",
       "                        <th id=\"T_d834dc84_adba_11eb_8028_acde48001122level1_row4\" class=\"row_heading level1 row4\" >Train</th>\n",
       "                        <td id=\"T_d834dc84_adba_11eb_8028_acde48001122row4_col0\" class=\"data row4 col0\" >0.806000</td>\n",
       "                        <td id=\"T_d834dc84_adba_11eb_8028_acde48001122row4_col1\" class=\"data row4 col1\" >163243.632000</td>\n",
       "            </tr>\n",
       "            <tr>\n",
       "                                <th id=\"T_d834dc84_adba_11eb_8028_acde48001122level1_row5\" class=\"row_heading level1 row5\" >Test</th>\n",
       "                        <td id=\"T_d834dc84_adba_11eb_8028_acde48001122row5_col0\" class=\"data row5 col0\" >0.803000</td>\n",
       "                        <td id=\"T_d834dc84_adba_11eb_8028_acde48001122row5_col1\" class=\"data row5 col1\" >159765.580000</td>\n",
       "            </tr>\n",
       "    </tbody></table>"
      ],
      "text/plain": [
       "<pandas.io.formats.style.Styler at 0x7fb788063940>"
      ]
     },
     "execution_count": 40,
     "metadata": {},
     "output_type": "execute_result"
    }
   ],
   "source": [
    "## Use styling to make it easier to find the best scores.\n",
    "df_res.style.background_gradient(subset=['R2'])#.highlight_max('R2')"
   ]
  },
  {
   "cell_type": "code",
   "execution_count": 41,
   "metadata": {
    "ExecuteTime": {
     "end_time": "2021-05-05T15:59:16.790607Z",
     "start_time": "2021-05-05T15:59:16.786915Z"
    }
   },
   "outputs": [
    {
     "data": {
      "text/plain": [
       "(15117, 83)"
      ]
     },
     "execution_count": 41,
     "metadata": {},
     "output_type": "execute_result"
    }
   ],
   "source": [
    "X_train_tf.shape"
   ]
  },
  {
   "cell_type": "markdown",
   "metadata": {},
   "source": [
    "## Bookmark - solving errrors"
   ]
  },
  {
   "cell_type": "code",
   "execution_count": 42,
   "metadata": {
    "ExecuteTime": {
     "end_time": "2021-05-05T15:59:16.801629Z",
     "start_time": "2021-05-05T15:59:16.792454Z"
    }
   },
   "outputs": [
    {
     "data": {
      "text/plain": [
       "bedrooms        -8.995123e+05\n",
       "bathrooms        1.339762e+05\n",
       "sqft_living      1.204417e+06\n",
       "sqft_lot         3.332377e+05\n",
       "floors          -1.497513e+05\n",
       "                     ...     \n",
       "zipcode_98178   -1.449532e+05\n",
       "zipcode_98188   -1.530817e+05\n",
       "zipcode_98198   -1.901369e+05\n",
       "zipcode_98199    2.110282e+05\n",
       "intercept       -7.449903e+04\n",
       "Name: LingReg Coeffs, Length: 84, dtype: float64"
      ]
     },
     "execution_count": 42,
     "metadata": {},
     "output_type": "execute_result"
    }
   ],
   "source": [
    "## Turn get_coefficients into function\n",
    "def get_coefficients(model, X, name='Coeffs'):\n",
    "    ## Make a series of coefficients (including intercept)\n",
    "    try:\n",
    "        coeffs = model.coef_.flatten()\n",
    "    except:\n",
    "        coeffs = model.coef_[0]\n",
    "    coeffs = pd.Series(coeffs, index=X.columns,\n",
    "                      name='LingReg Coeffs')\n",
    "    \n",
    "    \n",
    "    ## Version 2 - Update after seeing that the shape of coeffs_ \n",
    "    ## is different for lasso coeffs\n",
    "    try:\n",
    "        coeffs['intercept'] = model.intercept_[0]\n",
    "    except:\n",
    "        coeffs['intercept'] = model.intercept_\n",
    "        \n",
    "    return coeffs\n",
    "\n",
    "## Test our function\n",
    "\n",
    "coeffs_func = get_coefficients(fit_models['lasso'],X_train_tf, name='Lasso')\n",
    "coeffs_func"
   ]
  },
  {
   "cell_type": "code",
   "execution_count": 43,
   "metadata": {
    "ExecuteTime": {
     "end_time": "2021-05-05T15:59:16.819254Z",
     "start_time": "2021-05-05T15:59:16.803732Z"
    }
   },
   "outputs": [
    {
     "data": {
      "text/html": [
       "<div>\n",
       "<style scoped>\n",
       "    .dataframe tbody tr th:only-of-type {\n",
       "        vertical-align: middle;\n",
       "    }\n",
       "\n",
       "    .dataframe tbody tr th {\n",
       "        vertical-align: top;\n",
       "    }\n",
       "\n",
       "    .dataframe thead th {\n",
       "        text-align: right;\n",
       "    }\n",
       "</style>\n",
       "<table border=\"1\" class=\"dataframe\">\n",
       "  <thead>\n",
       "    <tr style=\"text-align: right;\">\n",
       "      <th></th>\n",
       "      <th>linear</th>\n",
       "      <th>ridge</th>\n",
       "      <th>lasso</th>\n",
       "    </tr>\n",
       "  </thead>\n",
       "  <tbody>\n",
       "    <tr>\n",
       "      <th>bedrooms</th>\n",
       "      <td>-9.006925e+05</td>\n",
       "      <td>-8.351362e+05</td>\n",
       "      <td>-8.995123e+05</td>\n",
       "    </tr>\n",
       "    <tr>\n",
       "      <th>bathrooms</th>\n",
       "      <td>1.341499e+05</td>\n",
       "      <td>1.356731e+05</td>\n",
       "      <td>1.339762e+05</td>\n",
       "    </tr>\n",
       "    <tr>\n",
       "      <th>sqft_living</th>\n",
       "      <td>1.202107e+06</td>\n",
       "      <td>1.061063e+06</td>\n",
       "      <td>1.204417e+06</td>\n",
       "    </tr>\n",
       "    <tr>\n",
       "      <th>sqft_lot</th>\n",
       "      <td>3.358200e+05</td>\n",
       "      <td>3.006712e+05</td>\n",
       "      <td>3.332377e+05</td>\n",
       "    </tr>\n",
       "    <tr>\n",
       "      <th>floors</th>\n",
       "      <td>-1.498327e+05</td>\n",
       "      <td>-1.489442e+05</td>\n",
       "      <td>-1.497513e+05</td>\n",
       "    </tr>\n",
       "    <tr>\n",
       "      <th>...</th>\n",
       "      <td>...</td>\n",
       "      <td>...</td>\n",
       "      <td>...</td>\n",
       "    </tr>\n",
       "    <tr>\n",
       "      <th>zipcode_98178</th>\n",
       "      <td>-2.874502e+14</td>\n",
       "      <td>-1.584830e+05</td>\n",
       "      <td>-1.449532e+05</td>\n",
       "    </tr>\n",
       "    <tr>\n",
       "      <th>zipcode_98188</th>\n",
       "      <td>-2.874502e+14</td>\n",
       "      <td>-1.662992e+05</td>\n",
       "      <td>-1.530817e+05</td>\n",
       "    </tr>\n",
       "    <tr>\n",
       "      <th>zipcode_98198</th>\n",
       "      <td>-2.874502e+14</td>\n",
       "      <td>-2.033487e+05</td>\n",
       "      <td>-1.901369e+05</td>\n",
       "    </tr>\n",
       "    <tr>\n",
       "      <th>zipcode_98199</th>\n",
       "      <td>-2.874502e+14</td>\n",
       "      <td>1.967180e+05</td>\n",
       "      <td>2.110282e+05</td>\n",
       "    </tr>\n",
       "    <tr>\n",
       "      <th>intercept</th>\n",
       "      <td>2.874502e+14</td>\n",
       "      <td>-6.573631e+04</td>\n",
       "      <td>-7.449903e+04</td>\n",
       "    </tr>\n",
       "  </tbody>\n",
       "</table>\n",
       "<p>84 rows × 3 columns</p>\n",
       "</div>"
      ],
      "text/plain": [
       "                     linear         ridge         lasso\n",
       "bedrooms      -9.006925e+05 -8.351362e+05 -8.995123e+05\n",
       "bathrooms      1.341499e+05  1.356731e+05  1.339762e+05\n",
       "sqft_living    1.202107e+06  1.061063e+06  1.204417e+06\n",
       "sqft_lot       3.358200e+05  3.006712e+05  3.332377e+05\n",
       "floors        -1.498327e+05 -1.489442e+05 -1.497513e+05\n",
       "...                     ...           ...           ...\n",
       "zipcode_98178 -2.874502e+14 -1.584830e+05 -1.449532e+05\n",
       "zipcode_98188 -2.874502e+14 -1.662992e+05 -1.530817e+05\n",
       "zipcode_98198 -2.874502e+14 -2.033487e+05 -1.901369e+05\n",
       "zipcode_98199 -2.874502e+14  1.967180e+05  2.110282e+05\n",
       "intercept      2.874502e+14 -6.573631e+04 -7.449903e+04\n",
       "\n",
       "[84 rows x 3 columns]"
      ]
     },
     "execution_count": 43,
     "metadata": {},
     "output_type": "execute_result"
    }
   ],
   "source": [
    "## Get coefficients\n",
    "dict_comp= {k:get_coefficients(mod,X_train_tf,k) for k,mod in fit_models.items() }\n",
    "coeffs_df = pd.DataFrame(dict_comp)\n",
    "coeffs_df#.style.background_gradient()"
   ]
  },
  {
   "cell_type": "code",
   "execution_count": 44,
   "metadata": {
    "ExecuteTime": {
     "end_time": "2021-05-05T15:59:16.862859Z",
     "start_time": "2021-05-05T15:59:16.821666Z"
    }
   },
   "outputs": [
    {
     "data": {
      "text/html": [
       "<div>\n",
       "<style scoped>\n",
       "    .dataframe tbody tr th:only-of-type {\n",
       "        vertical-align: middle;\n",
       "    }\n",
       "\n",
       "    .dataframe tbody tr th {\n",
       "        vertical-align: top;\n",
       "    }\n",
       "\n",
       "    .dataframe thead th {\n",
       "        text-align: right;\n",
       "    }\n",
       "</style>\n",
       "<table border=\"1\" class=\"dataframe\">\n",
       "  <thead>\n",
       "    <tr style=\"text-align: right;\">\n",
       "      <th></th>\n",
       "      <th>bedrooms</th>\n",
       "      <th>bathrooms</th>\n",
       "      <th>sqft_living</th>\n",
       "      <th>sqft_lot</th>\n",
       "      <th>floors</th>\n",
       "      <th>waterfront</th>\n",
       "      <th>view</th>\n",
       "      <th>condition</th>\n",
       "      <th>grade</th>\n",
       "      <th>sqft_above</th>\n",
       "      <th>...</th>\n",
       "      <th>zipcode_98148</th>\n",
       "      <th>zipcode_98155</th>\n",
       "      <th>zipcode_98166</th>\n",
       "      <th>zipcode_98168</th>\n",
       "      <th>zipcode_98177</th>\n",
       "      <th>zipcode_98178</th>\n",
       "      <th>zipcode_98188</th>\n",
       "      <th>zipcode_98198</th>\n",
       "      <th>zipcode_98199</th>\n",
       "      <th>intercept</th>\n",
       "    </tr>\n",
       "  </thead>\n",
       "  <tbody>\n",
       "    <tr>\n",
       "      <th>linear</th>\n",
       "      <td>-900692.47</td>\n",
       "      <td>134149.88</td>\n",
       "      <td>1202107.08</td>\n",
       "      <td>335820.01</td>\n",
       "      <td>-149832.74</td>\n",
       "      <td>700569.98</td>\n",
       "      <td>239108.19</td>\n",
       "      <td>111899.54</td>\n",
       "      <td>478962.76</td>\n",
       "      <td>1016111.00</td>\n",
       "      <td>...</td>\n",
       "      <td>-2.874502e+14</td>\n",
       "      <td>-2.874502e+14</td>\n",
       "      <td>-2.874502e+14</td>\n",
       "      <td>-2.874502e+14</td>\n",
       "      <td>-2.874502e+14</td>\n",
       "      <td>-2.874502e+14</td>\n",
       "      <td>-2.874502e+14</td>\n",
       "      <td>-2.874502e+14</td>\n",
       "      <td>-2.874502e+14</td>\n",
       "      <td>2.874502e+14</td>\n",
       "    </tr>\n",
       "    <tr>\n",
       "      <th>ridge</th>\n",
       "      <td>-835136.25</td>\n",
       "      <td>135673.08</td>\n",
       "      <td>1061062.74</td>\n",
       "      <td>300671.19</td>\n",
       "      <td>-148944.25</td>\n",
       "      <td>697234.46</td>\n",
       "      <td>240283.05</td>\n",
       "      <td>112079.32</td>\n",
       "      <td>485740.77</td>\n",
       "      <td>1092400.38</td>\n",
       "      <td>...</td>\n",
       "      <td>-1.252016e+05</td>\n",
       "      <td>-4.912928e+04</td>\n",
       "      <td>-1.280491e+05</td>\n",
       "      <td>-1.202821e+05</td>\n",
       "      <td>2.430229e+04</td>\n",
       "      <td>-1.584830e+05</td>\n",
       "      <td>-1.662992e+05</td>\n",
       "      <td>-2.033487e+05</td>\n",
       "      <td>1.967180e+05</td>\n",
       "      <td>-6.573631e+04</td>\n",
       "    </tr>\n",
       "    <tr>\n",
       "      <th>lasso</th>\n",
       "      <td>-899512.27</td>\n",
       "      <td>133976.20</td>\n",
       "      <td>1204417.18</td>\n",
       "      <td>333237.70</td>\n",
       "      <td>-149751.34</td>\n",
       "      <td>700470.33</td>\n",
       "      <td>239139.56</td>\n",
       "      <td>111895.59</td>\n",
       "      <td>479175.52</td>\n",
       "      <td>1014061.61</td>\n",
       "      <td>...</td>\n",
       "      <td>-1.128857e+05</td>\n",
       "      <td>-3.509364e+04</td>\n",
       "      <td>-1.148523e+05</td>\n",
       "      <td>-1.073750e+05</td>\n",
       "      <td>3.807279e+04</td>\n",
       "      <td>-1.449532e+05</td>\n",
       "      <td>-1.530817e+05</td>\n",
       "      <td>-1.901369e+05</td>\n",
       "      <td>2.110282e+05</td>\n",
       "      <td>-7.449903e+04</td>\n",
       "    </tr>\n",
       "  </tbody>\n",
       "</table>\n",
       "<p>3 rows × 84 columns</p>\n",
       "</div>"
      ],
      "text/plain": [
       "         bedrooms  bathrooms  sqft_living   sqft_lot     floors  waterfront  \\\n",
       "linear -900692.47  134149.88   1202107.08  335820.01 -149832.74   700569.98   \n",
       "ridge  -835136.25  135673.08   1061062.74  300671.19 -148944.25   697234.46   \n",
       "lasso  -899512.27  133976.20   1204417.18  333237.70 -149751.34   700470.33   \n",
       "\n",
       "             view  condition      grade  sqft_above  ...  zipcode_98148  \\\n",
       "linear  239108.19  111899.54  478962.76  1016111.00  ...  -2.874502e+14   \n",
       "ridge   240283.05  112079.32  485740.77  1092400.38  ...  -1.252016e+05   \n",
       "lasso   239139.56  111895.59  479175.52  1014061.61  ...  -1.128857e+05   \n",
       "\n",
       "        zipcode_98155  zipcode_98166  zipcode_98168  zipcode_98177  \\\n",
       "linear  -2.874502e+14  -2.874502e+14  -2.874502e+14  -2.874502e+14   \n",
       "ridge   -4.912928e+04  -1.280491e+05  -1.202821e+05   2.430229e+04   \n",
       "lasso   -3.509364e+04  -1.148523e+05  -1.073750e+05   3.807279e+04   \n",
       "\n",
       "        zipcode_98178  zipcode_98188  zipcode_98198  zipcode_98199  \\\n",
       "linear  -2.874502e+14  -2.874502e+14  -2.874502e+14  -2.874502e+14   \n",
       "ridge   -1.584830e+05  -1.662992e+05  -2.033487e+05   1.967180e+05   \n",
       "lasso   -1.449532e+05  -1.530817e+05  -1.901369e+05   2.110282e+05   \n",
       "\n",
       "           intercept  \n",
       "linear  2.874502e+14  \n",
       "ridge  -6.573631e+04  \n",
       "lasso  -7.449903e+04  \n",
       "\n",
       "[3 rows x 84 columns]"
      ]
     },
     "execution_count": 44,
     "metadata": {},
     "output_type": "execute_result"
    }
   ],
   "source": [
    "## Tanspose df and round\n",
    "coeffs_df.T.round(2)"
   ]
  },
  {
   "cell_type": "code",
   "execution_count": 45,
   "metadata": {
    "ExecuteTime": {
     "end_time": "2021-05-05T15:59:16.869202Z",
     "start_time": "2021-05-05T15:59:16.864470Z"
    }
   },
   "outputs": [
    {
     "data": {
      "text/plain": [
       "Series([], Name: lasso, dtype: float64)"
      ]
     },
     "execution_count": 45,
     "metadata": {},
     "output_type": "execute_result"
    }
   ],
   "source": [
    "lasso_coeffs = coeffs_df['lasso']\n",
    "lasso_coeffs[lasso_coeffs.round(2) == 0.0]"
   ]
  },
  {
   "cell_type": "markdown",
   "metadata": {},
   "source": [
    "# APPENDIX - Feature Selection"
   ]
  },
  {
   "cell_type": "markdown",
   "metadata": {},
   "source": [
    "\n",
    "[Lesson](https://github.com/learn-co-curriculum/dsc-feature-selection-methods)"
   ]
  },
  {
   "cell_type": "markdown",
   "metadata": {},
   "source": [
    "- If we don't get to it today, we will revisit feature selection during Phase 3 Project week."
   ]
  },
  {
   "cell_type": "markdown",
   "metadata": {},
   "source": [
    "## Types of Feature Selection "
   ]
  },
  {
   "cell_type": "markdown",
   "metadata": {},
   "source": [
    "* Domain knowledge\n",
    "* Wrapper methods\n",
    "* Filter methods\n",
    "* Embedded methods\n",
    "\n",
    "> ### Wrapper Methods\n",
    "<img src=\"https://raw.githubusercontent.com/jirvingphd/dsc-feature-selection-methods-online-ds-pt-100719/master/images/new_wrapper.png\">\n",
    "\n",
    "\n",
    "> ### Filter Methods\n",
    "<img src=\"https://raw.githubusercontent.com/jirvingphd/dsc-feature-selection-methods-online-ds-pt-100719/master/images/new_filter.png\">\n",
    "\n",
    "\n",
    "> ### Embed Methods\n",
    "<img src=\"https://raw.githubusercontent.com/jirvingphd/dsc-feature-selection-methods-online-ds-pt-100719/master/images/new_embedded.png\">"
   ]
  },
  {
   "cell_type": "markdown",
   "metadata": {},
   "source": [
    "## ACTIVITY"
   ]
  },
  {
   "cell_type": "markdown",
   "metadata": {},
   "source": [
    "[**Rewrite Feature Selection Methods Lesson to easily capture and compare results across methods.**](https://github.com/learn-co-curriculum/dsc-feature-selection-methods)\n"
   ]
  },
  {
   "cell_type": "code",
   "execution_count": 46,
   "metadata": {
    "ExecuteTime": {
     "end_time": "2021-05-05T15:59:17.076685Z",
     "start_time": "2021-05-05T15:59:16.871127Z"
    }
   },
   "outputs": [],
   "source": [
    "## Feature Selection Dataset\n",
    "data= \"https://raw.githubusercontent.com/learn-co-students/dsc-feature-selection-methods-online-ds-pt-100719/master/diabetes.tab.txt\"\n",
    "df = pd.read_csv(data,sep='\\t')"
   ]
  },
  {
   "cell_type": "code",
   "execution_count": 47,
   "metadata": {
    "ExecuteTime": {
     "end_time": "2021-05-05T15:59:17.082579Z",
     "start_time": "2021-05-05T15:59:17.078380Z"
    }
   },
   "outputs": [],
   "source": [
    "## Make a new version of make_model that also adds a note column to results\n",
    "def run_model(model,X_train,X_test,y_train,y_test,note=''):\n",
    "    \"\"\"Takes a sklearn model and train/test data to fit model, \n",
    "    get R2 and RMSE for both the training and test data.\n",
    "    \n",
    "    Returns:\n",
    "        DataFrame: results as a df\n",
    "        model: fit scikit-learn model itself\"\"\"\n",
    "    \n",
    "    res= [['Data','R2','RMSE']]\n",
    "    model.fit(X_train, y_train)\n",
    "    # Generate preditions for training and test sets\n",
    "    y_hat_train = model.predict(X_train)\n",
    "    y_hat_test = model.predict(X_test)\n",
    "    \n",
    "    r2_train = r2_score(y_train,y_hat_train)\n",
    "    r2_test = r2_score(y_test,y_hat_test)\n",
    "    \n",
    "    rmse_train = np.sqrt(mean_squared_error(y_train,y_hat_train))\n",
    "    rmse_test = np.sqrt(mean_squared_error(y_test,y_hat_test))\n",
    "    res.append(['Train', r2_train, rmse_train] )\n",
    "    res.append(['Test', r2_test, rmse_test] )\n",
    "    \n",
    "    res_df = pd.DataFrame(res[1:], columns=res[0]).round(4)\n",
    "    res_df['Note'] = note\n",
    "    return res_df#, model\n",
    "    "
   ]
  },
  {
   "cell_type": "code",
   "execution_count": 48,
   "metadata": {
    "ExecuteTime": {
     "end_time": "2021-05-05T15:59:17.100063Z",
     "start_time": "2021-05-05T15:59:17.084509Z"
    }
   },
   "outputs": [
    {
     "data": {
      "text/html": [
       "<div>\n",
       "<style scoped>\n",
       "    .dataframe tbody tr th:only-of-type {\n",
       "        vertical-align: middle;\n",
       "    }\n",
       "\n",
       "    .dataframe tbody tr th {\n",
       "        vertical-align: top;\n",
       "    }\n",
       "\n",
       "    .dataframe thead th {\n",
       "        text-align: right;\n",
       "    }\n",
       "</style>\n",
       "<table border=\"1\" class=\"dataframe\">\n",
       "  <thead>\n",
       "    <tr style=\"text-align: right;\">\n",
       "      <th></th>\n",
       "      <th>AGE</th>\n",
       "      <th>BMI</th>\n",
       "      <th>BP</th>\n",
       "      <th>S1</th>\n",
       "      <th>S2</th>\n",
       "      <th>S3</th>\n",
       "      <th>S4</th>\n",
       "      <th>S5</th>\n",
       "      <th>S6</th>\n",
       "      <th>female</th>\n",
       "    </tr>\n",
       "  </thead>\n",
       "  <tbody>\n",
       "    <tr>\n",
       "      <th>0</th>\n",
       "      <td>59</td>\n",
       "      <td>32.1</td>\n",
       "      <td>101.0</td>\n",
       "      <td>157</td>\n",
       "      <td>93.2</td>\n",
       "      <td>38.0</td>\n",
       "      <td>4.0</td>\n",
       "      <td>4.8598</td>\n",
       "      <td>87</td>\n",
       "      <td>1</td>\n",
       "    </tr>\n",
       "    <tr>\n",
       "      <th>1</th>\n",
       "      <td>48</td>\n",
       "      <td>21.6</td>\n",
       "      <td>87.0</td>\n",
       "      <td>183</td>\n",
       "      <td>103.2</td>\n",
       "      <td>70.0</td>\n",
       "      <td>3.0</td>\n",
       "      <td>3.8918</td>\n",
       "      <td>69</td>\n",
       "      <td>0</td>\n",
       "    </tr>\n",
       "    <tr>\n",
       "      <th>2</th>\n",
       "      <td>72</td>\n",
       "      <td>30.5</td>\n",
       "      <td>93.0</td>\n",
       "      <td>156</td>\n",
       "      <td>93.6</td>\n",
       "      <td>41.0</td>\n",
       "      <td>4.0</td>\n",
       "      <td>4.6728</td>\n",
       "      <td>85</td>\n",
       "      <td>1</td>\n",
       "    </tr>\n",
       "    <tr>\n",
       "      <th>3</th>\n",
       "      <td>24</td>\n",
       "      <td>25.3</td>\n",
       "      <td>84.0</td>\n",
       "      <td>198</td>\n",
       "      <td>131.4</td>\n",
       "      <td>40.0</td>\n",
       "      <td>5.0</td>\n",
       "      <td>4.8903</td>\n",
       "      <td>89</td>\n",
       "      <td>0</td>\n",
       "    </tr>\n",
       "    <tr>\n",
       "      <th>4</th>\n",
       "      <td>50</td>\n",
       "      <td>23.0</td>\n",
       "      <td>101.0</td>\n",
       "      <td>192</td>\n",
       "      <td>125.4</td>\n",
       "      <td>52.0</td>\n",
       "      <td>4.0</td>\n",
       "      <td>4.2905</td>\n",
       "      <td>80</td>\n",
       "      <td>0</td>\n",
       "    </tr>\n",
       "  </tbody>\n",
       "</table>\n",
       "</div>"
      ],
      "text/plain": [
       "   AGE   BMI     BP   S1     S2    S3   S4      S5  S6  female\n",
       "0   59  32.1  101.0  157   93.2  38.0  4.0  4.8598  87       1\n",
       "1   48  21.6   87.0  183  103.2  70.0  3.0  3.8918  69       0\n",
       "2   72  30.5   93.0  156   93.6  41.0  4.0  4.6728  85       1\n",
       "3   24  25.3   84.0  198  131.4  40.0  5.0  4.8903  89       0\n",
       "4   50  23.0  101.0  192  125.4  52.0  4.0  4.2905  80       0"
      ]
     },
     "execution_count": 48,
     "metadata": {},
     "output_type": "execute_result"
    }
   ],
   "source": [
    "from sklearn.model_selection import train_test_split\n",
    "from sklearn import metrics\n",
    "from sklearn.linear_model import LinearRegression\n",
    "\n",
    "# Obtain the target and features from the DataFrame\n",
    "target = df['Y']\n",
    "features = df.drop(columns='Y')\n",
    "\n",
    "# Create dummy variable for sex\n",
    "features['female'] = pd.get_dummies(features['SEX'], drop_first=True)\n",
    "features.drop(columns=['SEX'], inplace=True)\n",
    "features.head()"
   ]
  },
  {
   "cell_type": "code",
   "execution_count": 49,
   "metadata": {
    "ExecuteTime": {
     "end_time": "2021-05-05T15:59:17.123621Z",
     "start_time": "2021-05-05T15:59:17.102026Z"
    }
   },
   "outputs": [
    {
     "data": {
      "text/html": [
       "<div>\n",
       "<style scoped>\n",
       "    .dataframe tbody tr th:only-of-type {\n",
       "        vertical-align: middle;\n",
       "    }\n",
       "\n",
       "    .dataframe tbody tr th {\n",
       "        vertical-align: top;\n",
       "    }\n",
       "\n",
       "    .dataframe thead th {\n",
       "        text-align: right;\n",
       "    }\n",
       "</style>\n",
       "<table border=\"1\" class=\"dataframe\">\n",
       "  <thead>\n",
       "    <tr style=\"text-align: right;\">\n",
       "      <th></th>\n",
       "      <th>AGE</th>\n",
       "      <th>BMI</th>\n",
       "      <th>BP</th>\n",
       "      <th>S1</th>\n",
       "      <th>S2</th>\n",
       "      <th>S3</th>\n",
       "      <th>S4</th>\n",
       "      <th>S5</th>\n",
       "      <th>S6</th>\n",
       "      <th>female</th>\n",
       "    </tr>\n",
       "  </thead>\n",
       "  <tbody>\n",
       "    <tr>\n",
       "      <th>171</th>\n",
       "      <td>43</td>\n",
       "      <td>22.1</td>\n",
       "      <td>66.0</td>\n",
       "      <td>134</td>\n",
       "      <td>77.2</td>\n",
       "      <td>45.0</td>\n",
       "      <td>3.0</td>\n",
       "      <td>4.0775</td>\n",
       "      <td>80</td>\n",
       "      <td>0</td>\n",
       "    </tr>\n",
       "    <tr>\n",
       "      <th>388</th>\n",
       "      <td>63</td>\n",
       "      <td>24.1</td>\n",
       "      <td>111.0</td>\n",
       "      <td>184</td>\n",
       "      <td>112.2</td>\n",
       "      <td>44.0</td>\n",
       "      <td>4.0</td>\n",
       "      <td>4.9345</td>\n",
       "      <td>82</td>\n",
       "      <td>1</td>\n",
       "    </tr>\n",
       "    <tr>\n",
       "      <th>268</th>\n",
       "      <td>66</td>\n",
       "      <td>34.6</td>\n",
       "      <td>115.0</td>\n",
       "      <td>204</td>\n",
       "      <td>139.4</td>\n",
       "      <td>36.0</td>\n",
       "      <td>6.0</td>\n",
       "      <td>4.9628</td>\n",
       "      <td>109</td>\n",
       "      <td>1</td>\n",
       "    </tr>\n",
       "    <tr>\n",
       "      <th>31</th>\n",
       "      <td>42</td>\n",
       "      <td>20.3</td>\n",
       "      <td>71.0</td>\n",
       "      <td>161</td>\n",
       "      <td>81.2</td>\n",
       "      <td>66.0</td>\n",
       "      <td>2.0</td>\n",
       "      <td>4.2341</td>\n",
       "      <td>81</td>\n",
       "      <td>0</td>\n",
       "    </tr>\n",
       "    <tr>\n",
       "      <th>427</th>\n",
       "      <td>39</td>\n",
       "      <td>26.9</td>\n",
       "      <td>93.0</td>\n",
       "      <td>136</td>\n",
       "      <td>75.4</td>\n",
       "      <td>48.0</td>\n",
       "      <td>3.0</td>\n",
       "      <td>4.1431</td>\n",
       "      <td>99</td>\n",
       "      <td>1</td>\n",
       "    </tr>\n",
       "    <tr>\n",
       "      <th>...</th>\n",
       "      <td>...</td>\n",
       "      <td>...</td>\n",
       "      <td>...</td>\n",
       "      <td>...</td>\n",
       "      <td>...</td>\n",
       "      <td>...</td>\n",
       "      <td>...</td>\n",
       "      <td>...</td>\n",
       "      <td>...</td>\n",
       "      <td>...</td>\n",
       "    </tr>\n",
       "    <tr>\n",
       "      <th>218</th>\n",
       "      <td>37</td>\n",
       "      <td>20.3</td>\n",
       "      <td>83.0</td>\n",
       "      <td>185</td>\n",
       "      <td>124.6</td>\n",
       "      <td>38.0</td>\n",
       "      <td>5.0</td>\n",
       "      <td>4.7185</td>\n",
       "      <td>88</td>\n",
       "      <td>0</td>\n",
       "    </tr>\n",
       "    <tr>\n",
       "      <th>412</th>\n",
       "      <td>69</td>\n",
       "      <td>34.3</td>\n",
       "      <td>113.0</td>\n",
       "      <td>200</td>\n",
       "      <td>123.8</td>\n",
       "      <td>54.0</td>\n",
       "      <td>4.0</td>\n",
       "      <td>4.7095</td>\n",
       "      <td>112</td>\n",
       "      <td>0</td>\n",
       "    </tr>\n",
       "    <tr>\n",
       "      <th>223</th>\n",
       "      <td>21</td>\n",
       "      <td>24.2</td>\n",
       "      <td>76.0</td>\n",
       "      <td>147</td>\n",
       "      <td>77.0</td>\n",
       "      <td>53.0</td>\n",
       "      <td>3.0</td>\n",
       "      <td>4.4427</td>\n",
       "      <td>79</td>\n",
       "      <td>0</td>\n",
       "    </tr>\n",
       "    <tr>\n",
       "      <th>271</th>\n",
       "      <td>59</td>\n",
       "      <td>27.2</td>\n",
       "      <td>107.0</td>\n",
       "      <td>158</td>\n",
       "      <td>102.0</td>\n",
       "      <td>39.0</td>\n",
       "      <td>4.0</td>\n",
       "      <td>4.4427</td>\n",
       "      <td>93</td>\n",
       "      <td>1</td>\n",
       "    </tr>\n",
       "    <tr>\n",
       "      <th>355</th>\n",
       "      <td>28</td>\n",
       "      <td>25.5</td>\n",
       "      <td>99.0</td>\n",
       "      <td>162</td>\n",
       "      <td>101.6</td>\n",
       "      <td>46.0</td>\n",
       "      <td>4.0</td>\n",
       "      <td>4.2767</td>\n",
       "      <td>94</td>\n",
       "      <td>1</td>\n",
       "    </tr>\n",
       "  </tbody>\n",
       "</table>\n",
       "<p>353 rows × 10 columns</p>\n",
       "</div>"
      ],
      "text/plain": [
       "     AGE   BMI     BP   S1     S2    S3   S4      S5   S6  female\n",
       "171   43  22.1   66.0  134   77.2  45.0  3.0  4.0775   80       0\n",
       "388   63  24.1  111.0  184  112.2  44.0  4.0  4.9345   82       1\n",
       "268   66  34.6  115.0  204  139.4  36.0  6.0  4.9628  109       1\n",
       "31    42  20.3   71.0  161   81.2  66.0  2.0  4.2341   81       0\n",
       "427   39  26.9   93.0  136   75.4  48.0  3.0  4.1431   99       1\n",
       "..   ...   ...    ...  ...    ...   ...  ...     ...  ...     ...\n",
       "218   37  20.3   83.0  185  124.6  38.0  5.0  4.7185   88       0\n",
       "412   69  34.3  113.0  200  123.8  54.0  4.0  4.7095  112       0\n",
       "223   21  24.2   76.0  147   77.0  53.0  3.0  4.4427   79       0\n",
       "271   59  27.2  107.0  158  102.0  39.0  4.0  4.4427   93       1\n",
       "355   28  25.5   99.0  162  101.6  46.0  4.0  4.2767   94       1\n",
       "\n",
       "[353 rows x 10 columns]"
      ]
     },
     "execution_count": 49,
     "metadata": {},
     "output_type": "execute_result"
    }
   ],
   "source": [
    "from sklearn.preprocessing import StandardScaler\n",
    "\n",
    "# Split the data\n",
    "X_train, X_test, y_train, y_test = train_test_split(features, target, random_state=20, test_size=0.2)\n",
    "X_train"
   ]
  },
  {
   "cell_type": "code",
   "execution_count": 50,
   "metadata": {
    "ExecuteTime": {
     "end_time": "2021-05-05T15:59:17.130860Z",
     "start_time": "2021-05-05T15:59:17.125560Z"
    }
   },
   "outputs": [
    {
     "data": {
      "text/plain": [
       "Index(['AGE', 'BMI', 'BP', 'S1', 'S2', 'S3', 'S4', 'S5', 'S6'], dtype='object')"
      ]
     },
     "execution_count": 50,
     "metadata": {},
     "output_type": "execute_result"
    }
   ],
   "source": [
    "# Initialize the scaler\n",
    "scaler = StandardScaler()\n",
    "# Scale every feature except the binary column - female\n",
    "scale_cols = X_train.drop('female',axis=1).columns\n",
    "scale_cols"
   ]
  },
  {
   "cell_type": "code",
   "execution_count": 51,
   "metadata": {
    "ExecuteTime": {
     "end_time": "2021-05-05T15:59:17.161214Z",
     "start_time": "2021-05-05T15:59:17.132824Z"
    }
   },
   "outputs": [
    {
     "name": "stderr",
     "output_type": "stream",
     "text": [
      "<ipython-input-51-3af75fc7958f>:1: SettingWithCopyWarning: \n",
      "A value is trying to be set on a copy of a slice from a DataFrame.\n",
      "Try using .loc[row_indexer,col_indexer] = value instead\n",
      "\n",
      "See the caveats in the documentation: https://pandas.pydata.org/pandas-docs/stable/user_guide/indexing.html#returning-a-view-versus-a-copy\n",
      "  X_train[scale_cols] = scaler.fit_transform(X_train[scale_cols])\n",
      "/opt/anaconda3/envs/learn-env-new/lib/python3.8/site-packages/pandas/core/indexing.py:1736: SettingWithCopyWarning: \n",
      "A value is trying to be set on a copy of a slice from a DataFrame.\n",
      "Try using .loc[row_indexer,col_indexer] = value instead\n",
      "\n",
      "See the caveats in the documentation: https://pandas.pydata.org/pandas-docs/stable/user_guide/indexing.html#returning-a-view-versus-a-copy\n",
      "  isetter(loc, value[:, i].tolist())\n",
      "<ipython-input-51-3af75fc7958f>:2: SettingWithCopyWarning: \n",
      "A value is trying to be set on a copy of a slice from a DataFrame.\n",
      "Try using .loc[row_indexer,col_indexer] = value instead\n",
      "\n",
      "See the caveats in the documentation: https://pandas.pydata.org/pandas-docs/stable/user_guide/indexing.html#returning-a-view-versus-a-copy\n",
      "  X_test[scale_cols] = scaler.transform(X_test[scale_cols])\n",
      "/opt/anaconda3/envs/learn-env-new/lib/python3.8/site-packages/pandas/core/indexing.py:1736: SettingWithCopyWarning: \n",
      "A value is trying to be set on a copy of a slice from a DataFrame.\n",
      "Try using .loc[row_indexer,col_indexer] = value instead\n",
      "\n",
      "See the caveats in the documentation: https://pandas.pydata.org/pandas-docs/stable/user_guide/indexing.html#returning-a-view-versus-a-copy\n",
      "  isetter(loc, value[:, i].tolist())\n"
     ]
    }
   ],
   "source": [
    "X_train[scale_cols] = scaler.fit_transform(X_train[scale_cols])\n",
    "X_test[scale_cols] = scaler.transform(X_test[scale_cols])"
   ]
  },
  {
   "cell_type": "code",
   "execution_count": 52,
   "metadata": {
    "ExecuteTime": {
     "end_time": "2021-05-05T15:59:17.177164Z",
     "start_time": "2021-05-05T15:59:17.163186Z"
    }
   },
   "outputs": [],
   "source": [
    "## Make an empty RESULTS list\n",
    "RESULTS = []\n",
    "## Run our baseline regression and append to RESULTS\n",
    "RESULTS.append(run_model(LinearRegression(),\n",
    "                         X_train,X_test,y_train,y_test,'Baseline'))"
   ]
  },
  {
   "cell_type": "code",
   "execution_count": 53,
   "metadata": {
    "ExecuteTime": {
     "end_time": "2021-05-05T15:59:17.190817Z",
     "start_time": "2021-05-05T15:59:17.179497Z"
    }
   },
   "outputs": [
    {
     "data": {
      "text/html": [
       "<style  type=\"text/css\" >\n",
       "#T_d8730554_adba_11eb_8028_acde48001122row0_col1{\n",
       "            background-color:  #fff7fb;\n",
       "            color:  #000000;\n",
       "        }</style><table id=\"T_d8730554_adba_11eb_8028_acde48001122\" ><thead>    <tr>        <th class=\"blank level0\" ></th>        <th class=\"col_heading level0 col0\" >Data</th>        <th class=\"col_heading level0 col1\" >R2</th>        <th class=\"col_heading level0 col2\" >RMSE</th>    </tr>    <tr>        <th class=\"index_name level0\" >Note</th>        <th class=\"blank\" ></th>        <th class=\"blank\" ></th>        <th class=\"blank\" ></th>    </tr></thead><tbody>\n",
       "                <tr>\n",
       "                        <th id=\"T_d8730554_adba_11eb_8028_acde48001122level0_row0\" class=\"row_heading level0 row0\" >Baseline</th>\n",
       "                        <td id=\"T_d8730554_adba_11eb_8028_acde48001122row0_col0\" class=\"data row0 col0\" >Test</td>\n",
       "                        <td id=\"T_d8730554_adba_11eb_8028_acde48001122row0_col1\" class=\"data row0 col1\" >0.418000</td>\n",
       "                        <td id=\"T_d8730554_adba_11eb_8028_acde48001122row0_col2\" class=\"data row0 col2\" >58.835900</td>\n",
       "            </tr>\n",
       "    </tbody></table>"
      ],
      "text/plain": [
       "<pandas.io.formats.style.Styler at 0x7fb76d3e6280>"
      ]
     },
     "metadata": {},
     "output_type": "display_data"
    }
   ],
   "source": [
    "def show_results(RESULTS,style_kws={'subset':['R2']}):\n",
    "    res = pd.concat(RESULTS).set_index('Note').groupby(\"Data\").get_group('Test')   \n",
    "    try:\n",
    "        display(res.style.background_gradient(**style_kws))\n",
    "    except:\n",
    "        display(res)\n",
    "show_results(RESULTS)"
   ]
  },
  {
   "cell_type": "code",
   "execution_count": 54,
   "metadata": {
    "ExecuteTime": {
     "end_time": "2021-05-05T15:59:17.221741Z",
     "start_time": "2021-05-05T15:59:17.192992Z"
    }
   },
   "outputs": [
    {
     "data": {
      "text/html": [
       "<div>\n",
       "<style scoped>\n",
       "    .dataframe tbody tr th:only-of-type {\n",
       "        vertical-align: middle;\n",
       "    }\n",
       "\n",
       "    .dataframe tbody tr th {\n",
       "        vertical-align: top;\n",
       "    }\n",
       "\n",
       "    .dataframe thead th {\n",
       "        text-align: right;\n",
       "    }\n",
       "</style>\n",
       "<table border=\"1\" class=\"dataframe\">\n",
       "  <thead>\n",
       "    <tr style=\"text-align: right;\">\n",
       "      <th></th>\n",
       "      <th>AGE</th>\n",
       "      <th>BMI</th>\n",
       "      <th>BP</th>\n",
       "      <th>S1</th>\n",
       "      <th>S2</th>\n",
       "      <th>S3</th>\n",
       "      <th>S4</th>\n",
       "      <th>S5</th>\n",
       "      <th>S6</th>\n",
       "      <th>female</th>\n",
       "      <th>...</th>\n",
       "      <th>S4^2</th>\n",
       "      <th>S4 S5</th>\n",
       "      <th>S4 S6</th>\n",
       "      <th>S4 female</th>\n",
       "      <th>S5^2</th>\n",
       "      <th>S5 S6</th>\n",
       "      <th>S5 female</th>\n",
       "      <th>S6^2</th>\n",
       "      <th>S6 female</th>\n",
       "      <th>female^2</th>\n",
       "    </tr>\n",
       "  </thead>\n",
       "  <tbody>\n",
       "    <tr>\n",
       "      <th>0</th>\n",
       "      <td>-0.433522</td>\n",
       "      <td>-0.967597</td>\n",
       "      <td>-2.067847</td>\n",
       "      <td>-1.623215</td>\n",
       "      <td>-1.280312</td>\n",
       "      <td>-0.347527</td>\n",
       "      <td>-0.852832</td>\n",
       "      <td>-1.095555</td>\n",
       "      <td>-1.006077</td>\n",
       "      <td>0.0</td>\n",
       "      <td>...</td>\n",
       "      <td>0.727322</td>\n",
       "      <td>0.934324</td>\n",
       "      <td>0.858015</td>\n",
       "      <td>-0.000000</td>\n",
       "      <td>1.200240</td>\n",
       "      <td>1.102213</td>\n",
       "      <td>-0.000000</td>\n",
       "      <td>1.012192</td>\n",
       "      <td>-0.000000</td>\n",
       "      <td>0.0</td>\n",
       "    </tr>\n",
       "    <tr>\n",
       "      <th>1</th>\n",
       "      <td>1.117754</td>\n",
       "      <td>-0.516691</td>\n",
       "      <td>1.142458</td>\n",
       "      <td>-0.168101</td>\n",
       "      <td>-0.129601</td>\n",
       "      <td>-0.424950</td>\n",
       "      <td>-0.083651</td>\n",
       "      <td>0.543382</td>\n",
       "      <td>-0.831901</td>\n",
       "      <td>1.0</td>\n",
       "      <td>...</td>\n",
       "      <td>0.006998</td>\n",
       "      <td>-0.045455</td>\n",
       "      <td>0.069589</td>\n",
       "      <td>-0.083651</td>\n",
       "      <td>0.295264</td>\n",
       "      <td>-0.452040</td>\n",
       "      <td>0.543382</td>\n",
       "      <td>0.692060</td>\n",
       "      <td>-0.831901</td>\n",
       "      <td>1.0</td>\n",
       "    </tr>\n",
       "    <tr>\n",
       "      <th>2</th>\n",
       "      <td>1.350445</td>\n",
       "      <td>1.850570</td>\n",
       "      <td>1.427819</td>\n",
       "      <td>0.413945</td>\n",
       "      <td>0.764667</td>\n",
       "      <td>-1.044334</td>\n",
       "      <td>1.454710</td>\n",
       "      <td>0.597504</td>\n",
       "      <td>1.519478</td>\n",
       "      <td>1.0</td>\n",
       "      <td>...</td>\n",
       "      <td>2.116182</td>\n",
       "      <td>0.869195</td>\n",
       "      <td>2.210400</td>\n",
       "      <td>1.454710</td>\n",
       "      <td>0.357011</td>\n",
       "      <td>0.907894</td>\n",
       "      <td>0.597504</td>\n",
       "      <td>2.308813</td>\n",
       "      <td>1.519478</td>\n",
       "      <td>1.0</td>\n",
       "    </tr>\n",
       "    <tr>\n",
       "      <th>3</th>\n",
       "      <td>-0.511086</td>\n",
       "      <td>-1.373413</td>\n",
       "      <td>-1.711146</td>\n",
       "      <td>-0.837453</td>\n",
       "      <td>-1.148802</td>\n",
       "      <td>1.278358</td>\n",
       "      <td>-1.622013</td>\n",
       "      <td>-0.796071</td>\n",
       "      <td>-0.918989</td>\n",
       "      <td>0.0</td>\n",
       "      <td>...</td>\n",
       "      <td>2.630925</td>\n",
       "      <td>1.291237</td>\n",
       "      <td>1.490612</td>\n",
       "      <td>-0.000000</td>\n",
       "      <td>0.633729</td>\n",
       "      <td>0.731581</td>\n",
       "      <td>-0.000000</td>\n",
       "      <td>0.844541</td>\n",
       "      <td>-0.000000</td>\n",
       "      <td>0.0</td>\n",
       "    </tr>\n",
       "    <tr>\n",
       "      <th>4</th>\n",
       "      <td>-0.743778</td>\n",
       "      <td>0.114579</td>\n",
       "      <td>-0.141664</td>\n",
       "      <td>-1.565010</td>\n",
       "      <td>-1.339491</td>\n",
       "      <td>-0.115257</td>\n",
       "      <td>-0.852832</td>\n",
       "      <td>-0.970101</td>\n",
       "      <td>0.648597</td>\n",
       "      <td>1.0</td>\n",
       "      <td>...</td>\n",
       "      <td>0.727322</td>\n",
       "      <td>0.827333</td>\n",
       "      <td>-0.553144</td>\n",
       "      <td>-0.852832</td>\n",
       "      <td>0.941095</td>\n",
       "      <td>-0.629204</td>\n",
       "      <td>-0.970101</td>\n",
       "      <td>0.420678</td>\n",
       "      <td>0.648597</td>\n",
       "      <td>1.0</td>\n",
       "    </tr>\n",
       "  </tbody>\n",
       "</table>\n",
       "<p>5 rows × 65 columns</p>\n",
       "</div>"
      ],
      "text/plain": [
       "        AGE       BMI        BP        S1        S2        S3        S4  \\\n",
       "0 -0.433522 -0.967597 -2.067847 -1.623215 -1.280312 -0.347527 -0.852832   \n",
       "1  1.117754 -0.516691  1.142458 -0.168101 -0.129601 -0.424950 -0.083651   \n",
       "2  1.350445  1.850570  1.427819  0.413945  0.764667 -1.044334  1.454710   \n",
       "3 -0.511086 -1.373413 -1.711146 -0.837453 -1.148802  1.278358 -1.622013   \n",
       "4 -0.743778  0.114579 -0.141664 -1.565010 -1.339491 -0.115257 -0.852832   \n",
       "\n",
       "         S5        S6  female  ...      S4^2     S4 S5     S4 S6  S4 female  \\\n",
       "0 -1.095555 -1.006077     0.0  ...  0.727322  0.934324  0.858015  -0.000000   \n",
       "1  0.543382 -0.831901     1.0  ...  0.006998 -0.045455  0.069589  -0.083651   \n",
       "2  0.597504  1.519478     1.0  ...  2.116182  0.869195  2.210400   1.454710   \n",
       "3 -0.796071 -0.918989     0.0  ...  2.630925  1.291237  1.490612  -0.000000   \n",
       "4 -0.970101  0.648597     1.0  ...  0.727322  0.827333 -0.553144  -0.852832   \n",
       "\n",
       "       S5^2     S5 S6  S5 female      S6^2  S6 female  female^2  \n",
       "0  1.200240  1.102213  -0.000000  1.012192  -0.000000       0.0  \n",
       "1  0.295264 -0.452040   0.543382  0.692060  -0.831901       1.0  \n",
       "2  0.357011  0.907894   0.597504  2.308813   1.519478       1.0  \n",
       "3  0.633729  0.731581  -0.000000  0.844541  -0.000000       0.0  \n",
       "4  0.941095 -0.629204  -0.970101  0.420678   0.648597       1.0  \n",
       "\n",
       "[5 rows x 65 columns]"
      ]
     },
     "execution_count": 54,
     "metadata": {},
     "output_type": "execute_result"
    }
   ],
   "source": [
    "from sklearn.preprocessing import PolynomialFeatures\n",
    "poly = PolynomialFeatures(degree=2, interaction_only=False, include_bias=False)\n",
    "\n",
    "X_poly_train = pd.DataFrame(poly.fit_transform(X_train),\n",
    "                            columns=poly.get_feature_names(features.columns))\n",
    "\n",
    "X_poly_test = pd.DataFrame(poly.transform(X_test),\n",
    "                           columns=poly.get_feature_names(features.columns))\n",
    "\n",
    "X_poly_train.head()"
   ]
  },
  {
   "cell_type": "code",
   "execution_count": 55,
   "metadata": {
    "ExecuteTime": {
     "end_time": "2021-05-05T15:59:17.259829Z",
     "start_time": "2021-05-05T15:59:17.223905Z"
    }
   },
   "outputs": [
    {
     "data": {
      "text/html": [
       "<style  type=\"text/css\" >\n",
       "#T_d87d8da8_adba_11eb_8028_acde48001122row0_col1{\n",
       "            background-color:  #023858;\n",
       "            color:  #f1f1f1;\n",
       "        }#T_d87d8da8_adba_11eb_8028_acde48001122row1_col1{\n",
       "            background-color:  #fff7fb;\n",
       "            color:  #000000;\n",
       "        }</style><table id=\"T_d87d8da8_adba_11eb_8028_acde48001122\" ><thead>    <tr>        <th class=\"blank level0\" ></th>        <th class=\"col_heading level0 col0\" >Data</th>        <th class=\"col_heading level0 col1\" >R2</th>        <th class=\"col_heading level0 col2\" >RMSE</th>    </tr>    <tr>        <th class=\"index_name level0\" >Note</th>        <th class=\"blank\" ></th>        <th class=\"blank\" ></th>        <th class=\"blank\" ></th>    </tr></thead><tbody>\n",
       "                <tr>\n",
       "                        <th id=\"T_d87d8da8_adba_11eb_8028_acde48001122level0_row0\" class=\"row_heading level0 row0\" >Baseline</th>\n",
       "                        <td id=\"T_d87d8da8_adba_11eb_8028_acde48001122row0_col0\" class=\"data row0 col0\" >Test</td>\n",
       "                        <td id=\"T_d87d8da8_adba_11eb_8028_acde48001122row0_col1\" class=\"data row0 col1\" >0.418000</td>\n",
       "                        <td id=\"T_d87d8da8_adba_11eb_8028_acde48001122row0_col2\" class=\"data row0 col2\" >58.835900</td>\n",
       "            </tr>\n",
       "            <tr>\n",
       "                        <th id=\"T_d87d8da8_adba_11eb_8028_acde48001122level0_row1\" class=\"row_heading level0 row1\" >Poly</th>\n",
       "                        <td id=\"T_d87d8da8_adba_11eb_8028_acde48001122row1_col0\" class=\"data row1 col0\" >Test</td>\n",
       "                        <td id=\"T_d87d8da8_adba_11eb_8028_acde48001122row1_col1\" class=\"data row1 col1\" >0.368900</td>\n",
       "                        <td id=\"T_d87d8da8_adba_11eb_8028_acde48001122row1_col2\" class=\"data row1 col2\" >61.267800</td>\n",
       "            </tr>\n",
       "    </tbody></table>"
      ],
      "text/plain": [
       "<pandas.io.formats.style.Styler at 0x7fb788063460>"
      ]
     },
     "metadata": {},
     "output_type": "display_data"
    }
   ],
   "source": [
    "## Make a linear regression with our X_poly data and append to RESULTS\n",
    "RESULTS.append(run_model(LinearRegression(),\n",
    "                         X_poly_train,X_poly_test,y_train,y_test,'Poly'))\n",
    "\n",
    "## Show resuls\n",
    "show_results(RESULTS)"
   ]
  },
  {
   "cell_type": "markdown",
   "metadata": {},
   "source": [
    "### Filter Methods"
   ]
  },
  {
   "cell_type": "markdown",
   "metadata": {},
   "source": [
    ">\"The benefit of filter methods is that they can provide us with some useful visualizations for helping us gain an understanding about the characteristics of our data. To begin with, let's use a simple variance threshold to eliminate the features with low variance.\""
   ]
  },
  {
   "cell_type": "code",
   "execution_count": 56,
   "metadata": {
    "ExecuteTime": {
     "end_time": "2021-05-05T15:59:17.370108Z",
     "start_time": "2021-05-05T15:59:17.261845Z"
    }
   },
   "outputs": [
    {
     "data": {
      "text/html": [
       "<style  type=\"text/css\" >\n",
       "#T_d88e3c8e_adba_11eb_8028_acde48001122row0_col1{\n",
       "            background-color:  #023858;\n",
       "            color:  #f1f1f1;\n",
       "        }#T_d88e3c8e_adba_11eb_8028_acde48001122row1_col1,#T_d88e3c8e_adba_11eb_8028_acde48001122row2_col1{\n",
       "            background-color:  #045a8d;\n",
       "            color:  #f1f1f1;\n",
       "        }#T_d88e3c8e_adba_11eb_8028_acde48001122row3_col1{\n",
       "            background-color:  #046096;\n",
       "            color:  #f1f1f1;\n",
       "        }#T_d88e3c8e_adba_11eb_8028_acde48001122row4_col1{\n",
       "            background-color:  #045d92;\n",
       "            color:  #f1f1f1;\n",
       "        }#T_d88e3c8e_adba_11eb_8028_acde48001122row5_col1{\n",
       "            background-color:  #fff7fb;\n",
       "            color:  #000000;\n",
       "        }#T_d88e3c8e_adba_11eb_8028_acde48001122row6_col1{\n",
       "            background-color:  #e7e3f0;\n",
       "            color:  #000000;\n",
       "        }#T_d88e3c8e_adba_11eb_8028_acde48001122row7_col1{\n",
       "            background-color:  #fdf5fa;\n",
       "            color:  #000000;\n",
       "        }</style><table id=\"T_d88e3c8e_adba_11eb_8028_acde48001122\" ><thead>    <tr>        <th class=\"blank level0\" ></th>        <th class=\"col_heading level0 col0\" >Data</th>        <th class=\"col_heading level0 col1\" >R2</th>        <th class=\"col_heading level0 col2\" >RMSE</th>    </tr>    <tr>        <th class=\"index_name level0\" >Note</th>        <th class=\"blank\" ></th>        <th class=\"blank\" ></th>        <th class=\"blank\" ></th>    </tr></thead><tbody>\n",
       "                <tr>\n",
       "                        <th id=\"T_d88e3c8e_adba_11eb_8028_acde48001122level0_row0\" class=\"row_heading level0 row0\" >Baseline</th>\n",
       "                        <td id=\"T_d88e3c8e_adba_11eb_8028_acde48001122row0_col0\" class=\"data row0 col0\" >Test</td>\n",
       "                        <td id=\"T_d88e3c8e_adba_11eb_8028_acde48001122row0_col1\" class=\"data row0 col1\" >0.418000</td>\n",
       "                        <td id=\"T_d88e3c8e_adba_11eb_8028_acde48001122row0_col2\" class=\"data row0 col2\" >58.835900</td>\n",
       "            </tr>\n",
       "            <tr>\n",
       "                        <th id=\"T_d88e3c8e_adba_11eb_8028_acde48001122level0_row1\" class=\"row_heading level0 row1\" >Poly</th>\n",
       "                        <td id=\"T_d88e3c8e_adba_11eb_8028_acde48001122row1_col0\" class=\"data row1 col0\" >Test</td>\n",
       "                        <td id=\"T_d88e3c8e_adba_11eb_8028_acde48001122row1_col1\" class=\"data row1 col1\" >0.368900</td>\n",
       "                        <td id=\"T_d88e3c8e_adba_11eb_8028_acde48001122row1_col2\" class=\"data row1 col2\" >61.267800</td>\n",
       "            </tr>\n",
       "            <tr>\n",
       "                        <th id=\"T_d88e3c8e_adba_11eb_8028_acde48001122level0_row2\" class=\"row_heading level0 row2\" >VarThresh=0.0</th>\n",
       "                        <td id=\"T_d88e3c8e_adba_11eb_8028_acde48001122row2_col0\" class=\"data row2 col0\" >Test</td>\n",
       "                        <td id=\"T_d88e3c8e_adba_11eb_8028_acde48001122row2_col1\" class=\"data row2 col1\" >0.368900</td>\n",
       "                        <td id=\"T_d88e3c8e_adba_11eb_8028_acde48001122row2_col2\" class=\"data row2 col2\" >61.267800</td>\n",
       "            </tr>\n",
       "            <tr>\n",
       "                        <th id=\"T_d88e3c8e_adba_11eb_8028_acde48001122level0_row3\" class=\"row_heading level0 row3\" >VarThresh=0.4</th>\n",
       "                        <td id=\"T_d88e3c8e_adba_11eb_8028_acde48001122row3_col0\" class=\"data row3 col0\" >Test</td>\n",
       "                        <td id=\"T_d88e3c8e_adba_11eb_8028_acde48001122row3_col1\" class=\"data row3 col1\" >0.358100</td>\n",
       "                        <td id=\"T_d88e3c8e_adba_11eb_8028_acde48001122row3_col2\" class=\"data row3 col2\" >61.789200</td>\n",
       "            </tr>\n",
       "            <tr>\n",
       "                        <th id=\"T_d88e3c8e_adba_11eb_8028_acde48001122level0_row4\" class=\"row_heading level0 row4\" >VarThresh=0.8</th>\n",
       "                        <td id=\"T_d88e3c8e_adba_11eb_8028_acde48001122row4_col0\" class=\"data row4 col0\" >Test</td>\n",
       "                        <td id=\"T_d88e3c8e_adba_11eb_8028_acde48001122row4_col1\" class=\"data row4 col1\" >0.364000</td>\n",
       "                        <td id=\"T_d88e3c8e_adba_11eb_8028_acde48001122row4_col2\" class=\"data row4 col2\" >61.502900</td>\n",
       "            </tr>\n",
       "            <tr>\n",
       "                        <th id=\"T_d88e3c8e_adba_11eb_8028_acde48001122level0_row5\" class=\"row_heading level0 row5\" >VarThresh=1.2</th>\n",
       "                        <td id=\"T_d88e3c8e_adba_11eb_8028_acde48001122row5_col0\" class=\"data row5 col0\" >Test</td>\n",
       "                        <td id=\"T_d88e3c8e_adba_11eb_8028_acde48001122row5_col1\" class=\"data row5 col1\" >0.036300</td>\n",
       "                        <td id=\"T_d88e3c8e_adba_11eb_8028_acde48001122row5_col2\" class=\"data row5 col2\" >75.710100</td>\n",
       "            </tr>\n",
       "            <tr>\n",
       "                        <th id=\"T_d88e3c8e_adba_11eb_8028_acde48001122level0_row6\" class=\"row_heading level0 row6\" >VarThresh=1.6</th>\n",
       "                        <td id=\"T_d88e3c8e_adba_11eb_8028_acde48001122row6_col0\" class=\"data row6 col0\" >Test</td>\n",
       "                        <td id=\"T_d88e3c8e_adba_11eb_8028_acde48001122row6_col1\" class=\"data row6 col1\" >0.092700</td>\n",
       "                        <td id=\"T_d88e3c8e_adba_11eb_8028_acde48001122row6_col2\" class=\"data row6 col2\" >73.459300</td>\n",
       "            </tr>\n",
       "            <tr>\n",
       "                        <th id=\"T_d88e3c8e_adba_11eb_8028_acde48001122level0_row7\" class=\"row_heading level0 row7\" >VarThresh=2.0</th>\n",
       "                        <td id=\"T_d88e3c8e_adba_11eb_8028_acde48001122row7_col0\" class=\"data row7 col0\" >Test</td>\n",
       "                        <td id=\"T_d88e3c8e_adba_11eb_8028_acde48001122row7_col1\" class=\"data row7 col1\" >0.042000</td>\n",
       "                        <td id=\"T_d88e3c8e_adba_11eb_8028_acde48001122row7_col2\" class=\"data row7 col2\" >75.483900</td>\n",
       "            </tr>\n",
       "    </tbody></table>"
      ],
      "text/plain": [
       "<pandas.io.formats.style.Styler at 0x7fb7875fdac0>"
      ]
     },
     "metadata": {},
     "output_type": "display_data"
    }
   ],
   "source": [
    "## Filter Methods\n",
    "from sklearn.feature_selection import VarianceThreshold\n",
    "\n",
    "threshold_ranges = np.linspace(0, 2, num=6)\n",
    "\n",
    "results = []\n",
    "for thresh in threshold_ranges:\n",
    "#     print(thresh)\n",
    "    selector = VarianceThreshold(thresh)\n",
    "    reduced_feature_train = selector.fit_transform(X_poly_train)\n",
    "    reduced_feature_test = selector.transform(X_poly_test)\n",
    "    lr = LinearRegression()\n",
    "    lr.fit(reduced_feature_train, y_train)\n",
    "    res = run_model(lr, reduced_feature_train, reduced_feature_test,\n",
    "                    y_train, y_test,f\"VarThresh={round(thresh,3)}\")\n",
    "    \n",
    "    results.append(res)\n",
    "\n",
    "res_df = pd.concat(results)\n",
    "RESULTS.append(res_df)\n",
    "show_results(RESULTS)"
   ]
  },
  {
   "cell_type": "markdown",
   "metadata": {},
   "source": [
    "> Well, that did not seem to eliminate the features very well. It only does a little better than the base polynomial. "
   ]
  },
  {
   "cell_type": "code",
   "execution_count": 57,
   "metadata": {
    "ExecuteTime": {
     "end_time": "2021-05-05T15:59:17.388533Z",
     "start_time": "2021-05-05T15:59:17.371947Z"
    }
   },
   "outputs": [],
   "source": [
    "from sklearn.feature_selection import f_regression, mutual_info_regression, SelectKBest\n",
    "selector = SelectKBest(score_func=f_regression)\n",
    "X_k_best_train = selector.fit_transform(X_poly_train, y_train)\n",
    "X_k_best_test= selector.transform(X_poly_test)\n",
    "lr = LinearRegression()\n",
    "lr.fit(X_k_best_train ,y_train)\n",
    "RESULTS.append(run_model(lr,X_k_best_train,X_k_best_test,y_train,y_test,'KBest-f_regr'))"
   ]
  },
  {
   "cell_type": "code",
   "execution_count": 58,
   "metadata": {
    "ExecuteTime": {
     "end_time": "2021-05-05T15:59:17.735278Z",
     "start_time": "2021-05-05T15:59:17.390282Z"
    }
   },
   "outputs": [],
   "source": [
    "selector = SelectKBest(score_func=mutual_info_regression)\n",
    "X_k_best_train = selector.fit_transform(X_poly_train, y_train)\n",
    "X_k_best_test= selector.transform(X_poly_test)\n",
    "lr = LinearRegression()\n",
    "lr.fit(X_k_best_train ,y_train)\n",
    "RESULTS.append(run_model(lr,X_k_best_train,X_k_best_test,y_train,y_test,'KBest-mutual_info'))"
   ]
  },
  {
   "cell_type": "code",
   "execution_count": 59,
   "metadata": {
    "ExecuteTime": {
     "end_time": "2021-05-05T15:59:17.749327Z",
     "start_time": "2021-05-05T15:59:17.736870Z"
    }
   },
   "outputs": [
    {
     "data": {
      "text/html": [
       "<style  type=\"text/css\" >\n",
       "#T_d8c814cc_adba_11eb_8028_acde48001122row0_col1{\n",
       "            background-color:  #023c5f;\n",
       "            color:  #f1f1f1;\n",
       "        }#T_d8c814cc_adba_11eb_8028_acde48001122row1_col1,#T_d8c814cc_adba_11eb_8028_acde48001122row2_col1{\n",
       "            background-color:  #045d92;\n",
       "            color:  #f1f1f1;\n",
       "        }#T_d8c814cc_adba_11eb_8028_acde48001122row3_col1{\n",
       "            background-color:  #04629a;\n",
       "            color:  #f1f1f1;\n",
       "        }#T_d8c814cc_adba_11eb_8028_acde48001122row4_col1{\n",
       "            background-color:  #046096;\n",
       "            color:  #f1f1f1;\n",
       "        }#T_d8c814cc_adba_11eb_8028_acde48001122row5_col1{\n",
       "            background-color:  #fff7fb;\n",
       "            color:  #000000;\n",
       "        }#T_d8c814cc_adba_11eb_8028_acde48001122row6_col1{\n",
       "            background-color:  #e7e3f0;\n",
       "            color:  #000000;\n",
       "        }#T_d8c814cc_adba_11eb_8028_acde48001122row7_col1{\n",
       "            background-color:  #fdf5fa;\n",
       "            color:  #000000;\n",
       "        }#T_d8c814cc_adba_11eb_8028_acde48001122row8_col1{\n",
       "            background-color:  #023858;\n",
       "            color:  #f1f1f1;\n",
       "        }#T_d8c814cc_adba_11eb_8028_acde48001122row9_col1{\n",
       "            background-color:  #034e7b;\n",
       "            color:  #f1f1f1;\n",
       "        }</style><table id=\"T_d8c814cc_adba_11eb_8028_acde48001122\" ><thead>    <tr>        <th class=\"blank level0\" ></th>        <th class=\"col_heading level0 col0\" >Data</th>        <th class=\"col_heading level0 col1\" >R2</th>        <th class=\"col_heading level0 col2\" >RMSE</th>    </tr>    <tr>        <th class=\"index_name level0\" >Note</th>        <th class=\"blank\" ></th>        <th class=\"blank\" ></th>        <th class=\"blank\" ></th>    </tr></thead><tbody>\n",
       "                <tr>\n",
       "                        <th id=\"T_d8c814cc_adba_11eb_8028_acde48001122level0_row0\" class=\"row_heading level0 row0\" >Baseline</th>\n",
       "                        <td id=\"T_d8c814cc_adba_11eb_8028_acde48001122row0_col0\" class=\"data row0 col0\" >Test</td>\n",
       "                        <td id=\"T_d8c814cc_adba_11eb_8028_acde48001122row0_col1\" class=\"data row0 col1\" >0.418000</td>\n",
       "                        <td id=\"T_d8c814cc_adba_11eb_8028_acde48001122row0_col2\" class=\"data row0 col2\" >58.835900</td>\n",
       "            </tr>\n",
       "            <tr>\n",
       "                        <th id=\"T_d8c814cc_adba_11eb_8028_acde48001122level0_row1\" class=\"row_heading level0 row1\" >Poly</th>\n",
       "                        <td id=\"T_d8c814cc_adba_11eb_8028_acde48001122row1_col0\" class=\"data row1 col0\" >Test</td>\n",
       "                        <td id=\"T_d8c814cc_adba_11eb_8028_acde48001122row1_col1\" class=\"data row1 col1\" >0.368900</td>\n",
       "                        <td id=\"T_d8c814cc_adba_11eb_8028_acde48001122row1_col2\" class=\"data row1 col2\" >61.267800</td>\n",
       "            </tr>\n",
       "            <tr>\n",
       "                        <th id=\"T_d8c814cc_adba_11eb_8028_acde48001122level0_row2\" class=\"row_heading level0 row2\" >VarThresh=0.0</th>\n",
       "                        <td id=\"T_d8c814cc_adba_11eb_8028_acde48001122row2_col0\" class=\"data row2 col0\" >Test</td>\n",
       "                        <td id=\"T_d8c814cc_adba_11eb_8028_acde48001122row2_col1\" class=\"data row2 col1\" >0.368900</td>\n",
       "                        <td id=\"T_d8c814cc_adba_11eb_8028_acde48001122row2_col2\" class=\"data row2 col2\" >61.267800</td>\n",
       "            </tr>\n",
       "            <tr>\n",
       "                        <th id=\"T_d8c814cc_adba_11eb_8028_acde48001122level0_row3\" class=\"row_heading level0 row3\" >VarThresh=0.4</th>\n",
       "                        <td id=\"T_d8c814cc_adba_11eb_8028_acde48001122row3_col0\" class=\"data row3 col0\" >Test</td>\n",
       "                        <td id=\"T_d8c814cc_adba_11eb_8028_acde48001122row3_col1\" class=\"data row3 col1\" >0.358100</td>\n",
       "                        <td id=\"T_d8c814cc_adba_11eb_8028_acde48001122row3_col2\" class=\"data row3 col2\" >61.789200</td>\n",
       "            </tr>\n",
       "            <tr>\n",
       "                        <th id=\"T_d8c814cc_adba_11eb_8028_acde48001122level0_row4\" class=\"row_heading level0 row4\" >VarThresh=0.8</th>\n",
       "                        <td id=\"T_d8c814cc_adba_11eb_8028_acde48001122row4_col0\" class=\"data row4 col0\" >Test</td>\n",
       "                        <td id=\"T_d8c814cc_adba_11eb_8028_acde48001122row4_col1\" class=\"data row4 col1\" >0.364000</td>\n",
       "                        <td id=\"T_d8c814cc_adba_11eb_8028_acde48001122row4_col2\" class=\"data row4 col2\" >61.502900</td>\n",
       "            </tr>\n",
       "            <tr>\n",
       "                        <th id=\"T_d8c814cc_adba_11eb_8028_acde48001122level0_row5\" class=\"row_heading level0 row5\" >VarThresh=1.2</th>\n",
       "                        <td id=\"T_d8c814cc_adba_11eb_8028_acde48001122row5_col0\" class=\"data row5 col0\" >Test</td>\n",
       "                        <td id=\"T_d8c814cc_adba_11eb_8028_acde48001122row5_col1\" class=\"data row5 col1\" >0.036300</td>\n",
       "                        <td id=\"T_d8c814cc_adba_11eb_8028_acde48001122row5_col2\" class=\"data row5 col2\" >75.710100</td>\n",
       "            </tr>\n",
       "            <tr>\n",
       "                        <th id=\"T_d8c814cc_adba_11eb_8028_acde48001122level0_row6\" class=\"row_heading level0 row6\" >VarThresh=1.6</th>\n",
       "                        <td id=\"T_d8c814cc_adba_11eb_8028_acde48001122row6_col0\" class=\"data row6 col0\" >Test</td>\n",
       "                        <td id=\"T_d8c814cc_adba_11eb_8028_acde48001122row6_col1\" class=\"data row6 col1\" >0.092700</td>\n",
       "                        <td id=\"T_d8c814cc_adba_11eb_8028_acde48001122row6_col2\" class=\"data row6 col2\" >73.459300</td>\n",
       "            </tr>\n",
       "            <tr>\n",
       "                        <th id=\"T_d8c814cc_adba_11eb_8028_acde48001122level0_row7\" class=\"row_heading level0 row7\" >VarThresh=2.0</th>\n",
       "                        <td id=\"T_d8c814cc_adba_11eb_8028_acde48001122row7_col0\" class=\"data row7 col0\" >Test</td>\n",
       "                        <td id=\"T_d8c814cc_adba_11eb_8028_acde48001122row7_col1\" class=\"data row7 col1\" >0.042000</td>\n",
       "                        <td id=\"T_d8c814cc_adba_11eb_8028_acde48001122row7_col2\" class=\"data row7 col2\" >75.483900</td>\n",
       "            </tr>\n",
       "            <tr>\n",
       "                        <th id=\"T_d8c814cc_adba_11eb_8028_acde48001122level0_row8\" class=\"row_heading level0 row8\" >KBest-f_regr</th>\n",
       "                        <td id=\"T_d8c814cc_adba_11eb_8028_acde48001122row8_col0\" class=\"data row8 col0\" >Test</td>\n",
       "                        <td id=\"T_d8c814cc_adba_11eb_8028_acde48001122row8_col1\" class=\"data row8 col1\" >0.425000</td>\n",
       "                        <td id=\"T_d8c814cc_adba_11eb_8028_acde48001122row8_col2\" class=\"data row8 col2\" >58.479900</td>\n",
       "            </tr>\n",
       "            <tr>\n",
       "                        <th id=\"T_d8c814cc_adba_11eb_8028_acde48001122level0_row9\" class=\"row_heading level0 row9\" >KBest-mutual_info</th>\n",
       "                        <td id=\"T_d8c814cc_adba_11eb_8028_acde48001122row9_col0\" class=\"data row9 col0\" >Test</td>\n",
       "                        <td id=\"T_d8c814cc_adba_11eb_8028_acde48001122row9_col1\" class=\"data row9 col1\" >0.391700</td>\n",
       "                        <td id=\"T_d8c814cc_adba_11eb_8028_acde48001122row9_col2\" class=\"data row9 col2\" >60.151300</td>\n",
       "            </tr>\n",
       "    </tbody></table>"
      ],
      "text/plain": [
       "<pandas.io.formats.style.Styler at 0x7fb7884a79a0>"
      ]
     },
     "metadata": {},
     "output_type": "display_data"
    }
   ],
   "source": [
    "show_results(RESULTS)"
   ]
  },
  {
   "cell_type": "markdown",
   "metadata": {},
   "source": [
    "> Well, that did not seem to eliminate the features very well. It only does a little better than the base polynomial. "
   ]
  },
  {
   "cell_type": "markdown",
   "metadata": {},
   "source": [
    "### Wrapper methods\n",
    "\n",
    "> Now let's use Recursive Feature elimination (RFE) to try out a wrapper method. You'll notice that scikit-learn has a built in `RFECV()` function, which automatically determines the optimal number of features to keep when it is run based off the estimator that is passed into it. Here it is in action: "
   ]
  },
  {
   "cell_type": "code",
   "execution_count": 60,
   "metadata": {
    "ExecuteTime": {
     "end_time": "2021-05-05T15:59:19.100322Z",
     "start_time": "2021-05-05T15:59:17.751258Z"
    }
   },
   "outputs": [],
   "source": [
    "from sklearn.feature_selection import RFE, RFECV\n",
    "from sklearn.linear_model import LinearRegression\n",
    "\n",
    "rfe = RFECV(LinearRegression(),cv=5)\n",
    "X_rfe_train = rfe.fit_transform(X_poly_train, y_train)\n",
    "X_rfe_test = rfe.transform(X_poly_test)\n",
    "lm = LinearRegression().fit(X_rfe_train, y_train)\n",
    "RESULTS.append(run_model(lm, X_rfe_train, X_rfe_test, y_train, y_test,f'RFE w. {rfe.n_features_} feats'))\n",
    "# print ('The optimal number of features is: ', rfe.n_features_)"
   ]
  },
  {
   "cell_type": "markdown",
   "metadata": {},
   "source": [
    "## Embedded methods  \n",
    "> To compare to our other methods, we will use Lasso as the embedded method of feature selection. Luckily for us, sklearn has a built-in method to help us find the optimal features! It performs cross validation to determine the correct regularization parameter (how much to penalize our function)."
   ]
  },
  {
   "cell_type": "code",
   "execution_count": 61,
   "metadata": {
    "ExecuteTime": {
     "end_time": "2021-05-05T15:59:19.266281Z",
     "start_time": "2021-05-05T15:59:19.102147Z"
    }
   },
   "outputs": [],
   "source": [
    "from sklearn.linear_model import LassoCV\n",
    "lasso = LassoCV(max_iter=100000, cv=5)\n",
    "lasso.fit(X_train, y_train)\n",
    "RESULTS.append(run_model(lasso,X_train, X_test, y_train, y_test,f'Lasso - X data'))\n",
    "# print('The optimal alpha for the Lasso Regression is: ', lasso.alpha_)"
   ]
  },
  {
   "cell_type": "markdown",
   "metadata": {},
   "source": [
    "> Let's compare this to a model with all of the polynomial features included."
   ]
  },
  {
   "cell_type": "code",
   "execution_count": 62,
   "metadata": {
    "ExecuteTime": {
     "end_time": "2021-05-05T15:59:20.190068Z",
     "start_time": "2021-05-05T15:59:19.268318Z"
    }
   },
   "outputs": [],
   "source": [
    "lasso2 = LassoCV(max_iter=100000, cv=5)\n",
    "lasso2.fit(X_poly_train, y_train)\n",
    "\n",
    "RESULTS.append(run_model(lasso2, X_poly_train, X_poly_test, y_train, y_test,f'Lasso Poly '))\n",
    "# print('The optimal alpha for the Lasso Regression is: ', lasso2.alpha_)"
   ]
  },
  {
   "cell_type": "code",
   "execution_count": 63,
   "metadata": {
    "ExecuteTime": {
     "end_time": "2021-05-05T15:59:20.210478Z",
     "start_time": "2021-05-05T15:59:20.191959Z"
    }
   },
   "outputs": [
    {
     "data": {
      "text/html": [
       "<style  type=\"text/css\" >\n",
       "#T_da3f7304_adba_11eb_8028_acde48001122row12_col1{\n",
       "            background-color:  yellow;\n",
       "        }</style><table id=\"T_da3f7304_adba_11eb_8028_acde48001122\" ><thead>    <tr>        <th class=\"blank level0\" ></th>        <th class=\"col_heading level0 col0\" >Data</th>        <th class=\"col_heading level0 col1\" >R2</th>        <th class=\"col_heading level0 col2\" >RMSE</th>    </tr>    <tr>        <th class=\"index_name level0\" >Note</th>        <th class=\"blank\" ></th>        <th class=\"blank\" ></th>        <th class=\"blank\" ></th>    </tr></thead><tbody>\n",
       "                <tr>\n",
       "                        <th id=\"T_da3f7304_adba_11eb_8028_acde48001122level0_row0\" class=\"row_heading level0 row0\" >Baseline</th>\n",
       "                        <td id=\"T_da3f7304_adba_11eb_8028_acde48001122row0_col0\" class=\"data row0 col0\" >Test</td>\n",
       "                        <td id=\"T_da3f7304_adba_11eb_8028_acde48001122row0_col1\" class=\"data row0 col1\" >0.418000</td>\n",
       "                        <td id=\"T_da3f7304_adba_11eb_8028_acde48001122row0_col2\" class=\"data row0 col2\" >58.835900</td>\n",
       "            </tr>\n",
       "            <tr>\n",
       "                        <th id=\"T_da3f7304_adba_11eb_8028_acde48001122level0_row1\" class=\"row_heading level0 row1\" >Poly</th>\n",
       "                        <td id=\"T_da3f7304_adba_11eb_8028_acde48001122row1_col0\" class=\"data row1 col0\" >Test</td>\n",
       "                        <td id=\"T_da3f7304_adba_11eb_8028_acde48001122row1_col1\" class=\"data row1 col1\" >0.368900</td>\n",
       "                        <td id=\"T_da3f7304_adba_11eb_8028_acde48001122row1_col2\" class=\"data row1 col2\" >61.267800</td>\n",
       "            </tr>\n",
       "            <tr>\n",
       "                        <th id=\"T_da3f7304_adba_11eb_8028_acde48001122level0_row2\" class=\"row_heading level0 row2\" >VarThresh=0.0</th>\n",
       "                        <td id=\"T_da3f7304_adba_11eb_8028_acde48001122row2_col0\" class=\"data row2 col0\" >Test</td>\n",
       "                        <td id=\"T_da3f7304_adba_11eb_8028_acde48001122row2_col1\" class=\"data row2 col1\" >0.368900</td>\n",
       "                        <td id=\"T_da3f7304_adba_11eb_8028_acde48001122row2_col2\" class=\"data row2 col2\" >61.267800</td>\n",
       "            </tr>\n",
       "            <tr>\n",
       "                        <th id=\"T_da3f7304_adba_11eb_8028_acde48001122level0_row3\" class=\"row_heading level0 row3\" >VarThresh=0.4</th>\n",
       "                        <td id=\"T_da3f7304_adba_11eb_8028_acde48001122row3_col0\" class=\"data row3 col0\" >Test</td>\n",
       "                        <td id=\"T_da3f7304_adba_11eb_8028_acde48001122row3_col1\" class=\"data row3 col1\" >0.358100</td>\n",
       "                        <td id=\"T_da3f7304_adba_11eb_8028_acde48001122row3_col2\" class=\"data row3 col2\" >61.789200</td>\n",
       "            </tr>\n",
       "            <tr>\n",
       "                        <th id=\"T_da3f7304_adba_11eb_8028_acde48001122level0_row4\" class=\"row_heading level0 row4\" >VarThresh=0.8</th>\n",
       "                        <td id=\"T_da3f7304_adba_11eb_8028_acde48001122row4_col0\" class=\"data row4 col0\" >Test</td>\n",
       "                        <td id=\"T_da3f7304_adba_11eb_8028_acde48001122row4_col1\" class=\"data row4 col1\" >0.364000</td>\n",
       "                        <td id=\"T_da3f7304_adba_11eb_8028_acde48001122row4_col2\" class=\"data row4 col2\" >61.502900</td>\n",
       "            </tr>\n",
       "            <tr>\n",
       "                        <th id=\"T_da3f7304_adba_11eb_8028_acde48001122level0_row5\" class=\"row_heading level0 row5\" >VarThresh=1.2</th>\n",
       "                        <td id=\"T_da3f7304_adba_11eb_8028_acde48001122row5_col0\" class=\"data row5 col0\" >Test</td>\n",
       "                        <td id=\"T_da3f7304_adba_11eb_8028_acde48001122row5_col1\" class=\"data row5 col1\" >0.036300</td>\n",
       "                        <td id=\"T_da3f7304_adba_11eb_8028_acde48001122row5_col2\" class=\"data row5 col2\" >75.710100</td>\n",
       "            </tr>\n",
       "            <tr>\n",
       "                        <th id=\"T_da3f7304_adba_11eb_8028_acde48001122level0_row6\" class=\"row_heading level0 row6\" >VarThresh=1.6</th>\n",
       "                        <td id=\"T_da3f7304_adba_11eb_8028_acde48001122row6_col0\" class=\"data row6 col0\" >Test</td>\n",
       "                        <td id=\"T_da3f7304_adba_11eb_8028_acde48001122row6_col1\" class=\"data row6 col1\" >0.092700</td>\n",
       "                        <td id=\"T_da3f7304_adba_11eb_8028_acde48001122row6_col2\" class=\"data row6 col2\" >73.459300</td>\n",
       "            </tr>\n",
       "            <tr>\n",
       "                        <th id=\"T_da3f7304_adba_11eb_8028_acde48001122level0_row7\" class=\"row_heading level0 row7\" >VarThresh=2.0</th>\n",
       "                        <td id=\"T_da3f7304_adba_11eb_8028_acde48001122row7_col0\" class=\"data row7 col0\" >Test</td>\n",
       "                        <td id=\"T_da3f7304_adba_11eb_8028_acde48001122row7_col1\" class=\"data row7 col1\" >0.042000</td>\n",
       "                        <td id=\"T_da3f7304_adba_11eb_8028_acde48001122row7_col2\" class=\"data row7 col2\" >75.483900</td>\n",
       "            </tr>\n",
       "            <tr>\n",
       "                        <th id=\"T_da3f7304_adba_11eb_8028_acde48001122level0_row8\" class=\"row_heading level0 row8\" >KBest-f_regr</th>\n",
       "                        <td id=\"T_da3f7304_adba_11eb_8028_acde48001122row8_col0\" class=\"data row8 col0\" >Test</td>\n",
       "                        <td id=\"T_da3f7304_adba_11eb_8028_acde48001122row8_col1\" class=\"data row8 col1\" >0.425000</td>\n",
       "                        <td id=\"T_da3f7304_adba_11eb_8028_acde48001122row8_col2\" class=\"data row8 col2\" >58.479900</td>\n",
       "            </tr>\n",
       "            <tr>\n",
       "                        <th id=\"T_da3f7304_adba_11eb_8028_acde48001122level0_row9\" class=\"row_heading level0 row9\" >KBest-mutual_info</th>\n",
       "                        <td id=\"T_da3f7304_adba_11eb_8028_acde48001122row9_col0\" class=\"data row9 col0\" >Test</td>\n",
       "                        <td id=\"T_da3f7304_adba_11eb_8028_acde48001122row9_col1\" class=\"data row9 col1\" >0.391700</td>\n",
       "                        <td id=\"T_da3f7304_adba_11eb_8028_acde48001122row9_col2\" class=\"data row9 col2\" >60.151300</td>\n",
       "            </tr>\n",
       "            <tr>\n",
       "                        <th id=\"T_da3f7304_adba_11eb_8028_acde48001122level0_row10\" class=\"row_heading level0 row10\" >RFE w. 10 feats</th>\n",
       "                        <td id=\"T_da3f7304_adba_11eb_8028_acde48001122row10_col0\" class=\"data row10 col0\" >Test</td>\n",
       "                        <td id=\"T_da3f7304_adba_11eb_8028_acde48001122row10_col1\" class=\"data row10 col1\" >0.374200</td>\n",
       "                        <td id=\"T_da3f7304_adba_11eb_8028_acde48001122row10_col2\" class=\"data row10 col2\" >61.009600</td>\n",
       "            </tr>\n",
       "            <tr>\n",
       "                        <th id=\"T_da3f7304_adba_11eb_8028_acde48001122level0_row11\" class=\"row_heading level0 row11\" >Lasso - X data</th>\n",
       "                        <td id=\"T_da3f7304_adba_11eb_8028_acde48001122row11_col0\" class=\"data row11 col0\" >Test</td>\n",
       "                        <td id=\"T_da3f7304_adba_11eb_8028_acde48001122row11_col1\" class=\"data row11 col1\" >0.426700</td>\n",
       "                        <td id=\"T_da3f7304_adba_11eb_8028_acde48001122row11_col2\" class=\"data row11 col2\" >58.393100</td>\n",
       "            </tr>\n",
       "            <tr>\n",
       "                        <th id=\"T_da3f7304_adba_11eb_8028_acde48001122level0_row12\" class=\"row_heading level0 row12\" >Lasso Poly </th>\n",
       "                        <td id=\"T_da3f7304_adba_11eb_8028_acde48001122row12_col0\" class=\"data row12 col0\" >Test</td>\n",
       "                        <td id=\"T_da3f7304_adba_11eb_8028_acde48001122row12_col1\" class=\"data row12 col1\" >0.430700</td>\n",
       "                        <td id=\"T_da3f7304_adba_11eb_8028_acde48001122row12_col2\" class=\"data row12 col2\" >58.191400</td>\n",
       "            </tr>\n",
       "    </tbody></table>"
      ],
      "text/plain": [
       "<pandas.io.formats.style.Styler at 0x7fb76d3e6250>"
      ]
     },
     "execution_count": 63,
     "metadata": {},
     "output_type": "execute_result"
    }
   ],
   "source": [
    "res_df = pd.concat(RESULTS)\n",
    "test_res = res_df.groupby('Data').get_group('Test')\n",
    "test_res.set_index(['Note']).style.highlight_max('R2')#.sort_values('MSE',ascending=True)#.groupby('Data').get_group('Test')\n"
   ]
  },
  {
   "cell_type": "code",
   "execution_count": 64,
   "metadata": {
    "ExecuteTime": {
     "end_time": "2021-05-05T15:59:20.235196Z",
     "start_time": "2021-05-05T15:59:20.214005Z"
    }
   },
   "outputs": [
    {
     "data": {
      "text/html": [
       "<style  type=\"text/css\" >\n",
       "#T_da42f4b6_adba_11eb_8028_acde48001122row0_col2{\n",
       "            background-color:  #005020;\n",
       "            color:  #f1f1f1;\n",
       "        }#T_da42f4b6_adba_11eb_8028_acde48001122row1_col2,#T_da42f4b6_adba_11eb_8028_acde48001122row2_col2{\n",
       "            background-color:  #0d7836;\n",
       "            color:  #f1f1f1;\n",
       "        }#T_da42f4b6_adba_11eb_8028_acde48001122row3_col2{\n",
       "            background-color:  #16803c;\n",
       "            color:  #f1f1f1;\n",
       "        }#T_da42f4b6_adba_11eb_8028_acde48001122row4_col2{\n",
       "            background-color:  #127c39;\n",
       "            color:  #f1f1f1;\n",
       "        }#T_da42f4b6_adba_11eb_8028_acde48001122row5_col2{\n",
       "            background-color:  #f7fcf5;\n",
       "            color:  #000000;\n",
       "        }#T_da42f4b6_adba_11eb_8028_acde48001122row6_col2{\n",
       "            background-color:  #e5f5e0;\n",
       "            color:  #000000;\n",
       "        }#T_da42f4b6_adba_11eb_8028_acde48001122row7_col2{\n",
       "            background-color:  #f5fbf3;\n",
       "            color:  #000000;\n",
       "        }#T_da42f4b6_adba_11eb_8028_acde48001122row8_col2{\n",
       "            background-color:  #00491d;\n",
       "            color:  #f1f1f1;\n",
       "        }#T_da42f4b6_adba_11eb_8028_acde48001122row9_col2{\n",
       "            background-color:  #00682a;\n",
       "            color:  #f1f1f1;\n",
       "        }#T_da42f4b6_adba_11eb_8028_acde48001122row10_col2{\n",
       "            background-color:  #0a7633;\n",
       "            color:  #f1f1f1;\n",
       "        }#T_da42f4b6_adba_11eb_8028_acde48001122row11_col2{\n",
       "            background-color:  #00471c;\n",
       "            color:  #f1f1f1;\n",
       "        }#T_da42f4b6_adba_11eb_8028_acde48001122row12_col2{\n",
       "            background-color:  #00441b;\n",
       "            color:  #f1f1f1;\n",
       "        }</style><table id=\"T_da42f4b6_adba_11eb_8028_acde48001122\" ><thead>    <tr>        <th class=\"blank level0\" ></th>        <th class=\"col_heading level0 col0\" >Data</th>        <th class=\"col_heading level0 col1\" >R2</th>        <th class=\"col_heading level0 col2\" >RMSE</th>    </tr>    <tr>        <th class=\"index_name level0\" >Note</th>        <th class=\"blank\" ></th>        <th class=\"blank\" ></th>        <th class=\"blank\" ></th>    </tr></thead><tbody>\n",
       "                <tr>\n",
       "                        <th id=\"T_da42f4b6_adba_11eb_8028_acde48001122level0_row0\" class=\"row_heading level0 row0\" >Baseline</th>\n",
       "                        <td id=\"T_da42f4b6_adba_11eb_8028_acde48001122row0_col0\" class=\"data row0 col0\" >Test</td>\n",
       "                        <td id=\"T_da42f4b6_adba_11eb_8028_acde48001122row0_col1\" class=\"data row0 col1\" >0.418000</td>\n",
       "                        <td id=\"T_da42f4b6_adba_11eb_8028_acde48001122row0_col2\" class=\"data row0 col2\" >58.835900</td>\n",
       "            </tr>\n",
       "            <tr>\n",
       "                        <th id=\"T_da42f4b6_adba_11eb_8028_acde48001122level0_row1\" class=\"row_heading level0 row1\" >Poly</th>\n",
       "                        <td id=\"T_da42f4b6_adba_11eb_8028_acde48001122row1_col0\" class=\"data row1 col0\" >Test</td>\n",
       "                        <td id=\"T_da42f4b6_adba_11eb_8028_acde48001122row1_col1\" class=\"data row1 col1\" >0.368900</td>\n",
       "                        <td id=\"T_da42f4b6_adba_11eb_8028_acde48001122row1_col2\" class=\"data row1 col2\" >61.267800</td>\n",
       "            </tr>\n",
       "            <tr>\n",
       "                        <th id=\"T_da42f4b6_adba_11eb_8028_acde48001122level0_row2\" class=\"row_heading level0 row2\" >VarThresh=0.0</th>\n",
       "                        <td id=\"T_da42f4b6_adba_11eb_8028_acde48001122row2_col0\" class=\"data row2 col0\" >Test</td>\n",
       "                        <td id=\"T_da42f4b6_adba_11eb_8028_acde48001122row2_col1\" class=\"data row2 col1\" >0.368900</td>\n",
       "                        <td id=\"T_da42f4b6_adba_11eb_8028_acde48001122row2_col2\" class=\"data row2 col2\" >61.267800</td>\n",
       "            </tr>\n",
       "            <tr>\n",
       "                        <th id=\"T_da42f4b6_adba_11eb_8028_acde48001122level0_row3\" class=\"row_heading level0 row3\" >VarThresh=0.4</th>\n",
       "                        <td id=\"T_da42f4b6_adba_11eb_8028_acde48001122row3_col0\" class=\"data row3 col0\" >Test</td>\n",
       "                        <td id=\"T_da42f4b6_adba_11eb_8028_acde48001122row3_col1\" class=\"data row3 col1\" >0.358100</td>\n",
       "                        <td id=\"T_da42f4b6_adba_11eb_8028_acde48001122row3_col2\" class=\"data row3 col2\" >61.789200</td>\n",
       "            </tr>\n",
       "            <tr>\n",
       "                        <th id=\"T_da42f4b6_adba_11eb_8028_acde48001122level0_row4\" class=\"row_heading level0 row4\" >VarThresh=0.8</th>\n",
       "                        <td id=\"T_da42f4b6_adba_11eb_8028_acde48001122row4_col0\" class=\"data row4 col0\" >Test</td>\n",
       "                        <td id=\"T_da42f4b6_adba_11eb_8028_acde48001122row4_col1\" class=\"data row4 col1\" >0.364000</td>\n",
       "                        <td id=\"T_da42f4b6_adba_11eb_8028_acde48001122row4_col2\" class=\"data row4 col2\" >61.502900</td>\n",
       "            </tr>\n",
       "            <tr>\n",
       "                        <th id=\"T_da42f4b6_adba_11eb_8028_acde48001122level0_row5\" class=\"row_heading level0 row5\" >VarThresh=1.2</th>\n",
       "                        <td id=\"T_da42f4b6_adba_11eb_8028_acde48001122row5_col0\" class=\"data row5 col0\" >Test</td>\n",
       "                        <td id=\"T_da42f4b6_adba_11eb_8028_acde48001122row5_col1\" class=\"data row5 col1\" >0.036300</td>\n",
       "                        <td id=\"T_da42f4b6_adba_11eb_8028_acde48001122row5_col2\" class=\"data row5 col2\" >75.710100</td>\n",
       "            </tr>\n",
       "            <tr>\n",
       "                        <th id=\"T_da42f4b6_adba_11eb_8028_acde48001122level0_row6\" class=\"row_heading level0 row6\" >VarThresh=1.6</th>\n",
       "                        <td id=\"T_da42f4b6_adba_11eb_8028_acde48001122row6_col0\" class=\"data row6 col0\" >Test</td>\n",
       "                        <td id=\"T_da42f4b6_adba_11eb_8028_acde48001122row6_col1\" class=\"data row6 col1\" >0.092700</td>\n",
       "                        <td id=\"T_da42f4b6_adba_11eb_8028_acde48001122row6_col2\" class=\"data row6 col2\" >73.459300</td>\n",
       "            </tr>\n",
       "            <tr>\n",
       "                        <th id=\"T_da42f4b6_adba_11eb_8028_acde48001122level0_row7\" class=\"row_heading level0 row7\" >VarThresh=2.0</th>\n",
       "                        <td id=\"T_da42f4b6_adba_11eb_8028_acde48001122row7_col0\" class=\"data row7 col0\" >Test</td>\n",
       "                        <td id=\"T_da42f4b6_adba_11eb_8028_acde48001122row7_col1\" class=\"data row7 col1\" >0.042000</td>\n",
       "                        <td id=\"T_da42f4b6_adba_11eb_8028_acde48001122row7_col2\" class=\"data row7 col2\" >75.483900</td>\n",
       "            </tr>\n",
       "            <tr>\n",
       "                        <th id=\"T_da42f4b6_adba_11eb_8028_acde48001122level0_row8\" class=\"row_heading level0 row8\" >KBest-f_regr</th>\n",
       "                        <td id=\"T_da42f4b6_adba_11eb_8028_acde48001122row8_col0\" class=\"data row8 col0\" >Test</td>\n",
       "                        <td id=\"T_da42f4b6_adba_11eb_8028_acde48001122row8_col1\" class=\"data row8 col1\" >0.425000</td>\n",
       "                        <td id=\"T_da42f4b6_adba_11eb_8028_acde48001122row8_col2\" class=\"data row8 col2\" >58.479900</td>\n",
       "            </tr>\n",
       "            <tr>\n",
       "                        <th id=\"T_da42f4b6_adba_11eb_8028_acde48001122level0_row9\" class=\"row_heading level0 row9\" >KBest-mutual_info</th>\n",
       "                        <td id=\"T_da42f4b6_adba_11eb_8028_acde48001122row9_col0\" class=\"data row9 col0\" >Test</td>\n",
       "                        <td id=\"T_da42f4b6_adba_11eb_8028_acde48001122row9_col1\" class=\"data row9 col1\" >0.391700</td>\n",
       "                        <td id=\"T_da42f4b6_adba_11eb_8028_acde48001122row9_col2\" class=\"data row9 col2\" >60.151300</td>\n",
       "            </tr>\n",
       "            <tr>\n",
       "                        <th id=\"T_da42f4b6_adba_11eb_8028_acde48001122level0_row10\" class=\"row_heading level0 row10\" >RFE w. 10 feats</th>\n",
       "                        <td id=\"T_da42f4b6_adba_11eb_8028_acde48001122row10_col0\" class=\"data row10 col0\" >Test</td>\n",
       "                        <td id=\"T_da42f4b6_adba_11eb_8028_acde48001122row10_col1\" class=\"data row10 col1\" >0.374200</td>\n",
       "                        <td id=\"T_da42f4b6_adba_11eb_8028_acde48001122row10_col2\" class=\"data row10 col2\" >61.009600</td>\n",
       "            </tr>\n",
       "            <tr>\n",
       "                        <th id=\"T_da42f4b6_adba_11eb_8028_acde48001122level0_row11\" class=\"row_heading level0 row11\" >Lasso - X data</th>\n",
       "                        <td id=\"T_da42f4b6_adba_11eb_8028_acde48001122row11_col0\" class=\"data row11 col0\" >Test</td>\n",
       "                        <td id=\"T_da42f4b6_adba_11eb_8028_acde48001122row11_col1\" class=\"data row11 col1\" >0.426700</td>\n",
       "                        <td id=\"T_da42f4b6_adba_11eb_8028_acde48001122row11_col2\" class=\"data row11 col2\" >58.393100</td>\n",
       "            </tr>\n",
       "            <tr>\n",
       "                        <th id=\"T_da42f4b6_adba_11eb_8028_acde48001122level0_row12\" class=\"row_heading level0 row12\" >Lasso Poly </th>\n",
       "                        <td id=\"T_da42f4b6_adba_11eb_8028_acde48001122row12_col0\" class=\"data row12 col0\" >Test</td>\n",
       "                        <td id=\"T_da42f4b6_adba_11eb_8028_acde48001122row12_col1\" class=\"data row12 col1\" >0.430700</td>\n",
       "                        <td id=\"T_da42f4b6_adba_11eb_8028_acde48001122row12_col2\" class=\"data row12 col2\" >58.191400</td>\n",
       "            </tr>\n",
       "    </tbody></table>"
      ],
      "text/plain": [
       "<pandas.io.formats.style.Styler at 0x7fb7884905b0>"
      ]
     },
     "metadata": {},
     "output_type": "display_data"
    }
   ],
   "source": [
    "show_results(RESULTS,style_kws=dict(subset=['RMSE'],\n",
    "                                   cmap = plt.cm.get_cmap('Greens').reversed()))"
   ]
  },
  {
   "cell_type": "markdown",
   "metadata": {},
   "source": [
    "> As we can see, the regularization had minimal effect on the performance of the model, but it did improve the RMSE for the test set ever so slightly! There are no set steps someone should take in order to determine the optimal feature set. In fact, now there are automated machine learning pipelines that will determine the optimal subset of features for a given problem. One of the most important and often overlooked methods of feature selection is using domain knowledge about a given area to either eliminate features or create new ones."
   ]
  }
 ],
 "metadata": {
  "kernelspec": {
   "display_name": "learn-env-new",
   "language": "python",
   "name": "learn-env-new"
  },
  "language_info": {
   "codemirror_mode": {
    "name": "ipython",
    "version": 3
   },
   "file_extension": ".py",
   "mimetype": "text/x-python",
   "name": "python",
   "nbconvert_exporter": "python",
   "pygments_lexer": "ipython3",
   "version": "3.8.5"
  },
  "toc": {
   "base_numbering": 1,
   "nav_menu": {},
   "number_sections": true,
   "sideBar": true,
   "skip_h1_title": false,
   "title_cell": "Table of Contents",
   "title_sidebar": "Contents",
   "toc_cell": false,
   "toc_position": {
    "height": "calc(100% - 180px)",
    "left": "10px",
    "top": "150px",
    "width": "320px"
   },
   "toc_section_display": true,
   "toc_window_display": true
  },
  "varInspector": {
   "cols": {
    "lenName": 16,
    "lenType": 16,
    "lenVar": 40
   },
   "kernels_config": {
    "python": {
     "delete_cmd_postfix": "",
     "delete_cmd_prefix": "del ",
     "library": "var_list.py",
     "varRefreshCmd": "print(var_dic_list())"
    },
    "r": {
     "delete_cmd_postfix": ") ",
     "delete_cmd_prefix": "rm(",
     "library": "var_list.r",
     "varRefreshCmd": "cat(var_dic_list()) "
    }
   },
   "types_to_exclude": [
    "module",
    "function",
    "builtin_function_or_method",
    "instance",
    "_Feature"
   ],
   "window_display": false
  }
 },
 "nbformat": 4,
 "nbformat_minor": 2
}
