{
 "cells": [
  {
   "cell_type": "markdown",
   "metadata": {},
   "source": [
    "# Sect 25-Pt 2: Intro to Logistic Regression "
   ]
  },
  {
   "cell_type": "markdown",
   "metadata": {},
   "source": [
    "- online-ds-pt-041320\n",
    "- 09/02/20"
   ]
  },
  {
   "cell_type": "markdown",
   "metadata": {},
   "source": [
    "## Topics in Sect 25"
   ]
  },
  {
   "cell_type": "markdown",
   "metadata": {},
   "source": [
    "- Last Class:\n",
    "    - Supervised vs Unsupervised Learning\n",
    "    - Logistic Regression - Theory\n",
    "    - Applying Logistic Regression with `statsmodels`\n",
    "    - Evaluating Classifiers\n",
    "        - Accuracy, Precision, Recall, F1-Score\n",
    "        - Confusion Matrices\n",
    "\n",
    "\n",
    "- Today:\n",
    "    - Applying Logistic Regression with scikit-learn\n",
    "    - Evaluating Classifiers:\n",
    "        - ROC-AUC curve\n",
    "    - Class Imbalance Problems"
   ]
  },
  {
   "cell_type": "markdown",
   "metadata": {},
   "source": [
    "## Questions?"
   ]
  },
  {
   "cell_type": "markdown",
   "metadata": {},
   "source": [
    "### From Last Class/Gdoc"
   ]
  },
  {
   "cell_type": "markdown",
   "metadata": {},
   "source": [
    "- I’m confused about ROC and AUC. \n",
    "    - how are the false positive or false negative percents a parameter for ROC? \n",
    "    - How do you graph one vs the other when they are fixed values?<br>I don’t think I’m understanding what’s going on under the hood with this function…\n",
    "\n",
    "\n",
    "- Pseudo R-squared from Statsmodels Logit summary\n",
    "\n",
    "\n",
    "- Logistic Regression in Scikit Learn  Lab: \n",
    "    - Why didnt they do the get dummies?\n",
    "    - \n",
    "logreg = `LogisticRegression(fit_intercept = False, C = 1e12, solver = 'liblinear')` \n",
    "        - why is the fit_intercept False, and why do we assign large value to C?\n",
    "        \n",
    "\n"
   ]
  },
  {
   "cell_type": "markdown",
   "metadata": {},
   "source": [
    "### Answers"
   ]
  },
  {
   "cell_type": "markdown",
   "metadata": {},
   "source": [
    "#### **Pseudo R-Squared: Stack Overflow Discussion:**\n",
    "> \"Those unfamiliar with 𝜌2 should be forewarned that its values tend to be considerably lower than those of the 𝑅2 index...For example, values of 0.2 to 0.4 for 𝜌2 represent EXCELLENT fit.\"\n",
    "<br><br> So basically, 𝜌2 can be interpreted like 𝑅2, but don't expect it to be as big. And values from 0.2-0.4 indicate (in McFadden's words) excellent model fit.\"\n",
    "- Source: https://stats.stackexchange.com/questions/82105/mcfaddens-pseudo-r2-interpretation\n",
    "    \n",
    "    "
   ]
  },
  {
   "cell_type": "markdown",
   "metadata": {},
   "source": [
    "#### Scikit Learn Logistic Regression parameters:\n",
    "- From the docstring for LogsisticRegression,C:\n",
    "```C : float, default=1.0\n",
    "    Inverse of regularization strength; must be a positive float.\n",
    "    Like in support vector machines, smaller values specify strong```\n",
    "    \n",
    "- Scikit-Learn Logistic Regression User Guide:\n",
    "    - https://scikit-learn.org/stable/modules/linear_model.html#logistic-regression"
   ]
  },
  {
   "cell_type": "markdown",
   "metadata": {},
   "source": [
    "# Previously on..."
   ]
  },
  {
   "cell_type": "markdown",
   "metadata": {},
   "source": [
    "## Implementing Logistic Regression"
   ]
  },
  {
   "cell_type": "markdown",
   "metadata": {},
   "source": [
    "#### Predict Passenger Survival on Titanic"
   ]
  },
  {
   "cell_type": "code",
   "execution_count": 1,
   "metadata": {
    "ExecuteTime": {
     "end_time": "2021-05-06T14:31:39.906066Z",
     "start_time": "2021-05-06T14:31:08.172149Z"
    },
    "scrolled": true
   },
   "outputs": [
    {
     "name": "stdout",
     "output_type": "stream",
     "text": [
      "fsds v0.2.30 loaded.  Read the docs: https://fs-ds.readthedocs.io/en/latest/ \n"
     ]
    },
    {
     "data": {
      "text/html": [
       "<style  type=\"text/css\" >\n",
       "</style><table id=\"T_ba71b47a_ae77_11eb_ac36_acde48001122\" ><caption>Loaded Packages and Handles</caption><thead>    <tr>        <th class=\"col_heading level0 col0\" >Handle</th>        <th class=\"col_heading level0 col1\" >Package</th>        <th class=\"col_heading level0 col2\" >Description</th>    </tr></thead><tbody>\n",
       "                <tr>\n",
       "                                <td id=\"T_ba71b47a_ae77_11eb_ac36_acde48001122row0_col0\" class=\"data row0 col0\" >dp</td>\n",
       "                        <td id=\"T_ba71b47a_ae77_11eb_ac36_acde48001122row0_col1\" class=\"data row0 col1\" >IPython.display</td>\n",
       "                        <td id=\"T_ba71b47a_ae77_11eb_ac36_acde48001122row0_col2\" class=\"data row0 col2\" >Display modules with helpful display and clearing commands.</td>\n",
       "            </tr>\n",
       "            <tr>\n",
       "                                <td id=\"T_ba71b47a_ae77_11eb_ac36_acde48001122row1_col0\" class=\"data row1 col0\" >fs</td>\n",
       "                        <td id=\"T_ba71b47a_ae77_11eb_ac36_acde48001122row1_col1\" class=\"data row1 col1\" >fsds</td>\n",
       "                        <td id=\"T_ba71b47a_ae77_11eb_ac36_acde48001122row1_col2\" class=\"data row1 col2\" >Custom data science bootcamp student package</td>\n",
       "            </tr>\n",
       "            <tr>\n",
       "                                <td id=\"T_ba71b47a_ae77_11eb_ac36_acde48001122row2_col0\" class=\"data row2 col0\" >mpl</td>\n",
       "                        <td id=\"T_ba71b47a_ae77_11eb_ac36_acde48001122row2_col1\" class=\"data row2 col1\" >matplotlib</td>\n",
       "                        <td id=\"T_ba71b47a_ae77_11eb_ac36_acde48001122row2_col2\" class=\"data row2 col2\" >Matplotlib's base OOP module with formatting artists</td>\n",
       "            </tr>\n",
       "            <tr>\n",
       "                                <td id=\"T_ba71b47a_ae77_11eb_ac36_acde48001122row3_col0\" class=\"data row3 col0\" >plt</td>\n",
       "                        <td id=\"T_ba71b47a_ae77_11eb_ac36_acde48001122row3_col1\" class=\"data row3 col1\" >matplotlib.pyplot</td>\n",
       "                        <td id=\"T_ba71b47a_ae77_11eb_ac36_acde48001122row3_col2\" class=\"data row3 col2\" >Matplotlib's matlab-like plotting module</td>\n",
       "            </tr>\n",
       "            <tr>\n",
       "                                <td id=\"T_ba71b47a_ae77_11eb_ac36_acde48001122row4_col0\" class=\"data row4 col0\" >np</td>\n",
       "                        <td id=\"T_ba71b47a_ae77_11eb_ac36_acde48001122row4_col1\" class=\"data row4 col1\" >numpy</td>\n",
       "                        <td id=\"T_ba71b47a_ae77_11eb_ac36_acde48001122row4_col2\" class=\"data row4 col2\" >scientific computing with Python</td>\n",
       "            </tr>\n",
       "            <tr>\n",
       "                                <td id=\"T_ba71b47a_ae77_11eb_ac36_acde48001122row5_col0\" class=\"data row5 col0\" >pd</td>\n",
       "                        <td id=\"T_ba71b47a_ae77_11eb_ac36_acde48001122row5_col1\" class=\"data row5 col1\" >pandas</td>\n",
       "                        <td id=\"T_ba71b47a_ae77_11eb_ac36_acde48001122row5_col2\" class=\"data row5 col2\" >High performance data structures and tools</td>\n",
       "            </tr>\n",
       "            <tr>\n",
       "                                <td id=\"T_ba71b47a_ae77_11eb_ac36_acde48001122row6_col0\" class=\"data row6 col0\" >sns</td>\n",
       "                        <td id=\"T_ba71b47a_ae77_11eb_ac36_acde48001122row6_col1\" class=\"data row6 col1\" >seaborn</td>\n",
       "                        <td id=\"T_ba71b47a_ae77_11eb_ac36_acde48001122row6_col2\" class=\"data row6 col2\" >High-level data visualization library based on matplotlib</td>\n",
       "            </tr>\n",
       "    </tbody></table>"
      ],
      "text/plain": [
       "<pandas.io.formats.style.Styler at 0x7fd1136373c8>"
      ]
     },
     "metadata": {},
     "output_type": "display_data"
    },
    {
     "data": {
      "text/html": [
       "        <script type=\"text/javascript\">\n",
       "        window.PlotlyConfig = {MathJaxConfig: 'local'};\n",
       "        if (window.MathJax) {MathJax.Hub.Config({SVG: {font: \"STIX-Web\"}});}\n",
       "        if (typeof require !== 'undefined') {\n",
       "        require.undef(\"plotly\");\n",
       "        requirejs.config({\n",
       "            paths: {\n",
       "                'plotly': ['https://cdn.plot.ly/plotly-latest.min']\n",
       "            }\n",
       "        });\n",
       "        require(['plotly'], function(Plotly) {\n",
       "            window._Plotly = Plotly;\n",
       "        });\n",
       "        }\n",
       "        </script>\n",
       "        "
      ]
     },
     "metadata": {},
     "output_type": "display_data"
    },
    {
     "data": {
      "text/html": [
       "        <script type=\"text/javascript\">\n",
       "        window.PlotlyConfig = {MathJaxConfig: 'local'};\n",
       "        if (window.MathJax) {MathJax.Hub.Config({SVG: {font: \"STIX-Web\"}});}\n",
       "        if (typeof require !== 'undefined') {\n",
       "        require.undef(\"plotly\");\n",
       "        requirejs.config({\n",
       "            paths: {\n",
       "                'plotly': ['https://cdn.plot.ly/plotly-latest.min']\n",
       "            }\n",
       "        });\n",
       "        require(['plotly'], function(Plotly) {\n",
       "            window._Plotly = Plotly;\n",
       "        });\n",
       "        }\n",
       "        </script>\n",
       "        "
      ]
     },
     "metadata": {},
     "output_type": "display_data"
    },
    {
     "name": "stdout",
     "output_type": "stream",
     "text": [
      "[i] Pandas .iplot() method activated.\n"
     ]
    }
   ],
   "source": [
    "# !pip install fsds\n",
    "from fsds.imports import *"
   ]
  },
  {
   "cell_type": "code",
   "execution_count": 2,
   "metadata": {
    "ExecuteTime": {
     "end_time": "2021-05-06T14:31:41.412905Z",
     "start_time": "2021-05-06T14:31:39.909131Z"
    }
   },
   "outputs": [
    {
     "data": {
      "text/html": [
       "<div>\n",
       "<style scoped>\n",
       "    .dataframe tbody tr th:only-of-type {\n",
       "        vertical-align: middle;\n",
       "    }\n",
       "\n",
       "    .dataframe tbody tr th {\n",
       "        vertical-align: top;\n",
       "    }\n",
       "\n",
       "    .dataframe thead th {\n",
       "        text-align: right;\n",
       "    }\n",
       "</style>\n",
       "<table border=\"1\" class=\"dataframe\">\n",
       "  <thead>\n",
       "    <tr style=\"text-align: right;\">\n",
       "      <th></th>\n",
       "      <th>Pclass</th>\n",
       "      <th>Age</th>\n",
       "      <th>SibSp</th>\n",
       "      <th>Fare</th>\n",
       "      <th>Sex</th>\n",
       "      <th>Embarked</th>\n",
       "      <th>Survived</th>\n",
       "    </tr>\n",
       "  </thead>\n",
       "  <tbody>\n",
       "    <tr>\n",
       "      <th>0</th>\n",
       "      <td>3</td>\n",
       "      <td>22.0</td>\n",
       "      <td>1</td>\n",
       "      <td>7.2500</td>\n",
       "      <td>male</td>\n",
       "      <td>S</td>\n",
       "      <td>0</td>\n",
       "    </tr>\n",
       "    <tr>\n",
       "      <th>1</th>\n",
       "      <td>1</td>\n",
       "      <td>38.0</td>\n",
       "      <td>1</td>\n",
       "      <td>71.2833</td>\n",
       "      <td>female</td>\n",
       "      <td>C</td>\n",
       "      <td>1</td>\n",
       "    </tr>\n",
       "    <tr>\n",
       "      <th>2</th>\n",
       "      <td>3</td>\n",
       "      <td>26.0</td>\n",
       "      <td>0</td>\n",
       "      <td>7.9250</td>\n",
       "      <td>female</td>\n",
       "      <td>S</td>\n",
       "      <td>1</td>\n",
       "    </tr>\n",
       "    <tr>\n",
       "      <th>3</th>\n",
       "      <td>1</td>\n",
       "      <td>35.0</td>\n",
       "      <td>1</td>\n",
       "      <td>53.1000</td>\n",
       "      <td>female</td>\n",
       "      <td>S</td>\n",
       "      <td>1</td>\n",
       "    </tr>\n",
       "    <tr>\n",
       "      <th>4</th>\n",
       "      <td>3</td>\n",
       "      <td>35.0</td>\n",
       "      <td>0</td>\n",
       "      <td>8.0500</td>\n",
       "      <td>male</td>\n",
       "      <td>S</td>\n",
       "      <td>0</td>\n",
       "    </tr>\n",
       "  </tbody>\n",
       "</table>\n",
       "</div>"
      ],
      "text/plain": [
       "  Pclass   Age  SibSp     Fare     Sex Embarked  Survived\n",
       "0      3  22.0      1   7.2500    male        S         0\n",
       "1      1  38.0      1  71.2833  female        C         1\n",
       "2      3  26.0      0   7.9250  female        S         1\n",
       "3      1  35.0      1  53.1000  female        S         1\n",
       "4      3  35.0      0   8.0500    male        S         0"
      ]
     },
     "execution_count": 2,
     "metadata": {},
     "output_type": "execute_result"
    }
   ],
   "source": [
    "df = fs.datasets.load_titanic(read_csv_kwds={'index_col':0})\n",
    "relevant_columns = ['Pclass', 'Age', 'SibSp', 'Fare', 'Sex', 'Embarked', 'Survived']\n",
    "df = df[relevant_columns]\n",
    "df.head()"
   ]
  },
  {
   "cell_type": "code",
   "execution_count": 3,
   "metadata": {
    "ExecuteTime": {
     "end_time": "2021-05-06T14:31:41.423870Z",
     "start_time": "2021-05-06T14:31:41.415532Z"
    }
   },
   "outputs": [
    {
     "name": "stdout",
     "output_type": "stream",
     "text": [
      "<class 'pandas.core.frame.DataFrame'>\n",
      "Int64Index: 891 entries, 0 to 890\n",
      "Data columns (total 7 columns):\n",
      " #   Column    Non-Null Count  Dtype  \n",
      "---  ------    --------------  -----  \n",
      " 0   Pclass    891 non-null    object \n",
      " 1   Age       714 non-null    float64\n",
      " 2   SibSp     891 non-null    int64  \n",
      " 3   Fare      891 non-null    float64\n",
      " 4   Sex       891 non-null    object \n",
      " 5   Embarked  889 non-null    object \n",
      " 6   Survived  891 non-null    int64  \n",
      "dtypes: float64(2), int64(2), object(3)\n",
      "memory usage: 55.7+ KB\n"
     ]
    }
   ],
   "source": [
    "df.info()"
   ]
  },
  {
   "cell_type": "code",
   "execution_count": 4,
   "metadata": {
    "ExecuteTime": {
     "end_time": "2021-05-06T14:31:41.431586Z",
     "start_time": "2021-05-06T14:31:41.426854Z"
    }
   },
   "outputs": [],
   "source": [
    "# Recast Number Cols\n",
    "df['Pclass'] = pd.to_numeric(df['Pclass'],errors='coerce')"
   ]
  },
  {
   "cell_type": "code",
   "execution_count": 5,
   "metadata": {
    "ExecuteTime": {
     "end_time": "2021-05-06T14:31:41.537694Z",
     "start_time": "2021-05-06T14:31:41.433995Z"
    }
   },
   "outputs": [
    {
     "data": {
      "text/plain": [
       "0    0.616162\n",
       "1    0.383838\n",
       "Name: Survived, dtype: float64"
      ]
     },
     "execution_count": 5,
     "metadata": {},
     "output_type": "execute_result"
    }
   ],
   "source": [
    "df['Survived'].value_counts(normalize=True,dropna=False)"
   ]
  },
  {
   "cell_type": "code",
   "execution_count": 6,
   "metadata": {
    "ExecuteTime": {
     "end_time": "2021-05-06T14:31:41.912575Z",
     "start_time": "2021-05-06T14:31:41.542240Z"
    }
   },
   "outputs": [
    {
     "data": {
      "image/png": "[encoded data removed]",
      "text/plain": [
       "<Figure size 432x288 with 1 Axes>"
      ]
     },
     "metadata": {
      "needs_background": "light"
     },
     "output_type": "display_data"
    }
   ],
   "source": [
    "df.plot('Age','Survived',kind='scatter');"
   ]
  },
  {
   "cell_type": "code",
   "execution_count": 7,
   "metadata": {
    "ExecuteTime": {
     "end_time": "2021-05-06T14:31:42.102864Z",
     "start_time": "2021-05-06T14:31:41.916789Z"
    }
   },
   "outputs": [
    {
     "data": {
      "image/png": "[encoded data removed]",
      "text/plain": [
       "<Figure size 432x288 with 1 Axes>"
      ]
     },
     "metadata": {
      "needs_background": "light"
     },
     "output_type": "display_data"
    }
   ],
   "source": [
    "df.plot('Fare','Survived',kind='scatter');"
   ]
  },
  {
   "cell_type": "markdown",
   "metadata": {
    "ExecuteTime": {
     "end_time": "2020-03-24T22:26:15.520827Z",
     "start_time": "2020-03-24T22:26:15.518673Z"
    }
   },
   "source": [
    "### Q: What are the preprocessing steps I need to perform before I create the model?"
   ]
  },
  {
   "cell_type": "markdown",
   "metadata": {},
   "source": [
    "<!-- Fill/drop in missing/null values\n",
    "- Feature Selection / Feature Engineering (interaction terms)\n",
    "- Handling categorial variables\n",
    "    - One Hot Encoding \n",
    "    - Label Encoding\n",
    "- Handling Outliers (maybe apply today)\n",
    "- Normalizing/Standardizing our data\n",
    "\n",
    "- **Multicollinearity (does it still matter as much for Logistic?)**\n",
    "\n",
    "- Train-test-split\n",
    "-->\n",
    "\n",
    "- Train-test-split\n",
    "- Address null values\n",
    "- Encode categorical data\n",
    "- Train Model with train data\n",
    "- Evaluate Model with test data"
   ]
  },
  {
   "cell_type": "markdown",
   "metadata": {},
   "source": [
    "### Preprocessing"
   ]
  },
  {
   "cell_type": "code",
   "execution_count": 8,
   "metadata": {
    "ExecuteTime": {
     "end_time": "2021-05-06T14:31:42.114261Z",
     "start_time": "2021-05-06T14:31:42.105757Z"
    }
   },
   "outputs": [
    {
     "data": {
      "text/plain": [
       "Pclass      0.054994\n",
       "Age         0.198653\n",
       "SibSp       0.000000\n",
       "Fare        0.000000\n",
       "Sex         0.000000\n",
       "Embarked    0.002245\n",
       "Survived    0.000000\n",
       "dtype: float64"
      ]
     },
     "execution_count": 8,
     "metadata": {},
     "output_type": "execute_result"
    }
   ],
   "source": [
    "## Null Values\n",
    "df.isna().sum() / len(df)"
   ]
  },
  {
   "cell_type": "code",
   "execution_count": 9,
   "metadata": {
    "ExecuteTime": {
     "end_time": "2021-05-06T14:31:42.127175Z",
     "start_time": "2021-05-06T14:31:42.118296Z"
    }
   },
   "outputs": [
    {
     "data": {
      "text/plain": [
       "0      0\n",
       "1      1\n",
       "2      1\n",
       "3      1\n",
       "4      0\n",
       "      ..\n",
       "886    0\n",
       "887    1\n",
       "888    0\n",
       "889    1\n",
       "890    0\n",
       "Name: Survived, Length: 891, dtype: int64"
      ]
     },
     "execution_count": 9,
     "metadata": {},
     "output_type": "execute_result"
    }
   ],
   "source": [
    "## Separate X and y\n",
    "target = 'Survived'\n",
    "X = df.drop(columns=target)\n",
    "y = df[target]\n",
    "y"
   ]
  },
  {
   "cell_type": "code",
   "execution_count": 10,
   "metadata": {
    "ExecuteTime": {
     "end_time": "2021-05-06T14:31:42.140495Z",
     "start_time": "2021-05-06T14:31:42.130409Z"
    }
   },
   "outputs": [
    {
     "data": {
      "text/plain": [
       "Index(['Sex', 'Embarked'], dtype='object')"
      ]
     },
     "execution_count": 10,
     "metadata": {},
     "output_type": "execute_result"
    }
   ],
   "source": [
    "## String columns\n",
    "cat_cols = df.drop(columns=target).select_dtypes('O').columns\n",
    "cat_cols"
   ]
  },
  {
   "cell_type": "code",
   "execution_count": 11,
   "metadata": {
    "ExecuteTime": {
     "end_time": "2021-05-06T14:31:42.153096Z",
     "start_time": "2021-05-06T14:31:42.143032Z"
    }
   },
   "outputs": [
    {
     "data": {
      "text/plain": [
       "Index(['Pclass', 'Age', 'SibSp', 'Fare'], dtype='object')"
      ]
     },
     "execution_count": 11,
     "metadata": {},
     "output_type": "execute_result"
    }
   ],
   "source": [
    "## Number cols\n",
    "num_cols = df.drop(columns=target).select_dtypes('number').columns\n",
    "num_cols"
   ]
  },
  {
   "cell_type": "code",
   "execution_count": 12,
   "metadata": {
    "ExecuteTime": {
     "end_time": "2021-05-06T14:31:42.170750Z",
     "start_time": "2021-05-06T14:31:42.155665Z"
    }
   },
   "outputs": [
    {
     "name": "stdout",
     "output_type": "stream",
     "text": [
      "(668, 6) (223,)\n"
     ]
    },
    {
     "data": {
      "text/plain": [
       "0    0.642216\n",
       "1    0.357784\n",
       "Name: Survived, dtype: float64"
      ]
     },
     "execution_count": 12,
     "metadata": {},
     "output_type": "execute_result"
    }
   ],
   "source": [
    "## Train Test Split\n",
    "from sklearn.model_selection import train_test_split\n",
    "X_train, X_test, y_train, y_test = train_test_split(X, y,random_state=221)\n",
    "\n",
    "print(X_train.shape, y_test.shape)\n",
    "pd.Series(y_train).value_counts(1)"
   ]
  },
  {
   "cell_type": "code",
   "execution_count": 13,
   "metadata": {
    "ExecuteTime": {
     "end_time": "2021-05-06T14:31:42.182239Z",
     "start_time": "2021-05-06T14:31:42.174047Z"
    }
   },
   "outputs": [
    {
     "data": {
      "text/plain": [
       "Pclass       29\n",
       "Age         136\n",
       "SibSp         0\n",
       "Fare          0\n",
       "Sex           0\n",
       "Embarked      0\n",
       "dtype: int64"
      ]
     },
     "execution_count": 13,
     "metadata": {},
     "output_type": "execute_result"
    }
   ],
   "source": [
    "X_train.isna().sum()"
   ]
  },
  {
   "cell_type": "code",
   "execution_count": 14,
   "metadata": {
    "ExecuteTime": {
     "end_time": "2021-05-06T14:31:42.191101Z",
     "start_time": "2021-05-06T14:31:42.185050Z"
    }
   },
   "outputs": [],
   "source": [
    "## Saving null value indices\n",
    "train_nulls = X_train.isna().any(axis=1)\n",
    "test_nulls = X_test.isna().any(axis=1)"
   ]
  },
  {
   "cell_type": "code",
   "execution_count": 15,
   "metadata": {
    "ExecuteTime": {
     "end_time": "2021-05-06T14:31:42.202615Z",
     "start_time": "2021-05-06T14:31:42.194398Z"
    }
   },
   "outputs": [],
   "source": [
    "## Dropping Nulls for time\n",
    "X_train = X_train.loc[~train_nulls]\n",
    "y_train = y_train.loc[~train_nulls]\n",
    "\n",
    "X_test = X_test.loc[~test_nulls]\n",
    "y_test = y_test.loc[~test_nulls]\n",
    "# X_train.isna().sum()"
   ]
  },
  {
   "cell_type": "code",
   "execution_count": 16,
   "metadata": {
    "ExecuteTime": {
     "end_time": "2021-05-06T14:31:42.213672Z",
     "start_time": "2021-05-06T14:31:42.205165Z"
    }
   },
   "outputs": [
    {
     "data": {
      "text/plain": [
       "(Pclass      0\n",
       " Age         0\n",
       " SibSp       0\n",
       " Fare        0\n",
       " Sex         0\n",
       " Embarked    0\n",
       " dtype: int64,\n",
       " Pclass      0\n",
       " Age         0\n",
       " SibSp       0\n",
       " Fare        0\n",
       " Sex         0\n",
       " Embarked    0\n",
       " dtype: int64)"
      ]
     },
     "execution_count": 16,
     "metadata": {},
     "output_type": "execute_result"
    }
   ],
   "source": [
    "X_train.isna().sum(), X_test.isna().sum()"
   ]
  },
  {
   "cell_type": "code",
   "execution_count": 17,
   "metadata": {
    "ExecuteTime": {
     "end_time": "2021-05-06T14:31:42.218864Z",
     "start_time": "2021-05-06T14:31:42.216425Z"
    }
   },
   "outputs": [],
   "source": [
    "## REMOVED FROM WORKFLOW\n",
    "# from sklearn.impute import SimpleImputer\n",
    "# imputer_num = SimpleImputer(strategy='median')\n",
    "\n",
    "# X_train[num_cols] = imputer_num.fit_transform(X_train[num_cols])\n",
    "# X_test[num_cols] = imputer_num.transform(X_test[num_cols])\n",
    "\n",
    "# X_train[cat_cols] = imputer_cat.fit_transform(X_train[cat_cols])\n",
    "# X_test[cat_cols] = imputer_cat.transform(X_test[cat_cols])\n"
   ]
  },
  {
   "cell_type": "code",
   "execution_count": 18,
   "metadata": {
    "ExecuteTime": {
     "end_time": "2021-05-06T14:31:42.784267Z",
     "start_time": "2021-05-06T14:31:42.226236Z"
    }
   },
   "outputs": [
    {
     "ename": "KeyError",
     "evalue": "\"None of [Index(['Sex_male', 'Embarked_Q', 'Embarked_S'], dtype='object')] are in the [columns]\"",
     "output_type": "error",
     "traceback": [
      "\u001b[0;31m---------------------------------------------------------------------------\u001b[0m",
      "\u001b[0;31mKeyError\u001b[0m                                  Traceback (most recent call last)",
      "\u001b[0;32m<ipython-input-18-ce672da2a8f6>\u001b[0m in \u001b[0;36m<module>\u001b[0;34m\u001b[0m\n\u001b[1;32m     13\u001b[0m \u001b[0;34m\u001b[0m\u001b[0m\n\u001b[1;32m     14\u001b[0m \u001b[0;31m## Transform X_train and X_test\u001b[0m\u001b[0;34m\u001b[0m\u001b[0;34m\u001b[0m\u001b[0;34m\u001b[0m\u001b[0m\n\u001b[0;32m---> 15\u001b[0;31m \u001b[0mX_train_ohe\u001b[0m\u001b[0;34m[\u001b[0m\u001b[0mohe_cols\u001b[0m\u001b[0;34m]\u001b[0m \u001b[0;34m=\u001b[0m \u001b[0mencoder\u001b[0m\u001b[0;34m.\u001b[0m\u001b[0mtransform\u001b[0m\u001b[0;34m(\u001b[0m\u001b[0mX_train\u001b[0m\u001b[0;34m[\u001b[0m\u001b[0mcat_cols\u001b[0m\u001b[0;34m]\u001b[0m\u001b[0;34m)\u001b[0m\u001b[0;34m\u001b[0m\u001b[0;34m\u001b[0m\u001b[0m\n\u001b[0m\u001b[1;32m     16\u001b[0m \u001b[0mX_test_ohe\u001b[0m\u001b[0;34m[\u001b[0m\u001b[0mohe_cols\u001b[0m\u001b[0;34m]\u001b[0m \u001b[0;34m=\u001b[0m \u001b[0mencoder\u001b[0m\u001b[0;34m.\u001b[0m\u001b[0mtransform\u001b[0m\u001b[0;34m(\u001b[0m\u001b[0mX_test\u001b[0m\u001b[0;34m[\u001b[0m\u001b[0mcat_cols\u001b[0m\u001b[0;34m]\u001b[0m\u001b[0;34m)\u001b[0m\u001b[0;34m\u001b[0m\u001b[0;34m\u001b[0m\u001b[0m\n\u001b[1;32m     17\u001b[0m \u001b[0;34m\u001b[0m\u001b[0m\n",
      "\u001b[0;32m/opt/anaconda3/envs/learn-env/lib/python3.6/site-packages/pandas/core/frame.py\u001b[0m in \u001b[0;36m__setitem__\u001b[0;34m(self, key, value)\u001b[0m\n\u001b[1;32m   2933\u001b[0m             \u001b[0mself\u001b[0m\u001b[0;34m.\u001b[0m\u001b[0m_setitem_frame\u001b[0m\u001b[0;34m(\u001b[0m\u001b[0mkey\u001b[0m\u001b[0;34m,\u001b[0m \u001b[0mvalue\u001b[0m\u001b[0;34m)\u001b[0m\u001b[0;34m\u001b[0m\u001b[0;34m\u001b[0m\u001b[0m\n\u001b[1;32m   2934\u001b[0m         \u001b[0;32melif\u001b[0m \u001b[0misinstance\u001b[0m\u001b[0;34m(\u001b[0m\u001b[0mkey\u001b[0m\u001b[0;34m,\u001b[0m \u001b[0;34m(\u001b[0m\u001b[0mSeries\u001b[0m\u001b[0;34m,\u001b[0m \u001b[0mnp\u001b[0m\u001b[0;34m.\u001b[0m\u001b[0mndarray\u001b[0m\u001b[0;34m,\u001b[0m \u001b[0mlist\u001b[0m\u001b[0;34m,\u001b[0m \u001b[0mIndex\u001b[0m\u001b[0;34m)\u001b[0m\u001b[0;34m)\u001b[0m\u001b[0;34m:\u001b[0m\u001b[0;34m\u001b[0m\u001b[0;34m\u001b[0m\u001b[0m\n\u001b[0;32m-> 2935\u001b[0;31m             \u001b[0mself\u001b[0m\u001b[0;34m.\u001b[0m\u001b[0m_setitem_array\u001b[0m\u001b[0;34m(\u001b[0m\u001b[0mkey\u001b[0m\u001b[0;34m,\u001b[0m \u001b[0mvalue\u001b[0m\u001b[0;34m)\u001b[0m\u001b[0;34m\u001b[0m\u001b[0;34m\u001b[0m\u001b[0m\n\u001b[0m\u001b[1;32m   2936\u001b[0m         \u001b[0;32melse\u001b[0m\u001b[0;34m:\u001b[0m\u001b[0;34m\u001b[0m\u001b[0;34m\u001b[0m\u001b[0m\n\u001b[1;32m   2937\u001b[0m             \u001b[0;31m# set column\u001b[0m\u001b[0;34m\u001b[0m\u001b[0;34m\u001b[0m\u001b[0;34m\u001b[0m\u001b[0m\n",
      "\u001b[0;32m/opt/anaconda3/envs/learn-env/lib/python3.6/site-packages/pandas/core/frame.py\u001b[0m in \u001b[0;36m_setitem_array\u001b[0;34m(self, key, value)\u001b[0m\n\u001b[1;32m   2964\u001b[0m             \u001b[0;32melse\u001b[0m\u001b[0;34m:\u001b[0m\u001b[0;34m\u001b[0m\u001b[0;34m\u001b[0m\u001b[0m\n\u001b[1;32m   2965\u001b[0m                 indexer = self.loc._get_listlike_indexer(\n\u001b[0;32m-> 2966\u001b[0;31m                     \u001b[0mkey\u001b[0m\u001b[0;34m,\u001b[0m \u001b[0maxis\u001b[0m\u001b[0;34m=\u001b[0m\u001b[0;36m1\u001b[0m\u001b[0;34m,\u001b[0m \u001b[0mraise_missing\u001b[0m\u001b[0;34m=\u001b[0m\u001b[0;32mFalse\u001b[0m\u001b[0;34m\u001b[0m\u001b[0;34m\u001b[0m\u001b[0m\n\u001b[0m\u001b[1;32m   2967\u001b[0m                 )[1]\n\u001b[1;32m   2968\u001b[0m                 \u001b[0mself\u001b[0m\u001b[0;34m.\u001b[0m\u001b[0m_check_setitem_copy\u001b[0m\u001b[0;34m(\u001b[0m\u001b[0;34m)\u001b[0m\u001b[0;34m\u001b[0m\u001b[0;34m\u001b[0m\u001b[0m\n",
      "\u001b[0;32m/opt/anaconda3/envs/learn-env/lib/python3.6/site-packages/pandas/core/indexing.py\u001b[0m in \u001b[0;36m_get_listlike_indexer\u001b[0;34m(self, key, axis, raise_missing)\u001b[0m\n\u001b[1;32m   1551\u001b[0m \u001b[0;34m\u001b[0m\u001b[0m\n\u001b[1;32m   1552\u001b[0m         self._validate_read_indexer(\n\u001b[0;32m-> 1553\u001b[0;31m             \u001b[0mkeyarr\u001b[0m\u001b[0;34m,\u001b[0m \u001b[0mindexer\u001b[0m\u001b[0;34m,\u001b[0m \u001b[0mo\u001b[0m\u001b[0;34m.\u001b[0m\u001b[0m_get_axis_number\u001b[0m\u001b[0;34m(\u001b[0m\u001b[0maxis\u001b[0m\u001b[0;34m)\u001b[0m\u001b[0;34m,\u001b[0m \u001b[0mraise_missing\u001b[0m\u001b[0;34m=\u001b[0m\u001b[0mraise_missing\u001b[0m\u001b[0;34m\u001b[0m\u001b[0;34m\u001b[0m\u001b[0m\n\u001b[0m\u001b[1;32m   1554\u001b[0m         )\n\u001b[1;32m   1555\u001b[0m         \u001b[0;32mreturn\u001b[0m \u001b[0mkeyarr\u001b[0m\u001b[0;34m,\u001b[0m \u001b[0mindexer\u001b[0m\u001b[0;34m\u001b[0m\u001b[0;34m\u001b[0m\u001b[0m\n",
      "\u001b[0;32m/opt/anaconda3/envs/learn-env/lib/python3.6/site-packages/pandas/core/indexing.py\u001b[0m in \u001b[0;36m_validate_read_indexer\u001b[0;34m(self, key, indexer, axis, raise_missing)\u001b[0m\n\u001b[1;32m   1638\u001b[0m             \u001b[0;32mif\u001b[0m \u001b[0mmissing\u001b[0m \u001b[0;34m==\u001b[0m \u001b[0mlen\u001b[0m\u001b[0;34m(\u001b[0m\u001b[0mindexer\u001b[0m\u001b[0;34m)\u001b[0m\u001b[0;34m:\u001b[0m\u001b[0;34m\u001b[0m\u001b[0;34m\u001b[0m\u001b[0m\n\u001b[1;32m   1639\u001b[0m                 \u001b[0maxis_name\u001b[0m \u001b[0;34m=\u001b[0m \u001b[0mself\u001b[0m\u001b[0;34m.\u001b[0m\u001b[0mobj\u001b[0m\u001b[0;34m.\u001b[0m\u001b[0m_get_axis_name\u001b[0m\u001b[0;34m(\u001b[0m\u001b[0maxis\u001b[0m\u001b[0;34m)\u001b[0m\u001b[0;34m\u001b[0m\u001b[0;34m\u001b[0m\u001b[0m\n\u001b[0;32m-> 1640\u001b[0;31m                 \u001b[0;32mraise\u001b[0m \u001b[0mKeyError\u001b[0m\u001b[0;34m(\u001b[0m\u001b[0;34mf\"None of [{key}] are in the [{axis_name}]\"\u001b[0m\u001b[0;34m)\u001b[0m\u001b[0;34m\u001b[0m\u001b[0;34m\u001b[0m\u001b[0m\n\u001b[0m\u001b[1;32m   1641\u001b[0m \u001b[0;34m\u001b[0m\u001b[0m\n\u001b[1;32m   1642\u001b[0m             \u001b[0;31m# We (temporarily) allow for some missing keys with .loc, except in\u001b[0m\u001b[0;34m\u001b[0m\u001b[0;34m\u001b[0m\u001b[0;34m\u001b[0m\u001b[0m\n",
      "\u001b[0;31mKeyError\u001b[0m: \"None of [Index(['Sex_male', 'Embarked_Q', 'Embarked_S'], dtype='object')] are in the [columns]\""
     ]
    }
   ],
   "source": [
    "from sklearn.preprocessing import OneHotEncoder\n",
    "\n",
    "encoder = OneHotEncoder(sparse=False,drop='first')#,handle_unknown='ignore')\n",
    "\n",
    "\n",
    "## Copy the numerical columns to new ohe X_train, X_test\n",
    "X_train_ohe = X_train.drop(columns=cat_cols).copy()\n",
    "X_test_ohe = X_test.drop(columns=cat_cols).copy()\n",
    "\n",
    "## Fit the encoder\n",
    "encoder.fit(X_train[cat_cols])\n",
    "ohe_cols = encoder.get_feature_names(cat_cols)\n",
    "\n",
    "## Transform X_train and X_test\n",
    "X_train_ohe[ohe_cols] = encoder.transform(X_train[cat_cols])\n",
    "X_test_ohe[ohe_cols] = encoder.transform(X_test[cat_cols])\n",
    "\n",
    "X_train_ohe"
   ]
  },
  {
   "cell_type": "code",
   "execution_count": null,
   "metadata": {
    "ExecuteTime": {
     "end_time": "2021-05-06T14:31:42.790649Z",
     "start_time": "2021-05-06T14:31:08.245Z"
    }
   },
   "outputs": [],
   "source": [
    "## Scale data\n",
    "from sklearn.preprocessing import MinMaxScaler, StandardScaler\n",
    "scaler= StandardScaler()\n",
    "\n",
    "X_train_sca = X_train_ohe.copy()\n",
    "X_test_sca = X_test_ohe.copy()\n",
    "\n",
    "\n",
    "X_train_sca[num_cols] = scaler.fit_transform(X_train_sca[num_cols])\n",
    "X_test_sca[num_cols] = scaler.transform(X_test_sca[num_cols])\n",
    "\n",
    "X_train_sca"
   ]
  },
  {
   "cell_type": "code",
   "execution_count": null,
   "metadata": {
    "ExecuteTime": {
     "end_time": "2021-05-06T14:31:42.792160Z",
     "start_time": "2021-05-06T14:31:08.250Z"
    }
   },
   "outputs": [],
   "source": [
    "## Verify scaling\n",
    "X_train_ohe.describe().round(2)"
   ]
  },
  {
   "cell_type": "code",
   "execution_count": null,
   "metadata": {
    "ExecuteTime": {
     "end_time": "2021-05-06T14:31:42.793705Z",
     "start_time": "2021-05-06T14:31:08.254Z"
    }
   },
   "outputs": [],
   "source": [
    "X_train_sca.describe().round(2)"
   ]
  },
  {
   "cell_type": "markdown",
   "metadata": {},
   "source": [
    "## Fitting a Logistic Regression with `statsmodels`"
   ]
  },
  {
   "cell_type": "code",
   "execution_count": null,
   "metadata": {
    "ExecuteTime": {
     "end_time": "2021-05-06T14:31:42.795331Z",
     "start_time": "2021-05-06T14:31:08.258Z"
    }
   },
   "outputs": [],
   "source": [
    "import statsmodels.api as sm"
   ]
  },
  {
   "cell_type": "code",
   "execution_count": null,
   "metadata": {
    "ExecuteTime": {
     "end_time": "2021-05-06T14:31:42.796547Z",
     "start_time": "2021-05-06T14:31:08.261Z"
    }
   },
   "outputs": [],
   "source": [
    "y_train.value_counts()"
   ]
  },
  {
   "cell_type": "code",
   "execution_count": null,
   "metadata": {
    "ExecuteTime": {
     "end_time": "2021-05-06T14:31:42.798429Z",
     "start_time": "2021-05-06T14:31:08.265Z"
    }
   },
   "outputs": [],
   "source": [
    "X_train_sms = sm.add_constant(X_train_sca)\n",
    "X_test_sms = sm.add_constant(X_test_sca)\n",
    "X_train_sms"
   ]
  },
  {
   "cell_type": "code",
   "execution_count": null,
   "metadata": {
    "ExecuteTime": {
     "end_time": "2021-05-06T14:31:42.799729Z",
     "start_time": "2021-05-06T14:31:08.269Z"
    },
    "scrolled": false
   },
   "outputs": [],
   "source": [
    "logit = sm.Logit(y_train,X_train_sms).fit()\n",
    "logit.summary()"
   ]
  },
  {
   "cell_type": "code",
   "execution_count": null,
   "metadata": {
    "ExecuteTime": {
     "end_time": "2021-05-06T14:31:42.801115Z",
     "start_time": "2021-05-06T14:31:08.273Z"
    }
   },
   "outputs": [],
   "source": [
    "from sklearn import metrics\n",
    "y_hat_train = logit.predict(X_train_sms).round()\n",
    "y_hat_test = logit.predict(X_test_sms).round()\n",
    "display(y_hat_train.head(),y_train.head())"
   ]
  },
  {
   "cell_type": "code",
   "execution_count": null,
   "metadata": {
    "ExecuteTime": {
     "end_time": "2021-05-06T14:31:42.802461Z",
     "start_time": "2021-05-06T14:31:08.277Z"
    },
    "code_folding": [
     0
    ]
   },
   "outputs": [],
   "source": [
    "def remake_df(array,df):\n",
    "    \"\"\"Returns the array as a df with the same columns and index as df\"\"\"\n",
    "    return pd.DataFrame(array, columns=df.columns, index=df.index)\n",
    "\n",
    "\n",
    "def plot_confusion_matrix(y_test,y_hat_test, normalize='true',\n",
    "                          classes=['Died','Survived'],cmap='Blues',\n",
    "                         style='seaborn-notebook'):\n",
    "    \"\"\"Plots Confusion Matrix from sklearn.\"\"\"\n",
    "    \n",
    "    cm = metrics.confusion_matrix(y_test,y_hat_test.round(),\n",
    "                                  normalize=normalize)\n",
    "    \n",
    "    with plt.style.context(style):\n",
    "        ax = sns.heatmap(cm,annot=True,square=True, center=0,cmap=cmap,\n",
    "                   xticklabels=classes,yticklabels=classes)\n",
    "        \n",
    "    if normalize==False:\n",
    "        title = \"Raw Confusion Matrix\"\n",
    "    else:\n",
    "        title = f\"Normalized Confusion Matrix\\n(by {normalize} classes)\"\n",
    "        \n",
    "    ax.set(ylabel='True Classes',xlabel='Predicted Classes',title=title)\n",
    "    fig = ax.get_figure()\n",
    "    \n",
    "    return fig,ax\n",
    "\n",
    "\n",
    "def evaluate_statsmodel(y_test,y_hat_test,classes=['Died','Survived'],\n",
    "                   normalize='true',cmap='Blues'):\n",
    "    \"\"\"Evaluates Classification models by displaying:\n",
    "    - Classification Report\n",
    "    - Normalized Confusion Matrix\"\"\"\n",
    "    dashes = '---'*20\n",
    "    print(dashes)\n",
    "    print(\"[i] CLASSIFICATION REPORT\")\n",
    "    print(dashes)\n",
    "    \n",
    "    print(metrics.classification_report(y_test,y_hat_test.round(),\n",
    "                                        target_names=classes))\n",
    "    print(dashes)\n",
    "    fig,ax = plot_confusion_matrix(y_test,y_hat_test)\n",
    "\n",
    "    \n",
    "    \n",
    "def get_model_coeffs(X_df,model, statsmodels=True):\n",
    "        \n",
    "    if statsmodels == False:\n",
    "        coeffs_df = pd.DataFrame({'Coefficients':model.coef_[0]},index=X_df.columns)\n",
    "        coeffs_df.loc['const'] = model.intercept_\n",
    "        coeffs_df\n",
    "    else:\n",
    "        coeffs_df = pd.DataFrame({\n",
    "            'Coefficents':model.params,\n",
    "            'p-values':model.pvalues.round(4)\n",
    "        })\n",
    "        \n",
    "    return coeffs_df"
   ]
  },
  {
   "cell_type": "code",
   "execution_count": null,
   "metadata": {
    "ExecuteTime": {
     "end_time": "2021-05-06T14:31:42.803807Z",
     "start_time": "2021-05-06T14:31:08.281Z"
    }
   },
   "outputs": [],
   "source": [
    "## Putting it all Together\n",
    "logit = sm.Logit(y_train,X_train_sms).fit()\n",
    "display(logit.summary())\n",
    "\n",
    "y_hat_train = logit.predict(X_train_sms).round()\n",
    "y_hat_test = logit.predict(X_test_sms).round()\n",
    "evaluate_statsmodel(y_test,y_hat_test)"
   ]
  },
  {
   "cell_type": "code",
   "execution_count": null,
   "metadata": {
    "ExecuteTime": {
     "end_time": "2021-05-06T14:31:42.805026Z",
     "start_time": "2021-05-06T14:31:08.286Z"
    },
    "scrolled": false
   },
   "outputs": [],
   "source": [
    "## Putting it all Together\n",
    "logit = sm.Logit(y_train,X_train_sms).fit()\n",
    "display(logit.summary())\n",
    "\n",
    "y_hat_train = logit.predict(X_train_sms).round()\n",
    "y_hat_test = logit.predict(X_test_sms).round()\n",
    "evaluate_statsmodel(y_test,y_hat_test)"
   ]
  },
  {
   "cell_type": "code",
   "execution_count": null,
   "metadata": {
    "ExecuteTime": {
     "end_time": "2021-05-06T14:31:42.806544Z",
     "start_time": "2021-05-06T14:31:08.289Z"
    }
   },
   "outputs": [],
   "source": [
    "# get_model_coeffs(X_train_sms,logit)"
   ]
  },
  {
   "cell_type": "markdown",
   "metadata": {},
   "source": [
    "# Part 2 -  Logistic Regression with `sklearn`"
   ]
  },
  {
   "cell_type": "markdown",
   "metadata": {},
   "source": [
    "\n",
    "## Fitting a Logistic Regression with `sklearn`"
   ]
  },
  {
   "cell_type": "markdown",
   "metadata": {
    "ExecuteTime": {
     "end_time": "2020-09-02T22:31:28.474896Z",
     "start_time": "2020-09-02T22:31:28.459893Z"
    }
   },
   "source": [
    "> REMINDER: Our current variables:\n",
    "- X_train_sca\n",
    "- X_test_sca\n",
    "- y_train\n",
    "- y_test\n"
   ]
  },
  {
   "cell_type": "markdown",
   "metadata": {},
   "source": [
    "> Our current functions are:\n",
    "- `plot_confusion_matrix`\n",
    "- `remake_df`\n",
    "- `evaluate_statsmodels`"
   ]
  },
  {
   "cell_type": "code",
   "execution_count": null,
   "metadata": {
    "ExecuteTime": {
     "end_time": "2021-05-06T14:31:42.808064Z",
     "start_time": "2021-05-06T14:31:08.295Z"
    }
   },
   "outputs": [],
   "source": [
    "from sklearn.linear_model import LogisticRegression\n",
    "\n",
    "## Fit a logistic regression model with defaults\n",
    "log_reg = LogisticRegression()\n",
    "log_reg.fit(X_train_sca, y_train)\n"
   ]
  },
  {
   "cell_type": "code",
   "execution_count": null,
   "metadata": {
    "ExecuteTime": {
     "end_time": "2021-05-06T14:31:42.809439Z",
     "start_time": "2021-05-06T14:31:08.299Z"
    }
   },
   "outputs": [],
   "source": [
    "## Get Predictions for training and test data\n",
    "y_hat_train = log_reg.predict(X_train_sca)\n",
    "y_hat_test = log_reg.predict(X_test_sca)\n",
    "\n",
    "## Use our evaluation function\n",
    "evaluate_statsmodel(y_test,y_hat_test)#,normalize=False)\n"
   ]
  },
  {
   "cell_type": "code",
   "execution_count": null,
   "metadata": {
    "ExecuteTime": {
     "end_time": "2021-05-06T14:31:42.810898Z",
     "start_time": "2021-05-06T14:31:08.303Z"
    }
   },
   "outputs": [],
   "source": [
    "log_reg.coef_[0]"
   ]
  },
  {
   "cell_type": "code",
   "execution_count": null,
   "metadata": {
    "ExecuteTime": {
     "end_time": "2021-05-06T14:31:42.812177Z",
     "start_time": "2021-05-06T14:31:08.306Z"
    }
   },
   "outputs": [],
   "source": [
    "## Get the coefficents from the model and make into a series\n",
    "coeffs = pd.Series(log_reg.coef_[0], index=X_train_sca.columns)\n",
    "coeffs.loc['intercept'] = log_reg.intercept_[0]\n",
    "coeffs"
   ]
  },
  {
   "cell_type": "markdown",
   "metadata": {},
   "source": [
    "\n",
    "> #### A note on hyperparameters:\n",
    "- There are several parameters we control for our model. \n",
    "    - e.g.:\n",
    "    - `C`\n",
    "    - `solver`\n",
    "    - `fit_intercept`\n",
    "\n",
    "> - We ideally should not blindly trust the model's defaults, but should learn more about them. \n",
    "    - https://scikit-learn.org/stable/modules/generated/sklearn.linear_model.LogisticRegression.html\n",
    "\n",
    "#### We will explore this more shortly..."
   ]
  },
  {
   "cell_type": "code",
   "execution_count": null,
   "metadata": {
    "ExecuteTime": {
     "end_time": "2021-05-06T14:31:42.813546Z",
     "start_time": "2021-05-06T14:31:08.311Z"
    }
   },
   "outputs": [],
   "source": [
    "## Fit a logistic regression model with C=1e5, solver='liblinear'\n",
    "log_reg = LogisticRegression(C=1e5, solver='liblinear')\n",
    "log_reg.fit(X_train_sca, y_train)\n",
    "\n",
    "\n",
    "y_hat_train = log_reg.predict(X_train_sca)\n",
    "y_hat_test = log_reg.predict(X_test_sca)\n",
    "\n",
    "\n",
    "evaluate_statsmodel(y_test,y_hat_test)"
   ]
  },
  {
   "cell_type": "markdown",
   "metadata": {},
   "source": [
    "# ROC Curve - Receiver Operating Characteristic Curve"
   ]
  },
  {
   "cell_type": "markdown",
   "metadata": {},
   "source": [
    "## Evaluating Our Model"
   ]
  },
  {
   "cell_type": "markdown",
   "metadata": {},
   "source": [
    "### Graph Interpretation"
   ]
  },
  {
   "cell_type": "markdown",
   "metadata": {},
   "source": [
    "False Positive Rate vs True Positive Rate → for each threshold\n",
    "\n",
    "<img src=\"https://raw.githubusercontent.com/jirvingphd/fsds_100719_cohort_notes/master/images/roc_comparison.png\" width=70%>"
   ]
  },
  {
   "cell_type": "markdown",
   "metadata": {},
   "source": [
    "Imagine we have a logistic regression (classifier):\n",
    " - Turn a continuous feature to binary prediction"
   ]
  },
  {
   "cell_type": "markdown",
   "metadata": {},
   "source": [
    "### What Distributions Would Work Well in Classifying?"
   ]
  },
  {
   "cell_type": "markdown",
   "metadata": {},
   "source": [
    "<img src=\"https://raw.githubusercontent.com/jirvingphd/fsds_100719_cohort_notes/master/images/roc_crossover.png\" width=60%>"
   ]
  },
  {
   "cell_type": "markdown",
   "metadata": {},
   "source": [
    "### Defining the Threshold"
   ]
  },
  {
   "cell_type": "markdown",
   "metadata": {},
   "source": [
    "<img src=\"https://raw.githubusercontent.com/jirvingphd/fsds_100719_cohort_notes/master/images/auc_rates.png\" width=60%>"
   ]
  },
  {
   "cell_type": "code",
   "execution_count": null,
   "metadata": {
    "ExecuteTime": {
     "end_time": "2021-05-06T14:31:42.814938Z",
     "start_time": "2021-05-06T14:31:08.322Z"
    },
    "scrolled": false
   },
   "outputs": [],
   "source": [
    "# Interactive ROC curve\n",
    "from IPython.display import IFrame\n",
    "IFrame('http://www.navan.name/roc/', width=900, height=600)"
   ]
  },
  {
   "cell_type": "code",
   "execution_count": null,
   "metadata": {
    "ExecuteTime": {
     "end_time": "2021-05-06T14:31:42.816468Z",
     "start_time": "2021-05-06T14:31:08.329Z"
    }
   },
   "outputs": [],
   "source": [
    "import sklearn.metrics \n",
    "# Scikit-learn's built in roc_curve method returns the fpr, tpr, and thresholds\n",
    "# for various decision boundaries given the case member probabilites\n",
    "\n",
    "\n",
    "## Get y_score or y_score_prob from the log_reg decision function / predict proba\n",
    "y_score = log_reg.decision_function(X_test_sca)\n",
    "y_score_prob = log_reg.predict_proba(X_test_sca)\n",
    "\n",
    "fpr,tpr,thresh = metrics.roc_curve(y_test,y_score)\n",
    "metrics.auc(fpr, tpr)"
   ]
  },
  {
   "cell_type": "code",
   "execution_count": null,
   "metadata": {
    "ExecuteTime": {
     "end_time": "2021-05-06T14:31:42.817795Z",
     "start_time": "2021-05-06T14:31:08.333Z"
    }
   },
   "outputs": [],
   "source": [
    "y_score.shape, y_score_prob.shape"
   ]
  },
  {
   "cell_type": "code",
   "execution_count": null,
   "metadata": {
    "ExecuteTime": {
     "end_time": "2021-05-06T14:31:42.819149Z",
     "start_time": "2021-05-06T14:31:08.337Z"
    }
   },
   "outputs": [],
   "source": [
    "fpr,tpr,thresh = metrics.roc_curve(y_test,y_score_prob[:,1])\n",
    "metrics.auc(fpr, tpr)"
   ]
  },
  {
   "cell_type": "code",
   "execution_count": null,
   "metadata": {
    "ExecuteTime": {
     "end_time": "2021-05-06T14:31:42.820511Z",
     "start_time": "2021-05-06T14:31:08.341Z"
    }
   },
   "outputs": [],
   "source": [
    "# X_train_sca.shape"
   ]
  },
  {
   "cell_type": "code",
   "execution_count": null,
   "metadata": {
    "ExecuteTime": {
     "end_time": "2021-05-06T14:31:42.822004Z",
     "start_time": "2021-05-06T14:31:08.345Z"
    }
   },
   "outputs": [],
   "source": [
    "thresh"
   ]
  },
  {
   "cell_type": "code",
   "execution_count": null,
   "metadata": {
    "ExecuteTime": {
     "end_time": "2021-05-06T14:31:42.823648Z",
     "start_time": "2021-05-06T14:31:08.349Z"
    }
   },
   "outputs": [],
   "source": [
    "# y_score"
   ]
  },
  {
   "cell_type": "code",
   "execution_count": null,
   "metadata": {
    "ExecuteTime": {
     "end_time": "2021-05-06T14:31:42.825273Z",
     "start_time": "2021-05-06T14:31:08.353Z"
    }
   },
   "outputs": [],
   "source": [
    "## Plot The ROC Curve\n",
    "fig, axes = plt.subplots(nrows=2,figsize=(8,7))\n",
    "\n",
    "ax =axes[0]\n",
    "## PLot fpt vs tpr\n",
    "ax.plot(fpr,tpr, label=f'ROC CURVE AUC={round(metrics.auc(fpr, tpr),2)}')\n",
    "## Plot a diagnonal line to indicate worthless model\n",
    "ax.plot([0,1],[0,1],ls=':',)\n",
    "\n",
    "## Properly Label axes and title figure\n",
    "\n",
    "ax.set(xlabel='False Positive Rate',ylabel='True Positie Rate')\n",
    "## Add legend and grid\n",
    "\n",
    "ax.legend()\n",
    "ax.grid()\n",
    "\n",
    "ax =axes[1]\n",
    "[ax.axvline(t) for t in thresh];\n",
    "ax.set_xlim(0,1)"
   ]
  },
  {
   "cell_type": "code",
   "execution_count": null,
   "metadata": {
    "ExecuteTime": {
     "end_time": "2021-05-06T14:31:42.826925Z",
     "start_time": "2021-05-06T14:31:08.357Z"
    },
    "code_folding": []
   },
   "outputs": [],
   "source": [
    "curve = metrics.plot_roc_curve(log_reg,X_test_sca,y_test)\n",
    "ax = curve.ax_\n",
    "ax.legend()\n",
    "ax.plot([0,1],[0,1],ls=':')\n",
    "ax.grid()"
   ]
  },
  {
   "cell_type": "code",
   "execution_count": null,
   "metadata": {
    "ExecuteTime": {
     "end_time": "2020-09-02T23:41:53.180513Z",
     "start_time": "2020-09-02T23:41:52.958415Z"
    }
   },
   "outputs": [],
   "source": []
  },
  {
   "cell_type": "markdown",
   "metadata": {
    "ExecuteTime": {
     "end_time": "2020-09-02T01:45:53.340623Z",
     "start_time": "2020-09-02T01:45:53.336695Z"
    }
   },
   "source": [
    "### But now there's a sklearn tool for that!"
   ]
  },
  {
   "cell_type": "code",
   "execution_count": null,
   "metadata": {
    "ExecuteTime": {
     "end_time": "2021-05-06T14:31:42.828245Z",
     "start_time": "2021-05-06T14:31:08.363Z"
    }
   },
   "outputs": [],
   "source": [
    "metrics.plot_roc_curve(log_reg,X_test_sca,y_test)"
   ]
  },
  {
   "cell_type": "code",
   "execution_count": null,
   "metadata": {
    "ExecuteTime": {
     "end_time": "2021-05-06T14:31:42.829664Z",
     "start_time": "2021-05-06T14:31:08.366Z"
    }
   },
   "outputs": [],
   "source": [
    "## Update the sklearn plot to include the diagonal line and grid\n"
   ]
  },
  {
   "cell_type": "markdown",
   "metadata": {},
   "source": [
    "# Activity: Make an `evaluate_classification` function"
   ]
  },
  {
   "cell_type": "markdown",
   "metadata": {},
   "source": [
    "- Write a function called `evaluate_classification`\n",
    "- It should accept (at minimum): \n",
    "    - model (sklearn model)\n",
    "    - X_test\n",
    "    - y_test\n",
    "    \n",
    "- ***Ideally you should also accept X_train and y_train to compare results to check for overfitting. ?***\n",
    "- It should produce:\n",
    "    - Classification metrics printed\n",
    "    - Confusion Matrix displayed\n",
    "    - roc_auc curve displayed\n",
    "    \n",
    "    \n",
    "- Then revisit some of the questions we had from last class re: scaling, LogisticRegression parameters"
   ]
  },
  {
   "cell_type": "code",
   "execution_count": null,
   "metadata": {
    "ExecuteTime": {
     "end_time": "2021-05-06T14:31:42.831145Z",
     "start_time": "2021-05-06T14:31:08.371Z"
    }
   },
   "outputs": [],
   "source": [
    "import sklearn.metrics as metrics\n",
    "\n",
    "def evaluate_classification(model,X_test,y_test,classes=None,\n",
    "                           normalize='true',cmap=\"Blues\",figsize=(10,5)): \n",
    "     \n",
    "    ## Get Predictions\n",
    "    y_hat_test = model.predict(X_test)\n",
    "    \n",
    "    ## Classification Report / Scores \n",
    "    dashes = '---'*20\n",
    "    print(dashes)\n",
    "    print(\"[i] CLASSIFICATION REPORT\")\n",
    "    print(dashes)\n",
    "    \n",
    "    print(metrics.classification_report(y_test,y_hat_test,\n",
    "                                        target_names=classes))\n",
    "    print(dashes)\n",
    "    \n",
    "    \n",
    "    fig, axes = plt.subplots(ncols=2, figsize=figsize)\n",
    "    metrics.plot_confusion_matrix(model, X_test,y_test,normalize=normalize,\n",
    "                                 cmap=cmap,ax=axes[0])\n",
    "\n",
    "    \n",
    "    ## MAKE FIGURE\n",
    "\n",
    "    metrics.plot_roc_curve(model,X_test,y_test,ax=axes[1])\n",
    "    ax = axes[1]\n",
    "    ax.legend()\n",
    "    ax.plot([0,1],[0,1],ls=':')\n",
    "    ax.grid()\n",
    "    ## Plot Confusion Matrix \n",
    "\n",
    "    \n",
    "    ## Plot ROC Curve\n",
    "    pass\n",
    "    "
   ]
  },
  {
   "cell_type": "code",
   "execution_count": null,
   "metadata": {},
   "outputs": [],
   "source": []
  },
  {
   "cell_type": "code",
   "execution_count": null,
   "metadata": {
    "ExecuteTime": {
     "end_time": "2021-05-06T14:31:42.832517Z",
     "start_time": "2021-05-06T14:31:08.376Z"
    }
   },
   "outputs": [],
   "source": [
    "## Fit and evaluate a logistic regression \n",
    "params  = dict(C=1e5, solver='liblinear')\n",
    "log_reg = LogisticRegression(**params)\n",
    "log_reg.fit(X_train_sca, y_train)\n",
    "\n",
    "evaluate_classification(log_reg,X_test_sca,y_test,\n",
    "                        classes=['Died','Survived'])#,label=str(params));"
   ]
  },
  {
   "cell_type": "code",
   "execution_count": null,
   "metadata": {},
   "outputs": [],
   "source": []
  },
  {
   "cell_type": "markdown",
   "metadata": {},
   "source": [
    "# Hyperparameter Tuning: GridSearchCV "
   ]
  },
  {
   "cell_type": "markdown",
   "metadata": {},
   "source": [
    "### `solver` Parameter\n",
    "https://scikit-learn.org/stable/modules/linear_model.html#logistic-regression\n",
    "\n",
    "- The solvers implemented in the class LogisticRegression are “liblinear”, “newton-cg”, “lbfgs”, “sag” and “saga”:\n",
    "\n",
    "- The solver “liblinear” uses a coordinate descent (CD) algorithm, and relies on the excellent C++ LIBLINEAR library, which is shipped with scikit-learn. However, the CD algorithm implemented in liblinear cannot learn a true multinomial (multiclass) model; instead, the optimization problem is decomposed in a “one-vs-rest” fashion so separate binary classifiers are trained for all classes. This happens under the hood, so LogisticRegression instances using this solver behave as multiclass classifiers.\n",
    "\n",
    "\n",
    "\n"
   ]
  },
  {
   "cell_type": "code",
   "execution_count": null,
   "metadata": {
    "ExecuteTime": {
     "end_time": "2021-05-06T14:31:42.834132Z",
     "start_time": "2021-05-06T14:31:08.383Z"
    }
   },
   "outputs": [],
   "source": [
    "1000,10**3, 1e3"
   ]
  },
  {
   "cell_type": "code",
   "execution_count": null,
   "metadata": {
    "ExecuteTime": {
     "end_time": "2021-05-06T14:31:42.835638Z",
     "start_time": "2021-05-06T14:31:08.386Z"
    }
   },
   "outputs": [],
   "source": [
    "import warnings\n",
    "warnings.filterwarnings('ignore')"
   ]
  },
  {
   "cell_type": "code",
   "execution_count": null,
   "metadata": {
    "ExecuteTime": {
     "end_time": "2021-05-06T14:31:42.837363Z",
     "start_time": "2021-05-06T14:31:08.390Z"
    }
   },
   "outputs": [],
   "source": [
    "from sklearn.model_selection import GridSearchCV, RandomizedSearchCV\n",
    "model = LogisticRegression()\n",
    "params= {'C':[0.001, 0.01, 0.1, 1, 10, 100]}\n",
    "gridsearch = GridSearchCV(model, params,scoring='roc_auc')\n",
    "gridsearch"
   ]
  },
  {
   "cell_type": "code",
   "execution_count": null,
   "metadata": {
    "ExecuteTime": {
     "end_time": "2021-05-06T14:31:42.839104Z",
     "start_time": "2021-05-06T14:31:08.393Z"
    }
   },
   "outputs": [],
   "source": [
    "gridsearch.fit(X_train_sca, y_train)"
   ]
  },
  {
   "cell_type": "code",
   "execution_count": null,
   "metadata": {
    "ExecuteTime": {
     "end_time": "2021-05-06T14:31:42.840701Z",
     "start_time": "2021-05-06T14:31:08.396Z"
    }
   },
   "outputs": [],
   "source": [
    "best_params = gridsearch.best_params_\n",
    "best_params"
   ]
  },
  {
   "cell_type": "code",
   "execution_count": null,
   "metadata": {
    "ExecuteTime": {
     "end_time": "2021-05-06T14:31:42.842208Z",
     "start_time": "2021-05-06T14:31:08.400Z"
    }
   },
   "outputs": [],
   "source": [
    "gridsearch.best_estimator_"
   ]
  },
  {
   "cell_type": "code",
   "execution_count": null,
   "metadata": {
    "ExecuteTime": {
     "end_time": "2021-05-06T14:31:42.843456Z",
     "start_time": "2021-05-06T14:31:08.404Z"
    }
   },
   "outputs": [],
   "source": [
    "best_model = LogisticRegression(**best_params)\n",
    "best_model.fit(X_train_sca, y_train)\n",
    "evaluate_classification(best_model,X_test_sca,y_test)"
   ]
  },
  {
   "cell_type": "code",
   "execution_count": null,
   "metadata": {
    "ExecuteTime": {
     "end_time": "2021-05-06T14:31:42.844856Z",
     "start_time": "2021-05-06T14:31:08.408Z"
    }
   },
   "outputs": [],
   "source": [
    "res_df = pd.DataFrame(gridsearch.cv_results_)\n",
    "res_df"
   ]
  },
  {
   "cell_type": "code",
   "execution_count": null,
   "metadata": {
    "ExecuteTime": {
     "end_time": "2021-05-06T14:31:42.846289Z",
     "start_time": "2021-05-06T14:31:08.412Z"
    }
   },
   "outputs": [],
   "source": [
    "res_df.plot('param_C','mean_test_score',logx=True)"
   ]
  },
  {
   "cell_type": "code",
   "execution_count": null,
   "metadata": {
    "ExecuteTime": {
     "end_time": "2020-09-02T22:08:32.220806Z",
     "start_time": "2020-09-02T22:08:32.190429Z"
    }
   },
   "outputs": [],
   "source": []
  },
  {
   "cell_type": "code",
   "execution_count": null,
   "metadata": {},
   "outputs": [],
   "source": []
  },
  {
   "cell_type": "code",
   "execution_count": null,
   "metadata": {},
   "outputs": [],
   "source": []
  },
  {
   "cell_type": "code",
   "execution_count": null,
   "metadata": {},
   "outputs": [],
   "source": []
  },
  {
   "cell_type": "code",
   "execution_count": null,
   "metadata": {
    "ExecuteTime": {
     "end_time": "2021-05-06T14:31:42.847717Z",
     "start_time": "2021-05-06T14:31:08.422Z"
    }
   },
   "outputs": [],
   "source": [
    "from sklearn.model_selection import GridSearchCV, RandomizedSearchCV\n",
    "model = LogisticRegression()\n",
    "\n",
    "params = {'C' : [0.01,0.1,1.0,10,100,1e5],\n",
    "          'penalty' : ['l1', 'l2', 'elasticnet', 'none'],\n",
    "          'solver':[\"liblinear\", \"newton-cg\", \"lbfgs\", \"sag\",\"saga\"],\n",
    "          'fit_intercept':[True,False],\n",
    "          'class_weight':[None,'balanced']\n",
    "         }\n",
    "\n",
    "gridsearch = GridSearchCV(model,params,scoring='roc_auc',return_train_score=True)\n",
    "gridsearch.fit(X_train_sca,y_train)\n",
    "\n",
    "print('BEST RESULTS:')\n",
    "print(gridsearch.best_score_)\n",
    "gridsearch.best_params_"
   ]
  },
  {
   "cell_type": "code",
   "execution_count": null,
   "metadata": {
    "ExecuteTime": {
     "end_time": "2021-05-06T14:31:42.849118Z",
     "start_time": "2021-05-06T14:31:08.426Z"
    }
   },
   "outputs": [],
   "source": [
    "best_params = gridsearch.best_params_\n",
    "best_params"
   ]
  },
  {
   "cell_type": "code",
   "execution_count": null,
   "metadata": {
    "ExecuteTime": {
     "end_time": "2021-05-06T14:31:42.850882Z",
     "start_time": "2021-05-06T14:31:08.430Z"
    }
   },
   "outputs": [],
   "source": [
    "best_model = LogisticRegression(**best_params)\n",
    "best_model.fit(X_train_sca,y_train)\n",
    "evaluate_classification(best_model,X_test_sca,y_test)"
   ]
  },
  {
   "cell_type": "code",
   "execution_count": null,
   "metadata": {
    "ExecuteTime": {
     "end_time": "2021-05-06T14:31:42.852244Z",
     "start_time": "2021-05-06T14:31:08.434Z"
    }
   },
   "outputs": [],
   "source": [
    "grid_results = pd.DataFrame(gridsearch.cv_results_)\n",
    "grid_results.sort_values('mean_train_score')"
   ]
  },
  {
   "cell_type": "markdown",
   "metadata": {
    "ExecuteTime": {
     "end_time": "2020-03-25T01:45:43.484160Z",
     "start_time": "2020-03-25T01:45:43.482058Z"
    }
   },
   "source": [
    "# Class Imbalance"
   ]
  },
  {
   "cell_type": "markdown",
   "metadata": {},
   "source": [
    "## Class Imbalance Problems Lab"
   ]
  },
  {
   "cell_type": "code",
   "execution_count": null,
   "metadata": {
    "ExecuteTime": {
     "end_time": "2021-05-06T14:31:42.853576Z",
     "start_time": "2021-05-06T14:31:08.439Z"
    }
   },
   "outputs": [],
   "source": [
    "# !pip install -U imblearn"
   ]
  },
  {
   "cell_type": "code",
   "execution_count": null,
   "metadata": {
    "ExecuteTime": {
     "end_time": "2021-05-06T14:31:42.855078Z",
     "start_time": "2021-05-06T14:31:08.444Z"
    }
   },
   "outputs": [],
   "source": [
    "df = pd.read_csv('creditcard.csv.gz')\n",
    "df"
   ]
  },
  {
   "cell_type": "code",
   "execution_count": null,
   "metadata": {
    "ExecuteTime": {
     "end_time": "2021-05-06T14:31:42.856626Z",
     "start_time": "2021-05-06T14:31:08.447Z"
    }
   },
   "outputs": [],
   "source": [
    "target = 'Class'\n",
    "y = df[target].copy()\n",
    "X = df.drop(columns=target).copy()\n",
    "\n",
    "X_train, X_test, y_train, y_test = train_test_split(X, y, random_state=0)\n",
    "\n",
    "y_train.value_counts(1)"
   ]
  },
  {
   "cell_type": "markdown",
   "metadata": {
    "ExecuteTime": {
     "end_time": "2020-03-25T01:23:40.070054Z",
     "start_time": "2020-03-25T01:23:39.265821Z"
    }
   },
   "source": [
    "### When metrics can be misleading...\n",
    "- i.e. accuracy\n"
   ]
  },
  {
   "cell_type": "code",
   "execution_count": null,
   "metadata": {
    "ExecuteTime": {
     "end_time": "2021-05-06T14:31:42.858310Z",
     "start_time": "2021-05-06T14:31:08.452Z"
    }
   },
   "outputs": [],
   "source": [
    "# from sklearn\n",
    "regr = LogisticRegression(fit_intercept=False, solver='liblinear')\n",
    "regr.fit(X_train, y_train)\n",
    "\n",
    "regr.score(X_test,y_test)"
   ]
  },
  {
   "cell_type": "markdown",
   "metadata": {},
   "source": [
    "> ### Woohoo! We must have an amazing model!!..."
   ]
  },
  {
   "cell_type": "code",
   "execution_count": null,
   "metadata": {
    "ExecuteTime": {
     "end_time": "2021-05-06T14:31:42.859708Z",
     "start_time": "2021-05-06T14:31:08.456Z"
    }
   },
   "outputs": [],
   "source": [
    "evaluate_classification(regr,X_test, y_test)#,label='Imbalanced');"
   ]
  },
  {
   "cell_type": "code",
   "execution_count": null,
   "metadata": {
    "ExecuteTime": {
     "end_time": "2021-05-06T14:31:42.861094Z",
     "start_time": "2021-05-06T14:31:08.459Z"
    }
   },
   "outputs": [],
   "source": [
    "y_test.value_counts(normalize=True)"
   ]
  },
  {
   "cell_type": "markdown",
   "metadata": {},
   "source": [
    "### DummyClassifier for Dummies"
   ]
  },
  {
   "cell_type": "code",
   "execution_count": null,
   "metadata": {
    "ExecuteTime": {
     "end_time": "2021-05-06T14:31:42.862428Z",
     "start_time": "2021-05-06T14:31:08.463Z"
    }
   },
   "outputs": [],
   "source": [
    "from sklearn.dummy import DummyClassifier\n",
    "\n",
    "## Let's guess 0 for every observation\n",
    "dummy = DummyClassifier(strategy='constant',constant=0)\n",
    "\n",
    "preds = dummy.fit(X_train,y_train).predict(X_test)\n",
    "\n",
    "## How did we do?\n",
    "dummy.score(X_test,y_test)"
   ]
  },
  {
   "cell_type": "code",
   "execution_count": null,
   "metadata": {
    "ExecuteTime": {
     "end_time": "2021-05-06T14:31:42.864098Z",
     "start_time": "2021-05-06T14:31:08.468Z"
    }
   },
   "outputs": [],
   "source": [
    "evaluate_classification(dummy,X_test, y_test)#,label='Dummy');"
   ]
  },
  {
   "cell_type": "markdown",
   "metadata": {},
   "source": [
    "> So what can we do?"
   ]
  },
  {
   "cell_type": "markdown",
   "metadata": {},
   "source": [
    "## The Possible Solutions"
   ]
  },
  {
   "cell_type": "markdown",
   "metadata": {},
   "source": [
    "- Using `class_weight` parameter \n",
    "- Oversampling the minority class\n",
    "- Undersampling the majority class"
   ]
  },
  {
   "cell_type": "code",
   "execution_count": null,
   "metadata": {
    "ExecuteTime": {
     "end_time": "2021-05-06T14:31:42.865647Z",
     "start_time": "2021-05-06T14:31:08.473Z"
    }
   },
   "outputs": [],
   "source": [
    "## Baseline Model using lesson paras\n",
    "params = dict(fit_intercept=False, solver='liblinear')\n",
    "regr = LogisticRegression(**params)\n",
    "regr.fit(X_train, y_train)\n",
    "evaluate_classification(regr,X_test,y_test)#,label=\"BASELINE\" )\n",
    "print(params)#str(params))"
   ]
  },
  {
   "cell_type": "markdown",
   "metadata": {},
   "source": [
    "### Solution 1: `class_weight=\"balanced\"`\n"
   ]
  },
  {
   "cell_type": "code",
   "execution_count": null,
   "metadata": {
    "ExecuteTime": {
     "end_time": "2021-05-06T14:31:42.867023Z",
     "start_time": "2021-05-06T14:31:08.478Z"
    }
   },
   "outputs": [],
   "source": [
    "regr = LogisticRegression(class_weight='balanced',**params)\n",
    "regr.fit(X_train, y_train)\n",
    "evaluate_classification(regr,X_test,y_test)#,label='balanced')"
   ]
  },
  {
   "cell_type": "markdown",
   "metadata": {},
   "source": [
    "### Solution 2: Oversampling minority class with SMOTE"
   ]
  },
  {
   "cell_type": "code",
   "execution_count": null,
   "metadata": {
    "ExecuteTime": {
     "end_time": "2021-05-06T14:31:42.868667Z",
     "start_time": "2021-05-06T14:31:08.482Z"
    }
   },
   "outputs": [],
   "source": [
    "y_train.value_counts(0)"
   ]
  },
  {
   "cell_type": "code",
   "execution_count": null,
   "metadata": {
    "ExecuteTime": {
     "end_time": "2021-05-06T14:31:42.870133Z",
     "start_time": "2021-05-06T14:31:08.486Z"
    }
   },
   "outputs": [],
   "source": [
    "from imblearn.over_sampling import SMOTE\n",
    "smote = SMOTE()\n",
    "\n",
    "X_train_smote, y_train_smote = smote.fit_sample(X_train,y_train)\n",
    "pd.Series(y_train_smote).value_counts()"
   ]
  },
  {
   "cell_type": "code",
   "execution_count": null,
   "metadata": {
    "ExecuteTime": {
     "end_time": "2021-05-06T14:31:42.871480Z",
     "start_time": "2021-05-06T14:31:08.489Z"
    }
   },
   "outputs": [],
   "source": [
    "regr = LogisticRegression(**params)#class_weight='balanced',C=1e5, solver='liblinear')\n",
    "regr.fit(X_train_smote, y_train_smote)\n",
    "evaluate_classification(regr,X_test,y_test)#,label='SMOTE')"
   ]
  },
  {
   "cell_type": "markdown",
   "metadata": {},
   "source": [
    "### Solution 3: Undersampling majority class"
   ]
  },
  {
   "cell_type": "code",
   "execution_count": null,
   "metadata": {
    "ExecuteTime": {
     "end_time": "2021-05-06T14:31:42.872575Z",
     "start_time": "2021-05-06T14:31:08.495Z"
    }
   },
   "outputs": [],
   "source": [
    "df_balance = pd.concat([X_train, y_train],axis=1)\n",
    "df_balance"
   ]
  },
  {
   "cell_type": "code",
   "execution_count": null,
   "metadata": {
    "ExecuteTime": {
     "end_time": "2021-05-06T14:31:42.874247Z",
     "start_time": "2021-05-06T14:31:08.499Z"
    }
   },
   "outputs": [],
   "source": [
    "n_samples = df_balance['Class'].value_counts().min()\n",
    "n_samples"
   ]
  },
  {
   "cell_type": "code",
   "execution_count": null,
   "metadata": {
    "ExecuteTime": {
     "end_time": "2021-05-06T14:31:42.875988Z",
     "start_time": "2021-05-06T14:31:08.502Z"
    }
   },
   "outputs": [],
   "source": [
    "df_balance.groupby('Class').groups"
   ]
  },
  {
   "cell_type": "code",
   "execution_count": null,
   "metadata": {
    "ExecuteTime": {
     "end_time": "2021-05-06T14:31:42.877470Z",
     "start_time": "2021-05-06T14:31:08.506Z"
    }
   },
   "outputs": [],
   "source": [
    "df_resample = pd.DataFrame()\n",
    "for grp,idx in df_balance.groupby('Class').groups.items():\n",
    "    \n",
    "    resample = df_balance.loc[idx].sample(n=n_samples,random_state=123)\n",
    "    df_resample = pd.concat([df_resample,resample],axis=0)\n",
    "    \n",
    "display(df_resample.head(), df_resample[\"Class\"].value_counts())\n",
    "\n"
   ]
  },
  {
   "cell_type": "code",
   "execution_count": null,
   "metadata": {
    "ExecuteTime": {
     "end_time": "2021-05-06T14:31:42.878786Z",
     "start_time": "2021-05-06T14:31:08.510Z"
    }
   },
   "outputs": [],
   "source": [
    "X_train_under = df_resample.drop('Class',axis=1).copy()\n",
    "y_train_under = df_resample['Class'].copy()\n",
    "\n",
    "regr = LogisticRegression(**params)#C=1e5, solver='liblinear')\n",
    "regr.fit(X_train_under, y_train_under)\n",
    "evaluate_classification(regr,X_test,y_test)"
   ]
  },
  {
   "cell_type": "markdown",
   "metadata": {},
   "source": [
    "# Sect 26: Topics to Discuss"
   ]
  },
  {
   "cell_type": "markdown",
   "metadata": {},
   "source": [
    "- Recommendation: do not get too stressed out about that this module. Its a lot of revisiting concepts that we've discussed before. \n",
    "    - Don't stress about the labs, look at the solutions and digest what they are doing.\n",
    "    \n",
    "- [Terms to remember](https://learn.co/tracks/module-3-data-science-career-2-1/machine-learning/section-26-in-depth-logistic-regression/mle-review)\n",
    "    - \"log-likelihood\"\n",
    "    - \"Maximum Likelihood Estimation\""
   ]
  },
  {
   "cell_type": "markdown",
   "metadata": {},
   "source": [
    "# APPENDIX"
   ]
  },
  {
   "cell_type": "code",
   "execution_count": null,
   "metadata": {
    "ExecuteTime": {
     "end_time": "2021-05-06T14:31:42.880143Z",
     "start_time": "2021-05-06T14:31:08.516Z"
    }
   },
   "outputs": [],
   "source": [
    "## Trying out class balances with different seeds\n",
    "# seed_results = []\n",
    "# for seed in range(321):\n",
    "#     X_train, X_test, y_train, y_test = train_test_split(X, y,random_state=seed)\n",
    "#     percent_class_1 =  y_train.value_counts(1).loc[1]\n",
    "#     seed_results.append({'seed':seed, 'value_counts':percent_class_1})\n",
    "\n",
    "# pd.DataFrame.from_records(seed_results).sort_values('value_counts').head()"
   ]
  },
  {
   "cell_type": "markdown",
   "metadata": {},
   "source": [
    "### Faster GridSearches with Tune Sklearn\n",
    "https://towardsdatascience.com/5x-faster-scikit-learn-parameter-tuning-in-5-lines-of-code-be6bdd21833c"
   ]
  },
  {
   "cell_type": "code",
   "execution_count": null,
   "metadata": {
    "ExecuteTime": {
     "end_time": "2021-05-06T14:31:42.881499Z",
     "start_time": "2021-05-06T14:31:08.520Z"
    }
   },
   "outputs": [],
   "source": [
    "# # !pip install scikit-optimize\n",
    "# !pip install tune-sklearn\n",
    "# !pip install tune-sklearn ray[tune]"
   ]
  },
  {
   "cell_type": "code",
   "execution_count": null,
   "metadata": {
    "ExecuteTime": {
     "end_time": "2021-05-06T14:31:42.882950Z",
     "start_time": "2021-05-06T14:31:08.523Z"
    }
   },
   "outputs": [],
   "source": [
    "# from tune_sklearn import TuneGridSearchCV\n",
    "\n",
    "# model = LogisticRegression()\n",
    "\n",
    "# params = {'C' : [0.01,0.1,1.0,10,100,1e5],\n",
    "#           'penalty' : ['l1', 'l2', 'elasticnet', 'none'],\n",
    "#           'solver':[\"liblinear\", \"newton-cg\", \"lbfgs\", \"sag\",\"saga\"],\n",
    "#           'fit_intercept':[True,False],\n",
    "#           'class_weight':[None,'balanced']\n",
    "#          }\n",
    "\n",
    "# gridsearch = TuneGridSearchCV(model,params,scoring='roc_auc',return_train_score=True)\n",
    "# gridsearch.fit(X_train_sca,y_train)\n",
    "\n",
    "# print('BEST RESULTS:')\n",
    "# print(gridsearch.best_score_)\n",
    "# gridsearch.best_params_"
   ]
  },
  {
   "cell_type": "markdown",
   "metadata": {},
   "source": [
    "## Old School ROC CURVE "
   ]
  },
  {
   "cell_type": "code",
   "execution_count": null,
   "metadata": {
    "ExecuteTime": {
     "end_time": "2021-05-06T14:31:42.884436Z",
     "start_time": "2021-05-06T14:31:08.528Z"
    }
   },
   "outputs": [],
   "source": [
    "\n",
    "def plot_roc_curve(y_test,y_score):\n",
    "    # y_score = regr.decision_function(X_test)\n",
    "    fpr,tpr,thresh = metrics.roc_curve(y_test,y_score)\n",
    "    AUC = round(metrics.auc(fpr,tpr),3)\n",
    "    print(f\"ROC-area-under-the-curve= {AUC}\")\n",
    "\n",
    "    fig,ax=plt.subplots()\n",
    "    ax.plot(fpr,tpr,color='darkorange',label=f'ROC Curve AUC: {AUC}')\n",
    "    ax.plot([0,1],[0,1],ls=':')\n",
    "    \n",
    "    ax.set(ylabel='True Positive Rate',xlabel='False Positive Rate',\n",
    "          title='Receiver operating characteristic (ROC) Curve')\n",
    "\n",
    "    \n",
    "    ax.legend()\n",
    "    ax.grid()\n",
    "\n",
    "    \n",
    "# plot_roc_curve(y_test,y_score) "
   ]
  },
  {
   "cell_type": "code",
   "execution_count": null,
   "metadata": {},
   "outputs": [],
   "source": []
  }
 ],
 "metadata": {
  "kernelspec": {
   "display_name": "learn-env",
   "language": "python",
   "name": "learn-env"
  },
  "language_info": {
   "codemirror_mode": {
    "name": "ipython",
    "version": 3
   },
   "file_extension": ".py",
   "mimetype": "text/x-python",
   "name": "python",
   "nbconvert_exporter": "python",
   "pygments_lexer": "ipython3",
   "version": "3.6.11"
  },
  "toc": {
   "base_numbering": 1,
   "nav_menu": {},
   "number_sections": false,
   "sideBar": true,
   "skip_h1_title": false,
   "title_cell": "Table of Contents",
   "title_sidebar": "Contents",
   "toc_cell": false,
   "toc_position": {
    "height": "calc(100% - 180px)",
    "left": "10px",
    "top": "150px",
    "width": "255.953px"
   },
   "toc_section_display": true,
   "toc_window_display": true
  },
  "varInspector": {
   "cols": {
    "lenName": 16,
    "lenType": 16,
    "lenVar": 40
   },
   "kernels_config": {
    "python": {
     "delete_cmd_postfix": "",
     "delete_cmd_prefix": "del ",
     "library": "var_list.py",
     "varRefreshCmd": "print(var_dic_list())"
    },
    "r": {
     "delete_cmd_postfix": ") ",
     "delete_cmd_prefix": "rm(",
     "library": "var_list.r",
     "varRefreshCmd": "cat(var_dic_list()) "
    }
   },
   "types_to_exclude": [
    "module",
    "function",
    "builtin_function_or_method",
    "instance",
    "_Feature"
   ],
   "window_display": false
  }
 },
 "nbformat": 4,
 "nbformat_minor": 2
}
