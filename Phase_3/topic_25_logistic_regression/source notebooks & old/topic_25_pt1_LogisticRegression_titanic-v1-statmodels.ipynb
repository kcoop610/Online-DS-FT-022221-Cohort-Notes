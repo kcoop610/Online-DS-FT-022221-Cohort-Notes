{
 "cells": [
  {
   "cell_type": "markdown",
   "metadata": {},
   "source": [
    "# Topic 25-Pt 1: Intro to Logistic Regression "
   ]
  },
  {
   "cell_type": "markdown",
   "metadata": {},
   "source": [
    "- onl01-dtsc-ft-022221\n",
    "- 05/06/21"
   ]
  },
  {
   "cell_type": "markdown",
   "metadata": {},
   "source": [
    "## Questions?"
   ]
  },
  {
   "cell_type": "markdown",
   "metadata": {},
   "source": [
    "- "
   ]
  },
  {
   "cell_type": "markdown",
   "metadata": {},
   "source": [
    "## Announcements"
   ]
  },
  {
   "cell_type": "markdown",
   "metadata": {},
   "source": [
    "- **Sect 25 will be split into 2 study groups.**\n",
    "- Sect 26 doesn't introduce much/anything new\n",
    "    - It revisits gradient descent and applies it to Logistic Regression.\n",
    "    - **We will discuss** some of the concepts re-introduced next study group.\n",
    "    - **We will NOT have an entire study group** dedicated to section 26\n",
    "\n",
    "\n",
    "- **You will want/need to update matplotlib and scikit-learn** ( See IMPORTANT NOTE ABOUT PACKAGE VERSIONS)\n",
    "   "
   ]
  },
  {
   "cell_type": "markdown",
   "metadata": {},
   "source": [
    "## Topics in Sect 25"
   ]
  },
  {
   "cell_type": "markdown",
   "metadata": {},
   "source": [
    "- For Today:\n",
    "    - Supervised vs Unsupervised Learning\n",
    "    - Logistic Regression - Theory\n",
    "    - Applying Logistic Regression with `statsmodels`\n",
    "    - Evaluating Classifiers\n",
    "        - Confusion Matrices\n",
    "        - Accuracy, Precision, Recall, F1-Score\n",
    "\n",
    "            - If there's time today (otherwise covered in part 2 tomorrow):\n",
    "             \n",
    "\n",
    "- For Next Class:\n",
    "    - Logistic Regression with `scikit-learn`\n",
    "    - Evaluating Classifiers:\n",
    "        - ROC-AUC curve\n",
    "    - Class Imbalance Problems"
   ]
  },
  {
   "cell_type": "markdown",
   "metadata": {},
   "source": [
    "# Types of Machine Learning Models"
   ]
  },
  {
   "cell_type": "markdown",
   "metadata": {},
   "source": [
    "<img src=\"https://raw.githubusercontent.com/jirvingphd/fsds_pt_100719_cohort_notes/master/Images/ai_machine_learning_deep_learning.png\">"
   ]
  },
  {
   "cell_type": "markdown",
   "metadata": {},
   "source": [
    "## Intro to Supervised Learning"
   ]
  },
  {
   "cell_type": "markdown",
   "metadata": {},
   "source": [
    "> \"The term **_Supervised Learning_** refers to a class of machine learning algorithms that can \"learn\" a task through **_labeled training data_**.\""
   ]
  },
  {
   "cell_type": "markdown",
   "metadata": {},
   "source": [
    "<img src=\"https://raw.githubusercontent.com/jirvingphd/dsc-intro-to-supervised-learning-v2-1-online-ds-pt-100719/master/images/new_ml-hierarchy.png\" width=60%>"
   ]
  },
  {
   "cell_type": "markdown",
   "metadata": {},
   "source": [
    "- All machine learning models fall into one of two categories:\n",
    "    - Regressors/Regression\n",
    "    - Classifiers/Classification"
   ]
  },
  {
   "cell_type": "markdown",
   "metadata": {},
   "source": [
    "### Regression"
   ]
  },
  {
   "cell_type": "markdown",
   "metadata": {},
   "source": [
    "Trying to find the **relationship** and predict a specific value.\n",
    "\n",
    "- Examples of regressions:\n",
    "    - House prices\n",
    "    - Salary\n",
    "    - Reviews/Ratings"
   ]
  },
  {
   "cell_type": "markdown",
   "metadata": {},
   "source": [
    "### Classification"
   ]
  },
  {
   "cell_type": "markdown",
   "metadata": {},
   "source": [
    "Trying to identify what features can predict which class a particular observation/row belongs to.\n",
    "- Can be a \"binary classification\" \n",
    "    - \"yes\" or \"no\"\n",
    "    - Survived or died.\n",
    "    - Diabetic or not-diabetic\n",
    "- Can also be a \"multiclass classification\"\n",
    "    - Which type of flower?\n",
    "    - Will a football game end one team winning, or the other team, or a tie?\n"
   ]
  },
  {
   "cell_type": "markdown",
   "metadata": {},
   "source": [
    "# From Linear Regression to Logistic Regression\n"
   ]
  },
  {
   "cell_type": "markdown",
   "metadata": {},
   "source": [
    "<img src=\"https://raw.githubusercontent.com/jirvingphd/online-dtsc-pt-041320-cohort-notes/master/assets/images/logistic_vs_linear.jpg\">"
   ]
  },
  {
   "cell_type": "markdown",
   "metadata": {},
   "source": [
    "## Recall Linear Regression"
   ]
  },
  {
   "cell_type": "markdown",
   "metadata": {},
   "source": [
    "### Formula"
   ]
  },
  {
   "cell_type": "markdown",
   "metadata": {},
   "source": [
    "$$ \\large \\hat y = \\beta_0 + \\beta_1 x_1 + \\beta_2 x_2 + \\ldots + \\beta_n x_n = \\sum_{i=0}^{N} \\beta_i x_i $$"
   ]
  },
  {
   "cell_type": "markdown",
   "metadata": {},
   "source": [
    "- Output is specifying the **predicted value** for the target"
   ]
  },
  {
   "cell_type": "markdown",
   "metadata": {},
   "source": [
    "## Classification: Use Logistic Regression"
   ]
  },
  {
   "cell_type": "markdown",
   "metadata": {},
   "source": [
    "- Output is specifying the **probability** of belonging to a particular group"
   ]
  },
  {
   "cell_type": "markdown",
   "metadata": {},
   "source": [
    "- Visual Example:\n",
    "    - https://www.desmos.com/calculator/y2ilpxiqys"
   ]
  },
  {
   "cell_type": "markdown",
   "metadata": {},
   "source": [
    "Transform from linear regression!\n",
    "\n",
    "$$ \\large \\hat y = \\sum_{i=0}^{N} \\beta_i x_i $$\n",
    "\n",
    "$$\\large P = \\displaystyle \\frac{1}{1+e^{-\\hat y}} = \\frac{1}{1+e^{-\\sum_{i=0}^{N} \\beta_i x_i}} $$\n",
    "\n",
    "$$ \\large = \\frac{1}{1+e^{-\\beta_0}e^{-\\beta_1 x_1}\\ldots e^{-\\beta_N x_N}} $$"
   ]
  },
  {
   "cell_type": "markdown",
   "metadata": {},
   "source": [
    "# Implementing Logistic Regression"
   ]
  },
  {
   "cell_type": "markdown",
   "metadata": {},
   "source": [
    "## Predict Passenger Survival on Titanic - `statsmodels`"
   ]
  },
  {
   "cell_type": "code",
   "execution_count": 1,
   "metadata": {
    "ExecuteTime": {
     "end_time": "2021-05-06T14:23:57.062536Z",
     "start_time": "2021-05-06T14:23:54.692715Z"
    },
    "scrolled": true
   },
   "outputs": [],
   "source": [
    "import matplotlib.pyplot as plt\n",
    "import seaborn as sns\n",
    "import pandas as pd\n",
    "import numpy as np\n",
    "import statsmodels.api as sm"
   ]
  },
  {
   "cell_type": "code",
   "execution_count": 2,
   "metadata": {
    "ExecuteTime": {
     "end_time": "2021-05-06T14:23:57.276403Z",
     "start_time": "2021-05-06T14:23:57.064454Z"
    }
   },
   "outputs": [
    {
     "data": {
      "text/html": [
       "<div>\n",
       "<style scoped>\n",
       "    .dataframe tbody tr th:only-of-type {\n",
       "        vertical-align: middle;\n",
       "    }\n",
       "\n",
       "    .dataframe tbody tr th {\n",
       "        vertical-align: top;\n",
       "    }\n",
       "\n",
       "    .dataframe thead th {\n",
       "        text-align: right;\n",
       "    }\n",
       "</style>\n",
       "<table border=\"1\" class=\"dataframe\">\n",
       "  <thead>\n",
       "    <tr style=\"text-align: right;\">\n",
       "      <th></th>\n",
       "      <th>Pclass</th>\n",
       "      <th>Age</th>\n",
       "      <th>SibSp</th>\n",
       "      <th>Fare</th>\n",
       "      <th>Sex</th>\n",
       "      <th>Embarked</th>\n",
       "      <th>Survived</th>\n",
       "    </tr>\n",
       "  </thead>\n",
       "  <tbody>\n",
       "    <tr>\n",
       "      <th>0</th>\n",
       "      <td>3</td>\n",
       "      <td>22.0</td>\n",
       "      <td>1</td>\n",
       "      <td>7.2500</td>\n",
       "      <td>male</td>\n",
       "      <td>S</td>\n",
       "      <td>0</td>\n",
       "    </tr>\n",
       "    <tr>\n",
       "      <th>1</th>\n",
       "      <td>1</td>\n",
       "      <td>38.0</td>\n",
       "      <td>1</td>\n",
       "      <td>71.2833</td>\n",
       "      <td>female</td>\n",
       "      <td>C</td>\n",
       "      <td>1</td>\n",
       "    </tr>\n",
       "    <tr>\n",
       "      <th>2</th>\n",
       "      <td>3</td>\n",
       "      <td>26.0</td>\n",
       "      <td>0</td>\n",
       "      <td>7.9250</td>\n",
       "      <td>female</td>\n",
       "      <td>S</td>\n",
       "      <td>1</td>\n",
       "    </tr>\n",
       "    <tr>\n",
       "      <th>3</th>\n",
       "      <td>1</td>\n",
       "      <td>35.0</td>\n",
       "      <td>1</td>\n",
       "      <td>53.1000</td>\n",
       "      <td>female</td>\n",
       "      <td>S</td>\n",
       "      <td>1</td>\n",
       "    </tr>\n",
       "    <tr>\n",
       "      <th>4</th>\n",
       "      <td>3</td>\n",
       "      <td>35.0</td>\n",
       "      <td>0</td>\n",
       "      <td>8.0500</td>\n",
       "      <td>male</td>\n",
       "      <td>S</td>\n",
       "      <td>0</td>\n",
       "    </tr>\n",
       "  </tbody>\n",
       "</table>\n",
       "</div>"
      ],
      "text/plain": [
       "  Pclass   Age  SibSp     Fare     Sex Embarked  Survived\n",
       "0      3  22.0      1   7.2500    male        S         0\n",
       "1      1  38.0      1  71.2833  female        C         1\n",
       "2      3  26.0      0   7.9250  female        S         1\n",
       "3      1  35.0      1  53.1000  female        S         1\n",
       "4      3  35.0      0   8.0500    male        S         0"
      ]
     },
     "execution_count": 2,
     "metadata": {},
     "output_type": "execute_result"
    }
   ],
   "source": [
    "url = \"https://raw.githubusercontent.com/jirvingphd/dsc-dealing-missing-data-lab-online-ds-ft-100719/master/titanic.csv\"\n",
    "df = pd.read_csv(url,index_col=0)\n",
    "relevant_columns = ['Pclass', 'Age', 'SibSp', 'Fare', 'Sex', 'Embarked', 'Survived']\n",
    "df = df[relevant_columns]\n",
    "df.head()"
   ]
  },
  {
   "cell_type": "code",
   "execution_count": 3,
   "metadata": {
    "ExecuteTime": {
     "end_time": "2021-05-06T14:23:57.289065Z",
     "start_time": "2021-05-06T14:23:57.279502Z"
    }
   },
   "outputs": [
    {
     "name": "stdout",
     "output_type": "stream",
     "text": [
      "<class 'pandas.core.frame.DataFrame'>\n",
      "Int64Index: 891 entries, 0 to 890\n",
      "Data columns (total 7 columns):\n",
      " #   Column    Non-Null Count  Dtype  \n",
      "---  ------    --------------  -----  \n",
      " 0   Pclass    891 non-null    object \n",
      " 1   Age       714 non-null    float64\n",
      " 2   SibSp     891 non-null    int64  \n",
      " 3   Fare      891 non-null    float64\n",
      " 4   Sex       891 non-null    object \n",
      " 5   Embarked  889 non-null    object \n",
      " 6   Survived  891 non-null    int64  \n",
      "dtypes: float64(2), int64(2), object(3)\n",
      "memory usage: 55.7+ KB\n"
     ]
    }
   ],
   "source": [
    "df.info()"
   ]
  },
  {
   "cell_type": "code",
   "execution_count": 4,
   "metadata": {
    "ExecuteTime": {
     "end_time": "2021-05-06T14:23:57.300244Z",
     "start_time": "2021-05-06T14:23:57.292258Z"
    }
   },
   "outputs": [
    {
     "data": {
      "text/plain": [
       "Pclass       49\n",
       "Age         177\n",
       "SibSp         0\n",
       "Fare          0\n",
       "Sex           0\n",
       "Embarked      2\n",
       "Survived      0\n",
       "dtype: int64"
      ]
     },
     "execution_count": 4,
     "metadata": {},
     "output_type": "execute_result"
    }
   ],
   "source": [
    "# Recast Number Cols\n",
    "df['Pclass'] = pd.to_numeric(df['Pclass'],errors='coerce')\n",
    "df.isna().sum()"
   ]
  },
  {
   "cell_type": "code",
   "execution_count": 5,
   "metadata": {
    "ExecuteTime": {
     "end_time": "2021-05-06T14:23:57.312006Z",
     "start_time": "2021-05-06T14:23:57.302196Z"
    }
   },
   "outputs": [
    {
     "data": {
      "text/plain": [
       "0    0.616162\n",
       "1    0.383838\n",
       "Name: Survived, dtype: float64"
      ]
     },
     "execution_count": 5,
     "metadata": {},
     "output_type": "execute_result"
    }
   ],
   "source": [
    "df['Survived'].value_counts(normalize=True,dropna=False)"
   ]
  },
  {
   "cell_type": "code",
   "execution_count": 6,
   "metadata": {
    "ExecuteTime": {
     "end_time": "2021-05-06T14:23:57.559798Z",
     "start_time": "2021-05-06T14:23:57.313948Z"
    }
   },
   "outputs": [
    {
     "data": {
      "image/png": "[encoded data removed]",
      "text/plain": [
       "<Figure size 432x288 with 1 Axes>"
      ]
     },
     "metadata": {
      "needs_background": "light"
     },
     "output_type": "display_data"
    }
   ],
   "source": [
    "df.plot('Age','Survived',kind='scatter');"
   ]
  },
  {
   "cell_type": "code",
   "execution_count": 7,
   "metadata": {
    "ExecuteTime": {
     "end_time": "2021-05-06T14:23:57.722909Z",
     "start_time": "2021-05-06T14:23:57.562126Z"
    }
   },
   "outputs": [
    {
     "data": {
      "image/png": "[encoded data removed]",
      "text/plain": [
       "<Figure size 432x288 with 1 Axes>"
      ]
     },
     "metadata": {
      "needs_background": "light"
     },
     "output_type": "display_data"
    }
   ],
   "source": [
    "df.plot('Fare','Survived',kind='scatter');"
   ]
  },
  {
   "cell_type": "markdown",
   "metadata": {
    "ExecuteTime": {
     "end_time": "2020-03-24T22:26:15.520827Z",
     "start_time": "2020-03-24T22:26:15.518673Z"
    }
   },
   "source": [
    "### Q: What are the preprocessing steps I need to perform before I create the model?"
   ]
  },
  {
   "cell_type": "markdown",
   "metadata": {},
   "source": [
    "- Fill/drop in missing/null values\n",
    "- Feature Selection / Feature Engineering (interaction terms)\n",
    "- Handling categorial variables\n",
    "    - One Hot Encoding \n",
    "    - Label Encoding\n",
    "- Handling Outliers (maybe apply today)\n",
    "- Normalizing/Standardizing our data\n",
    "\n",
    "- **Multicollinearity (does it still matter as much for Logistic?)**\n",
    "\n",
    "- Train-test-split\n"
   ]
  },
  {
   "cell_type": "markdown",
   "metadata": {},
   "source": [
    "### Preprocessing"
   ]
  },
  {
   "cell_type": "code",
   "execution_count": 8,
   "metadata": {
    "ExecuteTime": {
     "end_time": "2021-05-06T14:23:57.734601Z",
     "start_time": "2021-05-06T14:23:57.727373Z"
    }
   },
   "outputs": [
    {
     "data": {
      "text/plain": [
       "Pclass      0.054994\n",
       "Age         0.198653\n",
       "SibSp       0.000000\n",
       "Fare        0.000000\n",
       "Sex         0.000000\n",
       "Embarked    0.002245\n",
       "Survived    0.000000\n",
       "dtype: float64"
      ]
     },
     "execution_count": 8,
     "metadata": {},
     "output_type": "execute_result"
    }
   ],
   "source": [
    "## Null Values\n",
    "df.isna().sum() / len(df)"
   ]
  },
  {
   "cell_type": "code",
   "execution_count": 9,
   "metadata": {
    "ExecuteTime": {
     "end_time": "2021-05-06T14:23:57.746835Z",
     "start_time": "2021-05-06T14:23:57.738686Z"
    }
   },
   "outputs": [
    {
     "data": {
      "text/plain": [
       "0      0\n",
       "1      1\n",
       "2      1\n",
       "3      1\n",
       "4      0\n",
       "      ..\n",
       "886    0\n",
       "887    1\n",
       "888    0\n",
       "889    1\n",
       "890    0\n",
       "Name: Survived, Length: 891, dtype: int64"
      ]
     },
     "execution_count": 9,
     "metadata": {},
     "output_type": "execute_result"
    }
   ],
   "source": [
    "target = 'Survived'\n",
    "X = df.drop(columns=target)\n",
    "y = df[target]\n",
    "y"
   ]
  },
  {
   "cell_type": "code",
   "execution_count": 10,
   "metadata": {
    "ExecuteTime": {
     "end_time": "2021-05-06T14:23:58.380984Z",
     "start_time": "2021-05-06T14:23:57.749298Z"
    }
   },
   "outputs": [
    {
     "data": {
      "text/plain": [
       "((668, 6), (223,))"
      ]
     },
     "execution_count": 10,
     "metadata": {},
     "output_type": "execute_result"
    }
   ],
   "source": [
    "## Train Test Split\n",
    "from sklearn.model_selection import train_test_split\n",
    "X_train, X_test, y_train, y_test = train_test_split(X, y)\n",
    "X_train.shape, y_test.shape"
   ]
  },
  {
   "cell_type": "code",
   "execution_count": 11,
   "metadata": {
    "ExecuteTime": {
     "end_time": "2021-05-06T14:23:58.388997Z",
     "start_time": "2021-05-06T14:23:58.383358Z"
    }
   },
   "outputs": [
    {
     "data": {
      "text/plain": [
       "Index(['Sex', 'Embarked'], dtype='object')"
      ]
     },
     "execution_count": 11,
     "metadata": {},
     "output_type": "execute_result"
    }
   ],
   "source": [
    "cat_cols = X_train.select_dtypes('O').columns\n",
    "cat_cols"
   ]
  },
  {
   "cell_type": "code",
   "execution_count": 12,
   "metadata": {
    "ExecuteTime": {
     "end_time": "2021-05-06T14:23:58.398929Z",
     "start_time": "2021-05-06T14:23:58.391183Z"
    }
   },
   "outputs": [
    {
     "data": {
      "text/plain": [
       "Index(['Pclass', 'Age', 'SibSp', 'Fare'], dtype='object')"
      ]
     },
     "execution_count": 12,
     "metadata": {},
     "output_type": "execute_result"
    }
   ],
   "source": [
    "num_cols = X_train.select_dtypes('number').columns\n",
    "num_cols"
   ]
  },
  {
   "cell_type": "code",
   "execution_count": 13,
   "metadata": {
    "ExecuteTime": {
     "end_time": "2021-05-06T14:23:58.407758Z",
     "start_time": "2021-05-06T14:23:58.401217Z"
    }
   },
   "outputs": [
    {
     "data": {
      "text/plain": [
       "Pclass       36\n",
       "Age         131\n",
       "SibSp         0\n",
       "Fare          0\n",
       "Sex           0\n",
       "Embarked      2\n",
       "dtype: int64"
      ]
     },
     "execution_count": 13,
     "metadata": {},
     "output_type": "execute_result"
    }
   ],
   "source": [
    "X_train.isna().sum()"
   ]
  },
  {
   "cell_type": "markdown",
   "metadata": {
    "ExecuteTime": {
     "end_time": "2020-08-28T22:51:06.063683Z",
     "start_time": "2020-08-28T22:51:05.961523Z"
    }
   },
   "source": [
    "```python\n",
    "from sklearn.impute import SimpleImputer\n",
    "imputer_num = SimpleImputer(strategy='median')\n",
    "\n",
    "imputer_cat = SimpleImputer(strategy='most_frequent')#,fill_value='missing')\n",
    "\n",
    "X_train[num_cols] = imputer_num.fit_transform(X_train[num_cols])\n",
    "X_test[num_cols] = imputer_num.transform(X_test[num_cols])\n",
    "\n",
    "X_train[cat_cols] = imputer_cat.fit_transform(X_train[cat_cols])\n",
    "X_test[cat_cols] = imputer_cat.transform(X_test[cat_cols])\n",
    "\n",
    "# df['Age'] = imputer.fit_transform(df[['Age']])\n",
    "```"
   ]
  },
  {
   "cell_type": "code",
   "execution_count": 14,
   "metadata": {
    "ExecuteTime": {
     "end_time": "2021-05-06T14:23:58.418136Z",
     "start_time": "2021-05-06T14:23:58.410445Z"
    }
   },
   "outputs": [
    {
     "data": {
      "text/plain": [
       "511     True\n",
       "198     True\n",
       "614    False\n",
       "540    False\n",
       "314    False\n",
       "       ...  \n",
       "98     False\n",
       "209    False\n",
       "783     True\n",
       "880    False\n",
       "300     True\n",
       "Length: 668, dtype: bool"
      ]
     },
     "execution_count": 14,
     "metadata": {},
     "output_type": "execute_result"
    }
   ],
   "source": [
    "X_train.isna().any(axis=1)"
   ]
  },
  {
   "cell_type": "code",
   "execution_count": 15,
   "metadata": {
    "ExecuteTime": {
     "end_time": "2021-05-06T14:23:58.428371Z",
     "start_time": "2021-05-06T14:23:58.420401Z"
    }
   },
   "outputs": [
    {
     "data": {
      "text/plain": [
       "511     True\n",
       "198     True\n",
       "614    False\n",
       "540    False\n",
       "314    False\n",
       "       ...  \n",
       "98     False\n",
       "209    False\n",
       "783     True\n",
       "880    False\n",
       "300     True\n",
       "Length: 668, dtype: bool"
      ]
     },
     "execution_count": 15,
     "metadata": {},
     "output_type": "execute_result"
    }
   ],
   "source": [
    "train_nulls = X_train.isna().any(axis=1)\n",
    "test_nulls = X_test.isna().any(axis=1)\n",
    "train_nulls"
   ]
  },
  {
   "cell_type": "code",
   "execution_count": 16,
   "metadata": {
    "ExecuteTime": {
     "end_time": "2021-05-06T14:23:58.436248Z",
     "start_time": "2021-05-06T14:23:58.430726Z"
    }
   },
   "outputs": [],
   "source": [
    "## Drop Nulls\n",
    "X_train = X_train.loc[~train_nulls]\n",
    "y_train = y_train.loc[~train_nulls]\n",
    "\n",
    "X_test = X_test.loc[~test_nulls]\n",
    "y_test = y_test.loc[~test_nulls]"
   ]
  },
  {
   "cell_type": "code",
   "execution_count": 17,
   "metadata": {
    "ExecuteTime": {
     "end_time": "2021-05-06T14:23:58.447651Z",
     "start_time": "2021-05-06T14:23:58.438024Z"
    }
   },
   "outputs": [
    {
     "data": {
      "text/plain": [
       "Pclass      0\n",
       "Age         0\n",
       "SibSp       0\n",
       "Fare        0\n",
       "Sex         0\n",
       "Embarked    0\n",
       "dtype: int64"
      ]
     },
     "metadata": {},
     "output_type": "display_data"
    },
    {
     "data": {
      "text/plain": [
       "Pclass      0\n",
       "Age         0\n",
       "SibSp       0\n",
       "Fare        0\n",
       "Sex         0\n",
       "Embarked    0\n",
       "dtype: int64"
      ]
     },
     "metadata": {},
     "output_type": "display_data"
    }
   ],
   "source": [
    "display(X_train.isna().sum(), X_test.isna().sum())"
   ]
  },
  {
   "cell_type": "code",
   "execution_count": 18,
   "metadata": {
    "ExecuteTime": {
     "end_time": "2021-05-06T14:23:58.456226Z",
     "start_time": "2021-05-06T14:23:58.449881Z"
    }
   },
   "outputs": [
    {
     "data": {
      "text/plain": [
       "OneHotEncoder(drop='first', sparse=False)"
      ]
     },
     "execution_count": 18,
     "metadata": {},
     "output_type": "execute_result"
    }
   ],
   "source": [
    "from sklearn.preprocessing import OneHotEncoder\n",
    "\n",
    "encoder = OneHotEncoder(sparse=False,drop='first')#,handle_unknown='ignore')\n",
    "encoder"
   ]
  },
  {
   "cell_type": "code",
   "execution_count": 19,
   "metadata": {
    "ExecuteTime": {
     "end_time": "2021-05-06T14:23:58.476182Z",
     "start_time": "2021-05-06T14:23:58.458317Z"
    }
   },
   "outputs": [],
   "source": [
    "X_train_ohe = X_train.drop(columns=cat_cols).copy()\n",
    "X_test_ohe = X_test.drop(columns=cat_cols).copy()\n",
    "\n",
    "\n",
    "encoder.fit(X_train[cat_cols])\n",
    "\n",
    "X_train_ohe[encoder.get_feature_names(cat_cols)] = encoder.transform(X_train[cat_cols])\n",
    "X_test_ohe[encoder.get_feature_names(cat_cols)] = encoder.transform(X_test[cat_cols])"
   ]
  },
  {
   "cell_type": "code",
   "execution_count": 20,
   "metadata": {
    "ExecuteTime": {
     "end_time": "2021-05-06T14:23:58.493659Z",
     "start_time": "2021-05-06T14:23:58.478925Z"
    }
   },
   "outputs": [
    {
     "data": {
      "text/html": [
       "<div>\n",
       "<style scoped>\n",
       "    .dataframe tbody tr th:only-of-type {\n",
       "        vertical-align: middle;\n",
       "    }\n",
       "\n",
       "    .dataframe tbody tr th {\n",
       "        vertical-align: top;\n",
       "    }\n",
       "\n",
       "    .dataframe thead th {\n",
       "        text-align: right;\n",
       "    }\n",
       "</style>\n",
       "<table border=\"1\" class=\"dataframe\">\n",
       "  <thead>\n",
       "    <tr style=\"text-align: right;\">\n",
       "      <th></th>\n",
       "      <th>Pclass</th>\n",
       "      <th>Age</th>\n",
       "      <th>SibSp</th>\n",
       "      <th>Fare</th>\n",
       "      <th>Sex_male</th>\n",
       "      <th>Embarked_Q</th>\n",
       "      <th>Embarked_S</th>\n",
       "    </tr>\n",
       "  </thead>\n",
       "  <tbody>\n",
       "    <tr>\n",
       "      <th>614</th>\n",
       "      <td>3.0</td>\n",
       "      <td>35.0</td>\n",
       "      <td>0</td>\n",
       "      <td>8.050</td>\n",
       "      <td>1.0</td>\n",
       "      <td>0.0</td>\n",
       "      <td>1.0</td>\n",
       "    </tr>\n",
       "    <tr>\n",
       "      <th>540</th>\n",
       "      <td>1.0</td>\n",
       "      <td>36.0</td>\n",
       "      <td>0</td>\n",
       "      <td>71.000</td>\n",
       "      <td>0.0</td>\n",
       "      <td>0.0</td>\n",
       "      <td>1.0</td>\n",
       "    </tr>\n",
       "    <tr>\n",
       "      <th>314</th>\n",
       "      <td>2.0</td>\n",
       "      <td>43.0</td>\n",
       "      <td>1</td>\n",
       "      <td>26.250</td>\n",
       "      <td>1.0</td>\n",
       "      <td>0.0</td>\n",
       "      <td>1.0</td>\n",
       "    </tr>\n",
       "    <tr>\n",
       "      <th>162</th>\n",
       "      <td>3.0</td>\n",
       "      <td>26.0</td>\n",
       "      <td>0</td>\n",
       "      <td>7.775</td>\n",
       "      <td>1.0</td>\n",
       "      <td>0.0</td>\n",
       "      <td>1.0</td>\n",
       "    </tr>\n",
       "    <tr>\n",
       "      <th>743</th>\n",
       "      <td>3.0</td>\n",
       "      <td>24.0</td>\n",
       "      <td>1</td>\n",
       "      <td>16.100</td>\n",
       "      <td>1.0</td>\n",
       "      <td>0.0</td>\n",
       "      <td>1.0</td>\n",
       "    </tr>\n",
       "    <tr>\n",
       "      <th>...</th>\n",
       "      <td>...</td>\n",
       "      <td>...</td>\n",
       "      <td>...</td>\n",
       "      <td>...</td>\n",
       "      <td>...</td>\n",
       "      <td>...</td>\n",
       "      <td>...</td>\n",
       "    </tr>\n",
       "    <tr>\n",
       "      <th>450</th>\n",
       "      <td>2.0</td>\n",
       "      <td>36.0</td>\n",
       "      <td>1</td>\n",
       "      <td>27.750</td>\n",
       "      <td>1.0</td>\n",
       "      <td>0.0</td>\n",
       "      <td>1.0</td>\n",
       "    </tr>\n",
       "    <tr>\n",
       "      <th>715</th>\n",
       "      <td>3.0</td>\n",
       "      <td>19.0</td>\n",
       "      <td>0</td>\n",
       "      <td>7.650</td>\n",
       "      <td>1.0</td>\n",
       "      <td>0.0</td>\n",
       "      <td>1.0</td>\n",
       "    </tr>\n",
       "    <tr>\n",
       "      <th>98</th>\n",
       "      <td>2.0</td>\n",
       "      <td>34.0</td>\n",
       "      <td>0</td>\n",
       "      <td>23.000</td>\n",
       "      <td>0.0</td>\n",
       "      <td>0.0</td>\n",
       "      <td>1.0</td>\n",
       "    </tr>\n",
       "    <tr>\n",
       "      <th>209</th>\n",
       "      <td>1.0</td>\n",
       "      <td>40.0</td>\n",
       "      <td>0</td>\n",
       "      <td>31.000</td>\n",
       "      <td>1.0</td>\n",
       "      <td>0.0</td>\n",
       "      <td>0.0</td>\n",
       "    </tr>\n",
       "    <tr>\n",
       "      <th>880</th>\n",
       "      <td>2.0</td>\n",
       "      <td>25.0</td>\n",
       "      <td>0</td>\n",
       "      <td>26.000</td>\n",
       "      <td>0.0</td>\n",
       "      <td>0.0</td>\n",
       "      <td>1.0</td>\n",
       "    </tr>\n",
       "  </tbody>\n",
       "</table>\n",
       "<p>508 rows × 7 columns</p>\n",
       "</div>"
      ],
      "text/plain": [
       "     Pclass   Age  SibSp    Fare  Sex_male  Embarked_Q  Embarked_S\n",
       "614     3.0  35.0      0   8.050       1.0         0.0         1.0\n",
       "540     1.0  36.0      0  71.000       0.0         0.0         1.0\n",
       "314     2.0  43.0      1  26.250       1.0         0.0         1.0\n",
       "162     3.0  26.0      0   7.775       1.0         0.0         1.0\n",
       "743     3.0  24.0      1  16.100       1.0         0.0         1.0\n",
       "..      ...   ...    ...     ...       ...         ...         ...\n",
       "450     2.0  36.0      1  27.750       1.0         0.0         1.0\n",
       "715     3.0  19.0      0   7.650       1.0         0.0         1.0\n",
       "98      2.0  34.0      0  23.000       0.0         0.0         1.0\n",
       "209     1.0  40.0      0  31.000       1.0         0.0         0.0\n",
       "880     2.0  25.0      0  26.000       0.0         0.0         1.0\n",
       "\n",
       "[508 rows x 7 columns]"
      ]
     },
     "execution_count": 20,
     "metadata": {},
     "output_type": "execute_result"
    }
   ],
   "source": [
    "X_train_ohe"
   ]
  },
  {
   "cell_type": "code",
   "execution_count": 21,
   "metadata": {
    "ExecuteTime": {
     "end_time": "2021-05-06T14:23:58.509407Z",
     "start_time": "2021-05-06T14:23:58.495911Z"
    }
   },
   "outputs": [],
   "source": [
    "## Scale data\n",
    "from sklearn.preprocessing import MinMaxScaler, StandardScaler\n",
    "\n",
    "scaler= StandardScaler()\n",
    "\n",
    "X_train_sca = X_train_ohe.copy()\n",
    "X_test_sca = X_test_ohe.copy()\n",
    "\n",
    "\n",
    "X_train_sca[num_cols] = scaler.fit_transform(X_train_sca[num_cols])\n",
    "X_test_sca[num_cols] = scaler.transform(X_test_sca[num_cols])"
   ]
  },
  {
   "cell_type": "code",
   "execution_count": 22,
   "metadata": {
    "ExecuteTime": {
     "end_time": "2021-05-06T14:23:58.525416Z",
     "start_time": "2021-05-06T14:23:58.511496Z"
    }
   },
   "outputs": [
    {
     "data": {
      "text/html": [
       "<div>\n",
       "<style scoped>\n",
       "    .dataframe tbody tr th:only-of-type {\n",
       "        vertical-align: middle;\n",
       "    }\n",
       "\n",
       "    .dataframe tbody tr th {\n",
       "        vertical-align: top;\n",
       "    }\n",
       "\n",
       "    .dataframe thead th {\n",
       "        text-align: right;\n",
       "    }\n",
       "</style>\n",
       "<table border=\"1\" class=\"dataframe\">\n",
       "  <thead>\n",
       "    <tr style=\"text-align: right;\">\n",
       "      <th></th>\n",
       "      <th>Pclass</th>\n",
       "      <th>Age</th>\n",
       "      <th>SibSp</th>\n",
       "      <th>Fare</th>\n",
       "      <th>Sex_male</th>\n",
       "      <th>Embarked_Q</th>\n",
       "      <th>Embarked_S</th>\n",
       "    </tr>\n",
       "  </thead>\n",
       "  <tbody>\n",
       "    <tr>\n",
       "      <th>614</th>\n",
       "      <td>0.870531</td>\n",
       "      <td>0.378067</td>\n",
       "      <td>-0.546037</td>\n",
       "      <td>-0.491571</td>\n",
       "      <td>1.0</td>\n",
       "      <td>0.0</td>\n",
       "      <td>1.0</td>\n",
       "    </tr>\n",
       "    <tr>\n",
       "      <th>540</th>\n",
       "      <td>-1.539441</td>\n",
       "      <td>0.446403</td>\n",
       "      <td>-0.546037</td>\n",
       "      <td>0.697690</td>\n",
       "      <td>0.0</td>\n",
       "      <td>0.0</td>\n",
       "      <td>1.0</td>\n",
       "    </tr>\n",
       "    <tr>\n",
       "      <th>314</th>\n",
       "      <td>-0.334455</td>\n",
       "      <td>0.924756</td>\n",
       "      <td>0.492865</td>\n",
       "      <td>-0.147734</td>\n",
       "      <td>1.0</td>\n",
       "      <td>0.0</td>\n",
       "      <td>1.0</td>\n",
       "    </tr>\n",
       "    <tr>\n",
       "      <th>162</th>\n",
       "      <td>0.870531</td>\n",
       "      <td>-0.236958</td>\n",
       "      <td>-0.546037</td>\n",
       "      <td>-0.496766</td>\n",
       "      <td>1.0</td>\n",
       "      <td>0.0</td>\n",
       "      <td>1.0</td>\n",
       "    </tr>\n",
       "    <tr>\n",
       "      <th>743</th>\n",
       "      <td>0.870531</td>\n",
       "      <td>-0.373630</td>\n",
       "      <td>0.492865</td>\n",
       "      <td>-0.339489</td>\n",
       "      <td>1.0</td>\n",
       "      <td>0.0</td>\n",
       "      <td>1.0</td>\n",
       "    </tr>\n",
       "    <tr>\n",
       "      <th>...</th>\n",
       "      <td>...</td>\n",
       "      <td>...</td>\n",
       "      <td>...</td>\n",
       "      <td>...</td>\n",
       "      <td>...</td>\n",
       "      <td>...</td>\n",
       "      <td>...</td>\n",
       "    </tr>\n",
       "    <tr>\n",
       "      <th>450</th>\n",
       "      <td>-0.334455</td>\n",
       "      <td>0.446403</td>\n",
       "      <td>0.492865</td>\n",
       "      <td>-0.119396</td>\n",
       "      <td>1.0</td>\n",
       "      <td>0.0</td>\n",
       "      <td>1.0</td>\n",
       "    </tr>\n",
       "    <tr>\n",
       "      <th>715</th>\n",
       "      <td>0.870531</td>\n",
       "      <td>-0.715311</td>\n",
       "      <td>-0.546037</td>\n",
       "      <td>-0.499128</td>\n",
       "      <td>1.0</td>\n",
       "      <td>0.0</td>\n",
       "      <td>1.0</td>\n",
       "    </tr>\n",
       "    <tr>\n",
       "      <th>98</th>\n",
       "      <td>-0.334455</td>\n",
       "      <td>0.309731</td>\n",
       "      <td>-0.546037</td>\n",
       "      <td>-0.209133</td>\n",
       "      <td>0.0</td>\n",
       "      <td>0.0</td>\n",
       "      <td>1.0</td>\n",
       "    </tr>\n",
       "    <tr>\n",
       "      <th>209</th>\n",
       "      <td>-1.539441</td>\n",
       "      <td>0.719748</td>\n",
       "      <td>-0.546037</td>\n",
       "      <td>-0.057996</td>\n",
       "      <td>1.0</td>\n",
       "      <td>0.0</td>\n",
       "      <td>0.0</td>\n",
       "    </tr>\n",
       "    <tr>\n",
       "      <th>880</th>\n",
       "      <td>-0.334455</td>\n",
       "      <td>-0.305294</td>\n",
       "      <td>-0.546037</td>\n",
       "      <td>-0.152457</td>\n",
       "      <td>0.0</td>\n",
       "      <td>0.0</td>\n",
       "      <td>1.0</td>\n",
       "    </tr>\n",
       "  </tbody>\n",
       "</table>\n",
       "<p>508 rows × 7 columns</p>\n",
       "</div>"
      ],
      "text/plain": [
       "       Pclass       Age     SibSp      Fare  Sex_male  Embarked_Q  Embarked_S\n",
       "614  0.870531  0.378067 -0.546037 -0.491571       1.0         0.0         1.0\n",
       "540 -1.539441  0.446403 -0.546037  0.697690       0.0         0.0         1.0\n",
       "314 -0.334455  0.924756  0.492865 -0.147734       1.0         0.0         1.0\n",
       "162  0.870531 -0.236958 -0.546037 -0.496766       1.0         0.0         1.0\n",
       "743  0.870531 -0.373630  0.492865 -0.339489       1.0         0.0         1.0\n",
       "..        ...       ...       ...       ...       ...         ...         ...\n",
       "450 -0.334455  0.446403  0.492865 -0.119396       1.0         0.0         1.0\n",
       "715  0.870531 -0.715311 -0.546037 -0.499128       1.0         0.0         1.0\n",
       "98  -0.334455  0.309731 -0.546037 -0.209133       0.0         0.0         1.0\n",
       "209 -1.539441  0.719748 -0.546037 -0.057996       1.0         0.0         0.0\n",
       "880 -0.334455 -0.305294 -0.546037 -0.152457       0.0         0.0         1.0\n",
       "\n",
       "[508 rows x 7 columns]"
      ]
     },
     "execution_count": 22,
     "metadata": {},
     "output_type": "execute_result"
    }
   ],
   "source": [
    "X_train_sca#.describe().round(2)"
   ]
  },
  {
   "cell_type": "markdown",
   "metadata": {},
   "source": [
    "## Fitting a Logistic Regression with `statsmodels`"
   ]
  },
  {
   "cell_type": "code",
   "execution_count": 23,
   "metadata": {
    "ExecuteTime": {
     "end_time": "2021-05-06T14:23:58.536595Z",
     "start_time": "2021-05-06T14:23:58.534016Z"
    }
   },
   "outputs": [],
   "source": [
    "import statsmodels.api as sms"
   ]
  },
  {
   "cell_type": "code",
   "execution_count": 24,
   "metadata": {
    "ExecuteTime": {
     "end_time": "2021-05-06T14:23:58.555707Z",
     "start_time": "2021-05-06T14:23:58.541054Z"
    }
   },
   "outputs": [
    {
     "data": {
      "text/html": [
       "<div>\n",
       "<style scoped>\n",
       "    .dataframe tbody tr th:only-of-type {\n",
       "        vertical-align: middle;\n",
       "    }\n",
       "\n",
       "    .dataframe tbody tr th {\n",
       "        vertical-align: top;\n",
       "    }\n",
       "\n",
       "    .dataframe thead th {\n",
       "        text-align: right;\n",
       "    }\n",
       "</style>\n",
       "<table border=\"1\" class=\"dataframe\">\n",
       "  <thead>\n",
       "    <tr style=\"text-align: right;\">\n",
       "      <th></th>\n",
       "      <th>Pclass</th>\n",
       "      <th>Age</th>\n",
       "      <th>SibSp</th>\n",
       "      <th>Fare</th>\n",
       "      <th>Sex_male</th>\n",
       "      <th>Embarked_Q</th>\n",
       "      <th>Embarked_S</th>\n",
       "    </tr>\n",
       "  </thead>\n",
       "  <tbody>\n",
       "    <tr>\n",
       "      <th>614</th>\n",
       "      <td>0.870531</td>\n",
       "      <td>0.378067</td>\n",
       "      <td>-0.546037</td>\n",
       "      <td>-0.491571</td>\n",
       "      <td>1.0</td>\n",
       "      <td>0.0</td>\n",
       "      <td>1.0</td>\n",
       "    </tr>\n",
       "    <tr>\n",
       "      <th>540</th>\n",
       "      <td>-1.539441</td>\n",
       "      <td>0.446403</td>\n",
       "      <td>-0.546037</td>\n",
       "      <td>0.697690</td>\n",
       "      <td>0.0</td>\n",
       "      <td>0.0</td>\n",
       "      <td>1.0</td>\n",
       "    </tr>\n",
       "    <tr>\n",
       "      <th>314</th>\n",
       "      <td>-0.334455</td>\n",
       "      <td>0.924756</td>\n",
       "      <td>0.492865</td>\n",
       "      <td>-0.147734</td>\n",
       "      <td>1.0</td>\n",
       "      <td>0.0</td>\n",
       "      <td>1.0</td>\n",
       "    </tr>\n",
       "    <tr>\n",
       "      <th>162</th>\n",
       "      <td>0.870531</td>\n",
       "      <td>-0.236958</td>\n",
       "      <td>-0.546037</td>\n",
       "      <td>-0.496766</td>\n",
       "      <td>1.0</td>\n",
       "      <td>0.0</td>\n",
       "      <td>1.0</td>\n",
       "    </tr>\n",
       "    <tr>\n",
       "      <th>743</th>\n",
       "      <td>0.870531</td>\n",
       "      <td>-0.373630</td>\n",
       "      <td>0.492865</td>\n",
       "      <td>-0.339489</td>\n",
       "      <td>1.0</td>\n",
       "      <td>0.0</td>\n",
       "      <td>1.0</td>\n",
       "    </tr>\n",
       "    <tr>\n",
       "      <th>...</th>\n",
       "      <td>...</td>\n",
       "      <td>...</td>\n",
       "      <td>...</td>\n",
       "      <td>...</td>\n",
       "      <td>...</td>\n",
       "      <td>...</td>\n",
       "      <td>...</td>\n",
       "    </tr>\n",
       "    <tr>\n",
       "      <th>450</th>\n",
       "      <td>-0.334455</td>\n",
       "      <td>0.446403</td>\n",
       "      <td>0.492865</td>\n",
       "      <td>-0.119396</td>\n",
       "      <td>1.0</td>\n",
       "      <td>0.0</td>\n",
       "      <td>1.0</td>\n",
       "    </tr>\n",
       "    <tr>\n",
       "      <th>715</th>\n",
       "      <td>0.870531</td>\n",
       "      <td>-0.715311</td>\n",
       "      <td>-0.546037</td>\n",
       "      <td>-0.499128</td>\n",
       "      <td>1.0</td>\n",
       "      <td>0.0</td>\n",
       "      <td>1.0</td>\n",
       "    </tr>\n",
       "    <tr>\n",
       "      <th>98</th>\n",
       "      <td>-0.334455</td>\n",
       "      <td>0.309731</td>\n",
       "      <td>-0.546037</td>\n",
       "      <td>-0.209133</td>\n",
       "      <td>0.0</td>\n",
       "      <td>0.0</td>\n",
       "      <td>1.0</td>\n",
       "    </tr>\n",
       "    <tr>\n",
       "      <th>209</th>\n",
       "      <td>-1.539441</td>\n",
       "      <td>0.719748</td>\n",
       "      <td>-0.546037</td>\n",
       "      <td>-0.057996</td>\n",
       "      <td>1.0</td>\n",
       "      <td>0.0</td>\n",
       "      <td>0.0</td>\n",
       "    </tr>\n",
       "    <tr>\n",
       "      <th>880</th>\n",
       "      <td>-0.334455</td>\n",
       "      <td>-0.305294</td>\n",
       "      <td>-0.546037</td>\n",
       "      <td>-0.152457</td>\n",
       "      <td>0.0</td>\n",
       "      <td>0.0</td>\n",
       "      <td>1.0</td>\n",
       "    </tr>\n",
       "  </tbody>\n",
       "</table>\n",
       "<p>508 rows × 7 columns</p>\n",
       "</div>"
      ],
      "text/plain": [
       "       Pclass       Age     SibSp      Fare  Sex_male  Embarked_Q  Embarked_S\n",
       "614  0.870531  0.378067 -0.546037 -0.491571       1.0         0.0         1.0\n",
       "540 -1.539441  0.446403 -0.546037  0.697690       0.0         0.0         1.0\n",
       "314 -0.334455  0.924756  0.492865 -0.147734       1.0         0.0         1.0\n",
       "162  0.870531 -0.236958 -0.546037 -0.496766       1.0         0.0         1.0\n",
       "743  0.870531 -0.373630  0.492865 -0.339489       1.0         0.0         1.0\n",
       "..        ...       ...       ...       ...       ...         ...         ...\n",
       "450 -0.334455  0.446403  0.492865 -0.119396       1.0         0.0         1.0\n",
       "715  0.870531 -0.715311 -0.546037 -0.499128       1.0         0.0         1.0\n",
       "98  -0.334455  0.309731 -0.546037 -0.209133       0.0         0.0         1.0\n",
       "209 -1.539441  0.719748 -0.546037 -0.057996       1.0         0.0         0.0\n",
       "880 -0.334455 -0.305294 -0.546037 -0.152457       0.0         0.0         1.0\n",
       "\n",
       "[508 rows x 7 columns]"
      ]
     },
     "execution_count": 24,
     "metadata": {},
     "output_type": "execute_result"
    }
   ],
   "source": [
    "X_train_sca"
   ]
  },
  {
   "cell_type": "code",
   "execution_count": 25,
   "metadata": {
    "ExecuteTime": {
     "end_time": "2021-05-06T14:23:58.563098Z",
     "start_time": "2021-05-06T14:23:58.557752Z"
    }
   },
   "outputs": [
    {
     "data": {
      "text/plain": [
       "0    309\n",
       "1    199\n",
       "Name: Survived, dtype: int64"
      ]
     },
     "execution_count": 25,
     "metadata": {},
     "output_type": "execute_result"
    }
   ],
   "source": [
    "y_train.value_counts()"
   ]
  },
  {
   "cell_type": "code",
   "execution_count": 26,
   "metadata": {
    "ExecuteTime": {
     "end_time": "2021-05-06T14:23:58.597523Z",
     "start_time": "2021-05-06T14:23:58.565487Z"
    }
   },
   "outputs": [
    {
     "data": {
      "text/html": [
       "<div>\n",
       "<style scoped>\n",
       "    .dataframe tbody tr th:only-of-type {\n",
       "        vertical-align: middle;\n",
       "    }\n",
       "\n",
       "    .dataframe tbody tr th {\n",
       "        vertical-align: top;\n",
       "    }\n",
       "\n",
       "    .dataframe thead th {\n",
       "        text-align: right;\n",
       "    }\n",
       "</style>\n",
       "<table border=\"1\" class=\"dataframe\">\n",
       "  <thead>\n",
       "    <tr style=\"text-align: right;\">\n",
       "      <th></th>\n",
       "      <th>const</th>\n",
       "      <th>Pclass</th>\n",
       "      <th>Age</th>\n",
       "      <th>SibSp</th>\n",
       "      <th>Fare</th>\n",
       "      <th>Sex_male</th>\n",
       "      <th>Embarked_Q</th>\n",
       "      <th>Embarked_S</th>\n",
       "    </tr>\n",
       "  </thead>\n",
       "  <tbody>\n",
       "    <tr>\n",
       "      <th>614</th>\n",
       "      <td>1.0</td>\n",
       "      <td>0.870531</td>\n",
       "      <td>0.378067</td>\n",
       "      <td>-0.546037</td>\n",
       "      <td>-0.491571</td>\n",
       "      <td>1.0</td>\n",
       "      <td>0.0</td>\n",
       "      <td>1.0</td>\n",
       "    </tr>\n",
       "    <tr>\n",
       "      <th>540</th>\n",
       "      <td>1.0</td>\n",
       "      <td>-1.539441</td>\n",
       "      <td>0.446403</td>\n",
       "      <td>-0.546037</td>\n",
       "      <td>0.697690</td>\n",
       "      <td>0.0</td>\n",
       "      <td>0.0</td>\n",
       "      <td>1.0</td>\n",
       "    </tr>\n",
       "    <tr>\n",
       "      <th>314</th>\n",
       "      <td>1.0</td>\n",
       "      <td>-0.334455</td>\n",
       "      <td>0.924756</td>\n",
       "      <td>0.492865</td>\n",
       "      <td>-0.147734</td>\n",
       "      <td>1.0</td>\n",
       "      <td>0.0</td>\n",
       "      <td>1.0</td>\n",
       "    </tr>\n",
       "    <tr>\n",
       "      <th>162</th>\n",
       "      <td>1.0</td>\n",
       "      <td>0.870531</td>\n",
       "      <td>-0.236958</td>\n",
       "      <td>-0.546037</td>\n",
       "      <td>-0.496766</td>\n",
       "      <td>1.0</td>\n",
       "      <td>0.0</td>\n",
       "      <td>1.0</td>\n",
       "    </tr>\n",
       "    <tr>\n",
       "      <th>743</th>\n",
       "      <td>1.0</td>\n",
       "      <td>0.870531</td>\n",
       "      <td>-0.373630</td>\n",
       "      <td>0.492865</td>\n",
       "      <td>-0.339489</td>\n",
       "      <td>1.0</td>\n",
       "      <td>0.0</td>\n",
       "      <td>1.0</td>\n",
       "    </tr>\n",
       "    <tr>\n",
       "      <th>...</th>\n",
       "      <td>...</td>\n",
       "      <td>...</td>\n",
       "      <td>...</td>\n",
       "      <td>...</td>\n",
       "      <td>...</td>\n",
       "      <td>...</td>\n",
       "      <td>...</td>\n",
       "      <td>...</td>\n",
       "    </tr>\n",
       "    <tr>\n",
       "      <th>450</th>\n",
       "      <td>1.0</td>\n",
       "      <td>-0.334455</td>\n",
       "      <td>0.446403</td>\n",
       "      <td>0.492865</td>\n",
       "      <td>-0.119396</td>\n",
       "      <td>1.0</td>\n",
       "      <td>0.0</td>\n",
       "      <td>1.0</td>\n",
       "    </tr>\n",
       "    <tr>\n",
       "      <th>715</th>\n",
       "      <td>1.0</td>\n",
       "      <td>0.870531</td>\n",
       "      <td>-0.715311</td>\n",
       "      <td>-0.546037</td>\n",
       "      <td>-0.499128</td>\n",
       "      <td>1.0</td>\n",
       "      <td>0.0</td>\n",
       "      <td>1.0</td>\n",
       "    </tr>\n",
       "    <tr>\n",
       "      <th>98</th>\n",
       "      <td>1.0</td>\n",
       "      <td>-0.334455</td>\n",
       "      <td>0.309731</td>\n",
       "      <td>-0.546037</td>\n",
       "      <td>-0.209133</td>\n",
       "      <td>0.0</td>\n",
       "      <td>0.0</td>\n",
       "      <td>1.0</td>\n",
       "    </tr>\n",
       "    <tr>\n",
       "      <th>209</th>\n",
       "      <td>1.0</td>\n",
       "      <td>-1.539441</td>\n",
       "      <td>0.719748</td>\n",
       "      <td>-0.546037</td>\n",
       "      <td>-0.057996</td>\n",
       "      <td>1.0</td>\n",
       "      <td>0.0</td>\n",
       "      <td>0.0</td>\n",
       "    </tr>\n",
       "    <tr>\n",
       "      <th>880</th>\n",
       "      <td>1.0</td>\n",
       "      <td>-0.334455</td>\n",
       "      <td>-0.305294</td>\n",
       "      <td>-0.546037</td>\n",
       "      <td>-0.152457</td>\n",
       "      <td>0.0</td>\n",
       "      <td>0.0</td>\n",
       "      <td>1.0</td>\n",
       "    </tr>\n",
       "  </tbody>\n",
       "</table>\n",
       "<p>508 rows × 8 columns</p>\n",
       "</div>"
      ],
      "text/plain": [
       "     const    Pclass       Age     SibSp      Fare  Sex_male  Embarked_Q  \\\n",
       "614    1.0  0.870531  0.378067 -0.546037 -0.491571       1.0         0.0   \n",
       "540    1.0 -1.539441  0.446403 -0.546037  0.697690       0.0         0.0   \n",
       "314    1.0 -0.334455  0.924756  0.492865 -0.147734       1.0         0.0   \n",
       "162    1.0  0.870531 -0.236958 -0.546037 -0.496766       1.0         0.0   \n",
       "743    1.0  0.870531 -0.373630  0.492865 -0.339489       1.0         0.0   \n",
       "..     ...       ...       ...       ...       ...       ...         ...   \n",
       "450    1.0 -0.334455  0.446403  0.492865 -0.119396       1.0         0.0   \n",
       "715    1.0  0.870531 -0.715311 -0.546037 -0.499128       1.0         0.0   \n",
       "98     1.0 -0.334455  0.309731 -0.546037 -0.209133       0.0         0.0   \n",
       "209    1.0 -1.539441  0.719748 -0.546037 -0.057996       1.0         0.0   \n",
       "880    1.0 -0.334455 -0.305294 -0.546037 -0.152457       0.0         0.0   \n",
       "\n",
       "     Embarked_S  \n",
       "614         1.0  \n",
       "540         1.0  \n",
       "314         1.0  \n",
       "162         1.0  \n",
       "743         1.0  \n",
       "..          ...  \n",
       "450         1.0  \n",
       "715         1.0  \n",
       "98          1.0  \n",
       "209         0.0  \n",
       "880         1.0  \n",
       "\n",
       "[508 rows x 8 columns]"
      ]
     },
     "execution_count": 26,
     "metadata": {},
     "output_type": "execute_result"
    }
   ],
   "source": [
    "X_train_sms = sm.add_constant(X_train_sca)\n",
    "X_test_sms = sm.add_constant(X_test_sca)\n",
    "X_train_sms"
   ]
  },
  {
   "cell_type": "code",
   "execution_count": 27,
   "metadata": {
    "ExecuteTime": {
     "end_time": "2021-05-06T14:23:58.631100Z",
     "start_time": "2021-05-06T14:23:58.599806Z"
    }
   },
   "outputs": [
    {
     "name": "stdout",
     "output_type": "stream",
     "text": [
      "Optimization terminated successfully.\n",
      "         Current function value: 0.433646\n",
      "         Iterations 6\n"
     ]
    },
    {
     "data": {
      "text/html": [
       "<table class=\"simpletable\">\n",
       "<caption>Logit Regression Results</caption>\n",
       "<tr>\n",
       "  <th>Dep. Variable:</th>       <td>Survived</td>     <th>  No. Observations:  </th>  <td>   508</td>  \n",
       "</tr>\n",
       "<tr>\n",
       "  <th>Model:</th>                 <td>Logit</td>      <th>  Df Residuals:      </th>  <td>   500</td>  \n",
       "</tr>\n",
       "<tr>\n",
       "  <th>Method:</th>                 <td>MLE</td>       <th>  Df Model:          </th>  <td>     7</td>  \n",
       "</tr>\n",
       "<tr>\n",
       "  <th>Date:</th>            <td>Thu, 06 May 2021</td> <th>  Pseudo R-squ.:     </th>  <td>0.3523</td>  \n",
       "</tr>\n",
       "<tr>\n",
       "  <th>Time:</th>                <td>10:23:58</td>     <th>  Log-Likelihood:    </th> <td> -220.29</td> \n",
       "</tr>\n",
       "<tr>\n",
       "  <th>converged:</th>             <td>True</td>       <th>  LL-Null:           </th> <td> -340.11</td> \n",
       "</tr>\n",
       "<tr>\n",
       "  <th>Covariance Type:</th>     <td>nonrobust</td>    <th>  LLR p-value:       </th> <td>4.423e-48</td>\n",
       "</tr>\n",
       "</table>\n",
       "<table class=\"simpletable\">\n",
       "<tr>\n",
       "       <td></td>         <th>coef</th>     <th>std err</th>      <th>z</th>      <th>P>|z|</th>  <th>[0.025</th>    <th>0.975]</th>  \n",
       "</tr>\n",
       "<tr>\n",
       "  <th>const</th>      <td>    1.2424</td> <td>    0.332</td> <td>    3.741</td> <td> 0.000</td> <td>    0.591</td> <td>    1.893</td>\n",
       "</tr>\n",
       "<tr>\n",
       "  <th>Pclass</th>     <td>   -0.9260</td> <td>    0.169</td> <td>   -5.464</td> <td> 0.000</td> <td>   -1.258</td> <td>   -0.594</td>\n",
       "</tr>\n",
       "<tr>\n",
       "  <th>Age</th>        <td>   -0.6604</td> <td>    0.150</td> <td>   -4.407</td> <td> 0.000</td> <td>   -0.954</td> <td>   -0.367</td>\n",
       "</tr>\n",
       "<tr>\n",
       "  <th>SibSp</th>      <td>   -0.4016</td> <td>    0.142</td> <td>   -2.825</td> <td> 0.005</td> <td>   -0.680</td> <td>   -0.123</td>\n",
       "</tr>\n",
       "<tr>\n",
       "  <th>Fare</th>       <td>    0.1363</td> <td>    0.148</td> <td>    0.921</td> <td> 0.357</td> <td>   -0.154</td> <td>    0.426</td>\n",
       "</tr>\n",
       "<tr>\n",
       "  <th>Sex_male</th>   <td>   -2.7553</td> <td>    0.257</td> <td>  -10.728</td> <td> 0.000</td> <td>   -3.259</td> <td>   -2.252</td>\n",
       "</tr>\n",
       "<tr>\n",
       "  <th>Embarked_Q</th> <td>   -0.3899</td> <td>    0.708</td> <td>   -0.551</td> <td> 0.582</td> <td>   -1.778</td> <td>    0.998</td>\n",
       "</tr>\n",
       "<tr>\n",
       "  <th>Embarked_S</th> <td>   -0.0701</td> <td>    0.335</td> <td>   -0.209</td> <td> 0.834</td> <td>   -0.728</td> <td>    0.587</td>\n",
       "</tr>\n",
       "</table>"
      ],
      "text/plain": [
       "<class 'statsmodels.iolib.summary.Summary'>\n",
       "\"\"\"\n",
       "                           Logit Regression Results                           \n",
       "==============================================================================\n",
       "Dep. Variable:               Survived   No. Observations:                  508\n",
       "Model:                          Logit   Df Residuals:                      500\n",
       "Method:                           MLE   Df Model:                            7\n",
       "Date:                Thu, 06 May 2021   Pseudo R-squ.:                  0.3523\n",
       "Time:                        10:23:58   Log-Likelihood:                -220.29\n",
       "converged:                       True   LL-Null:                       -340.11\n",
       "Covariance Type:            nonrobust   LLR p-value:                 4.423e-48\n",
       "==============================================================================\n",
       "                 coef    std err          z      P>|z|      [0.025      0.975]\n",
       "------------------------------------------------------------------------------\n",
       "const          1.2424      0.332      3.741      0.000       0.591       1.893\n",
       "Pclass        -0.9260      0.169     -5.464      0.000      -1.258      -0.594\n",
       "Age           -0.6604      0.150     -4.407      0.000      -0.954      -0.367\n",
       "SibSp         -0.4016      0.142     -2.825      0.005      -0.680      -0.123\n",
       "Fare           0.1363      0.148      0.921      0.357      -0.154       0.426\n",
       "Sex_male      -2.7553      0.257    -10.728      0.000      -3.259      -2.252\n",
       "Embarked_Q    -0.3899      0.708     -0.551      0.582      -1.778       0.998\n",
       "Embarked_S    -0.0701      0.335     -0.209      0.834      -0.728       0.587\n",
       "==============================================================================\n",
       "\"\"\""
      ]
     },
     "execution_count": 27,
     "metadata": {},
     "output_type": "execute_result"
    }
   ],
   "source": [
    "logit = sm.Logit(y_train,X_train_sms).fit()\n",
    "logit.summary()\n"
   ]
  },
  {
   "cell_type": "markdown",
   "metadata": {},
   "source": [
    "> ### But how do we know how GOOD it is?"
   ]
  },
  {
   "cell_type": "markdown",
   "metadata": {},
   "source": [
    "# Evaluating Classifications "
   ]
  },
  {
   "cell_type": "markdown",
   "metadata": {},
   "source": [
    "> [The 5 Classification Evaluation metrics every Data Scientist must know](https://towardsdatascience.com/the-5-classification-evaluation-metrics-you-must-know-aa97784ff226)"
   ]
  },
  {
   "cell_type": "markdown",
   "metadata": {},
   "source": [
    "## Evaluation Metrics"
   ]
  },
  {
   "cell_type": "markdown",
   "metadata": {},
   "source": [
    "### Accuracy"
   ]
  },
  {
   "cell_type": "markdown",
   "metadata": {},
   "source": [
    "$$ \\large \\text{Accuracy} = \\frac{\\text{Number of True Positives + True Negatives}}{\\text{Total Observations}} $$\n",
    "\n",
    "> \"Out of all the predictions our model made, what percentage were correct?\"\n",
    "- \"Accuracy is the most common metric for classification. It provides a solid holistic view of the overall performance of our \n",
    "model.\"\n",
    "\n",
    "#### When to use?\n",
    "- **Accuracy** is good for non-technical audiences (but can be misleading with imbalanced classes)\n"
   ]
  },
  {
   "cell_type": "code",
   "execution_count": 28,
   "metadata": {
    "ExecuteTime": {
     "end_time": "2021-05-06T14:23:58.635588Z",
     "start_time": "2021-05-06T14:23:58.633141Z"
    }
   },
   "outputs": [],
   "source": [
    "from sklearn import metrics"
   ]
  },
  {
   "cell_type": "code",
   "execution_count": null,
   "metadata": {},
   "outputs": [],
   "source": []
  },
  {
   "cell_type": "code",
   "execution_count": 29,
   "metadata": {
    "ExecuteTime": {
     "end_time": "2021-05-06T14:23:58.641898Z",
     "start_time": "2021-05-06T14:23:58.637785Z"
    }
   },
   "outputs": [],
   "source": [
    "y_hat_train = logit.predict(X_train_sms)\n",
    "y_hat_test = logit.predict(X_test_sms)"
   ]
  },
  {
   "cell_type": "code",
   "execution_count": 32,
   "metadata": {
    "ExecuteTime": {
     "end_time": "2021-05-06T14:25:18.682754Z",
     "start_time": "2021-05-06T14:25:18.677166Z"
    }
   },
   "outputs": [
    {
     "data": {
      "text/plain": [
       "(758    0.080076\n",
       " 169    0.114479\n",
       " 207    0.121051\n",
       " 170    0.203815\n",
       " 418    0.243752\n",
       "          ...   \n",
       " 246    0.672475\n",
       " 537    0.954763\n",
       " 551    0.276207\n",
       " 820    0.822893\n",
       " 242    0.250955\n",
       " Length: 168, dtype: float64,\n",
       " 758    0\n",
       " 169    0\n",
       " 207    1\n",
       " 170    0\n",
       " 418    0\n",
       "       ..\n",
       " 246    0\n",
       " 537    1\n",
       " 551    0\n",
       " 820    1\n",
       " 242    0\n",
       " Name: Survived, Length: 168, dtype: int64)"
      ]
     },
     "execution_count": 32,
     "metadata": {},
     "output_type": "execute_result"
    }
   ],
   "source": [
    "y_hat_test,y_test"
   ]
  },
  {
   "cell_type": "code",
   "execution_count": 33,
   "metadata": {
    "ExecuteTime": {
     "end_time": "2021-05-06T14:25:27.508771Z",
     "start_time": "2021-05-06T14:25:27.497389Z"
    }
   },
   "outputs": [
    {
     "ename": "ValueError",
     "evalue": "Classification metrics can't handle a mix of binary and continuous targets",
     "output_type": "error",
     "traceback": [
      "\u001b[0;31m---------------------------------------------------------------------------\u001b[0m",
      "\u001b[0;31mValueError\u001b[0m                                Traceback (most recent call last)",
      "\u001b[0;32m<ipython-input-33-7012a81b8060>\u001b[0m in \u001b[0;36m<module>\u001b[0;34m\u001b[0m\n\u001b[0;32m----> 1\u001b[0;31m \u001b[0mmetrics\u001b[0m\u001b[0;34m.\u001b[0m\u001b[0maccuracy_score\u001b[0m\u001b[0;34m(\u001b[0m\u001b[0my_test\u001b[0m\u001b[0;34m,\u001b[0m \u001b[0my_hat_test\u001b[0m\u001b[0;34m)\u001b[0m\u001b[0;34m\u001b[0m\u001b[0;34m\u001b[0m\u001b[0m\n\u001b[0m",
      "\u001b[0;32m/opt/anaconda3/envs/learn-env-new/lib/python3.8/site-packages/sklearn/utils/validation.py\u001b[0m in \u001b[0;36minner_f\u001b[0;34m(*args, **kwargs)\u001b[0m\n\u001b[1;32m     70\u001b[0m                           FutureWarning)\n\u001b[1;32m     71\u001b[0m         \u001b[0mkwargs\u001b[0m\u001b[0;34m.\u001b[0m\u001b[0mupdate\u001b[0m\u001b[0;34m(\u001b[0m\u001b[0;34m{\u001b[0m\u001b[0mk\u001b[0m\u001b[0;34m:\u001b[0m \u001b[0marg\u001b[0m \u001b[0;32mfor\u001b[0m \u001b[0mk\u001b[0m\u001b[0;34m,\u001b[0m \u001b[0marg\u001b[0m \u001b[0;32min\u001b[0m \u001b[0mzip\u001b[0m\u001b[0;34m(\u001b[0m\u001b[0msig\u001b[0m\u001b[0;34m.\u001b[0m\u001b[0mparameters\u001b[0m\u001b[0;34m,\u001b[0m \u001b[0margs\u001b[0m\u001b[0;34m)\u001b[0m\u001b[0;34m}\u001b[0m\u001b[0;34m)\u001b[0m\u001b[0;34m\u001b[0m\u001b[0;34m\u001b[0m\u001b[0m\n\u001b[0;32m---> 72\u001b[0;31m         \u001b[0;32mreturn\u001b[0m \u001b[0mf\u001b[0m\u001b[0;34m(\u001b[0m\u001b[0;34m**\u001b[0m\u001b[0mkwargs\u001b[0m\u001b[0;34m)\u001b[0m\u001b[0;34m\u001b[0m\u001b[0;34m\u001b[0m\u001b[0m\n\u001b[0m\u001b[1;32m     73\u001b[0m     \u001b[0;32mreturn\u001b[0m \u001b[0minner_f\u001b[0m\u001b[0;34m\u001b[0m\u001b[0;34m\u001b[0m\u001b[0m\n\u001b[1;32m     74\u001b[0m \u001b[0;34m\u001b[0m\u001b[0m\n",
      "\u001b[0;32m/opt/anaconda3/envs/learn-env-new/lib/python3.8/site-packages/sklearn/metrics/_classification.py\u001b[0m in \u001b[0;36maccuracy_score\u001b[0;34m(y_true, y_pred, normalize, sample_weight)\u001b[0m\n\u001b[1;32m    185\u001b[0m \u001b[0;34m\u001b[0m\u001b[0m\n\u001b[1;32m    186\u001b[0m     \u001b[0;31m# Compute accuracy for each possible representation\u001b[0m\u001b[0;34m\u001b[0m\u001b[0;34m\u001b[0m\u001b[0;34m\u001b[0m\u001b[0m\n\u001b[0;32m--> 187\u001b[0;31m     \u001b[0my_type\u001b[0m\u001b[0;34m,\u001b[0m \u001b[0my_true\u001b[0m\u001b[0;34m,\u001b[0m \u001b[0my_pred\u001b[0m \u001b[0;34m=\u001b[0m \u001b[0m_check_targets\u001b[0m\u001b[0;34m(\u001b[0m\u001b[0my_true\u001b[0m\u001b[0;34m,\u001b[0m \u001b[0my_pred\u001b[0m\u001b[0;34m)\u001b[0m\u001b[0;34m\u001b[0m\u001b[0;34m\u001b[0m\u001b[0m\n\u001b[0m\u001b[1;32m    188\u001b[0m     \u001b[0mcheck_consistent_length\u001b[0m\u001b[0;34m(\u001b[0m\u001b[0my_true\u001b[0m\u001b[0;34m,\u001b[0m \u001b[0my_pred\u001b[0m\u001b[0;34m,\u001b[0m \u001b[0msample_weight\u001b[0m\u001b[0;34m)\u001b[0m\u001b[0;34m\u001b[0m\u001b[0;34m\u001b[0m\u001b[0m\n\u001b[1;32m    189\u001b[0m     \u001b[0;32mif\u001b[0m \u001b[0my_type\u001b[0m\u001b[0;34m.\u001b[0m\u001b[0mstartswith\u001b[0m\u001b[0;34m(\u001b[0m\u001b[0;34m'multilabel'\u001b[0m\u001b[0;34m)\u001b[0m\u001b[0;34m:\u001b[0m\u001b[0;34m\u001b[0m\u001b[0;34m\u001b[0m\u001b[0m\n",
      "\u001b[0;32m/opt/anaconda3/envs/learn-env-new/lib/python3.8/site-packages/sklearn/metrics/_classification.py\u001b[0m in \u001b[0;36m_check_targets\u001b[0;34m(y_true, y_pred)\u001b[0m\n\u001b[1;32m     88\u001b[0m \u001b[0;34m\u001b[0m\u001b[0m\n\u001b[1;32m     89\u001b[0m     \u001b[0;32mif\u001b[0m \u001b[0mlen\u001b[0m\u001b[0;34m(\u001b[0m\u001b[0my_type\u001b[0m\u001b[0;34m)\u001b[0m \u001b[0;34m>\u001b[0m \u001b[0;36m1\u001b[0m\u001b[0;34m:\u001b[0m\u001b[0;34m\u001b[0m\u001b[0;34m\u001b[0m\u001b[0m\n\u001b[0;32m---> 90\u001b[0;31m         raise ValueError(\"Classification metrics can't handle a mix of {0} \"\n\u001b[0m\u001b[1;32m     91\u001b[0m                          \"and {1} targets\".format(type_true, type_pred))\n\u001b[1;32m     92\u001b[0m \u001b[0;34m\u001b[0m\u001b[0m\n",
      "\u001b[0;31mValueError\u001b[0m: Classification metrics can't handle a mix of binary and continuous targets"
     ]
    }
   ],
   "source": [
    "metrics.accuracy_score(y_test, y_hat_test)"
   ]
  },
  {
   "cell_type": "code",
   "execution_count": 34,
   "metadata": {
    "ExecuteTime": {
     "end_time": "2021-05-06T14:25:50.351991Z",
     "start_time": "2021-05-06T14:25:50.343326Z"
    },
    "scrolled": false
   },
   "outputs": [
    {
     "data": {
      "text/plain": [
       "758    0.080076\n",
       "169    0.114479\n",
       "207    0.121051\n",
       "170    0.203815\n",
       "418    0.243752\n",
       "dtype: float64"
      ]
     },
     "metadata": {},
     "output_type": "display_data"
    },
    {
     "data": {
      "text/plain": [
       "758    0\n",
       "169    0\n",
       "207    1\n",
       "170    0\n",
       "418    0\n",
       "Name: Survived, dtype: int64"
      ]
     },
     "metadata": {},
     "output_type": "display_data"
    }
   ],
   "source": [
    "display(y_hat_test.head(),y_test.head())"
   ]
  },
  {
   "cell_type": "code",
   "execution_count": null,
   "metadata": {},
   "outputs": [],
   "source": []
  },
  {
   "cell_type": "markdown",
   "metadata": {},
   "source": [
    "> #### Huh?! ... Compare Predictions vs Original Data"
   ]
  },
  {
   "cell_type": "code",
   "execution_count": 35,
   "metadata": {
    "ExecuteTime": {
     "end_time": "2021-05-06T14:25:52.764822Z",
     "start_time": "2021-05-06T14:25:52.762032Z"
    },
    "scrolled": true
   },
   "outputs": [],
   "source": [
    "y_hat_train  = y_hat_train.round()\n",
    "y_hat_test  = y_hat_test.round()"
   ]
  },
  {
   "cell_type": "code",
   "execution_count": 36,
   "metadata": {
    "ExecuteTime": {
     "end_time": "2021-05-06T14:25:53.811879Z",
     "start_time": "2021-05-06T14:25:53.807881Z"
    }
   },
   "outputs": [
    {
     "data": {
      "text/plain": [
       "0.7857142857142857"
      ]
     },
     "execution_count": 36,
     "metadata": {},
     "output_type": "execute_result"
    }
   ],
   "source": [
    "metrics.accuracy_score(y_test, y_hat_test)"
   ]
  },
  {
   "cell_type": "code",
   "execution_count": 37,
   "metadata": {
    "ExecuteTime": {
     "end_time": "2021-05-06T14:25:54.961856Z",
     "start_time": "2021-05-06T14:25:54.956700Z"
    }
   },
   "outputs": [
    {
     "data": {
      "text/plain": [
       "0    0.595238\n",
       "1    0.404762\n",
       "Name: Survived, dtype: float64"
      ]
     },
     "execution_count": 37,
     "metadata": {},
     "output_type": "execute_result"
    }
   ],
   "source": [
    "y_test.value_counts(normalize=True)"
   ]
  },
  {
   "cell_type": "code",
   "execution_count": 38,
   "metadata": {
    "ExecuteTime": {
     "end_time": "2021-05-06T14:25:56.089690Z",
     "start_time": "2021-05-06T14:25:56.085413Z"
    }
   },
   "outputs": [
    {
     "data": {
      "text/plain": [
       "0.8031496062992126"
      ]
     },
     "execution_count": 38,
     "metadata": {},
     "output_type": "execute_result"
    }
   ],
   "source": [
    "metrics.accuracy_score(y_train, y_hat_train)"
   ]
  },
  {
   "cell_type": "code",
   "execution_count": null,
   "metadata": {},
   "outputs": [],
   "source": []
  },
  {
   "cell_type": "markdown",
   "metadata": {},
   "source": [
    "### Precision"
   ]
  },
  {
   "cell_type": "markdown",
   "metadata": {},
   "source": [
    "> \"**_Precision_** measures what proportion of predicted Positives is truly Positive?\n"
   ]
  },
  {
   "cell_type": "markdown",
   "metadata": {},
   "source": [
    "$$ \\large \\text{Precision} = \\frac{\\text{Number of True Positives}}{\\text{Number of Predicted Positives}} $$\n"
   ]
  },
  {
   "cell_type": "markdown",
   "metadata": {},
   "source": [
    "#### When to use?\n",
    "- **Use precision** when the cost of acting is high and acting on a positive is costly.\n",
    "   - e.g. Allocating resources/interventions for prisoners who are at-risk for recidivism. "
   ]
  },
  {
   "cell_type": "code",
   "execution_count": null,
   "metadata": {
    "ExecuteTime": {
     "end_time": "2021-05-06T14:23:58.992263Z",
     "start_time": "2021-05-06T14:23:54.832Z"
    }
   },
   "outputs": [],
   "source": [
    "metrics.precision_score(y_test, y_hat_test)"
   ]
  },
  {
   "cell_type": "markdown",
   "metadata": {},
   "source": [
    "### Recall"
   ]
  },
  {
   "cell_type": "markdown",
   "metadata": {},
   "source": [
    "> **_Recall_** indicates what percentage of the classes we're interested in were actually captured by the model.\"\n",
    "$$ \\large \\text{Recall} = \\frac{\\text{Number of True Positives}}{\\text{Number of Actual Total Positives}} $$ \n"
   ]
  },
  {
   "cell_type": "markdown",
   "metadata": {},
   "source": [
    "#### When to use?\n",
    "- **Use recall** when the number of true positives/opportunities is small and you don’t want to miss one.\n",
    "    - e.g. cancer diagnosis. (telling someone they do not have cancer when they actually do is fatal)"
   ]
  },
  {
   "cell_type": "code",
   "execution_count": null,
   "metadata": {
    "ExecuteTime": {
     "end_time": "2021-05-06T14:23:58.993922Z",
     "start_time": "2021-05-06T14:23:54.837Z"
    }
   },
   "outputs": [],
   "source": [
    "metrics.recall_score(y_test, y_hat_test)"
   ]
  },
  {
   "cell_type": "markdown",
   "metadata": {},
   "source": [
    "<img src='https://raw.githubusercontent.com/jirvingphd/fsds_100719_cohort_notes/master/images/precisionrecall.png' width=10%>"
   ]
  },
  {
   "cell_type": "markdown",
   "metadata": {},
   "source": [
    "### $F_1$ Score"
   ]
  },
  {
   "cell_type": "markdown",
   "metadata": {},
   "source": [
    "F1 score represents the **_Harmonic Mean of Precision and Recall_**.  In short, this means that the F1 score cannot be high without both precision and recall also being high. When a model's F1 score is high, you know that your model is doing well all around. \n",
    "\n",
    "> Harmonic Mean: \"the reciprocal of the arithmetic mean of the reciprocals of a given set of observatins.\" - *[Wikipedia](https://en.wikipedia.org/wiki/Harmonic_mean)*\n",
    "\n",
    "#### Arithmetic Mean:\n",
    "\n",
    "$$\\large \\bar{X} = \\frac{a+b+c}{n} $$\n",
    "\n",
    "#### Harmonic Mean:\n",
    "\n",
    "$$ \\large \\bar{X} = \\frac{n}{\\frac{1}{a}+ \\frac{1}{b}+ \\frac{1}{c}}$$\n",
    "\n",
    "\n",
    "**The formula for F1 score is:**\n",
    "\n",
    "> $$ \\text{F1 score} =  \\frac{2}{\\text{Precision}^{-1}\\ x\\ \\text{Recall}^{-1}}= 2\\ \\frac{\\text{Precision}\\ x\\ \\text{Recall}}{\\text{Precision} + \\text{Recall}} $$"
   ]
  },
  {
   "cell_type": "markdown",
   "metadata": {},
   "source": [
    "#### When to use?\n",
    "- **F1 score** is really the most informative about overall model quality.\n",
    "- BUT is the most difficult to express to a non-tech audience"
   ]
  },
  {
   "cell_type": "code",
   "execution_count": null,
   "metadata": {
    "ExecuteTime": {
     "end_time": "2020-08-28T22:51:23.391313Z",
     "start_time": "2020-08-28T22:51:23.386240Z"
    }
   },
   "outputs": [],
   "source": []
  },
  {
   "cell_type": "markdown",
   "metadata": {},
   "source": [
    "## Which metric to use?"
   ]
  },
  {
   "cell_type": "markdown",
   "metadata": {},
   "source": [
    "- **When in doubt, use them all!** \n",
    " -`metrics.classification_report`\n",
    " "
   ]
  },
  {
   "cell_type": "code",
   "execution_count": null,
   "metadata": {
    "ExecuteTime": {
     "end_time": "2021-05-06T14:23:58.996331Z",
     "start_time": "2021-05-06T14:23:54.846Z"
    },
    "scrolled": true
   },
   "outputs": [],
   "source": [
    "print(metrics.classification_report(y_test,y_hat_test,target_names=['Died','Survived']))"
   ]
  },
  {
   "cell_type": "code",
   "execution_count": null,
   "metadata": {
    "ExecuteTime": {
     "end_time": "2021-05-06T14:23:58.998289Z",
     "start_time": "2021-05-06T14:23:54.850Z"
    }
   },
   "outputs": [],
   "source": [
    "metrics.recall_score(y_test, y_hat_test).round(2)"
   ]
  },
  {
   "cell_type": "markdown",
   "metadata": {},
   "source": [
    "- **But some good rules of thumb:**\n",
    "    - **Accuracy** is good for non-technical audiences (but can be misleading with imbalanced classes)\n",
    "    \n",
    "    - **Use recall** when the number of true positives/opportunities is small and you don’t want to miss one.\n",
    "        - e.g. cancer diagnosis. (telling someone they do not have cancer when they actually do is fatal)\n",
    "    - **Use precision** when the cost of acting is high and acting on a positive is costly.\n",
    "       - e.g. Allocating resources/interventions for prisoners who are at-risk for recidivism. \n",
    "\n",
    "- **F1 score** is really the most informative about overall model quality, but is the most difficult to express to a non-tech audience"
   ]
  },
  {
   "cell_type": "markdown",
   "metadata": {},
   "source": [
    "## Confusion Matrices"
   ]
  },
  {
   "cell_type": "markdown",
   "metadata": {},
   "source": [
    "- A **confusion matrix** separates our predictions into 4 types of outcomes (for a binary classification):\n",
    "    - **_True Positives (TP)_**: The number of observations where the model predicted the person has the disease (1), and they actually do have the disease (1).\n",
    "\n",
    "    - **_True Negatives (TN)_**: The number of observations where the model predicted the person is healthy (0), and they are actually healthy (0).\n",
    "\n",
    "    - **_False Positives (FP)_**: The number of observations where the model predicted the person has the disease (1), but they are actually healthy (0). \n",
    "\n",
    "    - **_False Negatives (FN)_**: The number of observations where the model predicted the person is healthy (0), but they actually have the disease (1).\n",
    "\n",
    "    <img src=\"https://raw.githubusercontent.com/learn-co-students/dsc-visualizing-confusion-matrices-lab-online-ds-ft-100719/master/images/new_confusion_matrix_2.png\" width=50%>"
   ]
  },
  {
   "cell_type": "code",
   "execution_count": null,
   "metadata": {
    "ExecuteTime": {
     "end_time": "2021-05-06T14:23:58.999874Z",
     "start_time": "2021-05-06T14:23:54.855Z"
    }
   },
   "outputs": [],
   "source": [
    "cm = metrics.confusion_matrix(y_test,y_hat_test)\n",
    "cm"
   ]
  },
  {
   "cell_type": "code",
   "execution_count": null,
   "metadata": {
    "ExecuteTime": {
     "end_time": "2021-05-06T14:23:59.001766Z",
     "start_time": "2021-05-06T14:23:54.859Z"
    }
   },
   "outputs": [],
   "source": [
    "cm = metrics.confusion_matrix(y_test,y_hat_test,normalize='true')\n",
    "cm"
   ]
  },
  {
   "cell_type": "code",
   "execution_count": null,
   "metadata": {
    "ExecuteTime": {
     "end_time": "2021-05-06T14:23:59.003466Z",
     "start_time": "2021-05-06T14:23:54.864Z"
    }
   },
   "outputs": [],
   "source": [
    "print(metrics.classification_report(y_test,y_hat_test,target_names=['Died','Survived']))"
   ]
  },
  {
   "cell_type": "code",
   "execution_count": null,
   "metadata": {
    "ExecuteTime": {
     "end_time": "2021-05-06T14:23:59.005263Z",
     "start_time": "2021-05-06T14:23:54.868Z"
    }
   },
   "outputs": [],
   "source": [
    "classes = ['Died','Survived']"
   ]
  },
  {
   "cell_type": "code",
   "execution_count": null,
   "metadata": {
    "ExecuteTime": {
     "end_time": "2021-05-06T14:23:59.006751Z",
     "start_time": "2021-05-06T14:23:54.871Z"
    }
   },
   "outputs": [],
   "source": [
    "ax = sns.heatmap(cm, annot=True, center =0 , \n",
    "                 xticklabels=classes,yticklabels=classes,cmap='Blues')\n",
    "ax.set(ylabel='True Classses',xlabel='Predicted Classes', \n",
    "       title='Normalized Confusion Matrix')"
   ]
  },
  {
   "cell_type": "code",
   "execution_count": null,
   "metadata": {
    "ExecuteTime": {
     "end_time": "2021-05-06T14:23:59.008366Z",
     "start_time": "2021-05-06T14:23:54.876Z"
    }
   },
   "outputs": [],
   "source": [
    "def plot_confusion_matrix(y_test,y_hat_test,normalize='true',\n",
    "                         classes = ['Died','Survived']):\n",
    "    \n",
    "    cm = metrics.confusion_matrix(y_test,y_hat_test,normalize=normalize)\n",
    "    ax = sns.heatmap(cm, annot=True, center =0 , \n",
    "                     \n",
    "                 xticklabels=classes,yticklabels=classes,cmap='Blues')\n",
    "    ax.set(ylabel='True Classses',xlabel='Predicted Classes', \n",
    "           title='Normalized Confusion Matrix')\n"
   ]
  },
  {
   "cell_type": "code",
   "execution_count": null,
   "metadata": {
    "ExecuteTime": {
     "end_time": "2021-05-06T14:23:59.009660Z",
     "start_time": "2021-05-06T14:23:54.881Z"
    }
   },
   "outputs": [],
   "source": [
    "plot_confusion_matrix(y_test,y_hat_test)#,normalize=)"
   ]
  },
  {
   "cell_type": "code",
   "execution_count": null,
   "metadata": {
    "ExecuteTime": {
     "end_time": "2021-05-06T14:23:59.011387Z",
     "start_time": "2021-05-06T14:23:54.886Z"
    },
    "scrolled": false
   },
   "outputs": [],
   "source": [
    "def evaluate_model(y_test,y_hat_test,normalize='true',\n",
    "                         classes = ['Died','Survived']):\n",
    "    dashes='---'*20\n",
    "    print(dashes)\n",
    "    print(\"\\tCLASSIFICATION REPORT\")\n",
    "    print(dashes)\n",
    "    print(metrics.classification_report(y_test,\n",
    "                                        y_hat_test,\n",
    "                                        target_names=classes))\n",
    "    print(dashes)\n",
    "    plot_confusion_matrix(y_test,y_hat_test,normalize=normalize,\n",
    "                         classes=classes)"
   ]
  },
  {
   "cell_type": "code",
   "execution_count": null,
   "metadata": {
    "ExecuteTime": {
     "end_time": "2021-05-06T14:23:59.013301Z",
     "start_time": "2021-05-06T14:23:54.890Z"
    }
   },
   "outputs": [],
   "source": [
    "evaluate_model(y_test,y_hat_test)"
   ]
  },
  {
   "cell_type": "markdown",
   "metadata": {},
   "source": [
    "# APPENDIX "
   ]
  },
  {
   "cell_type": "markdown",
   "metadata": {},
   "source": [
    "## IMPORTANT NOTE ABOUT PACKAGE VERSIONS"
   ]
  },
  {
   "cell_type": "markdown",
   "metadata": {},
   "source": [
    "### scikit-learn & matplotlib"
   ]
  },
  {
   "cell_type": "code",
   "execution_count": null,
   "metadata": {
    "ExecuteTime": {
     "end_time": "2021-05-06T14:23:59.015348Z",
     "start_time": "2021-05-06T14:23:54.897Z"
    }
   },
   "outputs": [],
   "source": [
    "#### scikit-learn version\n",
    "## Run COnda List to Verify what versions are installed and how\n",
    "# %conda list scikit-learn"
   ]
  },
  {
   "cell_type": "markdown",
   "metadata": {},
   "source": [
    "- You will need sklearn to be version 0.23 + to have all of the tools covered in lessons.\n",
    "    > Note: sklearn is listed as `scikit-learn`<br>to update: \n",
    "    `conda update scikit-learn`\n",
    " "
   ]
  },
  {
   "cell_type": "code",
   "execution_count": null,
   "metadata": {
    "ExecuteTime": {
     "end_time": "2021-05-06T14:23:59.017054Z",
     "start_time": "2021-05-06T14:23:54.902Z"
    }
   },
   "outputs": [],
   "source": [
    "## If have less than 0.23, run this command\n",
    "# %conda update scikit-learn"
   ]
  },
  {
   "cell_type": "code",
   "execution_count": null,
   "metadata": {
    "ExecuteTime": {
     "end_time": "2021-05-06T14:23:59.018795Z",
     "start_time": "2021-05-06T14:23:54.907Z"
    }
   },
   "outputs": [],
   "source": [
    "#### matplotlib version\n",
    "# %conda list matplotlib"
   ]
  },
  {
   "cell_type": "markdown",
   "metadata": {},
   "source": [
    "- You will want to update matplotlib to fix errors with your confusion matrix plots\n",
    "    > `pip install -U matplotlib`"
   ]
  },
  {
   "cell_type": "code",
   "execution_count": null,
   "metadata": {
    "ExecuteTime": {
     "end_time": "2021-05-06T14:23:59.020557Z",
     "start_time": "2021-05-06T14:23:54.913Z"
    }
   },
   "outputs": [],
   "source": [
    "# !pip install -U matplotlib"
   ]
  },
  {
   "cell_type": "code",
   "execution_count": null,
   "metadata": {},
   "outputs": [],
   "source": []
  },
  {
   "cell_type": "code",
   "execution_count": null,
   "metadata": {
    "ExecuteTime": {
     "end_time": "2021-05-06T14:23:59.022322Z",
     "start_time": "2021-05-06T14:23:54.920Z"
    }
   },
   "outputs": [],
   "source": [
    "def remake_df(array,df):\n",
    "    return pd.DataFrame(array, columns=df.columns, index=df.index)\n",
    "\n",
    "def fit_evaluate_model(linreg,X_train_sca, X_test_sca, y_train, y_test):\n",
    "    linreg.fit(X_train_sca, y_train)\n",
    "\n",
    "    y_hat_train = linreg.predict(X_train_sca)\n",
    "    y_hat_test = linreg.predict(X_test_sca)\n",
    "\n",
    "    return linreg\n",
    "\n",
    "def get_model_coeffs(X_df, sklearn_model=None, ols_model = None):\n",
    "    \n",
    "    coeffs_df = pd.DataFrame()\n",
    "    \n",
    "    if sklearn_model is not None:\n",
    "\n",
    "        coeffs = dict(zip(X_df.columns,sklearn_model.coef_))\n",
    "        coeffs['const'] = sklearn_model.intercept_\n",
    "\n",
    "        coeffs_df = pd.DataFrame(coeffs,index=['sklearn']).T\n",
    "\n",
    "    if ols_model is not None:\n",
    "        coeffs_df = coeffs_df.join(ols_model.params.rename('statsmodels'))\n",
    "        coeffs_df = coeffs_df.join(ols_model.pvalues.rename('p-values').round(4))\n",
    "        \n",
    "    return coeffs_df"
   ]
  }
 ],
 "metadata": {
  "kernelspec": {
   "display_name": "learn-env-new",
   "language": "python",
   "name": "learn-env-new"
  },
  "language_info": {
   "codemirror_mode": {
    "name": "ipython",
    "version": 3
   },
   "file_extension": ".py",
   "mimetype": "text/x-python",
   "name": "python",
   "nbconvert_exporter": "python",
   "pygments_lexer": "ipython3",
   "version": "3.8.5"
  },
  "toc": {
   "base_numbering": 1,
   "nav_menu": {},
   "number_sections": true,
   "sideBar": true,
   "skip_h1_title": false,
   "title_cell": "Table of Contents",
   "title_sidebar": "Contents",
   "toc_cell": false,
   "toc_position": {
    "height": "calc(100% - 180px)",
    "left": "10px",
    "top": "150px",
    "width": "256px"
   },
   "toc_section_display": true,
   "toc_window_display": true
  },
  "varInspector": {
   "cols": {
    "lenName": 16,
    "lenType": 16,
    "lenVar": 40
   },
   "kernels_config": {
    "python": {
     "delete_cmd_postfix": "",
     "delete_cmd_prefix": "del ",
     "library": "var_list.py",
     "varRefreshCmd": "print(var_dic_list())"
    },
    "r": {
     "delete_cmd_postfix": ") ",
     "delete_cmd_prefix": "rm(",
     "library": "var_list.r",
     "varRefreshCmd": "cat(var_dic_list()) "
    }
   },
   "types_to_exclude": [
    "module",
    "function",
    "builtin_function_or_method",
    "instance",
    "_Feature"
   ],
   "window_display": false
  }
 },
 "nbformat": 4,
 "nbformat_minor": 2
}
