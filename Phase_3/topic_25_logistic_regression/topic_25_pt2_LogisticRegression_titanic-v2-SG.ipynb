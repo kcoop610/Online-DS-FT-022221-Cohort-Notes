{
 "cells": [
  {
   "cell_type": "markdown",
   "metadata": {},
   "source": [
    "# Topic 25-Part 2: Evaluating Classifiers, Dealing with Class Imbalance, and `GridSearchCV`"
   ]
  },
  {
   "cell_type": "markdown",
   "metadata": {},
   "source": [
    "- onl01-dtsc-ft-022221\n",
    "- 05/07/21"
   ]
  },
  {
   "cell_type": "markdown",
   "metadata": {},
   "source": [
    "## Announcements"
   ]
  },
  {
   "cell_type": "markdown",
   "metadata": {},
   "source": [
    "- Blog Post Deadline Extended until Monday at 10 AM EST."
   ]
  },
  {
   "cell_type": "markdown",
   "metadata": {},
   "source": [
    "## Overview"
   ]
  },
  {
   "cell_type": "markdown",
   "metadata": {},
   "source": [
    "- Last time:\n",
    "    - Types of machine learning.\n",
    "        - Supervised vs Unsupervised Learning\n",
    "        - Regression vs Classification \n",
    "    - From Linear to Logistic Regression - Theory\n",
    "    - Applying Logistic Regression with `scikit-learn`\n",
    "        - Proper preprocessing with train-test-split.\n",
    "    - Evaluating Classifiers\n",
    "        - Confusion Matrices\n",
    "        - Accuracy, ~~Precision, Recall, F1-Score~~\n",
    "\n",
    "\n",
    "\n",
    "- Today\n",
    "    - Classification Metrics \n",
    "        - Confusion Matrices\n",
    "        - Accuracy, Precision, Recall, F1-Score\n",
    "        - ROC-AUC curve\n",
    "    - GridSearchCV\n",
    "    - Class Imbalance Problems\n"
   ]
  },
  {
   "cell_type": "markdown",
   "metadata": {},
   "source": [
    "## Questions?"
   ]
  },
  {
   "cell_type": "code",
   "execution_count": null,
   "metadata": {},
   "outputs": [],
   "source": []
  },
  {
   "cell_type": "markdown",
   "metadata": {},
   "source": [
    "# Reviewing Part 1: Intro to Logistic Regression"
   ]
  },
  {
   "cell_type": "markdown",
   "metadata": {},
   "source": [
    "## Predict Passenger Survival on the Titanic with `scikit-learn`"
   ]
  },
  {
   "cell_type": "code",
   "execution_count": 157,
   "metadata": {
    "ExecuteTime": {
     "end_time": "2021-05-07T17:25:51.462861Z",
     "start_time": "2021-05-07T17:25:51.459381Z"
    },
    "scrolled": true
   },
   "outputs": [],
   "source": [
    "import matplotlib.pyplot as plt\n",
    "import seaborn as sns\n",
    "import pandas as pd\n",
    "import numpy as np\n",
    "\n",
    "from sklearn.model_selection import train_test_split\n",
    "from sklearn.preprocessing import MinMaxScaler,StandardScaler,OneHotEncoder\n",
    "from sklearn.impute import SimpleImputer\n",
    "\n",
    "from sklearn.linear_model import Lasso, Ridge, LinearRegression\n",
    "from sklearn.linear_model import LogisticRegression\n",
    "from sklearn import metrics \n",
    "\n",
    "\n",
    "# import statsmodels.api as sm"
   ]
  },
  {
   "cell_type": "code",
   "execution_count": 158,
   "metadata": {
    "ExecuteTime": {
     "end_time": "2021-05-07T17:25:51.807119Z",
     "start_time": "2021-05-07T17:25:51.469288Z"
    }
   },
   "outputs": [
    {
     "data": {
      "text/html": [
       "<div>\n",
       "<style scoped>\n",
       "    .dataframe tbody tr th:only-of-type {\n",
       "        vertical-align: middle;\n",
       "    }\n",
       "\n",
       "    .dataframe tbody tr th {\n",
       "        vertical-align: top;\n",
       "    }\n",
       "\n",
       "    .dataframe thead th {\n",
       "        text-align: right;\n",
       "    }\n",
       "</style>\n",
       "<table border=\"1\" class=\"dataframe\">\n",
       "  <thead>\n",
       "    <tr style=\"text-align: right;\">\n",
       "      <th></th>\n",
       "      <th>Pclass</th>\n",
       "      <th>Age</th>\n",
       "      <th>SibSp</th>\n",
       "      <th>Fare</th>\n",
       "      <th>Sex</th>\n",
       "      <th>Embarked</th>\n",
       "      <th>Survived</th>\n",
       "    </tr>\n",
       "  </thead>\n",
       "  <tbody>\n",
       "    <tr>\n",
       "      <th>0</th>\n",
       "      <td>3.0</td>\n",
       "      <td>22.0</td>\n",
       "      <td>1</td>\n",
       "      <td>7.2500</td>\n",
       "      <td>male</td>\n",
       "      <td>S</td>\n",
       "      <td>0</td>\n",
       "    </tr>\n",
       "    <tr>\n",
       "      <th>1</th>\n",
       "      <td>1.0</td>\n",
       "      <td>38.0</td>\n",
       "      <td>1</td>\n",
       "      <td>71.2833</td>\n",
       "      <td>female</td>\n",
       "      <td>C</td>\n",
       "      <td>1</td>\n",
       "    </tr>\n",
       "    <tr>\n",
       "      <th>2</th>\n",
       "      <td>3.0</td>\n",
       "      <td>26.0</td>\n",
       "      <td>0</td>\n",
       "      <td>7.9250</td>\n",
       "      <td>female</td>\n",
       "      <td>S</td>\n",
       "      <td>1</td>\n",
       "    </tr>\n",
       "    <tr>\n",
       "      <th>3</th>\n",
       "      <td>1.0</td>\n",
       "      <td>35.0</td>\n",
       "      <td>1</td>\n",
       "      <td>53.1000</td>\n",
       "      <td>female</td>\n",
       "      <td>S</td>\n",
       "      <td>1</td>\n",
       "    </tr>\n",
       "    <tr>\n",
       "      <th>4</th>\n",
       "      <td>3.0</td>\n",
       "      <td>35.0</td>\n",
       "      <td>0</td>\n",
       "      <td>8.0500</td>\n",
       "      <td>male</td>\n",
       "      <td>S</td>\n",
       "      <td>0</td>\n",
       "    </tr>\n",
       "  </tbody>\n",
       "</table>\n",
       "</div>"
      ],
      "text/plain": [
       "   Pclass   Age  SibSp     Fare     Sex Embarked  Survived\n",
       "0     3.0  22.0      1   7.2500    male        S         0\n",
       "1     1.0  38.0      1  71.2833  female        C         1\n",
       "2     3.0  26.0      0   7.9250  female        S         1\n",
       "3     1.0  35.0      1  53.1000  female        S         1\n",
       "4     3.0  35.0      0   8.0500    male        S         0"
      ]
     },
     "execution_count": 158,
     "metadata": {},
     "output_type": "execute_result"
    }
   ],
   "source": [
    "url = \"https://raw.githubusercontent.com/jirvingphd/dsc-dealing-missing-data-lab-online-ds-ft-100719/master/titanic.csv\"\n",
    "df = pd.read_csv(url,index_col=0,na_values='?')\n",
    "relevant_columns = ['Pclass', 'Age', 'SibSp', 'Fare', 'Sex', 'Embarked', 'Survived']\n",
    "df = df[relevant_columns]\n",
    "df.head()"
   ]
  },
  {
   "cell_type": "code",
   "execution_count": 159,
   "metadata": {
    "ExecuteTime": {
     "end_time": "2021-05-07T17:25:51.816247Z",
     "start_time": "2021-05-07T17:25:51.810273Z"
    }
   },
   "outputs": [
    {
     "data": {
      "text/plain": [
       "0    0.616162\n",
       "1    0.383838\n",
       "Name: Survived, dtype: float64"
      ]
     },
     "execution_count": 159,
     "metadata": {},
     "output_type": "execute_result"
    }
   ],
   "source": [
    "df['Survived'].value_counts(normalize=True,dropna=False)"
   ]
  },
  {
   "cell_type": "code",
   "execution_count": 160,
   "metadata": {
    "ExecuteTime": {
     "end_time": "2021-05-07T17:25:52.143860Z",
     "start_time": "2021-05-07T17:25:51.819646Z"
    }
   },
   "outputs": [
    {
     "data": {
      "text/plain": [
       "Text(0.5, 0.98, 'X Features vs Survived')"
      ]
     },
     "execution_count": 160,
     "metadata": {},
     "output_type": "execute_result"
    },
    {
     "data": {
      "image/png": "[encoded data removed]",
      "text/plain": [
       "<Figure size 720x288 with 2 Axes>"
      ]
     },
     "metadata": {
      "needs_background": "light"
     },
     "output_type": "display_data"
    }
   ],
   "source": [
    "fig,ax= plt.subplots(ncols=2,figsize=(10,4))\n",
    "sns.scatterplot(data=df, x='Fare',y='Survived',ax=ax[0])\n",
    "sns.scatterplot(data=df, x='Age',y='Survived',ax=ax[1])\n",
    "fig.suptitle('X Features vs Survived')"
   ]
  },
  {
   "cell_type": "code",
   "execution_count": 161,
   "metadata": {
    "ExecuteTime": {
     "end_time": "2021-05-07T17:25:52.818094Z",
     "start_time": "2021-05-07T17:25:52.147150Z"
    }
   },
   "outputs": [
    {
     "data": {
      "text/plain": [
       "Text(0.5, 0.98, 'X Features vs Survived - Regression')"
      ]
     },
     "execution_count": 161,
     "metadata": {},
     "output_type": "execute_result"
    },
    {
     "data": {
      "image/png": "[encoded data removed]",
      "text/plain": [
       "<Figure size 720x288 with 2 Axes>"
      ]
     },
     "metadata": {
      "needs_background": "light"
     },
     "output_type": "display_data"
    }
   ],
   "source": [
    "fig,ax= plt.subplots(ncols=2,figsize=(10,4))\n",
    "sns.regplot(data=df, x='Fare',y='Survived',ax=ax[0])\n",
    "sns.regplot(data=df, x='Age',y='Survived',ax=ax[1])\n",
    "fig.suptitle('X Features vs Survived - Regression')"
   ]
  },
  {
   "cell_type": "markdown",
   "metadata": {
    "ExecuteTime": {
     "end_time": "2020-03-24T22:26:15.520827Z",
     "start_time": "2020-03-24T22:26:15.518673Z"
    }
   },
   "source": [
    "### Q: What are the preprocessing steps I need to perform before I create the model?"
   ]
  },
  {
   "cell_type": "markdown",
   "metadata": {},
   "source": [
    "- Recast data types\n",
    "- Train-test-split\n",
    "- Fill/drop in missing/null values\n",
    "- Feature Selection / Feature Engineering (interaction terms)\n",
    "- Handling categorial variables\n",
    "    - One Hot Encoding \n",
    "    - Label Encoding\n",
    "- Handling Outliers (maybe)\n",
    "- Normalizing/Standardizing our data\n",
    "\n",
    "- **Multicollinearity (does it still matter as much for Logistic?)**\n",
    "\n"
   ]
  },
  {
   "cell_type": "code",
   "execution_count": 162,
   "metadata": {
    "ExecuteTime": {
     "end_time": "2021-05-07T17:25:52.831454Z",
     "start_time": "2021-05-07T17:25:52.820693Z"
    }
   },
   "outputs": [
    {
     "name": "stdout",
     "output_type": "stream",
     "text": [
      "<class 'pandas.core.frame.DataFrame'>\n",
      "Int64Index: 891 entries, 0 to 890\n",
      "Data columns (total 7 columns):\n",
      " #   Column    Non-Null Count  Dtype  \n",
      "---  ------    --------------  -----  \n",
      " 0   Pclass    842 non-null    float64\n",
      " 1   Age       714 non-null    float64\n",
      " 2   SibSp     891 non-null    int64  \n",
      " 3   Fare      891 non-null    float64\n",
      " 4   Sex       891 non-null    object \n",
      " 5   Embarked  889 non-null    object \n",
      " 6   Survived  891 non-null    int64  \n",
      "dtypes: float64(3), int64(2), object(2)\n",
      "memory usage: 55.7+ KB\n"
     ]
    }
   ],
   "source": [
    "## Check out the .info\n",
    "df.info()"
   ]
  },
  {
   "cell_type": "code",
   "execution_count": 163,
   "metadata": {
    "ExecuteTime": {
     "end_time": "2021-05-07T17:25:52.847612Z",
     "start_time": "2021-05-07T17:25:52.835648Z"
    }
   },
   "outputs": [
    {
     "data": {
      "text/plain": [
       "S      644\n",
       "C      168\n",
       "Q       77\n",
       "NaN      2\n",
       "Name: Embarked, dtype: int64"
      ]
     },
     "metadata": {},
     "output_type": "display_data"
    },
    {
     "data": {
      "text/plain": [
       "male      577\n",
       "female    314\n",
       "Name: Sex, dtype: int64"
      ]
     },
     "metadata": {},
     "output_type": "display_data"
    }
   ],
   "source": [
    "## Check Object cols value_counts\n",
    "display(df['Embarked'].value_counts(dropna=False),\n",
    "        df['Sex'].value_counts(dropna=False))"
   ]
  },
  {
   "cell_type": "markdown",
   "metadata": {},
   "source": [
    "### Preprocessing"
   ]
  },
  {
   "cell_type": "code",
   "execution_count": 164,
   "metadata": {
    "ExecuteTime": {
     "end_time": "2021-05-07T17:25:52.875305Z",
     "start_time": "2021-05-07T17:25:52.850406Z"
    }
   },
   "outputs": [],
   "source": [
    "## Separate X and y and train-test-split\n",
    "target = 'Survived'\n",
    "\n",
    "y = df[target]\n",
    "X = df.drop(target, axis=1)\n",
    "\n",
    "# Perform test train split\n",
    "X_train , X_test, y_train, y_test = train_test_split(X, y, test_size=0.3,)\n"
   ]
  },
  {
   "cell_type": "code",
   "execution_count": 165,
   "metadata": {
    "ExecuteTime": {
     "end_time": "2021-05-07T17:25:52.887006Z",
     "start_time": "2021-05-07T17:25:52.880603Z"
    }
   },
   "outputs": [
    {
     "data": {
      "text/plain": [
       "Pclass       31\n",
       "Age         120\n",
       "SibSp         0\n",
       "Fare          0\n",
       "Sex           0\n",
       "Embarked      1\n",
       "dtype: int64"
      ]
     },
     "execution_count": 165,
     "metadata": {},
     "output_type": "execute_result"
    }
   ],
   "source": [
    "## Check for nulls in training set\n",
    "X_train.isna().sum()"
   ]
  },
  {
   "cell_type": "code",
   "execution_count": 166,
   "metadata": {
    "ExecuteTime": {
     "end_time": "2021-05-07T17:25:52.897641Z",
     "start_time": "2021-05-07T17:25:52.891101Z"
    }
   },
   "outputs": [
    {
     "data": {
      "text/plain": [
       "3.0    0.526375\n",
       "1.0    0.225589\n",
       "2.0    0.193042\n",
       "NaN    0.054994\n",
       "Name: Pclass, dtype: float64"
      ]
     },
     "execution_count": 166,
     "metadata": {},
     "output_type": "execute_result"
    }
   ],
   "source": [
    "df['Pclass'].value_counts(normalize=True,dropna=False)"
   ]
  },
  {
   "cell_type": "code",
   "execution_count": 167,
   "metadata": {
    "ExecuteTime": {
     "end_time": "2021-05-07T17:25:52.906929Z",
     "start_time": "2021-05-07T17:25:52.899667Z"
    }
   },
   "outputs": [
    {
     "data": {
      "text/plain": [
       "S      0.722783\n",
       "C      0.188552\n",
       "Q      0.086420\n",
       "NaN    0.002245\n",
       "Name: Embarked, dtype: float64"
      ]
     },
     "execution_count": 167,
     "metadata": {},
     "output_type": "execute_result"
    }
   ],
   "source": [
    "df['Embarked'].value_counts(normalize=True,dropna=False)"
   ]
  },
  {
   "cell_type": "code",
   "execution_count": 168,
   "metadata": {
    "ExecuteTime": {
     "end_time": "2021-05-07T17:25:52.915821Z",
     "start_time": "2021-05-07T17:25:52.909650Z"
    }
   },
   "outputs": [
    {
     "data": {
      "text/plain": [
       "{3.0: 0.5405405405405406, 1.0: 0.24662162162162163, 2.0: 0.21283783783783783}"
      ]
     },
     "execution_count": 168,
     "metadata": {},
     "output_type": "execute_result"
    }
   ],
   "source": [
    "pclass_counts = dict(X_train['Pclass'].value_counts(normalize=True))\n",
    "pclass_counts"
   ]
  },
  {
   "cell_type": "markdown",
   "metadata": {},
   "source": [
    "### 🚩Part 2 Update re filling nulls using class balances/prob:"
   ]
  },
  {
   "cell_type": "code",
   "execution_count": 169,
   "metadata": {
    "ExecuteTime": {
     "end_time": "2021-05-07T17:25:52.924887Z",
     "start_time": "2021-05-07T17:25:52.919115Z"
    }
   },
   "outputs": [
    {
     "data": {
      "text/plain": [
       "0"
      ]
     },
     "execution_count": 169,
     "metadata": {},
     "output_type": "execute_result"
    }
   ],
   "source": [
    "### Filling in from sample distribution is easier than what i was doing yesterday.\n",
    "p_class = X_train['Pclass'].fillna(np.random.choice(list(pclass_counts.keys()),\n",
    "                                                  p=list(pclass_counts.values())))\n",
    "p_class.isna().sum()"
   ]
  },
  {
   "cell_type": "code",
   "execution_count": 170,
   "metadata": {
    "ExecuteTime": {
     "end_time": "2021-05-07T17:25:52.933432Z",
     "start_time": "2021-05-07T17:25:52.927641Z"
    }
   },
   "outputs": [
    {
     "data": {
      "text/plain": [
       "3.0    351\n",
       "1.0    146\n",
       "2.0    126\n",
       "Name: Pclass, dtype: int64"
      ]
     },
     "execution_count": 170,
     "metadata": {},
     "output_type": "execute_result"
    }
   ],
   "source": [
    "p_class.value_counts()"
   ]
  },
  {
   "cell_type": "markdown",
   "metadata": {},
   "source": [
    "#### Original Part 1 Continued"
   ]
  },
  {
   "cell_type": "code",
   "execution_count": 171,
   "metadata": {
    "ExecuteTime": {
     "end_time": "2021-05-07T17:25:52.943197Z",
     "start_time": "2021-05-07T17:25:52.936389Z"
    }
   },
   "outputs": [
    {
     "data": {
      "text/plain": [
       "3.0    320\n",
       "1.0    146\n",
       "2.0    126\n",
       "NaN     31\n",
       "Name: Pclass, dtype: int64"
      ]
     },
     "execution_count": 171,
     "metadata": {},
     "output_type": "execute_result"
    }
   ],
   "source": [
    "X_train['Pclass'].value_counts(dropna=False)"
   ]
  },
  {
   "cell_type": "code",
   "execution_count": 172,
   "metadata": {
    "ExecuteTime": {
     "end_time": "2021-05-07T17:25:52.957504Z",
     "start_time": "2021-05-07T17:25:52.947311Z"
    }
   },
   "outputs": [
    {
     "data": {
      "text/plain": [
       "SimpleImputer()"
      ]
     },
     "execution_count": 172,
     "metadata": {},
     "output_type": "execute_result"
    }
   ],
   "source": [
    "SimpleImputer()"
   ]
  },
  {
   "cell_type": "code",
   "execution_count": 173,
   "metadata": {
    "ExecuteTime": {
     "end_time": "2021-05-07T17:25:52.962975Z",
     "start_time": "2021-05-07T17:25:52.960068Z"
    }
   },
   "outputs": [],
   "source": [
    "## Specify which values to impute with which method\n",
    "\n",
    "## Most frequent\n",
    "mode_cols =['Pclass','Embarked']\n",
    "## Fill with median\n",
    "median_cols = ['Age']\n"
   ]
  },
  {
   "cell_type": "code",
   "execution_count": 174,
   "metadata": {
    "ExecuteTime": {
     "end_time": "2021-05-07T17:25:52.970218Z",
     "start_time": "2021-05-07T17:25:52.965752Z"
    }
   },
   "outputs": [],
   "source": [
    "## Copying X_train and X_test as start of X_train_tf,X_test_tf\n",
    "X_train_tf = X_train.copy()\n",
    "X_test_tf = X_test.copy()"
   ]
  },
  {
   "cell_type": "code",
   "execution_count": 175,
   "metadata": {
    "ExecuteTime": {
     "end_time": "2021-05-07T17:25:52.994987Z",
     "start_time": "2021-05-07T17:25:52.973184Z"
    }
   },
   "outputs": [
    {
     "data": {
      "text/plain": [
       "Pclass        0\n",
       "Age         120\n",
       "SibSp         0\n",
       "Fare          0\n",
       "Sex           0\n",
       "Embarked      0\n",
       "dtype: int64"
      ]
     },
     "execution_count": 175,
     "metadata": {},
     "output_type": "execute_result"
    }
   ],
   "source": [
    "## Impute the columns with most-frequent value\n",
    "impute_mode = SimpleImputer(strategy='most_frequent')\n",
    "X_train_tf[mode_cols] = impute_mode.fit_transform(X_train_tf[mode_cols])\n",
    "X_test_tf[mode_cols] = impute_mode.transform(X_test_tf[mode_cols])\n",
    "## Verify it worked\n",
    "X_train_tf.isna().sum()"
   ]
  },
  {
   "cell_type": "code",
   "execution_count": 176,
   "metadata": {
    "ExecuteTime": {
     "end_time": "2021-05-07T17:25:53.018410Z",
     "start_time": "2021-05-07T17:25:52.997467Z"
    }
   },
   "outputs": [
    {
     "data": {
      "text/plain": [
       "(Pclass      0\n",
       " Age         0\n",
       " SibSp       0\n",
       " Fare        0\n",
       " Sex         0\n",
       " Embarked    0\n",
       " dtype: int64,\n",
       " Pclass      0\n",
       " Age         0\n",
       " SibSp       0\n",
       " Fare        0\n",
       " Sex         0\n",
       " Embarked    0\n",
       " dtype: int64)"
      ]
     },
     "execution_count": 176,
     "metadata": {},
     "output_type": "execute_result"
    }
   ],
   "source": [
    "## Impute the columns with most-frequent value\n",
    "impute_median = SimpleImputer(strategy='median')\n",
    "X_train_tf[median_cols] = impute_median.fit_transform(X_train_tf[median_cols])\n",
    "X_test_tf[median_cols] = impute_median.transform(X_test_tf[median_cols])\n",
    "## Verify it worked\n",
    "X_train_tf.isna().sum(), X_test_tf.isna().sum()"
   ]
  },
  {
   "cell_type": "code",
   "execution_count": 177,
   "metadata": {
    "ExecuteTime": {
     "end_time": "2021-05-07T17:25:53.043246Z",
     "start_time": "2021-05-07T17:25:53.020840Z"
    }
   },
   "outputs": [
    {
     "data": {
      "text/html": [
       "<div>\n",
       "<style scoped>\n",
       "    .dataframe tbody tr th:only-of-type {\n",
       "        vertical-align: middle;\n",
       "    }\n",
       "\n",
       "    .dataframe tbody tr th {\n",
       "        vertical-align: top;\n",
       "    }\n",
       "\n",
       "    .dataframe thead th {\n",
       "        text-align: right;\n",
       "    }\n",
       "</style>\n",
       "<table border=\"1\" class=\"dataframe\">\n",
       "  <thead>\n",
       "    <tr style=\"text-align: right;\">\n",
       "      <th></th>\n",
       "      <th>Pclass</th>\n",
       "      <th>Age</th>\n",
       "      <th>SibSp</th>\n",
       "      <th>Fare</th>\n",
       "      <th>Sex</th>\n",
       "      <th>Embarked</th>\n",
       "    </tr>\n",
       "  </thead>\n",
       "  <tbody>\n",
       "    <tr>\n",
       "      <th>293</th>\n",
       "      <td>3.0</td>\n",
       "      <td>24.0</td>\n",
       "      <td>0</td>\n",
       "      <td>8.8500</td>\n",
       "      <td>female</td>\n",
       "      <td>S</td>\n",
       "    </tr>\n",
       "    <tr>\n",
       "      <th>517</th>\n",
       "      <td>3.0</td>\n",
       "      <td>28.5</td>\n",
       "      <td>0</td>\n",
       "      <td>24.1500</td>\n",
       "      <td>male</td>\n",
       "      <td>Q</td>\n",
       "    </tr>\n",
       "    <tr>\n",
       "      <th>83</th>\n",
       "      <td>1.0</td>\n",
       "      <td>28.0</td>\n",
       "      <td>0</td>\n",
       "      <td>47.1000</td>\n",
       "      <td>male</td>\n",
       "      <td>S</td>\n",
       "    </tr>\n",
       "    <tr>\n",
       "      <th>509</th>\n",
       "      <td>3.0</td>\n",
       "      <td>26.0</td>\n",
       "      <td>0</td>\n",
       "      <td>56.4958</td>\n",
       "      <td>male</td>\n",
       "      <td>S</td>\n",
       "    </tr>\n",
       "    <tr>\n",
       "      <th>339</th>\n",
       "      <td>1.0</td>\n",
       "      <td>45.0</td>\n",
       "      <td>0</td>\n",
       "      <td>35.5000</td>\n",
       "      <td>male</td>\n",
       "      <td>S</td>\n",
       "    </tr>\n",
       "    <tr>\n",
       "      <th>...</th>\n",
       "      <td>...</td>\n",
       "      <td>...</td>\n",
       "      <td>...</td>\n",
       "      <td>...</td>\n",
       "      <td>...</td>\n",
       "      <td>...</td>\n",
       "    </tr>\n",
       "    <tr>\n",
       "      <th>394</th>\n",
       "      <td>3.0</td>\n",
       "      <td>24.0</td>\n",
       "      <td>0</td>\n",
       "      <td>16.7000</td>\n",
       "      <td>female</td>\n",
       "      <td>S</td>\n",
       "    </tr>\n",
       "    <tr>\n",
       "      <th>718</th>\n",
       "      <td>3.0</td>\n",
       "      <td>28.5</td>\n",
       "      <td>0</td>\n",
       "      <td>15.5000</td>\n",
       "      <td>male</td>\n",
       "      <td>Q</td>\n",
       "    </tr>\n",
       "    <tr>\n",
       "      <th>742</th>\n",
       "      <td>1.0</td>\n",
       "      <td>21.0</td>\n",
       "      <td>2</td>\n",
       "      <td>262.3750</td>\n",
       "      <td>female</td>\n",
       "      <td>C</td>\n",
       "    </tr>\n",
       "    <tr>\n",
       "      <th>439</th>\n",
       "      <td>2.0</td>\n",
       "      <td>31.0</td>\n",
       "      <td>0</td>\n",
       "      <td>10.5000</td>\n",
       "      <td>male</td>\n",
       "      <td>S</td>\n",
       "    </tr>\n",
       "    <tr>\n",
       "      <th>488</th>\n",
       "      <td>3.0</td>\n",
       "      <td>30.0</td>\n",
       "      <td>0</td>\n",
       "      <td>8.0500</td>\n",
       "      <td>male</td>\n",
       "      <td>S</td>\n",
       "    </tr>\n",
       "  </tbody>\n",
       "</table>\n",
       "<p>623 rows × 6 columns</p>\n",
       "</div>"
      ],
      "text/plain": [
       "    Pclass   Age  SibSp      Fare     Sex Embarked\n",
       "293    3.0  24.0      0    8.8500  female        S\n",
       "517    3.0  28.5      0   24.1500    male        Q\n",
       "83     1.0  28.0      0   47.1000    male        S\n",
       "509    3.0  26.0      0   56.4958    male        S\n",
       "339    1.0  45.0      0   35.5000    male        S\n",
       "..     ...   ...    ...       ...     ...      ...\n",
       "394    3.0  24.0      0   16.7000  female        S\n",
       "718    3.0  28.5      0   15.5000    male        Q\n",
       "742    1.0  21.0      2  262.3750  female        C\n",
       "439    2.0  31.0      0   10.5000    male        S\n",
       "488    3.0  30.0      0    8.0500    male        S\n",
       "\n",
       "[623 rows x 6 columns]"
      ]
     },
     "execution_count": 177,
     "metadata": {},
     "output_type": "execute_result"
    }
   ],
   "source": [
    "X_train_tf['Pclass'] = X_train_tf['Pclass'].astype(str)\n",
    "X_test_tf['Pclass'] = X_test_tf['Pclass'].astype(str)\n",
    "\n",
    "X_train_tf"
   ]
  },
  {
   "cell_type": "code",
   "execution_count": 178,
   "metadata": {
    "ExecuteTime": {
     "end_time": "2021-05-07T17:25:53.054059Z",
     "start_time": "2021-05-07T17:25:53.045847Z"
    }
   },
   "outputs": [
    {
     "data": {
      "text/plain": [
       "(Index(['Age', 'SibSp', 'Fare'], dtype='object'),\n",
       " Index(['Pclass', 'Sex', 'Embarked'], dtype='object'))"
      ]
     },
     "execution_count": 178,
     "metadata": {},
     "output_type": "execute_result"
    }
   ],
   "source": [
    "## Specifing which cols to encode and which to scale.\n",
    "#  make cat_cols and num_cols\n",
    "cat_cols = X_train_tf.select_dtypes('O').columns\n",
    "num_cols = X_train_tf.select_dtypes('number').columns\n",
    "num_cols,cat_cols"
   ]
  },
  {
   "cell_type": "code",
   "execution_count": 179,
   "metadata": {
    "ExecuteTime": {
     "end_time": "2021-05-07T17:25:53.069003Z",
     "start_time": "2021-05-07T17:25:53.056338Z"
    }
   },
   "outputs": [
    {
     "data": {
      "text/plain": [
       "array([[0., 1., 0., 0., 1.],\n",
       "       [0., 1., 1., 1., 0.],\n",
       "       [0., 0., 1., 0., 1.],\n",
       "       ...,\n",
       "       [0., 0., 0., 0., 0.],\n",
       "       [1., 0., 1., 0., 1.],\n",
       "       [0., 1., 1., 0., 1.]])"
      ]
     },
     "execution_count": 179,
     "metadata": {},
     "output_type": "execute_result"
    }
   ],
   "source": [
    "## Encode cat_cols\n",
    "encoder = OneHotEncoder(sparse=False,drop='first')\n",
    "train_cat_cols = encoder.fit_transform(X_train_tf[cat_cols])\n",
    "test_cat_cols = encoder.transform(X_test_tf[cat_cols])\n",
    "train_cat_cols"
   ]
  },
  {
   "cell_type": "code",
   "execution_count": 180,
   "metadata": {
    "ExecuteTime": {
     "end_time": "2021-05-07T17:25:53.099980Z",
     "start_time": "2021-05-07T17:25:53.080027Z"
    }
   },
   "outputs": [
    {
     "data": {
      "text/html": [
       "<div>\n",
       "<style scoped>\n",
       "    .dataframe tbody tr th:only-of-type {\n",
       "        vertical-align: middle;\n",
       "    }\n",
       "\n",
       "    .dataframe tbody tr th {\n",
       "        vertical-align: top;\n",
       "    }\n",
       "\n",
       "    .dataframe thead th {\n",
       "        text-align: right;\n",
       "    }\n",
       "</style>\n",
       "<table border=\"1\" class=\"dataframe\">\n",
       "  <thead>\n",
       "    <tr style=\"text-align: right;\">\n",
       "      <th></th>\n",
       "      <th>Pclass_2.0</th>\n",
       "      <th>Pclass_3.0</th>\n",
       "      <th>Sex_male</th>\n",
       "      <th>Embarked_Q</th>\n",
       "      <th>Embarked_S</th>\n",
       "    </tr>\n",
       "  </thead>\n",
       "  <tbody>\n",
       "    <tr>\n",
       "      <th>0</th>\n",
       "      <td>0.0</td>\n",
       "      <td>1.0</td>\n",
       "      <td>1.0</td>\n",
       "      <td>0.0</td>\n",
       "      <td>1.0</td>\n",
       "    </tr>\n",
       "    <tr>\n",
       "      <th>1</th>\n",
       "      <td>0.0</td>\n",
       "      <td>1.0</td>\n",
       "      <td>1.0</td>\n",
       "      <td>0.0</td>\n",
       "      <td>1.0</td>\n",
       "    </tr>\n",
       "    <tr>\n",
       "      <th>2</th>\n",
       "      <td>0.0</td>\n",
       "      <td>1.0</td>\n",
       "      <td>1.0</td>\n",
       "      <td>0.0</td>\n",
       "      <td>1.0</td>\n",
       "    </tr>\n",
       "    <tr>\n",
       "      <th>3</th>\n",
       "      <td>0.0</td>\n",
       "      <td>1.0</td>\n",
       "      <td>0.0</td>\n",
       "      <td>0.0</td>\n",
       "      <td>1.0</td>\n",
       "    </tr>\n",
       "    <tr>\n",
       "      <th>4</th>\n",
       "      <td>0.0</td>\n",
       "      <td>1.0</td>\n",
       "      <td>1.0</td>\n",
       "      <td>1.0</td>\n",
       "      <td>0.0</td>\n",
       "    </tr>\n",
       "    <tr>\n",
       "      <th>...</th>\n",
       "      <td>...</td>\n",
       "      <td>...</td>\n",
       "      <td>...</td>\n",
       "      <td>...</td>\n",
       "      <td>...</td>\n",
       "    </tr>\n",
       "    <tr>\n",
       "      <th>263</th>\n",
       "      <td>1.0</td>\n",
       "      <td>0.0</td>\n",
       "      <td>0.0</td>\n",
       "      <td>0.0</td>\n",
       "      <td>1.0</td>\n",
       "    </tr>\n",
       "    <tr>\n",
       "      <th>264</th>\n",
       "      <td>0.0</td>\n",
       "      <td>1.0</td>\n",
       "      <td>1.0</td>\n",
       "      <td>0.0</td>\n",
       "      <td>1.0</td>\n",
       "    </tr>\n",
       "    <tr>\n",
       "      <th>265</th>\n",
       "      <td>0.0</td>\n",
       "      <td>1.0</td>\n",
       "      <td>0.0</td>\n",
       "      <td>0.0</td>\n",
       "      <td>0.0</td>\n",
       "    </tr>\n",
       "    <tr>\n",
       "      <th>266</th>\n",
       "      <td>0.0</td>\n",
       "      <td>1.0</td>\n",
       "      <td>0.0</td>\n",
       "      <td>0.0</td>\n",
       "      <td>1.0</td>\n",
       "    </tr>\n",
       "    <tr>\n",
       "      <th>267</th>\n",
       "      <td>1.0</td>\n",
       "      <td>0.0</td>\n",
       "      <td>0.0</td>\n",
       "      <td>0.0</td>\n",
       "      <td>1.0</td>\n",
       "    </tr>\n",
       "  </tbody>\n",
       "</table>\n",
       "<p>268 rows × 5 columns</p>\n",
       "</div>"
      ],
      "text/plain": [
       "     Pclass_2.0  Pclass_3.0  Sex_male  Embarked_Q  Embarked_S\n",
       "0           0.0         1.0       1.0         0.0         1.0\n",
       "1           0.0         1.0       1.0         0.0         1.0\n",
       "2           0.0         1.0       1.0         0.0         1.0\n",
       "3           0.0         1.0       0.0         0.0         1.0\n",
       "4           0.0         1.0       1.0         1.0         0.0\n",
       "..          ...         ...       ...         ...         ...\n",
       "263         1.0         0.0       0.0         0.0         1.0\n",
       "264         0.0         1.0       1.0         0.0         1.0\n",
       "265         0.0         1.0       0.0         0.0         0.0\n",
       "266         0.0         1.0       0.0         0.0         1.0\n",
       "267         1.0         0.0       0.0         0.0         1.0\n",
       "\n",
       "[268 rows x 5 columns]"
      ]
     },
     "execution_count": 180,
     "metadata": {},
     "output_type": "execute_result"
    }
   ],
   "source": [
    "train_cat_cols = pd.DataFrame(train_cat_cols,columns=encoder.get_feature_names(cat_cols))\n",
    "test_cat_cols =  pd.DataFrame(test_cat_cols,columns=encoder.get_feature_names(cat_cols))\n",
    "test_cat_cols"
   ]
  },
  {
   "cell_type": "code",
   "execution_count": 181,
   "metadata": {
    "ExecuteTime": {
     "end_time": "2021-05-07T17:25:53.141631Z",
     "start_time": "2021-05-07T17:25:53.120215Z"
    }
   },
   "outputs": [
    {
     "data": {
      "text/html": [
       "<div>\n",
       "<style scoped>\n",
       "    .dataframe tbody tr th:only-of-type {\n",
       "        vertical-align: middle;\n",
       "    }\n",
       "\n",
       "    .dataframe tbody tr th {\n",
       "        vertical-align: top;\n",
       "    }\n",
       "\n",
       "    .dataframe thead th {\n",
       "        text-align: right;\n",
       "    }\n",
       "</style>\n",
       "<table border=\"1\" class=\"dataframe\">\n",
       "  <thead>\n",
       "    <tr style=\"text-align: right;\">\n",
       "      <th></th>\n",
       "      <th>Age</th>\n",
       "      <th>SibSp</th>\n",
       "      <th>Fare</th>\n",
       "    </tr>\n",
       "  </thead>\n",
       "  <tbody>\n",
       "    <tr>\n",
       "      <th>0</th>\n",
       "      <td>-0.420187</td>\n",
       "      <td>-0.498937</td>\n",
       "      <td>-0.483670</td>\n",
       "    </tr>\n",
       "    <tr>\n",
       "      <th>1</th>\n",
       "      <td>-0.078120</td>\n",
       "      <td>-0.498937</td>\n",
       "      <td>-0.176188</td>\n",
       "    </tr>\n",
       "    <tr>\n",
       "      <th>2</th>\n",
       "      <td>-0.116127</td>\n",
       "      <td>-0.498937</td>\n",
       "      <td>0.285034</td>\n",
       "    </tr>\n",
       "    <tr>\n",
       "      <th>3</th>\n",
       "      <td>-0.268157</td>\n",
       "      <td>-0.498937</td>\n",
       "      <td>0.473860</td>\n",
       "    </tr>\n",
       "    <tr>\n",
       "      <th>4</th>\n",
       "      <td>1.176128</td>\n",
       "      <td>-0.498937</td>\n",
       "      <td>0.051911</td>\n",
       "    </tr>\n",
       "    <tr>\n",
       "      <th>...</th>\n",
       "      <td>...</td>\n",
       "      <td>...</td>\n",
       "      <td>...</td>\n",
       "    </tr>\n",
       "    <tr>\n",
       "      <th>618</th>\n",
       "      <td>-0.420187</td>\n",
       "      <td>-0.498937</td>\n",
       "      <td>-0.325910</td>\n",
       "    </tr>\n",
       "    <tr>\n",
       "      <th>619</th>\n",
       "      <td>-0.078120</td>\n",
       "      <td>-0.498937</td>\n",
       "      <td>-0.350026</td>\n",
       "    </tr>\n",
       "    <tr>\n",
       "      <th>620</th>\n",
       "      <td>-0.648232</td>\n",
       "      <td>1.480922</td>\n",
       "      <td>4.611378</td>\n",
       "    </tr>\n",
       "    <tr>\n",
       "      <th>621</th>\n",
       "      <td>0.111918</td>\n",
       "      <td>-0.498937</td>\n",
       "      <td>-0.450510</td>\n",
       "    </tr>\n",
       "    <tr>\n",
       "      <th>622</th>\n",
       "      <td>0.035903</td>\n",
       "      <td>-0.498937</td>\n",
       "      <td>-0.499747</td>\n",
       "    </tr>\n",
       "  </tbody>\n",
       "</table>\n",
       "<p>623 rows × 3 columns</p>\n",
       "</div>"
      ],
      "text/plain": [
       "          Age     SibSp      Fare\n",
       "0   -0.420187 -0.498937 -0.483670\n",
       "1   -0.078120 -0.498937 -0.176188\n",
       "2   -0.116127 -0.498937  0.285034\n",
       "3   -0.268157 -0.498937  0.473860\n",
       "4    1.176128 -0.498937  0.051911\n",
       "..        ...       ...       ...\n",
       "618 -0.420187 -0.498937 -0.325910\n",
       "619 -0.078120 -0.498937 -0.350026\n",
       "620 -0.648232  1.480922  4.611378\n",
       "621  0.111918 -0.498937 -0.450510\n",
       "622  0.035903 -0.498937 -0.499747\n",
       "\n",
       "[623 rows x 3 columns]"
      ]
     },
     "execution_count": 181,
     "metadata": {},
     "output_type": "execute_result"
    }
   ],
   "source": [
    "## Scaling Num_cols\n",
    "scaler = StandardScaler()\n",
    "train_num_cols = pd.DataFrame(scaler.fit_transform(X_train_tf[num_cols]),\n",
    "                              columns=num_cols)\n",
    "test_num_cols =  pd.DataFrame(scaler.transform(X_test_tf[num_cols]),\n",
    "                              columns=num_cols)\n",
    "train_num_cols"
   ]
  },
  {
   "cell_type": "code",
   "execution_count": 182,
   "metadata": {
    "ExecuteTime": {
     "end_time": "2021-05-07T17:25:53.166741Z",
     "start_time": "2021-05-07T17:25:53.144251Z"
    }
   },
   "outputs": [
    {
     "data": {
      "text/html": [
       "<div>\n",
       "<style scoped>\n",
       "    .dataframe tbody tr th:only-of-type {\n",
       "        vertical-align: middle;\n",
       "    }\n",
       "\n",
       "    .dataframe tbody tr th {\n",
       "        vertical-align: top;\n",
       "    }\n",
       "\n",
       "    .dataframe thead th {\n",
       "        text-align: right;\n",
       "    }\n",
       "</style>\n",
       "<table border=\"1\" class=\"dataframe\">\n",
       "  <thead>\n",
       "    <tr style=\"text-align: right;\">\n",
       "      <th></th>\n",
       "      <th>Age</th>\n",
       "      <th>SibSp</th>\n",
       "      <th>Fare</th>\n",
       "      <th>Pclass_2.0</th>\n",
       "      <th>Pclass_3.0</th>\n",
       "      <th>Sex_male</th>\n",
       "      <th>Embarked_Q</th>\n",
       "      <th>Embarked_S</th>\n",
       "    </tr>\n",
       "  </thead>\n",
       "  <tbody>\n",
       "    <tr>\n",
       "      <th>0</th>\n",
       "      <td>1.100113</td>\n",
       "      <td>-0.498937</td>\n",
       "      <td>-0.502259</td>\n",
       "      <td>0.0</td>\n",
       "      <td>1.0</td>\n",
       "      <td>1.0</td>\n",
       "      <td>0.0</td>\n",
       "      <td>1.0</td>\n",
       "    </tr>\n",
       "    <tr>\n",
       "      <th>1</th>\n",
       "      <td>0.720038</td>\n",
       "      <td>-0.498937</td>\n",
       "      <td>-0.502259</td>\n",
       "      <td>0.0</td>\n",
       "      <td>1.0</td>\n",
       "      <td>1.0</td>\n",
       "      <td>0.0</td>\n",
       "      <td>1.0</td>\n",
       "    </tr>\n",
       "    <tr>\n",
       "      <th>2</th>\n",
       "      <td>-0.192142</td>\n",
       "      <td>-0.498937</td>\n",
       "      <td>-0.400268</td>\n",
       "      <td>0.0</td>\n",
       "      <td>1.0</td>\n",
       "      <td>1.0</td>\n",
       "      <td>0.0</td>\n",
       "      <td>1.0</td>\n",
       "    </tr>\n",
       "    <tr>\n",
       "      <th>3</th>\n",
       "      <td>0.111918</td>\n",
       "      <td>-0.498937</td>\n",
       "      <td>-0.487020</td>\n",
       "      <td>0.0</td>\n",
       "      <td>1.0</td>\n",
       "      <td>0.0</td>\n",
       "      <td>0.0</td>\n",
       "      <td>1.0</td>\n",
       "    </tr>\n",
       "    <tr>\n",
       "      <th>4</th>\n",
       "      <td>-0.078120</td>\n",
       "      <td>0.490992</td>\n",
       "      <td>-0.350026</td>\n",
       "      <td>0.0</td>\n",
       "      <td>1.0</td>\n",
       "      <td>1.0</td>\n",
       "      <td>1.0</td>\n",
       "      <td>0.0</td>\n",
       "    </tr>\n",
       "    <tr>\n",
       "      <th>...</th>\n",
       "      <td>...</td>\n",
       "      <td>...</td>\n",
       "      <td>...</td>\n",
       "      <td>...</td>\n",
       "      <td>...</td>\n",
       "      <td>...</td>\n",
       "      <td>...</td>\n",
       "      <td>...</td>\n",
       "    </tr>\n",
       "    <tr>\n",
       "      <th>263</th>\n",
       "      <td>0.796053</td>\n",
       "      <td>-0.498937</td>\n",
       "      <td>-0.400268</td>\n",
       "      <td>1.0</td>\n",
       "      <td>0.0</td>\n",
       "      <td>0.0</td>\n",
       "      <td>0.0</td>\n",
       "      <td>1.0</td>\n",
       "    </tr>\n",
       "    <tr>\n",
       "      <th>264</th>\n",
       "      <td>0.187933</td>\n",
       "      <td>-0.498937</td>\n",
       "      <td>-0.502259</td>\n",
       "      <td>0.0</td>\n",
       "      <td>1.0</td>\n",
       "      <td>1.0</td>\n",
       "      <td>0.0</td>\n",
       "      <td>1.0</td>\n",
       "    </tr>\n",
       "    <tr>\n",
       "      <th>265</th>\n",
       "      <td>-0.876277</td>\n",
       "      <td>-0.498937</td>\n",
       "      <td>-0.371043</td>\n",
       "      <td>0.0</td>\n",
       "      <td>1.0</td>\n",
       "      <td>0.0</td>\n",
       "      <td>0.0</td>\n",
       "      <td>0.0</td>\n",
       "    </tr>\n",
       "    <tr>\n",
       "      <th>266</th>\n",
       "      <td>-0.724247</td>\n",
       "      <td>-0.498937</td>\n",
       "      <td>-0.487438</td>\n",
       "      <td>0.0</td>\n",
       "      <td>1.0</td>\n",
       "      <td>0.0</td>\n",
       "      <td>0.0</td>\n",
       "      <td>1.0</td>\n",
       "    </tr>\n",
       "    <tr>\n",
       "      <th>267</th>\n",
       "      <td>-0.116127</td>\n",
       "      <td>-0.498937</td>\n",
       "      <td>-0.400268</td>\n",
       "      <td>1.0</td>\n",
       "      <td>0.0</td>\n",
       "      <td>0.0</td>\n",
       "      <td>0.0</td>\n",
       "      <td>1.0</td>\n",
       "    </tr>\n",
       "  </tbody>\n",
       "</table>\n",
       "<p>268 rows × 8 columns</p>\n",
       "</div>"
      ],
      "text/plain": [
       "          Age     SibSp      Fare  Pclass_2.0  Pclass_3.0  Sex_male  \\\n",
       "0    1.100113 -0.498937 -0.502259         0.0         1.0       1.0   \n",
       "1    0.720038 -0.498937 -0.502259         0.0         1.0       1.0   \n",
       "2   -0.192142 -0.498937 -0.400268         0.0         1.0       1.0   \n",
       "3    0.111918 -0.498937 -0.487020         0.0         1.0       0.0   \n",
       "4   -0.078120  0.490992 -0.350026         0.0         1.0       1.0   \n",
       "..        ...       ...       ...         ...         ...       ...   \n",
       "263  0.796053 -0.498937 -0.400268         1.0         0.0       0.0   \n",
       "264  0.187933 -0.498937 -0.502259         0.0         1.0       1.0   \n",
       "265 -0.876277 -0.498937 -0.371043         0.0         1.0       0.0   \n",
       "266 -0.724247 -0.498937 -0.487438         0.0         1.0       0.0   \n",
       "267 -0.116127 -0.498937 -0.400268         1.0         0.0       0.0   \n",
       "\n",
       "     Embarked_Q  Embarked_S  \n",
       "0           0.0         1.0  \n",
       "1           0.0         1.0  \n",
       "2           0.0         1.0  \n",
       "3           0.0         1.0  \n",
       "4           1.0         0.0  \n",
       "..          ...         ...  \n",
       "263         0.0         1.0  \n",
       "264         0.0         1.0  \n",
       "265         0.0         0.0  \n",
       "266         0.0         1.0  \n",
       "267         0.0         1.0  \n",
       "\n",
       "[268 rows x 8 columns]"
      ]
     },
     "execution_count": 182,
     "metadata": {},
     "output_type": "execute_result"
    }
   ],
   "source": [
    "## Combine Num and Cat Cols\n",
    "X_train_tf = pd.concat([train_num_cols,train_cat_cols],axis=1)\n",
    "X_test_tf = pd.concat([test_num_cols,test_cat_cols],axis=1)\n",
    "X_test_tf"
   ]
  },
  {
   "cell_type": "code",
   "execution_count": 183,
   "metadata": {
    "ExecuteTime": {
     "end_time": "2021-05-07T17:25:53.214661Z",
     "start_time": "2021-05-07T17:25:53.170139Z"
    }
   },
   "outputs": [
    {
     "data": {
      "text/html": [
       "<div>\n",
       "<style scoped>\n",
       "    .dataframe tbody tr th:only-of-type {\n",
       "        vertical-align: middle;\n",
       "    }\n",
       "\n",
       "    .dataframe tbody tr th {\n",
       "        vertical-align: top;\n",
       "    }\n",
       "\n",
       "    .dataframe thead th {\n",
       "        text-align: right;\n",
       "    }\n",
       "</style>\n",
       "<table border=\"1\" class=\"dataframe\">\n",
       "  <thead>\n",
       "    <tr style=\"text-align: right;\">\n",
       "      <th></th>\n",
       "      <th>Age</th>\n",
       "      <th>SibSp</th>\n",
       "      <th>Fare</th>\n",
       "      <th>Pclass_2.0</th>\n",
       "      <th>Pclass_3.0</th>\n",
       "      <th>Sex_male</th>\n",
       "      <th>Embarked_Q</th>\n",
       "      <th>Embarked_S</th>\n",
       "    </tr>\n",
       "  </thead>\n",
       "  <tbody>\n",
       "    <tr>\n",
       "      <th>count</th>\n",
       "      <td>623.00</td>\n",
       "      <td>623.00</td>\n",
       "      <td>623.00</td>\n",
       "      <td>623.0</td>\n",
       "      <td>623.00</td>\n",
       "      <td>623.00</td>\n",
       "      <td>623.00</td>\n",
       "      <td>623.00</td>\n",
       "    </tr>\n",
       "    <tr>\n",
       "      <th>mean</th>\n",
       "      <td>0.00</td>\n",
       "      <td>-0.00</td>\n",
       "      <td>-0.00</td>\n",
       "      <td>0.2</td>\n",
       "      <td>0.56</td>\n",
       "      <td>0.66</td>\n",
       "      <td>0.08</td>\n",
       "      <td>0.74</td>\n",
       "    </tr>\n",
       "    <tr>\n",
       "      <th>std</th>\n",
       "      <td>1.00</td>\n",
       "      <td>1.00</td>\n",
       "      <td>1.00</td>\n",
       "      <td>0.4</td>\n",
       "      <td>0.50</td>\n",
       "      <td>0.48</td>\n",
       "      <td>0.27</td>\n",
       "      <td>0.44</td>\n",
       "    </tr>\n",
       "    <tr>\n",
       "      <th>min</th>\n",
       "      <td>-2.21</td>\n",
       "      <td>-0.50</td>\n",
       "      <td>-0.66</td>\n",
       "      <td>0.0</td>\n",
       "      <td>0.00</td>\n",
       "      <td>0.00</td>\n",
       "      <td>0.00</td>\n",
       "      <td>0.00</td>\n",
       "    </tr>\n",
       "    <tr>\n",
       "      <th>25%</th>\n",
       "      <td>-0.57</td>\n",
       "      <td>-0.50</td>\n",
       "      <td>-0.50</td>\n",
       "      <td>0.0</td>\n",
       "      <td>0.00</td>\n",
       "      <td>0.00</td>\n",
       "      <td>0.00</td>\n",
       "      <td>0.00</td>\n",
       "    </tr>\n",
       "    <tr>\n",
       "      <th>50%</th>\n",
       "      <td>-0.08</td>\n",
       "      <td>-0.50</td>\n",
       "      <td>-0.35</td>\n",
       "      <td>0.0</td>\n",
       "      <td>1.00</td>\n",
       "      <td>1.00</td>\n",
       "      <td>0.00</td>\n",
       "      <td>1.00</td>\n",
       "    </tr>\n",
       "    <tr>\n",
       "      <th>75%</th>\n",
       "      <td>0.49</td>\n",
       "      <td>0.49</td>\n",
       "      <td>-0.02</td>\n",
       "      <td>0.0</td>\n",
       "      <td>1.00</td>\n",
       "      <td>1.00</td>\n",
       "      <td>0.00</td>\n",
       "      <td>1.00</td>\n",
       "    </tr>\n",
       "    <tr>\n",
       "      <th>max</th>\n",
       "      <td>3.84</td>\n",
       "      <td>7.42</td>\n",
       "      <td>9.63</td>\n",
       "      <td>1.0</td>\n",
       "      <td>1.00</td>\n",
       "      <td>1.00</td>\n",
       "      <td>1.00</td>\n",
       "      <td>1.00</td>\n",
       "    </tr>\n",
       "  </tbody>\n",
       "</table>\n",
       "</div>"
      ],
      "text/plain": [
       "          Age   SibSp    Fare  Pclass_2.0  Pclass_3.0  Sex_male  Embarked_Q  \\\n",
       "count  623.00  623.00  623.00       623.0      623.00    623.00      623.00   \n",
       "mean     0.00   -0.00   -0.00         0.2        0.56      0.66        0.08   \n",
       "std      1.00    1.00    1.00         0.4        0.50      0.48        0.27   \n",
       "min     -2.21   -0.50   -0.66         0.0        0.00      0.00        0.00   \n",
       "25%     -0.57   -0.50   -0.50         0.0        0.00      0.00        0.00   \n",
       "50%     -0.08   -0.50   -0.35         0.0        1.00      1.00        0.00   \n",
       "75%      0.49    0.49   -0.02         0.0        1.00      1.00        0.00   \n",
       "max      3.84    7.42    9.63         1.0        1.00      1.00        1.00   \n",
       "\n",
       "       Embarked_S  \n",
       "count      623.00  \n",
       "mean         0.74  \n",
       "std          0.44  \n",
       "min          0.00  \n",
       "25%          0.00  \n",
       "50%          1.00  \n",
       "75%          1.00  \n",
       "max          1.00  "
      ]
     },
     "execution_count": 183,
     "metadata": {},
     "output_type": "execute_result"
    }
   ],
   "source": [
    "X_train_tf.describe().round(2)\n"
   ]
  },
  {
   "cell_type": "markdown",
   "metadata": {},
   "source": [
    "## Fitting a Logistic Regression with `scikit-learn`"
   ]
  },
  {
   "cell_type": "code",
   "execution_count": 184,
   "metadata": {
    "ExecuteTime": {
     "end_time": "2021-05-07T17:25:53.235163Z",
     "start_time": "2021-05-07T17:25:53.217387Z"
    }
   },
   "outputs": [
    {
     "data": {
      "text/plain": [
       "LogisticRegression(C=1000000000000.0)"
      ]
     },
     "execution_count": 184,
     "metadata": {},
     "output_type": "execute_result"
    }
   ],
   "source": [
    "## Fit a logistic regression model with defaults\n",
    "log_reg = LogisticRegression(C=1e12)\n",
    "log_reg.fit(X_train_tf,y_train)"
   ]
  },
  {
   "cell_type": "code",
   "execution_count": 185,
   "metadata": {
    "ExecuteTime": {
     "end_time": "2021-05-07T17:25:53.249197Z",
     "start_time": "2021-05-07T17:25:53.238468Z"
    }
   },
   "outputs": [
    {
     "name": "stdout",
     "output_type": "stream",
     "text": [
      "Training Score:\t0.79\n",
      "Test Score:\t0.79\n"
     ]
    }
   ],
   "source": [
    "## Get the model's .score for training and test set \n",
    "print(f\"Training Score:\\t{log_reg.score(X_train_tf,y_train):.2f}\")\n",
    "print(f\"Test Score:\\t{log_reg.score(X_test_tf,y_test):.2f}\")"
   ]
  },
  {
   "cell_type": "code",
   "execution_count": 186,
   "metadata": {
    "ExecuteTime": {
     "end_time": "2021-05-07T17:25:53.259682Z",
     "start_time": "2021-05-07T17:25:53.251547Z"
    }
   },
   "outputs": [
    {
     "data": {
      "text/plain": [
       "Age          -0.469308\n",
       "SibSp        -0.318258\n",
       "Fare          0.297477\n",
       "Pclass_2.0   -1.106332\n",
       "Pclass_3.0   -1.851357\n",
       "Sex_male     -2.698477\n",
       "Embarked_Q    0.083828\n",
       "Embarked_S   -0.373588\n",
       "intercept     2.755836\n",
       "dtype: float64"
      ]
     },
     "execution_count": 186,
     "metadata": {},
     "output_type": "execute_result"
    }
   ],
   "source": [
    "### Getting our model's coefficients\n",
    "## Our function from last class\n",
    "def get_coefficients(model,X_train):\n",
    "    coeffs = pd.Series(model.coef_.flatten(), index=X_train.columns)\n",
    "    coeffs['intercept'] = model.intercept_[0]\n",
    "    return coeffs\n",
    "\n",
    "## get the model's coefficients\n",
    "get_coefficients(log_reg,X_train_tf)"
   ]
  },
  {
   "cell_type": "code",
   "execution_count": 187,
   "metadata": {
    "ExecuteTime": {
     "end_time": "2021-05-07T17:25:53.268608Z",
     "start_time": "2021-05-07T17:25:53.261777Z"
    }
   },
   "outputs": [],
   "source": [
    "## Get Predictions for training and test data to check metrics functions\n",
    "y_hat_train = log_reg.predict(X_train_tf)\n",
    "y_hat_test = log_reg.predict(X_test_tf)"
   ]
  },
  {
   "cell_type": "code",
   "execution_count": 188,
   "metadata": {
    "ExecuteTime": {
     "end_time": "2021-05-07T17:25:53.276800Z",
     "start_time": "2021-05-07T17:25:53.271629Z"
    }
   },
   "outputs": [
    {
     "data": {
      "text/plain": [
       "0.7910447761194029"
      ]
     },
     "execution_count": 188,
     "metadata": {},
     "output_type": "execute_result"
    }
   ],
   "source": [
    "## Try accuracy_score\n",
    "metrics.accuracy_score(y_test,y_hat_test)"
   ]
  },
  {
   "cell_type": "markdown",
   "metadata": {},
   "source": [
    "### How do I know if my accuracy score is good?"
   ]
  },
  {
   "cell_type": "markdown",
   "metadata": {},
   "source": [
    "> Does your model predict better than chance/just getting the class distribution?\n",
    "- Compare your accuracy to your normalized value counts for y\n",
    "- Compare your model against a `DummyClassifier` (https://scikit-learn.org/stable/modules/generated/sklearn.dummy.DummyClassifier.html)"
   ]
  },
  {
   "cell_type": "code",
   "execution_count": 189,
   "metadata": {
    "ExecuteTime": {
     "end_time": "2021-05-07T17:25:53.286748Z",
     "start_time": "2021-05-07T17:25:53.278891Z"
    }
   },
   "outputs": [
    {
     "data": {
      "text/plain": [
       "0    0.608347\n",
       "1    0.391653\n",
       "Name: Survived, dtype: float64"
      ]
     },
     "execution_count": 189,
     "metadata": {},
     "output_type": "execute_result"
    }
   ],
   "source": [
    "## Check the class balance for the y_train\n",
    "y_train.value_counts(normalize=True)"
   ]
  },
  {
   "cell_type": "code",
   "execution_count": 190,
   "metadata": {
    "ExecuteTime": {
     "end_time": "2021-05-07T17:25:53.296911Z",
     "start_time": "2021-05-07T17:25:53.289562Z"
    }
   },
   "outputs": [
    {
     "data": {
      "text/plain": [
       "0    0.634328\n",
       "1    0.365672\n",
       "Name: Survived, dtype: float64"
      ]
     },
     "execution_count": 190,
     "metadata": {},
     "output_type": "execute_result"
    }
   ],
   "source": [
    "## Check the class balance for y_test\n",
    "y_test.value_counts(normalize=True)"
   ]
  },
  {
   "cell_type": "code",
   "execution_count": 191,
   "metadata": {
    "ExecuteTime": {
     "end_time": "2021-05-07T17:25:53.308359Z",
     "start_time": "2021-05-07T17:25:53.300342Z"
    }
   },
   "outputs": [
    {
     "data": {
      "text/plain": [
       "0.5149253731343284"
      ]
     },
     "execution_count": 191,
     "metadata": {},
     "output_type": "execute_result"
    }
   ],
   "source": [
    "from sklearn.dummy import DummyClassifier\n",
    "## Make and fit  dummy classifier\n",
    "model = DummyClassifier(strategy='stratified')\n",
    "model.fit(X_train_tf,y_train)\n",
    "model.score(X_test_tf,y_test)"
   ]
  },
  {
   "cell_type": "code",
   "execution_count": 192,
   "metadata": {
    "ExecuteTime": {
     "end_time": "2021-05-07T17:25:53.318716Z",
     "start_time": "2021-05-07T17:25:53.311060Z"
    }
   },
   "outputs": [
    {
     "name": "stdout",
     "output_type": "stream",
     "text": [
      "Training Score:\t0.54\n",
      "Test Score:\t0.56\n"
     ]
    }
   ],
   "source": [
    "## Get the model's .score\n",
    "print(f\"Training Score:\\t{model.score(X_train_tf,y_train):.2f}\")\n",
    "print(f\"Test Score:\\t{model.score(X_test_tf,y_test):.2f}\")"
   ]
  },
  {
   "cell_type": "code",
   "execution_count": 193,
   "metadata": {
    "ExecuteTime": {
     "end_time": "2021-05-07T17:25:53.552634Z",
     "start_time": "2021-05-07T17:25:53.321425Z"
    }
   },
   "outputs": [
    {
     "data": {
      "text/plain": [
       "<sklearn.metrics._plot.confusion_matrix.ConfusionMatrixDisplay at 0x7fd80bb27f40>"
      ]
     },
     "execution_count": 193,
     "metadata": {},
     "output_type": "execute_result"
    },
    {
     "data": {
      "image/png": "[encoded data removed]",
      "text/plain": [
       "<Figure size 432x288 with 2 Axes>"
      ]
     },
     "metadata": {
      "needs_background": "light"
     },
     "output_type": "display_data"
    }
   ],
   "source": [
    "## Check the confusion matrix\n",
    "\n",
    "metrics.plot_confusion_matrix(model, X_test_tf,y_test,cmap='Reds',normalize='true')"
   ]
  },
  {
   "cell_type": "markdown",
   "metadata": {},
   "source": [
    "> But accuracy isn't the best metric when you have imbalanced classes. \n",
    "- Next class we will introduce more classification metrics"
   ]
  },
  {
   "cell_type": "markdown",
   "metadata": {},
   "source": [
    "## 🚩Revisiting Question from Part 1: Interpreting LogisticRegresion Coefficients"
   ]
  },
  {
   "cell_type": "markdown",
   "metadata": {},
   "source": [
    "### Resources:"
   ]
  },
  {
   "cell_type": "markdown",
   "metadata": {},
   "source": [
    "\n",
    "- [Central Lecturer Logistic Regression Notebook (cited below)]( https://nbviewer.jupyter.org/github/flatiron-school/ds-logistic_regression/blob/main/logistic_regression.ipynb)\n",
    "- [Medium Blog Post on Interpreting Linear Regression and Logistic Regression Coefficients](https://towardsdatascience.com/interpreting-coefficients-in-linear-and-logistic-regression-6ddf1295f6f1)"
   ]
  },
  {
   "cell_type": "markdown",
   "metadata": {},
   "source": [
    "### From [Central Lecturer `logistic_regression.ipynb` Notebook )]( https://nbviewer.jupyter.org/github/flatiron-school/ds-logistic_regression/blob/main/logistic_regression.ipynb):<br>"
   ]
  },
  {
   "cell_type": "markdown",
   "metadata": {},
   "source": [
    "The **sigmoid function**. <br/>\n",
    "$$\\large\\hat{y} = \\Large\\frac{1}{1 + e^{-\\hat{L}}} \\large= \\Large\\frac{1}{1 + e^{-(\\beta_0 + ... + \\beta_nx_n)}}$$ "
   ]
  },
  {
   "cell_type": "markdown",
   "metadata": {},
   "source": [
    "\n",
    "- How do we fit a line to our dependent variable if its values are already stored as probabilities? \n",
    "    - We can ***use the inverse of the sigmoid function, and just set our regression equation equal to that.*** \n",
    "    - The inverse of the sigmoid function is called the **logit function**, and it looks like this:\n",
    "\n",
    "$$\\large f(y) = \\ln\\left(\\frac{y}{1 - y}\\right)$$\n",
    "- Notice that the domain of this function is $(0, 1)$."
   ]
  },
  {
   "cell_type": "markdown",
   "metadata": {},
   "source": [
    "### From the [Medium Blog Post on Interpreting Linear Regression and Logistic Regression Coefficients](https://towardsdatascience.com/interpreting-coefficients-in-linear-and-logistic-regression-6ddf1295f6f1)"
   ]
  },
  {
   "cell_type": "markdown",
   "metadata": {},
   "source": [
    ">\"Because of the logit function, logistic regression coefficients represent the log odds that an observation is in the target class (“1”) given the values of its X variables. Thus, these log odd coefficients need to be converted to regular odds in order to make sense of them. Happily, this is done by simply exponentiating the log odds coefficients, which you can do with np.exp()\"<br>- [Blog Post](https://towardsdatascience.com/interpreting-coefficients-in-linear-and-logistic-regression-6ddf1295f6f1)"
   ]
  },
  {
   "cell_type": "code",
   "execution_count": 194,
   "metadata": {
    "ExecuteTime": {
     "end_time": "2021-05-07T17:25:53.562116Z",
     "start_time": "2021-05-07T17:25:53.555504Z"
    }
   },
   "outputs": [
    {
     "data": {
      "text/plain": [
       "Age          -0.469308\n",
       "SibSp        -0.318258\n",
       "Fare          0.297477\n",
       "Pclass_2.0   -1.106332\n",
       "Pclass_3.0   -1.851357\n",
       "Sex_male     -2.698477\n",
       "Embarked_Q    0.083828\n",
       "Embarked_S   -0.373588\n",
       "intercept     2.755836\n",
       "dtype: float64"
      ]
     },
     "execution_count": 194,
     "metadata": {},
     "output_type": "execute_result"
    }
   ],
   "source": [
    "coeffs = get_coefficients(log_reg,X_train_tf)\n",
    "coeffs"
   ]
  },
  {
   "cell_type": "code",
   "execution_count": 195,
   "metadata": {
    "ExecuteTime": {
     "end_time": "2021-05-07T17:25:53.571291Z",
     "start_time": "2021-05-07T17:25:53.564594Z"
    }
   },
   "outputs": [
    {
     "data": {
      "text/plain": [
       "Age            0.625435\n",
       "SibSp          0.727415\n",
       "Fare           1.346457\n",
       "Pclass_2.0     0.330770\n",
       "Pclass_3.0     0.157024\n",
       "Sex_male       0.067308\n",
       "Embarked_Q     1.087441\n",
       "Embarked_S     0.688260\n",
       "intercept     15.734186\n",
       "dtype: float64"
      ]
     },
     "execution_count": 195,
     "metadata": {},
     "output_type": "execute_result"
    }
   ],
   "source": [
    "## Odds are how much more likely to fall into 1 class than 0 class\n",
    "## convert log-odds to odds using np.exp\n",
    "odds = np.exp(coeffs)\n",
    "odds"
   ]
  },
  {
   "cell_type": "markdown",
   "metadata": {},
   "source": [
    "#### Interpreting Odds Coefficients\n",
    "> ***“For every one-unit increase in [X variable], the odds that the observation is in (y class) are [coefficient] times as large as the odds that the observation is not in (y class) (when all other variables are held constant).”***"
   ]
  },
  {
   "cell_type": "markdown",
   "metadata": {},
   "source": [
    "- For \"Age\"=0.56: \n",
    "    - For every 1 sd increase in Age, the odds that the person Survived (class=1) are 0.56 x as large as the odds the person died. \n",
    "- For Fare = 1.24:\n",
    "    - For every increase of 1sd in Fare the odds the person Survived are 1.2 times the odds that they died. \n",
    "    \n",
    "- For Sex_male=0.07\n",
    "    - The odds that a male survives is 0.07 times greater than the odds they died.\n",
    "- For Females (1-Sex_male) = .91\n",
    "    - The odds that a female survived is .91 times greater than the odds they died. "
   ]
  },
  {
   "cell_type": "markdown",
   "metadata": {},
   "source": [
    "#### Converting to Probability"
   ]
  },
  {
   "cell_type": "markdown",
   "metadata": {},
   "source": [
    "\n",
    "$$odds = \\frac {probability} {1 - probability}$$\n",
    "\n",
    "$$probability = \\frac {odds} {1 + odds}$$\n",
    "\n",
    "And so the logit function represents the **log-odds** of success (y=1)."
   ]
  },
  {
   "cell_type": "code",
   "execution_count": 196,
   "metadata": {
    "ExecuteTime": {
     "end_time": "2021-05-07T17:25:53.580972Z",
     "start_time": "2021-05-07T17:25:53.574466Z"
    }
   },
   "outputs": [
    {
     "data": {
      "text/plain": [
       "Age           0.384780\n",
       "SibSp         0.421100\n",
       "Fare          0.573826\n",
       "Pclass_2.0    0.248555\n",
       "Pclass_3.0    0.135714\n",
       "Sex_male      0.063063\n",
       "Embarked_Q    0.520945\n",
       "Embarked_S    0.407674\n",
       "intercept     0.940242\n",
       "dtype: float64"
      ]
     },
     "execution_count": 196,
     "metadata": {},
     "output_type": "execute_result"
    }
   ],
   "source": [
    "## convert odds to prob\n",
    "prob = odds/(1+odds)\n",
    "prob"
   ]
  },
  {
   "cell_type": "code",
   "execution_count": 197,
   "metadata": {
    "ExecuteTime": {
     "end_time": "2021-05-07T17:25:53.588961Z",
     "start_time": "2021-05-07T17:25:53.583192Z"
    }
   },
   "outputs": [],
   "source": [
    "## update function to return \n",
    "def get_coefficients(model,X_train,units = \"log-odds\"):\n",
    "    \"\"\"Returns model coefficients. \n",
    "    \n",
    "    Args:\n",
    "        model: sklearn model with the .coef_ attribute. \n",
    "        X_train: dataframe with the feature names as the .columns\n",
    "        units (str): Can be ['log-odds','odds','prob']\n",
    "        \"\"\"\n",
    "    options = ['log-odds','odds','prob']\n",
    "    \n",
    "    if units not in options:\n",
    "        raise Exception(f'units must be one of {options}')\n",
    "        \n",
    "    coeffs = pd.Series(model.coef_.flatten(), index=X_train.columns)\n",
    "    coeffs['intercept'] = model.intercept_[0]\n",
    "    \n",
    "    if units=='odds':\n",
    "        coeffs = np.exp(coeffs)\n",
    "        \n",
    "    elif units=='prob':\n",
    "        coeffs = np.exp(coeffs)\n",
    "        coeffs = coeffs/(1+coeffs)\n",
    "        \n",
    "\n",
    "    coeffs.name=units\n",
    "    return coeffs"
   ]
  },
  {
   "cell_type": "code",
   "execution_count": 198,
   "metadata": {
    "ExecuteTime": {
     "end_time": "2021-05-07T17:25:53.598231Z",
     "start_time": "2021-05-07T17:25:53.591778Z"
    }
   },
   "outputs": [
    {
     "data": {
      "text/plain": [
       "Age            0.625435\n",
       "SibSp          0.727415\n",
       "Fare           1.346457\n",
       "Pclass_2.0     0.330770\n",
       "Pclass_3.0     0.157024\n",
       "Sex_male       0.067308\n",
       "Embarked_Q     1.087441\n",
       "Embarked_S     0.688260\n",
       "intercept     15.734186\n",
       "Name: odds, dtype: float64"
      ]
     },
     "execution_count": 198,
     "metadata": {},
     "output_type": "execute_result"
    }
   ],
   "source": [
    "coeffs_odds = get_coefficients(log_reg,X_train_tf,units='odds')\n",
    "coeffs_odds"
   ]
  },
  {
   "cell_type": "markdown",
   "metadata": {},
   "source": [
    "# Part 2: Evaluating Classifiers, Dealing with Class Imbalance, and `GridSearchCV`"
   ]
  },
  {
   "cell_type": "markdown",
   "metadata": {},
   "source": [
    "- 05/07/21"
   ]
  },
  {
   "cell_type": "markdown",
   "metadata": {},
   "source": [
    "## Confusion Matrices: Understanding Our Model's Mistakes"
   ]
  },
  {
   "cell_type": "markdown",
   "metadata": {},
   "source": [
    "- For classification tasks, it can be extremely helpful to examine a \"Confusion Matrix\" to understand how our model is wrong. "
   ]
  },
  {
   "cell_type": "code",
   "execution_count": 199,
   "metadata": {
    "ExecuteTime": {
     "end_time": "2021-05-07T17:25:53.607319Z",
     "start_time": "2021-05-07T17:25:53.601017Z"
    }
   },
   "outputs": [
    {
     "data": {
      "text/plain": [
       "array([[139,  31],\n",
       "       [ 25,  73]])"
      ]
     },
     "execution_count": 199,
     "metadata": {},
     "output_type": "execute_result"
    }
   ],
   "source": [
    "## Use metrics.confusion_matrix\n",
    "metrics.confusion_matrix(y_test,y_hat_test)"
   ]
  },
  {
   "cell_type": "code",
   "execution_count": 200,
   "metadata": {
    "ExecuteTime": {
     "end_time": "2021-05-07T17:25:53.820549Z",
     "start_time": "2021-05-07T17:25:53.610662Z"
    }
   },
   "outputs": [
    {
     "data": {
      "text/plain": [
       "<sklearn.metrics._plot.confusion_matrix.ConfusionMatrixDisplay at 0x7fd80ba07ac0>"
      ]
     },
     "execution_count": 200,
     "metadata": {},
     "output_type": "execute_result"
    },
    {
     "data": {
      "image/png": "[encoded data removed]",
      "text/plain": [
       "<Figure size 432x288 with 2 Axes>"
      ]
     },
     "metadata": {
      "needs_background": "light"
     },
     "output_type": "display_data"
    }
   ],
   "source": [
    "## Use metrics.plot_confusion_matrix\n",
    "metrics.plot_confusion_matrix(log_reg, X_test_tf,y_test,cmap='Blues')#,\n",
    "#                              display_labels=[\"Died\",'Survived'])"
   ]
  },
  {
   "cell_type": "markdown",
   "metadata": {},
   "source": [
    ">- The Confusion Matrix separated out the correct (true) predictions for the positive class (1) and negative class (0). \n",
    "```\n",
    "[TN,FP],\n",
    "[FN,TP]\n",
    "```\n",
    "- **_True Positives (TP)_**: The number of observations where the model predicted the person has the disease (1), and they actually do have the disease (1).\n",
    "\n",
    "- **_True Negatives (TN)_**: The number of observations where the model predicted the person is healthy (0), and they are actually healthy (0).\n",
    "\n",
    "- **_False Positives (FP)_**: The number of observations where the model predicted the person has the disease (1), but they are actually healthy (0). \n",
    "\n",
    "- **_False Negatives (FN)_**: The number of observations where the model predicted the person is healthy (0), but they actually have the disease (1).\n"
   ]
  },
  {
   "cell_type": "code",
   "execution_count": 201,
   "metadata": {
    "ExecuteTime": {
     "end_time": "2021-05-07T17:25:54.054694Z",
     "start_time": "2021-05-07T17:25:53.822829Z"
    }
   },
   "outputs": [
    {
     "data": {
      "text/plain": [
       "<sklearn.metrics._plot.confusion_matrix.ConfusionMatrixDisplay at 0x7fd80ba19550>"
      ]
     },
     "execution_count": 201,
     "metadata": {},
     "output_type": "execute_result"
    },
    {
     "data": {
      "image/png": "[encoded data removed]",
      "text/plain": [
       "<Figure size 432x288 with 2 Axes>"
      ]
     },
     "metadata": {
      "needs_background": "light"
     },
     "output_type": "display_data"
    }
   ],
   "source": [
    "metrics.plot_confusion_matrix(log_reg, X_test_tf,y_test,cmap='Blues',normalize='true')#,"
   ]
  },
  {
   "cell_type": "markdown",
   "metadata": {},
   "source": [
    "## Evaluation Metrics"
   ]
  },
  {
   "cell_type": "markdown",
   "metadata": {},
   "source": [
    "> [The 5 Classification Evaluation metrics every Data Scientist must know](https://towardsdatascience.com/the-5-classification-evaluation-metrics-you-must-know-aa97784ff226)\n",
    "\n",
    "- **Classification Metrics are based on the confusion matrices of our model**"
   ]
  },
  {
   "cell_type": "markdown",
   "metadata": {},
   "source": [
    "```\n",
    "[TN,FP],\n",
    "[FN,TP]\n",
    "```"
   ]
  },
  {
   "cell_type": "code",
   "execution_count": 202,
   "metadata": {
    "ExecuteTime": {
     "end_time": "2021-05-07T17:25:54.063426Z",
     "start_time": "2021-05-07T17:25:54.057283Z"
    }
   },
   "outputs": [
    {
     "data": {
      "text/plain": [
       "array([[139,  31],\n",
       "       [ 25,  73]])"
      ]
     },
     "execution_count": 202,
     "metadata": {},
     "output_type": "execute_result"
    }
   ],
   "source": [
    "## Remake the conf matrix (raw counts)\n",
    "cm = metrics.confusion_matrix(y_test,y_hat_test)\n",
    "cm"
   ]
  },
  {
   "cell_type": "code",
   "execution_count": 203,
   "metadata": {
    "ExecuteTime": {
     "end_time": "2021-05-07T17:25:54.069294Z",
     "start_time": "2021-05-07T17:25:54.065440Z"
    }
   },
   "outputs": [],
   "source": [
    "## SLice out TN/FP/etc from cm\n",
    "TN = cm[0,0]\n",
    "FP = cm[0,1]\n",
    "FN = cm[1,0]\n",
    "TP = cm[1,1]"
   ]
  },
  {
   "cell_type": "code",
   "execution_count": 204,
   "metadata": {
    "ExecuteTime": {
     "end_time": "2021-05-07T17:25:54.076223Z",
     "start_time": "2021-05-07T17:25:54.072171Z"
    },
    "code_folding": [],
    "scrolled": true
   },
   "outputs": [
    {
     "name": "stdout",
     "output_type": "stream",
     "text": [
      "139 31\n",
      "25 73\n"
     ]
    }
   ],
   "source": [
    "## Make sure we got the order right\n",
    "print(TN,FP)\n",
    "print(FN,TP)"
   ]
  },
  {
   "cell_type": "markdown",
   "metadata": {},
   "source": [
    "### Accuracy"
   ]
  },
  {
   "cell_type": "markdown",
   "metadata": {},
   "source": [
    "$$ \\large \\text{Accuracy} = \\frac{\\text{Number of True Positives + True Negatives}}{\\text{Total Observations}} $$\n",
    "\n",
    "> \"Out of all the predictions our model made, what percentage were correct?\"\n",
    "- \"Accuracy is the most common metric for classification. It provides a solid holistic view of the overall performance of our \n",
    "model.\"\n",
    "\n",
    "#### When to use?\n",
    "- **Accuracy** is good for non-technical audiences (but can be misleading with imbalanced classes)\n"
   ]
  },
  {
   "cell_type": "code",
   "execution_count": 205,
   "metadata": {
    "ExecuteTime": {
     "end_time": "2021-05-07T17:25:54.084249Z",
     "start_time": "2021-05-07T17:25:54.079605Z"
    }
   },
   "outputs": [
    {
     "data": {
      "text/plain": [
       "0.7910447761194029"
      ]
     },
     "execution_count": 205,
     "metadata": {},
     "output_type": "execute_result"
    }
   ],
   "source": [
    "## calcualte accuracy manually\n",
    "acc = (TP+TN)/(TP+TN+FP+FN)\n",
    "acc"
   ]
  },
  {
   "cell_type": "code",
   "execution_count": 206,
   "metadata": {
    "ExecuteTime": {
     "end_time": "2021-05-07T17:25:54.093449Z",
     "start_time": "2021-05-07T17:25:54.088240Z"
    }
   },
   "outputs": [
    {
     "data": {
      "text/plain": [
       "0.7910447761194029"
      ]
     },
     "execution_count": 206,
     "metadata": {},
     "output_type": "execute_result"
    }
   ],
   "source": [
    "## compare against the accuracy_score\n",
    "metrics.accuracy_score(y_test,y_hat_test)"
   ]
  },
  {
   "cell_type": "markdown",
   "metadata": {},
   "source": [
    "### Precision"
   ]
  },
  {
   "cell_type": "markdown",
   "metadata": {},
   "source": [
    "> \"**_Precision_** measures what proportion of predicted Positives is truly Positive?\n"
   ]
  },
  {
   "cell_type": "markdown",
   "metadata": {},
   "source": [
    "$$ \\large \\text{Precision} = \\frac{\\text{Number of True Positives}}{\\text{Number of Predicted Positives}} $$\n"
   ]
  },
  {
   "cell_type": "markdown",
   "metadata": {},
   "source": [
    "#### When to use?\n",
    "- **Use precision** when the cost of acting is high and acting on a positive is costly.\n",
    "   - e.g. Allocating resources/interventions for prisoners who are at-risk for recidivism. "
   ]
  },
  {
   "cell_type": "code",
   "execution_count": 207,
   "metadata": {
    "ExecuteTime": {
     "end_time": "2021-05-07T17:25:54.103464Z",
     "start_time": "2021-05-07T17:25:54.095843Z"
    }
   },
   "outputs": [
    {
     "data": {
      "text/plain": [
       "0.7019230769230769"
      ]
     },
     "execution_count": 207,
     "metadata": {},
     "output_type": "execute_result"
    }
   ],
   "source": [
    "metrics.precision_score(y_test, y_hat_test)"
   ]
  },
  {
   "cell_type": "code",
   "execution_count": 208,
   "metadata": {
    "ExecuteTime": {
     "end_time": "2021-05-07T17:25:54.111242Z",
     "start_time": "2021-05-07T17:25:54.105801Z"
    }
   },
   "outputs": [
    {
     "data": {
      "text/plain": [
       "0.7019230769230769"
      ]
     },
     "execution_count": 208,
     "metadata": {},
     "output_type": "execute_result"
    }
   ],
   "source": [
    "prec = TP/(FP+TP)\n",
    "prec"
   ]
  },
  {
   "cell_type": "markdown",
   "metadata": {},
   "source": [
    "### Recall (AKA Sensitivity)"
   ]
  },
  {
   "cell_type": "markdown",
   "metadata": {},
   "source": [
    "> **_Recall_** indicates what percentage of the classes we're interested in were actually captured by the model.\"\n",
    "$$ \\large \\text{Recall} = \\frac{\\text{Number of True Positives}}{\\text{Number of Actual Total Positives}} $$ \n"
   ]
  },
  {
   "cell_type": "markdown",
   "metadata": {},
   "source": [
    "#### When to use?\n",
    "- **Use recall** when the number of true positives/opportunities is small and you don’t want to miss one.\n",
    "    - e.g. cancer diagnosis. (telling someone they do not have cancer when they actually do is fatal)"
   ]
  },
  {
   "cell_type": "code",
   "execution_count": 209,
   "metadata": {
    "ExecuteTime": {
     "end_time": "2021-05-07T17:25:54.122099Z",
     "start_time": "2021-05-07T17:25:54.113564Z"
    }
   },
   "outputs": [
    {
     "data": {
      "text/plain": [
       "0.7448979591836735"
      ]
     },
     "execution_count": 209,
     "metadata": {},
     "output_type": "execute_result"
    }
   ],
   "source": [
    "metrics.recall_score(y_test, y_hat_test)"
   ]
  },
  {
   "cell_type": "code",
   "execution_count": 210,
   "metadata": {
    "ExecuteTime": {
     "end_time": "2021-05-07T17:25:54.129561Z",
     "start_time": "2021-05-07T17:25:54.124405Z"
    }
   },
   "outputs": [
    {
     "data": {
      "text/plain": [
       "0.7448979591836735"
      ]
     },
     "execution_count": 210,
     "metadata": {},
     "output_type": "execute_result"
    }
   ],
   "source": [
    "rec = TP /(TP+FN)\n",
    "rec"
   ]
  },
  {
   "cell_type": "markdown",
   "metadata": {},
   "source": [
    "#### Sensitivity vs Specificity\n",
    "- Sensitivity(True Positive rate) measures the proportion of positives that are correctly identified\n",
    "- Specificity (True Negative rate) measures the proportion of negatives that are correctly identified"
   ]
  },
  {
   "cell_type": "markdown",
   "metadata": {},
   "source": [
    "\n",
    "> Note that in binary classification, recall of the positive class is also known as “sensitivity”; recall of the negative class is “specificity”."
   ]
  },
  {
   "cell_type": "code",
   "execution_count": 211,
   "metadata": {
    "ExecuteTime": {
     "end_time": "2021-05-07T17:25:54.143364Z",
     "start_time": "2021-05-07T17:25:54.132208Z"
    }
   },
   "outputs": [
    {
     "name": "stdout",
     "output_type": "stream",
     "text": [
      "              precision    recall  f1-score   support\n",
      "\n",
      "           0       0.85      0.82      0.83       170\n",
      "           1       0.70      0.74      0.72        98\n",
      "\n",
      "    accuracy                           0.79       268\n",
      "   macro avg       0.77      0.78      0.78       268\n",
      "weighted avg       0.79      0.79      0.79       268\n",
      "\n"
     ]
    }
   ],
   "source": [
    "print(metrics.classification_report(y_test,y_hat_test))"
   ]
  },
  {
   "cell_type": "code",
   "execution_count": 212,
   "metadata": {
    "ExecuteTime": {
     "end_time": "2021-05-07T17:25:54.155866Z",
     "start_time": "2021-05-07T17:25:54.146304Z"
    }
   },
   "outputs": [],
   "source": [
    "## for binary classification, can get Specifity from 0 class's recall.\n",
    "report = metrics.classification_report(y_test,y_hat_test,output_dict=True)\n",
    "sensitivty = report['1']['recall']\n",
    "specificity = report['0']['recall']"
   ]
  },
  {
   "cell_type": "code",
   "execution_count": 213,
   "metadata": {
    "ExecuteTime": {
     "end_time": "2021-05-07T17:25:54.162824Z",
     "start_time": "2021-05-07T17:25:54.158314Z"
    }
   },
   "outputs": [
    {
     "data": {
      "text/plain": [
       "0.7448979591836735"
      ]
     },
     "execution_count": 213,
     "metadata": {},
     "output_type": "execute_result"
    }
   ],
   "source": [
    "sensitivty"
   ]
  },
  {
   "cell_type": "code",
   "execution_count": 214,
   "metadata": {
    "ExecuteTime": {
     "end_time": "2021-05-07T17:25:54.170431Z",
     "start_time": "2021-05-07T17:25:54.165220Z"
    }
   },
   "outputs": [
    {
     "data": {
      "text/plain": [
       "0.8176470588235294"
      ]
     },
     "execution_count": 214,
     "metadata": {},
     "output_type": "execute_result"
    }
   ],
   "source": [
    "specificity"
   ]
  },
  {
   "cell_type": "markdown",
   "metadata": {},
   "source": [
    "<!-- <img src='https://raw.githubusercontent.com/jirvingphd/fsds_100719_cohort_notes/master/images/precisionrecall.png' width=50%> -->"
   ]
  },
  {
   "cell_type": "markdown",
   "metadata": {},
   "source": [
    "### $F_1$ Score"
   ]
  },
  {
   "cell_type": "markdown",
   "metadata": {},
   "source": [
    "F1 score represents the **_Harmonic Mean of Precision and Recall_**.  In short, this means that the F1 score cannot be high without both precision and recall also being high. When a model's F1 score is high, you know that your model is doing well all around. \n",
    "\n",
    "> Harmonic Mean: \"the reciprocal of the arithmetic mean of the reciprocals of a given set of observatins.\" - *[Wikipedia](https://en.wikipedia.org/wiki/Harmonic_mean)*\n",
    "\n",
    "#### Arithmetic Mean:\n",
    "\n",
    "$$\\large \\bar{X} = \\frac{a+b+c}{n} $$\n",
    "\n",
    "#### Harmonic Mean:\n",
    "\n",
    "$$ \\large \\bar{X} = \\frac{n}{\\frac{1}{a}+ \\frac{1}{b}+ \\frac{1}{c}}$$\n",
    "\n",
    "\n",
    "**The formula for F1 score is:**\n",
    "\n",
    "> $$ \\text{F1 score} =  \\frac{2}{\\text{Precision}^{-1}\\ x\\ \\text{Recall}^{-1}}= 2\\ \\frac{\\text{Precision}\\ x\\ \\text{Recall}}{\\text{Precision} + \\text{Recall}} $$"
   ]
  },
  {
   "cell_type": "markdown",
   "metadata": {},
   "source": [
    "#### When to use?\n",
    "- **F1 score** is really the most informative about overall model quality.\n",
    "- BUT is the most difficult to express to a non-tech audience"
   ]
  },
  {
   "cell_type": "code",
   "execution_count": 215,
   "metadata": {
    "ExecuteTime": {
     "end_time": "2021-05-07T17:25:54.178216Z",
     "start_time": "2021-05-07T17:25:54.173384Z"
    }
   },
   "outputs": [
    {
     "name": "stdout",
     "output_type": "stream",
     "text": [
      "0.7227722772277229\n"
     ]
    }
   ],
   "source": [
    "f1_score = 2*prec*rec / (prec + rec)\n",
    "print(f1_score)"
   ]
  },
  {
   "cell_type": "code",
   "execution_count": 216,
   "metadata": {
    "ExecuteTime": {
     "end_time": "2021-05-07T17:25:54.188072Z",
     "start_time": "2021-05-07T17:25:54.180753Z"
    }
   },
   "outputs": [
    {
     "data": {
      "text/plain": [
       "0.7227722772277229"
      ]
     },
     "execution_count": 216,
     "metadata": {},
     "output_type": "execute_result"
    }
   ],
   "source": [
    "metrics.f1_score(y_test,y_hat_test)"
   ]
  },
  {
   "cell_type": "markdown",
   "metadata": {},
   "source": [
    "## Which metric to use?"
   ]
  },
  {
   "cell_type": "markdown",
   "metadata": {},
   "source": [
    "- **When in doubt, use them all!** \n",
    " -`metrics.classification_report`\n",
    " "
   ]
  },
  {
   "cell_type": "code",
   "execution_count": 217,
   "metadata": {
    "ExecuteTime": {
     "end_time": "2021-05-07T17:25:54.199105Z",
     "start_time": "2021-05-07T17:25:54.190930Z"
    },
    "scrolled": true
   },
   "outputs": [
    {
     "name": "stdout",
     "output_type": "stream",
     "text": [
      "              precision    recall  f1-score   support\n",
      "\n",
      "        Died       0.85      0.82      0.83       170\n",
      "    Survived       0.70      0.74      0.72        98\n",
      "\n",
      "    accuracy                           0.79       268\n",
      "   macro avg       0.77      0.78      0.78       268\n",
      "weighted avg       0.79      0.79      0.79       268\n",
      "\n"
     ]
    }
   ],
   "source": [
    "print(metrics.classification_report(y_test,y_hat_test,target_names=['Died','Survived']))"
   ]
  },
  {
   "cell_type": "markdown",
   "metadata": {},
   "source": [
    "- **But some good rules of thumb:**\n",
    "    - **Accuracy** is good for non-technical audiences (but can be misleading with imbalanced classes)\n",
    "    \n",
    "    - **Use recall** when the number of true positives/opportunities is small and you don’t want to miss one.\n",
    "        - e.g. cancer diagnosis. (telling someone they do not have cancer when they actually do is fatal)\n",
    "    - **Use precision** when the cost of acting is high and acting on a positive is costly.\n",
    "       - e.g. Allocating resources/interventions for prisoners who are at-risk for recidivism. \n",
    "\n",
    "- **F1 score** is really the most informative about overall model quality, but is the most difficult to express to a non-tech audience"
   ]
  },
  {
   "cell_type": "markdown",
   "metadata": {},
   "source": [
    "# ROC Curve - Receiver Operating Characteristic Curve"
   ]
  },
  {
   "cell_type": "markdown",
   "metadata": {},
   "source": [
    "### Graph Interpretation"
   ]
  },
  {
   "cell_type": "markdown",
   "metadata": {},
   "source": [
    "- ROC Curves plot the True Positive Rate (TPR) vs the False Positive Rate(FPR) at various thresholds\n",
    "\n",
    "    - TPR = TP / (TP+FN)\n",
    "    - FPR = FP / (FP+TN)\n",
    "    \n",
    "- The higher the area under the roc curve is another metric we can use to evaluate our model."
   ]
  },
  {
   "cell_type": "code",
   "execution_count": 218,
   "metadata": {
    "ExecuteTime": {
     "end_time": "2021-05-07T17:25:54.206587Z",
     "start_time": "2021-05-07T17:25:54.201227Z"
    }
   },
   "outputs": [
    {
     "data": {
      "text/plain": [
       "(0.7448979591836735, 0.18235294117647058)"
      ]
     },
     "execution_count": 218,
     "metadata": {},
     "output_type": "execute_result"
    }
   ],
   "source": [
    "## Calc TPR and FPR\n",
    "TPR = TP / (TP+FN)\n",
    "FPR = FP / (FP+TN)\n",
    "TPR,FPR"
   ]
  },
  {
   "cell_type": "code",
   "execution_count": 219,
   "metadata": {
    "ExecuteTime": {
     "end_time": "2021-05-07T17:25:54.401642Z",
     "start_time": "2021-05-07T17:25:54.209106Z"
    }
   },
   "outputs": [
    {
     "data": {
      "text/plain": [
       "<sklearn.metrics._plot.roc_curve.RocCurveDisplay at 0x7fd80f326b50>"
      ]
     },
     "execution_count": 219,
     "metadata": {},
     "output_type": "execute_result"
    },
    {
     "data": {
      "image/png": "[encoded data removed]",
      "text/plain": [
       "<Figure size 432x288 with 1 Axes>"
      ]
     },
     "metadata": {
      "needs_background": "light"
     },
     "output_type": "display_data"
    }
   ],
   "source": [
    "metrics.plot_roc_curve(log_reg,X_test_tf,y_test)"
   ]
  },
  {
   "cell_type": "markdown",
   "metadata": {},
   "source": [
    "- False Positive Rate vs True Positive Rate → for each threshold\n",
    "\n",
    "<img src=\"https://raw.githubusercontent.com/jirvingphd/fsds_100719_cohort_notes/master/images/roc_comparison.png\" width=70%>"
   ]
  },
  {
   "cell_type": "code",
   "execution_count": 221,
   "metadata": {
    "ExecuteTime": {
     "end_time": "2021-05-07T17:26:13.697249Z",
     "start_time": "2021-05-07T17:26:13.693027Z"
    }
   },
   "outputs": [],
   "source": [
    "## We can use the AUC to judge how good the model is  (higher AUC the better)\n",
    "# but it needs something new: y_score.\n",
    "# metrics.roc_auc_score()"
   ]
  },
  {
   "cell_type": "code",
   "execution_count": 222,
   "metadata": {
    "ExecuteTime": {
     "end_time": "2021-05-07T17:26:13.993921Z",
     "start_time": "2021-05-07T17:26:13.982486Z"
    }
   },
   "outputs": [
    {
     "data": {
      "text/plain": [
       "array([-2.67449837, -2.49612622, -2.03769301,  0.49227996, -1.933896  ])"
      ]
     },
     "execution_count": 222,
     "metadata": {},
     "output_type": "execute_result"
    }
   ],
   "source": [
    "## Get y_score or y_score_prob from the log_reg decision function / predict proba\n",
    "y_score = log_reg.decision_function(X_test_tf)\n",
    "y_score[:5]"
   ]
  },
  {
   "cell_type": "code",
   "execution_count": 223,
   "metadata": {
    "ExecuteTime": {
     "end_time": "2021-05-07T17:26:14.243325Z",
     "start_time": "2021-05-07T17:26:14.233668Z"
    }
   },
   "outputs": [
    {
     "data": {
      "text/plain": [
       "0.06449502556786825"
      ]
     },
     "execution_count": 223,
     "metadata": {},
     "output_type": "execute_result"
    }
   ],
   "source": [
    "y_score_probs = log_reg.predict_proba(X_test_tf)[:,1]\n",
    "y_score_probs[0]"
   ]
  },
  {
   "cell_type": "code",
   "execution_count": 224,
   "metadata": {
    "ExecuteTime": {
     "end_time": "2021-05-07T17:26:14.495212Z",
     "start_time": "2021-05-07T17:26:14.485777Z"
    }
   },
   "outputs": [
    {
     "data": {
      "text/plain": [
       "array([0.        , 0.00588235, 0.00588235, 0.01176471, 0.01176471])"
      ]
     },
     "execution_count": 224,
     "metadata": {},
     "output_type": "execute_result"
    }
   ],
   "source": [
    "fpr,tpr,thresh = metrics.roc_curve(y_test,y_score_probs)\n",
    "fpr[:5]"
   ]
  },
  {
   "cell_type": "code",
   "execution_count": 225,
   "metadata": {
    "ExecuteTime": {
     "end_time": "2021-05-07T17:26:14.763871Z",
     "start_time": "2021-05-07T17:26:14.755703Z"
    }
   },
   "outputs": [
    {
     "data": {
      "text/plain": [
       "array([0.        , 0.00588235, 0.00588235, 0.01176471, 0.01176471])"
      ]
     },
     "execution_count": 225,
     "metadata": {},
     "output_type": "execute_result"
    }
   ],
   "source": [
    "# Scikit-learn's built in roc_curve method returns the fpr, tpr, and threshold\n",
    "# for various decision boundaries given the case member probabilites\n",
    "\n",
    "fpr,tpr,thresh = metrics.roc_curve(y_test,y_score)\n",
    "fpr[:5]"
   ]
  },
  {
   "cell_type": "code",
   "execution_count": 226,
   "metadata": {
    "ExecuteTime": {
     "end_time": "2021-05-07T17:26:15.007448Z",
     "start_time": "2021-05-07T17:26:14.997986Z"
    }
   },
   "outputs": [
    {
     "data": {
      "text/plain": [
       "array([ 4.91724789,  3.91724789,  3.20426437,  3.09673602,  1.46947668,\n",
       "        1.40190548,  1.3781346 ,  1.37395243,  1.36804333,  1.36413625,\n",
       "        1.31951548,  1.30086053,  1.03680811,  1.03407471,  1.03330231,\n",
       "        0.97644998,  0.96195345,  0.95848302,  0.95061742,  0.9420426 ,\n",
       "        0.82025002,  0.7824263 ,  0.77314202,  0.76458137,  0.67452621,\n",
       "        0.65764574,  0.57647111,  0.49227996,  0.48732332,  0.39611751,\n",
       "        0.31842656,  0.28224656,  0.2044611 ,  0.20020153, -0.13223726,\n",
       "       -0.16890487, -0.31917698, -0.34357136, -0.65647276, -0.659445  ,\n",
       "       -0.9151943 , -0.96743419, -1.34703735, -1.35056629, -1.39969048,\n",
       "       -1.4238972 , -1.42857119, -1.4353649 , -1.46095753, -1.52025742,\n",
       "       -1.65691321, -1.66517506, -1.67651109, -1.70687975, -1.71304591,\n",
       "       -1.74324844, -1.74621591, -1.7477356 , -1.75214121, -1.76596816,\n",
       "       -1.78428167, -1.80961455, -1.8235431 , -1.82778363, -1.85473378,\n",
       "       -1.85475889, -1.92357677, -1.933896  , -2.01642378, -2.01924321,\n",
       "       -2.03769301, -2.04406252, -2.07326304, -2.07371248, -2.10447989,\n",
       "       -2.12042377, -2.12079742, -2.12558008, -2.12996604, -2.24548869,\n",
       "       -2.24565792, -2.24640521, -2.24682848, -2.49411735, -2.49612622,\n",
       "       -2.6580557 , -2.67375107, -2.67449837, -3.21365019, -4.27355407])"
      ]
     },
     "execution_count": 226,
     "metadata": {},
     "output_type": "execute_result"
    }
   ],
   "source": [
    "thresh"
   ]
  },
  {
   "cell_type": "code",
   "execution_count": 227,
   "metadata": {
    "ExecuteTime": {
     "end_time": "2021-05-07T17:26:15.254881Z",
     "start_time": "2021-05-07T17:26:15.248097Z"
    }
   },
   "outputs": [
    {
     "data": {
      "text/plain": [
       "0.834123649459784"
      ]
     },
     "execution_count": 227,
     "metadata": {},
     "output_type": "execute_result"
    }
   ],
   "source": [
    "metrics.auc(fpr, tpr)"
   ]
  },
  {
   "cell_type": "code",
   "execution_count": 228,
   "metadata": {
    "ExecuteTime": {
     "end_time": "2021-05-07T17:26:15.519208Z",
     "start_time": "2021-05-07T17:26:15.506400Z"
    }
   },
   "outputs": [
    {
     "data": {
      "text/plain": [
       "0.834123649459784"
      ]
     },
     "execution_count": 228,
     "metadata": {},
     "output_type": "execute_result"
    }
   ],
   "source": [
    "metrics.roc_auc_score(y_test,y_score)"
   ]
  },
  {
   "cell_type": "code",
   "execution_count": 229,
   "metadata": {
    "ExecuteTime": {
     "end_time": "2021-05-07T17:26:16.264717Z",
     "start_time": "2021-05-07T17:26:15.911432Z"
    }
   },
   "outputs": [
    {
     "data": {
      "image/png": "[encoded data removed]",
      "text/plain": [
       "<Figure size 432x288 with 1 Axes>"
      ]
     },
     "metadata": {
      "needs_background": "light"
     },
     "output_type": "display_data"
    }
   ],
   "source": [
    "## Plot The ROC Curve\n",
    "fig, ax = plt.subplots(nrows=1,figsize=(6,4))\n",
    "\n",
    "# ax =axes[0]\n",
    "## PLot fpt vs tpr\n",
    "ax.plot(fpr,tpr, label=f'ROC CURVE AUC={round(metrics.auc(fpr, tpr),2)}')\n",
    "\n",
    "## Plot a diagnonal line to indicate worthless model\n",
    "ax.plot([0,1],[0,1],ls=':',)\n",
    "\n",
    "## Properly Label axes and title figure\n",
    "ax.set(xlabel='False Positive Rate',ylabel='True Positie Rate')\n",
    "## Add legend and grid\n",
    "\n",
    "ax.legend()\n",
    "ax.grid()\n"
   ]
  },
  {
   "cell_type": "markdown",
   "metadata": {},
   "source": [
    "[a if a else 2 for a in [0,1,0,3]]\n",
    "[2, 1, 2, 3]"
   ]
  },
  {
   "cell_type": "code",
   "execution_count": 230,
   "metadata": {
    "ExecuteTime": {
     "end_time": "2021-05-07T17:26:17.058595Z",
     "start_time": "2021-05-07T17:26:17.046296Z"
    }
   },
   "outputs": [
    {
     "data": {
      "text/plain": [
       "[0, 0, 0, 0, 0]"
      ]
     },
     "execution_count": 230,
     "metadata": {},
     "output_type": "execute_result"
    }
   ],
   "source": [
    "probs = log_reg.predict_proba(X_test_tf)[:,1]\n",
    "preds = [1 if x > 0.7 else 0  for x in probs ]\n",
    "preds[:5]\n",
    "# preds = []\n",
    "# for x in probs:\n",
    "#     if x>0.7:\n",
    "#         preds.append(1)\n",
    "#     else:\n",
    "#         preds.append(0)\n",
    "# print(metrics.classification_report(y_test, preds))"
   ]
  },
  {
   "cell_type": "code",
   "execution_count": 231,
   "metadata": {
    "ExecuteTime": {
     "end_time": "2021-05-07T17:26:17.732807Z",
     "start_time": "2021-05-07T17:26:17.385722Z"
    }
   },
   "outputs": [
    {
     "data": {
      "text/plain": [
       "[<matplotlib.lines.Line2D at 0x7fd80f5e7910>]"
      ]
     },
     "execution_count": 231,
     "metadata": {},
     "output_type": "execute_result"
    },
    {
     "data": {
      "image/png": "[encoded data removed]",
      "text/plain": [
       "<Figure size 432x288 with 1 Axes>"
      ]
     },
     "metadata": {
      "needs_background": "light"
     },
     "output_type": "display_data"
    }
   ],
   "source": [
    "## Using sklearn's built-in andn making it match ours above\n",
    "curve = metrics.plot_roc_curve(log_reg,X_test_tf,y_test)\n",
    "curve.ax_.grid()\n",
    "curve.ax_.plot([0,1],[0,1],ls=':')"
   ]
  },
  {
   "cell_type": "markdown",
   "metadata": {},
   "source": [
    "# Activity: Make an `evaluate_classification` function"
   ]
  },
  {
   "cell_type": "markdown",
   "metadata": {},
   "source": [
    "- Write a function called `evaluate_classification`\n",
    "- It should accept (at minimum): \n",
    "    - model (sklearn model)\n",
    "    - X_test\n",
    "    - y_test\n",
    "    \n",
    "- ***Ideally you should also accept X_train and y_train to compare results to check for overfitting. ?***\n",
    "- It should produce:\n",
    "    - Classification metrics printed\n",
    "    - Confusion Matrix displayed\n",
    "    - roc_auc curve displayed\n",
    "    \n",
    "    \n",
    "- Then revisit some of the questions we had from last class re: scaling, LogisticRegression parameters"
   ]
  },
  {
   "cell_type": "code",
   "execution_count": 232,
   "metadata": {
    "ExecuteTime": {
     "end_time": "2021-05-07T17:26:18.316873Z",
     "start_time": "2021-05-07T17:26:18.306912Z"
    }
   },
   "outputs": [],
   "source": [
    "\n",
    "def evaluate_classification(log_reg,X_test_tf,y_test,cmap='Reds',\n",
    "                            normalize='true',classes=None,figsize=(8,4)):\n",
    "    y_hat_test = log_reg.predict(X_test_tf)\n",
    "    print(metrics.classification_report(y_test, y_hat_test,target_names=classes))\n",
    "    \n",
    "    fig,ax = plt.subplots(ncols=2,figsize=figsize)\n",
    "    metrics.plot_confusion_matrix(log_reg, X_test_tf,y_test,cmap=cmap, \n",
    "                                  normalize=normalize,display_labels=classes,\n",
    "                                 ax=ax[0])\n",
    "    \n",
    "    curve = metrics.plot_roc_curve(log_reg,X_test_tf,y_test,ax=ax[1])\n",
    "    curve.ax_.grid()\n",
    "    curve.ax_.plot([0,1],[0,1],ls=':')"
   ]
  },
  {
   "cell_type": "code",
   "execution_count": 233,
   "metadata": {
    "ExecuteTime": {
     "end_time": "2021-05-07T17:26:18.910512Z",
     "start_time": "2021-05-07T17:26:18.899774Z"
    }
   },
   "outputs": [],
   "source": [
    "import sklearn.metrics as metrics\n",
    "\n",
    "def evaluate_classification(model,X_test,y_test,classes=None,\n",
    "                           normalize='true',cmap=\"Blues\",figsize=(10,5),\n",
    "                           return_fig=False): \n",
    "     \n",
    "    ## Get Predictions\n",
    "    y_hat_test = model.predict(X_test)\n",
    "    \n",
    "    ## Classification Report / Scores \n",
    "    dashes = '---'*20\n",
    "    print(dashes)\n",
    "    print(\"[i] CLASSIFICATION REPORT\")\n",
    "    print(dashes)\n",
    "    \n",
    "    print(metrics.classification_report(y_test,y_hat_test,\n",
    "                                        target_names=classes))\n",
    "    print(dashes)\n",
    "    \n",
    "    fig, axes = plt.subplots(ncols=2, \n",
    "                             figsize=figsize)\n",
    "    \n",
    "    ## Confusion Matrix\n",
    "    metrics.plot_confusion_matrix(model, X_test,\n",
    "                                  y_test,normalize=normalize,\n",
    "                                  display_labels=classes,\n",
    "                                 cmap=cmap,ax=axes[0])\n",
    "    ## Plot ROC Curve\n",
    "    metrics.plot_roc_curve(model,X_test,y_test,ax=axes[1])\n",
    "\n",
    "    ax = axes[1]\n",
    "    ax.legend()\n",
    "    ax.plot([0,1],[0,1],ls=':')\n",
    "    ax.grid()\n",
    "    \n",
    "    if return_fig:\n",
    "        return fig,axes\n",
    "    \n",
    "    \n",
    "    "
   ]
  },
  {
   "cell_type": "code",
   "execution_count": 234,
   "metadata": {
    "ExecuteTime": {
     "end_time": "2021-05-07T17:26:19.789025Z",
     "start_time": "2021-05-07T17:26:19.085379Z"
    }
   },
   "outputs": [
    {
     "name": "stdout",
     "output_type": "stream",
     "text": [
      "------------------------------------------------------------\n",
      "[i] CLASSIFICATION REPORT\n",
      "------------------------------------------------------------\n",
      "              precision    recall  f1-score   support\n",
      "\n",
      "        Died       0.85      0.82      0.83       170\n",
      "    Survived       0.70      0.74      0.72        98\n",
      "\n",
      "    accuracy                           0.79       268\n",
      "   macro avg       0.77      0.78      0.78       268\n",
      "weighted avg       0.79      0.79      0.79       268\n",
      "\n",
      "------------------------------------------------------------\n"
     ]
    },
    {
     "data": {
      "image/png": "[encoded data removed]",
      "text/plain": [
       "<Figure size 720x360 with 3 Axes>"
      ]
     },
     "metadata": {
      "needs_background": "light"
     },
     "output_type": "display_data"
    }
   ],
   "source": [
    "## Fit and evaluate a logistic regression \n",
    "params  = dict(C=1e5, solver='liblinear')\n",
    "log_reg = LogisticRegression(**params)\n",
    "log_reg.fit(X_train_tf, y_train)\n",
    "\n",
    "evaluate_classification(log_reg,X_test_tf,y_test,\n",
    "                        classes=['Died','Survived']);#,label=str(params));"
   ]
  },
  {
   "cell_type": "markdown",
   "metadata": {},
   "source": [
    "# How to select the best values for our LogisticRegression's hyperparameters"
   ]
  },
  {
   "cell_type": "markdown",
   "metadata": {},
   "source": [
    "## Hyperparameter Tuning: GridSearchCV "
   ]
  },
  {
   "cell_type": "markdown",
   "metadata": {},
   "source": [
    "- C = regularization strenght (inverse)\n",
    "- penalty: 'l1','l2','elasticnet'\n",
    "- solver: (see below)\n",
    "#### `solver` Parameter\n",
    "https://scikit-learn.org/stable/modules/linear_model.html#logistic-regression\n",
    "\n",
    "- The solvers implemented in the class LogisticRegression are “liblinear”, “newton-cg”, “lbfgs”, “sag” and “saga”:\n",
    "\n",
    "- The solver “liblinear” uses a coordinate descent (CD) algorithm, and relies on the excellent C++ LIBLINEAR library, which is shipped with scikit-learn. However, the CD algorithm implemented in liblinear cannot learn a true multinomial (multiclass) model; instead, the optimization problem is decomposed in a “one-vs-rest” fashion so separate binary classifiers are trained for all classes. This happens under the hood, so LogisticRegression instances using this solver behave as multiclass classifiers.\n",
    "\n",
    "\n",
    "\n"
   ]
  },
  {
   "cell_type": "code",
   "execution_count": 235,
   "metadata": {
    "ExecuteTime": {
     "end_time": "2021-05-07T17:26:20.223408Z",
     "start_time": "2021-05-07T17:26:20.218493Z"
    }
   },
   "outputs": [],
   "source": [
    "import warnings\n",
    "warnings.filterwarnings('ignore')"
   ]
  },
  {
   "cell_type": "code",
   "execution_count": 236,
   "metadata": {
    "ExecuteTime": {
     "end_time": "2021-05-07T17:26:20.391129Z",
     "start_time": "2021-05-07T17:26:20.385939Z"
    }
   },
   "outputs": [],
   "source": [
    "from sklearn.model_selection import GridSearchCV, RandomizedSearchCV"
   ]
  },
  {
   "cell_type": "markdown",
   "metadata": {},
   "source": [
    "```python\n",
    "params = {'C':[0.001, 0.01, 0.1, 1, 10, 100,1e6,1e12],\n",
    "        'penalty':['l1','l2','elastic_net'],\n",
    "        'solver':[\"liblinear\", \"newton-cg\", \"lbfgs\", \"sag\",\"saga\"],}\n",
    "```"
   ]
  },
  {
   "cell_type": "code",
   "execution_count": 237,
   "metadata": {
    "ExecuteTime": {
     "end_time": "2021-05-07T17:26:21.221552Z",
     "start_time": "2021-05-07T17:26:21.205802Z"
    }
   },
   "outputs": [
    {
     "data": {
      "text/plain": [
       "GridSearchCV(estimator=LogisticRegression(),\n",
       "             param_grid={'C': [0.001, 0.01, 0.1, 1, 10, 100, 1000000.0,\n",
       "                               1000000000000.0],\n",
       "                         'penalty': ['l1', 'l2', 'elastic_net'],\n",
       "                         'solver': ['liblinear', 'newton-cg', 'lbfgs', 'sag',\n",
       "                                    'saga']})"
      ]
     },
     "execution_count": 237,
     "metadata": {},
     "output_type": "execute_result"
    }
   ],
   "source": [
    "## make gridseach\n",
    "log_reg = LogisticRegression()\n",
    "params = {'C':[0.001, 0.01, 0.1, 1, 10, 100,1e6,1e12],\n",
    "        'penalty':['l1','l2','elastic_net'],\n",
    "        'solver':[\"liblinear\", \"newton-cg\", \"lbfgs\", \"sag\",\"saga\"],}\n",
    "gridsearch = GridSearchCV(log_reg,params,)\n",
    "gridsearch"
   ]
  },
  {
   "cell_type": "code",
   "execution_count": 238,
   "metadata": {
    "ExecuteTime": {
     "end_time": "2021-05-07T17:26:29.400697Z",
     "start_time": "2021-05-07T17:26:22.223947Z"
    }
   },
   "outputs": [
    {
     "data": {
      "text/plain": [
       "{'C': 0.1, 'penalty': 'l2', 'solver': 'liblinear'}"
      ]
     },
     "execution_count": 238,
     "metadata": {},
     "output_type": "execute_result"
    }
   ],
   "source": [
    "## fit grid and show best_params\n",
    "gridsearch.fit(X_train_tf, y_train)\n",
    "gridsearch.best_params_"
   ]
  },
  {
   "cell_type": "code",
   "execution_count": 239,
   "metadata": {
    "ExecuteTime": {
     "end_time": "2021-05-07T17:26:29.415133Z",
     "start_time": "2021-05-07T17:26:29.406017Z"
    }
   },
   "outputs": [
    {
     "data": {
      "text/plain": [
       "LogisticRegression(C=0.1, solver='liblinear')"
      ]
     },
     "execution_count": 239,
     "metadata": {},
     "output_type": "execute_result"
    }
   ],
   "source": [
    "## get best_esinmtaor_\n",
    "gridsearch.best_estimator_"
   ]
  },
  {
   "cell_type": "code",
   "execution_count": 240,
   "metadata": {
    "ExecuteTime": {
     "end_time": "2021-05-07T17:26:30.274308Z",
     "start_time": "2021-05-07T17:26:29.422887Z"
    }
   },
   "outputs": [
    {
     "name": "stdout",
     "output_type": "stream",
     "text": [
      "------------------------------------------------------------\n",
      "[i] CLASSIFICATION REPORT\n",
      "------------------------------------------------------------\n",
      "              precision    recall  f1-score   support\n",
      "\n",
      "           0       0.84      0.84      0.84       170\n",
      "           1       0.72      0.71      0.72        98\n",
      "\n",
      "    accuracy                           0.79       268\n",
      "   macro avg       0.78      0.78      0.78       268\n",
      "weighted avg       0.79      0.79      0.79       268\n",
      "\n",
      "------------------------------------------------------------\n"
     ]
    },
    {
     "data": {
      "image/png": "[encoded data removed]",
      "text/plain": [
       "<Figure size 720x360 with 3 Axes>"
      ]
     },
     "metadata": {
      "needs_background": "light"
     },
     "output_type": "display_data"
    }
   ],
   "source": [
    "## use our evaluate function with the best model\n",
    "evaluate_classification(gridsearch.best_estimator_,X_test_tf,y_test)"
   ]
  },
  {
   "cell_type": "code",
   "execution_count": 241,
   "metadata": {
    "ExecuteTime": {
     "end_time": "2021-05-07T17:26:31.126054Z",
     "start_time": "2021-05-07T17:26:30.279646Z"
    }
   },
   "outputs": [
    {
     "name": "stdout",
     "output_type": "stream",
     "text": [
      "------------------------------------------------------------\n",
      "[i] CLASSIFICATION REPORT\n",
      "------------------------------------------------------------\n",
      "              precision    recall  f1-score   support\n",
      "\n",
      "           0       0.85      0.82      0.83       170\n",
      "           1       0.70      0.74      0.72        98\n",
      "\n",
      "    accuracy                           0.79       268\n",
      "   macro avg       0.77      0.78      0.78       268\n",
      "weighted avg       0.79      0.79      0.79       268\n",
      "\n",
      "------------------------------------------------------------\n"
     ]
    },
    {
     "data": {
      "image/png": "[encoded data removed]",
      "text/plain": [
       "<Figure size 720x360 with 3 Axes>"
      ]
     },
     "metadata": {
      "needs_background": "light"
     },
     "output_type": "display_data"
    }
   ],
   "source": [
    "# params  = dict(C=1e5, solver='liblinear')\n",
    "log_reg = LogisticRegression(C=1e12)#**params)\n",
    "log_reg.fit(X_train_tf, y_train)\n",
    "evaluate_classification(log_reg,X_test_tf,y_test);#,label=str(params));"
   ]
  },
  {
   "cell_type": "markdown",
   "metadata": {
    "ExecuteTime": {
     "end_time": "2021-05-07T16:00:59.916030Z",
     "start_time": "2021-05-07T16:00:59.914173Z"
    }
   },
   "source": [
    "### What about if we wanted better recall?\n"
   ]
  },
  {
   "cell_type": "markdown",
   "metadata": {},
   "source": [
    "> All named scoring options in sklearn:\n",
    "    - https://scikit-learn.org/stable/modules/model_evaluation.html#common-cases-predefined-values"
   ]
  },
  {
   "cell_type": "code",
   "execution_count": 242,
   "metadata": {
    "ExecuteTime": {
     "end_time": "2021-05-07T17:26:39.142920Z",
     "start_time": "2021-05-07T17:26:31.132526Z"
    }
   },
   "outputs": [
    {
     "data": {
      "text/plain": [
       "{'C': 1, 'penalty': 'l1', 'solver': 'saga'}"
      ]
     },
     "execution_count": 242,
     "metadata": {},
     "output_type": "execute_result"
    }
   ],
   "source": [
    "###  paste our code and change scoring='recall'\n",
    "## make gridseach\n",
    "log_reg = LogisticRegression()\n",
    "params = {'C':[0.001, 0.01, 0.1, 1, 10, 100,1e6,1e12],\n",
    "        'penalty':['l1','l2','elastic_net'],\n",
    "        'solver':[\"liblinear\", \"newton-cg\", \"lbfgs\", \"sag\",\"saga\"],}\n",
    "gridsearch = GridSearchCV(log_reg,params,scoring='roc_auc')\n",
    "gridsearch.fit(X_train_tf, y_train)\n",
    "gridsearch.best_params_"
   ]
  },
  {
   "cell_type": "code",
   "execution_count": 243,
   "metadata": {
    "ExecuteTime": {
     "end_time": "2021-05-07T17:26:40.251928Z",
     "start_time": "2021-05-07T17:26:39.147850Z"
    }
   },
   "outputs": [
    {
     "name": "stdout",
     "output_type": "stream",
     "text": [
      "------------------------------------------------------------\n",
      "[i] CLASSIFICATION REPORT\n",
      "------------------------------------------------------------\n",
      "              precision    recall  f1-score   support\n",
      "\n",
      "           0       0.85      0.81      0.83       170\n",
      "           1       0.70      0.74      0.72        98\n",
      "\n",
      "    accuracy                           0.79       268\n",
      "   macro avg       0.77      0.78      0.77       268\n",
      "weighted avg       0.79      0.79      0.79       268\n",
      "\n",
      "------------------------------------------------------------\n"
     ]
    },
    {
     "data": {
      "image/png": "[encoded data removed]",
      "text/plain": [
       "<Figure size 720x360 with 3 Axes>"
      ]
     },
     "metadata": {
      "needs_background": "light"
     },
     "output_type": "display_data"
    }
   ],
   "source": [
    "## evaluate\n",
    "evaluate_classification(gridsearch.best_estimator_,X_test_tf,y_test)"
   ]
  },
  {
   "cell_type": "markdown",
   "metadata": {
    "ExecuteTime": {
     "end_time": "2020-03-25T01:45:43.484160Z",
     "start_time": "2020-03-25T01:45:43.482058Z"
    }
   },
   "source": [
    "# Class Imbalance"
   ]
  },
  {
   "cell_type": "markdown",
   "metadata": {},
   "source": [
    "## Class Imbalance Problems Lab"
   ]
  },
  {
   "cell_type": "code",
   "execution_count": 131,
   "metadata": {
    "ExecuteTime": {
     "end_time": "2021-05-07T17:16:48.333802Z",
     "start_time": "2021-05-07T17:16:44.122260Z"
    }
   },
   "outputs": [
    {
     "data": {
      "text/html": [
       "<div>\n",
       "<style scoped>\n",
       "    .dataframe tbody tr th:only-of-type {\n",
       "        vertical-align: middle;\n",
       "    }\n",
       "\n",
       "    .dataframe tbody tr th {\n",
       "        vertical-align: top;\n",
       "    }\n",
       "\n",
       "    .dataframe thead th {\n",
       "        text-align: right;\n",
       "    }\n",
       "</style>\n",
       "<table border=\"1\" class=\"dataframe\">\n",
       "  <thead>\n",
       "    <tr style=\"text-align: right;\">\n",
       "      <th></th>\n",
       "      <th>Time</th>\n",
       "      <th>V1</th>\n",
       "      <th>V2</th>\n",
       "      <th>V3</th>\n",
       "      <th>V4</th>\n",
       "      <th>V5</th>\n",
       "      <th>V6</th>\n",
       "      <th>V7</th>\n",
       "      <th>V8</th>\n",
       "      <th>V9</th>\n",
       "      <th>...</th>\n",
       "      <th>V21</th>\n",
       "      <th>V22</th>\n",
       "      <th>V23</th>\n",
       "      <th>V24</th>\n",
       "      <th>V25</th>\n",
       "      <th>V26</th>\n",
       "      <th>V27</th>\n",
       "      <th>V28</th>\n",
       "      <th>Amount</th>\n",
       "      <th>Class</th>\n",
       "    </tr>\n",
       "  </thead>\n",
       "  <tbody>\n",
       "    <tr>\n",
       "      <th>0</th>\n",
       "      <td>0.0</td>\n",
       "      <td>-1.359807</td>\n",
       "      <td>-0.072781</td>\n",
       "      <td>2.536347</td>\n",
       "      <td>1.378155</td>\n",
       "      <td>-0.338321</td>\n",
       "      <td>0.462388</td>\n",
       "      <td>0.239599</td>\n",
       "      <td>0.098698</td>\n",
       "      <td>0.363787</td>\n",
       "      <td>...</td>\n",
       "      <td>-0.018307</td>\n",
       "      <td>0.277838</td>\n",
       "      <td>-0.110474</td>\n",
       "      <td>0.066928</td>\n",
       "      <td>0.128539</td>\n",
       "      <td>-0.189115</td>\n",
       "      <td>0.133558</td>\n",
       "      <td>-0.021053</td>\n",
       "      <td>149.62</td>\n",
       "      <td>0</td>\n",
       "    </tr>\n",
       "    <tr>\n",
       "      <th>1</th>\n",
       "      <td>0.0</td>\n",
       "      <td>1.191857</td>\n",
       "      <td>0.266151</td>\n",
       "      <td>0.166480</td>\n",
       "      <td>0.448154</td>\n",
       "      <td>0.060018</td>\n",
       "      <td>-0.082361</td>\n",
       "      <td>-0.078803</td>\n",
       "      <td>0.085102</td>\n",
       "      <td>-0.255425</td>\n",
       "      <td>...</td>\n",
       "      <td>-0.225775</td>\n",
       "      <td>-0.638672</td>\n",
       "      <td>0.101288</td>\n",
       "      <td>-0.339846</td>\n",
       "      <td>0.167170</td>\n",
       "      <td>0.125895</td>\n",
       "      <td>-0.008983</td>\n",
       "      <td>0.014724</td>\n",
       "      <td>2.69</td>\n",
       "      <td>0</td>\n",
       "    </tr>\n",
       "    <tr>\n",
       "      <th>2</th>\n",
       "      <td>1.0</td>\n",
       "      <td>-1.358354</td>\n",
       "      <td>-1.340163</td>\n",
       "      <td>1.773209</td>\n",
       "      <td>0.379780</td>\n",
       "      <td>-0.503198</td>\n",
       "      <td>1.800499</td>\n",
       "      <td>0.791461</td>\n",
       "      <td>0.247676</td>\n",
       "      <td>-1.514654</td>\n",
       "      <td>...</td>\n",
       "      <td>0.247998</td>\n",
       "      <td>0.771679</td>\n",
       "      <td>0.909412</td>\n",
       "      <td>-0.689281</td>\n",
       "      <td>-0.327642</td>\n",
       "      <td>-0.139097</td>\n",
       "      <td>-0.055353</td>\n",
       "      <td>-0.059752</td>\n",
       "      <td>378.66</td>\n",
       "      <td>0</td>\n",
       "    </tr>\n",
       "    <tr>\n",
       "      <th>3</th>\n",
       "      <td>1.0</td>\n",
       "      <td>-0.966272</td>\n",
       "      <td>-0.185226</td>\n",
       "      <td>1.792993</td>\n",
       "      <td>-0.863291</td>\n",
       "      <td>-0.010309</td>\n",
       "      <td>1.247203</td>\n",
       "      <td>0.237609</td>\n",
       "      <td>0.377436</td>\n",
       "      <td>-1.387024</td>\n",
       "      <td>...</td>\n",
       "      <td>-0.108300</td>\n",
       "      <td>0.005274</td>\n",
       "      <td>-0.190321</td>\n",
       "      <td>-1.175575</td>\n",
       "      <td>0.647376</td>\n",
       "      <td>-0.221929</td>\n",
       "      <td>0.062723</td>\n",
       "      <td>0.061458</td>\n",
       "      <td>123.50</td>\n",
       "      <td>0</td>\n",
       "    </tr>\n",
       "    <tr>\n",
       "      <th>4</th>\n",
       "      <td>2.0</td>\n",
       "      <td>-1.158233</td>\n",
       "      <td>0.877737</td>\n",
       "      <td>1.548718</td>\n",
       "      <td>0.403034</td>\n",
       "      <td>-0.407193</td>\n",
       "      <td>0.095921</td>\n",
       "      <td>0.592941</td>\n",
       "      <td>-0.270533</td>\n",
       "      <td>0.817739</td>\n",
       "      <td>...</td>\n",
       "      <td>-0.009431</td>\n",
       "      <td>0.798278</td>\n",
       "      <td>-0.137458</td>\n",
       "      <td>0.141267</td>\n",
       "      <td>-0.206010</td>\n",
       "      <td>0.502292</td>\n",
       "      <td>0.219422</td>\n",
       "      <td>0.215153</td>\n",
       "      <td>69.99</td>\n",
       "      <td>0</td>\n",
       "    </tr>\n",
       "    <tr>\n",
       "      <th>...</th>\n",
       "      <td>...</td>\n",
       "      <td>...</td>\n",
       "      <td>...</td>\n",
       "      <td>...</td>\n",
       "      <td>...</td>\n",
       "      <td>...</td>\n",
       "      <td>...</td>\n",
       "      <td>...</td>\n",
       "      <td>...</td>\n",
       "      <td>...</td>\n",
       "      <td>...</td>\n",
       "      <td>...</td>\n",
       "      <td>...</td>\n",
       "      <td>...</td>\n",
       "      <td>...</td>\n",
       "      <td>...</td>\n",
       "      <td>...</td>\n",
       "      <td>...</td>\n",
       "      <td>...</td>\n",
       "      <td>...</td>\n",
       "      <td>...</td>\n",
       "    </tr>\n",
       "    <tr>\n",
       "      <th>284802</th>\n",
       "      <td>172786.0</td>\n",
       "      <td>-11.881118</td>\n",
       "      <td>10.071785</td>\n",
       "      <td>-9.834783</td>\n",
       "      <td>-2.066656</td>\n",
       "      <td>-5.364473</td>\n",
       "      <td>-2.606837</td>\n",
       "      <td>-4.918215</td>\n",
       "      <td>7.305334</td>\n",
       "      <td>1.914428</td>\n",
       "      <td>...</td>\n",
       "      <td>0.213454</td>\n",
       "      <td>0.111864</td>\n",
       "      <td>1.014480</td>\n",
       "      <td>-0.509348</td>\n",
       "      <td>1.436807</td>\n",
       "      <td>0.250034</td>\n",
       "      <td>0.943651</td>\n",
       "      <td>0.823731</td>\n",
       "      <td>0.77</td>\n",
       "      <td>0</td>\n",
       "    </tr>\n",
       "    <tr>\n",
       "      <th>284803</th>\n",
       "      <td>172787.0</td>\n",
       "      <td>-0.732789</td>\n",
       "      <td>-0.055080</td>\n",
       "      <td>2.035030</td>\n",
       "      <td>-0.738589</td>\n",
       "      <td>0.868229</td>\n",
       "      <td>1.058415</td>\n",
       "      <td>0.024330</td>\n",
       "      <td>0.294869</td>\n",
       "      <td>0.584800</td>\n",
       "      <td>...</td>\n",
       "      <td>0.214205</td>\n",
       "      <td>0.924384</td>\n",
       "      <td>0.012463</td>\n",
       "      <td>-1.016226</td>\n",
       "      <td>-0.606624</td>\n",
       "      <td>-0.395255</td>\n",
       "      <td>0.068472</td>\n",
       "      <td>-0.053527</td>\n",
       "      <td>24.79</td>\n",
       "      <td>0</td>\n",
       "    </tr>\n",
       "    <tr>\n",
       "      <th>284804</th>\n",
       "      <td>172788.0</td>\n",
       "      <td>1.919565</td>\n",
       "      <td>-0.301254</td>\n",
       "      <td>-3.249640</td>\n",
       "      <td>-0.557828</td>\n",
       "      <td>2.630515</td>\n",
       "      <td>3.031260</td>\n",
       "      <td>-0.296827</td>\n",
       "      <td>0.708417</td>\n",
       "      <td>0.432454</td>\n",
       "      <td>...</td>\n",
       "      <td>0.232045</td>\n",
       "      <td>0.578229</td>\n",
       "      <td>-0.037501</td>\n",
       "      <td>0.640134</td>\n",
       "      <td>0.265745</td>\n",
       "      <td>-0.087371</td>\n",
       "      <td>0.004455</td>\n",
       "      <td>-0.026561</td>\n",
       "      <td>67.88</td>\n",
       "      <td>0</td>\n",
       "    </tr>\n",
       "    <tr>\n",
       "      <th>284805</th>\n",
       "      <td>172788.0</td>\n",
       "      <td>-0.240440</td>\n",
       "      <td>0.530483</td>\n",
       "      <td>0.702510</td>\n",
       "      <td>0.689799</td>\n",
       "      <td>-0.377961</td>\n",
       "      <td>0.623708</td>\n",
       "      <td>-0.686180</td>\n",
       "      <td>0.679145</td>\n",
       "      <td>0.392087</td>\n",
       "      <td>...</td>\n",
       "      <td>0.265245</td>\n",
       "      <td>0.800049</td>\n",
       "      <td>-0.163298</td>\n",
       "      <td>0.123205</td>\n",
       "      <td>-0.569159</td>\n",
       "      <td>0.546668</td>\n",
       "      <td>0.108821</td>\n",
       "      <td>0.104533</td>\n",
       "      <td>10.00</td>\n",
       "      <td>0</td>\n",
       "    </tr>\n",
       "    <tr>\n",
       "      <th>284806</th>\n",
       "      <td>172792.0</td>\n",
       "      <td>-0.533413</td>\n",
       "      <td>-0.189733</td>\n",
       "      <td>0.703337</td>\n",
       "      <td>-0.506271</td>\n",
       "      <td>-0.012546</td>\n",
       "      <td>-0.649617</td>\n",
       "      <td>1.577006</td>\n",
       "      <td>-0.414650</td>\n",
       "      <td>0.486180</td>\n",
       "      <td>...</td>\n",
       "      <td>0.261057</td>\n",
       "      <td>0.643078</td>\n",
       "      <td>0.376777</td>\n",
       "      <td>0.008797</td>\n",
       "      <td>-0.473649</td>\n",
       "      <td>-0.818267</td>\n",
       "      <td>-0.002415</td>\n",
       "      <td>0.013649</td>\n",
       "      <td>217.00</td>\n",
       "      <td>0</td>\n",
       "    </tr>\n",
       "  </tbody>\n",
       "</table>\n",
       "<p>284807 rows × 31 columns</p>\n",
       "</div>"
      ],
      "text/plain": [
       "            Time         V1         V2        V3        V4        V5  \\\n",
       "0            0.0  -1.359807  -0.072781  2.536347  1.378155 -0.338321   \n",
       "1            0.0   1.191857   0.266151  0.166480  0.448154  0.060018   \n",
       "2            1.0  -1.358354  -1.340163  1.773209  0.379780 -0.503198   \n",
       "3            1.0  -0.966272  -0.185226  1.792993 -0.863291 -0.010309   \n",
       "4            2.0  -1.158233   0.877737  1.548718  0.403034 -0.407193   \n",
       "...          ...        ...        ...       ...       ...       ...   \n",
       "284802  172786.0 -11.881118  10.071785 -9.834783 -2.066656 -5.364473   \n",
       "284803  172787.0  -0.732789  -0.055080  2.035030 -0.738589  0.868229   \n",
       "284804  172788.0   1.919565  -0.301254 -3.249640 -0.557828  2.630515   \n",
       "284805  172788.0  -0.240440   0.530483  0.702510  0.689799 -0.377961   \n",
       "284806  172792.0  -0.533413  -0.189733  0.703337 -0.506271 -0.012546   \n",
       "\n",
       "              V6        V7        V8        V9  ...       V21       V22  \\\n",
       "0       0.462388  0.239599  0.098698  0.363787  ... -0.018307  0.277838   \n",
       "1      -0.082361 -0.078803  0.085102 -0.255425  ... -0.225775 -0.638672   \n",
       "2       1.800499  0.791461  0.247676 -1.514654  ...  0.247998  0.771679   \n",
       "3       1.247203  0.237609  0.377436 -1.387024  ... -0.108300  0.005274   \n",
       "4       0.095921  0.592941 -0.270533  0.817739  ... -0.009431  0.798278   \n",
       "...          ...       ...       ...       ...  ...       ...       ...   \n",
       "284802 -2.606837 -4.918215  7.305334  1.914428  ...  0.213454  0.111864   \n",
       "284803  1.058415  0.024330  0.294869  0.584800  ...  0.214205  0.924384   \n",
       "284804  3.031260 -0.296827  0.708417  0.432454  ...  0.232045  0.578229   \n",
       "284805  0.623708 -0.686180  0.679145  0.392087  ...  0.265245  0.800049   \n",
       "284806 -0.649617  1.577006 -0.414650  0.486180  ...  0.261057  0.643078   \n",
       "\n",
       "             V23       V24       V25       V26       V27       V28  Amount  \\\n",
       "0      -0.110474  0.066928  0.128539 -0.189115  0.133558 -0.021053  149.62   \n",
       "1       0.101288 -0.339846  0.167170  0.125895 -0.008983  0.014724    2.69   \n",
       "2       0.909412 -0.689281 -0.327642 -0.139097 -0.055353 -0.059752  378.66   \n",
       "3      -0.190321 -1.175575  0.647376 -0.221929  0.062723  0.061458  123.50   \n",
       "4      -0.137458  0.141267 -0.206010  0.502292  0.219422  0.215153   69.99   \n",
       "...          ...       ...       ...       ...       ...       ...     ...   \n",
       "284802  1.014480 -0.509348  1.436807  0.250034  0.943651  0.823731    0.77   \n",
       "284803  0.012463 -1.016226 -0.606624 -0.395255  0.068472 -0.053527   24.79   \n",
       "284804 -0.037501  0.640134  0.265745 -0.087371  0.004455 -0.026561   67.88   \n",
       "284805 -0.163298  0.123205 -0.569159  0.546668  0.108821  0.104533   10.00   \n",
       "284806  0.376777  0.008797 -0.473649 -0.818267 -0.002415  0.013649  217.00   \n",
       "\n",
       "        Class  \n",
       "0           0  \n",
       "1           0  \n",
       "2           0  \n",
       "3           0  \n",
       "4           0  \n",
       "...       ...  \n",
       "284802      0  \n",
       "284803      0  \n",
       "284804      0  \n",
       "284805      0  \n",
       "284806      0  \n",
       "\n",
       "[284807 rows x 31 columns]"
      ]
     },
     "execution_count": 131,
     "metadata": {},
     "output_type": "execute_result"
    }
   ],
   "source": [
    "df = pd.read_csv('creditcard.csv.gz')\n",
    "df"
   ]
  },
  {
   "cell_type": "code",
   "execution_count": 132,
   "metadata": {
    "ExecuteTime": {
     "end_time": "2021-05-07T17:16:48.564066Z",
     "start_time": "2021-05-07T17:16:48.337186Z"
    }
   },
   "outputs": [
    {
     "data": {
      "text/plain": [
       "0    0.998258\n",
       "1    0.001742\n",
       "Name: Class, dtype: float64"
      ]
     },
     "execution_count": 132,
     "metadata": {},
     "output_type": "execute_result"
    }
   ],
   "source": [
    "target = 'Class'\n",
    "y = df[target].copy()\n",
    "X = df.drop(columns=target).copy()\n",
    "\n",
    "X_train, X_test, y_train, y_test = train_test_split(X, y, random_state=0)\n",
    "\n",
    "y_train.value_counts(1)"
   ]
  },
  {
   "cell_type": "markdown",
   "metadata": {
    "ExecuteTime": {
     "end_time": "2020-03-25T01:23:40.070054Z",
     "start_time": "2020-03-25T01:23:39.265821Z"
    }
   },
   "source": [
    "### When metrics can be misleading...\n",
    "- i.e. accuracy\n"
   ]
  },
  {
   "cell_type": "code",
   "execution_count": 133,
   "metadata": {
    "ExecuteTime": {
     "end_time": "2021-05-07T17:17:08.318018Z",
     "start_time": "2021-05-07T17:17:04.819996Z"
    }
   },
   "outputs": [
    {
     "data": {
      "text/plain": [
       "0.9984691441251651"
      ]
     },
     "execution_count": 133,
     "metadata": {},
     "output_type": "execute_result"
    }
   ],
   "source": [
    "# from sklearn\n",
    "params = dict(fit_intercept=False,C=1e12, solver='liblinear')\n",
    "regr = LogisticRegression(**params)#fit_intercept=False,C=1e12, solver='liblinear')\n",
    "regr.fit(X_train, y_train)\n",
    "\n",
    "regr.score(X_test,y_test)"
   ]
  },
  {
   "cell_type": "markdown",
   "metadata": {},
   "source": [
    "> ### Woohoo! We must have an amazing model!!..."
   ]
  },
  {
   "cell_type": "code",
   "execution_count": 135,
   "metadata": {
    "ExecuteTime": {
     "end_time": "2021-05-07T17:17:40.626991Z",
     "start_time": "2021-05-07T17:17:39.558920Z"
    }
   },
   "outputs": [
    {
     "name": "stdout",
     "output_type": "stream",
     "text": [
      "------------------------------------------------------------\n",
      "[i] CLASSIFICATION REPORT\n",
      "------------------------------------------------------------\n",
      "              precision    recall  f1-score   support\n",
      "\n",
      "           0       1.00      1.00      1.00     71082\n",
      "           1       0.54      0.56      0.55       120\n",
      "\n",
      "    accuracy                           1.00     71202\n",
      "   macro avg       0.77      0.78      0.78     71202\n",
      "weighted avg       1.00      1.00      1.00     71202\n",
      "\n",
      "------------------------------------------------------------\n"
     ]
    },
    {
     "data": {
      "image/png": "[encoded data removed]",
      "text/plain": [
       "<Figure size 720x360 with 3 Axes>"
      ]
     },
     "metadata": {
      "needs_background": "light"
     },
     "output_type": "display_data"
    }
   ],
   "source": [
    "evaluate_classification(regr,X_test, y_test)#,label='Imbalanced');"
   ]
  },
  {
   "cell_type": "code",
   "execution_count": 136,
   "metadata": {
    "ExecuteTime": {
     "end_time": "2021-05-07T17:17:42.807284Z",
     "start_time": "2021-05-07T17:17:42.795868Z"
    }
   },
   "outputs": [
    {
     "data": {
      "text/plain": [
       "0    0.998315\n",
       "1    0.001685\n",
       "Name: Class, dtype: float64"
      ]
     },
     "execution_count": 136,
     "metadata": {},
     "output_type": "execute_result"
    }
   ],
   "source": [
    "y_test.value_counts(normalize=True)"
   ]
  },
  {
   "cell_type": "markdown",
   "metadata": {},
   "source": [
    "### DummyClassifier for Dummies"
   ]
  },
  {
   "cell_type": "code",
   "execution_count": 138,
   "metadata": {
    "ExecuteTime": {
     "end_time": "2021-05-07T17:17:53.036474Z",
     "start_time": "2021-05-07T17:17:53.002739Z"
    }
   },
   "outputs": [
    {
     "data": {
      "text/plain": [
       "0.9966854863627426"
      ]
     },
     "execution_count": 138,
     "metadata": {},
     "output_type": "execute_result"
    }
   ],
   "source": [
    "from sklearn.dummy import DummyClassifier\n",
    "\n",
    "## Let's guess 0 for every observation\n",
    "dummy = DummyClassifier(strategy='stratified')#,constant=0)\n",
    "\n",
    "preds = dummy.fit(X_train,y_train).predict(X_test)\n",
    "\n",
    "## How did we do?\n",
    "dummy.score(X_test,y_test)"
   ]
  },
  {
   "cell_type": "code",
   "execution_count": 139,
   "metadata": {
    "ExecuteTime": {
     "end_time": "2021-05-07T17:17:59.317074Z",
     "start_time": "2021-05-07T17:17:58.258791Z"
    }
   },
   "outputs": [
    {
     "name": "stdout",
     "output_type": "stream",
     "text": [
      "------------------------------------------------------------\n",
      "[i] CLASSIFICATION REPORT\n",
      "------------------------------------------------------------\n",
      "              precision    recall  f1-score   support\n",
      "\n",
      "           0       1.00      1.00      1.00     71082\n",
      "           1       0.00      0.00      0.00       120\n",
      "\n",
      "    accuracy                           1.00     71202\n",
      "   macro avg       0.50      0.50      0.50     71202\n",
      "weighted avg       1.00      1.00      1.00     71202\n",
      "\n",
      "------------------------------------------------------------\n"
     ]
    },
    {
     "data": {
      "image/png": "[encoded data removed]",
      "text/plain": [
       "<Figure size 720x360 with 3 Axes>"
      ]
     },
     "metadata": {
      "needs_background": "light"
     },
     "output_type": "display_data"
    }
   ],
   "source": [
    "evaluate_classification(dummy,X_test, y_test)#,label='Dummy');"
   ]
  },
  {
   "cell_type": "markdown",
   "metadata": {},
   "source": [
    "> So what can we do?"
   ]
  },
  {
   "cell_type": "markdown",
   "metadata": {},
   "source": [
    "## Options for Dealing with Class Imbalance"
   ]
  },
  {
   "cell_type": "markdown",
   "metadata": {},
   "source": [
    "- Using `class_weight` parameter \n",
    "- Oversampling the minority class\n",
    "- Undersampling the majority class"
   ]
  },
  {
   "cell_type": "code",
   "execution_count": 140,
   "metadata": {
    "ExecuteTime": {
     "end_time": "2021-05-07T17:19:13.910351Z",
     "start_time": "2021-05-07T17:19:10.503900Z"
    }
   },
   "outputs": [
    {
     "name": "stdout",
     "output_type": "stream",
     "text": [
      "------------------------------------------------------------\n",
      "[i] CLASSIFICATION REPORT\n",
      "------------------------------------------------------------\n",
      "              precision    recall  f1-score   support\n",
      "\n",
      "           0       1.00      1.00      1.00     71082\n",
      "           1       0.54      0.56      0.55       120\n",
      "\n",
      "    accuracy                           1.00     71202\n",
      "   macro avg       0.77      0.78      0.78     71202\n",
      "weighted avg       1.00      1.00      1.00     71202\n",
      "\n",
      "------------------------------------------------------------\n",
      "{'fit_intercept': False, 'C': 1000000000000.0, 'solver': 'liblinear'}\n"
     ]
    },
    {
     "data": {
      "image/png": "[encoded data removed]",
      "text/plain": [
       "<Figure size 720x360 with 3 Axes>"
      ]
     },
     "metadata": {
      "needs_background": "light"
     },
     "output_type": "display_data"
    }
   ],
   "source": [
    "## Baseline Model using lesson paras\n",
    "regr = LogisticRegression(**params)\n",
    "regr.fit(X_train, y_train)\n",
    "evaluate_classification(regr,X_test,y_test)#,label=\"BASELINE\" )\n",
    "print(params)#str(params))"
   ]
  },
  {
   "cell_type": "markdown",
   "metadata": {},
   "source": [
    "### Solution 1: `class_weight=\"balanced\"`\n"
   ]
  },
  {
   "cell_type": "code",
   "execution_count": 144,
   "metadata": {
    "ExecuteTime": {
     "end_time": "2021-05-07T17:19:54.161219Z",
     "start_time": "2021-05-07T17:19:54.157940Z"
    }
   },
   "outputs": [],
   "source": [
    "params = dict(fit_intercept=False,C=1e12, solver='liblinear')"
   ]
  },
  {
   "cell_type": "code",
   "execution_count": 145,
   "metadata": {
    "ExecuteTime": {
     "end_time": "2021-05-07T17:20:13.876343Z",
     "start_time": "2021-05-07T17:20:03.875560Z"
    }
   },
   "outputs": [
    {
     "name": "stdout",
     "output_type": "stream",
     "text": [
      "------------------------------------------------------------\n",
      "[i] CLASSIFICATION REPORT\n",
      "------------------------------------------------------------\n",
      "              precision    recall  f1-score   support\n",
      "\n",
      "           0       1.00      0.97      0.98     71082\n",
      "           1       0.05      0.91      0.09       120\n",
      "\n",
      "    accuracy                           0.97     71202\n",
      "   macro avg       0.52      0.94      0.54     71202\n",
      "weighted avg       1.00      0.97      0.98     71202\n",
      "\n",
      "------------------------------------------------------------\n"
     ]
    },
    {
     "data": {
      "image/png": "[encoded data removed]",
      "text/plain": [
       "<Figure size 720x360 with 3 Axes>"
      ]
     },
     "metadata": {
      "needs_background": "light"
     },
     "output_type": "display_data"
    }
   ],
   "source": [
    "regr = LogisticRegression(class_weight='balanced',**params)\n",
    "regr.fit(X_train, y_train)\n",
    "evaluate_classification(regr,X_test,y_test)#,label='balanced')"
   ]
  },
  {
   "cell_type": "markdown",
   "metadata": {},
   "source": [
    "### Solution 2: Oversampling minority class with SMOTE"
   ]
  },
  {
   "cell_type": "code",
   "execution_count": 146,
   "metadata": {
    "ExecuteTime": {
     "end_time": "2021-05-07T17:20:56.406714Z",
     "start_time": "2021-05-07T17:20:56.397773Z"
    }
   },
   "outputs": [
    {
     "data": {
      "text/plain": [
       "0    213233\n",
       "1       372\n",
       "Name: Class, dtype: int64"
      ]
     },
     "execution_count": 146,
     "metadata": {},
     "output_type": "execute_result"
    }
   ],
   "source": [
    "y_train.value_counts(0)"
   ]
  },
  {
   "cell_type": "code",
   "execution_count": 147,
   "metadata": {
    "ExecuteTime": {
     "end_time": "2021-05-07T17:20:59.241146Z",
     "start_time": "2021-05-07T17:20:58.746330Z"
    }
   },
   "outputs": [],
   "source": [
    "# !pip install -U imblearn\n",
    "from imblearn.over_sampling import SMOTE,SMOTENC"
   ]
  },
  {
   "cell_type": "code",
   "execution_count": 148,
   "metadata": {
    "ExecuteTime": {
     "end_time": "2021-05-07T17:21:15.178244Z",
     "start_time": "2021-05-07T17:21:14.441769Z"
    }
   },
   "outputs": [
    {
     "data": {
      "text/plain": [
       "1    213233\n",
       "0    213233\n",
       "Name: Class, dtype: int64"
      ]
     },
     "execution_count": 148,
     "metadata": {},
     "output_type": "execute_result"
    }
   ],
   "source": [
    "smote = SMOTE()\n",
    "\n",
    "X_train_smote, y_train_smote = smote.fit_sample(X_train,y_train)\n",
    "pd.Series(y_train_smote).value_counts()"
   ]
  },
  {
   "cell_type": "code",
   "execution_count": 149,
   "metadata": {
    "ExecuteTime": {
     "end_time": "2021-05-07T17:21:44.120966Z",
     "start_time": "2021-05-07T17:21:37.414552Z"
    }
   },
   "outputs": [
    {
     "name": "stdout",
     "output_type": "stream",
     "text": [
      "------------------------------------------------------------\n",
      "[i] CLASSIFICATION REPORT\n",
      "------------------------------------------------------------\n",
      "              precision    recall  f1-score   support\n",
      "\n",
      "           0       1.00      0.98      0.99     71082\n",
      "           1       0.07      0.88      0.13       120\n",
      "\n",
      "    accuracy                           0.98     71202\n",
      "   macro avg       0.53      0.93      0.56     71202\n",
      "weighted avg       1.00      0.98      0.99     71202\n",
      "\n",
      "------------------------------------------------------------\n"
     ]
    },
    {
     "data": {
      "image/png": "[encoded data removed]",
      "text/plain": [
       "<Figure size 720x360 with 3 Axes>"
      ]
     },
     "metadata": {
      "needs_background": "light"
     },
     "output_type": "display_data"
    }
   ],
   "source": [
    "regr = LogisticRegression(**params)#class_weight='balanced',C=1e5, solver='liblinear')\n",
    "regr.fit(X_train_smote, y_train_smote)\n",
    "evaluate_classification(regr,X_test,y_test)#,label='SMOTE')"
   ]
  },
  {
   "cell_type": "markdown",
   "metadata": {},
   "source": [
    "### Solution 3: Undersampling majority class"
   ]
  },
  {
   "cell_type": "code",
   "execution_count": 150,
   "metadata": {
    "ExecuteTime": {
     "end_time": "2021-05-07T17:22:20.041081Z",
     "start_time": "2021-05-07T17:22:19.889530Z"
    }
   },
   "outputs": [
    {
     "data": {
      "text/html": [
       "<div>\n",
       "<style scoped>\n",
       "    .dataframe tbody tr th:only-of-type {\n",
       "        vertical-align: middle;\n",
       "    }\n",
       "\n",
       "    .dataframe tbody tr th {\n",
       "        vertical-align: top;\n",
       "    }\n",
       "\n",
       "    .dataframe thead th {\n",
       "        text-align: right;\n",
       "    }\n",
       "</style>\n",
       "<table border=\"1\" class=\"dataframe\">\n",
       "  <thead>\n",
       "    <tr style=\"text-align: right;\">\n",
       "      <th></th>\n",
       "      <th>Time</th>\n",
       "      <th>V1</th>\n",
       "      <th>V2</th>\n",
       "      <th>V3</th>\n",
       "      <th>V4</th>\n",
       "      <th>V5</th>\n",
       "      <th>V6</th>\n",
       "      <th>V7</th>\n",
       "      <th>V8</th>\n",
       "      <th>V9</th>\n",
       "      <th>...</th>\n",
       "      <th>V21</th>\n",
       "      <th>V22</th>\n",
       "      <th>V23</th>\n",
       "      <th>V24</th>\n",
       "      <th>V25</th>\n",
       "      <th>V26</th>\n",
       "      <th>V27</th>\n",
       "      <th>V28</th>\n",
       "      <th>Amount</th>\n",
       "      <th>Class</th>\n",
       "    </tr>\n",
       "  </thead>\n",
       "  <tbody>\n",
       "    <tr>\n",
       "      <th>194763</th>\n",
       "      <td>130747.0</td>\n",
       "      <td>2.047163</td>\n",
       "      <td>0.107987</td>\n",
       "      <td>-1.806515</td>\n",
       "      <td>0.072733</td>\n",
       "      <td>0.248371</td>\n",
       "      <td>-1.744837</td>\n",
       "      <td>0.712448</td>\n",
       "      <td>-0.488842</td>\n",
       "      <td>-0.102709</td>\n",
       "      <td>...</td>\n",
       "      <td>0.241017</td>\n",
       "      <td>0.822618</td>\n",
       "      <td>0.023000</td>\n",
       "      <td>0.549868</td>\n",
       "      <td>0.322173</td>\n",
       "      <td>0.191755</td>\n",
       "      <td>-0.085025</td>\n",
       "      <td>-0.084292</td>\n",
       "      <td>0.77</td>\n",
       "      <td>0</td>\n",
       "    </tr>\n",
       "    <tr>\n",
       "      <th>135660</th>\n",
       "      <td>81344.0</td>\n",
       "      <td>1.282404</td>\n",
       "      <td>0.459864</td>\n",
       "      <td>-0.372286</td>\n",
       "      <td>0.826375</td>\n",
       "      <td>0.463568</td>\n",
       "      <td>-0.466407</td>\n",
       "      <td>0.460867</td>\n",
       "      <td>-0.186469</td>\n",
       "      <td>-0.549700</td>\n",
       "      <td>...</td>\n",
       "      <td>0.013986</td>\n",
       "      <td>0.083896</td>\n",
       "      <td>-0.247504</td>\n",
       "      <td>-0.325527</td>\n",
       "      <td>0.927293</td>\n",
       "      <td>-0.272555</td>\n",
       "      <td>-0.010168</td>\n",
       "      <td>-0.005332</td>\n",
       "      <td>1.79</td>\n",
       "      <td>0</td>\n",
       "    </tr>\n",
       "    <tr>\n",
       "      <th>259186</th>\n",
       "      <td>159004.0</td>\n",
       "      <td>-0.414863</td>\n",
       "      <td>0.012026</td>\n",
       "      <td>1.356386</td>\n",
       "      <td>1.107374</td>\n",
       "      <td>0.813456</td>\n",
       "      <td>-0.156497</td>\n",
       "      <td>-0.372675</td>\n",
       "      <td>0.031095</td>\n",
       "      <td>-0.100143</td>\n",
       "      <td>...</td>\n",
       "      <td>-0.052272</td>\n",
       "      <td>-0.088160</td>\n",
       "      <td>0.062521</td>\n",
       "      <td>-0.680805</td>\n",
       "      <td>-0.641474</td>\n",
       "      <td>-0.159995</td>\n",
       "      <td>0.237628</td>\n",
       "      <td>0.204343</td>\n",
       "      <td>5.95</td>\n",
       "      <td>0</td>\n",
       "    </tr>\n",
       "    <tr>\n",
       "      <th>87387</th>\n",
       "      <td>61662.0</td>\n",
       "      <td>-1.432948</td>\n",
       "      <td>1.478076</td>\n",
       "      <td>0.576724</td>\n",
       "      <td>0.207540</td>\n",
       "      <td>-0.670662</td>\n",
       "      <td>-0.464572</td>\n",
       "      <td>0.221023</td>\n",
       "      <td>-0.099811</td>\n",
       "      <td>1.561896</td>\n",
       "      <td>...</td>\n",
       "      <td>-0.055014</td>\n",
       "      <td>0.364330</td>\n",
       "      <td>0.154670</td>\n",
       "      <td>0.635611</td>\n",
       "      <td>-0.366314</td>\n",
       "      <td>0.163690</td>\n",
       "      <td>-0.750285</td>\n",
       "      <td>-0.275117</td>\n",
       "      <td>9.20</td>\n",
       "      <td>0</td>\n",
       "    </tr>\n",
       "    <tr>\n",
       "      <th>267282</th>\n",
       "      <td>162703.0</td>\n",
       "      <td>2.051016</td>\n",
       "      <td>-0.016765</td>\n",
       "      <td>-2.284865</td>\n",
       "      <td>0.302168</td>\n",
       "      <td>0.786895</td>\n",
       "      <td>-0.998558</td>\n",
       "      <td>0.768990</td>\n",
       "      <td>-0.464383</td>\n",
       "      <td>0.362863</td>\n",
       "      <td>...</td>\n",
       "      <td>0.133331</td>\n",
       "      <td>0.491780</td>\n",
       "      <td>-0.119020</td>\n",
       "      <td>0.527179</td>\n",
       "      <td>0.607105</td>\n",
       "      <td>-0.090453</td>\n",
       "      <td>-0.065787</td>\n",
       "      <td>-0.062680</td>\n",
       "      <td>47.53</td>\n",
       "      <td>0</td>\n",
       "    </tr>\n",
       "    <tr>\n",
       "      <th>...</th>\n",
       "      <td>...</td>\n",
       "      <td>...</td>\n",
       "      <td>...</td>\n",
       "      <td>...</td>\n",
       "      <td>...</td>\n",
       "      <td>...</td>\n",
       "      <td>...</td>\n",
       "      <td>...</td>\n",
       "      <td>...</td>\n",
       "      <td>...</td>\n",
       "      <td>...</td>\n",
       "      <td>...</td>\n",
       "      <td>...</td>\n",
       "      <td>...</td>\n",
       "      <td>...</td>\n",
       "      <td>...</td>\n",
       "      <td>...</td>\n",
       "      <td>...</td>\n",
       "      <td>...</td>\n",
       "      <td>...</td>\n",
       "      <td>...</td>\n",
       "    </tr>\n",
       "    <tr>\n",
       "      <th>211543</th>\n",
       "      <td>138459.0</td>\n",
       "      <td>-1.321976</td>\n",
       "      <td>1.138686</td>\n",
       "      <td>-0.940861</td>\n",
       "      <td>0.154160</td>\n",
       "      <td>0.109802</td>\n",
       "      <td>-0.538822</td>\n",
       "      <td>0.490058</td>\n",
       "      <td>0.513762</td>\n",
       "      <td>-0.493834</td>\n",
       "      <td>...</td>\n",
       "      <td>-0.012778</td>\n",
       "      <td>-0.237503</td>\n",
       "      <td>0.008713</td>\n",
       "      <td>-0.767844</td>\n",
       "      <td>-0.397162</td>\n",
       "      <td>0.316379</td>\n",
       "      <td>-0.463125</td>\n",
       "      <td>-0.010589</td>\n",
       "      <td>49.89</td>\n",
       "      <td>0</td>\n",
       "    </tr>\n",
       "    <tr>\n",
       "      <th>86293</th>\n",
       "      <td>61167.0</td>\n",
       "      <td>-0.627810</td>\n",
       "      <td>0.918729</td>\n",
       "      <td>1.478453</td>\n",
       "      <td>0.213171</td>\n",
       "      <td>0.933695</td>\n",
       "      <td>1.261486</td>\n",
       "      <td>0.504752</td>\n",
       "      <td>0.404286</td>\n",
       "      <td>-0.939740</td>\n",
       "      <td>...</td>\n",
       "      <td>-0.051356</td>\n",
       "      <td>-0.004245</td>\n",
       "      <td>0.090535</td>\n",
       "      <td>-0.964599</td>\n",
       "      <td>-0.522294</td>\n",
       "      <td>0.296733</td>\n",
       "      <td>0.145939</td>\n",
       "      <td>0.110400</td>\n",
       "      <td>24.99</td>\n",
       "      <td>0</td>\n",
       "    </tr>\n",
       "    <tr>\n",
       "      <th>122579</th>\n",
       "      <td>76616.0</td>\n",
       "      <td>1.512602</td>\n",
       "      <td>-0.949435</td>\n",
       "      <td>-0.219062</td>\n",
       "      <td>-1.638850</td>\n",
       "      <td>-0.856348</td>\n",
       "      <td>-0.465996</td>\n",
       "      <td>-0.669193</td>\n",
       "      <td>-0.135566</td>\n",
       "      <td>-2.284345</td>\n",
       "      <td>...</td>\n",
       "      <td>-0.558803</td>\n",
       "      <td>-1.377240</td>\n",
       "      <td>0.080444</td>\n",
       "      <td>-0.579511</td>\n",
       "      <td>0.297851</td>\n",
       "      <td>-0.495367</td>\n",
       "      <td>-0.001415</td>\n",
       "      <td>0.003665</td>\n",
       "      <td>34.90</td>\n",
       "      <td>0</td>\n",
       "    </tr>\n",
       "    <tr>\n",
       "      <th>152315</th>\n",
       "      <td>97253.0</td>\n",
       "      <td>1.798863</td>\n",
       "      <td>-1.699791</td>\n",
       "      <td>-0.142182</td>\n",
       "      <td>-0.619533</td>\n",
       "      <td>-1.570248</td>\n",
       "      <td>0.083268</td>\n",
       "      <td>-1.501980</td>\n",
       "      <td>0.176287</td>\n",
       "      <td>1.755507</td>\n",
       "      <td>...</td>\n",
       "      <td>0.181914</td>\n",
       "      <td>0.351358</td>\n",
       "      <td>0.115638</td>\n",
       "      <td>-0.566188</td>\n",
       "      <td>-0.596200</td>\n",
       "      <td>-0.295152</td>\n",
       "      <td>-0.033616</td>\n",
       "      <td>-0.032471</td>\n",
       "      <td>171.31</td>\n",
       "      <td>0</td>\n",
       "    </tr>\n",
       "    <tr>\n",
       "      <th>117952</th>\n",
       "      <td>74887.0</td>\n",
       "      <td>-0.589400</td>\n",
       "      <td>0.747828</td>\n",
       "      <td>1.784781</td>\n",
       "      <td>0.899612</td>\n",
       "      <td>0.257067</td>\n",
       "      <td>-0.001301</td>\n",
       "      <td>0.122334</td>\n",
       "      <td>0.034736</td>\n",
       "      <td>-0.283998</td>\n",
       "      <td>...</td>\n",
       "      <td>-0.008910</td>\n",
       "      <td>0.000367</td>\n",
       "      <td>-0.238139</td>\n",
       "      <td>-0.463529</td>\n",
       "      <td>-0.243573</td>\n",
       "      <td>-0.370920</td>\n",
       "      <td>0.086592</td>\n",
       "      <td>0.118084</td>\n",
       "      <td>15.99</td>\n",
       "      <td>0</td>\n",
       "    </tr>\n",
       "  </tbody>\n",
       "</table>\n",
       "<p>213605 rows × 31 columns</p>\n",
       "</div>"
      ],
      "text/plain": [
       "            Time        V1        V2        V3        V4        V5        V6  \\\n",
       "194763  130747.0  2.047163  0.107987 -1.806515  0.072733  0.248371 -1.744837   \n",
       "135660   81344.0  1.282404  0.459864 -0.372286  0.826375  0.463568 -0.466407   \n",
       "259186  159004.0 -0.414863  0.012026  1.356386  1.107374  0.813456 -0.156497   \n",
       "87387    61662.0 -1.432948  1.478076  0.576724  0.207540 -0.670662 -0.464572   \n",
       "267282  162703.0  2.051016 -0.016765 -2.284865  0.302168  0.786895 -0.998558   \n",
       "...          ...       ...       ...       ...       ...       ...       ...   \n",
       "211543  138459.0 -1.321976  1.138686 -0.940861  0.154160  0.109802 -0.538822   \n",
       "86293    61167.0 -0.627810  0.918729  1.478453  0.213171  0.933695  1.261486   \n",
       "122579   76616.0  1.512602 -0.949435 -0.219062 -1.638850 -0.856348 -0.465996   \n",
       "152315   97253.0  1.798863 -1.699791 -0.142182 -0.619533 -1.570248  0.083268   \n",
       "117952   74887.0 -0.589400  0.747828  1.784781  0.899612  0.257067 -0.001301   \n",
       "\n",
       "              V7        V8        V9  ...       V21       V22       V23  \\\n",
       "194763  0.712448 -0.488842 -0.102709  ...  0.241017  0.822618  0.023000   \n",
       "135660  0.460867 -0.186469 -0.549700  ...  0.013986  0.083896 -0.247504   \n",
       "259186 -0.372675  0.031095 -0.100143  ... -0.052272 -0.088160  0.062521   \n",
       "87387   0.221023 -0.099811  1.561896  ... -0.055014  0.364330  0.154670   \n",
       "267282  0.768990 -0.464383  0.362863  ...  0.133331  0.491780 -0.119020   \n",
       "...          ...       ...       ...  ...       ...       ...       ...   \n",
       "211543  0.490058  0.513762 -0.493834  ... -0.012778 -0.237503  0.008713   \n",
       "86293   0.504752  0.404286 -0.939740  ... -0.051356 -0.004245  0.090535   \n",
       "122579 -0.669193 -0.135566 -2.284345  ... -0.558803 -1.377240  0.080444   \n",
       "152315 -1.501980  0.176287  1.755507  ...  0.181914  0.351358  0.115638   \n",
       "117952  0.122334  0.034736 -0.283998  ... -0.008910  0.000367 -0.238139   \n",
       "\n",
       "             V24       V25       V26       V27       V28  Amount  Class  \n",
       "194763  0.549868  0.322173  0.191755 -0.085025 -0.084292    0.77      0  \n",
       "135660 -0.325527  0.927293 -0.272555 -0.010168 -0.005332    1.79      0  \n",
       "259186 -0.680805 -0.641474 -0.159995  0.237628  0.204343    5.95      0  \n",
       "87387   0.635611 -0.366314  0.163690 -0.750285 -0.275117    9.20      0  \n",
       "267282  0.527179  0.607105 -0.090453 -0.065787 -0.062680   47.53      0  \n",
       "...          ...       ...       ...       ...       ...     ...    ...  \n",
       "211543 -0.767844 -0.397162  0.316379 -0.463125 -0.010589   49.89      0  \n",
       "86293  -0.964599 -0.522294  0.296733  0.145939  0.110400   24.99      0  \n",
       "122579 -0.579511  0.297851 -0.495367 -0.001415  0.003665   34.90      0  \n",
       "152315 -0.566188 -0.596200 -0.295152 -0.033616 -0.032471  171.31      0  \n",
       "117952 -0.463529 -0.243573 -0.370920  0.086592  0.118084   15.99      0  \n",
       "\n",
       "[213605 rows x 31 columns]"
      ]
     },
     "execution_count": 150,
     "metadata": {},
     "output_type": "execute_result"
    }
   ],
   "source": [
    "df_balance = pd.concat([X_train, y_train],axis=1)\n",
    "df_balance"
   ]
  },
  {
   "cell_type": "code",
   "execution_count": 151,
   "metadata": {
    "ExecuteTime": {
     "end_time": "2021-05-07T17:22:22.254313Z",
     "start_time": "2021-05-07T17:22:22.246709Z"
    }
   },
   "outputs": [
    {
     "data": {
      "text/plain": [
       "372"
      ]
     },
     "execution_count": 151,
     "metadata": {},
     "output_type": "execute_result"
    }
   ],
   "source": [
    "n_samples = df_balance['Class'].value_counts().min()\n",
    "n_samples"
   ]
  },
  {
   "cell_type": "code",
   "execution_count": 152,
   "metadata": {
    "ExecuteTime": {
     "end_time": "2021-05-07T17:22:25.785864Z",
     "start_time": "2021-05-07T17:22:25.770310Z"
    }
   },
   "outputs": [
    {
     "data": {
      "text/plain": [
       "dict_keys([0, 1])"
      ]
     },
     "execution_count": 152,
     "metadata": {},
     "output_type": "execute_result"
    }
   ],
   "source": [
    "df_balance.groupby('Class').groups.keys()"
   ]
  },
  {
   "cell_type": "code",
   "execution_count": 154,
   "metadata": {
    "ExecuteTime": {
     "end_time": "2021-05-07T17:22:58.486767Z",
     "start_time": "2021-05-07T17:22:58.319174Z"
    }
   },
   "outputs": [
    {
     "data": {
      "text/html": [
       "<div>\n",
       "<style scoped>\n",
       "    .dataframe tbody tr th:only-of-type {\n",
       "        vertical-align: middle;\n",
       "    }\n",
       "\n",
       "    .dataframe tbody tr th {\n",
       "        vertical-align: top;\n",
       "    }\n",
       "\n",
       "    .dataframe thead th {\n",
       "        text-align: right;\n",
       "    }\n",
       "</style>\n",
       "<table border=\"1\" class=\"dataframe\">\n",
       "  <thead>\n",
       "    <tr style=\"text-align: right;\">\n",
       "      <th></th>\n",
       "      <th>Time</th>\n",
       "      <th>V1</th>\n",
       "      <th>V2</th>\n",
       "      <th>V3</th>\n",
       "      <th>V4</th>\n",
       "      <th>V5</th>\n",
       "      <th>V6</th>\n",
       "      <th>V7</th>\n",
       "      <th>V8</th>\n",
       "      <th>V9</th>\n",
       "      <th>...</th>\n",
       "      <th>V21</th>\n",
       "      <th>V22</th>\n",
       "      <th>V23</th>\n",
       "      <th>V24</th>\n",
       "      <th>V25</th>\n",
       "      <th>V26</th>\n",
       "      <th>V27</th>\n",
       "      <th>V28</th>\n",
       "      <th>Amount</th>\n",
       "      <th>Class</th>\n",
       "    </tr>\n",
       "  </thead>\n",
       "  <tbody>\n",
       "    <tr>\n",
       "      <th>230178</th>\n",
       "      <td>146225.0</td>\n",
       "      <td>-1.471584</td>\n",
       "      <td>1.048034</td>\n",
       "      <td>-0.121530</td>\n",
       "      <td>0.294235</td>\n",
       "      <td>1.008532</td>\n",
       "      <td>6.129592</td>\n",
       "      <td>-3.153504</td>\n",
       "      <td>-1.929004</td>\n",
       "      <td>1.661659</td>\n",
       "      <td>...</td>\n",
       "      <td>4.157237</td>\n",
       "      <td>0.048731</td>\n",
       "      <td>0.680405</td>\n",
       "      <td>0.668165</td>\n",
       "      <td>-1.277351</td>\n",
       "      <td>-0.467549</td>\n",
       "      <td>0.527242</td>\n",
       "      <td>0.278444</td>\n",
       "      <td>1.00</td>\n",
       "      <td>0</td>\n",
       "    </tr>\n",
       "    <tr>\n",
       "      <th>247695</th>\n",
       "      <td>153661.0</td>\n",
       "      <td>2.096084</td>\n",
       "      <td>-1.376627</td>\n",
       "      <td>0.194561</td>\n",
       "      <td>-0.715901</td>\n",
       "      <td>-1.553168</td>\n",
       "      <td>0.431772</td>\n",
       "      <td>-1.763065</td>\n",
       "      <td>0.331340</td>\n",
       "      <td>0.865917</td>\n",
       "      <td>...</td>\n",
       "      <td>0.151258</td>\n",
       "      <td>0.704155</td>\n",
       "      <td>0.173941</td>\n",
       "      <td>-0.470474</td>\n",
       "      <td>-0.324661</td>\n",
       "      <td>-0.177678</td>\n",
       "      <td>0.055154</td>\n",
       "      <td>-0.053309</td>\n",
       "      <td>3.20</td>\n",
       "      <td>0</td>\n",
       "    </tr>\n",
       "    <tr>\n",
       "      <th>204626</th>\n",
       "      <td>135369.0</td>\n",
       "      <td>1.863445</td>\n",
       "      <td>-0.981573</td>\n",
       "      <td>-0.694210</td>\n",
       "      <td>-0.857710</td>\n",
       "      <td>-0.806651</td>\n",
       "      <td>-0.232154</td>\n",
       "      <td>-0.772867</td>\n",
       "      <td>0.156154</td>\n",
       "      <td>1.461948</td>\n",
       "      <td>...</td>\n",
       "      <td>0.261563</td>\n",
       "      <td>0.644129</td>\n",
       "      <td>0.164242</td>\n",
       "      <td>0.746726</td>\n",
       "      <td>-0.436316</td>\n",
       "      <td>0.651170</td>\n",
       "      <td>-0.064889</td>\n",
       "      <td>-0.045237</td>\n",
       "      <td>80.10</td>\n",
       "      <td>0</td>\n",
       "    </tr>\n",
       "    <tr>\n",
       "      <th>13793</th>\n",
       "      <td>24459.0</td>\n",
       "      <td>-0.888568</td>\n",
       "      <td>1.220439</td>\n",
       "      <td>1.253009</td>\n",
       "      <td>0.741607</td>\n",
       "      <td>0.414096</td>\n",
       "      <td>-0.072251</td>\n",
       "      <td>1.186912</td>\n",
       "      <td>-0.623745</td>\n",
       "      <td>1.231374</td>\n",
       "      <td>...</td>\n",
       "      <td>-0.152703</td>\n",
       "      <td>0.387293</td>\n",
       "      <td>-0.174805</td>\n",
       "      <td>-0.045627</td>\n",
       "      <td>-0.214310</td>\n",
       "      <td>-0.434546</td>\n",
       "      <td>-0.184802</td>\n",
       "      <td>-0.165824</td>\n",
       "      <td>61.81</td>\n",
       "      <td>0</td>\n",
       "    </tr>\n",
       "    <tr>\n",
       "      <th>244902</th>\n",
       "      <td>152535.0</td>\n",
       "      <td>1.973384</td>\n",
       "      <td>-0.235705</td>\n",
       "      <td>-0.453193</td>\n",
       "      <td>0.238827</td>\n",
       "      <td>-0.313211</td>\n",
       "      <td>-0.236997</td>\n",
       "      <td>-0.408025</td>\n",
       "      <td>-0.007399</td>\n",
       "      <td>0.809414</td>\n",
       "      <td>...</td>\n",
       "      <td>-0.187040</td>\n",
       "      <td>-0.377358</td>\n",
       "      <td>0.318120</td>\n",
       "      <td>-0.426956</td>\n",
       "      <td>-0.378039</td>\n",
       "      <td>-0.662360</td>\n",
       "      <td>0.033402</td>\n",
       "      <td>-0.043114</td>\n",
       "      <td>7.81</td>\n",
       "      <td>0</td>\n",
       "    </tr>\n",
       "  </tbody>\n",
       "</table>\n",
       "<p>5 rows × 31 columns</p>\n",
       "</div>"
      ],
      "text/plain": [
       "            Time        V1        V2        V3        V4        V5        V6  \\\n",
       "230178  146225.0 -1.471584  1.048034 -0.121530  0.294235  1.008532  6.129592   \n",
       "247695  153661.0  2.096084 -1.376627  0.194561 -0.715901 -1.553168  0.431772   \n",
       "204626  135369.0  1.863445 -0.981573 -0.694210 -0.857710 -0.806651 -0.232154   \n",
       "13793    24459.0 -0.888568  1.220439  1.253009  0.741607  0.414096 -0.072251   \n",
       "244902  152535.0  1.973384 -0.235705 -0.453193  0.238827 -0.313211 -0.236997   \n",
       "\n",
       "              V7        V8        V9  ...       V21       V22       V23  \\\n",
       "230178 -3.153504 -1.929004  1.661659  ...  4.157237  0.048731  0.680405   \n",
       "247695 -1.763065  0.331340  0.865917  ...  0.151258  0.704155  0.173941   \n",
       "204626 -0.772867  0.156154  1.461948  ...  0.261563  0.644129  0.164242   \n",
       "13793   1.186912 -0.623745  1.231374  ... -0.152703  0.387293 -0.174805   \n",
       "244902 -0.408025 -0.007399  0.809414  ... -0.187040 -0.377358  0.318120   \n",
       "\n",
       "             V24       V25       V26       V27       V28  Amount  Class  \n",
       "230178  0.668165 -1.277351 -0.467549  0.527242  0.278444    1.00      0  \n",
       "247695 -0.470474 -0.324661 -0.177678  0.055154 -0.053309    3.20      0  \n",
       "204626  0.746726 -0.436316  0.651170 -0.064889 -0.045237   80.10      0  \n",
       "13793  -0.045627 -0.214310 -0.434546 -0.184802 -0.165824   61.81      0  \n",
       "244902 -0.426956 -0.378039 -0.662360  0.033402 -0.043114    7.81      0  \n",
       "\n",
       "[5 rows x 31 columns]"
      ]
     },
     "metadata": {},
     "output_type": "display_data"
    },
    {
     "data": {
      "text/plain": [
       "1    372\n",
       "0    372\n",
       "Name: Class, dtype: int64"
      ]
     },
     "metadata": {},
     "output_type": "display_data"
    }
   ],
   "source": [
    "df_resample = pd.DataFrame()\n",
    "for grp,idx in df_balance.groupby('Class').groups.items():\n",
    "    \n",
    "    resample = df_balance.loc[idx].sample(n=n_samples,random_state=123)\n",
    "    df_resample = pd.concat([df_resample,resample],axis=0)\n",
    "    \n",
    "display(df_resample.head(), df_resample[\"Class\"].value_counts())\n",
    "\n"
   ]
  },
  {
   "cell_type": "code",
   "execution_count": 155,
   "metadata": {
    "ExecuteTime": {
     "end_time": "2021-05-07T17:23:01.407660Z",
     "start_time": "2021-05-07T17:22:59.760166Z"
    }
   },
   "outputs": [
    {
     "name": "stdout",
     "output_type": "stream",
     "text": [
      "------------------------------------------------------------\n",
      "[i] CLASSIFICATION REPORT\n",
      "------------------------------------------------------------\n",
      "              precision    recall  f1-score   support\n",
      "\n",
      "           0       1.00      0.96      0.98     71082\n",
      "           1       0.04      0.93      0.07       120\n",
      "\n",
      "    accuracy                           0.96     71202\n",
      "   macro avg       0.52      0.94      0.53     71202\n",
      "weighted avg       1.00      0.96      0.98     71202\n",
      "\n",
      "------------------------------------------------------------\n"
     ]
    },
    {
     "data": {
      "image/png": "[encoded data removed]",
      "text/plain": [
       "<Figure size 720x360 with 3 Axes>"
      ]
     },
     "metadata": {
      "needs_background": "light"
     },
     "output_type": "display_data"
    }
   ],
   "source": [
    "X_train_under = df_resample.drop('Class',axis=1).copy()\n",
    "y_train_under = df_resample['Class'].copy()\n",
    "\n",
    "regr = LogisticRegression(**params)#C=1e5, solver='liblinear')\n",
    "regr.fit(X_train_under, y_train_under)\n",
    "evaluate_classification(regr,X_test,y_test)"
   ]
  },
  {
   "cell_type": "code",
   "execution_count": null,
   "metadata": {},
   "outputs": [],
   "source": []
  },
  {
   "cell_type": "markdown",
   "metadata": {},
   "source": [
    "# APPENDIX "
   ]
  },
  {
   "cell_type": "markdown",
   "metadata": {},
   "source": [
    "## Additional ROC Curve "
   ]
  },
  {
   "cell_type": "markdown",
   "metadata": {},
   "source": [
    "### What Distributions Would Work Well in Classifying?"
   ]
  },
  {
   "cell_type": "markdown",
   "metadata": {},
   "source": [
    "<img src=\"https://raw.githubusercontent.com/jirvingphd/fsds_100719_cohort_notes/master/images/roc_crossover.png\" width=60%>"
   ]
  },
  {
   "cell_type": "markdown",
   "metadata": {},
   "source": [
    "### Defining the Threshold"
   ]
  },
  {
   "cell_type": "markdown",
   "metadata": {},
   "source": [
    "<img src=\"https://raw.githubusercontent.com/jirvingphd/fsds_100719_cohort_notes/master/images/auc_rates.png\" width=60%>"
   ]
  },
  {
   "cell_type": "code",
   "execution_count": 67,
   "metadata": {
    "ExecuteTime": {
     "end_time": "2021-05-07T16:46:01.337232Z",
     "start_time": "2021-05-07T16:46:01.334879Z"
    },
    "scrolled": false
   },
   "outputs": [],
   "source": [
    "# # Interactive ROC curve\n",
    "# from IPython.display import IFrame\n",
    "# IFrame('http://www.navan.name/roc/', width=800, height=600)"
   ]
  },
  {
   "cell_type": "code",
   "execution_count": null,
   "metadata": {},
   "outputs": [],
   "source": []
  }
 ],
 "metadata": {
  "kernelspec": {
   "display_name": "learn-env-new",
   "language": "python",
   "name": "learn-env-new"
  },
  "language_info": {
   "codemirror_mode": {
    "name": "ipython",
    "version": 3
   },
   "file_extension": ".py",
   "mimetype": "text/x-python",
   "name": "python",
   "nbconvert_exporter": "python",
   "pygments_lexer": "ipython3",
   "version": "3.8.5"
  },
  "toc": {
   "base_numbering": 1,
   "nav_menu": {},
   "number_sections": true,
   "sideBar": true,
   "skip_h1_title": false,
   "title_cell": "Table of Contents",
   "title_sidebar": "Contents",
   "toc_cell": false,
   "toc_position": {
    "height": "calc(100% - 180px)",
    "left": "10px",
    "top": "150px",
    "width": "256px"
   },
   "toc_section_display": true,
   "toc_window_display": true
  },
  "varInspector": {
   "cols": {
    "lenName": 16,
    "lenType": 16,
    "lenVar": 40
   },
   "kernels_config": {
    "python": {
     "delete_cmd_postfix": "",
     "delete_cmd_prefix": "del ",
     "library": "var_list.py",
     "varRefreshCmd": "print(var_dic_list())"
    },
    "r": {
     "delete_cmd_postfix": ") ",
     "delete_cmd_prefix": "rm(",
     "library": "var_list.r",
     "varRefreshCmd": "cat(var_dic_list()) "
    }
   },
   "types_to_exclude": [
    "module",
    "function",
    "builtin_function_or_method",
    "instance",
    "_Feature"
   ],
   "window_display": false
  }
 },
 "nbformat": 4,
 "nbformat_minor": 2
}
