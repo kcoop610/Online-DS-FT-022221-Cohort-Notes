{
 "cells": [
  {
   "cell_type": "markdown",
   "metadata": {},
   "source": [
    "# Topic 25-Pt 1: Intro to Logistic Regression "
   ]
  },
  {
   "cell_type": "markdown",
   "metadata": {},
   "source": [
    "- onl01-dtsc-ft-022221\n",
    "- 05/06/21"
   ]
  },
  {
   "cell_type": "markdown",
   "metadata": {},
   "source": [
    "## Questions?"
   ]
  },
  {
   "cell_type": "markdown",
   "metadata": {},
   "source": [
    "- "
   ]
  },
  {
   "cell_type": "markdown",
   "metadata": {},
   "source": [
    "## Announcements"
   ]
  },
  {
   "cell_type": "markdown",
   "metadata": {},
   "source": [
    "- **Sect 25 will be split into 2 study groups.**\n",
    "- Sect 26 doesn't introduce much/anything new\n",
    "    - It revisits gradient descent and applies it to Logistic Regression.\n",
    "    - **We will discuss** some of the concepts re-introduced next study group.\n",
    "    - **We will NOT have an entire study group** dedicated to section 26\n",
    "\n",
    "\n",
    "- **You will want/need to update matplotlib and scikit-learn** ( See IMPORTANT NOTE ABOUT PACKAGE VERSIONS)\n",
    "   "
   ]
  },
  {
   "cell_type": "markdown",
   "metadata": {},
   "source": [
    "## Topics in Sect 25"
   ]
  },
  {
   "cell_type": "markdown",
   "metadata": {},
   "source": [
    "- For Today:\n",
    "    - Supervised vs Unsupervised Learning\n",
    "    - Logistic Regression - Theory\n",
    "    - Applying Logistic Regression with `statsmodels`\n",
    "    - Evaluating Classifiers\n",
    "        - Confusion Matrices\n",
    "        - Accuracy, Precision, Recall, F1-Score\n",
    "\n",
    "            - If there's time today (otherwise covered in part 2 tomorrow):\n",
    "             \n",
    "\n",
    "- For Next Class:\n",
    "    - Logistic Regression with `scikit-learn`\n",
    "    - Evaluating Classifiers:\n",
    "        - ROC-AUC curve\n",
    "    - Class Imbalance Problems"
   ]
  },
  {
   "cell_type": "markdown",
   "metadata": {},
   "source": [
    "# Types of Machine Learning Models"
   ]
  },
  {
   "cell_type": "markdown",
   "metadata": {},
   "source": [
    "<img src=\"https://raw.githubusercontent.com/jirvingphd/fsds_pt_100719_cohort_notes/master/Images/ai_machine_learning_deep_learning.png\">"
   ]
  },
  {
   "cell_type": "markdown",
   "metadata": {},
   "source": [
    "## Intro to Supervised Learning"
   ]
  },
  {
   "cell_type": "markdown",
   "metadata": {},
   "source": [
    "> \"The term **_Supervised Learning_** refers to a class of machine learning algorithms that can \"learn\" a task through **_labeled training data_**.\""
   ]
  },
  {
   "cell_type": "markdown",
   "metadata": {},
   "source": [
    "<img src=\"https://raw.githubusercontent.com/jirvingphd/dsc-intro-to-supervised-learning-v2-1-online-ds-pt-100719/master/images/new_ml-hierarchy.png\" width=60%>"
   ]
  },
  {
   "cell_type": "markdown",
   "metadata": {},
   "source": [
    "- All machine learning models fall into one of two categories:\n",
    "    - Regressors/Regression\n",
    "    - Classifiers/Classification"
   ]
  },
  {
   "cell_type": "markdown",
   "metadata": {},
   "source": [
    "### Regression"
   ]
  },
  {
   "cell_type": "markdown",
   "metadata": {},
   "source": [
    "Trying to find the **relationship** and predict a specific value.\n",
    "\n",
    "- Examples of regressions:\n",
    "    - House prices\n",
    "    - Salary\n",
    "    - Reviews/Ratings"
   ]
  },
  {
   "cell_type": "markdown",
   "metadata": {},
   "source": [
    "### Classification"
   ]
  },
  {
   "cell_type": "markdown",
   "metadata": {},
   "source": [
    "Trying to identify what features can predict which class a particular observation/row belongs to.\n",
    "- Can be a \"binary classification\" \n",
    "    - \"yes\" or \"no\"\n",
    "    - Survived or died.\n",
    "    - Diabetic or not-diabetic\n",
    "- Can also be a \"multiclass classification\"\n",
    "    - Which type of flower?\n",
    "    - Will a football game end one team winning, or the other team, or a tie?\n"
   ]
  },
  {
   "cell_type": "markdown",
   "metadata": {},
   "source": [
    "# From Linear Regression to Logistic Regression\n"
   ]
  },
  {
   "cell_type": "markdown",
   "metadata": {},
   "source": [
    "<img src=\"https://raw.githubusercontent.com/jirvingphd/online-dtsc-pt-041320-cohort-notes/master/assets/images/logistic_vs_linear.jpg\">"
   ]
  },
  {
   "cell_type": "markdown",
   "metadata": {},
   "source": [
    "## Recall Linear Regression"
   ]
  },
  {
   "cell_type": "markdown",
   "metadata": {},
   "source": [
    "### Formula"
   ]
  },
  {
   "cell_type": "markdown",
   "metadata": {},
   "source": [
    "$$ \\large \\hat y = \\beta_0 + \\beta_1 x_1 + \\beta_2 x_2 + \\ldots + \\beta_n x_n = \\sum_{i=0}^{N} \\beta_i x_i $$"
   ]
  },
  {
   "cell_type": "markdown",
   "metadata": {},
   "source": [
    "- Output is specifying the **predicted value** for the target"
   ]
  },
  {
   "cell_type": "markdown",
   "metadata": {},
   "source": [
    "## Classification: Use Logistic Regression"
   ]
  },
  {
   "cell_type": "markdown",
   "metadata": {},
   "source": [
    "- Output is specifying the **probability** of belonging to a particular group"
   ]
  },
  {
   "cell_type": "markdown",
   "metadata": {},
   "source": [
    "- Visual Example:\n",
    "    - https://www.desmos.com/calculator/y2ilpxiqys"
   ]
  },
  {
   "cell_type": "markdown",
   "metadata": {},
   "source": [
    "Transform from linear regression!\n",
    "\n",
    "$$ \\large \\hat y = \\sum_{i=0}^{N} \\beta_i x_i $$\n",
    "\n",
    "$$\\large P = \\displaystyle \\frac{1}{1+e^{-\\hat y}} = \\frac{1}{1+e^{-\\sum_{i=0}^{N} \\beta_i x_i}} $$\n",
    "\n",
    "$$ \\large = \\frac{1}{1+e^{-\\beta_0}e^{-\\beta_1 x_1}\\ldots e^{-\\beta_N x_N}} $$"
   ]
  },
  {
   "cell_type": "markdown",
   "metadata": {},
   "source": [
    "# Implementing Logistic Regression"
   ]
  },
  {
   "cell_type": "markdown",
   "metadata": {},
   "source": [
    "## Predict Passenger Survival on the Titanic with `scikit-learn`"
   ]
  },
  {
   "cell_type": "code",
   "execution_count": 1,
   "metadata": {
    "ExecuteTime": {
     "end_time": "2021-05-06T15:22:47.760946Z",
     "start_time": "2021-05-06T15:22:45.161069Z"
    },
    "scrolled": true
   },
   "outputs": [],
   "source": [
    "import matplotlib.pyplot as plt\n",
    "import seaborn as sns\n",
    "import pandas as pd\n",
    "import numpy as np\n",
    "\n",
    "from sklearn.model_selection import train_test_split\n",
    "from sklearn.preprocessing import MinMaxScaler,StandardScaler,OneHotEncoder\n",
    "from sklearn.impute import SimpleImputer\n",
    "\n",
    "from sklearn.linear_model import Lasso, Ridge, LinearRegression\n",
    "from sklearn.linear_model import LogisticRegression\n",
    "from sklearn import metrics \n",
    "\n",
    "\n",
    "# import statsmodels.api as sm"
   ]
  },
  {
   "cell_type": "code",
   "execution_count": 2,
   "metadata": {
    "ExecuteTime": {
     "end_time": "2021-05-06T15:22:48.036854Z",
     "start_time": "2021-05-06T15:22:47.763296Z"
    }
   },
   "outputs": [
    {
     "data": {
      "text/html": [
       "<div>\n",
       "<style scoped>\n",
       "    .dataframe tbody tr th:only-of-type {\n",
       "        vertical-align: middle;\n",
       "    }\n",
       "\n",
       "    .dataframe tbody tr th {\n",
       "        vertical-align: top;\n",
       "    }\n",
       "\n",
       "    .dataframe thead th {\n",
       "        text-align: right;\n",
       "    }\n",
       "</style>\n",
       "<table border=\"1\" class=\"dataframe\">\n",
       "  <thead>\n",
       "    <tr style=\"text-align: right;\">\n",
       "      <th></th>\n",
       "      <th>Pclass</th>\n",
       "      <th>Age</th>\n",
       "      <th>SibSp</th>\n",
       "      <th>Fare</th>\n",
       "      <th>Sex</th>\n",
       "      <th>Embarked</th>\n",
       "      <th>Survived</th>\n",
       "    </tr>\n",
       "  </thead>\n",
       "  <tbody>\n",
       "    <tr>\n",
       "      <th>0</th>\n",
       "      <td>3.0</td>\n",
       "      <td>22.0</td>\n",
       "      <td>1</td>\n",
       "      <td>7.2500</td>\n",
       "      <td>male</td>\n",
       "      <td>S</td>\n",
       "      <td>0</td>\n",
       "    </tr>\n",
       "    <tr>\n",
       "      <th>1</th>\n",
       "      <td>1.0</td>\n",
       "      <td>38.0</td>\n",
       "      <td>1</td>\n",
       "      <td>71.2833</td>\n",
       "      <td>female</td>\n",
       "      <td>C</td>\n",
       "      <td>1</td>\n",
       "    </tr>\n",
       "    <tr>\n",
       "      <th>2</th>\n",
       "      <td>3.0</td>\n",
       "      <td>26.0</td>\n",
       "      <td>0</td>\n",
       "      <td>7.9250</td>\n",
       "      <td>female</td>\n",
       "      <td>S</td>\n",
       "      <td>1</td>\n",
       "    </tr>\n",
       "    <tr>\n",
       "      <th>3</th>\n",
       "      <td>1.0</td>\n",
       "      <td>35.0</td>\n",
       "      <td>1</td>\n",
       "      <td>53.1000</td>\n",
       "      <td>female</td>\n",
       "      <td>S</td>\n",
       "      <td>1</td>\n",
       "    </tr>\n",
       "    <tr>\n",
       "      <th>4</th>\n",
       "      <td>3.0</td>\n",
       "      <td>35.0</td>\n",
       "      <td>0</td>\n",
       "      <td>8.0500</td>\n",
       "      <td>male</td>\n",
       "      <td>S</td>\n",
       "      <td>0</td>\n",
       "    </tr>\n",
       "  </tbody>\n",
       "</table>\n",
       "</div>"
      ],
      "text/plain": [
       "   Pclass   Age  SibSp     Fare     Sex Embarked  Survived\n",
       "0     3.0  22.0      1   7.2500    male        S         0\n",
       "1     1.0  38.0      1  71.2833  female        C         1\n",
       "2     3.0  26.0      0   7.9250  female        S         1\n",
       "3     1.0  35.0      1  53.1000  female        S         1\n",
       "4     3.0  35.0      0   8.0500    male        S         0"
      ]
     },
     "execution_count": 2,
     "metadata": {},
     "output_type": "execute_result"
    }
   ],
   "source": [
    "url = \"https://raw.githubusercontent.com/jirvingphd/dsc-dealing-missing-data-lab-online-ds-ft-100719/master/titanic.csv\"\n",
    "df = pd.read_csv(url,index_col=0,na_values='?')\n",
    "relevant_columns = ['Pclass', 'Age', 'SibSp', 'Fare', 'Sex', 'Embarked', 'Survived']\n",
    "df = df[relevant_columns]\n",
    "df.head()"
   ]
  },
  {
   "cell_type": "code",
   "execution_count": 3,
   "metadata": {
    "ExecuteTime": {
     "end_time": "2021-05-06T15:22:48.048246Z",
     "start_time": "2021-05-06T15:22:48.039399Z"
    }
   },
   "outputs": [
    {
     "data": {
      "text/plain": [
       "0    0.616162\n",
       "1    0.383838\n",
       "Name: Survived, dtype: float64"
      ]
     },
     "execution_count": 3,
     "metadata": {},
     "output_type": "execute_result"
    }
   ],
   "source": [
    "df['Survived'].value_counts(normalize=True,dropna=False)"
   ]
  },
  {
   "cell_type": "code",
   "execution_count": 4,
   "metadata": {
    "ExecuteTime": {
     "end_time": "2021-05-06T15:22:48.358223Z",
     "start_time": "2021-05-06T15:22:48.051054Z"
    }
   },
   "outputs": [
    {
     "data": {
      "text/plain": [
       "Text(0.5, 0.98, 'X Features vs Survived')"
      ]
     },
     "execution_count": 4,
     "metadata": {},
     "output_type": "execute_result"
    },
    {
     "data": {
      "image/png": "[encoded data removed]",
      "text/plain": [
       "<Figure size 720x288 with 2 Axes>"
      ]
     },
     "metadata": {
      "needs_background": "light"
     },
     "output_type": "display_data"
    }
   ],
   "source": [
    "fig,ax= plt.subplots(ncols=2,figsize=(10,4))\n",
    "sns.scatterplot(data=df, x='Fare',y='Survived',ax=ax[0])\n",
    "sns.scatterplot(data=df, x='Age',y='Survived',ax=ax[1])\n",
    "fig.suptitle('X Features vs Survived')"
   ]
  },
  {
   "cell_type": "code",
   "execution_count": 5,
   "metadata": {
    "ExecuteTime": {
     "end_time": "2021-05-06T15:22:48.891044Z",
     "start_time": "2021-05-06T15:22:48.360289Z"
    }
   },
   "outputs": [
    {
     "data": {
      "text/plain": [
       "Text(0.5, 0.98, 'X Features vs Survived - Regression')"
      ]
     },
     "execution_count": 5,
     "metadata": {},
     "output_type": "execute_result"
    },
    {
     "data": {
      "image/png": "[encoded data removed]",
      "text/plain": [
       "<Figure size 720x288 with 2 Axes>"
      ]
     },
     "metadata": {
      "needs_background": "light"
     },
     "output_type": "display_data"
    }
   ],
   "source": [
    "fig,ax= plt.subplots(ncols=2,figsize=(10,4))\n",
    "sns.regplot(data=df, x='Fare',y='Survived',ax=ax[0])\n",
    "sns.regplot(data=df, x='Age',y='Survived',ax=ax[1])\n",
    "fig.suptitle('X Features vs Survived - Regression')"
   ]
  },
  {
   "cell_type": "markdown",
   "metadata": {
    "ExecuteTime": {
     "end_time": "2020-03-24T22:26:15.520827Z",
     "start_time": "2020-03-24T22:26:15.518673Z"
    }
   },
   "source": [
    "### Q: What are the preprocessing steps I need to perform before I create the model?"
   ]
  },
  {
   "cell_type": "markdown",
   "metadata": {},
   "source": [
    "- Recast data types\n",
    "- Train-test-split\n",
    "- Fill/drop in missing/null values\n",
    "- Feature Selection / Feature Engineering (interaction terms)\n",
    "- Handling categorial variables\n",
    "    - One Hot Encoding \n",
    "    - Label Encoding\n",
    "- Handling Outliers (maybe)\n",
    "- Normalizing/Standardizing our data\n",
    "\n",
    "- **Multicollinearity (does it still matter as much for Logistic?)**\n",
    "\n"
   ]
  },
  {
   "cell_type": "code",
   "execution_count": 6,
   "metadata": {
    "ExecuteTime": {
     "end_time": "2021-05-06T15:22:48.899633Z",
     "start_time": "2021-05-06T15:22:48.892914Z"
    }
   },
   "outputs": [
    {
     "name": "stdout",
     "output_type": "stream",
     "text": [
      "<class 'pandas.core.frame.DataFrame'>\n",
      "Int64Index: 891 entries, 0 to 890\n",
      "Data columns (total 7 columns):\n",
      " #   Column    Non-Null Count  Dtype  \n",
      "---  ------    --------------  -----  \n",
      " 0   Pclass    842 non-null    float64\n",
      " 1   Age       714 non-null    float64\n",
      " 2   SibSp     891 non-null    int64  \n",
      " 3   Fare      891 non-null    float64\n",
      " 4   Sex       891 non-null    object \n",
      " 5   Embarked  889 non-null    object \n",
      " 6   Survived  891 non-null    int64  \n",
      "dtypes: float64(3), int64(2), object(2)\n",
      "memory usage: 55.7+ KB\n"
     ]
    }
   ],
   "source": [
    "df.info()"
   ]
  },
  {
   "cell_type": "code",
   "execution_count": 7,
   "metadata": {
    "ExecuteTime": {
     "end_time": "2021-05-06T15:22:48.907848Z",
     "start_time": "2021-05-06T15:22:48.900992Z"
    }
   },
   "outputs": [
    {
     "data": {
      "text/plain": [
       "S      644\n",
       "C      168\n",
       "Q       77\n",
       "NaN      2\n",
       "Name: Embarked, dtype: int64"
      ]
     },
     "metadata": {},
     "output_type": "display_data"
    },
    {
     "data": {
      "text/plain": [
       "male      577\n",
       "female    314\n",
       "Name: Sex, dtype: int64"
      ]
     },
     "metadata": {},
     "output_type": "display_data"
    }
   ],
   "source": [
    "## Check Object cols \n",
    "display(df['Embarked'].value_counts(dropna=False),\n",
    "        df['Sex'].value_counts(dropna=False))"
   ]
  },
  {
   "cell_type": "markdown",
   "metadata": {},
   "source": [
    "### Preprocessing"
   ]
  },
  {
   "cell_type": "code",
   "execution_count": 8,
   "metadata": {
    "ExecuteTime": {
     "end_time": "2021-05-06T15:22:48.917221Z",
     "start_time": "2021-05-06T15:22:48.910928Z"
    }
   },
   "outputs": [
    {
     "data": {
      "text/plain": [
       "[(623, 6), (268, 6), (623,), (268,)]"
      ]
     },
     "execution_count": 8,
     "metadata": {},
     "output_type": "execute_result"
    }
   ],
   "source": [
    "## train test split\n",
    "target = 'Survived'\n",
    "\n",
    "y = df[target]\n",
    "X = df.drop(target, axis=1)\n",
    "\n",
    "# Perform test train split\n",
    "X_train , X_test, y_train, y_test = train_test_split(X, y, test_size=0.3,)\n",
    "#                                                      random_state=12)\n",
    "[var.shape for var in [X_train , X_test, y_train, y_test]]"
   ]
  },
  {
   "cell_type": "code",
   "execution_count": 9,
   "metadata": {
    "ExecuteTime": {
     "end_time": "2021-05-06T15:22:48.924805Z",
     "start_time": "2021-05-06T15:22:48.919887Z"
    }
   },
   "outputs": [
    {
     "data": {
      "text/plain": [
       "Pclass       30\n",
       "Age         119\n",
       "SibSp         0\n",
       "Fare          0\n",
       "Sex           0\n",
       "Embarked      2\n",
       "dtype: int64"
      ]
     },
     "execution_count": 9,
     "metadata": {},
     "output_type": "execute_result"
    }
   ],
   "source": [
    "## Check for nulls in training set\n",
    "X_train.isna().sum()"
   ]
  },
  {
   "cell_type": "code",
   "execution_count": 10,
   "metadata": {
    "ExecuteTime": {
     "end_time": "2021-05-06T15:22:48.928740Z",
     "start_time": "2021-05-06T15:22:48.926491Z"
    }
   },
   "outputs": [],
   "source": [
    "## Specify which values to impute with which method\n",
    "\n",
    "## Most frequent\n",
    "mode_cols = ['Pclass','Embarked']\n",
    "## Fill with median\n",
    "median_cols = ['Age']"
   ]
  },
  {
   "cell_type": "code",
   "execution_count": 11,
   "metadata": {
    "ExecuteTime": {
     "end_time": "2021-05-06T15:22:48.933050Z",
     "start_time": "2021-05-06T15:22:48.930412Z"
    }
   },
   "outputs": [],
   "source": [
    "## Copying X_train and X_test as start of X_train_tf,X_test_tf\n",
    "X_train_tf = X_train.copy()\n",
    "X_test_tf = X_test.copy()"
   ]
  },
  {
   "cell_type": "code",
   "execution_count": 12,
   "metadata": {
    "ExecuteTime": {
     "end_time": "2021-05-06T15:22:48.951010Z",
     "start_time": "2021-05-06T15:22:48.934936Z"
    }
   },
   "outputs": [
    {
     "data": {
      "text/plain": [
       "Pclass        0\n",
       "Age         119\n",
       "SibSp         0\n",
       "Fare          0\n",
       "Sex           0\n",
       "Embarked      0\n",
       "dtype: int64"
      ]
     },
     "execution_count": 12,
     "metadata": {},
     "output_type": "execute_result"
    }
   ],
   "source": [
    "## Impute the columns with most-frequent value\n",
    "imputer_mode = SimpleImputer(strategy='most_frequent')\n",
    "\n",
    "X_train_tf[mode_cols] = imputer_mode.fit_transform(X_train_tf[mode_cols].copy())\n",
    "X_test_tf[mode_cols] = imputer_mode.transform(X_test_tf[mode_cols].copy())\n",
    "\n",
    "## Verify it worked\n",
    "X_train_tf.isna().sum()"
   ]
  },
  {
   "cell_type": "code",
   "execution_count": 13,
   "metadata": {
    "ExecuteTime": {
     "end_time": "2021-05-06T15:22:48.970891Z",
     "start_time": "2021-05-06T15:22:48.953057Z"
    }
   },
   "outputs": [
    {
     "name": "stdout",
     "output_type": "stream",
     "text": [
      "Pclass      0\n",
      "Age         0\n",
      "SibSp       0\n",
      "Fare        0\n",
      "Sex         0\n",
      "Embarked    0\n",
      "dtype: int64\n"
     ]
    },
    {
     "data": {
      "text/plain": [
       "Pclass      0\n",
       "Age         0\n",
       "SibSp       0\n",
       "Fare        0\n",
       "Sex         0\n",
       "Embarked    0\n",
       "dtype: int64"
      ]
     },
     "execution_count": 13,
     "metadata": {},
     "output_type": "execute_result"
    }
   ],
   "source": [
    "## Impute cols with 0s\n",
    "imputer_median = SimpleImputer(strategy='median')\n",
    "\n",
    "X_train_tf[median_cols] = imputer_median.fit_transform(X_train_tf[median_cols])\n",
    "X_test_tf[median_cols] = imputer_median.transform(X_test_tf[median_cols])\n",
    "\n",
    "## Verify it worked\n",
    "print(X_train_tf.isna().sum())\n",
    "X_test_tf.isna().sum()"
   ]
  },
  {
   "cell_type": "code",
   "execution_count": 14,
   "metadata": {
    "ExecuteTime": {
     "end_time": "2021-05-06T15:22:48.978602Z",
     "start_time": "2021-05-06T15:22:48.972644Z"
    }
   },
   "outputs": [
    {
     "data": {
      "text/plain": [
       "(Index(['Sex', 'Embarked'], dtype='object'),\n",
       " Index(['Pclass', 'Age', 'SibSp', 'Fare'], dtype='object'))"
      ]
     },
     "execution_count": 14,
     "metadata": {},
     "output_type": "execute_result"
    }
   ],
   "source": [
    "## Specifing which cols to encode and which to scale. \n",
    "cat_cols = df.select_dtypes('O').columns\n",
    "num_cols = df.drop(columns=[target,*cat_cols]).columns\n",
    "cat_cols,num_cols"
   ]
  },
  {
   "cell_type": "code",
   "execution_count": 15,
   "metadata": {
    "ExecuteTime": {
     "end_time": "2021-05-06T15:22:48.998168Z",
     "start_time": "2021-05-06T15:22:48.980591Z"
    }
   },
   "outputs": [
    {
     "data": {
      "text/html": [
       "<div>\n",
       "<style scoped>\n",
       "    .dataframe tbody tr th:only-of-type {\n",
       "        vertical-align: middle;\n",
       "    }\n",
       "\n",
       "    .dataframe tbody tr th {\n",
       "        vertical-align: top;\n",
       "    }\n",
       "\n",
       "    .dataframe thead th {\n",
       "        text-align: right;\n",
       "    }\n",
       "</style>\n",
       "<table border=\"1\" class=\"dataframe\">\n",
       "  <thead>\n",
       "    <tr style=\"text-align: right;\">\n",
       "      <th></th>\n",
       "      <th>Sex_male</th>\n",
       "      <th>Embarked_Q</th>\n",
       "      <th>Embarked_S</th>\n",
       "    </tr>\n",
       "  </thead>\n",
       "  <tbody>\n",
       "    <tr>\n",
       "      <th>55</th>\n",
       "      <td>1.0</td>\n",
       "      <td>0.0</td>\n",
       "      <td>1.0</td>\n",
       "    </tr>\n",
       "    <tr>\n",
       "      <th>251</th>\n",
       "      <td>0.0</td>\n",
       "      <td>0.0</td>\n",
       "      <td>1.0</td>\n",
       "    </tr>\n",
       "    <tr>\n",
       "      <th>6</th>\n",
       "      <td>1.0</td>\n",
       "      <td>0.0</td>\n",
       "      <td>1.0</td>\n",
       "    </tr>\n",
       "    <tr>\n",
       "      <th>513</th>\n",
       "      <td>0.0</td>\n",
       "      <td>0.0</td>\n",
       "      <td>0.0</td>\n",
       "    </tr>\n",
       "    <tr>\n",
       "      <th>664</th>\n",
       "      <td>1.0</td>\n",
       "      <td>0.0</td>\n",
       "      <td>1.0</td>\n",
       "    </tr>\n",
       "    <tr>\n",
       "      <th>...</th>\n",
       "      <td>...</td>\n",
       "      <td>...</td>\n",
       "      <td>...</td>\n",
       "    </tr>\n",
       "    <tr>\n",
       "      <th>833</th>\n",
       "      <td>1.0</td>\n",
       "      <td>0.0</td>\n",
       "      <td>1.0</td>\n",
       "    </tr>\n",
       "    <tr>\n",
       "      <th>651</th>\n",
       "      <td>0.0</td>\n",
       "      <td>0.0</td>\n",
       "      <td>1.0</td>\n",
       "    </tr>\n",
       "    <tr>\n",
       "      <th>181</th>\n",
       "      <td>1.0</td>\n",
       "      <td>0.0</td>\n",
       "      <td>0.0</td>\n",
       "    </tr>\n",
       "    <tr>\n",
       "      <th>39</th>\n",
       "      <td>0.0</td>\n",
       "      <td>0.0</td>\n",
       "      <td>0.0</td>\n",
       "    </tr>\n",
       "    <tr>\n",
       "      <th>758</th>\n",
       "      <td>1.0</td>\n",
       "      <td>0.0</td>\n",
       "      <td>1.0</td>\n",
       "    </tr>\n",
       "  </tbody>\n",
       "</table>\n",
       "<p>623 rows × 3 columns</p>\n",
       "</div>"
      ],
      "text/plain": [
       "     Sex_male  Embarked_Q  Embarked_S\n",
       "55        1.0         0.0         1.0\n",
       "251       0.0         0.0         1.0\n",
       "6         1.0         0.0         1.0\n",
       "513       0.0         0.0         0.0\n",
       "664       1.0         0.0         1.0\n",
       "..        ...         ...         ...\n",
       "833       1.0         0.0         1.0\n",
       "651       0.0         0.0         1.0\n",
       "181       1.0         0.0         0.0\n",
       "39        0.0         0.0         0.0\n",
       "758       1.0         0.0         1.0\n",
       "\n",
       "[623 rows x 3 columns]"
      ]
     },
     "execution_count": 15,
     "metadata": {},
     "output_type": "execute_result"
    }
   ],
   "source": [
    "## Encode cat_cols\n",
    "encoder = OneHotEncoder(sparse=False,  drop='first')\n",
    "encoder.fit(X_train_tf[cat_cols])\n",
    "\n",
    "train_cat_cols = pd.DataFrame(encoder.transform(X_train_tf[cat_cols]),\n",
    "                              columns=encoder.get_feature_names(cat_cols),\n",
    "                              index=X_train_tf.index)\n",
    "\n",
    "test_cat_cols = pd.DataFrame(encoder.transform(X_test_tf[cat_cols]),\n",
    "                              columns=encoder.get_feature_names(cat_cols),\n",
    "                              index=X_test_tf.index)\n",
    "\n",
    "train_cat_cols"
   ]
  },
  {
   "cell_type": "code",
   "execution_count": 16,
   "metadata": {
    "ExecuteTime": {
     "end_time": "2021-05-06T15:22:49.018665Z",
     "start_time": "2021-05-06T15:22:49.000280Z"
    }
   },
   "outputs": [
    {
     "data": {
      "text/html": [
       "<div>\n",
       "<style scoped>\n",
       "    .dataframe tbody tr th:only-of-type {\n",
       "        vertical-align: middle;\n",
       "    }\n",
       "\n",
       "    .dataframe tbody tr th {\n",
       "        vertical-align: top;\n",
       "    }\n",
       "\n",
       "    .dataframe thead th {\n",
       "        text-align: right;\n",
       "    }\n",
       "</style>\n",
       "<table border=\"1\" class=\"dataframe\">\n",
       "  <thead>\n",
       "    <tr style=\"text-align: right;\">\n",
       "      <th></th>\n",
       "      <th>Pclass</th>\n",
       "      <th>Age</th>\n",
       "      <th>SibSp</th>\n",
       "      <th>Fare</th>\n",
       "    </tr>\n",
       "  </thead>\n",
       "  <tbody>\n",
       "    <tr>\n",
       "      <th>55</th>\n",
       "      <td>-1.664685</td>\n",
       "      <td>-0.084234</td>\n",
       "      <td>-0.471070</td>\n",
       "      <td>0.105589</td>\n",
       "    </tr>\n",
       "    <tr>\n",
       "      <th>251</th>\n",
       "      <td>0.792895</td>\n",
       "      <td>-0.007108</td>\n",
       "      <td>0.460602</td>\n",
       "      <td>-0.432216</td>\n",
       "    </tr>\n",
       "    <tr>\n",
       "      <th>6</th>\n",
       "      <td>-1.664685</td>\n",
       "      <td>1.921023</td>\n",
       "      <td>-0.471070</td>\n",
       "      <td>0.457056</td>\n",
       "    </tr>\n",
       "    <tr>\n",
       "      <th>513</th>\n",
       "      <td>-1.664685</td>\n",
       "      <td>1.921023</td>\n",
       "      <td>0.460602</td>\n",
       "      <td>0.618962</td>\n",
       "    </tr>\n",
       "    <tr>\n",
       "      <th>664</th>\n",
       "      <td>0.792895</td>\n",
       "      <td>-0.701236</td>\n",
       "      <td>0.460602</td>\n",
       "      <td>-0.486722</td>\n",
       "    </tr>\n",
       "    <tr>\n",
       "      <th>...</th>\n",
       "      <td>...</td>\n",
       "      <td>...</td>\n",
       "      <td>...</td>\n",
       "      <td>...</td>\n",
       "    </tr>\n",
       "    <tr>\n",
       "      <th>833</th>\n",
       "      <td>0.792895</td>\n",
       "      <td>-0.469860</td>\n",
       "      <td>-0.471070</td>\n",
       "      <td>-0.488243</td>\n",
       "    </tr>\n",
       "    <tr>\n",
       "      <th>651</th>\n",
       "      <td>-0.435895</td>\n",
       "      <td>-0.855486</td>\n",
       "      <td>-0.471070</td>\n",
       "      <td>-0.162911</td>\n",
       "    </tr>\n",
       "    <tr>\n",
       "      <th>181</th>\n",
       "      <td>-0.435895</td>\n",
       "      <td>-0.084234</td>\n",
       "      <td>-0.471070</td>\n",
       "      <td>-0.333677</td>\n",
       "    </tr>\n",
       "    <tr>\n",
       "      <th>39</th>\n",
       "      <td>0.792895</td>\n",
       "      <td>-1.163987</td>\n",
       "      <td>0.460602</td>\n",
       "      <td>-0.415479</td>\n",
       "    </tr>\n",
       "    <tr>\n",
       "      <th>758</th>\n",
       "      <td>0.792895</td>\n",
       "      <td>0.378518</td>\n",
       "      <td>-0.471070</td>\n",
       "      <td>-0.484037</td>\n",
       "    </tr>\n",
       "  </tbody>\n",
       "</table>\n",
       "<p>623 rows × 4 columns</p>\n",
       "</div>"
      ],
      "text/plain": [
       "       Pclass       Age     SibSp      Fare\n",
       "55  -1.664685 -0.084234 -0.471070  0.105589\n",
       "251  0.792895 -0.007108  0.460602 -0.432216\n",
       "6   -1.664685  1.921023 -0.471070  0.457056\n",
       "513 -1.664685  1.921023  0.460602  0.618962\n",
       "664  0.792895 -0.701236  0.460602 -0.486722\n",
       "..        ...       ...       ...       ...\n",
       "833  0.792895 -0.469860 -0.471070 -0.488243\n",
       "651 -0.435895 -0.855486 -0.471070 -0.162911\n",
       "181 -0.435895 -0.084234 -0.471070 -0.333677\n",
       "39   0.792895 -1.163987  0.460602 -0.415479\n",
       "758  0.792895  0.378518 -0.471070 -0.484037\n",
       "\n",
       "[623 rows x 4 columns]"
      ]
     },
     "execution_count": 16,
     "metadata": {},
     "output_type": "execute_result"
    }
   ],
   "source": [
    "## Scaling Num_cols\n",
    "scaler = StandardScaler()\n",
    "\n",
    "train_num_cols = pd.DataFrame(scaler.fit_transform(X_train_tf[num_cols]),\n",
    "                              columns=num_cols,index=X_train_tf.index)\n",
    "\n",
    "test_num_cols = pd.DataFrame(scaler.transform(X_test_tf[num_cols]),\n",
    "                             columns=num_cols, index=X_test_tf.index)\n",
    "train_num_cols"
   ]
  },
  {
   "cell_type": "code",
   "execution_count": 17,
   "metadata": {
    "ExecuteTime": {
     "end_time": "2021-05-06T15:22:49.035940Z",
     "start_time": "2021-05-06T15:22:49.020711Z"
    }
   },
   "outputs": [
    {
     "data": {
      "text/html": [
       "<div>\n",
       "<style scoped>\n",
       "    .dataframe tbody tr th:only-of-type {\n",
       "        vertical-align: middle;\n",
       "    }\n",
       "\n",
       "    .dataframe tbody tr th {\n",
       "        vertical-align: top;\n",
       "    }\n",
       "\n",
       "    .dataframe thead th {\n",
       "        text-align: right;\n",
       "    }\n",
       "</style>\n",
       "<table border=\"1\" class=\"dataframe\">\n",
       "  <thead>\n",
       "    <tr style=\"text-align: right;\">\n",
       "      <th></th>\n",
       "      <th>Pclass</th>\n",
       "      <th>Age</th>\n",
       "      <th>SibSp</th>\n",
       "      <th>Fare</th>\n",
       "      <th>Sex_male</th>\n",
       "      <th>Embarked_Q</th>\n",
       "      <th>Embarked_S</th>\n",
       "    </tr>\n",
       "  </thead>\n",
       "  <tbody>\n",
       "    <tr>\n",
       "      <th>55</th>\n",
       "      <td>-1.664685</td>\n",
       "      <td>-0.084234</td>\n",
       "      <td>-0.471070</td>\n",
       "      <td>0.105589</td>\n",
       "      <td>1.0</td>\n",
       "      <td>0.0</td>\n",
       "      <td>1.0</td>\n",
       "    </tr>\n",
       "    <tr>\n",
       "      <th>251</th>\n",
       "      <td>0.792895</td>\n",
       "      <td>-0.007108</td>\n",
       "      <td>0.460602</td>\n",
       "      <td>-0.432216</td>\n",
       "      <td>0.0</td>\n",
       "      <td>0.0</td>\n",
       "      <td>1.0</td>\n",
       "    </tr>\n",
       "    <tr>\n",
       "      <th>6</th>\n",
       "      <td>-1.664685</td>\n",
       "      <td>1.921023</td>\n",
       "      <td>-0.471070</td>\n",
       "      <td>0.457056</td>\n",
       "      <td>1.0</td>\n",
       "      <td>0.0</td>\n",
       "      <td>1.0</td>\n",
       "    </tr>\n",
       "    <tr>\n",
       "      <th>513</th>\n",
       "      <td>-1.664685</td>\n",
       "      <td>1.921023</td>\n",
       "      <td>0.460602</td>\n",
       "      <td>0.618962</td>\n",
       "      <td>0.0</td>\n",
       "      <td>0.0</td>\n",
       "      <td>0.0</td>\n",
       "    </tr>\n",
       "    <tr>\n",
       "      <th>664</th>\n",
       "      <td>0.792895</td>\n",
       "      <td>-0.701236</td>\n",
       "      <td>0.460602</td>\n",
       "      <td>-0.486722</td>\n",
       "      <td>1.0</td>\n",
       "      <td>0.0</td>\n",
       "      <td>1.0</td>\n",
       "    </tr>\n",
       "    <tr>\n",
       "      <th>...</th>\n",
       "      <td>...</td>\n",
       "      <td>...</td>\n",
       "      <td>...</td>\n",
       "      <td>...</td>\n",
       "      <td>...</td>\n",
       "      <td>...</td>\n",
       "      <td>...</td>\n",
       "    </tr>\n",
       "    <tr>\n",
       "      <th>833</th>\n",
       "      <td>0.792895</td>\n",
       "      <td>-0.469860</td>\n",
       "      <td>-0.471070</td>\n",
       "      <td>-0.488243</td>\n",
       "      <td>1.0</td>\n",
       "      <td>0.0</td>\n",
       "      <td>1.0</td>\n",
       "    </tr>\n",
       "    <tr>\n",
       "      <th>651</th>\n",
       "      <td>-0.435895</td>\n",
       "      <td>-0.855486</td>\n",
       "      <td>-0.471070</td>\n",
       "      <td>-0.162911</td>\n",
       "      <td>0.0</td>\n",
       "      <td>0.0</td>\n",
       "      <td>1.0</td>\n",
       "    </tr>\n",
       "    <tr>\n",
       "      <th>181</th>\n",
       "      <td>-0.435895</td>\n",
       "      <td>-0.084234</td>\n",
       "      <td>-0.471070</td>\n",
       "      <td>-0.333677</td>\n",
       "      <td>1.0</td>\n",
       "      <td>0.0</td>\n",
       "      <td>0.0</td>\n",
       "    </tr>\n",
       "    <tr>\n",
       "      <th>39</th>\n",
       "      <td>0.792895</td>\n",
       "      <td>-1.163987</td>\n",
       "      <td>0.460602</td>\n",
       "      <td>-0.415479</td>\n",
       "      <td>0.0</td>\n",
       "      <td>0.0</td>\n",
       "      <td>0.0</td>\n",
       "    </tr>\n",
       "    <tr>\n",
       "      <th>758</th>\n",
       "      <td>0.792895</td>\n",
       "      <td>0.378518</td>\n",
       "      <td>-0.471070</td>\n",
       "      <td>-0.484037</td>\n",
       "      <td>1.0</td>\n",
       "      <td>0.0</td>\n",
       "      <td>1.0</td>\n",
       "    </tr>\n",
       "  </tbody>\n",
       "</table>\n",
       "<p>623 rows × 7 columns</p>\n",
       "</div>"
      ],
      "text/plain": [
       "       Pclass       Age     SibSp      Fare  Sex_male  Embarked_Q  Embarked_S\n",
       "55  -1.664685 -0.084234 -0.471070  0.105589       1.0         0.0         1.0\n",
       "251  0.792895 -0.007108  0.460602 -0.432216       0.0         0.0         1.0\n",
       "6   -1.664685  1.921023 -0.471070  0.457056       1.0         0.0         1.0\n",
       "513 -1.664685  1.921023  0.460602  0.618962       0.0         0.0         0.0\n",
       "664  0.792895 -0.701236  0.460602 -0.486722       1.0         0.0         1.0\n",
       "..        ...       ...       ...       ...       ...         ...         ...\n",
       "833  0.792895 -0.469860 -0.471070 -0.488243       1.0         0.0         1.0\n",
       "651 -0.435895 -0.855486 -0.471070 -0.162911       0.0         0.0         1.0\n",
       "181 -0.435895 -0.084234 -0.471070 -0.333677       1.0         0.0         0.0\n",
       "39   0.792895 -1.163987  0.460602 -0.415479       0.0         0.0         0.0\n",
       "758  0.792895  0.378518 -0.471070 -0.484037       1.0         0.0         1.0\n",
       "\n",
       "[623 rows x 7 columns]"
      ]
     },
     "execution_count": 17,
     "metadata": {},
     "output_type": "execute_result"
    }
   ],
   "source": [
    "## Combine Num and Cat Cols\n",
    "\n",
    "X_train_tf = pd.concat([train_num_cols,train_cat_cols],axis=1)\n",
    "X_test_tf = pd.concat([test_num_cols,test_cat_cols],axis=1)\n",
    "\n",
    "X_train_tf"
   ]
  },
  {
   "cell_type": "code",
   "execution_count": 18,
   "metadata": {
    "ExecuteTime": {
     "end_time": "2021-05-06T15:22:49.068076Z",
     "start_time": "2021-05-06T15:22:49.037703Z"
    }
   },
   "outputs": [
    {
     "data": {
      "text/html": [
       "<div>\n",
       "<style scoped>\n",
       "    .dataframe tbody tr th:only-of-type {\n",
       "        vertical-align: middle;\n",
       "    }\n",
       "\n",
       "    .dataframe tbody tr th {\n",
       "        vertical-align: top;\n",
       "    }\n",
       "\n",
       "    .dataframe thead th {\n",
       "        text-align: right;\n",
       "    }\n",
       "</style>\n",
       "<table border=\"1\" class=\"dataframe\">\n",
       "  <thead>\n",
       "    <tr style=\"text-align: right;\">\n",
       "      <th></th>\n",
       "      <th>Pclass</th>\n",
       "      <th>Age</th>\n",
       "      <th>SibSp</th>\n",
       "      <th>Fare</th>\n",
       "      <th>Sex_male</th>\n",
       "      <th>Embarked_Q</th>\n",
       "      <th>Embarked_S</th>\n",
       "    </tr>\n",
       "  </thead>\n",
       "  <tbody>\n",
       "    <tr>\n",
       "      <th>count</th>\n",
       "      <td>623.00</td>\n",
       "      <td>623.00</td>\n",
       "      <td>623.00</td>\n",
       "      <td>623.00</td>\n",
       "      <td>623.00</td>\n",
       "      <td>623.00</td>\n",
       "      <td>623.00</td>\n",
       "    </tr>\n",
       "    <tr>\n",
       "      <th>mean</th>\n",
       "      <td>-0.00</td>\n",
       "      <td>0.00</td>\n",
       "      <td>-0.00</td>\n",
       "      <td>-0.00</td>\n",
       "      <td>0.66</td>\n",
       "      <td>0.07</td>\n",
       "      <td>0.74</td>\n",
       "    </tr>\n",
       "    <tr>\n",
       "      <th>std</th>\n",
       "      <td>1.00</td>\n",
       "      <td>1.00</td>\n",
       "      <td>1.00</td>\n",
       "      <td>1.00</td>\n",
       "      <td>0.47</td>\n",
       "      <td>0.25</td>\n",
       "      <td>0.44</td>\n",
       "    </tr>\n",
       "    <tr>\n",
       "      <th>min</th>\n",
       "      <td>-1.66</td>\n",
       "      <td>-2.21</td>\n",
       "      <td>-0.47</td>\n",
       "      <td>-0.66</td>\n",
       "      <td>0.00</td>\n",
       "      <td>0.00</td>\n",
       "      <td>0.00</td>\n",
       "    </tr>\n",
       "    <tr>\n",
       "      <th>25%</th>\n",
       "      <td>-0.44</td>\n",
       "      <td>-0.55</td>\n",
       "      <td>-0.47</td>\n",
       "      <td>-0.49</td>\n",
       "      <td>0.00</td>\n",
       "      <td>0.00</td>\n",
       "      <td>0.00</td>\n",
       "    </tr>\n",
       "    <tr>\n",
       "      <th>50%</th>\n",
       "      <td>0.79</td>\n",
       "      <td>-0.08</td>\n",
       "      <td>-0.47</td>\n",
       "      <td>-0.35</td>\n",
       "      <td>1.00</td>\n",
       "      <td>0.00</td>\n",
       "      <td>1.00</td>\n",
       "    </tr>\n",
       "    <tr>\n",
       "      <th>75%</th>\n",
       "      <td>0.79</td>\n",
       "      <td>0.46</td>\n",
       "      <td>0.46</td>\n",
       "      <td>-0.01</td>\n",
       "      <td>1.00</td>\n",
       "      <td>0.00</td>\n",
       "      <td>1.00</td>\n",
       "    </tr>\n",
       "    <tr>\n",
       "      <th>max</th>\n",
       "      <td>0.79</td>\n",
       "      <td>3.46</td>\n",
       "      <td>6.98</td>\n",
       "      <td>10.35</td>\n",
       "      <td>1.00</td>\n",
       "      <td>1.00</td>\n",
       "      <td>1.00</td>\n",
       "    </tr>\n",
       "  </tbody>\n",
       "</table>\n",
       "</div>"
      ],
      "text/plain": [
       "       Pclass     Age   SibSp    Fare  Sex_male  Embarked_Q  Embarked_S\n",
       "count  623.00  623.00  623.00  623.00    623.00      623.00      623.00\n",
       "mean    -0.00    0.00   -0.00   -0.00      0.66        0.07        0.74\n",
       "std      1.00    1.00    1.00    1.00      0.47        0.25        0.44\n",
       "min     -1.66   -2.21   -0.47   -0.66      0.00        0.00        0.00\n",
       "25%     -0.44   -0.55   -0.47   -0.49      0.00        0.00        0.00\n",
       "50%      0.79   -0.08   -0.47   -0.35      1.00        0.00        1.00\n",
       "75%      0.79    0.46    0.46   -0.01      1.00        0.00        1.00\n",
       "max      0.79    3.46    6.98   10.35      1.00        1.00        1.00"
      ]
     },
     "execution_count": 18,
     "metadata": {},
     "output_type": "execute_result"
    }
   ],
   "source": [
    "X_train_tf.describe().round(2)"
   ]
  },
  {
   "cell_type": "markdown",
   "metadata": {},
   "source": [
    "## Fitting a Logistic Regression with `scikit-learn`"
   ]
  },
  {
   "cell_type": "code",
   "execution_count": 19,
   "metadata": {
    "ExecuteTime": {
     "end_time": "2021-05-06T15:22:49.085610Z",
     "start_time": "2021-05-06T15:22:49.070531Z"
    }
   },
   "outputs": [
    {
     "data": {
      "text/plain": [
       "LogisticRegression()"
      ]
     },
     "execution_count": 19,
     "metadata": {},
     "output_type": "execute_result"
    }
   ],
   "source": [
    "## Fit a logistic regression model with defaults\n",
    "log_reg = LogisticRegression()\n",
    "log_reg.fit(X_train_tf, y_train)"
   ]
  },
  {
   "cell_type": "markdown",
   "metadata": {},
   "source": [
    "> ### But how do we know how GOOD it is?"
   ]
  },
  {
   "cell_type": "code",
   "execution_count": 20,
   "metadata": {
    "ExecuteTime": {
     "end_time": "2021-05-06T15:22:49.094305Z",
     "start_time": "2021-05-06T15:22:49.087927Z"
    }
   },
   "outputs": [
    {
     "data": {
      "text/plain": [
       "0.7768860353130016"
      ]
     },
     "execution_count": 20,
     "metadata": {},
     "output_type": "execute_result"
    }
   ],
   "source": [
    "log_reg.score(X_train_tf,y_train)"
   ]
  },
  {
   "cell_type": "code",
   "execution_count": 21,
   "metadata": {
    "ExecuteTime": {
     "end_time": "2021-05-06T15:22:49.105125Z",
     "start_time": "2021-05-06T15:22:49.096298Z"
    }
   },
   "outputs": [
    {
     "name": "stdout",
     "output_type": "stream",
     "text": [
      "Training Score:\t0.78\n",
      "Test Score:\t0.82\n"
     ]
    }
   ],
   "source": [
    "## Get the model's .score\n",
    "print(f\"Training Score:\\t{log_reg.score(X_train_tf,y_train):.2f}\")\n",
    "print(f\"Test Score:\\t{log_reg.score(X_test_tf,y_test):.2f}\")"
   ]
  },
  {
   "cell_type": "markdown",
   "metadata": {},
   "source": [
    "> But what \"score\" is this?"
   ]
  },
  {
   "cell_type": "code",
   "execution_count": 22,
   "metadata": {
    "ExecuteTime": {
     "end_time": "2021-05-06T15:22:49.113167Z",
     "start_time": "2021-05-06T15:22:49.107301Z"
    }
   },
   "outputs": [],
   "source": [
    "## Get Predictions for training and test data\n",
    "y_hat_train = log_reg.predict(X_train_tf)\n",
    "y_hat_test = log_reg.predict(X_test_tf)"
   ]
  },
  {
   "cell_type": "code",
   "execution_count": 23,
   "metadata": {
    "ExecuteTime": {
     "end_time": "2021-05-06T15:22:49.125823Z",
     "start_time": "2021-05-06T15:22:49.121205Z"
    }
   },
   "outputs": [
    {
     "data": {
      "text/plain": [
       "0.26725905673274075"
      ]
     },
     "execution_count": 23,
     "metadata": {},
     "output_type": "execute_result"
    }
   ],
   "source": [
    "## is it r-squared?\n",
    "metrics.r2_score(y_test,y_hat_test)"
   ]
  },
  {
   "cell_type": "markdown",
   "metadata": {},
   "source": [
    "> Hmmm...its not $R^{2}$"
   ]
  },
  {
   "cell_type": "code",
   "execution_count": 24,
   "metadata": {
    "ExecuteTime": {
     "end_time": "2021-05-06T15:22:49.134942Z",
     "start_time": "2021-05-06T15:22:49.130504Z"
    }
   },
   "outputs": [
    {
     "data": {
      "text/plain": [
       "0.42320736951515897"
      ]
     },
     "execution_count": 24,
     "metadata": {},
     "output_type": "execute_result"
    }
   ],
   "source": [
    "## Try root_mean_square_error\n",
    "metrics.mean_squared_error(y_test,y_hat_test,squared=False)"
   ]
  },
  {
   "cell_type": "markdown",
   "metadata": {
    "ExecuteTime": {
     "end_time": "2021-05-06T14:53:52.812312Z",
     "start_time": "2021-05-06T14:53:52.809098Z"
    }
   },
   "source": [
    "> Hmmm...its not $\\text{RMSE}$"
   ]
  },
  {
   "cell_type": "code",
   "execution_count": 25,
   "metadata": {
    "ExecuteTime": {
     "end_time": "2021-05-06T15:22:49.141779Z",
     "start_time": "2021-05-06T15:22:49.137612Z"
    }
   },
   "outputs": [
    {
     "data": {
      "text/plain": [
       "0.8208955223880597"
      ]
     },
     "execution_count": 25,
     "metadata": {},
     "output_type": "execute_result"
    }
   ],
   "source": [
    "## Try accuracy_score\n",
    "metrics.accuracy_score(y_test,y_hat_test)"
   ]
  },
  {
   "cell_type": "markdown",
   "metadata": {},
   "source": [
    "> Ah-ha! The default `.score` for a classification model is **accuracy**. "
   ]
  },
  {
   "cell_type": "code",
   "execution_count": 26,
   "metadata": {
    "ExecuteTime": {
     "end_time": "2021-05-06T15:22:49.147084Z",
     "start_time": "2021-05-06T15:22:49.143660Z"
    }
   },
   "outputs": [],
   "source": [
    "### Getting our model's coefficients\n",
    "## Our function from last class\n",
    "def get_coefficients(model,X_train):\n",
    "    coeffs = pd.Series(model.coef_.flatten(), index=X_train.columns)\n",
    "    coeffs['intercept'] = model.intercept_[0]\n",
    "    return coeffs"
   ]
  },
  {
   "cell_type": "code",
   "execution_count": 27,
   "metadata": {
    "ExecuteTime": {
     "end_time": "2021-05-06T15:22:49.156231Z",
     "start_time": "2021-05-06T15:22:49.150668Z"
    }
   },
   "outputs": [
    {
     "data": {
      "text/plain": [
       "Pclass       -0.625722\n",
       "Age          -0.448252\n",
       "SibSp        -0.340764\n",
       "Fare          0.325072\n",
       "Sex_male     -2.321165\n",
       "Embarked_Q   -0.371528\n",
       "Embarked_S   -0.218707\n",
       "intercept     1.038566\n",
       "dtype: float64"
      ]
     },
     "execution_count": 27,
     "metadata": {},
     "output_type": "execute_result"
    }
   ],
   "source": [
    "coeffs = get_coefficients(log_reg,X_train_tf)\n",
    "coeffs"
   ]
  },
  {
   "cell_type": "code",
   "execution_count": 28,
   "metadata": {
    "ExecuteTime": {
     "end_time": "2021-05-06T15:22:49.164444Z",
     "start_time": "2021-05-06T15:22:49.158552Z"
    }
   },
   "outputs": [
    {
     "data": {
      "text/plain": [
       "0.21029878492160914"
      ]
     },
     "execution_count": 28,
     "metadata": {},
     "output_type": "execute_result"
    }
   ],
   "source": [
    "(X_test_tf.iloc[0] * coeffs ).sum() + coeffs['intercept'] "
   ]
  },
  {
   "cell_type": "code",
   "execution_count": null,
   "metadata": {},
   "outputs": [],
   "source": []
  },
  {
   "cell_type": "markdown",
   "metadata": {},
   "source": [
    "### Understanding Our Model's Mistakes"
   ]
  },
  {
   "cell_type": "markdown",
   "metadata": {},
   "source": [
    "- For classification tasks, it can be extremely helpful to examine a \"Confusion Matrix\" to understand how our model is wrong. "
   ]
  },
  {
   "cell_type": "code",
   "execution_count": 29,
   "metadata": {
    "ExecuteTime": {
     "end_time": "2021-05-06T15:22:49.172617Z",
     "start_time": "2021-05-06T15:22:49.166858Z"
    }
   },
   "outputs": [
    {
     "data": {
      "text/plain": [
       "array([[138,  16],\n",
       "       [ 32,  82]])"
      ]
     },
     "execution_count": 29,
     "metadata": {},
     "output_type": "execute_result"
    }
   ],
   "source": [
    "## Use metrics.confusion_matrix\n",
    "cm = metrics.confusion_matrix(y_test,y_hat_test)\n",
    "cm"
   ]
  },
  {
   "cell_type": "code",
   "execution_count": 30,
   "metadata": {
    "ExecuteTime": {
     "end_time": "2021-05-06T15:22:49.341551Z",
     "start_time": "2021-05-06T15:22:49.175082Z"
    }
   },
   "outputs": [
    {
     "data": {
      "text/plain": [
       "<sklearn.metrics._plot.confusion_matrix.ConfusionMatrixDisplay at 0x7fa2ab1e7cd0>"
      ]
     },
     "execution_count": 30,
     "metadata": {},
     "output_type": "execute_result"
    },
    {
     "data": {
      "image/png": "[encoded data removed]",
      "text/plain": [
       "<Figure size 432x288 with 2 Axes>"
      ]
     },
     "metadata": {
      "needs_background": "light"
     },
     "output_type": "display_data"
    }
   ],
   "source": [
    "## Use metrics.plot_confusion_matrix\n",
    "metrics.plot_confusion_matrix(log_reg,X_test_tf,y_test,cmap='Blues')"
   ]
  },
  {
   "cell_type": "markdown",
   "metadata": {},
   "source": [
    ">- The Confusion Matrix separated out the correct (true) predictions for the positive class (1) and negative class (0). \n",
    "\n",
    "- **_True Positives (TP)_**: The number of observations where the model predicted the person has the disease (1), and they actually do have the disease (1).\n",
    "\n",
    "- **_True Negatives (TN)_**: The number of observations where the model predicted the person is healthy (0), and they are actually healthy (0).\n",
    "\n",
    "- **_False Positives (FP)_**: The number of observations where the model predicted the person has the disease (1), but they are actually healthy (0). \n",
    "\n",
    "- **_False Negatives (FN)_**: The number of observations where the model predicted the person is healthy (0), but they actually have the disease (1).\n"
   ]
  },
  {
   "cell_type": "code",
   "execution_count": 31,
   "metadata": {
    "ExecuteTime": {
     "end_time": "2021-05-06T15:22:49.348412Z",
     "start_time": "2021-05-06T15:22:49.343557Z"
    }
   },
   "outputs": [
    {
     "data": {
      "text/plain": [
       "array([[138,  16],\n",
       "       [ 32,  82]])"
      ]
     },
     "execution_count": 31,
     "metadata": {},
     "output_type": "execute_result"
    }
   ],
   "source": [
    "cm = metrics.confusion_matrix(y_test,y_hat_test)\n",
    "cm"
   ]
  },
  {
   "cell_type": "markdown",
   "metadata": {},
   "source": [
    "```\n",
    "[TN,FP],\n",
    "[FN,TP]\n",
    "```"
   ]
  },
  {
   "cell_type": "code",
   "execution_count": 32,
   "metadata": {
    "ExecuteTime": {
     "end_time": "2021-05-06T15:22:49.352628Z",
     "start_time": "2021-05-06T15:22:49.350190Z"
    }
   },
   "outputs": [],
   "source": [
    "## SLice out TN/FP/etc from cm\n",
    "TN = cm[0,0]\n",
    "FP = cm[0,1]\n",
    "FN = cm[1,0]\n",
    "TP = cm[1,1]"
   ]
  },
  {
   "cell_type": "code",
   "execution_count": 33,
   "metadata": {
    "ExecuteTime": {
     "end_time": "2021-05-06T15:22:49.356853Z",
     "start_time": "2021-05-06T15:22:49.354332Z"
    },
    "code_folding": [],
    "scrolled": true
   },
   "outputs": [
    {
     "name": "stdout",
     "output_type": "stream",
     "text": [
      "138 16\n",
      "32 82\n"
     ]
    }
   ],
   "source": [
    "## Make sure we got the order right\n",
    "print(TN,FP)\n",
    "print(FN,TP)"
   ]
  },
  {
   "cell_type": "markdown",
   "metadata": {},
   "source": [
    "### Classification Metrics are based on the confusion matrices of our model"
   ]
  },
  {
   "cell_type": "markdown",
   "metadata": {},
   "source": [
    "#### Accuracy"
   ]
  },
  {
   "cell_type": "markdown",
   "metadata": {},
   "source": [
    "$$ \\large \\text{Accuracy} = \\frac{\\text{Number of True Positives + True Negatives}}{\\text{Total Observations}} $$\n",
    "\n",
    "> \"Out of all the predictions our model made, what percentage were correct?\"\n",
    "- \"Accuracy is the most common metric for classification. It provides a solid holistic view of the overall performance of our \n",
    "model.\"\n",
    "\n",
    "#### When to use?\n",
    "- **Accuracy** is good for non-technical audiences (but can be misleading with imbalanced classes)\n"
   ]
  },
  {
   "cell_type": "code",
   "execution_count": 34,
   "metadata": {
    "ExecuteTime": {
     "end_time": "2021-05-06T15:22:49.361530Z",
     "start_time": "2021-05-06T15:22:49.358371Z"
    }
   },
   "outputs": [
    {
     "data": {
      "text/plain": [
       "0.8208955223880597"
      ]
     },
     "execution_count": 34,
     "metadata": {},
     "output_type": "execute_result"
    }
   ],
   "source": [
    "## calcualte accuracy manually\n",
    "acc = (TP+TN)/(TP+TN+FP+FN)\n",
    "acc"
   ]
  },
  {
   "cell_type": "code",
   "execution_count": 35,
   "metadata": {
    "ExecuteTime": {
     "end_time": "2021-05-06T15:22:49.366836Z",
     "start_time": "2021-05-06T15:22:49.363105Z"
    }
   },
   "outputs": [
    {
     "data": {
      "text/plain": [
       "0.8208955223880597"
      ]
     },
     "execution_count": 35,
     "metadata": {},
     "output_type": "execute_result"
    }
   ],
   "source": [
    "## compare against the accuracy_score\n",
    "metrics.accuracy_score(y_test,y_hat_test)"
   ]
  },
  {
   "cell_type": "markdown",
   "metadata": {},
   "source": [
    "### Normalized Confusion Matrices"
   ]
  },
  {
   "cell_type": "code",
   "execution_count": 36,
   "metadata": {
    "ExecuteTime": {
     "end_time": "2021-05-06T15:22:49.373162Z",
     "start_time": "2021-05-06T15:22:49.368566Z"
    }
   },
   "outputs": [
    {
     "data": {
      "text/plain": [
       "array([[0.8961039 , 0.1038961 ],\n",
       "       [0.28070175, 0.71929825]])"
      ]
     },
     "execution_count": 36,
     "metadata": {},
     "output_type": "execute_result"
    }
   ],
   "source": [
    "## Try using normalize=true for confusion matrix\n",
    "metrics.confusion_matrix(y_test,y_hat_test,normalize='true')"
   ]
  },
  {
   "cell_type": "code",
   "execution_count": 37,
   "metadata": {
    "ExecuteTime": {
     "end_time": "2021-05-06T15:22:49.546987Z",
     "start_time": "2021-05-06T15:22:49.374833Z"
    },
    "scrolled": true
   },
   "outputs": [
    {
     "data": {
      "text/plain": [
       "<sklearn.metrics._plot.confusion_matrix.ConfusionMatrixDisplay at 0x7fa2ab41d640>"
      ]
     },
     "execution_count": 37,
     "metadata": {},
     "output_type": "execute_result"
    },
    {
     "data": {
      "image/png": "[encoded data removed]",
      "text/plain": [
       "<Figure size 432x288 with 2 Axes>"
      ]
     },
     "metadata": {
      "needs_background": "light"
     },
     "output_type": "display_data"
    }
   ],
   "source": [
    "## Try using normalize=true for plot confusion matrix\n",
    "metrics.plot_confusion_matrix(log_reg,X_test_tf,y_test,normalize='true',cmap='Blues')"
   ]
  },
  {
   "cell_type": "markdown",
   "metadata": {},
   "source": [
    "### How do I know if my accuracy score is good?"
   ]
  },
  {
   "cell_type": "markdown",
   "metadata": {},
   "source": [
    "> Does your model predict better than chance/just getting the class distribution?\n",
    "- Compare your accuracy to your normalized value counts for y\n",
    "- Compare your model against a `DummyClassifier` (https://scikit-learn.org/stable/modules/generated/sklearn.dummy.DummyClassifier.html)"
   ]
  },
  {
   "cell_type": "code",
   "execution_count": 38,
   "metadata": {
    "ExecuteTime": {
     "end_time": "2021-05-06T15:22:49.554629Z",
     "start_time": "2021-05-06T15:22:49.548928Z"
    }
   },
   "outputs": [
    {
     "data": {
      "text/plain": [
       "0    0.634029\n",
       "1    0.365971\n",
       "Name: Survived, dtype: float64"
      ]
     },
     "execution_count": 38,
     "metadata": {},
     "output_type": "execute_result"
    }
   ],
   "source": [
    "y_train.value_counts(normalize=True)"
   ]
  },
  {
   "cell_type": "code",
   "execution_count": 39,
   "metadata": {
    "ExecuteTime": {
     "end_time": "2021-05-06T15:22:49.562354Z",
     "start_time": "2021-05-06T15:22:49.556771Z"
    }
   },
   "outputs": [
    {
     "data": {
      "text/plain": [
       "0    0.574627\n",
       "1    0.425373\n",
       "Name: Survived, dtype: float64"
      ]
     },
     "execution_count": 39,
     "metadata": {},
     "output_type": "execute_result"
    }
   ],
   "source": [
    "y_test.value_counts(normalize=True)"
   ]
  },
  {
   "cell_type": "code",
   "execution_count": 40,
   "metadata": {
    "ExecuteTime": {
     "end_time": "2021-05-06T15:22:49.572236Z",
     "start_time": "2021-05-06T15:22:49.564568Z"
    }
   },
   "outputs": [
    {
     "data": {
      "text/plain": [
       "DummyClassifier(strategy='stratified')"
      ]
     },
     "execution_count": 40,
     "metadata": {},
     "output_type": "execute_result"
    }
   ],
   "source": [
    "from sklearn.dummy import DummyClassifier\n",
    "model =DummyClassifier(strategy=\"stratified\")\n",
    "model.fit(X_train_tf,y_train)"
   ]
  },
  {
   "cell_type": "code",
   "execution_count": 41,
   "metadata": {
    "ExecuteTime": {
     "end_time": "2021-05-06T15:22:49.580170Z",
     "start_time": "2021-05-06T15:22:49.574252Z"
    }
   },
   "outputs": [
    {
     "name": "stdout",
     "output_type": "stream",
     "text": [
      "Training Score:\t0.54\n",
      "Test Score:\t0.53\n"
     ]
    }
   ],
   "source": [
    "## Get the model's .score\n",
    "print(f\"Training Score:\\t{model.score(X_train_tf,y_train):.2f}\")\n",
    "print(f\"Test Score:\\t{model.score(X_test_tf,y_test):.2f}\")"
   ]
  },
  {
   "cell_type": "code",
   "execution_count": 42,
   "metadata": {
    "ExecuteTime": {
     "end_time": "2021-05-06T15:22:49.804573Z",
     "start_time": "2021-05-06T15:22:49.582076Z"
    }
   },
   "outputs": [
    {
     "data": {
      "text/plain": [
       "<sklearn.metrics._plot.confusion_matrix.ConfusionMatrixDisplay at 0x7fa2aae361f0>"
      ]
     },
     "execution_count": 42,
     "metadata": {},
     "output_type": "execute_result"
    },
    {
     "data": {
      "image/png": "[encoded data removed]",
      "text/plain": [
       "<Figure size 432x288 with 2 Axes>"
      ]
     },
     "metadata": {
      "needs_background": "light"
     },
     "output_type": "display_data"
    }
   ],
   "source": [
    "## Check the confusion matrix\n",
    "metrics.plot_confusion_matrix(model,X_test_tf,y_test,cmap='Blues',\n",
    "                             normalize='true')"
   ]
  },
  {
   "cell_type": "markdown",
   "metadata": {},
   "source": [
    "> But accuracy isn't the best metric when you have imbalanced classes. \n",
    "- Next class we will introduce more classification metrics"
   ]
  },
  {
   "cell_type": "markdown",
   "metadata": {},
   "source": [
    "# Intro to Part 2: Classification Metrics / Evaluating Classifiers "
   ]
  },
  {
   "cell_type": "markdown",
   "metadata": {},
   "source": [
    "> [The 5 Classification Evaluation metrics every Data Scientist must know](https://towardsdatascience.com/the-5-classification-evaluation-metrics-you-must-know-aa97784ff226)"
   ]
  },
  {
   "cell_type": "markdown",
   "metadata": {},
   "source": [
    "## Evaluation Metrics"
   ]
  },
  {
   "cell_type": "markdown",
   "metadata": {},
   "source": [
    "### Accuracy"
   ]
  },
  {
   "cell_type": "markdown",
   "metadata": {},
   "source": [
    "$$ \\large \\text{Accuracy} = \\frac{\\text{Number of True Positives + True Negatives}}{\\text{Total Observations}} $$\n",
    "\n",
    "> \"Out of all the predictions our model made, what percentage were correct?\"\n",
    "- \"Accuracy is the most common metric for classification. It provides a solid holistic view of the overall performance of our \n",
    "model.\"\n",
    "\n",
    "#### When to use?\n",
    "- **Accuracy** is good for non-technical audiences (but can be misleading with imbalanced classes)\n"
   ]
  },
  {
   "cell_type": "code",
   "execution_count": 43,
   "metadata": {
    "ExecuteTime": {
     "end_time": "2021-05-06T15:22:49.811393Z",
     "start_time": "2021-05-06T15:22:49.806412Z"
    }
   },
   "outputs": [
    {
     "data": {
      "text/plain": [
       "0.8208955223880597"
      ]
     },
     "execution_count": 43,
     "metadata": {},
     "output_type": "execute_result"
    }
   ],
   "source": [
    "metrics.accuracy_score(y_test, y_hat_test)"
   ]
  },
  {
   "cell_type": "markdown",
   "metadata": {},
   "source": [
    "### Precision"
   ]
  },
  {
   "cell_type": "markdown",
   "metadata": {},
   "source": [
    "> \"**_Precision_** measures what proportion of predicted Positives is truly Positive?\n"
   ]
  },
  {
   "cell_type": "markdown",
   "metadata": {},
   "source": [
    "$$ \\large \\text{Precision} = \\frac{\\text{Number of True Positives}}{\\text{Number of Predicted Positives}} $$\n"
   ]
  },
  {
   "cell_type": "markdown",
   "metadata": {},
   "source": [
    "#### When to use?\n",
    "- **Use precision** when the cost of acting is high and acting on a positive is costly.\n",
    "   - e.g. Allocating resources/interventions for prisoners who are at-risk for recidivism. "
   ]
  },
  {
   "cell_type": "code",
   "execution_count": 44,
   "metadata": {
    "ExecuteTime": {
     "end_time": "2021-05-06T15:22:49.819526Z",
     "start_time": "2021-05-06T15:22:49.813411Z"
    }
   },
   "outputs": [
    {
     "data": {
      "text/plain": [
       "0.8367346938775511"
      ]
     },
     "execution_count": 44,
     "metadata": {},
     "output_type": "execute_result"
    }
   ],
   "source": [
    "metrics.precision_score(y_test, y_hat_test)"
   ]
  },
  {
   "cell_type": "markdown",
   "metadata": {},
   "source": [
    "### Recall"
   ]
  },
  {
   "cell_type": "markdown",
   "metadata": {},
   "source": [
    "> **_Recall_** indicates what percentage of the classes we're interested in were actually captured by the model.\"\n",
    "$$ \\large \\text{Recall} = \\frac{\\text{Number of True Positives}}{\\text{Number of Actual Total Positives}} $$ \n"
   ]
  },
  {
   "cell_type": "markdown",
   "metadata": {},
   "source": [
    "#### When to use?\n",
    "- **Use recall** when the number of true positives/opportunities is small and you don’t want to miss one.\n",
    "    - e.g. cancer diagnosis. (telling someone they do not have cancer when they actually do is fatal)"
   ]
  },
  {
   "cell_type": "code",
   "execution_count": 45,
   "metadata": {
    "ExecuteTime": {
     "end_time": "2021-05-06T15:22:49.829210Z",
     "start_time": "2021-05-06T15:22:49.821709Z"
    }
   },
   "outputs": [
    {
     "data": {
      "text/plain": [
       "0.7192982456140351"
      ]
     },
     "execution_count": 45,
     "metadata": {},
     "output_type": "execute_result"
    }
   ],
   "source": [
    "metrics.recall_score(y_test, y_hat_test)"
   ]
  },
  {
   "cell_type": "markdown",
   "metadata": {},
   "source": [
    "<img src='https://raw.githubusercontent.com/jirvingphd/fsds_100719_cohort_notes/master/images/precisionrecall.png' width=10%>"
   ]
  },
  {
   "cell_type": "markdown",
   "metadata": {},
   "source": [
    "### $F_1$ Score"
   ]
  },
  {
   "cell_type": "markdown",
   "metadata": {},
   "source": [
    "F1 score represents the **_Harmonic Mean of Precision and Recall_**.  In short, this means that the F1 score cannot be high without both precision and recall also being high. When a model's F1 score is high, you know that your model is doing well all around. \n",
    "\n",
    "> Harmonic Mean: \"the reciprocal of the arithmetic mean of the reciprocals of a given set of observatins.\" - *[Wikipedia](https://en.wikipedia.org/wiki/Harmonic_mean)*\n",
    "\n",
    "#### Arithmetic Mean:\n",
    "\n",
    "$$\\large \\bar{X} = \\frac{a+b+c}{n} $$\n",
    "\n",
    "#### Harmonic Mean:\n",
    "\n",
    "$$ \\large \\bar{X} = \\frac{n}{\\frac{1}{a}+ \\frac{1}{b}+ \\frac{1}{c}}$$\n",
    "\n",
    "\n",
    "**The formula for F1 score is:**\n",
    "\n",
    "> $$ \\text{F1 score} =  \\frac{2}{\\text{Precision}^{-1}\\ x\\ \\text{Recall}^{-1}}= 2\\ \\frac{\\text{Precision}\\ x\\ \\text{Recall}}{\\text{Precision} + \\text{Recall}} $$"
   ]
  },
  {
   "cell_type": "markdown",
   "metadata": {},
   "source": [
    "#### When to use?\n",
    "- **F1 score** is really the most informative about overall model quality.\n",
    "- BUT is the most difficult to express to a non-tech audience"
   ]
  },
  {
   "cell_type": "markdown",
   "metadata": {},
   "source": [
    "## Which metric to use?"
   ]
  },
  {
   "cell_type": "markdown",
   "metadata": {},
   "source": [
    "- **When in doubt, use them all!** \n",
    " -`metrics.classification_report`\n",
    " "
   ]
  },
  {
   "cell_type": "code",
   "execution_count": 46,
   "metadata": {
    "ExecuteTime": {
     "end_time": "2021-05-06T15:22:49.840451Z",
     "start_time": "2021-05-06T15:22:49.831396Z"
    },
    "scrolled": true
   },
   "outputs": [
    {
     "name": "stdout",
     "output_type": "stream",
     "text": [
      "              precision    recall  f1-score   support\n",
      "\n",
      "        Died       0.81      0.90      0.85       154\n",
      "    Survived       0.84      0.72      0.77       114\n",
      "\n",
      "    accuracy                           0.82       268\n",
      "   macro avg       0.82      0.81      0.81       268\n",
      "weighted avg       0.82      0.82      0.82       268\n",
      "\n"
     ]
    }
   ],
   "source": [
    "print(metrics.classification_report(y_test,y_hat_test,target_names=['Died','Survived']))"
   ]
  },
  {
   "cell_type": "code",
   "execution_count": 47,
   "metadata": {
    "ExecuteTime": {
     "end_time": "2021-05-06T15:22:49.848828Z",
     "start_time": "2021-05-06T15:22:49.842318Z"
    }
   },
   "outputs": [
    {
     "data": {
      "text/plain": [
       "0.72"
      ]
     },
     "execution_count": 47,
     "metadata": {},
     "output_type": "execute_result"
    }
   ],
   "source": [
    "metrics.recall_score(y_test, y_hat_test).round(2)"
   ]
  },
  {
   "cell_type": "markdown",
   "metadata": {},
   "source": [
    "- **But some good rules of thumb:**\n",
    "    - **Accuracy** is good for non-technical audiences (but can be misleading with imbalanced classes)\n",
    "    \n",
    "    - **Use recall** when the number of true positives/opportunities is small and you don’t want to miss one.\n",
    "        - e.g. cancer diagnosis. (telling someone they do not have cancer when they actually do is fatal)\n",
    "    - **Use precision** when the cost of acting is high and acting on a positive is costly.\n",
    "       - e.g. Allocating resources/interventions for prisoners who are at-risk for recidivism. \n",
    "\n",
    "- **F1 score** is really the most informative about overall model quality, but is the most difficult to express to a non-tech audience"
   ]
  },
  {
   "cell_type": "markdown",
   "metadata": {},
   "source": [
    "# APPENDIX "
   ]
  },
  {
   "cell_type": "markdown",
   "metadata": {},
   "source": [
    "## IMPORTANT NOTE ABOUT PACKAGE VERSIONS"
   ]
  },
  {
   "cell_type": "markdown",
   "metadata": {},
   "source": [
    "### scikit-learn & matplotlib"
   ]
  },
  {
   "cell_type": "code",
   "execution_count": 48,
   "metadata": {
    "ExecuteTime": {
     "end_time": "2021-05-06T15:22:49.853132Z",
     "start_time": "2021-05-06T15:22:49.851039Z"
    }
   },
   "outputs": [],
   "source": [
    "#### scikit-learn version\n",
    "## Run COnda List to Verify what versions are installed and how\n",
    "# %conda list scikit-learn"
   ]
  },
  {
   "cell_type": "markdown",
   "metadata": {},
   "source": [
    "- You will need sklearn to be version 0.23 + to have all of the tools covered in lessons.\n",
    "    > Note: sklearn is listed as `scikit-learn`<br>to update: \n",
    "    `conda update scikit-learn`\n",
    " "
   ]
  },
  {
   "cell_type": "code",
   "execution_count": 49,
   "metadata": {
    "ExecuteTime": {
     "end_time": "2021-05-06T15:22:49.858410Z",
     "start_time": "2021-05-06T15:22:49.855842Z"
    }
   },
   "outputs": [],
   "source": [
    "## If have less than 0.23, run this command\n",
    "# %conda update scikit-learn"
   ]
  },
  {
   "cell_type": "code",
   "execution_count": 50,
   "metadata": {
    "ExecuteTime": {
     "end_time": "2021-05-06T15:22:49.862737Z",
     "start_time": "2021-05-06T15:22:49.860874Z"
    }
   },
   "outputs": [],
   "source": [
    "#### matplotlib version\n",
    "# %conda list matplotlib"
   ]
  },
  {
   "cell_type": "markdown",
   "metadata": {},
   "source": [
    "- You will want to update matplotlib to fix errors with your confusion matrix plots\n",
    "    > `pip install -U matplotlib`"
   ]
  },
  {
   "cell_type": "code",
   "execution_count": 51,
   "metadata": {
    "ExecuteTime": {
     "end_time": "2021-05-06T15:22:49.867126Z",
     "start_time": "2021-05-06T15:22:49.864751Z"
    }
   },
   "outputs": [],
   "source": [
    "# !pip install -U matplotlib"
   ]
  }
 ],
 "metadata": {
  "kernelspec": {
   "display_name": "learn-env-new",
   "language": "python",
   "name": "learn-env-new"
  },
  "language_info": {
   "codemirror_mode": {
    "name": "ipython",
    "version": 3
   },
   "file_extension": ".py",
   "mimetype": "text/x-python",
   "name": "python",
   "nbconvert_exporter": "python",
   "pygments_lexer": "ipython3",
   "version": "3.8.5"
  },
  "toc": {
   "base_numbering": 1,
   "nav_menu": {},
   "number_sections": true,
   "sideBar": true,
   "skip_h1_title": false,
   "title_cell": "Table of Contents",
   "title_sidebar": "Contents",
   "toc_cell": false,
   "toc_position": {
    "height": "calc(100% - 180px)",
    "left": "10px",
    "top": "150px",
    "width": "256px"
   },
   "toc_section_display": true,
   "toc_window_display": true
  },
  "varInspector": {
   "cols": {
    "lenName": 16,
    "lenType": 16,
    "lenVar": 40
   },
   "kernels_config": {
    "python": {
     "delete_cmd_postfix": "",
     "delete_cmd_prefix": "del ",
     "library": "var_list.py",
     "varRefreshCmd": "print(var_dic_list())"
    },
    "r": {
     "delete_cmd_postfix": ") ",
     "delete_cmd_prefix": "rm(",
     "library": "var_list.r",
     "varRefreshCmd": "cat(var_dic_list()) "
    }
   },
   "types_to_exclude": [
    "module",
    "function",
    "builtin_function_or_method",
    "instance",
    "_Feature"
   ],
   "window_display": false
  }
 },
 "nbformat": 4,
 "nbformat_minor": 2
}
