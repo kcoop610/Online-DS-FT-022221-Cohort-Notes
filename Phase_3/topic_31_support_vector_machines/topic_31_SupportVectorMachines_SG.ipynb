{
 "cells": [
  {
   "cell_type": "markdown",
   "metadata": {},
   "source": [
    "# Topic 31: Support Vector Machines"
   ]
  },
  {
   "cell_type": "markdown",
   "metadata": {},
   "source": [
    "- onl01-dtsc-ft-022221\n",
    "- 05/13/21"
   ]
  },
  {
   "cell_type": "markdown",
   "metadata": {},
   "source": [
    "## Learning Objectives"
   ]
  },
  {
   "cell_type": "markdown",
   "metadata": {},
   "source": [
    "- To revisit Linear (Algebra) Equations and revisit the relationship between $y=mx+b$ and $y= w^TX+B$.\n",
    "- To understand how support vector machine attempts to separate groups.\n",
    "- Discuss the advantages / disadvantages of SVMs\n",
    "\n",
    "- To gain an intuitive understanding the math notation of SVMs\n",
    "\n",
    "- Learn about using kernels with SVMs\n",
    "\n",
    "- \"Activity\": Apply muiltiple types of SVCs with a small data set vs Iowa Prisoners.\n",
    "\n",
    "\n",
    "\n"
   ]
  },
  {
   "cell_type": "markdown",
   "metadata": {},
   "source": [
    "##  Questions"
   ]
  },
  {
   "cell_type": "markdown",
   "metadata": {},
   "source": [
    "- How would we decide to use a particular kernel method? \n",
    "    - I understand the scatter plot visualization with colors by class in theory, and it seems like that could be one way to identify the shape of the best boundary. But what are we actually plotting in those scatter plots, since y is not the target class? Are those scatter plots assuming two continuous predictor variables and plotting one on x and one on y?\n"
   ]
  },
  {
   "cell_type": "markdown",
   "metadata": {},
   "source": [
    "## Resources"
   ]
  },
  {
   "cell_type": "markdown",
   "metadata": {
    "heading_collapsed": true
   },
   "source": [
    "#### BLOG POSTS/ARTICLES\n",
    "\n",
    "- [Towards Data Science - SVM Simply Explained](https://towardsdatascience.com/support-vector-machine-simply-explained-fee28eba5496)\n",
    "- [Towards Data Science Article - SVM Feature Selection and Kernels](https://towardsdatascience.com/svm-feature-selection-and-kernels-840781cc1a6c)\n",
    "- [Blog Post on SVC Hyperparameter Tuning](https://medium.com/all-things-ai/in-depth-parameter-tuning-for-svc-758215394769)\n",
    "\n",
    "- [Quora Q&A About Choosing Kernels](https://qr.ae/pGvISe)\n",
    "\n",
    "\n",
    "    \n",
    "   \n",
    "\n",
    " #### STUDY GROUP RECORDINGS:\n",
    "\n",
    "- [Support Vector Machines - Victor](https://www.youtube.com/watch?v=_QmnoubpU3Q&list=PLVoXE6pv5LIg4WOllQ4rNPi9BtvtVMb78&index=5)\n",
    "- [The Kernel Trick - Victor](https://www.youtube.com/watch?v=mnN74NI4Gqk&list=PLVoXE6pv5LIg4WOllQ4rNPi9BtvtVMb78&index=6)"
   ]
  },
  {
   "cell_type": "code",
   "execution_count": null,
   "metadata": {
    "ExecuteTime": {
     "end_time": "2021-05-13T15:36:25.919558Z",
     "start_time": "2021-05-13T15:36:24.071464Z"
    },
    "hidden": true
   },
   "outputs": [],
   "source": [
    "import matplotlib.pyplot as plt\n",
    "import seaborn as sns\n",
    "import pandas as pd\n",
    "import numpy as np\n",
    "import seaborn as sns\n",
    "plt.rcParams['figure.figsize']\n",
    "import sklearn.datasets as datasets\n",
    "\n",
    "# Loading in an example dataset\n",
    "plt.style.use('seaborn-notebook')\n",
    "iris = datasets.load_iris()\n",
    "iris_data = iris.data\n",
    "\n",
    "# Only use two targets/classifications\n",
    "iris_targets = np.where(iris.target == 0, 0, 1)\n",
    "\n",
    "plt.rcParams['figure.figsize'] = (10,7)"
   ]
  },
  {
   "cell_type": "markdown",
   "metadata": {},
   "source": [
    "# Motivation"
   ]
  },
  {
   "cell_type": "markdown",
   "metadata": {},
   "source": [
    "## How can we separate the data?\n"
   ]
  },
  {
   "cell_type": "code",
   "execution_count": 8,
   "metadata": {
    "ExecuteTime": {
     "end_time": "2021-05-13T16:16:01.717384Z",
     "start_time": "2021-05-13T16:16:01.709642Z"
    }
   },
   "outputs": [
    {
     "data": {
      "text/plain": [
       "['sepal length (cm)',\n",
       " 'sepal width (cm)',\n",
       " 'petal length (cm)',\n",
       " 'petal width (cm)']"
      ]
     },
     "execution_count": 8,
     "metadata": {},
     "output_type": "execute_result"
    }
   ],
   "source": [
    "import matplotlib.pyplot as plt\n",
    "import seaborn as sns\n",
    "import pandas as pd\n",
    "import numpy as np\n",
    "import seaborn as sns\n",
    "plt.rcParams['figure.figsize']\n",
    "import sklearn.datasets as datasets\n",
    "plt.rcParams['figure.figsize'] = (10,7)\n",
    "# Loading in an example dataset\n",
    "plt.style.use('seaborn-notebook')\n",
    "iris = datasets.load_iris()\n",
    "iris_data = iris.data\n",
    "\n",
    "# Only use two targets/classifications\n",
    "iris_targets = np.where(iris.target == 0, 0, 1)\n",
    "iris['feature_names']"
   ]
  },
  {
   "cell_type": "code",
   "execution_count": 3,
   "metadata": {
    "ExecuteTime": {
     "end_time": "2021-05-13T16:12:49.197195Z",
     "start_time": "2021-05-13T16:12:49.008219Z"
    },
    "code_folding": []
   },
   "outputs": [
    {
     "data": {
      "image/png": "[encoded data removed]",
      "text/plain": [
       "<Figure size 576x396 with 1 Axes>"
      ]
     },
     "metadata": {
      "needs_background": "light"
     },
     "output_type": "display_data"
    }
   ],
   "source": [
    "# Plotting different points\n",
    "def plot_iris():\n",
    "    fig, ax = plt.subplots()\n",
    "    ax.scatter(x=iris_data[:,2], y=iris_data[:,1], c=iris_targets)\n",
    "    return fig,ax\n",
    "\n",
    "fig,ax= plot_iris()"
   ]
  },
  {
   "cell_type": "markdown",
   "metadata": {},
   "source": [
    "### Q1: Look at these lines, which is a better model?\n",
    "\n"
   ]
  },
  {
   "cell_type": "markdown",
   "metadata": {},
   "source": [
    "- "
   ]
  },
  {
   "cell_type": "code",
   "execution_count": 4,
   "metadata": {
    "ExecuteTime": {
     "end_time": "2021-05-13T16:13:33.602550Z",
     "start_time": "2021-05-13T16:13:33.411794Z"
    }
   },
   "outputs": [
    {
     "data": {
      "text/plain": [
       "<matplotlib.legend.Legend at 0x7fe7476eea30>"
      ]
     },
     "execution_count": 4,
     "metadata": {},
     "output_type": "execute_result"
    },
    {
     "data": {
      "image/png": "[encoded data removed]",
      "text/plain": [
       "<Figure size 576x396 with 1 Axes>"
      ]
     },
     "metadata": {
      "needs_background": "light"
     },
     "output_type": "display_data"
    }
   ],
   "source": [
    "# Plotting lines to separate points\n",
    "fig,ax=plot_iris()\n",
    "l1 = np.array([[1,2],[6.5,4.5]])\n",
    "ax.plot(l1[:,0], l1[:,1], linestyle='--',label='line 1')\n",
    "l2 = np.array([[2,2],[3.5,4.5]])\n",
    "ax.plot(l2[:,0], l2[:,1], linestyle='--',label='line 2')\n",
    "\n",
    "ax.legend()"
   ]
  },
  {
   "cell_type": "markdown",
   "metadata": {},
   "source": [
    "#### A1: "
   ]
  },
  {
   "cell_type": "markdown",
   "metadata": {},
   "source": [
    "- Line 2."
   ]
  },
  {
   "cell_type": "markdown",
   "metadata": {},
   "source": [
    "### Q2: Why is it better? "
   ]
  },
  {
   "cell_type": "markdown",
   "metadata": {},
   "source": [
    "- "
   ]
  },
  {
   "cell_type": "markdown",
   "metadata": {},
   "source": [
    "#### A2:"
   ]
  },
  {
   "cell_type": "markdown",
   "metadata": {},
   "source": [
    "- Maximizes the distance between the data points and the line (the margin).\n"
   ]
  },
  {
   "cell_type": "markdown",
   "metadata": {},
   "source": [
    "### Accuracy isn't everything"
   ]
  },
  {
   "cell_type": "markdown",
   "metadata": {},
   "source": [
    "> Could say each line classifies the same (accuracy), so which of the following would be better?"
   ]
  },
  {
   "cell_type": "code",
   "execution_count": 9,
   "metadata": {
    "ExecuteTime": {
     "end_time": "2021-05-13T16:18:04.249472Z",
     "start_time": "2021-05-13T16:18:04.018380Z"
    }
   },
   "outputs": [
    {
     "data": {
      "text/plain": [
       "(1.0, 5.0)"
      ]
     },
     "execution_count": 9,
     "metadata": {},
     "output_type": "execute_result"
    },
    {
     "data": {
      "image/png": "[encoded data removed]",
      "text/plain": [
       "<Figure size 576x396 with 1 Axes>"
      ]
     },
     "metadata": {
      "needs_background": "light"
     },
     "output_type": "display_data"
    }
   ],
   "source": [
    "# Small margin\n",
    "margin_small = np.array([0.2,0])\n",
    "l2_margin_pos_small = l2 + margin_small\n",
    "l2_margin_neg_small = l2 - margin_small\n",
    "\n",
    "## Large margin\n",
    "margin_larger = np.array([0.5,0])\n",
    "l2_margin_pos_big = l2 + margin_larger\n",
    "l2_margin_neg_big = l2 - margin_larger\n",
    "\n",
    "# Plotting different points\n",
    "fig,ax = plot_iris()\n",
    "# Plotting lines to separate points\n",
    "ax.plot(l2[:,0], l2[:,1], linestyle='-', label='Decision Boundary')\n",
    "\n",
    "# Plot with margins\n",
    "ax.plot(l2_margin_pos_small[:,0], l2_margin_pos_small[:,1], \n",
    "        linestyle='--', color='orange', label='Small Margin')\n",
    "ax.plot(l2_margin_neg_small[:,0], l2_margin_neg_small[:,1], linestyle='--', color='orange')\n",
    "\n",
    "ax.plot(l2_margin_pos_big[:,0], l2_margin_pos_big[:,1], \n",
    "        linestyle='--', color='red',label='Large Margin')\n",
    "ax.plot(l2_margin_neg_big[:,0], l2_margin_neg_big[:,1], linestyle='--', color='red')\n",
    "ax.legend()\n",
    "ax.set_xlim(1,5)"
   ]
  },
  {
   "cell_type": "markdown",
   "metadata": {
    "heading_collapsed": true
   },
   "source": [
    "#### Line Definitions/Legend\n",
    "- Blue = Model\n",
    "- Possible Margins:\n",
    "    - orange\n",
    "    - red\n",
    "    \n",
    "- Left and Right margins are called negative and positive hyperplanes"
   ]
  },
  {
   "cell_type": "markdown",
   "metadata": {},
   "source": [
    "### Q3: Which margin is better? Why?"
   ]
  },
  {
   "cell_type": "code",
   "execution_count": null,
   "metadata": {
    "ExecuteTime": {
     "end_time": "2021-05-13T15:42:41.312408Z",
     "start_time": "2021-05-13T15:42:41.192078Z"
    }
   },
   "outputs": [],
   "source": [
    "fig"
   ]
  },
  {
   "cell_type": "markdown",
   "metadata": {},
   "source": [
    "- "
   ]
  },
  {
   "cell_type": "markdown",
   "metadata": {},
   "source": [
    "#### A3:"
   ]
  },
  {
   "cell_type": "markdown",
   "metadata": {},
   "source": [
    "- The larger margin (red). \n",
    "- The smaller the margin the more you're assuming your model is correct and the more likely it will be over-fit and not generalize well.\n",
    "<!--- > <img src=\"https://raw.githubusercontent.com/jirvingphd/dsc-introduction-to-support-vector-machines-online-ds-pt-100719/master/images/new_SVM_test2.png\"> --->"
   ]
  },
  {
   "cell_type": "markdown",
   "metadata": {},
   "source": [
    "# Support Vector Machines "
   ]
  },
  {
   "cell_type": "markdown",
   "metadata": {},
   "source": [
    "\n",
    "\n",
    "<img src=\"https://raw.githubusercontent.com/jirvingphd/fsds_100719_cohort_notes/master/images/i_support_vector_machines.jpg\" width=60%>\n",
    "\n",
    "> Available on Amazon. Ask me how I know. 😅"
   ]
  },
  {
   "cell_type": "markdown",
   "metadata": {},
   "source": [
    "## Support Vector Machine - Max-Margin  Classifier"
   ]
  },
  {
   "cell_type": "markdown",
   "metadata": {},
   "source": [
    "> Our goal is to **maximize the separation between the two hyperplanes.**\n",
    "\n",
    "<img src=\"https://raw.githubusercontent.com/jirvingphd/dsc-introduction-to-support-vector-machines-online-ds-pt-100719/master/images/new_SVM_4.png\" width=70%>\n",
    " "
   ]
  },
  {
   "cell_type": "markdown",
   "metadata": {},
   "source": [
    "### Terminology"
   ]
  },
  {
   "cell_type": "markdown",
   "metadata": {},
   "source": [
    "#### Hyperplane: "
   ]
  },
  {
   "cell_type": "markdown",
   "metadata": {},
   "source": [
    "- a $n$-dimensional line.\n",
    "- These hyperplanes are defined by two terms: $w_T$ and $b$. \n",
    "    - $w_T$ term is called the **weight vector** and contains the weights that are used in the classification.\n",
    "    - $b$ term is called the **bias** and functions as an offset term. \n",
    "        - If there were no bias term, the hyperplane would always go through the origin which would not be very generalizable! "
   ]
  },
  {
   "cell_type": "markdown",
   "metadata": {},
   "source": [
    "#### Reminder: Linear Equation Notation vs Linear Regression"
   ]
  },
  {
   "cell_type": "markdown",
   "metadata": {},
   "source": [
    "> **in Linear Regression, we predict $y$ using 2 parameters, m (slope) + b(intercept/constant):**\n",
    "$$ \\large y = mx+b $$\n",
    "where: \n",
    "- $x$ = input data for modeling\n",
    "- $y$ = model] predictions\n",
    "- $m$ = slope\n",
    "- $b$ = intercept\n",
    "\n",
    ">**In Linear Model Formulas, terminology/notation changes:**\n",
    "- slopes $(m)$ becomes **weights ($w$)**\n",
    "- constants $b$ becomes **biases ($b$)**\n",
    "$$ \\large y =  XW^T+B $$\n",
    "- $x$ = input data for modeling\n",
    "- $y$ = model] predictions\n",
    "- $w$ is the weight (slope)\n",
    "- $b$ is the bias (constant)\n",
    "\n",
    "<!---<img src=\"https://raw.githubusercontent.com/jirvingphd/fsds_100719_cohort_notes/master/images/linear _model_multi_inputs_and_outputs.png\" width=40%>\n",
    "\n",
    "<img src=\"https://raw.githubusercontent.com/jirvingphd/fsds_100719_cohort_notes/master/images/linear_model_multi_inputs.png\" width=40%>\n",
    "\n",
    "<!---<img src=\"https://raw.githubusercontent.com/jirvingphd/fsds_100719_cohort_notes/master/images/linear_model_multi_inputs_arrows.png\" width=40%>\n",
    "--->"
   ]
  },
  {
   "cell_type": "markdown",
   "metadata": {
    "heading_collapsed": true
   },
   "source": [
    "#### Decision boundary: \n",
    "\n",
    "- The hyperplane that divides/separates the classes\n",
    "<img src=\"https://raw.githubusercontent.com/jirvingphd/dsc-introduction-to-support-vector-machines-online-ds-pt-100719/master/images/new_SVM_2.png\" width=30%>"
   ]
  },
  {
   "cell_type": "markdown",
   "metadata": {
    "heading_collapsed": true
   },
   "source": [
    "#### Margin\n",
    "\n",
    "- The distance between the decision boundary and the closes datapoints\n",
    "<img src=\"https://raw.githubusercontent.com/jirvingphd/dsc-introduction-to-support-vector-machines-online-ds-pt-100719/master/images/new_SVM_4.png\" width=30%>\n",
    " "
   ]
  },
  {
   "cell_type": "markdown",
   "metadata": {
    "heading_collapsed": true
   },
   "source": [
    "#### Support Vector:\n",
    "\n",
    "- \"Support vectors are the data points nearest to the hyperplane, the points of a data set that, if removed, would alter the position of the dividing hyperplane. Because of this, they can be considered the critical elements of a data set.\" - [KDnuggets - SVM simple explanation](https://www.kdnuggets.com/2016/07/support-vector-machines-simple-explanation.html) \n",
    "\n",
    "<img src=\"https://raw.githubusercontent.com/jirvingphd/dsc-introduction-to-support-vector-machines-online-ds-pt-100719/master/images/new_SVM_fin.png\" width=60%>"
   ]
  },
  {
   "cell_type": "markdown",
   "metadata": {
    "heading_collapsed": true
   },
   "source": [
    "#### Positive/Negative Hyperplanes\n",
    "\n",
    "> Note: For SVMs, we do not represent our classes as 0 and 1, instead we use -1 and +1\n",
    "\n",
    "- Positive Hyperplane:\n",
    "    - The line defined by the support vectors to the right (+) of the decision boundary\n",
    "    $$ b + w_Tx_{pos} =1$$\n",
    "\n",
    "    \n",
    "- Negative Hyperplane:\n",
    "    - The line defined support vector to the left (-) of the decision boundary\n",
    "    $$ b + w_Tx_{neg} =-1$$\n"
   ]
  },
  {
   "cell_type": "markdown",
   "metadata": {},
   "source": [
    "### Max Margin Optimization/Calculation"
   ]
  },
  {
   "cell_type": "markdown",
   "metadata": {},
   "source": [
    " \n",
    "- To maximize the margins between hyperplanes, first subtract the negative hyperplane's equation from the positive hyperplane's equation:\n",
    "\n",
    "$$ \\large w_T(x_{pos}-x_{neg}) = 2$$\n",
    "\n",
    "- Normalize $w_T$ by dividing both sides of the equation by its norm, $||w||$\n",
    "    - Note: $ || w ||= \\sqrt{\\sum^m_{j-1}w_j^2} $"
   ]
  },
  {
   "cell_type": "markdown",
   "metadata": {},
   "source": [
    "> **The equation becomes:**\n",
    "$$ \\large \\dfrac{w_T(x_{pos}-x_{neg})}{\\lVert w \\rVert} = \\dfrac{2}{\\lVert w \\rVert}$$\n",
    "\n",
    "- The left side of the equation = the distance between the positive and negative hyperplanes. (This is the **margin**)\n",
    "\n",
    "- The objective of the SVM is then maximizing $\\dfrac{2}{\\lVert w \\rVert}$ under the constraint/requirement that the samples are classified correctly. \n",
    "\n",
    "<!---This can also be written in one line as follows:\n",
    "- Note that maximizing $\\dfrac{2}{\\lVert w \\rVert}$ means we're minimizing $\\lVert w \\rVert$, or\n",
    "    - as is done in practice because it seems to be easier to be minimized, $\\dfrac{1}{2}\\lVert w \\rVert^2$.\n",
    "\n",
    "> Contraints expressed mathematically:\n",
    "- $ b + w_Tx^{(i)} \\geq 1$  if $y ^{(i)} = 1$\n",
    "- $ b + w_Tx^{(i)} \\leq -1$  if $y ^{(i)} = -1$<br>\n",
    "For $i= 1,\\ldots ,N$\n",
    "> These equations say that:\n",
    "- all negative samples should fall on the left side of the negative hyperplane\n",
    "- whereas all the positive samples should fall on the right of the positive hyperplane. \n",
    "\n",
    "\n",
    "\n",
    "$y ^{(i)} (b + w_Tx^{(i)} )\\geq 1$  for each $i$\n",
    "--->"
   ]
  },
  {
   "cell_type": "markdown",
   "metadata": {},
   "source": [
    "## But what if my data isn't easily separable?\n",
    "- When does maximizing the margin cause problems?"
   ]
  },
  {
   "cell_type": "markdown",
   "metadata": {},
   "source": [
    "<img src=\"https://raw.githubusercontent.com/learn-co-students/dsc-introduction-to-support-vector-machines-online-ds-pt-100719/master/images/new_SVM_C.png\">\n",
    "\n",
    ">- So Where do we go from here?/ What can we do about this?"
   ]
  },
  {
   "cell_type": "markdown",
   "metadata": {},
   "source": [
    "### Two Types of SVM Max-Margin Classifier\n",
    "\n",
    "\n",
    "- Two kinds of max-margin classifiers:\n",
    "    - hard margin = no errors whatsoever\n",
    "    - soft margin = allows for errors\n"
   ]
  },
  {
   "cell_type": "markdown",
   "metadata": {},
   "source": [
    "## The Soft-Margin Classifier"
   ]
  },
  {
   "cell_type": "markdown",
   "metadata": {},
   "source": [
    "- The linear constraints need to be relaxed for data that are not linearly separable.\n",
    "- We do this by adding slack variables $\\xi$ to our margins. \n",
    "    - By adding some slack ( allowance for misclassification), we improve model generalizability while sacrificing accuracy\n",
    "> Soft Margine Constraints:\n",
    ">- $ b + w_Tx^{(i)} \\geq 1-\\xi^{(i)}$  if $y ^{(i)} = 1$\n",
    ">- $ b + w_Tx^{(i)} \\leq -1+\\xi^{(i)}$  if $y ^{(i)} = -1$<br>For $i= 1,\\ldots ,N$\n",
    "\n",
    "\n",
    "- The objective function (AKA the function you want to minimize) is \n",
    "\n",
    " $$\\dfrac{1}{2}\\lVert w \\rVert^2+ C(\\sum_i \\xi^{(i)})$$\n",
    "- The hyperparameter $C$ is used to define how much slack is allowed.\n"
   ]
  },
  {
   "cell_type": "markdown",
   "metadata": {},
   "source": [
    "### The Hyperparameter $C$\n",
    "\n",
    "Q: What happens if $C$ is very large? (What errors do we care about more?)"
   ]
  },
  {
   "cell_type": "markdown",
   "metadata": {},
   "source": [
    "\n",
    "- C determines the amount of allowed misclassified data point. \n",
    "    - When C is large, misclassifications are heavily punished, so we get left figure. \n",
    "\n",
    "    - When C is small, misclassifications are accepted to maximize overall margin, and we get right figure.\n",
    "    \n",
    "-  **Important note: scikit-learn's `c` is really the inverse of C (`1/C`)**: \n",
    "    - So using a higher value of `c` is a smaller regularization or smaller penalty, allowing more misclassified data points. \n",
    "    - whereas a lower value of `c` is a higher penalty and allowed fewer misclassified datapoints.\n",
    "        \n",
    "        \n",
    "<img src=\"https://raw.githubusercontent.com/learn-co-students/dsc-introduction-to-support-vector-machines-online-ds-pt-100719/master/images/new_SVM_C.png\">\n",
    "\n",
    "\n",
    "\n",
    "<!---=\n",
    "## Classification error\n",
    "\n",
    "We minimize the two kinds of error:\n",
    " - how many are \"misclassified\" \n",
    " - how many are in bad boundary (within margin)\n",
    " \n",
    "\n",
    "This gives us something like this:\n",
    "\n",
    "$Error_{total} = Error_{classification} + Error_{margin}$\n",
    " \n",
    "\n",
    "- We start from our margin to count the error (instead of the center)\n",
    "\n",
    "## Margin error\n",
    "\n",
    "- $E = |W|^2 = ||W_1||+||W_2|| + …$ \n",
    "    + big vs small margin (we want very large)\n",
    "- $M = \\frac{2}{||W||}$ \n",
    "    + inverse proportion, large margin → small error\n",
    "\n",
    "Turns out to the same as the L2 Regularization!\n",
    "\n",
    "## Gradient Descent to minimize--->"
   ]
  },
  {
   "cell_type": "markdown",
   "metadata": {},
   "source": [
    "# The Kernel Trick"
   ]
  },
  {
   "cell_type": "markdown",
   "metadata": {},
   "source": [
    "### Kernel Function Resources"
   ]
  },
  {
   "cell_type": "markdown",
   "metadata": {},
   "source": [
    "- **Blog Posts/Articles**\n",
    "    - [Blog Post on Hyperparameter Tuning](https://medium.com/all-things-ai/in-depth-parameter-tuning-for-svc-758215394769)\n",
    "    - \n",
    "\n",
    "- **Scikit-Learn Documentation:**\n",
    "    - [SVMs for Classification](https://scikit-learn.org/stable/modules/svm.html#classification)\n",
    "    - [Scikit-Learn Docs: Kernel Functions](https://scikit-learn.org/stable/modules/svm.html#svm-kernels)\n",
    "\n",
    "        - [Scikit-Learn SVM Math Equations](https://scikit-learn.org/stable/modules/svm.html#mathematical-formulation)"
   ]
  },
  {
   "cell_type": "markdown",
   "metadata": {},
   "source": [
    "> #### Q: But what do we do when don't have linearly separable data??\n",
    "\n",
    "<img src=\"https://raw.githubusercontent.com/learn-co-students/dsc-the-kernel-trick-online-ds-pt-100719/master/images/new_SVM_nonlin.png\" width=60%>"
   ]
  },
  {
   "cell_type": "markdown",
   "metadata": {},
   "source": [
    "> #### A: When a simple model isn't good enough, extend to higher dimensions.\n",
    "\n",
    "> Use a kernel function to transform the data into a higher dimension and then separate the data in the higher dimension.\n",
    "\n",
    "<img src=\"https://raw.githubusercontent.com/learn-co-students/dsc-the-kernel-trick-online-ds-pt-100719/master/images/new_SVM_kernel.png\" width=60%>\n"
   ]
  },
  {
   "cell_type": "markdown",
   "metadata": {},
   "source": [
    "## scikit-learn kernels + hyperparameters for `SVC`"
   ]
  },
  {
   "cell_type": "markdown",
   "metadata": {},
   "source": [
    "- Summarizing the available functions and their hyperparameters.\n",
    "\n",
    "- Recall that in general, `C` is the parameter for balancing standard accuracy metrics for tuning classifiers versus the decision boundary distance."
   ]
  },
  {
   "cell_type": "markdown",
   "metadata": {
    "ExecuteTime": {
     "end_time": "2020-04-15T20:27:38.825498Z",
     "start_time": "2020-04-15T20:27:38.816259Z"
    },
    "heading_collapsed": true
   },
   "source": [
    "#### 1. Radial Basis Functions (RBF) Kernel\n",
    "$$\\exp{(-\\gamma \\lVert  x -  x' \\rVert^2)} $$\n",
    "- [Hyperparameters](https://scikit-learn.org/stable/auto_examples/svm/plot_rbf_parameters.html):\n",
    "    1. `C`\n",
    "    2. $\\gamma$, which can be specified using `gamma` in scikit-learn (default='auto')\n",
    "        - Large gamma = overfitting\n",
    "        - Small gamma = underfitting"
   ]
  },
  {
   "cell_type": "markdown",
   "metadata": {
    "heading_collapsed": true
   },
   "source": [
    "#### 2. Polynomial Kernel\n",
    "$$(\\gamma \\langle  x -  x' \\rangle+r)^d $$\n",
    "- Hyperparameters:\n",
    "    1. $\\gamma$, which can be specified using `gamma` in scikit-learn\n",
    "    2. $r$, which can be specified using `coef0` in scikit-learn\n",
    "    3. $d$, which can be specified using `degree` in scikit-learn"
   ]
  },
  {
   "cell_type": "markdown",
   "metadata": {
    "heading_collapsed": true
   },
   "source": [
    "#### 3. Sigmoid Kernel\n",
    "$$\\tanh ( \\gamma\\langle  x -  x' \\rangle+r) $$\n",
    "- Hyperparameters:\n",
    "    1. $\\gamma$, which can be specified using `gamma` in scikit-learn\n",
    "    2. $r$, which can be specified using `coef0` in scikit-learn\n"
   ]
  },
  {
   "cell_type": "markdown",
   "metadata": {},
   "source": [
    "### Other Types of SVC Models in sklearn"
   ]
  },
  {
   "cell_type": "markdown",
   "metadata": {
    "heading_collapsed": true
   },
   "source": [
    "#### NuSVC\n",
    "- Like SVC, NuSVC but adds a parameter $v$ (see hyperparameters below). \n",
    "- NuSVC implements \"one-against-one\" approach when number of classes >2\n",
    "    - when there are n classes, $\\dfrac{n*(n-1)}{2}$ classifiers are created, and each one classifies samples in 2 classes. \n",
    "\n",
    "\n",
    "- Hyperparameters:\n",
    "    - $v$: controls the number of support vectors and training errors\n",
    "        - creates upper bound on training errors\n",
    "        - creates lower bound on support vectors\n"
   ]
  },
  {
   "cell_type": "markdown",
   "metadata": {
    "heading_collapsed": true,
    "hidden": true
   },
   "source": [
    "##### LinearSVC\n",
    "- Like SVC but LinearSVC implements \"one-vs-rest\" so when there are $n$ classes, just $n$ classifiers are created and each one classifies samples in 2 classes (class of interest and all others)\n",
    "- LinearSVC generates more classifiers, so LinearSVC tends to scale better."
   ]
  },
  {
   "cell_type": "markdown",
   "metadata": {},
   "source": [
    "### But there's sooo many options. How do I pick a kernel?!?"
   ]
  },
  {
   "cell_type": "markdown",
   "metadata": {},
   "source": [
    "> - To keep it simple:\n",
    "    - If your data looks linearly separable, use linear SVC, otherwise use RBF\n",
    "    - But I am sure you can find some technical papers discussing the tradeoffs of all of the options.\n",
    "     - (I wasn't able to find a good high-level comparison or use-case type of article.)"
   ]
  },
  {
   "cell_type": "markdown",
   "metadata": {},
   "source": [
    "# 📙ACTIVITY: Classification with Support Vector Machines"
   ]
  },
  {
   "cell_type": "markdown",
   "metadata": {},
   "source": [
    "\n",
    "> - Jump over to the `Support-Vector-Machines-Iowa_prisoners.ipynb` notebook in the same folder as this notebook. \n",
    "\n",
    "- Run the `MODEL` section 2-3 times, changing the dataset used each time.\n",
    "\n",
    "\n",
    "-  Modify the `PRISONERS` and `RESAMPLED_PRISONERS` to control the dataset used:\n",
    "    1. `PRISONERS` = False,`RESAMPLED_PRISONERS` = False\n",
    "        - Small dataset ~50/50 split.\n",
    "    2. `PRISONERS` = True, `RESAMPLED_PRISONERS` = False\n",
    "        - Large imbalanced dataset.\n",
    "    3. `PRISONERS` = True, `RESAMPLED_PRISONERS` = True\n",
    "        - Large balanced dataset.\n",
    "    \n",
    "   "
   ]
  },
  {
   "cell_type": "markdown",
   "metadata": {},
   "source": [
    "___"
   ]
  },
  {
   "cell_type": "markdown",
   "metadata": {
    "heading_collapsed": true
   },
   "source": [
    "# APPENDIX"
   ]
  },
  {
   "cell_type": "markdown",
   "metadata": {
    "heading_collapsed": true,
    "hidden": true
   },
   "source": [
    "## Note re: predictions/probability"
   ]
  },
  {
   "cell_type": "markdown",
   "metadata": {
    "hidden": true
   },
   "source": [
    "> You can make predictions using support vector machines. The SVC decision function gives a probability score per class. However, this is not done by default. You'll need to set the `probability` argument equal to `True`. Scikit-learn internally performs cross-validation to compute the probabilities, so you can expect that setting `probability` to `True` makes the calculations longer. For large datasets, computation can take considerable time to execute.\n",
    "\n",
    "- In other words:\n",
    "    - If you want to get the probabiltiies (`.predict_proba`) for ROC AUC, you would have to instantiate your SVC with the parameter `SVC(probability=True)`\n",
    "    - https://www.kaggle.com/c/home-credit-default-risk/discussion/63499"
   ]
  },
  {
   "cell_type": "code",
   "execution_count": null,
   "metadata": {
    "hidden": true
   },
   "outputs": [],
   "source": []
  }
 ],
 "metadata": {
  "kernelspec": {
   "display_name": "learn-env-new",
   "language": "python",
   "name": "learn-env-new"
  },
  "language_info": {
   "codemirror_mode": {
    "name": "ipython",
    "version": 3
   },
   "file_extension": ".py",
   "mimetype": "text/x-python",
   "name": "python",
   "nbconvert_exporter": "python",
   "pygments_lexer": "ipython3",
   "version": "3.8.5"
  },
  "toc": {
   "base_numbering": 1,
   "nav_menu": {},
   "number_sections": true,
   "sideBar": true,
   "skip_h1_title": false,
   "title_cell": "Table of Contents",
   "title_sidebar": "Contents",
   "toc_cell": false,
   "toc_position": {
    "height": "calc(100% - 180px)",
    "left": "10px",
    "top": "150px",
    "width": "278.993px"
   },
   "toc_section_display": true,
   "toc_window_display": true
  },
  "varInspector": {
   "cols": {
    "lenName": 16,
    "lenType": 16,
    "lenVar": 40
   },
   "kernels_config": {
    "python": {
     "delete_cmd_postfix": "",
     "delete_cmd_prefix": "del ",
     "library": "var_list.py",
     "varRefreshCmd": "print(var_dic_list())"
    },
    "r": {
     "delete_cmd_postfix": ") ",
     "delete_cmd_prefix": "rm(",
     "library": "var_list.r",
     "varRefreshCmd": "cat(var_dic_list()) "
    }
   },
   "types_to_exclude": [
    "module",
    "function",
    "builtin_function_or_method",
    "instance",
    "_Feature"
   ],
   "window_display": false
  },
  "widgets": {
   "application/vnd.jupyter.widget-state+json": {
    "state": {
     "3176a925b1da4812b6b9a08eaa9a47e5": {
      "model_module": "@jupyter-widgets/controls",
      "model_module_version": "1.5.0",
      "model_name": "ProgressStyleModel",
      "state": {
       "description_width": "initial"
      }
     },
     "6cdfcbcf7d9e46788a093ca3e89884cf": {
      "model_module": "@jupyter-widgets/base",
      "model_module_version": "1.2.0",
      "model_name": "LayoutModel",
      "state": {}
     },
     "7f45943170bc4076966bdad19d1993bb": {
      "model_module": "@jupyter-widgets/base",
      "model_module_version": "1.2.0",
      "model_name": "LayoutModel",
      "state": {}
     },
     "907fbf82d8fd4b0aa4bd1e20f61cd86c": {
      "model_module": "@jupyter-widgets/controls",
      "model_module_version": "1.5.0",
      "model_name": "DescriptionStyleModel",
      "state": {
       "description_width": ""
      }
     },
     "b1e379b187b447b6a38deec60ef877de": {
      "model_module": "@jupyter-widgets/base",
      "model_module_version": "1.2.0",
      "model_name": "LayoutModel",
      "state": {}
     },
     "b2c21f049d1c447ab6bdb2eb160fc01c": {
      "model_module": "@jupyter-widgets/controls",
      "model_module_version": "1.5.0",
      "model_name": "HTMLModel",
      "state": {
       "layout": "IPY_MODEL_b1e379b187b447b6a38deec60ef877de",
       "style": "IPY_MODEL_907fbf82d8fd4b0aa4bd1e20f61cd86c",
       "value": " 0/6497 [00:00&lt;?, ?it/s]"
      }
     },
     "b83511e5360247068a26da1552bce1b5": {
      "model_module": "@jupyter-widgets/controls",
      "model_module_version": "1.5.0",
      "model_name": "HBoxModel",
      "state": {
       "children": [
        "IPY_MODEL_fca5f875a10349d59c154faa80e49698",
        "IPY_MODEL_b2c21f049d1c447ab6bdb2eb160fc01c"
       ],
       "layout": "IPY_MODEL_7f45943170bc4076966bdad19d1993bb"
      }
     },
     "fca5f875a10349d59c154faa80e49698": {
      "model_module": "@jupyter-widgets/controls",
      "model_module_version": "1.5.0",
      "model_name": "IntProgressModel",
      "state": {
       "description": "  0%",
       "layout": "IPY_MODEL_6cdfcbcf7d9e46788a093ca3e89884cf",
       "max": 6497,
       "style": "IPY_MODEL_3176a925b1da4812b6b9a08eaa9a47e5"
      }
     }
    },
    "version_major": 2,
    "version_minor": 0
   }
  }
 },
 "nbformat": 4,
 "nbformat_minor": 2
}
