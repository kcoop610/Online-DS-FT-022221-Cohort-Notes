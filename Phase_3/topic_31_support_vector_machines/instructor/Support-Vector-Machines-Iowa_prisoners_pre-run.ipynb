{
 "cells": [
  {
   "cell_type": "markdown",
   "metadata": {},
   "source": [
    "# Support Vector Machines\n",
    "\n",
    "_Adapted from Yish's interpretation of Chapter 9 of Introduction to Statistical Learning in R_"
   ]
  },
  {
   "cell_type": "markdown",
   "metadata": {},
   "source": [
    "## Support Vector Classifier\n",
    "\n",
    "SVMs approach the classification problem in a direct way - __we try and find a plane that separates the classes in the feature space__\n",
    "\n",
    "If we cannot, we do one of the two things:\n",
    "\n",
    "- We __soften__ what we mean by \"separates\" \n",
    "- We __enlarge__ the feature space so that the separation is possible\n",
    "\n",
    "__Notes on Terminology__:\n",
    "\n",
    "- Support vector machines are sometimes used as a general method that incorporate maximal margin classifier, support vector classifiers etc. However, strictly by definition, support vector machine is a support vector classifier utilized with non-linear kernel. \n",
    "\n",
    "> \"When the support vector classifier is combined with a non-linear kernel such as (9.22), the resulting classifier is known as a support vector machine.\" -- P366, ISLR\n"
   ]
  },
  {
   "cell_type": "markdown",
   "metadata": {},
   "source": [
    "Example of a boundary hyperplane in a two dimensional space:\n",
    "\n",
    "<img src=\"../images/exampleboundary.png\" width=500>"
   ]
  },
  {
   "cell_type": "markdown",
   "metadata": {},
   "source": [
    "### Maximal Margin Classifier\n",
    "\n",
    "SVM tackles the problem of classification directly, in the sense that it does not compute a probabilistic model. Instead, it constructs a hyperplane to directly separate the classes. \n",
    "\n",
    "For example:\n",
    "\n",
    "![](images/manyboundaries.png)\n",
    "\n",
    "However, the problem with this approach is that we can come up with infinite number of such hyperplanes as we can tilt the line back and forth and it would still serve the same purpose.\n",
    "\n",
    "__Therefore, we are using the hyperplane such that the it would be the farthest from training observations from either side__. The intuition behind it is that if we have chosen a hyperplane that is far from the training observations, it would be far for the testing observations as well. <br>\n",
    "\n",
    "The distance between the training observations and the hyperplane is called the _margin_, and the classifier aims to find the maximal margin from the hyperplane that separates the training examples:\n",
    "\n",
    "<img src=\"images/bestboundary.png\" width=500>"
   ]
  },
  {
   "cell_type": "markdown",
   "metadata": {},
   "source": [
    "## Soft Margin Classifier\n",
    "\n",
    "Even though the maximal margin classifier sounds like an intuitive idea and not too difficult to optimize for, it might not be desirable under two circumstances:\n",
    "\n",
    "1. It will be sensitive to individual training observations\n",
    "2. The algorithm will not converge if the training observations cannot be linearly separated.\n",
    "\n",
    "![](images/softboundary.png)\n",
    "\n",
    "What happens if we cannot come up with a hyperplane that perfectly separates the training observations like the ones above? The first solution is the soft margin classifier, where we can loosen up our definition of the margin. \n",
    "\n",
    "<img src=\"images/withoutboundary.png\" width=500>\n",
    "\n",
    "__Rather than seeking the largest possible margin so that every observation is not only on the correct side of the hyperplane but also on the correct side of the margin, we instead allow some observations to be on the incorrect side of the margin, or even on the incorrect side of the hyperplane.__\n",
    "\n",
    "![](images/errortolerance.png)"
   ]
  },
  {
   "cell_type": "markdown",
   "metadata": {},
   "source": [
    "In this case, the hyperparameter ε is known as the slack variables, which dictate how many training observations we allow to violate the rule of margins or even the hyperplane. The amount of slack is bounded by C accordingly.\n",
    "\n",
    "The parameter εi tells us where the ith training observation is located. \n",
    "- If εi = 0, then we say the ith training observation is on the correct side of the margin;\n",
    "- If εi > 0, then we say it has violated the margin\n",
    "- If εi > 1, then it is on the wrong side of the hyperplane\n",
    "\n",
    "The value C is the sum of ε across all i training observations. The parameter C controls the bias-variance tradeoff of the statistical technique. A high value of C meaning we are more tolerant of the violation, which in turn might give us a model that has high bias but low variance; however, a low value of C indicates low tolerance of the violation, potentially giving us more variance but less bias. \n",
    "\n",
    "__How do we determine the ideal value of C?__\n",
    "\n",
    "![](images/impactofchyperparameter.png)\n",
    "\n",
    "__Note!__\n",
    "\n",
    "In scikit-learn implementation, `c` is defined as the inverse. A higher value of `c` is a smaller regularization or smaller penalty, whereas a lower value of `c` is a higher penalty."
   ]
  },
  {
   "cell_type": "markdown",
   "metadata": {},
   "source": [
    "__Note!__\n",
    "It is important to point out that in the support vector classfier (or SVM) in general, only the vectors on the margins are used for classification. They are called the __\"Support Vectors\"__"
   ]
  },
  {
   "cell_type": "markdown",
   "metadata": {},
   "source": [
    "## \"The Kernel Trick\"\n",
    "\n",
    "Sometimes we have training data that are not able to be separated even with softened margin:\n",
    "\n",
    "![](images/needforkerneltrick.png)\n",
    "\n",
    "The intuition to find the optimal fit is called feature space expansion:\n",
    "\n",
    "- First, we __enlarge__ the feature space through the use of kernel\n",
    "- Fit a support vector classifier in the enlarged space \n",
    "- This results in nonlinear decision boundaries in the original space \n",
    "\n",
    "\n",
    "<img src=\"images/nonlinearring.png\" width=500>\n",
    "\n",
    "<img src=\"images/nonlinearringin3d.png\" width=500>\n",
    "\n",
    "Why do we know that enlarging the feature space makes the data more linearly separable? [Cover's Theorem](https://en.wikipedia.org/wiki/Cover%27s_theorem).\n",
    "\n",
    "Another view:\n",
    "\n",
    "![](images/kernel_trick_hyperdimensional.png)"
   ]
  },
  {
   "cell_type": "markdown",
   "metadata": {},
   "source": [
    "## Implementation & Performance Comparison\n",
    "\n",
    "Docs: https://scikit-learn.org/stable/modules/generated/sklearn.svm.SVC.html"
   ]
  },
  {
   "cell_type": "code",
   "execution_count": 1,
   "metadata": {
    "ExecuteTime": {
     "end_time": "2021-05-13T15:18:52.520426Z",
     "start_time": "2021-05-13T15:18:51.318207Z"
    }
   },
   "outputs": [],
   "source": [
    "# imports\n",
    "import pandas as pd\n",
    "import numpy as np\n",
    "import matplotlib.pyplot as plt  \n",
    "\n",
    "from sklearn.model_selection import train_test_split  \n",
    "from time import time"
   ]
  },
  {
   "cell_type": "markdown",
   "metadata": {},
   "source": [
    "### Original Smaller Dataset "
   ]
  },
  {
   "cell_type": "code",
   "execution_count": 2,
   "metadata": {
    "ExecuteTime": {
     "end_time": "2021-05-13T15:18:52.540037Z",
     "start_time": "2021-05-13T15:18:52.522370Z"
    },
    "scrolled": false
   },
   "outputs": [
    {
     "name": "stdout",
     "output_type": "stream",
     "text": [
      "<class 'pandas.core.frame.DataFrame'>\n",
      "RangeIndex: 1372 entries, 0 to 1371\n",
      "Data columns (total 5 columns):\n",
      " #   Column    Non-Null Count  Dtype  \n",
      "---  ------    --------------  -----  \n",
      " 0   Variance  1372 non-null   float64\n",
      " 1   Skewness  1372 non-null   float64\n",
      " 2   Curtosis  1372 non-null   float64\n",
      " 3   Entropy   1372 non-null   float64\n",
      " 4   Class     1372 non-null   int64  \n",
      "dtypes: float64(4), int64(1)\n",
      "memory usage: 53.7 KB\n"
     ]
    },
    {
     "data": {
      "text/html": [
       "<div>\n",
       "<style scoped>\n",
       "    .dataframe tbody tr th:only-of-type {\n",
       "        vertical-align: middle;\n",
       "    }\n",
       "\n",
       "    .dataframe tbody tr th {\n",
       "        vertical-align: top;\n",
       "    }\n",
       "\n",
       "    .dataframe thead th {\n",
       "        text-align: right;\n",
       "    }\n",
       "</style>\n",
       "<table border=\"1\" class=\"dataframe\">\n",
       "  <thead>\n",
       "    <tr style=\"text-align: right;\">\n",
       "      <th></th>\n",
       "      <th>Variance</th>\n",
       "      <th>Skewness</th>\n",
       "      <th>Curtosis</th>\n",
       "      <th>Entropy</th>\n",
       "      <th>Class</th>\n",
       "    </tr>\n",
       "  </thead>\n",
       "  <tbody>\n",
       "    <tr>\n",
       "      <th>0</th>\n",
       "      <td>3.62160</td>\n",
       "      <td>8.6661</td>\n",
       "      <td>-2.8073</td>\n",
       "      <td>-0.44699</td>\n",
       "      <td>0</td>\n",
       "    </tr>\n",
       "    <tr>\n",
       "      <th>1</th>\n",
       "      <td>4.54590</td>\n",
       "      <td>8.1674</td>\n",
       "      <td>-2.4586</td>\n",
       "      <td>-1.46210</td>\n",
       "      <td>0</td>\n",
       "    </tr>\n",
       "    <tr>\n",
       "      <th>2</th>\n",
       "      <td>3.86600</td>\n",
       "      <td>-2.6383</td>\n",
       "      <td>1.9242</td>\n",
       "      <td>0.10645</td>\n",
       "      <td>0</td>\n",
       "    </tr>\n",
       "    <tr>\n",
       "      <th>3</th>\n",
       "      <td>3.45660</td>\n",
       "      <td>9.5228</td>\n",
       "      <td>-4.0112</td>\n",
       "      <td>-3.59440</td>\n",
       "      <td>0</td>\n",
       "    </tr>\n",
       "    <tr>\n",
       "      <th>4</th>\n",
       "      <td>0.32924</td>\n",
       "      <td>-4.4552</td>\n",
       "      <td>4.5718</td>\n",
       "      <td>-0.98880</td>\n",
       "      <td>0</td>\n",
       "    </tr>\n",
       "  </tbody>\n",
       "</table>\n",
       "</div>"
      ],
      "text/plain": [
       "   Variance  Skewness  Curtosis  Entropy  Class\n",
       "0   3.62160    8.6661   -2.8073 -0.44699      0\n",
       "1   4.54590    8.1674   -2.4586 -1.46210      0\n",
       "2   3.86600   -2.6383    1.9242  0.10645      0\n",
       "3   3.45660    9.5228   -4.0112 -3.59440      0\n",
       "4   0.32924   -4.4552    4.5718 -0.98880      0"
      ]
     },
     "metadata": {},
     "output_type": "display_data"
    },
    {
     "data": {
      "text/plain": [
       "None"
      ]
     },
     "metadata": {},
     "output_type": "display_data"
    }
   ],
   "source": [
    "## ORIGINAL DATA\n",
    "\n",
    "df0 = pd.read_csv('../data/data_banknote_authentication.csv', header = None)\n",
    "\n",
    "# our data needs column names\n",
    "headers = [\"Variance\", \"Skewness\", \"Curtosis\", \"Entropy\", \"Class\"]\n",
    "df0.columns = headers\n",
    "\n",
    "display(df0.head(),df0.info())"
   ]
  },
  {
   "cell_type": "code",
   "execution_count": 3,
   "metadata": {
    "ExecuteTime": {
     "end_time": "2021-05-13T15:18:52.555628Z",
     "start_time": "2021-05-13T15:18:52.545209Z"
    }
   },
   "outputs": [
    {
     "data": {
      "text/html": [
       "<div>\n",
       "<style scoped>\n",
       "    .dataframe tbody tr th:only-of-type {\n",
       "        vertical-align: middle;\n",
       "    }\n",
       "\n",
       "    .dataframe tbody tr th {\n",
       "        vertical-align: top;\n",
       "    }\n",
       "\n",
       "    .dataframe thead th {\n",
       "        text-align: right;\n",
       "    }\n",
       "</style>\n",
       "<table border=\"1\" class=\"dataframe\">\n",
       "  <thead>\n",
       "    <tr style=\"text-align: right;\">\n",
       "      <th></th>\n",
       "      <th>Variance</th>\n",
       "      <th>Skewness</th>\n",
       "      <th>Curtosis</th>\n",
       "      <th>Entropy</th>\n",
       "    </tr>\n",
       "  </thead>\n",
       "  <tbody>\n",
       "    <tr>\n",
       "      <th>275</th>\n",
       "      <td>3.43120</td>\n",
       "      <td>6.263700</td>\n",
       "      <td>-1.95130</td>\n",
       "      <td>-0.36165</td>\n",
       "    </tr>\n",
       "    <tr>\n",
       "      <th>1319</th>\n",
       "      <td>0.66365</td>\n",
       "      <td>-0.045533</td>\n",
       "      <td>-0.18794</td>\n",
       "      <td>0.23447</td>\n",
       "    </tr>\n",
       "    <tr>\n",
       "      <th>159</th>\n",
       "      <td>1.35660</td>\n",
       "      <td>4.235800</td>\n",
       "      <td>2.13410</td>\n",
       "      <td>0.32110</td>\n",
       "    </tr>\n",
       "    <tr>\n",
       "      <th>1227</th>\n",
       "      <td>-2.56400</td>\n",
       "      <td>-1.705100</td>\n",
       "      <td>1.50260</td>\n",
       "      <td>0.32757</td>\n",
       "    </tr>\n",
       "    <tr>\n",
       "      <th>798</th>\n",
       "      <td>-5.49010</td>\n",
       "      <td>9.104800</td>\n",
       "      <td>-0.38758</td>\n",
       "      <td>-5.97630</td>\n",
       "    </tr>\n",
       "    <tr>\n",
       "      <th>...</th>\n",
       "      <td>...</td>\n",
       "      <td>...</td>\n",
       "      <td>...</td>\n",
       "      <td>...</td>\n",
       "    </tr>\n",
       "    <tr>\n",
       "      <th>646</th>\n",
       "      <td>1.16200</td>\n",
       "      <td>10.292600</td>\n",
       "      <td>-1.28210</td>\n",
       "      <td>-4.03920</td>\n",
       "    </tr>\n",
       "    <tr>\n",
       "      <th>1296</th>\n",
       "      <td>-3.59330</td>\n",
       "      <td>0.229680</td>\n",
       "      <td>0.71260</td>\n",
       "      <td>-0.33320</td>\n",
       "    </tr>\n",
       "    <tr>\n",
       "      <th>1332</th>\n",
       "      <td>0.90407</td>\n",
       "      <td>3.370800</td>\n",
       "      <td>-4.49870</td>\n",
       "      <td>-3.69650</td>\n",
       "    </tr>\n",
       "    <tr>\n",
       "      <th>783</th>\n",
       "      <td>0.47368</td>\n",
       "      <td>3.360500</td>\n",
       "      <td>-4.50640</td>\n",
       "      <td>-4.04310</td>\n",
       "    </tr>\n",
       "    <tr>\n",
       "      <th>887</th>\n",
       "      <td>-3.26920</td>\n",
       "      <td>-12.740600</td>\n",
       "      <td>15.55730</td>\n",
       "      <td>-0.14182</td>\n",
       "    </tr>\n",
       "  </tbody>\n",
       "</table>\n",
       "<p>1097 rows × 4 columns</p>\n",
       "</div>"
      ],
      "text/plain": [
       "      Variance   Skewness  Curtosis  Entropy\n",
       "275    3.43120   6.263700  -1.95130 -0.36165\n",
       "1319   0.66365  -0.045533  -0.18794  0.23447\n",
       "159    1.35660   4.235800   2.13410  0.32110\n",
       "1227  -2.56400  -1.705100   1.50260  0.32757\n",
       "798   -5.49010   9.104800  -0.38758 -5.97630\n",
       "...        ...        ...       ...      ...\n",
       "646    1.16200  10.292600  -1.28210 -4.03920\n",
       "1296  -3.59330   0.229680   0.71260 -0.33320\n",
       "1332   0.90407   3.370800  -4.49870 -3.69650\n",
       "783    0.47368   3.360500  -4.50640 -4.04310\n",
       "887   -3.26920 -12.740600  15.55730 -0.14182\n",
       "\n",
       "[1097 rows x 4 columns]"
      ]
     },
     "execution_count": 3,
     "metadata": {},
     "output_type": "execute_result"
    }
   ],
   "source": [
    "# define X and y, then train test split\n",
    "X0 = df0.drop('Class', axis=1)  \n",
    "y0 = df0['Class'] \n",
    "X_train0, X_test0, y_train0, y_test0 = train_test_split(X0, y0, test_size = 0.20) \n",
    "X_train0"
   ]
  },
  {
   "cell_type": "markdown",
   "metadata": {},
   "source": [
    "# 📙 Predicting Recidivism with SVC"
   ]
  },
  {
   "cell_type": "markdown",
   "metadata": {},
   "source": [
    "## OBTAIN"
   ]
  },
  {
   "cell_type": "markdown",
   "metadata": {},
   "source": [
    "- Iowa has a major problem with recidivism,  where ~38% of all inmates released from prison wind up back in jail after returning to a life of crime (AKA recidivism).\n",
    "- Dataset contains information on released prisoners and if they returned to prison within 3 years of being release. \n",
    "    - Dataset can be [found on Kaggle](https://www.kaggle.com/slonnadube/recidivism-for-offenders-released-from-prison), which was extracted from [Iowa's data portal](https://data.iowa.gov/Correctional-System/3-Year-Recidivism-for-Offenders-Released-from-Pris/mw8r-vqy4). \n",
    "\n",
    "- We will be using a partially pre-processed version of the dataset (columns have been renamed/simplified).\n",
    "\n",
    "<img src=\"https://raw.githubusercontent.com/jirvingphd/dsc-3-final-project-online-ds-ft-021119/master/LSA_map_with_counties_districts_and_B54A5BBCE4156.jpg\" width=20%> \n",
    "\n"
   ]
  },
  {
   "cell_type": "code",
   "execution_count": 4,
   "metadata": {
    "ExecuteTime": {
     "end_time": "2021-05-13T15:18:52.558853Z",
     "start_time": "2021-05-13T15:18:52.557252Z"
    }
   },
   "outputs": [],
   "source": [
    "# %load_ext autoreload\n",
    "# %autoreload 2\n",
    "# import functions_022221FT as fn"
   ]
  },
  {
   "cell_type": "code",
   "execution_count": 5,
   "metadata": {
    "ExecuteTime": {
     "end_time": "2021-05-13T15:18:54.114508Z",
     "start_time": "2021-05-13T15:18:52.560682Z"
    }
   },
   "outputs": [
    {
     "name": "stdout",
     "output_type": "stream",
     "text": [
      "<class 'pandas.core.frame.DataFrame'>\n",
      "Int64Index: 26020 entries, 0 to 26019\n",
      "Data columns (total 10 columns):\n",
      " #   Column          Non-Null Count  Dtype \n",
      "---  ------          --------------  ----- \n",
      " 0   race_ethnicity  25990 non-null  object\n",
      " 1   age_released    26017 non-null  object\n",
      " 2   crime_class     26020 non-null  object\n",
      " 3   crime_type      26020 non-null  object\n",
      " 4   crime_subtype   26020 non-null  object\n",
      " 5   release_type    24258 non-null  object\n",
      " 6   super_dist      16439 non-null  object\n",
      " 7   recidivist      26020 non-null  object\n",
      " 8   target_pop      26020 non-null  object\n",
      " 9   sex             26017 non-null  object\n",
      "dtypes: object(10)\n",
      "memory usage: 2.2+ MB\n"
     ]
    },
    {
     "data": {
      "text/html": [
       "<div>\n",
       "<style scoped>\n",
       "    .dataframe tbody tr th:only-of-type {\n",
       "        vertical-align: middle;\n",
       "    }\n",
       "\n",
       "    .dataframe tbody tr th {\n",
       "        vertical-align: top;\n",
       "    }\n",
       "\n",
       "    .dataframe thead th {\n",
       "        text-align: right;\n",
       "    }\n",
       "</style>\n",
       "<table border=\"1\" class=\"dataframe\">\n",
       "  <thead>\n",
       "    <tr style=\"text-align: right;\">\n",
       "      <th></th>\n",
       "      <th>race_ethnicity</th>\n",
       "      <th>age_released</th>\n",
       "      <th>crime_class</th>\n",
       "      <th>crime_type</th>\n",
       "      <th>crime_subtype</th>\n",
       "      <th>release_type</th>\n",
       "      <th>super_dist</th>\n",
       "      <th>recidivist</th>\n",
       "      <th>target_pop</th>\n",
       "      <th>sex</th>\n",
       "    </tr>\n",
       "  </thead>\n",
       "  <tbody>\n",
       "    <tr>\n",
       "      <th>0</th>\n",
       "      <td>Black - Non-Hispanic</td>\n",
       "      <td>25-34</td>\n",
       "      <td>C Felony</td>\n",
       "      <td>Violent</td>\n",
       "      <td>Robbery</td>\n",
       "      <td>Parole</td>\n",
       "      <td>7JD</td>\n",
       "      <td>Yes</td>\n",
       "      <td>Yes</td>\n",
       "      <td>Male</td>\n",
       "    </tr>\n",
       "    <tr>\n",
       "      <th>1</th>\n",
       "      <td>White - Non-Hispanic</td>\n",
       "      <td>25-34</td>\n",
       "      <td>D Felony</td>\n",
       "      <td>Property</td>\n",
       "      <td>Theft</td>\n",
       "      <td>Discharged – End of Sentence</td>\n",
       "      <td>NaN</td>\n",
       "      <td>Yes</td>\n",
       "      <td>No</td>\n",
       "      <td>Male</td>\n",
       "    </tr>\n",
       "    <tr>\n",
       "      <th>2</th>\n",
       "      <td>White - Non-Hispanic</td>\n",
       "      <td>35-44</td>\n",
       "      <td>B Felony</td>\n",
       "      <td>Drug</td>\n",
       "      <td>Trafficking</td>\n",
       "      <td>Parole</td>\n",
       "      <td>5JD</td>\n",
       "      <td>Yes</td>\n",
       "      <td>Yes</td>\n",
       "      <td>Male</td>\n",
       "    </tr>\n",
       "    <tr>\n",
       "      <th>3</th>\n",
       "      <td>White - Non-Hispanic</td>\n",
       "      <td>25-34</td>\n",
       "      <td>B Felony</td>\n",
       "      <td>Other</td>\n",
       "      <td>Other Criminal</td>\n",
       "      <td>Parole</td>\n",
       "      <td>6JD</td>\n",
       "      <td>No</td>\n",
       "      <td>Yes</td>\n",
       "      <td>Male</td>\n",
       "    </tr>\n",
       "    <tr>\n",
       "      <th>4</th>\n",
       "      <td>Black - Non-Hispanic</td>\n",
       "      <td>35-44</td>\n",
       "      <td>D Felony</td>\n",
       "      <td>Violent</td>\n",
       "      <td>Assault</td>\n",
       "      <td>Discharged – End of Sentence</td>\n",
       "      <td>NaN</td>\n",
       "      <td>Yes</td>\n",
       "      <td>No</td>\n",
       "      <td>Male</td>\n",
       "    </tr>\n",
       "  </tbody>\n",
       "</table>\n",
       "</div>"
      ],
      "text/plain": [
       "         race_ethnicity age_released crime_class crime_type   crime_subtype  \\\n",
       "0  Black - Non-Hispanic        25-34    C Felony    Violent         Robbery   \n",
       "1  White - Non-Hispanic        25-34    D Felony   Property           Theft   \n",
       "2  White - Non-Hispanic        35-44    B Felony       Drug     Trafficking   \n",
       "3  White - Non-Hispanic        25-34    B Felony      Other  Other Criminal   \n",
       "4  Black - Non-Hispanic        35-44    D Felony    Violent         Assault   \n",
       "\n",
       "                   release_type super_dist recidivist target_pop   sex  \n",
       "0                        Parole        7JD        Yes        Yes  Male  \n",
       "1  Discharged – End of Sentence        NaN        Yes         No  Male  \n",
       "2                        Parole        5JD        Yes        Yes  Male  \n",
       "3                        Parole        6JD         No        Yes  Male  \n",
       "4  Discharged – End of Sentence        NaN        Yes         No  Male  "
      ]
     },
     "metadata": {},
     "output_type": "display_data"
    },
    {
     "data": {
      "text/plain": [
       "None"
      ]
     },
     "metadata": {},
     "output_type": "display_data"
    }
   ],
   "source": [
    "import matplotlib.pyplot as plt\n",
    "import seaborn as sns\n",
    "import pandas as pd\n",
    "import numpy as np\n",
    "\n",
    "import plotly.express as px\n",
    "import plotly.graph_objects as go\n",
    "\n",
    "import warnings\n",
    "warnings.filterwarnings('ignore')\n",
    "\n",
    "plt.style.use('seaborn-notebook')\n",
    "\n",
    "renamed_data = 'https://raw.githubusercontent.com/jirvingphd/dsc-3-final-project-online-ds-ft-021119/master/datasets/Iowa_Prisoners_Renamed_Columns_fsds_100719.csv'\n",
    "df = pd.read_csv(renamed_data,index_col=0)\n",
    "\n",
    "## Drop unwanted cols using year\n",
    "df = df.drop(columns=['yr_released','report_year'])\n",
    "display(df.head(),df.info())"
   ]
  },
  {
   "cell_type": "markdown",
   "metadata": {},
   "source": [
    "## SCRUB"
   ]
  },
  {
   "cell_type": "markdown",
   "metadata": {},
   "source": [
    "- Null values (fill or drop)\n",
    "- Data Types (finding categorical variables)\n",
    "- Inspect the value_counts/labels of categoricals\n",
    "- Scaling or lack-off\n",
    "- One hot encoding\n"
   ]
  },
  {
   "cell_type": "code",
   "execution_count": 6,
   "metadata": {
    "ExecuteTime": {
     "end_time": "2021-05-13T15:18:54.119548Z",
     "start_time": "2021-05-13T15:18:54.117171Z"
    }
   },
   "outputs": [],
   "source": [
    "## Check null values\n",
    "# import missingno\n",
    "# missingno.matrix(df)\n",
    "# plt.show()\n",
    "# null_check = pd.DataFrame({\n",
    "#     '#null':df.isna().sum(),\n",
    "#     '%null':round(df.isna().sum()/len(df)*100,2)\n",
    "# })\n",
    "# null_check"
   ]
  },
  {
   "cell_type": "code",
   "execution_count": 7,
   "metadata": {
    "ExecuteTime": {
     "end_time": "2021-05-13T15:18:54.125331Z",
     "start_time": "2021-05-13T15:18:54.123559Z"
    },
    "scrolled": false
   },
   "outputs": [],
   "source": [
    "# ## inspect categories\n",
    "# dashes = '---'*20\n",
    "# for col in df.columns:\n",
    "#     print(dashes)\n",
    "#     print(f\"Value Counts for {col}:\")\n",
    "#     display(df[col].value_counts(dropna=False))"
   ]
  },
  {
   "cell_type": "markdown",
   "metadata": {},
   "source": [
    "### Feature Engineering"
   ]
  },
  {
   "cell_type": "markdown",
   "metadata": {},
   "source": [
    "#### `race_ethnicity`"
   ]
  },
  {
   "cell_type": "code",
   "execution_count": 8,
   "metadata": {
    "ExecuteTime": {
     "end_time": "2021-05-13T15:18:54.130760Z",
     "start_time": "2021-05-13T15:18:54.128302Z"
    }
   },
   "outputs": [],
   "source": [
    "# df['race_ethnicity'].value_counts(dropna=False)"
   ]
  },
  {
   "cell_type": "markdown",
   "metadata": {},
   "source": [
    "> - Simplify race and ethnicity down to race\n",
    "    - (also tried separating race and ethnicity and using as 2 separate features)."
   ]
  },
  {
   "cell_type": "code",
   "execution_count": 9,
   "metadata": {
    "ExecuteTime": {
     "end_time": "2021-05-13T15:18:54.152623Z",
     "start_time": "2021-05-13T15:18:54.132501Z"
    }
   },
   "outputs": [
    {
     "data": {
      "text/plain": [
       "White                        17596\n",
       "Black                         6148\n",
       "Hispanic                      1522\n",
       "American Native                522\n",
       "Asian or Pacific Islander      197\n",
       "NaN                             35\n",
       "Name: race, dtype: int64"
      ]
     },
     "execution_count": 9,
     "metadata": {},
     "output_type": "execute_result"
    }
   ],
   "source": [
    "# Defining Dictionary Map for race_ethnicity categories\n",
    "race_ethnicity_map = {'White - Non-Hispanic':'White',\n",
    "                        'Black - Non-Hispanic': 'Black',\n",
    "                        'White - Hispanic' : 'Hispanic',\n",
    "                        'American Indian or Alaska Native - Non-Hispanic' : 'American Native',\n",
    "                        'Asian or Pacific Islander - Non-Hispanic' : 'Asian or Pacific Islander',\n",
    "                        'Black - Hispanic' : 'Black',\n",
    "                        'American Indian or Alaska Native - Hispanic':'American Native',\n",
    "                        'White -' : 'White',\n",
    "                        'Asian or Pacific Islander - Hispanic' : 'Asian or Pacific Islander',\n",
    "                        'N/A -' : np.nan,\n",
    "                        'Black -':'Black'}\n",
    "\n",
    "df['race'] = df['race_ethnicity'].map(race_ethnicity_map)\n",
    "df['race'].value_counts(dropna=False)"
   ]
  },
  {
   "cell_type": "markdown",
   "metadata": {},
   "source": [
    "#### `crime_class`"
   ]
  },
  {
   "cell_type": "code",
   "execution_count": 10,
   "metadata": {
    "ExecuteTime": {
     "end_time": "2021-05-13T15:18:54.162403Z",
     "start_time": "2021-05-13T15:18:54.157095Z"
    }
   },
   "outputs": [],
   "source": [
    "# df['crime_class'].value_counts()"
   ]
  },
  {
   "cell_type": "markdown",
   "metadata": {},
   "source": [
    "> After some research, we found that several of the less-frequent classes were actually equivalent to other classes. (e.g. 'Special Sentence 2005' -> 'Sex Offender',)"
   ]
  },
  {
   "cell_type": "code",
   "execution_count": 11,
   "metadata": {
    "ExecuteTime": {
     "end_time": "2021-05-13T15:18:54.181969Z",
     "start_time": "2021-05-13T15:18:54.165124Z"
    }
   },
   "outputs": [
    {
     "data": {
      "text/plain": [
       "D Felony                  10487\n",
       "C Felony                   6803\n",
       "Aggravated Misdemeanor     4930\n",
       "B Felony                   1765\n",
       "Felony - Enhanced          1753\n",
       "Serious Misdemeanor         155\n",
       "Sex Offender                100\n",
       "NaN                          20\n",
       "A Felony                      4\n",
       "Simple Misdemeanor            3\n",
       "Name: crime_class, dtype: int64"
      ]
     },
     "execution_count": 11,
     "metadata": {},
     "output_type": "execute_result"
    }
   ],
   "source": [
    "# Remapping\n",
    "crime_class_map = {'Other Felony (Old Code)': np.nan ,#or other felony\n",
    "                  'Other Misdemeanor':np.nan,\n",
    "                   'Felony - Mandatory Minimum':np.nan, # if minimum then lowest sentence ==  D Felony\n",
    "                   'Special Sentence 2005': 'Sex Offender',\n",
    "                   'Other Felony' : np.nan ,\n",
    "                   'Sexual Predator Community Supervision' : 'Sex Offender',\n",
    "                   'D Felony': 'D Felony',\n",
    "                   'C Felony' :'C Felony',\n",
    "                   'B Felony' : 'B Felony',\n",
    "                   'A Felony' : 'A Felony',\n",
    "                   'Aggravated Misdemeanor':'Aggravated Misdemeanor',\n",
    "                   'Felony - Enhancement to Original Penalty':'Felony - Enhanced',\n",
    "                   'Felony - Enhanced':'Felony - Enhanced' ,\n",
    "                   'Serious Misdemeanor':'Serious Misdemeanor',\n",
    "                   'Simple Misdemeanor':'Simple Misdemeanor'}\n",
    "\n",
    "df['crime_class'] = df['crime_class'].map(crime_class_map)\n",
    "df['crime_class'].value_counts(dropna=False)"
   ]
  },
  {
   "cell_type": "markdown",
   "metadata": {},
   "source": [
    "#### `age_released`"
   ]
  },
  {
   "cell_type": "code",
   "execution_count": 12,
   "metadata": {
    "ExecuteTime": {
     "end_time": "2021-05-13T15:18:54.191650Z",
     "start_time": "2021-05-13T15:18:54.184274Z"
    },
    "scrolled": true
   },
   "outputs": [
    {
     "data": {
      "text/plain": [
       "25-34           9554\n",
       "35-44           6223\n",
       "Under 25        4590\n",
       "45-54           4347\n",
       "55 and Older    1303\n",
       "NaN                3\n",
       "Name: age_released, dtype: int64"
      ]
     },
     "execution_count": 12,
     "metadata": {},
     "output_type": "execute_result"
    }
   ],
   "source": [
    "df['age_released'].value_counts(dropna=False)"
   ]
  },
  {
   "cell_type": "code",
   "execution_count": 13,
   "metadata": {
    "ExecuteTime": {
     "end_time": "2021-05-13T15:18:54.198114Z",
     "start_time": "2021-05-13T15:18:54.193578Z"
    }
   },
   "outputs": [
    {
     "data": {
      "text/plain": [
       "{'Under 25': 20, '25-34': 30, '35-44': 40, '45-54': 50, '55 and Older': 65}"
      ]
     },
     "execution_count": 13,
     "metadata": {},
     "output_type": "execute_result"
    }
   ],
   "source": [
    "# Mapping age_map onto 'age_released'\n",
    "# Encoding age groups as ordinal\n",
    "age_ranges = ('Under 25','25-34', '35-44','45-54','55 and Older')\n",
    "age_numbers = (20,30,40,50,65) \n",
    "\n",
    "age_num_map = dict(zip(age_ranges,age_numbers))\n",
    "age_num_map"
   ]
  },
  {
   "cell_type": "code",
   "execution_count": 14,
   "metadata": {
    "ExecuteTime": {
     "end_time": "2021-05-13T15:18:54.208885Z",
     "start_time": "2021-05-13T15:18:54.199824Z"
    }
   },
   "outputs": [
    {
     "data": {
      "text/plain": [
       "30.0    9554\n",
       "40.0    6223\n",
       "20.0    4590\n",
       "50.0    4347\n",
       "65.0    1303\n",
       "NaN        3\n",
       "Name: age_number, dtype: int64"
      ]
     },
     "execution_count": 14,
     "metadata": {},
     "output_type": "execute_result"
    }
   ],
   "source": [
    "df['age_number'] = df['age_released'].map(age_num_map)\n",
    "df['age_number'].value_counts(dropna=False)"
   ]
  },
  {
   "cell_type": "code",
   "execution_count": 15,
   "metadata": {
    "ExecuteTime": {
     "end_time": "2021-05-13T15:18:54.213101Z",
     "start_time": "2021-05-13T15:18:54.210742Z"
    }
   },
   "outputs": [],
   "source": [
    "## saving list of features thaat have been replaced wiht engineered nes\n",
    "drop_cols = ['age_released','race_ethnicity']"
   ]
  },
  {
   "cell_type": "markdown",
   "metadata": {},
   "source": [
    "### Train-Test-Split"
   ]
  },
  {
   "cell_type": "code",
   "execution_count": 16,
   "metadata": {
    "ExecuteTime": {
     "end_time": "2021-05-13T15:18:54.236493Z",
     "start_time": "2021-05-13T15:18:54.215167Z"
    }
   },
   "outputs": [
    {
     "data": {
      "text/plain": [
       "0    0.666872\n",
       "1    0.333128\n",
       "Name: recidivist, dtype: float64"
      ]
     },
     "execution_count": 16,
     "metadata": {},
     "output_type": "execute_result"
    }
   ],
   "source": [
    "from sklearn.model_selection import train_test_split\n",
    "\n",
    "y = df['recidivist'].map({'Yes':1,\"No\":0})\n",
    "X = df.drop(columns=['recidivist',*drop_cols])\n",
    "\n",
    "## Train test split\n",
    "X_tr, X_te, y_tr,y_te  = train_test_split(X,y,test_size=.25)\n",
    "#                                                     random_state=3210)#,stratify=y)\n",
    "y_tr.value_counts(normalize=True)"
   ]
  },
  {
   "cell_type": "markdown",
   "metadata": {},
   "source": [
    "#### Pipelnes and ColumnTransformer"
   ]
  },
  {
   "cell_type": "code",
   "execution_count": 17,
   "metadata": {
    "ExecuteTime": {
     "end_time": "2021-05-13T15:18:54.291190Z",
     "start_time": "2021-05-13T15:18:54.239032Z"
    }
   },
   "outputs": [],
   "source": [
    "from sklearn.pipeline import Pipeline\n",
    "\n",
    "from sklearn.impute import SimpleImputer\n",
    "from sklearn.preprocessing import StandardScaler, OneHotEncoder,MinMaxScaler\n",
    "from sklearn.compose import ColumnTransformer"
   ]
  },
  {
   "cell_type": "code",
   "execution_count": 18,
   "metadata": {
    "ExecuteTime": {
     "end_time": "2021-05-13T15:18:54.303722Z",
     "start_time": "2021-05-13T15:18:54.292918Z"
    }
   },
   "outputs": [
    {
     "data": {
      "text/plain": [
       "crime_class        13\n",
       "crime_type          0\n",
       "crime_subtype       0\n",
       "release_type     1316\n",
       "super_dist       7157\n",
       "target_pop          0\n",
       "sex                 2\n",
       "race               28\n",
       "age_number          2\n",
       "dtype: int64"
      ]
     },
     "execution_count": 18,
     "metadata": {},
     "output_type": "execute_result"
    }
   ],
   "source": [
    "X_tr.isna().sum()"
   ]
  },
  {
   "cell_type": "code",
   "execution_count": 19,
   "metadata": {
    "ExecuteTime": {
     "end_time": "2021-05-13T15:18:54.307642Z",
     "start_time": "2021-05-13T15:18:54.305353Z"
    }
   },
   "outputs": [],
   "source": [
    "from sklearn import set_config\n",
    "set_config(display='diagram')"
   ]
  },
  {
   "cell_type": "code",
   "execution_count": 20,
   "metadata": {
    "ExecuteTime": {
     "end_time": "2021-05-13T15:18:54.317875Z",
     "start_time": "2021-05-13T15:18:54.309502Z"
    }
   },
   "outputs": [
    {
     "data": {
      "text/plain": [
       "(['age_number'],\n",
       " ['crime_class',\n",
       "  'crime_type',\n",
       "  'crime_subtype',\n",
       "  'release_type',\n",
       "  'super_dist',\n",
       "  'target_pop',\n",
       "  'sex',\n",
       "  'race'])"
      ]
     },
     "execution_count": 20,
     "metadata": {},
     "output_type": "execute_result"
    }
   ],
   "source": [
    "## saving list of numeric vs categorical feature\n",
    "num_cols = list(X_tr.select_dtypes('number').columns)\n",
    "cat_cols = list(X_tr.select_dtypes('object').columns)\n",
    "num_cols,cat_cols"
   ]
  },
  {
   "cell_type": "code",
   "execution_count": 21,
   "metadata": {
    "ExecuteTime": {
     "end_time": "2021-05-13T15:18:54.363307Z",
     "start_time": "2021-05-13T15:18:54.319811Z"
    }
   },
   "outputs": [
    {
     "data": {
      "text/html": [
       "<style>div.sk-top-container {color: black;background-color: white;}div.sk-toggleable {background-color: white;}label.sk-toggleable__label {cursor: pointer;display: block;width: 100%;margin-bottom: 0;padding: 0.2em 0.3em;box-sizing: border-box;text-align: center;}div.sk-toggleable__content {max-height: 0;max-width: 0;overflow: hidden;text-align: left;background-color: #f0f8ff;}div.sk-toggleable__content pre {margin: 0.2em;color: black;border-radius: 0.25em;background-color: #f0f8ff;}input.sk-toggleable__control:checked~div.sk-toggleable__content {max-height: 200px;max-width: 100%;overflow: auto;}div.sk-estimator input.sk-toggleable__control:checked~label.sk-toggleable__label {background-color: #d4ebff;}div.sk-label input.sk-toggleable__control:checked~label.sk-toggleable__label {background-color: #d4ebff;}input.sk-hidden--visually {border: 0;clip: rect(1px 1px 1px 1px);clip: rect(1px, 1px, 1px, 1px);height: 1px;margin: -1px;overflow: hidden;padding: 0;position: absolute;width: 1px;}div.sk-estimator {font-family: monospace;background-color: #f0f8ff;margin: 0.25em 0.25em;border: 1px dotted black;border-radius: 0.25em;box-sizing: border-box;}div.sk-estimator:hover {background-color: #d4ebff;}div.sk-parallel-item::after {content: \"\";width: 100%;border-bottom: 1px solid gray;flex-grow: 1;}div.sk-label:hover label.sk-toggleable__label {background-color: #d4ebff;}div.sk-serial::before {content: \"\";position: absolute;border-left: 1px solid gray;box-sizing: border-box;top: 2em;bottom: 0;left: 50%;}div.sk-serial {display: flex;flex-direction: column;align-items: center;background-color: white;}div.sk-item {z-index: 1;}div.sk-parallel {display: flex;align-items: stretch;justify-content: center;background-color: white;}div.sk-parallel-item {display: flex;flex-direction: column;position: relative;background-color: white;}div.sk-parallel-item:first-child::after {align-self: flex-end;width: 50%;}div.sk-parallel-item:last-child::after {align-self: flex-start;width: 50%;}div.sk-parallel-item:only-child::after {width: 0;}div.sk-dashed-wrapped {border: 1px dashed gray;margin: 0.2em;box-sizing: border-box;padding-bottom: 0.1em;background-color: white;position: relative;}div.sk-label label {font-family: monospace;font-weight: bold;background-color: white;display: inline-block;line-height: 1.2em;}div.sk-label-container {position: relative;z-index: 2;text-align: center;}div.sk-container {display: inline-block;position: relative;}</style><div class=\"sk-top-container\"><div class=\"sk-container\"><div class=\"sk-item sk-dashed-wrapped\"><div class=\"sk-label-container\"><div class=\"sk-label sk-toggleable\"><input class=\"sk-toggleable__control sk-hidden--visually\" id=\"e4cbb283-f3f5-4d00-8d77-1b9b11348540\" type=\"checkbox\" ><label class=\"sk-toggleable__label\" for=\"e4cbb283-f3f5-4d00-8d77-1b9b11348540\">ColumnTransformer</label><div class=\"sk-toggleable__content\"><pre>ColumnTransformer(transformers=[('num',\n",
       "                                 Pipeline(steps=[('imputer',\n",
       "                                                  SimpleImputer(strategy='median')),\n",
       "                                                 ('scale', MinMaxScaler())]),\n",
       "                                 ['age_number']),\n",
       "                                ('cat',\n",
       "                                 Pipeline(steps=[('imputer',\n",
       "                                                  SimpleImputer(fill_value='MISSING',\n",
       "                                                                strategy='constant')),\n",
       "                                                 ('encoder',\n",
       "                                                  OneHotEncoder(handle_unknown='ignore',\n",
       "                                                                sparse=False))]),\n",
       "                                 ['crime_class', 'crime_type', 'crime_subtype',\n",
       "                                  'release_type', 'super_dist', 'target_pop',\n",
       "                                  'sex', 'race'])])</pre></div></div></div><div class=\"sk-parallel\"><div class=\"sk-parallel-item\"><div class=\"sk-item\"><div class=\"sk-label-container\"><div class=\"sk-label sk-toggleable\"><input class=\"sk-toggleable__control sk-hidden--visually\" id=\"468321e2-0004-45e0-b64e-fb58710c7228\" type=\"checkbox\" ><label class=\"sk-toggleable__label\" for=\"468321e2-0004-45e0-b64e-fb58710c7228\">num</label><div class=\"sk-toggleable__content\"><pre>['age_number']</pre></div></div></div><div class=\"sk-serial\"><div class=\"sk-item\"><div class=\"sk-serial\"><div class=\"sk-item\"><div class=\"sk-estimator sk-toggleable\"><input class=\"sk-toggleable__control sk-hidden--visually\" id=\"724f3dec-55b9-4bd7-8845-abba68ef2dee\" type=\"checkbox\" ><label class=\"sk-toggleable__label\" for=\"724f3dec-55b9-4bd7-8845-abba68ef2dee\">SimpleImputer</label><div class=\"sk-toggleable__content\"><pre>SimpleImputer(strategy='median')</pre></div></div></div><div class=\"sk-item\"><div class=\"sk-estimator sk-toggleable\"><input class=\"sk-toggleable__control sk-hidden--visually\" id=\"645c3aa5-67e9-4b57-9fc3-01b54f55cc48\" type=\"checkbox\" ><label class=\"sk-toggleable__label\" for=\"645c3aa5-67e9-4b57-9fc3-01b54f55cc48\">MinMaxScaler</label><div class=\"sk-toggleable__content\"><pre>MinMaxScaler()</pre></div></div></div></div></div></div></div></div><div class=\"sk-parallel-item\"><div class=\"sk-item\"><div class=\"sk-label-container\"><div class=\"sk-label sk-toggleable\"><input class=\"sk-toggleable__control sk-hidden--visually\" id=\"709ccb70-61c6-4689-b5f3-dc2f7d213688\" type=\"checkbox\" ><label class=\"sk-toggleable__label\" for=\"709ccb70-61c6-4689-b5f3-dc2f7d213688\">cat</label><div class=\"sk-toggleable__content\"><pre>['crime_class', 'crime_type', 'crime_subtype', 'release_type', 'super_dist', 'target_pop', 'sex', 'race']</pre></div></div></div><div class=\"sk-serial\"><div class=\"sk-item\"><div class=\"sk-serial\"><div class=\"sk-item\"><div class=\"sk-estimator sk-toggleable\"><input class=\"sk-toggleable__control sk-hidden--visually\" id=\"24adc167-ccdc-4a4e-9d5c-f1e08c615d49\" type=\"checkbox\" ><label class=\"sk-toggleable__label\" for=\"24adc167-ccdc-4a4e-9d5c-f1e08c615d49\">SimpleImputer</label><div class=\"sk-toggleable__content\"><pre>SimpleImputer(fill_value='MISSING', strategy='constant')</pre></div></div></div><div class=\"sk-item\"><div class=\"sk-estimator sk-toggleable\"><input class=\"sk-toggleable__control sk-hidden--visually\" id=\"56940594-4271-4f86-b36c-d61736860de9\" type=\"checkbox\" ><label class=\"sk-toggleable__label\" for=\"56940594-4271-4f86-b36c-d61736860de9\">OneHotEncoder</label><div class=\"sk-toggleable__content\"><pre>OneHotEncoder(handle_unknown='ignore', sparse=False)</pre></div></div></div></div></div></div></div></div></div></div></div></div>"
      ],
      "text/plain": [
       "ColumnTransformer(transformers=[('num',\n",
       "                                 Pipeline(steps=[('imputer',\n",
       "                                                  SimpleImputer(strategy='median')),\n",
       "                                                 ('scale', MinMaxScaler())]),\n",
       "                                 ['age_number']),\n",
       "                                ('cat',\n",
       "                                 Pipeline(steps=[('imputer',\n",
       "                                                  SimpleImputer(fill_value='MISSING',\n",
       "                                                                strategy='constant')),\n",
       "                                                 ('encoder',\n",
       "                                                  OneHotEncoder(handle_unknown='ignore',\n",
       "                                                                sparse=False))]),\n",
       "                                 ['crime_class', 'crime_type', 'crime_subtype',\n",
       "                                  'release_type', 'super_dist', 'target_pop',\n",
       "                                  'sex', 'race'])])"
      ]
     },
     "execution_count": 21,
     "metadata": {},
     "output_type": "execute_result"
    }
   ],
   "source": [
    "## create pipelines and column transformer\n",
    "num_transformer = Pipeline(steps=[\n",
    "    ('imputer',SimpleImputer(strategy='median')),\n",
    "    ('scale',MinMaxScaler())\n",
    "])\n",
    "\n",
    "cat_transformer = Pipeline(steps=[\n",
    "    ('imputer',SimpleImputer(strategy='constant',fill_value='MISSING')),\n",
    "    ('encoder',OneHotEncoder(sparse=False,handle_unknown='ignore'))])\n",
    "\n",
    "## COMBINE BOTH PIPELINES INTO ONE WITH COLUMN TRANSFORMER\n",
    "preprocessor=ColumnTransformer(transformers=[\n",
    "    ('num',num_transformer,num_cols),\n",
    "    ('cat',cat_transformer,cat_cols)])\n",
    "\n",
    "preprocessor"
   ]
  },
  {
   "cell_type": "code",
   "execution_count": 22,
   "metadata": {
    "ExecuteTime": {
     "end_time": "2021-05-13T15:18:54.503840Z",
     "start_time": "2021-05-13T15:18:54.368499Z"
    }
   },
   "outputs": [
    {
     "data": {
      "text/html": [
       "<div>\n",
       "<style scoped>\n",
       "    .dataframe tbody tr th:only-of-type {\n",
       "        vertical-align: middle;\n",
       "    }\n",
       "\n",
       "    .dataframe tbody tr th {\n",
       "        vertical-align: top;\n",
       "    }\n",
       "\n",
       "    .dataframe thead th {\n",
       "        text-align: right;\n",
       "    }\n",
       "</style>\n",
       "<table border=\"1\" class=\"dataframe\">\n",
       "  <thead>\n",
       "    <tr style=\"text-align: right;\">\n",
       "      <th></th>\n",
       "      <th>age_number</th>\n",
       "      <th>crime_class_A Felony</th>\n",
       "      <th>crime_class_Aggravated Misdemeanor</th>\n",
       "      <th>crime_class_B Felony</th>\n",
       "      <th>crime_class_C Felony</th>\n",
       "      <th>crime_class_D Felony</th>\n",
       "      <th>crime_class_Felony - Enhanced</th>\n",
       "      <th>crime_class_MISSING</th>\n",
       "      <th>crime_class_Serious Misdemeanor</th>\n",
       "      <th>crime_class_Sex Offender</th>\n",
       "      <th>...</th>\n",
       "      <th>target_pop_Yes</th>\n",
       "      <th>sex_Female</th>\n",
       "      <th>sex_MISSING</th>\n",
       "      <th>sex_Male</th>\n",
       "      <th>race_American Native</th>\n",
       "      <th>race_Asian or Pacific Islander</th>\n",
       "      <th>race_Black</th>\n",
       "      <th>race_Hispanic</th>\n",
       "      <th>race_MISSING</th>\n",
       "      <th>race_White</th>\n",
       "    </tr>\n",
       "  </thead>\n",
       "  <tbody>\n",
       "    <tr>\n",
       "      <th>22503</th>\n",
       "      <td>0.444444</td>\n",
       "      <td>0.0</td>\n",
       "      <td>0.0</td>\n",
       "      <td>0.0</td>\n",
       "      <td>1.0</td>\n",
       "      <td>0.0</td>\n",
       "      <td>0.0</td>\n",
       "      <td>0.0</td>\n",
       "      <td>0.0</td>\n",
       "      <td>0.0</td>\n",
       "      <td>...</td>\n",
       "      <td>0.0</td>\n",
       "      <td>0.0</td>\n",
       "      <td>0.0</td>\n",
       "      <td>1.0</td>\n",
       "      <td>0.0</td>\n",
       "      <td>0.0</td>\n",
       "      <td>1.0</td>\n",
       "      <td>0.0</td>\n",
       "      <td>0.0</td>\n",
       "      <td>0.0</td>\n",
       "    </tr>\n",
       "    <tr>\n",
       "      <th>9184</th>\n",
       "      <td>1.000000</td>\n",
       "      <td>0.0</td>\n",
       "      <td>1.0</td>\n",
       "      <td>0.0</td>\n",
       "      <td>0.0</td>\n",
       "      <td>0.0</td>\n",
       "      <td>0.0</td>\n",
       "      <td>0.0</td>\n",
       "      <td>0.0</td>\n",
       "      <td>0.0</td>\n",
       "      <td>...</td>\n",
       "      <td>1.0</td>\n",
       "      <td>0.0</td>\n",
       "      <td>0.0</td>\n",
       "      <td>1.0</td>\n",
       "      <td>0.0</td>\n",
       "      <td>0.0</td>\n",
       "      <td>1.0</td>\n",
       "      <td>0.0</td>\n",
       "      <td>0.0</td>\n",
       "      <td>0.0</td>\n",
       "    </tr>\n",
       "    <tr>\n",
       "      <th>3769</th>\n",
       "      <td>0.000000</td>\n",
       "      <td>0.0</td>\n",
       "      <td>1.0</td>\n",
       "      <td>0.0</td>\n",
       "      <td>0.0</td>\n",
       "      <td>0.0</td>\n",
       "      <td>0.0</td>\n",
       "      <td>0.0</td>\n",
       "      <td>0.0</td>\n",
       "      <td>0.0</td>\n",
       "      <td>...</td>\n",
       "      <td>0.0</td>\n",
       "      <td>0.0</td>\n",
       "      <td>0.0</td>\n",
       "      <td>1.0</td>\n",
       "      <td>1.0</td>\n",
       "      <td>0.0</td>\n",
       "      <td>0.0</td>\n",
       "      <td>0.0</td>\n",
       "      <td>0.0</td>\n",
       "      <td>0.0</td>\n",
       "    </tr>\n",
       "    <tr>\n",
       "      <th>18095</th>\n",
       "      <td>0.444444</td>\n",
       "      <td>0.0</td>\n",
       "      <td>0.0</td>\n",
       "      <td>0.0</td>\n",
       "      <td>1.0</td>\n",
       "      <td>0.0</td>\n",
       "      <td>0.0</td>\n",
       "      <td>0.0</td>\n",
       "      <td>0.0</td>\n",
       "      <td>0.0</td>\n",
       "      <td>...</td>\n",
       "      <td>1.0</td>\n",
       "      <td>1.0</td>\n",
       "      <td>0.0</td>\n",
       "      <td>0.0</td>\n",
       "      <td>0.0</td>\n",
       "      <td>0.0</td>\n",
       "      <td>1.0</td>\n",
       "      <td>0.0</td>\n",
       "      <td>0.0</td>\n",
       "      <td>0.0</td>\n",
       "    </tr>\n",
       "    <tr>\n",
       "      <th>4725</th>\n",
       "      <td>0.666667</td>\n",
       "      <td>0.0</td>\n",
       "      <td>0.0</td>\n",
       "      <td>0.0</td>\n",
       "      <td>0.0</td>\n",
       "      <td>0.0</td>\n",
       "      <td>1.0</td>\n",
       "      <td>0.0</td>\n",
       "      <td>0.0</td>\n",
       "      <td>0.0</td>\n",
       "      <td>...</td>\n",
       "      <td>0.0</td>\n",
       "      <td>0.0</td>\n",
       "      <td>0.0</td>\n",
       "      <td>1.0</td>\n",
       "      <td>0.0</td>\n",
       "      <td>0.0</td>\n",
       "      <td>0.0</td>\n",
       "      <td>0.0</td>\n",
       "      <td>0.0</td>\n",
       "      <td>1.0</td>\n",
       "    </tr>\n",
       "    <tr>\n",
       "      <th>...</th>\n",
       "      <td>...</td>\n",
       "      <td>...</td>\n",
       "      <td>...</td>\n",
       "      <td>...</td>\n",
       "      <td>...</td>\n",
       "      <td>...</td>\n",
       "      <td>...</td>\n",
       "      <td>...</td>\n",
       "      <td>...</td>\n",
       "      <td>...</td>\n",
       "      <td>...</td>\n",
       "      <td>...</td>\n",
       "      <td>...</td>\n",
       "      <td>...</td>\n",
       "      <td>...</td>\n",
       "      <td>...</td>\n",
       "      <td>...</td>\n",
       "      <td>...</td>\n",
       "      <td>...</td>\n",
       "      <td>...</td>\n",
       "      <td>...</td>\n",
       "    </tr>\n",
       "    <tr>\n",
       "      <th>10360</th>\n",
       "      <td>0.222222</td>\n",
       "      <td>0.0</td>\n",
       "      <td>0.0</td>\n",
       "      <td>0.0</td>\n",
       "      <td>0.0</td>\n",
       "      <td>1.0</td>\n",
       "      <td>0.0</td>\n",
       "      <td>0.0</td>\n",
       "      <td>0.0</td>\n",
       "      <td>0.0</td>\n",
       "      <td>...</td>\n",
       "      <td>1.0</td>\n",
       "      <td>0.0</td>\n",
       "      <td>0.0</td>\n",
       "      <td>1.0</td>\n",
       "      <td>0.0</td>\n",
       "      <td>0.0</td>\n",
       "      <td>0.0</td>\n",
       "      <td>0.0</td>\n",
       "      <td>0.0</td>\n",
       "      <td>1.0</td>\n",
       "    </tr>\n",
       "    <tr>\n",
       "      <th>13589</th>\n",
       "      <td>0.666667</td>\n",
       "      <td>0.0</td>\n",
       "      <td>0.0</td>\n",
       "      <td>0.0</td>\n",
       "      <td>0.0</td>\n",
       "      <td>1.0</td>\n",
       "      <td>0.0</td>\n",
       "      <td>0.0</td>\n",
       "      <td>0.0</td>\n",
       "      <td>0.0</td>\n",
       "      <td>...</td>\n",
       "      <td>0.0</td>\n",
       "      <td>0.0</td>\n",
       "      <td>0.0</td>\n",
       "      <td>1.0</td>\n",
       "      <td>0.0</td>\n",
       "      <td>0.0</td>\n",
       "      <td>0.0</td>\n",
       "      <td>0.0</td>\n",
       "      <td>0.0</td>\n",
       "      <td>1.0</td>\n",
       "    </tr>\n",
       "    <tr>\n",
       "      <th>19307</th>\n",
       "      <td>0.444444</td>\n",
       "      <td>0.0</td>\n",
       "      <td>0.0</td>\n",
       "      <td>0.0</td>\n",
       "      <td>0.0</td>\n",
       "      <td>1.0</td>\n",
       "      <td>0.0</td>\n",
       "      <td>0.0</td>\n",
       "      <td>0.0</td>\n",
       "      <td>0.0</td>\n",
       "      <td>...</td>\n",
       "      <td>0.0</td>\n",
       "      <td>0.0</td>\n",
       "      <td>0.0</td>\n",
       "      <td>1.0</td>\n",
       "      <td>0.0</td>\n",
       "      <td>0.0</td>\n",
       "      <td>0.0</td>\n",
       "      <td>0.0</td>\n",
       "      <td>0.0</td>\n",
       "      <td>1.0</td>\n",
       "    </tr>\n",
       "    <tr>\n",
       "      <th>4362</th>\n",
       "      <td>0.444444</td>\n",
       "      <td>0.0</td>\n",
       "      <td>1.0</td>\n",
       "      <td>0.0</td>\n",
       "      <td>0.0</td>\n",
       "      <td>0.0</td>\n",
       "      <td>0.0</td>\n",
       "      <td>0.0</td>\n",
       "      <td>0.0</td>\n",
       "      <td>0.0</td>\n",
       "      <td>...</td>\n",
       "      <td>0.0</td>\n",
       "      <td>0.0</td>\n",
       "      <td>0.0</td>\n",
       "      <td>1.0</td>\n",
       "      <td>0.0</td>\n",
       "      <td>0.0</td>\n",
       "      <td>1.0</td>\n",
       "      <td>0.0</td>\n",
       "      <td>0.0</td>\n",
       "      <td>0.0</td>\n",
       "    </tr>\n",
       "    <tr>\n",
       "      <th>2819</th>\n",
       "      <td>0.000000</td>\n",
       "      <td>0.0</td>\n",
       "      <td>0.0</td>\n",
       "      <td>0.0</td>\n",
       "      <td>1.0</td>\n",
       "      <td>0.0</td>\n",
       "      <td>0.0</td>\n",
       "      <td>0.0</td>\n",
       "      <td>0.0</td>\n",
       "      <td>0.0</td>\n",
       "      <td>...</td>\n",
       "      <td>1.0</td>\n",
       "      <td>0.0</td>\n",
       "      <td>0.0</td>\n",
       "      <td>1.0</td>\n",
       "      <td>0.0</td>\n",
       "      <td>0.0</td>\n",
       "      <td>0.0</td>\n",
       "      <td>1.0</td>\n",
       "      <td>0.0</td>\n",
       "      <td>0.0</td>\n",
       "    </tr>\n",
       "  </tbody>\n",
       "</table>\n",
       "<p>19515 rows × 77 columns</p>\n",
       "</div>"
      ],
      "text/plain": [
       "       age_number  crime_class_A Felony  crime_class_Aggravated Misdemeanor  \\\n",
       "22503    0.444444                   0.0                                 0.0   \n",
       "9184     1.000000                   0.0                                 1.0   \n",
       "3769     0.000000                   0.0                                 1.0   \n",
       "18095    0.444444                   0.0                                 0.0   \n",
       "4725     0.666667                   0.0                                 0.0   \n",
       "...           ...                   ...                                 ...   \n",
       "10360    0.222222                   0.0                                 0.0   \n",
       "13589    0.666667                   0.0                                 0.0   \n",
       "19307    0.444444                   0.0                                 0.0   \n",
       "4362     0.444444                   0.0                                 1.0   \n",
       "2819     0.000000                   0.0                                 0.0   \n",
       "\n",
       "       crime_class_B Felony  crime_class_C Felony  crime_class_D Felony  \\\n",
       "22503                   0.0                   1.0                   0.0   \n",
       "9184                    0.0                   0.0                   0.0   \n",
       "3769                    0.0                   0.0                   0.0   \n",
       "18095                   0.0                   1.0                   0.0   \n",
       "4725                    0.0                   0.0                   0.0   \n",
       "...                     ...                   ...                   ...   \n",
       "10360                   0.0                   0.0                   1.0   \n",
       "13589                   0.0                   0.0                   1.0   \n",
       "19307                   0.0                   0.0                   1.0   \n",
       "4362                    0.0                   0.0                   0.0   \n",
       "2819                    0.0                   1.0                   0.0   \n",
       "\n",
       "       crime_class_Felony - Enhanced  crime_class_MISSING  \\\n",
       "22503                            0.0                  0.0   \n",
       "9184                             0.0                  0.0   \n",
       "3769                             0.0                  0.0   \n",
       "18095                            0.0                  0.0   \n",
       "4725                             1.0                  0.0   \n",
       "...                              ...                  ...   \n",
       "10360                            0.0                  0.0   \n",
       "13589                            0.0                  0.0   \n",
       "19307                            0.0                  0.0   \n",
       "4362                             0.0                  0.0   \n",
       "2819                             0.0                  0.0   \n",
       "\n",
       "       crime_class_Serious Misdemeanor  crime_class_Sex Offender  ...  \\\n",
       "22503                              0.0                       0.0  ...   \n",
       "9184                               0.0                       0.0  ...   \n",
       "3769                               0.0                       0.0  ...   \n",
       "18095                              0.0                       0.0  ...   \n",
       "4725                               0.0                       0.0  ...   \n",
       "...                                ...                       ...  ...   \n",
       "10360                              0.0                       0.0  ...   \n",
       "13589                              0.0                       0.0  ...   \n",
       "19307                              0.0                       0.0  ...   \n",
       "4362                               0.0                       0.0  ...   \n",
       "2819                               0.0                       0.0  ...   \n",
       "\n",
       "       target_pop_Yes  sex_Female  sex_MISSING  sex_Male  \\\n",
       "22503             0.0         0.0          0.0       1.0   \n",
       "9184              1.0         0.0          0.0       1.0   \n",
       "3769              0.0         0.0          0.0       1.0   \n",
       "18095             1.0         1.0          0.0       0.0   \n",
       "4725              0.0         0.0          0.0       1.0   \n",
       "...               ...         ...          ...       ...   \n",
       "10360             1.0         0.0          0.0       1.0   \n",
       "13589             0.0         0.0          0.0       1.0   \n",
       "19307             0.0         0.0          0.0       1.0   \n",
       "4362              0.0         0.0          0.0       1.0   \n",
       "2819              1.0         0.0          0.0       1.0   \n",
       "\n",
       "       race_American Native  race_Asian or Pacific Islander  race_Black  \\\n",
       "22503                   0.0                             0.0         1.0   \n",
       "9184                    0.0                             0.0         1.0   \n",
       "3769                    1.0                             0.0         0.0   \n",
       "18095                   0.0                             0.0         1.0   \n",
       "4725                    0.0                             0.0         0.0   \n",
       "...                     ...                             ...         ...   \n",
       "10360                   0.0                             0.0         0.0   \n",
       "13589                   0.0                             0.0         0.0   \n",
       "19307                   0.0                             0.0         0.0   \n",
       "4362                    0.0                             0.0         1.0   \n",
       "2819                    0.0                             0.0         0.0   \n",
       "\n",
       "       race_Hispanic  race_MISSING  race_White  \n",
       "22503            0.0           0.0         0.0  \n",
       "9184             0.0           0.0         0.0  \n",
       "3769             0.0           0.0         0.0  \n",
       "18095            0.0           0.0         0.0  \n",
       "4725             0.0           0.0         1.0  \n",
       "...              ...           ...         ...  \n",
       "10360            0.0           0.0         1.0  \n",
       "13589            0.0           0.0         1.0  \n",
       "19307            0.0           0.0         1.0  \n",
       "4362             0.0           0.0         0.0  \n",
       "2819             1.0           0.0         0.0  \n",
       "\n",
       "[19515 rows x 77 columns]"
      ]
     },
     "execution_count": 22,
     "metadata": {},
     "output_type": "execute_result"
    }
   ],
   "source": [
    "## Fit preprocessing pipeline on training data and pull out the feature names and X_cols\n",
    "preprocessor.fit(X_tr)\n",
    "\n",
    "## Use the encoder's .get_feature_names\n",
    "cat_features = list(preprocessor.named_transformers_['cat'].named_steps['encoder']\\\n",
    "                            .get_feature_names(cat_cols))\n",
    "X_cols = num_cols+cat_features\n",
    "\n",
    "## Transform X_traian,X_test and remake dfs\n",
    "X_train_df = pd.DataFrame(preprocessor.transform(X_tr),\n",
    "                          index=X_tr.index, columns=X_cols)\n",
    "X_test_df = pd.DataFrame(preprocessor.transform(X_te),\n",
    "                          index=X_te.index, columns=X_cols)\n",
    "\n",
    "## Tranform X_train and X_test and make into DataFrames\n",
    "X_train_df"
   ]
  },
  {
   "cell_type": "markdown",
   "metadata": {},
   "source": [
    "#### Resampling with SMOTENC"
   ]
  },
  {
   "cell_type": "code",
   "execution_count": 23,
   "metadata": {
    "ExecuteTime": {
     "end_time": "2021-05-13T15:18:54.608278Z",
     "start_time": "2021-05-13T15:18:54.506702Z"
    }
   },
   "outputs": [],
   "source": [
    "from imblearn.over_sampling import SMOTE,SMOTENC"
   ]
  },
  {
   "cell_type": "code",
   "execution_count": 24,
   "metadata": {
    "ExecuteTime": {
     "end_time": "2021-05-13T15:18:54.613681Z",
     "start_time": "2021-05-13T15:18:54.610190Z"
    }
   },
   "outputs": [
    {
     "data": {
      "text/plain": [
       "['crime_class_A Felony',\n",
       " 'crime_class_Aggravated Misdemeanor',\n",
       " 'crime_class_B Felony',\n",
       " 'crime_class_C Felony',\n",
       " 'crime_class_D Felony']"
      ]
     },
     "execution_count": 24,
     "metadata": {},
     "output_type": "execute_result"
    }
   ],
   "source": [
    "cat_features[:5]"
   ]
  },
  {
   "cell_type": "code",
   "execution_count": 25,
   "metadata": {
    "ExecuteTime": {
     "end_time": "2021-05-13T15:18:54.618061Z",
     "start_time": "2021-05-13T15:18:54.615468Z"
    }
   },
   "outputs": [],
   "source": [
    "## Save list of trues and falses for each cols\n",
    "smote_feats = [False]*len(num_cols) +[True]*len(cat_features)\n",
    "# smote_feats"
   ]
  },
  {
   "cell_type": "code",
   "execution_count": 26,
   "metadata": {
    "ExecuteTime": {
     "end_time": "2021-05-13T15:19:15.806272Z",
     "start_time": "2021-05-13T15:18:54.619881Z"
    }
   },
   "outputs": [
    {
     "data": {
      "text/plain": [
       "1    13014\n",
       "0    13014\n",
       "Name: recidivist, dtype: int64"
      ]
     },
     "execution_count": 26,
     "metadata": {},
     "output_type": "execute_result"
    }
   ],
   "source": [
    "smote = SMOTENC(smote_feats)\n",
    "X_train_sm,y_train_sm = smote.fit_sample(X_train_df,y_tr)\n",
    "y_train_sm.value_counts()"
   ]
  },
  {
   "cell_type": "markdown",
   "metadata": {},
   "source": [
    "# 📙 MODEL"
   ]
  },
  {
   "cell_type": "markdown",
   "metadata": {},
   "source": [
    "## ⫚ Selecting the Final Dataset for Modeling"
   ]
  },
  {
   "cell_type": "markdown",
   "metadata": {},
   "source": [
    "> The following cell determines which dataset is used for modeling. Modify the `PRISONERS` and `RESAMPLED_PRISONERS` correspondingly\n",
    "- If `PRISONERS` == False:\n",
    "    - Use original smaller bank-note dataset\n",
    "- If `PRISONERS` == True:\n",
    "    - If `RESAMPLED_PRISONERS` == False:\n",
    "        - Use original imbalanced prisoners dataset\n",
    "    - If `RESAMPLED_PRISONERS` == True:\n",
    "        - Use resampled training dataset.\n",
    "    "
   ]
  },
  {
   "cell_type": "code",
   "execution_count": 27,
   "metadata": {
    "ExecuteTime": {
     "end_time": "2021-05-13T15:19:15.814423Z",
     "start_time": "2021-05-13T15:19:15.808135Z"
    }
   },
   "outputs": [
    {
     "name": "stdout",
     "output_type": "stream",
     "text": [
      "[!] Using resampled Iowa prisoners dataset.\n",
      "\n",
      "X_train shape: (26028, 77)\n",
      "\n",
      "y_train class balance:\n",
      "1    13014\n",
      "0    13014\n",
      "Name: recidivist, dtype: int64\n"
     ]
    }
   ],
   "source": [
    "## Setting X_train/X_test\n",
    "PRISONERS = True\n",
    "RESAMPLED_PRISONERS = True\n",
    "\n",
    "\n",
    "if PRISONERS==False:\n",
    "    print('[!] Using original dataset.')\n",
    "    X_train = X_train0#.copy()\n",
    "    y_train = y_train0#.copy()\n",
    "\n",
    "    X_test = X_test0\n",
    "    y_test = y_test0\n",
    "\n",
    "else:\n",
    "    \n",
    "    if RESAMPLED_PRISONERS==True:\n",
    "        print('[!] Using resampled Iowa prisoners dataset.')\n",
    "        X_train = X_train_sm#.copy()\n",
    "        y_train = y_train_sm#.copy()\n",
    "\n",
    "    else:\n",
    "        print('[!] Using imbalanced Iowa prisoners dataset .')\n",
    "        X_train = X_train_df\n",
    "        y_train = y_tr\n",
    "    \n",
    "    ## Rename X,y test\n",
    "    X_test = X_test_df\n",
    "    y_test = y_te\n",
    "\n",
    "# print('\\tX_train and X_test:')\n",
    "# print(X_train.shape, X_test.shape)\n",
    "\n",
    "# print('\\ty_train and y_test')\n",
    "# print(y_train.shape,y_test.shape)\n",
    "\n",
    "print(f\"\\nX_train shape: {X_train.shape}\")\n",
    "\n",
    "print('\\ny_train class balance:')\n",
    "print(y_train.value_counts())"
   ]
  },
  {
   "cell_type": "markdown",
   "metadata": {},
   "source": [
    "### First: Linear Kernel"
   ]
  },
  {
   "cell_type": "code",
   "execution_count": 28,
   "metadata": {
    "ExecuteTime": {
     "end_time": "2021-05-13T15:20:56.495049Z",
     "start_time": "2021-05-13T15:19:15.816142Z"
    }
   },
   "outputs": [
    {
     "name": "stdout",
     "output_type": "stream",
     "text": [
      "Run time is 100.67560482025146 seconds\n"
     ]
    }
   ],
   "source": [
    "from sklearn.svm import SVC\n",
    "tic = time() #timing!\n",
    "\n",
    "svc_linear = SVC(kernel='linear', C=1)\n",
    "svc_linear.fit(X_train, y_train)\n",
    "\n",
    "y_pred_train = svc_linear.predict(X_train)\n",
    "y_pred_test = svc_linear.predict(X_test)\n",
    "\n",
    "toc = time()\n",
    "print(f\"Run time is {toc-tic} seconds\")"
   ]
  },
  {
   "cell_type": "code",
   "execution_count": 29,
   "metadata": {
    "ExecuteTime": {
     "end_time": "2021-05-13T15:21:04.685420Z",
     "start_time": "2021-05-13T15:20:56.497223Z"
    },
    "scrolled": false
   },
   "outputs": [
    {
     "name": "stdout",
     "output_type": "stream",
     "text": [
      "              precision    recall  f1-score   support\n",
      "\n",
      "           0       0.77      0.59      0.67      4325\n",
      "           1       0.44      0.64      0.52      2180\n",
      "\n",
      "    accuracy                           0.61      6505\n",
      "   macro avg       0.60      0.62      0.59      6505\n",
      "weighted avg       0.66      0.61      0.62      6505\n",
      "\n",
      "Train accuracy: 0.6276\n",
      "Test accuracy: 0.6071\n"
     ]
    },
    {
     "data": {
      "image/png": "[encoded data removed]",
      "text/plain": [
       "<Figure size 576x396 with 2 Axes>"
      ]
     },
     "metadata": {
      "needs_background": "light"
     },
     "output_type": "display_data"
    }
   ],
   "source": [
    "# how'd we do?\n",
    "from sklearn.metrics import classification_report, plot_confusion_matrix , accuracy_score\n",
    "\n",
    "print(classification_report(y_test, y_pred_test)) \n",
    "print(f\"Train accuracy: {accuracy_score(y_train, y_pred_train):.4f}\")\n",
    "print(f\"Test accuracy: {accuracy_score(y_test, y_pred_test):.4f}\")\n",
    "\n",
    "plot_confusion_matrix(svc_linear, X_test, y_test,cmap='Blues',normalize='true')\n",
    "plt.show()"
   ]
  },
  {
   "cell_type": "markdown",
   "metadata": {},
   "source": [
    "### Now: RBF"
   ]
  },
  {
   "cell_type": "code",
   "execution_count": 30,
   "metadata": {
    "ExecuteTime": {
     "end_time": "2021-05-13T15:22:58.508111Z",
     "start_time": "2021-05-13T15:21:04.687046Z"
    }
   },
   "outputs": [
    {
     "name": "stdout",
     "output_type": "stream",
     "text": [
      "Run time is 113.81771087646484 seconds\n"
     ]
    }
   ],
   "source": [
    "tic = time() #timing!\n",
    "\n",
    "svc_rbf = SVC(kernel='rbf', C=1, gamma='scale') # using all default values here\n",
    "svc_rbf.fit(X_train, y_train)\n",
    "\n",
    "y_pred_train = svc_rbf.predict(X_train)\n",
    "y_pred_test = svc_rbf.predict(X_test)\n",
    "\n",
    "toc = time()\n",
    "print(f\"Run time is {toc-tic} seconds\")"
   ]
  },
  {
   "cell_type": "code",
   "execution_count": 31,
   "metadata": {
    "ExecuteTime": {
     "end_time": "2021-05-13T15:23:07.946207Z",
     "start_time": "2021-05-13T15:22:58.510699Z"
    },
    "scrolled": false
   },
   "outputs": [
    {
     "name": "stdout",
     "output_type": "stream",
     "text": [
      "              precision    recall  f1-score   support\n",
      "\n",
      "           0       0.77      0.64      0.70      4325\n",
      "           1       0.47      0.62      0.53      2180\n",
      "\n",
      "    accuracy                           0.64      6505\n",
      "   macro avg       0.62      0.63      0.62      6505\n",
      "weighted avg       0.67      0.64      0.64      6505\n",
      "\n",
      "Train accuracy: 0.6939\n",
      "Test accuracy: 0.6352\n"
     ]
    },
    {
     "data": {
      "image/png": "[encoded data removed]",
      "text/plain": [
       "<Figure size 576x396 with 2 Axes>"
      ]
     },
     "metadata": {
      "needs_background": "light"
     },
     "output_type": "display_data"
    }
   ],
   "source": [
    "# how'd we do?\n",
    "print(classification_report(y_test, y_pred_test)) \n",
    "print(f\"Train accuracy: {accuracy_score(y_train, y_pred_train):.4f}\")\n",
    "print(f\"Test accuracy: {accuracy_score(y_test, y_pred_test):.4f}\")\n",
    "\n",
    "plot_confusion_matrix(svc_rbf, X_test, y_test,cmap='Blues',normalize='true')\n",
    "plt.show()"
   ]
  },
  {
   "cell_type": "markdown",
   "metadata": {},
   "source": [
    "### And a Polynomial Kernel for good measure"
   ]
  },
  {
   "cell_type": "code",
   "execution_count": 32,
   "metadata": {
    "ExecuteTime": {
     "end_time": "2021-05-13T15:24:43.429172Z",
     "start_time": "2021-05-13T15:23:07.948552Z"
    }
   },
   "outputs": [
    {
     "name": "stdout",
     "output_type": "stream",
     "text": [
      "Run time is 95.47696781158447 seconds\n"
     ]
    }
   ],
   "source": [
    "tic = time() #timing!\n",
    "\n",
    "svc_poly = SVC(kernel='poly', C=1, gamma='scale', degree=3) # using mostly default values here\n",
    "svc_poly.fit(X_train, y_train)\n",
    "\n",
    "y_pred_train = svc_poly.predict(X_train)\n",
    "y_pred_test = svc_poly.predict(X_test)\n",
    "\n",
    "toc = time()\n",
    "print(f\"Run time is {toc-tic} seconds\")"
   ]
  },
  {
   "cell_type": "code",
   "execution_count": 33,
   "metadata": {
    "ExecuteTime": {
     "end_time": "2021-05-13T15:24:50.929363Z",
     "start_time": "2021-05-13T15:24:43.431178Z"
    }
   },
   "outputs": [
    {
     "name": "stdout",
     "output_type": "stream",
     "text": [
      "              precision    recall  f1-score   support\n",
      "\n",
      "           0       0.77      0.63      0.69      4325\n",
      "           1       0.46      0.62      0.53      2180\n",
      "\n",
      "    accuracy                           0.63      6505\n",
      "   macro avg       0.61      0.62      0.61      6505\n",
      "weighted avg       0.66      0.63      0.64      6505\n",
      "\n",
      "Train accuracy: 0.6959\n",
      "Test accuracy: 0.6257\n"
     ]
    },
    {
     "data": {
      "image/png": "[encoded data removed]",
      "text/plain": [
       "<Figure size 576x396 with 2 Axes>"
      ]
     },
     "metadata": {
      "needs_background": "light"
     },
     "output_type": "display_data"
    }
   ],
   "source": [
    "# how'd we do?\n",
    "print(classification_report(y_test, y_pred_test)) \n",
    "print(f\"Train accuracy: {accuracy_score(y_train, y_pred_train):.4f}\")\n",
    "print(f\"Test accuracy: {accuracy_score(y_test, y_pred_test):.4f}\")\n",
    "\n",
    "plot_confusion_matrix(svc_poly, X_test, y_test,cmap='Blues',normalize='true')\n",
    "plt.show()"
   ]
  },
  {
   "cell_type": "markdown",
   "metadata": {},
   "source": [
    "### Adjusting C?"
   ]
  },
  {
   "cell_type": "code",
   "execution_count": 34,
   "metadata": {
    "ExecuteTime": {
     "end_time": "2021-05-13T16:10:32.068896Z",
     "start_time": "2021-05-13T15:24:50.931638Z"
    }
   },
   "outputs": [
    {
     "name": "stdout",
     "output_type": "stream",
     "text": [
      "-----\n",
      "Results at C = 0.01\n",
      "              precision    recall  f1-score   support\n",
      "\n",
      "           0       0.80      0.50      0.61      4325\n",
      "           1       0.43      0.75      0.55      2180\n",
      "\n",
      "    accuracy                           0.58      6505\n",
      "   macro avg       0.62      0.63      0.58      6505\n",
      "weighted avg       0.68      0.58      0.59      6505\n",
      "\n",
      "Train accuracy: 0.6176\n",
      "Test accuracy: 0.5832\n"
     ]
    },
    {
     "data": {
      "image/png": "[encoded data removed]",
      "text/plain": [
       "<Figure size 576x396 with 2 Axes>"
      ]
     },
     "metadata": {
      "needs_background": "light"
     },
     "output_type": "display_data"
    },
    {
     "name": "stdout",
     "output_type": "stream",
     "text": [
      "-----\n",
      "Results at C = 1\n",
      "              precision    recall  f1-score   support\n",
      "\n",
      "           0       0.77      0.59      0.67      4325\n",
      "           1       0.44      0.64      0.52      2180\n",
      "\n",
      "    accuracy                           0.61      6505\n",
      "   macro avg       0.60      0.62      0.59      6505\n",
      "weighted avg       0.66      0.61      0.62      6505\n",
      "\n",
      "Train accuracy: 0.6276\n",
      "Test accuracy: 0.6071\n"
     ]
    },
    {
     "data": {
      "image/png": "[encoded data removed]",
      "text/plain": [
       "<Figure size 576x396 with 2 Axes>"
      ]
     },
     "metadata": {
      "needs_background": "light"
     },
     "output_type": "display_data"
    },
    {
     "name": "stdout",
     "output_type": "stream",
     "text": [
      "-----\n",
      "Results at C = 100\n",
      "              precision    recall  f1-score   support\n",
      "\n",
      "           0       0.78      0.56      0.65      4325\n",
      "           1       0.44      0.68      0.54      2180\n",
      "\n",
      "    accuracy                           0.60      6505\n",
      "   macro avg       0.61      0.62      0.59      6505\n",
      "weighted avg       0.66      0.60      0.61      6505\n",
      "\n",
      "Train accuracy: 0.6293\n",
      "Test accuracy: 0.6015\n"
     ]
    },
    {
     "data": {
      "image/png": "[encoded data removed]",
      "text/plain": [
       "<Figure size 576x396 with 2 Axes>"
      ]
     },
     "metadata": {
      "needs_background": "light"
     },
     "output_type": "display_data"
    },
    {
     "name": "stdout",
     "output_type": "stream",
     "text": [
      "Run time is 2741.1330070495605 seconds\n"
     ]
    }
   ],
   "source": [
    "start = time()\n",
    "\n",
    "for c in [.01, 1, 100]: \n",
    "    svc_c = SVC(kernel='linear', C=c, gamma='scale') # going linear again\n",
    "    svc_c.fit(X_train, y_train)\n",
    "\n",
    "    y_pred_train = svc_c.predict(X_train)\n",
    "    y_pred_test = svc_c.predict(X_test)\n",
    "\n",
    "    # how'd we do?\n",
    "    print(\"-----\")\n",
    "    print(f'Results at C = {c}')\n",
    "    print(classification_report(y_test, y_pred_test)) \n",
    "    print(f\"Train accuracy: {accuracy_score(y_train, y_pred_train):.4f}\")\n",
    "    print(f\"Test accuracy: {accuracy_score(y_test, y_pred_test):.4f}\")\n",
    "\n",
    "    plot_confusion_matrix(svc_c, X_test, y_test,cmap='Blues',normalize='true')\n",
    "    plt.show()\n",
    "    \n",
    "end = time()\n",
    "print(f\"Run time is {end-start} seconds\")"
   ]
  },
  {
   "cell_type": "code",
   "execution_count": 36,
   "metadata": {
    "ExecuteTime": {
     "end_time": "2021-05-13T17:06:47.555098Z",
     "start_time": "2021-05-13T17:06:47.549301Z"
    }
   },
   "outputs": [
    {
     "data": {
      "text/plain": [
       "45.0"
      ]
     },
     "execution_count": 36,
     "metadata": {},
     "output_type": "execute_result"
    }
   ],
   "source": [
    "2700/60"
   ]
  },
  {
   "cell_type": "code",
   "execution_count": 38,
   "metadata": {
    "ExecuteTime": {
     "end_time": "2021-05-13T17:13:05.174046Z",
     "start_time": "2021-05-13T17:13:04.968542Z"
    }
   },
   "outputs": [
    {
     "name": "stdout",
     "output_type": "stream",
     "text": [
      "              precision    recall  f1-score   support\n",
      "\n",
      "           0       0.67      0.50      0.58      4325\n",
      "           1       0.34      0.51      0.41      2180\n",
      "\n",
      "    accuracy                           0.51      6505\n",
      "   macro avg       0.51      0.51      0.49      6505\n",
      "weighted avg       0.56      0.51      0.52      6505\n",
      "\n",
      "Train accuracy: 0.4987\n",
      "Test accuracy: 0.5061\n"
     ]
    },
    {
     "data": {
      "image/png": "[encoded data removed]",
      "text/plain": [
       "<Figure size 576x396 with 2 Axes>"
      ]
     },
     "metadata": {
      "needs_background": "light"
     },
     "output_type": "display_data"
    }
   ],
   "source": [
    "from sklearn.dummy import DummyClassifier\n",
    "\n",
    "clf = DummyClassifier()\n",
    "clf.fit(X_train,y_train)\n",
    "\n",
    "y_pred_train = clf.predict(X_train)\n",
    "y_pred_test = clf.predict(X_test)\n",
    "\n",
    "# how'd we do?\n",
    "print(classification_report(y_test, y_pred_test)) \n",
    "print(f\"Train accuracy: {accuracy_score(y_train, y_pred_train):.4f}\")\n",
    "print(f\"Test accuracy: {accuracy_score(y_test, y_pred_test):.4f}\")\n",
    "\n",
    "plot_confusion_matrix(clf, X_test, y_test,cmap='Blues',normalize='true')\n",
    "plt.show()"
   ]
  },
  {
   "cell_type": "markdown",
   "metadata": {},
   "source": [
    "## Pros \n",
    "\n",
    "- Good for datasets with more variables than observations\n",
    "- Robust against outliers\n",
    "- Good performance\n",
    "- Good off-the-shelf model in general for several scenarios\n",
    "- Can approximate complex non-linear functions\n",
    "\n",
    "## Cons \n",
    "\n",
    "- Long training time required\n",
    "- Tuning required to determine optimal kernel for non-linear SVMs\n",
    "\n",
    "## Requirements\n",
    "\n",
    "- Scaled features\n",
    "- Null values filled"
   ]
  },
  {
   "cell_type": "markdown",
   "metadata": {},
   "source": [
    "## Resources\n",
    "\n",
    "- [An Idiot's Guide to Support Vector Machines (SVMs) from MIT](https://web.mit.edu/6.034/wwwbob/svm.pdf)\n",
    "- [Machine Learning Mastery's Post on Support Vector Machines for Machine Learning](https://machinelearningmastery.com/support-vector-machines-for-machine-learning/)"
   ]
  },
  {
   "cell_type": "markdown",
   "metadata": {},
   "source": [
    "# Appendix/IF there's time"
   ]
  },
  {
   "cell_type": "markdown",
   "metadata": {},
   "source": [
    "### Using dictionaries to record the training times of all models for all datasets\n"
   ]
  },
  {
   "cell_type": "markdown",
   "metadata": {},
   "source": [
    "> Comparing training times across datasets and kernels."
   ]
  },
  {
   "cell_type": "code",
   "execution_count": 35,
   "metadata": {
    "ExecuteTime": {
     "end_time": "2021-05-13T16:10:32.073008Z",
     "start_time": "2021-05-13T16:10:32.071174Z"
    }
   },
   "outputs": [],
   "source": [
    "# results = {}\n",
    "# results['example'] = {'data':{'PRISONERS':PRISONERS,\n",
    "#                              \"REWSAMPLED\":RESAMPLED_PRISONERS},\n",
    "#                       'time': None}"
   ]
  }
 ],
 "metadata": {
  "kernelspec": {
   "display_name": "learn-env-new",
   "language": "python",
   "name": "learn-env-new"
  },
  "language_info": {
   "codemirror_mode": {
    "name": "ipython",
    "version": 3
   },
   "file_extension": ".py",
   "mimetype": "text/x-python",
   "name": "python",
   "nbconvert_exporter": "python",
   "pygments_lexer": "ipython3",
   "version": "3.8.5"
  },
  "metadata": {
   "interpreter": {
    "hash": "aee8b7b246df8f9039afb4144a1f6fd8d2ca17a180786b69acc140d282b71a49"
   }
  },
  "toc": {
   "base_numbering": 1,
   "nav_menu": {},
   "number_sections": false,
   "sideBar": true,
   "skip_h1_title": false,
   "title_cell": "Table of Contents",
   "title_sidebar": "Contents",
   "toc_cell": false,
   "toc_position": {
    "height": "calc(100% - 180px)",
    "left": "10px",
    "top": "150px",
    "width": "193.16px"
   },
   "toc_section_display": true,
   "toc_window_display": true
  }
 },
 "nbformat": 4,
 "nbformat_minor": 4
}
