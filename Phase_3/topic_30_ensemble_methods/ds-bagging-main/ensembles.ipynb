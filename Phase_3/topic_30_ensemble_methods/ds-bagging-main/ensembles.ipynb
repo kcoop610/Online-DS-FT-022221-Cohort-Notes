{
 "cells": [
  {
   "cell_type": "markdown",
   "metadata": {
    "toc": true
   },
   "source": [
    "<h1>Table of Contents<span class=\"tocSkip\"></span></h1>\n",
    "<div class=\"toc\"><ul class=\"toc-item\"><li><span><a href=\"#Objectives\" data-toc-modified-id=\"Objectives-1\"><span class=\"toc-item-num\">1&nbsp;&nbsp;</span>Objectives</a></span></li><li><span><a href=\"#Ensemble-Methods\" data-toc-modified-id=\"Ensemble-Methods-2\"><span class=\"toc-item-num\">2&nbsp;&nbsp;</span>Ensemble Methods</a></span><ul class=\"toc-item\"><li><span><a href=\"#Advantages-&amp;--Disadvantages\" data-toc-modified-id=\"Advantages-&amp;--Disadvantages-2.1\"><span class=\"toc-item-num\">2.1&nbsp;&nbsp;</span>Advantages &amp;  Disadvantages</a></span></li><li><span><a href=\"#Some-Types-of-Ensembles\" data-toc-modified-id=\"Some-Types-of-Ensembles-2.2\"><span class=\"toc-item-num\">2.2&nbsp;&nbsp;</span>Some Types of Ensembles</a></span><ul class=\"toc-item\"><li><span><a href=\"#Stacking\" data-toc-modified-id=\"Stacking-2.2.1\"><span class=\"toc-item-num\">2.2.1&nbsp;&nbsp;</span>Stacking</a></span></li><li><span><a href=\"#Bagging\" data-toc-modified-id=\"Bagging-2.2.2\"><span class=\"toc-item-num\">2.2.2&nbsp;&nbsp;</span>Bagging</a></span></li><li><span><a href=\"#Boosting\" data-toc-modified-id=\"Boosting-2.2.3\"><span class=\"toc-item-num\">2.2.3&nbsp;&nbsp;</span>Boosting</a></span></li></ul></li></ul></li><li><span><a href=\"#Aggregating:-Averaging,-Bagging,-and-Random-Forests\" data-toc-modified-id=\"Aggregating:-Averaging,-Bagging,-and-Random-Forests-3\"><span class=\"toc-item-num\">3&nbsp;&nbsp;</span>Aggregating: Averaging, Bagging, and Random Forests</a></span><ul class=\"toc-item\"><li><span><a href=\"#Data-Preparation-for-Examples\" data-toc-modified-id=\"Data-Preparation-for-Examples-3.1\"><span class=\"toc-item-num\">3.1&nbsp;&nbsp;</span>Data Preparation for Examples</a></span></li><li><span><a href=\"#Averaging\" data-toc-modified-id=\"Averaging-3.2\"><span class=\"toc-item-num\">3.2&nbsp;&nbsp;</span>Averaging</a></span><ul class=\"toc-item\"><li><span><a href=\"#Model-1---Logistic-Regression\" data-toc-modified-id=\"Model-1---Logistic-Regression-3.2.1\"><span class=\"toc-item-num\">3.2.1&nbsp;&nbsp;</span>Model 1 - Logistic Regression</a></span></li><li><span><a href=\"#Model-2---KNN\" data-toc-modified-id=\"Model-2---KNN-3.2.2\"><span class=\"toc-item-num\">3.2.2&nbsp;&nbsp;</span>Model 2 - KNN</a></span></li><li><span><a href=\"#Model-3---Decision-Tree\" data-toc-modified-id=\"Model-3---Decision-Tree-3.2.3\"><span class=\"toc-item-num\">3.2.3&nbsp;&nbsp;</span>Model 3 - Decision Tree</a></span></li><li><span><a href=\"#Averaging-the-Models\" data-toc-modified-id=\"Averaging-the-Models-3.2.4\"><span class=\"toc-item-num\">3.2.4&nbsp;&nbsp;</span>Averaging the Models</a></span></li></ul></li><li><span><a href=\"#Bagging\" data-toc-modified-id=\"Bagging-3.3\"><span class=\"toc-item-num\">3.3&nbsp;&nbsp;</span>Bagging</a></span><ul class=\"toc-item\"><li><span><a href=\"#Bagging-Algorithm\" data-toc-modified-id=\"Bagging-Algorithm-3.3.1\"><span class=\"toc-item-num\">3.3.1&nbsp;&nbsp;</span>Bagging Algorithm</a></span></li><li><span><a href=\"#Back-to-the-Example-Data\" data-toc-modified-id=\"Back-to-the-Example-Data-3.3.2\"><span class=\"toc-item-num\">3.3.2&nbsp;&nbsp;</span>Back to the Example Data</a></span></li><li><span><a href=\"#Fitting-a-Random-Forest\" data-toc-modified-id=\"Fitting-a-Random-Forest-3.3.3\"><span class=\"toc-item-num\">3.3.3&nbsp;&nbsp;</span>Fitting a Random Forest</a></span></li><li><span><a href=\"#An-Aside-Story---Bananas-🍌\" data-toc-modified-id=\"An-Aside-Story---Bananas-🍌-3.3.4\"><span class=\"toc-item-num\">3.3.4&nbsp;&nbsp;</span>An Aside Story - Bananas 🍌</a></span></li><li><span><a href=\"#The-Goods-&amp;-The-Bads\" data-toc-modified-id=\"The-Goods-&amp;-The-Bads-3.3.5\"><span class=\"toc-item-num\">3.3.5&nbsp;&nbsp;</span>The Goods &amp; The Bads</a></span></li><li><span><a href=\"#Breed-a-Variety-of-Trees\" data-toc-modified-id=\"Breed-a-Variety-of-Trees-3.3.6\"><span class=\"toc-item-num\">3.3.6&nbsp;&nbsp;</span>Breed a Variety of Trees</a></span></li><li><span><a href=\"#Back-to-the-Example-Data\" data-toc-modified-id=\"Back-to-the-Example-Data-3.3.7\"><span class=\"toc-item-num\">3.3.7&nbsp;&nbsp;</span>Back to the Example Data</a></span></li><li><span><a href=\"#Cool-Features-of-Random-Forests\" data-toc-modified-id=\"Cool-Features-of-Random-Forests-3.3.8\"><span class=\"toc-item-num\">3.3.8&nbsp;&nbsp;</span>Cool Features of Random Forests</a></span></li><li><span><a href=\"#Extremely-Randomized-Trees-(Extra-Trees)\" data-toc-modified-id=\"Extremely-Randomized-Trees-(Extra-Trees)-3.3.9\"><span class=\"toc-item-num\">3.3.9&nbsp;&nbsp;</span>Extremely Randomized Trees (Extra Trees)</a></span></li></ul></li></ul></li><li><span><a href=\"#Stacking\" data-toc-modified-id=\"Stacking-4\"><span class=\"toc-item-num\">4&nbsp;&nbsp;</span>Stacking</a></span><ul class=\"toc-item\"><li><span><a href=\"#Initial-Data-Prep\" data-toc-modified-id=\"Initial-Data-Prep-4.1\"><span class=\"toc-item-num\">4.1&nbsp;&nbsp;</span>Initial Data Prep</a></span></li><li><span><a href=\"#Splitting\" data-toc-modified-id=\"Splitting-4.2\"><span class=\"toc-item-num\">4.2&nbsp;&nbsp;</span>Splitting</a></span></li><li><span><a href=\"#Setting-Up-a-Pipeline\" data-toc-modified-id=\"Setting-Up-a-Pipeline-4.3\"><span class=\"toc-item-num\">4.3&nbsp;&nbsp;</span>Setting Up a Pipeline</a></span></li><li><span><a href=\"#Setting-Up-a-Stack\" data-toc-modified-id=\"Setting-Up-a-Stack-4.4\"><span class=\"toc-item-num\">4.4&nbsp;&nbsp;</span>Setting Up a Stack</a></span></li><li><span><a href=\"#Comparison-with-Base-Estimators\" data-toc-modified-id=\"Comparison-with-Base-Estimators-4.5\"><span class=\"toc-item-num\">4.5&nbsp;&nbsp;</span>Comparison with Base Estimators</a></span></li></ul></li></ul></div>"
   ]
  },
  {
   "cell_type": "code",
   "execution_count": 2,
   "metadata": {
    "ExecuteTime": {
     "end_time": "2021-05-12T13:52:09.859503Z",
     "start_time": "2021-05-12T13:52:09.855304Z"
    }
   },
   "outputs": [],
   "source": [
    "import numpy as np\n",
    "import pandas as pd\n",
    "import xlrd\n",
    "import os\n",
    "import seaborn as sns\n",
    "from sklearn.model_selection import train_test_split, GridSearchCV,\\\n",
    "cross_val_score\n",
    "from sklearn.linear_model import LogisticRegression\n",
    "from sklearn.neighbors import KNeighborsClassifier\n",
    "from sklearn.tree import DecisionTreeClassifier\n",
    "from sklearn.ensemble import BaggingClassifier, RandomForestClassifier,\\\n",
    "ExtraTreesClassifier, VotingClassifier\n",
    "from sklearn.metrics import r2_score\n",
    "from sklearn.preprocessing import OneHotEncoder, StandardScaler\n",
    "from sklearn.linear_model import LinearRegression\n",
    "from sklearn.neighbors import KNeighborsRegressor\n",
    "from sklearn.tree import DecisionTreeRegressor\n",
    "from sklearn.pipeline import Pipeline\n",
    "from sklearn.compose import ColumnTransformer\n",
    "from sklearn.ensemble import StackingRegressor"
   ]
  },
  {
   "cell_type": "markdown",
   "metadata": {},
   "source": [
    "# Objectives"
   ]
  },
  {
   "cell_type": "markdown",
   "metadata": {},
   "source": [
    "SWBAT:\n",
    "\n",
    "- Use `sklearn` to build voting models\n",
    "- Describe the algorithm of bagging\n",
    "- Describe the differences among simple bagging, random forest, and extra trees algorithms\n",
    "- Implement bagging models in `sklearn`"
   ]
  },
  {
   "cell_type": "markdown",
   "metadata": {},
   "source": [
    "# Ensemble Methods"
   ]
  },
  {
   "cell_type": "markdown",
   "metadata": {},
   "source": [
    "Because many heads are better than one!"
   ]
  },
  {
   "cell_type": "markdown",
   "metadata": {},
   "source": [
    "<img width=50% src='images/captain_planet.jpg'/>\n",
    "\n",
    "> \"With our powers combined...\""
   ]
  },
  {
   "cell_type": "markdown",
   "metadata": {},
   "source": [
    "These models tend to perform very well and generalize well!"
   ]
  },
  {
   "cell_type": "markdown",
   "metadata": {},
   "source": [
    "## Advantages &  Disadvantages"
   ]
  },
  {
   "cell_type": "markdown",
   "metadata": {},
   "source": [
    "- Decreases variance → Less overfitting!\n",
    "- More complexity (you have to train each model or part of model)\n",
    "- Tends to take up more space (have to keep each model)"
   ]
  },
  {
   "cell_type": "markdown",
   "metadata": {},
   "source": [
    "## Some Types of Ensembles"
   ]
  },
  {
   "cell_type": "markdown",
   "metadata": {},
   "source": [
    "We can break up the different types of ensembles into a few main types."
   ]
  },
  {
   "cell_type": "markdown",
   "metadata": {},
   "source": [
    "### Stacking"
   ]
  },
  {
   "cell_type": "markdown",
   "metadata": {},
   "source": [
    "<img src='images/stacking.jpg' width=50%/>"
   ]
  },
  {
   "cell_type": "markdown",
   "metadata": {},
   "source": [
    "#### Different Models, Same Data"
   ]
  },
  {
   "cell_type": "markdown",
   "metadata": {},
   "source": [
    "- A form of averaging multiple models\n",
    "- Typically uses the same training data for every model\n",
    "- The innovation comes from the use of different kinds of models"
   ]
  },
  {
   "cell_type": "markdown",
   "metadata": {},
   "source": [
    "#### Meta-Classifier/Meta-Regressor"
   ]
  },
  {
   "cell_type": "markdown",
   "metadata": {},
   "source": [
    "- First, we ask several different models to make predictions about the target\n",
    "- Rather than taking a simple average or vote to determine the outcome, feed these results into a final model that makes the prediction based on the other models’ predictions\n",
    "- If it seems like we are approaching a neural network...you are correct!"
   ]
  },
  {
   "cell_type": "markdown",
   "metadata": {},
   "source": [
    "### Bagging "
   ]
  },
  {
   "cell_type": "markdown",
   "metadata": {},
   "source": [
    "![](images/bag_of_marbles.jpg)"
   ]
  },
  {
   "cell_type": "markdown",
   "metadata": {},
   "source": [
    "> Train weak learners, combine together into one via voting"
   ]
  },
  {
   "cell_type": "markdown",
   "metadata": {},
   "source": [
    "- Many models naturally overfit\n",
    "- Randomization → New models\n",
    "- New models overfit in different ways\n",
    "- Aggregation → Smooth over different ways of overfitting to reduce variance"
   ]
  },
  {
   "cell_type": "markdown",
   "metadata": {},
   "source": [
    "> Low variance since it averages out quirks it might've learned"
   ]
  },
  {
   "cell_type": "markdown",
   "metadata": {},
   "source": [
    "#### Aggregation"
   ]
  },
  {
   "cell_type": "markdown",
   "metadata": {},
   "source": [
    "- **B**ootstrap **AGG**regating\n",
    "- Algorithm to repeat many times:\n",
    "    + Create a sample from your data\n",
    "    + Train a model (e.g. a decision tree) on that sample\n",
    "- Final model comes by averaging over those many models"
   ]
  },
  {
   "cell_type": "markdown",
   "metadata": {},
   "source": [
    "#### Three Levels"
   ]
  },
  {
   "cell_type": "markdown",
   "metadata": {},
   "source": [
    "1. Train each model on random sample\n",
    "2. Choose a random set of features at each decision point\n",
    "3. Choose a path at random!"
   ]
  },
  {
   "cell_type": "markdown",
   "metadata": {},
   "source": [
    "### Boosting"
   ]
  },
  {
   "cell_type": "markdown",
   "metadata": {},
   "source": [
    "<img src=\"images/try_fail_success.jpg\" width=50%/>"
   ]
  },
  {
   "cell_type": "markdown",
   "metadata": {},
   "source": [
    "> New model attempts to predict where the previous model made mistakes"
   ]
  },
  {
   "cell_type": "markdown",
   "metadata": {},
   "source": [
    "- Prevent overfitting from start\n",
    "- Train an underfit model\n",
    "- Update the model by training a _new model_ on the residuals of the previous  model\n",
    "- Repeat!"
   ]
  },
  {
   "cell_type": "markdown",
   "metadata": {},
   "source": [
    "# Aggregating: Averaging, Bagging, and Random Forests"
   ]
  },
  {
   "cell_type": "markdown",
   "metadata": {},
   "source": [
    "We can imagine training different models (maybe with different conditions) and then having them \"vote\" on what they think is best."
   ]
  },
  {
   "cell_type": "markdown",
   "metadata": {},
   "source": [
    "## Data Preparation for Examples"
   ]
  },
  {
   "cell_type": "markdown",
   "metadata": {},
   "source": [
    "> Let's prepare some data to do some examples"
   ]
  },
  {
   "cell_type": "code",
   "execution_count": 2,
   "metadata": {
    "ExecuteTime": {
     "end_time": "2021-05-11T22:54:17.590973Z",
     "start_time": "2021-05-11T22:54:17.553477Z"
    }
   },
   "outputs": [
    {
     "data": {
      "text/html": [
       "<div>\n",
       "<style scoped>\n",
       "    .dataframe tbody tr th:only-of-type {\n",
       "        vertical-align: middle;\n",
       "    }\n",
       "\n",
       "    .dataframe tbody tr th {\n",
       "        vertical-align: top;\n",
       "    }\n",
       "\n",
       "    .dataframe thead th {\n",
       "        text-align: right;\n",
       "    }\n",
       "</style>\n",
       "<table border=\"1\" class=\"dataframe\">\n",
       "  <thead>\n",
       "    <tr style=\"text-align: right;\">\n",
       "      <th></th>\n",
       "      <th>Age</th>\n",
       "      <th>Education</th>\n",
       "      <th>Occupation</th>\n",
       "      <th>Relationship</th>\n",
       "      <th>Sex</th>\n",
       "      <th>Target</th>\n",
       "    </tr>\n",
       "  </thead>\n",
       "  <tbody>\n",
       "    <tr>\n",
       "      <th>0</th>\n",
       "      <td>39</td>\n",
       "      <td>Bachelors</td>\n",
       "      <td>Adm-clerical</td>\n",
       "      <td>Not-in-family</td>\n",
       "      <td>Male</td>\n",
       "      <td>&lt;=50K</td>\n",
       "    </tr>\n",
       "    <tr>\n",
       "      <th>1</th>\n",
       "      <td>50</td>\n",
       "      <td>Bachelors</td>\n",
       "      <td>Exec-managerial</td>\n",
       "      <td>Husband</td>\n",
       "      <td>Male</td>\n",
       "      <td>&lt;=50K</td>\n",
       "    </tr>\n",
       "    <tr>\n",
       "      <th>2</th>\n",
       "      <td>38</td>\n",
       "      <td>HS-grad</td>\n",
       "      <td>Handlers-cleaners</td>\n",
       "      <td>Not-in-family</td>\n",
       "      <td>Male</td>\n",
       "      <td>&lt;=50K</td>\n",
       "    </tr>\n",
       "    <tr>\n",
       "      <th>3</th>\n",
       "      <td>53</td>\n",
       "      <td>11th</td>\n",
       "      <td>Handlers-cleaners</td>\n",
       "      <td>Husband</td>\n",
       "      <td>Male</td>\n",
       "      <td>&lt;=50K</td>\n",
       "    </tr>\n",
       "    <tr>\n",
       "      <th>4</th>\n",
       "      <td>28</td>\n",
       "      <td>Bachelors</td>\n",
       "      <td>Prof-specialty</td>\n",
       "      <td>Wife</td>\n",
       "      <td>Female</td>\n",
       "      <td>&lt;=50K</td>\n",
       "    </tr>\n",
       "  </tbody>\n",
       "</table>\n",
       "</div>"
      ],
      "text/plain": [
       "   Age  Education         Occupation   Relationship     Sex Target\n",
       "0   39  Bachelors       Adm-clerical  Not-in-family    Male  <=50K\n",
       "1   50  Bachelors    Exec-managerial        Husband    Male  <=50K\n",
       "2   38    HS-grad  Handlers-cleaners  Not-in-family    Male  <=50K\n",
       "3   53       11th  Handlers-cleaners        Husband    Male  <=50K\n",
       "4   28  Bachelors     Prof-specialty           Wife  Female  <=50K"
      ]
     },
     "execution_count": 2,
     "metadata": {},
     "output_type": "execute_result"
    }
   ],
   "source": [
    "df = pd.read_csv('data/salaries.csv')\n",
    "df.head()"
   ]
  },
  {
   "cell_type": "code",
   "execution_count": 3,
   "metadata": {
    "ExecuteTime": {
     "end_time": "2021-05-11T22:54:17.608297Z",
     "start_time": "2021-05-11T22:54:17.593243Z"
    }
   },
   "outputs": [
    {
     "name": "stdout",
     "output_type": "stream",
     "text": [
      "<class 'pandas.core.frame.DataFrame'>\n",
      "RangeIndex: 32561 entries, 0 to 32560\n",
      "Data columns (total 6 columns):\n",
      " #   Column        Non-Null Count  Dtype \n",
      "---  ------        --------------  ----- \n",
      " 0   Age           32561 non-null  int64 \n",
      " 1   Education     32561 non-null  object\n",
      " 2   Occupation    32561 non-null  object\n",
      " 3   Relationship  32561 non-null  object\n",
      " 4   Sex           32561 non-null  object\n",
      " 5   Target        32561 non-null  object\n",
      "dtypes: int64(1), object(5)\n",
      "memory usage: 1.5+ MB\n"
     ]
    }
   ],
   "source": [
    "df.info()"
   ]
  },
  {
   "cell_type": "code",
   "execution_count": 4,
   "metadata": {
    "ExecuteTime": {
     "end_time": "2021-05-11T22:54:17.620947Z",
     "start_time": "2021-05-11T22:54:17.610117Z"
    }
   },
   "outputs": [
    {
     "data": {
      "text/plain": [
       "0"
      ]
     },
     "execution_count": 4,
     "metadata": {},
     "output_type": "execute_result"
    }
   ],
   "source": [
    "df.isna().sum().sum()"
   ]
  },
  {
   "cell_type": "code",
   "execution_count": 5,
   "metadata": {
    "ExecuteTime": {
     "end_time": "2021-05-11T22:54:17.628949Z",
     "start_time": "2021-05-11T22:54:17.622724Z"
    }
   },
   "outputs": [],
   "source": [
    "# Convert Target to 0 or 1\n",
    "df['Target'] = df['Target'] == '>50K'"
   ]
  },
  {
   "cell_type": "code",
   "execution_count": 6,
   "metadata": {
    "ExecuteTime": {
     "end_time": "2021-05-11T22:54:17.641236Z",
     "start_time": "2021-05-11T22:54:17.631524Z"
    }
   },
   "outputs": [],
   "source": [
    "X_train, X_test, y_train, y_test = train_test_split(\n",
    "    df.drop(['Relationship','Sex','Target'],axis=1), df['Target'], random_state=42)"
   ]
  },
  {
   "cell_type": "code",
   "execution_count": 7,
   "metadata": {
    "ExecuteTime": {
     "end_time": "2021-05-11T22:54:17.655273Z",
     "start_time": "2021-05-11T22:54:17.645687Z"
    }
   },
   "outputs": [
    {
     "data": {
      "text/plain": [
       "OneHotEncoder(drop='first', sparse=False)"
      ]
     },
     "execution_count": 7,
     "metadata": {},
     "output_type": "execute_result"
    }
   ],
   "source": [
    "ohe = OneHotEncoder(drop='first', sparse=False)\n",
    "ohe.fit(X_train.select_dtypes('object'))"
   ]
  },
  {
   "cell_type": "code",
   "execution_count": 8,
   "metadata": {
    "ExecuteTime": {
     "end_time": "2021-05-11T22:54:17.681398Z",
     "start_time": "2021-05-11T22:54:17.658201Z"
    }
   },
   "outputs": [],
   "source": [
    "X_tr_ohe = pd.DataFrame(ohe.transform(X_train.select_dtypes('object')),\n",
    "                                  columns=ohe.get_feature_names(),\n",
    "                                    index=X_train.index)"
   ]
  },
  {
   "cell_type": "code",
   "execution_count": 9,
   "metadata": {
    "ExecuteTime": {
     "end_time": "2021-05-11T22:54:17.705756Z",
     "start_time": "2021-05-11T22:54:17.683601Z"
    },
    "scrolled": true
   },
   "outputs": [
    {
     "data": {
      "text/html": [
       "<div>\n",
       "<style scoped>\n",
       "    .dataframe tbody tr th:only-of-type {\n",
       "        vertical-align: middle;\n",
       "    }\n",
       "\n",
       "    .dataframe tbody tr th {\n",
       "        vertical-align: top;\n",
       "    }\n",
       "\n",
       "    .dataframe thead th {\n",
       "        text-align: right;\n",
       "    }\n",
       "</style>\n",
       "<table border=\"1\" class=\"dataframe\">\n",
       "  <thead>\n",
       "    <tr style=\"text-align: right;\">\n",
       "      <th></th>\n",
       "      <th>x0_11th</th>\n",
       "      <th>x0_12th</th>\n",
       "      <th>x0_1st-4th</th>\n",
       "      <th>x0_5th-6th</th>\n",
       "      <th>x0_7th-8th</th>\n",
       "      <th>x0_9th</th>\n",
       "      <th>x0_Assoc-acdm</th>\n",
       "      <th>x0_Assoc-voc</th>\n",
       "      <th>x0_Bachelors</th>\n",
       "      <th>x0_Doctorate</th>\n",
       "      <th>...</th>\n",
       "      <th>x1_Farming-fishing</th>\n",
       "      <th>x1_Handlers-cleaners</th>\n",
       "      <th>x1_Machine-op-inspct</th>\n",
       "      <th>x1_Other-service</th>\n",
       "      <th>x1_Priv-house-serv</th>\n",
       "      <th>x1_Prof-specialty</th>\n",
       "      <th>x1_Protective-serv</th>\n",
       "      <th>x1_Sales</th>\n",
       "      <th>x1_Tech-support</th>\n",
       "      <th>x1_Transport-moving</th>\n",
       "    </tr>\n",
       "  </thead>\n",
       "  <tbody>\n",
       "    <tr>\n",
       "      <th>29</th>\n",
       "      <td>0.0</td>\n",
       "      <td>0.0</td>\n",
       "      <td>0.0</td>\n",
       "      <td>0.0</td>\n",
       "      <td>0.0</td>\n",
       "      <td>0.0</td>\n",
       "      <td>0.0</td>\n",
       "      <td>0.0</td>\n",
       "      <td>0.0</td>\n",
       "      <td>0.0</td>\n",
       "      <td>...</td>\n",
       "      <td>0.0</td>\n",
       "      <td>0.0</td>\n",
       "      <td>0.0</td>\n",
       "      <td>0.0</td>\n",
       "      <td>0.0</td>\n",
       "      <td>0.0</td>\n",
       "      <td>0.0</td>\n",
       "      <td>0.0</td>\n",
       "      <td>0.0</td>\n",
       "      <td>0.0</td>\n",
       "    </tr>\n",
       "    <tr>\n",
       "      <th>12181</th>\n",
       "      <td>0.0</td>\n",
       "      <td>0.0</td>\n",
       "      <td>0.0</td>\n",
       "      <td>0.0</td>\n",
       "      <td>0.0</td>\n",
       "      <td>0.0</td>\n",
       "      <td>0.0</td>\n",
       "      <td>0.0</td>\n",
       "      <td>0.0</td>\n",
       "      <td>0.0</td>\n",
       "      <td>...</td>\n",
       "      <td>0.0</td>\n",
       "      <td>0.0</td>\n",
       "      <td>1.0</td>\n",
       "      <td>0.0</td>\n",
       "      <td>0.0</td>\n",
       "      <td>0.0</td>\n",
       "      <td>0.0</td>\n",
       "      <td>0.0</td>\n",
       "      <td>0.0</td>\n",
       "      <td>0.0</td>\n",
       "    </tr>\n",
       "    <tr>\n",
       "      <th>18114</th>\n",
       "      <td>1.0</td>\n",
       "      <td>0.0</td>\n",
       "      <td>0.0</td>\n",
       "      <td>0.0</td>\n",
       "      <td>0.0</td>\n",
       "      <td>0.0</td>\n",
       "      <td>0.0</td>\n",
       "      <td>0.0</td>\n",
       "      <td>0.0</td>\n",
       "      <td>0.0</td>\n",
       "      <td>...</td>\n",
       "      <td>0.0</td>\n",
       "      <td>0.0</td>\n",
       "      <td>0.0</td>\n",
       "      <td>1.0</td>\n",
       "      <td>0.0</td>\n",
       "      <td>0.0</td>\n",
       "      <td>0.0</td>\n",
       "      <td>0.0</td>\n",
       "      <td>0.0</td>\n",
       "      <td>0.0</td>\n",
       "    </tr>\n",
       "    <tr>\n",
       "      <th>4278</th>\n",
       "      <td>0.0</td>\n",
       "      <td>0.0</td>\n",
       "      <td>0.0</td>\n",
       "      <td>0.0</td>\n",
       "      <td>0.0</td>\n",
       "      <td>0.0</td>\n",
       "      <td>0.0</td>\n",
       "      <td>0.0</td>\n",
       "      <td>1.0</td>\n",
       "      <td>0.0</td>\n",
       "      <td>...</td>\n",
       "      <td>0.0</td>\n",
       "      <td>0.0</td>\n",
       "      <td>0.0</td>\n",
       "      <td>0.0</td>\n",
       "      <td>0.0</td>\n",
       "      <td>0.0</td>\n",
       "      <td>0.0</td>\n",
       "      <td>0.0</td>\n",
       "      <td>0.0</td>\n",
       "      <td>0.0</td>\n",
       "    </tr>\n",
       "    <tr>\n",
       "      <th>12050</th>\n",
       "      <td>0.0</td>\n",
       "      <td>0.0</td>\n",
       "      <td>0.0</td>\n",
       "      <td>0.0</td>\n",
       "      <td>0.0</td>\n",
       "      <td>0.0</td>\n",
       "      <td>0.0</td>\n",
       "      <td>0.0</td>\n",
       "      <td>1.0</td>\n",
       "      <td>0.0</td>\n",
       "      <td>...</td>\n",
       "      <td>0.0</td>\n",
       "      <td>0.0</td>\n",
       "      <td>0.0</td>\n",
       "      <td>0.0</td>\n",
       "      <td>0.0</td>\n",
       "      <td>0.0</td>\n",
       "      <td>0.0</td>\n",
       "      <td>1.0</td>\n",
       "      <td>0.0</td>\n",
       "      <td>0.0</td>\n",
       "    </tr>\n",
       "  </tbody>\n",
       "</table>\n",
       "<p>5 rows × 29 columns</p>\n",
       "</div>"
      ],
      "text/plain": [
       "       x0_11th  x0_12th  x0_1st-4th  x0_5th-6th  x0_7th-8th  x0_9th  \\\n",
       "29         0.0      0.0         0.0         0.0         0.0     0.0   \n",
       "12181      0.0      0.0         0.0         0.0         0.0     0.0   \n",
       "18114      1.0      0.0         0.0         0.0         0.0     0.0   \n",
       "4278       0.0      0.0         0.0         0.0         0.0     0.0   \n",
       "12050      0.0      0.0         0.0         0.0         0.0     0.0   \n",
       "\n",
       "       x0_Assoc-acdm  x0_Assoc-voc  x0_Bachelors  x0_Doctorate  ...  \\\n",
       "29               0.0           0.0           0.0           0.0  ...   \n",
       "12181            0.0           0.0           0.0           0.0  ...   \n",
       "18114            0.0           0.0           0.0           0.0  ...   \n",
       "4278             0.0           0.0           1.0           0.0  ...   \n",
       "12050            0.0           0.0           1.0           0.0  ...   \n",
       "\n",
       "       x1_Farming-fishing  x1_Handlers-cleaners  x1_Machine-op-inspct  \\\n",
       "29                    0.0                   0.0                   0.0   \n",
       "12181                 0.0                   0.0                   1.0   \n",
       "18114                 0.0                   0.0                   0.0   \n",
       "4278                  0.0                   0.0                   0.0   \n",
       "12050                 0.0                   0.0                   0.0   \n",
       "\n",
       "       x1_Other-service  x1_Priv-house-serv  x1_Prof-specialty  \\\n",
       "29                  0.0                 0.0                0.0   \n",
       "12181               0.0                 0.0                0.0   \n",
       "18114               1.0                 0.0                0.0   \n",
       "4278                0.0                 0.0                0.0   \n",
       "12050               0.0                 0.0                0.0   \n",
       "\n",
       "       x1_Protective-serv  x1_Sales  x1_Tech-support  x1_Transport-moving  \n",
       "29                    0.0       0.0              0.0                  0.0  \n",
       "12181                 0.0       0.0              0.0                  0.0  \n",
       "18114                 0.0       0.0              0.0                  0.0  \n",
       "4278                  0.0       0.0              0.0                  0.0  \n",
       "12050                 0.0       1.0              0.0                  0.0  \n",
       "\n",
       "[5 rows x 29 columns]"
      ]
     },
     "execution_count": 9,
     "metadata": {},
     "output_type": "execute_result"
    }
   ],
   "source": [
    "X_tr_ohe.head()"
   ]
  },
  {
   "cell_type": "code",
   "execution_count": 10,
   "metadata": {
    "ExecuteTime": {
     "end_time": "2021-05-11T22:54:17.718449Z",
     "start_time": "2021-05-11T22:54:17.707667Z"
    }
   },
   "outputs": [],
   "source": [
    "X_te_ohe = pd.DataFrame(ohe.transform(X_test.select_dtypes('object')),\n",
    "                                  columns=ohe.get_feature_names(),\n",
    "                                    index=X_test.index)\n"
   ]
  },
  {
   "cell_type": "code",
   "execution_count": 11,
   "metadata": {
    "ExecuteTime": {
     "end_time": "2021-05-11T22:54:17.741602Z",
     "start_time": "2021-05-11T22:54:17.720427Z"
    }
   },
   "outputs": [
    {
     "data": {
      "text/html": [
       "<div>\n",
       "<style scoped>\n",
       "    .dataframe tbody tr th:only-of-type {\n",
       "        vertical-align: middle;\n",
       "    }\n",
       "\n",
       "    .dataframe tbody tr th {\n",
       "        vertical-align: top;\n",
       "    }\n",
       "\n",
       "    .dataframe thead th {\n",
       "        text-align: right;\n",
       "    }\n",
       "</style>\n",
       "<table border=\"1\" class=\"dataframe\">\n",
       "  <thead>\n",
       "    <tr style=\"text-align: right;\">\n",
       "      <th></th>\n",
       "      <th>x0_11th</th>\n",
       "      <th>x0_12th</th>\n",
       "      <th>x0_1st-4th</th>\n",
       "      <th>x0_5th-6th</th>\n",
       "      <th>x0_7th-8th</th>\n",
       "      <th>x0_9th</th>\n",
       "      <th>x0_Assoc-acdm</th>\n",
       "      <th>x0_Assoc-voc</th>\n",
       "      <th>x0_Bachelors</th>\n",
       "      <th>x0_Doctorate</th>\n",
       "      <th>...</th>\n",
       "      <th>x1_Farming-fishing</th>\n",
       "      <th>x1_Handlers-cleaners</th>\n",
       "      <th>x1_Machine-op-inspct</th>\n",
       "      <th>x1_Other-service</th>\n",
       "      <th>x1_Priv-house-serv</th>\n",
       "      <th>x1_Prof-specialty</th>\n",
       "      <th>x1_Protective-serv</th>\n",
       "      <th>x1_Sales</th>\n",
       "      <th>x1_Tech-support</th>\n",
       "      <th>x1_Transport-moving</th>\n",
       "    </tr>\n",
       "  </thead>\n",
       "  <tbody>\n",
       "    <tr>\n",
       "      <th>14160</th>\n",
       "      <td>0.0</td>\n",
       "      <td>0.0</td>\n",
       "      <td>0.0</td>\n",
       "      <td>0.0</td>\n",
       "      <td>0.0</td>\n",
       "      <td>0.0</td>\n",
       "      <td>0.0</td>\n",
       "      <td>0.0</td>\n",
       "      <td>0.0</td>\n",
       "      <td>0.0</td>\n",
       "      <td>...</td>\n",
       "      <td>0.0</td>\n",
       "      <td>0.0</td>\n",
       "      <td>0.0</td>\n",
       "      <td>0.0</td>\n",
       "      <td>0.0</td>\n",
       "      <td>0.0</td>\n",
       "      <td>0.0</td>\n",
       "      <td>0.0</td>\n",
       "      <td>0.0</td>\n",
       "      <td>0.0</td>\n",
       "    </tr>\n",
       "    <tr>\n",
       "      <th>27048</th>\n",
       "      <td>0.0</td>\n",
       "      <td>0.0</td>\n",
       "      <td>0.0</td>\n",
       "      <td>0.0</td>\n",
       "      <td>0.0</td>\n",
       "      <td>0.0</td>\n",
       "      <td>0.0</td>\n",
       "      <td>0.0</td>\n",
       "      <td>0.0</td>\n",
       "      <td>0.0</td>\n",
       "      <td>...</td>\n",
       "      <td>0.0</td>\n",
       "      <td>0.0</td>\n",
       "      <td>0.0</td>\n",
       "      <td>0.0</td>\n",
       "      <td>0.0</td>\n",
       "      <td>0.0</td>\n",
       "      <td>0.0</td>\n",
       "      <td>0.0</td>\n",
       "      <td>0.0</td>\n",
       "      <td>0.0</td>\n",
       "    </tr>\n",
       "    <tr>\n",
       "      <th>28868</th>\n",
       "      <td>0.0</td>\n",
       "      <td>0.0</td>\n",
       "      <td>0.0</td>\n",
       "      <td>0.0</td>\n",
       "      <td>0.0</td>\n",
       "      <td>0.0</td>\n",
       "      <td>0.0</td>\n",
       "      <td>0.0</td>\n",
       "      <td>1.0</td>\n",
       "      <td>0.0</td>\n",
       "      <td>...</td>\n",
       "      <td>0.0</td>\n",
       "      <td>0.0</td>\n",
       "      <td>0.0</td>\n",
       "      <td>0.0</td>\n",
       "      <td>0.0</td>\n",
       "      <td>0.0</td>\n",
       "      <td>0.0</td>\n",
       "      <td>0.0</td>\n",
       "      <td>0.0</td>\n",
       "      <td>0.0</td>\n",
       "    </tr>\n",
       "    <tr>\n",
       "      <th>5667</th>\n",
       "      <td>0.0</td>\n",
       "      <td>0.0</td>\n",
       "      <td>0.0</td>\n",
       "      <td>0.0</td>\n",
       "      <td>0.0</td>\n",
       "      <td>0.0</td>\n",
       "      <td>0.0</td>\n",
       "      <td>0.0</td>\n",
       "      <td>1.0</td>\n",
       "      <td>0.0</td>\n",
       "      <td>...</td>\n",
       "      <td>0.0</td>\n",
       "      <td>0.0</td>\n",
       "      <td>1.0</td>\n",
       "      <td>0.0</td>\n",
       "      <td>0.0</td>\n",
       "      <td>0.0</td>\n",
       "      <td>0.0</td>\n",
       "      <td>0.0</td>\n",
       "      <td>0.0</td>\n",
       "      <td>0.0</td>\n",
       "    </tr>\n",
       "    <tr>\n",
       "      <th>7827</th>\n",
       "      <td>0.0</td>\n",
       "      <td>0.0</td>\n",
       "      <td>0.0</td>\n",
       "      <td>0.0</td>\n",
       "      <td>0.0</td>\n",
       "      <td>0.0</td>\n",
       "      <td>0.0</td>\n",
       "      <td>0.0</td>\n",
       "      <td>0.0</td>\n",
       "      <td>0.0</td>\n",
       "      <td>...</td>\n",
       "      <td>0.0</td>\n",
       "      <td>0.0</td>\n",
       "      <td>0.0</td>\n",
       "      <td>0.0</td>\n",
       "      <td>0.0</td>\n",
       "      <td>0.0</td>\n",
       "      <td>0.0</td>\n",
       "      <td>0.0</td>\n",
       "      <td>0.0</td>\n",
       "      <td>0.0</td>\n",
       "    </tr>\n",
       "  </tbody>\n",
       "</table>\n",
       "<p>5 rows × 29 columns</p>\n",
       "</div>"
      ],
      "text/plain": [
       "       x0_11th  x0_12th  x0_1st-4th  x0_5th-6th  x0_7th-8th  x0_9th  \\\n",
       "14160      0.0      0.0         0.0         0.0         0.0     0.0   \n",
       "27048      0.0      0.0         0.0         0.0         0.0     0.0   \n",
       "28868      0.0      0.0         0.0         0.0         0.0     0.0   \n",
       "5667       0.0      0.0         0.0         0.0         0.0     0.0   \n",
       "7827       0.0      0.0         0.0         0.0         0.0     0.0   \n",
       "\n",
       "       x0_Assoc-acdm  x0_Assoc-voc  x0_Bachelors  x0_Doctorate  ...  \\\n",
       "14160            0.0           0.0           0.0           0.0  ...   \n",
       "27048            0.0           0.0           0.0           0.0  ...   \n",
       "28868            0.0           0.0           1.0           0.0  ...   \n",
       "5667             0.0           0.0           1.0           0.0  ...   \n",
       "7827             0.0           0.0           0.0           0.0  ...   \n",
       "\n",
       "       x1_Farming-fishing  x1_Handlers-cleaners  x1_Machine-op-inspct  \\\n",
       "14160                 0.0                   0.0                   0.0   \n",
       "27048                 0.0                   0.0                   0.0   \n",
       "28868                 0.0                   0.0                   0.0   \n",
       "5667                  0.0                   0.0                   1.0   \n",
       "7827                  0.0                   0.0                   0.0   \n",
       "\n",
       "       x1_Other-service  x1_Priv-house-serv  x1_Prof-specialty  \\\n",
       "14160               0.0                 0.0                0.0   \n",
       "27048               0.0                 0.0                0.0   \n",
       "28868               0.0                 0.0                0.0   \n",
       "5667                0.0                 0.0                0.0   \n",
       "7827                0.0                 0.0                0.0   \n",
       "\n",
       "       x1_Protective-serv  x1_Sales  x1_Tech-support  x1_Transport-moving  \n",
       "14160                 0.0       0.0              0.0                  0.0  \n",
       "27048                 0.0       0.0              0.0                  0.0  \n",
       "28868                 0.0       0.0              0.0                  0.0  \n",
       "5667                  0.0       0.0              0.0                  0.0  \n",
       "7827                  0.0       0.0              0.0                  0.0  \n",
       "\n",
       "[5 rows x 29 columns]"
      ]
     },
     "execution_count": 11,
     "metadata": {},
     "output_type": "execute_result"
    }
   ],
   "source": [
    "X_te_ohe.head()"
   ]
  },
  {
   "cell_type": "markdown",
   "metadata": {},
   "source": [
    "## Averaging"
   ]
  },
  {
   "cell_type": "markdown",
   "metadata": {},
   "source": [
    "> Each model uses the same data to train and then we \"vote\" to make a prediction"
   ]
  },
  {
   "cell_type": "markdown",
   "metadata": {},
   "source": [
    "### Model 1 - Logistic Regression"
   ]
  },
  {
   "cell_type": "code",
   "execution_count": 12,
   "metadata": {
    "ExecuteTime": {
     "end_time": "2021-05-11T22:54:17.946584Z",
     "start_time": "2021-05-11T22:54:17.743528Z"
    }
   },
   "outputs": [
    {
     "data": {
      "text/plain": [
       "LogisticRegression()"
      ]
     },
     "execution_count": 12,
     "metadata": {},
     "output_type": "execute_result"
    }
   ],
   "source": [
    "lr = LogisticRegression()\n",
    "\n",
    "lr.fit(X_tr_ohe, y_train)"
   ]
  },
  {
   "cell_type": "code",
   "execution_count": 13,
   "metadata": {
    "ExecuteTime": {
     "end_time": "2021-05-11T22:54:18.796666Z",
     "start_time": "2021-05-11T22:54:17.948742Z"
    }
   },
   "outputs": [
    {
     "data": {
      "text/plain": [
       "array([0.78808354, 0.78460278, 0.78235053, 0.78542179, 0.79320229])"
      ]
     },
     "execution_count": 13,
     "metadata": {},
     "output_type": "execute_result"
    }
   ],
   "source": [
    "scores = cross_val_score(estimator=lr, X=X_tr_ohe,\n",
    "                        y=y_train, cv=5)\n",
    "scores"
   ]
  },
  {
   "cell_type": "code",
   "execution_count": 14,
   "metadata": {
    "ExecuteTime": {
     "end_time": "2021-05-11T22:54:18.803075Z",
     "start_time": "2021-05-11T22:54:18.798729Z"
    }
   },
   "outputs": [
    {
     "data": {
      "text/plain": [
       "0.7854217854217854"
      ]
     },
     "execution_count": 14,
     "metadata": {},
     "output_type": "execute_result"
    }
   ],
   "source": [
    "np.median(scores)"
   ]
  },
  {
   "cell_type": "code",
   "execution_count": 15,
   "metadata": {
    "ExecuteTime": {
     "end_time": "2021-05-11T22:54:18.813026Z",
     "start_time": "2021-05-11T22:54:18.805570Z"
    }
   },
   "outputs": [
    {
     "data": {
      "text/plain": [
       "0.7895835892396511"
      ]
     },
     "execution_count": 15,
     "metadata": {},
     "output_type": "execute_result"
    }
   ],
   "source": [
    "lr.score(X_te_ohe, y_test)"
   ]
  },
  {
   "cell_type": "markdown",
   "metadata": {
    "heading_collapsed": true
   },
   "source": [
    "### Model 2 - KNN"
   ]
  },
  {
   "cell_type": "code",
   "execution_count": 16,
   "metadata": {
    "ExecuteTime": {
     "end_time": "2021-05-11T22:54:19.806918Z",
     "start_time": "2021-05-11T22:54:18.815144Z"
    },
    "hidden": true
   },
   "outputs": [
    {
     "data": {
      "text/plain": [
       "KNeighborsClassifier(n_neighbors=3)"
      ]
     },
     "execution_count": 16,
     "metadata": {},
     "output_type": "execute_result"
    }
   ],
   "source": [
    "knn = KNeighborsClassifier(3)\n",
    "\n",
    "knn.fit(X_tr_ohe, y_train)"
   ]
  },
  {
   "cell_type": "code",
   "execution_count": 17,
   "metadata": {
    "ExecuteTime": {
     "end_time": "2021-05-11T22:54:35.180045Z",
     "start_time": "2021-05-11T22:54:19.809231Z"
    },
    "hidden": true
   },
   "outputs": [
    {
     "data": {
      "text/plain": [
       "0.7352579852579852"
      ]
     },
     "execution_count": 17,
     "metadata": {},
     "output_type": "execute_result"
    }
   ],
   "source": [
    "scores = cross_val_score(estimator=knn, X=X_tr_ohe,\n",
    "                y=y_train, cv=5)\n",
    "np.median(scores)"
   ]
  },
  {
   "cell_type": "code",
   "execution_count": 18,
   "metadata": {
    "ExecuteTime": {
     "end_time": "2021-05-11T22:54:41.604245Z",
     "start_time": "2021-05-11T22:54:35.182435Z"
    },
    "hidden": true
   },
   "outputs": [
    {
     "data": {
      "text/plain": [
       "0.7190762805552143"
      ]
     },
     "execution_count": 18,
     "metadata": {},
     "output_type": "execute_result"
    }
   ],
   "source": [
    "knn.score(X_te_ohe, y_test)"
   ]
  },
  {
   "cell_type": "markdown",
   "metadata": {
    "heading_collapsed": true
   },
   "source": [
    "### Model 3 - Decision Tree"
   ]
  },
  {
   "cell_type": "code",
   "execution_count": 19,
   "metadata": {
    "ExecuteTime": {
     "end_time": "2021-05-11T22:54:41.653159Z",
     "start_time": "2021-05-11T22:54:41.606230Z"
    },
    "hidden": true
   },
   "outputs": [
    {
     "data": {
      "text/plain": [
       "DecisionTreeClassifier(random_state=42)"
      ]
     },
     "execution_count": 19,
     "metadata": {},
     "output_type": "execute_result"
    }
   ],
   "source": [
    "rt = DecisionTreeClassifier(random_state=42)\n",
    "\n",
    "rt.fit(X_tr_ohe, y_train)"
   ]
  },
  {
   "cell_type": "code",
   "execution_count": 20,
   "metadata": {
    "ExecuteTime": {
     "end_time": "2021-05-11T22:54:41.825501Z",
     "start_time": "2021-05-11T22:54:41.654875Z"
    },
    "hidden": true
   },
   "outputs": [
    {
     "data": {
      "text/plain": [
       "array([0.77968878, 0.78521704, 0.78296478, 0.78583129, 0.79299754])"
      ]
     },
     "execution_count": 20,
     "metadata": {},
     "output_type": "execute_result"
    }
   ],
   "source": [
    "scores = cross_val_score(estimator=rt, X=X_tr_ohe,\n",
    "               y=y_train, cv=5)\n",
    "scores"
   ]
  },
  {
   "cell_type": "code",
   "execution_count": 21,
   "metadata": {
    "ExecuteTime": {
     "end_time": "2021-05-11T22:54:41.830521Z",
     "start_time": "2021-05-11T22:54:41.827307Z"
    },
    "hidden": true
   },
   "outputs": [
    {
     "data": {
      "text/plain": [
       "0.7852170352170352"
      ]
     },
     "execution_count": 21,
     "metadata": {},
     "output_type": "execute_result"
    }
   ],
   "source": [
    "np.median(scores)"
   ]
  },
  {
   "cell_type": "code",
   "execution_count": 22,
   "metadata": {
    "ExecuteTime": {
     "end_time": "2021-05-11T22:54:41.843869Z",
     "start_time": "2021-05-11T22:54:41.837185Z"
    },
    "hidden": true
   },
   "outputs": [
    {
     "data": {
      "text/plain": [
       "0.789952094337305"
      ]
     },
     "execution_count": 22,
     "metadata": {},
     "output_type": "execute_result"
    }
   ],
   "source": [
    "rt.score(X_te_ohe, y_test)"
   ]
  },
  {
   "cell_type": "markdown",
   "metadata": {
    "heading_collapsed": true
   },
   "source": [
    "### Averaging the Models"
   ]
  },
  {
   "cell_type": "markdown",
   "metadata": {
    "heading_collapsed": true,
    "hidden": true
   },
   "source": [
    "#### Building a `VotingClassifier`"
   ]
  },
  {
   "cell_type": "markdown",
   "metadata": {
    "hidden": true
   },
   "source": [
    "> Of course there's a Scikit-Learn class for that"
   ]
  },
  {
   "cell_type": "code",
   "execution_count": 23,
   "metadata": {
    "ExecuteTime": {
     "end_time": "2021-05-11T22:54:43.140397Z",
     "start_time": "2021-05-11T22:54:41.849185Z"
    },
    "hidden": true
   },
   "outputs": [
    {
     "data": {
      "text/plain": [
       "VotingClassifier(estimators=[('lr', LogisticRegression()),\n",
       "                             ('knn', KNeighborsClassifier(n_neighbors=3)),\n",
       "                             ('rt', DecisionTreeClassifier(random_state=42))])"
      ]
     },
     "execution_count": 23,
     "metadata": {},
     "output_type": "execute_result"
    }
   ],
   "source": [
    "avg = VotingClassifier(estimators=[\n",
    "    ('lr', lr),\n",
    "    ('knn', knn),\n",
    "    ('rt', rt)])\n",
    "avg.fit(X_tr_ohe, y_train)"
   ]
  },
  {
   "cell_type": "code",
   "execution_count": 24,
   "metadata": {
    "ExecuteTime": {
     "end_time": "2021-05-11T22:55:03.332094Z",
     "start_time": "2021-05-11T22:54:43.143008Z"
    },
    "hidden": true
   },
   "outputs": [
    {
     "data": {
      "text/plain": [
       "array([0.78235053, 0.78501229, 0.78214578, 0.78439803, 0.79279279])"
      ]
     },
     "execution_count": 24,
     "metadata": {},
     "output_type": "execute_result"
    }
   ],
   "source": [
    "scores = cross_val_score(estimator=avg, X=X_tr_ohe,\n",
    "               y=y_train, cv=5)\n",
    "scores"
   ]
  },
  {
   "cell_type": "code",
   "execution_count": 25,
   "metadata": {
    "ExecuteTime": {
     "end_time": "2021-05-11T22:55:03.338176Z",
     "start_time": "2021-05-11T22:55:03.333891Z"
    },
    "hidden": true
   },
   "outputs": [
    {
     "data": {
      "text/plain": [
       "0.7843980343980343"
      ]
     },
     "execution_count": 25,
     "metadata": {},
     "output_type": "execute_result"
    }
   ],
   "source": [
    "np.median(scores)"
   ]
  },
  {
   "cell_type": "code",
   "execution_count": 26,
   "metadata": {
    "ExecuteTime": {
     "end_time": "2021-05-11T22:55:10.957684Z",
     "start_time": "2021-05-11T22:55:03.340199Z"
    },
    "hidden": true
   },
   "outputs": [
    {
     "data": {
      "text/plain": [
       "0.789952094337305"
      ]
     },
     "execution_count": 26,
     "metadata": {},
     "output_type": "execute_result"
    }
   ],
   "source": [
    "# This should be the same as above!\n",
    "\n",
    "avg.score(X_te_ohe, y_test)"
   ]
  },
  {
   "cell_type": "markdown",
   "metadata": {
    "heading_collapsed": true,
    "hidden": true
   },
   "source": [
    "#### Weighted Averaging with the `VotingClassifier`"
   ]
  },
  {
   "cell_type": "markdown",
   "metadata": {
    "hidden": true
   },
   "source": [
    "> Even if the vote is 50-50, you'd probably side with the \"smart\" ones more"
   ]
  },
  {
   "cell_type": "markdown",
   "metadata": {
    "hidden": true
   },
   "source": [
    "This meta-estimator is not as good as one of our base estimators, so in this case the averaging did not work very well. Realizing that the decision tree is performing better than the logistic regression and the k-nearest-neighbors model, however, we might decide to build a meta-estimator by calculating a **weighted average** of the base estimators' predictions. And we can weight, or bias, this estimator in favor of the best-performing base estimator. Suppose we weight the tree 40%, the knn model 20%, and the logistic regression 40%:"
   ]
  },
  {
   "cell_type": "code",
   "execution_count": 27,
   "metadata": {
    "ExecuteTime": {
     "end_time": "2021-05-11T22:55:12.526125Z",
     "start_time": "2021-05-11T22:55:10.959718Z"
    },
    "hidden": true
   },
   "outputs": [
    {
     "data": {
      "text/plain": [
       "VotingClassifier(estimators=[('lr', LogisticRegression()),\n",
       "                             ('knn', KNeighborsClassifier(n_neighbors=3)),\n",
       "                             ('rt', DecisionTreeClassifier(random_state=42))],\n",
       "                 weights=[0.4, 0.2, 0.4])"
      ]
     },
     "execution_count": 27,
     "metadata": {},
     "output_type": "execute_result"
    }
   ],
   "source": [
    "w_avg = VotingClassifier(estimators=[\n",
    "    ('lr', lr),\n",
    "    ('knn', knn),\n",
    "    ('rt', rt)],\n",
    "    weights=[0.4, 0.2, 0.4])\n",
    "w_avg.fit(X_tr_ohe, y_train)"
   ]
  },
  {
   "cell_type": "code",
   "execution_count": 28,
   "metadata": {
    "ExecuteTime": {
     "end_time": "2021-05-11T22:55:33.460343Z",
     "start_time": "2021-05-11T22:55:12.528233Z"
    },
    "hidden": true
   },
   "outputs": [
    {
     "data": {
      "text/plain": [
       "array([0.78235053, 0.78501229, 0.78214578, 0.78439803, 0.79279279])"
      ]
     },
     "execution_count": 28,
     "metadata": {},
     "output_type": "execute_result"
    }
   ],
   "source": [
    "scores = cross_val_score(estimator=w_avg, X=X_tr_ohe,\n",
    "                        y=y_train, cv=5)\n",
    "scores"
   ]
  },
  {
   "cell_type": "code",
   "execution_count": 29,
   "metadata": {
    "ExecuteTime": {
     "end_time": "2021-05-11T22:55:33.465732Z",
     "start_time": "2021-05-11T22:55:33.462150Z"
    },
    "hidden": true
   },
   "outputs": [
    {
     "data": {
      "text/plain": [
       "0.7843980343980343"
      ]
     },
     "execution_count": 29,
     "metadata": {},
     "output_type": "execute_result"
    }
   ],
   "source": [
    "np.median(scores)"
   ]
  },
  {
   "cell_type": "code",
   "execution_count": 30,
   "metadata": {
    "ExecuteTime": {
     "end_time": "2021-05-11T22:55:40.283843Z",
     "start_time": "2021-05-11T22:55:33.468160Z"
    },
    "hidden": true
   },
   "outputs": [
    {
     "data": {
      "text/plain": [
       "0.789952094337305"
      ]
     },
     "execution_count": 30,
     "metadata": {},
     "output_type": "execute_result"
    }
   ],
   "source": [
    "# This should be the same as above!\n",
    "\n",
    "w_avg.score(X_te_ohe, y_test)"
   ]
  },
  {
   "cell_type": "markdown",
   "metadata": {
    "heading_collapsed": true
   },
   "source": [
    "## Bagging"
   ]
  },
  {
   "cell_type": "markdown",
   "metadata": {
    "hidden": true
   },
   "source": [
    "A single decision tree will often overfit your training data. Let's see if we have evidence of that in the current case:"
   ]
  },
  {
   "cell_type": "code",
   "execution_count": 31,
   "metadata": {
    "ExecuteTime": {
     "end_time": "2021-05-11T22:55:40.297350Z",
     "start_time": "2021-05-11T22:55:40.285887Z"
    },
    "hidden": true
   },
   "outputs": [
    {
     "data": {
      "text/plain": [
       "0.7878787878787878"
      ]
     },
     "execution_count": 31,
     "metadata": {},
     "output_type": "execute_result"
    }
   ],
   "source": [
    "rt.score(X_tr_ohe, y_train)"
   ]
  },
  {
   "cell_type": "markdown",
   "metadata": {
    "hidden": true
   },
   "source": [
    "<details>\n",
    "    <summary><b>🧠 Knowledge Check</b>: What is this score? And why is it nearly equal to 1?</summary>\n",
    "    <br/>\n",
    "    <quote>\n",
    "    This nearly perfect score on the training data is already evidence of model overfitting. There are steps one can take to help with this, like limiting the \"depth\" of the nodes. And of course we can use cross-validation to get a more honest estimate of model quality\n",
    "    </quote>\n",
    "</details>\n",
    "\n",
    "\n"
   ]
  },
  {
   "cell_type": "code",
   "execution_count": 32,
   "metadata": {
    "ExecuteTime": {
     "end_time": "2021-05-11T22:55:40.492569Z",
     "start_time": "2021-05-11T22:55:40.299183Z"
    },
    "hidden": true
   },
   "outputs": [
    {
     "data": {
      "text/plain": [
       "array([0.77968878, 0.78521704, 0.78296478, 0.78583129, 0.79299754])"
      ]
     },
     "execution_count": 32,
     "metadata": {},
     "output_type": "execute_result"
    }
   ],
   "source": [
    "scores = cross_val_score(estimator=rt, X=X_tr_ohe,\n",
    "                y=y_train, cv=5)\n",
    "scores"
   ]
  },
  {
   "cell_type": "code",
   "execution_count": 33,
   "metadata": {
    "ExecuteTime": {
     "end_time": "2021-05-11T22:55:40.498356Z",
     "start_time": "2021-05-11T22:55:40.494676Z"
    },
    "hidden": true
   },
   "outputs": [
    {
     "data": {
      "text/plain": [
       "0.7852170352170352"
      ]
     },
     "execution_count": 33,
     "metadata": {},
     "output_type": "execute_result"
    }
   ],
   "source": [
    "np.median(scores)"
   ]
  },
  {
   "cell_type": "code",
   "execution_count": 34,
   "metadata": {
    "ExecuteTime": {
     "end_time": "2021-05-11T22:55:40.507740Z",
     "start_time": "2021-05-11T22:55:40.500560Z"
    },
    "hidden": true
   },
   "outputs": [
    {
     "data": {
      "text/plain": [
       "0.789952094337305"
      ]
     },
     "execution_count": 34,
     "metadata": {},
     "output_type": "execute_result"
    }
   ],
   "source": [
    "rt.score(X_te_ohe, y_test)"
   ]
  },
  {
   "cell_type": "markdown",
   "metadata": {
    "hidden": true
   },
   "source": [
    "But it's often better to do something else: Plant another tree!\n",
    "\n",
    "Of course, if a second tree is going to be of any value, it has to be *different from* the first. Here's a good algorithm for achieving that:"
   ]
  },
  {
   "cell_type": "markdown",
   "metadata": {
    "heading_collapsed": true,
    "hidden": true
   },
   "source": [
    "### Bagging Algorithm"
   ]
  },
  {
   "cell_type": "markdown",
   "metadata": {
    "hidden": true
   },
   "source": [
    "- Take a sample of your X_train and fit a decision tree to it.\n",
    "- Replace the first batch of data and repeat.\n",
    "- When you've got as many trees as you like, make use of all your individual trees' predictions to come up with some holistic prediction. \n",
    "    - (Most obviously, we could take the average of our predictions, but there are other methods we might try.)"
   ]
  },
  {
   "cell_type": "markdown",
   "metadata": {
    "hidden": true
   },
   "source": [
    "* Because we're resampling our data with replacement, we're *bootstrapping*.\n",
    "* Because we're making use of our many samples' predictions, we're *aggregating*.\n",
    "* Because we're bootstrapping and aggregating all in the same algorithm, we're *bagging*."
   ]
  },
  {
   "cell_type": "markdown",
   "metadata": {
    "heading_collapsed": true,
    "hidden": true
   },
   "source": [
    "### Back to the Example Data"
   ]
  },
  {
   "cell_type": "code",
   "execution_count": 35,
   "metadata": {
    "ExecuteTime": {
     "end_time": "2021-05-11T22:55:40.511891Z",
     "start_time": "2021-05-11T22:55:40.509568Z"
    },
    "hidden": true
   },
   "outputs": [],
   "source": [
    "# Instatiate a BaggingRegessor\n",
    "# Note the base esimator is by default a decision tree\n",
    "bag = BaggingClassifier(n_estimators=100,\n",
    "                       verbose=1,\n",
    "                       random_state=1)"
   ]
  },
  {
   "cell_type": "code",
   "execution_count": 36,
   "metadata": {
    "ExecuteTime": {
     "end_time": "2021-05-11T22:55:43.356495Z",
     "start_time": "2021-05-11T22:55:40.513611Z"
    },
    "hidden": true
   },
   "outputs": [
    {
     "name": "stderr",
     "output_type": "stream",
     "text": [
      "[Parallel(n_jobs=1)]: Using backend SequentialBackend with 1 concurrent workers.\n",
      "[Parallel(n_jobs=1)]: Done   1 out of   1 | elapsed:    2.8s finished\n"
     ]
    },
    {
     "data": {
      "text/plain": [
       "BaggingClassifier(n_estimators=100, random_state=1, verbose=1)"
      ]
     },
     "execution_count": 36,
     "metadata": {},
     "output_type": "execute_result"
    }
   ],
   "source": [
    "# Fit it\n",
    "\n",
    "bag.fit(X_tr_ohe, y_train)"
   ]
  },
  {
   "cell_type": "code",
   "execution_count": 37,
   "metadata": {
    "ExecuteTime": {
     "end_time": "2021-05-11T22:55:55.743287Z",
     "start_time": "2021-05-11T22:55:43.358402Z"
    },
    "hidden": true
   },
   "outputs": [
    {
     "name": "stderr",
     "output_type": "stream",
     "text": [
      "[Parallel(n_jobs=1)]: Using backend SequentialBackend with 1 concurrent workers.\n",
      "[Parallel(n_jobs=1)]: Done   1 out of   1 | elapsed:    2.2s finished\n",
      "[Parallel(n_jobs=1)]: Using backend SequentialBackend with 1 concurrent workers.\n",
      "[Parallel(n_jobs=1)]: Done   1 out of   1 | elapsed:    0.1s finished\n",
      "[Parallel(n_jobs=1)]: Using backend SequentialBackend with 1 concurrent workers.\n",
      "[Parallel(n_jobs=1)]: Done   1 out of   1 | elapsed:    2.3s finished\n",
      "[Parallel(n_jobs=1)]: Using backend SequentialBackend with 1 concurrent workers.\n",
      "[Parallel(n_jobs=1)]: Done   1 out of   1 | elapsed:    0.1s finished\n",
      "[Parallel(n_jobs=1)]: Using backend SequentialBackend with 1 concurrent workers.\n",
      "[Parallel(n_jobs=1)]: Done   1 out of   1 | elapsed:    2.3s finished\n",
      "[Parallel(n_jobs=1)]: Using backend SequentialBackend with 1 concurrent workers.\n",
      "[Parallel(n_jobs=1)]: Done   1 out of   1 | elapsed:    0.1s finished\n",
      "[Parallel(n_jobs=1)]: Using backend SequentialBackend with 1 concurrent workers.\n",
      "[Parallel(n_jobs=1)]: Done   1 out of   1 | elapsed:    2.4s finished\n",
      "[Parallel(n_jobs=1)]: Using backend SequentialBackend with 1 concurrent workers.\n",
      "[Parallel(n_jobs=1)]: Done   1 out of   1 | elapsed:    0.1s finished\n",
      "[Parallel(n_jobs=1)]: Using backend SequentialBackend with 1 concurrent workers.\n",
      "[Parallel(n_jobs=1)]: Done   1 out of   1 | elapsed:    2.5s finished\n",
      "[Parallel(n_jobs=1)]: Using backend SequentialBackend with 1 concurrent workers.\n",
      "[Parallel(n_jobs=1)]: Done   1 out of   1 | elapsed:    0.1s finished\n"
     ]
    },
    {
     "data": {
      "text/plain": [
       "array([0.77968878, 0.78480753, 0.78255528, 0.78542179, 0.79279279])"
      ]
     },
     "execution_count": 37,
     "metadata": {},
     "output_type": "execute_result"
    }
   ],
   "source": [
    "# Cross-validation\n",
    "\n",
    "scores = cross_val_score(estimator=bag, X=X_tr_ohe,\n",
    "               y=y_train, cv=5)\n",
    "scores"
   ]
  },
  {
   "cell_type": "code",
   "execution_count": 38,
   "metadata": {
    "ExecuteTime": {
     "end_time": "2021-05-11T22:55:55.749701Z",
     "start_time": "2021-05-11T22:55:55.745322Z"
    },
    "hidden": true
   },
   "outputs": [
    {
     "data": {
      "text/plain": [
       "0.7848075348075348"
      ]
     },
     "execution_count": 38,
     "metadata": {},
     "output_type": "execute_result"
    }
   ],
   "source": [
    "np.median(scores)"
   ]
  },
  {
   "cell_type": "code",
   "execution_count": 39,
   "metadata": {
    "ExecuteTime": {
     "end_time": "2021-05-11T22:55:55.967970Z",
     "start_time": "2021-05-11T22:55:55.751772Z"
    },
    "hidden": true
   },
   "outputs": [
    {
     "name": "stderr",
     "output_type": "stream",
     "text": [
      "[Parallel(n_jobs=1)]: Using backend SequentialBackend with 1 concurrent workers.\n",
      "[Parallel(n_jobs=1)]: Done   1 out of   1 | elapsed:    0.2s finished\n"
     ]
    },
    {
     "data": {
      "text/plain": [
       "0.7895835892396511"
      ]
     },
     "execution_count": 39,
     "metadata": {},
     "output_type": "execute_result"
    }
   ],
   "source": [
    "# Score on test\n",
    "\n",
    "bag.score(X_te_ohe, y_test)"
   ]
  },
  {
   "cell_type": "markdown",
   "metadata": {
    "heading_collapsed": true,
    "hidden": true
   },
   "source": [
    "### Fitting a Random Forest"
   ]
  },
  {
   "cell_type": "markdown",
   "metadata": {
    "heading_collapsed": true,
    "hidden": true
   },
   "source": [
    "### An Aside Story - Bananas 🍌"
   ]
  },
  {
   "cell_type": "markdown",
   "metadata": {
    "hidden": true
   },
   "source": [
    "Banana trees can be susceptible to [Panama's disease](https://en.wikipedia.org/wiki/Panama_disease)"
   ]
  },
  {
   "cell_type": "markdown",
   "metadata": {
    "hidden": true
   },
   "source": [
    "![Many individual yellow bananas](images/bananas.jpg)"
   ]
  },
  {
   "cell_type": "markdown",
   "metadata": {
    "hidden": true
   },
   "source": [
    "They're all clones!\n",
    "\n",
    "Similarly, all the Decision Trees will be the same if given the same data! (A clone!!!)"
   ]
  },
  {
   "cell_type": "markdown",
   "metadata": {
    "heading_collapsed": true,
    "hidden": true
   },
   "source": [
    "### The Goods & The Bads"
   ]
  },
  {
   "cell_type": "markdown",
   "metadata": {
    "hidden": true
   },
   "source": [
    "**The Goods**\n",
    "\n",
    "- Super friend! \n",
    "- High performance \n",
    "    + low variance\n",
    "- Transparent\n",
    "    + inherited from Decision Trees\n",
    "    "
   ]
  },
  {
   "cell_type": "markdown",
   "metadata": {
    "hidden": true
   },
   "source": [
    "**The Bads**\n",
    "\n",
    "- We got so many trees to plant...\n",
    "- Computationally expensive\n",
    "- Memory\n",
    "    + all trees stored in memory\n",
    "    + think back to k-Nearest Neighbors"
   ]
  },
  {
   "cell_type": "markdown",
   "metadata": {
    "heading_collapsed": true,
    "hidden": true
   },
   "source": [
    "### Breed a Variety of Trees"
   ]
  },
  {
   "cell_type": "markdown",
   "metadata": {
    "hidden": true
   },
   "source": [
    "Let's add an extra layer of randomization: Instead of using *all* the features of my model to optimize a branch at each node, I'll just choose a subset of my features.\n",
    "\n",
    "That's the essence of a random forest model. Note that there are now **two** levels of random sampling happening: To build a new tree, I'll be taking only some of my data points; and at any branching point in a tree, I'll be using only some of my features to determine the split."
   ]
  },
  {
   "cell_type": "markdown",
   "metadata": {
    "heading_collapsed": true,
    "hidden": true
   },
   "source": [
    "#### Steps:"
   ]
  },
  {
   "cell_type": "markdown",
   "metadata": {
    "hidden": true
   },
   "source": [
    "1. Save a portion of data for validation (**out-of-bag**), the rest for training (**bag**)\n",
    "2. The data for training (**bag**) is then split up by randomly selecting predictors\n",
    "3. Grow/train your tree with the training data using just those features\n",
    "4. Use our validation set (**out-of-bag**), take out the columns used in our tree from the previous step, and predict using the tree & this *out-of-bag* data\n",
    "5. Compare on how well the tree did *out-of-bag error*\n",
    "6. Repeat to make new trees and use the result to \"vote\" for the final decision"
   ]
  },
  {
   "cell_type": "markdown",
   "metadata": {
    "heading_collapsed": true,
    "hidden": true
   },
   "source": [
    "### Back to the Example Data"
   ]
  },
  {
   "cell_type": "markdown",
   "metadata": {
    "hidden": true
   },
   "source": [
    "> Here's the [documentation](https://scikit-learn.org/stable/modules/generated/sklearn.ensemble.RandomForestClassifier.html#sklearn.ensemble.RandomForestClassifier) on `RandomForestClassifier`"
   ]
  },
  {
   "cell_type": "code",
   "execution_count": 40,
   "metadata": {
    "ExecuteTime": {
     "end_time": "2021-05-11T22:55:55.973356Z",
     "start_time": "2021-05-11T22:55:55.970450Z"
    },
    "hidden": true
   },
   "outputs": [],
   "source": [
    "# Instantiate a RandomForestClassifier\n",
    "\n",
    "rfr = RandomForestClassifier(max_features='sqrt',\n",
    "                            max_samples=0.5,\n",
    "                            random_state=1)"
   ]
  },
  {
   "cell_type": "code",
   "execution_count": 41,
   "metadata": {
    "ExecuteTime": {
     "end_time": "2021-05-11T22:55:56.944593Z",
     "start_time": "2021-05-11T22:55:55.975615Z"
    },
    "hidden": true
   },
   "outputs": [
    {
     "data": {
      "text/plain": [
       "RandomForestClassifier(max_features='sqrt', max_samples=0.5, random_state=1)"
      ]
     },
     "execution_count": 41,
     "metadata": {},
     "output_type": "execute_result"
    }
   ],
   "source": [
    "# Fit it\n",
    "\n",
    "rfr.fit(X_tr_ohe, y_train)"
   ]
  },
  {
   "cell_type": "code",
   "execution_count": 42,
   "metadata": {
    "ExecuteTime": {
     "end_time": "2021-05-11T22:56:01.256198Z",
     "start_time": "2021-05-11T22:55:56.946588Z"
    },
    "hidden": true
   },
   "outputs": [
    {
     "data": {
      "text/plain": [
       "array([0.78009828, 0.78480753, 0.78276003, 0.78583129, 0.79279279])"
      ]
     },
     "execution_count": 42,
     "metadata": {},
     "output_type": "execute_result"
    }
   ],
   "source": [
    "# Cross-validation\n",
    "\n",
    "scores = cross_val_score(estimator=rfr, X=X_tr_ohe,\n",
    "               y=y_train, cv=5)\n",
    "scores"
   ]
  },
  {
   "cell_type": "code",
   "execution_count": 43,
   "metadata": {
    "ExecuteTime": {
     "end_time": "2021-05-11T22:56:01.262787Z",
     "start_time": "2021-05-11T22:56:01.258304Z"
    },
    "hidden": true
   },
   "outputs": [
    {
     "data": {
      "text/plain": [
       "0.7848075348075348"
      ]
     },
     "execution_count": 43,
     "metadata": {},
     "output_type": "execute_result"
    }
   ],
   "source": [
    "np.median(scores)"
   ]
  },
  {
   "cell_type": "code",
   "execution_count": 44,
   "metadata": {
    "ExecuteTime": {
     "end_time": "2021-05-11T22:56:01.381325Z",
     "start_time": "2021-05-11T22:56:01.265037Z"
    },
    "hidden": true
   },
   "outputs": [
    {
     "data": {
      "text/plain": [
       "0.7897064242722024"
      ]
     },
     "execution_count": 44,
     "metadata": {},
     "output_type": "execute_result"
    }
   ],
   "source": [
    "# Score on test\n",
    "\n",
    "score = rfr.score(X_te_ohe, y_test)\n",
    "score"
   ]
  },
  {
   "cell_type": "code",
   "execution_count": 45,
   "metadata": {
    "ExecuteTime": {
     "end_time": "2021-05-11T22:56:01.388122Z",
     "start_time": "2021-05-11T22:56:01.383651Z"
    },
    "hidden": true
   },
   "outputs": [
    {
     "data": {
      "text/plain": [
       "Index(['x0_11th', 'x0_12th', 'x0_1st-4th', 'x0_5th-6th', 'x0_7th-8th',\n",
       "       'x0_9th', 'x0_Assoc-acdm', 'x0_Assoc-voc', 'x0_Bachelors',\n",
       "       'x0_Doctorate', 'x0_HS-grad', 'x0_Masters', 'x0_Preschool',\n",
       "       'x0_Prof-school', 'x0_Some-college', 'x1_Adm-clerical',\n",
       "       'x1_Armed-Forces', 'x1_Craft-repair', 'x1_Exec-managerial',\n",
       "       'x1_Farming-fishing', 'x1_Handlers-cleaners', 'x1_Machine-op-inspct',\n",
       "       'x1_Other-service', 'x1_Priv-house-serv', 'x1_Prof-specialty',\n",
       "       'x1_Protective-serv', 'x1_Sales', 'x1_Tech-support',\n",
       "       'x1_Transport-moving'],\n",
       "      dtype='object')"
      ]
     },
     "execution_count": 45,
     "metadata": {},
     "output_type": "execute_result"
    }
   ],
   "source": [
    "X_te_ohe.columns"
   ]
  },
  {
   "cell_type": "markdown",
   "metadata": {
    "heading_collapsed": true,
    "hidden": true
   },
   "source": [
    "### Cool Features of Random Forests"
   ]
  },
  {
   "cell_type": "markdown",
   "metadata": {
    "hidden": true
   },
   "source": [
    "There are some extra investigations we can do with random forests since they're built of decision trees.\n",
    "\n",
    "> **NOTE**\n",
    ">\n",
    "> Not all of these are _specific_ to random forests and can be applied to other (ensemble) models"
   ]
  },
  {
   "cell_type": "markdown",
   "metadata": {
    "heading_collapsed": true,
    "hidden": true
   },
   "source": [
    "#### Investigate Your Forest 🌲🌲👀🌲🌲"
   ]
  },
  {
   "cell_type": "markdown",
   "metadata": {
    "hidden": true
   },
   "source": [
    "We can check out our trained estimators after training the ensemble. This isn't necessarily unique to random forests, but since the base model is always a decision tree we can really investigate how the model is working!"
   ]
  },
  {
   "cell_type": "code",
   "execution_count": 46,
   "metadata": {
    "ExecuteTime": {
     "end_time": "2021-05-11T22:56:01.418809Z",
     "start_time": "2021-05-11T22:56:01.390574Z"
    },
    "hidden": true,
    "scrolled": true
   },
   "outputs": [
    {
     "name": "stdout",
     "output_type": "stream",
     "text": [
      "100\n"
     ]
    },
    {
     "data": {
      "text/plain": [
       "[DecisionTreeClassifier(max_features='sqrt', random_state=1791095845),\n",
       " DecisionTreeClassifier(max_features='sqrt', random_state=2135392491),\n",
       " DecisionTreeClassifier(max_features='sqrt', random_state=946286476),\n",
       " DecisionTreeClassifier(max_features='sqrt', random_state=1857819720),\n",
       " DecisionTreeClassifier(max_features='sqrt', random_state=491263),\n",
       " DecisionTreeClassifier(max_features='sqrt', random_state=550290313),\n",
       " DecisionTreeClassifier(max_features='sqrt', random_state=1298508491),\n",
       " DecisionTreeClassifier(max_features='sqrt', random_state=2143362693),\n",
       " DecisionTreeClassifier(max_features='sqrt', random_state=630311759),\n",
       " DecisionTreeClassifier(max_features='sqrt', random_state=1013994432),\n",
       " DecisionTreeClassifier(max_features='sqrt', random_state=396591248),\n",
       " DecisionTreeClassifier(max_features='sqrt', random_state=1703301249),\n",
       " DecisionTreeClassifier(max_features='sqrt', random_state=799981516),\n",
       " DecisionTreeClassifier(max_features='sqrt', random_state=1666063943),\n",
       " DecisionTreeClassifier(max_features='sqrt', random_state=1484172013),\n",
       " DecisionTreeClassifier(max_features='sqrt', random_state=729053692),\n",
       " DecisionTreeClassifier(max_features='sqrt', random_state=1704103302),\n",
       " DecisionTreeClassifier(max_features='sqrt', random_state=1870626073),\n",
       " DecisionTreeClassifier(max_features='sqrt', random_state=166716594),\n",
       " DecisionTreeClassifier(max_features='sqrt', random_state=1487394068),\n",
       " DecisionTreeClassifier(max_features='sqrt', random_state=1800426750),\n",
       " DecisionTreeClassifier(max_features='sqrt', random_state=1345499493),\n",
       " DecisionTreeClassifier(max_features='sqrt', random_state=795511698),\n",
       " DecisionTreeClassifier(max_features='sqrt', random_state=105433556),\n",
       " DecisionTreeClassifier(max_features='sqrt', random_state=878115723),\n",
       " DecisionTreeClassifier(max_features='sqrt', random_state=1904615676),\n",
       " DecisionTreeClassifier(max_features='sqrt', random_state=1624002026),\n",
       " DecisionTreeClassifier(max_features='sqrt', random_state=986026652),\n",
       " DecisionTreeClassifier(max_features='sqrt', random_state=117628829),\n",
       " DecisionTreeClassifier(max_features='sqrt', random_state=147806606),\n",
       " DecisionTreeClassifier(max_features='sqrt', random_state=732152370),\n",
       " DecisionTreeClassifier(max_features='sqrt', random_state=1777953348),\n",
       " DecisionTreeClassifier(max_features='sqrt', random_state=1792310487),\n",
       " DecisionTreeClassifier(max_features='sqrt', random_state=1963679703),\n",
       " DecisionTreeClassifier(max_features='sqrt', random_state=252070889),\n",
       " DecisionTreeClassifier(max_features='sqrt', random_state=1849836273),\n",
       " DecisionTreeClassifier(max_features='sqrt', random_state=602957303),\n",
       " DecisionTreeClassifier(max_features='sqrt', random_state=1886039518),\n",
       " DecisionTreeClassifier(max_features='sqrt', random_state=850839392),\n",
       " DecisionTreeClassifier(max_features='sqrt', random_state=1195672662),\n",
       " DecisionTreeClassifier(max_features='sqrt', random_state=1291688077),\n",
       " DecisionTreeClassifier(max_features='sqrt', random_state=927586281),\n",
       " DecisionTreeClassifier(max_features='sqrt', random_state=2011168137),\n",
       " DecisionTreeClassifier(max_features='sqrt', random_state=1300333575),\n",
       " DecisionTreeClassifier(max_features='sqrt', random_state=1346146623),\n",
       " DecisionTreeClassifier(max_features='sqrt', random_state=398576445),\n",
       " DecisionTreeClassifier(max_features='sqrt', random_state=826019350),\n",
       " DecisionTreeClassifier(max_features='sqrt', random_state=77964601),\n",
       " DecisionTreeClassifier(max_features='sqrt', random_state=1616579073),\n",
       " DecisionTreeClassifier(max_features='sqrt', random_state=1567750016),\n",
       " DecisionTreeClassifier(max_features='sqrt', random_state=1694822716),\n",
       " DecisionTreeClassifier(max_features='sqrt', random_state=1413675217),\n",
       " DecisionTreeClassifier(max_features='sqrt', random_state=365262088),\n",
       " DecisionTreeClassifier(max_features='sqrt', random_state=1415635672),\n",
       " DecisionTreeClassifier(max_features='sqrt', random_state=167739021),\n",
       " DecisionTreeClassifier(max_features='sqrt', random_state=1172740723),\n",
       " DecisionTreeClassifier(max_features='sqrt', random_state=729416111),\n",
       " DecisionTreeClassifier(max_features='sqrt', random_state=254447594),\n",
       " DecisionTreeClassifier(max_features='sqrt', random_state=1624109689),\n",
       " DecisionTreeClassifier(max_features='sqrt', random_state=732412360),\n",
       " DecisionTreeClassifier(max_features='sqrt', random_state=422396446),\n",
       " DecisionTreeClassifier(max_features='sqrt', random_state=399713351),\n",
       " DecisionTreeClassifier(max_features='sqrt', random_state=1808643459),\n",
       " DecisionTreeClassifier(max_features='sqrt', random_state=737248710),\n",
       " DecisionTreeClassifier(max_features='sqrt', random_state=1966620565),\n",
       " DecisionTreeClassifier(max_features='sqrt', random_state=1768615473),\n",
       " DecisionTreeClassifier(max_features='sqrt', random_state=142443833),\n",
       " DecisionTreeClassifier(max_features='sqrt', random_state=848474627),\n",
       " DecisionTreeClassifier(max_features='sqrt', random_state=824105924),\n",
       " DecisionTreeClassifier(max_features='sqrt', random_state=1243949848),\n",
       " DecisionTreeClassifier(max_features='sqrt', random_state=1355129329),\n",
       " DecisionTreeClassifier(max_features='sqrt', random_state=610401323),\n",
       " DecisionTreeClassifier(max_features='sqrt', random_state=801015372),\n",
       " DecisionTreeClassifier(max_features='sqrt', random_state=1216826394),\n",
       " DecisionTreeClassifier(max_features='sqrt', random_state=1437206324),\n",
       " DecisionTreeClassifier(max_features='sqrt', random_state=1771840848),\n",
       " DecisionTreeClassifier(max_features='sqrt', random_state=78547565),\n",
       " DecisionTreeClassifier(max_features='sqrt', random_state=146764659),\n",
       " DecisionTreeClassifier(max_features='sqrt', random_state=1074361641),\n",
       " DecisionTreeClassifier(max_features='sqrt', random_state=532704722),\n",
       " DecisionTreeClassifier(max_features='sqrt', random_state=2099642383),\n",
       " DecisionTreeClassifier(max_features='sqrt', random_state=689925184),\n",
       " DecisionTreeClassifier(max_features='sqrt', random_state=1065863364),\n",
       " DecisionTreeClassifier(max_features='sqrt', random_state=1282027545),\n",
       " DecisionTreeClassifier(max_features='sqrt', random_state=1204497775),\n",
       " DecisionTreeClassifier(max_features='sqrt', random_state=1916133090),\n",
       " DecisionTreeClassifier(max_features='sqrt', random_state=1242445271),\n",
       " DecisionTreeClassifier(max_features='sqrt', random_state=954017671),\n",
       " DecisionTreeClassifier(max_features='sqrt', random_state=443352346),\n",
       " DecisionTreeClassifier(max_features='sqrt', random_state=315096729),\n",
       " DecisionTreeClassifier(max_features='sqrt', random_state=1923688040),\n",
       " DecisionTreeClassifier(max_features='sqrt', random_state=2015364118),\n",
       " DecisionTreeClassifier(max_features='sqrt', random_state=1754904329),\n",
       " DecisionTreeClassifier(max_features='sqrt', random_state=413056707),\n",
       " DecisionTreeClassifier(max_features='sqrt', random_state=1261063143),\n",
       " DecisionTreeClassifier(max_features='sqrt', random_state=1732461694),\n",
       " DecisionTreeClassifier(max_features='sqrt', random_state=1235985687),\n",
       " DecisionTreeClassifier(max_features='sqrt', random_state=513207677),\n",
       " DecisionTreeClassifier(max_features='sqrt', random_state=558468452),\n",
       " DecisionTreeClassifier(max_features='sqrt', random_state=106512539)]"
      ]
     },
     "execution_count": 46,
     "metadata": {},
     "output_type": "execute_result"
    }
   ],
   "source": [
    "model_estimators = rfr.estimators_ \n",
    "print(len(model_estimators))\n",
    "model_estimators"
   ]
  },
  {
   "cell_type": "code",
   "execution_count": 47,
   "metadata": {
    "ExecuteTime": {
     "end_time": "2021-05-11T22:56:01.459210Z",
     "start_time": "2021-05-11T22:56:01.421175Z"
    },
    "hidden": true
   },
   "outputs": [
    {
     "name": "stdout",
     "output_type": "stream",
     "text": [
      "Overall model's score was 0.790\n",
      "======================================================================\n"
     ]
    },
    {
     "data": {
      "text/plain": [
       "DecisionTreeClassifier(max_features='sqrt', random_state=1791095845)"
      ]
     },
     "metadata": {},
     "output_type": "display_data"
    },
    {
     "name": "stdout",
     "output_type": "stream",
     "text": [
      "\tModel gave score of 0.785\n"
     ]
    },
    {
     "data": {
      "text/plain": [
       "DecisionTreeClassifier(max_features='sqrt', random_state=2135392491)"
      ]
     },
     "metadata": {},
     "output_type": "display_data"
    },
    {
     "name": "stdout",
     "output_type": "stream",
     "text": [
      "\tModel gave score of 0.788\n"
     ]
    },
    {
     "data": {
      "text/plain": [
       "DecisionTreeClassifier(max_features='sqrt', random_state=946286476)"
      ]
     },
     "metadata": {},
     "output_type": "display_data"
    },
    {
     "name": "stdout",
     "output_type": "stream",
     "text": [
      "\tModel gave score of 0.789\n"
     ]
    },
    {
     "data": {
      "text/plain": [
       "DecisionTreeClassifier(max_features='sqrt', random_state=1857819720)"
      ]
     },
     "metadata": {},
     "output_type": "display_data"
    },
    {
     "name": "stdout",
     "output_type": "stream",
     "text": [
      "\tModel gave score of 0.789\n"
     ]
    },
    {
     "data": {
      "text/plain": [
       "DecisionTreeClassifier(max_features='sqrt', random_state=491263)"
      ]
     },
     "metadata": {},
     "output_type": "display_data"
    },
    {
     "name": "stdout",
     "output_type": "stream",
     "text": [
      "\tModel gave score of 0.791\n"
     ]
    }
   ],
   "source": [
    "print(f'Overall model\\'s score was {score:.3f}')\n",
    "print('='*70)\n",
    "\n",
    "for model in model_estimators[:5]:\n",
    "    display(model)\n",
    "    model_score = model.score(X_te_ohe, y_test)\n",
    "    print(f'\\tModel gave score of {model_score:.3f}')"
   ]
  },
  {
   "cell_type": "markdown",
   "metadata": {
    "heading_collapsed": true,
    "hidden": true
   },
   "source": [
    "#### Feature Importance"
   ]
  },
  {
   "cell_type": "markdown",
   "metadata": {
    "hidden": true
   },
   "source": [
    "We can use [`.feature_importances_`](https://scikit-learn.org/stable/modules/generated/sklearn.ensemble.RandomForestClassifier.html#sklearn.ensemble.RandomForestClassifier.feature_importances_) property of the trained model to get an idea of what features mattered the most"
   ]
  },
  {
   "cell_type": "code",
   "execution_count": 48,
   "metadata": {
    "ExecuteTime": {
     "end_time": "2021-05-11T22:56:01.478620Z",
     "start_time": "2021-05-11T22:56:01.461420Z"
    },
    "hidden": true
   },
   "outputs": [
    {
     "data": {
      "text/plain": [
       "{'x0_11th': 0.020436800370345974,\n",
       " 'x0_12th': 0.005586813609673215,\n",
       " 'x0_1st-4th': 0.002832401878369992,\n",
       " 'x0_5th-6th': 0.00449956084561272,\n",
       " 'x0_7th-8th': 0.007417939096003576,\n",
       " 'x0_9th': 0.006469245954173599,\n",
       " 'x0_Assoc-acdm': 0.012908861984233471,\n",
       " 'x0_Assoc-voc': 0.012589759779065277,\n",
       " 'x0_Bachelors': 0.11588467310150585,\n",
       " 'x0_Doctorate': 0.0647324061918156,\n",
       " 'x0_HS-grad': 0.04313866471655069,\n",
       " 'x0_Masters': 0.10875755957118347,\n",
       " 'x0_Preschool': 0.0003709575093120798,\n",
       " 'x0_Prof-school': 0.0910207076185668,\n",
       " 'x0_Some-college': 0.02452113272575209,\n",
       " 'x1_Adm-clerical': 0.023930523235957547,\n",
       " 'x1_Armed-Forces': 0.00023284860506856683,\n",
       " 'x1_Craft-repair': 0.019556215050028882,\n",
       " 'x1_Exec-managerial': 0.17144786192787734,\n",
       " 'x1_Farming-fishing': 0.007872668050033718,\n",
       " 'x1_Handlers-cleaners': 0.01878735032648214,\n",
       " 'x1_Machine-op-inspct': 0.011078307301323623,\n",
       " 'x1_Other-service': 0.07534746714856022,\n",
       " 'x1_Priv-house-serv': 0.003238979421149528,\n",
       " 'x1_Prof-specialty': 0.08681428396161553,\n",
       " 'x1_Protective-serv': 0.015227034063158045,\n",
       " 'x1_Sales': 0.0213682691330302,\n",
       " 'x1_Tech-support': 0.013360024805906699,\n",
       " 'x1_Transport-moving': 0.010570682017643468}"
      ]
     },
     "execution_count": 48,
     "metadata": {},
     "output_type": "execute_result"
    }
   ],
   "source": [
    "feat_import = {name: score \n",
    "                   for name, score \n",
    "                       in zip(X_te_ohe.columns, rfr.feature_importances_)\n",
    "}\n",
    "feat_import"
   ]
  },
  {
   "cell_type": "markdown",
   "metadata": {
    "heading_collapsed": true,
    "hidden": true
   },
   "source": [
    "### Extremely Randomized Trees (Extra Trees)"
   ]
  },
  {
   "cell_type": "markdown",
   "metadata": {
    "hidden": true
   },
   "source": [
    "Sometimes we might want even one more bit of randomization. Instead of always choosing the *optimal* branching path, we might just choose a branching path at random. If we're doing that, then we've got extremely randomized trees.\n",
    "\n",
    "There are now **three** levels of randomization: sampling of data, sampling of features, and random selection of branching paths."
   ]
  },
  {
   "cell_type": "code",
   "execution_count": 49,
   "metadata": {
    "ExecuteTime": {
     "end_time": "2021-05-11T22:56:01.483858Z",
     "start_time": "2021-05-11T22:56:01.480800Z"
    },
    "hidden": true
   },
   "outputs": [],
   "source": [
    "# Instantiate an ExtraTreesRegressor\n",
    "\n",
    "etr = ExtraTreesClassifier(max_features='sqrt',\n",
    "                         max_samples=0.5,\n",
    "                         bootstrap=True,\n",
    "                         random_state=1)"
   ]
  },
  {
   "cell_type": "code",
   "execution_count": 50,
   "metadata": {
    "ExecuteTime": {
     "end_time": "2021-05-11T22:56:02.344264Z",
     "start_time": "2021-05-11T22:56:01.486021Z"
    },
    "hidden": true
   },
   "outputs": [
    {
     "data": {
      "text/plain": [
       "ExtraTreesClassifier(bootstrap=True, max_features='sqrt', max_samples=0.5,\n",
       "                     random_state=1)"
      ]
     },
     "execution_count": 50,
     "metadata": {},
     "output_type": "execute_result"
    }
   ],
   "source": [
    "# Fit it\n",
    "\n",
    "etr.fit(X_tr_ohe, y_train)"
   ]
  },
  {
   "cell_type": "code",
   "execution_count": 51,
   "metadata": {
    "ExecuteTime": {
     "end_time": "2021-05-11T22:56:06.341618Z",
     "start_time": "2021-05-11T22:56:02.346346Z"
    },
    "hidden": true
   },
   "outputs": [
    {
     "data": {
      "text/plain": [
       "array([0.78009828, 0.78480753, 0.78276003, 0.78583129, 0.79279279])"
      ]
     },
     "execution_count": 51,
     "metadata": {},
     "output_type": "execute_result"
    }
   ],
   "source": [
    "# Cross-validation\n",
    "\n",
    "scores = cross_val_score(estimator=etr, X=X_tr_ohe,\n",
    "               y=y_train, cv=5)\n",
    "scores"
   ]
  },
  {
   "cell_type": "code",
   "execution_count": 52,
   "metadata": {
    "ExecuteTime": {
     "end_time": "2021-05-11T22:56:06.348034Z",
     "start_time": "2021-05-11T22:56:06.343700Z"
    },
    "hidden": true
   },
   "outputs": [
    {
     "data": {
      "text/plain": [
       "0.7848075348075348"
      ]
     },
     "execution_count": 52,
     "metadata": {},
     "output_type": "execute_result"
    }
   ],
   "source": [
    "np.median(scores)"
   ]
  },
  {
   "cell_type": "code",
   "execution_count": 53,
   "metadata": {
    "ExecuteTime": {
     "end_time": "2021-05-11T22:56:06.469009Z",
     "start_time": "2021-05-11T22:56:06.350466Z"
    },
    "hidden": true
   },
   "outputs": [
    {
     "data": {
      "text/plain": [
       "0.7897064242722024"
      ]
     },
     "execution_count": 53,
     "metadata": {},
     "output_type": "execute_result"
    }
   ],
   "source": [
    "# Score on test\n",
    "\n",
    "etr.score(X_te_ohe, y_test)"
   ]
  },
  {
   "cell_type": "markdown",
   "metadata": {},
   "source": [
    "# Stacking"
   ]
  },
  {
   "cell_type": "markdown",
   "metadata": {},
   "source": [
    "Remember weighted averaging? Stacking is about using DS models to estimate those weights for us. This means we'll have one layer of base estimators and another layer that is \"**trained to optimally combine the model predictions to form a new set of predictions**\". See [this short blog post](https://blogs.sas.com/content/subconsciousmusings/2017/05/18/stacked-ensemble-models-win-data-science-competitions/) for more."
   ]
  },
  {
   "cell_type": "markdown",
   "metadata": {
    "heading_collapsed": true
   },
   "source": [
    "## Initial Data Prep"
   ]
  },
  {
   "cell_type": "code",
   "execution_count": 54,
   "metadata": {
    "ExecuteTime": {
     "end_time": "2021-05-11T22:56:07.276613Z",
     "start_time": "2021-05-11T22:56:06.471273Z"
    },
    "hidden": true
   },
   "outputs": [],
   "source": [
    "wb = xlrd.open_workbook('data/Sales Report.xls',\n",
    "                        logfile=open(os.devnull, 'w'))\n",
    "\n",
    "sales = pd.read_excel(wb)\n",
    "sales = sales.dropna()"
   ]
  },
  {
   "cell_type": "code",
   "execution_count": 55,
   "metadata": {
    "ExecuteTime": {
     "end_time": "2021-05-11T22:56:07.284571Z",
     "start_time": "2021-05-11T22:56:07.278654Z"
    },
    "hidden": true
   },
   "outputs": [
    {
     "data": {
      "text/plain": [
       "Row ID                    int64\n",
       "Order ID                 object\n",
       "Order Date       datetime64[ns]\n",
       "Ship Date        datetime64[ns]\n",
       "Ship Mode                object\n",
       "Customer ID              object\n",
       "Customer Name            object\n",
       "Segment                  object\n",
       "Country                  object\n",
       "City                     object\n",
       "State                    object\n",
       "Postal Code             float64\n",
       "Region                   object\n",
       "Product ID               object\n",
       "Category                 object\n",
       "Sub-Category             object\n",
       "Product Name             object\n",
       "Sales                   float64\n",
       "Quantity                  int64\n",
       "Discount                float64\n",
       "Profit                  float64\n",
       "dtype: object"
      ]
     },
     "execution_count": 55,
     "metadata": {},
     "output_type": "execute_result"
    }
   ],
   "source": [
    "sales.dtypes"
   ]
  },
  {
   "cell_type": "code",
   "execution_count": 56,
   "metadata": {
    "ExecuteTime": {
     "end_time": "2021-05-11T22:56:07.292952Z",
     "start_time": "2021-05-11T22:56:07.286488Z"
    },
    "hidden": true
   },
   "outputs": [
    {
     "data": {
      "text/plain": [
       "Office Supplies    6020\n",
       "Furniture          2119\n",
       "Technology         1844\n",
       "Name: Category, dtype: int64"
      ]
     },
     "execution_count": 56,
     "metadata": {},
     "output_type": "execute_result"
    }
   ],
   "source": [
    "sales['Category'].value_counts()"
   ]
  },
  {
   "cell_type": "code",
   "execution_count": 57,
   "metadata": {
    "ExecuteTime": {
     "end_time": "2021-05-11T22:56:07.301455Z",
     "start_time": "2021-05-11T22:56:07.295021Z"
    },
    "hidden": true
   },
   "outputs": [
    {
     "data": {
      "text/plain": [
       "Binders        1523\n",
       "Paper          1368\n",
       "Furnishings     957\n",
       "Phones          888\n",
       "Storage         845\n",
       "Art             795\n",
       "Accessories     773\n",
       "Chairs          616\n",
       "Appliances      465\n",
       "Labels          364\n",
       "Tables          319\n",
       "Envelopes       253\n",
       "Bookcases       227\n",
       "Fasteners       217\n",
       "Supplies        190\n",
       "Machines        115\n",
       "Copiers          68\n",
       "Name: Sub-Category, dtype: int64"
      ]
     },
     "execution_count": 57,
     "metadata": {},
     "output_type": "execute_result"
    }
   ],
   "source": [
    "sales['Sub-Category'].value_counts()"
   ]
  },
  {
   "cell_type": "code",
   "execution_count": 58,
   "metadata": {
    "ExecuteTime": {
     "end_time": "2021-05-11T22:56:07.308042Z",
     "start_time": "2021-05-11T22:56:07.303629Z"
    },
    "hidden": true
   },
   "outputs": [],
   "source": [
    "X_num = sales[['Discount', 'Profit']].columns\n",
    "X_cat = sales[['Category', 'Sub-Category']].columns"
   ]
  },
  {
   "cell_type": "code",
   "execution_count": 59,
   "metadata": {
    "ExecuteTime": {
     "end_time": "2021-05-11T22:56:07.314684Z",
     "start_time": "2021-05-11T22:56:07.310523Z"
    },
    "hidden": true
   },
   "outputs": [],
   "source": [
    "X = sales[['Discount', 'Profit',\n",
    "          'Category', 'Sub-Category']]\n",
    "y = sales['Sales']"
   ]
  },
  {
   "cell_type": "markdown",
   "metadata": {
    "heading_collapsed": true
   },
   "source": [
    "## Splitting"
   ]
  },
  {
   "cell_type": "code",
   "execution_count": 60,
   "metadata": {
    "ExecuteTime": {
     "end_time": "2021-05-11T22:56:07.324388Z",
     "start_time": "2021-05-11T22:56:07.317530Z"
    },
    "hidden": true
   },
   "outputs": [],
   "source": [
    "X_train, X_test, y_train, y_test = train_test_split(X, y, random_state=42)"
   ]
  },
  {
   "cell_type": "markdown",
   "metadata": {
    "heading_collapsed": true
   },
   "source": [
    "## Setting Up a Pipeline"
   ]
  },
  {
   "cell_type": "code",
   "execution_count": 61,
   "metadata": {
    "ExecuteTime": {
     "end_time": "2021-05-11T22:56:07.330841Z",
     "start_time": "2021-05-11T22:56:07.327069Z"
    },
    "hidden": true
   },
   "outputs": [],
   "source": [
    "numTrans = Pipeline(steps=[\n",
    "    ('scaler', StandardScaler())\n",
    "])\n",
    "catTrans = Pipeline(steps=[\n",
    "    ('ohe', OneHotEncoder(drop='first',\n",
    "                          sparse=False))\n",
    "])"
   ]
  },
  {
   "cell_type": "code",
   "execution_count": 62,
   "metadata": {
    "ExecuteTime": {
     "end_time": "2021-05-11T22:56:07.337491Z",
     "start_time": "2021-05-11T22:56:07.333769Z"
    },
    "hidden": true
   },
   "outputs": [],
   "source": [
    "pp = ColumnTransformer(transformers=[\n",
    "    ('num', numTrans, X_num),\n",
    "    ('cat', catTrans, X_cat)\n",
    "])"
   ]
  },
  {
   "cell_type": "code",
   "execution_count": 63,
   "metadata": {
    "ExecuteTime": {
     "end_time": "2021-05-11T22:56:07.373342Z",
     "start_time": "2021-05-11T22:56:07.339958Z"
    },
    "hidden": true
   },
   "outputs": [
    {
     "data": {
      "text/plain": [
       "ColumnTransformer(transformers=[('num',\n",
       "                                 Pipeline(steps=[('scaler', StandardScaler())]),\n",
       "                                 Index(['Discount', 'Profit'], dtype='object')),\n",
       "                                ('cat',\n",
       "                                 Pipeline(steps=[('ohe',\n",
       "                                                  OneHotEncoder(drop='first',\n",
       "                                                                sparse=False))]),\n",
       "                                 Index(['Category', 'Sub-Category'], dtype='object'))])"
      ]
     },
     "execution_count": 63,
     "metadata": {},
     "output_type": "execute_result"
    }
   ],
   "source": [
    "pp.fit(X_train)"
   ]
  },
  {
   "cell_type": "code",
   "execution_count": 64,
   "metadata": {
    "ExecuteTime": {
     "end_time": "2021-05-11T22:56:07.390002Z",
     "start_time": "2021-05-11T22:56:07.375923Z"
    },
    "hidden": true
   },
   "outputs": [],
   "source": [
    "X_tr_pp = pp.transform(X_train)"
   ]
  },
  {
   "cell_type": "markdown",
   "metadata": {
    "heading_collapsed": true
   },
   "source": [
    "## Setting Up a Stack"
   ]
  },
  {
   "cell_type": "code",
   "execution_count": 65,
   "metadata": {
    "ExecuteTime": {
     "end_time": "2021-05-11T22:56:07.395145Z",
     "start_time": "2021-05-11T22:56:07.392332Z"
    },
    "hidden": true
   },
   "outputs": [],
   "source": [
    "estimators = [\n",
    "    ('lr', LinearRegression()),\n",
    "    ('knn', KNeighborsRegressor()),\n",
    "    ('rt', DecisionTreeRegressor())\n",
    "]\n",
    "\n",
    "sr = StackingRegressor(estimators)"
   ]
  },
  {
   "cell_type": "code",
   "execution_count": 66,
   "metadata": {
    "ExecuteTime": {
     "end_time": "2021-05-11T22:56:07.911650Z",
     "start_time": "2021-05-11T22:56:07.397041Z"
    },
    "hidden": true
   },
   "outputs": [
    {
     "data": {
      "text/plain": [
       "StackingRegressor(estimators=[('lr', LinearRegression()),\n",
       "                              ('knn', KNeighborsRegressor()),\n",
       "                              ('rt', DecisionTreeRegressor())])"
      ]
     },
     "execution_count": 66,
     "metadata": {},
     "output_type": "execute_result"
    }
   ],
   "source": [
    "sr.fit(X_tr_pp, y_train)"
   ]
  },
  {
   "cell_type": "code",
   "execution_count": 67,
   "metadata": {
    "ExecuteTime": {
     "end_time": "2021-05-11T22:56:07.940615Z",
     "start_time": "2021-05-11T22:56:07.929061Z"
    },
    "hidden": true
   },
   "outputs": [],
   "source": [
    "X_test_pp = pp.transform(X_test)"
   ]
  },
  {
   "cell_type": "code",
   "execution_count": 68,
   "metadata": {
    "ExecuteTime": {
     "end_time": "2021-05-11T22:56:08.027940Z",
     "start_time": "2021-05-11T22:56:07.943678Z"
    },
    "hidden": true
   },
   "outputs": [
    {
     "data": {
      "text/plain": [
       "0.8162244663070259"
      ]
     },
     "execution_count": 68,
     "metadata": {},
     "output_type": "execute_result"
    }
   ],
   "source": [
    "sr.score(X_test_pp, y_test)"
   ]
  },
  {
   "cell_type": "markdown",
   "metadata": {},
   "source": [
    "## Comparison with Base Estimators"
   ]
  },
  {
   "cell_type": "code",
   "execution_count": 69,
   "metadata": {
    "ExecuteTime": {
     "end_time": "2021-05-11T22:56:08.043815Z",
     "start_time": "2021-05-11T22:56:08.030545Z"
    }
   },
   "outputs": [
    {
     "data": {
      "text/plain": [
       "0.42942244281549513"
      ]
     },
     "execution_count": 69,
     "metadata": {},
     "output_type": "execute_result"
    }
   ],
   "source": [
    "lr = LinearRegression().fit(X_tr_pp, y_train)\n",
    "lr.score(X_test_pp, y_test)"
   ]
  },
  {
   "cell_type": "code",
   "execution_count": 70,
   "metadata": {
    "ExecuteTime": {
     "end_time": "2021-05-11T22:56:08.146679Z",
     "start_time": "2021-05-11T22:56:08.046255Z"
    }
   },
   "outputs": [
    {
     "data": {
      "text/plain": [
       "0.7963215988357311"
      ]
     },
     "execution_count": 70,
     "metadata": {},
     "output_type": "execute_result"
    }
   ],
   "source": [
    "knn = KNeighborsRegressor().fit(X_tr_pp, y_train)\n",
    "knn.score(X_test_pp, y_test)"
   ]
  },
  {
   "cell_type": "code",
   "execution_count": 71,
   "metadata": {
    "ExecuteTime": {
     "end_time": "2021-05-11T22:56:08.197310Z",
     "start_time": "2021-05-11T22:56:08.149058Z"
    }
   },
   "outputs": [
    {
     "data": {
      "text/plain": [
       "0.24652017581657681"
      ]
     },
     "execution_count": 71,
     "metadata": {},
     "output_type": "execute_result"
    }
   ],
   "source": [
    "rt = DecisionTreeRegressor().fit(X_tr_pp, y_train)\n",
    "rt.score(X_test_pp, y_test)"
   ]
  }
 ],
 "metadata": {
  "kernelspec": {
   "display_name": "learn-env-new",
   "language": "python",
   "name": "learn-env-new"
  },
  "language_info": {
   "codemirror_mode": {
    "name": "ipython",
    "version": 3
   },
   "file_extension": ".py",
   "mimetype": "text/x-python",
   "name": "python",
   "nbconvert_exporter": "python",
   "pygments_lexer": "ipython3",
   "version": "3.8.5"
  },
  "toc": {
   "base_numbering": 1,
   "nav_menu": {},
   "number_sections": true,
   "sideBar": true,
   "skip_h1_title": false,
   "title_cell": "Table of Contents",
   "title_sidebar": "TOC",
   "toc_cell": true,
   "toc_position": {
    "height": "calc(100% - 180px)",
    "left": "10px",
    "top": "150px",
    "width": "288px"
   },
   "toc_section_display": true,
   "toc_window_display": true
  }
 },
 "nbformat": 4,
 "nbformat_minor": 4
}
