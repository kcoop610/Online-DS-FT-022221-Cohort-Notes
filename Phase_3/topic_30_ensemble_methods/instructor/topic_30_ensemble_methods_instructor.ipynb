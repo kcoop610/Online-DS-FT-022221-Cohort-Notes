{
 "cells": [
  {
   "cell_type": "markdown",
   "metadata": {
    "slideshow": {
     "slide_type": "slide"
    }
   },
   "source": [
    "# Topic 30: Ensemble Methods"
   ]
  },
  {
   "cell_type": "markdown",
   "metadata": {},
   "source": [
    "- onl01-dtsc-ft-022221\n",
    "- 05/12/21"
   ]
  },
  {
   "cell_type": "markdown",
   "metadata": {},
   "source": [
    "## Learning Objectives"
   ]
  },
  {
   "cell_type": "markdown",
   "metadata": {},
   "source": [
    "- Discuss the various types of ensembles methods\n",
    "- Compare and contrast them and their advantages/disadvantages\n",
    "\n",
    "- Activity: Mini-Project on Iowa Prisoner Recividism \n",
    "    - Baseline models\n",
    "    - Apply various ensemble methods.\n",
    "    - Review dealing with imbalanced classes\n",
    "    - GridSearchCV\n",
    "    \n",
    "\n",
    "- Quick overview of non-gridsearch cross-validation + saving models. (If there's time)\n",
    "    - `Notes rep` > `Phase_3` > `scratch_notebooks` > `topic_29_decision_trees_v2-with_crossval_model_saving.ipynb` (look for the header with a ⭐️)\n",
    "    - Also in the Appendix at the bottom.\n"
   ]
  },
  {
   "cell_type": "markdown",
   "metadata": {},
   "source": [
    "## Questions?"
   ]
  },
  {
   "cell_type": "markdown",
   "metadata": {},
   "source": []
  },
  {
   "cell_type": "markdown",
   "metadata": {
    "heading_collapsed": true
   },
   "source": [
    "# Ensemble Methods: Overview"
   ]
  },
  {
   "cell_type": "markdown",
   "metadata": {
    "hidden": true
   },
   "source": [
    "> ***Ensemble Methods take advantage of the delphic technique (or \"wisdom of crowds\") where the average of multiple independent estimates is usually more consistently accurate than the individual estimates.***\n",
    "\n",
    "\n",
    "#### Types of Ensembles "
   ]
  },
  {
   "cell_type": "markdown",
   "metadata": {
    "hidden": true
   },
   "source": [
    "- Bootstrap Aggregation (Bagging)\n",
    "    - Bagging Classifier\n",
    "    - Random Forests\n",
    "- Gradient Boosting:\n",
    "    - Adaboost\n",
    "    - Gradient Boosted Trees\n",
    "    - XGBoost\n",
    "- Model Stacking A.K.K. Meta-Ensembling\n",
    "    - VotingClassifer\n",
    "    - StackingClassifier\n",
    "\n"
   ]
  },
  {
   "cell_type": "markdown",
   "metadata": {
    "hidden": true
   },
   "source": [
    "## Bootstrap Aggregation (Bagging)\n"
   ]
  },
  {
   "cell_type": "markdown",
   "metadata": {
    "hidden": true
   },
   "source": [
    "<img src=\"https://raw.githubusercontent.com/jirvingphd/fsds_100719_cohort_notes/master/Flashcards/Bagging_web.png\">\n",
    "The process for training an ensemble through bootstrap aggregation is as follows:\n",
    "\n",
    "1. Grab a sizable sample from your dataset, with replacement \n",
    "2. Train a classifier on this sample  \n",
    "3. Repeat until all classifiers have been trained on their own sample from the dataset  \n",
    "4. When making a prediction, have each classifier in the ensemble make a prediction \n",
    "5. Aggregate all predictions from all classifiers into a single prediction, using the method of your choice  \n",
    "\n",
    "\n",
    "\n",
    "<img src=\"https://raw.githubusercontent.com/jirvingphd/dsc-ensemble-methods-online-ds-ft-100719/master/images/new_bagging.png\">"
   ]
  },
  {
   "cell_type": "markdown",
   "metadata": {
    "hidden": true
   },
   "source": [
    "### Random Forests"
   ]
  },
  {
   "cell_type": "markdown",
   "metadata": {
    "hidden": true
   },
   "source": [
    "<img src=\"https://raw.githubusercontent.com/jirvingphd/fsds_100719_cohort_notes/master/Flashcards/Random_Forest_web.png\">\n",
    "\n",
    "- Because decision trees are greedy algorithms, every tree given same data would make same conclusions.\n",
    "- **In addition to bagging**, random forests use **subspace sampling**\n",
    "\n",
    "<img src=\"https://raw.githubusercontent.com/learn-co-students/dsc-random-forests-online-ds-ft-100719/master/images/new_rf-diagram.png\" width=70%>\n",
    "\n",
    "\n",
    "\n",
    "\n",
    "### Benefits and drawbacks\n",
    "\n",
    "#### Benefits\n",
    "\n",
    "* **_Strong performance_** Because this is an ensemble algorithm, the model is naturally resistant to noise and variance in the data, and generally tends to perform quite well. \n",
    "\n",
    "* **_Interpretability_**:  each tree in the random forest is a **_Glass-Box Model_** (meaning that the model is interpretable, allowing us to see how it arrived at a certain decision), the overall random forest is, as well! \n",
    "\n",
    "#### Drawbacks\n",
    "\n",
    "* **_Computational complexity_**: On large datasets, the runtime can be quite slow compared to other algorithms.\n",
    "\n",
    "* **_Memory usage_**: Random forests tend to have a larger memory footprint that other models. It's not uncommon to see random forests that were trained on large datasets have memory footprints in the tens, or even hundreds of MB. \n"
   ]
  },
  {
   "cell_type": "markdown",
   "metadata": {
    "hidden": true
   },
   "source": [
    "## Boosting / Gradient Boosted Trees"
   ]
  },
  {
   "cell_type": "markdown",
   "metadata": {
    "hidden": true
   },
   "source": [
    "### Weak learners"
   ]
  },
  {
   "cell_type": "markdown",
   "metadata": {
    "hidden": true
   },
   "source": [
    "All the models we've learned so far are **_Strong Learners_** -- models with the goal of doing as well as possible on the classification or regression task they are given. \n",
    "\n",
    "The term **_Weak Learner_** refers to simple models that do only slightly better than random chance. \n",
    "\n",
    "Boosting algorithms start with a single weak learner (usually trees), but technically, any model will do. \n",
    "\n",
    "Boosting works as follows:\n",
    "\n",
    "1. Train a single weak learner  \n",
    "2. Figure out which examples the weak learner got wrong  \n",
    "3. Build another weak learner that focuses on the areas the first weak learner got wrong  \n",
    "4. Continue this process until a predetermined stopping condition is met, such as until a set number of weak learners have been created, or the model's performance has plateaued  "
   ]
  },
  {
   "cell_type": "markdown",
   "metadata": {
    "hidden": true
   },
   "source": [
    "### Adaboost & Gradient Boosted Trees\n"
   ]
  },
  {
   "cell_type": "markdown",
   "metadata": {
    "hidden": true
   },
   "source": [
    "#### Adaboost (Adaptive Boosting)\n",
    "\n",
    "- **_Key Takeaway:_** Adaboost creates new classifiers by continually influencing the distribution of the data sampled to train each successive learner. \n",
    "- Uses subsampling with **weighted-probabilities for incorrect predictions to be included in subsequent weak learner**\n",
    "\n",
    "<img src=\"https://raw.githubusercontent.com/learn-co-curriculum/dsc-gradient-boosting-and-weak-learners/master/images/new_adaboost.png\" width=50%>"
   ]
  },
  {
   "cell_type": "markdown",
   "metadata": {
    "hidden": true
   },
   "source": [
    "#### Gradient Boosted Trees\n",
    "- More advanced form - uses gradient descent.\n",
    "- Trains successive trees on the **residuals**\n",
    "\n",
    "<img src=\"https://raw.githubusercontent.com/jirvingphd/dsc-gradient-boosting-and-weak-learners-online-ds-ft-100719/master/images/new_gradient-boosting.png\">\n"
   ]
  },
  {
   "cell_type": "markdown",
   "metadata": {
    "hidden": true
   },
   "source": [
    "### Differences between Gradient Boosting and Random Forests"
   ]
  },
  {
   "cell_type": "markdown",
   "metadata": {
    "hidden": true
   },
   "source": [
    "- Independent vs iterative\n",
    "    - in Random Forests one tree is unaffacted by another.\n",
    "    - in Boosting mode each tree is iteratively created to address the prior tree's weaknesses.\n",
    "    \n",
    "- Weak vs Strong\n",
    "\n",
    "    - In a random forest, each tree is a strong learner -- they would do just fine as a decision tree on their own.\n",
    "    - In boosting algorithms, trees are artificially limited to a very shallow depth (usually only 1 split) \n",
    "        - to ensure that **each model is only slightly better than random chance**. \n",
    "\n",
    "- Aggregate Predictions:\n",
    "    - in RF each tree votes\n",
    "    - in boosting models trees are given weight for being good at \"hard tasks\"\n",
    "    "
   ]
  },
  {
   "cell_type": "markdown",
   "metadata": {
    "hidden": true
   },
   "source": [
    "## Modeling Stacking / Meta-Ensembling"
   ]
  },
  {
   "cell_type": "markdown",
   "metadata": {
    "hidden": true
   },
   "source": [
    "- Model stacking is when you use the predictions of one model as the input to another model.\n",
    "<img src=\"https://burakhimmetoglu.files.wordpress.com/2016/12/workflow.png?w=1140\">"
   ]
  },
  {
   "cell_type": "markdown",
   "metadata": {},
   "source": [
    "# Activity: Predicting Recidivism in Iowa Prisoners "
   ]
  },
  {
   "cell_type": "markdown",
   "metadata": {},
   "source": [
    "## OBTAIN"
   ]
  },
  {
   "cell_type": "markdown",
   "metadata": {},
   "source": [
    "- Iowa has a major problem with recidivism,  where ~38% of all inmates released from prison wind up back in jail after returning to a life of crime (AKA recidivism).\n",
    "- Dataset contains information on released prisoners and if they returned to prison within 3 years of being release. \n",
    "    - Dataset can be [found on Kaggle](https://www.kaggle.com/slonnadube/recidivism-for-offenders-released-from-prison), which was extracted from [Iowa's data portal](https://data.iowa.gov/Correctional-System/3-Year-Recidivism-for-Offenders-Released-from-Pris/mw8r-vqy4). \n",
    "\n",
    "- We will be using a partially pre-processed version of the dataset (columns have been renamed/simplified).\n",
    "\n",
    "<img src=\"https://raw.githubusercontent.com/jirvingphd/dsc-3-final-project-online-ds-ft-021119/master/LSA_map_with_counties_districts_and_B54A5BBCE4156.jpg\" width=50%> \n",
    "\n"
   ]
  },
  {
   "cell_type": "code",
   "execution_count": 1,
   "metadata": {
    "ExecuteTime": {
     "end_time": "2021-05-12T15:27:17.423368Z",
     "start_time": "2021-05-12T15:27:15.766730Z"
    }
   },
   "outputs": [],
   "source": [
    "import matplotlib.pyplot as plt\n",
    "import seaborn as sns\n",
    "import pandas as pd\n",
    "import numpy as np\n",
    "\n",
    "import plotly.express as px\n",
    "import plotly.graph_objects as go\n",
    "\n",
    "import warnings\n",
    "warnings.filterwarnings('ignore')\n",
    "\n",
    "plt.style.use('seaborn-notebook')"
   ]
  },
  {
   "cell_type": "code",
   "execution_count": 2,
   "metadata": {
    "ExecuteTime": {
     "end_time": "2021-05-12T15:27:22.913382Z",
     "start_time": "2021-05-12T15:27:17.425344Z"
    }
   },
   "outputs": [
    {
     "data": {
      "text/html": [
       "<div>\n",
       "<style scoped>\n",
       "    .dataframe tbody tr th:only-of-type {\n",
       "        vertical-align: middle;\n",
       "    }\n",
       "\n",
       "    .dataframe tbody tr th {\n",
       "        vertical-align: top;\n",
       "    }\n",
       "\n",
       "    .dataframe thead th {\n",
       "        text-align: right;\n",
       "    }\n",
       "</style>\n",
       "<table border=\"1\" class=\"dataframe\">\n",
       "  <thead>\n",
       "    <tr style=\"text-align: right;\">\n",
       "      <th></th>\n",
       "      <th>race_ethnicity</th>\n",
       "      <th>age_released</th>\n",
       "      <th>crime_class</th>\n",
       "      <th>crime_type</th>\n",
       "      <th>crime_subtype</th>\n",
       "      <th>release_type</th>\n",
       "      <th>super_dist</th>\n",
       "      <th>recidivist</th>\n",
       "      <th>target_pop</th>\n",
       "      <th>sex</th>\n",
       "    </tr>\n",
       "  </thead>\n",
       "  <tbody>\n",
       "    <tr>\n",
       "      <th>0</th>\n",
       "      <td>Black - Non-Hispanic</td>\n",
       "      <td>25-34</td>\n",
       "      <td>C Felony</td>\n",
       "      <td>Violent</td>\n",
       "      <td>Robbery</td>\n",
       "      <td>Parole</td>\n",
       "      <td>7JD</td>\n",
       "      <td>Yes</td>\n",
       "      <td>Yes</td>\n",
       "      <td>Male</td>\n",
       "    </tr>\n",
       "    <tr>\n",
       "      <th>1</th>\n",
       "      <td>White - Non-Hispanic</td>\n",
       "      <td>25-34</td>\n",
       "      <td>D Felony</td>\n",
       "      <td>Property</td>\n",
       "      <td>Theft</td>\n",
       "      <td>Discharged – End of Sentence</td>\n",
       "      <td>NaN</td>\n",
       "      <td>Yes</td>\n",
       "      <td>No</td>\n",
       "      <td>Male</td>\n",
       "    </tr>\n",
       "    <tr>\n",
       "      <th>2</th>\n",
       "      <td>White - Non-Hispanic</td>\n",
       "      <td>35-44</td>\n",
       "      <td>B Felony</td>\n",
       "      <td>Drug</td>\n",
       "      <td>Trafficking</td>\n",
       "      <td>Parole</td>\n",
       "      <td>5JD</td>\n",
       "      <td>Yes</td>\n",
       "      <td>Yes</td>\n",
       "      <td>Male</td>\n",
       "    </tr>\n",
       "    <tr>\n",
       "      <th>3</th>\n",
       "      <td>White - Non-Hispanic</td>\n",
       "      <td>25-34</td>\n",
       "      <td>B Felony</td>\n",
       "      <td>Other</td>\n",
       "      <td>Other Criminal</td>\n",
       "      <td>Parole</td>\n",
       "      <td>6JD</td>\n",
       "      <td>No</td>\n",
       "      <td>Yes</td>\n",
       "      <td>Male</td>\n",
       "    </tr>\n",
       "    <tr>\n",
       "      <th>4</th>\n",
       "      <td>Black - Non-Hispanic</td>\n",
       "      <td>35-44</td>\n",
       "      <td>D Felony</td>\n",
       "      <td>Violent</td>\n",
       "      <td>Assault</td>\n",
       "      <td>Discharged – End of Sentence</td>\n",
       "      <td>NaN</td>\n",
       "      <td>Yes</td>\n",
       "      <td>No</td>\n",
       "      <td>Male</td>\n",
       "    </tr>\n",
       "  </tbody>\n",
       "</table>\n",
       "</div>"
      ],
      "text/plain": [
       "         race_ethnicity age_released crime_class crime_type   crime_subtype  \\\n",
       "0  Black - Non-Hispanic        25-34    C Felony    Violent         Robbery   \n",
       "1  White - Non-Hispanic        25-34    D Felony   Property           Theft   \n",
       "2  White - Non-Hispanic        35-44    B Felony       Drug     Trafficking   \n",
       "3  White - Non-Hispanic        25-34    B Felony      Other  Other Criminal   \n",
       "4  Black - Non-Hispanic        35-44    D Felony    Violent         Assault   \n",
       "\n",
       "                   release_type super_dist recidivist target_pop   sex  \n",
       "0                        Parole        7JD        Yes        Yes  Male  \n",
       "1  Discharged – End of Sentence        NaN        Yes         No  Male  \n",
       "2                        Parole        5JD        Yes        Yes  Male  \n",
       "3                        Parole        6JD         No        Yes  Male  \n",
       "4  Discharged – End of Sentence        NaN        Yes         No  Male  "
      ]
     },
     "execution_count": 2,
     "metadata": {},
     "output_type": "execute_result"
    }
   ],
   "source": [
    "# raw_data = 'https://raw.githubusercontent.com/jirvingphd/dsc-3-final-project-online-ds-ft-021119/master/datasets/FULL_3-Year_Recidivism_for_Offenders_Released_from_Prison_in_Iowa.csv'\n",
    "renamed_data = 'https://raw.githubusercontent.com/jirvingphd/dsc-3-final-project-online-ds-ft-021119/master/datasets/Iowa_Prisoners_Renamed_Columns_fsds_100719.csv'\n",
    "df = pd.read_csv(renamed_data,index_col=0)\n",
    "\n",
    "## Drop unwanted cols using year\n",
    "df = df.drop(columns=['yr_released','report_year'])\n",
    "df.head()"
   ]
  },
  {
   "cell_type": "code",
   "execution_count": 3,
   "metadata": {
    "ExecuteTime": {
     "end_time": "2021-05-12T15:27:22.932390Z",
     "start_time": "2021-05-12T15:27:22.915621Z"
    }
   },
   "outputs": [
    {
     "name": "stdout",
     "output_type": "stream",
     "text": [
      "<class 'pandas.core.frame.DataFrame'>\n",
      "Int64Index: 26020 entries, 0 to 26019\n",
      "Data columns (total 10 columns):\n",
      " #   Column          Non-Null Count  Dtype \n",
      "---  ------          --------------  ----- \n",
      " 0   race_ethnicity  25990 non-null  object\n",
      " 1   age_released    26017 non-null  object\n",
      " 2   crime_class     26020 non-null  object\n",
      " 3   crime_type      26020 non-null  object\n",
      " 4   crime_subtype   26020 non-null  object\n",
      " 5   release_type    24258 non-null  object\n",
      " 6   super_dist      16439 non-null  object\n",
      " 7   recidivist      26020 non-null  object\n",
      " 8   target_pop      26020 non-null  object\n",
      " 9   sex             26017 non-null  object\n",
      "dtypes: object(10)\n",
      "memory usage: 2.2+ MB\n"
     ]
    }
   ],
   "source": [
    "df.info()"
   ]
  },
  {
   "cell_type": "markdown",
   "metadata": {},
   "source": [
    "## SCRUB"
   ]
  },
  {
   "cell_type": "markdown",
   "metadata": {},
   "source": [
    "- Null values (fill or drop)\n",
    "- Data Types (finding categorical variables)\n",
    "- Inspect the value_counts/labels of categoricals\n",
    "- Scaling or lack-off\n",
    "- One hot encoding\n"
   ]
  },
  {
   "cell_type": "code",
   "execution_count": 4,
   "metadata": {
    "ExecuteTime": {
     "end_time": "2021-05-12T15:27:23.484339Z",
     "start_time": "2021-05-12T15:27:22.934571Z"
    }
   },
   "outputs": [
    {
     "data": {
      "image/png": "[encoded data removed]",
      "text/plain": [
       "<Figure size 1800x720 with 2 Axes>"
      ]
     },
     "metadata": {
      "needs_background": "light"
     },
     "output_type": "display_data"
    },
    {
     "data": {
      "text/html": [
       "<div>\n",
       "<style scoped>\n",
       "    .dataframe tbody tr th:only-of-type {\n",
       "        vertical-align: middle;\n",
       "    }\n",
       "\n",
       "    .dataframe tbody tr th {\n",
       "        vertical-align: top;\n",
       "    }\n",
       "\n",
       "    .dataframe thead th {\n",
       "        text-align: right;\n",
       "    }\n",
       "</style>\n",
       "<table border=\"1\" class=\"dataframe\">\n",
       "  <thead>\n",
       "    <tr style=\"text-align: right;\">\n",
       "      <th></th>\n",
       "      <th>#null</th>\n",
       "      <th>%null</th>\n",
       "    </tr>\n",
       "  </thead>\n",
       "  <tbody>\n",
       "    <tr>\n",
       "      <th>race_ethnicity</th>\n",
       "      <td>30</td>\n",
       "      <td>0.12</td>\n",
       "    </tr>\n",
       "    <tr>\n",
       "      <th>age_released</th>\n",
       "      <td>3</td>\n",
       "      <td>0.01</td>\n",
       "    </tr>\n",
       "    <tr>\n",
       "      <th>crime_class</th>\n",
       "      <td>0</td>\n",
       "      <td>0.00</td>\n",
       "    </tr>\n",
       "    <tr>\n",
       "      <th>crime_type</th>\n",
       "      <td>0</td>\n",
       "      <td>0.00</td>\n",
       "    </tr>\n",
       "    <tr>\n",
       "      <th>crime_subtype</th>\n",
       "      <td>0</td>\n",
       "      <td>0.00</td>\n",
       "    </tr>\n",
       "    <tr>\n",
       "      <th>release_type</th>\n",
       "      <td>1762</td>\n",
       "      <td>6.77</td>\n",
       "    </tr>\n",
       "    <tr>\n",
       "      <th>super_dist</th>\n",
       "      <td>9581</td>\n",
       "      <td>36.82</td>\n",
       "    </tr>\n",
       "    <tr>\n",
       "      <th>recidivist</th>\n",
       "      <td>0</td>\n",
       "      <td>0.00</td>\n",
       "    </tr>\n",
       "    <tr>\n",
       "      <th>target_pop</th>\n",
       "      <td>0</td>\n",
       "      <td>0.00</td>\n",
       "    </tr>\n",
       "    <tr>\n",
       "      <th>sex</th>\n",
       "      <td>3</td>\n",
       "      <td>0.01</td>\n",
       "    </tr>\n",
       "  </tbody>\n",
       "</table>\n",
       "</div>"
      ],
      "text/plain": [
       "                #null  %null\n",
       "race_ethnicity     30   0.12\n",
       "age_released        3   0.01\n",
       "crime_class         0   0.00\n",
       "crime_type          0   0.00\n",
       "crime_subtype       0   0.00\n",
       "release_type     1762   6.77\n",
       "super_dist       9581  36.82\n",
       "recidivist          0   0.00\n",
       "target_pop          0   0.00\n",
       "sex                 3   0.01"
      ]
     },
     "execution_count": 4,
     "metadata": {},
     "output_type": "execute_result"
    }
   ],
   "source": [
    "## Check null values\n",
    "import missingno\n",
    "missingno.matrix(df)\n",
    "plt.show()\n",
    "null_check = pd.DataFrame({\n",
    "    '#null':df.isna().sum(),\n",
    "    '%null':round(df.isna().sum()/len(df)*100,2)\n",
    "})\n",
    "null_check"
   ]
  },
  {
   "cell_type": "code",
   "execution_count": 5,
   "metadata": {
    "ExecuteTime": {
     "end_time": "2021-05-12T15:27:23.507094Z",
     "start_time": "2021-05-12T15:27:23.486269Z"
    }
   },
   "outputs": [
    {
     "data": {
      "text/plain": [
       "race_ethnicity    11\n",
       "age_released       5\n",
       "crime_class       15\n",
       "crime_type         5\n",
       "crime_subtype     26\n",
       "release_type      12\n",
       "super_dist        10\n",
       "recidivist         2\n",
       "target_pop         2\n",
       "sex                2\n",
       "dtype: int64"
      ]
     },
     "execution_count": 5,
     "metadata": {},
     "output_type": "execute_result"
    }
   ],
   "source": [
    "df.nunique()"
   ]
  },
  {
   "cell_type": "code",
   "execution_count": 6,
   "metadata": {
    "ExecuteTime": {
     "end_time": "2021-05-12T15:27:23.558199Z",
     "start_time": "2021-05-12T15:27:23.509013Z"
    },
    "scrolled": false
   },
   "outputs": [
    {
     "name": "stdout",
     "output_type": "stream",
     "text": [
      "------------------------------------------------------------\n",
      "Value Counts for race_ethnicity:\n"
     ]
    },
    {
     "data": {
      "text/plain": [
       "White - Non-Hispanic                               17584\n",
       "Black - Non-Hispanic                                6109\n",
       "White - Hispanic                                    1522\n",
       "American Indian or Alaska Native - Non-Hispanic      502\n",
       "Asian or Pacific Islander - Non-Hispanic             192\n",
       "Black - Hispanic                                      37\n",
       "NaN                                                   30\n",
       "American Indian or Alaska Native - Hispanic           20\n",
       "White -                                               12\n",
       "N/A -                                                  5\n",
       "Asian or Pacific Islander - Hispanic                   5\n",
       "Black -                                                2\n",
       "Name: race_ethnicity, dtype: int64"
      ]
     },
     "metadata": {},
     "output_type": "display_data"
    },
    {
     "name": "stdout",
     "output_type": "stream",
     "text": [
      "------------------------------------------------------------\n",
      "Value Counts for age_released:\n"
     ]
    },
    {
     "data": {
      "text/plain": [
       "25-34           9554\n",
       "35-44           6223\n",
       "Under 25        4590\n",
       "45-54           4347\n",
       "55 and Older    1303\n",
       "NaN                3\n",
       "Name: age_released, dtype: int64"
      ]
     },
     "metadata": {},
     "output_type": "display_data"
    },
    {
     "name": "stdout",
     "output_type": "stream",
     "text": [
      "------------------------------------------------------------\n",
      "Value Counts for crime_class:\n"
     ]
    },
    {
     "data": {
      "text/plain": [
       "D Felony                                    10487\n",
       "C Felony                                     6803\n",
       "Aggravated Misdemeanor                       4930\n",
       "B Felony                                     1765\n",
       "Felony - Enhancement to Original Penalty     1533\n",
       "Felony - Enhanced                             220\n",
       "Serious Misdemeanor                           155\n",
       "Special Sentence 2005                          98\n",
       "Felony - Mandatory Minimum                     11\n",
       "Other Felony                                    6\n",
       "A Felony                                        4\n",
       "Simple Misdemeanor                              3\n",
       "Sexual Predator Community Supervision           2\n",
       "Other Felony (Old Code)                         2\n",
       "Other Misdemeanor                               1\n",
       "Name: crime_class, dtype: int64"
      ]
     },
     "metadata": {},
     "output_type": "display_data"
    },
    {
     "name": "stdout",
     "output_type": "stream",
     "text": [
      "------------------------------------------------------------\n",
      "Value Counts for crime_type:\n"
     ]
    },
    {
     "data": {
      "text/plain": [
       "Drug            7915\n",
       "Property        7371\n",
       "Violent         5816\n",
       "Public Order    3608\n",
       "Other           1310\n",
       "Name: crime_type, dtype: int64"
      ]
     },
     "metadata": {},
     "output_type": "display_data"
    },
    {
     "name": "stdout",
     "output_type": "stream",
     "text": [
      "------------------------------------------------------------\n",
      "Value Counts for crime_subtype:\n"
     ]
    },
    {
     "data": {
      "text/plain": [
       "Trafficking                        6492\n",
       "Assault                            3189\n",
       "Burglary                           2965\n",
       "Theft                              2680\n",
       "OWI                                1792\n",
       "Sex                                1277\n",
       "Forgery/Fraud                      1209\n",
       "Other Criminal                     1191\n",
       "Drug Possession                    1142\n",
       "Other Violent                       601\n",
       "Traffic                             524\n",
       "Murder/Manslaughter                 394\n",
       "Weapons                             372\n",
       "Alcohol                             356\n",
       "Vandalism                           347\n",
       "Robbery                             338\n",
       "Other Public Order                  311\n",
       "Other Drug                          281\n",
       "Arson                               161\n",
       "Sex Offender Registry/Residency     131\n",
       "Flight/Escape                        84\n",
       "Kidnap                               66\n",
       "Special Sentence Revocation          63\n",
       "Prostitution/Pimping                 38\n",
       "Stolen Property                       9\n",
       "Animals                               7\n",
       "Name: crime_subtype, dtype: int64"
      ]
     },
     "metadata": {},
     "output_type": "display_data"
    },
    {
     "name": "stdout",
     "output_type": "stream",
     "text": [
      "------------------------------------------------------------\n",
      "Value Counts for release_type:\n"
     ]
    },
    {
     "data": {
      "text/plain": [
       "Parole                                 9810\n",
       "Parole Granted                         5577\n",
       "Discharged – End of Sentence           5039\n",
       "Discharged - Expiration of Sentence    2335\n",
       "NaN                                    1762\n",
       "Released to Special Sentence            401\n",
       "Special Sentence                        347\n",
       "Paroled w/Immediate Discharge           334\n",
       "Paroled to Detainer - Out of State      137\n",
       "Paroled to Detainer - INS               134\n",
       "Paroled to Detainer - U.S. Marshall      77\n",
       "Paroled to Detainer - Iowa               66\n",
       "Interstate Compact Parole                 1\n",
       "Name: release_type, dtype: int64"
      ]
     },
     "metadata": {},
     "output_type": "display_data"
    },
    {
     "name": "stdout",
     "output_type": "stream",
     "text": [
      "------------------------------------------------------------\n",
      "Value Counts for super_dist:\n"
     ]
    },
    {
     "data": {
      "text/plain": [
       "NaN                   9581\n",
       "5JD                   4982\n",
       "1JD                   2787\n",
       "2JD                   1988\n",
       "8JD                   1556\n",
       "7JD                   1514\n",
       "3JD                   1188\n",
       "6JD                   1098\n",
       "4JD                    667\n",
       "ISC                    350\n",
       "Interstate Compact     309\n",
       "Name: super_dist, dtype: int64"
      ]
     },
     "metadata": {},
     "output_type": "display_data"
    },
    {
     "name": "stdout",
     "output_type": "stream",
     "text": [
      "------------------------------------------------------------\n",
      "Value Counts for recidivist:\n"
     ]
    },
    {
     "data": {
      "text/plain": [
       "No     17339\n",
       "Yes     8681\n",
       "Name: recidivist, dtype: int64"
      ]
     },
     "metadata": {},
     "output_type": "display_data"
    },
    {
     "name": "stdout",
     "output_type": "stream",
     "text": [
      "------------------------------------------------------------\n",
      "Value Counts for target_pop:\n"
     ]
    },
    {
     "data": {
      "text/plain": [
       "Yes    14274\n",
       "No     11746\n",
       "Name: target_pop, dtype: int64"
      ]
     },
     "metadata": {},
     "output_type": "display_data"
    },
    {
     "name": "stdout",
     "output_type": "stream",
     "text": [
      "------------------------------------------------------------\n",
      "Value Counts for sex:\n"
     ]
    },
    {
     "data": {
      "text/plain": [
       "Male      22678\n",
       "Female     3339\n",
       "NaN           3\n",
       "Name: sex, dtype: int64"
      ]
     },
     "metadata": {},
     "output_type": "display_data"
    }
   ],
   "source": [
    "dashes = '---'*20\n",
    "for col in df.columns:\n",
    "    print(dashes)\n",
    "    print(f\"Value Counts for {col}:\")\n",
    "    display(df[col].value_counts(dropna=False))"
   ]
  },
  {
   "cell_type": "markdown",
   "metadata": {},
   "source": [
    "### Feature Engineering"
   ]
  },
  {
   "cell_type": "markdown",
   "metadata": {},
   "source": [
    "#### `race_ethnicity`"
   ]
  },
  {
   "cell_type": "code",
   "execution_count": 7,
   "metadata": {
    "ExecuteTime": {
     "end_time": "2021-05-12T15:27:23.566439Z",
     "start_time": "2021-05-12T15:27:23.559509Z"
    }
   },
   "outputs": [
    {
     "data": {
      "text/plain": [
       "White - Non-Hispanic                               17584\n",
       "Black - Non-Hispanic                                6109\n",
       "White - Hispanic                                    1522\n",
       "American Indian or Alaska Native - Non-Hispanic      502\n",
       "Asian or Pacific Islander - Non-Hispanic             192\n",
       "Black - Hispanic                                      37\n",
       "NaN                                                   30\n",
       "American Indian or Alaska Native - Hispanic           20\n",
       "White -                                               12\n",
       "N/A -                                                  5\n",
       "Asian or Pacific Islander - Hispanic                   5\n",
       "Black -                                                2\n",
       "Name: race_ethnicity, dtype: int64"
      ]
     },
     "execution_count": 7,
     "metadata": {},
     "output_type": "execute_result"
    }
   ],
   "source": [
    "df['race_ethnicity'].value_counts(dropna=False)"
   ]
  },
  {
   "cell_type": "markdown",
   "metadata": {},
   "source": [
    "> - Simplify race and ethnicity down to race\n",
    "    - (also tried separating race and ethnicity and using as 2 separate features)."
   ]
  },
  {
   "cell_type": "code",
   "execution_count": 8,
   "metadata": {
    "ExecuteTime": {
     "end_time": "2021-05-12T15:27:23.583250Z",
     "start_time": "2021-05-12T15:27:23.570885Z"
    }
   },
   "outputs": [
    {
     "data": {
      "text/plain": [
       "White                        17596\n",
       "Black                         6148\n",
       "Hispanic                      1522\n",
       "American Native                522\n",
       "Asian or Pacific Islander      197\n",
       "NaN                             35\n",
       "Name: race, dtype: int64"
      ]
     },
     "execution_count": 8,
     "metadata": {},
     "output_type": "execute_result"
    }
   ],
   "source": [
    "# Defining Dictionary Map for race_ethnicity categories\n",
    "race_ethnicity_map = {'White - Non-Hispanic':'White',\n",
    "                        'Black - Non-Hispanic': 'Black',\n",
    "                        'White - Hispanic' : 'Hispanic',\n",
    "                        'American Indian or Alaska Native - Non-Hispanic' : 'American Native',\n",
    "                        'Asian or Pacific Islander - Non-Hispanic' : 'Asian or Pacific Islander',\n",
    "                        'Black - Hispanic' : 'Black',\n",
    "                        'American Indian or Alaska Native - Hispanic':'American Native',\n",
    "                        'White -' : 'White',\n",
    "                        'Asian or Pacific Islander - Hispanic' : 'Asian or Pacific Islander',\n",
    "                        'N/A -' : np.nan,\n",
    "                        'Black -':'Black'}\n",
    "\n",
    "df['race'] = df['race_ethnicity'].map(race_ethnicity_map)\n",
    "df['race'].value_counts(dropna=False)"
   ]
  },
  {
   "cell_type": "markdown",
   "metadata": {},
   "source": [
    "#### `crime_class`"
   ]
  },
  {
   "cell_type": "code",
   "execution_count": 9,
   "metadata": {
    "ExecuteTime": {
     "end_time": "2021-05-12T15:27:23.593596Z",
     "start_time": "2021-05-12T15:27:23.586432Z"
    }
   },
   "outputs": [
    {
     "data": {
      "text/plain": [
       "D Felony                                    10487\n",
       "C Felony                                     6803\n",
       "Aggravated Misdemeanor                       4930\n",
       "B Felony                                     1765\n",
       "Felony - Enhancement to Original Penalty     1533\n",
       "Felony - Enhanced                             220\n",
       "Serious Misdemeanor                           155\n",
       "Special Sentence 2005                          98\n",
       "Felony - Mandatory Minimum                     11\n",
       "Other Felony                                    6\n",
       "A Felony                                        4\n",
       "Simple Misdemeanor                              3\n",
       "Sexual Predator Community Supervision           2\n",
       "Other Felony (Old Code)                         2\n",
       "Other Misdemeanor                               1\n",
       "Name: crime_class, dtype: int64"
      ]
     },
     "execution_count": 9,
     "metadata": {},
     "output_type": "execute_result"
    }
   ],
   "source": [
    "df['crime_class'].value_counts()"
   ]
  },
  {
   "cell_type": "markdown",
   "metadata": {},
   "source": [
    "> After some research, we found that several of the less-frequent classes were actually equivalent to other classes. (e.g. 'Special Sentence 2005' -> 'Sex Offender',)"
   ]
  },
  {
   "cell_type": "code",
   "execution_count": 10,
   "metadata": {
    "ExecuteTime": {
     "end_time": "2021-05-12T15:27:23.607929Z",
     "start_time": "2021-05-12T15:27:23.595771Z"
    }
   },
   "outputs": [
    {
     "data": {
      "text/plain": [
       "D Felony                  10487\n",
       "C Felony                   6803\n",
       "Aggravated Misdemeanor     4930\n",
       "B Felony                   1765\n",
       "Felony - Enhanced          1753\n",
       "Serious Misdemeanor         155\n",
       "Sex Offender                100\n",
       "NaN                          20\n",
       "A Felony                      4\n",
       "Simple Misdemeanor            3\n",
       "Name: crime_class, dtype: int64"
      ]
     },
     "execution_count": 10,
     "metadata": {},
     "output_type": "execute_result"
    }
   ],
   "source": [
    "# Remapping\n",
    "crime_class_map = {'Other Felony (Old Code)': np.nan ,#or other felony\n",
    "                  'Other Misdemeanor':np.nan,\n",
    "                   'Felony - Mandatory Minimum':np.nan, # if minimum then lowest sentence ==  D Felony\n",
    "                   'Special Sentence 2005': 'Sex Offender',\n",
    "                   'Other Felony' : np.nan ,\n",
    "                   'Sexual Predator Community Supervision' : 'Sex Offender',\n",
    "                   'D Felony': 'D Felony',\n",
    "                   'C Felony' :'C Felony',\n",
    "                   'B Felony' : 'B Felony',\n",
    "                   'A Felony' : 'A Felony',\n",
    "                   'Aggravated Misdemeanor':'Aggravated Misdemeanor',\n",
    "                   'Felony - Enhancement to Original Penalty':'Felony - Enhanced',\n",
    "                   'Felony - Enhanced':'Felony - Enhanced' ,\n",
    "                   'Serious Misdemeanor':'Serious Misdemeanor',\n",
    "                   'Simple Misdemeanor':'Simple Misdemeanor'}\n",
    "\n",
    "df['crime_class'] = df['crime_class'].map(crime_class_map)\n",
    "df['crime_class'].value_counts(dropna=False)"
   ]
  },
  {
   "cell_type": "markdown",
   "metadata": {},
   "source": [
    "#### `age_released`"
   ]
  },
  {
   "cell_type": "code",
   "execution_count": 11,
   "metadata": {
    "ExecuteTime": {
     "end_time": "2021-05-12T15:27:23.616866Z",
     "start_time": "2021-05-12T15:27:23.609618Z"
    }
   },
   "outputs": [
    {
     "data": {
      "text/plain": [
       "25-34           9554\n",
       "35-44           6223\n",
       "Under 25        4590\n",
       "45-54           4347\n",
       "55 and Older    1303\n",
       "NaN                3\n",
       "Name: age_released, dtype: int64"
      ]
     },
     "execution_count": 11,
     "metadata": {},
     "output_type": "execute_result"
    }
   ],
   "source": [
    "df['age_released'].value_counts(dropna=False)"
   ]
  },
  {
   "cell_type": "code",
   "execution_count": 12,
   "metadata": {
    "ExecuteTime": {
     "end_time": "2021-05-12T15:27:23.620691Z",
     "start_time": "2021-05-12T15:27:23.618660Z"
    }
   },
   "outputs": [],
   "source": [
    "# # Encoding age groups as ordinal\n",
    "# age_ranges = ('Under 25','25-34', '35-44','45-54','55 and Older')\n",
    "# age_codes = (0,1,2,3,4) \n",
    "# # Zipping into Dictionary to Map onto Column\n",
    "# age_map = dict(zip(age_ranges,age_codes))\n",
    "# age_map"
   ]
  },
  {
   "cell_type": "code",
   "execution_count": 13,
   "metadata": {
    "ExecuteTime": {
     "end_time": "2021-05-12T15:27:23.624149Z",
     "start_time": "2021-05-12T15:27:23.622259Z"
    }
   },
   "outputs": [],
   "source": [
    "# df['age_enc'] = df['age_released'].map(age_map)\n",
    "# df['age_enc'].value_counts()"
   ]
  },
  {
   "cell_type": "code",
   "execution_count": 14,
   "metadata": {
    "ExecuteTime": {
     "end_time": "2021-05-12T15:27:23.629887Z",
     "start_time": "2021-05-12T15:27:23.625768Z"
    }
   },
   "outputs": [
    {
     "data": {
      "text/plain": [
       "{'Under 25': 20, '25-34': 30, '35-44': 40, '45-54': 50, '55 and Older': 65}"
      ]
     },
     "execution_count": 14,
     "metadata": {},
     "output_type": "execute_result"
    }
   ],
   "source": [
    "# Mapping age_map onto 'age_released'\n",
    "# Encoding age groups as ordinal\n",
    "age_ranges = ('Under 25','25-34', '35-44','45-54','55 and Older')\n",
    "age_numbers = (20,30,40,50,65) \n",
    "\n",
    "age_num_map = dict(zip(age_ranges,age_numbers))\n",
    "age_num_map"
   ]
  },
  {
   "cell_type": "code",
   "execution_count": 15,
   "metadata": {
    "ExecuteTime": {
     "end_time": "2021-05-12T15:27:23.641379Z",
     "start_time": "2021-05-12T15:27:23.631640Z"
    }
   },
   "outputs": [
    {
     "data": {
      "text/plain": [
       "30.0    9554\n",
       "40.0    6223\n",
       "20.0    4590\n",
       "50.0    4347\n",
       "65.0    1303\n",
       "NaN        3\n",
       "Name: age_number, dtype: int64"
      ]
     },
     "execution_count": 15,
     "metadata": {},
     "output_type": "execute_result"
    }
   ],
   "source": [
    "df['age_number'] = df['age_released'].map(age_num_map)\n",
    "df['age_number'].value_counts(dropna=False)"
   ]
  },
  {
   "cell_type": "code",
   "execution_count": 16,
   "metadata": {
    "ExecuteTime": {
     "end_time": "2021-05-12T15:27:23.645311Z",
     "start_time": "2021-05-12T15:27:23.643137Z"
    }
   },
   "outputs": [],
   "source": [
    "## saving list of features thaat have been replaced wiht engineered nes\n",
    "drop_cols = ['age_released','race_ethnicity']"
   ]
  },
  {
   "cell_type": "markdown",
   "metadata": {},
   "source": [
    "## EXPLORE (brief)"
   ]
  },
  {
   "cell_type": "code",
   "execution_count": 17,
   "metadata": {
    "ExecuteTime": {
     "end_time": "2021-05-12T15:27:23.808798Z",
     "start_time": "2021-05-12T15:27:23.647351Z"
    }
   },
   "outputs": [
    {
     "data": {
      "text/plain": [
       "<AxesSubplot:xlabel='recidivist', ylabel='count'>"
      ]
     },
     "execution_count": 17,
     "metadata": {},
     "output_type": "execute_result"
    },
    {
     "data": {
      "image/png": "[encoded data removed]",
      "text/plain": [
       "<Figure size 576x396 with 1 Axes>"
      ]
     },
     "metadata": {
      "needs_background": "light"
     },
     "output_type": "display_data"
    }
   ],
   "source": [
    "## Visualzie class balance\n",
    "sns.countplot(data=df,x='recidivist')"
   ]
  },
  {
   "cell_type": "code",
   "execution_count": 18,
   "metadata": {
    "ExecuteTime": {
     "end_time": "2021-05-12T15:27:23.812796Z",
     "start_time": "2021-05-12T15:27:23.810552Z"
    }
   },
   "outputs": [],
   "source": [
    "# sns.catplot(data=df, x='age_number',hue='recidivist',kind='count')"
   ]
  },
  {
   "cell_type": "markdown",
   "metadata": {},
   "source": [
    "## MODEL"
   ]
  },
  {
   "cell_type": "markdown",
   "metadata": {},
   "source": [
    "### Train-Test-Split"
   ]
  },
  {
   "cell_type": "code",
   "execution_count": 19,
   "metadata": {
    "ExecuteTime": {
     "end_time": "2021-05-12T15:27:23.946330Z",
     "start_time": "2021-05-12T15:27:23.814862Z"
    }
   },
   "outputs": [
    {
     "data": {
      "text/plain": [
       "0    0.668058\n",
       "1    0.331942\n",
       "Name: recidivist, dtype: float64"
      ]
     },
     "execution_count": 19,
     "metadata": {},
     "output_type": "execute_result"
    }
   ],
   "source": [
    "from sklearn.model_selection import train_test_split\n",
    "\n",
    "y = df['recidivist'].map({'Yes':1,\"No\":0})\n",
    "X = df.drop(columns=['recidivist',*drop_cols])\n",
    "\n",
    "## Train test split\n",
    "X_train, X_test, y_train,y_test  = train_test_split(X,y,test_size=.3,\n",
    "                                                    random_state=3210)#,stratify=y)\n",
    "y_train.value_counts(normalize=True)"
   ]
  },
  {
   "cell_type": "markdown",
   "metadata": {},
   "source": [
    "#### Pipelnes and ColumnTransformer"
   ]
  },
  {
   "cell_type": "code",
   "execution_count": 20,
   "metadata": {
    "ExecuteTime": {
     "end_time": "2021-05-12T15:27:24.012054Z",
     "start_time": "2021-05-12T15:27:23.948303Z"
    }
   },
   "outputs": [],
   "source": [
    "from sklearn.pipeline import Pipeline\n",
    "\n",
    "from sklearn.impute import SimpleImputer\n",
    "from sklearn.preprocessing import StandardScaler, OneHotEncoder\n",
    "from sklearn.compose import ColumnTransformer"
   ]
  },
  {
   "cell_type": "code",
   "execution_count": 21,
   "metadata": {
    "ExecuteTime": {
     "end_time": "2021-05-12T15:27:24.025596Z",
     "start_time": "2021-05-12T15:27:24.014031Z"
    }
   },
   "outputs": [
    {
     "data": {
      "text/plain": [
       "crime_class        12\n",
       "crime_type          0\n",
       "crime_subtype       0\n",
       "release_type     1252\n",
       "super_dist       6681\n",
       "target_pop          0\n",
       "sex                 2\n",
       "race               25\n",
       "age_number          2\n",
       "dtype: int64"
      ]
     },
     "execution_count": 21,
     "metadata": {},
     "output_type": "execute_result"
    }
   ],
   "source": [
    "X_train.isna().sum()"
   ]
  },
  {
   "cell_type": "code",
   "execution_count": 22,
   "metadata": {
    "ExecuteTime": {
     "end_time": "2021-05-12T15:27:24.029869Z",
     "start_time": "2021-05-12T15:27:24.027480Z"
    }
   },
   "outputs": [],
   "source": [
    "from sklearn import set_config\n",
    "set_config(display='diagram')"
   ]
  },
  {
   "cell_type": "code",
   "execution_count": 23,
   "metadata": {
    "ExecuteTime": {
     "end_time": "2021-05-12T15:27:24.045084Z",
     "start_time": "2021-05-12T15:27:24.036699Z"
    }
   },
   "outputs": [
    {
     "data": {
      "text/plain": [
       "(['age_number'],\n",
       " ['crime_class',\n",
       "  'crime_type',\n",
       "  'crime_subtype',\n",
       "  'release_type',\n",
       "  'super_dist',\n",
       "  'target_pop',\n",
       "  'sex',\n",
       "  'race'])"
      ]
     },
     "execution_count": 23,
     "metadata": {},
     "output_type": "execute_result"
    }
   ],
   "source": [
    "## saving list of numeric vs categorical feature\n",
    "num_cols = list(X_train.select_dtypes('number').columns)\n",
    "cat_cols = list(X_train.select_dtypes('object').columns)\n",
    "num_cols,cat_cols"
   ]
  },
  {
   "cell_type": "code",
   "execution_count": 24,
   "metadata": {
    "ExecuteTime": {
     "end_time": "2021-05-12T15:27:24.088325Z",
     "start_time": "2021-05-12T15:27:24.048885Z"
    }
   },
   "outputs": [
    {
     "data": {
      "text/html": [
       "<style>div.sk-top-container {color: black;background-color: white;}div.sk-toggleable {background-color: white;}label.sk-toggleable__label {cursor: pointer;display: block;width: 100%;margin-bottom: 0;padding: 0.2em 0.3em;box-sizing: border-box;text-align: center;}div.sk-toggleable__content {max-height: 0;max-width: 0;overflow: hidden;text-align: left;background-color: #f0f8ff;}div.sk-toggleable__content pre {margin: 0.2em;color: black;border-radius: 0.25em;background-color: #f0f8ff;}input.sk-toggleable__control:checked~div.sk-toggleable__content {max-height: 200px;max-width: 100%;overflow: auto;}div.sk-estimator input.sk-toggleable__control:checked~label.sk-toggleable__label {background-color: #d4ebff;}div.sk-label input.sk-toggleable__control:checked~label.sk-toggleable__label {background-color: #d4ebff;}input.sk-hidden--visually {border: 0;clip: rect(1px 1px 1px 1px);clip: rect(1px, 1px, 1px, 1px);height: 1px;margin: -1px;overflow: hidden;padding: 0;position: absolute;width: 1px;}div.sk-estimator {font-family: monospace;background-color: #f0f8ff;margin: 0.25em 0.25em;border: 1px dotted black;border-radius: 0.25em;box-sizing: border-box;}div.sk-estimator:hover {background-color: #d4ebff;}div.sk-parallel-item::after {content: \"\";width: 100%;border-bottom: 1px solid gray;flex-grow: 1;}div.sk-label:hover label.sk-toggleable__label {background-color: #d4ebff;}div.sk-serial::before {content: \"\";position: absolute;border-left: 1px solid gray;box-sizing: border-box;top: 2em;bottom: 0;left: 50%;}div.sk-serial {display: flex;flex-direction: column;align-items: center;background-color: white;}div.sk-item {z-index: 1;}div.sk-parallel {display: flex;align-items: stretch;justify-content: center;background-color: white;}div.sk-parallel-item {display: flex;flex-direction: column;position: relative;background-color: white;}div.sk-parallel-item:first-child::after {align-self: flex-end;width: 50%;}div.sk-parallel-item:last-child::after {align-self: flex-start;width: 50%;}div.sk-parallel-item:only-child::after {width: 0;}div.sk-dashed-wrapped {border: 1px dashed gray;margin: 0.2em;box-sizing: border-box;padding-bottom: 0.1em;background-color: white;position: relative;}div.sk-label label {font-family: monospace;font-weight: bold;background-color: white;display: inline-block;line-height: 1.2em;}div.sk-label-container {position: relative;z-index: 2;text-align: center;}div.sk-container {display: inline-block;position: relative;}</style><div class=\"sk-top-container\"><div class=\"sk-container\"><div class=\"sk-item sk-dashed-wrapped\"><div class=\"sk-label-container\"><div class=\"sk-label sk-toggleable\"><input class=\"sk-toggleable__control sk-hidden--visually\" id=\"134b7239-0310-4e46-9da4-d14fb1a8fcf7\" type=\"checkbox\" ><label class=\"sk-toggleable__label\" for=\"134b7239-0310-4e46-9da4-d14fb1a8fcf7\">ColumnTransformer</label><div class=\"sk-toggleable__content\"><pre>ColumnTransformer(transformers=[('num',\n",
       "                                 Pipeline(steps=[('imputer',\n",
       "                                                  SimpleImputer(strategy='median'))]),\n",
       "                                 ['age_number']),\n",
       "                                ('cat',\n",
       "                                 Pipeline(steps=[('imputer',\n",
       "                                                  SimpleImputer(fill_value='MISSING',\n",
       "                                                                strategy='constant')),\n",
       "                                                 ('encoder',\n",
       "                                                  OneHotEncoder(handle_unknown='ignore',\n",
       "                                                                sparse=False))]),\n",
       "                                 ['crime_class', 'crime_type', 'crime_subtype',\n",
       "                                  'release_type', 'super_dist', 'target_pop',\n",
       "                                  'sex', 'race'])])</pre></div></div></div><div class=\"sk-parallel\"><div class=\"sk-parallel-item\"><div class=\"sk-item\"><div class=\"sk-label-container\"><div class=\"sk-label sk-toggleable\"><input class=\"sk-toggleable__control sk-hidden--visually\" id=\"26371fa6-0b25-4f42-b7a3-6c0418f03833\" type=\"checkbox\" ><label class=\"sk-toggleable__label\" for=\"26371fa6-0b25-4f42-b7a3-6c0418f03833\">num</label><div class=\"sk-toggleable__content\"><pre>['age_number']</pre></div></div></div><div class=\"sk-serial\"><div class=\"sk-item\"><div class=\"sk-serial\"><div class=\"sk-item\"><div class=\"sk-estimator sk-toggleable\"><input class=\"sk-toggleable__control sk-hidden--visually\" id=\"5d7c1c82-2603-491f-9c31-29349fb05cef\" type=\"checkbox\" ><label class=\"sk-toggleable__label\" for=\"5d7c1c82-2603-491f-9c31-29349fb05cef\">SimpleImputer</label><div class=\"sk-toggleable__content\"><pre>SimpleImputer(strategy='median')</pre></div></div></div></div></div></div></div></div><div class=\"sk-parallel-item\"><div class=\"sk-item\"><div class=\"sk-label-container\"><div class=\"sk-label sk-toggleable\"><input class=\"sk-toggleable__control sk-hidden--visually\" id=\"3515e4cb-63a6-4dfd-abe2-de38a2e4407d\" type=\"checkbox\" ><label class=\"sk-toggleable__label\" for=\"3515e4cb-63a6-4dfd-abe2-de38a2e4407d\">cat</label><div class=\"sk-toggleable__content\"><pre>['crime_class', 'crime_type', 'crime_subtype', 'release_type', 'super_dist', 'target_pop', 'sex', 'race']</pre></div></div></div><div class=\"sk-serial\"><div class=\"sk-item\"><div class=\"sk-serial\"><div class=\"sk-item\"><div class=\"sk-estimator sk-toggleable\"><input class=\"sk-toggleable__control sk-hidden--visually\" id=\"2bedf962-bfa9-40d2-b7a9-d4c3edc2f902\" type=\"checkbox\" ><label class=\"sk-toggleable__label\" for=\"2bedf962-bfa9-40d2-b7a9-d4c3edc2f902\">SimpleImputer</label><div class=\"sk-toggleable__content\"><pre>SimpleImputer(fill_value='MISSING', strategy='constant')</pre></div></div></div><div class=\"sk-item\"><div class=\"sk-estimator sk-toggleable\"><input class=\"sk-toggleable__control sk-hidden--visually\" id=\"72b31b3f-850d-433c-9e44-2287ce8e5e97\" type=\"checkbox\" ><label class=\"sk-toggleable__label\" for=\"72b31b3f-850d-433c-9e44-2287ce8e5e97\">OneHotEncoder</label><div class=\"sk-toggleable__content\"><pre>OneHotEncoder(handle_unknown='ignore', sparse=False)</pre></div></div></div></div></div></div></div></div></div></div></div></div>"
      ],
      "text/plain": [
       "ColumnTransformer(transformers=[('num',\n",
       "                                 Pipeline(steps=[('imputer',\n",
       "                                                  SimpleImputer(strategy='median'))]),\n",
       "                                 ['age_number']),\n",
       "                                ('cat',\n",
       "                                 Pipeline(steps=[('imputer',\n",
       "                                                  SimpleImputer(fill_value='MISSING',\n",
       "                                                                strategy='constant')),\n",
       "                                                 ('encoder',\n",
       "                                                  OneHotEncoder(handle_unknown='ignore',\n",
       "                                                                sparse=False))]),\n",
       "                                 ['crime_class', 'crime_type', 'crime_subtype',\n",
       "                                  'release_type', 'super_dist', 'target_pop',\n",
       "                                  'sex', 'race'])])"
      ]
     },
     "execution_count": 24,
     "metadata": {},
     "output_type": "execute_result"
    }
   ],
   "source": [
    "## create pipelines and column transformer\n",
    "num_transformer = Pipeline(steps=[\n",
    "    ('imputer',SimpleImputer(strategy='median')),\n",
    "#     ('scale',StandardScaler())\n",
    "])\n",
    "\n",
    "cat_transformer = Pipeline(steps=[\n",
    "    ('imputer',SimpleImputer(strategy='constant',fill_value='MISSING')),\n",
    "    ('encoder',OneHotEncoder(sparse=False,handle_unknown='ignore'))])\n",
    "\n",
    "## COMBINE BOTH PIPELINES INTO ONE WITH COLUMN TRANSFORMER\n",
    "preprocessor=ColumnTransformer(transformers=[\n",
    "    ('num',num_transformer,num_cols),\n",
    "    ('cat',cat_transformer,cat_cols)])\n",
    "\n",
    "preprocessor"
   ]
  },
  {
   "cell_type": "code",
   "execution_count": 25,
   "metadata": {
    "ExecuteTime": {
     "end_time": "2021-05-12T15:27:24.243524Z",
     "start_time": "2021-05-12T15:27:24.090707Z"
    }
   },
   "outputs": [
    {
     "data": {
      "text/html": [
       "<div>\n",
       "<style scoped>\n",
       "    .dataframe tbody tr th:only-of-type {\n",
       "        vertical-align: middle;\n",
       "    }\n",
       "\n",
       "    .dataframe tbody tr th {\n",
       "        vertical-align: top;\n",
       "    }\n",
       "\n",
       "    .dataframe thead th {\n",
       "        text-align: right;\n",
       "    }\n",
       "</style>\n",
       "<table border=\"1\" class=\"dataframe\">\n",
       "  <thead>\n",
       "    <tr style=\"text-align: right;\">\n",
       "      <th></th>\n",
       "      <th>age_number</th>\n",
       "      <th>crime_class_A Felony</th>\n",
       "      <th>crime_class_Aggravated Misdemeanor</th>\n",
       "      <th>crime_class_B Felony</th>\n",
       "      <th>crime_class_C Felony</th>\n",
       "      <th>crime_class_D Felony</th>\n",
       "      <th>crime_class_Felony - Enhanced</th>\n",
       "      <th>crime_class_MISSING</th>\n",
       "      <th>crime_class_Serious Misdemeanor</th>\n",
       "      <th>crime_class_Sex Offender</th>\n",
       "      <th>...</th>\n",
       "      <th>target_pop_Yes</th>\n",
       "      <th>sex_Female</th>\n",
       "      <th>sex_MISSING</th>\n",
       "      <th>sex_Male</th>\n",
       "      <th>race_American Native</th>\n",
       "      <th>race_Asian or Pacific Islander</th>\n",
       "      <th>race_Black</th>\n",
       "      <th>race_Hispanic</th>\n",
       "      <th>race_MISSING</th>\n",
       "      <th>race_White</th>\n",
       "    </tr>\n",
       "  </thead>\n",
       "  <tbody>\n",
       "    <tr>\n",
       "      <th>19732</th>\n",
       "      <td>50.0</td>\n",
       "      <td>0.0</td>\n",
       "      <td>0.0</td>\n",
       "      <td>0.0</td>\n",
       "      <td>0.0</td>\n",
       "      <td>0.0</td>\n",
       "      <td>0.0</td>\n",
       "      <td>0.0</td>\n",
       "      <td>0.0</td>\n",
       "      <td>1.0</td>\n",
       "      <td>...</td>\n",
       "      <td>1.0</td>\n",
       "      <td>0.0</td>\n",
       "      <td>0.0</td>\n",
       "      <td>1.0</td>\n",
       "      <td>0.0</td>\n",
       "      <td>0.0</td>\n",
       "      <td>0.0</td>\n",
       "      <td>0.0</td>\n",
       "      <td>0.0</td>\n",
       "      <td>1.0</td>\n",
       "    </tr>\n",
       "    <tr>\n",
       "      <th>5802</th>\n",
       "      <td>40.0</td>\n",
       "      <td>0.0</td>\n",
       "      <td>0.0</td>\n",
       "      <td>0.0</td>\n",
       "      <td>0.0</td>\n",
       "      <td>1.0</td>\n",
       "      <td>0.0</td>\n",
       "      <td>0.0</td>\n",
       "      <td>0.0</td>\n",
       "      <td>0.0</td>\n",
       "      <td>...</td>\n",
       "      <td>1.0</td>\n",
       "      <td>0.0</td>\n",
       "      <td>0.0</td>\n",
       "      <td>1.0</td>\n",
       "      <td>0.0</td>\n",
       "      <td>0.0</td>\n",
       "      <td>0.0</td>\n",
       "      <td>1.0</td>\n",
       "      <td>0.0</td>\n",
       "      <td>0.0</td>\n",
       "    </tr>\n",
       "    <tr>\n",
       "      <th>19945</th>\n",
       "      <td>40.0</td>\n",
       "      <td>0.0</td>\n",
       "      <td>0.0</td>\n",
       "      <td>0.0</td>\n",
       "      <td>0.0</td>\n",
       "      <td>0.0</td>\n",
       "      <td>1.0</td>\n",
       "      <td>0.0</td>\n",
       "      <td>0.0</td>\n",
       "      <td>0.0</td>\n",
       "      <td>...</td>\n",
       "      <td>0.0</td>\n",
       "      <td>0.0</td>\n",
       "      <td>0.0</td>\n",
       "      <td>1.0</td>\n",
       "      <td>0.0</td>\n",
       "      <td>0.0</td>\n",
       "      <td>0.0</td>\n",
       "      <td>0.0</td>\n",
       "      <td>0.0</td>\n",
       "      <td>1.0</td>\n",
       "    </tr>\n",
       "    <tr>\n",
       "      <th>7031</th>\n",
       "      <td>40.0</td>\n",
       "      <td>0.0</td>\n",
       "      <td>0.0</td>\n",
       "      <td>0.0</td>\n",
       "      <td>0.0</td>\n",
       "      <td>1.0</td>\n",
       "      <td>0.0</td>\n",
       "      <td>0.0</td>\n",
       "      <td>0.0</td>\n",
       "      <td>0.0</td>\n",
       "      <td>...</td>\n",
       "      <td>0.0</td>\n",
       "      <td>1.0</td>\n",
       "      <td>0.0</td>\n",
       "      <td>0.0</td>\n",
       "      <td>0.0</td>\n",
       "      <td>0.0</td>\n",
       "      <td>0.0</td>\n",
       "      <td>0.0</td>\n",
       "      <td>0.0</td>\n",
       "      <td>1.0</td>\n",
       "    </tr>\n",
       "    <tr>\n",
       "      <th>23418</th>\n",
       "      <td>30.0</td>\n",
       "      <td>0.0</td>\n",
       "      <td>1.0</td>\n",
       "      <td>0.0</td>\n",
       "      <td>0.0</td>\n",
       "      <td>0.0</td>\n",
       "      <td>0.0</td>\n",
       "      <td>0.0</td>\n",
       "      <td>0.0</td>\n",
       "      <td>0.0</td>\n",
       "      <td>...</td>\n",
       "      <td>0.0</td>\n",
       "      <td>0.0</td>\n",
       "      <td>0.0</td>\n",
       "      <td>1.0</td>\n",
       "      <td>0.0</td>\n",
       "      <td>0.0</td>\n",
       "      <td>0.0</td>\n",
       "      <td>1.0</td>\n",
       "      <td>0.0</td>\n",
       "      <td>0.0</td>\n",
       "    </tr>\n",
       "    <tr>\n",
       "      <th>...</th>\n",
       "      <td>...</td>\n",
       "      <td>...</td>\n",
       "      <td>...</td>\n",
       "      <td>...</td>\n",
       "      <td>...</td>\n",
       "      <td>...</td>\n",
       "      <td>...</td>\n",
       "      <td>...</td>\n",
       "      <td>...</td>\n",
       "      <td>...</td>\n",
       "      <td>...</td>\n",
       "      <td>...</td>\n",
       "      <td>...</td>\n",
       "      <td>...</td>\n",
       "      <td>...</td>\n",
       "      <td>...</td>\n",
       "      <td>...</td>\n",
       "      <td>...</td>\n",
       "      <td>...</td>\n",
       "      <td>...</td>\n",
       "      <td>...</td>\n",
       "    </tr>\n",
       "    <tr>\n",
       "      <th>6527</th>\n",
       "      <td>30.0</td>\n",
       "      <td>0.0</td>\n",
       "      <td>0.0</td>\n",
       "      <td>1.0</td>\n",
       "      <td>0.0</td>\n",
       "      <td>0.0</td>\n",
       "      <td>0.0</td>\n",
       "      <td>0.0</td>\n",
       "      <td>0.0</td>\n",
       "      <td>0.0</td>\n",
       "      <td>...</td>\n",
       "      <td>1.0</td>\n",
       "      <td>1.0</td>\n",
       "      <td>0.0</td>\n",
       "      <td>0.0</td>\n",
       "      <td>0.0</td>\n",
       "      <td>0.0</td>\n",
       "      <td>0.0</td>\n",
       "      <td>0.0</td>\n",
       "      <td>0.0</td>\n",
       "      <td>1.0</td>\n",
       "    </tr>\n",
       "    <tr>\n",
       "      <th>9967</th>\n",
       "      <td>50.0</td>\n",
       "      <td>0.0</td>\n",
       "      <td>0.0</td>\n",
       "      <td>0.0</td>\n",
       "      <td>0.0</td>\n",
       "      <td>1.0</td>\n",
       "      <td>0.0</td>\n",
       "      <td>0.0</td>\n",
       "      <td>0.0</td>\n",
       "      <td>0.0</td>\n",
       "      <td>...</td>\n",
       "      <td>0.0</td>\n",
       "      <td>0.0</td>\n",
       "      <td>0.0</td>\n",
       "      <td>1.0</td>\n",
       "      <td>0.0</td>\n",
       "      <td>0.0</td>\n",
       "      <td>0.0</td>\n",
       "      <td>1.0</td>\n",
       "      <td>0.0</td>\n",
       "      <td>0.0</td>\n",
       "    </tr>\n",
       "    <tr>\n",
       "      <th>16747</th>\n",
       "      <td>30.0</td>\n",
       "      <td>0.0</td>\n",
       "      <td>1.0</td>\n",
       "      <td>0.0</td>\n",
       "      <td>0.0</td>\n",
       "      <td>0.0</td>\n",
       "      <td>0.0</td>\n",
       "      <td>0.0</td>\n",
       "      <td>0.0</td>\n",
       "      <td>0.0</td>\n",
       "      <td>...</td>\n",
       "      <td>0.0</td>\n",
       "      <td>0.0</td>\n",
       "      <td>0.0</td>\n",
       "      <td>1.0</td>\n",
       "      <td>0.0</td>\n",
       "      <td>0.0</td>\n",
       "      <td>0.0</td>\n",
       "      <td>0.0</td>\n",
       "      <td>0.0</td>\n",
       "      <td>1.0</td>\n",
       "    </tr>\n",
       "    <tr>\n",
       "      <th>916</th>\n",
       "      <td>50.0</td>\n",
       "      <td>0.0</td>\n",
       "      <td>1.0</td>\n",
       "      <td>0.0</td>\n",
       "      <td>0.0</td>\n",
       "      <td>0.0</td>\n",
       "      <td>0.0</td>\n",
       "      <td>0.0</td>\n",
       "      <td>0.0</td>\n",
       "      <td>0.0</td>\n",
       "      <td>...</td>\n",
       "      <td>1.0</td>\n",
       "      <td>0.0</td>\n",
       "      <td>0.0</td>\n",
       "      <td>1.0</td>\n",
       "      <td>0.0</td>\n",
       "      <td>0.0</td>\n",
       "      <td>0.0</td>\n",
       "      <td>0.0</td>\n",
       "      <td>0.0</td>\n",
       "      <td>1.0</td>\n",
       "    </tr>\n",
       "    <tr>\n",
       "      <th>11729</th>\n",
       "      <td>30.0</td>\n",
       "      <td>0.0</td>\n",
       "      <td>0.0</td>\n",
       "      <td>0.0</td>\n",
       "      <td>1.0</td>\n",
       "      <td>0.0</td>\n",
       "      <td>0.0</td>\n",
       "      <td>0.0</td>\n",
       "      <td>0.0</td>\n",
       "      <td>0.0</td>\n",
       "      <td>...</td>\n",
       "      <td>0.0</td>\n",
       "      <td>1.0</td>\n",
       "      <td>0.0</td>\n",
       "      <td>0.0</td>\n",
       "      <td>0.0</td>\n",
       "      <td>0.0</td>\n",
       "      <td>0.0</td>\n",
       "      <td>0.0</td>\n",
       "      <td>0.0</td>\n",
       "      <td>1.0</td>\n",
       "    </tr>\n",
       "  </tbody>\n",
       "</table>\n",
       "<p>18214 rows × 76 columns</p>\n",
       "</div>"
      ],
      "text/plain": [
       "       age_number  crime_class_A Felony  crime_class_Aggravated Misdemeanor  \\\n",
       "19732        50.0                   0.0                                 0.0   \n",
       "5802         40.0                   0.0                                 0.0   \n",
       "19945        40.0                   0.0                                 0.0   \n",
       "7031         40.0                   0.0                                 0.0   \n",
       "23418        30.0                   0.0                                 1.0   \n",
       "...           ...                   ...                                 ...   \n",
       "6527         30.0                   0.0                                 0.0   \n",
       "9967         50.0                   0.0                                 0.0   \n",
       "16747        30.0                   0.0                                 1.0   \n",
       "916          50.0                   0.0                                 1.0   \n",
       "11729        30.0                   0.0                                 0.0   \n",
       "\n",
       "       crime_class_B Felony  crime_class_C Felony  crime_class_D Felony  \\\n",
       "19732                   0.0                   0.0                   0.0   \n",
       "5802                    0.0                   0.0                   1.0   \n",
       "19945                   0.0                   0.0                   0.0   \n",
       "7031                    0.0                   0.0                   1.0   \n",
       "23418                   0.0                   0.0                   0.0   \n",
       "...                     ...                   ...                   ...   \n",
       "6527                    1.0                   0.0                   0.0   \n",
       "9967                    0.0                   0.0                   1.0   \n",
       "16747                   0.0                   0.0                   0.0   \n",
       "916                     0.0                   0.0                   0.0   \n",
       "11729                   0.0                   1.0                   0.0   \n",
       "\n",
       "       crime_class_Felony - Enhanced  crime_class_MISSING  \\\n",
       "19732                            0.0                  0.0   \n",
       "5802                             0.0                  0.0   \n",
       "19945                            1.0                  0.0   \n",
       "7031                             0.0                  0.0   \n",
       "23418                            0.0                  0.0   \n",
       "...                              ...                  ...   \n",
       "6527                             0.0                  0.0   \n",
       "9967                             0.0                  0.0   \n",
       "16747                            0.0                  0.0   \n",
       "916                              0.0                  0.0   \n",
       "11729                            0.0                  0.0   \n",
       "\n",
       "       crime_class_Serious Misdemeanor  crime_class_Sex Offender  ...  \\\n",
       "19732                              0.0                       1.0  ...   \n",
       "5802                               0.0                       0.0  ...   \n",
       "19945                              0.0                       0.0  ...   \n",
       "7031                               0.0                       0.0  ...   \n",
       "23418                              0.0                       0.0  ...   \n",
       "...                                ...                       ...  ...   \n",
       "6527                               0.0                       0.0  ...   \n",
       "9967                               0.0                       0.0  ...   \n",
       "16747                              0.0                       0.0  ...   \n",
       "916                                0.0                       0.0  ...   \n",
       "11729                              0.0                       0.0  ...   \n",
       "\n",
       "       target_pop_Yes  sex_Female  sex_MISSING  sex_Male  \\\n",
       "19732             1.0         0.0          0.0       1.0   \n",
       "5802              1.0         0.0          0.0       1.0   \n",
       "19945             0.0         0.0          0.0       1.0   \n",
       "7031              0.0         1.0          0.0       0.0   \n",
       "23418             0.0         0.0          0.0       1.0   \n",
       "...               ...         ...          ...       ...   \n",
       "6527              1.0         1.0          0.0       0.0   \n",
       "9967              0.0         0.0          0.0       1.0   \n",
       "16747             0.0         0.0          0.0       1.0   \n",
       "916               1.0         0.0          0.0       1.0   \n",
       "11729             0.0         1.0          0.0       0.0   \n",
       "\n",
       "       race_American Native  race_Asian or Pacific Islander  race_Black  \\\n",
       "19732                   0.0                             0.0         0.0   \n",
       "5802                    0.0                             0.0         0.0   \n",
       "19945                   0.0                             0.0         0.0   \n",
       "7031                    0.0                             0.0         0.0   \n",
       "23418                   0.0                             0.0         0.0   \n",
       "...                     ...                             ...         ...   \n",
       "6527                    0.0                             0.0         0.0   \n",
       "9967                    0.0                             0.0         0.0   \n",
       "16747                   0.0                             0.0         0.0   \n",
       "916                     0.0                             0.0         0.0   \n",
       "11729                   0.0                             0.0         0.0   \n",
       "\n",
       "       race_Hispanic  race_MISSING  race_White  \n",
       "19732            0.0           0.0         1.0  \n",
       "5802             1.0           0.0         0.0  \n",
       "19945            0.0           0.0         1.0  \n",
       "7031             0.0           0.0         1.0  \n",
       "23418            1.0           0.0         0.0  \n",
       "...              ...           ...         ...  \n",
       "6527             0.0           0.0         1.0  \n",
       "9967             1.0           0.0         0.0  \n",
       "16747            0.0           0.0         1.0  \n",
       "916              0.0           0.0         1.0  \n",
       "11729            0.0           0.0         1.0  \n",
       "\n",
       "[18214 rows x 76 columns]"
      ]
     },
     "execution_count": 25,
     "metadata": {},
     "output_type": "execute_result"
    }
   ],
   "source": [
    "## Fit preprocessing pipeline on training data and pull out the feature names and X_cols\n",
    "preprocessor.fit(X_train)\n",
    "\n",
    "## Use the encoder's .get_feature_names\n",
    "cat_features = list(preprocessor.named_transformers_['cat'].named_steps['encoder']\\\n",
    "                            .get_feature_names(cat_cols))\n",
    "X_cols = num_cols+cat_features\n",
    "\n",
    "## Transform X_traian,X_test and remake dfs\n",
    "X_train_df = pd.DataFrame(preprocessor.transform(X_train),\n",
    "                          index=X_train.index, columns=X_cols)\n",
    "X_test_df = pd.DataFrame(preprocessor.transform(X_test),\n",
    "                          index=X_test.index, columns=X_cols)\n",
    "\n",
    "## Tranform X_train and X_test and make into DataFrames\n",
    "X_train_df"
   ]
  },
  {
   "cell_type": "markdown",
   "metadata": {},
   "source": [
    "### Functions from Prior Classes"
   ]
  },
  {
   "cell_type": "code",
   "execution_count": 26,
   "metadata": {
    "ExecuteTime": {
     "end_time": "2021-05-12T15:27:24.266534Z",
     "start_time": "2021-05-12T15:27:24.245349Z"
    }
   },
   "outputs": [],
   "source": [
    "## Write a fucntion to evalute the model\n",
    "import sklearn.metrics as metrics\n",
    "from sklearn.tree import plot_tree\n",
    "## Modified version of our simple eval function from Topic 25 Part 2 Study Group\n",
    "# - Added X_train and y_train for if we want scores for both train and test\n",
    "def evaluate_classification(model, X_test_tf,y_test,cmap='Greens',\n",
    "                            normalize='true',classes=None,figsize=(10,4),\n",
    "                            X_train = None, y_train = None,):\n",
    "    \"\"\"Evaluates a scikit-learn binary classification model.\n",
    "\n",
    "    Args:\n",
    "        model ([type]): [description]\n",
    "        X_test_tf ([type]): [description]\n",
    "        y_test ([type]): [description]\n",
    "        cmap (str, optional): [description]. Defaults to 'Reds'.\n",
    "        normalize (str, optional): [description]. Defaults to 'true'.\n",
    "        classes ([type], optional): [description]. Defaults to None.\n",
    "        figsize (tuple, optional): [description]. Defaults to (8,4).\n",
    "        X_train ([type], optional): [description]. Defaults to None.\n",
    "        y_train ([type], optional): [description]. Defaults to None.\n",
    "    \"\"\"\n",
    "    \n",
    "\n",
    "    y_hat_test = model.predict(X_test_tf)\n",
    "    print(metrics.classification_report(y_test, y_hat_test,target_names=classes))\n",
    "    \n",
    "    fig,ax = plt.subplots(ncols=2,figsize=figsize)\n",
    "    metrics.plot_confusion_matrix(model, X_test_tf,y_test,cmap=cmap, \n",
    "                                  normalize=normalize,display_labels=classes,\n",
    "                                 ax=ax[0])\n",
    "    \n",
    "    curve = metrics.plot_roc_curve(model,X_test_tf,y_test,ax=ax[1])\n",
    "    curve.ax_.grid()\n",
    "    curve.ax_.plot([0,1],[0,1],ls=':')\n",
    "    fig.tight_layout()\n",
    "    plt.show()\n",
    "    \n",
    "    ## Add comparing Scores if X_train and y_train provided.\n",
    "    if (X_train is not None) & (y_train is not None):\n",
    "        print(f\"Training Score = {model.score(X_train,y_train):.2f}\")\n",
    "        print(f\"Test Score = {model.score(X_test_tf,y_test):.2f}\")\n",
    "        \n",
    "        \n",
    "        \n",
    "def evaluate_grid(grid,X_test,y_test,X_train=None,y_train=None):\n",
    "    print('The best parameters were:')\n",
    "    print(\"\\t\",grid.best_params_)\n",
    "    \n",
    "    model = grid.best_estimator_    \n",
    "\n",
    "    print('\\n[i] Classification Report')\n",
    "    evaluate_classification(model, X_test,y_test,X_train=X_train,y_train=y_train)\n",
    "    \n",
    "    \n",
    "    \n",
    "def plot_importance(tree, X_train_df, top_n=20,figsize=(10,10)):\n",
    "    \n",
    "    df_importance = pd.Series(tree.feature_importances_,\n",
    "                              index=X_train_df.columns)\n",
    "    df_importance.sort_values(ascending=True).tail(top_n).plot(\n",
    "        kind='barh',figsize=figsize,title='Feature Importances',\n",
    "    ylabel='Feature',)\n",
    "    return df_importance\n",
    "\n",
    "\n",
    "\n",
    "def show_tree(clf,figsize=(60,25),class_names=['Died','Survived'],\n",
    "              savefig=False,fname='titanic_tree.pdf',max_depth=None,):\n",
    "    \n",
    "    fig,ax = plt.subplots(figsize=figsize)\n",
    "    plot_tree(clf,filled=True,rounded=True,proportion=True,\n",
    "              feature_names=X_train_df.columns,\n",
    "              class_names=class_names,ax=ax);\n",
    "    fig.tight_layout()\n",
    "    \n",
    "    if savefig:\n",
    "        fig.savefig(fname, dpi=300,orientation='landscape')\n",
    "    return fig"
   ]
  },
  {
   "cell_type": "markdown",
   "metadata": {},
   "source": [
    "## Baseline Model (DummyClassifier)"
   ]
  },
  {
   "cell_type": "code",
   "execution_count": 27,
   "metadata": {
    "ExecuteTime": {
     "end_time": "2021-05-12T15:27:24.639352Z",
     "start_time": "2021-05-12T15:27:24.268834Z"
    }
   },
   "outputs": [
    {
     "name": "stdout",
     "output_type": "stream",
     "text": [
      "              precision    recall  f1-score   support\n",
      "\n",
      "           0       0.66      0.67      0.66      5171\n",
      "           1       0.33      0.33      0.33      2635\n",
      "\n",
      "    accuracy                           0.55      7806\n",
      "   macro avg       0.50      0.50      0.50      7806\n",
      "weighted avg       0.55      0.55      0.55      7806\n",
      "\n"
     ]
    },
    {
     "data": {
      "image/png": "[encoded data removed]",
      "text/plain": [
       "<Figure size 720x288 with 3 Axes>"
      ]
     },
     "metadata": {
      "needs_background": "light"
     },
     "output_type": "display_data"
    },
    {
     "name": "stdout",
     "output_type": "stream",
     "text": [
      "Training Score = 0.56\n",
      "Test Score = 0.56\n"
     ]
    }
   ],
   "source": [
    "from sklearn.dummy import DummyClassifier\n",
    "clf = DummyClassifier() # setting max_depth=5 for visualization\n",
    "clf.fit(X_train_df,y_train)\n",
    "evaluate_classification(clf,X_test_df,y_test,X_train=X_train_df,y_train =y_train)"
   ]
  },
  {
   "cell_type": "markdown",
   "metadata": {},
   "source": [
    "> **Q: What do we notice about the results of our dummy classifier?**"
   ]
  },
  {
   "cell_type": "markdown",
   "metadata": {},
   "source": [
    "## Vanilla DecisionTree"
   ]
  },
  {
   "cell_type": "code",
   "execution_count": 28,
   "metadata": {
    "ExecuteTime": {
     "end_time": "2021-05-12T15:27:25.097352Z",
     "start_time": "2021-05-12T15:27:24.641229Z"
    }
   },
   "outputs": [
    {
     "name": "stdout",
     "output_type": "stream",
     "text": [
      "              precision    recall  f1-score   support\n",
      "\n",
      "           0       0.73      0.58      0.65      5171\n",
      "           1       0.41      0.57      0.48      2635\n",
      "\n",
      "    accuracy                           0.58      7806\n",
      "   macro avg       0.57      0.58      0.56      7806\n",
      "weighted avg       0.62      0.58      0.59      7806\n",
      "\n"
     ]
    },
    {
     "data": {
      "image/png": "[encoded data removed]",
      "text/plain": [
       "<Figure size 720x288 with 3 Axes>"
      ]
     },
     "metadata": {
      "needs_background": "light"
     },
     "output_type": "display_data"
    },
    {
     "name": "stdout",
     "output_type": "stream",
     "text": [
      "Training Score = 0.78\n",
      "Test Score = 0.58\n"
     ]
    }
   ],
   "source": [
    "from sklearn.tree import DecisionTreeClassifier\n",
    "tree = DecisionTreeClassifier(class_weight='balanced')\n",
    "tree.fit(X_train_df,y_train)\n",
    "evaluate_classification(tree,X_test_df,y_test,X_train=X_train_df,y_train =y_train)"
   ]
  },
  {
   "cell_type": "code",
   "execution_count": 29,
   "metadata": {
    "ExecuteTime": {
     "end_time": "2021-05-12T15:27:25.102334Z",
     "start_time": "2021-05-12T15:27:25.099494Z"
    }
   },
   "outputs": [
    {
     "data": {
      "text/plain": [
       "38"
      ]
     },
     "execution_count": 29,
     "metadata": {},
     "output_type": "execute_result"
    }
   ],
   "source": [
    "# how deep is tree?\n",
    "tree.get_depth()"
   ]
  },
  {
   "cell_type": "code",
   "execution_count": 30,
   "metadata": {
    "ExecuteTime": {
     "end_time": "2021-05-12T15:27:25.374696Z",
     "start_time": "2021-05-12T15:27:25.103845Z"
    },
    "scrolled": false
   },
   "outputs": [
    {
     "data": {
      "image/png": "[encoded data removed]",
      "text/plain": [
       "<Figure size 720x720 with 1 Axes>"
      ]
     },
     "metadata": {
      "needs_background": "light"
     },
     "output_type": "display_data"
    }
   ],
   "source": [
    "## Check feature importance\n",
    "importances = plot_importance(tree,X_train_df,top_n=30)\n",
    "# importances"
   ]
  },
  {
   "cell_type": "code",
   "execution_count": 31,
   "metadata": {
    "ExecuteTime": {
     "end_time": "2021-05-12T15:27:25.377781Z",
     "start_time": "2021-05-12T15:27:25.375892Z"
    }
   },
   "outputs": [],
   "source": [
    "# show_tree(tree,savefig=True,fname='prisoners_tree.pdf',max_depth=5)"
   ]
  },
  {
   "cell_type": "markdown",
   "metadata": {},
   "source": [
    "### Hyperparameters Tuning"
   ]
  },
  {
   "cell_type": "markdown",
   "metadata": {},
   "source": [
    "- `max-depth`\n",
    "- `min_samples_leaf`: The smallest number of samples that can be in a leaf (node)\n",
    "- `min_samples_split`: The smallest number of samples in a leaf (node) before splitting it\n",
    "- `max_features`: Most features to consider when splitting"
   ]
  },
  {
   "cell_type": "code",
   "execution_count": 32,
   "metadata": {
    "ExecuteTime": {
     "end_time": "2021-05-12T15:27:58.027078Z",
     "start_time": "2021-05-12T15:27:25.379280Z"
    }
   },
   "outputs": [
    {
     "name": "stdout",
     "output_type": "stream",
     "text": [
      "The best parameters were:\n",
      "\t {'class_weight': 'balanced', 'criterion': 'entropy', 'max_depth': 10, 'max_features': None, 'min_samples_leaf': 1}\n",
      "\n",
      "[i] Classification Report\n",
      "              precision    recall  f1-score   support\n",
      "\n",
      "           0       0.78      0.55      0.64      5171\n",
      "           1       0.44      0.69      0.53      2635\n",
      "\n",
      "    accuracy                           0.59      7806\n",
      "   macro avg       0.61      0.62      0.59      7806\n",
      "weighted avg       0.66      0.59      0.61      7806\n",
      "\n"
     ]
    },
    {
     "data": {
      "image/png": "[encoded data removed]",
      "text/plain": [
       "<Figure size 720x288 with 3 Axes>"
      ]
     },
     "metadata": {
      "needs_background": "light"
     },
     "output_type": "display_data"
    },
    {
     "name": "stdout",
     "output_type": "stream",
     "text": [
      "Training Score = 0.62\n",
      "Test Score = 0.59\n"
     ]
    }
   ],
   "source": [
    "## Import GridSearch\n",
    "from sklearn.model_selection import GridSearchCV\n",
    "## Instantiate classifier\n",
    "tree = DecisionTreeClassifier()\n",
    "## Set up param grid\n",
    "param_grid = {'criterion':['gini','entropy'],\n",
    "             'max_depth':[None, 5,10,15,20],\n",
    "              'min_samples_leaf':[1,2,3],\n",
    "              'class_weight':['balanced'],\n",
    "             'max_features':['auto',10,30,70,None]}\n",
    "\n",
    "## Instantiate GridSearchCV\n",
    "grid_clf = GridSearchCV(tree,param_grid,scoring='f1_macro')\n",
    "grid_clf.fit(X_train_df,y_train)\n",
    "evaluate_grid(grid_clf,X_test_df,y_test,X_train=X_train_df,y_train =y_train)"
   ]
  },
  {
   "cell_type": "code",
   "execution_count": 33,
   "metadata": {
    "ExecuteTime": {
     "end_time": "2021-05-12T15:27:58.030597Z",
     "start_time": "2021-05-12T15:27:58.028750Z"
    }
   },
   "outputs": [],
   "source": [
    "# ## Instantiate GridSearchCV\n",
    "# grid_clf = GridSearchCV(tree,param_grid,scoring='recall_macro')\n",
    "# grid_clf.fit(X_train_df,y_train)\n",
    "# evaluate_grid(grid_clf,X_test_df,y_test,X_train=X_train_df,y_train =y_train)"
   ]
  },
  {
   "cell_type": "markdown",
   "metadata": {
    "slideshow": {
     "slide_type": "slide"
    }
   },
   "source": [
    "## Bagging "
   ]
  },
  {
   "cell_type": "code",
   "execution_count": 34,
   "metadata": {
    "ExecuteTime": {
     "end_time": "2021-05-12T15:27:59.456084Z",
     "start_time": "2021-05-12T15:27:58.033248Z"
    },
    "slideshow": {
     "slide_type": "slide"
    }
   },
   "outputs": [
    {
     "name": "stdout",
     "output_type": "stream",
     "text": [
      "              precision    recall  f1-score   support\n",
      "\n",
      "           0       0.70      0.78      0.74      5171\n",
      "           1       0.44      0.35      0.39      2635\n",
      "\n",
      "    accuracy                           0.63      7806\n",
      "   macro avg       0.57      0.56      0.56      7806\n",
      "weighted avg       0.61      0.63      0.62      7806\n",
      "\n"
     ]
    },
    {
     "data": {
      "image/png": "[encoded data removed]",
      "text/plain": [
       "<Figure size 720x288 with 3 Axes>"
      ]
     },
     "metadata": {
      "needs_background": "light"
     },
     "output_type": "display_data"
    },
    {
     "name": "stdout",
     "output_type": "stream",
     "text": [
      "Training Score = 0.81\n",
      "Test Score = 0.63\n"
     ]
    }
   ],
   "source": [
    "## Import bagging classifier\n",
    "from sklearn.ensemble import BaggingClassifier\n",
    "\n",
    "## Fit Classifier and get predictions\n",
    "bag = BaggingClassifier()\n",
    "bag.fit(X_train_df,y_train)\n",
    "evaluate_classification(bag,X_test_df,y_test,X_train=X_train_df,y_train =y_train)"
   ]
  },
  {
   "cell_type": "markdown",
   "metadata": {
    "ExecuteTime": {
     "end_time": "2020-04-11T00:38:17.137096Z",
     "start_time": "2020-04-11T00:38:15.965034Z"
    }
   },
   "source": [
    "### Dealing with Class Imbalance with encoded feature via `SMOTENC`"
   ]
  },
  {
   "cell_type": "markdown",
   "metadata": {
    "ExecuteTime": {
     "end_time": "2020-04-11T00:38:17.137096Z",
     "start_time": "2020-04-11T00:38:15.965034Z"
    }
   },
   "source": [
    "- AKA when there's no `class_weight` argument and you have one hot encoded features\n",
    "\n",
    "#### SMOTENC is another SMOTE class from imblearn\n",
    "- https://imbalanced-learn.org/dev/references/generated/imblearn.over_sampling.SMOTENC.html\n",
    "- It is designed for categorical features. \n",
    "- It needs a list of True/False for every feature (True=one hot encoded, False=numerical)_"
   ]
  },
  {
   "cell_type": "code",
   "execution_count": 35,
   "metadata": {
    "ExecuteTime": {
     "end_time": "2021-05-12T15:27:59.461907Z",
     "start_time": "2021-05-12T15:27:59.457954Z"
    }
   },
   "outputs": [
    {
     "data": {
      "text/plain": [
       "[False, True, True, True, True, True, True, True, True]"
      ]
     },
     "execution_count": 35,
     "metadata": {},
     "output_type": "execute_result"
    }
   ],
   "source": [
    "## Save list of trues and falses for each col\n",
    "smote_features = [False]*len(num_cols) + [True]*len(cat_cols)\n",
    "smote_features"
   ]
  },
  {
   "cell_type": "code",
   "execution_count": 36,
   "metadata": {
    "ExecuteTime": {
     "end_time": "2021-05-12T15:28:02.734164Z",
     "start_time": "2021-05-12T15:27:59.464554Z"
    }
   },
   "outputs": [
    {
     "data": {
      "text/plain": [
       "1    12168\n",
       "0    12168\n",
       "Name: recidivist, dtype: int64"
      ]
     },
     "execution_count": 36,
     "metadata": {},
     "output_type": "execute_result"
    }
   ],
   "source": [
    "from imblearn.over_sampling import SMOTE,SMOTENC\n",
    "\n",
    "smote = SMOTENC(smote_features)\n",
    "X_train_sm, y_train_sm = smote.fit_sample(X_train_df, y_train)\n",
    "y_train_sm.value_counts()"
   ]
  },
  {
   "cell_type": "markdown",
   "metadata": {},
   "source": [
    "#### Retrain BaggingClassifer on resampled data"
   ]
  },
  {
   "cell_type": "code",
   "execution_count": 37,
   "metadata": {
    "ExecuteTime": {
     "end_time": "2021-05-12T15:28:04.489994Z",
     "start_time": "2021-05-12T15:28:02.736455Z"
    }
   },
   "outputs": [
    {
     "name": "stdout",
     "output_type": "stream",
     "text": [
      "              precision    recall  f1-score   support\n",
      "\n",
      "           0       0.72      0.70      0.71      5171\n",
      "           1       0.44      0.46      0.45      2635\n",
      "\n",
      "    accuracy                           0.62      7806\n",
      "   macro avg       0.58      0.58      0.58      7806\n",
      "weighted avg       0.62      0.62      0.62      7806\n",
      "\n"
     ]
    },
    {
     "data": {
      "image/png": "[encoded data removed]",
      "text/plain": [
       "<Figure size 720x288 with 3 Axes>"
      ]
     },
     "metadata": {
      "needs_background": "light"
     },
     "output_type": "display_data"
    },
    {
     "name": "stdout",
     "output_type": "stream",
     "text": [
      "Training Score = 0.83\n",
      "Test Score = 0.62\n"
     ]
    }
   ],
   "source": [
    "bag = BaggingClassifier()\n",
    "bag.fit(X_train_sm,y_train_sm)\n",
    "evaluate_classification(bag,X_test_df,y_test,X_train=X_train_sm,y_train =y_train_sm)"
   ]
  },
  {
   "cell_type": "markdown",
   "metadata": {
    "slideshow": {
     "slide_type": "slide"
    }
   },
   "source": [
    "## RandomForestClassifier"
   ]
  },
  {
   "cell_type": "code",
   "execution_count": 38,
   "metadata": {
    "ExecuteTime": {
     "end_time": "2021-05-12T15:28:07.522301Z",
     "start_time": "2021-05-12T15:28:04.491726Z"
    },
    "slideshow": {
     "slide_type": "slide"
    }
   },
   "outputs": [
    {
     "name": "stdout",
     "output_type": "stream",
     "text": [
      "              precision    recall  f1-score   support\n",
      "\n",
      "           0       0.72      0.69      0.71      5171\n",
      "           1       0.44      0.47      0.46      2635\n",
      "\n",
      "    accuracy                           0.62      7806\n",
      "   macro avg       0.58      0.58      0.58      7806\n",
      "weighted avg       0.63      0.62      0.62      7806\n",
      "\n"
     ]
    },
    {
     "data": {
      "image/png": "[encoded data removed]",
      "text/plain": [
       "<Figure size 720x288 with 3 Axes>"
      ]
     },
     "metadata": {
      "needs_background": "light"
     },
     "output_type": "display_data"
    },
    {
     "name": "stdout",
     "output_type": "stream",
     "text": [
      "Training Score = 0.81\n",
      "Test Score = 0.62\n"
     ]
    }
   ],
   "source": [
    "## Import Random Forest\n",
    "from sklearn.ensemble import RandomForestClassifier\n",
    "\n",
    "## Fit Random Forest\n",
    "rf = RandomForestClassifier(class_weight='balanced')\n",
    "rf.fit(X_train_df, y_train)\n",
    "evaluate_classification(rf,X_test_df,y_test,X_train=X_train_df,y_train =y_train)"
   ]
  },
  {
   "cell_type": "code",
   "execution_count": 39,
   "metadata": {
    "ExecuteTime": {
     "end_time": "2021-05-12T15:28:11.816141Z",
     "start_time": "2021-05-12T15:28:07.524421Z"
    }
   },
   "outputs": [
    {
     "name": "stdout",
     "output_type": "stream",
     "text": [
      "              precision    recall  f1-score   support\n",
      "\n",
      "           0       0.72      0.71      0.72      5171\n",
      "           1       0.44      0.45      0.45      2635\n",
      "\n",
      "    accuracy                           0.62      7806\n",
      "   macro avg       0.58      0.58      0.58      7806\n",
      "weighted avg       0.63      0.62      0.63      7806\n",
      "\n"
     ]
    },
    {
     "data": {
      "image/png": "[encoded data removed]",
      "text/plain": [
       "<Figure size 720x288 with 3 Axes>"
      ]
     },
     "metadata": {
      "needs_background": "light"
     },
     "output_type": "display_data"
    },
    {
     "name": "stdout",
     "output_type": "stream",
     "text": [
      "Training Score = 0.84\n",
      "Test Score = 0.62\n"
     ]
    }
   ],
   "source": [
    "## Try using smote instead of class_weight\n",
    "rf = RandomForestClassifier()\n",
    "rf.fit(X_train_sm, y_train_sm)\n",
    "evaluate_classification(rf,X_test_df,y_test,X_train=X_train_sm,y_train =y_train_sm)"
   ]
  },
  {
   "cell_type": "markdown",
   "metadata": {
    "slideshow": {
     "slide_type": "slide"
    }
   },
   "source": [
    "## ExtraTrees Algorithm"
   ]
  },
  {
   "cell_type": "markdown",
   "metadata": {
    "slideshow": {
     "slide_type": "slide"
    }
   },
   "source": [
    "- Instead of always choosing the *optimal* branching path, we  choose a branching path at random. "
   ]
  },
  {
   "cell_type": "code",
   "execution_count": 40,
   "metadata": {
    "ExecuteTime": {
     "end_time": "2021-05-12T15:28:15.659376Z",
     "start_time": "2021-05-12T15:28:11.817804Z"
    },
    "slideshow": {
     "slide_type": "slide"
    }
   },
   "outputs": [
    {
     "name": "stdout",
     "output_type": "stream",
     "text": [
      "              precision    recall  f1-score   support\n",
      "\n",
      "           0       0.73      0.62      0.67      5171\n",
      "           1       0.42      0.55      0.48      2635\n",
      "\n",
      "    accuracy                           0.60      7806\n",
      "   macro avg       0.58      0.58      0.57      7806\n",
      "weighted avg       0.63      0.60      0.60      7806\n",
      "\n"
     ]
    },
    {
     "data": {
      "image/png": "[encoded data removed]",
      "text/plain": [
       "<Figure size 720x288 with 3 Axes>"
      ]
     },
     "metadata": {
      "needs_background": "light"
     },
     "output_type": "display_data"
    },
    {
     "name": "stdout",
     "output_type": "stream",
     "text": [
      "Training Score = 0.78\n",
      "Test Score = 0.60\n"
     ]
    }
   ],
   "source": [
    "## Import and fit an ExtraTreesClassifier\n",
    "from sklearn.ensemble import ExtraTreesClassifier\n",
    "\n",
    "etrees = ExtraTreesClassifier(class_weight='balanced')\n",
    "etrees.fit(X_train_df, y_train)\n",
    "evaluate_classification(etrees,X_test_df,y_test,X_train=X_train_df,y_train =y_train)"
   ]
  },
  {
   "cell_type": "markdown",
   "metadata": {},
   "source": [
    "## XGBoost"
   ]
  },
  {
   "cell_type": "markdown",
   "metadata": {},
   "source": [
    "> \"`XGBoost` is a stand-alone library that implements popular gradient boosting algorithms in the fastest, most performant way possible. There are many under-the-hood optimizations that allow XGBoost to train more quickly than any other library implementations of gradient boosting algorithms:\n",
    "- For instance, XGBoost is configured in such a way that it parallelizes the construction of trees across all your computer's CPU cores during the training phase. \n",
    "- It also allows for more advanced use cases, such as distributing training across a cluster of computers, which is often a technique used to speed up computation. \n",
    "- The algorithm even automatically handles missing values!\""
   ]
  },
  {
   "cell_type": "code",
   "execution_count": 41,
   "metadata": {
    "ExecuteTime": {
     "end_time": "2021-05-12T15:28:15.829927Z",
     "start_time": "2021-05-12T15:28:15.661215Z"
    }
   },
   "outputs": [],
   "source": [
    "## import xgboost RF\n",
    "from xgboost import XGBRFClassifier,XGBClassifier"
   ]
  },
  {
   "cell_type": "markdown",
   "metadata": {},
   "source": [
    "### `XGBClassifier`"
   ]
  },
  {
   "cell_type": "code",
   "execution_count": 42,
   "metadata": {
    "ExecuteTime": {
     "end_time": "2021-05-12T15:28:17.689216Z",
     "start_time": "2021-05-12T15:28:15.831944Z"
    }
   },
   "outputs": [
    {
     "name": "stdout",
     "output_type": "stream",
     "text": [
      "              precision    recall  f1-score   support\n",
      "\n",
      "           0       0.70      0.87      0.78      5171\n",
      "           1       0.53      0.28      0.36      2635\n",
      "\n",
      "    accuracy                           0.67      7806\n",
      "   macro avg       0.61      0.57      0.57      7806\n",
      "weighted avg       0.64      0.67      0.64      7806\n",
      "\n"
     ]
    },
    {
     "data": {
      "image/png": "[encoded data removed]",
      "text/plain": [
       "<Figure size 720x288 with 3 Axes>"
      ]
     },
     "metadata": {
      "needs_background": "light"
     },
     "output_type": "display_data"
    },
    {
     "name": "stdout",
     "output_type": "stream",
     "text": [
      "Training Score = 0.73\n",
      "Test Score = 0.67\n"
     ]
    }
   ],
   "source": [
    "## Fit and Evaluate single tree\n",
    "xgg_clf = XGBClassifier()\n",
    "xgg_clf.fit(X_train_df, y_train)\n",
    "evaluate_classification(xgg_clf,X_test_df,y_test,X_train=X_train_df,y_train =y_train)"
   ]
  },
  {
   "cell_type": "code",
   "execution_count": 43,
   "metadata": {
    "ExecuteTime": {
     "end_time": "2021-05-12T15:28:20.032600Z",
     "start_time": "2021-05-12T15:28:17.690993Z"
    }
   },
   "outputs": [
    {
     "name": "stdout",
     "output_type": "stream",
     "text": [
      "              precision    recall  f1-score   support\n",
      "\n",
      "           0       0.73      0.73      0.73      5171\n",
      "           1       0.47      0.48      0.48      2635\n",
      "\n",
      "    accuracy                           0.65      7806\n",
      "   macro avg       0.60      0.61      0.61      7806\n",
      "weighted avg       0.65      0.65      0.65      7806\n",
      "\n"
     ]
    },
    {
     "data": {
      "image/png": "[encoded data removed]",
      "text/plain": [
       "<Figure size 720x288 with 3 Axes>"
      ]
     },
     "metadata": {
      "needs_background": "light"
     },
     "output_type": "display_data"
    },
    {
     "name": "stdout",
     "output_type": "stream",
     "text": [
      "Training Score = 0.75\n",
      "Test Score = 0.65\n"
     ]
    }
   ],
   "source": [
    "## single boosted tree with smoted data\n",
    "xgg_clf = XGBClassifier()\n",
    "xgg_clf.fit(X_train_sm, y_train_sm)\n",
    "evaluate_classification(xgg_clf,X_test_df,y_test,X_train=X_train_sm,y_train =y_train_sm)"
   ]
  },
  {
   "cell_type": "markdown",
   "metadata": {},
   "source": [
    "### `XGBRFClassifier`"
   ]
  },
  {
   "cell_type": "code",
   "execution_count": 44,
   "metadata": {
    "ExecuteTime": {
     "end_time": "2021-05-12T15:28:22.251155Z",
     "start_time": "2021-05-12T15:28:20.034794Z"
    }
   },
   "outputs": [
    {
     "name": "stdout",
     "output_type": "stream",
     "text": [
      "0.6471071663379355\n",
      "0.5944145529080195\n",
      "              precision    recall  f1-score   support\n",
      "\n",
      "           0       0.78      0.54      0.64      5171\n",
      "           1       0.44      0.70      0.54      2635\n",
      "\n",
      "    accuracy                           0.59      7806\n",
      "   macro avg       0.61      0.62      0.59      7806\n",
      "weighted avg       0.66      0.59      0.60      7806\n",
      "\n"
     ]
    },
    {
     "data": {
      "image/png": "[encoded data removed]",
      "text/plain": [
       "<Figure size 720x288 with 3 Axes>"
      ]
     },
     "metadata": {
      "needs_background": "light"
     },
     "output_type": "display_data"
    },
    {
     "name": "stdout",
     "output_type": "stream",
     "text": [
      "Training Score = 0.65\n",
      "Test Score = 0.59\n"
     ]
    }
   ],
   "source": [
    "## fit on smoted dta\n",
    "xgb_rf = XGBRFClassifier()\n",
    "xgb_rf.fit(X_train_sm, y_train_sm)\n",
    "\n",
    "print(xgb_rf.score(X_train_sm,y_train_sm))\n",
    "print(xgb_rf.score(X_test_df,y_test))\n",
    "\n",
    "# y_hat_test = xgb_rf.predict(X_test)\n",
    "\n",
    "# evaluate_model(y_test,y_hat_test,X_test,xgb_rf)\n",
    "evaluate_classification(xgb_rf,X_test_df,y_test,X_train=X_train_sm,y_train =y_train_sm)"
   ]
  },
  {
   "cell_type": "code",
   "execution_count": 45,
   "metadata": {
    "ExecuteTime": {
     "end_time": "2021-05-12T15:28:24.137917Z",
     "start_time": "2021-05-12T15:28:22.253282Z"
    }
   },
   "outputs": [
    {
     "name": "stdout",
     "output_type": "stream",
     "text": [
      "              precision    recall  f1-score   support\n",
      "\n",
      "           0       0.77      0.56      0.65      5171\n",
      "           1       0.44      0.67      0.53      2635\n",
      "\n",
      "    accuracy                           0.60      7806\n",
      "   macro avg       0.60      0.61      0.59      7806\n",
      "weighted avg       0.66      0.60      0.61      7806\n",
      "\n"
     ]
    },
    {
     "data": {
      "image/png": "[encoded data removed]",
      "text/plain": [
       "<Figure size 720x288 with 3 Axes>"
      ]
     },
     "metadata": {
      "needs_background": "light"
     },
     "output_type": "display_data"
    },
    {
     "name": "stdout",
     "output_type": "stream",
     "text": [
      "Training Score = 0.63\n",
      "Test Score = 0.60\n"
     ]
    }
   ],
   "source": [
    "## setup param grid for gridsearch\n",
    "\n",
    "xgbrf_grid = {'colsample_bynode': 0.8, 'learning_rate': 1,\n",
    "              'max_depth': 5, 'num_parallel_tree': 100, \n",
    "              'objective': 'binary:logistic', 'subsample': 0.8}\n",
    "\n",
    "xrf_clf = XGBRFClassifier(**xgbrf_grid)\n",
    "xrf_clf.fit(X_train_sm,y_train_sm)\n",
    "evaluate_classification(xrf_clf,X_test_df,y_test,X_train=X_train_sm,y_train =y_train_sm)"
   ]
  },
  {
   "cell_type": "markdown",
   "metadata": {
    "heading_collapsed": true
   },
   "source": [
    "# APPENDIX"
   ]
  },
  {
   "cell_type": "markdown",
   "metadata": {
    "hidden": true
   },
   "source": [
    "### Stacked Models "
   ]
  },
  {
   "cell_type": "markdown",
   "metadata": {
    "hidden": true
   },
   "source": [
    "- `StackingClassifier`: \n",
    "    - https://scikit-learn.org/stable/modules/generated/sklearn.ensemble.StackingClassifier.html\n",
    "- `VotingClassifier`:\n",
    "    - https://scikit-learn.org/stable/modules/generated/sklearn.ensemble.VotingClassifier.html"
   ]
  },
  {
   "cell_type": "markdown",
   "metadata": {
    "hidden": true
   },
   "source": [
    "#### if there's time: combine several of the best models into one meta-classifier"
   ]
  },
  {
   "cell_type": "code",
   "execution_count": 46,
   "metadata": {
    "ExecuteTime": {
     "end_time": "2021-05-12T15:28:24.142539Z",
     "start_time": "2021-05-12T15:28:24.139788Z"
    },
    "hidden": true
   },
   "outputs": [],
   "source": [
    "from sklearn.ensemble import StackingClassifier,VotingClassifier"
   ]
  },
  {
   "cell_type": "markdown",
   "metadata": {
    "hidden": true
   },
   "source": [
    "## "
   ]
  },
  {
   "cell_type": "markdown",
   "metadata": {
    "hidden": true
   },
   "source": [
    "## Cross Validation Question"
   ]
  },
  {
   "cell_type": "markdown",
   "metadata": {
    "hidden": true
   },
   "source": [
    "- From One on One from 05/11/21"
   ]
  },
  {
   "cell_type": "markdown",
   "metadata": {
    "hidden": true
   },
   "source": [
    "#### CV Workflow: "
   ]
  },
  {
   "cell_type": "markdown",
   "metadata": {
    "hidden": true
   },
   "source": [
    "1. Train/Test split\n",
    "2. Create a model. \n",
    "3. Apply Cross Validation with the training data. \n",
    "4. Evaluate Cross validation scores:\n",
    "    - If not happy with the scores:\n",
    "        - Try different model/hyperparameters.\n",
    "    - If happy with scores/performance:\n",
    "        - Train an **individual** model (not-cv) on the **training data** and **evaluate with the test data.**\n",
    "\n",
    "        \n",
    "5. If individual model performs well on test data (isn't overfit) **and you are planning to deploy the model:** \n",
    "    - You would **re-train the model** on the **entire combined data set** (X =X_train+X_test, y=y_train+y_test) before pickling/saving the model. \n"
   ]
  },
  {
   "cell_type": "code",
   "execution_count": 47,
   "metadata": {
    "ExecuteTime": {
     "end_time": "2021-05-12T15:28:24.147399Z",
     "start_time": "2021-05-12T15:28:24.144934Z"
    },
    "hidden": true
   },
   "outputs": [],
   "source": [
    "from sklearn.model_selection import cross_validate,cross_val_score,cross_val_predict"
   ]
  },
  {
   "cell_type": "markdown",
   "metadata": {
    "hidden": true
   },
   "source": [
    "- Cross validation **functions** from sklearn.model_selection:\n",
    "    - `cross_validate`: \n",
    "        - returns dict of K-fold  scores for the training data, including the training times.\n",
    "    - `cross_val_score`:\n",
    "        - returns the K-fold validation scores for the K-fold's test-splits\n",
    "        \n",
    "    - `cross_val_predict`:\n",
    "        - returns predictions from the cross validated model. "
   ]
  },
  {
   "cell_type": "code",
   "execution_count": 58,
   "metadata": {
    "ExecuteTime": {
     "end_time": "2021-05-12T15:28:56.357141Z",
     "start_time": "2021-05-12T15:28:56.354834Z"
    },
    "hidden": true
   },
   "outputs": [],
   "source": [
    "## Create, fit, and evaluate a vanilla DecisionTreeClassifier\n",
    "clf = DecisionTreeClassifier(criterion='entropy')#,max_depth=5)"
   ]
  },
  {
   "cell_type": "code",
   "execution_count": 59,
   "metadata": {
    "ExecuteTime": {
     "end_time": "2021-05-12T15:28:57.422765Z",
     "start_time": "2021-05-12T15:28:57.000055Z"
    },
    "hidden": true
   },
   "outputs": [
    {
     "data": {
      "text/plain": [
       "{'fit_time': array([0.10232496, 0.07702398, 0.07104802, 0.06846213, 0.07398605]),\n",
       " 'score_time': array([0.00449204, 0.00331712, 0.00341892, 0.0032351 , 0.00325394]),\n",
       " 'test_score': array([0.56110352, 0.56208452, 0.5693722 , 0.56455232, 0.54145134])}"
      ]
     },
     "execution_count": 59,
     "metadata": {},
     "output_type": "execute_result"
    }
   ],
   "source": [
    "## cross_validate\n",
    "cv_results = cross_validate(clf,X_train_df,y_train,scoring='recall_macro')\n",
    "cv_results"
   ]
  },
  {
   "cell_type": "code",
   "execution_count": 60,
   "metadata": {
    "ExecuteTime": {
     "end_time": "2021-05-12T15:28:58.151255Z",
     "start_time": "2021-05-12T15:28:57.723091Z"
    },
    "hidden": true
   },
   "outputs": [
    {
     "data": {
      "text/plain": [
       "array([0.55820875, 0.56599844, 0.57143187, 0.56289262, 0.54310305])"
      ]
     },
     "execution_count": 60,
     "metadata": {},
     "output_type": "execute_result"
    }
   ],
   "source": [
    "## cross_val_score\n",
    "cv_score = cross_val_score(clf,X_train_df,y_train,scoring='recall_macro')\n",
    "cv_score"
   ]
  },
  {
   "cell_type": "code",
   "execution_count": 61,
   "metadata": {
    "ExecuteTime": {
     "end_time": "2021-05-12T15:28:58.812111Z",
     "start_time": "2021-05-12T15:28:58.381051Z"
    },
    "hidden": true
   },
   "outputs": [
    {
     "name": "stdout",
     "output_type": "stream",
     "text": [
      "[1 0 0 0 0]\n",
      "              precision    recall  f1-score   support\n",
      "\n",
      "           0       0.70      0.79      0.74     12168\n",
      "           1       0.44      0.33      0.38      6046\n",
      "\n",
      "    accuracy                           0.64     18214\n",
      "   macro avg       0.57      0.56      0.56     18214\n",
      "weighted avg       0.62      0.64      0.62     18214\n",
      "\n"
     ]
    }
   ],
   "source": [
    "## cross_val_predict\n",
    "y_hat_train_cv = cross_val_predict(clf,X_train_df,y_train)\n",
    "print(y_hat_train_cv[:5])\n",
    "print(metrics.classification_report(y_train, y_hat_train_cv))"
   ]
  },
  {
   "cell_type": "code",
   "execution_count": 62,
   "metadata": {
    "ExecuteTime": {
     "end_time": "2021-05-12T15:28:59.423145Z",
     "start_time": "2021-05-12T15:28:58.979999Z"
    },
    "hidden": true
   },
   "outputs": [
    {
     "name": "stdout",
     "output_type": "stream",
     "text": [
      "              precision    recall  f1-score   support\n",
      "\n",
      "           0       0.70      0.80      0.74      5171\n",
      "           1       0.44      0.32      0.37      2635\n",
      "\n",
      "    accuracy                           0.64      7806\n",
      "   macro avg       0.57      0.56      0.56      7806\n",
      "weighted avg       0.61      0.64      0.62      7806\n",
      "\n"
     ]
    },
    {
     "data": {
      "image/png": "[encoded data removed]",
      "text/plain": [
       "<Figure size 720x288 with 3 Axes>"
      ]
     },
     "metadata": {
      "needs_background": "light"
     },
     "output_type": "display_data"
    },
    {
     "name": "stdout",
     "output_type": "stream",
     "text": [
      "Training Score = 0.82\n",
      "Test Score = 0.64\n"
     ]
    }
   ],
   "source": [
    "## If happy with results, train an individual model and evaluate with test data\n",
    "clf = DecisionTreeClassifier(criterion='entropy')#max_depth=5)\n",
    "clf.fit(X_train_df,y_train)\n",
    "evaluate_classification(clf, X_test_df,y_test,X_train=X_train_df,y_train=y_train)"
   ]
  },
  {
   "cell_type": "code",
   "execution_count": 63,
   "metadata": {
    "ExecuteTime": {
     "end_time": "2021-05-12T15:29:00.270931Z",
     "start_time": "2021-05-12T15:28:59.689176Z"
    },
    "hidden": true
   },
   "outputs": [
    {
     "name": "stdout",
     "output_type": "stream",
     "text": [
      "              precision    recall  f1-score   support\n",
      "\n",
      "           0       0.80      0.94      0.86     17339\n",
      "           1       0.81      0.54      0.65      8681\n",
      "\n",
      "    accuracy                           0.80     26020\n",
      "   macro avg       0.81      0.74      0.76     26020\n",
      "weighted avg       0.81      0.80      0.79     26020\n",
      "\n"
     ]
    },
    {
     "data": {
      "image/png": "[encoded data removed]",
      "text/plain": [
       "<Figure size 720x288 with 3 Axes>"
      ]
     },
     "metadata": {
      "needs_background": "light"
     },
     "output_type": "display_data"
    }
   ],
   "source": [
    "## if happy with train/test split results, can re-train model on entire dataset\n",
    "X_tf = preprocessor.fit_transform(X)\n",
    "\n",
    "clf.fit(X_tf, y)\n",
    "evaluate_classification(clf, X_tf,y)"
   ]
  },
  {
   "cell_type": "markdown",
   "metadata": {
    "hidden": true
   },
   "source": [
    "## Saving Models"
   ]
  },
  {
   "cell_type": "markdown",
   "metadata": {
    "hidden": true
   },
   "source": [
    "- Guide on Saving Models: \n",
    "    - https://scikit-learn.org/stable/modules/model_persistence.html"
   ]
  },
  {
   "cell_type": "markdown",
   "metadata": {
    "hidden": true
   },
   "source": [
    "### With `Pickle`"
   ]
  },
  {
   "cell_type": "code",
   "execution_count": 64,
   "metadata": {
    "ExecuteTime": {
     "end_time": "2021-05-12T15:29:08.376920Z",
     "start_time": "2021-05-12T15:29:08.372482Z"
    },
    "hidden": true
   },
   "outputs": [
    {
     "data": {
      "text/plain": [
       "bytes"
      ]
     },
     "execution_count": 64,
     "metadata": {},
     "output_type": "execute_result"
    }
   ],
   "source": [
    "import pickle\n",
    "s = pickle.dumps(clf)\n",
    "type(s)"
   ]
  },
  {
   "cell_type": "code",
   "execution_count": 65,
   "metadata": {
    "ExecuteTime": {
     "end_time": "2021-05-12T15:29:08.937829Z",
     "start_time": "2021-05-12T15:29:08.933205Z"
    },
    "hidden": true
   },
   "outputs": [
    {
     "data": {
      "text/html": [
       "<style>div.sk-top-container {color: black;background-color: white;}div.sk-toggleable {background-color: white;}label.sk-toggleable__label {cursor: pointer;display: block;width: 100%;margin-bottom: 0;padding: 0.2em 0.3em;box-sizing: border-box;text-align: center;}div.sk-toggleable__content {max-height: 0;max-width: 0;overflow: hidden;text-align: left;background-color: #f0f8ff;}div.sk-toggleable__content pre {margin: 0.2em;color: black;border-radius: 0.25em;background-color: #f0f8ff;}input.sk-toggleable__control:checked~div.sk-toggleable__content {max-height: 200px;max-width: 100%;overflow: auto;}div.sk-estimator input.sk-toggleable__control:checked~label.sk-toggleable__label {background-color: #d4ebff;}div.sk-label input.sk-toggleable__control:checked~label.sk-toggleable__label {background-color: #d4ebff;}input.sk-hidden--visually {border: 0;clip: rect(1px 1px 1px 1px);clip: rect(1px, 1px, 1px, 1px);height: 1px;margin: -1px;overflow: hidden;padding: 0;position: absolute;width: 1px;}div.sk-estimator {font-family: monospace;background-color: #f0f8ff;margin: 0.25em 0.25em;border: 1px dotted black;border-radius: 0.25em;box-sizing: border-box;}div.sk-estimator:hover {background-color: #d4ebff;}div.sk-parallel-item::after {content: \"\";width: 100%;border-bottom: 1px solid gray;flex-grow: 1;}div.sk-label:hover label.sk-toggleable__label {background-color: #d4ebff;}div.sk-serial::before {content: \"\";position: absolute;border-left: 1px solid gray;box-sizing: border-box;top: 2em;bottom: 0;left: 50%;}div.sk-serial {display: flex;flex-direction: column;align-items: center;background-color: white;}div.sk-item {z-index: 1;}div.sk-parallel {display: flex;align-items: stretch;justify-content: center;background-color: white;}div.sk-parallel-item {display: flex;flex-direction: column;position: relative;background-color: white;}div.sk-parallel-item:first-child::after {align-self: flex-end;width: 50%;}div.sk-parallel-item:last-child::after {align-self: flex-start;width: 50%;}div.sk-parallel-item:only-child::after {width: 0;}div.sk-dashed-wrapped {border: 1px dashed gray;margin: 0.2em;box-sizing: border-box;padding-bottom: 0.1em;background-color: white;position: relative;}div.sk-label label {font-family: monospace;font-weight: bold;background-color: white;display: inline-block;line-height: 1.2em;}div.sk-label-container {position: relative;z-index: 2;text-align: center;}div.sk-container {display: inline-block;position: relative;}</style><div class=\"sk-top-container\"><div class=\"sk-container\"><div class=\"sk-item\"><div class=\"sk-estimator sk-toggleable\"><input class=\"sk-toggleable__control sk-hidden--visually\" id=\"65aac56d-3ce5-4a48-885d-a49109e97e2c\" type=\"checkbox\" checked><label class=\"sk-toggleable__label\" for=\"65aac56d-3ce5-4a48-885d-a49109e97e2c\">DecisionTreeClassifier</label><div class=\"sk-toggleable__content\"><pre>DecisionTreeClassifier(criterion='entropy')</pre></div></div></div></div></div>"
      ],
      "text/plain": [
       "DecisionTreeClassifier(criterion='entropy')"
      ]
     },
     "execution_count": 65,
     "metadata": {},
     "output_type": "execute_result"
    }
   ],
   "source": [
    "loaded_s = pickle.loads(s)\n",
    "loaded_s"
   ]
  },
  {
   "cell_type": "code",
   "execution_count": 68,
   "metadata": {
    "ExecuteTime": {
     "end_time": "2021-05-12T15:29:40.265704Z",
     "start_time": "2021-05-12T15:29:39.888753Z"
    },
    "hidden": true
   },
   "outputs": [
    {
     "name": "stdout",
     "output_type": "stream",
     "text": [
      "              precision    recall  f1-score   support\n",
      "\n",
      "           0       0.80      0.94      0.86     17339\n",
      "           1       0.81      0.54      0.65      8681\n",
      "\n",
      "    accuracy                           0.80     26020\n",
      "   macro avg       0.81      0.74      0.76     26020\n",
      "weighted avg       0.81      0.80      0.79     26020\n",
      "\n"
     ]
    },
    {
     "data": {
      "image/png": "[encoded data removed]",
      "text/plain": [
       "<Figure size 720x288 with 3 Axes>"
      ]
     },
     "metadata": {
      "needs_background": "light"
     },
     "output_type": "display_data"
    }
   ],
   "source": [
    "evaluate_classification(loaded_s,X_tf,y)"
   ]
  },
  {
   "cell_type": "markdown",
   "metadata": {
    "hidden": true
   },
   "source": [
    "### With `joblib` (sklearn's preferred method)"
   ]
  },
  {
   "cell_type": "code",
   "execution_count": 69,
   "metadata": {
    "ExecuteTime": {
     "end_time": "2021-05-12T15:29:48.900015Z",
     "start_time": "2021-05-12T15:29:48.894662Z"
    },
    "hidden": true
   },
   "outputs": [
    {
     "data": {
      "text/plain": [
       "['filename.joblib']"
      ]
     },
     "execution_count": 69,
     "metadata": {},
     "output_type": "execute_result"
    }
   ],
   "source": [
    "import joblib\n",
    "joblib.dump(clf, 'filename.joblib') "
   ]
  },
  {
   "cell_type": "code",
   "execution_count": 70,
   "metadata": {
    "ExecuteTime": {
     "end_time": "2021-05-12T15:29:49.406313Z",
     "start_time": "2021-05-12T15:29:49.400832Z"
    },
    "hidden": true
   },
   "outputs": [
    {
     "data": {
      "text/html": [
       "<style>div.sk-top-container {color: black;background-color: white;}div.sk-toggleable {background-color: white;}label.sk-toggleable__label {cursor: pointer;display: block;width: 100%;margin-bottom: 0;padding: 0.2em 0.3em;box-sizing: border-box;text-align: center;}div.sk-toggleable__content {max-height: 0;max-width: 0;overflow: hidden;text-align: left;background-color: #f0f8ff;}div.sk-toggleable__content pre {margin: 0.2em;color: black;border-radius: 0.25em;background-color: #f0f8ff;}input.sk-toggleable__control:checked~div.sk-toggleable__content {max-height: 200px;max-width: 100%;overflow: auto;}div.sk-estimator input.sk-toggleable__control:checked~label.sk-toggleable__label {background-color: #d4ebff;}div.sk-label input.sk-toggleable__control:checked~label.sk-toggleable__label {background-color: #d4ebff;}input.sk-hidden--visually {border: 0;clip: rect(1px 1px 1px 1px);clip: rect(1px, 1px, 1px, 1px);height: 1px;margin: -1px;overflow: hidden;padding: 0;position: absolute;width: 1px;}div.sk-estimator {font-family: monospace;background-color: #f0f8ff;margin: 0.25em 0.25em;border: 1px dotted black;border-radius: 0.25em;box-sizing: border-box;}div.sk-estimator:hover {background-color: #d4ebff;}div.sk-parallel-item::after {content: \"\";width: 100%;border-bottom: 1px solid gray;flex-grow: 1;}div.sk-label:hover label.sk-toggleable__label {background-color: #d4ebff;}div.sk-serial::before {content: \"\";position: absolute;border-left: 1px solid gray;box-sizing: border-box;top: 2em;bottom: 0;left: 50%;}div.sk-serial {display: flex;flex-direction: column;align-items: center;background-color: white;}div.sk-item {z-index: 1;}div.sk-parallel {display: flex;align-items: stretch;justify-content: center;background-color: white;}div.sk-parallel-item {display: flex;flex-direction: column;position: relative;background-color: white;}div.sk-parallel-item:first-child::after {align-self: flex-end;width: 50%;}div.sk-parallel-item:last-child::after {align-self: flex-start;width: 50%;}div.sk-parallel-item:only-child::after {width: 0;}div.sk-dashed-wrapped {border: 1px dashed gray;margin: 0.2em;box-sizing: border-box;padding-bottom: 0.1em;background-color: white;position: relative;}div.sk-label label {font-family: monospace;font-weight: bold;background-color: white;display: inline-block;line-height: 1.2em;}div.sk-label-container {position: relative;z-index: 2;text-align: center;}div.sk-container {display: inline-block;position: relative;}</style><div class=\"sk-top-container\"><div class=\"sk-container\"><div class=\"sk-item\"><div class=\"sk-estimator sk-toggleable\"><input class=\"sk-toggleable__control sk-hidden--visually\" id=\"4daf7764-1cc2-4453-9830-c5491baab0cc\" type=\"checkbox\" checked><label class=\"sk-toggleable__label\" for=\"4daf7764-1cc2-4453-9830-c5491baab0cc\">DecisionTreeClassifier</label><div class=\"sk-toggleable__content\"><pre>DecisionTreeClassifier(criterion='entropy')</pre></div></div></div></div></div>"
      ],
      "text/plain": [
       "DecisionTreeClassifier(criterion='entropy')"
      ]
     },
     "execution_count": 70,
     "metadata": {},
     "output_type": "execute_result"
    }
   ],
   "source": [
    "clf_jb = joblib.load('filename.joblib')\n",
    "clf_jb"
   ]
  },
  {
   "cell_type": "code",
   "execution_count": 73,
   "metadata": {
    "ExecuteTime": {
     "end_time": "2021-05-12T15:29:57.089214Z",
     "start_time": "2021-05-12T15:29:56.709613Z"
    },
    "hidden": true,
    "scrolled": true
   },
   "outputs": [
    {
     "name": "stdout",
     "output_type": "stream",
     "text": [
      "              precision    recall  f1-score   support\n",
      "\n",
      "           0       0.80      0.94      0.86     17339\n",
      "           1       0.81      0.54      0.65      8681\n",
      "\n",
      "    accuracy                           0.80     26020\n",
      "   macro avg       0.81      0.74      0.76     26020\n",
      "weighted avg       0.81      0.80      0.79     26020\n",
      "\n"
     ]
    },
    {
     "data": {
      "image/png": "[encoded data removed]",
      "text/plain": [
       "<Figure size 720x288 with 3 Axes>"
      ]
     },
     "metadata": {
      "needs_background": "light"
     },
     "output_type": "display_data"
    }
   ],
   "source": [
    "evaluate_classification(clf_jb,X_tf,y)"
   ]
  },
  {
   "cell_type": "markdown",
   "metadata": {
    "hidden": true
   },
   "source": [
    "## Other Packages\n"
   ]
  },
  {
   "cell_type": "markdown",
   "metadata": {
    "hidden": true
   },
   "source": [
    "> Catboost: https://catboost.ai/"
   ]
  }
 ],
 "metadata": {
  "kernelspec": {
   "display_name": "learn-env-new",
   "language": "python",
   "name": "learn-env-new"
  },
  "language_info": {
   "codemirror_mode": {
    "name": "ipython",
    "version": 3
   },
   "file_extension": ".py",
   "mimetype": "text/x-python",
   "name": "python",
   "nbconvert_exporter": "python",
   "pygments_lexer": "ipython3",
   "version": "3.8.5"
  },
  "toc": {
   "base_numbering": 1,
   "nav_menu": {},
   "number_sections": false,
   "sideBar": true,
   "skip_h1_title": false,
   "title_cell": "Table of Contents",
   "title_sidebar": "Contents",
   "toc_cell": false,
   "toc_position": {
    "height": "calc(100% - 180px)",
    "left": "10px",
    "top": "150px",
    "width": "232.719px"
   },
   "toc_section_display": true,
   "toc_window_display": true
  }
 },
 "nbformat": 4,
 "nbformat_minor": 2
}
